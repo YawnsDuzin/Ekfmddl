{
 "cells": [
  {
   "cell_type": "markdown",
   "id": "RjNQbeqfUJo2",
   "metadata": {
    "id": "RjNQbeqfUJo2"
   },
   "source": [
    "### 기본 라이브러리 불러오기"
   ]
  },
  {
   "cell_type": "code",
   "execution_count": 1,
   "id": "6d53b67a-0b7a-4841-bf76-f9d816a6b9d3",
   "metadata": {
    "id": "6d53b67a-0b7a-4841-bf76-f9d816a6b9d3"
   },
   "outputs": [],
   "source": [
    "# 라이브러리 임포트\n",
    "import os\n",
    "import pandas as pd\n",
    "import chardet\n",
    "\n",
    "# 사용자 정의함수 경로 설정\n",
    "import sys\n",
    "sys.path.append(\"G:/내 드라이브/Source/_Custom_Function\")\n",
    "# 사용자 정의함수 불러오기\n",
    "\n",
    "import time\n",
    "\n",
    "import ExcelFile_Merge as em\n",
    "import ExcelFile_Read as er\n",
    "import ExcelFile_EDA as ee"
   ]
  },
  {
   "cell_type": "markdown",
   "id": "wjrqKxx9UCCL",
   "metadata": {
    "id": "wjrqKxx9UCCL"
   },
   "source": [
    "---\n",
    "### 자치구_동 데이터 가져오기"
   ]
  },
  {
   "cell_type": "code",
   "execution_count": 3,
   "id": "d8794b28-ef55-4f4d-98fe-2c874de0b6a7",
   "metadata": {
    "id": "d8794b28-ef55-4f4d-98fe-2c874de0b6a7",
    "outputId": "06632003-6ef7-4782-afd0-a781b4fc0dc7"
   },
   "outputs": [
    {
     "name": "stdout",
     "output_type": "stream",
     "text": [
      "read_parquet time : 0.11697626113891602\n"
     ]
    }
   ],
   "source": [
    "start_time = time.time()\n",
    "df_parquet_dong_gu = pd.read_parquet('G:\\\\내 드라이브\\\\DataSet\\\\_최종 병합 파일\\\\' + '시도_시군구_읍면동' + '.parquet')\n",
    "print(\"read_parquet time :\", time.time() - start_time)"
   ]
  },
  {
   "cell_type": "code",
   "execution_count": 4,
   "id": "ce477a71-8c4b-43d3-9e00-7d1adc5774ad",
   "metadata": {
    "id": "ce477a71-8c4b-43d3-9e00-7d1adc5774ad",
    "outputId": "dd395564-342a-41b3-ba0d-136a5420fde9"
   },
   "outputs": [
    {
     "data": {
      "text/html": [
       "<div>\n",
       "<style scoped>\n",
       "    .dataframe tbody tr th:only-of-type {\n",
       "        vertical-align: middle;\n",
       "    }\n",
       "\n",
       "    .dataframe tbody tr th {\n",
       "        vertical-align: top;\n",
       "    }\n",
       "\n",
       "    .dataframe thead th {\n",
       "        text-align: right;\n",
       "    }\n",
       "</style>\n",
       "<table border=\"1\" class=\"dataframe\">\n",
       "  <thead>\n",
       "    <tr style=\"text-align: right;\">\n",
       "      <th></th>\n",
       "      <th>시도</th>\n",
       "      <th>시군구</th>\n",
       "      <th>읍면동</th>\n",
       "      <th>시도명</th>\n",
       "      <th>시군구명</th>\n",
       "      <th>읍면동명</th>\n",
       "    </tr>\n",
       "  </thead>\n",
       "  <tbody>\n",
       "    <tr>\n",
       "      <th>0</th>\n",
       "      <td>11000</td>\n",
       "      <td>11010</td>\n",
       "      <td>1101053</td>\n",
       "      <td>서울특별시</td>\n",
       "      <td>종로구</td>\n",
       "      <td>사직동</td>\n",
       "    </tr>\n",
       "    <tr>\n",
       "      <th>1</th>\n",
       "      <td>11000</td>\n",
       "      <td>11010</td>\n",
       "      <td>1101054</td>\n",
       "      <td>서울특별시</td>\n",
       "      <td>종로구</td>\n",
       "      <td>삼청동</td>\n",
       "    </tr>\n",
       "    <tr>\n",
       "      <th>2</th>\n",
       "      <td>11000</td>\n",
       "      <td>11010</td>\n",
       "      <td>1101055</td>\n",
       "      <td>서울특별시</td>\n",
       "      <td>종로구</td>\n",
       "      <td>부암동</td>\n",
       "    </tr>\n",
       "    <tr>\n",
       "      <th>3</th>\n",
       "      <td>11000</td>\n",
       "      <td>11010</td>\n",
       "      <td>1101056</td>\n",
       "      <td>서울특별시</td>\n",
       "      <td>종로구</td>\n",
       "      <td>평창동</td>\n",
       "    </tr>\n",
       "    <tr>\n",
       "      <th>4</th>\n",
       "      <td>11000</td>\n",
       "      <td>11010</td>\n",
       "      <td>1101057</td>\n",
       "      <td>서울특별시</td>\n",
       "      <td>종로구</td>\n",
       "      <td>무악동</td>\n",
       "    </tr>\n",
       "  </tbody>\n",
       "</table>\n",
       "</div>"
      ],
      "text/plain": [
       "      시도    시군구      읍면동    시도명 시군구명 읍면동명\n",
       "0  11000  11010  1101053  서울특별시  종로구  사직동\n",
       "1  11000  11010  1101054  서울특별시  종로구  삼청동\n",
       "2  11000  11010  1101055  서울특별시  종로구  부암동\n",
       "3  11000  11010  1101056  서울특별시  종로구  평창동\n",
       "4  11000  11010  1101057  서울특별시  종로구  무악동"
      ]
     },
     "execution_count": 4,
     "metadata": {},
     "output_type": "execute_result"
    }
   ],
   "source": [
    "df_parquet_dong_gu.head()"
   ]
  },
  {
   "cell_type": "code",
   "execution_count": 8,
   "id": "96f6bdf1-4d74-498b-a7d8-e2bba2b8f4e9",
   "metadata": {
    "id": "96f6bdf1-4d74-498b-a7d8-e2bba2b8f4e9"
   },
   "outputs": [],
   "source": [
    "df_sum = pd.DataFrame()"
   ]
  },
  {
   "cell_type": "code",
   "execution_count": 10,
   "id": "494851d4-54b9-46c3-aa81-184df73c9f61",
   "metadata": {},
   "outputs": [],
   "source": [
    "# _years = ['2020', '2021', '2022', '2023', '2024']\n",
    "_years = ['2023']"
   ]
  },
  {
   "cell_type": "code",
   "execution_count": 12,
   "id": "6a05cd80-08d4-4ce5-a9cd-978ada99f21d",
   "metadata": {
    "id": "6a05cd80-08d4-4ce5-a9cd-978ada99f21d"
   },
   "outputs": [],
   "source": [
    "path_dateset = 'G:\\\\내 드라이브\\\\DataSet\\\\'\n",
    "path_sub = '_최종 병합 파일\\\\서울 생활이동\\\\'"
   ]
  },
  {
   "cell_type": "markdown",
   "id": "1addcfcd-f0f6-4e37-a29a-ecc257117ea1",
   "metadata": {
    "id": "1addcfcd-f0f6-4e37-a29a-ecc257117ea1"
   },
   "source": [
    "---\n",
    "### 생활이동_행정동 데이터 가공 (2020 ~ 2024)"
   ]
  },
  {
   "cell_type": "markdown",
   "id": "3deddd82-81d5-41f3-852e-0cc53b9029af",
   "metadata": {},
   "source": [
    "- 나이 : 20 ~ 60\n",
    "- 시간\n",
    "    - 출근(7 ~ 8) : 실제 시작 (7 ~ 9)\n",
    "    - 퇴근(17 ~ 18) : 실제 시작 (17 ~ 19)\n",
    "- 이동유형\n",
    "    - 출근('HW', 'EW')\n",
    "        - 'HW' :\n",
    "        - 'EW' : \n",
    "    - 퇴근('WH', 'EH')\n",
    "        - 'WH' :\n",
    "        - 'EH' : "
   ]
  },
  {
   "cell_type": "code",
   "execution_count": 14,
   "id": "f00a54b0-c709-4cc9-8281-9e2ece9e4c3b",
   "metadata": {
    "id": "f00a54b0-c709-4cc9-8281-9e2ece9e4c3b",
    "outputId": "59da9961-7a77-4229-fd34-5f28f7fa7c1f"
   },
   "outputs": [
    {
     "name": "stdout",
     "output_type": "stream",
     "text": [
      "path : G:\\내 드라이브\\DataSet\\_최종 병합 파일\\서울 생활이동\\2023\\, savefile : 생활이동_행정동_출퇴근_2023\n",
      "file_lists : \n",
      " 생활이동_행정동_2023.01.csv\n",
      " 생활이동_행정동_2023.02.csv\n",
      " 생활이동_행정동_2023.03.csv\n",
      " 생활이동_행정동_2023.04.csv\n",
      " 생활이동_행정동_2023.05.csv\n",
      " 생활이동_행정동_2023.06.csv\n",
      " 생활이동_행정동_2023.07.csv\n",
      " 생활이동_행정동_2023.08.csv\n",
      " 생활이동_행정동_2023.09.csv\n",
      " 생활이동_행정동_2023.10.csv\n",
      " 생활이동_행정동_2023.11.csv\n",
      " 생활이동_행정동_2023.12.csv\n",
      "===========================================\n",
      "filename :  생활이동_행정동_2023.01.csv, encoding :  None\n",
      "path + filename :  G:\\내 드라이브\\DataSet\\_최종 병합 파일\\서울 생활이동\\2023\\생활이동_행정동_2023.01.csv\n",
      "An error occurred while processing the file: No columns to parse from file\n",
      "Read_dask(생활이동_행정동_2023.01.csv) time : 0.02606654167175293\n"
     ]
    },
    {
     "ename": "TypeError",
     "evalue": "'NoneType' object is not subscriptable",
     "output_type": "error",
     "traceback": [
      "\u001b[1;31m---------------------------------------------------------------------------\u001b[0m",
      "\u001b[1;31mTypeError\u001b[0m                                 Traceback (most recent call last)",
      "Cell \u001b[1;32mIn[14], line 43\u001b[0m\n\u001b[0;32m     32\u001b[0m \u001b[38;5;66;03m# from dask.diagnostics import ProgressBar\u001b[39;00m\n\u001b[0;32m     33\u001b[0m \u001b[38;5;66;03m# from time import sleep\u001b[39;00m\n\u001b[0;32m     34\u001b[0m \u001b[38;5;66;03m# pbar = ProgressBar()\u001b[39;00m\n\u001b[1;32m   (...)\u001b[0m\n\u001b[0;32m     40\u001b[0m \n\u001b[0;32m     41\u001b[0m \u001b[38;5;66;03m# 필요한 조건 설정\u001b[39;00m\n\u001b[0;32m     42\u001b[0m start_time \u001b[38;5;241m=\u001b[39m time\u001b[38;5;241m.\u001b[39mtime()\n\u001b[1;32m---> 43\u001b[0m cond1 \u001b[38;5;241m=\u001b[39m \u001b[43mdf_dask_rtn\u001b[49m\u001b[43m[\u001b[49m\u001b[38;5;124;43m'\u001b[39;49m\u001b[38;5;124;43m요일\u001b[39;49m\u001b[38;5;124;43m'\u001b[39;49m\u001b[43m]\u001b[49m\u001b[38;5;241m.\u001b[39misin([\u001b[38;5;124m'\u001b[39m\u001b[38;5;124m월\u001b[39m\u001b[38;5;124m'\u001b[39m, \u001b[38;5;124m'\u001b[39m\u001b[38;5;124m화\u001b[39m\u001b[38;5;124m'\u001b[39m, \u001b[38;5;124m'\u001b[39m\u001b[38;5;124m수\u001b[39m\u001b[38;5;124m'\u001b[39m, \u001b[38;5;124m'\u001b[39m\u001b[38;5;124m목\u001b[39m\u001b[38;5;124m'\u001b[39m, \u001b[38;5;124m'\u001b[39m\u001b[38;5;124m금\u001b[39m\u001b[38;5;124m'\u001b[39m])\n\u001b[0;32m     44\u001b[0m cond2 \u001b[38;5;241m=\u001b[39m df_dask_rtn[\u001b[38;5;124m'\u001b[39m\u001b[38;5;124m나이\u001b[39m\u001b[38;5;124m'\u001b[39m]\u001b[38;5;241m.\u001b[39misin([\u001b[38;5;241m20\u001b[39m, \u001b[38;5;241m25\u001b[39m, \u001b[38;5;241m30\u001b[39m, \u001b[38;5;241m35\u001b[39m, \u001b[38;5;241m40\u001b[39m, \u001b[38;5;241m45\u001b[39m, \u001b[38;5;241m50\u001b[39m, \u001b[38;5;241m55\u001b[39m, \u001b[38;5;241m60\u001b[39m])   \u001b[38;5;66;03m# 20 ~ 60\u001b[39;00m\n\u001b[0;32m     45\u001b[0m cond3 \u001b[38;5;241m=\u001b[39m (df_dask_rtn[\u001b[38;5;124m'\u001b[39m\u001b[38;5;124m이동유형\u001b[39m\u001b[38;5;124m'\u001b[39m]\u001b[38;5;241m.\u001b[39misin([\u001b[38;5;124m'\u001b[39m\u001b[38;5;124mHW\u001b[39m\u001b[38;5;124m'\u001b[39m, \u001b[38;5;124m'\u001b[39m\u001b[38;5;124mEW\u001b[39m\u001b[38;5;124m'\u001b[39m]) \u001b[38;5;241m|\u001b[39m df_dask_rtn[\u001b[38;5;124m'\u001b[39m\u001b[38;5;124m이동유형\u001b[39m\u001b[38;5;124m'\u001b[39m]\u001b[38;5;241m.\u001b[39misin([\u001b[38;5;124m'\u001b[39m\u001b[38;5;124mWH\u001b[39m\u001b[38;5;124m'\u001b[39m, \u001b[38;5;124m'\u001b[39m\u001b[38;5;124mEH\u001b[39m\u001b[38;5;124m'\u001b[39m]))\n",
      "\u001b[1;31mTypeError\u001b[0m: 'NoneType' object is not subscriptable"
     ]
    }
   ],
   "source": [
    "for cnt, _year in enumerate(_years):\n",
    "    \n",
    "    path = path_dateset + path_sub + _year + '\\\\'    \n",
    "    savefile = '생활이동_행정동_출퇴근_' + _year   # Ex) 생활이동_행정동_출퇴근_2024\n",
    "    print(f'path : {path}, savefile : {savefile}')\n",
    "    \n",
    "    # 파일 경로명 변경\n",
    "    file_list = os.listdir(path)\n",
    "    file_lists = [file for file in file_list if file.endswith((\".csv\", \".xlsx\"))]\n",
    "    file_lists.sort()\n",
    "    print('file_lists : \\n', '\\n '.join(file_lists))\n",
    "    print('===========================================')\n",
    "\n",
    "    #try:\n",
    "    for _, filename in enumerate(file_lists):        \n",
    "        print('filename : ', filename + ', encoding : ', em.Get_ExcelEncoding(path + filename))\n",
    "        start_time_full = time.time()\n",
    "\n",
    "        # 서울 생활이동 데이터 불러오기\n",
    "        start_time = time.time()\n",
    "        print('path + filename : ', path + filename)\n",
    "\n",
    "        dtype={'이동인구(합)': 'object', '평균 이동 시간(분)': 'float64'}\n",
    "\n",
    "        # 2024.11.04 duzin\n",
    "        # dask = er.Read_dask(path + filename, dtype)\n",
    "        dask = er.Read_Chunk(path + filename)\n",
    "        print(\"Read_dask(\" + filename + \") time :\", time.time() - start_time)\n",
    "\n",
    "        df_dask_rtn = dask\n",
    "        del dask  # 메모리 정리\n",
    "        # from dask.diagnostics import ProgressBar\n",
    "        # from time import sleep\n",
    "        # pbar = ProgressBar()\n",
    "        # pbar.register()\n",
    "        # start_time = time.time()\n",
    "        # df_dask_rtn = dask.compute()\n",
    "        # del dask  # 메모리 정리\n",
    "        # print(\"compute time(\" + filename + \") :\", time.time() - start_time)\n",
    "\n",
    "        # 필요한 조건 설정\n",
    "        start_time = time.time()\n",
    "        cond1 = df_dask_rtn['요일'].isin(['월', '화', '수', '목', '금'])\n",
    "        cond2 = df_dask_rtn['나이'].isin([20, 25, 30, 35, 40, 45, 50, 55, 60])   # 20 ~ 60\n",
    "        cond3 = (df_dask_rtn['이동유형'].isin(['HW', 'EW']) | df_dask_rtn['이동유형'].isin(['WH', 'EH']))\n",
    "        cond4 = (df_dask_rtn['도착시간'].isin([7, 8]) | df_dask_rtn['도착시간'].isin([17, 18]))\n",
    "        dask = df_dask_rtn[cond1 & cond2 & cond3 & cond4]\n",
    "        print(\"search Condition(\" + filename + \") :\", time.time() - start_time)\n",
    "        \n",
    "        # '이동인구(합)' 컬럼 float형으로 변경\n",
    "        df_dask_rtn.loc[df_dask_rtn['이동인구(합)'] == '*','이동인구(합)'] = '0'\n",
    "        df_dask_rtn = df_dask_rtn.astype({ '이동인구(합)' : 'float' })\n",
    "\n",
    "        # 출퇴근 컬럼 추가\n",
    "        df_dask_rtn.loc[(df_dask_rtn['이동유형'].isin(['HW', 'EW']))&(df_dask_rtn['도착시간'].isin([7, 8])),'출퇴근'] = '출근'\n",
    "        df_dask_rtn.loc[(df_dask_rtn['이동유형'].isin(['WH', 'EH']))&(df_dask_rtn['도착시간'].isin([17, 18])),'출퇴근'] = '퇴근'\n",
    "        df_dask_rtn = df_dask_rtn[~df_dask_rtn['출퇴근'].isnull()]\n",
    "\n",
    "        # '대상연월', '도착 행정동 코드', '출퇴근' 기준으로, '이동인구(합)'의 계 구함\n",
    "        start_time = time.time()\n",
    "        df_dask_rtn = df_dask_rtn.groupby(['대상연월', '출발 행정동 코드', '도착 행정동 코드', '출퇴근'])['이동인구(합)'].sum().reset_index()\n",
    "        print(\"groupby time :\", time.time() - start_time)\n",
    "\n",
    "        df_dask_rtn.rename(columns = {\"도착 행정동 코드\": \"읍면동\"}, inplace = True)\n",
    "        df_dask_rtn = pd.merge(left = df_dask_rtn , right = df_parquet_dong_gu, how = \"left\", on = \"읍면동\")\n",
    "\n",
    "        print(\"=============================================================\")\n",
    "        print('df_dask_rtn shape : ', df_dask_rtn.shape)\n",
    "        print(\"Read full time :\", time.time() - start_time_full)\n",
    "\n",
    "        df_sum = pd.concat([df_dask_rtn, df_sum], axis = 0)\n",
    "        del df_dask_rtn  # 메모리 정리\n",
    "\n",
    "    # for문 종료 후, 실행\n",
    "    df_sum.to_parquet(path + savefile + '.parquet', index=False)\n",
    "    del df_sum\n",
    "    \n",
    "    # except:\n",
    "    #     print('- Err : ', savefile)  \n",
    "    "
   ]
  },
  {
   "cell_type": "code",
   "execution_count": null,
   "id": "e4e4b334-7f1e-475b-bb06-aca304d87349",
   "metadata": {},
   "outputs": [],
   "source": []
  }
 ],
 "metadata": {
  "colab": {
   "provenance": []
  },
  "kernelspec": {
   "display_name": "Python 3 (ipykernel)",
   "language": "python",
   "name": "python3"
  },
  "language_info": {
   "codemirror_mode": {
    "name": "ipython",
    "version": 3
   },
   "file_extension": ".py",
   "mimetype": "text/x-python",
   "name": "python",
   "nbconvert_exporter": "python",
   "pygments_lexer": "ipython3",
   "version": "3.12.4"
  }
 },
 "nbformat": 4,
 "nbformat_minor": 5
}
