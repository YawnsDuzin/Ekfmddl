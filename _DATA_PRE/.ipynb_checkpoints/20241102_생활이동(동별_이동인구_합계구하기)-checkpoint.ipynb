{
 "cells": [
  {
   "cell_type": "markdown",
   "id": "RjNQbeqfUJo2",
   "metadata": {
    "id": "RjNQbeqfUJo2"
   },
   "source": [
    "### 기본 라이브러리 불러오기"
   ]
  },
  {
   "cell_type": "code",
   "execution_count": 1,
   "id": "6d53b67a-0b7a-4841-bf76-f9d816a6b9d3",
   "metadata": {
    "id": "6d53b67a-0b7a-4841-bf76-f9d816a6b9d3"
   },
   "outputs": [],
   "source": [
    "# 라이브러리 임포트\n",
    "import os\n",
    "import pandas as pd\n",
    "import chardet\n",
    "\n",
    "# 사용자 정의함수 경로 설정\n",
    "import sys\n",
    "sys.path.append(\"G:/내 드라이브/Source/_Custom_Function\")\n",
    "# 사용자 정의함수 불러오기\n",
    "\n",
    "import time\n",
    "\n",
    "import ExcelFile_Merge as em\n",
    "import ExcelFile_Read as er\n",
    "import ExcelFile_EDA as ee"
   ]
  },
  {
   "cell_type": "markdown",
   "id": "wjrqKxx9UCCL",
   "metadata": {
    "id": "wjrqKxx9UCCL"
   },
   "source": [
    "---\n",
    "### 자치구_동 데이터 가져오기"
   ]
  },
  {
   "cell_type": "code",
   "execution_count": 3,
   "id": "d8794b28-ef55-4f4d-98fe-2c874de0b6a7",
   "metadata": {
    "id": "d8794b28-ef55-4f4d-98fe-2c874de0b6a7",
    "outputId": "06632003-6ef7-4782-afd0-a781b4fc0dc7"
   },
   "outputs": [
    {
     "name": "stdout",
     "output_type": "stream",
     "text": [
      "read_parquet time : 0.112030029296875\n"
     ]
    }
   ],
   "source": [
    "start_time = time.time()\n",
    "df_parquet_dong_gu = pd.read_parquet('G:\\\\내 드라이브\\\\DataSet\\\\_최종 병합 파일\\\\' + '시도_시군구_읍면동' + '.parquet')\n",
    "print(\"read_parquet time :\", time.time() - start_time)"
   ]
  },
  {
   "cell_type": "code",
   "execution_count": 6,
   "id": "ce477a71-8c4b-43d3-9e00-7d1adc5774ad",
   "metadata": {
    "id": "ce477a71-8c4b-43d3-9e00-7d1adc5774ad",
    "outputId": "dd395564-342a-41b3-ba0d-136a5420fde9"
   },
   "outputs": [
    {
     "data": {
      "text/html": [
       "<div>\n",
       "<style scoped>\n",
       "    .dataframe tbody tr th:only-of-type {\n",
       "        vertical-align: middle;\n",
       "    }\n",
       "\n",
       "    .dataframe tbody tr th {\n",
       "        vertical-align: top;\n",
       "    }\n",
       "\n",
       "    .dataframe thead th {\n",
       "        text-align: right;\n",
       "    }\n",
       "</style>\n",
       "<table border=\"1\" class=\"dataframe\">\n",
       "  <thead>\n",
       "    <tr style=\"text-align: right;\">\n",
       "      <th></th>\n",
       "      <th>시도</th>\n",
       "      <th>시군구</th>\n",
       "      <th>읍면동</th>\n",
       "      <th>시도명</th>\n",
       "      <th>시군구명</th>\n",
       "      <th>읍면동명</th>\n",
       "    </tr>\n",
       "  </thead>\n",
       "  <tbody>\n",
       "    <tr>\n",
       "      <th>0</th>\n",
       "      <td>11000</td>\n",
       "      <td>11010</td>\n",
       "      <td>1101053</td>\n",
       "      <td>서울특별시</td>\n",
       "      <td>종로구</td>\n",
       "      <td>사직동</td>\n",
       "    </tr>\n",
       "    <tr>\n",
       "      <th>1</th>\n",
       "      <td>11000</td>\n",
       "      <td>11010</td>\n",
       "      <td>1101054</td>\n",
       "      <td>서울특별시</td>\n",
       "      <td>종로구</td>\n",
       "      <td>삼청동</td>\n",
       "    </tr>\n",
       "    <tr>\n",
       "      <th>2</th>\n",
       "      <td>11000</td>\n",
       "      <td>11010</td>\n",
       "      <td>1101055</td>\n",
       "      <td>서울특별시</td>\n",
       "      <td>종로구</td>\n",
       "      <td>부암동</td>\n",
       "    </tr>\n",
       "    <tr>\n",
       "      <th>3</th>\n",
       "      <td>11000</td>\n",
       "      <td>11010</td>\n",
       "      <td>1101056</td>\n",
       "      <td>서울특별시</td>\n",
       "      <td>종로구</td>\n",
       "      <td>평창동</td>\n",
       "    </tr>\n",
       "    <tr>\n",
       "      <th>4</th>\n",
       "      <td>11000</td>\n",
       "      <td>11010</td>\n",
       "      <td>1101057</td>\n",
       "      <td>서울특별시</td>\n",
       "      <td>종로구</td>\n",
       "      <td>무악동</td>\n",
       "    </tr>\n",
       "  </tbody>\n",
       "</table>\n",
       "</div>"
      ],
      "text/plain": [
       "      시도    시군구      읍면동    시도명 시군구명 읍면동명\n",
       "0  11000  11010  1101053  서울특별시  종로구  사직동\n",
       "1  11000  11010  1101054  서울특별시  종로구  삼청동\n",
       "2  11000  11010  1101055  서울특별시  종로구  부암동\n",
       "3  11000  11010  1101056  서울특별시  종로구  평창동\n",
       "4  11000  11010  1101057  서울특별시  종로구  무악동"
      ]
     },
     "execution_count": 6,
     "metadata": {},
     "output_type": "execute_result"
    }
   ],
   "source": [
    "df_parquet_dong_gu.head()"
   ]
  },
  {
   "cell_type": "code",
   "execution_count": 8,
   "id": "96f6bdf1-4d74-498b-a7d8-e2bba2b8f4e9",
   "metadata": {
    "id": "96f6bdf1-4d74-498b-a7d8-e2bba2b8f4e9"
   },
   "outputs": [],
   "source": [
    "df_sum = pd.DataFrame()"
   ]
  },
  {
   "cell_type": "code",
   "execution_count": 10,
   "id": "494851d4-54b9-46c3-aa81-184df73c9f61",
   "metadata": {},
   "outputs": [],
   "source": [
    "# _years = ['2020', '2021', '2022', '2023', '2024']\n",
    "_years = ['2024']"
   ]
  },
  {
   "cell_type": "code",
   "execution_count": 12,
   "id": "6a05cd80-08d4-4ce5-a9cd-978ada99f21d",
   "metadata": {
    "id": "6a05cd80-08d4-4ce5-a9cd-978ada99f21d"
   },
   "outputs": [],
   "source": [
    "path_dateset = 'G:\\\\내 드라이브\\\\DataSet\\\\'\n",
    "path_sub = '_최종 병합 파일\\\\서울 생활이동\\\\'"
   ]
  },
  {
   "cell_type": "code",
   "execution_count": 14,
   "id": "74fb6f82-efd6-4503-a317-8b22fd24bf41",
   "metadata": {},
   "outputs": [
    {
     "name": "stdout",
     "output_type": "stream",
     "text": [
      "path : G:\\내 드라이브\\DataSet\\_최종 병합 파일\\서울 생활이동\\2024\\, savefile : 생활이동_행정동_출퇴근_2024\n",
      "filename :  생활이동_행정동_2024.02.csv, encoding :  GB2312\n",
      "path + filename :  G:\\내 드라이브\\DataSet\\_최종 병합 파일\\서울 생활이동\\2024\\생활이동_행정동_2024.02.csv\n",
      "Read_dask(생활이동_행정동_2024.02.csv) time : 3.0666232109069824\n",
      "[#################################       ] | 83% Completed | 105.80 s\n"
     ]
    },
    {
     "ename": "OSError",
     "evalue": "[Errno 22] Invalid argument",
     "output_type": "error",
     "traceback": [
      "\u001b[1;31m---------------------------------------------------------------------------\u001b[0m",
      "\u001b[1;31mOSError\u001b[0m                                   Traceback (most recent call last)",
      "Cell \u001b[1;32mIn[14], line 24\u001b[0m\n\u001b[0;32m     22\u001b[0m pbar\u001b[38;5;241m.\u001b[39mregister()\n\u001b[0;32m     23\u001b[0m start_time \u001b[38;5;241m=\u001b[39m time\u001b[38;5;241m.\u001b[39mtime()\n\u001b[1;32m---> 24\u001b[0m df_dask_rtn \u001b[38;5;241m=\u001b[39m \u001b[43mdask\u001b[49m\u001b[38;5;241;43m.\u001b[39;49m\u001b[43mcompute\u001b[49m\u001b[43m(\u001b[49m\u001b[43m)\u001b[49m\n\u001b[0;32m     25\u001b[0m \u001b[38;5;28;01mdel\u001b[39;00m dask  \u001b[38;5;66;03m# 메모리 정리\u001b[39;00m\n\u001b[0;32m     26\u001b[0m \u001b[38;5;28mprint\u001b[39m(\u001b[38;5;124m\"\u001b[39m\u001b[38;5;124mcompute time(\u001b[39m\u001b[38;5;124m\"\u001b[39m \u001b[38;5;241m+\u001b[39m filename \u001b[38;5;241m+\u001b[39m \u001b[38;5;124m\"\u001b[39m\u001b[38;5;124m) :\u001b[39m\u001b[38;5;124m\"\u001b[39m, time\u001b[38;5;241m.\u001b[39mtime() \u001b[38;5;241m-\u001b[39m start_time)\n",
      "File \u001b[1;32m~\\anaconda3\\Lib\\site-packages\\dask_expr\\_collection.py:476\u001b[0m, in \u001b[0;36mFrameBase.compute\u001b[1;34m(self, fuse, **kwargs)\u001b[0m\n\u001b[0;32m    474\u001b[0m     out \u001b[38;5;241m=\u001b[39m out\u001b[38;5;241m.\u001b[39mrepartition(npartitions\u001b[38;5;241m=\u001b[39m\u001b[38;5;241m1\u001b[39m)\n\u001b[0;32m    475\u001b[0m out \u001b[38;5;241m=\u001b[39m out\u001b[38;5;241m.\u001b[39moptimize(fuse\u001b[38;5;241m=\u001b[39mfuse)\n\u001b[1;32m--> 476\u001b[0m \u001b[38;5;28;01mreturn\u001b[39;00m \u001b[43mDaskMethodsMixin\u001b[49m\u001b[38;5;241;43m.\u001b[39;49m\u001b[43mcompute\u001b[49m\u001b[43m(\u001b[49m\u001b[43mout\u001b[49m\u001b[43m,\u001b[49m\u001b[43m \u001b[49m\u001b[38;5;241;43m*\u001b[39;49m\u001b[38;5;241;43m*\u001b[39;49m\u001b[43mkwargs\u001b[49m\u001b[43m)\u001b[49m\n",
      "File \u001b[1;32m~\\anaconda3\\Lib\\site-packages\\dask\\base.py:375\u001b[0m, in \u001b[0;36mDaskMethodsMixin.compute\u001b[1;34m(self, **kwargs)\u001b[0m\n\u001b[0;32m    351\u001b[0m \u001b[38;5;28;01mdef\u001b[39;00m \u001b[38;5;21mcompute\u001b[39m(\u001b[38;5;28mself\u001b[39m, \u001b[38;5;241m*\u001b[39m\u001b[38;5;241m*\u001b[39mkwargs):\n\u001b[0;32m    352\u001b[0m \u001b[38;5;250m    \u001b[39m\u001b[38;5;124;03m\"\"\"Compute this dask collection\u001b[39;00m\n\u001b[0;32m    353\u001b[0m \n\u001b[0;32m    354\u001b[0m \u001b[38;5;124;03m    This turns a lazy Dask collection into its in-memory equivalent.\u001b[39;00m\n\u001b[1;32m   (...)\u001b[0m\n\u001b[0;32m    373\u001b[0m \u001b[38;5;124;03m    dask.compute\u001b[39;00m\n\u001b[0;32m    374\u001b[0m \u001b[38;5;124;03m    \"\"\"\u001b[39;00m\n\u001b[1;32m--> 375\u001b[0m     (result,) \u001b[38;5;241m=\u001b[39m \u001b[43mcompute\u001b[49m\u001b[43m(\u001b[49m\u001b[38;5;28;43mself\u001b[39;49m\u001b[43m,\u001b[49m\u001b[43m \u001b[49m\u001b[43mtraverse\u001b[49m\u001b[38;5;241;43m=\u001b[39;49m\u001b[38;5;28;43;01mFalse\u001b[39;49;00m\u001b[43m,\u001b[49m\u001b[43m \u001b[49m\u001b[38;5;241;43m*\u001b[39;49m\u001b[38;5;241;43m*\u001b[39;49m\u001b[43mkwargs\u001b[49m\u001b[43m)\u001b[49m\n\u001b[0;32m    376\u001b[0m     \u001b[38;5;28;01mreturn\u001b[39;00m result\n",
      "File \u001b[1;32m~\\anaconda3\\Lib\\site-packages\\dask\\base.py:661\u001b[0m, in \u001b[0;36mcompute\u001b[1;34m(traverse, optimize_graph, scheduler, get, *args, **kwargs)\u001b[0m\n\u001b[0;32m    658\u001b[0m     postcomputes\u001b[38;5;241m.\u001b[39mappend(x\u001b[38;5;241m.\u001b[39m__dask_postcompute__())\n\u001b[0;32m    660\u001b[0m \u001b[38;5;28;01mwith\u001b[39;00m shorten_traceback():\n\u001b[1;32m--> 661\u001b[0m     results \u001b[38;5;241m=\u001b[39m \u001b[43mschedule\u001b[49m\u001b[43m(\u001b[49m\u001b[43mdsk\u001b[49m\u001b[43m,\u001b[49m\u001b[43m \u001b[49m\u001b[43mkeys\u001b[49m\u001b[43m,\u001b[49m\u001b[43m \u001b[49m\u001b[38;5;241;43m*\u001b[39;49m\u001b[38;5;241;43m*\u001b[39;49m\u001b[43mkwargs\u001b[49m\u001b[43m)\u001b[49m\n\u001b[0;32m    663\u001b[0m \u001b[38;5;28;01mreturn\u001b[39;00m repack([f(r, \u001b[38;5;241m*\u001b[39ma) \u001b[38;5;28;01mfor\u001b[39;00m r, (f, a) \u001b[38;5;129;01min\u001b[39;00m \u001b[38;5;28mzip\u001b[39m(results, postcomputes)])\n",
      "File \u001b[1;32m~\\anaconda3\\Lib\\site-packages\\dask\\bytes\\core.py:194\u001b[0m, in \u001b[0;36mread_block_from_file\u001b[1;34m(lazy_file, off, bs, delimiter)\u001b[0m\n\u001b[0;32m    192\u001b[0m \u001b[38;5;28;01mif\u001b[39;00m off \u001b[38;5;241m==\u001b[39m \u001b[38;5;241m0\u001b[39m \u001b[38;5;129;01mand\u001b[39;00m bs \u001b[38;5;129;01mis\u001b[39;00m \u001b[38;5;28;01mNone\u001b[39;00m:\n\u001b[0;32m    193\u001b[0m     \u001b[38;5;28;01mreturn\u001b[39;00m f\u001b[38;5;241m.\u001b[39mread()\n\u001b[1;32m--> 194\u001b[0m \u001b[38;5;28;01mreturn\u001b[39;00m \u001b[43mread_block\u001b[49m\u001b[43m(\u001b[49m\u001b[43mf\u001b[49m\u001b[43m,\u001b[49m\u001b[43m \u001b[49m\u001b[43moff\u001b[49m\u001b[43m,\u001b[49m\u001b[43m \u001b[49m\u001b[43mbs\u001b[49m\u001b[43m,\u001b[49m\u001b[43m \u001b[49m\u001b[43mdelimiter\u001b[49m\u001b[43m)\u001b[49m\n",
      "File \u001b[1;32m~\\anaconda3\\Lib\\site-packages\\fsspec\\utils.py:302\u001b[0m, in \u001b[0;36mread_block\u001b[1;34m(f, offset, length, delimiter, split_before)\u001b[0m\n\u001b[0;32m    300\u001b[0m \u001b[38;5;66;03m# TODO: allow length to be None and read to the end of the file?\u001b[39;00m\n\u001b[0;32m    301\u001b[0m \u001b[38;5;28;01massert\u001b[39;00m length \u001b[38;5;129;01mis\u001b[39;00m \u001b[38;5;129;01mnot\u001b[39;00m \u001b[38;5;28;01mNone\u001b[39;00m\n\u001b[1;32m--> 302\u001b[0m b \u001b[38;5;241m=\u001b[39m \u001b[43mf\u001b[49m\u001b[38;5;241;43m.\u001b[39;49m\u001b[43mread\u001b[49m\u001b[43m(\u001b[49m\u001b[43mlength\u001b[49m\u001b[43m)\u001b[49m\n\u001b[0;32m    303\u001b[0m \u001b[38;5;28;01mreturn\u001b[39;00m b\n",
      "File \u001b[1;32m~\\anaconda3\\Lib\\site-packages\\fsspec\\implementations\\local.py:386\u001b[0m, in \u001b[0;36mLocalFileOpener.read\u001b[1;34m(self, *args, **kwargs)\u001b[0m\n\u001b[0;32m    385\u001b[0m \u001b[38;5;28;01mdef\u001b[39;00m \u001b[38;5;21mread\u001b[39m(\u001b[38;5;28mself\u001b[39m, \u001b[38;5;241m*\u001b[39margs, \u001b[38;5;241m*\u001b[39m\u001b[38;5;241m*\u001b[39mkwargs):\n\u001b[1;32m--> 386\u001b[0m     \u001b[38;5;28;01mreturn\u001b[39;00m \u001b[38;5;28;43mself\u001b[39;49m\u001b[38;5;241;43m.\u001b[39;49m\u001b[43mf\u001b[49m\u001b[38;5;241;43m.\u001b[39;49m\u001b[43mread\u001b[49m\u001b[43m(\u001b[49m\u001b[38;5;241;43m*\u001b[39;49m\u001b[43margs\u001b[49m\u001b[43m,\u001b[49m\u001b[43m \u001b[49m\u001b[38;5;241;43m*\u001b[39;49m\u001b[38;5;241;43m*\u001b[39;49m\u001b[43mkwargs\u001b[49m\u001b[43m)\u001b[49m\n",
      "\u001b[1;31mOSError\u001b[0m: [Errno 22] Invalid argument"
     ]
    }
   ],
   "source": [
    "_year = '2024'\n",
    "path = path_dateset + path_sub + _year + '\\\\'\n",
    "filename = '생활이동_행정동_2024.02.csv'\n",
    "savefile = '생활이동_행정동_출퇴근_' + _year   # Ex) 생활이동_행정동_출퇴근_2024\n",
    "print(f'path : {path}, savefile : {savefile}')\n",
    "\n",
    "print('filename : ', filename + ', encoding : ', em.Get_ExcelEncoding(path + filename))\n",
    "start_time_full = time.time()\n",
    "\n",
    "# 서울 생활이동 데이터 불러오기\n",
    "start_time = time.time()\n",
    "print('path + filename : ', path + filename)\n",
    "\n",
    "dtype={'이동인구(합)': 'object', '평균 이동 시간(분)': 'float64'}\n",
    "\n",
    "# 2024.11.04 duzin\n",
    "# dask = er.Read_dask(path + filename, dtype)\n",
    "dask = er.Read_Chunk(path + filename)\n",
    "print(\"Read_dask(\" + filename + \") time :\", time.time() - start_time)\n",
    "\n",
    "from dask.diagnostics import ProgressBar\n",
    "from time import sleep\n",
    "pbar = ProgressBar()\n",
    "pbar.register()\n",
    "start_time = time.time()\n",
    "df_dask_rtn = dask.compute()\n",
    "del dask  # 메모리 정리\n",
    "print(\"compute time(\" + filename + \") :\", time.time() - start_time)\n",
    "\n",
    "# 필요한 조건 설정\n",
    "start_time = time.time()\n",
    "cond1 = df_dask_rtn['요일'].isin(['월', '화', '수', '목', '금'])\n",
    "cond2 = df_dask_rtn['나이'].isin([20, 25, 30, 35, 40, 45, 50, 55, 60])   # 20 ~ 60\n",
    "cond3 = (df_dask_rtn['이동유형'].isin(['HW', 'EW']) | df_dask_rtn['이동유형'].isin(['WH', 'EH']))\n",
    "cond4 = (df_dask_rtn['도착시간'].isin([7, 8]) | df_dask_rtn['도착시간'].isin([17, 18]))\n",
    "dask = df_dask_rtn[cond1 & cond2 & cond3 & cond4]\n",
    "print(\"search Condition(\" + filename + \") :\", time.time() - start_time)\n",
    "\n",
    "# '이동인구(합)' 컬럼 float형으로 변경\n",
    "df_dask_rtn.loc[df_dask_rtn['이동인구(합)'] == '*','이동인구(합)'] = '0'\n",
    "df_dask_rtn = df_dask_rtn.astype({ '이동인구(합)' : 'float' })\n",
    "\n",
    "# 출퇴근 컬럼 추가\n",
    "df_dask_rtn.loc[(df_dask_rtn['이동유형'].isin(['HW', 'EW']))&(df_dask_rtn['도착시간'].isin([7, 8])),'출퇴근'] = '출근'\n",
    "df_dask_rtn.loc[(df_dask_rtn['이동유형'].isin(['WH', 'EH']))&(df_dask_rtn['도착시간'].isin([17, 18])),'출퇴근'] = '퇴근'\n",
    "df_dask_rtn = df_dask_rtn[~df_dask_rtn['출퇴근'].isnull()]\n",
    "\n",
    "# '대상연월', '도착 행정동 코드', '출퇴근' 기준으로, '이동인구(합)'의 계 구함\n",
    "start_time = time.time()\n",
    "df_dask_rtn = df_dask_rtn.groupby(['대상연월', '출발 행정동 코드', '도착 행정동 코드', '출퇴근'])['이동인구(합)'].sum().reset_index()\n",
    "print(\"groupby time :\", time.time() - start_time)\n",
    "\n",
    "df_dask_rtn.rename(columns = {\"도착 행정동 코드\": \"읍면동\"}, inplace = True)\n",
    "df_dask_rtn = pd.merge(left = df_dask_rtn , right = df_parquet_dong_gu, how = \"left\", on = \"읍면동\")\n",
    "\n",
    "print(\"=============================================================\")\n",
    "print('df_dask_rtn shape : ', df_dask_rtn.shape)\n",
    "print(\"Read full time :\", time.time() - start_time_full)"
   ]
  },
  {
   "cell_type": "markdown",
   "id": "1addcfcd-f0f6-4e37-a29a-ecc257117ea1",
   "metadata": {
    "id": "1addcfcd-f0f6-4e37-a29a-ecc257117ea1"
   },
   "source": [
    "---\n",
    "### 생활이동_행정동 데이터 가공 (2020 ~ 2024)"
   ]
  },
  {
   "cell_type": "markdown",
   "id": "3deddd82-81d5-41f3-852e-0cc53b9029af",
   "metadata": {},
   "source": [
    "- 나이 : 20 ~ 60\n",
    "- 시간\n",
    "    - 출근(7 ~ 8) : 실제 시작 (7 ~ 9)\n",
    "    - 퇴근(17 ~ 18) : 실제 시작 (17 ~ 19)\n",
    "- 이동유형\n",
    "    - 출근('HW', 'EW')\n",
    "        - 'HW' :\n",
    "        - 'EW' : \n",
    "    - 퇴근('WH', 'EH')\n",
    "        - 'WH' :\n",
    "        - 'EH' : "
   ]
  },
  {
   "cell_type": "code",
   "execution_count": 16,
   "id": "f00a54b0-c709-4cc9-8281-9e2ece9e4c3b",
   "metadata": {
    "id": "f00a54b0-c709-4cc9-8281-9e2ece9e4c3b",
    "outputId": "59da9961-7a77-4229-fd34-5f28f7fa7c1f"
   },
   "outputs": [
    {
     "name": "stdout",
     "output_type": "stream",
     "text": [
      "path : G:\\내 드라이브\\DataSet\\_최종 병합 파일\\서울 생활이동\\2024\\, savefile : 생활이동_행정동_출퇴근_2024\n",
      "file_lists : \n",
      " 생활이동_행정동_2024.01.csv\n",
      " 생활이동_행정동_2024.02.csv\n",
      " 생활이동_행정동_2024.03.csv\n",
      " 생활이동_행정동_2024.04.csv\n",
      " 생활이동_행정동_2024.05.csv\n",
      " 생활이동_행정동_2024.06.csv\n",
      " 생활이동_행정동_2024.07.csv\n",
      " 생활이동_행정동_2024.08.csv\n",
      " 생활이동_행정동_2024.09.csv\n",
      "===========================================\n",
      "filename :  생활이동_행정동_2024.01.csv, encoding :  utf-8\n",
      "path + filename :  G:\\내 드라이브\\DataSet\\_최종 병합 파일\\서울 생활이동\\2024\\생활이동_행정동_2024.01.csv\n",
      "Read_dask(생활이동_행정동_2024.01.csv) time : 0.8407704830169678\n",
      "search Condition(생활이동_행정동_2024.01.csv) : 0.015637636184692383\n",
      "[########################################] | 100% Completed | 74.00 s\n",
      "compute time(생활이동_행정동_2024.01.csv) : 74.34680557250977\n",
      "groupby time : 1.3895294666290283\n",
      "=============================================================\n",
      "df_dask_rtn shape :  (707499, 10)\n",
      "Read full time : 80.77857637405396\n",
      "filename :  생활이동_행정동_2024.02.csv, encoding :  GB2312\n",
      "path + filename :  G:\\내 드라이브\\DataSet\\_최종 병합 파일\\서울 생활이동\\2024\\생활이동_행정동_2024.02.csv\n",
      "Read_dask(생활이동_행정동_2024.02.csv) time : 2.3055217266082764\n",
      "search Condition(생활이동_행정동_2024.02.csv) : 0.0\n",
      "[###################                     ] | 48% Completed | 67.57 ss\n",
      "[###################                     ] | 48% Completed | 67.57 s\n"
     ]
    },
    {
     "ename": "OSError",
     "evalue": "[Errno 22] Invalid argument",
     "output_type": "error",
     "traceback": [
      "\u001b[1;31m---------------------------------------------------------------------------\u001b[0m",
      "\u001b[1;31mOSError\u001b[0m                                   Traceback (most recent call last)",
      "Cell \u001b[1;32mIn[16], line 42\u001b[0m\n\u001b[0;32m     40\u001b[0m pbar\u001b[38;5;241m.\u001b[39mregister()\n\u001b[0;32m     41\u001b[0m start_time \u001b[38;5;241m=\u001b[39m time\u001b[38;5;241m.\u001b[39mtime()\n\u001b[1;32m---> 42\u001b[0m df_dask_rtn \u001b[38;5;241m=\u001b[39m \u001b[43mdask\u001b[49m\u001b[38;5;241;43m.\u001b[39;49m\u001b[43mcompute\u001b[49m\u001b[43m(\u001b[49m\u001b[43m)\u001b[49m\n\u001b[0;32m     43\u001b[0m \u001b[38;5;28;01mdel\u001b[39;00m dask  \u001b[38;5;66;03m# 메모리 정리\u001b[39;00m\n\u001b[0;32m     44\u001b[0m \u001b[38;5;28mprint\u001b[39m(\u001b[38;5;124m\"\u001b[39m\u001b[38;5;124mcompute time(\u001b[39m\u001b[38;5;124m\"\u001b[39m \u001b[38;5;241m+\u001b[39m filename \u001b[38;5;241m+\u001b[39m \u001b[38;5;124m\"\u001b[39m\u001b[38;5;124m) :\u001b[39m\u001b[38;5;124m\"\u001b[39m, time\u001b[38;5;241m.\u001b[39mtime() \u001b[38;5;241m-\u001b[39m start_time)\n",
      "File \u001b[1;32m~\\anaconda3\\Lib\\site-packages\\dask_expr\\_collection.py:476\u001b[0m, in \u001b[0;36mFrameBase.compute\u001b[1;34m(self, fuse, **kwargs)\u001b[0m\n\u001b[0;32m    474\u001b[0m     out \u001b[38;5;241m=\u001b[39m out\u001b[38;5;241m.\u001b[39mrepartition(npartitions\u001b[38;5;241m=\u001b[39m\u001b[38;5;241m1\u001b[39m)\n\u001b[0;32m    475\u001b[0m out \u001b[38;5;241m=\u001b[39m out\u001b[38;5;241m.\u001b[39moptimize(fuse\u001b[38;5;241m=\u001b[39mfuse)\n\u001b[1;32m--> 476\u001b[0m \u001b[38;5;28;01mreturn\u001b[39;00m \u001b[43mDaskMethodsMixin\u001b[49m\u001b[38;5;241;43m.\u001b[39;49m\u001b[43mcompute\u001b[49m\u001b[43m(\u001b[49m\u001b[43mout\u001b[49m\u001b[43m,\u001b[49m\u001b[43m \u001b[49m\u001b[38;5;241;43m*\u001b[39;49m\u001b[38;5;241;43m*\u001b[39;49m\u001b[43mkwargs\u001b[49m\u001b[43m)\u001b[49m\n",
      "File \u001b[1;32m~\\anaconda3\\Lib\\site-packages\\dask\\base.py:375\u001b[0m, in \u001b[0;36mDaskMethodsMixin.compute\u001b[1;34m(self, **kwargs)\u001b[0m\n\u001b[0;32m    351\u001b[0m \u001b[38;5;28;01mdef\u001b[39;00m \u001b[38;5;21mcompute\u001b[39m(\u001b[38;5;28mself\u001b[39m, \u001b[38;5;241m*\u001b[39m\u001b[38;5;241m*\u001b[39mkwargs):\n\u001b[0;32m    352\u001b[0m \u001b[38;5;250m    \u001b[39m\u001b[38;5;124;03m\"\"\"Compute this dask collection\u001b[39;00m\n\u001b[0;32m    353\u001b[0m \n\u001b[0;32m    354\u001b[0m \u001b[38;5;124;03m    This turns a lazy Dask collection into its in-memory equivalent.\u001b[39;00m\n\u001b[1;32m   (...)\u001b[0m\n\u001b[0;32m    373\u001b[0m \u001b[38;5;124;03m    dask.compute\u001b[39;00m\n\u001b[0;32m    374\u001b[0m \u001b[38;5;124;03m    \"\"\"\u001b[39;00m\n\u001b[1;32m--> 375\u001b[0m     (result,) \u001b[38;5;241m=\u001b[39m \u001b[43mcompute\u001b[49m\u001b[43m(\u001b[49m\u001b[38;5;28;43mself\u001b[39;49m\u001b[43m,\u001b[49m\u001b[43m \u001b[49m\u001b[43mtraverse\u001b[49m\u001b[38;5;241;43m=\u001b[39;49m\u001b[38;5;28;43;01mFalse\u001b[39;49;00m\u001b[43m,\u001b[49m\u001b[43m \u001b[49m\u001b[38;5;241;43m*\u001b[39;49m\u001b[38;5;241;43m*\u001b[39;49m\u001b[43mkwargs\u001b[49m\u001b[43m)\u001b[49m\n\u001b[0;32m    376\u001b[0m     \u001b[38;5;28;01mreturn\u001b[39;00m result\n",
      "File \u001b[1;32m~\\anaconda3\\Lib\\site-packages\\dask\\base.py:661\u001b[0m, in \u001b[0;36mcompute\u001b[1;34m(traverse, optimize_graph, scheduler, get, *args, **kwargs)\u001b[0m\n\u001b[0;32m    658\u001b[0m     postcomputes\u001b[38;5;241m.\u001b[39mappend(x\u001b[38;5;241m.\u001b[39m__dask_postcompute__())\n\u001b[0;32m    660\u001b[0m \u001b[38;5;28;01mwith\u001b[39;00m shorten_traceback():\n\u001b[1;32m--> 661\u001b[0m     results \u001b[38;5;241m=\u001b[39m \u001b[43mschedule\u001b[49m\u001b[43m(\u001b[49m\u001b[43mdsk\u001b[49m\u001b[43m,\u001b[49m\u001b[43m \u001b[49m\u001b[43mkeys\u001b[49m\u001b[43m,\u001b[49m\u001b[43m \u001b[49m\u001b[38;5;241;43m*\u001b[39;49m\u001b[38;5;241;43m*\u001b[39;49m\u001b[43mkwargs\u001b[49m\u001b[43m)\u001b[49m\n\u001b[0;32m    663\u001b[0m \u001b[38;5;28;01mreturn\u001b[39;00m repack([f(r, \u001b[38;5;241m*\u001b[39ma) \u001b[38;5;28;01mfor\u001b[39;00m r, (f, a) \u001b[38;5;129;01min\u001b[39;00m \u001b[38;5;28mzip\u001b[39m(results, postcomputes)])\n",
      "File \u001b[1;32m~\\anaconda3\\Lib\\site-packages\\dask_expr\\_expr.py:3723\u001b[0m, in \u001b[0;36mFused._execute_task\u001b[1;34m(graph, name, *deps)\u001b[0m\n\u001b[0;32m   3721\u001b[0m \u001b[38;5;28;01mfor\u001b[39;00m i, dep \u001b[38;5;129;01min\u001b[39;00m \u001b[38;5;28menumerate\u001b[39m(deps):\n\u001b[0;32m   3722\u001b[0m     graph[\u001b[38;5;124m\"\u001b[39m\u001b[38;5;124m_\u001b[39m\u001b[38;5;124m\"\u001b[39m \u001b[38;5;241m+\u001b[39m \u001b[38;5;28mstr\u001b[39m(i)] \u001b[38;5;241m=\u001b[39m dep\n\u001b[1;32m-> 3723\u001b[0m \u001b[38;5;28;01mreturn\u001b[39;00m \u001b[43mdask\u001b[49m\u001b[38;5;241;43m.\u001b[39;49m\u001b[43mcore\u001b[49m\u001b[38;5;241;43m.\u001b[39;49m\u001b[43mget\u001b[49m\u001b[43m(\u001b[49m\u001b[43mgraph\u001b[49m\u001b[43m,\u001b[49m\u001b[43m \u001b[49m\u001b[43mname\u001b[49m\u001b[43m)\u001b[49m\n",
      "File \u001b[1;32m~\\anaconda3\\Lib\\site-packages\\dask\\bytes\\core.py:194\u001b[0m, in \u001b[0;36mread_block_from_file\u001b[1;34m(lazy_file, off, bs, delimiter)\u001b[0m\n\u001b[0;32m    192\u001b[0m \u001b[38;5;28;01mif\u001b[39;00m off \u001b[38;5;241m==\u001b[39m \u001b[38;5;241m0\u001b[39m \u001b[38;5;129;01mand\u001b[39;00m bs \u001b[38;5;129;01mis\u001b[39;00m \u001b[38;5;28;01mNone\u001b[39;00m:\n\u001b[0;32m    193\u001b[0m     \u001b[38;5;28;01mreturn\u001b[39;00m f\u001b[38;5;241m.\u001b[39mread()\n\u001b[1;32m--> 194\u001b[0m \u001b[38;5;28;01mreturn\u001b[39;00m \u001b[43mread_block\u001b[49m\u001b[43m(\u001b[49m\u001b[43mf\u001b[49m\u001b[43m,\u001b[49m\u001b[43m \u001b[49m\u001b[43moff\u001b[49m\u001b[43m,\u001b[49m\u001b[43m \u001b[49m\u001b[43mbs\u001b[49m\u001b[43m,\u001b[49m\u001b[43m \u001b[49m\u001b[43mdelimiter\u001b[49m\u001b[43m)\u001b[49m\n",
      "File \u001b[1;32m~\\anaconda3\\Lib\\site-packages\\fsspec\\utils.py:302\u001b[0m, in \u001b[0;36mread_block\u001b[1;34m(f, offset, length, delimiter, split_before)\u001b[0m\n\u001b[0;32m    300\u001b[0m \u001b[38;5;66;03m# TODO: allow length to be None and read to the end of the file?\u001b[39;00m\n\u001b[0;32m    301\u001b[0m \u001b[38;5;28;01massert\u001b[39;00m length \u001b[38;5;129;01mis\u001b[39;00m \u001b[38;5;129;01mnot\u001b[39;00m \u001b[38;5;28;01mNone\u001b[39;00m\n\u001b[1;32m--> 302\u001b[0m b \u001b[38;5;241m=\u001b[39m \u001b[43mf\u001b[49m\u001b[38;5;241;43m.\u001b[39;49m\u001b[43mread\u001b[49m\u001b[43m(\u001b[49m\u001b[43mlength\u001b[49m\u001b[43m)\u001b[49m\n\u001b[0;32m    303\u001b[0m \u001b[38;5;28;01mreturn\u001b[39;00m b\n",
      "File \u001b[1;32m~\\anaconda3\\Lib\\site-packages\\fsspec\\implementations\\local.py:386\u001b[0m, in \u001b[0;36mLocalFileOpener.read\u001b[1;34m(self, *args, **kwargs)\u001b[0m\n\u001b[0;32m    385\u001b[0m \u001b[38;5;28;01mdef\u001b[39;00m \u001b[38;5;21mread\u001b[39m(\u001b[38;5;28mself\u001b[39m, \u001b[38;5;241m*\u001b[39margs, \u001b[38;5;241m*\u001b[39m\u001b[38;5;241m*\u001b[39mkwargs):\n\u001b[1;32m--> 386\u001b[0m     \u001b[38;5;28;01mreturn\u001b[39;00m \u001b[38;5;28;43mself\u001b[39;49m\u001b[38;5;241;43m.\u001b[39;49m\u001b[43mf\u001b[49m\u001b[38;5;241;43m.\u001b[39;49m\u001b[43mread\u001b[49m\u001b[43m(\u001b[49m\u001b[38;5;241;43m*\u001b[39;49m\u001b[43margs\u001b[49m\u001b[43m,\u001b[49m\u001b[43m \u001b[49m\u001b[38;5;241;43m*\u001b[39;49m\u001b[38;5;241;43m*\u001b[39;49m\u001b[43mkwargs\u001b[49m\u001b[43m)\u001b[49m\n",
      "\u001b[1;31mOSError\u001b[0m: [Errno 22] Invalid argument"
     ]
    }
   ],
   "source": [
    "for cnt, _year in enumerate(_years):\n",
    "    \n",
    "    path = path_dateset + path_sub + _year + '\\\\'    \n",
    "    savefile = '생활이동_행정동_출퇴근_' + _year   # Ex) 생활이동_행정동_출퇴근_2024\n",
    "    print(f'path : {path}, savefile : {savefile}')\n",
    "    \n",
    "    # 파일 경로명 변경\n",
    "    file_list = os.listdir(path)\n",
    "    file_lists = [file for file in file_list if file.endswith((\".csv\", \".xlsx\"))]\n",
    "    file_lists.sort()\n",
    "    print('file_lists : \\n', '\\n '.join(file_lists))\n",
    "    print('===========================================')\n",
    "\n",
    "    #try:\n",
    "    for _, filename in enumerate(file_lists):        \n",
    "        print('filename : ', filename + ', encoding : ', em.Get_ExcelEncoding(path + filename))\n",
    "        start_time_full = time.time()\n",
    "\n",
    "        # 서울 생활이동 데이터 불러오기\n",
    "        start_time = time.time()\n",
    "        print('path + filename : ', path + filename)\n",
    "\n",
    "        dtype={'이동인구(합)': 'object', '평균 이동 시간(분)': 'float64'}\n",
    "        dask = er.Read_dask(path + filename, dtype)\n",
    "\n",
    "        print(\"Read_dask(\" + filename + \") time :\", time.time() - start_time)\n",
    "\n",
    "        from dask.diagnostics import ProgressBar\n",
    "        from time import sleep\n",
    "        pbar = ProgressBar()\n",
    "        pbar.register()\n",
    "        start_time = time.time()\n",
    "        df_dask_rtn = dask.compute()\n",
    "        del dask  # 메모리 정리\n",
    "        print(\"compute time(\" + filename + \") :\", time.time() - start_time)\n",
    "\n",
    "        # 필요한 조건 설정\n",
    "        start_time = time.time()\n",
    "        cond1 = df_dask_rtn['요일'].isin(['월', '화', '수', '목', '금'])\n",
    "        cond2 = df_dask_rtn['나이'].isin([20, 25, 30, 35, 40, 45, 50, 55, 60])   # 20 ~ 60\n",
    "        cond3 = (df_dask_rtn['이동유형'].isin(['HW', 'EW']) | df_dask_rtn['이동유형'].isin(['WH', 'EH']))\n",
    "        cond4 = (df_dask_rtn['도착시간'].isin([7, 8]) | df_dask_rtn['도착시간'].isin([17, 18]))\n",
    "        dask = df_dask_rtn[cond1 & cond2 & cond3 & cond4]\n",
    "        print(\"search Condition(\" + filename + \") :\", time.time() - start_time)\n",
    "        \n",
    "        # '이동인구(합)' 컬럼 float형으로 변경\n",
    "        df_dask_rtn.loc[df_dask_rtn['이동인구(합)'] == '*','이동인구(합)'] = '0'\n",
    "        df_dask_rtn = df_dask_rtn.astype({ '이동인구(합)' : 'float' })\n",
    "\n",
    "        # 출퇴근 컬럼 추가\n",
    "        df_dask_rtn.loc[(df_dask_rtn['이동유형'].isin(['HW', 'EW']))&(df_dask_rtn['도착시간'].isin([7, 8])),'출퇴근'] = '출근'\n",
    "        df_dask_rtn.loc[(df_dask_rtn['이동유형'].isin(['WH', 'EH']))&(df_dask_rtn['도착시간'].isin([17, 18])),'출퇴근'] = '퇴근'\n",
    "        df_dask_rtn = df_dask_rtn[~df_dask_rtn['출퇴근'].isnull()]\n",
    "\n",
    "        # '대상연월', '도착 행정동 코드', '출퇴근' 기준으로, '이동인구(합)'의 계 구함\n",
    "        start_time = time.time()\n",
    "        df_dask_rtn = df_dask_rtn.groupby(['대상연월', '출발 행정동 코드', '도착 행정동 코드', '출퇴근'])['이동인구(합)'].sum().reset_index()\n",
    "        print(\"groupby time :\", time.time() - start_time)\n",
    "\n",
    "        df_dask_rtn.rename(columns = {\"도착 행정동 코드\": \"읍면동\"}, inplace = True)\n",
    "        df_dask_rtn = pd.merge(left = df_dask_rtn , right = df_parquet_dong_gu, how = \"left\", on = \"읍면동\")\n",
    "\n",
    "        print(\"=============================================================\")\n",
    "        print('df_dask_rtn shape : ', df_dask_rtn.shape)\n",
    "        print(\"Read full time :\", time.time() - start_time_full)\n",
    "\n",
    "        df_sum = pd.concat([df_dask_rtn, df_sum], axis = 0)\n",
    "        del df_dask_rtn  # 메모리 정리\n",
    "\n",
    "    # for문 종료 후, 실행\n",
    "    df_sum.to_parquet(path + savefile + '.parquet', index=False)\n",
    "    del df_sum\n",
    "    \n",
    "    # except:\n",
    "    #     print('- Err : ', savefile)  \n",
    "    "
   ]
  },
  {
   "cell_type": "code",
   "execution_count": null,
   "id": "e4e4b334-7f1e-475b-bb06-aca304d87349",
   "metadata": {},
   "outputs": [],
   "source": []
  }
 ],
 "metadata": {
  "colab": {
   "provenance": []
  },
  "kernelspec": {
   "display_name": "Python 3 (ipykernel)",
   "language": "python",
   "name": "python3"
  },
  "language_info": {
   "codemirror_mode": {
    "name": "ipython",
    "version": 3
   },
   "file_extension": ".py",
   "mimetype": "text/x-python",
   "name": "python",
   "nbconvert_exporter": "python",
   "pygments_lexer": "ipython3",
   "version": "3.12.4"
  }
 },
 "nbformat": 4,
 "nbformat_minor": 5
}
