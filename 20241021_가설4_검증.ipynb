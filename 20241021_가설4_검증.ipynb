{
 "cells": [
  {
   "cell_type": "markdown",
   "id": "bf4aceef-1e1b-4a66-8576-d6b2f1360b53",
   "metadata": {},
   "source": [
    "## 가설4\n",
    "- 자전거 도로가 가장 많은 구의 따릉이 사용량이 서울시에서 가장 높을 것이다.\r",
    "    - \n",
    "<자전거 도로가 2024년 기준 가장 많은 구의 케이스>"
   ]
  },
  {
   "cell_type": "markdown",
   "id": "45d29b22-5ca1-4333-a370-47eff54d47b1",
   "metadata": {},
   "source": [
    "---\n",
    "1) 서울특별시 공공자전거 대여소별 이용정보(월별)\r\n",
    " - 자전거도로 - 자치구명, 전용도로, 전용차로, 겸용도로(분리형)\r\n",
    "2) 서울시 자전거 이용시설 통계(2023.12)\r\n",
    " - 자치구, 대여건수"
   ]
  },
  {
   "cell_type": "markdown",
   "id": "7d8d9e7c-26aa-450a-abb5-6e492e09d4be",
   "metadata": {},
   "source": [
    "1. \"자치구별\"  자전거도로 합계를 구한다\n",
    "2. \"자치구별\" 대여건수의 합계를 구한다\n",
    "3. \"자전거도로 합계\" 와 \"대여건수 합계\"의 상관관계를 분석"
   ]
  },
  {
   "cell_type": "code",
   "execution_count": 2,
   "id": "8fd957d9-9745-4a19-b2e6-b4029be3334b",
   "metadata": {},
   "outputs": [],
   "source": [
    "import pandas as pd"
   ]
  },
  {
   "cell_type": "code",
   "execution_count": 4,
   "id": "5c62f804-37ae-405c-8c93-a7277eea5d5a",
   "metadata": {},
   "outputs": [],
   "source": [
    "# 사용자 정의함수 경로 설정\n",
    "import sys\n",
    "sys.path.append(\"G:/내 드라이브/Source/_Custom_Function\")\n",
    "# 사용자 정의함수 불러오기\n",
    "\n",
    "import time\n",
    "\n",
    "import ExcelFile_Merge as em\n",
    "import ExcelFile_Read as er\n",
    "import ExcelFile_EDA as ee"
   ]
  },
  {
   "cell_type": "code",
   "execution_count": 6,
   "id": "56a186b1-a164-4f69-bd11-4621a8255b73",
   "metadata": {},
   "outputs": [],
   "source": [
    "filepath = 'G:\\\\내 드라이브\\\\DataSet\\\\_최종 병합 파일\\\\서울특별시 공공자전거 대여소별 이용정보(시간대별)\\\\'\n",
    "filename = '서울특별시 공공자전거 대여소별 이용정보(시간대별)_2021'\n",
    "path = filepath + filename + '.csv'\n",
    "dtype={'성별': 'object',\n",
    "       '운동량': 'object',\n",
    "       '탄소량': 'object',\n",
    "       '이용건수': 'object'}\n",
    "df_dask = er.Read_dask(path, dtype)"
   ]
  },
  {
   "cell_type": "code",
   "execution_count": 16,
   "id": "d5478c32-6d82-4ddd-bae9-72959735752d",
   "metadata": {},
   "outputs": [
    {
     "data": {
      "text/plain": [
       "Dask Series Structure:\n",
       "npartitions=1\n",
       "대여구분코드    int64\n",
       "탄소량         ...\n",
       "Dask Name: sum, 4 expressions\n",
       "Expr=(~ NotNull(frame=ReadCSV(c49933f))).sum()"
      ]
     },
     "execution_count": 16,
     "metadata": {},
     "output_type": "execute_result"
    }
   ],
   "source": [
    "df_dask.isnull().sum()"
   ]
  },
  {
   "cell_type": "code",
   "execution_count": 8,
   "id": "077c47aa-7a9d-401b-8ca5-7e7dd3ceb914",
   "metadata": {},
   "outputs": [
    {
     "name": "stdout",
     "output_type": "stream",
     "text": [
      "[########################################] | 100% Completed | 47.50 s\n",
      "compute time : 47.9664192199707\n"
     ]
    }
   ],
   "source": [
    "from dask.diagnostics import ProgressBar\n",
    "from time import sleep\n",
    "pbar = ProgressBar()\n",
    "pbar.register()\n",
    "\n",
    "start_time = time.time()\n",
    "df_rtn1 = df_dask.compute()\n",
    "print(\"compute time :\", time.time() - start_time)"
   ]
  },
  {
   "cell_type": "code",
   "execution_count": 18,
   "id": "d0bbc60b-97ce-4612-9953-f198b795d51f",
   "metadata": {},
   "outputs": [
    {
     "name": "stdout",
     "output_type": "stream",
     "text": [
      "<class 'pandas.core.frame.DataFrame'>\n",
      "Index: 39993704 entries, 0 to 669546\n",
      "Columns: 12 entries, 대여일자 to 이용시간(분)\n",
      "dtypes: float64(2), int64(2), object(8)\n",
      "memory usage: 20.3 GB\n"
     ]
    }
   ],
   "source": [
    "df_rtn1.info(verbose=False, memory_usage='deep')"
   ]
  },
  {
   "cell_type": "code",
   "execution_count": 24,
   "id": "68f7a556-52f6-40b8-8034-9bbf379f3f34",
   "metadata": {},
   "outputs": [
    {
     "name": "stdout",
     "output_type": "stream",
     "text": [
      "Read_dask time : 0.10893464088439941\n",
      "[########################################] | 100% Completed | 45.48 s\n",
      "[########################################] | 100% Completed | 45.57 s\n",
      "[########################################] | 100% Completed | 45.58 s\n",
      "compute time : 45.59921956062317\n",
      "to_parquet time : 37.38179683685303\n"
     ]
    }
   ],
   "source": [
    "from dask.diagnostics import ProgressBar\n",
    "from time import sleep\n",
    "pbar = ProgressBar()\n",
    "pbar.register()\n",
    "\n",
    "filepath = 'G:\\\\내 드라이브\\\\DataSet\\\\_최종 병합 파일\\\\서울특별시 공공자전거 대여소별 이용정보(시간대별)\\\\'\n",
    "filename = '서울특별시 공공자전거 대여소별 이용정보(시간대별)_2022'\n",
    "path = filepath + filename + '.csv'\n",
    "\n",
    "start_time = time.time()\n",
    "dtype={'성별': 'object',\n",
    "       '운동량': 'object',\n",
    "       '탄소량': 'object',\n",
    "       '이용건수': 'object'}\n",
    "df_rtn = er.Read_dask(path, dtype)\n",
    "print(\"Read_dask time :\", time.time() - start_time)\n",
    "\n",
    "start_time = time.time()\n",
    "df_rtn = df_rtn.compute()\n",
    "print(\"compute time :\", time.time() - start_time)\n",
    "\n",
    "start_time = time.time()\n",
    "df_rtn.to_parquet(filepath + filename + '.parquet', index=False)\n",
    "print(\"to_parquet time :\", time.time() - start_time)"
   ]
  },
  {
   "cell_type": "code",
   "execution_count": 36,
   "id": "e9ab874c-9e5b-4170-84e9-b5d0898e70ea",
   "metadata": {},
   "outputs": [
    {
     "name": "stdout",
     "output_type": "stream",
     "text": [
      "to_parquet time : 83.81193232536316\n"
     ]
    }
   ],
   "source": [
    "start_time = time.time()\n",
    "df_rtn.to_parquet(filepath + filename + '_gzip' + '.parquet', index=False, compression='gzip')\n",
    "print(\"to_parquet time :\", time.time() - start_time)"
   ]
  },
  {
   "cell_type": "code",
   "execution_count": 26,
   "id": "0df263d1-8b11-41f0-84c0-a77a6b4f1314",
   "metadata": {},
   "outputs": [
    {
     "name": "stdout",
     "output_type": "stream",
     "text": [
      "<class 'pandas.core.frame.DataFrame'>\n",
      "Index: 36160476 entries, 0 to 695755\n",
      "Data columns (total 12 columns):\n",
      " #   Column   Dtype  \n",
      "---  ------   -----  \n",
      " 0   대여일자     object \n",
      " 1   대여시간     int64  \n",
      " 2   대여소번호    int64  \n",
      " 3   대여소명     object \n",
      " 4   대여구분코드   object \n",
      " 5   성별       object \n",
      " 6   연령대코드    object \n",
      " 7   이용건수     object \n",
      " 8   운동량      object \n",
      " 9   탄소량      object \n",
      " 10  이동거리(M)  float64\n",
      " 11  이용시간(분)  int64  \n",
      "dtypes: float64(1), int64(3), object(8)\n",
      "memory usage: 3.5+ GB\n"
     ]
    }
   ],
   "source": [
    "df_rtn.info()"
   ]
  },
  {
   "cell_type": "code",
   "execution_count": 28,
   "id": "9c90d26d-9e85-4be3-b93d-5d56cb8ede7f",
   "metadata": {},
   "outputs": [],
   "source": [
    "start_time = time.time()\n",
    "filepath = 'G:\\\\내 드라이브\\\\DataSet\\\\_최종 병합 파일\\\\서울특별시 공공자전거 대여소별 이용정보(시간대별)\\\\'\n",
    "filename = '서울특별시 공공자전거 대여소별 이용정보(시간대별)_2022'\n",
    "df_parquet = pd.read_parquet(filepath + filename + '.parquet')\n",
    "print(\"read_parquet time :\", time.time() - start_time)"
   ]
  },
  {
   "cell_type": "code",
   "execution_count": 30,
   "id": "2d171cdb-8c51-4c57-a6ca-03503afb241b",
   "metadata": {},
   "outputs": [
    {
     "name": "stdout",
     "output_type": "stream",
     "text": [
      "<class 'pandas.core.frame.DataFrame'>\n",
      "RangeIndex: 36160476 entries, 0 to 36160475\n",
      "Data columns (total 12 columns):\n",
      " #   Column   Dtype  \n",
      "---  ------   -----  \n",
      " 0   대여일자     object \n",
      " 1   대여시간     int64  \n",
      " 2   대여소번호    int64  \n",
      " 3   대여소명     object \n",
      " 4   대여구분코드   object \n",
      " 5   성별       object \n",
      " 6   연령대코드    object \n",
      " 7   이용건수     object \n",
      " 8   운동량      object \n",
      " 9   탄소량      object \n",
      " 10  이동거리(M)  float64\n",
      " 11  이용시간(분)  int64  \n",
      "dtypes: float64(1), int64(3), object(8)\n",
      "memory usage: 3.2+ GB\n"
     ]
    }
   ],
   "source": [
    "df_parquet.info()"
   ]
  },
  {
   "cell_type": "code",
   "execution_count": 32,
   "id": "ed39f29e-8d88-4362-86b4-f1ef191f8657",
   "metadata": {},
   "outputs": [],
   "source": [
    "start_time = time.time()\n",
    "_columns = ['대여일자', '대여시간', '이용건수']\n",
    "df_parquet2 = pd.read_parquet(filepath + filename + '.parquet', columns=_columns)\n",
    "print(\"read_parquet time :\", time.time() - start_time)"
   ]
  },
  {
   "cell_type": "code",
   "execution_count": 34,
   "id": "9b954a9d-567e-4958-b1b8-07184c927afd",
   "metadata": {},
   "outputs": [
    {
     "name": "stdout",
     "output_type": "stream",
     "text": [
      "<class 'pandas.core.frame.DataFrame'>\n",
      "RangeIndex: 36160476 entries, 0 to 36160475\n",
      "Data columns (total 3 columns):\n",
      " #   Column  Dtype \n",
      "---  ------  ----- \n",
      " 0   대여일자    object\n",
      " 1   대여시간    int64 \n",
      " 2   이용건수    object\n",
      "dtypes: int64(1), object(2)\n",
      "memory usage: 827.6+ MB\n"
     ]
    }
   ],
   "source": [
    "df_parquet2.info()"
   ]
  },
  {
   "cell_type": "code",
   "execution_count": 40,
   "id": "ef434eee-a5b2-4a4b-8f6f-5588d0e0ab2c",
   "metadata": {},
   "outputs": [
    {
     "name": "stdout",
     "output_type": "stream",
     "text": [
      "read_parquet time : 15.90344500541687\n"
     ]
    }
   ],
   "source": [
    "start_time = time.time()\n",
    "filepath = 'G:\\\\내 드라이브\\\\DataSet\\\\_최종 병합 파일\\\\서울특별시 공공자전거 대여소별 이용정보(시간대별)\\\\'\n",
    "filename = '서울특별시 공공자전거 대여소별 이용정보(시간대별)_2022'\n",
    "df_parquet_gzip = pd.read_parquet(filepath + filename + '_gzip' + '.parquet')\n",
    "print(\"read_parquet time :\", time.time() - start_time)"
   ]
  },
  {
   "cell_type": "code",
   "execution_count": 42,
   "id": "3fb5c42b-0bc7-4e36-9f2d-8137bc7b2c67",
   "metadata": {},
   "outputs": [
    {
     "name": "stdout",
     "output_type": "stream",
     "text": [
      "<class 'pandas.core.frame.DataFrame'>\n",
      "RangeIndex: 36160476 entries, 0 to 36160475\n",
      "Data columns (total 12 columns):\n",
      " #   Column   Dtype  \n",
      "---  ------   -----  \n",
      " 0   대여일자     object \n",
      " 1   대여시간     int64  \n",
      " 2   대여소번호    int64  \n",
      " 3   대여소명     object \n",
      " 4   대여구분코드   object \n",
      " 5   성별       object \n",
      " 6   연령대코드    object \n",
      " 7   이용건수     object \n",
      " 8   운동량      object \n",
      " 9   탄소량      object \n",
      " 10  이동거리(M)  float64\n",
      " 11  이용시간(분)  int64  \n",
      "dtypes: float64(1), int64(3), object(8)\n",
      "memory usage: 3.2+ GB\n"
     ]
    }
   ],
   "source": [
    "df_parquet_gzip.info()"
   ]
  },
  {
   "cell_type": "code",
   "execution_count": 46,
   "id": "97229c90-7b4b-4269-a857-0770558b96b5",
   "metadata": {},
   "outputs": [
    {
     "name": "stdout",
     "output_type": "stream",
     "text": [
      "check time : 63.23096060752869\n"
     ]
    }
   ],
   "source": [
    "start_time = time.time()\n",
    "df_parquet_gzip.groupby('대여일자')['이용건수'].sum()\n",
    "print(\"check time :\", time.time() - start_time)"
   ]
  },
  {
   "cell_type": "code",
   "execution_count": 48,
   "id": "830ac77a-9506-426a-91d5-ae2909465a86",
   "metadata": {},
   "outputs": [
    {
     "name": "stdout",
     "output_type": "stream",
     "text": [
      "read_parquet time : 3.2908482551574707\n"
     ]
    }
   ],
   "source": [
    "start_time = time.time()\n",
    "filepath = 'G:\\\\내 드라이브\\\\DataSet\\\\_최종 병합 파일\\\\서울특별시 공공자전거 대여소별 이용정보(시간대별)\\\\'\n",
    "filename = '서울특별시 공공자전거 대여소별 이용정보(시간대별)_2022'\n",
    "_columns = ['대여일자', '이용건수']\n",
    "df_parquet_gzip = pd.read_parquet(filepath + filename + '_gzip' + '.parquet', columns = _columns)\n",
    "print(\"read_parquet time :\", time.time() - start_time)"
   ]
  },
  {
   "cell_type": "code",
   "execution_count": 50,
   "id": "c5ac6394-3a8e-4d4c-85b2-8f7d9c425efe",
   "metadata": {},
   "outputs": [
    {
     "name": "stdout",
     "output_type": "stream",
     "text": [
      "check time : 61.89773893356323\n"
     ]
    }
   ],
   "source": [
    "start_time = time.time()\n",
    "df_grp = df_parquet_gzip.groupby('대여일자')['이용건수'].sum()\n",
    "print(\"check time :\", time.time() - start_time)"
   ]
  },
  {
   "cell_type": "code",
   "execution_count": 56,
   "id": "18482adc-ff1a-415f-a4fb-9390488e4b03",
   "metadata": {},
   "outputs": [
    {
     "ename": "TypeError",
     "evalue": "Series.sort_values() got an unexpected keyword argument 'by'",
     "output_type": "error",
     "traceback": [
      "\u001b[1;31m---------------------------------------------------------------------------\u001b[0m",
      "\u001b[1;31mTypeError\u001b[0m                                 Traceback (most recent call last)",
      "Cell \u001b[1;32mIn[56], line 1\u001b[0m\n\u001b[1;32m----> 1\u001b[0m \u001b[43mdf_grp\u001b[49m\u001b[38;5;241;43m.\u001b[39;49m\u001b[43msort_values\u001b[49m\u001b[43m(\u001b[49m\u001b[43mby\u001b[49m\u001b[43m \u001b[49m\u001b[38;5;241;43m=\u001b[39;49m\u001b[43m \u001b[49m\u001b[38;5;124;43m'\u001b[39;49m\u001b[38;5;124;43m이용건수\u001b[39;49m\u001b[38;5;124;43m'\u001b[39;49m\u001b[43m)\u001b[49m\n",
      "\u001b[1;31mTypeError\u001b[0m: Series.sort_values() got an unexpected keyword argument 'by'"
     ]
    }
   ],
   "source": [
    "df_grp.sort_values(by = '이용건수')"
   ]
  },
  {
   "cell_type": "code",
   "execution_count": 58,
   "id": "ad635d28-a46d-45dd-86df-a57fcfcf15d9",
   "metadata": {},
   "outputs": [
    {
     "name": "stdout",
     "output_type": "stream",
     "text": [
      "<class 'pandas.core.series.Series'>\n",
      "Index: 365 entries, 2022-01-01 to 2022-12-31\n",
      "Series name: 이용건수\n",
      "Non-Null Count  Dtype \n",
      "--------------  ----- \n",
      "365 non-null    object\n",
      "dtypes: object(1)\n",
      "memory usage: 13.8+ KB\n"
     ]
    }
   ],
   "source": [
    "df_grp.info()"
   ]
  },
  {
   "cell_type": "code",
   "execution_count": 44,
   "id": "3cdb8c05-e076-4ddb-8ea8-5dc3c01d8094",
   "metadata": {},
   "outputs": [
    {
     "data": {
      "text/plain": [
       "대여일자\n",
       "2022-09-30    165169\n",
       "2022-09-28    162926\n",
       "2022-09-21    162680\n",
       "2022-09-20    162494\n",
       "2022-09-27    161545\n",
       "               ...  \n",
       "2022-02-01     13759\n",
       "2022-10-03     10411\n",
       "2022-06-30      8511\n",
       "2022-09-05      5094\n",
       "2022-08-09       477\n",
       "Name: count, Length: 365, dtype: int64"
      ]
     },
     "execution_count": 44,
     "metadata": {},
     "output_type": "execute_result"
    }
   ],
   "source": [
    "df_parquet_gzip['대여일자'].value_counts()"
   ]
  },
  {
   "cell_type": "code",
   "execution_count": 10,
   "id": "64a406b5-71c7-4bb3-b498-ba6925f64ff1",
   "metadata": {},
   "outputs": [
    {
     "data": {
      "text/html": [
       "<div>\n",
       "<style scoped>\n",
       "    .dataframe tbody tr th:only-of-type {\n",
       "        vertical-align: middle;\n",
       "    }\n",
       "\n",
       "    .dataframe tbody tr th {\n",
       "        vertical-align: top;\n",
       "    }\n",
       "\n",
       "    .dataframe thead th {\n",
       "        text-align: right;\n",
       "    }\n",
       "</style>\n",
       "<table border=\"1\" class=\"dataframe\">\n",
       "  <thead>\n",
       "    <tr style=\"text-align: right;\">\n",
       "      <th></th>\n",
       "      <th>대여일자</th>\n",
       "      <th>대여시간</th>\n",
       "      <th>대여소번호</th>\n",
       "      <th>대여소명</th>\n",
       "      <th>대여구분코드</th>\n",
       "      <th>성별</th>\n",
       "      <th>연령대코드</th>\n",
       "      <th>이용건수</th>\n",
       "      <th>운동량</th>\n",
       "      <th>탄소량</th>\n",
       "      <th>이동거리(M)</th>\n",
       "      <th>이용시간(분)</th>\n",
       "    </tr>\n",
       "  </thead>\n",
       "  <tbody>\n",
       "    <tr>\n",
       "      <th>0</th>\n",
       "      <td>2023-01-01</td>\n",
       "      <td>0</td>\n",
       "      <td>433</td>\n",
       "      <td>433. 을지로입구역 2번출구</td>\n",
       "      <td>정기권</td>\n",
       "      <td>NaN</td>\n",
       "      <td>~10대</td>\n",
       "      <td>1.0</td>\n",
       "      <td>44.24</td>\n",
       "      <td>0.42</td>\n",
       "      <td>1831.45</td>\n",
       "      <td>8.0</td>\n",
       "    </tr>\n",
       "    <tr>\n",
       "      <th>1</th>\n",
       "      <td>2023-01-01</td>\n",
       "      <td>0</td>\n",
       "      <td>2032</td>\n",
       "      <td>2032. 이수역 11번출구쪽</td>\n",
       "      <td>정기권</td>\n",
       "      <td>NaN</td>\n",
       "      <td>~10대</td>\n",
       "      <td>1.0</td>\n",
       "      <td>7.11</td>\n",
       "      <td>0.06</td>\n",
       "      <td>276.06</td>\n",
       "      <td>4.0</td>\n",
       "    </tr>\n",
       "    <tr>\n",
       "      <th>2</th>\n",
       "      <td>2023-01-01</td>\n",
       "      <td>0</td>\n",
       "      <td>744</td>\n",
       "      <td>744. 신목동역 2번 출구</td>\n",
       "      <td>정기권</td>\n",
       "      <td>NaN</td>\n",
       "      <td>20대</td>\n",
       "      <td>1.0</td>\n",
       "      <td>25.05</td>\n",
       "      <td>0.24</td>\n",
       "      <td>1020.46</td>\n",
       "      <td>7.0</td>\n",
       "    </tr>\n",
       "    <tr>\n",
       "      <th>3</th>\n",
       "      <td>2023-01-01</td>\n",
       "      <td>0</td>\n",
       "      <td>1029</td>\n",
       "      <td>1029. 성내어울터</td>\n",
       "      <td>정기권</td>\n",
       "      <td>NaN</td>\n",
       "      <td>20대</td>\n",
       "      <td>1.0</td>\n",
       "      <td>34.05</td>\n",
       "      <td>0.20</td>\n",
       "      <td>859.74</td>\n",
       "      <td>4.0</td>\n",
       "    </tr>\n",
       "    <tr>\n",
       "      <th>4</th>\n",
       "      <td>2023-01-01</td>\n",
       "      <td>0</td>\n",
       "      <td>1153</td>\n",
       "      <td>1153. 발산역 1번, 9번 인근 대여소</td>\n",
       "      <td>정기권</td>\n",
       "      <td>NaN</td>\n",
       "      <td>20대</td>\n",
       "      <td>2.0</td>\n",
       "      <td>141.49</td>\n",
       "      <td>1.31</td>\n",
       "      <td>5675.10</td>\n",
       "      <td>78.0</td>\n",
       "    </tr>\n",
       "  </tbody>\n",
       "</table>\n",
       "</div>"
      ],
      "text/plain": [
       "         대여일자  대여시간  대여소번호                     대여소명 대여구분코드   성별 연령대코드 이용건수  \\\n",
       "0  2023-01-01     0    433         433. 을지로입구역 2번출구    정기권  NaN  ~10대  1.0   \n",
       "1  2023-01-01     0   2032         2032. 이수역 11번출구쪽    정기권  NaN  ~10대  1.0   \n",
       "2  2023-01-01     0    744          744. 신목동역 2번 출구    정기권  NaN   20대  1.0   \n",
       "3  2023-01-01     0   1029              1029. 성내어울터    정기권  NaN   20대  1.0   \n",
       "4  2023-01-01     0   1153  1153. 발산역 1번, 9번 인근 대여소    정기권  NaN   20대  2.0   \n",
       "\n",
       "      운동량   탄소량  이동거리(M)  이용시간(분)  \n",
       "0   44.24  0.42  1831.45      8.0  \n",
       "1    7.11  0.06   276.06      4.0  \n",
       "2   25.05  0.24  1020.46      7.0  \n",
       "3   34.05  0.20   859.74      4.0  \n",
       "4  141.49  1.31  5675.10     78.0  "
      ]
     },
     "execution_count": 10,
     "metadata": {},
     "output_type": "execute_result"
    }
   ],
   "source": [
    "df_rtn1.head()"
   ]
  },
  {
   "cell_type": "code",
   "execution_count": 38,
   "id": "aa7dbaab-2ba0-4fd8-801f-8c6d5e296b26",
   "metadata": {},
   "outputs": [
    {
     "name": "stdout",
     "output_type": "stream",
     "text": [
      "[########################################] | 100% Completed | 150.82 s\n",
      "[########################################] | 100% Completed | 150.85 s\n",
      "[########################################] | 100% Completed | 150.87 s\n",
      "compute time : 150.90784430503845\n"
     ]
    }
   ],
   "source": [
    "from dask.diagnostics import ProgressBar\n",
    "from time import sleep\n",
    "pbar = ProgressBar()\n",
    "pbar.register()\n",
    "\n",
    "start_time = time.time()\n",
    "df_rtn2 = df_rtn.compute()\n",
    "print(\"compute time :\", time.time() - start_time)"
   ]
  },
  {
   "cell_type": "markdown",
   "id": "f2556418-86e2-4dce-879b-dff812d77a3f",
   "metadata": {},
   "source": [
    "### 서울생활이동"
   ]
  },
  {
   "cell_type": "code",
   "execution_count": 7,
   "id": "352b6ae2-3795-4186-b672-750be1387dff",
   "metadata": {},
   "outputs": [],
   "source": [
    "filepath = 'G:\\\\내 드라이브\\\\DataSet\\\\_최종 병합 파일\\\\서울 생활이동\\\\2020\\\\'\n",
    "filename = '생활이동_행정동_2020.01'\n",
    "path = filepath + filename + '.csv'\n",
    "df_rtn = er.Read_dask(path)"
   ]
  },
  {
   "cell_type": "code",
   "execution_count": null,
   "id": "db3be4e9-e7ac-4da6-a8bf-04aa150d4241",
   "metadata": {},
   "outputs": [],
   "source": [
    "df_rtn = df_rtn.compute()"
   ]
  },
  {
   "cell_type": "code",
   "execution_count": null,
   "id": "7c03c742-f354-4f05-9292-131a39b636f8",
   "metadata": {},
   "outputs": [],
   "source": [
    "df_rtn.head()"
   ]
  },
  {
   "cell_type": "code",
   "execution_count": 7,
   "id": "28bc510c-3092-40fb-b78d-018a7824e79e",
   "metadata": {},
   "outputs": [],
   "source": [
    "df_rtn = er.Read_dask(path)\n",
    "df_rtn = df_rtn.compute()\n",
    "df_rtn.to_parquet(filepath + 'parquet\\\\' + filename + '.parquet', index=False)"
   ]
  },
  {
   "cell_type": "code",
   "execution_count": 9,
   "id": "af630fd9-7851-4259-87b0-8eec7fcbedd5",
   "metadata": {},
   "outputs": [],
   "source": [
    "_columns = ['요일','이동인구(합)']\n",
    "df_parquet = pd.read_parquet(filepath + 'parquet\\\\' + filename + '.parquet', columns=_columns)"
   ]
  },
  {
   "cell_type": "code",
   "execution_count": 10,
   "id": "a36ba90e-7082-4b78-8a0c-0a1f4751c088",
   "metadata": {},
   "outputs": [
    {
     "data": {
      "text/html": [
       "<div>\n",
       "<style scoped>\n",
       "    .dataframe tbody tr th:only-of-type {\n",
       "        vertical-align: middle;\n",
       "    }\n",
       "\n",
       "    .dataframe tbody tr th {\n",
       "        vertical-align: top;\n",
       "    }\n",
       "\n",
       "    .dataframe thead th {\n",
       "        text-align: right;\n",
       "    }\n",
       "</style>\n",
       "<table border=\"1\" class=\"dataframe\">\n",
       "  <thead>\n",
       "    <tr style=\"text-align: right;\">\n",
       "      <th></th>\n",
       "      <th>요일</th>\n",
       "      <th>이동인구(합)</th>\n",
       "    </tr>\n",
       "  </thead>\n",
       "  <tbody>\n",
       "    <tr>\n",
       "      <th>0</th>\n",
       "      <td>일</td>\n",
       "      <td>5.93</td>\n",
       "    </tr>\n",
       "    <tr>\n",
       "      <th>1</th>\n",
       "      <td>일</td>\n",
       "      <td>*</td>\n",
       "    </tr>\n",
       "    <tr>\n",
       "      <th>2</th>\n",
       "      <td>일</td>\n",
       "      <td>*</td>\n",
       "    </tr>\n",
       "    <tr>\n",
       "      <th>3</th>\n",
       "      <td>일</td>\n",
       "      <td>3.44</td>\n",
       "    </tr>\n",
       "    <tr>\n",
       "      <th>4</th>\n",
       "      <td>일</td>\n",
       "      <td>3.1</td>\n",
       "    </tr>\n",
       "  </tbody>\n",
       "</table>\n",
       "</div>"
      ],
      "text/plain": [
       "  요일 이동인구(합)\n",
       "0  일    5.93\n",
       "1  일       *\n",
       "2  일       *\n",
       "3  일    3.44\n",
       "4  일     3.1"
      ]
     },
     "execution_count": 10,
     "metadata": {},
     "output_type": "execute_result"
    }
   ],
   "source": [
    "df_parquet.head()"
   ]
  },
  {
   "cell_type": "code",
   "execution_count": 13,
   "id": "631d4690-f455-4919-8a6d-b8752236f165",
   "metadata": {},
   "outputs": [
    {
     "data": {
      "text/plain": [
       "요일         130620476\n",
       "이동인구(합)    130620476\n",
       "dtype: int64"
      ]
     },
     "execution_count": 13,
     "metadata": {},
     "output_type": "execute_result"
    }
   ],
   "source": [
    "df_parquet.count()"
   ]
  },
  {
   "cell_type": "code",
   "execution_count": 26,
   "id": "6ca66aab-bf2e-4ba6-be67-8687ca1a3f05",
   "metadata": {},
   "outputs": [
    {
     "name": "stdout",
     "output_type": "stream",
     "text": [
      "<class 'pandas.core.frame.DataFrame'>\n",
      "RangeIndex: 130620476 entries, 0 to 130620475\n",
      "Data columns (total 10 columns):\n",
      " #   Column       Dtype \n",
      "---  ------       ----- \n",
      " 0   대상연월         int64 \n",
      " 1   요일           object\n",
      " 2   도착시간         int64 \n",
      " 3   출발 행정동 코드    int64 \n",
      " 4   도착 행정동 코드    int64 \n",
      " 5   성별           object\n",
      " 6   나이           int64 \n",
      " 7   이동유형         object\n",
      " 8   평균 이동 시간(분)  int64 \n",
      " 9   이동인구(합)      object\n",
      "dtypes: int64(6), object(4)\n",
      "memory usage: 9.7+ GB\n"
     ]
    }
   ],
   "source": [
    "df_parquet.info()"
   ]
  },
  {
   "cell_type": "code",
   "execution_count": 28,
   "id": "55e0d141-0963-452b-af99-fd8b446fc799",
   "metadata": {},
   "outputs": [
    {
     "data": {
      "text/plain": [
       "대상연월           0\n",
       "요일             0\n",
       "도착시간           0\n",
       "출발 행정동 코드      0\n",
       "도착 행정동 코드      0\n",
       "성별             0\n",
       "나이             0\n",
       "이동유형           0\n",
       "평균 이동 시간(분)    0\n",
       "이동인구(합)        0\n",
       "dtype: int64"
      ]
     },
     "execution_count": 28,
     "metadata": {},
     "output_type": "execute_result"
    }
   ],
   "source": [
    "df_parquet.isnull().sum()"
   ]
  },
  {
   "cell_type": "code",
   "execution_count": 30,
   "id": "3c6a0d42-c32e-41d4-a21a-56b218e08cfb",
   "metadata": {},
   "outputs": [
    {
     "data": {
      "text/plain": [
       "array([202001], dtype=int64)"
      ]
     },
     "execution_count": 30,
     "metadata": {},
     "output_type": "execute_result"
    }
   ],
   "source": [
    "df_parquet['대상연월'].unique()\n",
    "df_parquet['요일'].unique()\n",
    "df_parquet['도착시간'].unique()\n",
    "df_parquet['출발 행정동 코드'].unique()\n",
    "df_parquet['도착 행정동 코드'].unique()\n",
    "df_parquet['성별'].unique()\n",
    "df_parquet['나이'].unique()\n",
    "df_parquet['이동유형'].unique()\n",
    "df_parquet['평균 이동 시간(분)'].unique()\n",
    "df_parquet['이동인구(합)'].unique()"
   ]
  },
  {
   "cell_type": "code",
   "execution_count": null,
   "id": "a8fbf469-6982-4c31-afdd-56470118b824",
   "metadata": {},
   "outputs": [],
   "source": [
    "df_parquet.groupby('요일')['이동인구(합)'].sum()"
   ]
  },
  {
   "cell_type": "code",
   "execution_count": 58,
   "id": "5caeb99e-08b0-48ad-bc4a-9b9daa808e65",
   "metadata": {},
   "outputs": [
    {
     "data": {
      "text/plain": [
       "이동유형\n",
       "EH    29027211\n",
       "HE    26727404\n",
       "EE    22857768\n",
       "WH    16154567\n",
       "HW    14779427\n",
       "WE     9287776\n",
       "EW     6496396\n",
       "WW     2798070\n",
       "HH     2491857\n",
       "Name: count, dtype: int64"
      ]
     },
     "execution_count": 58,
     "metadata": {},
     "output_type": "execute_result"
    }
   ],
   "source": [
    "df_parquet['이동유형'].value_counts()"
   ]
  },
  {
   "cell_type": "code",
   "execution_count": 18,
   "id": "e043051c-7122-48d9-a8f4-9b103138a926",
   "metadata": {},
   "outputs": [],
   "source": [
    "filepath = 'G:\\\\내 드라이브\\\\DataSet\\\\_최종 병합 파일\\\\서울 생활이동\\\\2020\\\\'\n",
    "filename = 'tpss_bcycl_od_statnhm_2021'\n",
    "path = filepath + filename + '.csv'"
   ]
  },
  {
   "cell_type": "code",
   "execution_count": 20,
   "id": "64d032ff-c5e4-44a0-b591-79ad7b8c30d8",
   "metadata": {},
   "outputs": [
    {
     "data": {
      "text/html": [
       "<div>\n",
       "<style scoped>\n",
       "    .dataframe tbody tr th:only-of-type {\n",
       "        vertical-align: middle;\n",
       "    }\n",
       "\n",
       "    .dataframe tbody tr th {\n",
       "        vertical-align: top;\n",
       "    }\n",
       "\n",
       "    .dataframe thead th {\n",
       "        text-align: right;\n",
       "    }\n",
       "</style>\n",
       "<table border=\"1\" class=\"dataframe\">\n",
       "  <thead>\n",
       "    <tr style=\"text-align: right;\">\n",
       "      <th></th>\n",
       "      <th>기준_날짜</th>\n",
       "      <th>집계_기준</th>\n",
       "      <th>기준_시간대</th>\n",
       "      <th>시작_대여소_ID</th>\n",
       "      <th>종료_대여소_ID</th>\n",
       "      <th>전체_건수</th>\n",
       "      <th>전체_이용_분</th>\n",
       "      <th>전체_이용_거리</th>\n",
       "    </tr>\n",
       "  </thead>\n",
       "  <tbody>\n",
       "    <tr>\n",
       "      <th>0</th>\n",
       "      <td>20210101</td>\n",
       "      <td>NaN</td>\n",
       "      <td>0</td>\n",
       "      <td>ST-461</td>\n",
       "      <td>ST-1482</td>\n",
       "      <td>1</td>\n",
       "      <td>9</td>\n",
       "      <td>1549.75</td>\n",
       "    </tr>\n",
       "    <tr>\n",
       "      <th>1</th>\n",
       "      <td>20210101</td>\n",
       "      <td>NaN</td>\n",
       "      <td>0</td>\n",
       "      <td>ST-2309</td>\n",
       "      <td>ST-1661</td>\n",
       "      <td>1</td>\n",
       "      <td>20</td>\n",
       "      <td>0.00</td>\n",
       "    </tr>\n",
       "    <tr>\n",
       "      <th>2</th>\n",
       "      <td>20210101</td>\n",
       "      <td>NaN</td>\n",
       "      <td>0</td>\n",
       "      <td>ST-1062</td>\n",
       "      <td>ST-1647</td>\n",
       "      <td>1</td>\n",
       "      <td>7</td>\n",
       "      <td>0.00</td>\n",
       "    </tr>\n",
       "    <tr>\n",
       "      <th>3</th>\n",
       "      <td>20210101</td>\n",
       "      <td>NaN</td>\n",
       "      <td>0</td>\n",
       "      <td>ST-402</td>\n",
       "      <td>ST-597</td>\n",
       "      <td>2</td>\n",
       "      <td>62</td>\n",
       "      <td>7122.56</td>\n",
       "    </tr>\n",
       "    <tr>\n",
       "      <th>4</th>\n",
       "      <td>20210101</td>\n",
       "      <td>NaN</td>\n",
       "      <td>0</td>\n",
       "      <td>ST-386</td>\n",
       "      <td>ST-2331</td>\n",
       "      <td>1</td>\n",
       "      <td>13</td>\n",
       "      <td>2244.83</td>\n",
       "    </tr>\n",
       "  </tbody>\n",
       "</table>\n",
       "</div>"
      ],
      "text/plain": [
       "      기준_날짜  집계_기준  기준_시간대 시작_대여소_ID 종료_대여소_ID  전체_건수  전체_이용_분  전체_이용_거리\n",
       "0  20210101    NaN       0    ST-461   ST-1482      1        9   1549.75\n",
       "1  20210101    NaN       0   ST-2309   ST-1661      1       20      0.00\n",
       "2  20210101    NaN       0   ST-1062   ST-1647      1        7      0.00\n",
       "3  20210101    NaN       0    ST-402    ST-597      2       62   7122.56\n",
       "4  20210101    NaN       0    ST-386   ST-2331      1       13   2244.83"
      ]
     },
     "execution_count": 20,
     "metadata": {},
     "output_type": "execute_result"
    }
   ],
   "source": [
    "er.Read_nrows(path, 5, 'utf-8')"
   ]
  },
  {
   "cell_type": "code",
   "execution_count": 22,
   "id": "2d83ece0-b205-466e-877e-cf293a73fa17",
   "metadata": {},
   "outputs": [],
   "source": [
    "df_rtn = er.Read_dask(path)"
   ]
  },
  {
   "cell_type": "code",
   "execution_count": 24,
   "id": "fbb1764c-42e7-47e9-82f7-9000f8489635",
   "metadata": {},
   "outputs": [
    {
     "data": {
      "text/html": [
       "<div>\n",
       "<style scoped>\n",
       "    .dataframe tbody tr th:only-of-type {\n",
       "        vertical-align: middle;\n",
       "    }\n",
       "\n",
       "    .dataframe tbody tr th {\n",
       "        vertical-align: top;\n",
       "    }\n",
       "\n",
       "    .dataframe thead th {\n",
       "        text-align: right;\n",
       "    }\n",
       "</style>\n",
       "<table border=\"1\" class=\"dataframe\">\n",
       "  <thead>\n",
       "    <tr style=\"text-align: right;\">\n",
       "      <th></th>\n",
       "      <th>기준_날짜</th>\n",
       "      <th>집계_기준</th>\n",
       "      <th>기준_시간대</th>\n",
       "      <th>시작_대여소_ID</th>\n",
       "      <th>종료_대여소_ID</th>\n",
       "      <th>전체_건수</th>\n",
       "      <th>전체_이용_분</th>\n",
       "      <th>전체_이용_거리</th>\n",
       "    </tr>\n",
       "  </thead>\n",
       "  <tbody>\n",
       "    <tr>\n",
       "      <th>0</th>\n",
       "      <td>20210101</td>\n",
       "      <td>NaN</td>\n",
       "      <td>0</td>\n",
       "      <td>ST-461</td>\n",
       "      <td>ST-1482</td>\n",
       "      <td>1</td>\n",
       "      <td>9</td>\n",
       "      <td>1549.75</td>\n",
       "    </tr>\n",
       "    <tr>\n",
       "      <th>1</th>\n",
       "      <td>20210101</td>\n",
       "      <td>NaN</td>\n",
       "      <td>0</td>\n",
       "      <td>ST-2309</td>\n",
       "      <td>ST-1661</td>\n",
       "      <td>1</td>\n",
       "      <td>20</td>\n",
       "      <td>0.00</td>\n",
       "    </tr>\n",
       "    <tr>\n",
       "      <th>2</th>\n",
       "      <td>20210101</td>\n",
       "      <td>NaN</td>\n",
       "      <td>0</td>\n",
       "      <td>ST-1062</td>\n",
       "      <td>ST-1647</td>\n",
       "      <td>1</td>\n",
       "      <td>7</td>\n",
       "      <td>0.00</td>\n",
       "    </tr>\n",
       "    <tr>\n",
       "      <th>3</th>\n",
       "      <td>20210101</td>\n",
       "      <td>NaN</td>\n",
       "      <td>0</td>\n",
       "      <td>ST-402</td>\n",
       "      <td>ST-597</td>\n",
       "      <td>2</td>\n",
       "      <td>62</td>\n",
       "      <td>7122.56</td>\n",
       "    </tr>\n",
       "    <tr>\n",
       "      <th>4</th>\n",
       "      <td>20210101</td>\n",
       "      <td>NaN</td>\n",
       "      <td>0</td>\n",
       "      <td>ST-386</td>\n",
       "      <td>ST-2331</td>\n",
       "      <td>1</td>\n",
       "      <td>13</td>\n",
       "      <td>2244.83</td>\n",
       "    </tr>\n",
       "  </tbody>\n",
       "</table>\n",
       "</div>"
      ],
      "text/plain": [
       "      기준_날짜  집계_기준  기준_시간대 시작_대여소_ID 종료_대여소_ID  전체_건수  전체_이용_분  전체_이용_거리\n",
       "0  20210101    NaN       0    ST-461   ST-1482      1        9   1549.75\n",
       "1  20210101    NaN       0   ST-2309   ST-1661      1       20      0.00\n",
       "2  20210101    NaN       0   ST-1062   ST-1647      1        7      0.00\n",
       "3  20210101    NaN       0    ST-402    ST-597      2       62   7122.56\n",
       "4  20210101    NaN       0    ST-386   ST-2331      1       13   2244.83"
      ]
     },
     "execution_count": 24,
     "metadata": {},
     "output_type": "execute_result"
    },
    {
     "name": "stderr",
     "output_type": "stream",
     "text": [
      "C:\\Users\\user\\anaconda3\\Lib\\site-packages\\dask\\dataframe\\io\\csv.py:195: DtypeWarning: Columns (1) have mixed types. Specify dtype option on import or set low_memory=False.\n",
      "  df = reader(bio, **kwargs)\n"
     ]
    }
   ],
   "source": [
    "df_rtn.head()"
   ]
  },
  {
   "cell_type": "code",
   "execution_count": 14,
   "id": "f54027a8-b16c-4ada-9d23-e070a94640c8",
   "metadata": {},
   "outputs": [
    {
     "data": {
      "text/plain": [
       "5132"
      ]
     },
     "execution_count": 14,
     "metadata": {},
     "output_type": "execute_result"
    }
   ],
   "source": [
    "import gc\n",
    "del df_rtn\n",
    "gc.collect()"
   ]
  },
  {
   "cell_type": "code",
   "execution_count": 22,
   "id": "556ffa1f-e666-44f3-900b-63b9bf5d7d14",
   "metadata": {},
   "outputs": [],
   "source": [
    "filepath = 'G:\\\\내 드라이브\\\\DataSet\\\\_최종 병합 파일\\\\서울시 따릉이 대여소별 대여 반납 승객수 정보\\\\'\n",
    "filename = 'tpss_bcycl_od_statnhm_2024'\n",
    "path = filepath + filename + '.csv'\n",
    "\n",
    "df_rtn = er.Read_dask(path)\n",
    "df_rtn = df_rtn.compute()\n",
    "df_rtn.to_parquet(filepath + 'parquet\\\\' + filename + '.parquet', index=False)"
   ]
  },
  {
   "cell_type": "markdown",
   "id": "4c2c5cea-0c1f-4fdc-a1d7-00b6f88e267f",
   "metadata": {},
   "source": [
    "### parquet 자료형 저장"
   ]
  },
  {
   "cell_type": "code",
   "execution_count": 32,
   "id": "6d440c93-267b-4900-b255-1214e605bfe1",
   "metadata": {},
   "outputs": [],
   "source": [
    "df_rtn.to_parquet(filepath + 'parquet\\\\' + filename + '.parquet', index=False)"
   ]
  },
  {
   "cell_type": "code",
   "execution_count": null,
   "id": "303b6651-f7e5-4e11-b79b-63b0bed987af",
   "metadata": {},
   "outputs": [],
   "source": [
    "df_rtn.to_parquet(r'C:\\Users\\user\\Desktop\\나따릉이/생활이동21.12.parquet', index=False)\n",
    "df_rtn.to_parquet(r'C:\\Users\\user\\Desktop\\나따릉이/생활이동21.12-gzip.parquet', index=False, compression = 'gzip')"
   ]
  },
  {
   "cell_type": "code",
   "execution_count": 16,
   "id": "fb3af88c-a48a-40e5-8b37-032d21b68db9",
   "metadata": {},
   "outputs": [
    {
     "data": {
      "text/plain": [
       "'G:\\\\내 드라이브\\\\DataSet\\\\_최종 병합 파일\\\\서울시 따릉이 대여소별 대여 반납 승객수 정보\\\\parquet\\\\tpss_bcycl_od_statnhm_2023.parquet'"
      ]
     },
     "execution_count": 16,
     "metadata": {},
     "output_type": "execute_result"
    }
   ],
   "source": [
    "filepath + 'parquet\\\\' + filename + '.parquet'"
   ]
  },
  {
   "cell_type": "markdown",
   "id": "e8a4d2f9-c71f-4fe3-869a-6deff69d8755",
   "metadata": {},
   "source": [
    "### parquet 자료형 읽기"
   ]
  },
  {
   "cell_type": "code",
   "execution_count": 18,
   "id": "43f3f618-b678-40f3-9f6f-75396ebf57aa",
   "metadata": {},
   "outputs": [],
   "source": [
    "df_parquet = pd.read_parquet(filepath + 'parquet\\\\' + filename + '.parquet')"
   ]
  },
  {
   "cell_type": "code",
   "execution_count": 20,
   "id": "99e806c7-a6ab-4a7b-95d7-5266be2eb065",
   "metadata": {},
   "outputs": [
    {
     "data": {
      "text/html": [
       "<div>\n",
       "<style scoped>\n",
       "    .dataframe tbody tr th:only-of-type {\n",
       "        vertical-align: middle;\n",
       "    }\n",
       "\n",
       "    .dataframe tbody tr th {\n",
       "        vertical-align: top;\n",
       "    }\n",
       "\n",
       "    .dataframe thead th {\n",
       "        text-align: right;\n",
       "    }\n",
       "</style>\n",
       "<table border=\"1\" class=\"dataframe\">\n",
       "  <thead>\n",
       "    <tr style=\"text-align: right;\">\n",
       "      <th></th>\n",
       "      <th>기준_날짜</th>\n",
       "      <th>집계_기준</th>\n",
       "      <th>기준_시간대</th>\n",
       "      <th>시작_대여소_ID</th>\n",
       "      <th>종료_대여소_ID</th>\n",
       "      <th>전체_건수</th>\n",
       "      <th>전체_이용_분</th>\n",
       "      <th>전체_이용_거리</th>\n",
       "    </tr>\n",
       "  </thead>\n",
       "  <tbody>\n",
       "    <tr>\n",
       "      <th>0</th>\n",
       "      <td>20230602</td>\n",
       "      <td>출발시간</td>\n",
       "      <td>0</td>\n",
       "      <td>ST-1305</td>\n",
       "      <td>ST-1305</td>\n",
       "      <td>1</td>\n",
       "      <td>0</td>\n",
       "      <td>0</td>\n",
       "    </tr>\n",
       "    <tr>\n",
       "      <th>1</th>\n",
       "      <td>20230602</td>\n",
       "      <td>출발시간</td>\n",
       "      <td>0</td>\n",
       "      <td>ST-1449</td>\n",
       "      <td>ST-1449</td>\n",
       "      <td>1</td>\n",
       "      <td>0</td>\n",
       "      <td>0</td>\n",
       "    </tr>\n",
       "    <tr>\n",
       "      <th>2</th>\n",
       "      <td>20230602</td>\n",
       "      <td>출발시간</td>\n",
       "      <td>0</td>\n",
       "      <td>ST-1923</td>\n",
       "      <td>ST-1923</td>\n",
       "      <td>1</td>\n",
       "      <td>0</td>\n",
       "      <td>0</td>\n",
       "    </tr>\n",
       "    <tr>\n",
       "      <th>3</th>\n",
       "      <td>20230602</td>\n",
       "      <td>출발시간</td>\n",
       "      <td>0</td>\n",
       "      <td>ST-2285</td>\n",
       "      <td>ST-2285</td>\n",
       "      <td>1</td>\n",
       "      <td>0</td>\n",
       "      <td>0</td>\n",
       "    </tr>\n",
       "    <tr>\n",
       "      <th>4</th>\n",
       "      <td>20230602</td>\n",
       "      <td>출발시간</td>\n",
       "      <td>0</td>\n",
       "      <td>ST-2294</td>\n",
       "      <td>ST-2294</td>\n",
       "      <td>1</td>\n",
       "      <td>0</td>\n",
       "      <td>0</td>\n",
       "    </tr>\n",
       "  </tbody>\n",
       "</table>\n",
       "</div>"
      ],
      "text/plain": [
       "      기준_날짜 집계_기준  기준_시간대 시작_대여소_ID 종료_대여소_ID  전체_건수  전체_이용_분  전체_이용_거리\n",
       "0  20230602  출발시간       0   ST-1305   ST-1305      1        0         0\n",
       "1  20230602  출발시간       0   ST-1449   ST-1449      1        0         0\n",
       "2  20230602  출발시간       0   ST-1923   ST-1923      1        0         0\n",
       "3  20230602  출발시간       0   ST-2285   ST-2285      1        0         0\n",
       "4  20230602  출발시간       0   ST-2294   ST-2294      1        0         0"
      ]
     },
     "execution_count": 20,
     "metadata": {},
     "output_type": "execute_result"
    }
   ],
   "source": [
    "df_parquet.head()"
   ]
  },
  {
   "cell_type": "code",
   "execution_count": null,
   "id": "3b3b12c8-52b6-413f-b51e-bd8b65abf285",
   "metadata": {},
   "outputs": [],
   "source": []
  }
 ],
 "metadata": {
  "kernelspec": {
   "display_name": "Python 3 (ipykernel)",
   "language": "python",
   "name": "python3"
  },
  "language_info": {
   "codemirror_mode": {
    "name": "ipython",
    "version": 3
   },
   "file_extension": ".py",
   "mimetype": "text/x-python",
   "name": "python",
   "nbconvert_exporter": "python",
   "pygments_lexer": "ipython3",
   "version": "3.12.4"
  }
 },
 "nbformat": 4,
 "nbformat_minor": 5
}
