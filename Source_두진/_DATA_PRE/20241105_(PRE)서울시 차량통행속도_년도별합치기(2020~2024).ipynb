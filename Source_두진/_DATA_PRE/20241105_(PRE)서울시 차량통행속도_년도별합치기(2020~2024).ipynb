{
 "cells": [
  {
   "cell_type": "markdown",
   "id": "RjNQbeqfUJo2",
   "metadata": {
    "id": "RjNQbeqfUJo2"
   },
   "source": [
    "### 기본 라이브러리 불러오기"
   ]
  },
  {
   "cell_type": "code",
   "execution_count": 1,
   "id": "6d53b67a-0b7a-4841-bf76-f9d816a6b9d3",
   "metadata": {
    "id": "6d53b67a-0b7a-4841-bf76-f9d816a6b9d3"
   },
   "outputs": [],
   "source": [
    "# 라이브러리 임포트\n",
    "import os\n",
    "import pandas as pd\n",
    "import chardet\n",
    "\n",
    "# 사용자 정의함수 경로 설정\n",
    "import sys\n",
    "sys.path.append(\"G:/내 드라이브/Source/_Custom_Function\")\n",
    "# 사용자 정의함수 불러오기\n",
    "\n",
    "import time\n",
    "\n",
    "import ExcelFile_Merge as em\n",
    "import ExcelFile_Read as er\n",
    "import ExcelFile_EDA as ee"
   ]
  },
  {
   "cell_type": "code",
   "execution_count": null,
   "id": "3ef71e2e-57ac-44fc-b533-934e963c5f38",
   "metadata": {},
   "outputs": [],
   "source": [
    "df_sum = pd.DataFrame()"
   ]
  },
  {
   "cell_type": "code",
   "execution_count": null,
   "id": "494851d4-54b9-46c3-aa81-184df73c9f61",
   "metadata": {},
   "outputs": [],
   "source": [
    "# _years = ['2020', '2021', '2022', '2023', '2024']\n",
    "_years = ['2021']"
   ]
  },
  {
   "cell_type": "code",
   "execution_count": 2,
   "id": "6a05cd80-08d4-4ce5-a9cd-978ada99f21d",
   "metadata": {
    "id": "6a05cd80-08d4-4ce5-a9cd-978ada99f21d"
   },
   "outputs": [],
   "source": [
    "path_dateset = 'G:\\\\내 드라이브\\\\DataSet\\\\'\n",
    "path_sub = '서울시 차량통행속도(월별)\\\\'"
   ]
  },
  {
   "cell_type": "markdown",
   "id": "1addcfcd-f0f6-4e37-a29a-ecc257117ea1",
   "metadata": {
    "id": "1addcfcd-f0f6-4e37-a29a-ecc257117ea1"
   },
   "source": [
    "---\n",
    "### 서울시 차량통행속도"
   ]
  },
  {
   "cell_type": "markdown",
   "id": "3deddd82-81d5-41f3-852e-0cc53b9029af",
   "metadata": {},
   "source": [
    "- 2020년 1월 서울시 차량통행속도 ~ 2020년 12월 서울시 차량통행속도\n",
    "- 2021년 1월 서울시 차량통행속도 ~ 2021년 12월 서울시 차량통행속도\n",
    "- 2022년 1월 서울시 차량통행속도 ~ 2022년 12월 서울시 차량통행속도\n",
    "- 2023년 1월 서울시 차량통행속도 ~ 2023년 12월 서울시 차량통행속도\n",
    "- 2024년 1월 서울시 차량통행속도 ~ 2024년 12월 서울시 차량통행속도"
   ]
  },
  {
   "cell_type": "code",
   "execution_count": null,
   "id": "f00a54b0-c709-4cc9-8281-9e2ece9e4c3b",
   "metadata": {
    "id": "f00a54b0-c709-4cc9-8281-9e2ece9e4c3b",
    "outputId": "59da9961-7a77-4229-fd34-5f28f7fa7c1f"
   },
   "outputs": [],
   "source": [
    "for cnt, _year in enumerate(_years):\n",
    "    \n",
    "    path = path_dateset + path_sub + _year + '\\\\'\n",
    "    savefile = '서울시_차량통행속도_' + _year   # Ex) 서울시_차량통행속도_2024\n",
    "    print(f'path : {path}, savefile : {savefile}')\n",
    "    \n",
    "    # 파일 경로명 변경\n",
    "    file_list = os.listdir(path)\n",
    "    file_lists = [file for file in file_list if file.endswith((\".csv\", \".xlsx\"))]\n",
    "    file_lists.sort()\n",
    "    print('file_lists : \\n', '\\n '.join(file_lists))\n",
    "    print('===========================================')\n",
    "\n",
    "    # try:\n",
    "    for _, filename in enumerate(file_lists):        \n",
    "        print('filename : ', filename + ', encoding : ', em.Get_ExcelEncoding(path + filename))\n",
    "        start_time_full = time.time()\n",
    "\n",
    "        # 서울 생활이동 데이터 불러오기\n",
    "        start_time = time.time()\n",
    "        print('path + filename : ', path + filename)\n",
    "        \n",
    "        dask =  pd.read_excel(path + filename)\n",
    "        print(\"Read_dask(\" + filename + \") time :\", time.time() - start_time)\n",
    "\n",
    "        df_dask_rtn = dask\n",
    "        del dask  # 메모리 정리\n",
    "        \n",
    "        df_sum = pd.concat([df_dask_rtn, df_sum], axis = 0)\n",
    "        del df_dask_rtn  # 메모리 정리\n",
    "\n",
    "    # for문 종료 후, 실행\n",
    "    df_sum.to_parquet(path + savefile + '.parquet', index=False)\n",
    "    del df_sum\n",
    "    \n",
    "    # except:\n",
    "    #     print('- Err : ', savefile)  \n",
    "    "
   ]
  },
  {
   "cell_type": "markdown",
   "id": "6ab8de91",
   "metadata": {},
   "source": [
    "---\n",
    "# 데이터 추가병합 (20~ 24년 출/퇴근 기준으로 병합)"
   ]
  },
  {
   "cell_type": "code",
   "execution_count": 3,
   "id": "e4e4b334-7f1e-475b-bb06-aca304d87349",
   "metadata": {},
   "outputs": [
    {
     "name": "stdout",
     "output_type": "stream",
     "text": [
      "read_csv time : 8.27233624458313\n"
     ]
    }
   ],
   "source": [
    "start_time = time.time()\n",
    "df_BikeRent_2020 = pd.read_parquet('G:\\\\내 드라이브\\\\DataSet\\\\서울시 차량통행속도(월별)\\\\병합_년별\\\\서울시_차량통행속도_2020.parquet')\n",
    "df_BikeRent_2021 = pd.read_parquet('G:\\\\내 드라이브\\\\DataSet\\\\서울시 차량통행속도(월별)\\\\병합_년별\\\\서울시_차량통행속도_2021.parquet')\n",
    "df_BikeRent_2022 = pd.read_parquet('G:\\\\내 드라이브\\\\DataSet\\\\서울시 차량통행속도(월별)\\\\병합_년별\\\\서울시_차량통행속도_2022.parquet')\n",
    "df_BikeRent_2023 = pd.read_parquet('G:\\\\내 드라이브\\\\DataSet\\\\서울시 차량통행속도(월별)\\\\병합_년별\\\\서울시_차량통행속도_2023.parquet')\n",
    "df_BikeRent_2024 = pd.read_parquet('G:\\\\내 드라이브\\\\DataSet\\\\서울시 차량통행속도(월별)\\\\병합_년별\\\\서울시_차량통행속도_2024.parquet')\n",
    "print(\"read_csv time :\", time.time() - start_time)"
   ]
  },
  {
   "cell_type": "code",
   "execution_count": 4,
   "id": "5fd7e591",
   "metadata": {},
   "outputs": [
    {
     "data": {
      "text/plain": [
       "1673549"
      ]
     },
     "execution_count": 4,
     "metadata": {},
     "output_type": "execute_result"
    }
   ],
   "source": [
    "df_BikeRent_2020.shape[0]"
   ]
  },
  {
   "cell_type": "code",
   "execution_count": 5,
   "id": "d39eb7ae",
   "metadata": {},
   "outputs": [
    {
     "data": {
      "text/html": [
       "<div>\n",
       "<style scoped>\n",
       "    .dataframe tbody tr th:only-of-type {\n",
       "        vertical-align: middle;\n",
       "    }\n",
       "\n",
       "    .dataframe tbody tr th {\n",
       "        vertical-align: top;\n",
       "    }\n",
       "\n",
       "    .dataframe thead th {\n",
       "        text-align: right;\n",
       "    }\n",
       "</style>\n",
       "<table border=\"1\" class=\"dataframe\">\n",
       "  <thead>\n",
       "    <tr style=\"text-align: right;\">\n",
       "      <th></th>\n",
       "      <th>일자</th>\n",
       "      <th>요일</th>\n",
       "      <th>도로명</th>\n",
       "      <th>링크아이디</th>\n",
       "      <th>시점명</th>\n",
       "      <th>종점명</th>\n",
       "      <th>방향</th>\n",
       "      <th>거리</th>\n",
       "      <th>차선수</th>\n",
       "      <th>기능유형구분</th>\n",
       "      <th>...</th>\n",
       "      <th>15시</th>\n",
       "      <th>16시</th>\n",
       "      <th>17시</th>\n",
       "      <th>18시</th>\n",
       "      <th>19시</th>\n",
       "      <th>20시</th>\n",
       "      <th>21시</th>\n",
       "      <th>22시</th>\n",
       "      <th>23시</th>\n",
       "      <th>24시</th>\n",
       "    </tr>\n",
       "  </thead>\n",
       "  <tbody>\n",
       "    <tr>\n",
       "      <th>0</th>\n",
       "      <td>20200901</td>\n",
       "      <td>화</td>\n",
       "      <td>4.19로</td>\n",
       "      <td>1080012200</td>\n",
       "      <td>아카데미하우스</td>\n",
       "      <td>국립4.19묘지</td>\n",
       "      <td>상행</td>\n",
       "      <td>1179</td>\n",
       "      <td>1.0</td>\n",
       "      <td>보조간선도로</td>\n",
       "      <td>...</td>\n",
       "      <td>36.67</td>\n",
       "      <td>38.17</td>\n",
       "      <td>43.36</td>\n",
       "      <td>47.62</td>\n",
       "      <td>34.24</td>\n",
       "      <td>37.29</td>\n",
       "      <td>30.62</td>\n",
       "      <td>46.11</td>\n",
       "      <td>44.20</td>\n",
       "      <td>59.19</td>\n",
       "    </tr>\n",
       "    <tr>\n",
       "      <th>1</th>\n",
       "      <td>20200901</td>\n",
       "      <td>화</td>\n",
       "      <td>4.19로</td>\n",
       "      <td>1080012800</td>\n",
       "      <td>국립4.19묘지</td>\n",
       "      <td>국립4.19묘지입구</td>\n",
       "      <td>상행</td>\n",
       "      <td>352</td>\n",
       "      <td>2.0</td>\n",
       "      <td>보조간선도로</td>\n",
       "      <td>...</td>\n",
       "      <td>11.22</td>\n",
       "      <td>10.66</td>\n",
       "      <td>10.81</td>\n",
       "      <td>9.31</td>\n",
       "      <td>9.00</td>\n",
       "      <td>12.08</td>\n",
       "      <td>12.77</td>\n",
       "      <td>16.94</td>\n",
       "      <td>16.43</td>\n",
       "      <td>16.02</td>\n",
       "    </tr>\n",
       "    <tr>\n",
       "      <th>2</th>\n",
       "      <td>20200901</td>\n",
       "      <td>화</td>\n",
       "      <td>4.19로</td>\n",
       "      <td>1080012700</td>\n",
       "      <td>국립4.19묘지입구</td>\n",
       "      <td>국립4.19묘지</td>\n",
       "      <td>하행</td>\n",
       "      <td>354</td>\n",
       "      <td>2.0</td>\n",
       "      <td>보조간선도로</td>\n",
       "      <td>...</td>\n",
       "      <td>21.38</td>\n",
       "      <td>20.95</td>\n",
       "      <td>24.90</td>\n",
       "      <td>22.15</td>\n",
       "      <td>18.85</td>\n",
       "      <td>17.36</td>\n",
       "      <td>19.45</td>\n",
       "      <td>19.99</td>\n",
       "      <td>25.99</td>\n",
       "      <td>29.09</td>\n",
       "    </tr>\n",
       "    <tr>\n",
       "      <th>3</th>\n",
       "      <td>20200901</td>\n",
       "      <td>화</td>\n",
       "      <td>4.19로</td>\n",
       "      <td>1080012100</td>\n",
       "      <td>국립4.19묘지</td>\n",
       "      <td>아카데미하우스</td>\n",
       "      <td>하행</td>\n",
       "      <td>1190</td>\n",
       "      <td>1.0</td>\n",
       "      <td>보조간선도로</td>\n",
       "      <td>...</td>\n",
       "      <td>43.59</td>\n",
       "      <td>44.07</td>\n",
       "      <td>62.28</td>\n",
       "      <td>61.14</td>\n",
       "      <td>47.81</td>\n",
       "      <td>50.33</td>\n",
       "      <td>46.09</td>\n",
       "      <td>49.38</td>\n",
       "      <td>51.10</td>\n",
       "      <td>39.82</td>\n",
       "    </tr>\n",
       "    <tr>\n",
       "      <th>4</th>\n",
       "      <td>20200901</td>\n",
       "      <td>화</td>\n",
       "      <td>가락로</td>\n",
       "      <td>1230024700</td>\n",
       "      <td>방이초교</td>\n",
       "      <td>방이동고분군</td>\n",
       "      <td>상행</td>\n",
       "      <td>844</td>\n",
       "      <td>1.0</td>\n",
       "      <td>기타도로</td>\n",
       "      <td>...</td>\n",
       "      <td>13.02</td>\n",
       "      <td>15.21</td>\n",
       "      <td>14.10</td>\n",
       "      <td>14.69</td>\n",
       "      <td>14.11</td>\n",
       "      <td>14.40</td>\n",
       "      <td>15.19</td>\n",
       "      <td>15.06</td>\n",
       "      <td>15.15</td>\n",
       "      <td>17.67</td>\n",
       "    </tr>\n",
       "  </tbody>\n",
       "</table>\n",
       "<p>5 rows × 36 columns</p>\n",
       "</div>"
      ],
      "text/plain": [
       "         일자 요일    도로명       링크아이디         시점명         종점명  방향    거리  차선수  \\\n",
       "0  20200901  화  4.19로  1080012200     아카데미하우스    국립4.19묘지  상행  1179  1.0   \n",
       "1  20200901  화  4.19로  1080012800    국립4.19묘지  국립4.19묘지입구  상행   352  2.0   \n",
       "2  20200901  화  4.19로  1080012700  국립4.19묘지입구    국립4.19묘지  하행   354  2.0   \n",
       "3  20200901  화  4.19로  1080012100    국립4.19묘지     아카데미하우스  하행  1190  1.0   \n",
       "4  20200901  화    가락로  1230024700        방이초교      방이동고분군  상행   844  1.0   \n",
       "\n",
       "   기능유형구분  ...    15시    16시    17시    18시    19시    20시    21시    22시    23시  \\\n",
       "0  보조간선도로  ...  36.67  38.17  43.36  47.62  34.24  37.29  30.62  46.11  44.20   \n",
       "1  보조간선도로  ...  11.22  10.66  10.81   9.31   9.00  12.08  12.77  16.94  16.43   \n",
       "2  보조간선도로  ...  21.38  20.95  24.90  22.15  18.85  17.36  19.45  19.99  25.99   \n",
       "3  보조간선도로  ...  43.59  44.07  62.28  61.14  47.81  50.33  46.09  49.38  51.10   \n",
       "4    기타도로  ...  13.02  15.21  14.10  14.69  14.11  14.40  15.19  15.06  15.15   \n",
       "\n",
       "     24시  \n",
       "0  59.19  \n",
       "1  16.02  \n",
       "2  29.09  \n",
       "3  39.82  \n",
       "4  17.67  \n",
       "\n",
       "[5 rows x 36 columns]"
      ]
     },
     "execution_count": 5,
     "metadata": {},
     "output_type": "execute_result"
    }
   ],
   "source": [
    "df_BikeRent_2020.head()"
   ]
  },
  {
   "cell_type": "code",
   "execution_count": 6,
   "id": "c90b874e",
   "metadata": {},
   "outputs": [
    {
     "name": "stdout",
     "output_type": "stream",
     "text": [
      "<class 'pandas.core.frame.DataFrame'>\n",
      "RangeIndex: 1673549 entries, 0 to 1673548\n",
      "Data columns (total 36 columns):\n",
      " #   Column   Non-Null Count    Dtype  \n",
      "---  ------   --------------    -----  \n",
      " 0   일자       1673549 non-null  int64  \n",
      " 1   요일       1673549 non-null  object \n",
      " 2   도로명      1673549 non-null  object \n",
      " 3   링크아이디    1673549 non-null  int64  \n",
      " 4   시점명      1669805 non-null  object \n",
      " 5   종점명      1669805 non-null  object \n",
      " 6   방향       1673549 non-null  object \n",
      " 7   거리       1673549 non-null  int64  \n",
      " 8   차선수      1672712 non-null  float64\n",
      " 9   기능유형구분   1673549 non-null  object \n",
      " 10  도심/외곽구분  1673549 non-null  object \n",
      " 11  권역구분     1673549 non-null  object \n",
      " 12  01시      1663437 non-null  float64\n",
      " 13  02시      1663422 non-null  float64\n",
      " 14  03시      1663257 non-null  float64\n",
      " 15  04시      1658299 non-null  float64\n",
      " 16  05시      1653353 non-null  float64\n",
      " 17  06시      1657794 non-null  float64\n",
      " 18  07시      1662921 non-null  float64\n",
      " 19  08시      1667811 non-null  float64\n",
      " 20  09시      1672815 non-null  float64\n",
      " 21  10시      1672890 non-null  float64\n",
      " 22  11시      1672904 non-null  float64\n",
      " 23  12시      1672821 non-null  float64\n",
      " 24  13시      1672891 non-null  float64\n",
      " 25  14시      1672938 non-null  float64\n",
      " 26  15시      1672766 non-null  float64\n",
      " 27  16시      1672767 non-null  float64\n",
      " 28  17시      1672822 non-null  float64\n",
      " 29  18시      1672821 non-null  float64\n",
      " 30  19시      1673056 non-null  float64\n",
      " 31  20시      1672899 non-null  float64\n",
      " 32  21시      1663342 non-null  float64\n",
      " 33  22시      1663483 non-null  float64\n",
      " 34  23시      1663452 non-null  float64\n",
      " 35  24시      1663623 non-null  float64\n",
      "dtypes: float64(25), int64(3), object(8)\n",
      "memory usage: 459.7+ MB\n"
     ]
    }
   ],
   "source": [
    "df_BikeRent_2020.info()"
   ]
  },
  {
   "cell_type": "code",
   "execution_count": 7,
   "id": "fc9334e0",
   "metadata": {},
   "outputs": [
    {
     "data": {
      "text/plain": [
       "요일\n",
       "수    240094\n",
       "금    240078\n",
       "일    240077\n",
       "토    240066\n",
       "목    240058\n",
       "월    237841\n",
       "화    235335\n",
       "Name: count, dtype: int64"
      ]
     },
     "execution_count": 7,
     "metadata": {},
     "output_type": "execute_result"
    }
   ],
   "source": [
    "df_BikeRent_2020['요일'].value_counts()"
   ]
  },
  {
   "cell_type": "code",
   "execution_count": 8,
   "id": "49ea9e44",
   "metadata": {},
   "outputs": [],
   "source": [
    "pd.set_option('display.max_columns', None)"
   ]
  },
  {
   "cell_type": "code",
   "execution_count": null,
   "id": "e797d7d7",
   "metadata": {},
   "outputs": [],
   "source": [
    "#df_BikeRent_2024.columns\n",
    "\n",
    "# _columns = ['01시', '02시', '03시', '04시', '05시', '06시', '07시', '08시', '09시', '10시',\n",
    "#        '11시', '12시', '13시', '14시', '15시', '16시', '17시', '18시', '19시', '20시',\n",
    "#        '21시', '22시', '23시', '24시']\n",
    "# df_BikeRent_2024 = df_BikeRent_2024.drop(_columns, axis=1)\n",
    "\n",
    "# df_BikeRent_2024 = df_BikeRent_2024.rename(columns={'~01시': '01시', '~02시': '02시', '~03시': '03시', '~04시': '04시', '~05시': '05시', \n",
    "#                                                     '~06시': '06시', '~07시': '07시', '~08시': '08시', '~09시': '09시', '~10시': '10시', \n",
    "#                                                     '~11시': '11시', '~12시': '12시', '~13시': '13시', '~14시': '14시', '~15시': '15시', \n",
    "#                                                     '~16시': '16시', '~17시': '17시', '~18시': '18시', '~19시': '19시', '~20시': '20시', \n",
    "#                                                     '~21시': '21시', '~22시': '22시', '~23시': '23시', '~24시': '24시', })\n",
    "#df_BikeRent_2024.to_parquet('G:\\\\내 드라이브\\\\DataSet\\\\서울시 차량통행속도(월별)\\\\병합_년별\\\\서울시_차량통행속도_2024.parquet', index=False)"
   ]
  },
  {
   "cell_type": "code",
   "execution_count": 9,
   "id": "43838911",
   "metadata": {},
   "outputs": [
    {
     "data": {
      "text/html": [
       "<div>\n",
       "<style scoped>\n",
       "    .dataframe tbody tr th:only-of-type {\n",
       "        vertical-align: middle;\n",
       "    }\n",
       "\n",
       "    .dataframe tbody tr th {\n",
       "        vertical-align: top;\n",
       "    }\n",
       "\n",
       "    .dataframe thead th {\n",
       "        text-align: right;\n",
       "    }\n",
       "</style>\n",
       "<table border=\"1\" class=\"dataframe\">\n",
       "  <thead>\n",
       "    <tr style=\"text-align: right;\">\n",
       "      <th></th>\n",
       "      <th>일자</th>\n",
       "      <th>요일</th>\n",
       "      <th>도로명</th>\n",
       "      <th>링크아이디</th>\n",
       "      <th>시점명</th>\n",
       "      <th>종점명</th>\n",
       "      <th>방향</th>\n",
       "      <th>거리</th>\n",
       "      <th>차선수</th>\n",
       "      <th>기능유형구분</th>\n",
       "      <th>도심/외곽구분</th>\n",
       "      <th>권역구분</th>\n",
       "      <th>01시</th>\n",
       "      <th>02시</th>\n",
       "      <th>03시</th>\n",
       "      <th>04시</th>\n",
       "      <th>05시</th>\n",
       "      <th>06시</th>\n",
       "      <th>07시</th>\n",
       "      <th>08시</th>\n",
       "      <th>09시</th>\n",
       "      <th>10시</th>\n",
       "      <th>11시</th>\n",
       "      <th>12시</th>\n",
       "      <th>13시</th>\n",
       "      <th>14시</th>\n",
       "      <th>15시</th>\n",
       "      <th>16시</th>\n",
       "      <th>17시</th>\n",
       "      <th>18시</th>\n",
       "      <th>19시</th>\n",
       "      <th>20시</th>\n",
       "      <th>21시</th>\n",
       "      <th>22시</th>\n",
       "      <th>23시</th>\n",
       "      <th>24시</th>\n",
       "    </tr>\n",
       "  </thead>\n",
       "  <tbody>\n",
       "    <tr>\n",
       "      <th>0</th>\n",
       "      <td>20240901</td>\n",
       "      <td>일</td>\n",
       "      <td>4.19로</td>\n",
       "      <td>1080012200</td>\n",
       "      <td>아카데미하우스</td>\n",
       "      <td>국립4.19묘지</td>\n",
       "      <td>상행</td>\n",
       "      <td>1179</td>\n",
       "      <td>1</td>\n",
       "      <td>보조간선도로</td>\n",
       "      <td>외곽</td>\n",
       "      <td>강북구</td>\n",
       "      <td>46.35</td>\n",
       "      <td>41.84</td>\n",
       "      <td>48.43</td>\n",
       "      <td>57.67</td>\n",
       "      <td>44.61</td>\n",
       "      <td>37.18</td>\n",
       "      <td>42.80</td>\n",
       "      <td>44.45</td>\n",
       "      <td>35.04</td>\n",
       "      <td>36.71</td>\n",
       "      <td>40.81</td>\n",
       "      <td>39.74</td>\n",
       "      <td>35.38</td>\n",
       "      <td>27.05</td>\n",
       "      <td>31.10</td>\n",
       "      <td>28.31</td>\n",
       "      <td>29.22</td>\n",
       "      <td>32.31</td>\n",
       "      <td>28.59</td>\n",
       "      <td>35.42</td>\n",
       "      <td>28.63</td>\n",
       "      <td>51.61</td>\n",
       "      <td>44.03</td>\n",
       "      <td>51.40</td>\n",
       "    </tr>\n",
       "    <tr>\n",
       "      <th>1</th>\n",
       "      <td>20240901</td>\n",
       "      <td>일</td>\n",
       "      <td>4.19로</td>\n",
       "      <td>1080012800</td>\n",
       "      <td>국립4.19묘지</td>\n",
       "      <td>국립4.19묘지입구</td>\n",
       "      <td>상행</td>\n",
       "      <td>352</td>\n",
       "      <td>1</td>\n",
       "      <td>보조간선도로</td>\n",
       "      <td>외곽</td>\n",
       "      <td>강북구</td>\n",
       "      <td>24.47</td>\n",
       "      <td>24.93</td>\n",
       "      <td>20.45</td>\n",
       "      <td>24.22</td>\n",
       "      <td>18.22</td>\n",
       "      <td>18.69</td>\n",
       "      <td>19.03</td>\n",
       "      <td>12.37</td>\n",
       "      <td>13.67</td>\n",
       "      <td>15.41</td>\n",
       "      <td>16.97</td>\n",
       "      <td>12.37</td>\n",
       "      <td>15.75</td>\n",
       "      <td>13.25</td>\n",
       "      <td>11.23</td>\n",
       "      <td>12.31</td>\n",
       "      <td>12.36</td>\n",
       "      <td>13.20</td>\n",
       "      <td>14.31</td>\n",
       "      <td>18.20</td>\n",
       "      <td>15.83</td>\n",
       "      <td>18.15</td>\n",
       "      <td>25.56</td>\n",
       "      <td>19.72</td>\n",
       "    </tr>\n",
       "  </tbody>\n",
       "</table>\n",
       "</div>"
      ],
      "text/plain": [
       "         일자 요일    도로명       링크아이디       시점명         종점명  방향    거리  차선수  \\\n",
       "0  20240901  일  4.19로  1080012200   아카데미하우스    국립4.19묘지  상행  1179    1   \n",
       "1  20240901  일  4.19로  1080012800  국립4.19묘지  국립4.19묘지입구  상행   352    1   \n",
       "\n",
       "   기능유형구분 도심/외곽구분 권역구분    01시    02시    03시    04시    05시    06시    07시  \\\n",
       "0  보조간선도로      외곽  강북구  46.35  41.84  48.43  57.67  44.61  37.18  42.80   \n",
       "1  보조간선도로      외곽  강북구  24.47  24.93  20.45  24.22  18.22  18.69  19.03   \n",
       "\n",
       "     08시    09시    10시    11시    12시    13시    14시    15시    16시    17시  \\\n",
       "0  44.45  35.04  36.71  40.81  39.74  35.38  27.05  31.10  28.31  29.22   \n",
       "1  12.37  13.67  15.41  16.97  12.37  15.75  13.25  11.23  12.31  12.36   \n",
       "\n",
       "     18시    19시    20시    21시    22시    23시    24시  \n",
       "0  32.31  28.59  35.42  28.63  51.61  44.03  51.40  \n",
       "1  13.20  14.31  18.20  15.83  18.15  25.56  19.72  "
      ]
     },
     "execution_count": 9,
     "metadata": {},
     "output_type": "execute_result"
    }
   ],
   "source": [
    "df_BikeRent_2024.head(2)"
   ]
  },
  {
   "cell_type": "markdown",
   "id": "33d42365",
   "metadata": {},
   "source": [
    "---\n",
    "### 출근_시, 퇴근_시 컬럼 추가"
   ]
  },
  {
   "cell_type": "code",
   "execution_count": 10,
   "id": "a18c11ba",
   "metadata": {},
   "outputs": [],
   "source": [
    "df_sum = pd.DataFrame()\n",
    "\n",
    "dfs = [df_BikeRent_2020, df_BikeRent_2021, df_BikeRent_2022, df_BikeRent_2023, df_BikeRent_2024]\n",
    "\n",
    "for df in dfs:\n",
    "    df_출근 = df_퇴근 = []\n",
    "\n",
    "    #print(df.columns)\n",
    "    # 20240101 => 2024\n",
    "    df['일자'] = df['일자'].astype(str)\n",
    "    df['대상연도'] = df['일자'].str.slice(start = 0, stop=4)\n",
    "\n",
    "    df['출근_시'] = df['07시'] + df['08시']    # 출근(07 ~ 09)\n",
    "    df['퇴근_시'] = df['17시'] + df['18시']    # 퇴근(17 ~ 19)\n",
    "\n",
    "    # 평일(월 ~ 금) 데이터만 가져오기\n",
    "    df = df[df['요일'].isin(['월', '화', '수', '목', '금'])]\n",
    "\n",
    "    df_출근 = df_퇴근 = df.groupby(['권역구분', '대상연도']).agg({'출근_시': 'mean', '퇴근_시': 'mean'}).reset_index()\n",
    "\n",
    "    df_출근['출퇴근'] = '출근'\n",
    "    df_출근 = df_출근.drop(['퇴근_시'], axis=1)\n",
    "    df_출근 = df_출근.rename(columns={'출근_시': '평균속도'})\n",
    "\n",
    "    df_퇴근['출퇴근'] = '퇴근'\n",
    "    df_퇴근 = df_퇴근.drop(['출근_시'], axis=1)\n",
    "    df_퇴근 = df_퇴근.rename(columns={'퇴근_시': '평균속도'})\n",
    "\n",
    "    df_출근 = df_출근[['대상연도', '출퇴근', '권역구분', '평균속도']]\n",
    "    df_퇴근 = df_퇴근[['대상연도', '출퇴근', '권역구분', '평균속도']]\n",
    "    \n",
    "    df_sum = pd.concat([df_sum, df_출근, df_퇴근], axis = 0)\n",
    "    del df_출근, df_퇴근  # 메모리 정리"
   ]
  },
  {
   "cell_type": "code",
   "execution_count": 22,
   "id": "197fcd47",
   "metadata": {},
   "outputs": [
    {
     "data": {
      "text/plain": [
       "대상연도    25\n",
       "출퇴근     25\n",
       "권역구분    25\n",
       "평균속도    25\n",
       "dtype: int64"
      ]
     },
     "execution_count": 22,
     "metadata": {},
     "output_type": "execute_result"
    }
   ],
   "source": [
    "cond1 = df_sum['대상연도'] == '2024'\n",
    "cond2 = df_sum['출퇴근'] == '퇴근'\n",
    "df_sum[cond1 & cond2].count()"
   ]
  },
  {
   "cell_type": "code",
   "execution_count": null,
   "id": "e6c4d16e",
   "metadata": {},
   "outputs": [],
   "source": [
    "df_sum.to_parquet('G:\\\\내 드라이브\\\\DataSet\\\\_파킷 파일\\\\연도별  자치구별 서울시_차량통행속도_2020_2024.parquet', index=False)"
   ]
  },
  {
   "cell_type": "code",
   "execution_count": null,
   "id": "72deadd2",
   "metadata": {},
   "outputs": [
    {
     "name": "stdout",
     "output_type": "stream",
     "text": [
      "read_csv time : 0.11508965492248535\n"
     ]
    },
    {
     "data": {
      "text/html": [
       "<div>\n",
       "<style scoped>\n",
       "    .dataframe tbody tr th:only-of-type {\n",
       "        vertical-align: middle;\n",
       "    }\n",
       "\n",
       "    .dataframe tbody tr th {\n",
       "        vertical-align: top;\n",
       "    }\n",
       "\n",
       "    .dataframe thead th {\n",
       "        text-align: right;\n",
       "    }\n",
       "</style>\n",
       "<table border=\"1\" class=\"dataframe\">\n",
       "  <thead>\n",
       "    <tr style=\"text-align: right;\">\n",
       "      <th></th>\n",
       "      <th>대상연도</th>\n",
       "      <th>출퇴근</th>\n",
       "      <th>권역구분</th>\n",
       "      <th>평균속도</th>\n",
       "    </tr>\n",
       "  </thead>\n",
       "  <tbody>\n",
       "    <tr>\n",
       "      <th>0</th>\n",
       "      <td>2020</td>\n",
       "      <td>출근</td>\n",
       "      <td>강남구</td>\n",
       "      <td>64.142934</td>\n",
       "    </tr>\n",
       "    <tr>\n",
       "      <th>1</th>\n",
       "      <td>2020</td>\n",
       "      <td>출근</td>\n",
       "      <td>강동구</td>\n",
       "      <td>53.637487</td>\n",
       "    </tr>\n",
       "    <tr>\n",
       "      <th>2</th>\n",
       "      <td>2020</td>\n",
       "      <td>출근</td>\n",
       "      <td>강북구</td>\n",
       "      <td>49.646329</td>\n",
       "    </tr>\n",
       "    <tr>\n",
       "      <th>3</th>\n",
       "      <td>2020</td>\n",
       "      <td>출근</td>\n",
       "      <td>강서구</td>\n",
       "      <td>56.206727</td>\n",
       "    </tr>\n",
       "    <tr>\n",
       "      <th>4</th>\n",
       "      <td>2020</td>\n",
       "      <td>출근</td>\n",
       "      <td>관악구</td>\n",
       "      <td>63.636772</td>\n",
       "    </tr>\n",
       "  </tbody>\n",
       "</table>\n",
       "</div>"
      ],
      "text/plain": [
       "   대상연도 출퇴근 권역구분       평균속도\n",
       "0  2020  출근  강남구  64.142934\n",
       "1  2020  출근  강동구  53.637487\n",
       "2  2020  출근  강북구  49.646329\n",
       "3  2020  출근  강서구  56.206727\n",
       "4  2020  출근  관악구  63.636772"
      ]
     },
     "execution_count": 24,
     "metadata": {},
     "output_type": "execute_result"
    }
   ],
   "source": [
    "start_time = time.time()\n",
    "df = pd.read_parquet('G:\\\\내 드라이브\\\\DataSet\\\\_파킷 파일\\\\연도별  자치구별 서울시_차량통행속도_2020_2024.parquet')\n",
    "print(\"read_csv time :\", time.time() - start_time)\n",
    "df.head()"
   ]
  },
  {
   "cell_type": "code",
   "execution_count": null,
   "id": "03a13eb9",
   "metadata": {},
   "outputs": [],
   "source": []
  }
 ],
 "metadata": {
  "colab": {
   "provenance": []
  },
  "kernelspec": {
   "display_name": "base",
   "language": "python",
   "name": "python3"
  },
  "language_info": {
   "codemirror_mode": {
    "name": "ipython",
    "version": 3
   },
   "file_extension": ".py",
   "mimetype": "text/x-python",
   "name": "python",
   "nbconvert_exporter": "python",
   "pygments_lexer": "ipython3",
   "version": "3.12.7"
  }
 },
 "nbformat": 4,
 "nbformat_minor": 5
}
