{
 "cells": [
  {
   "cell_type": "code",
   "execution_count": null,
   "id": "d59bd06d-a70c-4758-8e91-98f62aee37b1",
   "metadata": {},
   "outputs": [],
   "source": [
    "# 라이브러리 임포트\n",
    "import os\n",
    "import pandas as pd\n",
    "import chardet\n",
    "\n",
    "# 사용자 정의함수 경로 설정\n",
    "import sys\n",
    "sys.path.append(\"G:/내 드라이브/Source/_Custom_Function\")\n",
    "# 사용자 정의함수 불러오기\n",
    "\n",
    "import time\n",
    "\n",
    "import ExcelFile_Merge as em\n",
    "import ExcelFile_Read as er\n",
    "import ExcelFile_EDA as ee"
   ]
  },
  {
   "cell_type": "code",
   "execution_count": null,
   "id": "9333efa1-a18b-488f-853a-720001a6ca3c",
   "metadata": {},
   "outputs": [],
   "source": [
    "path_dateset = 'G:\\\\내 드라이브\\\\DataSet\\\\'\n",
    "path_sub = '서울특별시 대여소별 공공자전거 대여가능 수량(1시간 단위)\\\\23.04-23.12 (컬럼명 없음)\\\\'"
   ]
  },
  {
   "cell_type": "code",
   "execution_count": null,
   "id": "558db393-ab2e-40cd-9f70-802b8131358c",
   "metadata": {},
   "outputs": [],
   "source": [
    "path = path_dateset + path_sub\n",
    "print(f'path : {path}')\n",
    "\n",
    "# 파일 경로명 변경\n",
    "file_list = os.listdir(path)\n",
    "file_lists = [file for file in file_list if file.endswith((\".csv\", \".xlsx\"))]\n",
    "file_lists.sort()\n",
    "print('file_lists : \\n', '\\n '.join(file_lists))\n",
    "print('===========================================')\n",
    "\n",
    "for _, filename in enumerate(file_lists):\n",
    "    try:\n",
    "        print('filename : ', filename + ', encoding : ', em.Get_ExcelEncoding(path + filename))\n",
    "        start_time_full = time.time()\n",
    "    \n",
    "        start_time = time.time()\n",
    "        print('path + filename : ', path + filename)\n",
    "        \n",
    "        dask =  pd.Read_dask(path + filename)\n",
    "        print(\"Read_dask(\" + filename + \") time :\", time.time() - start_time)\n",
    "        \n",
    "        # 특정 열 기준으로 중복 확인\n",
    "        _columns = ['', '', '', '', '']\n",
    "        duplicates_column = df.duplicated(subset=[_columns])\n",
    "        print(duplicates_column)\n",
    "    except:\n",
    "        print('- Err : ', savefile)     "
   ]
  }
 ],
 "metadata": {
  "kernelspec": {
   "display_name": "Python 3 (ipykernel)",
   "language": "python",
   "name": "python3"
  },
  "language_info": {
   "codemirror_mode": {
    "name": "ipython",
    "version": 3
   },
   "file_extension": ".py",
   "mimetype": "text/x-python",
   "name": "python",
   "nbconvert_exporter": "python",
   "pygments_lexer": "ipython3",
   "version": "3.12.4"
  }
 },
 "nbformat": 4,
 "nbformat_minor": 5
}
