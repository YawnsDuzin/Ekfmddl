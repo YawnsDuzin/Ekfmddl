{
 "cells": [
  {
   "cell_type": "code",
   "execution_count": 2,
   "id": "2e69029a-b842-4f6b-9fc1-f213914c46c2",
   "metadata": {},
   "outputs": [],
   "source": [
    "# 라이브러리 임포트\n",
    "import os\n",
    "import numpy as np\n",
    "import pandas as pd\n",
    "import chardet\n",
    "\n",
    "# 사용자 정의함수 경로 설정\n",
    "import sys\n",
    "sys.path.append(\"G:/내 드라이브/Source/_Custom_Function\")\n",
    "# 사용자 정의함수 불러오기\n",
    "\n",
    "import time\n",
    "\n",
    "import ExcelFile_Merge as em\n",
    "import ExcelFile_Read as er\n",
    "import ExcelFile_EDA as ee"
   ]
  },
  {
   "cell_type": "code",
   "execution_count": 4,
   "id": "062687fa-c051-405d-b130-eec37c211c0d",
   "metadata": {},
   "outputs": [],
   "source": [
    "Default_path = 'G:\\\\내 드라이브\\\\DataSet\\\\서울특별시 대여소별 공공자전거 대여가능 수량(1시간 단위)\\\\'"
   ]
  },
  {
   "cell_type": "markdown",
   "id": "c8908337-10b8-419c-9eb3-054adbf69e0c",
   "metadata": {},
   "source": [
    "---\n",
    "### 경로 파일 체크\n",
    "- 22년"
   ]
  },
  {
   "cell_type": "code",
   "execution_count": 7,
   "id": "d37a56e7-13d7-499d-80fe-389e337edfcf",
   "metadata": {},
   "outputs": [],
   "source": [
    "Sub_path = '22년\\\\'"
   ]
  },
  {
   "cell_type": "markdown",
   "id": "b996f616-d5d5-4e07-a89d-db3bce9e9443",
   "metadata": {},
   "source": [
    "---\n",
    "### 컬럼 체크"
   ]
  },
  {
   "cell_type": "code",
   "execution_count": 9,
   "id": "a38edba0-1795-491e-8eaf-8b54812b66f0",
   "metadata": {},
   "outputs": [
    {
     "name": "stdout",
     "output_type": "stream",
     "text": [
      "file_path :  G:\\내 드라이브\\DataSet\\서울특별시 대여소별 공공자전거 대여가능 수량(1시간 단위)\\22년\\\n",
      "0  file :  22.01.csv\n",
      "columns :  일시,대여소번호,대여소명,시간대,거치대수량\n",
      "1  file :  22.02.csv\n",
      "columns :  일시,대여소번호,대여소명,시간대,거치대수량\n",
      "2  file :  22.03.csv\n",
      "columns :  일시,대여소번호,대여소명,시간대,거치대수량\n",
      "3  file :  22.04.csv\n",
      "columns :  일시,대여소번호,대여소명,시간대,거치대수량\n",
      "4  file :  22.05.csv\n",
      "columns :  일시,대여소번호,대여소명,시간대,거치대수량\n",
      "5  file :  22.06.csv\n",
      "columns :  일시,대여소번호,대여소명,시간대,거치대수량\n",
      "6  file :  22.07.csv\n",
      "columns :  일시,대여소번호,대여소명,시간대,거치대수량\n",
      "7  file :  22.08.csv\n",
      "columns :  일시,대여소번호,대여소명,시간대,거치대수량\n",
      "8  file :  22.09.csv\n",
      "columns :  일시,대여소번호,대여소명,시간대,거치대수량\n",
      "9  file :  22.10.csv\n",
      "columns :  일시,대여소번호,대여소명,시간대,거치대수량\n",
      "10  file :  22.11.csv\n",
      "columns :  일시,대여소번호,대여소명,시간대,거치대수량\n",
      "11  file :  22.12.csv\n",
      "columns :  일시,대여소번호,대여소명,시간대,거치대수량\n",
      "================================================================================\n",
      "O,O,O,O,O,O,O,O,O,O,O,O,O\n"
     ]
    }
   ],
   "source": [
    "er.Columns_Check(Default_path + Sub_path) "
   ]
  },
  {
   "cell_type": "markdown",
   "id": "80a40209-2fb9-44da-8e04-8570d2a06eae",
   "metadata": {},
   "source": [
    "---\n",
    "### 중복 체크"
   ]
  },
  {
   "cell_type": "code",
   "execution_count": 13,
   "id": "a4e6b06b-6aa0-4ba0-ac8e-d62557528e22",
   "metadata": {},
   "outputs": [
    {
     "name": "stdout",
     "output_type": "stream",
     "text": [
      "file_lists : \n",
      " 22.01.csv\n",
      " 22.02.csv\n",
      " 22.03.csv\n",
      " 22.04.csv\n",
      " 22.05.csv\n",
      " 22.06.csv\n",
      " 22.07.csv\n",
      " 22.08.csv\n",
      " 22.09.csv\n",
      " 22.10.csv\n",
      " 22.11.csv\n",
      " 22.12.csv\n",
      "===========================================\n",
      "===================================\n",
      "read_file - file_path :  G:\\내 드라이브\\DataSet\\서울특별시 대여소별 공공자전거 대여가능 수량(1시간 단위)\\22년\\22.01.csv , encoding :  EUC-KR\n",
      " - [중복] : 0 / 1048575\n",
      "===================================\n",
      "read_file - file_path :  G:\\내 드라이브\\DataSet\\서울특별시 대여소별 공공자전거 대여가능 수량(1시간 단위)\\22년\\22.02.csv , encoding :  EUC-KR\n",
      " - [중복] : 0 / 1048575\n",
      "===================================\n",
      "read_file - file_path :  G:\\내 드라이브\\DataSet\\서울특별시 대여소별 공공자전거 대여가능 수량(1시간 단위)\\22년\\22.03.csv , encoding :  EUC-KR\n",
      " - [중복] : 0 / 186155\n",
      "===================================\n",
      "read_file - file_path :  G:\\내 드라이브\\DataSet\\서울특별시 대여소별 공공자전거 대여가능 수량(1시간 단위)\\22년\\22.04.csv , encoding :  EUC-KR\n",
      " - [중복] : 0 / 1048575\n",
      "===================================\n",
      "read_file - file_path :  G:\\내 드라이브\\DataSet\\서울특별시 대여소별 공공자전거 대여가능 수량(1시간 단위)\\22년\\22.05.csv , encoding :  EUC-KR\n",
      " - [중복] : 0 / 1048575\n",
      "===================================\n",
      "read_file - file_path :  G:\\내 드라이브\\DataSet\\서울특별시 대여소별 공공자전거 대여가능 수량(1시간 단위)\\22년\\22.06.csv , encoding :  EUC-KR\n",
      " - [중복] : 0 / 1048575\n",
      "===================================\n",
      "read_file - file_path :  G:\\내 드라이브\\DataSet\\서울특별시 대여소별 공공자전거 대여가능 수량(1시간 단위)\\22년\\22.07.csv , encoding :  EUC-KR\n",
      " - [중복] : 0 / 1048575\n",
      "===================================\n",
      "read_file - file_path :  G:\\내 드라이브\\DataSet\\서울특별시 대여소별 공공자전거 대여가능 수량(1시간 단위)\\22년\\22.08.csv , encoding :  EUC-KR\n",
      " - [중복] : 0 / 1048575\n",
      "===================================\n",
      "read_file - file_path :  G:\\내 드라이브\\DataSet\\서울특별시 대여소별 공공자전거 대여가능 수량(1시간 단위)\\22년\\22.09.csv , encoding :  EUC-KR\n",
      " - [중복] : 0 / 1048575\n",
      "===================================\n",
      "read_file - file_path :  G:\\내 드라이브\\DataSet\\서울특별시 대여소별 공공자전거 대여가능 수량(1시간 단위)\\22년\\22.10.csv , encoding :  EUC-KR\n",
      " - [중복] : 0 / 1048575\n",
      "===================================\n",
      "read_file - file_path :  G:\\내 드라이브\\DataSet\\서울특별시 대여소별 공공자전거 대여가능 수량(1시간 단위)\\22년\\22.11.csv , encoding :  EUC-KR\n",
      " - [중복] : 0 / 1048575\n",
      "===================================\n",
      "read_file - file_path :  G:\\내 드라이브\\DataSet\\서울특별시 대여소별 공공자전거 대여가능 수량(1시간 단위)\\22년\\22.12.csv , encoding :  EUC-KR\n",
      " - [중복] : 0 / 1048575\n"
     ]
    }
   ],
   "source": [
    "# 파일 경로명 변경\n",
    "file_list = os.listdir(Default_path + Sub_path)\n",
    "file_lists = [file for file in file_list if file.endswith((\".csv\", \".xlsx\"))]\n",
    "file_lists.sort()\n",
    "print('file_lists : \\n', '\\n '.join(file_lists))\n",
    "print('===========================================')\n",
    "\n",
    "for _, filename in enumerate(file_lists):\n",
    "    try:\n",
    "        print('===================================')\n",
    "        df = em.Read_File(Default_path + Sub_path + filename)\n",
    "        # '일시', '대여소번호', '대여소명', '시간대' 컬럼의 중복값 확인\n",
    "        duplicates = df.duplicated(subset=['일시', '대여소번호', '대여소명', '시간대'], keep=False)\n",
    "        # 중복된 행 출력\n",
    "        duplicate_rows = df[duplicates]\n",
    "        # 결과 출력\n",
    "        print(f' - [중복] : {duplicate_rows.shape[0]} / {df.shape[0]}')\n",
    "    except:\n",
    "        print('- Err : ', savefile)     "
   ]
  },
  {
   "cell_type": "markdown",
   "id": "714b972f-e1e3-42da-8d5b-9c1894c4dd4c",
   "metadata": {},
   "source": [
    "---\n",
    "## 병합\n",
    "- 22년"
   ]
  },
  {
   "cell_type": "code",
   "execution_count": 20,
   "id": "a1426b54-a126-4d76-b491-b596b5801f20",
   "metadata": {},
   "outputs": [],
   "source": [
    "df_sum = pd.DataFrame()"
   ]
  },
  {
   "cell_type": "code",
   "execution_count": 22,
   "id": "f51643f0-de8b-4504-b2a4-0e1c432803e4",
   "metadata": {},
   "outputs": [],
   "source": [
    "Sub_path = '22년\\\\'"
   ]
  },
  {
   "cell_type": "code",
   "execution_count": 24,
   "id": "072afa45-0920-4dfb-94ec-f7b508fb3dcd",
   "metadata": {},
   "outputs": [
    {
     "name": "stdout",
     "output_type": "stream",
     "text": [
      "file_lists : \n",
      " 22.01.csv\n",
      " 22.02.csv\n",
      " 22.03.csv\n",
      " 22.04.csv\n",
      " 22.05.csv\n",
      " 22.06.csv\n",
      " 22.07.csv\n",
      " 22.08.csv\n",
      " 22.09.csv\n",
      " 22.10.csv\n",
      " 22.11.csv\n",
      " 22.12.csv\n",
      "===========================================\n",
      "===================================\n",
      "read_file - file_path :  G:\\내 드라이브\\DataSet\\서울특별시 대여소별 공공자전거 대여가능 수량(1시간 단위)\\22년\\22.01.csv , encoding :  EUC-KR\n",
      "===================================\n",
      "read_file - file_path :  G:\\내 드라이브\\DataSet\\서울특별시 대여소별 공공자전거 대여가능 수량(1시간 단위)\\22년\\22.02.csv , encoding :  EUC-KR\n",
      "===================================\n",
      "read_file - file_path :  G:\\내 드라이브\\DataSet\\서울특별시 대여소별 공공자전거 대여가능 수량(1시간 단위)\\22년\\22.03.csv , encoding :  EUC-KR\n",
      "===================================\n",
      "read_file - file_path :  G:\\내 드라이브\\DataSet\\서울특별시 대여소별 공공자전거 대여가능 수량(1시간 단위)\\22년\\22.04.csv , encoding :  EUC-KR\n",
      "===================================\n",
      "read_file - file_path :  G:\\내 드라이브\\DataSet\\서울특별시 대여소별 공공자전거 대여가능 수량(1시간 단위)\\22년\\22.05.csv , encoding :  EUC-KR\n",
      "===================================\n",
      "read_file - file_path :  G:\\내 드라이브\\DataSet\\서울특별시 대여소별 공공자전거 대여가능 수량(1시간 단위)\\22년\\22.06.csv , encoding :  EUC-KR\n",
      "===================================\n",
      "read_file - file_path :  G:\\내 드라이브\\DataSet\\서울특별시 대여소별 공공자전거 대여가능 수량(1시간 단위)\\22년\\22.07.csv , encoding :  EUC-KR\n",
      "===================================\n",
      "read_file - file_path :  G:\\내 드라이브\\DataSet\\서울특별시 대여소별 공공자전거 대여가능 수량(1시간 단위)\\22년\\22.08.csv , encoding :  EUC-KR\n",
      "===================================\n",
      "read_file - file_path :  G:\\내 드라이브\\DataSet\\서울특별시 대여소별 공공자전거 대여가능 수량(1시간 단위)\\22년\\22.09.csv , encoding :  EUC-KR\n",
      "===================================\n",
      "read_file - file_path :  G:\\내 드라이브\\DataSet\\서울특별시 대여소별 공공자전거 대여가능 수량(1시간 단위)\\22년\\22.10.csv , encoding :  EUC-KR\n",
      "===================================\n",
      "read_file - file_path :  G:\\내 드라이브\\DataSet\\서울특별시 대여소별 공공자전거 대여가능 수량(1시간 단위)\\22년\\22.11.csv , encoding :  EUC-KR\n",
      "===================================\n",
      "read_file - file_path :  G:\\내 드라이브\\DataSet\\서울특별시 대여소별 공공자전거 대여가능 수량(1시간 단위)\\22년\\22.12.csv , encoding :  EUC-KR\n"
     ]
    }
   ],
   "source": [
    "# 파일 경로명 변경\n",
    "file_list = os.listdir(Default_path + Sub_path)\n",
    "file_lists = [file for file in file_list if file.endswith((\".csv\", \".xlsx\"))]\n",
    "file_lists.sort()\n",
    "print('file_lists : \\n', '\\n '.join(file_lists))\n",
    "print('===========================================')\n",
    "\n",
    "for _, filename in enumerate(file_lists):\n",
    "    print('===================================')\n",
    "    df = em.Read_File(Default_path + Sub_path + filename)\n",
    "\n",
    "    df_sum = pd.concat([df, df_sum], axis = 0)\n",
    "    del df  # 메모리 정리\n",
    "\n",
    "# for문 종료 후, 실행\n",
    "df_sum.to_parquet(Default_path + Sub_path + '서울특별시 대여소별 공공자전거 대여가능 수량(1시간 단위)_2022' + '.parquet', index=False)\n",
    "del df_sum"
   ]
  },
  {
   "cell_type": "code",
   "execution_count": 26,
   "id": "135595d3-9575-4c91-b44d-0a8782b23aa6",
   "metadata": {},
   "outputs": [],
   "source": [
    "df_2 = em.Read_File(Default_path + Sub_path + '서울특별시 대여소별 공공자전거 대여가능 수량(1시간 단위)_2022.parquet')"
   ]
  },
  {
   "cell_type": "code",
   "execution_count": 27,
   "id": "c3057605-66fd-47c2-86a1-dcdeb38beb2e",
   "metadata": {},
   "outputs": [
    {
     "data": {
      "text/plain": [
       "11720480"
      ]
     },
     "execution_count": 27,
     "metadata": {},
     "output_type": "execute_result"
    }
   ],
   "source": [
    "df_2.shape[0]"
   ]
  },
  {
   "cell_type": "code",
   "execution_count": 30,
   "id": "ffb9f4f9-af02-496d-b30e-3a28589c02fa",
   "metadata": {},
   "outputs": [
    {
     "data": {
      "text/html": [
       "<div>\n",
       "<style scoped>\n",
       "    .dataframe tbody tr th:only-of-type {\n",
       "        vertical-align: middle;\n",
       "    }\n",
       "\n",
       "    .dataframe tbody tr th {\n",
       "        vertical-align: top;\n",
       "    }\n",
       "\n",
       "    .dataframe thead th {\n",
       "        text-align: right;\n",
       "    }\n",
       "</style>\n",
       "<table border=\"1\" class=\"dataframe\">\n",
       "  <thead>\n",
       "    <tr style=\"text-align: right;\">\n",
       "      <th></th>\n",
       "      <th>일시</th>\n",
       "      <th>대여소번호</th>\n",
       "      <th>대여소명</th>\n",
       "      <th>시간대</th>\n",
       "      <th>거치대수량</th>\n",
       "    </tr>\n",
       "  </thead>\n",
       "  <tbody>\n",
       "    <tr>\n",
       "      <th>0</th>\n",
       "      <td>2022-12-01</td>\n",
       "      <td>102</td>\n",
       "      <td>102. 망원역 1번출구 앞</td>\n",
       "      <td>0</td>\n",
       "      <td>14</td>\n",
       "    </tr>\n",
       "    <tr>\n",
       "      <th>1</th>\n",
       "      <td>2022-12-01</td>\n",
       "      <td>102</td>\n",
       "      <td>102. 망원역 1번출구 앞</td>\n",
       "      <td>1</td>\n",
       "      <td>16</td>\n",
       "    </tr>\n",
       "    <tr>\n",
       "      <th>2</th>\n",
       "      <td>2022-12-01</td>\n",
       "      <td>102</td>\n",
       "      <td>102. 망원역 1번출구 앞</td>\n",
       "      <td>2</td>\n",
       "      <td>17</td>\n",
       "    </tr>\n",
       "    <tr>\n",
       "      <th>3</th>\n",
       "      <td>2022-12-01</td>\n",
       "      <td>102</td>\n",
       "      <td>102. 망원역 1번출구 앞</td>\n",
       "      <td>3</td>\n",
       "      <td>19</td>\n",
       "    </tr>\n",
       "    <tr>\n",
       "      <th>4</th>\n",
       "      <td>2022-12-01</td>\n",
       "      <td>102</td>\n",
       "      <td>102. 망원역 1번출구 앞</td>\n",
       "      <td>4</td>\n",
       "      <td>18</td>\n",
       "    </tr>\n",
       "  </tbody>\n",
       "</table>\n",
       "</div>"
      ],
      "text/plain": [
       "           일시  대여소번호             대여소명  시간대  거치대수량\n",
       "0  2022-12-01    102  102. 망원역 1번출구 앞    0     14\n",
       "1  2022-12-01    102  102. 망원역 1번출구 앞    1     16\n",
       "2  2022-12-01    102  102. 망원역 1번출구 앞    2     17\n",
       "3  2022-12-01    102  102. 망원역 1번출구 앞    3     19\n",
       "4  2022-12-01    102  102. 망원역 1번출구 앞    4     18"
      ]
     },
     "execution_count": 30,
     "metadata": {},
     "output_type": "execute_result"
    }
   ],
   "source": [
    "df_2.head()"
   ]
  }
 ],
 "metadata": {
  "kernelspec": {
   "display_name": "Python 3 (ipykernel)",
   "language": "python",
   "name": "python3"
  },
  "language_info": {
   "codemirror_mode": {
    "name": "ipython",
    "version": 3
   },
   "file_extension": ".py",
   "mimetype": "text/x-python",
   "name": "python",
   "nbconvert_exporter": "python",
   "pygments_lexer": "ipython3",
   "version": "3.12.4"
  }
 },
 "nbformat": 4,
 "nbformat_minor": 5
}
