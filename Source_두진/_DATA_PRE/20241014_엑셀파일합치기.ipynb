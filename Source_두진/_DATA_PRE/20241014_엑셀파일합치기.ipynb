{
 "cells": [
  {
   "cell_type": "markdown",
   "id": "a63d1ca6-9e94-486e-b746-8a76e7a35ecb",
   "metadata": {},
   "source": [
    "### 라이브러리 임포트"
   ]
  },
  {
   "cell_type": "code",
   "execution_count": null,
   "id": "428dc1ef-fef0-4ab9-9ad1-b285e25860d9",
   "metadata": {},
   "outputs": [],
   "source": [
    "import os\n",
    "import pandas as pd"
   ]
  },
  {
   "cell_type": "markdown",
   "id": "cca518b9-919e-4018-8542-3a8de9290fc4",
   "metadata": {},
   "source": [
    "### 기본경로 설정"
   ]
  },
  {
   "cell_type": "code",
   "execution_count": null,
   "id": "21a2c01b-0505-4297-9ad9-30845d1d1cc8",
   "metadata": {},
   "outputs": [],
   "source": [
    "path_dateset = 'G:/내 드라이브/DataSet/'"
   ]
  },
  {
   "cell_type": "markdown",
   "id": "281e4df1-4a75-4b57-8a09-2be6063a84ea",
   "metadata": {},
   "source": [
    "### 확장자 가져오기 (Ex) .csv, .xlsx"
   ]
  },
  {
   "cell_type": "code",
   "execution_count": null,
   "id": "e113aae7-4b38-4fc1-9119-d785be27d199",
   "metadata": {},
   "outputs": [],
   "source": [
    "def extract_extension(file_path):\n",
    "    _, file_extension = os.path.splitext(file_path)\n",
    "    return file_extension"
   ]
  },
  {
   "cell_type": "code",
   "execution_count": null,
   "id": "6bfcb1be-e3d6-4c28-b3be-136b6f24daf6",
   "metadata": {},
   "outputs": [],
   "source": [
    "extract_extension('G:/내 드라이브/DataSet/서울특별시 공공자전거 이용정보(일별)/서울특별시 공공자전거 이용정보(일별)_2406.csv')"
   ]
  },
  {
   "cell_type": "markdown",
   "id": "6d321cd8-967b-427f-bad1-e185b4717b08",
   "metadata": {},
   "source": [
    "### 파일명 가져오기"
   ]
  },
  {
   "cell_type": "code",
   "execution_count": null,
   "id": "43ae0d00-0162-4823-b7dc-1ab47ece2f19",
   "metadata": {},
   "outputs": [],
   "source": [
    "def extract_filename(file_path):\n",
    "    file_name = os.path.basename(file_path)\n",
    "    filename_without_extension, _ = os.path.splitext(file_name)\n",
    "    return filename_without_extension"
   ]
  },
  {
   "cell_type": "code",
   "execution_count": null,
   "id": "d34538c4-8615-4adc-8c00-599f9e8d39c0",
   "metadata": {},
   "outputs": [],
   "source": [
    "extract_filename('G:/내 드라이브/DataSet/서울특별시 공공자전거 이용정보(일별)/서울특별시 공공자전거 이용정보(일별)_2406.csv')"
   ]
  },
  {
   "cell_type": "markdown",
   "id": "613221c9-9fb4-428e-b00c-d747613572a2",
   "metadata": {},
   "source": [
    "### 파일 읽기"
   ]
  },
  {
   "cell_type": "code",
   "execution_count": null,
   "id": "931073fe-015b-4f6f-b5c5-36e57f468c9a",
   "metadata": {},
   "outputs": [],
   "source": [
    "def read_file(file_path):\n",
    "    extension = extract_extension(file_path)\n",
    "   \n",
    "    if \".xlsx\" == extension:\n",
    "        return pd.read_excel(file_path)\n",
    "    if \".csv\" == extension:\n",
    "        try:\n",
    "            return pd.read_csv(file_path, encoding='cp949')\n",
    "        except BaseException as e:\n",
    "            return pd.read_csv(file_path, encoding='utf-8')"
   ]
  },
  {
   "cell_type": "code",
   "execution_count": null,
   "id": "f5db6e8e-1b8e-45cd-a6f3-204768869d3b",
   "metadata": {},
   "outputs": [],
   "source": [
    "def read2_file(file_path):\n",
    "    try:\n",
    "        extension = extract_extension(file_path)\n",
    "        if \".xlsx\" == extension:\n",
    "            return pd.read_excel(file_path)\n",
    "        if \".csv\" == extension:\n",
    "            return pd.read_csv(file_path, encoding='cp949')\n",
    "            #return pd.read_csv(file_path, encoding='utf-8')\n",
    "    except BaseException as e:\n",
    "        print(e)\n",
    "        #return None    "
   ]
  },
  {
   "cell_type": "markdown",
   "id": "97f1d7ff-d51d-4373-b5bd-5297ac79e3c1",
   "metadata": {},
   "source": [
    "### 특정 폴더의 csx, xlsx 파일들 확인"
   ]
  },
  {
   "cell_type": "code",
   "execution_count": 170,
   "id": "644066d7-f383-49e5-add6-dbf5cfbf2cba",
   "metadata": {},
   "outputs": [],
   "source": [
    "def check_file(path_dateset, path_sub):\n",
    "    path = path_dateset + path_sub\n",
    "    \n",
    "    #파일 경로명 변경\n",
    "    file_list = os.listdir(path)\n",
    "    file_lists = [file for file in file_list if file.endswith((\".csv\", \".xlsx\"))]\n",
    "    excel = pd.DataFrame()\n",
    "    \n",
    "    print('path : ', path)\n",
    "    \n",
    "    for _, file in enumerate(file_lists):\n",
    "        try:\n",
    "            df = read_file(path + file)\n",
    "                \n",
    "            print('==============================================================')\n",
    "            print(extract_extension(file) + ', ' + file + ', ' + str(len(df)))\n",
    "            print(list(df.columns))\n",
    "            print(list(df.iloc[1]))\n",
    "        except:\n",
    "            print('- Err : ', file)"
   ]
  },
  {
   "cell_type": "markdown",
   "id": "6eb4e9bb-fce3-43e6-b13b-517e3751d72f",
   "metadata": {},
   "source": [
    "### 특정 폴더의 csx, xlsx 파일들 합치기"
   ]
  },
  {
   "cell_type": "code",
   "execution_count": null,
   "id": "e3622b5b-599c-4cbd-8934-3e76e73d9506",
   "metadata": {},
   "outputs": [],
   "source": [
    "def merge_file(path_dateset, path_sub, new_filename, columns = \"\"):\n",
    "    path = path_dateset + path_sub\n",
    "    \n",
    "    #파일 경로명 변경\n",
    "    file_list = os.listdir(path)\n",
    "    file_lists = [file for file in file_list if file.endswith((\".csv\", \".xlsx\"))]\n",
    "    excel = pd.DataFrame()\n",
    "    \n",
    "    print('path : ', path)\n",
    "    \n",
    "    for i, file in enumerate(file_lists):\n",
    "        df = read_file(path + file)\n",
    "        \n",
    "        if (i > 0):\n",
    "            df = df.iloc[1:][columns]\n",
    "        else:\n",
    "            df = df[columns]\n",
    "\n",
    "        # excel = excel.append(df , ignore_index=True) #파일 하나에 다른 파일 추가하기(파일 합치기)\n",
    "        excel = pd.concat([excel, df], ignore_index=True)        \n",
    "        \n",
    "        print('==============================================================')\n",
    "        print(extract_extension(file) + ', ' + file + ', ' + str(len(df)))\n",
    "        print(list(df.columns))\n",
    "\n",
    "    # excel.to_csv(path+'merge.csv',index=False,encoding='euc-kr')\n",
    "    excel.to_csv(path + new_filename + '.csv', index=False, encoding='cp949')"
   ]
  },
  {
   "cell_type": "code",
   "execution_count": null,
   "id": "935c0084-7229-491f-9822-1aaee9768c20",
   "metadata": {},
   "outputs": [],
   "source": [
    "# new_filename = '저장파일이름'\n",
    "# columns = '저장할 컬럼 리스트\n",
    "def merge2_file(path_dateset, path_sub, new_filename = 'merge', columns = \"\"):\n",
    "    path = path_dateset + path_sub\n",
    "    \n",
    "    #파일 경로명 변경\n",
    "    file_list = os.listdir(path)\n",
    "    file_lists = [file for file in file_list if file.endswith((\".csv\", \".xlsx\"))]\n",
    "    excel = pd.DataFrame()\n",
    "    \n",
    "    print('path : ', path)\n",
    "    \n",
    "    for i, file in enumerate(file_lists):\n",
    "        df = read_file(path + file)\n",
    "        \n",
    "        if (i > 0):\n",
    "            if columns == \"\":\n",
    "                df = df.iloc[1:]\n",
    "            else:\n",
    "                df = df.iloc[1:][columns]\n",
    "        else:\n",
    "            if columns == \"\":\n",
    "                df = df\n",
    "            else:\n",
    "                df = df[columns]\n",
    "\n",
    "        # excel = excel.append(df , ignore_index=True) #파일 하나에 다른 파일 추가하기(파일 합치기)\n",
    "        excel = pd.concat([excel, df], ignore_index=True)\n",
    "        \n",
    "        print('==============================================================')\n",
    "        print(extract_extension(file) + ', ' + file + ', ' + str(len(df)))\n",
    "        print(list(df.columns))\n",
    "\n",
    "    # excel.to_csv(path+'merge.csv',index=False,encoding='euc-kr')\n",
    "    # excel.to_csv(path + new_filename + '.csv', index=False, encoding='cp949')\n",
    "    excel.to_csv(path + new_filename + '.csv', index=False, encoding='utf-8')"
   ]
  },
  {
   "cell_type": "markdown",
   "id": "11c1f004-9d92-4623-a04f-31c375236a4e",
   "metadata": {},
   "source": [
    "### 서울특별시 공공자전거 이용정보(일별)"
   ]
  },
  {
   "cell_type": "code",
   "execution_count": null,
   "id": "d22bd05b-d017-4ed3-a2fd-3e676c2c06f8",
   "metadata": {},
   "outputs": [],
   "source": [
    "path_sub = '서울특별시 공공자전거 이용정보(일별)/'\n",
    "check_file(path_dateset, path_sub)"
   ]
  },
  {
   "cell_type": "code",
   "execution_count": null,
   "id": "fcb9e5e3-5150-408c-9331-71f28119edec",
   "metadata": {},
   "outputs": [],
   "source": [
    "columns = ['기준_날짜', '기준_시간대', '시작_대여소_ID', '종료_대여소_ID', '전체_건수', '전체_이용_분', '전체_이용_거리']\n",
    "merge_file(path_dateset, path_sub)"
   ]
  },
  {
   "cell_type": "markdown",
   "id": "0c796898-3b3c-4a59-af56-05bfb15c1d19",
   "metadata": {},
   "source": [
    "### 서울시 따릉이 대여소별 대여 반납 승객수 정보"
   ]
  },
  {
   "cell_type": "markdown",
   "id": "13591e13-60f0-4b2d-95a5-d76acaf2ae3d",
   "metadata": {},
   "source": [
    "#### tpss_bcycl_od_statnhm_202304"
   ]
  },
  {
   "cell_type": "code",
   "execution_count": null,
   "id": "cd01979d-93af-44dc-a940-0ff9aa569cc3",
   "metadata": {},
   "outputs": [],
   "source": [
    "path_sub = '서울시 따릉이 대여소별 대여 반납 승객수 정보/tpss_bcycl_od_statnhm_202304/'\n",
    "check_file(path_dateset, path_sub)"
   ]
  },
  {
   "cell_type": "markdown",
   "id": "b86f2a35-6880-49e1-b7d5-d41411444293",
   "metadata": {},
   "source": [
    "### 서울특별시 공공자전거 이용정보(월별)"
   ]
  },
  {
   "cell_type": "markdown",
   "id": "125f8a56-103c-40ec-b923-6aa208626ec8",
   "metadata": {},
   "source": [
    "#### 2020 ~ 2024\n",
    "- 2020 o\n",
    "- 2021 o\n",
    "- 2022 o\n",
    "- 2023"
   ]
  },
  {
   "cell_type": "code",
   "execution_count": 93,
   "id": "a96ea1e4-f7a2-420e-b249-6d1e63fc5bba",
   "metadata": {},
   "outputs": [
    {
     "name": "stdout",
     "output_type": "stream",
     "text": [
      "path :  G:/내 드라이브/DataSet/서울특별시 공공자전거 이용정보(월별)/2023/\n",
      "==============================================================\n",
      ".csv, 서울특별시_공공자전거_이용정보(월별)_23.7-12.csv, 624320\n",
      "['대여년월', '대여소번호', '대여소명', '대여구분코드', '성별', '연령대코드', '이용건수', '운동량', '탄소량', '이용거리(M)', '이용시간(분)']\n",
      "[202307, 102, '102. 망원역 1번출구 앞', '일일권', nan, '30대', 40, '2888.06', '24.84', 107055.57, 1407]\n",
      "==============================================================\n",
      ".csv, 서울특별시 공공자전거 이용정보(월별)_23.1-6.csv, 622066\n",
      "['대여년월', '대여소번호', '대여소명', '대여구분코드', '성별', '연령대코드', '이용건수', '운동량', '탄소량', '이용거리(M)', '이용시간(분)']\n",
      "[202301, 102, '102. 망원역 1번출구 앞', '일일권', nan, '20대', 28, '2406.34', '20.15', 86930.75, 583]\n"
     ]
    }
   ],
   "source": [
    "path_sub = '서울특별시 공공자전거 이용정보(월별)/2023/'\n",
    "check_file(path_dateset, path_sub)"
   ]
  },
  {
   "cell_type": "code",
   "execution_count": 95,
   "id": "30c481a5-5f53-4135-b1cb-9291629844a5",
   "metadata": {},
   "outputs": [
    {
     "name": "stdout",
     "output_type": "stream",
     "text": [
      "path :  G:/내 드라이브/DataSet/서울특별시 공공자전거 이용정보(월별)/2023/\n",
      "==============================================================\n",
      ".csv, 서울특별시_공공자전거_이용정보(월별)_23.7-12.csv, 624320\n",
      "['대여년월', '대여소번호', '대여소명', '대여구분코드', '성별', '연령대코드', '이용건수', '운동량', '탄소량', '이용거리(M)', '이용시간(분)']\n",
      "==============================================================\n",
      ".csv, 서울특별시 공공자전거 이용정보(월별)_23.1-6.csv, 622065\n",
      "['대여년월', '대여소번호', '대여소명', '대여구분코드', '성별', '연령대코드', '이용건수', '운동량', '탄소량', '이용거리(M)', '이용시간(분)']\n"
     ]
    }
   ],
   "source": [
    "merge2_file(path_dateset, path_sub, '서울특별시 공공자전거 이용정보(월별)_2023', '')"
   ]
  },
  {
   "cell_type": "code",
   "execution_count": 99,
   "id": "15889462-3991-43b8-abfa-c7342834cdd7",
   "metadata": {},
   "outputs": [
    {
     "data": {
      "text/html": [
       "<div>\n",
       "<style scoped>\n",
       "    .dataframe tbody tr th:only-of-type {\n",
       "        vertical-align: middle;\n",
       "    }\n",
       "\n",
       "    .dataframe tbody tr th {\n",
       "        vertical-align: top;\n",
       "    }\n",
       "\n",
       "    .dataframe thead th {\n",
       "        text-align: right;\n",
       "    }\n",
       "</style>\n",
       "<table border=\"1\" class=\"dataframe\">\n",
       "  <thead>\n",
       "    <tr style=\"text-align: right;\">\n",
       "      <th></th>\n",
       "      <th>대여년월</th>\n",
       "      <th>대여소번호</th>\n",
       "      <th>대여소명</th>\n",
       "      <th>대여구분코드</th>\n",
       "      <th>성별</th>\n",
       "      <th>연령대코드</th>\n",
       "      <th>이용건수</th>\n",
       "      <th>운동량</th>\n",
       "      <th>탄소량</th>\n",
       "      <th>이용거리(M)</th>\n",
       "      <th>이용시간(분)</th>\n",
       "    </tr>\n",
       "  </thead>\n",
       "  <tbody>\n",
       "    <tr>\n",
       "      <th>0</th>\n",
       "      <td>202307</td>\n",
       "      <td>102</td>\n",
       "      <td>102. 망원역 1번출구 앞</td>\n",
       "      <td>일일권</td>\n",
       "      <td>NaN</td>\n",
       "      <td>20대</td>\n",
       "      <td>166</td>\n",
       "      <td>13506.22</td>\n",
       "      <td>121.1</td>\n",
       "      <td>522132.41</td>\n",
       "      <td>5076</td>\n",
       "    </tr>\n",
       "    <tr>\n",
       "      <th>1</th>\n",
       "      <td>202307</td>\n",
       "      <td>102</td>\n",
       "      <td>102. 망원역 1번출구 앞</td>\n",
       "      <td>일일권</td>\n",
       "      <td>NaN</td>\n",
       "      <td>30대</td>\n",
       "      <td>40</td>\n",
       "      <td>2888.06</td>\n",
       "      <td>24.84</td>\n",
       "      <td>107055.57</td>\n",
       "      <td>1407</td>\n",
       "    </tr>\n",
       "    <tr>\n",
       "      <th>2</th>\n",
       "      <td>202307</td>\n",
       "      <td>102</td>\n",
       "      <td>102. 망원역 1번출구 앞</td>\n",
       "      <td>일일권</td>\n",
       "      <td>NaN</td>\n",
       "      <td>40대</td>\n",
       "      <td>13</td>\n",
       "      <td>752.19</td>\n",
       "      <td>6.75</td>\n",
       "      <td>29146.67</td>\n",
       "      <td>252</td>\n",
       "    </tr>\n",
       "    <tr>\n",
       "      <th>3</th>\n",
       "      <td>202307</td>\n",
       "      <td>102</td>\n",
       "      <td>102. 망원역 1번출구 앞</td>\n",
       "      <td>일일권</td>\n",
       "      <td>NaN</td>\n",
       "      <td>50대</td>\n",
       "      <td>4</td>\n",
       "      <td>261.72</td>\n",
       "      <td>2.05</td>\n",
       "      <td>8850.00</td>\n",
       "      <td>80</td>\n",
       "    </tr>\n",
       "    <tr>\n",
       "      <th>4</th>\n",
       "      <td>202307</td>\n",
       "      <td>102</td>\n",
       "      <td>102. 망원역 1번출구 앞</td>\n",
       "      <td>일일권</td>\n",
       "      <td>NaN</td>\n",
       "      <td>~10대</td>\n",
       "      <td>5</td>\n",
       "      <td>461.54</td>\n",
       "      <td>4.02</td>\n",
       "      <td>17341.38</td>\n",
       "      <td>150</td>\n",
       "    </tr>\n",
       "  </tbody>\n",
       "</table>\n",
       "</div>"
      ],
      "text/plain": [
       "     대여년월  대여소번호             대여소명 대여구분코드   성별 연령대코드  이용건수       운동량    탄소량  \\\n",
       "0  202307    102  102. 망원역 1번출구 앞    일일권  NaN   20대   166  13506.22  121.1   \n",
       "1  202307    102  102. 망원역 1번출구 앞    일일권  NaN   30대    40   2888.06  24.84   \n",
       "2  202307    102  102. 망원역 1번출구 앞    일일권  NaN   40대    13    752.19   6.75   \n",
       "3  202307    102  102. 망원역 1번출구 앞    일일권  NaN   50대     4    261.72   2.05   \n",
       "4  202307    102  102. 망원역 1번출구 앞    일일권  NaN  ~10대     5    461.54   4.02   \n",
       "\n",
       "     이용거리(M)  이용시간(분)  \n",
       "0  522132.41     5076  \n",
       "1  107055.57     1407  \n",
       "2   29146.67      252  \n",
       "3    8850.00       80  \n",
       "4   17341.38      150  "
      ]
     },
     "execution_count": 99,
     "metadata": {},
     "output_type": "execute_result"
    }
   ],
   "source": [
    "rf = pd.read_csv('G:/내 드라이브/DataSet/서울특별시 공공자전거 이용정보(월별)/2023/서울특별시 공공자전거 이용정보(월별)_2023.csv', encoding='utf-8', engine = 'python')\n",
    "rf.head()"
   ]
  },
  {
   "cell_type": "markdown",
   "id": "b3ab892d-1630-4d97-95e9-64d72afeb99a",
   "metadata": {},
   "source": [
    "### 서울특별시 공공자전거 대여소별 이용정보(시간대별)"
   ]
  },
  {
   "cell_type": "markdown",
   "id": "a268d05d-c733-44d1-91f1-d2329b194a1c",
   "metadata": {},
   "source": [
    "#### 2020 ~ 2024\n",
    "- 2020 o\n",
    "- 2021 UnicodeDecodeError: 'utf-8' codec can't decode byte 0xb4 in position 0: invalid start byte\n",
    "- 2022 o\n",
    "- 2023 UnicodeDecodeError: 'utf-8' codec can't decode byte 0xb4 in position 0: invalid start byte\n",
    "- 2024 o"
   ]
  },
  {
   "cell_type": "code",
   "execution_count": 258,
   "id": "9c3c6738-6f0f-4cb4-aaf9-ec34ce89ad80",
   "metadata": {},
   "outputs": [
    {
     "name": "stdout",
     "output_type": "stream",
     "text": [
      "path :  G:/내 드라이브/DataSet/서울특별시 공공자전거 대여소별 이용정보(시간대별)/2021/\n",
      "==============================================================\n",
      ".csv, 서울특별시 공공자전거 이용정보(시간대별)_21.05.csv, 2280033\n",
      "['대여일자', '대여시간', '대여소번호', '대여소명', '대여구분코드', '성별', '연령대코드', '이용건수', '운동량', '탄소량', '이동거리', '사용시간']\n",
      "['2021-05-01', 0, 277, '277. 영등포뉴타운지하상가 2번게이트', '정기권', nan, '~10대', 1, '24.59', '0.48', 2070.0, 11]\n",
      "==============================================================\n",
      ".csv, 서울특별시 공공자전거 이용정보(시간대별)_21.08.csv, 2461666\n",
      "['대여일자', '대여시간', '대여소번호', '대여소명', '대여구분코드', '성별', '연령대코드', '이용건수', '운동량', '탄소량', '이동거리', '사용시간']\n",
      "['2021-08-01', 0, 1646, '1646. 삼육대 입구', '정기권', nan, '~10대', 1, '74.13', '0.54', 2340.0, 13]\n",
      "==============================================================\n",
      ".csv, 서울특별시 공공자전거 이용정보(시간대별)_21.01.csv, 718857\n",
      "['대여일자', '대여시간', '대여소번호', '대여소명', '대여구분코드', '성별', '연령대코드', '이용건수', '운동량', '탄소량', '이동거리', '사용시간']\n",
      "['2021-01-01', 0, 1349, '1349. 월계2교 버스정류장 앞', '정기권', nan, '~10대', 1, '34.38', '0.26', 1127.5, 10]\n",
      "==============================================================\n",
      ".csv, 서울특별시 공공자전거 이용정보(시간대별)_21.07.csv, 2509127\n",
      "['대여일자', '대여시간', '대여소번호', '대여소명', '대여구분코드', '성별', '연령대코드', '이용건수', '운동량', '탄소량', '이동거리', '사용시간']\n",
      "['2021-07-01', 0, 1036, '1036. 고덕동 주양쇼핑', '정기권', nan, '~10대', 1, '41.78', '0.35', 1529.07, 13]\n",
      "==============================================================\n",
      ".csv, 서울특별시 공공자전거 이용정보(시간대별)_21.04.csv, 2600445\n",
      "['대여일자', '대여시간', '대여소번호', '대여소명', '대여구분코드', '성별', '연령대코드', '이용건수', '운동량', '탄소량', '이동거리', '사용시간']\n",
      "['2021-04-01', 0, 3426, '3426.독립문역 2번출구 뒤', '정기권', nan, '~10대', 1, '66.70', '0.65', 2807.33, 17]\n",
      "- Err :  서울특별시 공공자전거 이용정보(시간대별)_21.02.csv\n",
      "==============================================================\n",
      ".csv, 서울특별시 공공자전거 이용정보(시간대별)_21.06.csv, 2616598\n",
      "['대여일자', '대여시간', '대여소번호', '대여소명', '대여구분코드', '성별', '연령대코드', '이용건수', '운동량', '탄소량', '이동거리', '사용시간']\n",
      "['2021-06-01', 0, 1450, '1450. 화랑대역 7번출구', '정기권', nan, '~10대', 1, '54.31', '0.49', 2110.0, 14]\n",
      "==============================================================\n",
      ".csv, 서울특별시 공공자전거 이용정보(시간대별)_21.09.csv, 2941239\n",
      "['대여일자', '대여시간', '대여소번호', '대여소명', '대여구분코드', '성별', '연령대코드', '이용건수', '운동량', '탄소량', '이동거리', '사용시간']\n",
      "['2021-09-01', 0, 1155, '1155. 기쁜우리복지관', '정기권', nan, '20대', 1, '43.86', '0.33', 1420.0, 13]\n",
      "==============================================================\n",
      ".csv, 서울특별시 공공자전거 이용정보(시간대별)_21.10.csv, 2679765\n",
      "['대여일자', '대여시간', '대여소번호', '대여소명', '대여구분코드', '성별', '연령대코드', '이용건수', '운동량', '탄소량', '이동거리', '사용시간']\n",
      "['2021-10-01', 0, 1671, '1671. 인덕대학교', '정기권', nan, '~10대', 1, '0.00', '0.00', 0.0, 3]\n",
      "==============================================================\n",
      ".csv, 서울특별시 공공자전거 이용정보(시간대별)_21.12.csv, 1519851\n",
      "['대여일자', '대여시간', '대여소번호', '대여소명', '대여구분코드', '성별', '연령대코드', '이용건수', '운동량', '탄소량', '이동거리', '사용시간']\n",
      "['2021-12-01', 0, 1668, '1668. 중계역 6번출구', '정기권', nan, '~10대', 1, '30.60', '0.28', 1207.46, 7]\n",
      "==============================================================\n",
      ".csv, 서울특별시 공공자전거 이용정보(시간대별)_21.11.csv, 2191311\n",
      "['대여일자', '대여시간', '대여소번호', '대여소명', '대여구분코드', '성별', '연령대코드', '이용건수', '운동량', '탄소량', '이동거리', '사용시간']\n",
      "['2021-11-01', 0, 1361, '1361. 홍익중고 입구', '정기권', nan, '~10대', 1, '26.89', '0.23', 970.0, 5]\n",
      "==============================================================\n",
      ".csv, 서울특별시 공공자전거 이용정보(시간대별)_21.03_enc.csv, 1794270\n",
      "['대여일자', '대여시간', '대여소번호', '대여소명', '대여구분코드', '성별', '연령대코드', '이용건수', '운동량', '탄소량', '이동거리', '사용시간']\n",
      "['2021-03-01', 0, 515, '515. 광양중학교 앞', '정기권', nan, '~10대', 1.0, '37.41', '0.34', 1453.44, 7.0]\n"
     ]
    }
   ],
   "source": [
    "path_sub = '서울특별시 공공자전거 대여소별 이용정보(시간대별)/2021/'\n",
    "check_file(path_dateset, path_sub)"
   ]
  },
  {
   "cell_type": "code",
   "execution_count": 260,
   "id": "283a22d2-ccd6-4c5b-b9e1-49a5fb55a31c",
   "metadata": {},
   "outputs": [
    {
     "name": "stdout",
     "output_type": "stream",
     "text": [
      "path :  G:/내 드라이브/DataSet/서울특별시 공공자전거 대여소별 이용정보(시간대별)/2021/\n",
      "==============================================================\n",
      ".csv, 서울특별시 공공자전거 이용정보(시간대별)_21.05.csv, 2280033\n",
      "['대여일자', '대여시간', '대여소번호', '대여소명', '대여구분코드', '성별', '연령대코드', '이용건수', '운동량', '탄소량', '이동거리', '사용시간']\n",
      "==============================================================\n",
      ".csv, 서울특별시 공공자전거 이용정보(시간대별)_21.08.csv, 2461665\n",
      "['대여일자', '대여시간', '대여소번호', '대여소명', '대여구분코드', '성별', '연령대코드', '이용건수', '운동량', '탄소량', '이동거리', '사용시간']\n",
      "==============================================================\n",
      ".csv, 서울특별시 공공자전거 이용정보(시간대별)_21.01.csv, 718856\n",
      "['대여일자', '대여시간', '대여소번호', '대여소명', '대여구분코드', '성별', '연령대코드', '이용건수', '운동량', '탄소량', '이동거리', '사용시간']\n",
      "==============================================================\n",
      ".csv, 서울특별시 공공자전거 이용정보(시간대별)_21.07.csv, 2509126\n",
      "['대여일자', '대여시간', '대여소번호', '대여소명', '대여구분코드', '성별', '연령대코드', '이용건수', '운동량', '탄소량', '이동거리', '사용시간']\n",
      "==============================================================\n",
      ".csv, 서울특별시 공공자전거 이용정보(시간대별)_21.04.csv, 2600444\n",
      "['대여일자', '대여시간', '대여소번호', '대여소명', '대여구분코드', '성별', '연령대코드', '이용건수', '운동량', '탄소량', '이동거리', '사용시간']\n"
     ]
    },
    {
     "ename": "UnicodeDecodeError",
     "evalue": "'utf-8' codec can't decode byte 0xb4 in position 0: invalid start byte",
     "output_type": "error",
     "traceback": [
      "\u001b[1;31m---------------------------------------------------------------------------\u001b[0m",
      "\u001b[1;31mUnicodeDecodeError\u001b[0m                        Traceback (most recent call last)",
      "Cell \u001b[1;32mIn[17], line 8\u001b[0m, in \u001b[0;36mread_file\u001b[1;34m(file_path)\u001b[0m\n\u001b[0;32m      7\u001b[0m \u001b[38;5;28;01mtry\u001b[39;00m:\n\u001b[1;32m----> 8\u001b[0m     \u001b[38;5;28;01mreturn\u001b[39;00m \u001b[43mpd\u001b[49m\u001b[38;5;241;43m.\u001b[39;49m\u001b[43mread_csv\u001b[49m\u001b[43m(\u001b[49m\u001b[43mfile_path\u001b[49m\u001b[43m,\u001b[49m\u001b[43m \u001b[49m\u001b[43mencoding\u001b[49m\u001b[38;5;241;43m=\u001b[39;49m\u001b[38;5;124;43m'\u001b[39;49m\u001b[38;5;124;43mcp949\u001b[39;49m\u001b[38;5;124;43m'\u001b[39;49m\u001b[43m)\u001b[49m\n\u001b[0;32m      9\u001b[0m \u001b[38;5;28;01mexcept\u001b[39;00m \u001b[38;5;167;01mBaseException\u001b[39;00m \u001b[38;5;28;01mas\u001b[39;00m e:\n",
      "File \u001b[1;32m~\\anaconda3\\Lib\\site-packages\\pandas\\io\\parsers\\readers.py:1026\u001b[0m, in \u001b[0;36mread_csv\u001b[1;34m(filepath_or_buffer, sep, delimiter, header, names, index_col, usecols, dtype, engine, converters, true_values, false_values, skipinitialspace, skiprows, skipfooter, nrows, na_values, keep_default_na, na_filter, verbose, skip_blank_lines, parse_dates, infer_datetime_format, keep_date_col, date_parser, date_format, dayfirst, cache_dates, iterator, chunksize, compression, thousands, decimal, lineterminator, quotechar, quoting, doublequote, escapechar, comment, encoding, encoding_errors, dialect, on_bad_lines, delim_whitespace, low_memory, memory_map, float_precision, storage_options, dtype_backend)\u001b[0m\n\u001b[0;32m   1024\u001b[0m kwds\u001b[38;5;241m.\u001b[39mupdate(kwds_defaults)\n\u001b[1;32m-> 1026\u001b[0m \u001b[38;5;28;01mreturn\u001b[39;00m \u001b[43m_read\u001b[49m\u001b[43m(\u001b[49m\u001b[43mfilepath_or_buffer\u001b[49m\u001b[43m,\u001b[49m\u001b[43m \u001b[49m\u001b[43mkwds\u001b[49m\u001b[43m)\u001b[49m\n",
      "File \u001b[1;32m~\\anaconda3\\Lib\\site-packages\\pandas\\io\\parsers\\readers.py:620\u001b[0m, in \u001b[0;36m_read\u001b[1;34m(filepath_or_buffer, kwds)\u001b[0m\n\u001b[0;32m    619\u001b[0m \u001b[38;5;66;03m# Create the parser.\u001b[39;00m\n\u001b[1;32m--> 620\u001b[0m parser \u001b[38;5;241m=\u001b[39m \u001b[43mTextFileReader\u001b[49m\u001b[43m(\u001b[49m\u001b[43mfilepath_or_buffer\u001b[49m\u001b[43m,\u001b[49m\u001b[43m \u001b[49m\u001b[38;5;241;43m*\u001b[39;49m\u001b[38;5;241;43m*\u001b[39;49m\u001b[43mkwds\u001b[49m\u001b[43m)\u001b[49m\n\u001b[0;32m    622\u001b[0m \u001b[38;5;28;01mif\u001b[39;00m chunksize \u001b[38;5;129;01mor\u001b[39;00m iterator:\n",
      "File \u001b[1;32m~\\anaconda3\\Lib\\site-packages\\pandas\\io\\parsers\\readers.py:1620\u001b[0m, in \u001b[0;36mTextFileReader.__init__\u001b[1;34m(self, f, engine, **kwds)\u001b[0m\n\u001b[0;32m   1619\u001b[0m \u001b[38;5;28mself\u001b[39m\u001b[38;5;241m.\u001b[39mhandles: IOHandles \u001b[38;5;241m|\u001b[39m \u001b[38;5;28;01mNone\u001b[39;00m \u001b[38;5;241m=\u001b[39m \u001b[38;5;28;01mNone\u001b[39;00m\n\u001b[1;32m-> 1620\u001b[0m \u001b[38;5;28mself\u001b[39m\u001b[38;5;241m.\u001b[39m_engine \u001b[38;5;241m=\u001b[39m \u001b[38;5;28;43mself\u001b[39;49m\u001b[38;5;241;43m.\u001b[39;49m\u001b[43m_make_engine\u001b[49m\u001b[43m(\u001b[49m\u001b[43mf\u001b[49m\u001b[43m,\u001b[49m\u001b[43m \u001b[49m\u001b[38;5;28;43mself\u001b[39;49m\u001b[38;5;241;43m.\u001b[39;49m\u001b[43mengine\u001b[49m\u001b[43m)\u001b[49m\n",
      "File \u001b[1;32m~\\anaconda3\\Lib\\site-packages\\pandas\\io\\parsers\\readers.py:1898\u001b[0m, in \u001b[0;36mTextFileReader._make_engine\u001b[1;34m(self, f, engine)\u001b[0m\n\u001b[0;32m   1897\u001b[0m \u001b[38;5;28;01mtry\u001b[39;00m:\n\u001b[1;32m-> 1898\u001b[0m     \u001b[38;5;28;01mreturn\u001b[39;00m \u001b[43mmapping\u001b[49m\u001b[43m[\u001b[49m\u001b[43mengine\u001b[49m\u001b[43m]\u001b[49m\u001b[43m(\u001b[49m\u001b[43mf\u001b[49m\u001b[43m,\u001b[49m\u001b[43m \u001b[49m\u001b[38;5;241;43m*\u001b[39;49m\u001b[38;5;241;43m*\u001b[39;49m\u001b[38;5;28;43mself\u001b[39;49m\u001b[38;5;241;43m.\u001b[39;49m\u001b[43moptions\u001b[49m\u001b[43m)\u001b[49m\n\u001b[0;32m   1899\u001b[0m \u001b[38;5;28;01mexcept\u001b[39;00m \u001b[38;5;167;01mException\u001b[39;00m:\n",
      "File \u001b[1;32m~\\anaconda3\\Lib\\site-packages\\pandas\\io\\parsers\\c_parser_wrapper.py:93\u001b[0m, in \u001b[0;36mCParserWrapper.__init__\u001b[1;34m(self, src, **kwds)\u001b[0m\n\u001b[0;32m     92\u001b[0m     import_optional_dependency(\u001b[38;5;124m\"\u001b[39m\u001b[38;5;124mpyarrow\u001b[39m\u001b[38;5;124m\"\u001b[39m)\n\u001b[1;32m---> 93\u001b[0m \u001b[38;5;28mself\u001b[39m\u001b[38;5;241m.\u001b[39m_reader \u001b[38;5;241m=\u001b[39m \u001b[43mparsers\u001b[49m\u001b[38;5;241;43m.\u001b[39;49m\u001b[43mTextReader\u001b[49m\u001b[43m(\u001b[49m\u001b[43msrc\u001b[49m\u001b[43m,\u001b[49m\u001b[43m \u001b[49m\u001b[38;5;241;43m*\u001b[39;49m\u001b[38;5;241;43m*\u001b[39;49m\u001b[43mkwds\u001b[49m\u001b[43m)\u001b[49m\n\u001b[0;32m     95\u001b[0m \u001b[38;5;28mself\u001b[39m\u001b[38;5;241m.\u001b[39munnamed_cols \u001b[38;5;241m=\u001b[39m \u001b[38;5;28mself\u001b[39m\u001b[38;5;241m.\u001b[39m_reader\u001b[38;5;241m.\u001b[39munnamed_cols\n",
      "File \u001b[1;32mparsers.pyx:574\u001b[0m, in \u001b[0;36mpandas._libs.parsers.TextReader.__cinit__\u001b[1;34m()\u001b[0m\n",
      "File \u001b[1;32mparsers.pyx:663\u001b[0m, in \u001b[0;36mpandas._libs.parsers.TextReader._get_header\u001b[1;34m()\u001b[0m\n",
      "File \u001b[1;32mparsers.pyx:874\u001b[0m, in \u001b[0;36mpandas._libs.parsers.TextReader._tokenize_rows\u001b[1;34m()\u001b[0m\n",
      "File \u001b[1;32mparsers.pyx:891\u001b[0m, in \u001b[0;36mpandas._libs.parsers.TextReader._check_tokenize_status\u001b[1;34m()\u001b[0m\n",
      "File \u001b[1;32mparsers.pyx:2053\u001b[0m, in \u001b[0;36mpandas._libs.parsers.raise_parser_error\u001b[1;34m()\u001b[0m\n",
      "\u001b[1;31mUnicodeDecodeError\u001b[0m: 'cp949' codec can't decode byte 0x98 in position 23710: illegal multibyte sequence",
      "\nDuring handling of the above exception, another exception occurred:\n",
      "\u001b[1;31mUnicodeDecodeError\u001b[0m                        Traceback (most recent call last)",
      "Cell \u001b[1;32mIn[260], line 1\u001b[0m\n\u001b[1;32m----> 1\u001b[0m \u001b[43mmerge2_file\u001b[49m\u001b[43m(\u001b[49m\u001b[43mpath_dateset\u001b[49m\u001b[43m,\u001b[49m\u001b[43m \u001b[49m\u001b[43mpath_sub\u001b[49m\u001b[43m,\u001b[49m\u001b[43m \u001b[49m\u001b[38;5;124;43m'\u001b[39;49m\u001b[38;5;124;43m서울특별시 공공자전거 대여소별 이용정보(시간대별)_2021\u001b[39;49m\u001b[38;5;124;43m'\u001b[39;49m\u001b[43m,\u001b[49m\u001b[43m \u001b[49m\u001b[38;5;124;43m'\u001b[39;49m\u001b[38;5;124;43m'\u001b[39;49m\u001b[43m)\u001b[49m\n",
      "Cell \u001b[1;32mIn[43], line 14\u001b[0m, in \u001b[0;36mmerge2_file\u001b[1;34m(path_dateset, path_sub, new_filename, columns)\u001b[0m\n\u001b[0;32m     11\u001b[0m \u001b[38;5;28mprint\u001b[39m(\u001b[38;5;124m'\u001b[39m\u001b[38;5;124mpath : \u001b[39m\u001b[38;5;124m'\u001b[39m, path)\n\u001b[0;32m     13\u001b[0m \u001b[38;5;28;01mfor\u001b[39;00m i, file \u001b[38;5;129;01min\u001b[39;00m \u001b[38;5;28menumerate\u001b[39m(file_lists):\n\u001b[1;32m---> 14\u001b[0m     df \u001b[38;5;241m=\u001b[39m \u001b[43mread_file\u001b[49m\u001b[43m(\u001b[49m\u001b[43mpath\u001b[49m\u001b[43m \u001b[49m\u001b[38;5;241;43m+\u001b[39;49m\u001b[43m \u001b[49m\u001b[43mfile\u001b[49m\u001b[43m)\u001b[49m\n\u001b[0;32m     16\u001b[0m     \u001b[38;5;28;01mif\u001b[39;00m (i \u001b[38;5;241m>\u001b[39m \u001b[38;5;241m0\u001b[39m):\n\u001b[0;32m     17\u001b[0m         \u001b[38;5;28;01mif\u001b[39;00m columns \u001b[38;5;241m==\u001b[39m \u001b[38;5;124m\"\u001b[39m\u001b[38;5;124m\"\u001b[39m:\n",
      "Cell \u001b[1;32mIn[17], line 10\u001b[0m, in \u001b[0;36mread_file\u001b[1;34m(file_path)\u001b[0m\n\u001b[0;32m      8\u001b[0m     \u001b[38;5;28;01mreturn\u001b[39;00m pd\u001b[38;5;241m.\u001b[39mread_csv(file_path, encoding\u001b[38;5;241m=\u001b[39m\u001b[38;5;124m'\u001b[39m\u001b[38;5;124mcp949\u001b[39m\u001b[38;5;124m'\u001b[39m)\n\u001b[0;32m      9\u001b[0m \u001b[38;5;28;01mexcept\u001b[39;00m \u001b[38;5;167;01mBaseException\u001b[39;00m \u001b[38;5;28;01mas\u001b[39;00m e:\n\u001b[1;32m---> 10\u001b[0m     \u001b[38;5;28;01mreturn\u001b[39;00m \u001b[43mpd\u001b[49m\u001b[38;5;241;43m.\u001b[39;49m\u001b[43mread_csv\u001b[49m\u001b[43m(\u001b[49m\u001b[43mfile_path\u001b[49m\u001b[43m,\u001b[49m\u001b[43m \u001b[49m\u001b[43mencoding\u001b[49m\u001b[38;5;241;43m=\u001b[39;49m\u001b[38;5;124;43m'\u001b[39;49m\u001b[38;5;124;43mutf-8\u001b[39;49m\u001b[38;5;124;43m'\u001b[39;49m\u001b[43m)\u001b[49m\n",
      "File \u001b[1;32m~\\anaconda3\\Lib\\site-packages\\pandas\\io\\parsers\\readers.py:1026\u001b[0m, in \u001b[0;36mread_csv\u001b[1;34m(filepath_or_buffer, sep, delimiter, header, names, index_col, usecols, dtype, engine, converters, true_values, false_values, skipinitialspace, skiprows, skipfooter, nrows, na_values, keep_default_na, na_filter, verbose, skip_blank_lines, parse_dates, infer_datetime_format, keep_date_col, date_parser, date_format, dayfirst, cache_dates, iterator, chunksize, compression, thousands, decimal, lineterminator, quotechar, quoting, doublequote, escapechar, comment, encoding, encoding_errors, dialect, on_bad_lines, delim_whitespace, low_memory, memory_map, float_precision, storage_options, dtype_backend)\u001b[0m\n\u001b[0;32m   1013\u001b[0m kwds_defaults \u001b[38;5;241m=\u001b[39m _refine_defaults_read(\n\u001b[0;32m   1014\u001b[0m     dialect,\n\u001b[0;32m   1015\u001b[0m     delimiter,\n\u001b[1;32m   (...)\u001b[0m\n\u001b[0;32m   1022\u001b[0m     dtype_backend\u001b[38;5;241m=\u001b[39mdtype_backend,\n\u001b[0;32m   1023\u001b[0m )\n\u001b[0;32m   1024\u001b[0m kwds\u001b[38;5;241m.\u001b[39mupdate(kwds_defaults)\n\u001b[1;32m-> 1026\u001b[0m \u001b[38;5;28;01mreturn\u001b[39;00m \u001b[43m_read\u001b[49m\u001b[43m(\u001b[49m\u001b[43mfilepath_or_buffer\u001b[49m\u001b[43m,\u001b[49m\u001b[43m \u001b[49m\u001b[43mkwds\u001b[49m\u001b[43m)\u001b[49m\n",
      "File \u001b[1;32m~\\anaconda3\\Lib\\site-packages\\pandas\\io\\parsers\\readers.py:620\u001b[0m, in \u001b[0;36m_read\u001b[1;34m(filepath_or_buffer, kwds)\u001b[0m\n\u001b[0;32m    617\u001b[0m _validate_names(kwds\u001b[38;5;241m.\u001b[39mget(\u001b[38;5;124m\"\u001b[39m\u001b[38;5;124mnames\u001b[39m\u001b[38;5;124m\"\u001b[39m, \u001b[38;5;28;01mNone\u001b[39;00m))\n\u001b[0;32m    619\u001b[0m \u001b[38;5;66;03m# Create the parser.\u001b[39;00m\n\u001b[1;32m--> 620\u001b[0m parser \u001b[38;5;241m=\u001b[39m \u001b[43mTextFileReader\u001b[49m\u001b[43m(\u001b[49m\u001b[43mfilepath_or_buffer\u001b[49m\u001b[43m,\u001b[49m\u001b[43m \u001b[49m\u001b[38;5;241;43m*\u001b[39;49m\u001b[38;5;241;43m*\u001b[39;49m\u001b[43mkwds\u001b[49m\u001b[43m)\u001b[49m\n\u001b[0;32m    622\u001b[0m \u001b[38;5;28;01mif\u001b[39;00m chunksize \u001b[38;5;129;01mor\u001b[39;00m iterator:\n\u001b[0;32m    623\u001b[0m     \u001b[38;5;28;01mreturn\u001b[39;00m parser\n",
      "File \u001b[1;32m~\\anaconda3\\Lib\\site-packages\\pandas\\io\\parsers\\readers.py:1620\u001b[0m, in \u001b[0;36mTextFileReader.__init__\u001b[1;34m(self, f, engine, **kwds)\u001b[0m\n\u001b[0;32m   1617\u001b[0m     \u001b[38;5;28mself\u001b[39m\u001b[38;5;241m.\u001b[39moptions[\u001b[38;5;124m\"\u001b[39m\u001b[38;5;124mhas_index_names\u001b[39m\u001b[38;5;124m\"\u001b[39m] \u001b[38;5;241m=\u001b[39m kwds[\u001b[38;5;124m\"\u001b[39m\u001b[38;5;124mhas_index_names\u001b[39m\u001b[38;5;124m\"\u001b[39m]\n\u001b[0;32m   1619\u001b[0m \u001b[38;5;28mself\u001b[39m\u001b[38;5;241m.\u001b[39mhandles: IOHandles \u001b[38;5;241m|\u001b[39m \u001b[38;5;28;01mNone\u001b[39;00m \u001b[38;5;241m=\u001b[39m \u001b[38;5;28;01mNone\u001b[39;00m\n\u001b[1;32m-> 1620\u001b[0m \u001b[38;5;28mself\u001b[39m\u001b[38;5;241m.\u001b[39m_engine \u001b[38;5;241m=\u001b[39m \u001b[38;5;28;43mself\u001b[39;49m\u001b[38;5;241;43m.\u001b[39;49m\u001b[43m_make_engine\u001b[49m\u001b[43m(\u001b[49m\u001b[43mf\u001b[49m\u001b[43m,\u001b[49m\u001b[43m \u001b[49m\u001b[38;5;28;43mself\u001b[39;49m\u001b[38;5;241;43m.\u001b[39;49m\u001b[43mengine\u001b[49m\u001b[43m)\u001b[49m\n",
      "File \u001b[1;32m~\\anaconda3\\Lib\\site-packages\\pandas\\io\\parsers\\readers.py:1898\u001b[0m, in \u001b[0;36mTextFileReader._make_engine\u001b[1;34m(self, f, engine)\u001b[0m\n\u001b[0;32m   1895\u001b[0m     \u001b[38;5;28;01mraise\u001b[39;00m \u001b[38;5;167;01mValueError\u001b[39;00m(msg)\n\u001b[0;32m   1897\u001b[0m \u001b[38;5;28;01mtry\u001b[39;00m:\n\u001b[1;32m-> 1898\u001b[0m     \u001b[38;5;28;01mreturn\u001b[39;00m \u001b[43mmapping\u001b[49m\u001b[43m[\u001b[49m\u001b[43mengine\u001b[49m\u001b[43m]\u001b[49m\u001b[43m(\u001b[49m\u001b[43mf\u001b[49m\u001b[43m,\u001b[49m\u001b[43m \u001b[49m\u001b[38;5;241;43m*\u001b[39;49m\u001b[38;5;241;43m*\u001b[39;49m\u001b[38;5;28;43mself\u001b[39;49m\u001b[38;5;241;43m.\u001b[39;49m\u001b[43moptions\u001b[49m\u001b[43m)\u001b[49m\n\u001b[0;32m   1899\u001b[0m \u001b[38;5;28;01mexcept\u001b[39;00m \u001b[38;5;167;01mException\u001b[39;00m:\n\u001b[0;32m   1900\u001b[0m     \u001b[38;5;28;01mif\u001b[39;00m \u001b[38;5;28mself\u001b[39m\u001b[38;5;241m.\u001b[39mhandles \u001b[38;5;129;01mis\u001b[39;00m \u001b[38;5;129;01mnot\u001b[39;00m \u001b[38;5;28;01mNone\u001b[39;00m:\n",
      "File \u001b[1;32m~\\anaconda3\\Lib\\site-packages\\pandas\\io\\parsers\\c_parser_wrapper.py:93\u001b[0m, in \u001b[0;36mCParserWrapper.__init__\u001b[1;34m(self, src, **kwds)\u001b[0m\n\u001b[0;32m     90\u001b[0m \u001b[38;5;28;01mif\u001b[39;00m kwds[\u001b[38;5;124m\"\u001b[39m\u001b[38;5;124mdtype_backend\u001b[39m\u001b[38;5;124m\"\u001b[39m] \u001b[38;5;241m==\u001b[39m \u001b[38;5;124m\"\u001b[39m\u001b[38;5;124mpyarrow\u001b[39m\u001b[38;5;124m\"\u001b[39m:\n\u001b[0;32m     91\u001b[0m     \u001b[38;5;66;03m# Fail here loudly instead of in cython after reading\u001b[39;00m\n\u001b[0;32m     92\u001b[0m     import_optional_dependency(\u001b[38;5;124m\"\u001b[39m\u001b[38;5;124mpyarrow\u001b[39m\u001b[38;5;124m\"\u001b[39m)\n\u001b[1;32m---> 93\u001b[0m \u001b[38;5;28mself\u001b[39m\u001b[38;5;241m.\u001b[39m_reader \u001b[38;5;241m=\u001b[39m \u001b[43mparsers\u001b[49m\u001b[38;5;241;43m.\u001b[39;49m\u001b[43mTextReader\u001b[49m\u001b[43m(\u001b[49m\u001b[43msrc\u001b[49m\u001b[43m,\u001b[49m\u001b[43m \u001b[49m\u001b[38;5;241;43m*\u001b[39;49m\u001b[38;5;241;43m*\u001b[39;49m\u001b[43mkwds\u001b[49m\u001b[43m)\u001b[49m\n\u001b[0;32m     95\u001b[0m \u001b[38;5;28mself\u001b[39m\u001b[38;5;241m.\u001b[39munnamed_cols \u001b[38;5;241m=\u001b[39m \u001b[38;5;28mself\u001b[39m\u001b[38;5;241m.\u001b[39m_reader\u001b[38;5;241m.\u001b[39munnamed_cols\n\u001b[0;32m     97\u001b[0m \u001b[38;5;66;03m# error: Cannot determine type of 'names'\u001b[39;00m\n",
      "File \u001b[1;32mparsers.pyx:574\u001b[0m, in \u001b[0;36mpandas._libs.parsers.TextReader.__cinit__\u001b[1;34m()\u001b[0m\n",
      "File \u001b[1;32mparsers.pyx:691\u001b[0m, in \u001b[0;36mpandas._libs.parsers.TextReader._get_header\u001b[1;34m()\u001b[0m\n",
      "\u001b[1;31mUnicodeDecodeError\u001b[0m: 'utf-8' codec can't decode byte 0xb4 in position 0: invalid start byte"
     ]
    }
   ],
   "source": [
    "merge2_file(path_dateset, path_sub, '서울특별시 공공자전거 대여소별 이용정보(시간대별)_2021', '')"
   ]
  },
  {
   "cell_type": "code",
   "execution_count": 250,
   "id": "32038b5b-de52-48ff-9555-1e65ad9ebd6e",
   "metadata": {},
   "outputs": [
    {
     "ename": "UnicodeDecodeError",
     "evalue": "'cp949' codec can't decode byte 0x98 in position 378: illegal multibyte sequence",
     "output_type": "error",
     "traceback": [
      "\u001b[1;31m---------------------------------------------------------------------------\u001b[0m",
      "\u001b[1;31mUnicodeDecodeError\u001b[0m                        Traceback (most recent call last)",
      "Cell \u001b[1;32mIn[250], line 3\u001b[0m\n\u001b[0;32m      1\u001b[0m file_path \u001b[38;5;241m=\u001b[39m \u001b[38;5;124m'\u001b[39m\u001b[38;5;124mG:/내 드라이브/DataSet/서울특별시 공공자전거 대여소별 이용정보(시간대별)/2021/서울특별시 공공자전거 이용정보(시간대별)_21.03.csv\u001b[39m\u001b[38;5;124m'\u001b[39m\n\u001b[0;32m      2\u001b[0m \u001b[38;5;66;03m#pd1 = pd.read_csv(file_path, engine=\"python\")\u001b[39;00m\n\u001b[1;32m----> 3\u001b[0m pd1 \u001b[38;5;241m=\u001b[39m \u001b[43mpd\u001b[49m\u001b[38;5;241;43m.\u001b[39;49m\u001b[43mread_csv\u001b[49m\u001b[43m(\u001b[49m\u001b[43mfile_path\u001b[49m\u001b[43m,\u001b[49m\u001b[43m \u001b[49m\u001b[43mencoding\u001b[49m\u001b[38;5;241;43m=\u001b[39;49m\u001b[38;5;124;43m'\u001b[39;49m\u001b[38;5;124;43mcp949\u001b[39;49m\u001b[38;5;124;43m'\u001b[39;49m\u001b[43m)\u001b[49m\n\u001b[0;32m      4\u001b[0m \u001b[38;5;66;03m#pd1 = pd.read_csv(file_path, encoding='Windows-1254')\u001b[39;00m\n\u001b[0;32m      5\u001b[0m \u001b[38;5;66;03m#pd2 = pd.read_csv(file_path, encoding='utf-8' )\u001b[39;00m\n\u001b[0;32m      6\u001b[0m \u001b[38;5;66;03m#pd2 = pd.read_csv(file_path, encoding='utf-16-le' )\u001b[39;00m\n\u001b[0;32m      7\u001b[0m \n\u001b[0;32m      8\u001b[0m \u001b[38;5;66;03m#pd3 = pd.read_csv(file_path, encoding='euc-kr')\u001b[39;00m\n\u001b[0;32m      9\u001b[0m \u001b[38;5;66;03m#pd4 = pd.read_csv(file_path, encoding='utf-16', engine = 'python' )\u001b[39;00m\n",
      "File \u001b[1;32m~\\anaconda3\\Lib\\site-packages\\pandas\\io\\parsers\\readers.py:1026\u001b[0m, in \u001b[0;36mread_csv\u001b[1;34m(filepath_or_buffer, sep, delimiter, header, names, index_col, usecols, dtype, engine, converters, true_values, false_values, skipinitialspace, skiprows, skipfooter, nrows, na_values, keep_default_na, na_filter, verbose, skip_blank_lines, parse_dates, infer_datetime_format, keep_date_col, date_parser, date_format, dayfirst, cache_dates, iterator, chunksize, compression, thousands, decimal, lineterminator, quotechar, quoting, doublequote, escapechar, comment, encoding, encoding_errors, dialect, on_bad_lines, delim_whitespace, low_memory, memory_map, float_precision, storage_options, dtype_backend)\u001b[0m\n\u001b[0;32m   1013\u001b[0m kwds_defaults \u001b[38;5;241m=\u001b[39m _refine_defaults_read(\n\u001b[0;32m   1014\u001b[0m     dialect,\n\u001b[0;32m   1015\u001b[0m     delimiter,\n\u001b[1;32m   (...)\u001b[0m\n\u001b[0;32m   1022\u001b[0m     dtype_backend\u001b[38;5;241m=\u001b[39mdtype_backend,\n\u001b[0;32m   1023\u001b[0m )\n\u001b[0;32m   1024\u001b[0m kwds\u001b[38;5;241m.\u001b[39mupdate(kwds_defaults)\n\u001b[1;32m-> 1026\u001b[0m \u001b[38;5;28;01mreturn\u001b[39;00m \u001b[43m_read\u001b[49m\u001b[43m(\u001b[49m\u001b[43mfilepath_or_buffer\u001b[49m\u001b[43m,\u001b[49m\u001b[43m \u001b[49m\u001b[43mkwds\u001b[49m\u001b[43m)\u001b[49m\n",
      "File \u001b[1;32m~\\anaconda3\\Lib\\site-packages\\pandas\\io\\parsers\\readers.py:620\u001b[0m, in \u001b[0;36m_read\u001b[1;34m(filepath_or_buffer, kwds)\u001b[0m\n\u001b[0;32m    617\u001b[0m _validate_names(kwds\u001b[38;5;241m.\u001b[39mget(\u001b[38;5;124m\"\u001b[39m\u001b[38;5;124mnames\u001b[39m\u001b[38;5;124m\"\u001b[39m, \u001b[38;5;28;01mNone\u001b[39;00m))\n\u001b[0;32m    619\u001b[0m \u001b[38;5;66;03m# Create the parser.\u001b[39;00m\n\u001b[1;32m--> 620\u001b[0m parser \u001b[38;5;241m=\u001b[39m \u001b[43mTextFileReader\u001b[49m\u001b[43m(\u001b[49m\u001b[43mfilepath_or_buffer\u001b[49m\u001b[43m,\u001b[49m\u001b[43m \u001b[49m\u001b[38;5;241;43m*\u001b[39;49m\u001b[38;5;241;43m*\u001b[39;49m\u001b[43mkwds\u001b[49m\u001b[43m)\u001b[49m\n\u001b[0;32m    622\u001b[0m \u001b[38;5;28;01mif\u001b[39;00m chunksize \u001b[38;5;129;01mor\u001b[39;00m iterator:\n\u001b[0;32m    623\u001b[0m     \u001b[38;5;28;01mreturn\u001b[39;00m parser\n",
      "File \u001b[1;32m~\\anaconda3\\Lib\\site-packages\\pandas\\io\\parsers\\readers.py:1620\u001b[0m, in \u001b[0;36mTextFileReader.__init__\u001b[1;34m(self, f, engine, **kwds)\u001b[0m\n\u001b[0;32m   1617\u001b[0m     \u001b[38;5;28mself\u001b[39m\u001b[38;5;241m.\u001b[39moptions[\u001b[38;5;124m\"\u001b[39m\u001b[38;5;124mhas_index_names\u001b[39m\u001b[38;5;124m\"\u001b[39m] \u001b[38;5;241m=\u001b[39m kwds[\u001b[38;5;124m\"\u001b[39m\u001b[38;5;124mhas_index_names\u001b[39m\u001b[38;5;124m\"\u001b[39m]\n\u001b[0;32m   1619\u001b[0m \u001b[38;5;28mself\u001b[39m\u001b[38;5;241m.\u001b[39mhandles: IOHandles \u001b[38;5;241m|\u001b[39m \u001b[38;5;28;01mNone\u001b[39;00m \u001b[38;5;241m=\u001b[39m \u001b[38;5;28;01mNone\u001b[39;00m\n\u001b[1;32m-> 1620\u001b[0m \u001b[38;5;28mself\u001b[39m\u001b[38;5;241m.\u001b[39m_engine \u001b[38;5;241m=\u001b[39m \u001b[38;5;28;43mself\u001b[39;49m\u001b[38;5;241;43m.\u001b[39;49m\u001b[43m_make_engine\u001b[49m\u001b[43m(\u001b[49m\u001b[43mf\u001b[49m\u001b[43m,\u001b[49m\u001b[43m \u001b[49m\u001b[38;5;28;43mself\u001b[39;49m\u001b[38;5;241;43m.\u001b[39;49m\u001b[43mengine\u001b[49m\u001b[43m)\u001b[49m\n",
      "File \u001b[1;32m~\\anaconda3\\Lib\\site-packages\\pandas\\io\\parsers\\readers.py:1898\u001b[0m, in \u001b[0;36mTextFileReader._make_engine\u001b[1;34m(self, f, engine)\u001b[0m\n\u001b[0;32m   1895\u001b[0m     \u001b[38;5;28;01mraise\u001b[39;00m \u001b[38;5;167;01mValueError\u001b[39;00m(msg)\n\u001b[0;32m   1897\u001b[0m \u001b[38;5;28;01mtry\u001b[39;00m:\n\u001b[1;32m-> 1898\u001b[0m     \u001b[38;5;28;01mreturn\u001b[39;00m \u001b[43mmapping\u001b[49m\u001b[43m[\u001b[49m\u001b[43mengine\u001b[49m\u001b[43m]\u001b[49m\u001b[43m(\u001b[49m\u001b[43mf\u001b[49m\u001b[43m,\u001b[49m\u001b[43m \u001b[49m\u001b[38;5;241;43m*\u001b[39;49m\u001b[38;5;241;43m*\u001b[39;49m\u001b[38;5;28;43mself\u001b[39;49m\u001b[38;5;241;43m.\u001b[39;49m\u001b[43moptions\u001b[49m\u001b[43m)\u001b[49m\n\u001b[0;32m   1899\u001b[0m \u001b[38;5;28;01mexcept\u001b[39;00m \u001b[38;5;167;01mException\u001b[39;00m:\n\u001b[0;32m   1900\u001b[0m     \u001b[38;5;28;01mif\u001b[39;00m \u001b[38;5;28mself\u001b[39m\u001b[38;5;241m.\u001b[39mhandles \u001b[38;5;129;01mis\u001b[39;00m \u001b[38;5;129;01mnot\u001b[39;00m \u001b[38;5;28;01mNone\u001b[39;00m:\n",
      "File \u001b[1;32m~\\anaconda3\\Lib\\site-packages\\pandas\\io\\parsers\\c_parser_wrapper.py:93\u001b[0m, in \u001b[0;36mCParserWrapper.__init__\u001b[1;34m(self, src, **kwds)\u001b[0m\n\u001b[0;32m     90\u001b[0m \u001b[38;5;28;01mif\u001b[39;00m kwds[\u001b[38;5;124m\"\u001b[39m\u001b[38;5;124mdtype_backend\u001b[39m\u001b[38;5;124m\"\u001b[39m] \u001b[38;5;241m==\u001b[39m \u001b[38;5;124m\"\u001b[39m\u001b[38;5;124mpyarrow\u001b[39m\u001b[38;5;124m\"\u001b[39m:\n\u001b[0;32m     91\u001b[0m     \u001b[38;5;66;03m# Fail here loudly instead of in cython after reading\u001b[39;00m\n\u001b[0;32m     92\u001b[0m     import_optional_dependency(\u001b[38;5;124m\"\u001b[39m\u001b[38;5;124mpyarrow\u001b[39m\u001b[38;5;124m\"\u001b[39m)\n\u001b[1;32m---> 93\u001b[0m \u001b[38;5;28mself\u001b[39m\u001b[38;5;241m.\u001b[39m_reader \u001b[38;5;241m=\u001b[39m \u001b[43mparsers\u001b[49m\u001b[38;5;241;43m.\u001b[39;49m\u001b[43mTextReader\u001b[49m\u001b[43m(\u001b[49m\u001b[43msrc\u001b[49m\u001b[43m,\u001b[49m\u001b[43m \u001b[49m\u001b[38;5;241;43m*\u001b[39;49m\u001b[38;5;241;43m*\u001b[39;49m\u001b[43mkwds\u001b[49m\u001b[43m)\u001b[49m\n\u001b[0;32m     95\u001b[0m \u001b[38;5;28mself\u001b[39m\u001b[38;5;241m.\u001b[39munnamed_cols \u001b[38;5;241m=\u001b[39m \u001b[38;5;28mself\u001b[39m\u001b[38;5;241m.\u001b[39m_reader\u001b[38;5;241m.\u001b[39munnamed_cols\n\u001b[0;32m     97\u001b[0m \u001b[38;5;66;03m# error: Cannot determine type of 'names'\u001b[39;00m\n",
      "File \u001b[1;32mparsers.pyx:574\u001b[0m, in \u001b[0;36mpandas._libs.parsers.TextReader.__cinit__\u001b[1;34m()\u001b[0m\n",
      "File \u001b[1;32mparsers.pyx:663\u001b[0m, in \u001b[0;36mpandas._libs.parsers.TextReader._get_header\u001b[1;34m()\u001b[0m\n",
      "File \u001b[1;32mparsers.pyx:874\u001b[0m, in \u001b[0;36mpandas._libs.parsers.TextReader._tokenize_rows\u001b[1;34m()\u001b[0m\n",
      "File \u001b[1;32mparsers.pyx:891\u001b[0m, in \u001b[0;36mpandas._libs.parsers.TextReader._check_tokenize_status\u001b[1;34m()\u001b[0m\n",
      "File \u001b[1;32mparsers.pyx:2053\u001b[0m, in \u001b[0;36mpandas._libs.parsers.raise_parser_error\u001b[1;34m()\u001b[0m\n",
      "\u001b[1;31mUnicodeDecodeError\u001b[0m: 'cp949' codec can't decode byte 0x98 in position 378: illegal multibyte sequence"
     ]
    }
   ],
   "source": [
    "file_path = 'G:/내 드라이브/DataSet/서울특별시 공공자전거 대여소별 이용정보(시간대별)/2021/서울특별시 공공자전거 이용정보(시간대별)_21.03.csv'\n",
    "#pd1 = pd.read_csv(file_path, engine=\"python\")\n",
    "pd1 = pd.read_csv(file_path, encoding='cp949')\n",
    "#pd1 = pd.read_csv(file_path, encoding='Windows-1254')\n",
    "#pd2 = pd.read_csv(file_path, encoding='utf-8' )\n",
    "#pd2 = pd.read_csv(file_path, encoding='utf-16-le' )\n",
    "\n",
    "#pd3 = pd.read_csv(file_path, encoding='euc-kr')\n",
    "#pd4 = pd.read_csv(file_path, encoding='utf-16', engine = 'python' )"
   ]
  },
  {
   "cell_type": "code",
   "execution_count": 245,
   "id": "a778fbf8-80e2-493c-8234-fe086337a474",
   "metadata": {},
   "outputs": [
    {
     "data": {
      "text/html": [
       "<div>\n",
       "<style scoped>\n",
       "    .dataframe tbody tr th:only-of-type {\n",
       "        vertical-align: middle;\n",
       "    }\n",
       "\n",
       "    .dataframe tbody tr th {\n",
       "        vertical-align: top;\n",
       "    }\n",
       "\n",
       "    .dataframe thead th {\n",
       "        text-align: right;\n",
       "    }\n",
       "</style>\n",
       "<table border=\"1\" class=\"dataframe\">\n",
       "  <thead>\n",
       "    <tr style=\"text-align: right;\">\n",
       "      <th></th>\n",
       "      <th>´ë¿©ÀÏÀÚ</th>\n",
       "      <th>´ë¿©½Ã°£</th>\n",
       "      <th>´ë¿©¼Ò¹øÈ£</th>\n",
       "      <th>´ë¿©¼Ò¸í</th>\n",
       "      <th>´ë¿©±¸ºĞÄÚµå</th>\n",
       "      <th>¼ºº°</th>\n",
       "      <th>¿¬·É´ëÄÚµå</th>\n",
       "      <th>ÀÌ¿ë°Ç¼ö</th>\n",
       "      <th>¿îµ¿·®</th>\n",
       "      <th>Åº¼Ò·®</th>\n",
       "      <th>ÀÌµ¿°Å¸®</th>\n",
       "      <th>»ç¿ë½Ã°£</th>\n",
       "    </tr>\n",
       "  </thead>\n",
       "  <tbody>\n",
       "    <tr>\n",
       "      <th>0</th>\n",
       "      <td>2021-03-01</td>\n",
       "      <td>0</td>\n",
       "      <td>1155</td>\n",
       "      <td>1155. ±â»Û¿ì¸®º¹Áö°ü</td>\n",
       "      <td>Á¤±â±Ç</td>\n",
       "      <td>NaN</td>\n",
       "      <td>~10´ë</td>\n",
       "      <td>1.0</td>\n",
       "      <td>41.28</td>\n",
       "      <td>0.25</td>\n",
       "      <td>1097.30</td>\n",
       "      <td>48.0</td>\n",
       "    </tr>\n",
       "    <tr>\n",
       "      <th>1</th>\n",
       "      <td>2021-03-01</td>\n",
       "      <td>0</td>\n",
       "      <td>515</td>\n",
       "      <td>515. ±¤¾çÁßÇĞ±³ ¾Õ</td>\n",
       "      <td>Á¤±â±Ç</td>\n",
       "      <td>NaN</td>\n",
       "      <td>~10´ë</td>\n",
       "      <td>1.0</td>\n",
       "      <td>37.41</td>\n",
       "      <td>0.34</td>\n",
       "      <td>1453.44</td>\n",
       "      <td>7.0</td>\n",
       "    </tr>\n",
       "    <tr>\n",
       "      <th>2</th>\n",
       "      <td>2021-03-01</td>\n",
       "      <td>0</td>\n",
       "      <td>2067</td>\n",
       "      <td>2067. LGÀüÀÚ º£½ºÆ®˜?´ë¸®Á¡ ¾Õ</td>\n",
       "      <td>Á¤±â±Ç</td>\n",
       "      <td>NaN</td>\n",
       "      <td>~10´ë</td>\n",
       "      <td>1.0</td>\n",
       "      <td>0.00</td>\n",
       "      <td>0.00</td>\n",
       "      <td>0.00</td>\n",
       "      <td>11.0</td>\n",
       "    </tr>\n",
       "    <tr>\n",
       "      <th>3</th>\n",
       "      <td>2021-03-01</td>\n",
       "      <td>0</td>\n",
       "      <td>1191</td>\n",
       "      <td>1191. ¸¶°î¿ª ±³Â÷·Î(NH³óÇù)</td>\n",
       "      <td>Á¤±â±Ç</td>\n",
       "      <td>NaN</td>\n",
       "      <td>~10´ë</td>\n",
       "      <td>1.0</td>\n",
       "      <td>57.54</td>\n",
       "      <td>0.45</td>\n",
       "      <td>1937.28</td>\n",
       "      <td>45.0</td>\n",
       "    </tr>\n",
       "    <tr>\n",
       "      <th>4</th>\n",
       "      <td>2021-03-01</td>\n",
       "      <td>0</td>\n",
       "      <td>367</td>\n",
       "      <td>367. µ¶¸³¹®¿ª 3-1¹øÃâ±¸</td>\n",
       "      <td>Á¤±â±Ç</td>\n",
       "      <td>NaN</td>\n",
       "      <td>~10´ë</td>\n",
       "      <td>1.0</td>\n",
       "      <td>46.15</td>\n",
       "      <td>0.36</td>\n",
       "      <td>1553.83</td>\n",
       "      <td>9.0</td>\n",
       "    </tr>\n",
       "  </tbody>\n",
       "</table>\n",
       "</div>"
      ],
      "text/plain": [
       "     ´ë¿©ÀÏÀÚ  ´ë¿©½Ã°£  ´ë¿©¼Ò¹øÈ£                        ´ë¿©¼Ò¸í  \\\n",
       "0  2021-03-01         0        1155            1155. ±â»Û¿ì¸®º¹Áö°ü   \n",
       "1  2021-03-01         0         515              515. ±¤¾çÁßÇĞ±³ ¾Õ   \n",
       "2  2021-03-01         0        2067  2067. LGÀüÀÚ º£½ºÆ®˜?´ë¸®Á¡ ¾Õ   \n",
       "3  2021-03-01         0        1191     1191. ¸¶°î¿ª ±³Â÷·Î(NH³óÇù)   \n",
       "4  2021-03-01         0         367        367. µ¶¸³¹®¿ª 3-1¹øÃâ±¸    \n",
       "\n",
       "  ´ë¿©±¸ºĞÄÚµå ¼ºº° ¿¬·É´ëÄÚµå  ÀÌ¿ë°Ç¼ö ¿îµ¿·® Åº¼Ò·®  ÀÌµ¿°Å¸®  »ç¿ë½Ã°£  \n",
       "0       Á¤±â±Ç  NaN      ~10´ë       1.0  41.28   0.25   1097.30      48.0  \n",
       "1       Á¤±â±Ç  NaN      ~10´ë       1.0  37.41   0.34   1453.44       7.0  \n",
       "2       Á¤±â±Ç  NaN      ~10´ë       1.0   0.00   0.00      0.00      11.0  \n",
       "3       Á¤±â±Ç  NaN      ~10´ë       1.0  57.54   0.45   1937.28      45.0  \n",
       "4       Á¤±â±Ç  NaN      ~10´ë       1.0  46.15   0.36   1553.83       9.0  "
      ]
     },
     "execution_count": 245,
     "metadata": {},
     "output_type": "execute_result"
    }
   ],
   "source": [
    "pd1.head()"
   ]
  },
  {
   "cell_type": "code",
   "execution_count": 248,
   "id": "46dae027-9b33-4d15-8b3a-27be7914d277",
   "metadata": {},
   "outputs": [
    {
     "data": {
      "text/plain": [
       "´ë¿©ÀÏÀÚ        1794270\n",
       "´ë¿©½Ã°£        1794270\n",
       "´ë¿©¼Ò¹øÈ£      1794270\n",
       "´ë¿©¼Ò¸í        1794270\n",
       "´ë¿©±¸ºĞÄÚµå    1794266\n",
       "¼ºº°            1022889\n",
       "¿¬·É´ëÄÚµå      1794270\n",
       "ÀÌ¿ë°Ç¼ö        1794270\n",
       "¿îµ¿·®          1794270\n",
       "Åº¼Ò·®          1794270\n",
       "ÀÌµ¿°Å¸®        1794259\n",
       "»ç¿ë½Ã°£        1794223\n",
       "dtype: int64"
      ]
     },
     "execution_count": 248,
     "metadata": {},
     "output_type": "execute_result"
    }
   ],
   "source": [
    "pd1.count()"
   ]
  },
  {
   "cell_type": "markdown",
   "id": "59a99b3f-073e-4840-b705-bc92e34f694b",
   "metadata": {},
   "source": [
    "### 서울특별시 공공자전거 이용정보(일별)"
   ]
  },
  {
   "cell_type": "code",
   "execution_count": null,
   "id": "b2170f14-7bdc-4c1d-b4b9-8132857bce82",
   "metadata": {},
   "outputs": [],
   "source": [
    "path_sub = '서울특별시 공공자전거 이용정보(일별)/'\n",
    "check_file(path_dateset, path_sub)"
   ]
  },
  {
   "cell_type": "code",
   "execution_count": null,
   "id": "52decb32-a471-46e5-98ee-3d6916610916",
   "metadata": {
    "scrolled": true
   },
   "outputs": [],
   "source": [
    "merge2_file(path_dateset, path_sub, '서울특별시 공공자전거 이용정보(일별)', '')"
   ]
  },
  {
   "cell_type": "code",
   "execution_count": null,
   "id": "0f54e299-3262-4f36-b805-dd7ecd7ca1d7",
   "metadata": {},
   "outputs": [],
   "source": [
    "rf = pd.read_csv('G:/내 드라이브/DataSet/서울특별시 공공자전거 이용정보(일별)/서울특별시 공공자전거 이용정보(일별).csv', encoding='cp949', engine = 'python')\n",
    "rf.head()"
   ]
  },
  {
   "cell_type": "markdown",
   "id": "2dd948dc-d5f1-4192-a1ba-07f1c87acaf2",
   "metadata": {},
   "source": [
    "### 대용량 파일 열기"
   ]
  },
  {
   "cell_type": "code",
   "execution_count": 228,
   "id": "8074bed8-a063-460b-aeb2-e8fd897a1723",
   "metadata": {},
   "outputs": [
    {
     "name": "stdout",
     "output_type": "stream",
     "text": [
      "time : 47.78159689903259\n"
     ]
    }
   ],
   "source": [
    "from pyarrow import csv\n",
    "import time\n",
    "file_path = 'G:/내 드라이브/DataSet/서울특별시 공공자전거 이용정보(일별)/서울특별시 공공자전거 이용정보(일별).csv'\n",
    "#file_path = path_dateset + path_sub + '서울특별시 공공자전거 대여소별 이용정보(시간대별)_2024' + '.CSV'\n",
    "start_time = time.time()  # 시작 시간 저장\n",
    "pyarrow_df = csv.read_csv(file_path).to_pandas()\n",
    "\n",
    "print(\"time :\", time.time() - start_time) # 현재시간 - 시작시간"
   ]
  },
  {
   "cell_type": "code",
   "execution_count": 230,
   "id": "0da6bee9-2aa8-4bcf-9ef6-89e89f0471b4",
   "metadata": {},
   "outputs": [
    {
     "data": {
      "text/html": [
       "<div>\n",
       "<style scoped>\n",
       "    .dataframe tbody tr th:only-of-type {\n",
       "        vertical-align: middle;\n",
       "    }\n",
       "\n",
       "    .dataframe tbody tr th {\n",
       "        vertical-align: top;\n",
       "    }\n",
       "\n",
       "    .dataframe thead th {\n",
       "        text-align: right;\n",
       "    }\n",
       "</style>\n",
       "<table border=\"1\" class=\"dataframe\">\n",
       "  <thead>\n",
       "    <tr style=\"text-align: right;\">\n",
       "      <th></th>\n",
       "      <th>대여일자</th>\n",
       "      <th>대여소번호</th>\n",
       "      <th>대여소</th>\n",
       "      <th>대여구분코드</th>\n",
       "      <th>성별</th>\n",
       "      <th>연령대</th>\n",
       "      <th>이용건수</th>\n",
       "      <th>운동량</th>\n",
       "      <th>탄소량</th>\n",
       "      <th>이동거리(M)</th>\n",
       "      <th>이용시간(분)</th>\n",
       "    </tr>\n",
       "  </thead>\n",
       "  <tbody>\n",
       "    <tr>\n",
       "      <th>0</th>\n",
       "      <td>2024-06-01</td>\n",
       "      <td>732</td>\n",
       "      <td>732. 신월중학교</td>\n",
       "      <td>정기권</td>\n",
       "      <td></td>\n",
       "      <td>~10대</td>\n",
       "      <td>1</td>\n",
       "      <td>70.43</td>\n",
       "      <td>0.63</td>\n",
       "      <td>2736.36</td>\n",
       "      <td>27</td>\n",
       "    </tr>\n",
       "    <tr>\n",
       "      <th>1</th>\n",
       "      <td>2024-06-01</td>\n",
       "      <td>734</td>\n",
       "      <td>734. 신트리공원 입구</td>\n",
       "      <td>정기권</td>\n",
       "      <td></td>\n",
       "      <td>~10대</td>\n",
       "      <td>1</td>\n",
       "      <td>45.17</td>\n",
       "      <td>0.53</td>\n",
       "      <td>2281.41</td>\n",
       "      <td>12</td>\n",
       "    </tr>\n",
       "    <tr>\n",
       "      <th>2</th>\n",
       "      <td>2024-06-01</td>\n",
       "      <td>735</td>\n",
       "      <td>735. 영도초등학교</td>\n",
       "      <td>정기권</td>\n",
       "      <td></td>\n",
       "      <td>~10대</td>\n",
       "      <td>1</td>\n",
       "      <td>14.73</td>\n",
       "      <td>0.18</td>\n",
       "      <td>791.26</td>\n",
       "      <td>4</td>\n",
       "    </tr>\n",
       "    <tr>\n",
       "      <th>3</th>\n",
       "      <td>2024-06-01</td>\n",
       "      <td>947</td>\n",
       "      <td>947. 연신내 선일하이츠빌 정류소</td>\n",
       "      <td>정기권</td>\n",
       "      <td></td>\n",
       "      <td>~10대</td>\n",
       "      <td>1</td>\n",
       "      <td>0.0</td>\n",
       "      <td>0.0</td>\n",
       "      <td>0.00</td>\n",
       "      <td>2</td>\n",
       "    </tr>\n",
       "    <tr>\n",
       "      <th>4</th>\n",
       "      <td>2024-06-01</td>\n",
       "      <td>949</td>\n",
       "      <td>949. 연신내역 1번 출구</td>\n",
       "      <td>정기권</td>\n",
       "      <td></td>\n",
       "      <td>~10대</td>\n",
       "      <td>1</td>\n",
       "      <td>16.26</td>\n",
       "      <td>0.18</td>\n",
       "      <td>774.62</td>\n",
       "      <td>6</td>\n",
       "    </tr>\n",
       "  </tbody>\n",
       "</table>\n",
       "</div>"
      ],
      "text/plain": [
       "         대여일자  대여소번호                  대여소 대여구분코드 성별   연령대   이용건수    운동량   탄소량  \\\n",
       "0  2024-06-01    732           732. 신월중학교    정기권     ~10대      1  70.43  0.63   \n",
       "1  2024-06-01    734        734. 신트리공원 입구    정기권     ~10대      1  45.17  0.53   \n",
       "2  2024-06-01    735          735. 영도초등학교    정기권     ~10대      1  14.73  0.18   \n",
       "3  2024-06-01    947  947. 연신내 선일하이츠빌 정류소    정기권     ~10대      1    0.0   0.0   \n",
       "4  2024-06-01    949     949. 연신내역 1번 출구     정기권     ~10대      1  16.26  0.18   \n",
       "\n",
       "   이동거리(M)  이용시간(분)  \n",
       "0  2736.36       27  \n",
       "1  2281.41       12  \n",
       "2   791.26        4  \n",
       "3     0.00        2  \n",
       "4   774.62        6  "
      ]
     },
     "execution_count": 230,
     "metadata": {},
     "output_type": "execute_result"
    }
   ],
   "source": [
    "pyarrow_df.head()"
   ]
  },
  {
   "cell_type": "code",
   "execution_count": 166,
   "id": "579bdfb5-d75c-4851-9b8f-ebf90388b583",
   "metadata": {},
   "outputs": [
    {
     "data": {
      "text/plain": [
       "대여일자       19369646\n",
       "대여시간       19369646\n",
       "대여소번호      19369646\n",
       "대여소명       19369646\n",
       "대여구분코드     19369646\n",
       "성별         19369646\n",
       "연령대코드      19369646\n",
       "이용건수       19369646\n",
       "운동량        19369646\n",
       "탄소량        19369646\n",
       "이동거리(M)    19369646\n",
       "이용시간(분)    19369646\n",
       "dtype: int64"
      ]
     },
     "execution_count": 166,
     "metadata": {},
     "output_type": "execute_result"
    }
   ],
   "source": [
    "pyarrow_df.count()"
   ]
  },
  {
   "cell_type": "code",
   "execution_count": null,
   "id": "85c0f035-6ee6-455f-b42e-e55be6c15ac6",
   "metadata": {},
   "outputs": [],
   "source": [
    "def bigfile_read(file_path):\n",
    "    import dask.dataframe as dd\n",
    "    # file_path = 'G:/내 드라이브/DataSet/서울특별시 공공자전거 이용정보(일별)/서울특별시 공공자전거 이용정보(일별).csv'\n",
    "    #file_path = 'G:/내 드라이브/DataSet/서울특별시 공공자전거 대여소별 이용정보(시간대별)/2020/서울특별시 공공자전거 대여소별 이용정보(시간대별)_2020.CSV'\n",
    "    \n",
    "    start_time = time.time()  # 시작 시간 저장\n",
    "    dask_df = dd.read_csv(file_path)\n",
    "    \n",
    "    print(\"time :\", time.time() - start_time) # 현재시간 - 시작시간\n",
    "    return dask_df"
   ]
  },
  {
   "cell_type": "code",
   "execution_count": 119,
   "id": "27c335ac-4dc1-4ed2-bfd7-4d0cd665f78c",
   "metadata": {},
   "outputs": [
    {
     "name": "stdout",
     "output_type": "stream",
     "text": [
      "time : 0.0\n"
     ]
    }
   ],
   "source": [
    "big_read = bigfile_read('G:/내 드라이브/DataSet/서울특별시 공공자전거 대여소별 이용정보(시간대별)/2020/서울특별시 공공자전거 대여소별 이용정보(시간대별)_2020.CSV')"
   ]
  },
  {
   "cell_type": "code",
   "execution_count": 123,
   "id": "9fa45ec3-b59d-43bb-befe-83ce478af3fc",
   "metadata": {},
   "outputs": [
    {
     "data": {
      "text/html": [
       "<div><strong>Dask DataFrame Structure:</strong></div>\n",
       "<table border=\"1\" class=\"dataframe\">\n",
       "  <thead>\n",
       "    <tr style=\"text-align: right;\">\n",
       "      <th></th>\n",
       "      <th>대여일자</th>\n",
       "      <th>대여시간</th>\n",
       "      <th>대여소번호</th>\n",
       "      <th>대여소명</th>\n",
       "      <th>대여구분코드</th>\n",
       "      <th>성별</th>\n",
       "      <th>연령대코드</th>\n",
       "      <th>이용건수</th>\n",
       "      <th>운동량</th>\n",
       "      <th>탄소량</th>\n",
       "      <th>이동거리</th>\n",
       "      <th>사용시간</th>\n",
       "    </tr>\n",
       "    <tr>\n",
       "      <th>npartitions=26</th>\n",
       "      <th></th>\n",
       "      <th></th>\n",
       "      <th></th>\n",
       "      <th></th>\n",
       "      <th></th>\n",
       "      <th></th>\n",
       "      <th></th>\n",
       "      <th></th>\n",
       "      <th></th>\n",
       "      <th></th>\n",
       "      <th></th>\n",
       "      <th></th>\n",
       "    </tr>\n",
       "  </thead>\n",
       "  <tbody>\n",
       "    <tr>\n",
       "      <th></th>\n",
       "      <td>string</td>\n",
       "      <td>int64</td>\n",
       "      <td>int64</td>\n",
       "      <td>string</td>\n",
       "      <td>string</td>\n",
       "      <td>float64</td>\n",
       "      <td>string</td>\n",
       "      <td>int64</td>\n",
       "      <td>float64</td>\n",
       "      <td>float64</td>\n",
       "      <td>float64</td>\n",
       "      <td>int64</td>\n",
       "    </tr>\n",
       "    <tr>\n",
       "      <th></th>\n",
       "      <td>...</td>\n",
       "      <td>...</td>\n",
       "      <td>...</td>\n",
       "      <td>...</td>\n",
       "      <td>...</td>\n",
       "      <td>...</td>\n",
       "      <td>...</td>\n",
       "      <td>...</td>\n",
       "      <td>...</td>\n",
       "      <td>...</td>\n",
       "      <td>...</td>\n",
       "      <td>...</td>\n",
       "    </tr>\n",
       "    <tr>\n",
       "      <th>...</th>\n",
       "      <td>...</td>\n",
       "      <td>...</td>\n",
       "      <td>...</td>\n",
       "      <td>...</td>\n",
       "      <td>...</td>\n",
       "      <td>...</td>\n",
       "      <td>...</td>\n",
       "      <td>...</td>\n",
       "      <td>...</td>\n",
       "      <td>...</td>\n",
       "      <td>...</td>\n",
       "      <td>...</td>\n",
       "    </tr>\n",
       "    <tr>\n",
       "      <th></th>\n",
       "      <td>...</td>\n",
       "      <td>...</td>\n",
       "      <td>...</td>\n",
       "      <td>...</td>\n",
       "      <td>...</td>\n",
       "      <td>...</td>\n",
       "      <td>...</td>\n",
       "      <td>...</td>\n",
       "      <td>...</td>\n",
       "      <td>...</td>\n",
       "      <td>...</td>\n",
       "      <td>...</td>\n",
       "    </tr>\n",
       "    <tr>\n",
       "      <th></th>\n",
       "      <td>...</td>\n",
       "      <td>...</td>\n",
       "      <td>...</td>\n",
       "      <td>...</td>\n",
       "      <td>...</td>\n",
       "      <td>...</td>\n",
       "      <td>...</td>\n",
       "      <td>...</td>\n",
       "      <td>...</td>\n",
       "      <td>...</td>\n",
       "      <td>...</td>\n",
       "      <td>...</td>\n",
       "    </tr>\n",
       "  </tbody>\n",
       "</table>\n",
       "<div>Dask Name: read_csv, 1 expression</div>"
      ],
      "text/plain": [
       "Dask DataFrame Structure:\n",
       "                  대여일자   대여시간  대여소번호    대여소명  대여구분코드       성별   연령대코드   이용건수      운동량      탄소량     이동거리   사용시간\n",
       "npartitions=26                                                                                                \n",
       "                string  int64  int64  string  string  float64  string  int64  float64  float64  float64  int64\n",
       "                   ...    ...    ...     ...     ...      ...     ...    ...      ...      ...      ...    ...\n",
       "...                ...    ...    ...     ...     ...      ...     ...    ...      ...      ...      ...    ...\n",
       "                   ...    ...    ...     ...     ...      ...     ...    ...      ...      ...      ...    ...\n",
       "                   ...    ...    ...     ...     ...      ...     ...    ...      ...      ...      ...    ...\n",
       "Dask Name: read_csv, 1 expression\n",
       "Expr=ReadCSV(9d4fb60)"
      ]
     },
     "execution_count": 123,
     "metadata": {},
     "output_type": "execute_result"
    }
   ],
   "source": [
    "big_read"
   ]
  },
  {
   "cell_type": "code",
   "execution_count": 125,
   "id": "8fe50175-2fcc-46ac-9cce-228822230985",
   "metadata": {},
   "outputs": [
    {
     "name": "stdout",
     "output_type": "stream",
     "text": [
      "time : 0.0\n"
     ]
    }
   ],
   "source": [
    "import dask.dataframe as dd\n",
    "# file_path = 'G:/내 드라이브/DataSet/서울특별시 공공자전거 이용정보(일별)/서울특별시 공공자전거 이용정보(일별).csv'\n",
    "file_path = 'G:/내 드라이브/DataSet/서울특별시 공공자전거 대여소별 이용정보(시간대별)/2020/서울특별시 공공자전거 대여소별 이용정보(시간대별)_2020.CSV'\n",
    "\n",
    "start_time = time.time()  # 시작 시간 저장\n",
    "dask_df = dd.read_csv(file_path)\n",
    "\n",
    "print(\"time :\", time.time() - start_time) # 현재시간 - 시작시간"
   ]
  },
  {
   "cell_type": "code",
   "execution_count": 107,
   "id": "1105189d-6f8d-4f0c-80d3-050efbe8e554",
   "metadata": {},
   "outputs": [
    {
     "data": {
      "text/plain": [
       "Dask Series Structure:\n",
       "npartitions=1\n",
       "대여구분코드    int64\n",
       "탄소량         ...\n",
       "Dask Name: count, 2 expressions\n",
       "Expr=ReadCSV(9d4fb60).count()"
      ]
     },
     "execution_count": 107,
     "metadata": {},
     "output_type": "execute_result"
    }
   ],
   "source": [
    "dask_df.count()"
   ]
  },
  {
   "cell_type": "code",
   "execution_count": null,
   "id": "a375cafe-ba99-43bb-9319-dd107591735f",
   "metadata": {},
   "outputs": [],
   "source": []
  }
 ],
 "metadata": {
  "kernelspec": {
   "display_name": "Python 3 (ipykernel)",
   "language": "python",
   "name": "python3"
  },
  "language_info": {
   "codemirror_mode": {
    "name": "ipython",
    "version": 3
   },
   "file_extension": ".py",
   "mimetype": "text/x-python",
   "name": "python",
   "nbconvert_exporter": "python",
   "pygments_lexer": "ipython3",
   "version": "3.12.4"
  }
 },
 "nbformat": 4,
 "nbformat_minor": 5
}
