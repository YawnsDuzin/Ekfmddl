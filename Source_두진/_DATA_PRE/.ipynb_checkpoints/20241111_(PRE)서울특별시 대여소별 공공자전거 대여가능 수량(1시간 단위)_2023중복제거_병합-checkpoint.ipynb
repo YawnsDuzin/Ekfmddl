{
 "cells": [
  {
   "cell_type": "code",
   "execution_count": 1,
   "id": "2e69029a-b842-4f6b-9fc1-f213914c46c2",
   "metadata": {},
   "outputs": [],
   "source": [
    "# 라이브러리 임포트\n",
    "import os\n",
    "import numpy as np\n",
    "import pandas as pd\n",
    "import chardet\n",
    "\n",
    "# 사용자 정의함수 경로 설정\n",
    "import sys\n",
    "sys.path.append(\"G:/내 드라이브/Source/_Custom_Function\")\n",
    "# 사용자 정의함수 불러오기\n",
    "\n",
    "import time\n",
    "\n",
    "import ExcelFile_Merge as em\n",
    "import ExcelFile_Read as er\n",
    "import ExcelFile_EDA as ee"
   ]
  },
  {
   "cell_type": "code",
   "execution_count": 2,
   "id": "062687fa-c051-405d-b130-eec37c211c0d",
   "metadata": {},
   "outputs": [],
   "source": [
    "Default_path = 'G:\\\\내 드라이브\\\\DataSet\\\\서울특별시 대여소별 공공자전거 대여가능 수량(1시간 단위)\\\\'"
   ]
  },
  {
   "cell_type": "markdown",
   "id": "c8908337-10b8-419c-9eb3-054adbf69e0c",
   "metadata": {},
   "source": [
    "---\n",
    "### 경로 파일 체크\n",
    "- 23.01-23.03 (17일까지만 있음)"
   ]
  },
  {
   "cell_type": "code",
   "execution_count": 6,
   "id": "d37a56e7-13d7-499d-80fe-389e337edfcf",
   "metadata": {},
   "outputs": [],
   "source": [
    "Sub_path = '23.01-23.03 (17일까지만 있음)\\\\'"
   ]
  },
  {
   "cell_type": "code",
   "execution_count": 8,
   "id": "a38edba0-1795-491e-8eaf-8b54812b66f0",
   "metadata": {},
   "outputs": [
    {
     "ename": "FileNotFoundError",
     "evalue": "[WinError 3] 지정된 경로를 찾을 수 없습니다: 'G:\\\\내 드라이브\\\\DataSet\\\\서울특별시 대여소별 공공자전거 대여가능 수량(1시간 단위)\\\\23.01-23.03 (17일까지만 있음)\\\\'",
     "output_type": "error",
     "traceback": [
      "\u001b[1;31m---------------------------------------------------------------------------\u001b[0m",
      "\u001b[1;31mFileNotFoundError\u001b[0m                         Traceback (most recent call last)",
      "Cell \u001b[1;32mIn[8], line 1\u001b[0m\n\u001b[1;32m----> 1\u001b[0m \u001b[43mer\u001b[49m\u001b[38;5;241;43m.\u001b[39;49m\u001b[43mColumns_Check\u001b[49m\u001b[43m(\u001b[49m\u001b[43mDefault_path\u001b[49m\u001b[43m \u001b[49m\u001b[38;5;241;43m+\u001b[39;49m\u001b[43m \u001b[49m\u001b[43mSub_path\u001b[49m\u001b[43m)\u001b[49m \n",
      "File \u001b[1;32mG:\\내 드라이브/Source/_Custom_Function\\ExcelFile_Read.py:108\u001b[0m, in \u001b[0;36mColumns_Check\u001b[1;34m(file_path)\u001b[0m\n\u001b[0;32m    102\u001b[0m \u001b[38;5;28;01mimport\u001b[39;00m \u001b[38;5;21;01mpandas\u001b[39;00m \u001b[38;5;28;01mas\u001b[39;00m \u001b[38;5;21;01mpd\u001b[39;00m\n\u001b[0;32m    104\u001b[0m \u001b[38;5;66;03m#path_sub = '서울시 따릉이 대여소별 대여 반납 승객수 정보/월 데이터 통합/2021/'\u001b[39;00m\n\u001b[0;32m    105\u001b[0m \u001b[38;5;66;03m#file_path = path_dateset + path_sub\u001b[39;00m\n\u001b[0;32m    106\u001b[0m \n\u001b[0;32m    107\u001b[0m \u001b[38;5;66;03m#파일 경로명 변경\u001b[39;00m\n\u001b[1;32m--> 108\u001b[0m file_list \u001b[38;5;241m=\u001b[39m \u001b[43mos\u001b[49m\u001b[38;5;241;43m.\u001b[39;49m\u001b[43mlistdir\u001b[49m\u001b[43m(\u001b[49m\u001b[43mfile_path\u001b[49m\u001b[43m)\u001b[49m\n\u001b[0;32m    109\u001b[0m file_lists \u001b[38;5;241m=\u001b[39m [file \u001b[38;5;28;01mfor\u001b[39;00m file \u001b[38;5;129;01min\u001b[39;00m file_list \u001b[38;5;28;01mif\u001b[39;00m file\u001b[38;5;241m.\u001b[39mendswith((\u001b[38;5;124m\"\u001b[39m\u001b[38;5;124m.csv\u001b[39m\u001b[38;5;124m\"\u001b[39m, \u001b[38;5;124m\"\u001b[39m\u001b[38;5;124m.xlsx\u001b[39m\u001b[38;5;124m\"\u001b[39m))]\n\u001b[0;32m    111\u001b[0m file_lists\u001b[38;5;241m.\u001b[39msort()   \u001b[38;5;66;03m#2024.10.18\u001b[39;00m\n",
      "\u001b[1;31mFileNotFoundError\u001b[0m: [WinError 3] 지정된 경로를 찾을 수 없습니다: 'G:\\\\내 드라이브\\\\DataSet\\\\서울특별시 대여소별 공공자전거 대여가능 수량(1시간 단위)\\\\23.01-23.03 (17일까지만 있음)\\\\'"
     ]
    }
   ],
   "source": [
    "er.Columns_Check(Default_path + Sub_path) "
   ]
  },
  {
   "cell_type": "code",
   "execution_count": 10,
   "id": "ab0c9ff6-f561-4df5-a424-cc5729128c38",
   "metadata": {},
   "outputs": [
    {
     "ename": "FileNotFoundError",
     "evalue": "[Errno 2] No such file or directory: 'G:\\\\내 드라이브\\\\DataSet\\\\서울특별시 대여소별 공공자전거 대여가능 수량(1시간 단위)\\\\23.01-23.03 (17일까지만 있음)\\\\23.01.csv'",
     "output_type": "error",
     "traceback": [
      "\u001b[1;31m---------------------------------------------------------------------------\u001b[0m",
      "\u001b[1;31mFileNotFoundError\u001b[0m                         Traceback (most recent call last)",
      "Cell \u001b[1;32mIn[10], line 3\u001b[0m\n\u001b[0;32m      1\u001b[0m _files \u001b[38;5;241m=\u001b[39m [\u001b[38;5;124m'\u001b[39m\u001b[38;5;124m23.01.csv\u001b[39m\u001b[38;5;124m'\u001b[39m, \u001b[38;5;124m'\u001b[39m\u001b[38;5;124m23.02.csv\u001b[39m\u001b[38;5;124m'\u001b[39m, \u001b[38;5;124m'\u001b[39m\u001b[38;5;124m23.03.csv\u001b[39m\u001b[38;5;124m'\u001b[39m, \u001b[38;5;124m'\u001b[39m\u001b[38;5;124m대여소별 대여가능 수량 23.01-23.03.csv\u001b[39m\u001b[38;5;124m'\u001b[39m]\n\u001b[0;32m      2\u001b[0m \u001b[38;5;28;01mfor\u001b[39;00m _file \u001b[38;5;129;01min\u001b[39;00m _files:\n\u001b[1;32m----> 3\u001b[0m     df \u001b[38;5;241m=\u001b[39m \u001b[43mem\u001b[49m\u001b[38;5;241;43m.\u001b[39;49m\u001b[43mRead_File\u001b[49m\u001b[43m(\u001b[49m\u001b[43mDefault_path\u001b[49m\u001b[43m \u001b[49m\u001b[38;5;241;43m+\u001b[39;49m\u001b[43m \u001b[49m\u001b[43mSub_path\u001b[49m\u001b[43m \u001b[49m\u001b[38;5;241;43m+\u001b[39;49m\u001b[43m \u001b[49m\u001b[43m_file\u001b[49m\u001b[43m)\u001b[49m\n\u001b[0;32m      4\u001b[0m     \u001b[38;5;66;03m# '일시', '대여소번호', '대여소명', '시간대' 컬럼의 중복값 확인\u001b[39;00m\n\u001b[0;32m      5\u001b[0m     duplicates \u001b[38;5;241m=\u001b[39m df\u001b[38;5;241m.\u001b[39mduplicated(subset\u001b[38;5;241m=\u001b[39m[\u001b[38;5;124m'\u001b[39m\u001b[38;5;124m일시\u001b[39m\u001b[38;5;124m'\u001b[39m, \u001b[38;5;124m'\u001b[39m\u001b[38;5;124m대여소번호\u001b[39m\u001b[38;5;124m'\u001b[39m, \u001b[38;5;124m'\u001b[39m\u001b[38;5;124m대여소명\u001b[39m\u001b[38;5;124m'\u001b[39m, \u001b[38;5;124m'\u001b[39m\u001b[38;5;124m시간대\u001b[39m\u001b[38;5;124m'\u001b[39m], keep\u001b[38;5;241m=\u001b[39m\u001b[38;5;28;01mFalse\u001b[39;00m)\n",
      "File \u001b[1;32mG:\\내 드라이브/Source/_Custom_Function\\ExcelFile_Merge.py:31\u001b[0m, in \u001b[0;36mRead_File\u001b[1;34m(file_path)\u001b[0m\n\u001b[0;32m     29\u001b[0m \u001b[38;5;28;01mdef\u001b[39;00m \u001b[38;5;21mRead_File\u001b[39m(file_path):\n\u001b[0;32m     30\u001b[0m     extension \u001b[38;5;241m=\u001b[39m Extract_Extension(file_path)\n\u001b[1;32m---> 31\u001b[0m     _encoding \u001b[38;5;241m=\u001b[39m \u001b[43mGet_ExcelEncoding\u001b[49m\u001b[43m(\u001b[49m\u001b[43mfile_path\u001b[49m\u001b[43m)\u001b[49m     \u001b[38;5;66;03m# 2024.10.17 duzin\u001b[39;00m\n\u001b[0;32m     33\u001b[0m     \u001b[38;5;28;01mif\u001b[39;00m \u001b[38;5;124m\"\u001b[39m\u001b[38;5;124m.parquet\u001b[39m\u001b[38;5;124m\"\u001b[39m \u001b[38;5;241m==\u001b[39m extension:                 \u001b[38;5;66;03m# 2024.10.21 sungwoo - parquet 형식 읽기 추가\u001b[39;00m\n\u001b[0;32m     34\u001b[0m         \u001b[38;5;28;01mreturn\u001b[39;00m pd\u001b[38;5;241m.\u001b[39mread_parquet(file_path)       \u001b[38;5;66;03m# 2024.10.21 sungwoo\u001b[39;00m\n",
      "File \u001b[1;32mG:\\내 드라이브/Source/_Custom_Function\\ExcelFile_Merge.py:22\u001b[0m, in \u001b[0;36mGet_ExcelEncoding\u001b[1;34m(file_path)\u001b[0m\n\u001b[0;32m     21\u001b[0m \u001b[38;5;28;01mdef\u001b[39;00m \u001b[38;5;21mGet_ExcelEncoding\u001b[39m(file_path):\n\u001b[1;32m---> 22\u001b[0m     \u001b[38;5;28;01mwith\u001b[39;00m \u001b[38;5;28;43mopen\u001b[39;49m\u001b[43m(\u001b[49m\u001b[43mfile_path\u001b[49m\u001b[43m,\u001b[49m\u001b[43m \u001b[49m\u001b[38;5;124;43m'\u001b[39;49m\u001b[38;5;124;43mrb\u001b[39;49m\u001b[38;5;124;43m'\u001b[39;49m\u001b[43m)\u001b[49m \u001b[38;5;28;01mas\u001b[39;00m f:\n\u001b[0;32m     23\u001b[0m         result \u001b[38;5;241m=\u001b[39m chardet\u001b[38;5;241m.\u001b[39mdetect(f\u001b[38;5;241m.\u001b[39mread(\u001b[38;5;241m10000\u001b[39m))\n\u001b[0;32m     25\u001b[0m     encoding \u001b[38;5;241m=\u001b[39m result[\u001b[38;5;124m'\u001b[39m\u001b[38;5;124mencoding\u001b[39m\u001b[38;5;124m'\u001b[39m]\n",
      "\u001b[1;31mFileNotFoundError\u001b[0m: [Errno 2] No such file or directory: 'G:\\\\내 드라이브\\\\DataSet\\\\서울특별시 대여소별 공공자전거 대여가능 수량(1시간 단위)\\\\23.01-23.03 (17일까지만 있음)\\\\23.01.csv'"
     ]
    }
   ],
   "source": [
    "_files = ['23.01.csv', '23.02.csv', '23.03.csv', '대여소별 대여가능 수량 23.01-23.03.csv']\n",
    "for _file in _files:\n",
    "    df = em.Read_File(Default_path + Sub_path + _file)\n",
    "    # '일시', '대여소번호', '대여소명', '시간대' 컬럼의 중복값 확인\n",
    "    duplicates = df.duplicated(subset=['일시', '대여소번호', '대여소명', '시간대'], keep=False)\n",
    "    # 중복된 행 출력\n",
    "    duplicate_rows = df[duplicates]\n",
    "    # 결과 출력\n",
    "    print(duplicate_rows.shape[0])"
   ]
  },
  {
   "cell_type": "markdown",
   "id": "80a40209-2fb9-44da-8e04-8570d2a06eae",
   "metadata": {},
   "source": [
    "---\n",
    "### 경로 파일 체크\n",
    "- 23.04-23.12_컬럼명추가"
   ]
  },
  {
   "cell_type": "code",
   "execution_count": 7,
   "id": "c988915d-26e6-4d05-b79f-79e14707cce6",
   "metadata": {},
   "outputs": [],
   "source": [
    "Sub_path = '23.04-23.12_컬럼명추가\\\\'"
   ]
  },
  {
   "cell_type": "code",
   "execution_count": null,
   "id": "a5024ab4-c969-40fa-9664-ef2f646c0787",
   "metadata": {},
   "outputs": [],
   "source": [
    "er.Columns_Check(Default_path + Sub_path) "
   ]
  },
  {
   "cell_type": "code",
   "execution_count": 9,
   "id": "a4e6b06b-6aa0-4ba0-ac8e-d62557528e22",
   "metadata": {},
   "outputs": [
    {
     "name": "stdout",
     "output_type": "stream",
     "text": [
      "file_lists : \n",
      " 23.01.csv\n",
      " 23.02.csv\n",
      " 23.03.csv\n",
      " data_230401~230415_컬럼추가.csv\n",
      " data_230416~230430_컬럼추가.csv\n",
      " data_230501~230515_컬럼추가.csv\n",
      " data_230516~230531_컬럼추가.csv\n",
      " data_230601~230615_컬럼추가.csv\n",
      " data_230616~230630_컬럼추가.csv\n",
      " data_230701~230715_컬럼추가.csv\n",
      " data_230716~230731_컬럼추가.csv\n",
      " data_230801~230815_컬럼추가.csv\n",
      " data_230816~230831_컬럼추가.csv\n",
      " data_230901~230915_컬럼추가.csv\n",
      " data_230916~230930_컬럼추가.csv\n",
      " data_231001~231015_컬럼추가.csv\n",
      " data_231016~231031_컬럼추가.csv\n",
      " data_231101~231115_컬럼추가.csv\n",
      " data_231116~231130_컬럼추가.csv\n",
      " data_231201~231215_컬럼추가.csv\n",
      " data_231216~231231_컬럼추가.csv\n",
      "===========================================\n",
      "===================================\n",
      "read_file - file_path :  G:\\내 드라이브\\DataSet\\서울특별시 대여소별 공공자전거 대여가능 수량(1시간 단위)\\23.04-23.12_컬럼명추가\\23.01.csv , encoding :  EUC-KR\n",
      " - [중복] : 0 / 1048575\n",
      "===================================\n",
      "read_file - file_path :  G:\\내 드라이브\\DataSet\\서울특별시 대여소별 공공자전거 대여가능 수량(1시간 단위)\\23.04-23.12_컬럼명추가\\23.02.csv , encoding :  EUC-KR\n",
      " - [중복] : 0 / 1048575\n",
      "===================================\n",
      "read_file - file_path :  G:\\내 드라이브\\DataSet\\서울특별시 대여소별 공공자전거 대여가능 수량(1시간 단위)\\23.04-23.12_컬럼명추가\\23.03.csv , encoding :  EUC-KR\n",
      " - [중복] : 0 / 1048575\n",
      "===================================\n",
      "read_file - file_path :  G:\\내 드라이브\\DataSet\\서울특별시 대여소별 공공자전거 대여가능 수량(1시간 단위)\\23.04-23.12_컬럼명추가\\data_230401~230415_컬럼추가.csv , encoding :  EUC-KR\n",
      " - [중복] : 5762759 / 5762760\n",
      "===================================\n",
      "read_file - file_path :  G:\\내 드라이브\\DataSet\\서울특별시 대여소별 공공자전거 대여가능 수량(1시간 단위)\\23.04-23.12_컬럼명추가\\data_230416~230430_컬럼추가.csv , encoding :  EUC-KR\n",
      " - [중복] : 5767200 / 5767200\n",
      "===================================\n",
      "read_file - file_path :  G:\\내 드라이브\\DataSet\\서울특별시 대여소별 공공자전거 대여가능 수량(1시간 단위)\\23.04-23.12_컬럼명추가\\data_230501~230515_컬럼추가.csv , encoding :  EUC-KR\n",
      " - [중복] : 5770814 / 5770814\n",
      "===================================\n",
      "read_file - file_path :  G:\\내 드라이브\\DataSet\\서울특별시 대여소별 공공자전거 대여가능 수량(1시간 단위)\\23.04-23.12_컬럼명추가\\data_230516~230531_컬럼추가.csv , encoding :  EUC-KR\n",
      " - [중복] : 6162491 / 6162491\n",
      "===================================\n",
      "read_file - file_path :  G:\\내 드라이브\\DataSet\\서울특별시 대여소별 공공자전거 대여가능 수량(1시간 단위)\\23.04-23.12_컬럼명추가\\data_230601~230615_컬럼추가.csv , encoding :  EUC-KR\n",
      " - [중복] : 5779410 / 5779410\n",
      "===================================\n",
      "read_file - file_path :  G:\\내 드라이브\\DataSet\\서울특별시 대여소별 공공자전거 대여가능 수량(1시간 단위)\\23.04-23.12_컬럼명추가\\data_230616~230630_컬럼추가.csv , encoding :  EUC-KR\n",
      " - [중복] : 5776966 / 5776966\n",
      "===================================\n",
      "read_file - file_path :  G:\\내 드라이브\\DataSet\\서울특별시 대여소별 공공자전거 대여가능 수량(1시간 단위)\\23.04-23.12_컬럼명추가\\data_230701~230715_컬럼추가.csv , encoding :  EUC-KR\n",
      " - [중복] : 5787832 / 5787833\n",
      "===================================\n",
      "read_file - file_path :  G:\\내 드라이브\\DataSet\\서울특별시 대여소별 공공자전거 대여가능 수량(1시간 단위)\\23.04-23.12_컬럼명추가\\data_230716~230731_컬럼추가.csv , encoding :  EUC-KR\n",
      " - [중복] : 6196285 / 6196288\n",
      "===================================\n",
      "read_file - file_path :  G:\\내 드라이브\\DataSet\\서울특별시 대여소별 공공자전거 대여가능 수량(1시간 단위)\\23.04-23.12_컬럼명추가\\data_230801~230815_컬럼추가.csv , encoding :  EUC-KR\n",
      " - [중복] : 5819040 / 5819040\n",
      "===================================\n",
      "read_file - file_path :  G:\\내 드라이브\\DataSet\\서울특별시 대여소별 공공자전거 대여가능 수량(1시간 단위)\\23.04-23.12_컬럼명추가\\data_230816~230831_컬럼추가.csv , encoding :  EUC-KR\n",
      " - [중복] : 6211109 / 6211109\n",
      "===================================\n",
      "read_file - file_path :  G:\\내 드라이브\\DataSet\\서울특별시 대여소별 공공자전거 대여가능 수량(1시간 단위)\\23.04-23.12_컬럼명추가\\data_230901~230915_컬럼추가.csv , encoding :  EUC-KR\n",
      " - [중복] : 3116548 / 3116549\n",
      "===================================\n",
      "read_file - file_path :  G:\\내 드라이브\\DataSet\\서울특별시 대여소별 공공자전거 대여가능 수량(1시간 단위)\\23.04-23.12_컬럼명추가\\data_230916~230930_컬럼추가.csv , encoding :  EUC-KR\n",
      " - [중복] : 5840640 / 5840640\n",
      "===================================\n",
      "read_file - file_path :  G:\\내 드라이브\\DataSet\\서울특별시 대여소별 공공자전거 대여가능 수량(1시간 단위)\\23.04-23.12_컬럼명추가\\data_231001~231015_컬럼추가.csv , encoding :  EUC-KR\n",
      " - [중복] : 3682120 / 3684830\n",
      "===================================\n",
      "read_file - file_path :  G:\\내 드라이브\\DataSet\\서울특별시 대여소별 공공자전거 대여가능 수량(1시간 단위)\\23.04-23.12_컬럼명추가\\data_231016~231031_컬럼추가.csv , encoding :  EUC-KR\n",
      " - [중복] : 6243017 / 6243018\n",
      "===================================\n",
      "read_file - file_path :  G:\\내 드라이브\\DataSet\\서울특별시 대여소별 공공자전거 대여가능 수량(1시간 단위)\\23.04-23.12_컬럼명추가\\data_231101~231115_컬럼추가.csv , encoding :  EUC-KR\n",
      " - [중복] : 5856601 / 5856601\n",
      "===================================\n",
      "read_file - file_path :  G:\\내 드라이브\\DataSet\\서울특별시 대여소별 공공자전거 대여가능 수량(1시간 단위)\\23.04-23.12_컬럼명추가\\data_231116~231130_컬럼추가.csv , encoding :  EUC-KR\n",
      " - [중복] : 5864257 / 5864257\n",
      "===================================\n",
      "read_file - file_path :  G:\\내 드라이브\\DataSet\\서울특별시 대여소별 공공자전거 대여가능 수량(1시간 단위)\\23.04-23.12_컬럼명추가\\data_231201~231215_컬럼추가.csv , encoding :  EUC-KR\n",
      " - [중복] : 5863070 / 5863070\n",
      "===================================\n",
      "read_file - file_path :  G:\\내 드라이브\\DataSet\\서울특별시 대여소별 공공자전거 대여가능 수량(1시간 단위)\\23.04-23.12_컬럼명추가\\data_231216~231231_컬럼추가.csv , encoding :  EUC-KR\n",
      " - [중복] : 6265931 / 6265931\n"
     ]
    }
   ],
   "source": [
    "# 파일 경로명 변경\n",
    "file_list = os.listdir(Default_path + Sub_path)\n",
    "file_lists = [file for file in file_list if file.endswith((\".csv\", \".xlsx\"))]\n",
    "file_lists.sort()\n",
    "print('file_lists : \\n', '\\n '.join(file_lists))\n",
    "print('===========================================')\n",
    "\n",
    "for _, filename in enumerate(file_lists):\n",
    "    try:\n",
    "        print('===================================')\n",
    "        df = em.Read_File(Default_path + Sub_path + filename)\n",
    "        # '일시', '대여소번호', '대여소명', '시간대' 컬럼의 중복값 확인\n",
    "        duplicates = df.duplicated(subset=['일시', '대여소번호', '대여소명', '시간대'], keep=False)\n",
    "        # 중복된 행 출력\n",
    "        duplicate_rows = df[duplicates]\n",
    "        # 결과 출력\n",
    "        print(f' - [중복] : {duplicate_rows.shape[0]} / {df.shape[0]}')\n",
    "    except:\n",
    "        print('- Err : ', savefile)     "
   ]
  },
  {
   "cell_type": "markdown",
   "id": "0da7b43d-ce04-4e3e-a6a4-0ccd5a6d0d2d",
   "metadata": {},
   "source": [
    "data_230401~230415_컬럼추가.csv\r",
    " data_230416~230430_컬럼추가.csv\n",
    " data_230501~230515_컬럼추가.cs\r\n",
    " data_230516~230531_컬럼추가.cv\r\n",
    " data_230601~230615_컬럼추가.sv\r\n",
    " data_230616~230630_컬럼추가csv\r\n",
    " data_230701~230715_컬럼추.csv\r\n",
    " data_230716~230731_컬럼가.csv\r\n",
    " data_230801~230815_컬추가.csv\r\n",
    " data_230816~230831_럼추가.csv\r\n",
    " data_230901~230915컬럼추가.csv\r\n",
    " data_230916~23093_컬럼추가.csv\r\n",
    " data_231001~23105_컬럼추가.csv\r\n",
    " data_231016~23131_컬럼추가.csv\r\n",
    " data_231101~23115_컬럼추가.csv\r\n",
    " data_231116~21130_컬럼추가.csv\r\n",
    " data_231201~31215_컬럼추가.csv\r\n",
    " data_231216~231231_컬럼추가.csv"
   ]
  },
  {
   "cell_type": "code",
   "execution_count": 72,
   "id": "eb2f38b5-a283-425b-b4e2-48a901b9a727",
   "metadata": {},
   "outputs": [
    {
     "name": "stdout",
     "output_type": "stream",
     "text": [
      "read_file - file_path :  G:\\내 드라이브\\DataSet\\서울특별시 대여소별 공공자전거 대여가능 수량(1시간 단위)\\23.04-23.12_컬럼명추가\\data_230516~230531_컬럼추가.csv , encoding :  EUC-KR\n",
      "거치대수량\n",
      "0      1045745\n",
      "1       620700\n",
      "2       456045\n",
      "3       357339\n",
      "4       298315\n",
      "        ...   \n",
      "224          1\n",
      "223          1\n",
      "230          1\n",
      "233          1\n",
      "220          1\n",
      "Name: count, Length: 229, dtype: int64\n",
      "df.shape[0] : 6162491\n",
      "거치대수량\n",
      "6    1027079\n",
      "5          2\n",
      "3          1\n",
      "4          1\n",
      "Name: count, dtype: int64\n",
      "grb_df.shape[0] : 1027083\n"
     ]
    }
   ],
   "source": [
    "filename = 'data_230516~230531_컬럼추가.csv'\n",
    "df = em.Read_File(Default_path + Sub_path + filename)\n",
    "grb_df = df.groupby(['일시', '대여소번호', '대여소명', '시간대'])['거치대수량'].count()\n",
    "grb_df = grb_df.reset_index()\n",
    "\n",
    "print(df['거치대수량'].value_counts())\n",
    "print(f'df.shape[0] : {df.shape[0]}')\n",
    "\n",
    "print(grb_df['거치대수량'].value_counts())\n",
    "print(f'grb_df.shape[0] : {grb_df.shape[0]}')"
   ]
  },
  {
   "cell_type": "code",
   "execution_count": 66,
   "id": "df32bbf8-db83-47c8-8bc6-f64900933e67",
   "metadata": {},
   "outputs": [
    {
     "data": {
      "text/html": [
       "<div>\n",
       "<style scoped>\n",
       "    .dataframe tbody tr th:only-of-type {\n",
       "        vertical-align: middle;\n",
       "    }\n",
       "\n",
       "    .dataframe tbody tr th {\n",
       "        vertical-align: top;\n",
       "    }\n",
       "\n",
       "    .dataframe thead th {\n",
       "        text-align: right;\n",
       "    }\n",
       "</style>\n",
       "<table border=\"1\" class=\"dataframe\">\n",
       "  <thead>\n",
       "    <tr style=\"text-align: right;\">\n",
       "      <th></th>\n",
       "      <th>일시</th>\n",
       "      <th>대여소번호</th>\n",
       "      <th>대여소명</th>\n",
       "      <th>시간대</th>\n",
       "      <th>거치대수량</th>\n",
       "    </tr>\n",
       "  </thead>\n",
       "  <tbody>\n",
       "    <tr>\n",
       "      <th>5</th>\n",
       "      <td>2023-04-16</td>\n",
       "      <td>107</td>\n",
       "      <td>107. 신한은행 서교동지점</td>\n",
       "      <td>0</td>\n",
       "      <td>0</td>\n",
       "    </tr>\n",
       "    <tr>\n",
       "      <th>8</th>\n",
       "      <td>2023-04-16</td>\n",
       "      <td>113</td>\n",
       "      <td>113. 홍대입구역 2번출구 앞</td>\n",
       "      <td>0</td>\n",
       "      <td>0</td>\n",
       "    </tr>\n",
       "    <tr>\n",
       "      <th>9</th>\n",
       "      <td>2023-04-16</td>\n",
       "      <td>114</td>\n",
       "      <td>114. 홍대입구역 8번출구 앞</td>\n",
       "      <td>0</td>\n",
       "      <td>0</td>\n",
       "    </tr>\n",
       "    <tr>\n",
       "      <th>26</th>\n",
       "      <td>2023-04-16</td>\n",
       "      <td>134</td>\n",
       "      <td>134. 연세로 명물길</td>\n",
       "      <td>0</td>\n",
       "      <td>0</td>\n",
       "    </tr>\n",
       "    <tr>\n",
       "      <th>29</th>\n",
       "      <td>2023-04-16</td>\n",
       "      <td>138</td>\n",
       "      <td>138. 신촌동 제1공영주차장 앞</td>\n",
       "      <td>0</td>\n",
       "      <td>0</td>\n",
       "    </tr>\n",
       "  </tbody>\n",
       "</table>\n",
       "</div>"
      ],
      "text/plain": [
       "            일시  대여소번호                대여소명  시간대  거치대수량\n",
       "5   2023-04-16    107     107. 신한은행 서교동지점    0      0\n",
       "8   2023-04-16    113   113. 홍대입구역 2번출구 앞    0      0\n",
       "9   2023-04-16    114   114. 홍대입구역 8번출구 앞    0      0\n",
       "26  2023-04-16    134        134. 연세로 명물길    0      0\n",
       "29  2023-04-16    138  138. 신촌동 제1공영주차장 앞    0      0"
      ]
     },
     "execution_count": 66,
     "metadata": {},
     "output_type": "execute_result"
    }
   ],
   "source": [
    "df[df['거치대수량'] == 0].head(5)"
   ]
  },
  {
   "cell_type": "code",
   "execution_count": 68,
   "id": "e5042147-1109-444e-adaf-4eb1a9871d67",
   "metadata": {},
   "outputs": [
    {
     "data": {
      "text/html": [
       "<div>\n",
       "<style scoped>\n",
       "    .dataframe tbody tr th:only-of-type {\n",
       "        vertical-align: middle;\n",
       "    }\n",
       "\n",
       "    .dataframe tbody tr th {\n",
       "        vertical-align: top;\n",
       "    }\n",
       "\n",
       "    .dataframe thead th {\n",
       "        text-align: right;\n",
       "    }\n",
       "</style>\n",
       "<table border=\"1\" class=\"dataframe\">\n",
       "  <thead>\n",
       "    <tr style=\"text-align: right;\">\n",
       "      <th></th>\n",
       "      <th>일시</th>\n",
       "      <th>대여소번호</th>\n",
       "      <th>대여소명</th>\n",
       "      <th>시간대</th>\n",
       "      <th>거치대수량</th>\n",
       "    </tr>\n",
       "  </thead>\n",
       "  <tbody>\n",
       "    <tr>\n",
       "      <th>5</th>\n",
       "      <td>2023-04-16</td>\n",
       "      <td>107</td>\n",
       "      <td>107. 신한은행 서교동지점</td>\n",
       "      <td>0</td>\n",
       "      <td>0</td>\n",
       "    </tr>\n",
       "    <tr>\n",
       "      <th>2675</th>\n",
       "      <td>2023-04-16</td>\n",
       "      <td>107</td>\n",
       "      <td>107. 신한은행 서교동지점</td>\n",
       "      <td>0</td>\n",
       "      <td>0</td>\n",
       "    </tr>\n",
       "    <tr>\n",
       "      <th>5345</th>\n",
       "      <td>2023-04-16</td>\n",
       "      <td>107</td>\n",
       "      <td>107. 신한은행 서교동지점</td>\n",
       "      <td>0</td>\n",
       "      <td>0</td>\n",
       "    </tr>\n",
       "    <tr>\n",
       "      <th>8015</th>\n",
       "      <td>2023-04-16</td>\n",
       "      <td>107</td>\n",
       "      <td>107. 신한은행 서교동지점</td>\n",
       "      <td>0</td>\n",
       "      <td>1</td>\n",
       "    </tr>\n",
       "    <tr>\n",
       "      <th>10685</th>\n",
       "      <td>2023-04-16</td>\n",
       "      <td>107</td>\n",
       "      <td>107. 신한은행 서교동지점</td>\n",
       "      <td>0</td>\n",
       "      <td>1</td>\n",
       "    </tr>\n",
       "    <tr>\n",
       "      <th>13355</th>\n",
       "      <td>2023-04-16</td>\n",
       "      <td>107</td>\n",
       "      <td>107. 신한은행 서교동지점</td>\n",
       "      <td>0</td>\n",
       "      <td>0</td>\n",
       "    </tr>\n",
       "  </tbody>\n",
       "</table>\n",
       "</div>"
      ],
      "text/plain": [
       "               일시  대여소번호             대여소명  시간대  거치대수량\n",
       "5      2023-04-16    107  107. 신한은행 서교동지점    0      0\n",
       "2675   2023-04-16    107  107. 신한은행 서교동지점    0      0\n",
       "5345   2023-04-16    107  107. 신한은행 서교동지점    0      0\n",
       "8015   2023-04-16    107  107. 신한은행 서교동지점    0      1\n",
       "10685  2023-04-16    107  107. 신한은행 서교동지점    0      1\n",
       "13355  2023-04-16    107  107. 신한은행 서교동지점    0      0"
      ]
     },
     "execution_count": 68,
     "metadata": {},
     "output_type": "execute_result"
    }
   ],
   "source": [
    "cond1 = df['일시'] == '2023-04-16'\n",
    "cond2 = df['대여소번호'] == 107\n",
    "cond3 = df['시간대'] == 0\n",
    "df[cond1 & cond2 & cond3]"
   ]
  },
  {
   "cell_type": "code",
   "execution_count": 43,
   "id": "38718288-44ae-4bcf-ac56-23fadcc81c12",
   "metadata": {},
   "outputs": [
    {
     "data": {
      "text/html": [
       "<div>\n",
       "<style scoped>\n",
       "    .dataframe tbody tr th:only-of-type {\n",
       "        vertical-align: middle;\n",
       "    }\n",
       "\n",
       "    .dataframe tbody tr th {\n",
       "        vertical-align: top;\n",
       "    }\n",
       "\n",
       "    .dataframe thead th {\n",
       "        text-align: right;\n",
       "    }\n",
       "</style>\n",
       "<table border=\"1\" class=\"dataframe\">\n",
       "  <thead>\n",
       "    <tr style=\"text-align: right;\">\n",
       "      <th></th>\n",
       "      <th>일시</th>\n",
       "      <th>대여소번호</th>\n",
       "      <th>대여소명</th>\n",
       "      <th>시간대</th>\n",
       "      <th>거치대수량</th>\n",
       "    </tr>\n",
       "  </thead>\n",
       "  <tbody>\n",
       "    <tr>\n",
       "      <th>697185</th>\n",
       "      <td>2023-04-11</td>\n",
       "      <td>4546</td>\n",
       "      <td>4546. 목동운동장 주경기장</td>\n",
       "      <td>14</td>\n",
       "      <td>1</td>\n",
       "    </tr>\n",
       "    <tr>\n",
       "      <th>702979</th>\n",
       "      <td>2023-04-11</td>\n",
       "      <td>5095</td>\n",
       "      <td>5095. 원당근린공원</td>\n",
       "      <td>14</td>\n",
       "      <td>5</td>\n",
       "    </tr>\n",
       "  </tbody>\n",
       "</table>\n",
       "</div>"
      ],
      "text/plain": [
       "                일시  대여소번호              대여소명  시간대  거치대수량\n",
       "697185  2023-04-11   4546  4546. 목동운동장 주경기장   14      1\n",
       "702979  2023-04-11   5095      5095. 원당근린공원   14      5"
      ]
     },
     "execution_count": 43,
     "metadata": {},
     "output_type": "execute_result"
    }
   ],
   "source": [
    "grb_df[grb_df['거치대수량'].isin([1, 5])]"
   ]
  },
  {
   "cell_type": "code",
   "execution_count": 39,
   "id": "cc325a35-5f66-4f7c-9412-79ac774f7cd4",
   "metadata": {},
   "outputs": [
    {
     "data": {
      "text/html": [
       "<div>\n",
       "<style scoped>\n",
       "    .dataframe tbody tr th:only-of-type {\n",
       "        vertical-align: middle;\n",
       "    }\n",
       "\n",
       "    .dataframe tbody tr th {\n",
       "        vertical-align: top;\n",
       "    }\n",
       "\n",
       "    .dataframe thead th {\n",
       "        text-align: right;\n",
       "    }\n",
       "</style>\n",
       "<table border=\"1\" class=\"dataframe\">\n",
       "  <thead>\n",
       "    <tr style=\"text-align: right;\">\n",
       "      <th></th>\n",
       "      <th>일시</th>\n",
       "      <th>대여소번호</th>\n",
       "      <th>대여소명</th>\n",
       "      <th>시간대</th>\n",
       "      <th>거치대수량</th>\n",
       "    </tr>\n",
       "  </thead>\n",
       "  <tbody>\n",
       "    <tr>\n",
       "      <th>16002</th>\n",
       "      <td>2023-04-01</td>\n",
       "      <td>102</td>\n",
       "      <td>102. 망원역 1번출구 앞</td>\n",
       "      <td>1</td>\n",
       "      <td>38</td>\n",
       "    </tr>\n",
       "    <tr>\n",
       "      <th>18669</th>\n",
       "      <td>2023-04-01</td>\n",
       "      <td>102</td>\n",
       "      <td>102. 망원역 1번출구 앞</td>\n",
       "      <td>1</td>\n",
       "      <td>38</td>\n",
       "    </tr>\n",
       "    <tr>\n",
       "      <th>21336</th>\n",
       "      <td>2023-04-01</td>\n",
       "      <td>102</td>\n",
       "      <td>102. 망원역 1번출구 앞</td>\n",
       "      <td>1</td>\n",
       "      <td>36</td>\n",
       "    </tr>\n",
       "    <tr>\n",
       "      <th>24003</th>\n",
       "      <td>2023-04-01</td>\n",
       "      <td>102</td>\n",
       "      <td>102. 망원역 1번출구 앞</td>\n",
       "      <td>1</td>\n",
       "      <td>36</td>\n",
       "    </tr>\n",
       "    <tr>\n",
       "      <th>26670</th>\n",
       "      <td>2023-04-01</td>\n",
       "      <td>102</td>\n",
       "      <td>102. 망원역 1번출구 앞</td>\n",
       "      <td>1</td>\n",
       "      <td>36</td>\n",
       "    </tr>\n",
       "    <tr>\n",
       "      <th>29337</th>\n",
       "      <td>2023-04-01</td>\n",
       "      <td>102</td>\n",
       "      <td>102. 망원역 1번출구 앞</td>\n",
       "      <td>1</td>\n",
       "      <td>36</td>\n",
       "    </tr>\n",
       "  </tbody>\n",
       "</table>\n",
       "</div>"
      ],
      "text/plain": [
       "               일시  대여소번호             대여소명  시간대  거치대수량\n",
       "16002  2023-04-01    102  102. 망원역 1번출구 앞    1     38\n",
       "18669  2023-04-01    102  102. 망원역 1번출구 앞    1     38\n",
       "21336  2023-04-01    102  102. 망원역 1번출구 앞    1     36\n",
       "24003  2023-04-01    102  102. 망원역 1번출구 앞    1     36\n",
       "26670  2023-04-01    102  102. 망원역 1번출구 앞    1     36\n",
       "29337  2023-04-01    102  102. 망원역 1번출구 앞    1     36"
      ]
     },
     "execution_count": 39,
     "metadata": {},
     "output_type": "execute_result"
    }
   ],
   "source": [
    "cond1 = df['일시'] == '2023-04-01'\n",
    "cond2 = df['대여소번호'] == 102\n",
    "cond3 = df['시간대'] == 1\n",
    "df[cond1 & cond2 & cond3]"
   ]
  },
  {
   "cell_type": "code",
   "execution_count": 45,
   "id": "195400a6-42e6-4271-9a87-3b90388881ff",
   "metadata": {},
   "outputs": [
    {
     "data": {
      "text/html": [
       "<div>\n",
       "<style scoped>\n",
       "    .dataframe tbody tr th:only-of-type {\n",
       "        vertical-align: middle;\n",
       "    }\n",
       "\n",
       "    .dataframe tbody tr th {\n",
       "        vertical-align: top;\n",
       "    }\n",
       "\n",
       "    .dataframe thead th {\n",
       "        text-align: right;\n",
       "    }\n",
       "</style>\n",
       "<table border=\"1\" class=\"dataframe\">\n",
       "  <thead>\n",
       "    <tr style=\"text-align: right;\">\n",
       "      <th></th>\n",
       "      <th>일시</th>\n",
       "      <th>대여소번호</th>\n",
       "      <th>대여소명</th>\n",
       "      <th>시간대</th>\n",
       "      <th>거치대수량</th>\n",
       "    </tr>\n",
       "  </thead>\n",
       "  <tbody>\n",
       "    <tr>\n",
       "      <th>32004</th>\n",
       "      <td>2023-04-01</td>\n",
       "      <td>102</td>\n",
       "      <td>102. 망원역 1번출구 앞</td>\n",
       "      <td>2</td>\n",
       "      <td>36</td>\n",
       "    </tr>\n",
       "    <tr>\n",
       "      <th>34671</th>\n",
       "      <td>2023-04-01</td>\n",
       "      <td>102</td>\n",
       "      <td>102. 망원역 1번출구 앞</td>\n",
       "      <td>2</td>\n",
       "      <td>35</td>\n",
       "    </tr>\n",
       "    <tr>\n",
       "      <th>37338</th>\n",
       "      <td>2023-04-01</td>\n",
       "      <td>102</td>\n",
       "      <td>102. 망원역 1번출구 앞</td>\n",
       "      <td>2</td>\n",
       "      <td>34</td>\n",
       "    </tr>\n",
       "    <tr>\n",
       "      <th>40005</th>\n",
       "      <td>2023-04-01</td>\n",
       "      <td>102</td>\n",
       "      <td>102. 망원역 1번출구 앞</td>\n",
       "      <td>2</td>\n",
       "      <td>34</td>\n",
       "    </tr>\n",
       "    <tr>\n",
       "      <th>42672</th>\n",
       "      <td>2023-04-01</td>\n",
       "      <td>102</td>\n",
       "      <td>102. 망원역 1번출구 앞</td>\n",
       "      <td>2</td>\n",
       "      <td>34</td>\n",
       "    </tr>\n",
       "    <tr>\n",
       "      <th>45339</th>\n",
       "      <td>2023-04-01</td>\n",
       "      <td>102</td>\n",
       "      <td>102. 망원역 1번출구 앞</td>\n",
       "      <td>2</td>\n",
       "      <td>34</td>\n",
       "    </tr>\n",
       "  </tbody>\n",
       "</table>\n",
       "</div>"
      ],
      "text/plain": [
       "               일시  대여소번호             대여소명  시간대  거치대수량\n",
       "32004  2023-04-01    102  102. 망원역 1번출구 앞    2     36\n",
       "34671  2023-04-01    102  102. 망원역 1번출구 앞    2     35\n",
       "37338  2023-04-01    102  102. 망원역 1번출구 앞    2     34\n",
       "40005  2023-04-01    102  102. 망원역 1번출구 앞    2     34\n",
       "42672  2023-04-01    102  102. 망원역 1번출구 앞    2     34\n",
       "45339  2023-04-01    102  102. 망원역 1번출구 앞    2     34"
      ]
     },
     "execution_count": 45,
     "metadata": {},
     "output_type": "execute_result"
    }
   ],
   "source": [
    "cond1 = df['일시'] == '2023-04-01'\n",
    "cond2 = df['대여소번호'] == 102\n",
    "cond3 = df['시간대'] == 2\n",
    "df[cond1 & cond2 & cond3]"
   ]
  },
  {
   "cell_type": "markdown",
   "id": "a6678ad3-6acb-43cd-bc2f-ba28ce6e9fe8",
   "metadata": {},
   "source": [
    "---\n",
    "## 평균 값으로 저장"
   ]
  },
  {
   "cell_type": "code",
   "execution_count": 91,
   "id": "ee849d76-9b67-4b2a-9913-94a33d85f56a",
   "metadata": {},
   "outputs": [
    {
     "name": "stdout",
     "output_type": "stream",
     "text": [
      "read_file - file_path :  G:\\내 드라이브\\DataSet\\서울특별시 대여소별 공공자전거 대여가능 수량(1시간 단위)\\23.04-23.12_컬럼명추가\\data_230516~230531_컬럼추가.csv , encoding :  EUC-KR\n",
      "거치대수량\n",
      "0      1045745\n",
      "1       620700\n",
      "2       456045\n",
      "3       357339\n",
      "4       298315\n",
      "        ...   \n",
      "224          1\n",
      "223          1\n",
      "230          1\n",
      "233          1\n",
      "220          1\n",
      "Name: count, Length: 229, dtype: int64\n",
      "df.shape[0] : 6162491\n",
      "거치대수량\n",
      "0      197610\n",
      "1      101377\n",
      "2       72632\n",
      "3       57240\n",
      "4       47689\n",
      "        ...  \n",
      "164         1\n",
      "171         1\n",
      "160         1\n",
      "165         1\n",
      "232         1\n",
      "Name: count, Length: 202, dtype: int64\n",
      "grb_df.shape[0] : 1027083\n"
     ]
    }
   ],
   "source": [
    "filename = 'data_230516~230531_컬럼추가.csv'\n",
    "df = em.Read_File(Default_path + Sub_path + filename)\n",
    "grb_df = df.groupby(['일시', '대여소번호', '대여소명', '시간대'])['거치대수량'].mean()\n",
    "grb_df = np.floor(grb_df).astype(int)\n",
    "grb_df = grb_df.reset_index()\n",
    "\n",
    "print(df['거치대수량'].value_counts())\n",
    "print(f'df.shape[0] : {df.shape[0]}')\n",
    "\n",
    "print(grb_df['거치대수량'].value_counts())\n",
    "print(f'grb_df.shape[0] : {grb_df.shape[0]}')"
   ]
  },
  {
   "cell_type": "code",
   "execution_count": 92,
   "id": "2350b7b9-e49e-48f3-8982-7798b2f2b198",
   "metadata": {},
   "outputs": [
    {
     "data": {
      "text/html": [
       "<div>\n",
       "<style scoped>\n",
       "    .dataframe tbody tr th:only-of-type {\n",
       "        vertical-align: middle;\n",
       "    }\n",
       "\n",
       "    .dataframe tbody tr th {\n",
       "        vertical-align: top;\n",
       "    }\n",
       "\n",
       "    .dataframe thead th {\n",
       "        text-align: right;\n",
       "    }\n",
       "</style>\n",
       "<table border=\"1\" class=\"dataframe\">\n",
       "  <thead>\n",
       "    <tr style=\"text-align: right;\">\n",
       "      <th></th>\n",
       "      <th>일시</th>\n",
       "      <th>대여소번호</th>\n",
       "      <th>대여소명</th>\n",
       "      <th>시간대</th>\n",
       "      <th>거치대수량</th>\n",
       "    </tr>\n",
       "  </thead>\n",
       "  <tbody>\n",
       "    <tr>\n",
       "      <th>0</th>\n",
       "      <td>2023-05-16</td>\n",
       "      <td>102</td>\n",
       "      <td>102. 망원역 1번출구 앞</td>\n",
       "      <td>0</td>\n",
       "      <td>8</td>\n",
       "    </tr>\n",
       "    <tr>\n",
       "      <th>1</th>\n",
       "      <td>2023-05-16</td>\n",
       "      <td>102</td>\n",
       "      <td>102. 망원역 1번출구 앞</td>\n",
       "      <td>1</td>\n",
       "      <td>7</td>\n",
       "    </tr>\n",
       "    <tr>\n",
       "      <th>2</th>\n",
       "      <td>2023-05-16</td>\n",
       "      <td>102</td>\n",
       "      <td>102. 망원역 1번출구 앞</td>\n",
       "      <td>2</td>\n",
       "      <td>6</td>\n",
       "    </tr>\n",
       "  </tbody>\n",
       "</table>\n",
       "</div>"
      ],
      "text/plain": [
       "           일시  대여소번호             대여소명  시간대  거치대수량\n",
       "0  2023-05-16    102  102. 망원역 1번출구 앞    0      8\n",
       "1  2023-05-16    102  102. 망원역 1번출구 앞    1      7\n",
       "2  2023-05-16    102  102. 망원역 1번출구 앞    2      6"
      ]
     },
     "execution_count": 92,
     "metadata": {},
     "output_type": "execute_result"
    }
   ],
   "source": [
    "grb_df.head(3)"
   ]
  },
  {
   "cell_type": "code",
   "execution_count": 87,
   "id": "ee541726-6ab6-4446-85a2-c6a23c28f314",
   "metadata": {},
   "outputs": [
    {
     "data": {
      "text/html": [
       "<div>\n",
       "<style scoped>\n",
       "    .dataframe tbody tr th:only-of-type {\n",
       "        vertical-align: middle;\n",
       "    }\n",
       "\n",
       "    .dataframe tbody tr th {\n",
       "        vertical-align: top;\n",
       "    }\n",
       "\n",
       "    .dataframe thead th {\n",
       "        text-align: right;\n",
       "    }\n",
       "</style>\n",
       "<table border=\"1\" class=\"dataframe\">\n",
       "  <thead>\n",
       "    <tr style=\"text-align: right;\">\n",
       "      <th></th>\n",
       "      <th>일시</th>\n",
       "      <th>대여소번호</th>\n",
       "      <th>대여소명</th>\n",
       "      <th>시간대</th>\n",
       "      <th>거치대수량</th>\n",
       "    </tr>\n",
       "  </thead>\n",
       "  <tbody>\n",
       "  </tbody>\n",
       "</table>\n",
       "</div>"
      ],
      "text/plain": [
       "Empty DataFrame\n",
       "Columns: [일시, 대여소번호, 대여소명, 시간대, 거치대수량]\n",
       "Index: []"
      ]
     },
     "execution_count": 87,
     "metadata": {},
     "output_type": "execute_result"
    }
   ],
   "source": [
    "cond1 = df['일시'] == '2023-04-16'\n",
    "cond2 = df['대여소번호'] == 107\n",
    "cond3 = df['시간대'] == 0\n",
    "df[cond1 & cond2 & cond3]"
   ]
  },
  {
   "cell_type": "markdown",
   "id": "714b972f-e1e3-42da-8d5b-9c1894c4dd4c",
   "metadata": {},
   "source": [
    "---\n",
    "## 병합\n",
    "- 23.04-23.12_컬럼명추가"
   ]
  },
  {
   "cell_type": "code",
   "execution_count": 97,
   "id": "a1426b54-a126-4d76-b491-b596b5801f20",
   "metadata": {},
   "outputs": [],
   "source": [
    "df_sum = pd.DataFrame()"
   ]
  },
  {
   "cell_type": "code",
   "execution_count": 99,
   "id": "f51643f0-de8b-4504-b2a4-0e1c432803e4",
   "metadata": {},
   "outputs": [],
   "source": [
    "Sub_path = '23.04-23.12_컬럼명추가\\\\'"
   ]
  },
  {
   "cell_type": "code",
   "execution_count": 101,
   "id": "072afa45-0920-4dfb-94ec-f7b508fb3dcd",
   "metadata": {},
   "outputs": [
    {
     "name": "stdout",
     "output_type": "stream",
     "text": [
      "file_lists : \n",
      " data_230401~230415_컬럼추가.csv\n",
      " data_230416~230430_컬럼추가.csv\n",
      " data_230501~230515_컬럼추가.csv\n",
      " data_230516~230531_컬럼추가.csv\n",
      " data_230601~230615_컬럼추가.csv\n",
      " data_230616~230630_컬럼추가.csv\n",
      " data_230701~230715_컬럼추가.csv\n",
      " data_230716~230731_컬럼추가.csv\n",
      " data_230801~230815_컬럼추가.csv\n",
      " data_230816~230831_컬럼추가.csv\n",
      " data_230901~230915_컬럼추가.csv\n",
      " data_230916~230930_컬럼추가.csv\n",
      " data_231001~231015_컬럼추가.csv\n",
      " data_231016~231031_컬럼추가.csv\n",
      " data_231101~231115_컬럼추가.csv\n",
      " data_231116~231130_컬럼추가.csv\n",
      " data_231201~231215_컬럼추가.csv\n",
      " data_231216~231231_컬럼추가.csv\n",
      "===========================================\n",
      "===================================\n",
      "read_file - file_path :  G:\\내 드라이브\\DataSet\\서울특별시 대여소별 공공자전거 대여가능 수량(1시간 단위)\\23.04-23.12_컬럼명추가\\data_230401~230415_컬럼추가.csv , encoding :  EUC-KR\n",
      "===================================\n",
      "read_file - file_path :  G:\\내 드라이브\\DataSet\\서울특별시 대여소별 공공자전거 대여가능 수량(1시간 단위)\\23.04-23.12_컬럼명추가\\data_230416~230430_컬럼추가.csv , encoding :  EUC-KR\n",
      "===================================\n",
      "read_file - file_path :  G:\\내 드라이브\\DataSet\\서울특별시 대여소별 공공자전거 대여가능 수량(1시간 단위)\\23.04-23.12_컬럼명추가\\data_230501~230515_컬럼추가.csv , encoding :  EUC-KR\n",
      "===================================\n",
      "read_file - file_path :  G:\\내 드라이브\\DataSet\\서울특별시 대여소별 공공자전거 대여가능 수량(1시간 단위)\\23.04-23.12_컬럼명추가\\data_230516~230531_컬럼추가.csv , encoding :  EUC-KR\n",
      "===================================\n",
      "read_file - file_path :  G:\\내 드라이브\\DataSet\\서울특별시 대여소별 공공자전거 대여가능 수량(1시간 단위)\\23.04-23.12_컬럼명추가\\data_230601~230615_컬럼추가.csv , encoding :  EUC-KR\n",
      "===================================\n",
      "read_file - file_path :  G:\\내 드라이브\\DataSet\\서울특별시 대여소별 공공자전거 대여가능 수량(1시간 단위)\\23.04-23.12_컬럼명추가\\data_230616~230630_컬럼추가.csv , encoding :  EUC-KR\n",
      "===================================\n",
      "read_file - file_path :  G:\\내 드라이브\\DataSet\\서울특별시 대여소별 공공자전거 대여가능 수량(1시간 단위)\\23.04-23.12_컬럼명추가\\data_230701~230715_컬럼추가.csv , encoding :  EUC-KR\n",
      "===================================\n",
      "read_file - file_path :  G:\\내 드라이브\\DataSet\\서울특별시 대여소별 공공자전거 대여가능 수량(1시간 단위)\\23.04-23.12_컬럼명추가\\data_230716~230731_컬럼추가.csv , encoding :  EUC-KR\n",
      "===================================\n",
      "read_file - file_path :  G:\\내 드라이브\\DataSet\\서울특별시 대여소별 공공자전거 대여가능 수량(1시간 단위)\\23.04-23.12_컬럼명추가\\data_230801~230815_컬럼추가.csv , encoding :  EUC-KR\n",
      "===================================\n",
      "read_file - file_path :  G:\\내 드라이브\\DataSet\\서울특별시 대여소별 공공자전거 대여가능 수량(1시간 단위)\\23.04-23.12_컬럼명추가\\data_230816~230831_컬럼추가.csv , encoding :  EUC-KR\n",
      "===================================\n",
      "read_file - file_path :  G:\\내 드라이브\\DataSet\\서울특별시 대여소별 공공자전거 대여가능 수량(1시간 단위)\\23.04-23.12_컬럼명추가\\data_230901~230915_컬럼추가.csv , encoding :  EUC-KR\n",
      "===================================\n",
      "read_file - file_path :  G:\\내 드라이브\\DataSet\\서울특별시 대여소별 공공자전거 대여가능 수량(1시간 단위)\\23.04-23.12_컬럼명추가\\data_230916~230930_컬럼추가.csv , encoding :  EUC-KR\n",
      "===================================\n",
      "read_file - file_path :  G:\\내 드라이브\\DataSet\\서울특별시 대여소별 공공자전거 대여가능 수량(1시간 단위)\\23.04-23.12_컬럼명추가\\data_231001~231015_컬럼추가.csv , encoding :  EUC-KR\n",
      "===================================\n",
      "read_file - file_path :  G:\\내 드라이브\\DataSet\\서울특별시 대여소별 공공자전거 대여가능 수량(1시간 단위)\\23.04-23.12_컬럼명추가\\data_231016~231031_컬럼추가.csv , encoding :  EUC-KR\n",
      "===================================\n",
      "read_file - file_path :  G:\\내 드라이브\\DataSet\\서울특별시 대여소별 공공자전거 대여가능 수량(1시간 단위)\\23.04-23.12_컬럼명추가\\data_231101~231115_컬럼추가.csv , encoding :  EUC-KR\n",
      "===================================\n",
      "read_file - file_path :  G:\\내 드라이브\\DataSet\\서울특별시 대여소별 공공자전거 대여가능 수량(1시간 단위)\\23.04-23.12_컬럼명추가\\data_231116~231130_컬럼추가.csv , encoding :  EUC-KR\n",
      "===================================\n",
      "read_file - file_path :  G:\\내 드라이브\\DataSet\\서울특별시 대여소별 공공자전거 대여가능 수량(1시간 단위)\\23.04-23.12_컬럼명추가\\data_231201~231215_컬럼추가.csv , encoding :  EUC-KR\n",
      "===================================\n",
      "read_file - file_path :  G:\\내 드라이브\\DataSet\\서울특별시 대여소별 공공자전거 대여가능 수량(1시간 단위)\\23.04-23.12_컬럼명추가\\data_231216~231231_컬럼추가.csv , encoding :  EUC-KR\n"
     ]
    }
   ],
   "source": [
    "# 파일 경로명 변경\n",
    "file_list = os.listdir(Default_path + Sub_path)\n",
    "file_lists = [file for file in file_list if file.endswith((\".csv\", \".xlsx\"))]\n",
    "file_lists.sort()\n",
    "print('file_lists : \\n', '\\n '.join(file_lists))\n",
    "print('===========================================')\n",
    "\n",
    "for _, filename in enumerate(file_lists):\n",
    "    print('===================================')\n",
    "    df = em.Read_File(Default_path + Sub_path + filename)\n",
    "    \n",
    "    grb_df = df.groupby(['일시', '대여소번호', '대여소명', '시간대'])['거치대수량'].mean()\n",
    "    grb_df = np.floor(grb_df).astype(int)\n",
    "    grb_df = grb_df.reset_index()\n",
    "\n",
    "    df_sum = pd.concat([grb_df, df_sum], axis = 0)\n",
    "    del df  # 메모리 정리\n",
    "    del grb_df  # 메모리 정리\n",
    "\n",
    "# for문 종료 후, 실행\n",
    "df_sum.to_parquet(Default_path + Sub_path + 'sum_df' + '.parquet', index=False)\n",
    "del df_sum"
   ]
  },
  {
   "cell_type": "code",
   "execution_count": 105,
   "id": "135595d3-9575-4c91-b44d-0a8782b23aa6",
   "metadata": {},
   "outputs": [],
   "source": [
    "df_2 = em.Read_File(Default_path + Sub_path + 'sum_df.parquet')"
   ]
  },
  {
   "cell_type": "code",
   "execution_count": 107,
   "id": "c3057605-66fd-47c2-86a1-dcdeb38beb2e",
   "metadata": {},
   "outputs": [
    {
     "data": {
      "text/plain": [
       "16968692"
      ]
     },
     "execution_count": 107,
     "metadata": {},
     "output_type": "execute_result"
    }
   ],
   "source": [
    "df_2.shape[0]"
   ]
  },
  {
   "cell_type": "code",
   "execution_count": 109,
   "id": "ffb9f4f9-af02-496d-b30e-3a28589c02fa",
   "metadata": {},
   "outputs": [
    {
     "data": {
      "text/html": [
       "<div>\n",
       "<style scoped>\n",
       "    .dataframe tbody tr th:only-of-type {\n",
       "        vertical-align: middle;\n",
       "    }\n",
       "\n",
       "    .dataframe tbody tr th {\n",
       "        vertical-align: top;\n",
       "    }\n",
       "\n",
       "    .dataframe thead th {\n",
       "        text-align: right;\n",
       "    }\n",
       "</style>\n",
       "<table border=\"1\" class=\"dataframe\">\n",
       "  <thead>\n",
       "    <tr style=\"text-align: right;\">\n",
       "      <th></th>\n",
       "      <th>일시</th>\n",
       "      <th>대여소번호</th>\n",
       "      <th>대여소명</th>\n",
       "      <th>시간대</th>\n",
       "      <th>거치대수량</th>\n",
       "    </tr>\n",
       "  </thead>\n",
       "  <tbody>\n",
       "    <tr>\n",
       "      <th>0</th>\n",
       "      <td>2023-12-16</td>\n",
       "      <td>102</td>\n",
       "      <td>102. 망원역 1번출구 앞</td>\n",
       "      <td>0</td>\n",
       "      <td>34</td>\n",
       "    </tr>\n",
       "    <tr>\n",
       "      <th>1</th>\n",
       "      <td>2023-12-16</td>\n",
       "      <td>102</td>\n",
       "      <td>102. 망원역 1번출구 앞</td>\n",
       "      <td>1</td>\n",
       "      <td>34</td>\n",
       "    </tr>\n",
       "    <tr>\n",
       "      <th>2</th>\n",
       "      <td>2023-12-16</td>\n",
       "      <td>102</td>\n",
       "      <td>102. 망원역 1번출구 앞</td>\n",
       "      <td>2</td>\n",
       "      <td>33</td>\n",
       "    </tr>\n",
       "    <tr>\n",
       "      <th>3</th>\n",
       "      <td>2023-12-16</td>\n",
       "      <td>102</td>\n",
       "      <td>102. 망원역 1번출구 앞</td>\n",
       "      <td>3</td>\n",
       "      <td>34</td>\n",
       "    </tr>\n",
       "    <tr>\n",
       "      <th>4</th>\n",
       "      <td>2023-12-16</td>\n",
       "      <td>102</td>\n",
       "      <td>102. 망원역 1번출구 앞</td>\n",
       "      <td>4</td>\n",
       "      <td>32</td>\n",
       "    </tr>\n",
       "  </tbody>\n",
       "</table>\n",
       "</div>"
      ],
      "text/plain": [
       "           일시  대여소번호             대여소명  시간대  거치대수량\n",
       "0  2023-12-16    102  102. 망원역 1번출구 앞    0     34\n",
       "1  2023-12-16    102  102. 망원역 1번출구 앞    1     34\n",
       "2  2023-12-16    102  102. 망원역 1번출구 앞    2     33\n",
       "3  2023-12-16    102  102. 망원역 1번출구 앞    3     34\n",
       "4  2023-12-16    102  102. 망원역 1번출구 앞    4     32"
      ]
     },
     "execution_count": 109,
     "metadata": {},
     "output_type": "execute_result"
    }
   ],
   "source": [
    "df_2.head()"
   ]
  },
  {
   "cell_type": "markdown",
   "id": "2b31501f-58f5-4d3e-acb0-645e4ec0fb12",
   "metadata": {},
   "source": [
    "---\n",
    "### 중복확인"
   ]
  },
  {
   "cell_type": "code",
   "execution_count": 113,
   "id": "326d37b2-6ca9-4244-8f1b-8bc00c33cb4f",
   "metadata": {},
   "outputs": [
    {
     "name": "stdout",
     "output_type": "stream",
     "text": [
      " - [중복] : 0 / 16968692\n"
     ]
    }
   ],
   "source": [
    "# '일시', '대여소번호', '대여소명', '시간대' 컬럼의 중복값 확인\n",
    "duplicates = df_2.duplicated(subset=['일시', '대여소번호', '대여소명', '시간대'], keep=False)\n",
    "# 중복된 행 출력\n",
    "duplicate_rows = df_2[duplicates]\n",
    "# 결과 출력\n",
    "print(f' - [중복] : {duplicate_rows.shape[0]} / {df_2.shape[0]}')"
   ]
  },
  {
   "cell_type": "markdown",
   "id": "f3899a2b-4a3c-4825-a837-0b0499027175",
   "metadata": {},
   "source": [
    "---\n",
    "## 병합\n",
    "- 23.01-23.03 (17일까지만 있음)"
   ]
  },
  {
   "cell_type": "code",
   "execution_count": 121,
   "id": "140d58d2-425c-4f73-9b26-938356bb2c83",
   "metadata": {},
   "outputs": [],
   "source": [
    "df_sum = pd.DataFrame()"
   ]
  },
  {
   "cell_type": "code",
   "execution_count": 123,
   "id": "1963ccc3-a339-42e4-b182-2b37ba1517b5",
   "metadata": {},
   "outputs": [],
   "source": [
    "Sub_path = '23.01-23.03 (17일까지만 있음)\\\\'"
   ]
  },
  {
   "cell_type": "code",
   "execution_count": 127,
   "id": "09cae770-f8d3-4be9-9fa5-fd071dedb1f7",
   "metadata": {},
   "outputs": [
    {
     "name": "stdout",
     "output_type": "stream",
     "text": [
      "file_lists : \n",
      " 23.01.csv\n",
      " 23.02.csv\n",
      " 23.03.csv\n",
      " 대여소별 대여가능 수량 23.01-23.03.csv\n",
      "===========================================\n",
      "===================================\n",
      "read_file - file_path :  G:\\내 드라이브\\DataSet\\서울특별시 대여소별 공공자전거 대여가능 수량(1시간 단위)\\23.01-23.03 (17일까지만 있음)\\23.01.csv , encoding :  EUC-KR\n",
      "===================================\n",
      "read_file - file_path :  G:\\내 드라이브\\DataSet\\서울특별시 대여소별 공공자전거 대여가능 수량(1시간 단위)\\23.01-23.03 (17일까지만 있음)\\23.02.csv , encoding :  EUC-KR\n",
      "===================================\n",
      "read_file - file_path :  G:\\내 드라이브\\DataSet\\서울특별시 대여소별 공공자전거 대여가능 수량(1시간 단위)\\23.01-23.03 (17일까지만 있음)\\23.03.csv , encoding :  EUC-KR\n",
      "===================================\n",
      "read_file - file_path :  G:\\내 드라이브\\DataSet\\서울특별시 대여소별 공공자전거 대여가능 수량(1시간 단위)\\23.01-23.03 (17일까지만 있음)\\대여소별 대여가능 수량 23.01-23.03.csv , encoding :  EUC-KR\n"
     ]
    }
   ],
   "source": [
    "# 파일 경로명 변경\n",
    "file_list = os.listdir(Default_path + Sub_path)\n",
    "file_lists = [file for file in file_list if file.endswith((\".csv\", \".xlsx\"))]\n",
    "file_lists.sort()\n",
    "print('file_lists : \\n', '\\n '.join(file_lists))\n",
    "print('===========================================')\n",
    "\n",
    "for _, filename in enumerate(file_lists):\n",
    "    print('===================================')\n",
    "    df = em.Read_File(Default_path + Sub_path + filename)\n",
    "    \n",
    "    df_sum = pd.concat([df, df_sum], axis = 0)\n",
    "    del df  # 메모리 정리    \n",
    "\n",
    "# for문 종료 후, 실행\n",
    "df_sum.to_parquet(Default_path + Sub_path + 'sum_df' + '.parquet', index=False)\n",
    "del df_sum"
   ]
  },
  {
   "cell_type": "markdown",
   "id": "991326a6-b038-4de0-8f3e-f34056cbba97",
   "metadata": {},
   "source": [
    "---\n",
    "## 최종병합"
   ]
  },
  {
   "cell_type": "code",
   "execution_count": null,
   "id": "39ed34f7-1c1b-49dd-b20b-44770af61f33",
   "metadata": {},
   "outputs": [],
   "source": [
    "df_sum = pd.DataFrame()"
   ]
  },
  {
   "cell_type": "code",
   "execution_count": 132,
   "id": "22ee38a8-88bc-4401-bdd6-bb0bcf76a11c",
   "metadata": {},
   "outputs": [],
   "source": [
    "df1 = em.Read_File(Default_path + '23년\\\\23.01-23.03 (17일까지만 있음)\\\\23.01~03(병합).parquet')\n",
    "df2 = em.Read_File(Default_path + '23년\\\\23.04-23.12_컬럼명추가\\\\data_230401~231231(중복제거).parquet')\n",
    "    \n",
    "df_sum = pd.concat([df1, df2], axis = 0)\n",
    "del df1  # 메모리 정리    \n",
    "del df2  # 메모리 정리    \n",
    "\n",
    "# for문 종료 후, 실행\n",
    "df_sum.to_parquet(Default_path + '23년\\\\' + '서울특별시 대여소별 공공자전거 대여가능 수량(1시간 단위)_2023.parquet', index=False)\n",
    "del df_sum"
   ]
  },
  {
   "cell_type": "code",
   "execution_count": 136,
   "id": "555ccee6-3da4-420b-9d23-9fcf672dd7ad",
   "metadata": {},
   "outputs": [],
   "source": [
    "df_2 = em.Read_File(Default_path + '23년\\\\' + '서울특별시 대여소별 공공자전거 대여가능 수량(1시간 단위)_2023.parquet')"
   ]
  },
  {
   "cell_type": "code",
   "execution_count": 138,
   "id": "18bed314-8912-4956-ace9-4458a57b6626",
   "metadata": {},
   "outputs": [
    {
     "data": {
      "text/plain": [
       "23260140"
      ]
     },
     "execution_count": 138,
     "metadata": {},
     "output_type": "execute_result"
    }
   ],
   "source": [
    "df_2.shape[0]"
   ]
  },
  {
   "cell_type": "code",
   "execution_count": null,
   "id": "9fcd191f-183d-4808-9abc-5e9f31a4ba1b",
   "metadata": {},
   "outputs": [],
   "source": [
    "Sub_path = '23.04-23.12_컬럼명추가\\\\'"
   ]
  }
 ],
 "metadata": {
  "kernelspec": {
   "display_name": "Python 3 (ipykernel)",
   "language": "python",
   "name": "python3"
  },
  "language_info": {
   "codemirror_mode": {
    "name": "ipython",
    "version": 3
   },
   "file_extension": ".py",
   "mimetype": "text/x-python",
   "name": "python",
   "nbconvert_exporter": "python",
   "pygments_lexer": "ipython3",
   "version": "3.12.4"
  }
 },
 "nbformat": 4,
 "nbformat_minor": 5
}
