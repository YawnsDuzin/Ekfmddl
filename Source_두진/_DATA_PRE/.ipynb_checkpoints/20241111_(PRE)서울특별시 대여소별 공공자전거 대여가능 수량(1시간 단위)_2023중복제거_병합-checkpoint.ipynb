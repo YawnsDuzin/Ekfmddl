{
 "cells": [
  {
   "cell_type": "code",
   "execution_count": 13,
   "id": "2e69029a-b842-4f6b-9fc1-f213914c46c2",
   "metadata": {},
   "outputs": [],
   "source": [
    "# 라이브러리 임포트\n",
    "import os\n",
    "import numpy as np\n",
    "import pandas as pd\n",
    "import chardet\n",
    "\n",
    "# 사용자 정의함수 경로 설정\n",
    "import sys\n",
    "sys.path.append(\"G:/내 드라이브/Source/_Custom_Function\")\n",
    "# 사용자 정의함수 불러오기\n",
    "\n",
    "import time\n",
    "\n",
    "import ExcelFile_Merge as em\n",
    "import ExcelFile_Read as er\n",
    "import ExcelFile_EDA as ee"
   ]
  },
  {
   "cell_type": "code",
   "execution_count": 56,
   "id": "062687fa-c051-405d-b130-eec37c211c0d",
   "metadata": {},
   "outputs": [],
   "source": [
    "Default_path = 'G:\\\\내 드라이브\\\\DataSet\\\\서울특별시 대여소별 공공자전거 대여가능 수량(1시간 단위)\\\\23년\\\\'"
   ]
  },
  {
   "cell_type": "markdown",
   "id": "c8908337-10b8-419c-9eb3-054adbf69e0c",
   "metadata": {},
   "source": [
    "---\n",
    "### 경로 파일 체크\n",
    "- 23.01-23.03 (17일까지만 있음)"
   ]
  },
  {
   "cell_type": "code",
   "execution_count": 58,
   "id": "d37a56e7-13d7-499d-80fe-389e337edfcf",
   "metadata": {},
   "outputs": [],
   "source": [
    "Sub_path = '23.01-23.03 (17일까지만 있음)\\\\'"
   ]
  },
  {
   "cell_type": "code",
   "execution_count": 60,
   "id": "a38edba0-1795-491e-8eaf-8b54812b66f0",
   "metadata": {},
   "outputs": [
    {
     "name": "stdout",
     "output_type": "stream",
     "text": [
      "file_path :  G:\\내 드라이브\\DataSet\\서울특별시 대여소별 공공자전거 대여가능 수량(1시간 단위)\\23년\\23.01-23.03 (17일까지만 있음)\\\n",
      "0  file :  23.01.csv\n",
      "columns :  일시,대여소번호,대여소명,시간대,거치대수량\n",
      "1  file :  23.02.csv\n",
      "columns :  일시,대여소번호,대여소명,시간대,거치대수량\n",
      "2  file :  23.03.csv\n",
      "columns :  일시,대여소번호,대여소명,시간대,거치대수량\n",
      "================================================================================\n",
      "O,O,O,O\n"
     ]
    }
   ],
   "source": [
    "er.Columns_Check(Default_path + Sub_path) "
   ]
  },
  {
   "cell_type": "code",
   "execution_count": 62,
   "id": "ab0c9ff6-f561-4df5-a424-cc5729128c38",
   "metadata": {},
   "outputs": [
    {
     "name": "stdout",
     "output_type": "stream",
     "text": [
      "read_file - file_path :  G:\\내 드라이브\\DataSet\\서울특별시 대여소별 공공자전거 대여가능 수량(1시간 단위)\\23년\\23.01-23.03 (17일까지만 있음)\\23.01.csv , encoding :  EUC-KR\n",
      "0\n",
      "read_file - file_path :  G:\\내 드라이브\\DataSet\\서울특별시 대여소별 공공자전거 대여가능 수량(1시간 단위)\\23년\\23.01-23.03 (17일까지만 있음)\\23.02.csv , encoding :  EUC-KR\n",
      "0\n",
      "read_file - file_path :  G:\\내 드라이브\\DataSet\\서울특별시 대여소별 공공자전거 대여가능 수량(1시간 단위)\\23년\\23.01-23.03 (17일까지만 있음)\\23.03.csv , encoding :  EUC-KR\n",
      "0\n"
     ]
    }
   ],
   "source": [
    "_files = ['23.01.csv', '23.02.csv', '23.03.csv']\n",
    "for _file in _files:\n",
    "    df = em.Read_File(Default_path + Sub_path + _file)\n",
    "    # '일시', '대여소번호', '대여소명', '시간대' 컬럼의 중복값 확인\n",
    "    duplicates = df.duplicated(subset=['일시', '대여소번호', '대여소명', '시간대'], keep=False)\n",
    "    # 중복된 행 출력\n",
    "    duplicate_rows = df[duplicates]\n",
    "    # 결과 출력\n",
    "    print(duplicate_rows.shape[0])"
   ]
  },
  {
   "cell_type": "markdown",
   "id": "80a40209-2fb9-44da-8e04-8570d2a06eae",
   "metadata": {},
   "source": [
    "---\n",
    "### 경로 파일 체크\n",
    "- 23.04-23.12_컬럼명추가"
   ]
  },
  {
   "cell_type": "code",
   "execution_count": 64,
   "id": "c988915d-26e6-4d05-b79f-79e14707cce6",
   "metadata": {},
   "outputs": [],
   "source": [
    "Sub_path = '23.04-23.12_컬럼명추가\\\\'"
   ]
  },
  {
   "cell_type": "code",
   "execution_count": 66,
   "id": "a5024ab4-c969-40fa-9664-ef2f646c0787",
   "metadata": {},
   "outputs": [
    {
     "name": "stdout",
     "output_type": "stream",
     "text": [
      "file_path :  G:\\내 드라이브\\DataSet\\서울특별시 대여소별 공공자전거 대여가능 수량(1시간 단위)\\23년\\23.04-23.12_컬럼명추가\\\n",
      "0  file :  data_230401~230415_컬럼추가.csv\n",
      "columns :  일시,대여소번호,대여소명,시간대,거치대수량\n",
      "1  file :  data_230416~230430_컬럼추가.csv\n",
      "columns :  일시,대여소번호,대여소명,시간대,거치대수량\n",
      "2  file :  data_230501~230515_컬럼추가.csv\n",
      "columns :  일시,대여소번호,대여소명,시간대,거치대수량\n",
      "3  file :  data_230516~230531_컬럼추가.csv\n",
      "columns :  일시,대여소번호,대여소명,시간대,거치대수량\n",
      "4  file :  data_230601~230615_컬럼추가.csv\n",
      "columns :  일시,대여소번호,대여소명,시간대,거치대수량\n",
      "5  file :  data_230616~230630_컬럼추가.csv\n",
      "columns :  일시,대여소번호,대여소명,시간대,거치대수량\n",
      "6  file :  data_230701~230715_컬럼추가.csv\n",
      "columns :  일시,대여소번호,대여소명,시간대,거치대수량\n",
      "7  file :  data_230716~230731_컬럼추가.csv\n",
      "columns :  일시,대여소번호,대여소명,시간대,거치대수량\n",
      "8  file :  data_230801~230815_컬럼추가.csv\n",
      "columns :  일시,대여소번호,대여소명,시간대,거치대수량\n",
      "9  file :  data_230816~230831_컬럼추가.csv\n",
      "columns :  일시,대여소번호,대여소명,시간대,거치대수량\n",
      "10  file :  data_230901~230915_컬럼추가.csv\n",
      "columns :  일시,대여소번호,대여소명,시간대,거치대수량\n",
      "11  file :  data_230916~230930_컬럼추가.csv\n",
      "columns :  일시,대여소번호,대여소명,시간대,거치대수량\n",
      "12  file :  data_231001~231015_컬럼추가.csv\n",
      "columns :  일시,대여소번호,대여소명,시간대,거치대수량\n",
      "13  file :  data_231016~231031_컬럼추가.csv\n",
      "columns :  일시,대여소번호,대여소명,시간대,거치대수량\n",
      "14  file :  data_231101~231115_컬럼추가.csv\n",
      "columns :  일시,대여소번호,대여소명,시간대,거치대수량\n",
      "15  file :  data_231116~231130_컬럼추가.csv\n",
      "columns :  일시,대여소번호,대여소명,시간대,거치대수량\n",
      "16  file :  data_231201~231215_컬럼추가.csv\n",
      "columns :  일시,대여소번호,대여소명,시간대,거치대수량\n",
      "17  file :  data_231216~231231_컬럼추가.csv\n",
      "columns :  일시,대여소번호,대여소명,시간대,거치대수량\n",
      "================================================================================\n",
      "O,O,O,O,O,O,O,O,O,O,O,O,O,O,O,O,O,O,O\n"
     ]
    }
   ],
   "source": [
    "er.Columns_Check(Default_path + Sub_path) "
   ]
  },
  {
   "cell_type": "code",
   "execution_count": 68,
   "id": "a4e6b06b-6aa0-4ba0-ac8e-d62557528e22",
   "metadata": {},
   "outputs": [
    {
     "name": "stdout",
     "output_type": "stream",
     "text": [
      "file_lists : \n",
      " data_230401~230415_컬럼추가.csv\n",
      " data_230416~230430_컬럼추가.csv\n",
      " data_230501~230515_컬럼추가.csv\n",
      " data_230516~230531_컬럼추가.csv\n",
      " data_230601~230615_컬럼추가.csv\n",
      " data_230616~230630_컬럼추가.csv\n",
      " data_230701~230715_컬럼추가.csv\n",
      " data_230716~230731_컬럼추가.csv\n",
      " data_230801~230815_컬럼추가.csv\n",
      " data_230816~230831_컬럼추가.csv\n",
      " data_230901~230915_컬럼추가.csv\n",
      " data_230916~230930_컬럼추가.csv\n",
      " data_231001~231015_컬럼추가.csv\n",
      " data_231016~231031_컬럼추가.csv\n",
      " data_231101~231115_컬럼추가.csv\n",
      " data_231116~231130_컬럼추가.csv\n",
      " data_231201~231215_컬럼추가.csv\n",
      " data_231216~231231_컬럼추가.csv\n",
      "===========================================\n",
      "===================================\n",
      "read_file - file_path :  G:\\내 드라이브\\DataSet\\서울특별시 대여소별 공공자전거 대여가능 수량(1시간 단위)\\23년\\23.04-23.12_컬럼명추가\\data_230401~230415_컬럼추가.csv , encoding :  EUC-KR\n",
      " - [중복] : 5762759 / 5762760\n",
      "===================================\n",
      "read_file - file_path :  G:\\내 드라이브\\DataSet\\서울특별시 대여소별 공공자전거 대여가능 수량(1시간 단위)\\23년\\23.04-23.12_컬럼명추가\\data_230416~230430_컬럼추가.csv , encoding :  EUC-KR\n",
      " - [중복] : 5767200 / 5767200\n",
      "===================================\n",
      "read_file - file_path :  G:\\내 드라이브\\DataSet\\서울특별시 대여소별 공공자전거 대여가능 수량(1시간 단위)\\23년\\23.04-23.12_컬럼명추가\\data_230501~230515_컬럼추가.csv , encoding :  EUC-KR\n",
      " - [중복] : 5770814 / 5770814\n",
      "===================================\n",
      "read_file - file_path :  G:\\내 드라이브\\DataSet\\서울특별시 대여소별 공공자전거 대여가능 수량(1시간 단위)\\23년\\23.04-23.12_컬럼명추가\\data_230516~230531_컬럼추가.csv , encoding :  EUC-KR\n",
      " - [중복] : 6162491 / 6162491\n",
      "===================================\n",
      "read_file - file_path :  G:\\내 드라이브\\DataSet\\서울특별시 대여소별 공공자전거 대여가능 수량(1시간 단위)\\23년\\23.04-23.12_컬럼명추가\\data_230601~230615_컬럼추가.csv , encoding :  EUC-KR\n",
      " - [중복] : 5779410 / 5779410\n",
      "===================================\n",
      "read_file - file_path :  G:\\내 드라이브\\DataSet\\서울특별시 대여소별 공공자전거 대여가능 수량(1시간 단위)\\23년\\23.04-23.12_컬럼명추가\\data_230616~230630_컬럼추가.csv , encoding :  EUC-KR\n",
      " - [중복] : 5776966 / 5776966\n",
      "===================================\n",
      "read_file - file_path :  G:\\내 드라이브\\DataSet\\서울특별시 대여소별 공공자전거 대여가능 수량(1시간 단위)\\23년\\23.04-23.12_컬럼명추가\\data_230701~230715_컬럼추가.csv , encoding :  EUC-KR\n",
      " - [중복] : 5787832 / 5787833\n",
      "===================================\n",
      "read_file - file_path :  G:\\내 드라이브\\DataSet\\서울특별시 대여소별 공공자전거 대여가능 수량(1시간 단위)\\23년\\23.04-23.12_컬럼명추가\\data_230716~230731_컬럼추가.csv , encoding :  EUC-KR\n",
      " - [중복] : 6196285 / 6196288\n",
      "===================================\n",
      "read_file - file_path :  G:\\내 드라이브\\DataSet\\서울특별시 대여소별 공공자전거 대여가능 수량(1시간 단위)\\23년\\23.04-23.12_컬럼명추가\\data_230801~230815_컬럼추가.csv , encoding :  EUC-KR\n",
      " - [중복] : 5819040 / 5819040\n",
      "===================================\n",
      "read_file - file_path :  G:\\내 드라이브\\DataSet\\서울특별시 대여소별 공공자전거 대여가능 수량(1시간 단위)\\23년\\23.04-23.12_컬럼명추가\\data_230816~230831_컬럼추가.csv , encoding :  EUC-KR\n",
      " - [중복] : 6211109 / 6211109\n",
      "===================================\n",
      "read_file - file_path :  G:\\내 드라이브\\DataSet\\서울특별시 대여소별 공공자전거 대여가능 수량(1시간 단위)\\23년\\23.04-23.12_컬럼명추가\\data_230901~230915_컬럼추가.csv , encoding :  EUC-KR\n",
      " - [중복] : 3116548 / 3116549\n",
      "===================================\n",
      "read_file - file_path :  G:\\내 드라이브\\DataSet\\서울특별시 대여소별 공공자전거 대여가능 수량(1시간 단위)\\23년\\23.04-23.12_컬럼명추가\\data_230916~230930_컬럼추가.csv , encoding :  EUC-KR\n",
      " - [중복] : 5840640 / 5840640\n",
      "===================================\n",
      "read_file - file_path :  G:\\내 드라이브\\DataSet\\서울특별시 대여소별 공공자전거 대여가능 수량(1시간 단위)\\23년\\23.04-23.12_컬럼명추가\\data_231001~231015_컬럼추가.csv , encoding :  EUC-KR\n",
      " - [중복] : 3682120 / 3684830\n",
      "===================================\n",
      "read_file - file_path :  G:\\내 드라이브\\DataSet\\서울특별시 대여소별 공공자전거 대여가능 수량(1시간 단위)\\23년\\23.04-23.12_컬럼명추가\\data_231016~231031_컬럼추가.csv , encoding :  EUC-KR\n",
      " - [중복] : 6243017 / 6243018\n",
      "===================================\n",
      "read_file - file_path :  G:\\내 드라이브\\DataSet\\서울특별시 대여소별 공공자전거 대여가능 수량(1시간 단위)\\23년\\23.04-23.12_컬럼명추가\\data_231101~231115_컬럼추가.csv , encoding :  EUC-KR\n",
      " - [중복] : 5856601 / 5856601\n",
      "===================================\n",
      "read_file - file_path :  G:\\내 드라이브\\DataSet\\서울특별시 대여소별 공공자전거 대여가능 수량(1시간 단위)\\23년\\23.04-23.12_컬럼명추가\\data_231116~231130_컬럼추가.csv , encoding :  EUC-KR\n",
      " - [중복] : 5864257 / 5864257\n",
      "===================================\n",
      "read_file - file_path :  G:\\내 드라이브\\DataSet\\서울특별시 대여소별 공공자전거 대여가능 수량(1시간 단위)\\23년\\23.04-23.12_컬럼명추가\\data_231201~231215_컬럼추가.csv , encoding :  EUC-KR\n",
      " - [중복] : 5863070 / 5863070\n",
      "===================================\n",
      "read_file - file_path :  G:\\내 드라이브\\DataSet\\서울특별시 대여소별 공공자전거 대여가능 수량(1시간 단위)\\23년\\23.04-23.12_컬럼명추가\\data_231216~231231_컬럼추가.csv , encoding :  EUC-KR\n",
      " - [중복] : 6265931 / 6265931\n"
     ]
    }
   ],
   "source": [
    "# 파일 경로명 변경\n",
    "file_list = os.listdir(Default_path + Sub_path)\n",
    "file_lists = [file for file in file_list if file.endswith((\".csv\", \".xlsx\"))]\n",
    "file_lists.sort()\n",
    "print('file_lists : \\n', '\\n '.join(file_lists))\n",
    "print('===========================================')\n",
    "\n",
    "for _, filename in enumerate(file_lists):\n",
    "    try:\n",
    "        print('===================================')\n",
    "        df = em.Read_File(Default_path + Sub_path + filename)\n",
    "        # '일시', '대여소번호', '대여소명', '시간대' 컬럼의 중복값 확인\n",
    "        duplicates = df.duplicated(subset=['일시', '대여소번호', '대여소명', '시간대'], keep=False)\n",
    "        # 중복된 행 출력\n",
    "        duplicate_rows = df[duplicates]\n",
    "        # 결과 출력\n",
    "        print(f' - [중복] : {duplicate_rows.shape[0]} / {df.shape[0]}')\n",
    "    except:\n",
    "        print('- Err : ', savefile)     "
   ]
  },
  {
   "cell_type": "markdown",
   "id": "0da7b43d-ce04-4e3e-a6a4-0ccd5a6d0d2d",
   "metadata": {},
   "source": [
    "data_230401~230415_컬럼추가.csv\r",
    " data_230416~230430_컬럼추가.csv\n",
    " data_230501~230515_컬럼추가.cs\r\n",
    " data_230516~230531_컬럼추가.cv\r\n",
    " data_230601~230615_컬럼추가.sv\r\n",
    " data_230616~230630_컬럼추가csv\r\n",
    " data_230701~230715_컬럼추.csv\r\n",
    " data_230716~230731_컬럼가.csv\r\n",
    " data_230801~230815_컬추가.csv\r\n",
    " data_230816~230831_럼추가.csv\r\n",
    " data_230901~230915컬럼추가.csv\r\n",
    " data_230916~23093_컬럼추가.csv\r\n",
    " data_231001~23105_컬럼추가.csv\r\n",
    " data_231016~23131_컬럼추가.csv\r\n",
    " data_231101~23115_컬럼추가.csv\r\n",
    " data_231116~21130_컬럼추가.csv\r\n",
    " data_231201~31215_컬럼추가.csv\r\n",
    " data_231216~231231_컬럼추가.csv"
   ]
  },
  {
   "cell_type": "code",
   "execution_count": 72,
   "id": "eb2f38b5-a283-425b-b4e2-48a901b9a727",
   "metadata": {},
   "outputs": [
    {
     "name": "stdout",
     "output_type": "stream",
     "text": [
      "read_file - file_path :  G:\\내 드라이브\\DataSet\\서울특별시 대여소별 공공자전거 대여가능 수량(1시간 단위)\\23.04-23.12_컬럼명추가\\data_230516~230531_컬럼추가.csv , encoding :  EUC-KR\n",
      "거치대수량\n",
      "0      1045745\n",
      "1       620700\n",
      "2       456045\n",
      "3       357339\n",
      "4       298315\n",
      "        ...   \n",
      "224          1\n",
      "223          1\n",
      "230          1\n",
      "233          1\n",
      "220          1\n",
      "Name: count, Length: 229, dtype: int64\n",
      "df.shape[0] : 6162491\n",
      "거치대수량\n",
      "6    1027079\n",
      "5          2\n",
      "3          1\n",
      "4          1\n",
      "Name: count, dtype: int64\n",
      "grb_df.shape[0] : 1027083\n"
     ]
    }
   ],
   "source": [
    "filename = 'data_230516~230531_컬럼추가.csv'\n",
    "df = em.Read_File(Default_path + Sub_path + filename)\n",
    "grb_df = df.groupby(['일시', '대여소번호', '대여소명', '시간대'])['거치대수량'].count()\n",
    "grb_df = grb_df.reset_index()\n",
    "\n",
    "print(df['거치대수량'].value_counts())\n",
    "print(f'df.shape[0] : {df.shape[0]}')\n",
    "\n",
    "print(grb_df['거치대수량'].value_counts())\n",
    "print(f'grb_df.shape[0] : {grb_df.shape[0]}')"
   ]
  },
  {
   "cell_type": "code",
   "execution_count": 66,
   "id": "df32bbf8-db83-47c8-8bc6-f64900933e67",
   "metadata": {},
   "outputs": [
    {
     "data": {
      "text/html": [
       "<div>\n",
       "<style scoped>\n",
       "    .dataframe tbody tr th:only-of-type {\n",
       "        vertical-align: middle;\n",
       "    }\n",
       "\n",
       "    .dataframe tbody tr th {\n",
       "        vertical-align: top;\n",
       "    }\n",
       "\n",
       "    .dataframe thead th {\n",
       "        text-align: right;\n",
       "    }\n",
       "</style>\n",
       "<table border=\"1\" class=\"dataframe\">\n",
       "  <thead>\n",
       "    <tr style=\"text-align: right;\">\n",
       "      <th></th>\n",
       "      <th>일시</th>\n",
       "      <th>대여소번호</th>\n",
       "      <th>대여소명</th>\n",
       "      <th>시간대</th>\n",
       "      <th>거치대수량</th>\n",
       "    </tr>\n",
       "  </thead>\n",
       "  <tbody>\n",
       "    <tr>\n",
       "      <th>5</th>\n",
       "      <td>2023-04-16</td>\n",
       "      <td>107</td>\n",
       "      <td>107. 신한은행 서교동지점</td>\n",
       "      <td>0</td>\n",
       "      <td>0</td>\n",
       "    </tr>\n",
       "    <tr>\n",
       "      <th>8</th>\n",
       "      <td>2023-04-16</td>\n",
       "      <td>113</td>\n",
       "      <td>113. 홍대입구역 2번출구 앞</td>\n",
       "      <td>0</td>\n",
       "      <td>0</td>\n",
       "    </tr>\n",
       "    <tr>\n",
       "      <th>9</th>\n",
       "      <td>2023-04-16</td>\n",
       "      <td>114</td>\n",
       "      <td>114. 홍대입구역 8번출구 앞</td>\n",
       "      <td>0</td>\n",
       "      <td>0</td>\n",
       "    </tr>\n",
       "    <tr>\n",
       "      <th>26</th>\n",
       "      <td>2023-04-16</td>\n",
       "      <td>134</td>\n",
       "      <td>134. 연세로 명물길</td>\n",
       "      <td>0</td>\n",
       "      <td>0</td>\n",
       "    </tr>\n",
       "    <tr>\n",
       "      <th>29</th>\n",
       "      <td>2023-04-16</td>\n",
       "      <td>138</td>\n",
       "      <td>138. 신촌동 제1공영주차장 앞</td>\n",
       "      <td>0</td>\n",
       "      <td>0</td>\n",
       "    </tr>\n",
       "  </tbody>\n",
       "</table>\n",
       "</div>"
      ],
      "text/plain": [
       "            일시  대여소번호                대여소명  시간대  거치대수량\n",
       "5   2023-04-16    107     107. 신한은행 서교동지점    0      0\n",
       "8   2023-04-16    113   113. 홍대입구역 2번출구 앞    0      0\n",
       "9   2023-04-16    114   114. 홍대입구역 8번출구 앞    0      0\n",
       "26  2023-04-16    134        134. 연세로 명물길    0      0\n",
       "29  2023-04-16    138  138. 신촌동 제1공영주차장 앞    0      0"
      ]
     },
     "execution_count": 66,
     "metadata": {},
     "output_type": "execute_result"
    }
   ],
   "source": [
    "df[df['거치대수량'] == 0].head(5)"
   ]
  },
  {
   "cell_type": "code",
   "execution_count": 68,
   "id": "e5042147-1109-444e-adaf-4eb1a9871d67",
   "metadata": {},
   "outputs": [
    {
     "data": {
      "text/html": [
       "<div>\n",
       "<style scoped>\n",
       "    .dataframe tbody tr th:only-of-type {\n",
       "        vertical-align: middle;\n",
       "    }\n",
       "\n",
       "    .dataframe tbody tr th {\n",
       "        vertical-align: top;\n",
       "    }\n",
       "\n",
       "    .dataframe thead th {\n",
       "        text-align: right;\n",
       "    }\n",
       "</style>\n",
       "<table border=\"1\" class=\"dataframe\">\n",
       "  <thead>\n",
       "    <tr style=\"text-align: right;\">\n",
       "      <th></th>\n",
       "      <th>일시</th>\n",
       "      <th>대여소번호</th>\n",
       "      <th>대여소명</th>\n",
       "      <th>시간대</th>\n",
       "      <th>거치대수량</th>\n",
       "    </tr>\n",
       "  </thead>\n",
       "  <tbody>\n",
       "    <tr>\n",
       "      <th>5</th>\n",
       "      <td>2023-04-16</td>\n",
       "      <td>107</td>\n",
       "      <td>107. 신한은행 서교동지점</td>\n",
       "      <td>0</td>\n",
       "      <td>0</td>\n",
       "    </tr>\n",
       "    <tr>\n",
       "      <th>2675</th>\n",
       "      <td>2023-04-16</td>\n",
       "      <td>107</td>\n",
       "      <td>107. 신한은행 서교동지점</td>\n",
       "      <td>0</td>\n",
       "      <td>0</td>\n",
       "    </tr>\n",
       "    <tr>\n",
       "      <th>5345</th>\n",
       "      <td>2023-04-16</td>\n",
       "      <td>107</td>\n",
       "      <td>107. 신한은행 서교동지점</td>\n",
       "      <td>0</td>\n",
       "      <td>0</td>\n",
       "    </tr>\n",
       "    <tr>\n",
       "      <th>8015</th>\n",
       "      <td>2023-04-16</td>\n",
       "      <td>107</td>\n",
       "      <td>107. 신한은행 서교동지점</td>\n",
       "      <td>0</td>\n",
       "      <td>1</td>\n",
       "    </tr>\n",
       "    <tr>\n",
       "      <th>10685</th>\n",
       "      <td>2023-04-16</td>\n",
       "      <td>107</td>\n",
       "      <td>107. 신한은행 서교동지점</td>\n",
       "      <td>0</td>\n",
       "      <td>1</td>\n",
       "    </tr>\n",
       "    <tr>\n",
       "      <th>13355</th>\n",
       "      <td>2023-04-16</td>\n",
       "      <td>107</td>\n",
       "      <td>107. 신한은행 서교동지점</td>\n",
       "      <td>0</td>\n",
       "      <td>0</td>\n",
       "    </tr>\n",
       "  </tbody>\n",
       "</table>\n",
       "</div>"
      ],
      "text/plain": [
       "               일시  대여소번호             대여소명  시간대  거치대수량\n",
       "5      2023-04-16    107  107. 신한은행 서교동지점    0      0\n",
       "2675   2023-04-16    107  107. 신한은행 서교동지점    0      0\n",
       "5345   2023-04-16    107  107. 신한은행 서교동지점    0      0\n",
       "8015   2023-04-16    107  107. 신한은행 서교동지점    0      1\n",
       "10685  2023-04-16    107  107. 신한은행 서교동지점    0      1\n",
       "13355  2023-04-16    107  107. 신한은행 서교동지점    0      0"
      ]
     },
     "execution_count": 68,
     "metadata": {},
     "output_type": "execute_result"
    }
   ],
   "source": [
    "cond1 = df['일시'] == '2023-04-16'\n",
    "cond2 = df['대여소번호'] == 107\n",
    "cond3 = df['시간대'] == 0\n",
    "df[cond1 & cond2 & cond3]"
   ]
  },
  {
   "cell_type": "code",
   "execution_count": 43,
   "id": "38718288-44ae-4bcf-ac56-23fadcc81c12",
   "metadata": {},
   "outputs": [
    {
     "data": {
      "text/html": [
       "<div>\n",
       "<style scoped>\n",
       "    .dataframe tbody tr th:only-of-type {\n",
       "        vertical-align: middle;\n",
       "    }\n",
       "\n",
       "    .dataframe tbody tr th {\n",
       "        vertical-align: top;\n",
       "    }\n",
       "\n",
       "    .dataframe thead th {\n",
       "        text-align: right;\n",
       "    }\n",
       "</style>\n",
       "<table border=\"1\" class=\"dataframe\">\n",
       "  <thead>\n",
       "    <tr style=\"text-align: right;\">\n",
       "      <th></th>\n",
       "      <th>일시</th>\n",
       "      <th>대여소번호</th>\n",
       "      <th>대여소명</th>\n",
       "      <th>시간대</th>\n",
       "      <th>거치대수량</th>\n",
       "    </tr>\n",
       "  </thead>\n",
       "  <tbody>\n",
       "    <tr>\n",
       "      <th>697185</th>\n",
       "      <td>2023-04-11</td>\n",
       "      <td>4546</td>\n",
       "      <td>4546. 목동운동장 주경기장</td>\n",
       "      <td>14</td>\n",
       "      <td>1</td>\n",
       "    </tr>\n",
       "    <tr>\n",
       "      <th>702979</th>\n",
       "      <td>2023-04-11</td>\n",
       "      <td>5095</td>\n",
       "      <td>5095. 원당근린공원</td>\n",
       "      <td>14</td>\n",
       "      <td>5</td>\n",
       "    </tr>\n",
       "  </tbody>\n",
       "</table>\n",
       "</div>"
      ],
      "text/plain": [
       "                일시  대여소번호              대여소명  시간대  거치대수량\n",
       "697185  2023-04-11   4546  4546. 목동운동장 주경기장   14      1\n",
       "702979  2023-04-11   5095      5095. 원당근린공원   14      5"
      ]
     },
     "execution_count": 43,
     "metadata": {},
     "output_type": "execute_result"
    }
   ],
   "source": [
    "grb_df[grb_df['거치대수량'].isin([1, 5])]"
   ]
  },
  {
   "cell_type": "code",
   "execution_count": 39,
   "id": "cc325a35-5f66-4f7c-9412-79ac774f7cd4",
   "metadata": {},
   "outputs": [
    {
     "data": {
      "text/html": [
       "<div>\n",
       "<style scoped>\n",
       "    .dataframe tbody tr th:only-of-type {\n",
       "        vertical-align: middle;\n",
       "    }\n",
       "\n",
       "    .dataframe tbody tr th {\n",
       "        vertical-align: top;\n",
       "    }\n",
       "\n",
       "    .dataframe thead th {\n",
       "        text-align: right;\n",
       "    }\n",
       "</style>\n",
       "<table border=\"1\" class=\"dataframe\">\n",
       "  <thead>\n",
       "    <tr style=\"text-align: right;\">\n",
       "      <th></th>\n",
       "      <th>일시</th>\n",
       "      <th>대여소번호</th>\n",
       "      <th>대여소명</th>\n",
       "      <th>시간대</th>\n",
       "      <th>거치대수량</th>\n",
       "    </tr>\n",
       "  </thead>\n",
       "  <tbody>\n",
       "    <tr>\n",
       "      <th>16002</th>\n",
       "      <td>2023-04-01</td>\n",
       "      <td>102</td>\n",
       "      <td>102. 망원역 1번출구 앞</td>\n",
       "      <td>1</td>\n",
       "      <td>38</td>\n",
       "    </tr>\n",
       "    <tr>\n",
       "      <th>18669</th>\n",
       "      <td>2023-04-01</td>\n",
       "      <td>102</td>\n",
       "      <td>102. 망원역 1번출구 앞</td>\n",
       "      <td>1</td>\n",
       "      <td>38</td>\n",
       "    </tr>\n",
       "    <tr>\n",
       "      <th>21336</th>\n",
       "      <td>2023-04-01</td>\n",
       "      <td>102</td>\n",
       "      <td>102. 망원역 1번출구 앞</td>\n",
       "      <td>1</td>\n",
       "      <td>36</td>\n",
       "    </tr>\n",
       "    <tr>\n",
       "      <th>24003</th>\n",
       "      <td>2023-04-01</td>\n",
       "      <td>102</td>\n",
       "      <td>102. 망원역 1번출구 앞</td>\n",
       "      <td>1</td>\n",
       "      <td>36</td>\n",
       "    </tr>\n",
       "    <tr>\n",
       "      <th>26670</th>\n",
       "      <td>2023-04-01</td>\n",
       "      <td>102</td>\n",
       "      <td>102. 망원역 1번출구 앞</td>\n",
       "      <td>1</td>\n",
       "      <td>36</td>\n",
       "    </tr>\n",
       "    <tr>\n",
       "      <th>29337</th>\n",
       "      <td>2023-04-01</td>\n",
       "      <td>102</td>\n",
       "      <td>102. 망원역 1번출구 앞</td>\n",
       "      <td>1</td>\n",
       "      <td>36</td>\n",
       "    </tr>\n",
       "  </tbody>\n",
       "</table>\n",
       "</div>"
      ],
      "text/plain": [
       "               일시  대여소번호             대여소명  시간대  거치대수량\n",
       "16002  2023-04-01    102  102. 망원역 1번출구 앞    1     38\n",
       "18669  2023-04-01    102  102. 망원역 1번출구 앞    1     38\n",
       "21336  2023-04-01    102  102. 망원역 1번출구 앞    1     36\n",
       "24003  2023-04-01    102  102. 망원역 1번출구 앞    1     36\n",
       "26670  2023-04-01    102  102. 망원역 1번출구 앞    1     36\n",
       "29337  2023-04-01    102  102. 망원역 1번출구 앞    1     36"
      ]
     },
     "execution_count": 39,
     "metadata": {},
     "output_type": "execute_result"
    }
   ],
   "source": [
    "cond1 = df['일시'] == '2023-04-01'\n",
    "cond2 = df['대여소번호'] == 102\n",
    "cond3 = df['시간대'] == 1\n",
    "df[cond1 & cond2 & cond3]"
   ]
  },
  {
   "cell_type": "code",
   "execution_count": 45,
   "id": "195400a6-42e6-4271-9a87-3b90388881ff",
   "metadata": {},
   "outputs": [
    {
     "data": {
      "text/html": [
       "<div>\n",
       "<style scoped>\n",
       "    .dataframe tbody tr th:only-of-type {\n",
       "        vertical-align: middle;\n",
       "    }\n",
       "\n",
       "    .dataframe tbody tr th {\n",
       "        vertical-align: top;\n",
       "    }\n",
       "\n",
       "    .dataframe thead th {\n",
       "        text-align: right;\n",
       "    }\n",
       "</style>\n",
       "<table border=\"1\" class=\"dataframe\">\n",
       "  <thead>\n",
       "    <tr style=\"text-align: right;\">\n",
       "      <th></th>\n",
       "      <th>일시</th>\n",
       "      <th>대여소번호</th>\n",
       "      <th>대여소명</th>\n",
       "      <th>시간대</th>\n",
       "      <th>거치대수량</th>\n",
       "    </tr>\n",
       "  </thead>\n",
       "  <tbody>\n",
       "    <tr>\n",
       "      <th>32004</th>\n",
       "      <td>2023-04-01</td>\n",
       "      <td>102</td>\n",
       "      <td>102. 망원역 1번출구 앞</td>\n",
       "      <td>2</td>\n",
       "      <td>36</td>\n",
       "    </tr>\n",
       "    <tr>\n",
       "      <th>34671</th>\n",
       "      <td>2023-04-01</td>\n",
       "      <td>102</td>\n",
       "      <td>102. 망원역 1번출구 앞</td>\n",
       "      <td>2</td>\n",
       "      <td>35</td>\n",
       "    </tr>\n",
       "    <tr>\n",
       "      <th>37338</th>\n",
       "      <td>2023-04-01</td>\n",
       "      <td>102</td>\n",
       "      <td>102. 망원역 1번출구 앞</td>\n",
       "      <td>2</td>\n",
       "      <td>34</td>\n",
       "    </tr>\n",
       "    <tr>\n",
       "      <th>40005</th>\n",
       "      <td>2023-04-01</td>\n",
       "      <td>102</td>\n",
       "      <td>102. 망원역 1번출구 앞</td>\n",
       "      <td>2</td>\n",
       "      <td>34</td>\n",
       "    </tr>\n",
       "    <tr>\n",
       "      <th>42672</th>\n",
       "      <td>2023-04-01</td>\n",
       "      <td>102</td>\n",
       "      <td>102. 망원역 1번출구 앞</td>\n",
       "      <td>2</td>\n",
       "      <td>34</td>\n",
       "    </tr>\n",
       "    <tr>\n",
       "      <th>45339</th>\n",
       "      <td>2023-04-01</td>\n",
       "      <td>102</td>\n",
       "      <td>102. 망원역 1번출구 앞</td>\n",
       "      <td>2</td>\n",
       "      <td>34</td>\n",
       "    </tr>\n",
       "  </tbody>\n",
       "</table>\n",
       "</div>"
      ],
      "text/plain": [
       "               일시  대여소번호             대여소명  시간대  거치대수량\n",
       "32004  2023-04-01    102  102. 망원역 1번출구 앞    2     36\n",
       "34671  2023-04-01    102  102. 망원역 1번출구 앞    2     35\n",
       "37338  2023-04-01    102  102. 망원역 1번출구 앞    2     34\n",
       "40005  2023-04-01    102  102. 망원역 1번출구 앞    2     34\n",
       "42672  2023-04-01    102  102. 망원역 1번출구 앞    2     34\n",
       "45339  2023-04-01    102  102. 망원역 1번출구 앞    2     34"
      ]
     },
     "execution_count": 45,
     "metadata": {},
     "output_type": "execute_result"
    }
   ],
   "source": [
    "cond1 = df['일시'] == '2023-04-01'\n",
    "cond2 = df['대여소번호'] == 102\n",
    "cond3 = df['시간대'] == 2\n",
    "df[cond1 & cond2 & cond3]"
   ]
  },
  {
   "cell_type": "markdown",
   "id": "a6678ad3-6acb-43cd-bc2f-ba28ce6e9fe8",
   "metadata": {},
   "source": [
    "---\n",
    "## 평균 값으로 저장"
   ]
  },
  {
   "cell_type": "code",
   "execution_count": 91,
   "id": "ee849d76-9b67-4b2a-9913-94a33d85f56a",
   "metadata": {},
   "outputs": [
    {
     "name": "stdout",
     "output_type": "stream",
     "text": [
      "read_file - file_path :  G:\\내 드라이브\\DataSet\\서울특별시 대여소별 공공자전거 대여가능 수량(1시간 단위)\\23.04-23.12_컬럼명추가\\data_230516~230531_컬럼추가.csv , encoding :  EUC-KR\n",
      "거치대수량\n",
      "0      1045745\n",
      "1       620700\n",
      "2       456045\n",
      "3       357339\n",
      "4       298315\n",
      "        ...   \n",
      "224          1\n",
      "223          1\n",
      "230          1\n",
      "233          1\n",
      "220          1\n",
      "Name: count, Length: 229, dtype: int64\n",
      "df.shape[0] : 6162491\n",
      "거치대수량\n",
      "0      197610\n",
      "1      101377\n",
      "2       72632\n",
      "3       57240\n",
      "4       47689\n",
      "        ...  \n",
      "164         1\n",
      "171         1\n",
      "160         1\n",
      "165         1\n",
      "232         1\n",
      "Name: count, Length: 202, dtype: int64\n",
      "grb_df.shape[0] : 1027083\n"
     ]
    }
   ],
   "source": [
    "filename = 'data_230516~230531_컬럼추가.csv'\n",
    "df = em.Read_File(Default_path + Sub_path + filename)\n",
    "grb_df = df.groupby(['일시', '대여소번호', '대여소명', '시간대'])['거치대수량'].mean()\n",
    "grb_df = np.floor(grb_df).astype(int)\n",
    "grb_df = grb_df.reset_index()\n",
    "\n",
    "print(df['거치대수량'].value_counts())\n",
    "print(f'df.shape[0] : {df.shape[0]}')\n",
    "\n",
    "print(grb_df['거치대수량'].value_counts())\n",
    "print(f'grb_df.shape[0] : {grb_df.shape[0]}')"
   ]
  },
  {
   "cell_type": "code",
   "execution_count": 92,
   "id": "2350b7b9-e49e-48f3-8982-7798b2f2b198",
   "metadata": {},
   "outputs": [
    {
     "data": {
      "text/html": [
       "<div>\n",
       "<style scoped>\n",
       "    .dataframe tbody tr th:only-of-type {\n",
       "        vertical-align: middle;\n",
       "    }\n",
       "\n",
       "    .dataframe tbody tr th {\n",
       "        vertical-align: top;\n",
       "    }\n",
       "\n",
       "    .dataframe thead th {\n",
       "        text-align: right;\n",
       "    }\n",
       "</style>\n",
       "<table border=\"1\" class=\"dataframe\">\n",
       "  <thead>\n",
       "    <tr style=\"text-align: right;\">\n",
       "      <th></th>\n",
       "      <th>일시</th>\n",
       "      <th>대여소번호</th>\n",
       "      <th>대여소명</th>\n",
       "      <th>시간대</th>\n",
       "      <th>거치대수량</th>\n",
       "    </tr>\n",
       "  </thead>\n",
       "  <tbody>\n",
       "    <tr>\n",
       "      <th>0</th>\n",
       "      <td>2023-05-16</td>\n",
       "      <td>102</td>\n",
       "      <td>102. 망원역 1번출구 앞</td>\n",
       "      <td>0</td>\n",
       "      <td>8</td>\n",
       "    </tr>\n",
       "    <tr>\n",
       "      <th>1</th>\n",
       "      <td>2023-05-16</td>\n",
       "      <td>102</td>\n",
       "      <td>102. 망원역 1번출구 앞</td>\n",
       "      <td>1</td>\n",
       "      <td>7</td>\n",
       "    </tr>\n",
       "    <tr>\n",
       "      <th>2</th>\n",
       "      <td>2023-05-16</td>\n",
       "      <td>102</td>\n",
       "      <td>102. 망원역 1번출구 앞</td>\n",
       "      <td>2</td>\n",
       "      <td>6</td>\n",
       "    </tr>\n",
       "  </tbody>\n",
       "</table>\n",
       "</div>"
      ],
      "text/plain": [
       "           일시  대여소번호             대여소명  시간대  거치대수량\n",
       "0  2023-05-16    102  102. 망원역 1번출구 앞    0      8\n",
       "1  2023-05-16    102  102. 망원역 1번출구 앞    1      7\n",
       "2  2023-05-16    102  102. 망원역 1번출구 앞    2      6"
      ]
     },
     "execution_count": 92,
     "metadata": {},
     "output_type": "execute_result"
    }
   ],
   "source": [
    "grb_df.head(3)"
   ]
  },
  {
   "cell_type": "code",
   "execution_count": 87,
   "id": "ee541726-6ab6-4446-85a2-c6a23c28f314",
   "metadata": {},
   "outputs": [
    {
     "data": {
      "text/html": [
       "<div>\n",
       "<style scoped>\n",
       "    .dataframe tbody tr th:only-of-type {\n",
       "        vertical-align: middle;\n",
       "    }\n",
       "\n",
       "    .dataframe tbody tr th {\n",
       "        vertical-align: top;\n",
       "    }\n",
       "\n",
       "    .dataframe thead th {\n",
       "        text-align: right;\n",
       "    }\n",
       "</style>\n",
       "<table border=\"1\" class=\"dataframe\">\n",
       "  <thead>\n",
       "    <tr style=\"text-align: right;\">\n",
       "      <th></th>\n",
       "      <th>일시</th>\n",
       "      <th>대여소번호</th>\n",
       "      <th>대여소명</th>\n",
       "      <th>시간대</th>\n",
       "      <th>거치대수량</th>\n",
       "    </tr>\n",
       "  </thead>\n",
       "  <tbody>\n",
       "  </tbody>\n",
       "</table>\n",
       "</div>"
      ],
      "text/plain": [
       "Empty DataFrame\n",
       "Columns: [일시, 대여소번호, 대여소명, 시간대, 거치대수량]\n",
       "Index: []"
      ]
     },
     "execution_count": 87,
     "metadata": {},
     "output_type": "execute_result"
    }
   ],
   "source": [
    "cond1 = df['일시'] == '2023-04-16'\n",
    "cond2 = df['대여소번호'] == 107\n",
    "cond3 = df['시간대'] == 0\n",
    "df[cond1 & cond2 & cond3]"
   ]
  },
  {
   "cell_type": "markdown",
   "id": "714b972f-e1e3-42da-8d5b-9c1894c4dd4c",
   "metadata": {},
   "source": [
    "---\n",
    "## 병합\n",
    "- 23.04-23.12_컬럼명추가"
   ]
  },
  {
   "cell_type": "code",
   "execution_count": 97,
   "id": "a1426b54-a126-4d76-b491-b596b5801f20",
   "metadata": {},
   "outputs": [],
   "source": [
    "df_sum = pd.DataFrame()"
   ]
  },
  {
   "cell_type": "code",
   "execution_count": 99,
   "id": "f51643f0-de8b-4504-b2a4-0e1c432803e4",
   "metadata": {},
   "outputs": [],
   "source": [
    "Sub_path = '23.04-23.12_컬럼명추가\\\\'"
   ]
  },
  {
   "cell_type": "code",
   "execution_count": 101,
   "id": "072afa45-0920-4dfb-94ec-f7b508fb3dcd",
   "metadata": {},
   "outputs": [
    {
     "name": "stdout",
     "output_type": "stream",
     "text": [
      "file_lists : \n",
      " data_230401~230415_컬럼추가.csv\n",
      " data_230416~230430_컬럼추가.csv\n",
      " data_230501~230515_컬럼추가.csv\n",
      " data_230516~230531_컬럼추가.csv\n",
      " data_230601~230615_컬럼추가.csv\n",
      " data_230616~230630_컬럼추가.csv\n",
      " data_230701~230715_컬럼추가.csv\n",
      " data_230716~230731_컬럼추가.csv\n",
      " data_230801~230815_컬럼추가.csv\n",
      " data_230816~230831_컬럼추가.csv\n",
      " data_230901~230915_컬럼추가.csv\n",
      " data_230916~230930_컬럼추가.csv\n",
      " data_231001~231015_컬럼추가.csv\n",
      " data_231016~231031_컬럼추가.csv\n",
      " data_231101~231115_컬럼추가.csv\n",
      " data_231116~231130_컬럼추가.csv\n",
      " data_231201~231215_컬럼추가.csv\n",
      " data_231216~231231_컬럼추가.csv\n",
      "===========================================\n",
      "===================================\n",
      "read_file - file_path :  G:\\내 드라이브\\DataSet\\서울특별시 대여소별 공공자전거 대여가능 수량(1시간 단위)\\23.04-23.12_컬럼명추가\\data_230401~230415_컬럼추가.csv , encoding :  EUC-KR\n",
      "===================================\n",
      "read_file - file_path :  G:\\내 드라이브\\DataSet\\서울특별시 대여소별 공공자전거 대여가능 수량(1시간 단위)\\23.04-23.12_컬럼명추가\\data_230416~230430_컬럼추가.csv , encoding :  EUC-KR\n",
      "===================================\n",
      "read_file - file_path :  G:\\내 드라이브\\DataSet\\서울특별시 대여소별 공공자전거 대여가능 수량(1시간 단위)\\23.04-23.12_컬럼명추가\\data_230501~230515_컬럼추가.csv , encoding :  EUC-KR\n",
      "===================================\n",
      "read_file - file_path :  G:\\내 드라이브\\DataSet\\서울특별시 대여소별 공공자전거 대여가능 수량(1시간 단위)\\23.04-23.12_컬럼명추가\\data_230516~230531_컬럼추가.csv , encoding :  EUC-KR\n",
      "===================================\n",
      "read_file - file_path :  G:\\내 드라이브\\DataSet\\서울특별시 대여소별 공공자전거 대여가능 수량(1시간 단위)\\23.04-23.12_컬럼명추가\\data_230601~230615_컬럼추가.csv , encoding :  EUC-KR\n",
      "===================================\n",
      "read_file - file_path :  G:\\내 드라이브\\DataSet\\서울특별시 대여소별 공공자전거 대여가능 수량(1시간 단위)\\23.04-23.12_컬럼명추가\\data_230616~230630_컬럼추가.csv , encoding :  EUC-KR\n",
      "===================================\n",
      "read_file - file_path :  G:\\내 드라이브\\DataSet\\서울특별시 대여소별 공공자전거 대여가능 수량(1시간 단위)\\23.04-23.12_컬럼명추가\\data_230701~230715_컬럼추가.csv , encoding :  EUC-KR\n",
      "===================================\n",
      "read_file - file_path :  G:\\내 드라이브\\DataSet\\서울특별시 대여소별 공공자전거 대여가능 수량(1시간 단위)\\23.04-23.12_컬럼명추가\\data_230716~230731_컬럼추가.csv , encoding :  EUC-KR\n",
      "===================================\n",
      "read_file - file_path :  G:\\내 드라이브\\DataSet\\서울특별시 대여소별 공공자전거 대여가능 수량(1시간 단위)\\23.04-23.12_컬럼명추가\\data_230801~230815_컬럼추가.csv , encoding :  EUC-KR\n",
      "===================================\n",
      "read_file - file_path :  G:\\내 드라이브\\DataSet\\서울특별시 대여소별 공공자전거 대여가능 수량(1시간 단위)\\23.04-23.12_컬럼명추가\\data_230816~230831_컬럼추가.csv , encoding :  EUC-KR\n",
      "===================================\n",
      "read_file - file_path :  G:\\내 드라이브\\DataSet\\서울특별시 대여소별 공공자전거 대여가능 수량(1시간 단위)\\23.04-23.12_컬럼명추가\\data_230901~230915_컬럼추가.csv , encoding :  EUC-KR\n",
      "===================================\n",
      "read_file - file_path :  G:\\내 드라이브\\DataSet\\서울특별시 대여소별 공공자전거 대여가능 수량(1시간 단위)\\23.04-23.12_컬럼명추가\\data_230916~230930_컬럼추가.csv , encoding :  EUC-KR\n",
      "===================================\n",
      "read_file - file_path :  G:\\내 드라이브\\DataSet\\서울특별시 대여소별 공공자전거 대여가능 수량(1시간 단위)\\23.04-23.12_컬럼명추가\\data_231001~231015_컬럼추가.csv , encoding :  EUC-KR\n",
      "===================================\n",
      "read_file - file_path :  G:\\내 드라이브\\DataSet\\서울특별시 대여소별 공공자전거 대여가능 수량(1시간 단위)\\23.04-23.12_컬럼명추가\\data_231016~231031_컬럼추가.csv , encoding :  EUC-KR\n",
      "===================================\n",
      "read_file - file_path :  G:\\내 드라이브\\DataSet\\서울특별시 대여소별 공공자전거 대여가능 수량(1시간 단위)\\23.04-23.12_컬럼명추가\\data_231101~231115_컬럼추가.csv , encoding :  EUC-KR\n",
      "===================================\n",
      "read_file - file_path :  G:\\내 드라이브\\DataSet\\서울특별시 대여소별 공공자전거 대여가능 수량(1시간 단위)\\23.04-23.12_컬럼명추가\\data_231116~231130_컬럼추가.csv , encoding :  EUC-KR\n",
      "===================================\n",
      "read_file - file_path :  G:\\내 드라이브\\DataSet\\서울특별시 대여소별 공공자전거 대여가능 수량(1시간 단위)\\23.04-23.12_컬럼명추가\\data_231201~231215_컬럼추가.csv , encoding :  EUC-KR\n",
      "===================================\n",
      "read_file - file_path :  G:\\내 드라이브\\DataSet\\서울특별시 대여소별 공공자전거 대여가능 수량(1시간 단위)\\23.04-23.12_컬럼명추가\\data_231216~231231_컬럼추가.csv , encoding :  EUC-KR\n"
     ]
    }
   ],
   "source": [
    "# 파일 경로명 변경\n",
    "file_list = os.listdir(Default_path + Sub_path)\n",
    "file_lists = [file for file in file_list if file.endswith((\".csv\", \".xlsx\"))]\n",
    "file_lists.sort()\n",
    "print('file_lists : \\n', '\\n '.join(file_lists))\n",
    "print('===========================================')\n",
    "\n",
    "for _, filename in enumerate(file_lists):\n",
    "    print('===================================')\n",
    "    df = em.Read_File(Default_path + Sub_path + filename)\n",
    "    \n",
    "    grb_df = df.groupby(['일시', '대여소번호', '대여소명', '시간대'])['거치대수량'].mean()\n",
    "    grb_df = np.floor(grb_df).astype(int)\n",
    "    grb_df = grb_df.reset_index()\n",
    "\n",
    "    df_sum = pd.concat([grb_df, df_sum], axis = 0)\n",
    "    del df  # 메모리 정리\n",
    "    del grb_df  # 메모리 정리\n",
    "\n",
    "# for문 종료 후, 실행\n",
    "df_sum.to_parquet(Default_path + Sub_path + 'sum_df' + '.parquet', index=False)\n",
    "del df_sum"
   ]
  },
  {
   "cell_type": "code",
   "execution_count": 105,
   "id": "135595d3-9575-4c91-b44d-0a8782b23aa6",
   "metadata": {},
   "outputs": [],
   "source": [
    "df_2 = em.Read_File(Default_path + Sub_path + 'sum_df.parquet')"
   ]
  },
  {
   "cell_type": "code",
   "execution_count": 107,
   "id": "c3057605-66fd-47c2-86a1-dcdeb38beb2e",
   "metadata": {},
   "outputs": [
    {
     "data": {
      "text/plain": [
       "16968692"
      ]
     },
     "execution_count": 107,
     "metadata": {},
     "output_type": "execute_result"
    }
   ],
   "source": [
    "df_2.shape[0]"
   ]
  },
  {
   "cell_type": "code",
   "execution_count": 109,
   "id": "ffb9f4f9-af02-496d-b30e-3a28589c02fa",
   "metadata": {},
   "outputs": [
    {
     "data": {
      "text/html": [
       "<div>\n",
       "<style scoped>\n",
       "    .dataframe tbody tr th:only-of-type {\n",
       "        vertical-align: middle;\n",
       "    }\n",
       "\n",
       "    .dataframe tbody tr th {\n",
       "        vertical-align: top;\n",
       "    }\n",
       "\n",
       "    .dataframe thead th {\n",
       "        text-align: right;\n",
       "    }\n",
       "</style>\n",
       "<table border=\"1\" class=\"dataframe\">\n",
       "  <thead>\n",
       "    <tr style=\"text-align: right;\">\n",
       "      <th></th>\n",
       "      <th>일시</th>\n",
       "      <th>대여소번호</th>\n",
       "      <th>대여소명</th>\n",
       "      <th>시간대</th>\n",
       "      <th>거치대수량</th>\n",
       "    </tr>\n",
       "  </thead>\n",
       "  <tbody>\n",
       "    <tr>\n",
       "      <th>0</th>\n",
       "      <td>2023-12-16</td>\n",
       "      <td>102</td>\n",
       "      <td>102. 망원역 1번출구 앞</td>\n",
       "      <td>0</td>\n",
       "      <td>34</td>\n",
       "    </tr>\n",
       "    <tr>\n",
       "      <th>1</th>\n",
       "      <td>2023-12-16</td>\n",
       "      <td>102</td>\n",
       "      <td>102. 망원역 1번출구 앞</td>\n",
       "      <td>1</td>\n",
       "      <td>34</td>\n",
       "    </tr>\n",
       "    <tr>\n",
       "      <th>2</th>\n",
       "      <td>2023-12-16</td>\n",
       "      <td>102</td>\n",
       "      <td>102. 망원역 1번출구 앞</td>\n",
       "      <td>2</td>\n",
       "      <td>33</td>\n",
       "    </tr>\n",
       "    <tr>\n",
       "      <th>3</th>\n",
       "      <td>2023-12-16</td>\n",
       "      <td>102</td>\n",
       "      <td>102. 망원역 1번출구 앞</td>\n",
       "      <td>3</td>\n",
       "      <td>34</td>\n",
       "    </tr>\n",
       "    <tr>\n",
       "      <th>4</th>\n",
       "      <td>2023-12-16</td>\n",
       "      <td>102</td>\n",
       "      <td>102. 망원역 1번출구 앞</td>\n",
       "      <td>4</td>\n",
       "      <td>32</td>\n",
       "    </tr>\n",
       "  </tbody>\n",
       "</table>\n",
       "</div>"
      ],
      "text/plain": [
       "           일시  대여소번호             대여소명  시간대  거치대수량\n",
       "0  2023-12-16    102  102. 망원역 1번출구 앞    0     34\n",
       "1  2023-12-16    102  102. 망원역 1번출구 앞    1     34\n",
       "2  2023-12-16    102  102. 망원역 1번출구 앞    2     33\n",
       "3  2023-12-16    102  102. 망원역 1번출구 앞    3     34\n",
       "4  2023-12-16    102  102. 망원역 1번출구 앞    4     32"
      ]
     },
     "execution_count": 109,
     "metadata": {},
     "output_type": "execute_result"
    }
   ],
   "source": [
    "df_2.head()"
   ]
  },
  {
   "cell_type": "markdown",
   "id": "2b31501f-58f5-4d3e-acb0-645e4ec0fb12",
   "metadata": {},
   "source": [
    "---\n",
    "### 중복확인"
   ]
  },
  {
   "cell_type": "code",
   "execution_count": 113,
   "id": "326d37b2-6ca9-4244-8f1b-8bc00c33cb4f",
   "metadata": {},
   "outputs": [
    {
     "name": "stdout",
     "output_type": "stream",
     "text": [
      " - [중복] : 0 / 16968692\n"
     ]
    }
   ],
   "source": [
    "# '일시', '대여소번호', '대여소명', '시간대' 컬럼의 중복값 확인\n",
    "duplicates = df_2.duplicated(subset=['일시', '대여소번호', '대여소명', '시간대'], keep=False)\n",
    "# 중복된 행 출력\n",
    "duplicate_rows = df_2[duplicates]\n",
    "# 결과 출력\n",
    "print(f' - [중복] : {duplicate_rows.shape[0]} / {df_2.shape[0]}')"
   ]
  },
  {
   "cell_type": "markdown",
   "id": "f3899a2b-4a3c-4825-a837-0b0499027175",
   "metadata": {},
   "source": [
    "---\n",
    "## 병합\n",
    "- 23.01-23.03 (17일까지만 있음)"
   ]
  },
  {
   "cell_type": "code",
   "execution_count": 70,
   "id": "140d58d2-425c-4f73-9b26-938356bb2c83",
   "metadata": {},
   "outputs": [],
   "source": [
    "df_sum = pd.DataFrame()"
   ]
  },
  {
   "cell_type": "code",
   "execution_count": 72,
   "id": "1963ccc3-a339-42e4-b182-2b37ba1517b5",
   "metadata": {},
   "outputs": [],
   "source": [
    "Sub_path = '23.01-23.03 (17일까지만 있음)\\\\'"
   ]
  },
  {
   "cell_type": "code",
   "execution_count": 74,
   "id": "09cae770-f8d3-4be9-9fa5-fd071dedb1f7",
   "metadata": {},
   "outputs": [
    {
     "name": "stdout",
     "output_type": "stream",
     "text": [
      "file_lists : \n",
      " 23.01.csv\n",
      " 23.02.csv\n",
      " 23.03.csv\n",
      "===========================================\n",
      "===================================\n",
      "read_file - file_path :  G:\\내 드라이브\\DataSet\\서울특별시 대여소별 공공자전거 대여가능 수량(1시간 단위)\\23년\\23.01-23.03 (17일까지만 있음)\\23.01.csv , encoding :  EUC-KR\n",
      "===================================\n",
      "read_file - file_path :  G:\\내 드라이브\\DataSet\\서울특별시 대여소별 공공자전거 대여가능 수량(1시간 단위)\\23년\\23.01-23.03 (17일까지만 있음)\\23.02.csv , encoding :  EUC-KR\n",
      "===================================\n",
      "read_file - file_path :  G:\\내 드라이브\\DataSet\\서울특별시 대여소별 공공자전거 대여가능 수량(1시간 단위)\\23년\\23.01-23.03 (17일까지만 있음)\\23.03.csv , encoding :  EUC-KR\n"
     ]
    }
   ],
   "source": [
    "# 파일 경로명 변경\n",
    "file_list = os.listdir(Default_path + Sub_path)\n",
    "file_lists = [file for file in file_list if file.endswith((\".csv\", \".xlsx\"))]\n",
    "file_lists.sort()\n",
    "print('file_lists : \\n', '\\n '.join(file_lists))\n",
    "print('===========================================')\n",
    "\n",
    "for _, filename in enumerate(file_lists):\n",
    "    print('===================================')\n",
    "    df = em.Read_File(Default_path + Sub_path + filename)\n",
    "    \n",
    "    df_sum = pd.concat([df, df_sum], axis = 0)\n",
    "    del df  # 메모리 정리    \n",
    "\n",
    "# for문 종료 후, 실행\n",
    "df_sum.to_parquet(Default_path + Sub_path + '23.01~03(병합)' + '.parquet', index=False)\n",
    "del df_sum"
   ]
  },
  {
   "cell_type": "markdown",
   "id": "991326a6-b038-4de0-8f3e-f34056cbba97",
   "metadata": {},
   "source": [
    "---\n",
    "## 최종병합"
   ]
  },
  {
   "cell_type": "code",
   "execution_count": 84,
   "id": "39ed34f7-1c1b-49dd-b20b-44770af61f33",
   "metadata": {},
   "outputs": [],
   "source": [
    "df_sum = pd.DataFrame()"
   ]
  },
  {
   "cell_type": "code",
   "execution_count": 78,
   "id": "5931a8ef-acbf-4d4a-a1e2-587936575e2f",
   "metadata": {},
   "outputs": [],
   "source": [
    "df1 = em.Read_File(Default_path + '23.01-23.03 (17일까지만 있음)\\\\23.01~03(병합).parquet')\n",
    "df2 = em.Read_File(Default_path + '23.04-23.12_컬럼명추가\\\\data_230401~231231(중복제거).parquet')"
   ]
  },
  {
   "cell_type": "code",
   "execution_count": 79,
   "id": "06da58af-993e-4a04-bd5f-44012d4c1b5f",
   "metadata": {},
   "outputs": [
    {
     "data": {
      "text/html": [
       "<div>\n",
       "<style scoped>\n",
       "    .dataframe tbody tr th:only-of-type {\n",
       "        vertical-align: middle;\n",
       "    }\n",
       "\n",
       "    .dataframe tbody tr th {\n",
       "        vertical-align: top;\n",
       "    }\n",
       "\n",
       "    .dataframe thead th {\n",
       "        text-align: right;\n",
       "    }\n",
       "</style>\n",
       "<table border=\"1\" class=\"dataframe\">\n",
       "  <thead>\n",
       "    <tr style=\"text-align: right;\">\n",
       "      <th></th>\n",
       "      <th>일시</th>\n",
       "      <th>대여소번호</th>\n",
       "      <th>대여소명</th>\n",
       "      <th>시간대</th>\n",
       "      <th>거치대수량</th>\n",
       "    </tr>\n",
       "  </thead>\n",
       "  <tbody>\n",
       "    <tr>\n",
       "      <th>0</th>\n",
       "      <td>2023-03-01</td>\n",
       "      <td>102</td>\n",
       "      <td>102. 망원역 1번출구 앞</td>\n",
       "      <td>0</td>\n",
       "      <td>22</td>\n",
       "    </tr>\n",
       "    <tr>\n",
       "      <th>1</th>\n",
       "      <td>2023-03-01</td>\n",
       "      <td>102</td>\n",
       "      <td>102. 망원역 1번출구 앞</td>\n",
       "      <td>1</td>\n",
       "      <td>19</td>\n",
       "    </tr>\n",
       "  </tbody>\n",
       "</table>\n",
       "</div>"
      ],
      "text/plain": [
       "           일시  대여소번호             대여소명  시간대  거치대수량\n",
       "0  2023-03-01    102  102. 망원역 1번출구 앞    0     22\n",
       "1  2023-03-01    102  102. 망원역 1번출구 앞    1     19"
      ]
     },
     "execution_count": 79,
     "metadata": {},
     "output_type": "execute_result"
    }
   ],
   "source": [
    "df1.head(2)"
   ]
  },
  {
   "cell_type": "code",
   "execution_count": 46,
   "id": "459c4379-1413-41c0-8475-6650f2b01414",
   "metadata": {},
   "outputs": [
    {
     "data": {
      "text/html": [
       "<div>\n",
       "<style scoped>\n",
       "    .dataframe tbody tr th:only-of-type {\n",
       "        vertical-align: middle;\n",
       "    }\n",
       "\n",
       "    .dataframe tbody tr th {\n",
       "        vertical-align: top;\n",
       "    }\n",
       "\n",
       "    .dataframe thead th {\n",
       "        text-align: right;\n",
       "    }\n",
       "</style>\n",
       "<table border=\"1\" class=\"dataframe\">\n",
       "  <thead>\n",
       "    <tr style=\"text-align: right;\">\n",
       "      <th></th>\n",
       "      <th>일시</th>\n",
       "      <th>대여소번호</th>\n",
       "      <th>대여소명</th>\n",
       "      <th>시간대</th>\n",
       "      <th>거치대수량</th>\n",
       "    </tr>\n",
       "  </thead>\n",
       "  <tbody>\n",
       "    <tr>\n",
       "      <th>0</th>\n",
       "      <td>2023-12-16</td>\n",
       "      <td>102</td>\n",
       "      <td>102. 망원역 1번출구 앞</td>\n",
       "      <td>0</td>\n",
       "      <td>34</td>\n",
       "    </tr>\n",
       "    <tr>\n",
       "      <th>1</th>\n",
       "      <td>2023-12-16</td>\n",
       "      <td>102</td>\n",
       "      <td>102. 망원역 1번출구 앞</td>\n",
       "      <td>1</td>\n",
       "      <td>34</td>\n",
       "    </tr>\n",
       "  </tbody>\n",
       "</table>\n",
       "</div>"
      ],
      "text/plain": [
       "           일시  대여소번호             대여소명  시간대  거치대수량\n",
       "0  2023-12-16    102  102. 망원역 1번출구 앞    0     34\n",
       "1  2023-12-16    102  102. 망원역 1번출구 앞    1     34"
      ]
     },
     "execution_count": 46,
     "metadata": {},
     "output_type": "execute_result"
    }
   ],
   "source": [
    "df2.head(2)"
   ]
  },
  {
   "cell_type": "code",
   "execution_count": 48,
   "id": "22efb707-1e64-4e04-88b6-bf4d0edc9fee",
   "metadata": {},
   "outputs": [],
   "source": [
    "df_sum = pd.concat([df1, df2], axis = 0)"
   ]
  },
  {
   "cell_type": "code",
   "execution_count": 50,
   "id": "c6396f41-cefa-4cd7-b8b2-de97a861f6b2",
   "metadata": {},
   "outputs": [
    {
     "data": {
      "text/html": [
       "<div>\n",
       "<style scoped>\n",
       "    .dataframe tbody tr th:only-of-type {\n",
       "        vertical-align: middle;\n",
       "    }\n",
       "\n",
       "    .dataframe tbody tr th {\n",
       "        vertical-align: top;\n",
       "    }\n",
       "\n",
       "    .dataframe thead th {\n",
       "        text-align: right;\n",
       "    }\n",
       "</style>\n",
       "<table border=\"1\" class=\"dataframe\">\n",
       "  <thead>\n",
       "    <tr style=\"text-align: right;\">\n",
       "      <th></th>\n",
       "      <th>일시</th>\n",
       "      <th>대여소번호</th>\n",
       "      <th>대여소명</th>\n",
       "      <th>시간대</th>\n",
       "      <th>거치대수량</th>\n",
       "    </tr>\n",
       "  </thead>\n",
       "  <tbody>\n",
       "    <tr>\n",
       "      <th>0</th>\n",
       "      <td>2023-01-01</td>\n",
       "      <td>102</td>\n",
       "      <td>102. 망원역 1번출구 앞</td>\n",
       "      <td>0</td>\n",
       "      <td>15</td>\n",
       "    </tr>\n",
       "    <tr>\n",
       "      <th>1</th>\n",
       "      <td>2023-01-01</td>\n",
       "      <td>102</td>\n",
       "      <td>102. 망원역 1번출구 앞</td>\n",
       "      <td>1</td>\n",
       "      <td>14</td>\n",
       "    </tr>\n",
       "  </tbody>\n",
       "</table>\n",
       "</div>"
      ],
      "text/plain": [
       "           일시  대여소번호             대여소명  시간대  거치대수량\n",
       "0  2023-01-01    102  102. 망원역 1번출구 앞    0     15\n",
       "1  2023-01-01    102  102. 망원역 1번출구 앞    1     14"
      ]
     },
     "execution_count": 50,
     "metadata": {},
     "output_type": "execute_result"
    }
   ],
   "source": [
    "df_sum.head(2)"
   ]
  },
  {
   "cell_type": "code",
   "execution_count": 82,
   "id": "36c203e9-d5da-4b67-8ebd-a6cae10aa048",
   "metadata": {},
   "outputs": [
    {
     "data": {
      "text/html": [
       "<div>\n",
       "<style scoped>\n",
       "    .dataframe tbody tr th:only-of-type {\n",
       "        vertical-align: middle;\n",
       "    }\n",
       "\n",
       "    .dataframe tbody tr th {\n",
       "        vertical-align: top;\n",
       "    }\n",
       "\n",
       "    .dataframe thead th {\n",
       "        text-align: right;\n",
       "    }\n",
       "</style>\n",
       "<table border=\"1\" class=\"dataframe\">\n",
       "  <thead>\n",
       "    <tr style=\"text-align: right;\">\n",
       "      <th></th>\n",
       "      <th>일시</th>\n",
       "      <th>대여소번호</th>\n",
       "      <th>대여소명</th>\n",
       "      <th>시간대</th>\n",
       "      <th>거치대수량</th>\n",
       "    </tr>\n",
       "  </thead>\n",
       "  <tbody>\n",
       "    <tr>\n",
       "      <th>2097150</th>\n",
       "      <td>2023-01-01</td>\n",
       "      <td>102</td>\n",
       "      <td>102. 망원역 1번출구 앞</td>\n",
       "      <td>0</td>\n",
       "      <td>15</td>\n",
       "    </tr>\n",
       "  </tbody>\n",
       "</table>\n",
       "</div>"
      ],
      "text/plain": [
       "                 일시  대여소번호             대여소명  시간대  거치대수량\n",
       "2097150  2023-01-01    102  102. 망원역 1번출구 앞    0     15"
      ]
     },
     "execution_count": 82,
     "metadata": {},
     "output_type": "execute_result"
    }
   ],
   "source": [
    "cond1 = (df1['일시'] == '2023-01-01')\n",
    "cond2 = (df1['대여소번호'] == 102)\n",
    "cond3 = (df1['대여소명'] == '102. 망원역 1번출구 앞')\n",
    "cond4 = (df1['시간대'] == 0)\n",
    "df1[cond1 & cond2 & cond3 & cond4]"
   ]
  },
  {
   "cell_type": "code",
   "execution_count": 54,
   "id": "cbbfd436-271f-44e2-a8c9-3b961c196022",
   "metadata": {},
   "outputs": [
    {
     "data": {
      "text/html": [
       "<div>\n",
       "<style scoped>\n",
       "    .dataframe tbody tr th:only-of-type {\n",
       "        vertical-align: middle;\n",
       "    }\n",
       "\n",
       "    .dataframe tbody tr th {\n",
       "        vertical-align: top;\n",
       "    }\n",
       "\n",
       "    .dataframe thead th {\n",
       "        text-align: right;\n",
       "    }\n",
       "</style>\n",
       "<table border=\"1\" class=\"dataframe\">\n",
       "  <thead>\n",
       "    <tr style=\"text-align: right;\">\n",
       "      <th></th>\n",
       "      <th>일시</th>\n",
       "      <th>대여소번호</th>\n",
       "      <th>대여소명</th>\n",
       "      <th>시간대</th>\n",
       "      <th>거치대수량</th>\n",
       "    </tr>\n",
       "  </thead>\n",
       "  <tbody>\n",
       "  </tbody>\n",
       "</table>\n",
       "</div>"
      ],
      "text/plain": [
       "Empty DataFrame\n",
       "Columns: [일시, 대여소번호, 대여소명, 시간대, 거치대수량]\n",
       "Index: []"
      ]
     },
     "execution_count": 54,
     "metadata": {},
     "output_type": "execute_result"
    }
   ],
   "source": [
    "cond1 = (df2['일시'] == '2023-01-01')\n",
    "cond2 = (df2['대여소번호'] == 102)\n",
    "cond3 = (df2['대여소명'] == '102. 망원역 1번출구 앞')\n",
    "cond4 = (df2['시간대'] == 0)\n",
    "df2[cond1 & cond2 & cond3 & cond4]"
   ]
  },
  {
   "cell_type": "code",
   "execution_count": 34,
   "id": "f33733fb-b4aa-4bdd-be1f-a161889e3d9b",
   "metadata": {},
   "outputs": [
    {
     "data": {
      "text/html": [
       "<div>\n",
       "<style scoped>\n",
       "    .dataframe tbody tr th:only-of-type {\n",
       "        vertical-align: middle;\n",
       "    }\n",
       "\n",
       "    .dataframe tbody tr th {\n",
       "        vertical-align: top;\n",
       "    }\n",
       "\n",
       "    .dataframe thead th {\n",
       "        text-align: right;\n",
       "    }\n",
       "</style>\n",
       "<table border=\"1\" class=\"dataframe\">\n",
       "  <thead>\n",
       "    <tr style=\"text-align: right;\">\n",
       "      <th></th>\n",
       "      <th>일시</th>\n",
       "      <th>대여소번호</th>\n",
       "      <th>대여소명</th>\n",
       "      <th>시간대</th>\n",
       "      <th>거치대수량</th>\n",
       "    </tr>\n",
       "  </thead>\n",
       "  <tbody>\n",
       "    <tr>\n",
       "      <th>0</th>\n",
       "      <td>2023-01-01</td>\n",
       "      <td>102</td>\n",
       "      <td>102. 망원역 1번출구 앞</td>\n",
       "      <td>0</td>\n",
       "      <td>15</td>\n",
       "    </tr>\n",
       "    <tr>\n",
       "      <th>5242873</th>\n",
       "      <td>2023-01-01</td>\n",
       "      <td>102</td>\n",
       "      <td>102. 망원역 1번출구 앞</td>\n",
       "      <td>0</td>\n",
       "      <td>15</td>\n",
       "    </tr>\n",
       "  </tbody>\n",
       "</table>\n",
       "</div>"
      ],
      "text/plain": [
       "                 일시  대여소번호             대여소명  시간대  거치대수량\n",
       "0        2023-01-01    102  102. 망원역 1번출구 앞    0     15\n",
       "5242873  2023-01-01    102  102. 망원역 1번출구 앞    0     15"
      ]
     },
     "execution_count": 34,
     "metadata": {},
     "output_type": "execute_result"
    }
   ],
   "source": [
    "cond1 = (df_sum['일시'] == '2023-01-01')\n",
    "cond2 = (df_sum['대여소번호'] == 102)\n",
    "cond3 = (df_sum['대여소명'] == '102. 망원역 1번출구 앞')\n",
    "cond4 = (df_sum['시간대'] == 0)\n",
    "df_sum[cond1 & cond2 & cond3 & cond4]"
   ]
  },
  {
   "cell_type": "code",
   "execution_count": 88,
   "id": "22ee38a8-88bc-4401-bdd6-bb0bcf76a11c",
   "metadata": {},
   "outputs": [],
   "source": [
    "df1 = em.Read_File(Default_path + '23.01-23.03 (17일까지만 있음)\\\\23.01~03(병합).parquet')\n",
    "df2 = em.Read_File(Default_path + '23.04-23.12_컬럼명추가\\\\data_230401~231231(중복제거).parquet')\n",
    "    \n",
    "df_sum = pd.concat([df1, df2], axis = 0)\n",
    "del df1  # 메모리 정리    \n",
    "del df2  # 메모리 정리    \n",
    "\n",
    "# for문 종료 후, 실행\n",
    "df_sum.to_parquet(Default_path + '서울특별시 대여소별 공공자전거 대여가능 수량(1시간 단위)_2023.parquet', index=False)\n",
    "del df_sum"
   ]
  },
  {
   "cell_type": "code",
   "execution_count": 90,
   "id": "555ccee6-3da4-420b-9d23-9fcf672dd7ad",
   "metadata": {},
   "outputs": [],
   "source": [
    "df_2 = em.Read_File(Default_path + '서울특별시 대여소별 공공자전거 대여가능 수량(1시간 단위)_2023.parquet')"
   ]
  },
  {
   "cell_type": "code",
   "execution_count": 91,
   "id": "18bed314-8912-4956-ace9-4458a57b6626",
   "metadata": {},
   "outputs": [
    {
     "data": {
      "text/plain": [
       "20114417"
      ]
     },
     "execution_count": 91,
     "metadata": {},
     "output_type": "execute_result"
    }
   ],
   "source": [
    "df_2.shape[0]"
   ]
  },
  {
   "cell_type": "code",
   "execution_count": 94,
   "id": "9fcd191f-183d-4808-9abc-5e9f31a4ba1b",
   "metadata": {},
   "outputs": [
    {
     "data": {
      "text/html": [
       "<div>\n",
       "<style scoped>\n",
       "    .dataframe tbody tr th:only-of-type {\n",
       "        vertical-align: middle;\n",
       "    }\n",
       "\n",
       "    .dataframe tbody tr th {\n",
       "        vertical-align: top;\n",
       "    }\n",
       "\n",
       "    .dataframe thead th {\n",
       "        text-align: right;\n",
       "    }\n",
       "</style>\n",
       "<table border=\"1\" class=\"dataframe\">\n",
       "  <thead>\n",
       "    <tr style=\"text-align: right;\">\n",
       "      <th></th>\n",
       "      <th>일시</th>\n",
       "      <th>대여소번호</th>\n",
       "      <th>대여소명</th>\n",
       "      <th>시간대</th>\n",
       "      <th>거치대수량</th>\n",
       "    </tr>\n",
       "  </thead>\n",
       "  <tbody>\n",
       "    <tr>\n",
       "      <th>2097150</th>\n",
       "      <td>2023-01-01</td>\n",
       "      <td>102</td>\n",
       "      <td>102. 망원역 1번출구 앞</td>\n",
       "      <td>0</td>\n",
       "      <td>15</td>\n",
       "    </tr>\n",
       "  </tbody>\n",
       "</table>\n",
       "</div>"
      ],
      "text/plain": [
       "                 일시  대여소번호             대여소명  시간대  거치대수량\n",
       "2097150  2023-01-01    102  102. 망원역 1번출구 앞    0     15"
      ]
     },
     "execution_count": 94,
     "metadata": {},
     "output_type": "execute_result"
    }
   ],
   "source": [
    "cond1 = (df_2['일시'] == '2023-01-01')\n",
    "cond2 = (df_2['대여소번호'] == 102)\n",
    "cond3 = (df_2['대여소명'] == '102. 망원역 1번출구 앞')\n",
    "cond4 = (df_2['시간대'] == 0)\n",
    "df_2[cond1 & cond2 & cond3 & cond4]"
   ]
  },
  {
   "cell_type": "code",
   "execution_count": null,
   "id": "736ef96e-1ac7-4931-8ba2-58cc27e9319a",
   "metadata": {},
   "outputs": [],
   "source": []
  }
 ],
 "metadata": {
  "kernelspec": {
   "display_name": "Python 3 (ipykernel)",
   "language": "python",
   "name": "python3"
  },
  "language_info": {
   "codemirror_mode": {
    "name": "ipython",
    "version": 3
   },
   "file_extension": ".py",
   "mimetype": "text/x-python",
   "name": "python",
   "nbconvert_exporter": "python",
   "pygments_lexer": "ipython3",
   "version": "3.12.4"
  }
 },
 "nbformat": 4,
 "nbformat_minor": 5
}
