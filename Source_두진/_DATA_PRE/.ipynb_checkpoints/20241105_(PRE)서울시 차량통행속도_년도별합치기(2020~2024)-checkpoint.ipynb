{
 "cells": [
  {
   "cell_type": "markdown",
   "id": "RjNQbeqfUJo2",
   "metadata": {
    "id": "RjNQbeqfUJo2"
   },
   "source": [
    "### 기본 라이브러리 불러오기"
   ]
  },
  {
   "cell_type": "code",
   "execution_count": 1,
   "id": "6d53b67a-0b7a-4841-bf76-f9d816a6b9d3",
   "metadata": {
    "id": "6d53b67a-0b7a-4841-bf76-f9d816a6b9d3"
   },
   "outputs": [],
   "source": [
    "# 라이브러리 임포트\n",
    "import os\n",
    "import pandas as pd\n",
    "import chardet\n",
    "\n",
    "# 사용자 정의함수 경로 설정\n",
    "import sys\n",
    "sys.path.append(\"G:/내 드라이브/Source/_Custom_Function\")\n",
    "# 사용자 정의함수 불러오기\n",
    "\n",
    "import time\n",
    "\n",
    "import ExcelFile_Merge as em\n",
    "import ExcelFile_Read as er\n",
    "import ExcelFile_EDA as ee"
   ]
  },
  {
   "cell_type": "code",
   "execution_count": 2,
   "id": "3ef71e2e-57ac-44fc-b533-934e963c5f38",
   "metadata": {},
   "outputs": [],
   "source": [
    "df_sum = pd.DataFrame()"
   ]
  },
  {
   "cell_type": "code",
   "execution_count": 5,
   "id": "494851d4-54b9-46c3-aa81-184df73c9f61",
   "metadata": {},
   "outputs": [],
   "source": [
    "# _years = ['2020', '2021', '2022', '2023', '2024']\n",
    "_years = ['2021']"
   ]
  },
  {
   "cell_type": "code",
   "execution_count": 7,
   "id": "6a05cd80-08d4-4ce5-a9cd-978ada99f21d",
   "metadata": {
    "id": "6a05cd80-08d4-4ce5-a9cd-978ada99f21d"
   },
   "outputs": [],
   "source": [
    "path_dateset = 'G:\\\\내 드라이브\\\\DataSet\\\\'\n",
    "path_sub = '서울시 차량통행속도(월별)\\\\'"
   ]
  },
  {
   "cell_type": "markdown",
   "id": "1addcfcd-f0f6-4e37-a29a-ecc257117ea1",
   "metadata": {
    "id": "1addcfcd-f0f6-4e37-a29a-ecc257117ea1"
   },
   "source": [
    "---\n",
    "### 서울시 차량통행속도"
   ]
  },
  {
   "cell_type": "markdown",
   "id": "3deddd82-81d5-41f3-852e-0cc53b9029af",
   "metadata": {},
   "source": [
    "- 2020년 1월 서울시 차량통행속도 ~ 2020년 12월 서울시 차량통행속도\n",
    "- 2021년 1월 서울시 차량통행속도 ~ 2021년 12월 서울시 차량통행속도\n",
    "- 2022년 1월 서울시 차량통행속도 ~ 2022년 12월 서울시 차량통행속도\n",
    "- 2023년 1월 서울시 차량통행속도 ~ 2023년 12월 서울시 차량통행속도\n",
    "- 2024년 1월 서울시 차량통행속도 ~ 2024년 12월 서울시 차량통행속도"
   ]
  },
  {
   "cell_type": "code",
   "execution_count": 11,
   "id": "f00a54b0-c709-4cc9-8281-9e2ece9e4c3b",
   "metadata": {
    "id": "f00a54b0-c709-4cc9-8281-9e2ece9e4c3b",
    "outputId": "59da9961-7a77-4229-fd34-5f28f7fa7c1f"
   },
   "outputs": [
    {
     "name": "stdout",
     "output_type": "stream",
     "text": [
      "path : G:\\내 드라이브\\DataSet\\서울시 차량통행속도(월별)\\2021\\, savefile : 서울시_차량통행속도_2021\n",
      "file_lists : \n",
      " 2021년 01월 서울시 차량통행속도.xlsx\n",
      " 2021년 02월 서울시 차량통행속도.xlsx\n",
      " 2021년 03월 서울시 차량통행속도.xlsx\n",
      " 2021년 04월 서울시 차량통행속도.xlsx\n",
      " 2021년 05월 서울시 차량통행속도.xlsx\n",
      " 2021년 06월 서울시 차량통행속도.xlsx\n",
      " 2021년 07월 서울시 차량통행속도.xlsx\n",
      " 2021년 08월 서울시 차량통행속도.xlsx\n",
      " 2021년 09월 서울시 차량통행속도.xlsx\n",
      " 2021년 11월 서울시 차량통행속도.xlsx\n",
      " 2021년 12월 서울시 차량통행속도.xlsx\n",
      "===========================================\n",
      "filename :  2021년 01월 서울시 차량통행속도.xlsx, encoding :  None\n",
      "path + filename :  G:\\내 드라이브\\DataSet\\서울시 차량통행속도(월별)\\2021\\2021년 01월 서울시 차량통행속도.xlsx\n",
      "Read_dask(2021년 01월 서울시 차량통행속도.xlsx) time : 44.52436971664429\n",
      "filename :  2021년 02월 서울시 차량통행속도.xlsx, encoding :  None\n",
      "path + filename :  G:\\내 드라이브\\DataSet\\서울시 차량통행속도(월별)\\2021\\2021년 02월 서울시 차량통행속도.xlsx\n",
      "Read_dask(2021년 02월 서울시 차량통행속도.xlsx) time : 41.03913593292236\n",
      "filename :  2021년 03월 서울시 차량통행속도.xlsx, encoding :  None\n",
      "path + filename :  G:\\내 드라이브\\DataSet\\서울시 차량통행속도(월별)\\2021\\2021년 03월 서울시 차량통행속도.xlsx\n",
      "Read_dask(2021년 03월 서울시 차량통행속도.xlsx) time : 45.498695373535156\n",
      "filename :  2021년 04월 서울시 차량통행속도.xlsx, encoding :  None\n",
      "path + filename :  G:\\내 드라이브\\DataSet\\서울시 차량통행속도(월별)\\2021\\2021년 04월 서울시 차량통행속도.xlsx\n",
      "Read_dask(2021년 04월 서울시 차량통행속도.xlsx) time : 43.95290565490723\n",
      "filename :  2021년 05월 서울시 차량통행속도.xlsx, encoding :  None\n",
      "path + filename :  G:\\내 드라이브\\DataSet\\서울시 차량통행속도(월별)\\2021\\2021년 05월 서울시 차량통행속도.xlsx\n",
      "Read_dask(2021년 05월 서울시 차량통행속도.xlsx) time : 45.976078748703\n",
      "filename :  2021년 06월 서울시 차량통행속도.xlsx, encoding :  None\n",
      "path + filename :  G:\\내 드라이브\\DataSet\\서울시 차량통행속도(월별)\\2021\\2021년 06월 서울시 차량통행속도.xlsx\n",
      "Read_dask(2021년 06월 서울시 차량통행속도.xlsx) time : 44.4682400226593\n",
      "filename :  2021년 07월 서울시 차량통행속도.xlsx, encoding :  None\n",
      "path + filename :  G:\\내 드라이브\\DataSet\\서울시 차량통행속도(월별)\\2021\\2021년 07월 서울시 차량통행속도.xlsx\n",
      "Read_dask(2021년 07월 서울시 차량통행속도.xlsx) time : 45.70660734176636\n",
      "filename :  2021년 08월 서울시 차량통행속도.xlsx, encoding :  None\n",
      "path + filename :  G:\\내 드라이브\\DataSet\\서울시 차량통행속도(월별)\\2021\\2021년 08월 서울시 차량통행속도.xlsx\n",
      "Read_dask(2021년 08월 서울시 차량통행속도.xlsx) time : 47.40389394760132\n",
      "filename :  2021년 09월 서울시 차량통행속도.xlsx, encoding :  None\n",
      "path + filename :  G:\\내 드라이브\\DataSet\\서울시 차량통행속도(월별)\\2021\\2021년 09월 서울시 차량통행속도.xlsx\n",
      "Read_dask(2021년 09월 서울시 차량통행속도.xlsx) time : 44.41921281814575\n",
      "filename :  2021년 11월 서울시 차량통행속도.xlsx, encoding :  None\n",
      "path + filename :  G:\\내 드라이브\\DataSet\\서울시 차량통행속도(월별)\\2021\\2021년 11월 서울시 차량통행속도.xlsx\n",
      "Read_dask(2021년 11월 서울시 차량통행속도.xlsx) time : 44.246811628341675\n",
      "filename :  2021년 12월 서울시 차량통행속도.xlsx, encoding :  None\n",
      "path + filename :  G:\\내 드라이브\\DataSet\\서울시 차량통행속도(월별)\\2021\\2021년 12월 서울시 차량통행속도.xlsx\n",
      "Read_dask(2021년 12월 서울시 차량통행속도.xlsx) time : 46.567331314086914\n"
     ]
    }
   ],
   "source": [
    "for cnt, _year in enumerate(_years):\n",
    "    \n",
    "    path = path_dateset + path_sub + _year + '\\\\'\n",
    "    savefile = '서울시_차량통행속도_' + _year   # Ex) 서울시_차량통행속도_2024\n",
    "    print(f'path : {path}, savefile : {savefile}')\n",
    "    \n",
    "    # 파일 경로명 변경\n",
    "    file_list = os.listdir(path)\n",
    "    file_lists = [file for file in file_list if file.endswith((\".csv\", \".xlsx\"))]\n",
    "    file_lists.sort()\n",
    "    print('file_lists : \\n', '\\n '.join(file_lists))\n",
    "    print('===========================================')\n",
    "\n",
    "    # try:\n",
    "    for _, filename in enumerate(file_lists):        \n",
    "        print('filename : ', filename + ', encoding : ', em.Get_ExcelEncoding(path + filename))\n",
    "        start_time_full = time.time()\n",
    "\n",
    "        # 서울 생활이동 데이터 불러오기\n",
    "        start_time = time.time()\n",
    "        print('path + filename : ', path + filename)\n",
    "        \n",
    "        dask =  pd.read_excel(path + filename)\n",
    "        print(\"Read_dask(\" + filename + \") time :\", time.time() - start_time)\n",
    "\n",
    "        df_dask_rtn = dask\n",
    "        del dask  # 메모리 정리\n",
    "        \n",
    "        df_sum = pd.concat([df_dask_rtn, df_sum], axis = 0)\n",
    "        del df_dask_rtn  # 메모리 정리\n",
    "\n",
    "    # for문 종료 후, 실행\n",
    "    df_sum.to_parquet(path + savefile + '.parquet', index=False)\n",
    "    del df_sum\n",
    "    \n",
    "    # except:\n",
    "    #     print('- Err : ', savefile)  \n",
    "    "
   ]
  },
  {
   "cell_type": "code",
   "execution_count": null,
   "id": "e4e4b334-7f1e-475b-bb06-aca304d87349",
   "metadata": {},
   "outputs": [],
   "source": []
  }
 ],
 "metadata": {
  "colab": {
   "provenance": []
  },
  "kernelspec": {
   "display_name": "Python 3 (ipykernel)",
   "language": "python",
   "name": "python3"
  },
  "language_info": {
   "codemirror_mode": {
    "name": "ipython",
    "version": 3
   },
   "file_extension": ".py",
   "mimetype": "text/x-python",
   "name": "python",
   "nbconvert_exporter": "python",
   "pygments_lexer": "ipython3",
   "version": "3.12.4"
  }
 },
 "nbformat": 4,
 "nbformat_minor": 5
}
