{
 "cells": [
  {
   "cell_type": "code",
   "execution_count": 5,
   "id": "2e69029a-b842-4f6b-9fc1-f213914c46c2",
   "metadata": {},
   "outputs": [],
   "source": [
    "# 라이브러리 임포트\n",
    "import os\n",
    "import numpy as np\n",
    "import pandas as pd\n",
    "import chardet\n",
    "\n",
    "# 사용자 정의함수 경로 설정\n",
    "import sys\n",
    "sys.path.append(\"G:/내 드라이브/Source/_Custom_Function\")\n",
    "# 사용자 정의함수 불러오기\n",
    "\n",
    "import time\n",
    "\n",
    "import ExcelFile_Merge as em\n",
    "import ExcelFile_Read as er\n",
    "import ExcelFile_EDA as ee"
   ]
  },
  {
   "cell_type": "code",
   "execution_count": 2,
   "id": "062687fa-c051-405d-b130-eec37c211c0d",
   "metadata": {},
   "outputs": [],
   "source": [
    "Default_path = 'G:\\\\내 드라이브\\\\DataSet\\\\서울특별시 대여소별 공공자전거 대여가능 수량(1시간 단위)\\\\'"
   ]
  },
  {
   "cell_type": "markdown",
   "id": "c8908337-10b8-419c-9eb3-054adbf69e0c",
   "metadata": {},
   "source": [
    "---\n",
    "### 경로 파일 체크\n",
    "- 19-21.05 (8시만 있음)"
   ]
  },
  {
   "cell_type": "code",
   "execution_count": null,
   "id": "d37a56e7-13d7-499d-80fe-389e337edfcf",
   "metadata": {},
   "outputs": [],
   "source": [
    "Sub_path = '19-21.05 (8시만 있음)\\\\'"
   ]
  },
  {
   "cell_type": "markdown",
   "id": "b996f616-d5d5-4e07-a89d-db3bce9e9443",
   "metadata": {},
   "source": [
    "---\n",
    "### 컬럼 체크"
   ]
  },
  {
   "cell_type": "code",
   "execution_count": null,
   "id": "a38edba0-1795-491e-8eaf-8b54812b66f0",
   "metadata": {},
   "outputs": [],
   "source": [
    "er.Columns_Check(Default_path + Sub_path) "
   ]
  },
  {
   "cell_type": "markdown",
   "id": "97616aea-8d59-4fe5-b787-2df4675f7e0d",
   "metadata": {},
   "source": [
    "---\n",
    "### 중복체크"
   ]
  },
  {
   "cell_type": "code",
   "execution_count": null,
   "id": "8dec062c-6ff1-43c0-b155-9aa992fd0aab",
   "metadata": {},
   "outputs": [],
   "source": [
    "_files = ['일별 대여소별 자전거 거치수량(2019년).csv', '일별 대여소별 자전거 거치수량(2020년).csv', '일별 대여소별 자전거 거치수량(21년1~5월).csv']\n",
    "\n",
    "for _file in _files:\n",
    "    df = em.Read_File(Default_path + Sub_path + _file)\n",
    "\n",
    "    # '일시' 컬럼을 datetime 형식으로 변환\n",
    "    df['일시'] = pd.to_datetime(df['일시'])\n",
    "    \n",
    "    # 년도, 월, 일 컬럼 추가\n",
    "    df['년도'] = df['일시'].dt.year\n",
    "    df['월'] = df['일시'].dt.month\n",
    "    df['일'] = df['일시'].dt.day\n",
    "    df['시'] = df['일시'].dt.hour\n",
    "    df['분'] = df['일시'].dt.minute\n",
    "\n",
    "    # '일시', '대여소번호', '대여소명', '시간대' 컬럼의 중복값 확인\n",
    "    duplicates = df.duplicated(subset=['대여소번호', '대여소ID', '년도', '월', '일', '시'], keep=False)\n",
    "    # 중복된 행 출력\n",
    "    duplicate_rows = df[duplicates]\n",
    "    # 결과 출력\n",
    "    print(f' - [중복] : {duplicate_rows.shape[0]} / {df.shape[0]}')    \n",
    "    \n",
    "    df_2.head()"
   ]
  },
  {
   "cell_type": "markdown",
   "id": "80381055-99ac-4ff4-af2c-ffcf196394df",
   "metadata": {},
   "source": [
    "---\n",
    "## 중복제거\n",
    "- 일별 대여소별 자전거 거치수량(2019년).csv"
   ]
  },
  {
   "cell_type": "code",
   "execution_count": null,
   "id": "39ba5fd6-a478-42d4-8a66-a8d04406e6b6",
   "metadata": {},
   "outputs": [],
   "source": [
    "df = em.Read_File(Default_path + Sub_path + '일별 대여소별 자전거 거치수량(2019년).csv')\n",
    "\n",
    "grb_df = df.groupby(['일시', '대여소번호', '대여소ID'])['거치수량'].mean()\n",
    "grb_df = np.floor(grb_df).astype(int)\n",
    "grb_df = grb_df.reset_index()\n",
    "\n",
    "grb_df.to_parquet(Default_path + Sub_path + '일별 대여소별 자전거 거치수량(2019년)(중복제거)' + '.parquet', index=False)\n",
    "del df\n",
    "del grb_df"
   ]
  },
  {
   "cell_type": "code",
   "execution_count": null,
   "id": "77b641a8-820d-4685-b97a-a0f4accb2ee1",
   "metadata": {},
   "outputs": [],
   "source": [
    "df = em.Read_File(Default_path + Sub_path + '일별 대여소별 자전거 거치수량(2019년)(중복제거).parquet')\n",
    "df.head()"
   ]
  },
  {
   "cell_type": "markdown",
   "id": "84823f90-fe8b-4de1-af5f-53a5eac5896e",
   "metadata": {},
   "source": [
    "---\n",
    "### 대여소정보 가져오기"
   ]
  },
  {
   "cell_type": "code",
   "execution_count": null,
   "id": "10d26038-3fc0-4194-9f7a-b1c0a597f0fa",
   "metadata": {},
   "outputs": [],
   "source": [
    "df_BikeRental = em.Read_File('G:\\\\내 드라이브\\\\DataSet\\\\_파킷 파일\\\\서울시 공공자전거 대여소 정보\\\\' + '공공자전거 대여소 정보_통합본_최종.parquet')"
   ]
  },
  {
   "cell_type": "code",
   "execution_count": null,
   "id": "3bd57e55-2752-4f20-b526-63461c8ad66b",
   "metadata": {
    "scrolled": true
   },
   "outputs": [],
   "source": [
    "df_BikeRental.head(2)"
   ]
  },
  {
   "cell_type": "code",
   "execution_count": null,
   "id": "d7036f21-1844-47c0-af10-6d13ca72fe17",
   "metadata": {},
   "outputs": [],
   "source": [
    "# 일별 대여소별 자전거 거치수량(2019년)(중복제거).parquet\n",
    "# 일별 대여소별 자전거 거치수량(2020년).csv\n",
    "# 일별 대여소별 자전거 거치수량(21년1~5월).csv\n",
    "\n",
    "filename = '일별 대여소별 자전거 거치수량(21년1~5월).csv'\n",
    "df = em.Read_File(Default_path + Sub_path + filename)\n",
    "df['일시'] = pd.to_datetime(df['일시'])\n",
    "\n",
    "df['년도'] = df['일시'].dt.year\n",
    "df['월'] = df['일시'].dt.month\n",
    "df['일'] = df['일시'].dt.day\n",
    "df['시'] = df['일시'].dt.hour\n",
    "df['분'] = df['일시'].dt.minute\n",
    "\n",
    "df.head()"
   ]
  },
  {
   "cell_type": "markdown",
   "id": "3bb6de7f-95d8-46c1-b843-352c19882b4d",
   "metadata": {},
   "source": [
    "---\n",
    "## 병합\n",
    "- 19-21.05 (8시만 있음)"
   ]
  },
  {
   "cell_type": "code",
   "execution_count": null,
   "id": "2aa40529-f4ef-48ff-a085-a1480bf63f48",
   "metadata": {},
   "outputs": [],
   "source": [
    "df_sum = pd.DataFrame()"
   ]
  },
  {
   "cell_type": "code",
   "execution_count": null,
   "id": "a739524b-a62c-4597-97b1-d5cdd6d3ab52",
   "metadata": {},
   "outputs": [],
   "source": [
    "Sub_path = '19-21.05 (8시만 있음)\\\\'"
   ]
  },
  {
   "cell_type": "code",
   "execution_count": null,
   "id": "f2b33497-be2c-47d5-8905-de5cd7681080",
   "metadata": {},
   "outputs": [],
   "source": [
    "# 파일 경로명 변경\n",
    "file_list = os.listdir(Default_path + Sub_path)\n",
    "file_lists = [file for file in file_list if file.endswith((\".csv\", \".xlsx\", \".parquet\"))]\n",
    "file_lists.sort()\n",
    "print('file_lists : \\n', '\\n '.join(file_lists))\n",
    "print('===========================================')\n",
    "\n",
    "for _, filename in enumerate(file_lists):\n",
    "    print('===================================')\n",
    "    df = em.Read_File(Default_path + Sub_path + filename)\n",
    "    print(df.info())\n",
    "    df_sum = pd.concat([df, df_sum], axis = 0)\n",
    "    del df  # 메모리 정리\n",
    "\n",
    "# # '일시' 컬럼을 datetime 형식으로 변환\n",
    "df_sum['일시'] = pd.to_datetime(df_sum['일시'])\n",
    "\n",
    "# 년도, 월, 일 컬럼 추가\n",
    "df_sum['년도'] = df_sum['일시'].dt.year\n",
    "df_sum['월'] = df_sum['일시'].dt.month\n",
    "df_sum['일'] = df_sum['일시'].dt.day\n",
    "df_sum['시'] = df_sum['일시'].dt.hour\n",
    "df_sum['분'] = df_sum['일시'].dt.minute\n",
    "\n",
    "# '대여소번호' 컬럼을 5자리 문자열로 변환 (앞에 0 추가)\n",
    "df_sum['대여소번호'] = df_sum['대여소번호'].apply(lambda x: f'{x:05}')\n",
    "merged_df = pd.merge(df_sum, df_BikeRental, left_on='대여소번호', right_on='대여소번호', how='inner')\n",
    "\n",
    "merged_df.rename(columns = {'시':'시간대', '거치수량':'거치대수량'}, inplace = True)\n",
    "merged_df['일시'] = merged_df['일시'].astype(str)\n",
    "merged_df['일시'] = merged_df['일시'].str[0:10]\n",
    "_columns = ['일시', '대여소번호', '대여소명', '시간대', '거치대수량']\n",
    "merged_df = merged_df[_columns]\n",
    "\n",
    "# for문 종료 후, 실행\n",
    "merged_df.to_parquet(Default_path + Sub_path + '서울특별시 대여소별 공공자전거 대여가능 수량(1시간 단위)_(2019년)_(2020년)_(21년1~5월)' + '.parquet', index=False)\n",
    "del df_sum"
   ]
  },
  {
   "cell_type": "code",
   "execution_count": null,
   "id": "2f57ec73-29e6-4fb1-a869-094739dbdb2e",
   "metadata": {},
   "outputs": [],
   "source": [
    "df_temp = em.Read_File('G:\\\\내 드라이브\\\\DataSet\\\\서울특별시 대여소별 공공자전거 대여가능 수량(1시간 단위)\\\\19-21.05 (8시만 있음)\\\\' + '일별 대여소별 자전거 거치수량(2019년)_(2020년)_(21년1~5월)(중복제거).parquet')\n",
    "df_temp.head()"
   ]
  },
  {
   "cell_type": "markdown",
   "id": "59fe2a0d-1058-4c23-b737-712c17bd51e6",
   "metadata": {},
   "source": [
    "---\n",
    "### 대여소 센터/정비소 정보"
   ]
  },
  {
   "cell_type": "code",
   "execution_count": 7,
   "id": "9c620b6d-e617-464d-bcbe-87c8bd647677",
   "metadata": {},
   "outputs": [],
   "source": [
    "center = pd.read_parquet('G:/내 드라이브/DataSet/_파킷 파일/서울특별시 공공자전거 대여이력 정보/(센터, 정비소) 대여소번호_100미만9000초과.parquet')"
   ]
  },
  {
   "cell_type": "code",
   "execution_count": 9,
   "id": "dabab1d4-e3b8-4c5a-8e18-54a06a38af52",
   "metadata": {},
   "outputs": [
    {
     "data": {
      "text/plain": [
       "94"
      ]
     },
     "execution_count": 9,
     "metadata": {},
     "output_type": "execute_result"
    }
   ],
   "source": [
    "center.shape[0]"
   ]
  },
  {
   "cell_type": "code",
   "execution_count": 11,
   "id": "861b9f27-f0ed-4cb7-9eb8-aba12f23ada8",
   "metadata": {},
   "outputs": [
    {
     "data": {
      "text/html": [
       "<div>\n",
       "<style scoped>\n",
       "    .dataframe tbody tr th:only-of-type {\n",
       "        vertical-align: middle;\n",
       "    }\n",
       "\n",
       "    .dataframe tbody tr th {\n",
       "        vertical-align: top;\n",
       "    }\n",
       "\n",
       "    .dataframe thead th {\n",
       "        text-align: right;\n",
       "    }\n",
       "</style>\n",
       "<table border=\"1\" class=\"dataframe\">\n",
       "  <thead>\n",
       "    <tr style=\"text-align: right;\">\n",
       "      <th></th>\n",
       "      <th>대여소번호</th>\n",
       "      <th>대여소명</th>\n",
       "      <th>연도</th>\n",
       "    </tr>\n",
       "  </thead>\n",
       "  <tbody>\n",
       "    <tr>\n",
       "      <th>0</th>\n",
       "      <td>09999</td>\n",
       "      <td>중랑센터2</td>\n",
       "      <td>2018</td>\n",
       "    </tr>\n",
       "    <tr>\n",
       "      <th>1</th>\n",
       "      <td>00005</td>\n",
       "      <td>상암센터 정비실</td>\n",
       "      <td>2018</td>\n",
       "    </tr>\n",
       "    <tr>\n",
       "      <th>2</th>\n",
       "      <td>00003</td>\n",
       "      <td>중랑센터</td>\n",
       "      <td>2018</td>\n",
       "    </tr>\n",
       "    <tr>\n",
       "      <th>3</th>\n",
       "      <td>09998</td>\n",
       "      <td>영남주차장 정비센터</td>\n",
       "      <td>2018</td>\n",
       "    </tr>\n",
       "    <tr>\n",
       "      <th>4</th>\n",
       "      <td>99999</td>\n",
       "      <td>영남단말기정비</td>\n",
       "      <td>2019</td>\n",
       "    </tr>\n",
       "    <tr>\n",
       "      <th>...</th>\n",
       "      <td>...</td>\n",
       "      <td>...</td>\n",
       "      <td>...</td>\n",
       "    </tr>\n",
       "    <tr>\n",
       "      <th>89</th>\n",
       "      <td>00005</td>\n",
       "      <td>상암센터</td>\n",
       "      <td>2024</td>\n",
       "    </tr>\n",
       "    <tr>\n",
       "      <th>90</th>\n",
       "      <td>09991</td>\n",
       "      <td>훈련원센터</td>\n",
       "      <td>2024</td>\n",
       "    </tr>\n",
       "    <tr>\n",
       "      <th>91</th>\n",
       "      <td>09985</td>\n",
       "      <td>천왕센터</td>\n",
       "      <td>2024</td>\n",
       "    </tr>\n",
       "    <tr>\n",
       "      <th>92</th>\n",
       "      <td>09993</td>\n",
       "      <td>개화센터</td>\n",
       "      <td>2024</td>\n",
       "    </tr>\n",
       "    <tr>\n",
       "      <th>93</th>\n",
       "      <td>09999</td>\n",
       "      <td>상담센터</td>\n",
       "      <td>2024</td>\n",
       "    </tr>\n",
       "  </tbody>\n",
       "</table>\n",
       "<p>94 rows × 3 columns</p>\n",
       "</div>"
      ],
      "text/plain": [
       "    대여소번호        대여소명    연도\n",
       "0   09999       중랑센터2  2018\n",
       "1   00005    상암센터 정비실  2018\n",
       "2   00003        중랑센터  2018\n",
       "3   09998  영남주차장 정비센터  2018\n",
       "4   99999     영남단말기정비  2019\n",
       "..    ...         ...   ...\n",
       "89  00005        상암센터  2024\n",
       "90  09991       훈련원센터  2024\n",
       "91  09985        천왕센터  2024\n",
       "92  09993        개화센터  2024\n",
       "93  09999        상담센터  2024\n",
       "\n",
       "[94 rows x 3 columns]"
      ]
     },
     "execution_count": 11,
     "metadata": {},
     "output_type": "execute_result"
    }
   ],
   "source": [
    "center"
   ]
  },
  {
   "cell_type": "markdown",
   "id": "9027dbe8-461c-458b-adea-9fa55d699c06",
   "metadata": {},
   "source": [
    "---\n",
    "## 최종파일 병합\n",
    "- 년도 별 통합"
   ]
  },
  {
   "cell_type": "code",
   "execution_count": 30,
   "id": "062747b0-688b-47f2-a925-84cf2c720814",
   "metadata": {},
   "outputs": [],
   "source": [
    "Default_path = 'G:\\\\내 드라이브\\\\DataSet\\\\서울특별시 대여소별 공공자전거 대여가능 수량(1시간 단위)\\\\'\n",
    "df_temp1 = em.Read_File(Default_path + '19-21.05 (8시만 있음)\\\\' + '서울특별시 대여소별 공공자전거 대여가능 수량(1시간 단위)_(2019년)_(2020년)_(21년1~5월).parquet')\n",
    "df_temp2 = em.Read_File(Default_path + '22년\\\\' + '서울특별시 대여소별 공공자전거 대여가능 수량(1시간 단위)_2022.parquet')\n",
    "df_temp3 = em.Read_File(Default_path + '23년\\\\' + '서울특별시 대여소별 공공자전거 대여가능 수량(1시간 단위)_2023.parquet')\n",
    "df_combined = pd.concat([df_temp1, df_temp2, df_temp3], ignore_index=True)"
   ]
  },
  {
   "cell_type": "code",
   "execution_count": 31,
   "id": "c0a727df-fa51-49e0-9956-b5ffe620a51f",
   "metadata": {},
   "outputs": [
    {
     "data": {
      "text/plain": [
       "36543402"
      ]
     },
     "execution_count": 31,
     "metadata": {},
     "output_type": "execute_result"
    }
   ],
   "source": [
    "df_combined.shape[0]"
   ]
  },
  {
   "cell_type": "code",
   "execution_count": 36,
   "id": "59004e77-5be4-4d5d-91e9-b0b9ea2edd3b",
   "metadata": {},
   "outputs": [
    {
     "name": "stdout",
     "output_type": "stream",
     "text": [
      "<class 'pandas.core.frame.DataFrame'>\n",
      "RangeIndex: 36543402 entries, 0 to 36543401\n",
      "Data columns (total 5 columns):\n",
      " #   Column  Dtype \n",
      "---  ------  ----- \n",
      " 0   일시      object\n",
      " 1   대여소번호   object\n",
      " 2   대여소명    object\n",
      " 3   시간대     int64 \n",
      " 4   거치대수량   int64 \n",
      "dtypes: int64(2), object(3)\n",
      "memory usage: 1.4+ GB\n"
     ]
    }
   ],
   "source": [
    "df_combined.info()"
   ]
  },
  {
   "cell_type": "code",
   "execution_count": 38,
   "id": "12e3f10f-4645-4092-9269-d3ea49af3c93",
   "metadata": {},
   "outputs": [],
   "source": [
    "df_combined['대여소번호'] = df_combined['대여소번호'].astype(str)\n",
    "df_combined.to_parquet(Default_path + '서울특별시 대여소별 공공자전거 대여가능 수량(1시간 단위)' + '.parquet', index=False)"
   ]
  },
  {
   "cell_type": "code",
   "execution_count": 40,
   "id": "e85a98a3-8eac-48b7-aa47-e758bc663ac4",
   "metadata": {},
   "outputs": [
    {
     "data": {
      "text/plain": [
       "36543402"
      ]
     },
     "execution_count": 40,
     "metadata": {},
     "output_type": "execute_result"
    }
   ],
   "source": [
    "Default_path = 'G:\\\\내 드라이브\\\\DataSet\\\\서울특별시 대여소별 공공자전거 대여가능 수량(1시간 단위)\\\\'\n",
    "df_temp = em.Read_File(Default_path + '서울특별시 대여소별 공공자전거 대여가능 수량(1시간 단위)' + '.parquet')\n",
    "df_temp.shape[0]"
   ]
  },
  {
   "cell_type": "markdown",
   "id": "08ad9ab1-1278-41d4-aaa4-4ea1b5289c64",
   "metadata": {},
   "source": [
    "---\n",
    "### 전체 통합\n",
    "- 센터/정비소 대여소 제외"
   ]
  },
  {
   "cell_type": "code",
   "execution_count": 42,
   "id": "1dba0517-e9dc-42f7-b639-91f971608055",
   "metadata": {},
   "outputs": [],
   "source": [
    "df_combined = df_combined[~df_combined['대여소번호'].isin([center['대여소번호']])]\n",
    "df_combined.to_parquet(Default_path + '서울특별시 대여소별 공공자전거 대여가능 수량(1시간 단위)(통합-센터제외)' + '.parquet', index=False)"
   ]
  },
  {
   "cell_type": "code",
   "execution_count": 44,
   "id": "628e1640-ed01-4a7a-b53f-1ad5dc34c190",
   "metadata": {},
   "outputs": [
    {
     "data": {
      "text/html": [
       "<div>\n",
       "<style scoped>\n",
       "    .dataframe tbody tr th:only-of-type {\n",
       "        vertical-align: middle;\n",
       "    }\n",
       "\n",
       "    .dataframe tbody tr th {\n",
       "        vertical-align: top;\n",
       "    }\n",
       "\n",
       "    .dataframe thead th {\n",
       "        text-align: right;\n",
       "    }\n",
       "</style>\n",
       "<table border=\"1\" class=\"dataframe\">\n",
       "  <thead>\n",
       "    <tr style=\"text-align: right;\">\n",
       "      <th></th>\n",
       "      <th>일시</th>\n",
       "      <th>대여소번호</th>\n",
       "      <th>대여소명</th>\n",
       "      <th>시간대</th>\n",
       "      <th>거치대수량</th>\n",
       "    </tr>\n",
       "  </thead>\n",
       "  <tbody>\n",
       "    <tr>\n",
       "      <th>0</th>\n",
       "      <td>2021-01-01</td>\n",
       "      <td>00101</td>\n",
       "      <td>(구)합정동 주민센터</td>\n",
       "      <td>8</td>\n",
       "      <td>0</td>\n",
       "    </tr>\n",
       "    <tr>\n",
       "      <th>1</th>\n",
       "      <td>2021-01-01</td>\n",
       "      <td>00102</td>\n",
       "      <td>망원역 1번출구 앞</td>\n",
       "      <td>8</td>\n",
       "      <td>2</td>\n",
       "    </tr>\n",
       "  </tbody>\n",
       "</table>\n",
       "</div>"
      ],
      "text/plain": [
       "           일시  대여소번호         대여소명  시간대  거치대수량\n",
       "0  2021-01-01  00101  (구)합정동 주민센터    8      0\n",
       "1  2021-01-01  00102   망원역 1번출구 앞    8      2"
      ]
     },
     "execution_count": 44,
     "metadata": {},
     "output_type": "execute_result"
    }
   ],
   "source": [
    "df_combined.head(2)"
   ]
  },
  {
   "cell_type": "code",
   "execution_count": 46,
   "id": "5984ca50-2b11-4b31-88e0-592f03598790",
   "metadata": {},
   "outputs": [
    {
     "data": {
      "text/plain": [
       "36543402"
      ]
     },
     "execution_count": 46,
     "metadata": {},
     "output_type": "execute_result"
    }
   ],
   "source": [
    "df_combined.shape[0]"
   ]
  },
  {
   "cell_type": "code",
   "execution_count": 48,
   "id": "aec6af1d-e1a0-4c6d-bf5d-bb785c524f6f",
   "metadata": {},
   "outputs": [
    {
     "data": {
      "text/plain": [
       "36543402"
      ]
     },
     "execution_count": 48,
     "metadata": {},
     "output_type": "execute_result"
    }
   ],
   "source": [
    "df_temp = em.Read_File(Default_path + '서울특별시 대여소별 공공자전거 대여가능 수량(1시간 단위)(통합-센터제외)' + '.parquet')\n",
    "df_temp.shape[0]"
   ]
  },
  {
   "cell_type": "code",
   "execution_count": null,
   "id": "27a2e097-c6d9-4623-bc00-e2cd9293a1f8",
   "metadata": {},
   "outputs": [],
   "source": []
  }
 ],
 "metadata": {
  "kernelspec": {
   "display_name": "Python 3 (ipykernel)",
   "language": "python",
   "name": "python3"
  },
  "language_info": {
   "codemirror_mode": {
    "name": "ipython",
    "version": 3
   },
   "file_extension": ".py",
   "mimetype": "text/x-python",
   "name": "python",
   "nbconvert_exporter": "python",
   "pygments_lexer": "ipython3",
   "version": "3.12.4"
  }
 },
 "nbformat": 4,
 "nbformat_minor": 5
}
