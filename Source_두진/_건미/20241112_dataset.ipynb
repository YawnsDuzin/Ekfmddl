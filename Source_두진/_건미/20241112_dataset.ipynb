{
 "cells": [
  {
   "cell_type": "markdown",
   "id": "27a04115-3043-4bb8-bcb9-d17d875ff9e6",
   "metadata": {},
   "source": [
    "### 기본 라이브러리 임포트"
   ]
  },
  {
   "cell_type": "code",
   "execution_count": 1,
   "id": "d09bee3e-fac8-43d6-8ae1-33f4ada3d6bc",
   "metadata": {},
   "outputs": [],
   "source": [
    "# 라이브러리 임포트\n",
    "import os\n",
    "import numpy as np\n",
    "import pandas as pd\n",
    "import chardet\n",
    "\n",
    "# 사용자 정의함수 경로 설정\n",
    "import sys\n",
    "sys.path.append(\"G:/내 드라이브/Source/_Custom_Function\")\n",
    "# 사용자 정의함수 불러오기\n",
    "\n",
    "import time\n",
    "\n",
    "import folium\n",
    "\n",
    "import ExcelFile_Merge as em\n",
    "import ExcelFile_Read as er\n",
    "import ExcelFile_EDA as ee\n",
    "\n",
    "import dataset_function as ds_f\n",
    "import folium_function as fl_f\n",
    "import plot_function as pl_f"
   ]
  },
  {
   "cell_type": "markdown",
   "id": "716fec40-e7a9-4633-9edc-a43101925f46",
   "metadata": {},
   "source": [
    "---\n",
    "### 데이터 불러오기(자치구별 - 집계데이터)"
   ]
  },
  {
   "cell_type": "code",
   "execution_count": 3,
   "id": "820ae9bd-ce1b-49fc-be28-065c7cc27232",
   "metadata": {},
   "outputs": [
    {
     "name": "stdout",
     "output_type": "stream",
     "text": [
      "read_parquet time : 0.08277344703674316\n"
     ]
    }
   ],
   "source": [
    "start_time = time.time()\n",
    "\n",
    "# 자전거 이용량 - 연도별 자치구별 출퇴근 자전거 이용량 2018-2024(정비센터 제외).parquet\n",
    "# 자치구|출퇴근|이용건수|이용거리(M)|이용시간(분)|연도\n",
    "df_gu_BikeUse = ds_f.get_gu_BikeUse()\n",
    "\n",
    "# 자전거도로 - 연도별 자치구별 자전거도로 2019-2024(기준연도 +1).parquet\n",
    "# 연도|자치구|총계 연장(㎞)|총계 노선(개)|전용도로 연장(㎞)|전용도로 노선(개)|전용차로 연장(㎞)|전용차로 노선(개)|우선도로 연장(㎞)|우선도로 노선(개)|겸용도로(분리형) 연장(㎞)|겸용도로(분리형) 노선(개)|겸용도로(비분리형) 연장(㎞)|겸용도로(비분리형) 노선(개)\n",
    "df_gu_BikeRoad = ds_f.get_gu_BikeRoad()\n",
    "\n",
    "# 자전거 대여소 수 - 연도별 자치구별 대여소 및 거치대수 2020-2024(기준연도 +1).parquet\n",
    "# 연도|자치구|대여소|거치대\n",
    "df_gu_BikeRental = ds_f.get_gu_BikeRental()\n",
    "\n",
    "# 인구밀도 - 연도별 자치구별 인구밀도 2019-2023.parquet\n",
    "# 연도|자치구|인구(명)|면적(㎢)|인구밀도(명/㎢)\n",
    "df_gu_PeopleDensity = ds_f.get_gu_PeopleDensity()\n",
    "\n",
    "# 출/퇴근 인원 밀집도(유동인구) - 연도별 자치구별 출퇴근 이동인구 2020-2024.parquet\n",
    "# 연도|출퇴근|자치구|이동인구\n",
    "df_gu_PeopleMove = ds_f.get_gu_PeopleMove()\n",
    "\n",
    "# 연도별 자치구별 출퇴근 평균 이동인구 - 연도별 자치구별 출퇴근 평균 이동인구 2020-2024.parquet\n",
    "# 연도|출퇴근|자치구|이동인구\n",
    "df_gu_PeopleMove_Mean = ds_f.get_gu_PeopleMove_Mean()\n",
    "    \n",
    "# 지하철역 인근여부 - 연도별 자치구별 대여소-지하철역 최단거리 펑균 2021-2024(기준연도 +1).parquet\n",
    "# 연도|자치구|최단거리\n",
    "df_gu_NearTrainStatin = ds_f.get_gu_NearTrainStatin()\n",
    "\n",
    "# 차량통행속도 - 연도별 자치구별 평균 차량통행속도 2020-2024.parquet\n",
    "# 연도|출퇴근|자치구|평균속도\n",
    "df_gu_VehiSpeed = ds_f.get_gu_VehiSpeed()\n",
    "\n",
    "# 유가(기름 가격) - 연도별 자치구별 평균 유가 2021-2024.parquet\n",
    "# 연도|자치구|고급휘발유|보통휘발유|자동차용경유|실내등유\n",
    "df_gu_OilPrice = ds_f.get_gu_OilPrice()\n",
    "\n",
    "print(\"read_parquet time :\", time.time() - start_time)"
   ]
  },
  {
   "cell_type": "markdown",
   "id": "268a726a-af07-46b8-8418-570462dc1742",
   "metadata": {},
   "source": [
    "---\n",
    "## 각 데이터 별, 마지막 년도 데이터 가져오기"
   ]
  },
  {
   "cell_type": "code",
   "execution_count": 6,
   "id": "44852a33-85a4-4a33-bd39-ff314216703f",
   "metadata": {},
   "outputs": [],
   "source": [
    "df_gu_BikeRoad_2 = df_gu_BikeRoad[df_gu_BikeRoad['연도'] == 2024]\n",
    "df_gu_BikeRental_2 = df_gu_BikeRental[df_gu_BikeRental['연도'] == 2024]\n",
    "df_gu_PeopleDensity_2 = df_gu_PeopleDensity[df_gu_PeopleDensity['연도'] == 2023]\n",
    "df_gu_PeopleMove_2 = df_gu_PeopleMove[df_gu_PeopleMove['연도'] == '2024']\n",
    "df_gu_NearTrainStatin_2 = df_gu_NearTrainStatin[df_gu_NearTrainStatin['연도'] == 2024]\n",
    "df_gu_VehiSpeed_2 = df_gu_VehiSpeed[df_gu_VehiSpeed['연도'] == '2024']\n",
    "df_gu_OilPrice_2 = df_gu_OilPrice[df_gu_OilPrice['연도'] == 2024]"
   ]
  },
  {
   "cell_type": "code",
   "execution_count": 8,
   "id": "bb2b6abd-796e-486d-a0cc-8d3466288f7e",
   "metadata": {},
   "outputs": [
    {
     "data": {
      "text/html": [
       "<div>\n",
       "<style scoped>\n",
       "    .dataframe tbody tr th:only-of-type {\n",
       "        vertical-align: middle;\n",
       "    }\n",
       "\n",
       "    .dataframe tbody tr th {\n",
       "        vertical-align: top;\n",
       "    }\n",
       "\n",
       "    .dataframe thead th {\n",
       "        text-align: right;\n",
       "    }\n",
       "</style>\n",
       "<table border=\"1\" class=\"dataframe\">\n",
       "  <thead>\n",
       "    <tr style=\"text-align: right;\">\n",
       "      <th></th>\n",
       "      <th>연도</th>\n",
       "      <th>자치구</th>\n",
       "      <th>총계 연장(㎞)</th>\n",
       "      <th>총계 노선(개)</th>\n",
       "      <th>전용도로 연장(㎞)</th>\n",
       "      <th>전용도로 노선(개)</th>\n",
       "      <th>전용차로 연장(㎞)</th>\n",
       "      <th>전용차로 노선(개)</th>\n",
       "      <th>우선도로 연장(㎞)</th>\n",
       "      <th>우선도로 노선(개)</th>\n",
       "      <th>겸용도로(분리형) 연장(㎞)</th>\n",
       "      <th>겸용도로(분리형) 노선(개)</th>\n",
       "      <th>겸용도로(비분리형) 연장(㎞)</th>\n",
       "      <th>겸용도로(비분리형) 노선(개)</th>\n",
       "    </tr>\n",
       "  </thead>\n",
       "  <tbody>\n",
       "    <tr>\n",
       "      <th>125</th>\n",
       "      <td>2024</td>\n",
       "      <td>종로구</td>\n",
       "      <td>32.08</td>\n",
       "      <td>43</td>\n",
       "      <td>4.19</td>\n",
       "      <td>1</td>\n",
       "      <td>6.85</td>\n",
       "      <td>13</td>\n",
       "      <td>10.11</td>\n",
       "      <td>16</td>\n",
       "      <td>0.63</td>\n",
       "      <td>2</td>\n",
       "      <td>10.3</td>\n",
       "      <td>11</td>\n",
       "    </tr>\n",
       "    <tr>\n",
       "      <th>126</th>\n",
       "      <td>2024</td>\n",
       "      <td>중구</td>\n",
       "      <td>22.39</td>\n",
       "      <td>21</td>\n",
       "      <td>4.19</td>\n",
       "      <td>1</td>\n",
       "      <td>0.00</td>\n",
       "      <td>0</td>\n",
       "      <td>10.70</td>\n",
       "      <td>14</td>\n",
       "      <td>7.50</td>\n",
       "      <td>6</td>\n",
       "      <td>0.0</td>\n",
       "      <td>0</td>\n",
       "    </tr>\n",
       "  </tbody>\n",
       "</table>\n",
       "</div>"
      ],
      "text/plain": [
       "       연도  자치구  총계 연장(㎞)  총계 노선(개)  전용도로 연장(㎞)  전용도로 노선(개)  전용차로 연장(㎞)  \\\n",
       "125  2024  종로구     32.08        43        4.19           1        6.85   \n",
       "126  2024   중구     22.39        21        4.19           1        0.00   \n",
       "\n",
       "     전용차로 노선(개)  우선도로 연장(㎞)  우선도로 노선(개)  겸용도로(분리형) 연장(㎞)  겸용도로(분리형) 노선(개)  \\\n",
       "125          13       10.11          16             0.63                2   \n",
       "126           0       10.70          14             7.50                6   \n",
       "\n",
       "     겸용도로(비분리형) 연장(㎞)  겸용도로(비분리형) 노선(개)  \n",
       "125              10.3                11  \n",
       "126               0.0                 0  "
      ]
     },
     "execution_count": 8,
     "metadata": {},
     "output_type": "execute_result"
    }
   ],
   "source": [
    "df_gu_BikeRoad_2.head(2)"
   ]
  }
 ],
 "metadata": {
  "kernelspec": {
   "display_name": "Python 3 (ipykernel)",
   "language": "python",
   "name": "python3"
  },
  "language_info": {
   "codemirror_mode": {
    "name": "ipython",
    "version": 3
   },
   "file_extension": ".py",
   "mimetype": "text/x-python",
   "name": "python",
   "nbconvert_exporter": "python",
   "pygments_lexer": "ipython3",
   "version": "3.12.4"
  }
 },
 "nbformat": 4,
 "nbformat_minor": 5
}
