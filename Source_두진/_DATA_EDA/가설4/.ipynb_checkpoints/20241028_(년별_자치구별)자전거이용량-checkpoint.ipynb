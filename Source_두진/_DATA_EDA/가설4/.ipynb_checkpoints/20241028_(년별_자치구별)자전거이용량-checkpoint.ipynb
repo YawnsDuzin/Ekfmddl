{
 "cells": [
  {
   "cell_type": "code",
   "execution_count": 1,
   "id": "801eb4c3-bbee-4b4f-8406-a0185ec50230",
   "metadata": {
    "colab": {
     "base_uri": "https://localhost:8080/",
     "height": 404
    },
    "executionInfo": {
     "elapsed": 1043,
     "status": "error",
     "timestamp": 1730073675826,
     "user": {
      "displayName": "서서현",
      "userId": "10867293804785357237"
     },
     "user_tz": -540
    },
    "id": "801eb4c3-bbee-4b4f-8406-a0185ec50230",
    "outputId": "ad0a1385-0bc9-4f25-e532-9551e1d41de6"
   },
   "outputs": [],
   "source": [
    "# 라이브러리 임포트\n",
    "import os\n",
    "import pandas as pd\n",
    "import chardet\n",
    "\n",
    "# 사용자 정의함수 경로 설정\n",
    "import sys\n",
    "sys.path.append(\"G:/내 드라이브/Source/_Custom_Function\")\n",
    "# 사용자 정의함수 불러오기\n",
    "\n",
    "import time\n",
    "\n",
    "import ExcelFile_Merge as em\n",
    "import ExcelFile_Read as er\n",
    "import ExcelFile_EDA as ee"
   ]
  },
  {
   "cell_type": "code",
   "execution_count": 2,
   "id": "bec8186e-6c12-45ae-8fc4-522ab3669e7d",
   "metadata": {},
   "outputs": [],
   "source": [
    "df_parquet_3 = pd.DataFrame()"
   ]
  },
  {
   "cell_type": "markdown",
   "id": "302d840e-91c5-4e6c-8183-7adaf3562606",
   "metadata": {
    "id": "302d840e-91c5-4e6c-8183-7adaf3562606"
   },
   "source": [
    "---\n",
    "## 서울특별시 공공자전거 대여소별 이용정보(시간대별)\n",
    "- 서울특별시 공공자전거 대여소별 이용정보(시간대별)_2020.parquet\n",
    "- 서울특별시 공공자전거 대여소별 이용정보(시간대별)_2021.parquet\n",
    "- 서울특별시 공공자전거 대여소별 이용정보(시간대별)_2022.parquet\n",
    "- 서울특별시 공공자전거 대여소별 이용정보(시간대별)_2023.parquet\n",
    "- 서울특별시 공공자전거 대여소별 이용정보(시간대별)_2024.parquet"
   ]
  },
  {
   "cell_type": "code",
   "execution_count": 263,
   "id": "06c2e40d-d4fc-4bc2-b89f-9c4d65587bda",
   "metadata": {
    "id": "06c2e40d-d4fc-4bc2-b89f-9c4d65587bda",
    "outputId": "0ad1736a-b4a8-4b00-9757-b307eb0dc557"
   },
   "outputs": [
    {
     "name": "stdout",
     "output_type": "stream",
     "text": [
      "read_parquet time : 4.4822328090667725\n"
     ]
    }
   ],
   "source": [
    "_year = '2020'\n",
    "filepath = 'G:\\\\내 드라이브\\\\DataSet\\\\_파킷 파일\\\\서울특별시 공공자전거 대여소별 이용정보(시간대별)\\\\'\n",
    "start_time = time.time()\n",
    "df_parquet = pd.read_parquet(filepath + '서울특별시 공공자전거 대여소별 이용정보(시간대별)_' + _year + '.parquet')\n",
    "print(\"read_parquet time :\", time.time() - start_time)"
   ]
  },
  {
   "cell_type": "markdown",
   "id": "102d729a-4aaf-4648-b9f2-c14878efa933",
   "metadata": {},
   "source": [
    "---\n",
    "### 년도별,자치구별 - 따릉이이용량 확인"
   ]
  },
  {
   "cell_type": "code",
   "execution_count": 265,
   "id": "2f0bcd33-de95-4e61-b55b-969e3e64ac8c",
   "metadata": {},
   "outputs": [
    {
     "data": {
      "text/html": [
       "<div>\n",
       "<style scoped>\n",
       "    .dataframe tbody tr th:only-of-type {\n",
       "        vertical-align: middle;\n",
       "    }\n",
       "\n",
       "    .dataframe tbody tr th {\n",
       "        vertical-align: top;\n",
       "    }\n",
       "\n",
       "    .dataframe thead th {\n",
       "        text-align: right;\n",
       "    }\n",
       "</style>\n",
       "<table border=\"1\" class=\"dataframe\">\n",
       "  <thead>\n",
       "    <tr style=\"text-align: right;\">\n",
       "      <th></th>\n",
       "      <th>대여일자</th>\n",
       "      <th>대여시간</th>\n",
       "      <th>대여소번호</th>\n",
       "      <th>대여소명</th>\n",
       "      <th>대여구분코드</th>\n",
       "      <th>성별</th>\n",
       "      <th>연령대코드</th>\n",
       "      <th>이용건수</th>\n",
       "      <th>운동량</th>\n",
       "      <th>탄소량</th>\n",
       "      <th>이동거리(M)</th>\n",
       "      <th>이용시간(분)</th>\n",
       "    </tr>\n",
       "  </thead>\n",
       "  <tbody>\n",
       "    <tr>\n",
       "      <th>0</th>\n",
       "      <td>2020-02-01</td>\n",
       "      <td>0</td>\n",
       "      <td>1442</td>\n",
       "      <td>1442. (구)신한은행 중랑교지점</td>\n",
       "      <td>정기권</td>\n",
       "      <td>None</td>\n",
       "      <td>~10대</td>\n",
       "      <td>1</td>\n",
       "      <td>53.86</td>\n",
       "      <td>0.32</td>\n",
       "      <td>1360.0</td>\n",
       "      <td>6</td>\n",
       "    </tr>\n",
       "    <tr>\n",
       "      <th>1</th>\n",
       "      <td>2020-02-01</td>\n",
       "      <td>0</td>\n",
       "      <td>1339</td>\n",
       "      <td>1339. 삼성전자서비스 성북센터</td>\n",
       "      <td>정기권</td>\n",
       "      <td>None</td>\n",
       "      <td>~10대</td>\n",
       "      <td>1</td>\n",
       "      <td>10.04</td>\n",
       "      <td>0.09</td>\n",
       "      <td>390.0</td>\n",
       "      <td>3</td>\n",
       "    </tr>\n",
       "    <tr>\n",
       "      <th>2</th>\n",
       "      <td>2020-02-01</td>\n",
       "      <td>0</td>\n",
       "      <td>1960</td>\n",
       "      <td>1960. 화광신문사 앞</td>\n",
       "      <td>정기권</td>\n",
       "      <td>None</td>\n",
       "      <td>~10대</td>\n",
       "      <td>1</td>\n",
       "      <td>75.14</td>\n",
       "      <td>0.64</td>\n",
       "      <td>2750.0</td>\n",
       "      <td>24</td>\n",
       "    </tr>\n",
       "    <tr>\n",
       "      <th>3</th>\n",
       "      <td>2020-02-01</td>\n",
       "      <td>0</td>\n",
       "      <td>394</td>\n",
       "      <td>394. 경희궁 자이 3단지</td>\n",
       "      <td>정기권</td>\n",
       "      <td>None</td>\n",
       "      <td>~10대</td>\n",
       "      <td>1</td>\n",
       "      <td>28.42</td>\n",
       "      <td>0.18</td>\n",
       "      <td>780.0</td>\n",
       "      <td>3</td>\n",
       "    </tr>\n",
       "    <tr>\n",
       "      <th>4</th>\n",
       "      <td>2020-02-01</td>\n",
       "      <td>0</td>\n",
       "      <td>1364</td>\n",
       "      <td>1364. 성북동 치안센터 앞</td>\n",
       "      <td>정기권</td>\n",
       "      <td>None</td>\n",
       "      <td>~10대</td>\n",
       "      <td>1</td>\n",
       "      <td>52.97</td>\n",
       "      <td>0.41</td>\n",
       "      <td>1760.0</td>\n",
       "      <td>11</td>\n",
       "    </tr>\n",
       "  </tbody>\n",
       "</table>\n",
       "</div>"
      ],
      "text/plain": [
       "         대여일자  대여시간  대여소번호                 대여소명 대여구분코드    성별 연령대코드  이용건수  \\\n",
       "0  2020-02-01     0   1442  1442. (구)신한은행 중랑교지점    정기권  None  ~10대     1   \n",
       "1  2020-02-01     0   1339   1339. 삼성전자서비스 성북센터    정기권  None  ~10대     1   \n",
       "2  2020-02-01     0   1960        1960. 화광신문사 앞    정기권  None  ~10대     1   \n",
       "3  2020-02-01     0    394      394. 경희궁 자이 3단지    정기권  None  ~10대     1   \n",
       "4  2020-02-01     0   1364     1364. 성북동 치안센터 앞    정기권  None  ~10대     1   \n",
       "\n",
       "     운동량   탄소량  이동거리(M)  이용시간(분)  \n",
       "0  53.86  0.32   1360.0        6  \n",
       "1  10.04  0.09    390.0        3  \n",
       "2  75.14  0.64   2750.0       24  \n",
       "3  28.42  0.18    780.0        3  \n",
       "4  52.97  0.41   1760.0       11  "
      ]
     },
     "execution_count": 265,
     "metadata": {},
     "output_type": "execute_result"
    }
   ],
   "source": [
    "df_parquet.head()"
   ]
  },
  {
   "cell_type": "code",
   "execution_count": 266,
   "id": "0f261c40-60c0-41b1-a471-eb858a738323",
   "metadata": {
    "id": "0f261c40-60c0-41b1-a471-eb858a738323"
   },
   "outputs": [],
   "source": [
    "# 0~6번 인덱스 위치에 각 한글 요일 이름이 담긴 리스트\n",
    "weekday_list = ['월', '화', '수', '목', '금', '토', '일']"
   ]
  },
  {
   "cell_type": "code",
   "execution_count": 267,
   "id": "f890ba76-5f0a-4b44-ade1-ccb97cd2e068",
   "metadata": {
    "id": "f890ba76-5f0a-4b44-ade1-ccb97cd2e068"
   },
   "outputs": [],
   "source": [
    "df_parquet['대여일자'] = pd.to_datetime(df_parquet['대여일자'], format='%Y-%m-%d')\n",
    "df_parquet['요일_인덱스'] = df_parquet['대여일자'].dt.weekday\n",
    "# apply 함수로 숫자 -> 요일 이름으로 변환\n",
    "df_parquet['요일'] = df_parquet.apply(lambda x : weekday_list[x['요일_인덱스']], axis=1)"
   ]
  },
  {
   "cell_type": "code",
   "execution_count": 268,
   "id": "e23fb45a-5d6b-4fd7-85d0-70e680a30006",
   "metadata": {},
   "outputs": [],
   "source": [
    "df_parquet['년'] = df_parquet['대여일자'].dt.year"
   ]
  },
  {
   "cell_type": "code",
   "execution_count": 269,
   "id": "a85f7fb3-8ebd-4fca-9a10-53cd846343f1",
   "metadata": {
    "id": "a85f7fb3-8ebd-4fca-9a10-53cd846343f1",
    "outputId": "2dc45539-234a-439e-af6e-02c59e434472"
   },
   "outputs": [
    {
     "name": "stdout",
     "output_type": "stream",
     "text": [
      "(19026024, 15)\n"
     ]
    }
   ],
   "source": [
    "print(df_parquet.shape)"
   ]
  },
  {
   "cell_type": "code",
   "execution_count": 270,
   "id": "101d7ad8-4d32-4a23-9b59-2ae1c7f60f8c",
   "metadata": {
    "id": "101d7ad8-4d32-4a23-9b59-2ae1c7f60f8c",
    "outputId": "13c6ff44-9226-4db3-d72b-ba714ef17285"
   },
   "outputs": [
    {
     "name": "stdout",
     "output_type": "stream",
     "text": [
      "<class 'pandas.core.frame.DataFrame'>\n",
      "RangeIndex: 19026024 entries, 0 to 19026023\n",
      "Data columns (total 15 columns):\n",
      " #   Column   Dtype         \n",
      "---  ------   -----         \n",
      " 0   대여일자     datetime64[ns]\n",
      " 1   대여시간     int64         \n",
      " 2   대여소번호    int64         \n",
      " 3   대여소명     object        \n",
      " 4   대여구분코드   object        \n",
      " 5   성별       object        \n",
      " 6   연령대코드    object        \n",
      " 7   이용건수     int64         \n",
      " 8   운동량      float64       \n",
      " 9   탄소량      float64       \n",
      " 10  이동거리(M)  float64       \n",
      " 11  이용시간(분)  int64         \n",
      " 12  요일_인덱스   int32         \n",
      " 13  요일       object        \n",
      " 14  년        int32         \n",
      "dtypes: datetime64[ns](1), float64(3), int32(2), int64(4), object(5)\n",
      "memory usage: 2.0+ GB\n",
      "None\n"
     ]
    }
   ],
   "source": [
    "print(df_parquet.info())"
   ]
  },
  {
   "cell_type": "code",
   "execution_count": 271,
   "id": "2ec08110-caa7-4391-a8ae-a5fe0bcf1b2b",
   "metadata": {},
   "outputs": [
    {
     "data": {
      "text/html": [
       "<div>\n",
       "<style scoped>\n",
       "    .dataframe tbody tr th:only-of-type {\n",
       "        vertical-align: middle;\n",
       "    }\n",
       "\n",
       "    .dataframe tbody tr th {\n",
       "        vertical-align: top;\n",
       "    }\n",
       "\n",
       "    .dataframe thead th {\n",
       "        text-align: right;\n",
       "    }\n",
       "</style>\n",
       "<table border=\"1\" class=\"dataframe\">\n",
       "  <thead>\n",
       "    <tr style=\"text-align: right;\">\n",
       "      <th></th>\n",
       "      <th>대여일자</th>\n",
       "      <th>대여시간</th>\n",
       "      <th>대여소번호</th>\n",
       "      <th>대여소명</th>\n",
       "      <th>대여구분코드</th>\n",
       "      <th>성별</th>\n",
       "      <th>연령대코드</th>\n",
       "      <th>이용건수</th>\n",
       "      <th>운동량</th>\n",
       "      <th>탄소량</th>\n",
       "      <th>이동거리(M)</th>\n",
       "      <th>이용시간(분)</th>\n",
       "      <th>요일_인덱스</th>\n",
       "      <th>요일</th>\n",
       "      <th>년</th>\n",
       "    </tr>\n",
       "  </thead>\n",
       "  <tbody>\n",
       "    <tr>\n",
       "      <th>0</th>\n",
       "      <td>2020-02-01</td>\n",
       "      <td>0</td>\n",
       "      <td>1442</td>\n",
       "      <td>1442. (구)신한은행 중랑교지점</td>\n",
       "      <td>정기권</td>\n",
       "      <td>None</td>\n",
       "      <td>~10대</td>\n",
       "      <td>1</td>\n",
       "      <td>53.86</td>\n",
       "      <td>0.32</td>\n",
       "      <td>1360.0</td>\n",
       "      <td>6</td>\n",
       "      <td>5</td>\n",
       "      <td>토</td>\n",
       "      <td>2020</td>\n",
       "    </tr>\n",
       "    <tr>\n",
       "      <th>1</th>\n",
       "      <td>2020-02-01</td>\n",
       "      <td>0</td>\n",
       "      <td>1339</td>\n",
       "      <td>1339. 삼성전자서비스 성북센터</td>\n",
       "      <td>정기권</td>\n",
       "      <td>None</td>\n",
       "      <td>~10대</td>\n",
       "      <td>1</td>\n",
       "      <td>10.04</td>\n",
       "      <td>0.09</td>\n",
       "      <td>390.0</td>\n",
       "      <td>3</td>\n",
       "      <td>5</td>\n",
       "      <td>토</td>\n",
       "      <td>2020</td>\n",
       "    </tr>\n",
       "    <tr>\n",
       "      <th>2</th>\n",
       "      <td>2020-02-01</td>\n",
       "      <td>0</td>\n",
       "      <td>1960</td>\n",
       "      <td>1960. 화광신문사 앞</td>\n",
       "      <td>정기권</td>\n",
       "      <td>None</td>\n",
       "      <td>~10대</td>\n",
       "      <td>1</td>\n",
       "      <td>75.14</td>\n",
       "      <td>0.64</td>\n",
       "      <td>2750.0</td>\n",
       "      <td>24</td>\n",
       "      <td>5</td>\n",
       "      <td>토</td>\n",
       "      <td>2020</td>\n",
       "    </tr>\n",
       "    <tr>\n",
       "      <th>3</th>\n",
       "      <td>2020-02-01</td>\n",
       "      <td>0</td>\n",
       "      <td>394</td>\n",
       "      <td>394. 경희궁 자이 3단지</td>\n",
       "      <td>정기권</td>\n",
       "      <td>None</td>\n",
       "      <td>~10대</td>\n",
       "      <td>1</td>\n",
       "      <td>28.42</td>\n",
       "      <td>0.18</td>\n",
       "      <td>780.0</td>\n",
       "      <td>3</td>\n",
       "      <td>5</td>\n",
       "      <td>토</td>\n",
       "      <td>2020</td>\n",
       "    </tr>\n",
       "    <tr>\n",
       "      <th>4</th>\n",
       "      <td>2020-02-01</td>\n",
       "      <td>0</td>\n",
       "      <td>1364</td>\n",
       "      <td>1364. 성북동 치안센터 앞</td>\n",
       "      <td>정기권</td>\n",
       "      <td>None</td>\n",
       "      <td>~10대</td>\n",
       "      <td>1</td>\n",
       "      <td>52.97</td>\n",
       "      <td>0.41</td>\n",
       "      <td>1760.0</td>\n",
       "      <td>11</td>\n",
       "      <td>5</td>\n",
       "      <td>토</td>\n",
       "      <td>2020</td>\n",
       "    </tr>\n",
       "  </tbody>\n",
       "</table>\n",
       "</div>"
      ],
      "text/plain": [
       "        대여일자  대여시간  대여소번호                 대여소명 대여구분코드    성별 연령대코드  이용건수  \\\n",
       "0 2020-02-01     0   1442  1442. (구)신한은행 중랑교지점    정기권  None  ~10대     1   \n",
       "1 2020-02-01     0   1339   1339. 삼성전자서비스 성북센터    정기권  None  ~10대     1   \n",
       "2 2020-02-01     0   1960        1960. 화광신문사 앞    정기권  None  ~10대     1   \n",
       "3 2020-02-01     0    394      394. 경희궁 자이 3단지    정기권  None  ~10대     1   \n",
       "4 2020-02-01     0   1364     1364. 성북동 치안센터 앞    정기권  None  ~10대     1   \n",
       "\n",
       "     운동량   탄소량  이동거리(M)  이용시간(분)  요일_인덱스 요일     년  \n",
       "0  53.86  0.32   1360.0        6       5  토  2020  \n",
       "1  10.04  0.09    390.0        3       5  토  2020  \n",
       "2  75.14  0.64   2750.0       24       5  토  2020  \n",
       "3  28.42  0.18    780.0        3       5  토  2020  \n",
       "4  52.97  0.41   1760.0       11       5  토  2020  "
      ]
     },
     "execution_count": 271,
     "metadata": {},
     "output_type": "execute_result"
    }
   ],
   "source": [
    "df_parquet.head()"
   ]
  },
  {
   "cell_type": "code",
   "execution_count": 272,
   "id": "44b3c0dd-9e6f-4aa3-9a06-d32bd1a200a6",
   "metadata": {
    "id": "44b3c0dd-9e6f-4aa3-9a06-d32bd1a200a6",
    "outputId": "3ee96785-1437-4a9e-8e9a-344626a8629a"
   },
   "outputs": [
    {
     "data": {
      "text/html": [
       "<div>\n",
       "<style scoped>\n",
       "    .dataframe tbody tr th:only-of-type {\n",
       "        vertical-align: middle;\n",
       "    }\n",
       "\n",
       "    .dataframe tbody tr th {\n",
       "        vertical-align: top;\n",
       "    }\n",
       "\n",
       "    .dataframe thead th {\n",
       "        text-align: right;\n",
       "    }\n",
       "</style>\n",
       "<table border=\"1\" class=\"dataframe\">\n",
       "  <thead>\n",
       "    <tr style=\"text-align: right;\">\n",
       "      <th></th>\n",
       "      <th>[컬럼명]</th>\n",
       "      <th>[sum]</th>\n",
       "      <th>[sum_isnull]</th>\n",
       "      <th>[mean_isnull(%)]</th>\n",
       "    </tr>\n",
       "  </thead>\n",
       "  <tbody>\n",
       "    <tr>\n",
       "      <th>0</th>\n",
       "      <td>대여일자</td>\n",
       "      <td>19026024</td>\n",
       "      <td>0</td>\n",
       "      <td>0.000000</td>\n",
       "    </tr>\n",
       "    <tr>\n",
       "      <th>1</th>\n",
       "      <td>대여시간</td>\n",
       "      <td>19026024</td>\n",
       "      <td>0</td>\n",
       "      <td>0.000000</td>\n",
       "    </tr>\n",
       "    <tr>\n",
       "      <th>2</th>\n",
       "      <td>대여소번호</td>\n",
       "      <td>19026024</td>\n",
       "      <td>0</td>\n",
       "      <td>0.000000</td>\n",
       "    </tr>\n",
       "    <tr>\n",
       "      <th>3</th>\n",
       "      <td>대여소명</td>\n",
       "      <td>19026024</td>\n",
       "      <td>0</td>\n",
       "      <td>0.000000</td>\n",
       "    </tr>\n",
       "    <tr>\n",
       "      <th>4</th>\n",
       "      <td>대여구분코드</td>\n",
       "      <td>19026024</td>\n",
       "      <td>0</td>\n",
       "      <td>0.000000</td>\n",
       "    </tr>\n",
       "    <tr>\n",
       "      <th>5</th>\n",
       "      <td>성별</td>\n",
       "      <td>9530047</td>\n",
       "      <td>9495977</td>\n",
       "      <td>49.910465</td>\n",
       "    </tr>\n",
       "    <tr>\n",
       "      <th>6</th>\n",
       "      <td>연령대코드</td>\n",
       "      <td>19026024</td>\n",
       "      <td>0</td>\n",
       "      <td>0.000000</td>\n",
       "    </tr>\n",
       "    <tr>\n",
       "      <th>7</th>\n",
       "      <td>이용건수</td>\n",
       "      <td>19026024</td>\n",
       "      <td>0</td>\n",
       "      <td>0.000000</td>\n",
       "    </tr>\n",
       "    <tr>\n",
       "      <th>8</th>\n",
       "      <td>운동량</td>\n",
       "      <td>18906625</td>\n",
       "      <td>119399</td>\n",
       "      <td>0.627556</td>\n",
       "    </tr>\n",
       "    <tr>\n",
       "      <th>9</th>\n",
       "      <td>탄소량</td>\n",
       "      <td>18906625</td>\n",
       "      <td>119399</td>\n",
       "      <td>0.627556</td>\n",
       "    </tr>\n",
       "    <tr>\n",
       "      <th>10</th>\n",
       "      <td>이동거리(M)</td>\n",
       "      <td>19026024</td>\n",
       "      <td>0</td>\n",
       "      <td>0.000000</td>\n",
       "    </tr>\n",
       "    <tr>\n",
       "      <th>11</th>\n",
       "      <td>이용시간(분)</td>\n",
       "      <td>19026024</td>\n",
       "      <td>0</td>\n",
       "      <td>0.000000</td>\n",
       "    </tr>\n",
       "    <tr>\n",
       "      <th>12</th>\n",
       "      <td>요일_인덱스</td>\n",
       "      <td>19026024</td>\n",
       "      <td>0</td>\n",
       "      <td>0.000000</td>\n",
       "    </tr>\n",
       "    <tr>\n",
       "      <th>13</th>\n",
       "      <td>요일</td>\n",
       "      <td>19026024</td>\n",
       "      <td>0</td>\n",
       "      <td>0.000000</td>\n",
       "    </tr>\n",
       "    <tr>\n",
       "      <th>14</th>\n",
       "      <td>년</td>\n",
       "      <td>19026024</td>\n",
       "      <td>0</td>\n",
       "      <td>0.000000</td>\n",
       "    </tr>\n",
       "  </tbody>\n",
       "</table>\n",
       "</div>"
      ],
      "text/plain": [
       "      [컬럼명]     [sum]  [sum_isnull]  [mean_isnull(%)]\n",
       "0      대여일자  19026024             0          0.000000\n",
       "1      대여시간  19026024             0          0.000000\n",
       "2     대여소번호  19026024             0          0.000000\n",
       "3      대여소명  19026024             0          0.000000\n",
       "4    대여구분코드  19026024             0          0.000000\n",
       "5        성별   9530047       9495977         49.910465\n",
       "6     연령대코드  19026024             0          0.000000\n",
       "7      이용건수  19026024             0          0.000000\n",
       "8       운동량  18906625        119399          0.627556\n",
       "9       탄소량  18906625        119399          0.627556\n",
       "10  이동거리(M)  19026024             0          0.000000\n",
       "11  이용시간(분)  19026024             0          0.000000\n",
       "12   요일_인덱스  19026024             0          0.000000\n",
       "13       요일  19026024             0          0.000000\n",
       "14        년  19026024             0          0.000000"
      ]
     },
     "execution_count": 272,
     "metadata": {},
     "output_type": "execute_result"
    }
   ],
   "source": [
    "ee.ss_isnull(df_parquet)"
   ]
  },
  {
   "cell_type": "markdown",
   "id": "4d8a8587-5922-4fee-b5b6-f5f683a834e8",
   "metadata": {
    "id": "4d8a8587-5922-4fee-b5b6-f5f683a834e8"
   },
   "source": [
    "### 출퇴근시간, 평일 데이터조회"
   ]
  },
  {
   "cell_type": "code",
   "execution_count": 274,
   "id": "2e9f87ef-59ee-4c92-b0d5-1de042dcae2d",
   "metadata": {
    "id": "2e9f87ef-59ee-4c92-b0d5-1de042dcae2d"
   },
   "outputs": [],
   "source": [
    "cond1 = df_parquet['대여시간'].isin([7, 8, 9, 17, 18, 19])\n",
    "cond2 = df_parquet['요일'].isin(['월', '화', '수', '목', '금'])\n",
    "df_parquet = df_parquet[cond1 & cond2]"
   ]
  },
  {
   "cell_type": "code",
   "execution_count": 275,
   "id": "efc225c6-8b74-456d-8b9d-0d1185409f33",
   "metadata": {},
   "outputs": [
    {
     "data": {
      "text/html": [
       "<div>\n",
       "<style scoped>\n",
       "    .dataframe tbody tr th:only-of-type {\n",
       "        vertical-align: middle;\n",
       "    }\n",
       "\n",
       "    .dataframe tbody tr th {\n",
       "        vertical-align: top;\n",
       "    }\n",
       "\n",
       "    .dataframe thead th {\n",
       "        text-align: right;\n",
       "    }\n",
       "</style>\n",
       "<table border=\"1\" class=\"dataframe\">\n",
       "  <thead>\n",
       "    <tr style=\"text-align: right;\">\n",
       "      <th></th>\n",
       "      <th>대여일자</th>\n",
       "      <th>대여시간</th>\n",
       "      <th>대여소번호</th>\n",
       "      <th>대여소명</th>\n",
       "      <th>대여구분코드</th>\n",
       "      <th>성별</th>\n",
       "      <th>연령대코드</th>\n",
       "      <th>이용건수</th>\n",
       "      <th>운동량</th>\n",
       "      <th>탄소량</th>\n",
       "      <th>이동거리(M)</th>\n",
       "      <th>이용시간(분)</th>\n",
       "      <th>요일_인덱스</th>\n",
       "      <th>요일</th>\n",
       "      <th>년</th>\n",
       "    </tr>\n",
       "  </thead>\n",
       "  <tbody>\n",
       "    <tr>\n",
       "      <th>46871</th>\n",
       "      <td>2020-02-03</td>\n",
       "      <td>7</td>\n",
       "      <td>505</td>\n",
       "      <td>505. 자양사거리 광진아크로텔 앞</td>\n",
       "      <td>정기권</td>\n",
       "      <td>None</td>\n",
       "      <td>~10대</td>\n",
       "      <td>1</td>\n",
       "      <td>15.21</td>\n",
       "      <td>0.14</td>\n",
       "      <td>600.0</td>\n",
       "      <td>3</td>\n",
       "      <td>0</td>\n",
       "      <td>월</td>\n",
       "      <td>2020</td>\n",
       "    </tr>\n",
       "    <tr>\n",
       "      <th>46872</th>\n",
       "      <td>2020-02-03</td>\n",
       "      <td>7</td>\n",
       "      <td>2363</td>\n",
       "      <td>2363. 강남 을지병원 교차로</td>\n",
       "      <td>정기권</td>\n",
       "      <td>None</td>\n",
       "      <td>~10대</td>\n",
       "      <td>1</td>\n",
       "      <td>22.20</td>\n",
       "      <td>0.22</td>\n",
       "      <td>950.0</td>\n",
       "      <td>6</td>\n",
       "      <td>0</td>\n",
       "      <td>월</td>\n",
       "      <td>2020</td>\n",
       "    </tr>\n",
       "    <tr>\n",
       "      <th>46873</th>\n",
       "      <td>2020-02-03</td>\n",
       "      <td>7</td>\n",
       "      <td>3511</td>\n",
       "      <td>3511. 응봉역 1번출구</td>\n",
       "      <td>정기권</td>\n",
       "      <td>None</td>\n",
       "      <td>~10대</td>\n",
       "      <td>1</td>\n",
       "      <td>101.49</td>\n",
       "      <td>1.08</td>\n",
       "      <td>4660.0</td>\n",
       "      <td>41</td>\n",
       "      <td>0</td>\n",
       "      <td>월</td>\n",
       "      <td>2020</td>\n",
       "    </tr>\n",
       "    <tr>\n",
       "      <th>46874</th>\n",
       "      <td>2020-02-03</td>\n",
       "      <td>7</td>\n",
       "      <td>1337</td>\n",
       "      <td>1337. 돈암성당 옆</td>\n",
       "      <td>정기권</td>\n",
       "      <td>None</td>\n",
       "      <td>~10대</td>\n",
       "      <td>1</td>\n",
       "      <td>93.80</td>\n",
       "      <td>0.87</td>\n",
       "      <td>3760.0</td>\n",
       "      <td>12</td>\n",
       "      <td>0</td>\n",
       "      <td>월</td>\n",
       "      <td>2020</td>\n",
       "    </tr>\n",
       "    <tr>\n",
       "      <th>46875</th>\n",
       "      <td>2020-02-03</td>\n",
       "      <td>7</td>\n",
       "      <td>1976</td>\n",
       "      <td>1976. 남구로역 5번 출입구 앞</td>\n",
       "      <td>정기권</td>\n",
       "      <td>None</td>\n",
       "      <td>~10대</td>\n",
       "      <td>1</td>\n",
       "      <td>0.00</td>\n",
       "      <td>0.00</td>\n",
       "      <td>0.0</td>\n",
       "      <td>7</td>\n",
       "      <td>0</td>\n",
       "      <td>월</td>\n",
       "      <td>2020</td>\n",
       "    </tr>\n",
       "  </tbody>\n",
       "</table>\n",
       "</div>"
      ],
      "text/plain": [
       "            대여일자  대여시간  대여소번호                 대여소명 대여구분코드    성별 연령대코드  이용건수  \\\n",
       "46871 2020-02-03     7    505  505. 자양사거리 광진아크로텔 앞    정기권  None  ~10대     1   \n",
       "46872 2020-02-03     7   2363    2363. 강남 을지병원 교차로    정기권  None  ~10대     1   \n",
       "46873 2020-02-03     7   3511       3511. 응봉역 1번출구    정기권  None  ~10대     1   \n",
       "46874 2020-02-03     7   1337         1337. 돈암성당 옆    정기권  None  ~10대     1   \n",
       "46875 2020-02-03     7   1976  1976. 남구로역 5번 출입구 앞    정기권  None  ~10대     1   \n",
       "\n",
       "          운동량   탄소량  이동거리(M)  이용시간(분)  요일_인덱스 요일     년  \n",
       "46871   15.21  0.14    600.0        3       0  월  2020  \n",
       "46872   22.20  0.22    950.0        6       0  월  2020  \n",
       "46873  101.49  1.08   4660.0       41       0  월  2020  \n",
       "46874   93.80  0.87   3760.0       12       0  월  2020  \n",
       "46875    0.00  0.00      0.0        7       0  월  2020  "
      ]
     },
     "execution_count": 275,
     "metadata": {},
     "output_type": "execute_result"
    }
   ],
   "source": [
    "df_parquet.head()"
   ]
  },
  {
   "cell_type": "code",
   "execution_count": 276,
   "id": "d90a174e-b57b-4a13-8bf6-d3fe73042b44",
   "metadata": {
    "id": "d90a174e-b57b-4a13-8bf6-d3fe73042b44",
    "outputId": "99844f8c-fd10-4c45-d1e7-4123298a75f3"
   },
   "outputs": [
    {
     "name": "stdout",
     "output_type": "stream",
     "text": [
      "groupby time : 0.11308050155639648\n"
     ]
    },
    {
     "data": {
      "text/html": [
       "<div>\n",
       "<style scoped>\n",
       "    .dataframe tbody tr th:only-of-type {\n",
       "        vertical-align: middle;\n",
       "    }\n",
       "\n",
       "    .dataframe tbody tr th {\n",
       "        vertical-align: top;\n",
       "    }\n",
       "\n",
       "    .dataframe thead th {\n",
       "        text-align: right;\n",
       "    }\n",
       "</style>\n",
       "<table border=\"1\" class=\"dataframe\">\n",
       "  <thead>\n",
       "    <tr style=\"text-align: right;\">\n",
       "      <th></th>\n",
       "      <th>대여소번호</th>\n",
       "      <th>이용건수</th>\n",
       "      <th>이용시간(분)</th>\n",
       "    </tr>\n",
       "  </thead>\n",
       "  <tbody>\n",
       "    <tr>\n",
       "      <th>0</th>\n",
       "      <td>3</td>\n",
       "      <td>71</td>\n",
       "      <td>1915</td>\n",
       "    </tr>\n",
       "    <tr>\n",
       "      <th>1</th>\n",
       "      <td>5</td>\n",
       "      <td>23</td>\n",
       "      <td>554</td>\n",
       "    </tr>\n",
       "    <tr>\n",
       "      <th>2</th>\n",
       "      <td>10</td>\n",
       "      <td>203</td>\n",
       "      <td>4366</td>\n",
       "    </tr>\n",
       "    <tr>\n",
       "      <th>3</th>\n",
       "      <td>101</td>\n",
       "      <td>2715</td>\n",
       "      <td>75785</td>\n",
       "    </tr>\n",
       "    <tr>\n",
       "      <th>4</th>\n",
       "      <td>102</td>\n",
       "      <td>8741</td>\n",
       "      <td>267003</td>\n",
       "    </tr>\n",
       "  </tbody>\n",
       "</table>\n",
       "</div>"
      ],
      "text/plain": [
       "   대여소번호  이용건수  이용시간(분)\n",
       "0      3    71     1915\n",
       "1      5    23      554\n",
       "2     10   203     4366\n",
       "3    101  2715    75785\n",
       "4    102  8741   267003"
      ]
     },
     "execution_count": 276,
     "metadata": {},
     "output_type": "execute_result"
    }
   ],
   "source": [
    "start_time = time.time()\n",
    "df_parquet = df_parquet.groupby('대여소번호')[['이용건수', '이용시간(분)']].sum().reset_index()\n",
    "print(\"groupby time :\", time.time() - start_time)\n",
    "df_parquet.head()"
   ]
  },
  {
   "cell_type": "code",
   "execution_count": 277,
   "id": "f9d63d61-47e7-4428-abe8-531f366f92b7",
   "metadata": {
    "id": "f9d63d61-47e7-4428-abe8-531f366f92b7"
   },
   "outputs": [],
   "source": [
    "df_parquet = df_parquet.astype({'대여소번호':'str'})"
   ]
  },
  {
   "cell_type": "code",
   "execution_count": 278,
   "id": "419cbb12-b561-4ae3-a3f3-ad98e8062878",
   "metadata": {
    "id": "419cbb12-b561-4ae3-a3f3-ad98e8062878",
    "outputId": "fb45982d-86c6-4e81-f5e3-1578b60d8766"
   },
   "outputs": [
    {
     "name": "stdout",
     "output_type": "stream",
     "text": [
      "<class 'pandas.core.frame.DataFrame'>\n",
      "RangeIndex: 2181 entries, 0 to 2180\n",
      "Data columns (total 3 columns):\n",
      " #   Column   Non-Null Count  Dtype \n",
      "---  ------   --------------  ----- \n",
      " 0   대여소번호    2181 non-null   object\n",
      " 1   이용건수     2181 non-null   int64 \n",
      " 2   이용시간(분)  2181 non-null   int64 \n",
      "dtypes: int64(2), object(1)\n",
      "memory usage: 51.2+ KB\n",
      "None\n"
     ]
    }
   ],
   "source": [
    "print(df_parquet.info())"
   ]
  },
  {
   "cell_type": "code",
   "execution_count": 279,
   "id": "4c9b8c40-4869-4193-a9cf-6ff72e2688b7",
   "metadata": {
    "id": "4c9b8c40-4869-4193-a9cf-6ff72e2688b7"
   },
   "outputs": [],
   "source": [
    "df_parquet['대여소번호']  = df_parquet['대여소번호'].str.zfill(width=5)"
   ]
  },
  {
   "cell_type": "code",
   "execution_count": 280,
   "id": "e5cb864c-1431-4cd6-8445-0dd00b8abc8f",
   "metadata": {
    "id": "e5cb864c-1431-4cd6-8445-0dd00b8abc8f",
    "outputId": "d714cc11-4a6e-4f80-c81b-18f9526f3ba2"
   },
   "outputs": [
    {
     "data": {
      "text/html": [
       "<div>\n",
       "<style scoped>\n",
       "    .dataframe tbody tr th:only-of-type {\n",
       "        vertical-align: middle;\n",
       "    }\n",
       "\n",
       "    .dataframe tbody tr th {\n",
       "        vertical-align: top;\n",
       "    }\n",
       "\n",
       "    .dataframe thead th {\n",
       "        text-align: right;\n",
       "    }\n",
       "</style>\n",
       "<table border=\"1\" class=\"dataframe\">\n",
       "  <thead>\n",
       "    <tr style=\"text-align: right;\">\n",
       "      <th></th>\n",
       "      <th>대여소번호</th>\n",
       "      <th>이용건수</th>\n",
       "      <th>이용시간(분)</th>\n",
       "    </tr>\n",
       "  </thead>\n",
       "  <tbody>\n",
       "    <tr>\n",
       "      <th>0</th>\n",
       "      <td>00003</td>\n",
       "      <td>71</td>\n",
       "      <td>1915</td>\n",
       "    </tr>\n",
       "  </tbody>\n",
       "</table>\n",
       "</div>"
      ],
      "text/plain": [
       "   대여소번호  이용건수  이용시간(분)\n",
       "0  00003    71     1915"
      ]
     },
     "execution_count": 280,
     "metadata": {},
     "output_type": "execute_result"
    }
   ],
   "source": [
    "df_parquet.head(1)"
   ]
  },
  {
   "cell_type": "code",
   "execution_count": 281,
   "id": "31cf4101-8e6a-47a8-a3a2-c9cbe9cad1e8",
   "metadata": {
    "id": "31cf4101-8e6a-47a8-a3a2-c9cbe9cad1e8",
    "outputId": "5383ac47-242a-4d8a-89e6-c30d56d310fd"
   },
   "outputs": [
    {
     "data": {
      "text/plain": [
       "(2181, 3)"
      ]
     },
     "execution_count": 281,
     "metadata": {},
     "output_type": "execute_result"
    }
   ],
   "source": [
    "df_parquet.shape"
   ]
  },
  {
   "cell_type": "markdown",
   "id": "76c0936a-6183-46f9-99c5-ca0dd8a4ad15",
   "metadata": {
    "id": "76c0936a-6183-46f9-99c5-ca0dd8a4ad15"
   },
   "source": [
    "---\n",
    "## 대여소 정보"
   ]
  },
  {
   "cell_type": "code",
   "execution_count": 283,
   "id": "3f574b43-cf0e-40c7-81b9-9dbc937a0532",
   "metadata": {
    "id": "3f574b43-cf0e-40c7-81b9-9dbc937a0532",
    "outputId": "ecaf46cc-f885-4a11-899d-ae700beb8fe7"
   },
   "outputs": [
    {
     "name": "stdout",
     "output_type": "stream",
     "text": [
      "read_parquet time : 0.015882492065429688\n"
     ]
    }
   ],
   "source": [
    "filepath = 'G:\\\\내 드라이브\\\\DataSet\\\\_파킷 파일\\\\서울시 공공자전거 대여소 정보\\\\'\n",
    "filename = '공공자전거 대여소 정보_통합본.parquet'\n",
    "start_time = time.time()\n",
    "df_bikerental = pd.read_parquet(filepath + filename)\n",
    "print(\"read_parquet time :\", time.time() - start_time)"
   ]
  },
  {
   "cell_type": "code",
   "execution_count": 284,
   "id": "5d1eb90b-6e7c-4c2a-84fb-48d8dbffd1d2",
   "metadata": {
    "id": "5d1eb90b-6e7c-4c2a-84fb-48d8dbffd1d2",
    "outputId": "4e907b10-a10b-4992-bb91-6d9ad5cbbaf8"
   },
   "outputs": [
    {
     "data": {
      "text/html": [
       "<div>\n",
       "<style scoped>\n",
       "    .dataframe tbody tr th:only-of-type {\n",
       "        vertical-align: middle;\n",
       "    }\n",
       "\n",
       "    .dataframe tbody tr th {\n",
       "        vertical-align: top;\n",
       "    }\n",
       "\n",
       "    .dataframe thead th {\n",
       "        text-align: right;\n",
       "    }\n",
       "</style>\n",
       "<table border=\"1\" class=\"dataframe\">\n",
       "  <thead>\n",
       "    <tr style=\"text-align: right;\">\n",
       "      <th></th>\n",
       "      <th>대여소번호</th>\n",
       "      <th>대여소명</th>\n",
       "      <th>자치구</th>\n",
       "    </tr>\n",
       "  </thead>\n",
       "  <tbody>\n",
       "    <tr>\n",
       "      <th>20852</th>\n",
       "      <td>06173</td>\n",
       "      <td>서울자동차운전전문학원</td>\n",
       "      <td>강서구</td>\n",
       "    </tr>\n",
       "    <tr>\n",
       "      <th>19007</th>\n",
       "      <td>02902</td>\n",
       "      <td>공릉풍림아파트 108동</td>\n",
       "      <td>노원구</td>\n",
       "    </tr>\n",
       "    <tr>\n",
       "      <th>19015</th>\n",
       "      <td>02912</td>\n",
       "      <td>대진고등학교</td>\n",
       "      <td>노원구</td>\n",
       "    </tr>\n",
       "    <tr>\n",
       "      <th>19014</th>\n",
       "      <td>02911</td>\n",
       "      <td>상계역중앙시장</td>\n",
       "      <td>노원구</td>\n",
       "    </tr>\n",
       "    <tr>\n",
       "      <th>19013</th>\n",
       "      <td>02910</td>\n",
       "      <td>도깨비시장</td>\n",
       "      <td>노원구</td>\n",
       "    </tr>\n",
       "  </tbody>\n",
       "</table>\n",
       "</div>"
      ],
      "text/plain": [
       "       대여소번호          대여소명  자치구\n",
       "20852  06173   서울자동차운전전문학원  강서구\n",
       "19007  02902  공릉풍림아파트 108동  노원구\n",
       "19015  02912        대진고등학교  노원구\n",
       "19014  02911       상계역중앙시장  노원구\n",
       "19013  02910         도깨비시장  노원구"
      ]
     },
     "execution_count": 284,
     "metadata": {},
     "output_type": "execute_result"
    }
   ],
   "source": [
    "df_bikerental = df_bikerental[['대여소번호', '대여소명', '자치구']]\n",
    "df_bikerental.head()"
   ]
  },
  {
   "cell_type": "code",
   "execution_count": 285,
   "id": "64c2f2fe-4654-4cb0-bbf9-565682fd52a7",
   "metadata": {
    "id": "64c2f2fe-4654-4cb0-bbf9-565682fd52a7"
   },
   "outputs": [],
   "source": [
    "df_parquet_2 = pd.merge(df_parquet, df_bikerental, on = '대여소번호', how = 'left')"
   ]
  },
  {
   "cell_type": "code",
   "execution_count": 286,
   "id": "56561729-fdd2-4b29-84b9-3541966e5ad4",
   "metadata": {
    "id": "56561729-fdd2-4b29-84b9-3541966e5ad4",
    "outputId": "31af9f4b-f888-4154-ac96-ee1a97207e8f"
   },
   "outputs": [
    {
     "data": {
      "text/html": [
       "<div>\n",
       "<style scoped>\n",
       "    .dataframe tbody tr th:only-of-type {\n",
       "        vertical-align: middle;\n",
       "    }\n",
       "\n",
       "    .dataframe tbody tr th {\n",
       "        vertical-align: top;\n",
       "    }\n",
       "\n",
       "    .dataframe thead th {\n",
       "        text-align: right;\n",
       "    }\n",
       "</style>\n",
       "<table border=\"1\" class=\"dataframe\">\n",
       "  <thead>\n",
       "    <tr style=\"text-align: right;\">\n",
       "      <th></th>\n",
       "      <th>대여소번호</th>\n",
       "      <th>이용건수</th>\n",
       "      <th>이용시간(분)</th>\n",
       "      <th>대여소명</th>\n",
       "      <th>자치구</th>\n",
       "    </tr>\n",
       "  </thead>\n",
       "  <tbody>\n",
       "    <tr>\n",
       "      <th>0</th>\n",
       "      <td>00003</td>\n",
       "      <td>71</td>\n",
       "      <td>1915</td>\n",
       "      <td>NaN</td>\n",
       "      <td>NaN</td>\n",
       "    </tr>\n",
       "    <tr>\n",
       "      <th>1</th>\n",
       "      <td>00005</td>\n",
       "      <td>23</td>\n",
       "      <td>554</td>\n",
       "      <td>NaN</td>\n",
       "      <td>NaN</td>\n",
       "    </tr>\n",
       "    <tr>\n",
       "      <th>2</th>\n",
       "      <td>00010</td>\n",
       "      <td>203</td>\n",
       "      <td>4366</td>\n",
       "      <td>NaN</td>\n",
       "      <td>NaN</td>\n",
       "    </tr>\n",
       "    <tr>\n",
       "      <th>3</th>\n",
       "      <td>00101</td>\n",
       "      <td>2715</td>\n",
       "      <td>75785</td>\n",
       "      <td>(구)합정동 주민센터</td>\n",
       "      <td>마포구</td>\n",
       "    </tr>\n",
       "    <tr>\n",
       "      <th>4</th>\n",
       "      <td>00102</td>\n",
       "      <td>8741</td>\n",
       "      <td>267003</td>\n",
       "      <td>망원역 1번출구 앞</td>\n",
       "      <td>마포구</td>\n",
       "    </tr>\n",
       "  </tbody>\n",
       "</table>\n",
       "</div>"
      ],
      "text/plain": [
       "   대여소번호  이용건수  이용시간(분)         대여소명  자치구\n",
       "0  00003    71     1915          NaN  NaN\n",
       "1  00005    23      554          NaN  NaN\n",
       "2  00010   203     4366          NaN  NaN\n",
       "3  00101  2715    75785  (구)합정동 주민센터  마포구\n",
       "4  00102  8741   267003   망원역 1번출구 앞  마포구"
      ]
     },
     "execution_count": 286,
     "metadata": {},
     "output_type": "execute_result"
    }
   ],
   "source": [
    "df_parquet_2.head()"
   ]
  },
  {
   "cell_type": "code",
   "execution_count": 287,
   "id": "95460cc8-4d7e-4e8c-ab33-68d4e88a85d9",
   "metadata": {
    "id": "95460cc8-4d7e-4e8c-ab33-68d4e88a85d9",
    "outputId": "a5fb02b7-0c26-4588-f592-5604a13dee9d"
   },
   "outputs": [
    {
     "data": {
      "text/html": [
       "<div>\n",
       "<style scoped>\n",
       "    .dataframe tbody tr th:only-of-type {\n",
       "        vertical-align: middle;\n",
       "    }\n",
       "\n",
       "    .dataframe tbody tr th {\n",
       "        vertical-align: top;\n",
       "    }\n",
       "\n",
       "    .dataframe thead th {\n",
       "        text-align: right;\n",
       "    }\n",
       "</style>\n",
       "<table border=\"1\" class=\"dataframe\">\n",
       "  <thead>\n",
       "    <tr style=\"text-align: right;\">\n",
       "      <th></th>\n",
       "      <th>[컬럼명]</th>\n",
       "      <th>[sum]</th>\n",
       "      <th>[sum_isnull]</th>\n",
       "      <th>[mean_isnull(%)]</th>\n",
       "    </tr>\n",
       "  </thead>\n",
       "  <tbody>\n",
       "    <tr>\n",
       "      <th>0</th>\n",
       "      <td>대여소번호</td>\n",
       "      <td>2181</td>\n",
       "      <td>0</td>\n",
       "      <td>0.000000</td>\n",
       "    </tr>\n",
       "    <tr>\n",
       "      <th>1</th>\n",
       "      <td>이용건수</td>\n",
       "      <td>2181</td>\n",
       "      <td>0</td>\n",
       "      <td>0.000000</td>\n",
       "    </tr>\n",
       "    <tr>\n",
       "      <th>2</th>\n",
       "      <td>이용시간(분)</td>\n",
       "      <td>2181</td>\n",
       "      <td>0</td>\n",
       "      <td>0.000000</td>\n",
       "    </tr>\n",
       "    <tr>\n",
       "      <th>3</th>\n",
       "      <td>대여소명</td>\n",
       "      <td>2134</td>\n",
       "      <td>47</td>\n",
       "      <td>2.154975</td>\n",
       "    </tr>\n",
       "    <tr>\n",
       "      <th>4</th>\n",
       "      <td>자치구</td>\n",
       "      <td>2134</td>\n",
       "      <td>47</td>\n",
       "      <td>2.154975</td>\n",
       "    </tr>\n",
       "  </tbody>\n",
       "</table>\n",
       "</div>"
      ],
      "text/plain": [
       "     [컬럼명]  [sum]  [sum_isnull]  [mean_isnull(%)]\n",
       "0    대여소번호   2181             0          0.000000\n",
       "1     이용건수   2181             0          0.000000\n",
       "2  이용시간(분)   2181             0          0.000000\n",
       "3     대여소명   2134            47          2.154975\n",
       "4      자치구   2134            47          2.154975"
      ]
     },
     "execution_count": 287,
     "metadata": {},
     "output_type": "execute_result"
    }
   ],
   "source": [
    "ee.ss_isnull(df_parquet_2)"
   ]
  },
  {
   "cell_type": "code",
   "execution_count": 288,
   "id": "13f8b690-47db-42fa-96b7-a5683d3465e3",
   "metadata": {},
   "outputs": [
    {
     "data": {
      "text/plain": [
       "2181"
      ]
     },
     "execution_count": 288,
     "metadata": {},
     "output_type": "execute_result"
    }
   ],
   "source": [
    "df_parquet_2.shape[0]"
   ]
  },
  {
   "cell_type": "code",
   "execution_count": 289,
   "id": "4dedf0e6-ecce-4f0f-bbdb-db00aa37631b",
   "metadata": {
    "id": "4dedf0e6-ecce-4f0f-bbdb-db00aa37631b",
    "outputId": "10100ea7-044a-4a80-b325-ae70f40a4336"
   },
   "outputs": [],
   "source": [
    "df_parquet_2 = df_parquet_2.groupby('자치구')[['이용건수', '이용시간(분)']].sum().reset_index()\n",
    "df_parquet_2 = df_parquet_2.sort_values(by = '이용건수', ascending = False).head(10)"
   ]
  },
  {
   "cell_type": "code",
   "execution_count": 290,
   "id": "421169b9-b150-48cd-b1b7-b313fb13ffdc",
   "metadata": {},
   "outputs": [
    {
     "data": {
      "text/html": [
       "<div>\n",
       "<style scoped>\n",
       "    .dataframe tbody tr th:only-of-type {\n",
       "        vertical-align: middle;\n",
       "    }\n",
       "\n",
       "    .dataframe tbody tr th {\n",
       "        vertical-align: top;\n",
       "    }\n",
       "\n",
       "    .dataframe thead th {\n",
       "        text-align: right;\n",
       "    }\n",
       "</style>\n",
       "<table border=\"1\" class=\"dataframe\">\n",
       "  <thead>\n",
       "    <tr style=\"text-align: right;\">\n",
       "      <th></th>\n",
       "      <th>자치구</th>\n",
       "      <th>이용건수</th>\n",
       "      <th>이용시간(분)</th>\n",
       "    </tr>\n",
       "  </thead>\n",
       "  <tbody>\n",
       "    <tr>\n",
       "      <th>3</th>\n",
       "      <td>강서구</td>\n",
       "      <td>627866</td>\n",
       "      <td>12661005</td>\n",
       "    </tr>\n",
       "    <tr>\n",
       "      <th>19</th>\n",
       "      <td>영등포구</td>\n",
       "      <td>617547</td>\n",
       "      <td>16808696</td>\n",
       "    </tr>\n",
       "    <tr>\n",
       "      <th>17</th>\n",
       "      <td>송파구</td>\n",
       "      <td>489445</td>\n",
       "      <td>12728363</td>\n",
       "    </tr>\n",
       "    <tr>\n",
       "      <th>12</th>\n",
       "      <td>마포구</td>\n",
       "      <td>413285</td>\n",
       "      <td>12541705</td>\n",
       "    </tr>\n",
       "    <tr>\n",
       "      <th>5</th>\n",
       "      <td>광진구</td>\n",
       "      <td>321366</td>\n",
       "      <td>7932423</td>\n",
       "    </tr>\n",
       "    <tr>\n",
       "      <th>18</th>\n",
       "      <td>양천구</td>\n",
       "      <td>312538</td>\n",
       "      <td>7474937</td>\n",
       "    </tr>\n",
       "    <tr>\n",
       "      <th>8</th>\n",
       "      <td>노원구</td>\n",
       "      <td>309618</td>\n",
       "      <td>7817423</td>\n",
       "    </tr>\n",
       "    <tr>\n",
       "      <th>6</th>\n",
       "      <td>구로구</td>\n",
       "      <td>307510</td>\n",
       "      <td>7828484</td>\n",
       "    </tr>\n",
       "    <tr>\n",
       "      <th>15</th>\n",
       "      <td>성동구</td>\n",
       "      <td>306670</td>\n",
       "      <td>8689066</td>\n",
       "    </tr>\n",
       "    <tr>\n",
       "      <th>14</th>\n",
       "      <td>서초구</td>\n",
       "      <td>285831</td>\n",
       "      <td>8717706</td>\n",
       "    </tr>\n",
       "  </tbody>\n",
       "</table>\n",
       "</div>"
      ],
      "text/plain": [
       "     자치구    이용건수   이용시간(분)\n",
       "3    강서구  627866  12661005\n",
       "19  영등포구  617547  16808696\n",
       "17   송파구  489445  12728363\n",
       "12   마포구  413285  12541705\n",
       "5    광진구  321366   7932423\n",
       "18   양천구  312538   7474937\n",
       "8    노원구  309618   7817423\n",
       "6    구로구  307510   7828484\n",
       "15   성동구  306670   8689066\n",
       "14   서초구  285831   8717706"
      ]
     },
     "execution_count": 290,
     "metadata": {},
     "output_type": "execute_result"
    }
   ],
   "source": [
    "df_parquet_2"
   ]
  },
  {
   "cell_type": "code",
   "execution_count": 291,
   "id": "aa0c7710-1217-4ba5-bc51-88057b7fcb38",
   "metadata": {},
   "outputs": [],
   "source": [
    "df_parquet_2['년도'] = _year"
   ]
  },
  {
   "cell_type": "code",
   "execution_count": 292,
   "id": "b885f091-9f2d-4a45-aaa5-4294ebd60758",
   "metadata": {},
   "outputs": [
    {
     "data": {
      "text/html": [
       "<div>\n",
       "<style scoped>\n",
       "    .dataframe tbody tr th:only-of-type {\n",
       "        vertical-align: middle;\n",
       "    }\n",
       "\n",
       "    .dataframe tbody tr th {\n",
       "        vertical-align: top;\n",
       "    }\n",
       "\n",
       "    .dataframe thead th {\n",
       "        text-align: right;\n",
       "    }\n",
       "</style>\n",
       "<table border=\"1\" class=\"dataframe\">\n",
       "  <thead>\n",
       "    <tr style=\"text-align: right;\">\n",
       "      <th></th>\n",
       "      <th>자치구</th>\n",
       "      <th>이용건수</th>\n",
       "      <th>이용시간(분)</th>\n",
       "      <th>년도</th>\n",
       "    </tr>\n",
       "  </thead>\n",
       "  <tbody>\n",
       "    <tr>\n",
       "      <th>3</th>\n",
       "      <td>강서구</td>\n",
       "      <td>627866</td>\n",
       "      <td>12661005</td>\n",
       "      <td>2020</td>\n",
       "    </tr>\n",
       "    <tr>\n",
       "      <th>19</th>\n",
       "      <td>영등포구</td>\n",
       "      <td>617547</td>\n",
       "      <td>16808696</td>\n",
       "      <td>2020</td>\n",
       "    </tr>\n",
       "    <tr>\n",
       "      <th>17</th>\n",
       "      <td>송파구</td>\n",
       "      <td>489445</td>\n",
       "      <td>12728363</td>\n",
       "      <td>2020</td>\n",
       "    </tr>\n",
       "    <tr>\n",
       "      <th>12</th>\n",
       "      <td>마포구</td>\n",
       "      <td>413285</td>\n",
       "      <td>12541705</td>\n",
       "      <td>2020</td>\n",
       "    </tr>\n",
       "    <tr>\n",
       "      <th>5</th>\n",
       "      <td>광진구</td>\n",
       "      <td>321366</td>\n",
       "      <td>7932423</td>\n",
       "      <td>2020</td>\n",
       "    </tr>\n",
       "    <tr>\n",
       "      <th>18</th>\n",
       "      <td>양천구</td>\n",
       "      <td>312538</td>\n",
       "      <td>7474937</td>\n",
       "      <td>2020</td>\n",
       "    </tr>\n",
       "    <tr>\n",
       "      <th>8</th>\n",
       "      <td>노원구</td>\n",
       "      <td>309618</td>\n",
       "      <td>7817423</td>\n",
       "      <td>2020</td>\n",
       "    </tr>\n",
       "    <tr>\n",
       "      <th>6</th>\n",
       "      <td>구로구</td>\n",
       "      <td>307510</td>\n",
       "      <td>7828484</td>\n",
       "      <td>2020</td>\n",
       "    </tr>\n",
       "    <tr>\n",
       "      <th>15</th>\n",
       "      <td>성동구</td>\n",
       "      <td>306670</td>\n",
       "      <td>8689066</td>\n",
       "      <td>2020</td>\n",
       "    </tr>\n",
       "    <tr>\n",
       "      <th>14</th>\n",
       "      <td>서초구</td>\n",
       "      <td>285831</td>\n",
       "      <td>8717706</td>\n",
       "      <td>2020</td>\n",
       "    </tr>\n",
       "  </tbody>\n",
       "</table>\n",
       "</div>"
      ],
      "text/plain": [
       "     자치구    이용건수   이용시간(분)    년도\n",
       "3    강서구  627866  12661005  2020\n",
       "19  영등포구  617547  16808696  2020\n",
       "17   송파구  489445  12728363  2020\n",
       "12   마포구  413285  12541705  2020\n",
       "5    광진구  321366   7932423  2020\n",
       "18   양천구  312538   7474937  2020\n",
       "8    노원구  309618   7817423  2020\n",
       "6    구로구  307510   7828484  2020\n",
       "15   성동구  306670   8689066  2020\n",
       "14   서초구  285831   8717706  2020"
      ]
     },
     "execution_count": 292,
     "metadata": {},
     "output_type": "execute_result"
    }
   ],
   "source": [
    "df_parquet_2"
   ]
  },
  {
   "cell_type": "code",
   "execution_count": 293,
   "id": "97df37a5-eeaf-4063-89a7-1ce40ad0db0d",
   "metadata": {},
   "outputs": [],
   "source": [
    "#df_parquet_3 = df_parquet_2"
   ]
  },
  {
   "cell_type": "code",
   "execution_count": 294,
   "id": "12e17312-c7cf-4578-932d-111504889826",
   "metadata": {
    "id": "12e17312-c7cf-4578-932d-111504889826"
   },
   "outputs": [],
   "source": [
    "df_parquet_3 = pd.concat([df_parquet_3, df_parquet_2], axis=0, ignore_index=True)"
   ]
  },
  {
   "cell_type": "code",
   "execution_count": 356,
   "id": "b56aefef-309f-4954-a859-f0bc4450345e",
   "metadata": {},
   "outputs": [
    {
     "data": {
      "text/html": [
       "<div>\n",
       "<style scoped>\n",
       "    .dataframe tbody tr th:only-of-type {\n",
       "        vertical-align: middle;\n",
       "    }\n",
       "\n",
       "    .dataframe tbody tr th {\n",
       "        vertical-align: top;\n",
       "    }\n",
       "\n",
       "    .dataframe thead th {\n",
       "        text-align: right;\n",
       "    }\n",
       "</style>\n",
       "<table border=\"1\" class=\"dataframe\">\n",
       "  <thead>\n",
       "    <tr style=\"text-align: right;\">\n",
       "      <th></th>\n",
       "      <th>년도</th>\n",
       "      <th>자치구</th>\n",
       "      <th>이용건수</th>\n",
       "      <th>이용시간(분)</th>\n",
       "    </tr>\n",
       "  </thead>\n",
       "  <tbody>\n",
       "    <tr>\n",
       "      <th>40</th>\n",
       "      <td>2020</td>\n",
       "      <td>강서구</td>\n",
       "      <td>627866.0</td>\n",
       "      <td>12661005.0</td>\n",
       "    </tr>\n",
       "    <tr>\n",
       "      <th>42</th>\n",
       "      <td>2020</td>\n",
       "      <td>송파구</td>\n",
       "      <td>489445.0</td>\n",
       "      <td>12728363.0</td>\n",
       "    </tr>\n",
       "    <tr>\n",
       "      <th>30</th>\n",
       "      <td>2021</td>\n",
       "      <td>강서구</td>\n",
       "      <td>1041028.0</td>\n",
       "      <td>16487119.0</td>\n",
       "    </tr>\n",
       "    <tr>\n",
       "      <th>32</th>\n",
       "      <td>2021</td>\n",
       "      <td>송파구</td>\n",
       "      <td>749244.0</td>\n",
       "      <td>16281886.0</td>\n",
       "    </tr>\n",
       "    <tr>\n",
       "      <th>0</th>\n",
       "      <td>2022</td>\n",
       "      <td>강서구</td>\n",
       "      <td>1723621.0</td>\n",
       "      <td>23820917.0</td>\n",
       "    </tr>\n",
       "    <tr>\n",
       "      <th>1</th>\n",
       "      <td>2022</td>\n",
       "      <td>송파구</td>\n",
       "      <td>1240462.0</td>\n",
       "      <td>23855260.0</td>\n",
       "    </tr>\n",
       "    <tr>\n",
       "      <th>10</th>\n",
       "      <td>2023</td>\n",
       "      <td>강서구</td>\n",
       "      <td>2030444.0</td>\n",
       "      <td>26523310.0</td>\n",
       "    </tr>\n",
       "    <tr>\n",
       "      <th>12</th>\n",
       "      <td>2023</td>\n",
       "      <td>송파구</td>\n",
       "      <td>1344330.0</td>\n",
       "      <td>25212380.0</td>\n",
       "    </tr>\n",
       "    <tr>\n",
       "      <th>20</th>\n",
       "      <td>2024</td>\n",
       "      <td>강서구</td>\n",
       "      <td>992337.0</td>\n",
       "      <td>12913837.0</td>\n",
       "    </tr>\n",
       "    <tr>\n",
       "      <th>22</th>\n",
       "      <td>2024</td>\n",
       "      <td>송파구</td>\n",
       "      <td>665997.0</td>\n",
       "      <td>12595976.0</td>\n",
       "    </tr>\n",
       "  </tbody>\n",
       "</table>\n",
       "</div>"
      ],
      "text/plain": [
       "      년도  자치구       이용건수     이용시간(분)\n",
       "40  2020  강서구   627866.0  12661005.0\n",
       "42  2020  송파구   489445.0  12728363.0\n",
       "30  2021  강서구  1041028.0  16487119.0\n",
       "32  2021  송파구   749244.0  16281886.0\n",
       "0   2022  강서구  1723621.0  23820917.0\n",
       "1   2022  송파구  1240462.0  23855260.0\n",
       "10  2023  강서구  2030444.0  26523310.0\n",
       "12  2023  송파구  1344330.0  25212380.0\n",
       "20  2024  강서구   992337.0  12913837.0\n",
       "22  2024  송파구   665997.0  12595976.0"
      ]
     },
     "execution_count": 356,
     "metadata": {},
     "output_type": "execute_result"
    }
   ],
   "source": [
    "cond1 = df_parquet_3['자치구'].isin(['강서구', '송파구'])\n",
    "df_parquet_3[cond1][['년도', '자치구', '이용건수', '이용시간(분)']].sort_values(by=['년도', '이용건수'], ascending = [True, False])"
   ]
  },
  {
   "cell_type": "code",
   "execution_count": 296,
   "id": "3f0ba35d-949f-482c-8f1f-2f5c4c613c10",
   "metadata": {},
   "outputs": [],
   "source": [
    "del df_parquet\n",
    "del df_parquet_2"
   ]
  },
  {
   "cell_type": "markdown",
   "id": "72293139-6a84-4083-b580-7aceaeb8c2b5",
   "metadata": {},
   "source": [
    "---\n",
    "### 년도별 top10 비교"
   ]
  },
  {
   "cell_type": "code",
   "execution_count": 338,
   "id": "d51d8e20-19a5-4244-9c01-627104528478",
   "metadata": {},
   "outputs": [],
   "source": [
    "# 패키지 임포트\n",
    "import numpy as np                  # Numpy(넘파이) 패키지 임포트\n",
    "import pandas as pd                 # pandas(판다스) 패키지 임포트\n",
    "import matplotlib.pyplot as plt     # Matplotlib(맷플롯립) 패키지의 pyplot모듈을 plt로 임포트\n",
    "from matplotlib import rcParams     # 한글 환경 설정을 위한 rcParams 임포트\n",
    "import seaborn as sns               # seaborn(씨본) 패키지 임포트\n",
    "import warnings\n",
    "\n",
    "# 한글 환경 설정\n",
    "def setting_styles_basic():\n",
    "  rcParams['font.family'] = 'Malgun Gothic'     # Window\n",
    "  #rcParams['font.family'] = 'NanumBarunGothic'    # Window\n",
    "  # rcParams['font.family'] = 'AppleGothic'       # Max\n",
    "\n",
    "  rcParams['axes.unicode_minus'] = False\n",
    "\n",
    "setting_styles_basic()\n",
    "\n",
    "# 경고창 무시\n",
    "warnings.filterwarnings('ignore')\n",
    "\n",
    "# 그래프의 스케일(scale)조정\n",
    "sns.set_context('paper', # notebook, talk, poster\n",
    "                rc = {\n",
    "                    'font.size' : 10,\n",
    "                    'xtick.labelsize' : 10,\n",
    "                    'ytick.labelsize' : 10,\n",
    "                    'axes.labelsize' : 10\n",
    "                })"
   ]
  },
  {
   "cell_type": "code",
   "execution_count": 336,
   "id": "6c8949c0-e851-4cb2-9f13-cde2cea02ef7",
   "metadata": {},
   "outputs": [
    {
     "data": {
      "image/png": "[encoded data removed]",
      "text/plain": [
       "<Figure size 1200x1000 with 2 Axes>"
      ]
     },
     "metadata": {},
     "output_type": "display_data"
    }
   ],
   "source": [
    "# 데이터 준비 (이미 df_parquet이 로드되어 있다고 가정)\n",
    "\n",
    "# 년도별로 상위 10개 자치구 선택\n",
    "top_10_by_year = df_parquet_3.groupby(['년도', '자치구'])['이용건수'].sum().reset_index()\n",
    "top_10_by_year = top_10_by_year.sort_values(['년도', '이용건수'], ascending=[True, False])\n",
    "top_10_by_year = top_10_by_year.groupby('년도').head(10)\n",
    "\n",
    "# 순위 계산\n",
    "top_10_by_year['순위'] = top_10_by_year.groupby('년도')['이용건수'].rank(ascending=False, method='min')\n",
    "\n",
    "# 피벗 테이블 생성\n",
    "pivot_data = top_10_by_year.pivot(index='자치구', columns='년도', values='순위')\n",
    "\n",
    "# 결측값을 11로 채우기 (10위 밖의 순위)\n",
    "pivot_data = pivot_data.fillna(11)\n",
    "\n",
    "# 히트맵 그리기\n",
    "plt.figure(figsize=(12, 10))\n",
    "sns.heatmap(pivot_data, annot=True, cmap='YlOrRd_r', fmt='.0f')\n",
    "\n",
    "plt.title('연도별 자치구 자전거 이용량 상위 10개 순위 변화', fontsize=16)\n",
    "plt.xlabel('년도', fontsize=12)\n",
    "plt.ylabel('자치구', fontsize=12)\n",
    "\n",
    "# 컬러바 레이블 설정\n",
    "cbar = plt.gcf().axes[-1]\n",
    "cbar.set_ylabel('순위', fontsize=12)\n",
    "\n",
    "plt.tight_layout()\n",
    "plt.show()"
   ]
  },
  {
   "cell_type": "code",
   "execution_count": 342,
   "id": "2587b2e1-72d1-411a-874f-1b59ce90a35f",
   "metadata": {},
   "outputs": [
    {
     "data": {
      "image/png": "[encoded data removed]",
      "text/plain": [
       "<Figure size 1200x800 with 1 Axes>"
      ]
     },
     "metadata": {},
     "output_type": "display_data"
    }
   ],
   "source": [
    "# 데이터 준비 (df_parquet가 이미 로드되어 있다고 가정)\n",
    "\n",
    "# 년도별로 상위 10개 자치구 선택\n",
    "top_10_by_year = df_parquet_3.groupby(['년도', '자치구'])['이용시간(분)'].sum().reset_index()\n",
    "top_10_by_year = top_10_by_year.sort_values(['년도', '이용시간(분)'], ascending=[True, False])\n",
    "top_10_by_year = top_10_by_year.groupby('년도').head(10)\n",
    "\n",
    "# 순위 계산\n",
    "top_10_by_year['순위'] = top_10_by_year.groupby('년도')['이용시간(분)'].rank(ascending=False, method='min')\n",
    "\n",
    "# 피벗 테이블 생성\n",
    "pivot_data = top_10_by_year.pivot(index='자치구', columns='년도', values='순위')\n",
    "\n",
    "# 결측값을 11로 채우기 (10위 밖의 순위)\n",
    "pivot_data = pivot_data.fillna(11)\n",
    "\n",
    "# 그래프 그리기\n",
    "plt.figure(figsize=(12, 8))\n",
    "for idx, row in pivot_data.iterrows():\n",
    "    plt.plot(pivot_data.columns, row.values, marker='o', label=idx)\n",
    "\n",
    "plt.gca().invert_yaxis()  # y축 역순으로 표시 (1위가 위로 오도록)\n",
    "plt.yticks(range(1, 12))  # y축 눈금 설정\n",
    "plt.xlabel('년도')\n",
    "plt.ylabel('순위')\n",
    "plt.title('연도별 자치구 자전거 이용량 상위 10개 순위 변화')\n",
    "plt.legend(title='자치구', bbox_to_anchor=(1.05, 1), loc='upper left')\n",
    "plt.tight_layout()\n",
    "plt.grid(True, axis='y', linestyle='--', alpha=0.7)\n",
    "\n",
    "plt.show()"
   ]
  },
  {
   "cell_type": "code",
   "execution_count": null,
   "id": "d94ee869-7627-4c7b-88fd-a3a44f1adcf7",
   "metadata": {},
   "outputs": [],
   "source": []
  }
 ],
 "metadata": {
  "colab": {
   "provenance": []
  },
  "kernelspec": {
   "display_name": "Python 3 (ipykernel)",
   "language": "python",
   "name": "python3"
  },
  "language_info": {
   "codemirror_mode": {
    "name": "ipython",
    "version": 3
   },
   "file_extension": ".py",
   "mimetype": "text/x-python",
   "name": "python",
   "nbconvert_exporter": "python",
   "pygments_lexer": "ipython3",
   "version": "3.12.4"
  }
 },
 "nbformat": 4,
 "nbformat_minor": 5
}
