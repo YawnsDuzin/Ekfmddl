{
 "cells": [
  {
   "cell_type": "markdown",
   "id": "ab57899c-8faa-4fcc-9430-bbc8b77a5c2f",
   "metadata": {},
   "source": [
    "## 기본 라이브러리 불러오기"
   ]
  },
  {
   "cell_type": "code",
   "execution_count": 7,
   "id": "0ae831e1-e446-4181-acdb-40b0cc26a337",
   "metadata": {},
   "outputs": [],
   "source": [
    "## 기본 라이브러리 불러오# 라이브러리 임포트\n",
    "import os\n",
    "import numpy as np\n",
    "import pandas as pd\n",
    "import chardet\n",
    "\n",
    "# 사용자 정의함수 경로 설정\n",
    "import sys\n",
    "sys.path.append(\"G:/내 드라이브/Source/_Custom_Function\")\n",
    "# 사용자 정의함수 불러오기\n",
    "\n",
    "import time\n",
    "\n",
    "import ExcelFile_Merge as em\n",
    "import ExcelFile_Read as er\n",
    "import ExcelFile_EDA as ee기"
   ]
  },
  {
   "cell_type": "code",
   "execution_count": 9,
   "id": "aa5d5443-a604-487e-b0e8-74f29da9fcfe",
   "metadata": {},
   "outputs": [],
   "source": [
    "default_path = 'G:\\\\내 드라이브\\\\DataSet\\\\_파킷 파일\\\\서울 생활이동\\\\'"
   ]
  },
  {
   "cell_type": "code",
   "execution_count": 19,
   "id": "ed5932ec-cf73-4e72-b67a-2a134d5a3454",
   "metadata": {},
   "outputs": [
    {
     "name": "stdout",
     "output_type": "stream",
     "text": [
      "read_csv time : 19.31453776359558\n"
     ]
    }
   ],
   "source": [
    "start_time = time.time()\n",
    "# _columns = ['자전거번호', '대여일자', '대여시간차', '대여대여소번호', '반납대여소번호']\n",
    "df_PeopleMove_2020 = pd.read_parquet(default_path + '생활이동_행정동_출퇴근_2020.parquet')#, columns = _columns)\n",
    "df_PeopleMove_2021 = pd.read_parquet(default_path + '생활이동_행정동_출퇴근_2021.parquet')#, columns = _columns)\n",
    "df_PeopleMove_2022 = pd.read_parquet(default_path + '생활이동_행정동_출퇴근_2022.parquet')#, columns = _columns)\n",
    "df_PeopleMove_2023 = pd.read_parquet(default_path + '생활이동_행정동_출퇴근_2023.parquet')#, columns = _columns)\n",
    "df_PeopleMove_2024 = pd.read_parquet(default_path + '생활이동_행정동_출퇴근_2024.parquet')#, columns = _columns)\n",
    "print(\"read_csv time :\", time.time() - start_time)"
   ]
  },
  {
   "cell_type": "code",
   "execution_count": 21,
   "id": "6dd906da-a8c6-4362-9cb2-74c59228142b",
   "metadata": {},
   "outputs": [
    {
     "data": {
      "text/plain": [
       "7540702"
      ]
     },
     "execution_count": 21,
     "metadata": {},
     "output_type": "execute_result"
    }
   ],
   "source": [
    "df_PeopleMove_2024.shape[0]"
   ]
  },
  {
   "cell_type": "code",
   "execution_count": 23,
   "id": "124747d7-5f1a-43b0-afb0-044c99d92cb9",
   "metadata": {},
   "outputs": [
    {
     "data": {
      "text/html": [
       "<div>\n",
       "<style scoped>\n",
       "    .dataframe tbody tr th:only-of-type {\n",
       "        vertical-align: middle;\n",
       "    }\n",
       "\n",
       "    .dataframe tbody tr th {\n",
       "        vertical-align: top;\n",
       "    }\n",
       "\n",
       "    .dataframe thead th {\n",
       "        text-align: right;\n",
       "    }\n",
       "</style>\n",
       "<table border=\"1\" class=\"dataframe\">\n",
       "  <thead>\n",
       "    <tr style=\"text-align: right;\">\n",
       "      <th></th>\n",
       "      <th>대상연월</th>\n",
       "      <th>출발 행정동 코드</th>\n",
       "      <th>읍면동</th>\n",
       "      <th>출퇴근</th>\n",
       "      <th>이동인구(합)</th>\n",
       "      <th>시도</th>\n",
       "      <th>시군구</th>\n",
       "      <th>시도명</th>\n",
       "      <th>시군구명</th>\n",
       "      <th>읍면동명</th>\n",
       "    </tr>\n",
       "  </thead>\n",
       "  <tbody>\n",
       "    <tr>\n",
       "      <th>0</th>\n",
       "      <td>202409</td>\n",
       "      <td>21000</td>\n",
       "      <td>1101053</td>\n",
       "      <td>출근</td>\n",
       "      <td>27.16</td>\n",
       "      <td>11000</td>\n",
       "      <td>11010</td>\n",
       "      <td>서울특별시</td>\n",
       "      <td>종로구</td>\n",
       "      <td>사직동</td>\n",
       "    </tr>\n",
       "    <tr>\n",
       "      <th>1</th>\n",
       "      <td>202409</td>\n",
       "      <td>21000</td>\n",
       "      <td>1101053</td>\n",
       "      <td>퇴근</td>\n",
       "      <td>32.85</td>\n",
       "      <td>11000</td>\n",
       "      <td>11010</td>\n",
       "      <td>서울특별시</td>\n",
       "      <td>종로구</td>\n",
       "      <td>사직동</td>\n",
       "    </tr>\n",
       "    <tr>\n",
       "      <th>2</th>\n",
       "      <td>202409</td>\n",
       "      <td>21000</td>\n",
       "      <td>1101054</td>\n",
       "      <td>출근</td>\n",
       "      <td>6.05</td>\n",
       "      <td>11000</td>\n",
       "      <td>11010</td>\n",
       "      <td>서울특별시</td>\n",
       "      <td>종로구</td>\n",
       "      <td>삼청동</td>\n",
       "    </tr>\n",
       "    <tr>\n",
       "      <th>3</th>\n",
       "      <td>202409</td>\n",
       "      <td>21000</td>\n",
       "      <td>1101054</td>\n",
       "      <td>퇴근</td>\n",
       "      <td>16.70</td>\n",
       "      <td>11000</td>\n",
       "      <td>11010</td>\n",
       "      <td>서울특별시</td>\n",
       "      <td>종로구</td>\n",
       "      <td>삼청동</td>\n",
       "    </tr>\n",
       "    <tr>\n",
       "      <th>4</th>\n",
       "      <td>202409</td>\n",
       "      <td>21000</td>\n",
       "      <td>1101055</td>\n",
       "      <td>출근</td>\n",
       "      <td>3.13</td>\n",
       "      <td>11000</td>\n",
       "      <td>11010</td>\n",
       "      <td>서울특별시</td>\n",
       "      <td>종로구</td>\n",
       "      <td>부암동</td>\n",
       "    </tr>\n",
       "  </tbody>\n",
       "</table>\n",
       "</div>"
      ],
      "text/plain": [
       "     대상연월  출발 행정동 코드      읍면동 출퇴근  이동인구(합)     시도    시군구    시도명 시군구명 읍면동명\n",
       "0  202409      21000  1101053  출근    27.16  11000  11010  서울특별시  종로구  사직동\n",
       "1  202409      21000  1101053  퇴근    32.85  11000  11010  서울특별시  종로구  사직동\n",
       "2  202409      21000  1101054  출근     6.05  11000  11010  서울특별시  종로구  삼청동\n",
       "3  202409      21000  1101054  퇴근    16.70  11000  11010  서울특별시  종로구  삼청동\n",
       "4  202409      21000  1101055  출근     3.13  11000  11010  서울특별시  종로구  부암동"
      ]
     },
     "execution_count": 23,
     "metadata": {},
     "output_type": "execute_result"
    }
   ],
   "source": [
    "df_PeopleMove_2024.head()"
   ]
  },
  {
   "cell_type": "code",
   "execution_count": null,
   "id": "e77f38b0-8650-4f94-abf5-49e9de22a99c",
   "metadata": {},
   "outputs": [],
   "source": []
  },
  {
   "cell_type": "code",
   "execution_count": 25,
   "id": "90f96da0-0c04-4e21-b055-d71cc865e324",
   "metadata": {},
   "outputs": [
    {
     "name": "stdout",
     "output_type": "stream",
     "text": [
      "read_file - file_path :  G:\\내 드라이브\\DataSet\\_최종 병합 파일\\서울 생활이동\\2024\\생활이동_행정동_2024.01.csv , encoding :  utf-8\n",
      "read_csv time : 174.45397186279297\n"
     ]
    }
   ],
   "source": [
    "start_time = time.time()\n",
    "# _columns = ['자전거번호', '대여일자', '대여시간차', '대여대여소번호', '반납대여소번호']\n",
    "df_PeopleMove_202401 = em.Read_File('G:\\\\내 드라이브\\\\DataSet\\\\_최종 병합 파일\\\\서울 생활이동\\\\2024\\\\생활이동_행정동_2024.01.csv')#, columns = _columns)\n",
    "print(\"read_csv time :\", time.time() - start_time)"
   ]
  },
  {
   "cell_type": "code",
   "execution_count": null,
   "id": "74658d14-f957-4cec-b3fe-f237c7d4fc06",
   "metadata": {},
   "outputs": [],
   "source": [
    "df_PeopleMove_202401.shape[0]"
   ]
  }
 ],
 "metadata": {
  "kernelspec": {
   "display_name": "Python 3 (ipykernel)",
   "language": "python",
   "name": "python3"
  },
  "language_info": {
   "codemirror_mode": {
    "name": "ipython",
    "version": 3
   },
   "file_extension": ".py",
   "mimetype": "text/x-python",
   "name": "python",
   "nbconvert_exporter": "python",
   "pygments_lexer": "ipython3",
   "version": "3.12.4"
  }
 },
 "nbformat": 4,
 "nbformat_minor": 5
}
