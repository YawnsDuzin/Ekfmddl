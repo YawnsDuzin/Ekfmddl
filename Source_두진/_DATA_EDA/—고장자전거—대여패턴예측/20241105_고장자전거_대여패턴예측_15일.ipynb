{
 "cells": [
  {
   "cell_type": "markdown",
   "id": "b612bf6c-e5e4-4496-8d16-b22a39542f73",
   "metadata": {},
   "source": [
    "## 기본 라이브러리 불러오기"
   ]
  },
  {
   "cell_type": "code",
   "execution_count": 1,
   "id": "58e2f7bd-35ca-4aab-a31e-ae79a8c944f4",
   "metadata": {},
   "outputs": [],
   "source": [
    "# 라이브러리 임포트\n",
    "import os\n",
    "import pandas as pd\n",
    "import chardet\n",
    "\n",
    "# 사용자 정의함수 경로 설정\n",
    "import sys\n",
    "sys.path.append(\"G:/내 드라이브/Source/_Custom_Function\")\n",
    "# 사용자 정의함수 불러오기\n",
    "\n",
    "import time\n",
    "\n",
    "import ExcelFile_Merge as em\n",
    "import ExcelFile_Read as er\n",
    "import ExcelFile_EDA as ee"
   ]
  },
  {
   "cell_type": "markdown",
   "id": "b737c7fe-aa90-420c-8d2f-e2504aeb3e19",
   "metadata": {},
   "source": [
    "## 기본 데이터 불러오기"
   ]
  },
  {
   "cell_type": "markdown",
   "id": "fac13e28-d773-41fc-972a-eaed0c0eb39f",
   "metadata": {},
   "source": [
    "### 서울특별시 공공자전거 대여이력 정보"
   ]
  },
  {
   "cell_type": "code",
   "execution_count": 4,
   "id": "964eee9f-eed0-456a-99d1-6566a2b24a53",
   "metadata": {},
   "outputs": [
    {
     "name": "stdout",
     "output_type": "stream",
     "text": [
      "read_csv time : 11.526427745819092\n"
     ]
    }
   ],
   "source": [
    "start_time = time.time()\n",
    "_columns = ['자전거번호', '대여일자', '대여시간차', '대여대여소번호', '반납대여소번호']\n",
    "df_BikeRent_2023 = pd.read_parquet('G:\\\\내 드라이브\\\\DataSet\\\\_파킷 파일\\\\서울특별시 공공자전거 대여이력 정보\\\\서울특별시 공공자전거 대여이력 정보_2023_preprocessed.parquet', columns = _columns)\n",
    "print(\"read_csv time :\", time.time() - start_time)"
   ]
  },
  {
   "cell_type": "code",
   "execution_count": 5,
   "id": "4b550c78-ec8e-45a5-b99d-2b057dc63bee",
   "metadata": {},
   "outputs": [
    {
     "name": "stdout",
     "output_type": "stream",
     "text": [
      "read_csv time : 6.1362669467926025\n"
     ]
    }
   ],
   "source": [
    "start_time = time.time()\n",
    "_columns = ['자전거번호', '대여일자', '대여시간차', '대여대여소번호', '반납대여소번호']\n",
    "df_BikeRent_2024 = pd.read_parquet('G:\\\\내 드라이브\\\\DataSet\\\\_파킷 파일\\\\서울특별시 공공자전거 대여이력 정보\\\\서울특별시 공공자전거 대여이력 정보_2024_preprocessed.parquet', columns = _columns)\n",
    "print(\"read_csv time :\", time.time() - start_time)"
   ]
  },
  {
   "cell_type": "code",
   "execution_count": 7,
   "id": "6c7bf437-6a76-40b2-b12d-89770308646b",
   "metadata": {},
   "outputs": [],
   "source": [
    "df_BikeRent = pd.concat([df_BikeRent_2023, df_BikeRent_2024], axis=0)"
   ]
  },
  {
   "cell_type": "code",
   "execution_count": 8,
   "id": "2cb8f57d-f3b8-4d42-bf5b-28df4ae4dd42",
   "metadata": {},
   "outputs": [
    {
     "name": "stdout",
     "output_type": "stream",
     "text": [
      "df_BikeRent_2023.shape[0] : 45363848\n",
      "df_BikeRent_2024.shape[0] : 21621807\n",
      "df_BikeRent.shape[0] : 66985655\n"
     ]
    }
   ],
   "source": [
    "print(f'df_BikeRent_2023.shape[0] : {df_BikeRent_2023.shape[0]}')\n",
    "print(f'df_BikeRent_2024.shape[0] : {df_BikeRent_2024.shape[0]}')\n",
    "print(f'df_BikeRent.shape[0] : {df_BikeRent.shape[0]}')"
   ]
  },
  {
   "cell_type": "code",
   "execution_count": 9,
   "id": "d90372c6-54fe-47ca-b930-99d8f0707e6a",
   "metadata": {},
   "outputs": [
    {
     "name": "stdout",
     "output_type": "stream",
     "text": [
      "<class 'pandas.core.frame.DataFrame'>\n",
      "Index: 66985655 entries, 0 to 22107539\n",
      "Data columns (total 5 columns):\n",
      " #   Column   Dtype          \n",
      "---  ------   -----          \n",
      " 0   자전거번호    object         \n",
      " 1   대여일자     object         \n",
      " 2   대여시간차    timedelta64[ns]\n",
      " 3   대여대여소번호  object         \n",
      " 4   반납대여소번호  object         \n",
      "dtypes: object(4), timedelta64[ns](1)\n",
      "memory usage: 3.0+ GB\n"
     ]
    }
   ],
   "source": [
    "df_BikeRent.info()"
   ]
  },
  {
   "cell_type": "code",
   "execution_count": 10,
   "id": "6a31ce72-5684-46da-bb0e-d518a35256a5",
   "metadata": {},
   "outputs": [
    {
     "data": {
      "text/html": [
       "<div>\n",
       "<style scoped>\n",
       "    .dataframe tbody tr th:only-of-type {\n",
       "        vertical-align: middle;\n",
       "    }\n",
       "\n",
       "    .dataframe tbody tr th {\n",
       "        vertical-align: top;\n",
       "    }\n",
       "\n",
       "    .dataframe thead th {\n",
       "        text-align: right;\n",
       "    }\n",
       "</style>\n",
       "<table border=\"1\" class=\"dataframe\">\n",
       "  <thead>\n",
       "    <tr style=\"text-align: right;\">\n",
       "      <th></th>\n",
       "      <th>자전거번호</th>\n",
       "      <th>대여일자</th>\n",
       "      <th>대여시간차</th>\n",
       "      <th>대여대여소번호</th>\n",
       "      <th>반납대여소번호</th>\n",
       "    </tr>\n",
       "  </thead>\n",
       "  <tbody>\n",
       "    <tr>\n",
       "      <th>0</th>\n",
       "      <td>SPB-39194</td>\n",
       "      <td>2023-01-01</td>\n",
       "      <td>0 days 00:00:30</td>\n",
       "      <td>01554</td>\n",
       "      <td>01554</td>\n",
       "    </tr>\n",
       "    <tr>\n",
       "      <th>1</th>\n",
       "      <td>SPB-43457</td>\n",
       "      <td>2023-01-01</td>\n",
       "      <td>0 days 00:02:08</td>\n",
       "      <td>01653</td>\n",
       "      <td>04003</td>\n",
       "    </tr>\n",
       "  </tbody>\n",
       "</table>\n",
       "</div>"
      ],
      "text/plain": [
       "       자전거번호        대여일자           대여시간차 대여대여소번호 반납대여소번호\n",
       "0  SPB-39194  2023-01-01 0 days 00:00:30   01554   01554\n",
       "1  SPB-43457  2023-01-01 0 days 00:02:08   01653   04003"
      ]
     },
     "execution_count": 10,
     "metadata": {},
     "output_type": "execute_result"
    }
   ],
   "source": [
    "df_BikeRent.head(2)"
   ]
  },
  {
   "cell_type": "code",
   "execution_count": 11,
   "id": "b835dba9-5399-4ecd-add5-c4dec7867429",
   "metadata": {},
   "outputs": [
    {
     "data": {
      "text/plain": [
       "66985655"
      ]
     },
     "execution_count": 11,
     "metadata": {},
     "output_type": "execute_result"
    }
   ],
   "source": [
    "df_BikeRent.shape[0]"
   ]
  },
  {
   "cell_type": "markdown",
   "id": "70aa52fb-2943-4725-8cda-af3744fb0159",
   "metadata": {},
   "source": [
    "---\n",
    "### df_BikeRent 의 데이터를 조건에 재조회\n",
    "- 대여시간차가 5분 미만인 데이터\n",
    "- 대여 대여소 번호와 반납 대여소 번호가 동일한 데이터"
   ]
  },
  {
   "cell_type": "code",
   "execution_count": 20,
   "id": "740fe827-0a1f-4fde-8e59-db136f447899",
   "metadata": {},
   "outputs": [],
   "source": [
    "# 대여일자를 날짜 형식으로 변환\n",
    "df_BikeRent['대여일자'] = pd.to_datetime(df_BikeRent['대여일자'])"
   ]
  },
  {
   "cell_type": "code",
   "execution_count": 21,
   "id": "9b067f47-29de-4faa-8991-a38d38c321f1",
   "metadata": {},
   "outputs": [],
   "source": [
    "# 1. 조건에 따라 필터링: 대여시간차가 5분 미만, 대여 대여소 번호와 반납 대여소 번호가 동일한 데이터만 선택\n",
    "cond1 = df_BikeRent['대여시간차'] < pd.Timedelta(minutes=5)\n",
    "cond2 = df_BikeRent['대여대여소번호'] == df_BikeRent['반납대여소번호']\n",
    "df_BikeRent_2 = df_BikeRent[cond1 & cond2].copy()"
   ]
  },
  {
   "cell_type": "code",
   "execution_count": 22,
   "id": "810dc7b9-1017-4a9f-8860-163f0057a075",
   "metadata": {},
   "outputs": [
    {
     "data": {
      "text/plain": [
       "2254881"
      ]
     },
     "execution_count": 22,
     "metadata": {},
     "output_type": "execute_result"
    }
   ],
   "source": [
    "df_BikeRent_2.shape[0]"
   ]
  },
  {
   "cell_type": "code",
   "execution_count": 26,
   "id": "c0c32043-0d29-472c-8270-9bfc8dc5d2b5",
   "metadata": {},
   "outputs": [],
   "source": [
    "# 2023.09.01 ~ 2024.06.30\n",
    "# 이상패턴 횟수 - 조회용\n",
    "df_BikeRent230901_230630 = df_BikeRent_2[df_BikeRent_2['대여일자'].between('2023-11-01', '2024-06-30')]\n",
    "# 2024.01.01 ~ 2024.06.30\n",
    "# 정상 자전거번호 확인용\n",
    "df_BikeRent240101_240630 = df_BikeRent_2[df_BikeRent_2['대여일자'].between('2024-01-01', '2024-06-30')]"
   ]
  },
  {
   "cell_type": "code",
   "execution_count": 28,
   "id": "6080c0d0-a73a-4688-b668-3e111a3808af",
   "metadata": {},
   "outputs": [
    {
     "name": "stdout",
     "output_type": "stream",
     "text": [
      "df_BikeRent230901_230630.shape[0] : 884655\n",
      "df_BikeRent240101_240630.shape[0] : 714084\n"
     ]
    }
   ],
   "source": [
    "print(f'df_BikeRent230901_230630.shape[0] : {df_BikeRent230901_230630.shape[0]}')\n",
    "print(f'df_BikeRent240101_240630.shape[0] : {df_BikeRent240101_240630.shape[0]}')"
   ]
  },
  {
   "cell_type": "markdown",
   "id": "d2b6db5f-be8a-42b5-906a-7eb268e3a4c2",
   "metadata": {},
   "source": [
    "### 서울시 공공자전거 고장신고 내역"
   ]
  },
  {
   "cell_type": "code",
   "execution_count": 31,
   "id": "e01f5572-1ab6-4194-b894-c0f7a9f6d7ef",
   "metadata": {},
   "outputs": [
    {
     "name": "stdout",
     "output_type": "stream",
     "text": [
      "read_csv time : 0.35893750190734863\n"
     ]
    }
   ],
   "source": [
    "start_time = time.time()\n",
    "df_BikeBroken = pd.read_parquet('G:\\\\내 드라이브\\\\DataSet\\\\_최종 병합 파일\\\\서울시 공공자전거 고장신고 내역_15-24.06.parquet')\n",
    "print(\"read_csv time :\", time.time() - start_time)"
   ]
  },
  {
   "cell_type": "code",
   "execution_count": 33,
   "id": "e40a8f13-a8ad-4410-a542-4877250021b6",
   "metadata": {},
   "outputs": [
    {
     "data": {
      "text/html": [
       "<div>\n",
       "<style scoped>\n",
       "    .dataframe tbody tr th:only-of-type {\n",
       "        vertical-align: middle;\n",
       "    }\n",
       "\n",
       "    .dataframe tbody tr th {\n",
       "        vertical-align: top;\n",
       "    }\n",
       "\n",
       "    .dataframe thead th {\n",
       "        text-align: right;\n",
       "    }\n",
       "</style>\n",
       "<table border=\"1\" class=\"dataframe\">\n",
       "  <thead>\n",
       "    <tr style=\"text-align: right;\">\n",
       "      <th></th>\n",
       "      <th>자전거번호</th>\n",
       "      <th>고장구분</th>\n",
       "      <th>등록일자</th>\n",
       "      <th>등록시간</th>\n",
       "    </tr>\n",
       "  </thead>\n",
       "  <tbody>\n",
       "    <tr>\n",
       "      <th>0</th>\n",
       "      <td>SPB-00108</td>\n",
       "      <td>체인</td>\n",
       "      <td>2015-12-04</td>\n",
       "      <td>07:41:01</td>\n",
       "    </tr>\n",
       "    <tr>\n",
       "      <th>1</th>\n",
       "      <td>SPB-00210</td>\n",
       "      <td>체인</td>\n",
       "      <td>2015-12-07</td>\n",
       "      <td>12:23:33</td>\n",
       "    </tr>\n",
       "    <tr>\n",
       "      <th>2</th>\n",
       "      <td>SPB-00035</td>\n",
       "      <td>기타</td>\n",
       "      <td>2015-12-09</td>\n",
       "      <td>17:07:00</td>\n",
       "    </tr>\n",
       "  </tbody>\n",
       "</table>\n",
       "</div>"
      ],
      "text/plain": [
       "       자전거번호 고장구분        등록일자      등록시간\n",
       "0  SPB-00108   체인  2015-12-04  07:41:01\n",
       "1  SPB-00210   체인  2015-12-07  12:23:33\n",
       "2  SPB-00035  기타   2015-12-09  17:07:00"
      ]
     },
     "execution_count": 33,
     "metadata": {},
     "output_type": "execute_result"
    }
   ],
   "source": [
    "df_BikeBroken.head(3)"
   ]
  },
  {
   "cell_type": "code",
   "execution_count": 35,
   "id": "9c372c55-973e-42ae-8c8d-16970d4f6f24",
   "metadata": {},
   "outputs": [
    {
     "data": {
      "text/plain": [
       "767715"
      ]
     },
     "execution_count": 35,
     "metadata": {},
     "output_type": "execute_result"
    }
   ],
   "source": [
    "df_BikeBroken.shape[0]"
   ]
  },
  {
   "cell_type": "markdown",
   "id": "1ba250e4-2a32-4e3c-8bd4-b8c7aef7ce80",
   "metadata": {},
   "source": [
    "---\n",
    "1. 2024년 고장신고내역의 자전거번호를 구한다.\n",
    "2. 2024년 자전거대여이력의 자전거번호를 구한다.\n",
    "3. "
   ]
  },
  {
   "cell_type": "markdown",
   "id": "ac800bbf-5e07-4a2a-a3e8-fc480c9c0008",
   "metadata": {},
   "source": [
    "---\n",
    "### 2024년 고장이력만 조회\n",
    "- 등록일자 : 2024-01-01 ~ 2024-06-30"
   ]
  },
  {
   "cell_type": "code",
   "execution_count": 37,
   "id": "e695b837-f460-4c91-bfde-a6d838cf1f80",
   "metadata": {},
   "outputs": [],
   "source": [
    "df_BikeBroken2 = df_BikeBroken[df_BikeBroken['등록일자'].between('2024-01-01', '2024-12-31')]"
   ]
  },
  {
   "cell_type": "code",
   "execution_count": 39,
   "id": "6753f68b-cbfd-493b-9420-b8de4dae0d9c",
   "metadata": {},
   "outputs": [
    {
     "name": "stdout",
     "output_type": "stream",
     "text": [
      "df_BikeBroken.shape[0] 767715\n",
      "df_BikeBroken2.shape[0] 76463\n"
     ]
    }
   ],
   "source": [
    "print(f'df_BikeBroken.shape[0] {df_BikeBroken.shape[0]}')\n",
    "print(f'df_BikeBroken2.shape[0] {df_BikeBroken2.shape[0]}')"
   ]
  },
  {
   "cell_type": "code",
   "execution_count": 41,
   "id": "5510df62-67ff-4448-bc6c-0d3e9db6ae6d",
   "metadata": {},
   "outputs": [
    {
     "data": {
      "text/plain": [
       "<StringArray>\n",
       "['SPB-40704', 'SPB-65171', 'SPB-44316', 'SPB-31539', 'SPB-51998', 'SPB-38568',\n",
       " 'SPB-68235', 'SPB-44078', 'SPB-66158', 'SPB-45102',\n",
       " ...\n",
       " 'SPB-64200', 'SPB-42922', 'SPB-69655', 'SPB-39650', 'SPB-38653', 'SPB-62989',\n",
       " 'SPB-31854', 'SPB-62325', 'SPB-62654', 'SPB-35527']\n",
       "Length: 28589, dtype: string"
      ]
     },
     "execution_count": 41,
     "metadata": {},
     "output_type": "execute_result"
    }
   ],
   "source": [
    "df_BikeBroken2['자전거번호'].unique()"
   ]
  },
  {
   "cell_type": "code",
   "execution_count": 43,
   "id": "75ca0bcb-0a35-42ec-a039-53465a85bab8",
   "metadata": {},
   "outputs": [
    {
     "data": {
      "text/plain": [
       "자전거번호\n",
       "SPB-30296    24\n",
       "SPB-70298    23\n",
       "SPB-31172    21\n",
       "SPB-41406    21\n",
       "SPB-33626    19\n",
       "             ..\n",
       "SPB-60257     1\n",
       "SPB-40210     1\n",
       "SPB-59161     1\n",
       "SPB-32403     1\n",
       "SPB-35527     1\n",
       "Name: count, Length: 28589, dtype: Int64"
      ]
     },
     "execution_count": 43,
     "metadata": {},
     "output_type": "execute_result"
    }
   ],
   "source": [
    "df_BikeBroken2['자전거번호'].value_counts()"
   ]
  },
  {
   "cell_type": "code",
   "execution_count": 45,
   "id": "5d3a9b22-dc4a-4a0e-b27e-6f83572169a9",
   "metadata": {},
   "outputs": [
    {
     "data": {
      "text/html": [
       "<div>\n",
       "<style scoped>\n",
       "    .dataframe tbody tr th:only-of-type {\n",
       "        vertical-align: middle;\n",
       "    }\n",
       "\n",
       "    .dataframe tbody tr th {\n",
       "        vertical-align: top;\n",
       "    }\n",
       "\n",
       "    .dataframe thead th {\n",
       "        text-align: right;\n",
       "    }\n",
       "</style>\n",
       "<table border=\"1\" class=\"dataframe\">\n",
       "  <thead>\n",
       "    <tr style=\"text-align: right;\">\n",
       "      <th></th>\n",
       "      <th>자전거번호</th>\n",
       "      <th>고장구분</th>\n",
       "      <th>등록일자</th>\n",
       "      <th>등록시간</th>\n",
       "    </tr>\n",
       "  </thead>\n",
       "  <tbody>\n",
       "    <tr>\n",
       "      <th>691252</th>\n",
       "      <td>SPB-40704</td>\n",
       "      <td>단말기</td>\n",
       "      <td>2024-01-01</td>\n",
       "      <td>03:57:03</td>\n",
       "    </tr>\n",
       "    <tr>\n",
       "      <th>691351</th>\n",
       "      <td>SPB-66424</td>\n",
       "      <td>체인</td>\n",
       "      <td>2024-01-01</td>\n",
       "      <td>18:45:08</td>\n",
       "    </tr>\n",
       "  </tbody>\n",
       "</table>\n",
       "</div>"
      ],
      "text/plain": [
       "            자전거번호 고장구분        등록일자      등록시간\n",
       "691252  SPB-40704  단말기  2024-01-01  03:57:03\n",
       "691351  SPB-66424   체인  2024-01-01  18:45:08"
      ]
     },
     "execution_count": 45,
     "metadata": {},
     "output_type": "execute_result"
    }
   ],
   "source": [
    "# 2024-01-01 ~ 2024-06-30\t\n",
    "df_BikeBroken2.sort_values(by = '등록일자', ascending = True).head(2)"
   ]
  },
  {
   "cell_type": "code",
   "execution_count": 47,
   "id": "a9011b32-2cf1-4c57-9aee-8e2e1804c28d",
   "metadata": {},
   "outputs": [
    {
     "data": {
      "text/html": [
       "<div>\n",
       "<style scoped>\n",
       "    .dataframe tbody tr th:only-of-type {\n",
       "        vertical-align: middle;\n",
       "    }\n",
       "\n",
       "    .dataframe tbody tr th {\n",
       "        vertical-align: top;\n",
       "    }\n",
       "\n",
       "    .dataframe thead th {\n",
       "        text-align: right;\n",
       "    }\n",
       "</style>\n",
       "<table border=\"1\" class=\"dataframe\">\n",
       "  <thead>\n",
       "    <tr style=\"text-align: right;\">\n",
       "      <th></th>\n",
       "      <th>자전거번호</th>\n",
       "      <th>고장구분</th>\n",
       "      <th>등록일자</th>\n",
       "      <th>등록시간</th>\n",
       "    </tr>\n",
       "  </thead>\n",
       "  <tbody>\n",
       "    <tr>\n",
       "      <th>752797</th>\n",
       "      <td>SPB-30296</td>\n",
       "      <td>기타</td>\n",
       "      <td>2024-06-06</td>\n",
       "      <td>14:51:27</td>\n",
       "    </tr>\n",
       "    <tr>\n",
       "      <th>752796</th>\n",
       "      <td>SPB-30296</td>\n",
       "      <td>체인</td>\n",
       "      <td>2024-06-06</td>\n",
       "      <td>14:51:27</td>\n",
       "    </tr>\n",
       "  </tbody>\n",
       "</table>\n",
       "</div>"
      ],
      "text/plain": [
       "            자전거번호 고장구분        등록일자      등록시간\n",
       "752797  SPB-30296  기타   2024-06-06  14:51:27\n",
       "752796  SPB-30296   체인  2024-06-06  14:51:27"
      ]
     },
     "execution_count": 47,
     "metadata": {},
     "output_type": "execute_result"
    }
   ],
   "source": [
    "df_BikeBroken2[df_BikeBroken2['자전거번호'] == 'SPB-30296'].sort_values(by = '등록일자', ascending = False).head(2)"
   ]
  },
  {
   "cell_type": "markdown",
   "id": "92dcd93a-510d-40a5-8f73-a5762aa5ddf4",
   "metadata": {},
   "source": [
    "---\n",
    "### 자전거고장신고내역에서\n",
    "- 자전거번호' 별로 가장마지막 신고내역만 가져오기"
   ]
  },
  {
   "cell_type": "code",
   "execution_count": 49,
   "id": "d04de378-27a9-485e-a834-f23c0ddad9bb",
   "metadata": {},
   "outputs": [
    {
     "name": "stderr",
     "output_type": "stream",
     "text": [
      "C:\\Users\\user\\AppData\\Local\\Temp\\ipykernel_6524\\133365777.py:2: SettingWithCopyWarning: \n",
      "A value is trying to be set on a copy of a slice from a DataFrame.\n",
      "Try using .loc[row_indexer,col_indexer] = value instead\n",
      "\n",
      "See the caveats in the documentation: https://pandas.pydata.org/pandas-docs/stable/user_guide/indexing.html#returning-a-view-versus-a-copy\n",
      "  df_BikeBroken2['등록일자'] = pd.to_datetime(df_BikeBroken2['등록일자'])\n"
     ]
    }
   ],
   "source": [
    "# 등록일자를 datetime 형식으로 변환\n",
    "df_BikeBroken2['등록일자'] = pd.to_datetime(df_BikeBroken2['등록일자'])\n",
    "\n",
    "# 자전거번호 별로 가장 최근 등록일자를 가진 행 추출\n",
    "df_BikeBroken_latest = df_BikeBroken2.loc[df_BikeBroken2.groupby('자전거번호')['등록일자'].idxmax()]\n",
    "\n",
    "# 이전일자 컬럼 생성 (등록일자보다 한 달 전)\n",
    "# df_BikeBroken_latest['이전일자'] = df_BikeBroken_latest['등록일자'] - pd.DateOffset(months=1)\n",
    "df_BikeBroken_latest['이전일자'] = df_BikeBroken_latest['등록일자'] - pd.DateOffset(days=15)"
   ]
  },
  {
   "cell_type": "code",
   "execution_count": 51,
   "id": "3999d691-5111-41bd-8df4-16bf9584a02d",
   "metadata": {},
   "outputs": [
    {
     "data": {
      "text/html": [
       "<div>\n",
       "<style scoped>\n",
       "    .dataframe tbody tr th:only-of-type {\n",
       "        vertical-align: middle;\n",
       "    }\n",
       "\n",
       "    .dataframe tbody tr th {\n",
       "        vertical-align: top;\n",
       "    }\n",
       "\n",
       "    .dataframe thead th {\n",
       "        text-align: right;\n",
       "    }\n",
       "</style>\n",
       "<table border=\"1\" class=\"dataframe\">\n",
       "  <thead>\n",
       "    <tr style=\"text-align: right;\">\n",
       "      <th></th>\n",
       "      <th>자전거번호</th>\n",
       "      <th>고장구분</th>\n",
       "      <th>등록일자</th>\n",
       "      <th>등록시간</th>\n",
       "      <th>이전일자</th>\n",
       "    </tr>\n",
       "  </thead>\n",
       "  <tbody>\n",
       "    <tr>\n",
       "      <th>714016</th>\n",
       "      <td>SPB-30006</td>\n",
       "      <td>페달</td>\n",
       "      <td>2024-03-31</td>\n",
       "      <td>23:48:49</td>\n",
       "      <td>2024-03-16</td>\n",
       "    </tr>\n",
       "    <tr>\n",
       "      <th>760656</th>\n",
       "      <td>SPB-30010</td>\n",
       "      <td>타이어</td>\n",
       "      <td>2024-06-18</td>\n",
       "      <td>18:37:09</td>\n",
       "      <td>2024-06-03</td>\n",
       "    </tr>\n",
       "  </tbody>\n",
       "</table>\n",
       "</div>"
      ],
      "text/plain": [
       "            자전거번호  고장구분       등록일자      등록시간       이전일자\n",
       "714016  SPB-30006    페달 2024-03-31  23:48:49 2024-03-16\n",
       "760656  SPB-30010  타이어  2024-06-18  18:37:09 2024-06-03"
      ]
     },
     "execution_count": 51,
     "metadata": {},
     "output_type": "execute_result"
    }
   ],
   "source": [
    "df_BikeBroken_latest.head(2)"
   ]
  },
  {
   "cell_type": "code",
   "execution_count": 53,
   "id": "b1d28225-dede-4202-b0a5-0d81db4b776e",
   "metadata": {},
   "outputs": [],
   "source": [
    "df_BikeBroken_latest = df_BikeBroken_latest[['자전거번호', '고장구분', '이전일자', '등록일자']]"
   ]
  },
  {
   "cell_type": "code",
   "execution_count": 55,
   "id": "f3847ff3-76bd-4f6a-a68e-36544b3f8a6b",
   "metadata": {},
   "outputs": [
    {
     "data": {
      "text/html": [
       "<div>\n",
       "<style scoped>\n",
       "    .dataframe tbody tr th:only-of-type {\n",
       "        vertical-align: middle;\n",
       "    }\n",
       "\n",
       "    .dataframe tbody tr th {\n",
       "        vertical-align: top;\n",
       "    }\n",
       "\n",
       "    .dataframe thead th {\n",
       "        text-align: right;\n",
       "    }\n",
       "</style>\n",
       "<table border=\"1\" class=\"dataframe\">\n",
       "  <thead>\n",
       "    <tr style=\"text-align: right;\">\n",
       "      <th></th>\n",
       "      <th>자전거번호</th>\n",
       "      <th>고장구분</th>\n",
       "      <th>이전일자</th>\n",
       "      <th>등록일자</th>\n",
       "    </tr>\n",
       "  </thead>\n",
       "  <tbody>\n",
       "    <tr>\n",
       "      <th>714016</th>\n",
       "      <td>SPB-30006</td>\n",
       "      <td>페달</td>\n",
       "      <td>2024-03-16</td>\n",
       "      <td>2024-03-31</td>\n",
       "    </tr>\n",
       "    <tr>\n",
       "      <th>760656</th>\n",
       "      <td>SPB-30010</td>\n",
       "      <td>타이어</td>\n",
       "      <td>2024-06-03</td>\n",
       "      <td>2024-06-18</td>\n",
       "    </tr>\n",
       "  </tbody>\n",
       "</table>\n",
       "</div>"
      ],
      "text/plain": [
       "            자전거번호  고장구분       이전일자       등록일자\n",
       "714016  SPB-30006    페달 2024-03-16 2024-03-31\n",
       "760656  SPB-30010  타이어  2024-06-03 2024-06-18"
      ]
     },
     "execution_count": 55,
     "metadata": {},
     "output_type": "execute_result"
    }
   ],
   "source": [
    "df_BikeBroken_latest.head(2)"
   ]
  },
  {
   "cell_type": "markdown",
   "id": "e6bd5fca-7aa4-4679-bf44-3629e608f157",
   "metadata": {},
   "source": [
    "#### 고장난 자전기 가져오기"
   ]
  },
  {
   "cell_type": "code",
   "execution_count": 58,
   "id": "c0f50e27-7d93-4f30-a3bf-4cb26b5dd974",
   "metadata": {},
   "outputs": [
    {
     "data": {
      "text/plain": [
       "<StringArray>\n",
       "['SPB-30006', 'SPB-30010', 'SPB-30014', 'SPB-30018', 'SPB-30022', 'SPB-30024',\n",
       " 'SPB-30026', 'SPB-30031', 'SPB-30036', 'SPB-30037',\n",
       " ...\n",
       " 'SPB-84955', 'SPB-84963', 'SPB-84968', 'SPB-84974', 'SPB-84984', 'SPB-84988',\n",
       " 'SPB-84989', 'SPB-84993', 'SPB-84995', 'SPB-84996']\n",
       "Length: 28589, dtype: string"
      ]
     },
     "execution_count": 58,
     "metadata": {},
     "output_type": "execute_result"
    }
   ],
   "source": [
    "df_BikeBroken_latest['자전거번호'].unique()"
   ]
  },
  {
   "cell_type": "code",
   "execution_count": 60,
   "id": "1f318d9e-3e7f-424b-8cfd-d0bf69e648cc",
   "metadata": {},
   "outputs": [
    {
     "name": "stdout",
     "output_type": "stream",
     "text": [
      "<class 'pandas.core.frame.DataFrame'>\n",
      "Index: 28589 entries, 714016 to 737981\n",
      "Data columns (total 4 columns):\n",
      " #   Column  Non-Null Count  Dtype         \n",
      "---  ------  --------------  -----         \n",
      " 0   자전거번호   28589 non-null  string        \n",
      " 1   고장구분    28589 non-null  string        \n",
      " 2   이전일자    28589 non-null  datetime64[ns]\n",
      " 3   등록일자    28589 non-null  datetime64[ns]\n",
      "dtypes: datetime64[ns](2), string(2)\n",
      "memory usage: 1.1 MB\n"
     ]
    }
   ],
   "source": [
    "df_BikeBroken_latest.info()"
   ]
  },
  {
   "cell_type": "code",
   "execution_count": 62,
   "id": "53f89ebf-498b-4d16-a948-ccc304f7d78b",
   "metadata": {},
   "outputs": [],
   "source": [
    "# 2024.01.01 ~ 2024.06.30 사이에 있는 자전거 대여이력에서 고장이 아닌 자전거 번호 조회\n",
    "df_BikeRent2 = df_BikeRent240101_240630[~df_BikeRent240101_240630['자전거번호'].isin(df_BikeBroken_latest['자전거번호'].unique())]"
   ]
  },
  {
   "cell_type": "code",
   "execution_count": 64,
   "id": "8606d4c5-2e34-4b2f-a372-f66794dd735b",
   "metadata": {},
   "outputs": [
    {
     "data": {
      "text/plain": [
       "160972"
      ]
     },
     "execution_count": 64,
     "metadata": {},
     "output_type": "execute_result"
    }
   ],
   "source": [
    "df_BikeRent2['자전거번호'].count()"
   ]
  },
  {
   "cell_type": "code",
   "execution_count": 66,
   "id": "332a8120-8c86-49ce-9238-7b3853785b6d",
   "metadata": {},
   "outputs": [
    {
     "data": {
      "text/html": [
       "<div>\n",
       "<style scoped>\n",
       "    .dataframe tbody tr th:only-of-type {\n",
       "        vertical-align: middle;\n",
       "    }\n",
       "\n",
       "    .dataframe tbody tr th {\n",
       "        vertical-align: top;\n",
       "    }\n",
       "\n",
       "    .dataframe thead th {\n",
       "        text-align: right;\n",
       "    }\n",
       "</style>\n",
       "<table border=\"1\" class=\"dataframe\">\n",
       "  <thead>\n",
       "    <tr style=\"text-align: right;\">\n",
       "      <th></th>\n",
       "      <th>자전거번호</th>\n",
       "      <th>대여일자</th>\n",
       "      <th>대여시간차</th>\n",
       "      <th>대여대여소번호</th>\n",
       "      <th>반납대여소번호</th>\n",
       "    </tr>\n",
       "  </thead>\n",
       "  <tbody>\n",
       "    <tr>\n",
       "      <th>67</th>\n",
       "      <td>SPB-84288</td>\n",
       "      <td>2024-01-01</td>\n",
       "      <td>0 days 00:00:10</td>\n",
       "      <td>03410</td>\n",
       "      <td>03410</td>\n",
       "    </tr>\n",
       "    <tr>\n",
       "      <th>93</th>\n",
       "      <td>SPB-60572</td>\n",
       "      <td>2024-01-01</td>\n",
       "      <td>0 days 00:00:14</td>\n",
       "      <td>00194</td>\n",
       "      <td>00194</td>\n",
       "    </tr>\n",
       "  </tbody>\n",
       "</table>\n",
       "</div>"
      ],
      "text/plain": [
       "        자전거번호       대여일자           대여시간차 대여대여소번호 반납대여소번호\n",
       "67  SPB-84288 2024-01-01 0 days 00:00:10   03410   03410\n",
       "93  SPB-60572 2024-01-01 0 days 00:00:14   00194   00194"
      ]
     },
     "execution_count": 66,
     "metadata": {},
     "output_type": "execute_result"
    }
   ],
   "source": [
    "df_BikeRent2.head(2)"
   ]
  },
  {
   "cell_type": "code",
   "execution_count": 68,
   "id": "711fd9b6-2df4-419a-afaf-0bf3e689d032",
   "metadata": {},
   "outputs": [
    {
     "name": "stderr",
     "output_type": "stream",
     "text": [
      "C:\\Users\\user\\AppData\\Local\\Temp\\ipykernel_6524\\2024349911.py:2: SettingWithCopyWarning: \n",
      "A value is trying to be set on a copy of a slice from a DataFrame.\n",
      "Try using .loc[row_indexer,col_indexer] = value instead\n",
      "\n",
      "See the caveats in the documentation: https://pandas.pydata.org/pandas-docs/stable/user_guide/indexing.html#returning-a-view-versus-a-copy\n",
      "  df_BikeRent2['대여일자'] = pd.to_datetime(df_BikeRent2['대여일자'])\n"
     ]
    }
   ],
   "source": [
    "# 등록일자를 datetime 형식으로 변환\n",
    "df_BikeRent2['대여일자'] = pd.to_datetime(df_BikeRent2['대여일자'])\n",
    "\n",
    "# 자전거번호 별로 가장 최근 등록일자를 가진 행 추출\n",
    "df_BikeRent_latest = df_BikeRent2.loc[df_BikeRent2.groupby('자전거번호')['대여일자'].idxmax()]\n",
    "\n",
    "# 이전일자 컬럼 생성 (등록일자보다 한 달 전)\n",
    "# df_BikeRent_latest['이전일자'] = df_BikeRent_latest['대여일자'] - pd.DateOffset(months=1)\n",
    "df_BikeRent_latest['이전일자'] = df_BikeRent_latest['대여일자'] - pd.DateOffset(days=15)"
   ]
  },
  {
   "cell_type": "code",
   "execution_count": 70,
   "id": "277d131a-25ee-4eb6-ac13-6392e2e3e261",
   "metadata": {},
   "outputs": [
    {
     "data": {
      "text/html": [
       "<div>\n",
       "<style scoped>\n",
       "    .dataframe tbody tr th:only-of-type {\n",
       "        vertical-align: middle;\n",
       "    }\n",
       "\n",
       "    .dataframe tbody tr th {\n",
       "        vertical-align: top;\n",
       "    }\n",
       "\n",
       "    .dataframe thead th {\n",
       "        text-align: right;\n",
       "    }\n",
       "</style>\n",
       "<table border=\"1\" class=\"dataframe\">\n",
       "  <thead>\n",
       "    <tr style=\"text-align: right;\">\n",
       "      <th></th>\n",
       "      <th>자전거번호</th>\n",
       "      <th>대여일자</th>\n",
       "      <th>대여시간차</th>\n",
       "      <th>대여대여소번호</th>\n",
       "      <th>반납대여소번호</th>\n",
       "      <th>이전일자</th>\n",
       "    </tr>\n",
       "  </thead>\n",
       "  <tbody>\n",
       "    <tr>\n",
       "      <th>20725931</th>\n",
       "      <td>SPB-30001</td>\n",
       "      <td>2024-06-21</td>\n",
       "      <td>0 days 00:00:10</td>\n",
       "      <td>03793</td>\n",
       "      <td>03793</td>\n",
       "      <td>2024-06-06</td>\n",
       "    </tr>\n",
       "    <tr>\n",
       "      <th>9151382</th>\n",
       "      <td>SPB-30008</td>\n",
       "      <td>2024-04-11</td>\n",
       "      <td>0 days 00:00:09</td>\n",
       "      <td>02000</td>\n",
       "      <td>02000</td>\n",
       "      <td>2024-03-27</td>\n",
       "    </tr>\n",
       "  </tbody>\n",
       "</table>\n",
       "</div>"
      ],
      "text/plain": [
       "              자전거번호       대여일자           대여시간차 대여대여소번호 반납대여소번호       이전일자\n",
       "20725931  SPB-30001 2024-06-21 0 days 00:00:10   03793   03793 2024-06-06\n",
       "9151382   SPB-30008 2024-04-11 0 days 00:00:09   02000   02000 2024-03-27"
      ]
     },
     "execution_count": 70,
     "metadata": {},
     "output_type": "execute_result"
    }
   ],
   "source": [
    "df_BikeRent_latest.head(2)"
   ]
  },
  {
   "cell_type": "code",
   "execution_count": 72,
   "id": "febb6590-443d-4b39-85c5-b19a32ac8c8a",
   "metadata": {},
   "outputs": [
    {
     "data": {
      "text/plain": [
       "13121"
      ]
     },
     "execution_count": 72,
     "metadata": {},
     "output_type": "execute_result"
    }
   ],
   "source": [
    "df_BikeRent_latest.shape[0]"
   ]
  },
  {
   "cell_type": "markdown",
   "id": "70819a84-46db-4ca2-85bd-c5b96c319075",
   "metadata": {},
   "source": [
    "### 대여이력 <=> 고장내역 - 컬럼이름 맞춰주기"
   ]
  },
  {
   "cell_type": "code",
   "execution_count": 75,
   "id": "0d5fab04-3eb7-4617-97e4-401f89b78e94",
   "metadata": {},
   "outputs": [
    {
     "data": {
      "text/plain": [
       "Index(['자전거번호', '고장구분', '이전일자', '등록일자'], dtype='object')"
      ]
     },
     "execution_count": 75,
     "metadata": {},
     "output_type": "execute_result"
    }
   ],
   "source": [
    "df_BikeBroken_latest.columns"
   ]
  },
  {
   "cell_type": "code",
   "execution_count": 77,
   "id": "e0c349e9-ea93-478c-8e54-465c96756e5e",
   "metadata": {},
   "outputs": [
    {
     "data": {
      "text/plain": [
       "Index(['자전거번호', '대여일자', '대여시간차', '대여대여소번호', '반납대여소번호', '이전일자'], dtype='object')"
      ]
     },
     "execution_count": 77,
     "metadata": {},
     "output_type": "execute_result"
    }
   ],
   "source": [
    "df_BikeRent_latest.columns"
   ]
  },
  {
   "cell_type": "code",
   "execution_count": 79,
   "id": "4f2a9324-6516-4e3b-a577-970717e39a4c",
   "metadata": {},
   "outputs": [],
   "source": [
    "df_BikeRent_latest['고장구분'] = ''"
   ]
  },
  {
   "cell_type": "code",
   "execution_count": 81,
   "id": "b8a354d8-7649-4075-88e9-9d2d04fb20ea",
   "metadata": {},
   "outputs": [],
   "source": [
    "df_BikeBroken_latest.rename(columns = {'등록일자':'등록대여일자'}, inplace = True)\n",
    "df_BikeRent_latest.rename(columns = {'대여일자':'등록대여일자'}, inplace = True)"
   ]
  },
  {
   "cell_type": "code",
   "execution_count": 83,
   "id": "342a8f9b-d92e-4759-b40b-951478f7fd39",
   "metadata": {},
   "outputs": [],
   "source": [
    "df_BikeBroken_latest = df_BikeBroken_latest[['자전거번호', '고장구분', '이전일자', '등록대여일자']]\n",
    "df_BikeRent_latest = df_BikeRent_latest[['자전거번호', '고장구분', '이전일자', '등록대여일자']]"
   ]
  },
  {
   "cell_type": "code",
   "execution_count": 85,
   "id": "1cff32d7-2b63-4999-9672-747734397bbc",
   "metadata": {},
   "outputs": [
    {
     "data": {
      "text/html": [
       "<div>\n",
       "<style scoped>\n",
       "    .dataframe tbody tr th:only-of-type {\n",
       "        vertical-align: middle;\n",
       "    }\n",
       "\n",
       "    .dataframe tbody tr th {\n",
       "        vertical-align: top;\n",
       "    }\n",
       "\n",
       "    .dataframe thead th {\n",
       "        text-align: right;\n",
       "    }\n",
       "</style>\n",
       "<table border=\"1\" class=\"dataframe\">\n",
       "  <thead>\n",
       "    <tr style=\"text-align: right;\">\n",
       "      <th></th>\n",
       "      <th>자전거번호</th>\n",
       "      <th>고장구분</th>\n",
       "      <th>이전일자</th>\n",
       "      <th>등록대여일자</th>\n",
       "    </tr>\n",
       "  </thead>\n",
       "  <tbody>\n",
       "    <tr>\n",
       "      <th>714016</th>\n",
       "      <td>SPB-30006</td>\n",
       "      <td>페달</td>\n",
       "      <td>2024-03-16</td>\n",
       "      <td>2024-03-31</td>\n",
       "    </tr>\n",
       "    <tr>\n",
       "      <th>760656</th>\n",
       "      <td>SPB-30010</td>\n",
       "      <td>타이어</td>\n",
       "      <td>2024-06-03</td>\n",
       "      <td>2024-06-18</td>\n",
       "    </tr>\n",
       "  </tbody>\n",
       "</table>\n",
       "</div>"
      ],
      "text/plain": [
       "            자전거번호  고장구분       이전일자     등록대여일자\n",
       "714016  SPB-30006    페달 2024-03-16 2024-03-31\n",
       "760656  SPB-30010  타이어  2024-06-03 2024-06-18"
      ]
     },
     "execution_count": 85,
     "metadata": {},
     "output_type": "execute_result"
    }
   ],
   "source": [
    "df_BikeBroken_latest.head(2)"
   ]
  },
  {
   "cell_type": "code",
   "execution_count": 87,
   "id": "4073f288-b54e-4dcc-b4fb-6320d3b01b2f",
   "metadata": {},
   "outputs": [
    {
     "data": {
      "text/html": [
       "<div>\n",
       "<style scoped>\n",
       "    .dataframe tbody tr th:only-of-type {\n",
       "        vertical-align: middle;\n",
       "    }\n",
       "\n",
       "    .dataframe tbody tr th {\n",
       "        vertical-align: top;\n",
       "    }\n",
       "\n",
       "    .dataframe thead th {\n",
       "        text-align: right;\n",
       "    }\n",
       "</style>\n",
       "<table border=\"1\" class=\"dataframe\">\n",
       "  <thead>\n",
       "    <tr style=\"text-align: right;\">\n",
       "      <th></th>\n",
       "      <th>자전거번호</th>\n",
       "      <th>고장구분</th>\n",
       "      <th>이전일자</th>\n",
       "      <th>등록대여일자</th>\n",
       "    </tr>\n",
       "  </thead>\n",
       "  <tbody>\n",
       "    <tr>\n",
       "      <th>20725931</th>\n",
       "      <td>SPB-30001</td>\n",
       "      <td></td>\n",
       "      <td>2024-06-06</td>\n",
       "      <td>2024-06-21</td>\n",
       "    </tr>\n",
       "    <tr>\n",
       "      <th>9151382</th>\n",
       "      <td>SPB-30008</td>\n",
       "      <td></td>\n",
       "      <td>2024-03-27</td>\n",
       "      <td>2024-04-11</td>\n",
       "    </tr>\n",
       "  </tbody>\n",
       "</table>\n",
       "</div>"
      ],
      "text/plain": [
       "              자전거번호 고장구분       이전일자     등록대여일자\n",
       "20725931  SPB-30001      2024-06-06 2024-06-21\n",
       "9151382   SPB-30008      2024-03-27 2024-04-11"
      ]
     },
     "execution_count": 87,
     "metadata": {},
     "output_type": "execute_result"
    }
   ],
   "source": [
    "df_BikeRent_latest.head(2)"
   ]
  },
  {
   "cell_type": "markdown",
   "id": "c7a91104-80ff-4d45-ab31-a1beda3a2124",
   "metadata": {},
   "source": [
    "---\n",
    "### 고장여부 - 컬럼 생성"
   ]
  },
  {
   "cell_type": "code",
   "execution_count": 90,
   "id": "ee381c83-953c-4a98-adcf-00cca16711f7",
   "metadata": {},
   "outputs": [],
   "source": [
    "df_BikeBroken_latest['고장여부'] = 1\n",
    "df_BikeRent_latest['고장여부'] = 0"
   ]
  },
  {
   "cell_type": "code",
   "execution_count": 92,
   "id": "2732f511-b2d8-4842-af0f-b5a92158735f",
   "metadata": {},
   "outputs": [
    {
     "data": {
      "text/html": [
       "<div>\n",
       "<style scoped>\n",
       "    .dataframe tbody tr th:only-of-type {\n",
       "        vertical-align: middle;\n",
       "    }\n",
       "\n",
       "    .dataframe tbody tr th {\n",
       "        vertical-align: top;\n",
       "    }\n",
       "\n",
       "    .dataframe thead th {\n",
       "        text-align: right;\n",
       "    }\n",
       "</style>\n",
       "<table border=\"1\" class=\"dataframe\">\n",
       "  <thead>\n",
       "    <tr style=\"text-align: right;\">\n",
       "      <th></th>\n",
       "      <th>자전거번호</th>\n",
       "      <th>고장구분</th>\n",
       "      <th>이전일자</th>\n",
       "      <th>등록대여일자</th>\n",
       "      <th>고장여부</th>\n",
       "    </tr>\n",
       "  </thead>\n",
       "  <tbody>\n",
       "    <tr>\n",
       "      <th>714016</th>\n",
       "      <td>SPB-30006</td>\n",
       "      <td>페달</td>\n",
       "      <td>2024-03-16</td>\n",
       "      <td>2024-03-31</td>\n",
       "      <td>1</td>\n",
       "    </tr>\n",
       "    <tr>\n",
       "      <th>760656</th>\n",
       "      <td>SPB-30010</td>\n",
       "      <td>타이어</td>\n",
       "      <td>2024-06-03</td>\n",
       "      <td>2024-06-18</td>\n",
       "      <td>1</td>\n",
       "    </tr>\n",
       "  </tbody>\n",
       "</table>\n",
       "</div>"
      ],
      "text/plain": [
       "            자전거번호  고장구분       이전일자     등록대여일자  고장여부\n",
       "714016  SPB-30006    페달 2024-03-16 2024-03-31     1\n",
       "760656  SPB-30010  타이어  2024-06-03 2024-06-18     1"
      ]
     },
     "execution_count": 92,
     "metadata": {},
     "output_type": "execute_result"
    }
   ],
   "source": [
    "df_BikeBroken_latest.head(2)"
   ]
  },
  {
   "cell_type": "code",
   "execution_count": 94,
   "id": "231c7bf5-c120-4cf7-9a3a-b1a66e29515c",
   "metadata": {},
   "outputs": [
    {
     "data": {
      "text/html": [
       "<div>\n",
       "<style scoped>\n",
       "    .dataframe tbody tr th:only-of-type {\n",
       "        vertical-align: middle;\n",
       "    }\n",
       "\n",
       "    .dataframe tbody tr th {\n",
       "        vertical-align: top;\n",
       "    }\n",
       "\n",
       "    .dataframe thead th {\n",
       "        text-align: right;\n",
       "    }\n",
       "</style>\n",
       "<table border=\"1\" class=\"dataframe\">\n",
       "  <thead>\n",
       "    <tr style=\"text-align: right;\">\n",
       "      <th></th>\n",
       "      <th>자전거번호</th>\n",
       "      <th>고장구분</th>\n",
       "      <th>이전일자</th>\n",
       "      <th>등록대여일자</th>\n",
       "      <th>고장여부</th>\n",
       "    </tr>\n",
       "  </thead>\n",
       "  <tbody>\n",
       "    <tr>\n",
       "      <th>20725931</th>\n",
       "      <td>SPB-30001</td>\n",
       "      <td></td>\n",
       "      <td>2024-06-06</td>\n",
       "      <td>2024-06-21</td>\n",
       "      <td>0</td>\n",
       "    </tr>\n",
       "    <tr>\n",
       "      <th>9151382</th>\n",
       "      <td>SPB-30008</td>\n",
       "      <td></td>\n",
       "      <td>2024-03-27</td>\n",
       "      <td>2024-04-11</td>\n",
       "      <td>0</td>\n",
       "    </tr>\n",
       "  </tbody>\n",
       "</table>\n",
       "</div>"
      ],
      "text/plain": [
       "              자전거번호 고장구분       이전일자     등록대여일자  고장여부\n",
       "20725931  SPB-30001      2024-06-06 2024-06-21     0\n",
       "9151382   SPB-30008      2024-03-27 2024-04-11     0"
      ]
     },
     "execution_count": 94,
     "metadata": {},
     "output_type": "execute_result"
    }
   ],
   "source": [
    "df_BikeRent_latest.head(2)"
   ]
  },
  {
   "cell_type": "markdown",
   "id": "977d0ccd-c6ec-4fab-9b19-5e60feaeeeb5",
   "metadata": {},
   "source": [
    "---\n",
    "### 자전거(고장) - 자전거(일반) 합치기"
   ]
  },
  {
   "cell_type": "code",
   "execution_count": 97,
   "id": "629c6ebb-9fa0-4de9-8628-8e1edae77895",
   "metadata": {},
   "outputs": [],
   "source": [
    "df_Bike_latest = pd.concat([df_BikeBroken_latest, df_BikeRent_latest], axis=0)"
   ]
  },
  {
   "cell_type": "code",
   "execution_count": 99,
   "id": "2144f862-d99f-4ceb-aa34-d92ab29e610b",
   "metadata": {},
   "outputs": [
    {
     "name": "stdout",
     "output_type": "stream",
     "text": [
      "df_BikeBroken_latest.shape[0] : 28589\n",
      "df_BikeRent_latest.shape[0] : 13121\n",
      "df_Bike_latest.shape[0] : 41710\n"
     ]
    }
   ],
   "source": [
    "print(f'df_BikeBroken_latest.shape[0] : {df_BikeBroken_latest.shape[0]}')\n",
    "print(f'df_BikeRent_latest.shape[0] : {df_BikeRent_latest.shape[0]}')\n",
    "print(f'df_Bike_latest.shape[0] : {df_Bike_latest.shape[0]}')"
   ]
  },
  {
   "cell_type": "code",
   "execution_count": 101,
   "id": "0f96022d-2167-49d4-8ff5-53d76669e836",
   "metadata": {},
   "outputs": [
    {
     "data": {
      "text/html": [
       "<div>\n",
       "<style scoped>\n",
       "    .dataframe tbody tr th:only-of-type {\n",
       "        vertical-align: middle;\n",
       "    }\n",
       "\n",
       "    .dataframe tbody tr th {\n",
       "        vertical-align: top;\n",
       "    }\n",
       "\n",
       "    .dataframe thead th {\n",
       "        text-align: right;\n",
       "    }\n",
       "</style>\n",
       "<table border=\"1\" class=\"dataframe\">\n",
       "  <thead>\n",
       "    <tr style=\"text-align: right;\">\n",
       "      <th></th>\n",
       "      <th>자전거번호</th>\n",
       "      <th>고장구분</th>\n",
       "      <th>이전일자</th>\n",
       "      <th>등록대여일자</th>\n",
       "      <th>고장여부</th>\n",
       "    </tr>\n",
       "  </thead>\n",
       "  <tbody>\n",
       "    <tr>\n",
       "      <th>714016</th>\n",
       "      <td>SPB-30006</td>\n",
       "      <td>페달</td>\n",
       "      <td>2024-03-16</td>\n",
       "      <td>2024-03-31</td>\n",
       "      <td>1</td>\n",
       "    </tr>\n",
       "    <tr>\n",
       "      <th>760656</th>\n",
       "      <td>SPB-30010</td>\n",
       "      <td>타이어</td>\n",
       "      <td>2024-06-03</td>\n",
       "      <td>2024-06-18</td>\n",
       "      <td>1</td>\n",
       "    </tr>\n",
       "  </tbody>\n",
       "</table>\n",
       "</div>"
      ],
      "text/plain": [
       "            자전거번호  고장구분       이전일자     등록대여일자  고장여부\n",
       "714016  SPB-30006    페달 2024-03-16 2024-03-31     1\n",
       "760656  SPB-30010  타이어  2024-06-03 2024-06-18     1"
      ]
     },
     "execution_count": 101,
     "metadata": {},
     "output_type": "execute_result"
    }
   ],
   "source": [
    "df_Bike_latest.head(2)"
   ]
  },
  {
   "cell_type": "code",
   "execution_count": 103,
   "id": "62ed9607-b7e6-48c5-b2dd-b55b752fe029",
   "metadata": {},
   "outputs": [
    {
     "data": {
      "text/plain": [
       "고장여부\n",
       "1    28589\n",
       "0    13121\n",
       "Name: count, dtype: int64"
      ]
     },
     "execution_count": 103,
     "metadata": {},
     "output_type": "execute_result"
    }
   ],
   "source": [
    "df_Bike_latest['고장여부'].value_counts()"
   ]
  },
  {
   "cell_type": "code",
   "execution_count": 105,
   "id": "f622dd2f-bb29-41ac-ac3c-bbdcefed4aaa",
   "metadata": {},
   "outputs": [
    {
     "data": {
      "text/html": [
       "<div>\n",
       "<style scoped>\n",
       "    .dataframe tbody tr th:only-of-type {\n",
       "        vertical-align: middle;\n",
       "    }\n",
       "\n",
       "    .dataframe tbody tr th {\n",
       "        vertical-align: top;\n",
       "    }\n",
       "\n",
       "    .dataframe thead th {\n",
       "        text-align: right;\n",
       "    }\n",
       "</style>\n",
       "<table border=\"1\" class=\"dataframe\">\n",
       "  <thead>\n",
       "    <tr style=\"text-align: right;\">\n",
       "      <th></th>\n",
       "      <th>자전거번호</th>\n",
       "      <th>대여일자</th>\n",
       "      <th>대여시간차</th>\n",
       "      <th>대여대여소번호</th>\n",
       "      <th>반납대여소번호</th>\n",
       "    </tr>\n",
       "  </thead>\n",
       "  <tbody>\n",
       "    <tr>\n",
       "      <th>40681952</th>\n",
       "      <td>SPB-80327</td>\n",
       "      <td>2023-11-01</td>\n",
       "      <td>0 days 00:00:37</td>\n",
       "      <td>05074</td>\n",
       "      <td>05074</td>\n",
       "    </tr>\n",
       "    <tr>\n",
       "      <th>40681953</th>\n",
       "      <td>SPB-33783</td>\n",
       "      <td>2023-11-01</td>\n",
       "      <td>0 days 00:00:36</td>\n",
       "      <td>04419</td>\n",
       "      <td>04419</td>\n",
       "    </tr>\n",
       "    <tr>\n",
       "      <th>40681954</th>\n",
       "      <td>SPB-30417</td>\n",
       "      <td>2023-11-01</td>\n",
       "      <td>0 days 00:01:09</td>\n",
       "      <td>01431</td>\n",
       "      <td>01431</td>\n",
       "    </tr>\n",
       "    <tr>\n",
       "      <th>40681955</th>\n",
       "      <td>SPB-52682</td>\n",
       "      <td>2023-11-01</td>\n",
       "      <td>0 days 00:00:15</td>\n",
       "      <td>03505</td>\n",
       "      <td>03505</td>\n",
       "    </tr>\n",
       "    <tr>\n",
       "      <th>40681956</th>\n",
       "      <td>SPB-55359</td>\n",
       "      <td>2023-11-01</td>\n",
       "      <td>0 days 00:00:22</td>\n",
       "      <td>04592</td>\n",
       "      <td>04592</td>\n",
       "    </tr>\n",
       "  </tbody>\n",
       "</table>\n",
       "</div>"
      ],
      "text/plain": [
       "              자전거번호       대여일자           대여시간차 대여대여소번호 반납대여소번호\n",
       "40681952  SPB-80327 2023-11-01 0 days 00:00:37   05074   05074\n",
       "40681953  SPB-33783 2023-11-01 0 days 00:00:36   04419   04419\n",
       "40681954  SPB-30417 2023-11-01 0 days 00:01:09   01431   01431\n",
       "40681955  SPB-52682 2023-11-01 0 days 00:00:15   03505   03505\n",
       "40681956  SPB-55359 2023-11-01 0 days 00:00:22   04592   04592"
      ]
     },
     "execution_count": 105,
     "metadata": {},
     "output_type": "execute_result"
    }
   ],
   "source": [
    "df_BikeRent230901_230630.head()"
   ]
  },
  {
   "cell_type": "markdown",
   "id": "adafc352-ff9b-46fb-a910-bb118ebfa2ec",
   "metadata": {},
   "source": [
    "---\n",
    "### 대여이력의 이상패턴 횟수 구하기\n",
    "- '자전거고장신고내역'의 '이전일자' ~ '등록대여일자'가 '자전거대여이력'의 이상패턴의 '대여일자'에 포함되는 자전거별 횟수 가져오기"
   ]
  },
  {
   "cell_type": "code",
   "execution_count": 108,
   "id": "48007709-7b80-44ab-ba2d-bdd2b339416d",
   "metadata": {},
   "outputs": [
    {
     "name": "stdout",
     "output_type": "stream",
     "text": [
      "check time : 2510.010474205017\n"
     ]
    }
   ],
   "source": [
    "start_time = time.time()\n",
    "\n",
    "# 결과를 저장할 딕셔너리 초기화\n",
    "results = []\n",
    "\n",
    "# 고장 신고 내역을 순회하며 대여 이력에서 해당 기간에 속하는 대여 건수를 카운트\n",
    "for index, row in df_Bike_latest.iterrows():\n",
    "    bike_number = row['자전거번호']\n",
    "    previous_date = row['이전일자']\n",
    "    registered_date = row['등록대여일자']\n",
    "\n",
    "    # 자전거 번호가 일치하고, 대여일자가 이전일자와 등록대여일자 사이에 있는 경우의 수를 카운트\n",
    "    rental_count = df_BikeRent230901_230630[(df_BikeRent230901_230630['자전거번호'] == bike_number) & \n",
    "                               (df_BikeRent230901_230630['대여일자'] >= previous_date) & \n",
    "                               (df_BikeRent230901_230630['대여일자'] <= registered_date)].shape[0]\n",
    "\n",
    "    results.append({\n",
    "            '자전거번호': bike_number,\n",
    "            '이전일자': previous_date,\n",
    "            '등록대여일자': registered_date,\n",
    "            '고장구분': row['고장구분'],\n",
    "            '고장여부': row['고장여부'],\n",
    "            '이상패턴_횟수': rental_count,\n",
    "        })\n",
    "\n",
    "# DataFrame으로 변환\n",
    "df_bike_results = pd.DataFrame(results)\n",
    "\n",
    "print(\"check time :\", time.time() - start_time)"
   ]
  },
  {
   "cell_type": "code",
   "execution_count": 215,
   "id": "d633b03d-d6e3-4fe0-b862-c16bf23a298b",
   "metadata": {},
   "outputs": [],
   "source": [
    "# df_bike_results.rename(columns = {'고장횟수':'이상패턴_횟수'}, inplace = True)"
   ]
  },
  {
   "cell_type": "code",
   "execution_count": 110,
   "id": "13deb625-b748-4777-b9da-ab4439143ac6",
   "metadata": {},
   "outputs": [
    {
     "data": {
      "text/plain": [
       "41710"
      ]
     },
     "execution_count": 110,
     "metadata": {},
     "output_type": "execute_result"
    }
   ],
   "source": [
    "df_bike_results.shape[0]"
   ]
  },
  {
   "cell_type": "code",
   "execution_count": 112,
   "id": "da7e87c1-f43e-45ac-8b16-c40a2ceb2496",
   "metadata": {},
   "outputs": [
    {
     "data": {
      "text/html": [
       "<div>\n",
       "<style scoped>\n",
       "    .dataframe tbody tr th:only-of-type {\n",
       "        vertical-align: middle;\n",
       "    }\n",
       "\n",
       "    .dataframe tbody tr th {\n",
       "        vertical-align: top;\n",
       "    }\n",
       "\n",
       "    .dataframe thead th {\n",
       "        text-align: right;\n",
       "    }\n",
       "</style>\n",
       "<table border=\"1\" class=\"dataframe\">\n",
       "  <thead>\n",
       "    <tr style=\"text-align: right;\">\n",
       "      <th></th>\n",
       "      <th>자전거번호</th>\n",
       "      <th>이전일자</th>\n",
       "      <th>등록대여일자</th>\n",
       "      <th>고장구분</th>\n",
       "      <th>고장여부</th>\n",
       "      <th>이상패턴_횟수</th>\n",
       "    </tr>\n",
       "  </thead>\n",
       "  <tbody>\n",
       "    <tr>\n",
       "      <th>0</th>\n",
       "      <td>SPB-30006</td>\n",
       "      <td>2024-03-16</td>\n",
       "      <td>2024-03-31</td>\n",
       "      <td>페달</td>\n",
       "      <td>1</td>\n",
       "      <td>2</td>\n",
       "    </tr>\n",
       "    <tr>\n",
       "      <th>1</th>\n",
       "      <td>SPB-30010</td>\n",
       "      <td>2024-06-03</td>\n",
       "      <td>2024-06-18</td>\n",
       "      <td>타이어</td>\n",
       "      <td>1</td>\n",
       "      <td>3</td>\n",
       "    </tr>\n",
       "    <tr>\n",
       "      <th>2</th>\n",
       "      <td>SPB-30014</td>\n",
       "      <td>2024-06-09</td>\n",
       "      <td>2024-06-24</td>\n",
       "      <td>기타</td>\n",
       "      <td>1</td>\n",
       "      <td>3</td>\n",
       "    </tr>\n",
       "    <tr>\n",
       "      <th>3</th>\n",
       "      <td>SPB-30018</td>\n",
       "      <td>2024-05-17</td>\n",
       "      <td>2024-06-01</td>\n",
       "      <td>기타</td>\n",
       "      <td>1</td>\n",
       "      <td>2</td>\n",
       "    </tr>\n",
       "    <tr>\n",
       "      <th>4</th>\n",
       "      <td>SPB-30022</td>\n",
       "      <td>2024-05-05</td>\n",
       "      <td>2024-05-20</td>\n",
       "      <td>기타</td>\n",
       "      <td>1</td>\n",
       "      <td>5</td>\n",
       "    </tr>\n",
       "  </tbody>\n",
       "</table>\n",
       "</div>"
      ],
      "text/plain": [
       "       자전거번호       이전일자     등록대여일자  고장구분  고장여부  이상패턴_횟수\n",
       "0  SPB-30006 2024-03-16 2024-03-31    페달     1        2\n",
       "1  SPB-30010 2024-06-03 2024-06-18  타이어      1        3\n",
       "2  SPB-30014 2024-06-09 2024-06-24   기타      1        3\n",
       "3  SPB-30018 2024-05-17 2024-06-01   기타      1        2\n",
       "4  SPB-30022 2024-05-05 2024-05-20   기타      1        5"
      ]
     },
     "execution_count": 112,
     "metadata": {},
     "output_type": "execute_result"
    }
   ],
   "source": [
    "df_bike_results.head(5)"
   ]
  },
  {
   "cell_type": "code",
   "execution_count": 114,
   "id": "40f0714a-376f-4d71-a0cb-071c26ff0df3",
   "metadata": {},
   "outputs": [
    {
     "data": {
      "text/plain": [
       "고장여부\n",
       "1    5660\n",
       "0    3347\n",
       "Name: count, dtype: int64"
      ]
     },
     "execution_count": 114,
     "metadata": {},
     "output_type": "execute_result"
    }
   ],
   "source": [
    "df_bike_results[df_bike_results['이상패턴_횟수'] == 1]['고장여부'].value_counts()"
   ]
  },
  {
   "cell_type": "code",
   "execution_count": 116,
   "id": "9fabbe15-a89d-417c-9271-8d138e70677e",
   "metadata": {},
   "outputs": [],
   "source": [
    "df_Bike_latest_2 = df_bike_results"
   ]
  },
  {
   "cell_type": "markdown",
   "id": "26a61f3b-7843-4af9-bf10-bf73cf0824f9",
   "metadata": {},
   "source": [
    "---\n",
    "## 고장횟수 별 - 고장비율\n",
    " - 고장 : 24년의 마지막고장신고\n",
    " - 정상 : 24년의 마지막 대여일"
   ]
  },
  {
   "cell_type": "markdown",
   "id": "9ae94474-4e23-419a-9a2a-d3311faf8aa1",
   "metadata": {},
   "source": [
    "### [전체] 고장여부 비율"
   ]
  },
  {
   "cell_type": "code",
   "execution_count": 118,
   "id": "aede0e8c-5ce4-4679-b76d-47a44fc1cbcf",
   "metadata": {},
   "outputs": [
    {
     "name": "stdout",
     "output_type": "stream",
     "text": [
      "total : 41710\n",
      "counts : 고장여부\n",
      "1    28589\n",
      "0    13121\n",
      "Name: count, dtype: int64\n",
      "percentage : 고장여부\n",
      "1    68.542316\n",
      "0    31.457684\n",
      "Name: count, dtype: float64\n"
     ]
    }
   ],
   "source": [
    "counts = df_Bike_latest_2['고장여부'].value_counts()\n",
    "total = counts.sum()   # 총 데이터 개수\n",
    "percentage = counts / total * 100   # 비율 계산\n",
    "print(f'total : {total}')\n",
    "print(f'counts : {counts}')\n",
    "print(f'percentage : {percentage}')"
   ]
  },
  {
   "cell_type": "code",
   "execution_count": 120,
   "id": "a49825af-340e-4675-b21b-3fa5cb9bf9c3",
   "metadata": {},
   "outputs": [
    {
     "data": {
      "text/plain": [
       "이상패턴_횟수\n",
       "0     4453\n",
       "1     9007\n",
       "2     8493\n",
       "3     6079\n",
       "4     3963\n",
       "5     2589\n",
       "6     1665\n",
       "7     1123\n",
       "8      830\n",
       "9      629\n",
       "10     450\n",
       "11     359\n",
       "12     323\n",
       "13     268\n",
       "14     180\n",
       "15     213\n",
       "16     179\n",
       "17     129\n",
       "18      97\n",
       "19      84\n",
       "20      70\n",
       "21      47\n",
       "22      69\n",
       "23      57\n",
       "24      36\n",
       "25      39\n",
       "26      31\n",
       "27      29\n",
       "28      27\n",
       "29      19\n",
       "30      24\n",
       "31      24\n",
       "32      15\n",
       "33      11\n",
       "34      11\n",
       "35       8\n",
       "36      12\n",
       "37      10\n",
       "38       4\n",
       "39       5\n",
       "40       4\n",
       "41       2\n",
       "42       3\n",
       "43       6\n",
       "44       6\n",
       "45       2\n",
       "46       3\n",
       "47       1\n",
       "48       3\n",
       "50       1\n",
       "Name: count, dtype: int64"
      ]
     },
     "execution_count": 120,
     "metadata": {},
     "output_type": "execute_result"
    }
   ],
   "source": [
    "df_Bike_latest_2['이상패턴_횟수'].value_counts().sort_index()[:50]"
   ]
  },
  {
   "cell_type": "code",
   "execution_count": 122,
   "id": "cb2e64f0-b3d5-4618-b2f9-ead5bcd42ac7",
   "metadata": {},
   "outputs": [
    {
     "data": {
      "text/html": [
       "<div>\n",
       "<style scoped>\n",
       "    .dataframe tbody tr th:only-of-type {\n",
       "        vertical-align: middle;\n",
       "    }\n",
       "\n",
       "    .dataframe tbody tr th {\n",
       "        vertical-align: top;\n",
       "    }\n",
       "\n",
       "    .dataframe thead th {\n",
       "        text-align: right;\n",
       "    }\n",
       "</style>\n",
       "<table border=\"1\" class=\"dataframe\">\n",
       "  <thead>\n",
       "    <tr style=\"text-align: right;\">\n",
       "      <th>고장여부</th>\n",
       "      <th>이상패턴_횟수</th>\n",
       "      <th>0</th>\n",
       "      <th>1</th>\n",
       "    </tr>\n",
       "  </thead>\n",
       "  <tbody>\n",
       "    <tr>\n",
       "      <th>0</th>\n",
       "      <td>0</td>\n",
       "      <td>NaN</td>\n",
       "      <td>1.000000</td>\n",
       "    </tr>\n",
       "    <tr>\n",
       "      <th>1</th>\n",
       "      <td>1</td>\n",
       "      <td>0.371600</td>\n",
       "      <td>0.628400</td>\n",
       "    </tr>\n",
       "    <tr>\n",
       "      <th>2</th>\n",
       "      <td>2</td>\n",
       "      <td>0.429412</td>\n",
       "      <td>0.570588</td>\n",
       "    </tr>\n",
       "    <tr>\n",
       "      <th>3</th>\n",
       "      <td>3</td>\n",
       "      <td>0.426386</td>\n",
       "      <td>0.573614</td>\n",
       "    </tr>\n",
       "    <tr>\n",
       "      <th>4</th>\n",
       "      <td>4</td>\n",
       "      <td>0.380015</td>\n",
       "      <td>0.619985</td>\n",
       "    </tr>\n",
       "    <tr>\n",
       "      <th>5</th>\n",
       "      <td>5</td>\n",
       "      <td>0.344535</td>\n",
       "      <td>0.655465</td>\n",
       "    </tr>\n",
       "    <tr>\n",
       "      <th>6</th>\n",
       "      <td>6</td>\n",
       "      <td>0.280480</td>\n",
       "      <td>0.719520</td>\n",
       "    </tr>\n",
       "    <tr>\n",
       "      <th>7</th>\n",
       "      <td>7</td>\n",
       "      <td>0.211042</td>\n",
       "      <td>0.788958</td>\n",
       "    </tr>\n",
       "    <tr>\n",
       "      <th>8</th>\n",
       "      <td>8</td>\n",
       "      <td>0.174699</td>\n",
       "      <td>0.825301</td>\n",
       "    </tr>\n",
       "    <tr>\n",
       "      <th>9</th>\n",
       "      <td>9</td>\n",
       "      <td>0.139905</td>\n",
       "      <td>0.860095</td>\n",
       "    </tr>\n",
       "    <tr>\n",
       "      <th>10</th>\n",
       "      <td>10</td>\n",
       "      <td>0.120000</td>\n",
       "      <td>0.880000</td>\n",
       "    </tr>\n",
       "    <tr>\n",
       "      <th>11</th>\n",
       "      <td>11</td>\n",
       "      <td>0.111421</td>\n",
       "      <td>0.888579</td>\n",
       "    </tr>\n",
       "    <tr>\n",
       "      <th>12</th>\n",
       "      <td>12</td>\n",
       "      <td>0.055728</td>\n",
       "      <td>0.944272</td>\n",
       "    </tr>\n",
       "    <tr>\n",
       "      <th>13</th>\n",
       "      <td>13</td>\n",
       "      <td>0.097015</td>\n",
       "      <td>0.902985</td>\n",
       "    </tr>\n",
       "    <tr>\n",
       "      <th>14</th>\n",
       "      <td>14</td>\n",
       "      <td>0.050000</td>\n",
       "      <td>0.950000</td>\n",
       "    </tr>\n",
       "    <tr>\n",
       "      <th>15</th>\n",
       "      <td>15</td>\n",
       "      <td>0.032864</td>\n",
       "      <td>0.967136</td>\n",
       "    </tr>\n",
       "    <tr>\n",
       "      <th>16</th>\n",
       "      <td>16</td>\n",
       "      <td>0.044693</td>\n",
       "      <td>0.955307</td>\n",
       "    </tr>\n",
       "    <tr>\n",
       "      <th>17</th>\n",
       "      <td>17</td>\n",
       "      <td>0.093023</td>\n",
       "      <td>0.906977</td>\n",
       "    </tr>\n",
       "    <tr>\n",
       "      <th>18</th>\n",
       "      <td>18</td>\n",
       "      <td>0.030928</td>\n",
       "      <td>0.969072</td>\n",
       "    </tr>\n",
       "    <tr>\n",
       "      <th>19</th>\n",
       "      <td>19</td>\n",
       "      <td>0.023810</td>\n",
       "      <td>0.976190</td>\n",
       "    </tr>\n",
       "  </tbody>\n",
       "</table>\n",
       "</div>"
      ],
      "text/plain": [
       "고장여부  이상패턴_횟수         0         1\n",
       "0           0       NaN  1.000000\n",
       "1           1  0.371600  0.628400\n",
       "2           2  0.429412  0.570588\n",
       "3           3  0.426386  0.573614\n",
       "4           4  0.380015  0.619985\n",
       "5           5  0.344535  0.655465\n",
       "6           6  0.280480  0.719520\n",
       "7           7  0.211042  0.788958\n",
       "8           8  0.174699  0.825301\n",
       "9           9  0.139905  0.860095\n",
       "10         10  0.120000  0.880000\n",
       "11         11  0.111421  0.888579\n",
       "12         12  0.055728  0.944272\n",
       "13         13  0.097015  0.902985\n",
       "14         14  0.050000  0.950000\n",
       "15         15  0.032864  0.967136\n",
       "16         16  0.044693  0.955307\n",
       "17         17  0.093023  0.906977\n",
       "18         18  0.030928  0.969072\n",
       "19         19  0.023810  0.976190"
      ]
     },
     "execution_count": 122,
     "metadata": {},
     "output_type": "execute_result"
    }
   ],
   "source": [
    "# 고장횟수에 따른 고장여부 비율 계산\n",
    "df_2 = df_Bike_latest_2.groupby('이상패턴_횟수')['고장여부'].value_counts(normalize=True).unstack().reset_index()\n",
    "df_2.head(20)"
   ]
  },
  {
   "cell_type": "code",
   "execution_count": 124,
   "id": "f783c3f2-079a-414d-a8fb-e583b859fd4e",
   "metadata": {},
   "outputs": [
    {
     "data": {
      "text/html": [
       "<div>\n",
       "<style scoped>\n",
       "    .dataframe tbody tr th:only-of-type {\n",
       "        vertical-align: middle;\n",
       "    }\n",
       "\n",
       "    .dataframe tbody tr th {\n",
       "        vertical-align: top;\n",
       "    }\n",
       "\n",
       "    .dataframe thead th {\n",
       "        text-align: right;\n",
       "    }\n",
       "</style>\n",
       "<table border=\"1\" class=\"dataframe\">\n",
       "  <thead>\n",
       "    <tr style=\"text-align: right;\">\n",
       "      <th></th>\n",
       "      <th>이상패턴_횟수</th>\n",
       "      <th>고장</th>\n",
       "      <th>정상</th>\n",
       "    </tr>\n",
       "  </thead>\n",
       "  <tbody>\n",
       "    <tr>\n",
       "      <th>0</th>\n",
       "      <td>0</td>\n",
       "      <td>NaN</td>\n",
       "      <td>1.000000</td>\n",
       "    </tr>\n",
       "    <tr>\n",
       "      <th>1</th>\n",
       "      <td>1</td>\n",
       "      <td>0.371600</td>\n",
       "      <td>0.628400</td>\n",
       "    </tr>\n",
       "    <tr>\n",
       "      <th>2</th>\n",
       "      <td>2</td>\n",
       "      <td>0.429412</td>\n",
       "      <td>0.570588</td>\n",
       "    </tr>\n",
       "    <tr>\n",
       "      <th>3</th>\n",
       "      <td>3</td>\n",
       "      <td>0.426386</td>\n",
       "      <td>0.573614</td>\n",
       "    </tr>\n",
       "    <tr>\n",
       "      <th>4</th>\n",
       "      <td>4</td>\n",
       "      <td>0.380015</td>\n",
       "      <td>0.619985</td>\n",
       "    </tr>\n",
       "  </tbody>\n",
       "</table>\n",
       "</div>"
      ],
      "text/plain": [
       "   이상패턴_횟수        고장        정상\n",
       "0        0       NaN  1.000000\n",
       "1        1  0.371600  0.628400\n",
       "2        2  0.429412  0.570588\n",
       "3        3  0.426386  0.573614\n",
       "4        4  0.380015  0.619985"
      ]
     },
     "execution_count": 124,
     "metadata": {},
     "output_type": "execute_result"
    }
   ],
   "source": [
    "df_2.columns = ['이상패턴_횟수', '고장', '정상']\n",
    "df_2.head()"
   ]
  },
  {
   "cell_type": "code",
   "execution_count": 126,
   "id": "5475885f-2768-4662-8bfd-c871e248c975",
   "metadata": {},
   "outputs": [],
   "source": [
    "import matplotlib.pyplot as plt\n",
    "import seaborn as sns\n",
    "\n",
    "# 한글 폰트 설정 (Windows에서는 'Malgun Gothic' 사용)\n",
    "plt.rcParams['font.family'] = 'Malgun Gothic'\n",
    "# 마이너스 기호 깨짐 방지\n",
    "plt.rcParams['axes.unicode_minus'] = False"
   ]
  },
  {
   "cell_type": "code",
   "execution_count": 127,
   "id": "fcc87820-c075-4ac1-ab58-104033467237",
   "metadata": {},
   "outputs": [
    {
     "data": {
      "image/png": "[encoded data removed]",
      "text/plain": [
       "<Figure size 1000x600 with 1 Axes>"
      ]
     },
     "metadata": {},
     "output_type": "display_data"
    }
   ],
   "source": [
    "# 결과 시각화\n",
    "result = df_Bike_latest_2.groupby('이상패턴_횟수')['고장여부'].value_counts().unstack().fillna(0)\n",
    "result.plot(kind='bar', stacked=True, figsize=(10, 6), color=['skyblue', 'salmon'])\n",
    "plt.xlabel('이상패턴_횟수')\n",
    "plt.ylabel('횟수')\n",
    "plt.title('고장횟수에 따른 고장여부 횟수')\n",
    "plt.legend(title='고장여부')\n",
    "plt.tight_layout()\n",
    "plt.show()"
   ]
  },
  {
   "cell_type": "code",
   "execution_count": 130,
   "id": "382be891-cc3b-4395-b926-4d60e6c8a83e",
   "metadata": {},
   "outputs": [
    {
     "data": {
      "image/png": "[encoded data removed]",
      "text/plain": [
       "<Figure size 1000x600 with 1 Axes>"
      ]
     },
     "metadata": {},
     "output_type": "display_data"
    }
   ],
   "source": [
    "# 결과 시각화\n",
    "result = df_Bike_latest_2.groupby('이상패턴_횟수')['고장여부'].value_counts(normalize=True).unstack().fillna(0)\n",
    "#result = df_Bike_latest_2.groupby('이상패턴_횟수')['고장여부'].value_counts().unstack().fillna(0)\n",
    "result.plot(kind='bar', stacked=True, figsize=(10, 6), color=['skyblue', 'salmon'])\n",
    "plt.xlabel('이상패턴_횟수')\n",
    "plt.ylabel('비율')\n",
    "plt.title('고장횟수에 따른 고장여부 비율')\n",
    "plt.legend(title='고장여부')\n",
    "plt.tight_layout()\n",
    "plt.show()"
   ]
  },
  {
   "cell_type": "markdown",
   "id": "906a55bb-4235-4358-aa37-cb830fae41ea",
   "metadata": {},
   "source": [
    "---\n",
    "## 선형회귀 모델링"
   ]
  },
  {
   "cell_type": "code",
   "execution_count": 258,
   "id": "d63fd71a-6dca-4e04-ae99-86d8543d42f2",
   "metadata": {},
   "outputs": [
    {
     "data": {
      "text/plain": [
       "array([[2],\n",
       "       [5],\n",
       "       [7],\n",
       "       [2],\n",
       "       [7]])"
      ]
     },
     "execution_count": 258,
     "metadata": {},
     "output_type": "execute_result"
    }
   ],
   "source": [
    "np.array([2, 5, 7, 2, 7]).reshape(-1, 1)"
   ]
  },
  {
   "cell_type": "code",
   "execution_count": 262,
   "id": "96a293ae-39fc-4d82-a399-9c803d2bbbff",
   "metadata": {},
   "outputs": [
    {
     "data": {
      "text/html": [
       "<div>\n",
       "<style scoped>\n",
       "    .dataframe tbody tr th:only-of-type {\n",
       "        vertical-align: middle;\n",
       "    }\n",
       "\n",
       "    .dataframe tbody tr th {\n",
       "        vertical-align: top;\n",
       "    }\n",
       "\n",
       "    .dataframe thead th {\n",
       "        text-align: right;\n",
       "    }\n",
       "</style>\n",
       "<table border=\"1\" class=\"dataframe\">\n",
       "  <thead>\n",
       "    <tr style=\"text-align: right;\">\n",
       "      <th></th>\n",
       "      <th>자전거번호</th>\n",
       "      <th>이전일자</th>\n",
       "      <th>등록대여일자</th>\n",
       "      <th>고장구분</th>\n",
       "      <th>고장여부</th>\n",
       "      <th>이상패턴_횟수</th>\n",
       "    </tr>\n",
       "  </thead>\n",
       "  <tbody>\n",
       "    <tr>\n",
       "      <th>0</th>\n",
       "      <td>SPB-30006</td>\n",
       "      <td>2024-02-29</td>\n",
       "      <td>2024-03-31</td>\n",
       "      <td>페달</td>\n",
       "      <td>1</td>\n",
       "      <td>2</td>\n",
       "    </tr>\n",
       "    <tr>\n",
       "      <th>1</th>\n",
       "      <td>SPB-30010</td>\n",
       "      <td>2024-05-18</td>\n",
       "      <td>2024-06-18</td>\n",
       "      <td>타이어</td>\n",
       "      <td>1</td>\n",
       "      <td>5</td>\n",
       "    </tr>\n",
       "    <tr>\n",
       "      <th>2</th>\n",
       "      <td>SPB-30014</td>\n",
       "      <td>2024-05-24</td>\n",
       "      <td>2024-06-24</td>\n",
       "      <td>기타</td>\n",
       "      <td>1</td>\n",
       "      <td>7</td>\n",
       "    </tr>\n",
       "  </tbody>\n",
       "</table>\n",
       "</div>"
      ],
      "text/plain": [
       "       자전거번호       이전일자     등록대여일자  고장구분  고장여부  이상패턴_횟수\n",
       "0  SPB-30006 2024-02-29 2024-03-31    페달     1        2\n",
       "1  SPB-30010 2024-05-18 2024-06-18  타이어      1        5\n",
       "2  SPB-30014 2024-05-24 2024-06-24   기타      1        7"
      ]
     },
     "execution_count": 262,
     "metadata": {},
     "output_type": "execute_result"
    }
   ],
   "source": [
    "df_Bike_latest_2.head(3)"
   ]
  },
  {
   "cell_type": "code",
   "execution_count": 268,
   "id": "cc40951f-47ca-4e0c-a4ec-9ba453cb59ba",
   "metadata": {},
   "outputs": [
    {
     "data": {
      "text/plain": [
       "array([[2],\n",
       "       [5],\n",
       "       [7],\n",
       "       ...,\n",
       "       [4],\n",
       "       [1],\n",
       "       [3]], dtype=int64)"
      ]
     },
     "execution_count": 268,
     "metadata": {},
     "output_type": "execute_result"
    }
   ],
   "source": [
    "np.array(df_Bike_latest_2['이상패턴_횟수']).reshape(-1, 1)"
   ]
  },
  {
   "cell_type": "code",
   "execution_count": 270,
   "id": "59261a8e-fb1a-4e40-ac61-62f23c0f8499",
   "metadata": {},
   "outputs": [
    {
     "data": {
      "text/plain": [
       "array([1, 1, 1, ..., 0, 0, 0], dtype=int64)"
      ]
     },
     "execution_count": 270,
     "metadata": {},
     "output_type": "execute_result"
    }
   ],
   "source": [
    "np.array(df_Bike_latest_2['고장여부'])"
   ]
  },
  {
   "cell_type": "code",
   "execution_count": 132,
   "id": "58927e32-2390-42db-b741-d54a3955128b",
   "metadata": {},
   "outputs": [
    {
     "data": {
      "image/png": "[encoded data removed]",
      "text/plain": [
       "<Figure size 640x480 with 1 Axes>"
      ]
     },
     "metadata": {},
     "output_type": "display_data"
    },
    {
     "name": "stdout",
     "output_type": "stream",
     "text": [
      "회귀 계수: [0.01942043]\n",
      "절편: 0.5689119661150132\n"
     ]
    }
   ],
   "source": [
    "import numpy as np\n",
    "import pandas as pd\n",
    "import matplotlib.pyplot as plt\n",
    "from sklearn.model_selection import train_test_split\n",
    "from sklearn.linear_model import LinearRegression\n",
    "\n",
    "# # 예시 데이터 생성\n",
    "# # 독립 변수 (예: 고장횟수)\n",
    "# X = np.array([2, 5, 7, 2, 7]).reshape(-1, 1)\n",
    "# # 종속 변수 (예: 고장여부)\n",
    "# y = np.array([1, 1, 1, 1, 1])\n",
    "\n",
    "df_Bike_latest_3 = df_Bike_latest_2[df_Bike_latest_2['이상패턴_횟수'] > 0]\n",
    "X = np.array(df_Bike_latest_3['이상패턴_횟수']).reshape(-1, 1)\n",
    "y = np.array(df_Bike_latest_3['고장여부'])\n",
    "\n",
    "# 데이터셋을 학습 세트와 테스트 세트로 분리\n",
    "X_train, X_test, y_train, y_test = train_test_split(X, y, test_size=0.2, random_state=42)\n",
    "\n",
    "# 선형 회귀 모델 생성 및 학습\n",
    "model = LinearRegression()\n",
    "model.fit(X_train, y_train)\n",
    "\n",
    "# 테스트 세트에 대한 예측\n",
    "y_pred = model.predict(X_test)\n",
    "\n",
    "# 결과 시각화\n",
    "plt.scatter(X_test, y_test, color='blue', label='Actual')\n",
    "plt.plot(X_test, y_pred, color='red', linewidth=2, label='Predicted')\n",
    "plt.xlabel('고장횟수')\n",
    "plt.ylabel('고장여부')\n",
    "plt.title('고장횟수에 따른 고장여부 예측')\n",
    "plt.legend()\n",
    "plt.show()\n",
    "\n",
    "# 회귀 계수 출력\n",
    "print('회귀 계수:', model.coef_)\n",
    "print('절편:', model.intercept_)"
   ]
  },
  {
   "cell_type": "markdown",
   "id": "1a98d7cc-2b5e-495f-8f43-7c7bf0c483c7",
   "metadata": {},
   "source": [
    "---\n",
    "## 로지스틱회귀 모델링"
   ]
  },
  {
   "cell_type": "code",
   "execution_count": 134,
   "id": "006defe2-cf6b-481b-abad-ebbd89a7aa6a",
   "metadata": {},
   "outputs": [
    {
     "data": {
      "image/png": "[encoded data removed]",
      "text/plain": [
       "<Figure size 640x480 with 1 Axes>"
      ]
     },
     "metadata": {},
     "output_type": "display_data"
    },
    {
     "name": "stdout",
     "output_type": "stream",
     "text": [
      "테스트 세트 정확도: 0.6854471349796212\n"
     ]
    }
   ],
   "source": [
    "import numpy as np\n",
    "import pandas as pd\n",
    "from sklearn.model_selection import train_test_split\n",
    "from sklearn.linear_model import LogisticRegression\n",
    "import matplotlib.pyplot as plt\n",
    "\n",
    "# # 예시 데이터 생성\n",
    "# X = np.array([2, 5, 7, 2, 7]).reshape(-1, 1)  # 고장횟수\n",
    "# y = np.array([1, 1, 1, 0, 0])  # 고장여부\n",
    "\n",
    "df_Bike_latest_3 = df_Bike_latest_2[df_Bike_latest_2['이상패턴_횟수'] > 0]\n",
    "df_Bike_latest_3 = df_Bike_latest_2\n",
    "X = np.array(df_Bike_latest_3['이상패턴_횟수']).reshape(-1, 1)\n",
    "y = np.array(df_Bike_latest_3['고장여부'])\n",
    "\n",
    "# 데이터셋을 학습 세트와 테스트 세트로 분리\n",
    "X_train, X_test, y_train, y_test = train_test_split(X, y, test_size=0.2, random_state=444, stratify=y)\n",
    "\n",
    "# 로지스틱 회귀 모델 생성 및 학습\n",
    "model = LogisticRegression()\n",
    "model.fit(X_train, y_train)\n",
    "\n",
    "# 테스트 세트에 대한 예측\n",
    "y_pred = model.predict(X_test)\n",
    "y_prob = model.predict_proba(X_test)[:, 1]\n",
    "\n",
    "# 결과 시각화\n",
    "plt.scatter(X_test, y_test, color='blue', label='Actual')\n",
    "plt.scatter(X_test, y_pred, color='red', label='Predicted')\n",
    "plt.xlabel('고장횟수')\n",
    "plt.ylabel('고장여부')\n",
    "plt.title('고장횟수에 따른 고장여부 예측')\n",
    "plt.legend()\n",
    "plt.show()\n",
    "\n",
    "# 모델 평가\n",
    "print('테스트 세트 정확도:', model.score(X_test, y_test))"
   ]
  },
  {
   "cell_type": "code",
   "execution_count": 142,
   "id": "7c2c23fc-1470-4fa7-afc3-764d528047cd",
   "metadata": {},
   "outputs": [
    {
     "data": {
      "text/plain": [
       "array([[0.0674019]])"
      ]
     },
     "execution_count": 142,
     "metadata": {},
     "output_type": "execute_result"
    }
   ],
   "source": [
    "model.coef_"
   ]
  },
  {
   "cell_type": "markdown",
   "id": "9839e252-917d-4e26-98da-9742e9ceb2d2",
   "metadata": {},
   "source": [
    "### [ 이상패턴 횟수 == 0 ] 것들의 고장여부 비율"
   ]
  },
  {
   "cell_type": "code",
   "execution_count": 144,
   "id": "c1a41a0f-8a72-49f6-a366-4f2ee782a0ce",
   "metadata": {},
   "outputs": [
    {
     "name": "stdout",
     "output_type": "stream",
     "text": [
      "total : 4453\n",
      "counts : 고장여부\n",
      "1    4453\n",
      "Name: count, dtype: int64\n",
      "percentage : 고장여부\n",
      "1    100.0\n",
      "Name: count, dtype: float64\n"
     ]
    }
   ],
   "source": [
    "counts = df_Bike_latest_2[df_Bike_latest_2['이상패턴_횟수'] == 0]['고장여부'].value_counts()\n",
    "total = counts.sum()   # 총 데이터 개수\n",
    "percentage = counts / total * 100   # 비율 계산\n",
    "print(f'total : {total}')\n",
    "print(f'counts : {counts}')\n",
    "print(f'percentage : {percentage}')"
   ]
  },
  {
   "cell_type": "markdown",
   "id": "98fa02e7-4099-4e73-91b1-78dc7df24436",
   "metadata": {},
   "source": [
    "### [ 이상패턴 횟수 > 0 ] 것들의 고장여부 비율"
   ]
  },
  {
   "cell_type": "code",
   "execution_count": 146,
   "id": "bed014df-0121-45c2-9006-77b3f4543cd8",
   "metadata": {},
   "outputs": [
    {
     "name": "stdout",
     "output_type": "stream",
     "text": [
      "total : 37257\n",
      "counts : 고장여부\n",
      "1    24136\n",
      "0    13121\n",
      "Name: count, dtype: int64\n",
      "percentage : 고장여부\n",
      "1    64.782457\n",
      "0    35.217543\n",
      "Name: count, dtype: float64\n"
     ]
    }
   ],
   "source": [
    "counts = df_Bike_latest_2[df_Bike_latest_2['이상패턴_횟수'] > 0]['고장여부'].value_counts()\n",
    "total = counts.sum()   # 총 데이터 개수\n",
    "percentage = counts / total * 100   # 비율 계산\n",
    "print(f'total : {total}')\n",
    "print(f'counts : {counts}')\n",
    "print(f'percentage : {percentage}')"
   ]
  },
  {
   "cell_type": "code",
   "execution_count": null,
   "id": "b75db68d-2f19-4d4e-b191-8c811fa896ab",
   "metadata": {},
   "outputs": [],
   "source": []
  }
 ],
 "metadata": {
  "kernelspec": {
   "display_name": "Python 3 (ipykernel)",
   "language": "python",
   "name": "python3"
  },
  "language_info": {
   "codemirror_mode": {
    "name": "ipython",
    "version": 3
   },
   "file_extension": ".py",
   "mimetype": "text/x-python",
   "name": "python",
   "nbconvert_exporter": "python",
   "pygments_lexer": "ipython3",
   "version": "3.12.4"
  }
 },
 "nbformat": 4,
 "nbformat_minor": 5
}
