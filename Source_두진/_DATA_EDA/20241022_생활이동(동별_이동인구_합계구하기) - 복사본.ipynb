{
 "cells": [
  {
   "cell_type": "code",
   "execution_count": 2,
   "id": "6d53b67a-0b7a-4841-bf76-f9d816a6b9d3",
   "metadata": {},
   "outputs": [],
   "source": [
    "import pandas as pd\n",
    "\n",
    "# 사용자 정의함수 경로 설정\n",
    "import sys\n",
    "sys.path.append(\"G:/내 드라이브/Source/_Custom_Function\")\n",
    "# 사용자 정의함수 불러오기\n",
    "\n",
    "import time\n",
    "\n",
    "import ExcelFile_Merge as em\n",
    "import ExcelFile_Read as er\n",
    "import ExcelFile_EDA as ee"
   ]
  },
  {
   "cell_type": "markdown",
   "id": "1bc88f85-0c6d-4af8-bad2-4294d19dbc22",
   "metadata": {},
   "source": [
    "### 생활이동_행정동_2020.02.csv 불러오기"
   ]
  },
  {
   "cell_type": "code",
   "execution_count": 4,
   "id": "38a2034a-0af9-4664-9cec-e40511c9f901",
   "metadata": {},
   "outputs": [
    {
     "name": "stdout",
     "output_type": "stream",
     "text": [
      "Read_dask time : 0.9837040901184082\n"
     ]
    }
   ],
   "source": [
    "start_time = time.time()\n",
    "filepath = 'G:\\\\내 드라이브\\\\DataSet\\\\_최종 병합 파일\\\\서울 생활이동\\\\2020\\\\'\n",
    "filename = '생활이동_행정동_2020.02'\n",
    "path = filepath + filename + '.csv'\n",
    "df_dask = er.Read_dask(path)\n",
    "print(\"Read_dask time :\", time.time() - start_time)"
   ]
  },
  {
   "cell_type": "code",
   "execution_count": 7,
   "id": "7bf1106f-ce8f-473c-9159-8d606de6c67d",
   "metadata": {},
   "outputs": [
    {
     "name": "stdout",
     "output_type": "stream",
     "text": [
      "[########################################] | 100% Completed | 88.04 s\n",
      "compute time : 88.38867402076721\n"
     ]
    }
   ],
   "source": [
    "from dask.diagnostics import ProgressBar\n",
    "from time import sleep\n",
    "pbar = ProgressBar()\n",
    "pbar.register()\n",
    "\n",
    "start_time = time.time()\n",
    "df_dask_rtn = df_dask.compute()\n",
    "print(\"compute time :\", time.time() - start_time)"
   ]
  },
  {
   "cell_type": "code",
   "execution_count": 10,
   "id": "7d541129-098d-4e2c-85a6-9807c887dc08",
   "metadata": {},
   "outputs": [
    {
     "name": "stdout",
     "output_type": "stream",
     "text": [
      "<class 'pandas.core.frame.DataFrame'>\n",
      "Index: 110094197 entries, 0 to 1412649\n",
      "Data columns (total 10 columns):\n",
      " #   Column       Dtype \n",
      "---  ------       ----- \n",
      " 0   대상연월         int64 \n",
      " 1   요일           object\n",
      " 2   도착시간         int64 \n",
      " 3   출발 행정동 코드    int64 \n",
      " 4   도착 행정동 코드    int64 \n",
      " 5   성별           object\n",
      " 6   나이           int64 \n",
      " 7   이동유형         object\n",
      " 8   평균 이동 시간(분)  int64 \n",
      " 9   이동인구(합)      object\n",
      "dtypes: int64(6), object(4)\n",
      "memory usage: 9.0+ GB\n"
     ]
    }
   ],
   "source": [
    "df_dask_rtn.info()"
   ]
  },
  {
   "cell_type": "code",
   "execution_count": 16,
   "id": "e7e719fb-0839-4c11-9ac5-c6a127cceeb3",
   "metadata": {},
   "outputs": [
    {
     "data": {
      "text/plain": [
       "대상연월           110094197\n",
       "요일             110094197\n",
       "도착시간           110094197\n",
       "출발 행정동 코드      110094197\n",
       "도착 행정동 코드      110094197\n",
       "성별             110094197\n",
       "나이             110094197\n",
       "이동유형           110094197\n",
       "평균 이동 시간(분)    110094197\n",
       "이동인구(합)        110094197\n",
       "dtype: int64"
      ]
     },
     "execution_count": 16,
     "metadata": {},
     "output_type": "execute_result"
    }
   ],
   "source": [
    "df_dask_rtn.count()"
   ]
  },
  {
   "cell_type": "code",
   "execution_count": 12,
   "id": "cc2f089c-d926-40cf-a453-90da1727f47e",
   "metadata": {},
   "outputs": [
    {
     "data": {
      "text/plain": [
       "대상연월\n",
       "202002    110094197\n",
       "Name: count, dtype: int64"
      ]
     },
     "execution_count": 12,
     "metadata": {},
     "output_type": "execute_result"
    }
   ],
   "source": [
    "df_dask_rtn['대상연월'].value_counts()"
   ]
  },
  {
   "cell_type": "code",
   "execution_count": 14,
   "id": "0d201e0b-c43e-45b7-9bc9-1224d9caa08c",
   "metadata": {},
   "outputs": [
    {
     "data": {
      "text/plain": [
       "이동유형\n",
       "EH    24472231\n",
       "HE    22264425\n",
       "EE    20257381\n",
       "WH    12627680\n",
       "HW    12030764\n",
       "WE     9585145\n",
       "EW     6676153\n",
       "WW     1572948\n",
       "HH      607470\n",
       "Name: count, dtype: int64"
      ]
     },
     "execution_count": 14,
     "metadata": {},
     "output_type": "execute_result"
    }
   ],
   "source": [
    "# H : 거주지로 추정되는 곳 (야간상주지)\n",
    "# W : 근무지 또는 학교로 추정되는 곳 (주간상주지)\n",
    "# E : 야간상주지와 주간상주지가 아닌 지역\n",
    "df_dask_rtn['이동유형'].value_counts()"
   ]
  },
  {
   "cell_type": "code",
   "execution_count": 18,
   "id": "9ee44a5e-aba2-4a08-8ac5-f2ac68a98c76",
   "metadata": {},
   "outputs": [
    {
     "data": {
      "text/plain": [
       "대상연월           0\n",
       "요일             0\n",
       "도착시간           0\n",
       "출발 행정동 코드      0\n",
       "도착 행정동 코드      0\n",
       "성별             0\n",
       "나이             0\n",
       "이동유형           0\n",
       "평균 이동 시간(분)    0\n",
       "이동인구(합)        0\n",
       "dtype: int64"
      ]
     },
     "execution_count": 18,
     "metadata": {},
     "output_type": "execute_result"
    }
   ],
   "source": [
    "df_dask_rtn.isnull().sum()"
   ]
  },
  {
   "cell_type": "markdown",
   "id": "b8cd1d7b-f8b3-4f51-9e8b-e0319e7073e1",
   "metadata": {},
   "source": [
    "---\n",
    "### '이동유형' == 'WH' & '도착시간' [7, 8, 9] 인 데이터 조회"
   ]
  },
  {
   "cell_type": "code",
   "execution_count": 20,
   "id": "48c42ac7-07fd-4d6b-ac7d-e2f14cd90616",
   "metadata": {},
   "outputs": [],
   "source": [
    "cond1 = df_dask_rtn['이동유형'] == 'HW'\n",
    "cond2 = df_dask_rtn['도착시간'].isin([7, 8, 9])\n",
    "df_출근 = df_dask_rtn[cond1 & cond2]"
   ]
  },
  {
   "cell_type": "code",
   "execution_count": 22,
   "id": "16852bbe-4f95-4173-a64d-0edcac9e0dd3",
   "metadata": {},
   "outputs": [
    {
     "name": "stdout",
     "output_type": "stream",
     "text": [
      "<class 'pandas.core.frame.DataFrame'>\n",
      "Index: 6304230 entries, 172670 to 1308777\n",
      "Data columns (total 10 columns):\n",
      " #   Column       Dtype \n",
      "---  ------       ----- \n",
      " 0   대상연월         int64 \n",
      " 1   요일           object\n",
      " 2   도착시간         int64 \n",
      " 3   출발 행정동 코드    int64 \n",
      " 4   도착 행정동 코드    int64 \n",
      " 5   성별           object\n",
      " 6   나이           int64 \n",
      " 7   이동유형         object\n",
      " 8   평균 이동 시간(분)  int64 \n",
      " 9   이동인구(합)      object\n",
      "dtypes: int64(6), object(4)\n",
      "memory usage: 529.1+ MB\n"
     ]
    }
   ],
   "source": [
    "df_출근.info()"
   ]
  },
  {
   "cell_type": "markdown",
   "id": "0410dec7-9792-462d-9bc5-8398d18cad15",
   "metadata": {},
   "source": [
    "---\n",
    "### '이동인구(합)' 컬럼 float형으로 변경"
   ]
  },
  {
   "cell_type": "code",
   "execution_count": 25,
   "id": "46251ca4-322d-4393-b80b-a189b42e0d07",
   "metadata": {},
   "outputs": [],
   "source": [
    "df_출근.loc[df_출근['이동인구(합)'] == '*','이동인구(합)'] = '0'"
   ]
  },
  {
   "cell_type": "code",
   "execution_count": 27,
   "id": "c2771421-048e-45c1-b9b0-c4d8c1697742",
   "metadata": {},
   "outputs": [],
   "source": [
    "df_출근 = df_출근.astype({ '이동인구(합)' : 'float' })"
   ]
  },
  {
   "cell_type": "code",
   "execution_count": 29,
   "id": "b70970df-9e63-4b4b-adc6-80e6c6c26e3f",
   "metadata": {},
   "outputs": [
    {
     "data": {
      "text/html": [
       "<div>\n",
       "<style scoped>\n",
       "    .dataframe tbody tr th:only-of-type {\n",
       "        vertical-align: middle;\n",
       "    }\n",
       "\n",
       "    .dataframe tbody tr th {\n",
       "        vertical-align: top;\n",
       "    }\n",
       "\n",
       "    .dataframe thead th {\n",
       "        text-align: right;\n",
       "    }\n",
       "</style>\n",
       "<table border=\"1\" class=\"dataframe\">\n",
       "  <thead>\n",
       "    <tr style=\"text-align: right;\">\n",
       "      <th></th>\n",
       "      <th>대상연월</th>\n",
       "      <th>요일</th>\n",
       "      <th>도착시간</th>\n",
       "      <th>출발 행정동 코드</th>\n",
       "      <th>도착 행정동 코드</th>\n",
       "      <th>성별</th>\n",
       "      <th>나이</th>\n",
       "      <th>이동유형</th>\n",
       "      <th>평균 이동 시간(분)</th>\n",
       "      <th>이동인구(합)</th>\n",
       "    </tr>\n",
       "  </thead>\n",
       "  <tbody>\n",
       "    <tr>\n",
       "      <th>172670</th>\n",
       "      <td>202002</td>\n",
       "      <td>일</td>\n",
       "      <td>8</td>\n",
       "      <td>1101053</td>\n",
       "      <td>1101053</td>\n",
       "      <td>F</td>\n",
       "      <td>20</td>\n",
       "      <td>HW</td>\n",
       "      <td>10</td>\n",
       "      <td>0.00</td>\n",
       "    </tr>\n",
       "    <tr>\n",
       "      <th>172672</th>\n",
       "      <td>202002</td>\n",
       "      <td>일</td>\n",
       "      <td>8</td>\n",
       "      <td>1101053</td>\n",
       "      <td>1101053</td>\n",
       "      <td>F</td>\n",
       "      <td>25</td>\n",
       "      <td>HW</td>\n",
       "      <td>10</td>\n",
       "      <td>0.00</td>\n",
       "    </tr>\n",
       "    <tr>\n",
       "      <th>172674</th>\n",
       "      <td>202002</td>\n",
       "      <td>일</td>\n",
       "      <td>8</td>\n",
       "      <td>1101053</td>\n",
       "      <td>1101053</td>\n",
       "      <td>F</td>\n",
       "      <td>30</td>\n",
       "      <td>HW</td>\n",
       "      <td>10</td>\n",
       "      <td>7.14</td>\n",
       "    </tr>\n",
       "    <tr>\n",
       "      <th>172678</th>\n",
       "      <td>202002</td>\n",
       "      <td>일</td>\n",
       "      <td>8</td>\n",
       "      <td>1101053</td>\n",
       "      <td>1101053</td>\n",
       "      <td>F</td>\n",
       "      <td>35</td>\n",
       "      <td>HW</td>\n",
       "      <td>10</td>\n",
       "      <td>3.00</td>\n",
       "    </tr>\n",
       "    <tr>\n",
       "      <th>172683</th>\n",
       "      <td>202002</td>\n",
       "      <td>일</td>\n",
       "      <td>8</td>\n",
       "      <td>1101053</td>\n",
       "      <td>1101053</td>\n",
       "      <td>F</td>\n",
       "      <td>50</td>\n",
       "      <td>HW</td>\n",
       "      <td>60</td>\n",
       "      <td>3.10</td>\n",
       "    </tr>\n",
       "  </tbody>\n",
       "</table>\n",
       "</div>"
      ],
      "text/plain": [
       "          대상연월 요일  도착시간  출발 행정동 코드  도착 행정동 코드 성별  나이 이동유형  평균 이동 시간(분)  \\\n",
       "172670  202002  일     8    1101053    1101053  F  20   HW           10   \n",
       "172672  202002  일     8    1101053    1101053  F  25   HW           10   \n",
       "172674  202002  일     8    1101053    1101053  F  30   HW           10   \n",
       "172678  202002  일     8    1101053    1101053  F  35   HW           10   \n",
       "172683  202002  일     8    1101053    1101053  F  50   HW           60   \n",
       "\n",
       "        이동인구(합)  \n",
       "172670     0.00  \n",
       "172672     0.00  \n",
       "172674     7.14  \n",
       "172678     3.00  \n",
       "172683     3.10  "
      ]
     },
     "execution_count": 29,
     "metadata": {},
     "output_type": "execute_result"
    }
   ],
   "source": [
    "df_출근.head()"
   ]
  },
  {
   "cell_type": "markdown",
   "id": "075733d3-839e-416b-9926-06f90d44c7a1",
   "metadata": {},
   "source": [
    "---\n",
    "### 행정동 기준으로 '이동인구(합)'의 계 구함"
   ]
  },
  {
   "cell_type": "code",
   "execution_count": 32,
   "id": "9d434e4b-ab69-4f3e-97b5-387f48f90d08",
   "metadata": {},
   "outputs": [],
   "source": [
    "# grp_출근 = df_출근.groupby(['도착 행정동 코드'])['이동인구(합)'].sum().reset_index()\n",
    "grp_출근 = df_출근.groupby(['도착 행정동 코드', '이동유형', '도착시간'])['이동인구(합)'].sum().reset_index()"
   ]
  },
  {
   "cell_type": "code",
   "execution_count": 56,
   "id": "83f65f4b-3ac6-49de-8b31-b2f08c981bc7",
   "metadata": {},
   "outputs": [
    {
     "data": {
      "text/plain": [
       "읍면동        1142\n",
       "이동인구(합)    1142\n",
       "dtype: int64"
      ]
     },
     "execution_count": 56,
     "metadata": {},
     "output_type": "execute_result"
    }
   ],
   "source": [
    "grp_출근.count()"
   ]
  },
  {
   "cell_type": "code",
   "execution_count": 34,
   "id": "81c8dc56-4efd-4c0b-bbf6-6e531dc6f9b0",
   "metadata": {},
   "outputs": [
    {
     "data": {
      "text/html": [
       "<div>\n",
       "<style scoped>\n",
       "    .dataframe tbody tr th:only-of-type {\n",
       "        vertical-align: middle;\n",
       "    }\n",
       "\n",
       "    .dataframe tbody tr th {\n",
       "        vertical-align: top;\n",
       "    }\n",
       "\n",
       "    .dataframe thead th {\n",
       "        text-align: right;\n",
       "    }\n",
       "</style>\n",
       "<table border=\"1\" class=\"dataframe\">\n",
       "  <thead>\n",
       "    <tr style=\"text-align: right;\">\n",
       "      <th></th>\n",
       "      <th>도착 행정동 코드</th>\n",
       "      <th>이동인구(합)</th>\n",
       "    </tr>\n",
       "  </thead>\n",
       "  <tbody>\n",
       "    <tr>\n",
       "      <th>299</th>\n",
       "      <td>1119054</td>\n",
       "      <td>1487123.74</td>\n",
       "    </tr>\n",
       "    <tr>\n",
       "      <th>378</th>\n",
       "      <td>1123064</td>\n",
       "      <td>1467572.10</td>\n",
       "    </tr>\n",
       "    <tr>\n",
       "      <th>21</th>\n",
       "      <td>1101061</td>\n",
       "      <td>1069647.60</td>\n",
       "    </tr>\n",
       "    <tr>\n",
       "      <th>289</th>\n",
       "      <td>1118051</td>\n",
       "      <td>909344.29</td>\n",
       "    </tr>\n",
       "    <tr>\n",
       "      <th>33</th>\n",
       "      <td>1102055</td>\n",
       "      <td>738214.54</td>\n",
       "    </tr>\n",
       "    <tr>\n",
       "      <th>...</th>\n",
       "      <td>...</td>\n",
       "      <td>...</td>\n",
       "    </tr>\n",
       "    <tr>\n",
       "      <th>579</th>\n",
       "      <td>2331041</td>\n",
       "      <td>26.29</td>\n",
       "    </tr>\n",
       "    <tr>\n",
       "      <th>1100</th>\n",
       "      <td>3127040</td>\n",
       "      <td>22.44</td>\n",
       "    </tr>\n",
       "    <tr>\n",
       "      <th>987</th>\n",
       "      <td>3120027</td>\n",
       "      <td>21.76</td>\n",
       "    </tr>\n",
       "    <tr>\n",
       "      <th>1017</th>\n",
       "      <td>3122032</td>\n",
       "      <td>6.48</td>\n",
       "    </tr>\n",
       "    <tr>\n",
       "      <th>789</th>\n",
       "      <td>3107058</td>\n",
       "      <td>0.00</td>\n",
       "    </tr>\n",
       "  </tbody>\n",
       "</table>\n",
       "<p>1142 rows × 2 columns</p>\n",
       "</div>"
      ],
      "text/plain": [
       "      도착 행정동 코드     이동인구(합)\n",
       "299     1119054  1487123.74\n",
       "378     1123064  1467572.10\n",
       "21      1101061  1069647.60\n",
       "289     1118051   909344.29\n",
       "33      1102055   738214.54\n",
       "...         ...         ...\n",
       "579     2331041       26.29\n",
       "1100    3127040       22.44\n",
       "987     3120027       21.76\n",
       "1017    3122032        6.48\n",
       "789     3107058        0.00\n",
       "\n",
       "[1142 rows x 2 columns]"
      ]
     },
     "execution_count": 34,
     "metadata": {},
     "output_type": "execute_result"
    }
   ],
   "source": [
    "grp_출근.sort_values(by=['이동인구(합)'],ascending=False)"
   ]
  },
  {
   "cell_type": "code",
   "execution_count": 36,
   "id": "e3114152-2f13-4996-b15d-e49f1561941b",
   "metadata": {},
   "outputs": [],
   "source": [
    "grp_출근.rename(columns = {\"도착 행정동 코드\": \"읍면동\"}, inplace = True)"
   ]
  },
  {
   "cell_type": "code",
   "execution_count": 38,
   "id": "c3d759ee-f78c-4fb4-9261-ee97291886e4",
   "metadata": {},
   "outputs": [
    {
     "name": "stdout",
     "output_type": "stream",
     "text": [
      "<class 'pandas.core.frame.DataFrame'>\n",
      "RangeIndex: 1142 entries, 0 to 1141\n",
      "Data columns (total 2 columns):\n",
      " #   Column   Non-Null Count  Dtype  \n",
      "---  ------   --------------  -----  \n",
      " 0   읍면동      1142 non-null   int64  \n",
      " 1   이동인구(합)  1142 non-null   float64\n",
      "dtypes: float64(1), int64(1)\n",
      "memory usage: 18.0 KB\n"
     ]
    }
   ],
   "source": [
    "grp_출근.info()"
   ]
  },
  {
   "cell_type": "markdown",
   "id": "78728f06-dbf8-4317-89b9-a1c0de55ffd2",
   "metadata": {},
   "source": [
    "---\n",
    "### 행정동 코드 가져오기"
   ]
  },
  {
   "cell_type": "code",
   "execution_count": 41,
   "id": "5b56e870-943b-43a2-8ec5-2e37d3a68e6d",
   "metadata": {},
   "outputs": [
    {
     "name": "stdout",
     "output_type": "stream",
     "text": [
      "read_csv time : 0.03528189659118652\n"
     ]
    },
    {
     "data": {
      "text/html": [
       "<div>\n",
       "<style scoped>\n",
       "    .dataframe tbody tr th:only-of-type {\n",
       "        vertical-align: middle;\n",
       "    }\n",
       "\n",
       "    .dataframe tbody tr th {\n",
       "        vertical-align: top;\n",
       "    }\n",
       "\n",
       "    .dataframe thead th {\n",
       "        text-align: right;\n",
       "    }\n",
       "</style>\n",
       "<table border=\"1\" class=\"dataframe\">\n",
       "  <thead>\n",
       "    <tr style=\"text-align: right;\">\n",
       "      <th></th>\n",
       "      <th>시도</th>\n",
       "      <th>시군구</th>\n",
       "      <th>읍면동</th>\n",
       "      <th>name</th>\n",
       "      <th>full_name</th>\n",
       "    </tr>\n",
       "  </thead>\n",
       "  <tbody>\n",
       "    <tr>\n",
       "      <th>0</th>\n",
       "      <td>11000</td>\n",
       "      <td>11010</td>\n",
       "      <td>1101053</td>\n",
       "      <td>사직동</td>\n",
       "      <td>서울특별시 종로구 사직동</td>\n",
       "    </tr>\n",
       "    <tr>\n",
       "      <th>1</th>\n",
       "      <td>11000</td>\n",
       "      <td>11010</td>\n",
       "      <td>1101054</td>\n",
       "      <td>삼청동</td>\n",
       "      <td>서울특별시 종로구 삼청동</td>\n",
       "    </tr>\n",
       "    <tr>\n",
       "      <th>2</th>\n",
       "      <td>11000</td>\n",
       "      <td>11010</td>\n",
       "      <td>1101055</td>\n",
       "      <td>부암동</td>\n",
       "      <td>서울특별시 종로구 부암동</td>\n",
       "    </tr>\n",
       "    <tr>\n",
       "      <th>3</th>\n",
       "      <td>11000</td>\n",
       "      <td>11010</td>\n",
       "      <td>1101056</td>\n",
       "      <td>평창동</td>\n",
       "      <td>서울특별시 종로구 평창동</td>\n",
       "    </tr>\n",
       "    <tr>\n",
       "      <th>4</th>\n",
       "      <td>11000</td>\n",
       "      <td>11010</td>\n",
       "      <td>1101057</td>\n",
       "      <td>무악동</td>\n",
       "      <td>서울특별시 종로구 무악동</td>\n",
       "    </tr>\n",
       "  </tbody>\n",
       "</table>\n",
       "</div>"
      ],
      "text/plain": [
       "      시도    시군구      읍면동 name      full_name\n",
       "0  11000  11010  1101053  사직동  서울특별시 종로구 사직동\n",
       "1  11000  11010  1101054  삼청동  서울특별시 종로구 삼청동\n",
       "2  11000  11010  1101055  부암동  서울특별시 종로구 부암동\n",
       "3  11000  11010  1101056  평창동  서울특별시 종로구 평창동\n",
       "4  11000  11010  1101057  무악동  서울특별시 종로구 무악동"
      ]
     },
     "execution_count": 41,
     "metadata": {},
     "output_type": "execute_result"
    }
   ],
   "source": [
    "start_time = time.time()\n",
    "filepath = 'G:\\\\내 드라이브\\\\DataSet\\\\_최종 병합 파일\\\\서울 생활이동\\\\'\n",
    "filename = '서울생활이동데이터_행정동코드_20210907'\n",
    "path = filepath + filename + '.csv'\n",
    "df_dong = pd.read_csv(path, low_memory=False)\n",
    "print(\"read_csv time :\", time.time() - start_time)\n",
    "df_dong.head()"
   ]
  },
  {
   "cell_type": "markdown",
   "id": "e920bf1b-40b5-4940-9e56-414adaa403aa",
   "metadata": {},
   "source": [
    "---\n",
    "### '읍면동' 코드 기준으로 조인"
   ]
  },
  {
   "cell_type": "code",
   "execution_count": 44,
   "id": "74986d93-c1ac-4d22-a1c2-27cecb294a9e",
   "metadata": {},
   "outputs": [],
   "source": [
    "df_출근 = pd.merge(left = grp_출근 , right = df_gu, how = \"left\", on = \"읍면동\")"
   ]
  },
  {
   "cell_type": "code",
   "execution_count": 46,
   "id": "fe6c7428-e30f-4fea-8d3b-ba2e2ede1114",
   "metadata": {},
   "outputs": [
    {
     "data": {
      "text/html": [
       "<div>\n",
       "<style scoped>\n",
       "    .dataframe tbody tr th:only-of-type {\n",
       "        vertical-align: middle;\n",
       "    }\n",
       "\n",
       "    .dataframe tbody tr th {\n",
       "        vertical-align: top;\n",
       "    }\n",
       "\n",
       "    .dataframe thead th {\n",
       "        text-align: right;\n",
       "    }\n",
       "</style>\n",
       "<table border=\"1\" class=\"dataframe\">\n",
       "  <thead>\n",
       "    <tr style=\"text-align: right;\">\n",
       "      <th></th>\n",
       "      <th>읍면동</th>\n",
       "      <th>이동인구(합)</th>\n",
       "      <th>시도</th>\n",
       "      <th>시군구</th>\n",
       "      <th>name</th>\n",
       "      <th>full_name</th>\n",
       "    </tr>\n",
       "  </thead>\n",
       "  <tbody>\n",
       "    <tr>\n",
       "      <th>299</th>\n",
       "      <td>1119054</td>\n",
       "      <td>1487123.74</td>\n",
       "      <td>11000</td>\n",
       "      <td>11190</td>\n",
       "      <td>여의동</td>\n",
       "      <td>서울특별시 영등포구 여의동</td>\n",
       "    </tr>\n",
       "    <tr>\n",
       "      <th>378</th>\n",
       "      <td>1123064</td>\n",
       "      <td>1467572.10</td>\n",
       "      <td>11000</td>\n",
       "      <td>11230</td>\n",
       "      <td>역삼1동</td>\n",
       "      <td>서울특별시 강남구 역삼1동</td>\n",
       "    </tr>\n",
       "    <tr>\n",
       "      <th>21</th>\n",
       "      <td>1101061</td>\n",
       "      <td>1069647.60</td>\n",
       "      <td>11000</td>\n",
       "      <td>11010</td>\n",
       "      <td>종로1·2·3·4가동</td>\n",
       "      <td>서울특별시 종로구 종로1·2·3·4가동</td>\n",
       "    </tr>\n",
       "    <tr>\n",
       "      <th>289</th>\n",
       "      <td>1118051</td>\n",
       "      <td>909344.29</td>\n",
       "      <td>11000</td>\n",
       "      <td>11180</td>\n",
       "      <td>가산동</td>\n",
       "      <td>서울특별시 금천구 가산동</td>\n",
       "    </tr>\n",
       "    <tr>\n",
       "      <th>33</th>\n",
       "      <td>1102055</td>\n",
       "      <td>738214.54</td>\n",
       "      <td>11000</td>\n",
       "      <td>11020</td>\n",
       "      <td>명동</td>\n",
       "      <td>서울특별시 중구 명동</td>\n",
       "    </tr>\n",
       "    <tr>\n",
       "      <th>355</th>\n",
       "      <td>1122053</td>\n",
       "      <td>690428.63</td>\n",
       "      <td>11000</td>\n",
       "      <td>11220</td>\n",
       "      <td>서초3동</td>\n",
       "      <td>서울특별시 서초구 서초3동</td>\n",
       "    </tr>\n",
       "    <tr>\n",
       "      <th>276</th>\n",
       "      <td>1117054</td>\n",
       "      <td>620577.15</td>\n",
       "      <td>11000</td>\n",
       "      <td>11170</td>\n",
       "      <td>구로3동</td>\n",
       "      <td>서울특별시 구로구 구로3동</td>\n",
       "    </tr>\n",
       "    <tr>\n",
       "      <th>31</th>\n",
       "      <td>1102052</td>\n",
       "      <td>606986.46</td>\n",
       "      <td>11000</td>\n",
       "      <td>11020</td>\n",
       "      <td>소공동</td>\n",
       "      <td>서울특별시 중구 소공동</td>\n",
       "    </tr>\n",
       "    <tr>\n",
       "      <th>32</th>\n",
       "      <td>1102054</td>\n",
       "      <td>590607.98</td>\n",
       "      <td>11000</td>\n",
       "      <td>11020</td>\n",
       "      <td>회현동</td>\n",
       "      <td>서울특별시 중구 회현동</td>\n",
       "    </tr>\n",
       "    <tr>\n",
       "      <th>374</th>\n",
       "      <td>1123058</td>\n",
       "      <td>562197.22</td>\n",
       "      <td>11000</td>\n",
       "      <td>11230</td>\n",
       "      <td>삼성1동</td>\n",
       "      <td>서울특별시 강남구 삼성1동</td>\n",
       "    </tr>\n",
       "  </tbody>\n",
       "</table>\n",
       "</div>"
      ],
      "text/plain": [
       "         읍면동     이동인구(합)     시도    시군구         name              full_name\n",
       "299  1119054  1487123.74  11000  11190          여의동         서울특별시 영등포구 여의동\n",
       "378  1123064  1467572.10  11000  11230         역삼1동         서울특별시 강남구 역삼1동\n",
       "21   1101061  1069647.60  11000  11010  종로1·2·3·4가동  서울특별시 종로구 종로1·2·3·4가동\n",
       "289  1118051   909344.29  11000  11180          가산동          서울특별시 금천구 가산동\n",
       "33   1102055   738214.54  11000  11020           명동            서울특별시 중구 명동\n",
       "355  1122053   690428.63  11000  11220         서초3동         서울특별시 서초구 서초3동\n",
       "276  1117054   620577.15  11000  11170         구로3동         서울특별시 구로구 구로3동\n",
       "31   1102052   606986.46  11000  11020          소공동           서울특별시 중구 소공동\n",
       "32   1102054   590607.98  11000  11020          회현동           서울특별시 중구 회현동\n",
       "374  1123058   562197.22  11000  11230         삼성1동         서울특별시 강남구 삼성1동"
      ]
     },
     "execution_count": 46,
     "metadata": {},
     "output_type": "execute_result"
    }
   ],
   "source": [
    "df_출근.sort_values(by=['이동인구(합)'],ascending=False).head(10)"
   ]
  },
  {
   "cell_type": "code",
   "execution_count": 48,
   "id": "b7213b6f-724e-4127-8912-7b3c8bbd660c",
   "metadata": {},
   "outputs": [],
   "source": [
    "import matplotlib.pyplot as plt\n",
    "import seaborn as sns"
   ]
  },
  {
   "cell_type": "code",
   "execution_count": 49,
   "id": "a2eeb79f-1b6a-4b99-ac6c-31867c06ca2d",
   "metadata": {},
   "outputs": [],
   "source": [
    "# 패키지 임포트\n",
    "import numpy as np                  # Numpy(넘파이) 패키지 임포트\n",
    "import pandas as pd                 # pandas(판다스) 패키지 임포트\n",
    "import matplotlib.pyplot as plt     # Matplotlib(맷플롯립) 패키지의 pyplot모듈을 plt로 임포트\n",
    "from matplotlib import rcParams     # 한글 환경 설정을 위한 rcParams 임포트\n",
    "import seaborn as sns               # seaborn(씨본) 패키지 임포트\n",
    "import warnings\n",
    "\n",
    "# 한글 환경 설정\n",
    "def setting_styles_basic():\n",
    "  rcParams['font.family'] = 'Malgun Gothic'     # Window\n",
    "  #rcParams['font.family'] = 'NanumBarunGothic'    # Window\n",
    "  # rcParams['font.family'] = 'AppleGothic'       # Max\n",
    "\n",
    "  rcParams['axes.unicode_minus'] = False\n",
    "\n",
    "setting_styles_basic()\n",
    "\n",
    "# 경고창 무시\n",
    "warnings.filterwarnings('ignore')"
   ]
  },
  {
   "cell_type": "code",
   "execution_count": 50,
   "id": "ee2c30a0-f5bc-4d0b-a8cc-ae0d0d6ea915",
   "metadata": {},
   "outputs": [],
   "source": [
    "# 그래프의 스케일(scale)조정\n",
    "sns.set_context('paper', # notebook, talk, poster\n",
    "                rc = {\n",
    "                    'font.size' : 10,\n",
    "                    'xtick.labelsize' : 10,\n",
    "                    'ytick.labelsize' : 10,\n",
    "                    'axes.labelsize' : 10\n",
    "                })"
   ]
  },
  {
   "cell_type": "code",
   "execution_count": 271,
   "id": "8d51aff3-41cc-4b11-ab90-70f9d3fb511b",
   "metadata": {},
   "outputs": [
    {
     "data": {
      "image/png": "[encoded data removed]",
      "text/plain": [
       "<Figure size 640x480 with 1 Axes>"
      ]
     },
     "metadata": {},
     "output_type": "display_data"
    }
   ],
   "source": [
    "df_temp = df_출근.sort_values(by=['이동인구(합)'],ascending=False).head(10)\n",
    "sns.lineplot(data = df_temp, x = 'name', y = '이동인구(합)')\n",
    "plt.title('202001 - 생활이동')\n",
    "plt.xticks(rotation=40);"
   ]
  }
 ],
 "metadata": {
  "kernelspec": {
   "display_name": "Python 3 (ipykernel)",
   "language": "python",
   "name": "python3"
  },
  "language_info": {
   "codemirror_mode": {
    "name": "ipython",
    "version": 3
   },
   "file_extension": ".py",
   "mimetype": "text/x-python",
   "name": "python",
   "nbconvert_exporter": "python",
   "pygments_lexer": "ipython3",
   "version": "3.12.4"
  }
 },
 "nbformat": 4,
 "nbformat_minor": 5
}
