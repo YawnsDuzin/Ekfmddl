{
 "cells": [
  {
   "cell_type": "code",
   "execution_count": 1,
   "id": "7111de69-a806-47ac-951c-e5371086a98f",
   "metadata": {},
   "outputs": [],
   "source": [
    "# 라이브러리 임포트\n",
    "import os\n",
    "import pandas as pd\n",
    "import dask.dataframe as dd\n",
    "import chardet\n",
    "\n",
    "# 사용자 정의함수 경로 설정\n",
    "import sys\n",
    "sys.path.append(\"G:/내 드라이브/Source/_Custom_Function\")\n",
    "# 사용자 정의함수 불러오기\n",
    "\n",
    "import time\n",
    "\n",
    "import ExcelFile_Merge as em\n",
    "import ExcelFile_Read as er\n",
    "import ExcelFile_EDA as ee"
   ]
  },
  {
   "cell_type": "code",
   "execution_count": 2,
   "id": "9cf5f2e6-9e04-4fc1-9bfe-ccdfd14d4448",
   "metadata": {},
   "outputs": [],
   "source": [
    "filepath = 'G:\\\\내 드라이브\\\\DataSet\\\\_파킷 파일\\\\서울특별시 공공자전거 대여이력 정보\\\\'"
   ]
  },
  {
   "cell_type": "code",
   "execution_count": 11,
   "id": "fbf9dfc1-0eaf-49b3-a565-85664322da32",
   "metadata": {},
   "outputs": [
    {
     "name": "stdout",
     "output_type": "stream",
     "text": [
      " Processed a chunk of size: 765300\n"
     ]
    }
   ],
   "source": [
    "df_1 = er.Read_Chunk('G:\\\\내 드라이브\\\\DataSet\\\\서울특별시 공공자전거 대여이력 정보\\\\2020\\\\공공자전거 대여이력 정보_2020.01.csv')"
   ]
  },
  {
   "cell_type": "code",
   "execution_count": 13,
   "id": "2d0b4844-2994-4e5e-9e36-ec688161c0ac",
   "metadata": {},
   "outputs": [
    {
     "data": {
      "text/html": [
       "<div>\n",
       "<style scoped>\n",
       "    .dataframe tbody tr th:only-of-type {\n",
       "        vertical-align: middle;\n",
       "    }\n",
       "\n",
       "    .dataframe tbody tr th {\n",
       "        vertical-align: top;\n",
       "    }\n",
       "\n",
       "    .dataframe thead th {\n",
       "        text-align: right;\n",
       "    }\n",
       "</style>\n",
       "<table border=\"1\" class=\"dataframe\">\n",
       "  <thead>\n",
       "    <tr style=\"text-align: right;\">\n",
       "      <th></th>\n",
       "      <th>자전거번호</th>\n",
       "      <th>대여일시</th>\n",
       "      <th>대여 대여소번호</th>\n",
       "      <th>대여 대여소명</th>\n",
       "      <th>대여거치대</th>\n",
       "      <th>반납일시</th>\n",
       "      <th>반납대여소번호</th>\n",
       "      <th>반납대여소명</th>\n",
       "      <th>반납거치대</th>\n",
       "      <th>이용시간</th>\n",
       "      <th>이용거리</th>\n",
       "    </tr>\n",
       "  </thead>\n",
       "  <tbody>\n",
       "    <tr>\n",
       "      <th>0</th>\n",
       "      <td>SPB-04061</td>\n",
       "      <td>2020-01-01 00:01:04</td>\n",
       "      <td>429</td>\n",
       "      <td>송도병원</td>\n",
       "      <td>2</td>\n",
       "      <td>2020-01-01 00:04:21</td>\n",
       "      <td>00372</td>\n",
       "      <td>약수역 3번출구 뒤</td>\n",
       "      <td>8</td>\n",
       "      <td>2.0</td>\n",
       "      <td>0.0</td>\n",
       "    </tr>\n",
       "    <tr>\n",
       "      <th>1</th>\n",
       "      <td>SPB-06686</td>\n",
       "      <td>2020-01-01 00:02:53</td>\n",
       "      <td>1637</td>\n",
       "      <td>KT 노원점 건물 앞</td>\n",
       "      <td>14</td>\n",
       "      <td>2020-01-01 00:04:48</td>\n",
       "      <td>01656</td>\n",
       "      <td>중앙하이츠 아파트 입구</td>\n",
       "      <td>9</td>\n",
       "      <td>1.0</td>\n",
       "      <td>350.0</td>\n",
       "    </tr>\n",
       "    <tr>\n",
       "      <th>2</th>\n",
       "      <td>SPB-15937</td>\n",
       "      <td>2020-01-01 00:01:21</td>\n",
       "      <td>1924</td>\n",
       "      <td>삼부르네상스파크빌</td>\n",
       "      <td>10</td>\n",
       "      <td>2020-01-01 00:05:51</td>\n",
       "      <td>01955</td>\n",
       "      <td>디지털입구 교차로</td>\n",
       "      <td>7</td>\n",
       "      <td>4.0</td>\n",
       "      <td>800.0</td>\n",
       "    </tr>\n",
       "    <tr>\n",
       "      <th>3</th>\n",
       "      <td>SPB-14805</td>\n",
       "      <td>2020-01-01 00:03:12</td>\n",
       "      <td>437</td>\n",
       "      <td>대흥역 1번출구</td>\n",
       "      <td>1</td>\n",
       "      <td>2020-01-01 00:05:54</td>\n",
       "      <td>00126</td>\n",
       "      <td>서강대 후문 옆</td>\n",
       "      <td>18</td>\n",
       "      <td>2.0</td>\n",
       "      <td>0.0</td>\n",
       "    </tr>\n",
       "    <tr>\n",
       "      <th>4</th>\n",
       "      <td>SPB-09038</td>\n",
       "      <td>2020-01-01 00:01:11</td>\n",
       "      <td>1168</td>\n",
       "      <td>마곡엠밸리10단지 앞</td>\n",
       "      <td>5</td>\n",
       "      <td>2020-01-01 00:05:57</td>\n",
       "      <td>01152</td>\n",
       "      <td>마곡역교차로</td>\n",
       "      <td>2</td>\n",
       "      <td>4.0</td>\n",
       "      <td>660.0</td>\n",
       "    </tr>\n",
       "  </tbody>\n",
       "</table>\n",
       "</div>"
      ],
      "text/plain": [
       "       자전거번호                 대여일시  대여 대여소번호      대여 대여소명 대여거치대  \\\n",
       "0  SPB-04061  2020-01-01 00:01:04       429         송도병원     2   \n",
       "1  SPB-06686  2020-01-01 00:02:53      1637  KT 노원점 건물 앞    14   \n",
       "2  SPB-15937  2020-01-01 00:01:21      1924    삼부르네상스파크빌    10   \n",
       "3  SPB-14805  2020-01-01 00:03:12       437     대흥역 1번출구     1   \n",
       "4  SPB-09038  2020-01-01 00:01:11      1168  마곡엠밸리10단지 앞     5   \n",
       "\n",
       "                  반납일시 반납대여소번호        반납대여소명  반납거치대  이용시간   이용거리  \n",
       "0  2020-01-01 00:04:21   00372    약수역 3번출구 뒤      8   2.0    0.0  \n",
       "1  2020-01-01 00:04:48   01656  중앙하이츠 아파트 입구      9   1.0  350.0  \n",
       "2  2020-01-01 00:05:51   01955     디지털입구 교차로      7   4.0  800.0  \n",
       "3  2020-01-01 00:05:54   00126      서강대 후문 옆     18   2.0    0.0  \n",
       "4  2020-01-01 00:05:57   01152        마곡역교차로      2   4.0  660.0  "
      ]
     },
     "execution_count": 13,
     "metadata": {},
     "output_type": "execute_result"
    }
   ],
   "source": [
    "df_1.head()"
   ]
  },
  {
   "cell_type": "code",
   "execution_count": 17,
   "id": "dd3b8a87-9eb5-41f1-9bb0-7e2c1ea433ac",
   "metadata": {},
   "outputs": [
    {
     "data": {
      "text/plain": [
       "Index(['자전거번호', '대여일시', '대여 대여소번호', '대여 대여소명', '대여거치대', '반납일시', '반납대여소번호',\n",
       "       '반납대여소명', '반납거치대', '이용시간', '이용거리'],\n",
       "      dtype='object')"
      ]
     },
     "execution_count": 17,
     "metadata": {},
     "output_type": "execute_result"
    }
   ],
   "source": [
    "df_1.columns"
   ]
  },
  {
   "cell_type": "code",
   "execution_count": 5,
   "id": "1186a7a3-79dd-4607-94e7-3e14ddc620b4",
   "metadata": {},
   "outputs": [
    {
     "name": "stdout",
     "output_type": "stream",
     "text": [
      "read_parquet time : 0.06299853324890137\n"
     ]
    }
   ],
   "source": [
    "start_time = time.time()\n",
    "_columns = ['자전거번호', '대여일자', '대여시간', '반납일자', '반납시간', '이용시간(분)', '이용거리(M)']\n",
    "df_parquet_20_24 = dd.read_parquet(filepath + '서울특별시 공공자전거 대여이력 정보_20~24.parquet', columns=_columns)\n",
    "print(\"read_parquet time :\", time.time() - start_time)"
   ]
  },
  {
   "cell_type": "code",
   "execution_count": null,
   "id": "0368a34a-0eaa-4865-ab33-d19b40596f88",
   "metadata": {},
   "outputs": [
    {
     "name": "stdout",
     "output_type": "stream",
     "text": [
      "[                                        ] | 0% Completed | 222.28 ss\n",
      "[                                        ] | 0% Completed | 222.39 s\n",
      "[                                        ] | 0% Completed | 222.45 s\n"
     ]
    }
   ],
   "source": [
    "from dask.diagnostics import ProgressBar\n",
    "from time import sleep\n",
    "pbar = ProgressBar()\n",
    "pbar.register()\n",
    "\n",
    "start_time = time.time()\n",
    "df_parquet_20_24 = df_parquet_20_24[df_parquet_20_24['대여일자'].between('2020-01-01', '2020-12-31')].compute()\n",
    "print(\"compute time :\", time.time() - start_time)"
   ]
  },
  {
   "cell_type": "code",
   "execution_count": null,
   "id": "f15b1fe0-43d4-4ecf-b4cd-4d82edf0c5ec",
   "metadata": {},
   "outputs": [],
   "source": []
  }
 ],
 "metadata": {
  "kernelspec": {
   "display_name": "Python 3 (ipykernel)",
   "language": "python",
   "name": "python3"
  },
  "language_info": {
   "codemirror_mode": {
    "name": "ipython",
    "version": 3
   },
   "file_extension": ".py",
   "mimetype": "text/x-python",
   "name": "python",
   "nbconvert_exporter": "python",
   "pygments_lexer": "ipython3",
   "version": "3.12.4"
  }
 },
 "nbformat": 4,
 "nbformat_minor": 5
}
