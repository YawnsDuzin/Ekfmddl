{
 "cells": [
  {
   "cell_type": "code",
   "execution_count": 1,
   "id": "799b3130-5531-4391-9eba-db9564990b24",
   "metadata": {},
   "outputs": [],
   "source": [
    "# 라이브러리 임포트\n",
    "import os\n",
    "import pandas as pd\n",
    "import chardet\n",
    "\n",
    "# 사용자 정의함수 경로 설정\n",
    "import sys\n",
    "sys.path.append(\"G:/내 드라이브/Source/_Custom_Function\")\n",
    "# 사용자 정의함수 불러오기\n",
    "\n",
    "import time\n",
    "\n",
    "import ExcelFile_Merge as em\n",
    "import ExcelFile_Read as er\n",
    "import ExcelFile_EDA as ee"
   ]
  },
  {
   "cell_type": "code",
   "execution_count": 7,
   "id": "e84c784a-88ed-4663-9a21-61fea9c02de1",
   "metadata": {},
   "outputs": [
    {
     "data": {
      "text/html": [
       "<div>\n",
       "<style scoped>\n",
       "    .dataframe tbody tr th:only-of-type {\n",
       "        vertical-align: middle;\n",
       "    }\n",
       "\n",
       "    .dataframe tbody tr th {\n",
       "        vertical-align: top;\n",
       "    }\n",
       "\n",
       "    .dataframe thead th {\n",
       "        text-align: right;\n",
       "    }\n",
       "</style>\n",
       "<table border=\"1\" class=\"dataframe\">\n",
       "  <thead>\n",
       "    <tr style=\"text-align: right;\">\n",
       "      <th></th>\n",
       "      <th>연도</th>\n",
       "      <th>자치구</th>\n",
       "      <th>총계 연장(㎞)</th>\n",
       "      <th>총계 노선(개)</th>\n",
       "      <th>전용도로 연장(㎞)</th>\n",
       "      <th>전용도로 노선(개)</th>\n",
       "      <th>전용차로 연장(㎞)</th>\n",
       "      <th>전용차로 노선(개)</th>\n",
       "      <th>우선도로 연장(㎞)</th>\n",
       "      <th>우선도로 노선(개)</th>\n",
       "      <th>겸용도로(분리형) 연장(㎞)</th>\n",
       "      <th>겸용도로(분리형) 노선(개)</th>\n",
       "      <th>겸용도로(비분리형) 연장(㎞)</th>\n",
       "      <th>겸용도로(비분리형) 노선(개)</th>\n",
       "    </tr>\n",
       "  </thead>\n",
       "  <tbody>\n",
       "    <tr>\n",
       "      <th>0</th>\n",
       "      <td>2019</td>\n",
       "      <td>종로구</td>\n",
       "      <td>23.7</td>\n",
       "      <td>22</td>\n",
       "      <td>4.1</td>\n",
       "      <td>1</td>\n",
       "      <td>5.8</td>\n",
       "      <td>6</td>\n",
       "      <td>7.9</td>\n",
       "      <td>9</td>\n",
       "      <td>0.0</td>\n",
       "      <td>0</td>\n",
       "      <td>5.9</td>\n",
       "      <td>6</td>\n",
       "    </tr>\n",
       "    <tr>\n",
       "      <th>1</th>\n",
       "      <td>2019</td>\n",
       "      <td>중구</td>\n",
       "      <td>15.4</td>\n",
       "      <td>13</td>\n",
       "      <td>0.0</td>\n",
       "      <td>0</td>\n",
       "      <td>0.7</td>\n",
       "      <td>1</td>\n",
       "      <td>12.3</td>\n",
       "      <td>10</td>\n",
       "      <td>2.4</td>\n",
       "      <td>2</td>\n",
       "      <td>0.0</td>\n",
       "      <td>0</td>\n",
       "    </tr>\n",
       "  </tbody>\n",
       "</table>\n",
       "</div>"
      ],
      "text/plain": [
       "     연도  자치구  총계 연장(㎞)  총계 노선(개)  전용도로 연장(㎞)  전용도로 노선(개)  전용차로 연장(㎞)  \\\n",
       "0  2019  종로구      23.7        22         4.1           1         5.8   \n",
       "1  2019   중구      15.4        13         0.0           0         0.7   \n",
       "\n",
       "   전용차로 노선(개)  우선도로 연장(㎞)  우선도로 노선(개)  겸용도로(분리형) 연장(㎞)  겸용도로(분리형) 노선(개)  \\\n",
       "0           6         7.9           9              0.0                0   \n",
       "1           1        12.3          10              2.4                2   \n",
       "\n",
       "   겸용도로(비분리형) 연장(㎞)  겸용도로(비분리형) 노선(개)  \n",
       "0               5.9                 6  \n",
       "1               0.0                 0  "
      ]
     },
     "execution_count": 7,
     "metadata": {},
     "output_type": "execute_result"
    }
   ],
   "source": [
    "file_path = r'G:\\내 드라이브\\DataSet\\_파킷 파일\\연도별 자치구별 자전거도로 2019-2024(기준연도 +1).parquet'\n",
    "df_temp = pd.read_parquet(file_path)\n",
    "df_temp.head(2)"
   ]
  },
  {
   "cell_type": "code",
   "execution_count": 5,
   "id": "e488d912-5c5f-41c8-a789-433a2eaa3e48",
   "metadata": {},
   "outputs": [
    {
     "data": {
      "text/plain": [
       "Index(['연도', '자치구', '총계 연장(㎞)', '총계 노선(개)', '전용도로 연장(㎞)', '전용도로 노선(개)',\n",
       "       '전용차로 연장(㎞)', '전용차로 노선(개)', '우선도로 연장(㎞)', '우선도로 노선(개)',\n",
       "       '겸용도로(분리형) 연장(㎞)', '겸용도로(분리형) 노선(개)', '겸용도로(비분리형) 연장(㎞)',\n",
       "       '겸용도로(비분리형) 노선(개)'],\n",
       "      dtype='object')"
      ]
     },
     "execution_count": 5,
     "metadata": {},
     "output_type": "execute_result"
    }
   ],
   "source": [
    "df_temp.columns"
   ]
  },
  {
   "cell_type": "code",
   "execution_count": null,
   "id": "df8cc447-42a3-42df-9d55-a4436b273c2b",
   "metadata": {},
   "outputs": [],
   "source": [
    "# 자전거 도로\n",
    "path1 = ''"
   ]
  }
 ],
 "metadata": {
  "kernelspec": {
   "display_name": "Python 3 (ipykernel)",
   "language": "python",
   "name": "python3"
  },
  "language_info": {
   "codemirror_mode": {
    "name": "ipython",
    "version": 3
   },
   "file_extension": ".py",
   "mimetype": "text/x-python",
   "name": "python",
   "nbconvert_exporter": "python",
   "pygments_lexer": "ipython3",
   "version": "3.12.4"
  }
 },
 "nbformat": 4,
 "nbformat_minor": 5
}
