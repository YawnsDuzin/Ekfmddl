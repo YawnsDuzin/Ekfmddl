{
 "cells": [
  {
   "cell_type": "markdown",
   "id": "bdc759d7-a83f-4d96-a068-24ef7bf6ca73",
   "metadata": {},
   "source": [
    "## 기본 라이브러리 불러오기"
   ]
  },
  {
   "cell_type": "code",
   "execution_count": 3,
   "id": "8bab8480-7f89-4548-8936-bb270c4df38a",
   "metadata": {},
   "outputs": [],
   "source": [
    "# 라이브러리 임포트\n",
    "import os\n",
    "import numpy as np\n",
    "import pandas as pd\n",
    "import chardet\n",
    "\n",
    "# 사용자 정의함수 경로 설정\n",
    "import sys\n",
    "sys.path.append(\"G:/내 드라이브/Source/_Custom_Function\")\n",
    "# 사용자 정의함수 불러오기\n",
    "\n",
    "pd.set_option('display.max_column', None)\n",
    "\n",
    "import time\n",
    "\n",
    "import ExcelFile_Merge as em\n",
    "import ExcelFile_Read as er\n",
    "import ExcelFile_EDA as ee"
   ]
  },
  {
   "cell_type": "markdown",
   "id": "0df3ad46-926e-480b-93e6-2f17200a5744",
   "metadata": {},
   "source": [
    "## 기본 데이터 불러오기"
   ]
  },
  {
   "cell_type": "markdown",
   "id": "5c5cdb28-d394-4e60-a855-9590ee80600a",
   "metadata": {},
   "source": [
    "### 서울특별시 공공자전거 대여이력 정보"
   ]
  },
  {
   "cell_type": "code",
   "execution_count": 7,
   "id": "cf6afd53-14ce-4fbb-9f78-168bd9401601",
   "metadata": {},
   "outputs": [
    {
     "name": "stdout",
     "output_type": "stream",
     "text": [
      "read_csv time : 12.815704822540283\n"
     ]
    }
   ],
   "source": [
    "start_time = time.time()\n",
    "_columns = ['자전거번호', '대여일자', '대여시간차', '대여대여소번호', '반납대여소번호', '이용시간(분)', '이용거리(M)']\n",
    "df_BikeRent_2023 = pd.read_parquet('G:\\\\내 드라이브\\\\DataSet\\\\_파킷 파일\\\\서울특별시 공공자전거 대여이력 정보\\\\서울특별시 공공자전거 대여이력 정보_2023_preprocessed.parquet', columns = _columns)\n",
    "print(\"read_csv time :\", time.time() - start_time)"
   ]
  },
  {
   "cell_type": "code",
   "execution_count": 8,
   "id": "95243f8c-3d9d-457c-975c-9f8b39e2d4ab",
   "metadata": {},
   "outputs": [
    {
     "name": "stdout",
     "output_type": "stream",
     "text": [
      "read_csv time : 6.496678590774536\n"
     ]
    }
   ],
   "source": [
    "start_time = time.time()\n",
    "_columns = ['자전거번호', '대여일자', '대여시간차', '대여대여소번호', '반납대여소번호', '이용시간(분)', '이용거리(M)']\n",
    "df_BikeRent_2024 = pd.read_parquet('G:\\\\내 드라이브\\\\DataSet\\\\_파킷 파일\\\\서울특별시 공공자전거 대여이력 정보\\\\서울특별시 공공자전거 대여이력 정보_2024_preprocessed.parquet', columns = _columns)\n",
    "print(\"read_csv time :\", time.time() - start_time)"
   ]
  },
  {
   "cell_type": "markdown",
   "id": "09feea3a-cdb9-4d9d-8191-f0c04e22c7b7",
   "metadata": {},
   "source": [
    "### 23년,24년 데이터 합치기"
   ]
  },
  {
   "cell_type": "code",
   "execution_count": 12,
   "id": "2925976d-3c50-479b-90ce-9305c57370d0",
   "metadata": {},
   "outputs": [],
   "source": [
    "df_BikeRent = pd.concat([df_BikeRent_2023, df_BikeRent_2024], axis=0)"
   ]
  },
  {
   "cell_type": "code",
   "execution_count": 14,
   "id": "60270297-65d3-4a18-9fc8-4519574a124e",
   "metadata": {},
   "outputs": [
    {
     "name": "stdout",
     "output_type": "stream",
     "text": [
      "df_BikeRent_2023.shape[0] : 45363848\n",
      "df_BikeRent_2024.shape[0] : 21621807\n",
      "df_BikeRent.shape[0] : 66985655\n"
     ]
    }
   ],
   "source": [
    "print(f'df_BikeRent_2023.shape[0] : {df_BikeRent_2023.shape[0]}')\n",
    "print(f'df_BikeRent_2024.shape[0] : {df_BikeRent_2024.shape[0]}')\n",
    "print(f'df_BikeRent.shape[0] : {df_BikeRent.shape[0]}')"
   ]
  },
  {
   "cell_type": "code",
   "execution_count": 18,
   "id": "6fdbdb83-0764-4766-9900-e703cab091e0",
   "metadata": {},
   "outputs": [
    {
     "data": {
      "text/html": [
       "<div>\n",
       "<style scoped>\n",
       "    .dataframe tbody tr th:only-of-type {\n",
       "        vertical-align: middle;\n",
       "    }\n",
       "\n",
       "    .dataframe tbody tr th {\n",
       "        vertical-align: top;\n",
       "    }\n",
       "\n",
       "    .dataframe thead th {\n",
       "        text-align: right;\n",
       "    }\n",
       "</style>\n",
       "<table border=\"1\" class=\"dataframe\">\n",
       "  <thead>\n",
       "    <tr style=\"text-align: right;\">\n",
       "      <th></th>\n",
       "      <th>자전거번호</th>\n",
       "      <th>대여일자</th>\n",
       "      <th>대여시간차</th>\n",
       "      <th>대여대여소번호</th>\n",
       "      <th>반납대여소번호</th>\n",
       "      <th>이용시간(분)</th>\n",
       "      <th>이용거리(M)</th>\n",
       "    </tr>\n",
       "  </thead>\n",
       "  <tbody>\n",
       "    <tr>\n",
       "      <th>0</th>\n",
       "      <td>SPB-39194</td>\n",
       "      <td>2023-01-01</td>\n",
       "      <td>0 days 00:00:30</td>\n",
       "      <td>01554</td>\n",
       "      <td>01554</td>\n",
       "      <td>0</td>\n",
       "      <td>0.00</td>\n",
       "    </tr>\n",
       "    <tr>\n",
       "      <th>1</th>\n",
       "      <td>SPB-43457</td>\n",
       "      <td>2023-01-01</td>\n",
       "      <td>0 days 00:02:08</td>\n",
       "      <td>01653</td>\n",
       "      <td>04003</td>\n",
       "      <td>2</td>\n",
       "      <td>0.00</td>\n",
       "    </tr>\n",
       "    <tr>\n",
       "      <th>2</th>\n",
       "      <td>SPB-44383</td>\n",
       "      <td>2023-01-01</td>\n",
       "      <td>0 days 00:00:20</td>\n",
       "      <td>02601</td>\n",
       "      <td>02601</td>\n",
       "      <td>0</td>\n",
       "      <td>0.00</td>\n",
       "    </tr>\n",
       "    <tr>\n",
       "      <th>3</th>\n",
       "      <td>SPB-37186</td>\n",
       "      <td>2023-01-01</td>\n",
       "      <td>0 days 00:02:50</td>\n",
       "      <td>01080</td>\n",
       "      <td>03668</td>\n",
       "      <td>2</td>\n",
       "      <td>0.00</td>\n",
       "    </tr>\n",
       "    <tr>\n",
       "      <th>5</th>\n",
       "      <td>SPB-35099</td>\n",
       "      <td>2023-01-01</td>\n",
       "      <td>0 days 00:04:13</td>\n",
       "      <td>02038</td>\n",
       "      <td>04178</td>\n",
       "      <td>4</td>\n",
       "      <td>1005.05</td>\n",
       "    </tr>\n",
       "  </tbody>\n",
       "</table>\n",
       "</div>"
      ],
      "text/plain": [
       "       자전거번호        대여일자           대여시간차 대여대여소번호 반납대여소번호  이용시간(분)  이용거리(M)\n",
       "0  SPB-39194  2023-01-01 0 days 00:00:30   01554   01554        0     0.00\n",
       "1  SPB-43457  2023-01-01 0 days 00:02:08   01653   04003        2     0.00\n",
       "2  SPB-44383  2023-01-01 0 days 00:00:20   02601   02601        0     0.00\n",
       "3  SPB-37186  2023-01-01 0 days 00:02:50   01080   03668        2     0.00\n",
       "5  SPB-35099  2023-01-01 0 days 00:04:13   02038   04178        4  1005.05"
      ]
     },
     "execution_count": 18,
     "metadata": {},
     "output_type": "execute_result"
    }
   ],
   "source": [
    "df_BikeRent.head()"
   ]
  },
  {
   "cell_type": "code",
   "execution_count": 24,
   "id": "b608f4d6-cf57-46f1-b371-cf85c38f3729",
   "metadata": {},
   "outputs": [
    {
     "data": {
      "text/plain": [
       "44160"
      ]
     },
     "execution_count": 24,
     "metadata": {},
     "output_type": "execute_result"
    }
   ],
   "source": [
    "len(df_BikeRent['자전거번호'].unique())"
   ]
  },
  {
   "cell_type": "markdown",
   "id": "43fe471f-70a9-4359-9346-2678fa369767",
   "metadata": {},
   "source": [
    "---\n",
    "### 서울시 공공자전거 고장신고 내역"
   ]
  },
  {
   "cell_type": "code",
   "execution_count": 27,
   "id": "e8e7f2ed-ef25-4293-9ee6-5f6a8ed9caef",
   "metadata": {},
   "outputs": [
    {
     "name": "stdout",
     "output_type": "stream",
     "text": [
      "read_csv time : 0.3896183967590332\n"
     ]
    }
   ],
   "source": [
    "start_time = time.time()\n",
    "df_BikeBroken = pd.read_parquet('G:\\\\내 드라이브\\\\DataSet\\\\_최종 병합 파일\\\\서울시 공공자전거 고장신고 내역_15-24.06.parquet')\n",
    "print(\"read_csv time :\", time.time() - start_time)"
   ]
  },
  {
   "cell_type": "code",
   "execution_count": 29,
   "id": "2e79db5c-0642-4878-a44a-e7cd402197e7",
   "metadata": {},
   "outputs": [
    {
     "data": {
      "text/plain": [
       "767715"
      ]
     },
     "execution_count": 29,
     "metadata": {},
     "output_type": "execute_result"
    }
   ],
   "source": [
    "df_BikeBroken.shape[0]"
   ]
  },
  {
   "cell_type": "code",
   "execution_count": 31,
   "id": "db7d35ba-d344-418e-bbc1-153d1e4cbe43",
   "metadata": {},
   "outputs": [
    {
     "data": {
      "text/html": [
       "<div>\n",
       "<style scoped>\n",
       "    .dataframe tbody tr th:only-of-type {\n",
       "        vertical-align: middle;\n",
       "    }\n",
       "\n",
       "    .dataframe tbody tr th {\n",
       "        vertical-align: top;\n",
       "    }\n",
       "\n",
       "    .dataframe thead th {\n",
       "        text-align: right;\n",
       "    }\n",
       "</style>\n",
       "<table border=\"1\" class=\"dataframe\">\n",
       "  <thead>\n",
       "    <tr style=\"text-align: right;\">\n",
       "      <th></th>\n",
       "      <th>자전거번호</th>\n",
       "      <th>고장구분</th>\n",
       "      <th>등록일자</th>\n",
       "      <th>등록시간</th>\n",
       "    </tr>\n",
       "  </thead>\n",
       "  <tbody>\n",
       "    <tr>\n",
       "      <th>0</th>\n",
       "      <td>SPB-00108</td>\n",
       "      <td>체인</td>\n",
       "      <td>2015-12-04</td>\n",
       "      <td>07:41:01</td>\n",
       "    </tr>\n",
       "    <tr>\n",
       "      <th>1</th>\n",
       "      <td>SPB-00210</td>\n",
       "      <td>체인</td>\n",
       "      <td>2015-12-07</td>\n",
       "      <td>12:23:33</td>\n",
       "    </tr>\n",
       "    <tr>\n",
       "      <th>2</th>\n",
       "      <td>SPB-00035</td>\n",
       "      <td>기타</td>\n",
       "      <td>2015-12-09</td>\n",
       "      <td>17:07:00</td>\n",
       "    </tr>\n",
       "  </tbody>\n",
       "</table>\n",
       "</div>"
      ],
      "text/plain": [
       "       자전거번호 고장구분        등록일자      등록시간\n",
       "0  SPB-00108   체인  2015-12-04  07:41:01\n",
       "1  SPB-00210   체인  2015-12-07  12:23:33\n",
       "2  SPB-00035  기타   2015-12-09  17:07:00"
      ]
     },
     "execution_count": 31,
     "metadata": {},
     "output_type": "execute_result"
    }
   ],
   "source": [
    "df_BikeBroken.head(3)"
   ]
  },
  {
   "cell_type": "code",
   "execution_count": 35,
   "id": "4f57201d-2751-435b-a2cf-ecf0d1fecdde",
   "metadata": {},
   "outputs": [
    {
     "data": {
      "text/plain": [
       "67543"
      ]
     },
     "execution_count": 35,
     "metadata": {},
     "output_type": "execute_result"
    }
   ],
   "source": [
    "len(df_BikeBroken['자전거번호'].unique())"
   ]
  },
  {
   "cell_type": "code",
   "execution_count": 37,
   "id": "a0fba171-1361-43df-a81f-104cd77d85a9",
   "metadata": {},
   "outputs": [],
   "source": [
    "df_BikeBroken2 = df_BikeBroken[df_BikeBroken['등록일자'].between('2024-01-01', '2024-12-31')]"
   ]
  },
  {
   "cell_type": "code",
   "execution_count": 39,
   "id": "10b0dc13-a58a-4e4b-93ac-7edd3376b059",
   "metadata": {},
   "outputs": [
    {
     "data": {
      "text/plain": [
       "28589"
      ]
     },
     "execution_count": 39,
     "metadata": {},
     "output_type": "execute_result"
    }
   ],
   "source": [
    "len(df_BikeBroken2['자전거번호'].unique())"
   ]
  },
  {
   "cell_type": "code",
   "execution_count": 43,
   "id": "2d702371-7918-45f4-a340-ddc8ea9e54fb",
   "metadata": {},
   "outputs": [
    {
     "data": {
      "text/plain": [
       "자전거번호\n",
       "SPB-30296    24\n",
       "SPB-70298    23\n",
       "SPB-31172    21\n",
       "SPB-41406    21\n",
       "SPB-33626    19\n",
       "             ..\n",
       "SPB-60257     1\n",
       "SPB-40210     1\n",
       "SPB-59161     1\n",
       "SPB-32403     1\n",
       "SPB-35527     1\n",
       "Name: count, Length: 28589, dtype: Int64"
      ]
     },
     "execution_count": 43,
     "metadata": {},
     "output_type": "execute_result"
    }
   ],
   "source": [
    "df_BikeBroken2['자전거번호'].value_counts() == 1"
   ]
  },
  {
   "cell_type": "code",
   "execution_count": 72,
   "id": "74a69e4f-e051-4c40-820a-b716dd6a284b",
   "metadata": {},
   "outputs": [],
   "source": [
    "# '자전거번호'의 빈도 계산\n",
    "bike_counts = df_BikeBroken2['자전거번호'].value_counts()\n",
    "\n",
    "# '자전거번호'의 빈도가 1인 자전거번호만 필터링\n",
    "unique_bikes = bike_counts[bike_counts == 1].index\n",
    "\n",
    "# '자전거번호'가 unique_bikes에 속하는 데이터만 추출\n",
    "df_unique_bikes = df_BikeBroken2[df_BikeBroken2['자전거번호'].isin(unique_bikes)]"
   ]
  },
  {
   "cell_type": "code",
   "execution_count": 74,
   "id": "1e872767-058b-4a9c-80c5-763ed32ea836",
   "metadata": {},
   "outputs": [
    {
     "data": {
      "text/plain": [
       "자전거번호    10015\n",
       "고장구분     10015\n",
       "등록일자     10015\n",
       "등록시간     10015\n",
       "dtype: int64"
      ]
     },
     "execution_count": 74,
     "metadata": {},
     "output_type": "execute_result"
    }
   ],
   "source": [
    "df_unique_bikes.count()"
   ]
  },
  {
   "cell_type": "code",
   "execution_count": 78,
   "id": "6118127c-98cb-490f-85e8-0a96a30569e0",
   "metadata": {},
   "outputs": [
    {
     "name": "stdout",
     "output_type": "stream",
     "text": [
      "10015\n",
      "10015\n"
     ]
    }
   ],
   "source": [
    "print(len(df_unique_bikes))\n",
    "print(df_unique_bikes.shape[0])"
   ]
  },
  {
   "cell_type": "code",
   "execution_count": 80,
   "id": "6791a69c-e4f6-491d-8648-fe9f9a80a7af",
   "metadata": {},
   "outputs": [
    {
     "data": {
      "text/html": [
       "<div>\n",
       "<style scoped>\n",
       "    .dataframe tbody tr th:only-of-type {\n",
       "        vertical-align: middle;\n",
       "    }\n",
       "\n",
       "    .dataframe tbody tr th {\n",
       "        vertical-align: top;\n",
       "    }\n",
       "\n",
       "    .dataframe thead th {\n",
       "        text-align: right;\n",
       "    }\n",
       "</style>\n",
       "<table border=\"1\" class=\"dataframe\">\n",
       "  <thead>\n",
       "    <tr style=\"text-align: right;\">\n",
       "      <th></th>\n",
       "      <th>자전거번호</th>\n",
       "      <th>고장구분</th>\n",
       "      <th>등록일자</th>\n",
       "      <th>등록시간</th>\n",
       "    </tr>\n",
       "  </thead>\n",
       "  <tbody>\n",
       "    <tr>\n",
       "      <th>691270</th>\n",
       "      <td>SPB-67387</td>\n",
       "      <td>체인</td>\n",
       "      <td>2024-01-01</td>\n",
       "      <td>09:26:17</td>\n",
       "    </tr>\n",
       "    <tr>\n",
       "      <th>691284</th>\n",
       "      <td>SPB-54385</td>\n",
       "      <td>기타</td>\n",
       "      <td>2024-01-01</td>\n",
       "      <td>12:35:40</td>\n",
       "    </tr>\n",
       "    <tr>\n",
       "      <th>691285</th>\n",
       "      <td>SPB-51761</td>\n",
       "      <td>안장</td>\n",
       "      <td>2024-01-01</td>\n",
       "      <td>12:37:46</td>\n",
       "    </tr>\n",
       "    <tr>\n",
       "      <th>691287</th>\n",
       "      <td>SPB-44387</td>\n",
       "      <td>타이어</td>\n",
       "      <td>2024-01-01</td>\n",
       "      <td>13:14:21</td>\n",
       "    </tr>\n",
       "    <tr>\n",
       "      <th>691315</th>\n",
       "      <td>SPB-82707</td>\n",
       "      <td>체인</td>\n",
       "      <td>2024-01-01</td>\n",
       "      <td>15:50:47</td>\n",
       "    </tr>\n",
       "  </tbody>\n",
       "</table>\n",
       "</div>"
      ],
      "text/plain": [
       "            자전거번호  고장구분        등록일자      등록시간\n",
       "691270  SPB-67387    체인  2024-01-01  09:26:17\n",
       "691284  SPB-54385   기타   2024-01-01  12:35:40\n",
       "691285  SPB-51761    안장  2024-01-01  12:37:46\n",
       "691287  SPB-44387  타이어   2024-01-01  13:14:21\n",
       "691315  SPB-82707    체인  2024-01-01  15:50:47"
      ]
     },
     "execution_count": 80,
     "metadata": {},
     "output_type": "execute_result"
    }
   ],
   "source": [
    "df_unique_bikes.head(5)"
   ]
  },
  {
   "cell_type": "code",
   "execution_count": 84,
   "id": "abccfd7c-c74e-400d-91b1-f98de9701b43",
   "metadata": {},
   "outputs": [
    {
     "data": {
      "text/html": [
       "<div>\n",
       "<style scoped>\n",
       "    .dataframe tbody tr th:only-of-type {\n",
       "        vertical-align: middle;\n",
       "    }\n",
       "\n",
       "    .dataframe tbody tr th {\n",
       "        vertical-align: top;\n",
       "    }\n",
       "\n",
       "    .dataframe thead th {\n",
       "        text-align: right;\n",
       "    }\n",
       "</style>\n",
       "<table border=\"1\" class=\"dataframe\">\n",
       "  <thead>\n",
       "    <tr style=\"text-align: right;\">\n",
       "      <th></th>\n",
       "      <th>자전거번호</th>\n",
       "      <th>고장구분</th>\n",
       "      <th>등록일자</th>\n",
       "      <th>등록시간</th>\n",
       "    </tr>\n",
       "  </thead>\n",
       "  <tbody>\n",
       "    <tr>\n",
       "      <th>691270</th>\n",
       "      <td>SPB-67387</td>\n",
       "      <td>체인</td>\n",
       "      <td>2024-01-01</td>\n",
       "      <td>09:26:17</td>\n",
       "    </tr>\n",
       "  </tbody>\n",
       "</table>\n",
       "</div>"
      ],
      "text/plain": [
       "            자전거번호 고장구분        등록일자      등록시간\n",
       "691270  SPB-67387   체인  2024-01-01  09:26:17"
      ]
     },
     "execution_count": 84,
     "metadata": {},
     "output_type": "execute_result"
    }
   ],
   "source": [
    "df_BikeBroken2[df_BikeBroken2['자전거번호'] == 'SPB-67387']"
   ]
  },
  {
   "cell_type": "code",
   "execution_count": 51,
   "id": "21a31291-9863-4fa0-9051-95217cb58bcb",
   "metadata": {},
   "outputs": [],
   "source": [
    "import matplotlib.pyplot as plt\n",
    "import seaborn as sns\n",
    "\n",
    "# 한글 폰트 설정 (Windows에서는 'Malgun Gothic' 사용)\n",
    "plt.rcParams['font.family'] = 'Malgun Gothic'\n",
    "# 마이너스 기호 깨짐 방지\n",
    "plt.rcParams['axes.unicode_minus'] = False"
   ]
  },
  {
   "cell_type": "code",
   "execution_count": 56,
   "id": "b1b3eb84-2537-4147-9f68-47375a014490",
   "metadata": {},
   "outputs": [
    {
     "data": {
      "text/plain": [
       "Text(0, 0.5, '빈도수')"
      ]
     },
     "execution_count": 56,
     "metadata": {},
     "output_type": "execute_result"
    },
    {
     "data": {
      "image/png": "[encoded data removed]",
      "text/plain": [
       "<Figure size 1000x600 with 1 Axes>"
      ]
     },
     "metadata": {},
     "output_type": "display_data"
    }
   ],
   "source": [
    "# 그래프 크기 설정\n",
    "plt.figure(figsize=(10, 6))\n",
    "\n",
    "title = ''\n",
    "xlabel = ''\n",
    "_color = 'lightgreen'\n",
    "\n",
    "plt.subplot(1, 2, 1)\n",
    "sns.histplot(df_BikeBroken2['자전거번호'].value_counts(), bins=10, kde=True, color=_color)\n",
    "plt.title(title)\n",
    "plt.xlabel(xlabel)\n",
    "plt.ylabel('빈도수')"
   ]
  },
  {
   "cell_type": "code",
   "execution_count": null,
   "id": "bfc02798-7234-479d-8e3a-3ac2bc39ead7",
   "metadata": {},
   "outputs": [],
   "source": []
  }
 ],
 "metadata": {
  "kernelspec": {
   "display_name": "Python 3 (ipykernel)",
   "language": "python",
   "name": "python3"
  },
  "language_info": {
   "codemirror_mode": {
    "name": "ipython",
    "version": 3
   },
   "file_extension": ".py",
   "mimetype": "text/x-python",
   "name": "python",
   "nbconvert_exporter": "python",
   "pygments_lexer": "ipython3",
   "version": "3.12.4"
  }
 },
 "nbformat": 4,
 "nbformat_minor": 5
}
