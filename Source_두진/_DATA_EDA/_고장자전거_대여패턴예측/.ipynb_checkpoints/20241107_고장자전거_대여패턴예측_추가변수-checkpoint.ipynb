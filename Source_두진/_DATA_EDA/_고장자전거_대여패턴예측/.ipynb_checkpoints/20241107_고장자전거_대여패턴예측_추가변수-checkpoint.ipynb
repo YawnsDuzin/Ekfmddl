{
 "cells": [
  {
   "cell_type": "markdown",
   "id": "b612bf6c-e5e4-4496-8d16-b22a39542f73",
   "metadata": {},
   "source": [
    "## 기본 라이브러리 불러오기"
   ]
  },
  {
   "cell_type": "code",
   "execution_count": 60,
   "id": "58e2f7bd-35ca-4aab-a31e-ae79a8c944f4",
   "metadata": {},
   "outputs": [],
   "source": [
    "# 라이브러리 임포트\n",
    "import os\n",
    "import numpy as np\n",
    "import pandas as pd\n",
    "import chardet\n",
    "\n",
    "# 사용자 정의함수 경로 설정\n",
    "import sys\n",
    "sys.path.append(\"G:/내 드라이브/Source/_Custom_Function\")\n",
    "# 사용자 정의함수 불러오기\n",
    "\n",
    "pd.set_option('display.max_column', None)\n",
    "\n",
    "import time\n",
    "\n",
    "import ExcelFile_Merge as em\n",
    "import ExcelFile_Read as er\n",
    "import ExcelFile_EDA as ee"
   ]
  },
  {
   "cell_type": "markdown",
   "id": "b737c7fe-aa90-420c-8d2f-e2504aeb3e19",
   "metadata": {},
   "source": [
    "## 기본 데이터 불러오기"
   ]
  },
  {
   "cell_type": "markdown",
   "id": "fac13e28-d773-41fc-972a-eaed0c0eb39f",
   "metadata": {},
   "source": [
    "### 서울특별시 공공자전거 대여이력 정보"
   ]
  },
  {
   "cell_type": "code",
   "execution_count": 380,
   "id": "964eee9f-eed0-456a-99d1-6566a2b24a53",
   "metadata": {},
   "outputs": [
    {
     "name": "stdout",
     "output_type": "stream",
     "text": [
      "read_csv time : 13.030431032180786\n"
     ]
    }
   ],
   "source": [
    "start_time = time.time()\n",
    "_columns = ['자전거번호', '대여일자', '대여시간차', '대여대여소번호', '반납대여소번호', '이용시간(분)', '이용거리(M)']\n",
    "df_BikeRent_2023 = pd.read_parquet('G:\\\\내 드라이브\\\\DataSet\\\\_파킷 파일\\\\서울특별시 공공자전거 대여이력 정보\\\\서울특별시 공공자전거 대여이력 정보_2023_preprocessed.parquet', columns = _columns)\n",
    "print(\"read_csv time :\", time.time() - start_time)"
   ]
  },
  {
   "cell_type": "code",
   "execution_count": 381,
   "id": "4b550c78-ec8e-45a5-b99d-2b057dc63bee",
   "metadata": {},
   "outputs": [
    {
     "name": "stdout",
     "output_type": "stream",
     "text": [
      "read_csv time : 6.139447927474976\n"
     ]
    }
   ],
   "source": [
    "start_time = time.time()\n",
    "_columns = ['자전거번호', '대여일자', '대여시간차', '대여대여소번호', '반납대여소번호', '이용시간(분)', '이용거리(M)']\n",
    "df_BikeRent_2024 = pd.read_parquet('G:\\\\내 드라이브\\\\DataSet\\\\_파킷 파일\\\\서울특별시 공공자전거 대여이력 정보\\\\서울특별시 공공자전거 대여이력 정보_2024_preprocessed.parquet', columns = _columns)\n",
    "print(\"read_csv time :\", time.time() - start_time)"
   ]
  },
  {
   "cell_type": "markdown",
   "id": "69b5a640-bb61-4aff-a0df-0bdc17719f0c",
   "metadata": {},
   "source": [
    "### 23년,24년 데이터 합치기"
   ]
  },
  {
   "cell_type": "code",
   "execution_count": 384,
   "id": "6c7bf437-6a76-40b2-b12d-89770308646b",
   "metadata": {},
   "outputs": [],
   "source": [
    "df_BikeRent = pd.concat([df_BikeRent_2023, df_BikeRent_2024], axis=0)"
   ]
  },
  {
   "cell_type": "code",
   "execution_count": 385,
   "id": "2cb8f57d-f3b8-4d42-bf5b-28df4ae4dd42",
   "metadata": {},
   "outputs": [
    {
     "name": "stdout",
     "output_type": "stream",
     "text": [
      "df_BikeRent_2023.shape[0] : 45363848\n",
      "df_BikeRent_2024.shape[0] : 21621807\n",
      "df_BikeRent.shape[0] : 66985655\n"
     ]
    }
   ],
   "source": [
    "print(f'df_BikeRent_2023.shape[0] : {df_BikeRent_2023.shape[0]}')\n",
    "print(f'df_BikeRent_2024.shape[0] : {df_BikeRent_2024.shape[0]}')\n",
    "print(f'df_BikeRent.shape[0] : {df_BikeRent.shape[0]}')"
   ]
  },
  {
   "cell_type": "code",
   "execution_count": 388,
   "id": "d90372c6-54fe-47ca-b930-99d8f0707e6a",
   "metadata": {},
   "outputs": [
    {
     "name": "stdout",
     "output_type": "stream",
     "text": [
      "<class 'pandas.core.frame.DataFrame'>\n",
      "Index: 66985655 entries, 0 to 22107539\n",
      "Data columns (total 7 columns):\n",
      " #   Column   Dtype          \n",
      "---  ------   -----          \n",
      " 0   자전거번호    object         \n",
      " 1   대여일자     object         \n",
      " 2   대여시간차    timedelta64[ns]\n",
      " 3   대여대여소번호  object         \n",
      " 4   반납대여소번호  object         \n",
      " 5   이용시간(분)  int64          \n",
      " 6   이용거리(M)  float64        \n",
      "dtypes: float64(1), int64(1), object(4), timedelta64[ns](1)\n",
      "memory usage: 4.0+ GB\n"
     ]
    }
   ],
   "source": [
    "df_BikeRent.info()"
   ]
  },
  {
   "cell_type": "code",
   "execution_count": 390,
   "id": "6a31ce72-5684-46da-bb0e-d518a35256a5",
   "metadata": {},
   "outputs": [
    {
     "data": {
      "text/html": [
       "<div>\n",
       "<style scoped>\n",
       "    .dataframe tbody tr th:only-of-type {\n",
       "        vertical-align: middle;\n",
       "    }\n",
       "\n",
       "    .dataframe tbody tr th {\n",
       "        vertical-align: top;\n",
       "    }\n",
       "\n",
       "    .dataframe thead th {\n",
       "        text-align: right;\n",
       "    }\n",
       "</style>\n",
       "<table border=\"1\" class=\"dataframe\">\n",
       "  <thead>\n",
       "    <tr style=\"text-align: right;\">\n",
       "      <th></th>\n",
       "      <th>자전거번호</th>\n",
       "      <th>대여일자</th>\n",
       "      <th>대여시간차</th>\n",
       "      <th>대여대여소번호</th>\n",
       "      <th>반납대여소번호</th>\n",
       "      <th>이용시간(분)</th>\n",
       "      <th>이용거리(M)</th>\n",
       "    </tr>\n",
       "  </thead>\n",
       "  <tbody>\n",
       "    <tr>\n",
       "      <th>0</th>\n",
       "      <td>SPB-39194</td>\n",
       "      <td>2023-01-01</td>\n",
       "      <td>0 days 00:00:30</td>\n",
       "      <td>01554</td>\n",
       "      <td>01554</td>\n",
       "      <td>0</td>\n",
       "      <td>0.0</td>\n",
       "    </tr>\n",
       "    <tr>\n",
       "      <th>1</th>\n",
       "      <td>SPB-43457</td>\n",
       "      <td>2023-01-01</td>\n",
       "      <td>0 days 00:02:08</td>\n",
       "      <td>01653</td>\n",
       "      <td>04003</td>\n",
       "      <td>2</td>\n",
       "      <td>0.0</td>\n",
       "    </tr>\n",
       "  </tbody>\n",
       "</table>\n",
       "</div>"
      ],
      "text/plain": [
       "       자전거번호        대여일자           대여시간차 대여대여소번호 반납대여소번호  이용시간(분)  이용거리(M)\n",
       "0  SPB-39194  2023-01-01 0 days 00:00:30   01554   01554        0      0.0\n",
       "1  SPB-43457  2023-01-01 0 days 00:02:08   01653   04003        2      0.0"
      ]
     },
     "execution_count": 390,
     "metadata": {},
     "output_type": "execute_result"
    }
   ],
   "source": [
    "df_BikeRent.head(2)"
   ]
  },
  {
   "cell_type": "markdown",
   "id": "70aa52fb-2943-4725-8cda-af3744fb0159",
   "metadata": {},
   "source": [
    "---\n",
    "### df_BikeRent 의 데이터를 조건에 재조회\n",
    "- 대여시간차가 5분 미만인 데이터\n",
    "- 대여 대여소 번호와 반납 대여소 번호가 동일한 데이터"
   ]
  },
  {
   "cell_type": "code",
   "execution_count": 393,
   "id": "740fe827-0a1f-4fde-8e59-db136f447899",
   "metadata": {},
   "outputs": [],
   "source": [
    "# 대여일자를 날짜 형식으로 변환\n",
    "df_BikeRent['대여일자'] = pd.to_datetime(df_BikeRent['대여일자'])"
   ]
  },
  {
   "cell_type": "code",
   "execution_count": 394,
   "id": "c0c32043-0d29-472c-8270-9bfc8dc5d2b5",
   "metadata": {},
   "outputs": [],
   "source": [
    "# 2023.09.01 ~ 2024.06.30\n",
    "# 이상패턴 횟수 - 조회용\n",
    "df_BikeRent230901_240630 = df_BikeRent[df_BikeRent['대여일자'].between('2023-09-01', '2024-06-30')]\n",
    "# 2024.01.01 ~ 2024.06.30\n",
    "# 정상 자전거번호 확인용\n",
    "df_BikeRent240101_240630 = df_BikeRent[df_BikeRent['대여일자'].between('2024-01-01', '2024-06-30')]"
   ]
  },
  {
   "cell_type": "code",
   "execution_count": 397,
   "id": "6080c0d0-a73a-4688-b668-3e111a3808af",
   "metadata": {},
   "outputs": [
    {
     "name": "stdout",
     "output_type": "stream",
     "text": [
      "df_BikeRent230901_240630.shape[0] : 37176899\n",
      "df_BikeRent240101_240630.shape[0] : 21621807\n"
     ]
    }
   ],
   "source": [
    "print(f'df_BikeRent230901_240630.shape[0] : {df_BikeRent230901_240630.shape[0]}')\n",
    "print(f'df_BikeRent240101_240630.shape[0] : {df_BikeRent240101_240630.shape[0]}')"
   ]
  },
  {
   "cell_type": "markdown",
   "id": "d2b6db5f-be8a-42b5-906a-7eb268e3a4c2",
   "metadata": {},
   "source": [
    "---\n",
    "### 서울시 공공자전거 고장신고 내역"
   ]
  },
  {
   "cell_type": "code",
   "execution_count": 400,
   "id": "e01f5572-1ab6-4194-b894-c0f7a9f6d7ef",
   "metadata": {},
   "outputs": [
    {
     "name": "stdout",
     "output_type": "stream",
     "text": [
      "read_csv time : 2.6409881114959717\n"
     ]
    }
   ],
   "source": [
    "start_time = time.time()\n",
    "df_BikeBroken = pd.read_parquet('G:\\\\내 드라이브\\\\DataSet\\\\_최종 병합 파일\\\\서울시 공공자전거 고장신고 내역_15-24.06.parquet')\n",
    "print(\"read_csv time :\", time.time() - start_time)"
   ]
  },
  {
   "cell_type": "code",
   "execution_count": 402,
   "id": "e40a8f13-a8ad-4410-a542-4877250021b6",
   "metadata": {},
   "outputs": [
    {
     "data": {
      "text/html": [
       "<div>\n",
       "<style scoped>\n",
       "    .dataframe tbody tr th:only-of-type {\n",
       "        vertical-align: middle;\n",
       "    }\n",
       "\n",
       "    .dataframe tbody tr th {\n",
       "        vertical-align: top;\n",
       "    }\n",
       "\n",
       "    .dataframe thead th {\n",
       "        text-align: right;\n",
       "    }\n",
       "</style>\n",
       "<table border=\"1\" class=\"dataframe\">\n",
       "  <thead>\n",
       "    <tr style=\"text-align: right;\">\n",
       "      <th></th>\n",
       "      <th>자전거번호</th>\n",
       "      <th>고장구분</th>\n",
       "      <th>등록일자</th>\n",
       "      <th>등록시간</th>\n",
       "    </tr>\n",
       "  </thead>\n",
       "  <tbody>\n",
       "    <tr>\n",
       "      <th>0</th>\n",
       "      <td>SPB-00108</td>\n",
       "      <td>체인</td>\n",
       "      <td>2015-12-04</td>\n",
       "      <td>07:41:01</td>\n",
       "    </tr>\n",
       "    <tr>\n",
       "      <th>1</th>\n",
       "      <td>SPB-00210</td>\n",
       "      <td>체인</td>\n",
       "      <td>2015-12-07</td>\n",
       "      <td>12:23:33</td>\n",
       "    </tr>\n",
       "    <tr>\n",
       "      <th>2</th>\n",
       "      <td>SPB-00035</td>\n",
       "      <td>기타</td>\n",
       "      <td>2015-12-09</td>\n",
       "      <td>17:07:00</td>\n",
       "    </tr>\n",
       "  </tbody>\n",
       "</table>\n",
       "</div>"
      ],
      "text/plain": [
       "       자전거번호 고장구분        등록일자      등록시간\n",
       "0  SPB-00108   체인  2015-12-04  07:41:01\n",
       "1  SPB-00210   체인  2015-12-07  12:23:33\n",
       "2  SPB-00035  기타   2015-12-09  17:07:00"
      ]
     },
     "execution_count": 402,
     "metadata": {},
     "output_type": "execute_result"
    }
   ],
   "source": [
    "df_BikeBroken.head(3)"
   ]
  },
  {
   "cell_type": "code",
   "execution_count": 404,
   "id": "9c372c55-973e-42ae-8c8d-16970d4f6f24",
   "metadata": {},
   "outputs": [
    {
     "data": {
      "text/plain": [
       "767715"
      ]
     },
     "execution_count": 404,
     "metadata": {},
     "output_type": "execute_result"
    }
   ],
   "source": [
    "df_BikeBroken.shape[0]"
   ]
  },
  {
   "cell_type": "markdown",
   "id": "ac800bbf-5e07-4a2a-a3e8-fc480c9c0008",
   "metadata": {},
   "source": [
    "---\n",
    "### 2024년 고장이력만 조회\n",
    "- 등록일자 : 2024-01-01 ~ 2024-06-30"
   ]
  },
  {
   "cell_type": "code",
   "execution_count": 407,
   "id": "e695b837-f460-4c91-bfde-a6d838cf1f80",
   "metadata": {},
   "outputs": [],
   "source": [
    "df_BikeBroken2 = df_BikeBroken[df_BikeBroken['등록일자'].between('2024-01-01', '2024-12-31')]"
   ]
  },
  {
   "cell_type": "code",
   "execution_count": 409,
   "id": "6753f68b-cbfd-493b-9420-b8de4dae0d9c",
   "metadata": {},
   "outputs": [
    {
     "name": "stdout",
     "output_type": "stream",
     "text": [
      "df_BikeBroken.shape[0] 767715\n",
      "df_BikeBroken2.shape[0] 76463\n"
     ]
    }
   ],
   "source": [
    "print(f'df_BikeBroken.shape[0] {df_BikeBroken.shape[0]}')\n",
    "print(f'df_BikeBroken2.shape[0] {df_BikeBroken2.shape[0]}')"
   ]
  },
  {
   "cell_type": "code",
   "execution_count": 411,
   "id": "5510df62-67ff-4448-bc6c-0d3e9db6ae6d",
   "metadata": {},
   "outputs": [
    {
     "data": {
      "text/plain": [
       "<StringArray>\n",
       "['SPB-40704', 'SPB-65171', 'SPB-44316', 'SPB-31539', 'SPB-51998', 'SPB-38568',\n",
       " 'SPB-68235', 'SPB-44078', 'SPB-66158', 'SPB-45102',\n",
       " ...\n",
       " 'SPB-64200', 'SPB-42922', 'SPB-69655', 'SPB-39650', 'SPB-38653', 'SPB-62989',\n",
       " 'SPB-31854', 'SPB-62325', 'SPB-62654', 'SPB-35527']\n",
       "Length: 28589, dtype: string"
      ]
     },
     "execution_count": 411,
     "metadata": {},
     "output_type": "execute_result"
    }
   ],
   "source": [
    "df_BikeBroken2['자전거번호'].unique()"
   ]
  },
  {
   "cell_type": "code",
   "execution_count": 413,
   "id": "75ca0bcb-0a35-42ec-a039-53465a85bab8",
   "metadata": {},
   "outputs": [
    {
     "data": {
      "text/plain": [
       "자전거번호\n",
       "SPB-30296    24\n",
       "SPB-70298    23\n",
       "SPB-31172    21\n",
       "SPB-41406    21\n",
       "SPB-33626    19\n",
       "             ..\n",
       "SPB-60257     1\n",
       "SPB-40210     1\n",
       "SPB-59161     1\n",
       "SPB-32403     1\n",
       "SPB-35527     1\n",
       "Name: count, Length: 28589, dtype: Int64"
      ]
     },
     "execution_count": 413,
     "metadata": {},
     "output_type": "execute_result"
    }
   ],
   "source": [
    "df_BikeBroken2['자전거번호'].value_counts()"
   ]
  },
  {
   "cell_type": "code",
   "execution_count": 415,
   "id": "5d3a9b22-dc4a-4a0e-b27e-6f83572169a9",
   "metadata": {},
   "outputs": [
    {
     "data": {
      "text/html": [
       "<div>\n",
       "<style scoped>\n",
       "    .dataframe tbody tr th:only-of-type {\n",
       "        vertical-align: middle;\n",
       "    }\n",
       "\n",
       "    .dataframe tbody tr th {\n",
       "        vertical-align: top;\n",
       "    }\n",
       "\n",
       "    .dataframe thead th {\n",
       "        text-align: right;\n",
       "    }\n",
       "</style>\n",
       "<table border=\"1\" class=\"dataframe\">\n",
       "  <thead>\n",
       "    <tr style=\"text-align: right;\">\n",
       "      <th></th>\n",
       "      <th>자전거번호</th>\n",
       "      <th>고장구분</th>\n",
       "      <th>등록일자</th>\n",
       "      <th>등록시간</th>\n",
       "    </tr>\n",
       "  </thead>\n",
       "  <tbody>\n",
       "    <tr>\n",
       "      <th>691252</th>\n",
       "      <td>SPB-40704</td>\n",
       "      <td>단말기</td>\n",
       "      <td>2024-01-01</td>\n",
       "      <td>03:57:03</td>\n",
       "    </tr>\n",
       "    <tr>\n",
       "      <th>691351</th>\n",
       "      <td>SPB-66424</td>\n",
       "      <td>체인</td>\n",
       "      <td>2024-01-01</td>\n",
       "      <td>18:45:08</td>\n",
       "    </tr>\n",
       "  </tbody>\n",
       "</table>\n",
       "</div>"
      ],
      "text/plain": [
       "            자전거번호 고장구분        등록일자      등록시간\n",
       "691252  SPB-40704  단말기  2024-01-01  03:57:03\n",
       "691351  SPB-66424   체인  2024-01-01  18:45:08"
      ]
     },
     "execution_count": 415,
     "metadata": {},
     "output_type": "execute_result"
    }
   ],
   "source": [
    "# 2024-01-01 ~ 2024-06-30\t\n",
    "df_BikeBroken2.sort_values(by = '등록일자', ascending = True).head(2)"
   ]
  },
  {
   "cell_type": "code",
   "execution_count": 417,
   "id": "a9011b32-2cf1-4c57-9aee-8e2e1804c28d",
   "metadata": {},
   "outputs": [
    {
     "data": {
      "text/html": [
       "<div>\n",
       "<style scoped>\n",
       "    .dataframe tbody tr th:only-of-type {\n",
       "        vertical-align: middle;\n",
       "    }\n",
       "\n",
       "    .dataframe tbody tr th {\n",
       "        vertical-align: top;\n",
       "    }\n",
       "\n",
       "    .dataframe thead th {\n",
       "        text-align: right;\n",
       "    }\n",
       "</style>\n",
       "<table border=\"1\" class=\"dataframe\">\n",
       "  <thead>\n",
       "    <tr style=\"text-align: right;\">\n",
       "      <th></th>\n",
       "      <th>자전거번호</th>\n",
       "      <th>고장구분</th>\n",
       "      <th>등록일자</th>\n",
       "      <th>등록시간</th>\n",
       "    </tr>\n",
       "  </thead>\n",
       "  <tbody>\n",
       "    <tr>\n",
       "      <th>752797</th>\n",
       "      <td>SPB-30296</td>\n",
       "      <td>기타</td>\n",
       "      <td>2024-06-06</td>\n",
       "      <td>14:51:27</td>\n",
       "    </tr>\n",
       "    <tr>\n",
       "      <th>752796</th>\n",
       "      <td>SPB-30296</td>\n",
       "      <td>체인</td>\n",
       "      <td>2024-06-06</td>\n",
       "      <td>14:51:27</td>\n",
       "    </tr>\n",
       "  </tbody>\n",
       "</table>\n",
       "</div>"
      ],
      "text/plain": [
       "            자전거번호 고장구분        등록일자      등록시간\n",
       "752797  SPB-30296  기타   2024-06-06  14:51:27\n",
       "752796  SPB-30296   체인  2024-06-06  14:51:27"
      ]
     },
     "execution_count": 417,
     "metadata": {},
     "output_type": "execute_result"
    }
   ],
   "source": [
    "df_BikeBroken2[df_BikeBroken2['자전거번호'] == 'SPB-30296'].sort_values(by = '등록일자', ascending = False).head(2)"
   ]
  },
  {
   "cell_type": "markdown",
   "id": "92dcd93a-510d-40a5-8f73-a5762aa5ddf4",
   "metadata": {},
   "source": [
    "---\n",
    "### 자전거고장신고내역에서\n",
    "- 자전거번호' 별로 가장마지막 신고내역만 가져오기"
   ]
  },
  {
   "cell_type": "code",
   "execution_count": 420,
   "id": "d04de378-27a9-485e-a834-f23c0ddad9bb",
   "metadata": {},
   "outputs": [
    {
     "name": "stderr",
     "output_type": "stream",
     "text": [
      "C:\\Users\\user\\AppData\\Local\\Temp\\ipykernel_6524\\3450085564.py:2: SettingWithCopyWarning: \n",
      "A value is trying to be set on a copy of a slice from a DataFrame.\n",
      "Try using .loc[row_indexer,col_indexer] = value instead\n",
      "\n",
      "See the caveats in the documentation: https://pandas.pydata.org/pandas-docs/stable/user_guide/indexing.html#returning-a-view-versus-a-copy\n",
      "  df_BikeBroken2['등록일자'] = pd.to_datetime(df_BikeBroken2['등록일자'])\n"
     ]
    }
   ],
   "source": [
    "# 등록일자를 datetime 형식으로 변환\n",
    "df_BikeBroken2['등록일자'] = pd.to_datetime(df_BikeBroken2['등록일자'])\n",
    "\n",
    "# 자전거번호 별로 가장 최근 등록일자를 가진 행 추출\n",
    "df_BikeBroken_latest = df_BikeBroken2.loc[df_BikeBroken2.groupby('자전거번호')['등록일자'].idxmax()]\n",
    "\n",
    "# 이전일자 컬럼 생성 (등록일자보다 한 달 전)\n",
    "df_BikeBroken_latest['이전일자_1mon'] = df_BikeBroken_latest['등록일자'] - pd.DateOffset(months=1)\n",
    "df_BikeBroken_latest['이전일자_2mon'] = df_BikeBroken_latest['등록일자'] - pd.DateOffset(months=2)\n",
    "df_BikeBroken_latest['이전일자_3mon'] = df_BikeBroken_latest['등록일자'] - pd.DateOffset(months=3)"
   ]
  },
  {
   "cell_type": "code",
   "execution_count": 422,
   "id": "3999d691-5111-41bd-8df4-16bf9584a02d",
   "metadata": {},
   "outputs": [
    {
     "data": {
      "text/html": [
       "<div>\n",
       "<style scoped>\n",
       "    .dataframe tbody tr th:only-of-type {\n",
       "        vertical-align: middle;\n",
       "    }\n",
       "\n",
       "    .dataframe tbody tr th {\n",
       "        vertical-align: top;\n",
       "    }\n",
       "\n",
       "    .dataframe thead th {\n",
       "        text-align: right;\n",
       "    }\n",
       "</style>\n",
       "<table border=\"1\" class=\"dataframe\">\n",
       "  <thead>\n",
       "    <tr style=\"text-align: right;\">\n",
       "      <th></th>\n",
       "      <th>자전거번호</th>\n",
       "      <th>고장구분</th>\n",
       "      <th>등록일자</th>\n",
       "      <th>등록시간</th>\n",
       "      <th>이전일자_1mon</th>\n",
       "      <th>이전일자_2mon</th>\n",
       "      <th>이전일자_3mon</th>\n",
       "    </tr>\n",
       "  </thead>\n",
       "  <tbody>\n",
       "    <tr>\n",
       "      <th>714016</th>\n",
       "      <td>SPB-30006</td>\n",
       "      <td>페달</td>\n",
       "      <td>2024-03-31</td>\n",
       "      <td>23:48:49</td>\n",
       "      <td>2024-02-29</td>\n",
       "      <td>2024-01-31</td>\n",
       "      <td>2023-12-31</td>\n",
       "    </tr>\n",
       "    <tr>\n",
       "      <th>760656</th>\n",
       "      <td>SPB-30010</td>\n",
       "      <td>타이어</td>\n",
       "      <td>2024-06-18</td>\n",
       "      <td>18:37:09</td>\n",
       "      <td>2024-05-18</td>\n",
       "      <td>2024-04-18</td>\n",
       "      <td>2024-03-18</td>\n",
       "    </tr>\n",
       "  </tbody>\n",
       "</table>\n",
       "</div>"
      ],
      "text/plain": [
       "            자전거번호  고장구분       등록일자      등록시간  이전일자_1mon  이전일자_2mon  이전일자_3mon\n",
       "714016  SPB-30006    페달 2024-03-31  23:48:49 2024-02-29 2024-01-31 2023-12-31\n",
       "760656  SPB-30010  타이어  2024-06-18  18:37:09 2024-05-18 2024-04-18 2024-03-18"
      ]
     },
     "execution_count": 422,
     "metadata": {},
     "output_type": "execute_result"
    }
   ],
   "source": [
    "df_BikeBroken_latest.head(2)"
   ]
  },
  {
   "cell_type": "code",
   "execution_count": 424,
   "id": "b1d28225-dede-4202-b0a5-0d81db4b776e",
   "metadata": {},
   "outputs": [],
   "source": [
    "df_BikeBroken_latest = df_BikeBroken_latest[['자전거번호', '고장구분', '이전일자_1mon', '이전일자_2mon', '이전일자_3mon', '등록일자']]"
   ]
  },
  {
   "cell_type": "code",
   "execution_count": 426,
   "id": "f3847ff3-76bd-4f6a-a68e-36544b3f8a6b",
   "metadata": {},
   "outputs": [
    {
     "data": {
      "text/html": [
       "<div>\n",
       "<style scoped>\n",
       "    .dataframe tbody tr th:only-of-type {\n",
       "        vertical-align: middle;\n",
       "    }\n",
       "\n",
       "    .dataframe tbody tr th {\n",
       "        vertical-align: top;\n",
       "    }\n",
       "\n",
       "    .dataframe thead th {\n",
       "        text-align: right;\n",
       "    }\n",
       "</style>\n",
       "<table border=\"1\" class=\"dataframe\">\n",
       "  <thead>\n",
       "    <tr style=\"text-align: right;\">\n",
       "      <th></th>\n",
       "      <th>자전거번호</th>\n",
       "      <th>고장구분</th>\n",
       "      <th>이전일자_1mon</th>\n",
       "      <th>이전일자_2mon</th>\n",
       "      <th>이전일자_3mon</th>\n",
       "      <th>등록일자</th>\n",
       "    </tr>\n",
       "  </thead>\n",
       "  <tbody>\n",
       "    <tr>\n",
       "      <th>714016</th>\n",
       "      <td>SPB-30006</td>\n",
       "      <td>페달</td>\n",
       "      <td>2024-02-29</td>\n",
       "      <td>2024-01-31</td>\n",
       "      <td>2023-12-31</td>\n",
       "      <td>2024-03-31</td>\n",
       "    </tr>\n",
       "    <tr>\n",
       "      <th>760656</th>\n",
       "      <td>SPB-30010</td>\n",
       "      <td>타이어</td>\n",
       "      <td>2024-05-18</td>\n",
       "      <td>2024-04-18</td>\n",
       "      <td>2024-03-18</td>\n",
       "      <td>2024-06-18</td>\n",
       "    </tr>\n",
       "  </tbody>\n",
       "</table>\n",
       "</div>"
      ],
      "text/plain": [
       "            자전거번호  고장구분  이전일자_1mon  이전일자_2mon  이전일자_3mon       등록일자\n",
       "714016  SPB-30006    페달 2024-02-29 2024-01-31 2023-12-31 2024-03-31\n",
       "760656  SPB-30010  타이어  2024-05-18 2024-04-18 2024-03-18 2024-06-18"
      ]
     },
     "execution_count": 426,
     "metadata": {},
     "output_type": "execute_result"
    }
   ],
   "source": [
    "df_BikeBroken_latest.head(2)"
   ]
  },
  {
   "cell_type": "markdown",
   "id": "e6bd5fca-7aa4-4679-bf44-3629e608f157",
   "metadata": {},
   "source": [
    "#### 고장난 자전기 가져오기"
   ]
  },
  {
   "cell_type": "code",
   "execution_count": 429,
   "id": "c0f50e27-7d93-4f30-a3bf-4cb26b5dd974",
   "metadata": {},
   "outputs": [
    {
     "data": {
      "text/plain": [
       "<StringArray>\n",
       "['SPB-30006', 'SPB-30010', 'SPB-30014', 'SPB-30018', 'SPB-30022', 'SPB-30024',\n",
       " 'SPB-30026', 'SPB-30031', 'SPB-30036', 'SPB-30037',\n",
       " ...\n",
       " 'SPB-84955', 'SPB-84963', 'SPB-84968', 'SPB-84974', 'SPB-84984', 'SPB-84988',\n",
       " 'SPB-84989', 'SPB-84993', 'SPB-84995', 'SPB-84996']\n",
       "Length: 28589, dtype: string"
      ]
     },
     "execution_count": 429,
     "metadata": {},
     "output_type": "execute_result"
    }
   ],
   "source": [
    "df_BikeBroken_latest['자전거번호'].unique()"
   ]
  },
  {
   "cell_type": "code",
   "execution_count": 431,
   "id": "1f318d9e-3e7f-424b-8cfd-d0bf69e648cc",
   "metadata": {},
   "outputs": [
    {
     "name": "stdout",
     "output_type": "stream",
     "text": [
      "<class 'pandas.core.frame.DataFrame'>\n",
      "Index: 28589 entries, 714016 to 737981\n",
      "Data columns (total 6 columns):\n",
      " #   Column     Non-Null Count  Dtype         \n",
      "---  ------     --------------  -----         \n",
      " 0   자전거번호      28589 non-null  string        \n",
      " 1   고장구분       28589 non-null  string        \n",
      " 2   이전일자_1mon  28589 non-null  datetime64[ns]\n",
      " 3   이전일자_2mon  28589 non-null  datetime64[ns]\n",
      " 4   이전일자_3mon  28589 non-null  datetime64[ns]\n",
      " 5   등록일자       28589 non-null  datetime64[ns]\n",
      "dtypes: datetime64[ns](4), string(2)\n",
      "memory usage: 1.5 MB\n"
     ]
    }
   ],
   "source": [
    "df_BikeBroken_latest.info()"
   ]
  },
  {
   "cell_type": "code",
   "execution_count": 433,
   "id": "53f89ebf-498b-4d16-a948-ccc304f7d78b",
   "metadata": {},
   "outputs": [],
   "source": [
    "# 2024.01.01 ~ 2024.06.30 사이에 있는 자전거 대여이력에서 고장이 아닌 자전거 번호 조회\n",
    "df_BikeRent2 = df_BikeRent240101_240630[~df_BikeRent240101_240630['자전거번호'].isin(df_BikeBroken_latest['자전거번호'].unique())]"
   ]
  },
  {
   "cell_type": "code",
   "execution_count": 434,
   "id": "8606d4c5-2e34-4b2f-a372-f66794dd735b",
   "metadata": {},
   "outputs": [
    {
     "data": {
      "text/plain": [
       "4855582"
      ]
     },
     "execution_count": 434,
     "metadata": {},
     "output_type": "execute_result"
    }
   ],
   "source": [
    "df_BikeRent2['자전거번호'].count()"
   ]
  },
  {
   "cell_type": "code",
   "execution_count": 437,
   "id": "332a8120-8c86-49ce-9238-7b3853785b6d",
   "metadata": {},
   "outputs": [
    {
     "data": {
      "text/html": [
       "<div>\n",
       "<style scoped>\n",
       "    .dataframe tbody tr th:only-of-type {\n",
       "        vertical-align: middle;\n",
       "    }\n",
       "\n",
       "    .dataframe tbody tr th {\n",
       "        vertical-align: top;\n",
       "    }\n",
       "\n",
       "    .dataframe thead th {\n",
       "        text-align: right;\n",
       "    }\n",
       "</style>\n",
       "<table border=\"1\" class=\"dataframe\">\n",
       "  <thead>\n",
       "    <tr style=\"text-align: right;\">\n",
       "      <th></th>\n",
       "      <th>자전거번호</th>\n",
       "      <th>대여일자</th>\n",
       "      <th>대여시간차</th>\n",
       "      <th>대여대여소번호</th>\n",
       "      <th>반납대여소번호</th>\n",
       "      <th>이용시간(분)</th>\n",
       "      <th>이용거리(M)</th>\n",
       "    </tr>\n",
       "  </thead>\n",
       "  <tbody>\n",
       "    <tr>\n",
       "      <th>8</th>\n",
       "      <td>SPB-80304</td>\n",
       "      <td>2024-01-01</td>\n",
       "      <td>0 days 00:01:55</td>\n",
       "      <td>00214</td>\n",
       "      <td>00213</td>\n",
       "      <td>1</td>\n",
       "      <td>200.00</td>\n",
       "    </tr>\n",
       "    <tr>\n",
       "      <th>22</th>\n",
       "      <td>SPB-32497</td>\n",
       "      <td>2024-01-01</td>\n",
       "      <td>0 days 00:05:00</td>\n",
       "      <td>04674</td>\n",
       "      <td>04659</td>\n",
       "      <td>5</td>\n",
       "      <td>982.45</td>\n",
       "    </tr>\n",
       "  </tbody>\n",
       "</table>\n",
       "</div>"
      ],
      "text/plain": [
       "        자전거번호       대여일자           대여시간차 대여대여소번호 반납대여소번호  이용시간(분)  이용거리(M)\n",
       "8   SPB-80304 2024-01-01 0 days 00:01:55   00214   00213        1   200.00\n",
       "22  SPB-32497 2024-01-01 0 days 00:05:00   04674   04659        5   982.45"
      ]
     },
     "execution_count": 437,
     "metadata": {},
     "output_type": "execute_result"
    }
   ],
   "source": [
    "df_BikeRent2.head(2)"
   ]
  },
  {
   "cell_type": "code",
   "execution_count": 439,
   "id": "711fd9b6-2df4-419a-afaf-0bf3e689d032",
   "metadata": {},
   "outputs": [
    {
     "name": "stderr",
     "output_type": "stream",
     "text": [
      "C:\\Users\\user\\AppData\\Local\\Temp\\ipykernel_6524\\2979067368.py:2: SettingWithCopyWarning: \n",
      "A value is trying to be set on a copy of a slice from a DataFrame.\n",
      "Try using .loc[row_indexer,col_indexer] = value instead\n",
      "\n",
      "See the caveats in the documentation: https://pandas.pydata.org/pandas-docs/stable/user_guide/indexing.html#returning-a-view-versus-a-copy\n",
      "  df_BikeRent2['대여일자'] = pd.to_datetime(df_BikeRent2['대여일자'])\n"
     ]
    }
   ],
   "source": [
    "# 등록일자를 datetime 형식으로 변환\n",
    "df_BikeRent2['대여일자'] = pd.to_datetime(df_BikeRent2['대여일자'])\n",
    "\n",
    "# 자전거번호 별로 가장 최근 등록일자를 가진 행 추출\n",
    "df_BikeRent_latest = df_BikeRent2.loc[df_BikeRent2.groupby('자전거번호')['대여일자'].idxmax()]\n",
    "\n",
    "# 이전일자 컬럼 생성 (등록일자보다 한 달 전)\n",
    "df_BikeRent_latest['이전일자_1mon'] = df_BikeRent_latest['대여일자'] - pd.DateOffset(months=1)\n",
    "df_BikeRent_latest['이전일자_2mon'] = df_BikeRent_latest['대여일자'] - pd.DateOffset(months=2)\n",
    "df_BikeRent_latest['이전일자_3mon'] = df_BikeRent_latest['대여일자'] - pd.DateOffset(months=3)"
   ]
  },
  {
   "cell_type": "code",
   "execution_count": 441,
   "id": "277d131a-25ee-4eb6-ac13-6392e2e3e261",
   "metadata": {},
   "outputs": [
    {
     "data": {
      "text/html": [
       "<div>\n",
       "<style scoped>\n",
       "    .dataframe tbody tr th:only-of-type {\n",
       "        vertical-align: middle;\n",
       "    }\n",
       "\n",
       "    .dataframe tbody tr th {\n",
       "        vertical-align: top;\n",
       "    }\n",
       "\n",
       "    .dataframe thead th {\n",
       "        text-align: right;\n",
       "    }\n",
       "</style>\n",
       "<table border=\"1\" class=\"dataframe\">\n",
       "  <thead>\n",
       "    <tr style=\"text-align: right;\">\n",
       "      <th></th>\n",
       "      <th>자전거번호</th>\n",
       "      <th>대여일자</th>\n",
       "      <th>대여시간차</th>\n",
       "      <th>대여대여소번호</th>\n",
       "      <th>반납대여소번호</th>\n",
       "      <th>이용시간(분)</th>\n",
       "      <th>이용거리(M)</th>\n",
       "      <th>이전일자_1mon</th>\n",
       "      <th>이전일자_2mon</th>\n",
       "      <th>이전일자_3mon</th>\n",
       "    </tr>\n",
       "  </thead>\n",
       "  <tbody>\n",
       "    <tr>\n",
       "      <th>21756509</th>\n",
       "      <td>SPB-30001</td>\n",
       "      <td>2024-06-28</td>\n",
       "      <td>0 days 00:01:35</td>\n",
       "      <td>03798</td>\n",
       "      <td>01174</td>\n",
       "      <td>1</td>\n",
       "      <td>0.00</td>\n",
       "      <td>2024-05-28</td>\n",
       "      <td>2024-04-28</td>\n",
       "      <td>2024-03-28</td>\n",
       "    </tr>\n",
       "    <tr>\n",
       "      <th>14976293</th>\n",
       "      <td>SPB-30008</td>\n",
       "      <td>2024-05-20</td>\n",
       "      <td>0 days 00:21:21</td>\n",
       "      <td>03920</td>\n",
       "      <td>00785</td>\n",
       "      <td>21</td>\n",
       "      <td>3419.51</td>\n",
       "      <td>2024-04-20</td>\n",
       "      <td>2024-03-20</td>\n",
       "      <td>2024-02-20</td>\n",
       "    </tr>\n",
       "  </tbody>\n",
       "</table>\n",
       "</div>"
      ],
      "text/plain": [
       "              자전거번호       대여일자           대여시간차 대여대여소번호 반납대여소번호  이용시간(분)  \\\n",
       "21756509  SPB-30001 2024-06-28 0 days 00:01:35   03798   01174        1   \n",
       "14976293  SPB-30008 2024-05-20 0 days 00:21:21   03920   00785       21   \n",
       "\n",
       "          이용거리(M)  이전일자_1mon  이전일자_2mon  이전일자_3mon  \n",
       "21756509     0.00 2024-05-28 2024-04-28 2024-03-28  \n",
       "14976293  3419.51 2024-04-20 2024-03-20 2024-02-20  "
      ]
     },
     "execution_count": 441,
     "metadata": {},
     "output_type": "execute_result"
    }
   ],
   "source": [
    "df_BikeRent_latest.head(2)"
   ]
  },
  {
   "cell_type": "code",
   "execution_count": 443,
   "id": "febb6590-443d-4b39-85c5-b19a32ac8c8a",
   "metadata": {},
   "outputs": [
    {
     "data": {
      "text/plain": [
       "13307"
      ]
     },
     "execution_count": 443,
     "metadata": {},
     "output_type": "execute_result"
    }
   ],
   "source": [
    "df_BikeRent_latest.shape[0]"
   ]
  },
  {
   "cell_type": "markdown",
   "id": "70819a84-46db-4ca2-85bd-c5b96c319075",
   "metadata": {},
   "source": [
    "### 대여이력 <=> 고장내역 - 컬럼이름 맞춰주기"
   ]
  },
  {
   "cell_type": "code",
   "execution_count": 446,
   "id": "0d5fab04-3eb7-4617-97e4-401f89b78e94",
   "metadata": {},
   "outputs": [
    {
     "data": {
      "text/plain": [
       "Index(['자전거번호', '고장구분', '이전일자_1mon', '이전일자_2mon', '이전일자_3mon', '등록일자'], dtype='object')"
      ]
     },
     "execution_count": 446,
     "metadata": {},
     "output_type": "execute_result"
    }
   ],
   "source": [
    "df_BikeBroken_latest.columns"
   ]
  },
  {
   "cell_type": "code",
   "execution_count": 448,
   "id": "e0c349e9-ea93-478c-8e54-465c96756e5e",
   "metadata": {},
   "outputs": [
    {
     "data": {
      "text/plain": [
       "Index(['자전거번호', '대여일자', '대여시간차', '대여대여소번호', '반납대여소번호', '이용시간(분)', '이용거리(M)',\n",
       "       '이전일자_1mon', '이전일자_2mon', '이전일자_3mon'],\n",
       "      dtype='object')"
      ]
     },
     "execution_count": 448,
     "metadata": {},
     "output_type": "execute_result"
    }
   ],
   "source": [
    "df_BikeRent_latest.columns"
   ]
  },
  {
   "cell_type": "code",
   "execution_count": 450,
   "id": "4f2a9324-6516-4e3b-a577-970717e39a4c",
   "metadata": {},
   "outputs": [],
   "source": [
    "df_BikeRent_latest['고장구분'] = ''"
   ]
  },
  {
   "cell_type": "code",
   "execution_count": 452,
   "id": "b8a354d8-7649-4075-88e9-9d2d04fb20ea",
   "metadata": {},
   "outputs": [],
   "source": [
    "df_BikeBroken_latest.rename(columns = {'등록일자':'등록대여일자'}, inplace = True)\n",
    "df_BikeRent_latest.rename(columns = {'대여일자':'등록대여일자'}, inplace = True)"
   ]
  },
  {
   "cell_type": "code",
   "execution_count": 454,
   "id": "342a8f9b-d92e-4759-b40b-951478f7fd39",
   "metadata": {},
   "outputs": [],
   "source": [
    "df_BikeBroken_latest = df_BikeBroken_latest[['자전거번호', '고장구분', '이전일자_1mon', '이전일자_2mon', '이전일자_3mon', '등록대여일자']]\n",
    "df_BikeRent_latest = df_BikeRent_latest[['자전거번호', '고장구분', '이전일자_1mon', '이전일자_2mon', '이전일자_3mon', '등록대여일자']]"
   ]
  },
  {
   "cell_type": "code",
   "execution_count": 456,
   "id": "1cff32d7-2b63-4999-9672-747734397bbc",
   "metadata": {},
   "outputs": [
    {
     "data": {
      "text/html": [
       "<div>\n",
       "<style scoped>\n",
       "    .dataframe tbody tr th:only-of-type {\n",
       "        vertical-align: middle;\n",
       "    }\n",
       "\n",
       "    .dataframe tbody tr th {\n",
       "        vertical-align: top;\n",
       "    }\n",
       "\n",
       "    .dataframe thead th {\n",
       "        text-align: right;\n",
       "    }\n",
       "</style>\n",
       "<table border=\"1\" class=\"dataframe\">\n",
       "  <thead>\n",
       "    <tr style=\"text-align: right;\">\n",
       "      <th></th>\n",
       "      <th>자전거번호</th>\n",
       "      <th>고장구분</th>\n",
       "      <th>이전일자_1mon</th>\n",
       "      <th>이전일자_2mon</th>\n",
       "      <th>이전일자_3mon</th>\n",
       "      <th>등록대여일자</th>\n",
       "    </tr>\n",
       "  </thead>\n",
       "  <tbody>\n",
       "    <tr>\n",
       "      <th>714016</th>\n",
       "      <td>SPB-30006</td>\n",
       "      <td>페달</td>\n",
       "      <td>2024-02-29</td>\n",
       "      <td>2024-01-31</td>\n",
       "      <td>2023-12-31</td>\n",
       "      <td>2024-03-31</td>\n",
       "    </tr>\n",
       "    <tr>\n",
       "      <th>760656</th>\n",
       "      <td>SPB-30010</td>\n",
       "      <td>타이어</td>\n",
       "      <td>2024-05-18</td>\n",
       "      <td>2024-04-18</td>\n",
       "      <td>2024-03-18</td>\n",
       "      <td>2024-06-18</td>\n",
       "    </tr>\n",
       "  </tbody>\n",
       "</table>\n",
       "</div>"
      ],
      "text/plain": [
       "            자전거번호  고장구분  이전일자_1mon  이전일자_2mon  이전일자_3mon     등록대여일자\n",
       "714016  SPB-30006    페달 2024-02-29 2024-01-31 2023-12-31 2024-03-31\n",
       "760656  SPB-30010  타이어  2024-05-18 2024-04-18 2024-03-18 2024-06-18"
      ]
     },
     "execution_count": 456,
     "metadata": {},
     "output_type": "execute_result"
    }
   ],
   "source": [
    "df_BikeBroken_latest.head(2)"
   ]
  },
  {
   "cell_type": "code",
   "execution_count": 458,
   "id": "4073f288-b54e-4dcc-b4fb-6320d3b01b2f",
   "metadata": {},
   "outputs": [
    {
     "data": {
      "text/html": [
       "<div>\n",
       "<style scoped>\n",
       "    .dataframe tbody tr th:only-of-type {\n",
       "        vertical-align: middle;\n",
       "    }\n",
       "\n",
       "    .dataframe tbody tr th {\n",
       "        vertical-align: top;\n",
       "    }\n",
       "\n",
       "    .dataframe thead th {\n",
       "        text-align: right;\n",
       "    }\n",
       "</style>\n",
       "<table border=\"1\" class=\"dataframe\">\n",
       "  <thead>\n",
       "    <tr style=\"text-align: right;\">\n",
       "      <th></th>\n",
       "      <th>자전거번호</th>\n",
       "      <th>고장구분</th>\n",
       "      <th>이전일자_1mon</th>\n",
       "      <th>이전일자_2mon</th>\n",
       "      <th>이전일자_3mon</th>\n",
       "      <th>등록대여일자</th>\n",
       "    </tr>\n",
       "  </thead>\n",
       "  <tbody>\n",
       "    <tr>\n",
       "      <th>21756509</th>\n",
       "      <td>SPB-30001</td>\n",
       "      <td></td>\n",
       "      <td>2024-05-28</td>\n",
       "      <td>2024-04-28</td>\n",
       "      <td>2024-03-28</td>\n",
       "      <td>2024-06-28</td>\n",
       "    </tr>\n",
       "    <tr>\n",
       "      <th>14976293</th>\n",
       "      <td>SPB-30008</td>\n",
       "      <td></td>\n",
       "      <td>2024-04-20</td>\n",
       "      <td>2024-03-20</td>\n",
       "      <td>2024-02-20</td>\n",
       "      <td>2024-05-20</td>\n",
       "    </tr>\n",
       "  </tbody>\n",
       "</table>\n",
       "</div>"
      ],
      "text/plain": [
       "              자전거번호 고장구분  이전일자_1mon  이전일자_2mon  이전일자_3mon     등록대여일자\n",
       "21756509  SPB-30001      2024-05-28 2024-04-28 2024-03-28 2024-06-28\n",
       "14976293  SPB-30008      2024-04-20 2024-03-20 2024-02-20 2024-05-20"
      ]
     },
     "execution_count": 458,
     "metadata": {},
     "output_type": "execute_result"
    }
   ],
   "source": [
    "df_BikeRent_latest.head(2)"
   ]
  },
  {
   "cell_type": "markdown",
   "id": "c7a91104-80ff-4d45-ab31-a1beda3a2124",
   "metadata": {},
   "source": [
    "---\n",
    "### 고장여부 - 컬럼 생성"
   ]
  },
  {
   "cell_type": "code",
   "execution_count": 461,
   "id": "ee381c83-953c-4a98-adcf-00cca16711f7",
   "metadata": {},
   "outputs": [],
   "source": [
    "df_BikeBroken_latest['고장여부'] = 1\n",
    "df_BikeRent_latest['고장여부'] = 0"
   ]
  },
  {
   "cell_type": "code",
   "execution_count": 463,
   "id": "2732f511-b2d8-4842-af0f-b5a92158735f",
   "metadata": {},
   "outputs": [
    {
     "data": {
      "text/html": [
       "<div>\n",
       "<style scoped>\n",
       "    .dataframe tbody tr th:only-of-type {\n",
       "        vertical-align: middle;\n",
       "    }\n",
       "\n",
       "    .dataframe tbody tr th {\n",
       "        vertical-align: top;\n",
       "    }\n",
       "\n",
       "    .dataframe thead th {\n",
       "        text-align: right;\n",
       "    }\n",
       "</style>\n",
       "<table border=\"1\" class=\"dataframe\">\n",
       "  <thead>\n",
       "    <tr style=\"text-align: right;\">\n",
       "      <th></th>\n",
       "      <th>자전거번호</th>\n",
       "      <th>고장구분</th>\n",
       "      <th>이전일자_1mon</th>\n",
       "      <th>이전일자_2mon</th>\n",
       "      <th>이전일자_3mon</th>\n",
       "      <th>등록대여일자</th>\n",
       "      <th>고장여부</th>\n",
       "    </tr>\n",
       "  </thead>\n",
       "  <tbody>\n",
       "    <tr>\n",
       "      <th>714016</th>\n",
       "      <td>SPB-30006</td>\n",
       "      <td>페달</td>\n",
       "      <td>2024-02-29</td>\n",
       "      <td>2024-01-31</td>\n",
       "      <td>2023-12-31</td>\n",
       "      <td>2024-03-31</td>\n",
       "      <td>1</td>\n",
       "    </tr>\n",
       "    <tr>\n",
       "      <th>760656</th>\n",
       "      <td>SPB-30010</td>\n",
       "      <td>타이어</td>\n",
       "      <td>2024-05-18</td>\n",
       "      <td>2024-04-18</td>\n",
       "      <td>2024-03-18</td>\n",
       "      <td>2024-06-18</td>\n",
       "      <td>1</td>\n",
       "    </tr>\n",
       "  </tbody>\n",
       "</table>\n",
       "</div>"
      ],
      "text/plain": [
       "            자전거번호  고장구분  이전일자_1mon  이전일자_2mon  이전일자_3mon     등록대여일자  고장여부\n",
       "714016  SPB-30006    페달 2024-02-29 2024-01-31 2023-12-31 2024-03-31     1\n",
       "760656  SPB-30010  타이어  2024-05-18 2024-04-18 2024-03-18 2024-06-18     1"
      ]
     },
     "execution_count": 463,
     "metadata": {},
     "output_type": "execute_result"
    }
   ],
   "source": [
    "df_BikeBroken_latest.head(2)"
   ]
  },
  {
   "cell_type": "code",
   "execution_count": 465,
   "id": "231c7bf5-c120-4cf7-9a3a-b1a66e29515c",
   "metadata": {},
   "outputs": [
    {
     "data": {
      "text/html": [
       "<div>\n",
       "<style scoped>\n",
       "    .dataframe tbody tr th:only-of-type {\n",
       "        vertical-align: middle;\n",
       "    }\n",
       "\n",
       "    .dataframe tbody tr th {\n",
       "        vertical-align: top;\n",
       "    }\n",
       "\n",
       "    .dataframe thead th {\n",
       "        text-align: right;\n",
       "    }\n",
       "</style>\n",
       "<table border=\"1\" class=\"dataframe\">\n",
       "  <thead>\n",
       "    <tr style=\"text-align: right;\">\n",
       "      <th></th>\n",
       "      <th>자전거번호</th>\n",
       "      <th>고장구분</th>\n",
       "      <th>이전일자_1mon</th>\n",
       "      <th>이전일자_2mon</th>\n",
       "      <th>이전일자_3mon</th>\n",
       "      <th>등록대여일자</th>\n",
       "      <th>고장여부</th>\n",
       "    </tr>\n",
       "  </thead>\n",
       "  <tbody>\n",
       "    <tr>\n",
       "      <th>21756509</th>\n",
       "      <td>SPB-30001</td>\n",
       "      <td></td>\n",
       "      <td>2024-05-28</td>\n",
       "      <td>2024-04-28</td>\n",
       "      <td>2024-03-28</td>\n",
       "      <td>2024-06-28</td>\n",
       "      <td>0</td>\n",
       "    </tr>\n",
       "    <tr>\n",
       "      <th>14976293</th>\n",
       "      <td>SPB-30008</td>\n",
       "      <td></td>\n",
       "      <td>2024-04-20</td>\n",
       "      <td>2024-03-20</td>\n",
       "      <td>2024-02-20</td>\n",
       "      <td>2024-05-20</td>\n",
       "      <td>0</td>\n",
       "    </tr>\n",
       "  </tbody>\n",
       "</table>\n",
       "</div>"
      ],
      "text/plain": [
       "              자전거번호 고장구분  이전일자_1mon  이전일자_2mon  이전일자_3mon     등록대여일자  고장여부\n",
       "21756509  SPB-30001      2024-05-28 2024-04-28 2024-03-28 2024-06-28     0\n",
       "14976293  SPB-30008      2024-04-20 2024-03-20 2024-02-20 2024-05-20     0"
      ]
     },
     "execution_count": 465,
     "metadata": {},
     "output_type": "execute_result"
    }
   ],
   "source": [
    "df_BikeRent_latest.head(2)"
   ]
  },
  {
   "cell_type": "code",
   "execution_count": 467,
   "id": "dc7c67fa-ebc2-4d28-bde3-239781501351",
   "metadata": {},
   "outputs": [
    {
     "name": "stdout",
     "output_type": "stream",
     "text": [
      "df_BikeBroken_latest.shape[0] : 28589\n",
      "df_BikeRent_latest.shape[0] : 13307\n"
     ]
    }
   ],
   "source": [
    "print(f'df_BikeBroken_latest.shape[0] : {df_BikeBroken_latest.shape[0]}')\n",
    "print(f'df_BikeRent_latest.shape[0] : {df_BikeRent_latest.shape[0]}')"
   ]
  },
  {
   "cell_type": "markdown",
   "id": "977d0ccd-c6ec-4fab-9b19-5e60feaeeeb5",
   "metadata": {},
   "source": [
    "---\n",
    "### 자전거(고장) - 자전거(일반) 합치기"
   ]
  },
  {
   "cell_type": "code",
   "execution_count": 470,
   "id": "629c6ebb-9fa0-4de9-8628-8e1edae77895",
   "metadata": {},
   "outputs": [],
   "source": [
    "df_Bike_latest = pd.concat([df_BikeBroken_latest, df_BikeRent_latest], axis=0)"
   ]
  },
  {
   "cell_type": "code",
   "execution_count": 472,
   "id": "2144f862-d99f-4ceb-aa34-d92ab29e610b",
   "metadata": {},
   "outputs": [
    {
     "name": "stdout",
     "output_type": "stream",
     "text": [
      "df_BikeBroken_latest.shape[0] : 28589\n",
      "df_BikeRent_latest.shape[0] : 13307\n",
      "df_Bike_latest.shape[0] : 41896\n"
     ]
    }
   ],
   "source": [
    "print(f'df_BikeBroken_latest.shape[0] : {df_BikeBroken_latest.shape[0]}')\n",
    "print(f'df_BikeRent_latest.shape[0] : {df_BikeRent_latest.shape[0]}')\n",
    "print(f'df_Bike_latest.shape[0] : {df_Bike_latest.shape[0]}')"
   ]
  },
  {
   "cell_type": "code",
   "execution_count": 474,
   "id": "0f96022d-2167-49d4-8ff5-53d76669e836",
   "metadata": {},
   "outputs": [
    {
     "data": {
      "text/html": [
       "<div>\n",
       "<style scoped>\n",
       "    .dataframe tbody tr th:only-of-type {\n",
       "        vertical-align: middle;\n",
       "    }\n",
       "\n",
       "    .dataframe tbody tr th {\n",
       "        vertical-align: top;\n",
       "    }\n",
       "\n",
       "    .dataframe thead th {\n",
       "        text-align: right;\n",
       "    }\n",
       "</style>\n",
       "<table border=\"1\" class=\"dataframe\">\n",
       "  <thead>\n",
       "    <tr style=\"text-align: right;\">\n",
       "      <th></th>\n",
       "      <th>자전거번호</th>\n",
       "      <th>고장구분</th>\n",
       "      <th>이전일자_1mon</th>\n",
       "      <th>이전일자_2mon</th>\n",
       "      <th>이전일자_3mon</th>\n",
       "      <th>등록대여일자</th>\n",
       "      <th>고장여부</th>\n",
       "    </tr>\n",
       "  </thead>\n",
       "  <tbody>\n",
       "    <tr>\n",
       "      <th>714016</th>\n",
       "      <td>SPB-30006</td>\n",
       "      <td>페달</td>\n",
       "      <td>2024-02-29</td>\n",
       "      <td>2024-01-31</td>\n",
       "      <td>2023-12-31</td>\n",
       "      <td>2024-03-31</td>\n",
       "      <td>1</td>\n",
       "    </tr>\n",
       "    <tr>\n",
       "      <th>760656</th>\n",
       "      <td>SPB-30010</td>\n",
       "      <td>타이어</td>\n",
       "      <td>2024-05-18</td>\n",
       "      <td>2024-04-18</td>\n",
       "      <td>2024-03-18</td>\n",
       "      <td>2024-06-18</td>\n",
       "      <td>1</td>\n",
       "    </tr>\n",
       "  </tbody>\n",
       "</table>\n",
       "</div>"
      ],
      "text/plain": [
       "            자전거번호  고장구분  이전일자_1mon  이전일자_2mon  이전일자_3mon     등록대여일자  고장여부\n",
       "714016  SPB-30006    페달 2024-02-29 2024-01-31 2023-12-31 2024-03-31     1\n",
       "760656  SPB-30010  타이어  2024-05-18 2024-04-18 2024-03-18 2024-06-18     1"
      ]
     },
     "execution_count": 474,
     "metadata": {},
     "output_type": "execute_result"
    }
   ],
   "source": [
    "df_Bike_latest.head(2)"
   ]
  },
  {
   "cell_type": "code",
   "execution_count": 476,
   "id": "62ed9607-b7e6-48c5-b2dd-b55b752fe029",
   "metadata": {},
   "outputs": [
    {
     "data": {
      "text/plain": [
       "고장여부\n",
       "1    28589\n",
       "0    13307\n",
       "Name: count, dtype: int64"
      ]
     },
     "execution_count": 476,
     "metadata": {},
     "output_type": "execute_result"
    }
   ],
   "source": [
    "df_Bike_latest['고장여부'].value_counts()"
   ]
  },
  {
   "cell_type": "code",
   "execution_count": 478,
   "id": "f622dd2f-bb29-41ac-ac3c-bbdcefed4aaa",
   "metadata": {},
   "outputs": [
    {
     "data": {
      "text/html": [
       "<div>\n",
       "<style scoped>\n",
       "    .dataframe tbody tr th:only-of-type {\n",
       "        vertical-align: middle;\n",
       "    }\n",
       "\n",
       "    .dataframe tbody tr th {\n",
       "        vertical-align: top;\n",
       "    }\n",
       "\n",
       "    .dataframe thead th {\n",
       "        text-align: right;\n",
       "    }\n",
       "</style>\n",
       "<table border=\"1\" class=\"dataframe\">\n",
       "  <thead>\n",
       "    <tr style=\"text-align: right;\">\n",
       "      <th></th>\n",
       "      <th>자전거번호</th>\n",
       "      <th>대여일자</th>\n",
       "      <th>대여시간차</th>\n",
       "      <th>대여대여소번호</th>\n",
       "      <th>반납대여소번호</th>\n",
       "      <th>이용시간(분)</th>\n",
       "      <th>이용거리(M)</th>\n",
       "    </tr>\n",
       "  </thead>\n",
       "  <tbody>\n",
       "    <tr>\n",
       "      <th>30476802</th>\n",
       "      <td>SPB-45718</td>\n",
       "      <td>2023-09-01</td>\n",
       "      <td>0 days 00:00:13</td>\n",
       "      <td>02213</td>\n",
       "      <td>02213</td>\n",
       "      <td>0</td>\n",
       "      <td>0.0</td>\n",
       "    </tr>\n",
       "    <tr>\n",
       "      <th>30476803</th>\n",
       "      <td>SPB-63096</td>\n",
       "      <td>2023-09-01</td>\n",
       "      <td>0 days 00:00:29</td>\n",
       "      <td>00838</td>\n",
       "      <td>00838</td>\n",
       "      <td>0</td>\n",
       "      <td>0.0</td>\n",
       "    </tr>\n",
       "    <tr>\n",
       "      <th>30476804</th>\n",
       "      <td>SPB-49019</td>\n",
       "      <td>2023-09-01</td>\n",
       "      <td>0 days 00:01:35</td>\n",
       "      <td>00431</td>\n",
       "      <td>04798</td>\n",
       "      <td>1</td>\n",
       "      <td>230.0</td>\n",
       "    </tr>\n",
       "    <tr>\n",
       "      <th>30476805</th>\n",
       "      <td>SPB-53749</td>\n",
       "      <td>2023-09-01</td>\n",
       "      <td>0 days 00:00:03</td>\n",
       "      <td>03819</td>\n",
       "      <td>03819</td>\n",
       "      <td>0</td>\n",
       "      <td>0.0</td>\n",
       "    </tr>\n",
       "    <tr>\n",
       "      <th>30476806</th>\n",
       "      <td>SPB-82988</td>\n",
       "      <td>2023-09-01</td>\n",
       "      <td>0 days 00:01:08</td>\n",
       "      <td>00389</td>\n",
       "      <td>00473</td>\n",
       "      <td>1</td>\n",
       "      <td>160.0</td>\n",
       "    </tr>\n",
       "  </tbody>\n",
       "</table>\n",
       "</div>"
      ],
      "text/plain": [
       "              자전거번호       대여일자           대여시간차 대여대여소번호 반납대여소번호  이용시간(분)  \\\n",
       "30476802  SPB-45718 2023-09-01 0 days 00:00:13   02213   02213        0   \n",
       "30476803  SPB-63096 2023-09-01 0 days 00:00:29   00838   00838        0   \n",
       "30476804  SPB-49019 2023-09-01 0 days 00:01:35   00431   04798        1   \n",
       "30476805  SPB-53749 2023-09-01 0 days 00:00:03   03819   03819        0   \n",
       "30476806  SPB-82988 2023-09-01 0 days 00:01:08   00389   00473        1   \n",
       "\n",
       "          이용거리(M)  \n",
       "30476802      0.0  \n",
       "30476803      0.0  \n",
       "30476804    230.0  \n",
       "30476805      0.0  \n",
       "30476806    160.0  "
      ]
     },
     "execution_count": 478,
     "metadata": {},
     "output_type": "execute_result"
    }
   ],
   "source": [
    "df_BikeRent230901_240630.head()"
   ]
  },
  {
   "cell_type": "code",
   "execution_count": 480,
   "id": "fee5693a-d874-4e3c-a970-915f55e823da",
   "metadata": {},
   "outputs": [
    {
     "name": "stdout",
     "output_type": "stream",
     "text": [
      "df_Bike_latest.shape[0] : 41896\n",
      "df_BikeRent230901_240630.shape[0] : 37176899\n",
      "df_Bike_latest.shape[0] : 41896\n",
      "df_Bike_latest.shape[0] : 41896\n"
     ]
    }
   ],
   "source": [
    "print(f'df_Bike_latest.shape[0] : {df_Bike_latest.shape[0]}')\n",
    "\n",
    "# print(f'df_BikeRent230901_240630_5min.shape[0] : {df_BikeRent230901_240630_5min.shape[0]}')\n",
    "# print(f'df_BikeRent230901_240630_7min.shape[0] : {df_BikeRent230901_240630_7min.shape[0]}')\n",
    "# print(f'df_BikeRent230901_240630_10min.shape[0] : {df_BikeRent230901_240630_10min.shape[0]}')\n",
    "\n",
    "print(f'df_BikeRent230901_240630.shape[0] : {df_BikeRent230901_240630.shape[0]}')\n",
    "print(f'df_Bike_latest.shape[0] : {df_Bike_latest.shape[0]}')\n",
    "print(f'df_Bike_latest.shape[0] : {df_Bike_latest.shape[0]}')"
   ]
  },
  {
   "cell_type": "code",
   "execution_count": 482,
   "id": "ade3d1b5-20f5-4239-9bfd-fabaa781b984",
   "metadata": {},
   "outputs": [
    {
     "data": {
      "text/html": [
       "<div>\n",
       "<style scoped>\n",
       "    .dataframe tbody tr th:only-of-type {\n",
       "        vertical-align: middle;\n",
       "    }\n",
       "\n",
       "    .dataframe tbody tr th {\n",
       "        vertical-align: top;\n",
       "    }\n",
       "\n",
       "    .dataframe thead th {\n",
       "        text-align: right;\n",
       "    }\n",
       "</style>\n",
       "<table border=\"1\" class=\"dataframe\">\n",
       "  <thead>\n",
       "    <tr style=\"text-align: right;\">\n",
       "      <th></th>\n",
       "      <th>자전거번호</th>\n",
       "      <th>고장구분</th>\n",
       "      <th>이전일자_1mon</th>\n",
       "      <th>이전일자_2mon</th>\n",
       "      <th>이전일자_3mon</th>\n",
       "      <th>등록대여일자</th>\n",
       "      <th>고장여부</th>\n",
       "    </tr>\n",
       "  </thead>\n",
       "  <tbody>\n",
       "    <tr>\n",
       "      <th>714016</th>\n",
       "      <td>SPB-30006</td>\n",
       "      <td>페달</td>\n",
       "      <td>2024-02-29</td>\n",
       "      <td>2024-01-31</td>\n",
       "      <td>2023-12-31</td>\n",
       "      <td>2024-03-31</td>\n",
       "      <td>1</td>\n",
       "    </tr>\n",
       "    <tr>\n",
       "      <th>760656</th>\n",
       "      <td>SPB-30010</td>\n",
       "      <td>타이어</td>\n",
       "      <td>2024-05-18</td>\n",
       "      <td>2024-04-18</td>\n",
       "      <td>2024-03-18</td>\n",
       "      <td>2024-06-18</td>\n",
       "      <td>1</td>\n",
       "    </tr>\n",
       "    <tr>\n",
       "      <th>763779</th>\n",
       "      <td>SPB-30014</td>\n",
       "      <td>기타</td>\n",
       "      <td>2024-05-24</td>\n",
       "      <td>2024-04-24</td>\n",
       "      <td>2024-03-24</td>\n",
       "      <td>2024-06-24</td>\n",
       "      <td>1</td>\n",
       "    </tr>\n",
       "    <tr>\n",
       "      <th>749636</th>\n",
       "      <td>SPB-30018</td>\n",
       "      <td>기타</td>\n",
       "      <td>2024-05-01</td>\n",
       "      <td>2024-04-01</td>\n",
       "      <td>2024-03-01</td>\n",
       "      <td>2024-06-01</td>\n",
       "      <td>1</td>\n",
       "    </tr>\n",
       "    <tr>\n",
       "      <th>741124</th>\n",
       "      <td>SPB-30022</td>\n",
       "      <td>기타</td>\n",
       "      <td>2024-04-20</td>\n",
       "      <td>2024-03-20</td>\n",
       "      <td>2024-02-20</td>\n",
       "      <td>2024-05-20</td>\n",
       "      <td>1</td>\n",
       "    </tr>\n",
       "  </tbody>\n",
       "</table>\n",
       "</div>"
      ],
      "text/plain": [
       "            자전거번호  고장구분  이전일자_1mon  이전일자_2mon  이전일자_3mon     등록대여일자  고장여부\n",
       "714016  SPB-30006    페달 2024-02-29 2024-01-31 2023-12-31 2024-03-31     1\n",
       "760656  SPB-30010  타이어  2024-05-18 2024-04-18 2024-03-18 2024-06-18     1\n",
       "763779  SPB-30014   기타  2024-05-24 2024-04-24 2024-03-24 2024-06-24     1\n",
       "749636  SPB-30018   기타  2024-05-01 2024-04-01 2024-03-01 2024-06-01     1\n",
       "741124  SPB-30022   기타  2024-04-20 2024-03-20 2024-02-20 2024-05-20     1"
      ]
     },
     "execution_count": 482,
     "metadata": {},
     "output_type": "execute_result"
    }
   ],
   "source": [
    "df_Bike_latest.head()"
   ]
  },
  {
   "cell_type": "code",
   "execution_count": 484,
   "id": "ab6db733-f018-40bd-a941-74338d06518a",
   "metadata": {},
   "outputs": [
    {
     "data": {
      "text/plain": [
       "37176899"
      ]
     },
     "execution_count": 484,
     "metadata": {},
     "output_type": "execute_result"
    }
   ],
   "source": [
    "df_BikeRent230901_240630['자전거번호'].isin(df_Bike_latest['자전거번호']).shape[0]"
   ]
  },
  {
   "cell_type": "code",
   "execution_count": 498,
   "id": "5d8b01c4-cd9d-41c0-bb14-430005594cd2",
   "metadata": {},
   "outputs": [
    {
     "data": {
      "text/html": [
       "<div>\n",
       "<style scoped>\n",
       "    .dataframe tbody tr th:only-of-type {\n",
       "        vertical-align: middle;\n",
       "    }\n",
       "\n",
       "    .dataframe tbody tr th {\n",
       "        vertical-align: top;\n",
       "    }\n",
       "\n",
       "    .dataframe thead th {\n",
       "        text-align: right;\n",
       "    }\n",
       "</style>\n",
       "<table border=\"1\" class=\"dataframe\">\n",
       "  <thead>\n",
       "    <tr style=\"text-align: right;\">\n",
       "      <th></th>\n",
       "      <th>자전거번호</th>\n",
       "      <th>대여일자</th>\n",
       "      <th>대여시간차</th>\n",
       "      <th>대여대여소번호</th>\n",
       "      <th>반납대여소번호</th>\n",
       "      <th>이용시간(분)</th>\n",
       "      <th>이용거리(M)</th>\n",
       "    </tr>\n",
       "  </thead>\n",
       "  <tbody>\n",
       "    <tr>\n",
       "      <th>30476802</th>\n",
       "      <td>SPB-45718</td>\n",
       "      <td>2023-09-01</td>\n",
       "      <td>0 days 00:00:13</td>\n",
       "      <td>02213</td>\n",
       "      <td>02213</td>\n",
       "      <td>0</td>\n",
       "      <td>0.0</td>\n",
       "    </tr>\n",
       "    <tr>\n",
       "      <th>30476803</th>\n",
       "      <td>SPB-63096</td>\n",
       "      <td>2023-09-01</td>\n",
       "      <td>0 days 00:00:29</td>\n",
       "      <td>00838</td>\n",
       "      <td>00838</td>\n",
       "      <td>0</td>\n",
       "      <td>0.0</td>\n",
       "    </tr>\n",
       "    <tr>\n",
       "      <th>30476804</th>\n",
       "      <td>SPB-49019</td>\n",
       "      <td>2023-09-01</td>\n",
       "      <td>0 days 00:01:35</td>\n",
       "      <td>00431</td>\n",
       "      <td>04798</td>\n",
       "      <td>1</td>\n",
       "      <td>230.0</td>\n",
       "    </tr>\n",
       "    <tr>\n",
       "      <th>30476805</th>\n",
       "      <td>SPB-53749</td>\n",
       "      <td>2023-09-01</td>\n",
       "      <td>0 days 00:00:03</td>\n",
       "      <td>03819</td>\n",
       "      <td>03819</td>\n",
       "      <td>0</td>\n",
       "      <td>0.0</td>\n",
       "    </tr>\n",
       "    <tr>\n",
       "      <th>30476806</th>\n",
       "      <td>SPB-82988</td>\n",
       "      <td>2023-09-01</td>\n",
       "      <td>0 days 00:01:08</td>\n",
       "      <td>00389</td>\n",
       "      <td>00473</td>\n",
       "      <td>1</td>\n",
       "      <td>160.0</td>\n",
       "    </tr>\n",
       "  </tbody>\n",
       "</table>\n",
       "</div>"
      ],
      "text/plain": [
       "              자전거번호       대여일자           대여시간차 대여대여소번호 반납대여소번호  이용시간(분)  \\\n",
       "30476802  SPB-45718 2023-09-01 0 days 00:00:13   02213   02213        0   \n",
       "30476803  SPB-63096 2023-09-01 0 days 00:00:29   00838   00838        0   \n",
       "30476804  SPB-49019 2023-09-01 0 days 00:01:35   00431   04798        1   \n",
       "30476805  SPB-53749 2023-09-01 0 days 00:00:03   03819   03819        0   \n",
       "30476806  SPB-82988 2023-09-01 0 days 00:01:08   00389   00473        1   \n",
       "\n",
       "          이용거리(M)  \n",
       "30476802      0.0  \n",
       "30476803      0.0  \n",
       "30476804    230.0  \n",
       "30476805      0.0  \n",
       "30476806    160.0  "
      ]
     },
     "execution_count": 498,
     "metadata": {},
     "output_type": "execute_result"
    }
   ],
   "source": [
    "df_BikeRent230901_240630.head()"
   ]
  },
  {
   "cell_type": "code",
   "execution_count": 500,
   "id": "2b3ad2e2-0a5a-4b47-950f-55b5172f8deb",
   "metadata": {},
   "outputs": [],
   "source": [
    "df_BikeRent230901_240630 = df_BikeRent230901_240630.groupby(['자전거번호', '대여일자']).agg({\n",
    "    '이용거리(M)': ['sum'],             # 이용거리의 합계\n",
    "    '이용시간(분)': ['sum'],            # 이용시간의 합계\n",
    "    '대여일자': ['count']               # 이용횟수\n",
    "    }).reset_index()"
   ]
  },
  {
   "cell_type": "code",
   "execution_count": 502,
   "id": "39b866f4-7e28-4260-b3d4-5d7d7e902cca",
   "metadata": {},
   "outputs": [
    {
     "data": {
      "text/plain": [
       "6928434"
      ]
     },
     "execution_count": 502,
     "metadata": {},
     "output_type": "execute_result"
    }
   ],
   "source": [
    "df_BikeRent230901_240630.shape[0]"
   ]
  },
  {
   "cell_type": "code",
   "execution_count": 504,
   "id": "92bcd9fe-b99a-40a8-8a03-fc2ef19dec7d",
   "metadata": {},
   "outputs": [
    {
     "data": {
      "text/html": [
       "<div>\n",
       "<style scoped>\n",
       "    .dataframe tbody tr th:only-of-type {\n",
       "        vertical-align: middle;\n",
       "    }\n",
       "\n",
       "    .dataframe tbody tr th {\n",
       "        vertical-align: top;\n",
       "    }\n",
       "\n",
       "    .dataframe thead tr th {\n",
       "        text-align: left;\n",
       "    }\n",
       "</style>\n",
       "<table border=\"1\" class=\"dataframe\">\n",
       "  <thead>\n",
       "    <tr>\n",
       "      <th></th>\n",
       "      <th>자전거번호</th>\n",
       "      <th>대여일자</th>\n",
       "      <th>이용거리(M)</th>\n",
       "      <th>이용시간(분)</th>\n",
       "      <th>대여일자</th>\n",
       "    </tr>\n",
       "    <tr>\n",
       "      <th></th>\n",
       "      <th></th>\n",
       "      <th></th>\n",
       "      <th>sum</th>\n",
       "      <th>sum</th>\n",
       "      <th>count</th>\n",
       "    </tr>\n",
       "  </thead>\n",
       "  <tbody>\n",
       "    <tr>\n",
       "      <th>0</th>\n",
       "      <td>SPB-30001</td>\n",
       "      <td>2023-09-01</td>\n",
       "      <td>42995.90</td>\n",
       "      <td>366</td>\n",
       "      <td>12</td>\n",
       "    </tr>\n",
       "    <tr>\n",
       "      <th>1</th>\n",
       "      <td>SPB-30001</td>\n",
       "      <td>2023-09-02</td>\n",
       "      <td>3255.36</td>\n",
       "      <td>17</td>\n",
       "      <td>2</td>\n",
       "    </tr>\n",
       "    <tr>\n",
       "      <th>2</th>\n",
       "      <td>SPB-30001</td>\n",
       "      <td>2023-09-03</td>\n",
       "      <td>2298.96</td>\n",
       "      <td>11</td>\n",
       "      <td>1</td>\n",
       "    </tr>\n",
       "    <tr>\n",
       "      <th>3</th>\n",
       "      <td>SPB-30001</td>\n",
       "      <td>2023-09-04</td>\n",
       "      <td>2463.08</td>\n",
       "      <td>16</td>\n",
       "      <td>2</td>\n",
       "    </tr>\n",
       "  </tbody>\n",
       "</table>\n",
       "</div>"
      ],
      "text/plain": [
       "       자전거번호       대여일자   이용거리(M) 이용시간(분)  대여일자\n",
       "                              sum     sum count\n",
       "0  SPB-30001 2023-09-01  42995.90     366    12\n",
       "1  SPB-30001 2023-09-02   3255.36      17     2\n",
       "2  SPB-30001 2023-09-03   2298.96      11     1\n",
       "3  SPB-30001 2023-09-04   2463.08      16     2"
      ]
     },
     "execution_count": 504,
     "metadata": {},
     "output_type": "execute_result"
    }
   ],
   "source": [
    "df_BikeRent230901_240630.head(4)"
   ]
  },
  {
   "cell_type": "code",
   "execution_count": 506,
   "id": "7e4ff0d0-a6e4-4da8-96db-b26876cec9a4",
   "metadata": {},
   "outputs": [],
   "source": [
    "df_BikeRent230901_240630.columns = ['자전거번호', '대여일자', '이용거리(M)', '이용시간(분)', '대여횟수']"
   ]
  },
  {
   "cell_type": "code",
   "execution_count": 508,
   "id": "843ed8e3-a1a5-4e7a-8d70-08c55dafba90",
   "metadata": {},
   "outputs": [
    {
     "data": {
      "text/html": [
       "<div>\n",
       "<style scoped>\n",
       "    .dataframe tbody tr th:only-of-type {\n",
       "        vertical-align: middle;\n",
       "    }\n",
       "\n",
       "    .dataframe tbody tr th {\n",
       "        vertical-align: top;\n",
       "    }\n",
       "\n",
       "    .dataframe thead th {\n",
       "        text-align: right;\n",
       "    }\n",
       "</style>\n",
       "<table border=\"1\" class=\"dataframe\">\n",
       "  <thead>\n",
       "    <tr style=\"text-align: right;\">\n",
       "      <th></th>\n",
       "      <th>자전거번호</th>\n",
       "      <th>대여일자</th>\n",
       "      <th>이용거리(M)</th>\n",
       "      <th>이용시간(분)</th>\n",
       "      <th>대여횟수</th>\n",
       "    </tr>\n",
       "  </thead>\n",
       "  <tbody>\n",
       "    <tr>\n",
       "      <th>0</th>\n",
       "      <td>SPB-30001</td>\n",
       "      <td>2023-09-01</td>\n",
       "      <td>42995.90</td>\n",
       "      <td>366</td>\n",
       "      <td>12</td>\n",
       "    </tr>\n",
       "    <tr>\n",
       "      <th>1</th>\n",
       "      <td>SPB-30001</td>\n",
       "      <td>2023-09-02</td>\n",
       "      <td>3255.36</td>\n",
       "      <td>17</td>\n",
       "      <td>2</td>\n",
       "    </tr>\n",
       "    <tr>\n",
       "      <th>2</th>\n",
       "      <td>SPB-30001</td>\n",
       "      <td>2023-09-03</td>\n",
       "      <td>2298.96</td>\n",
       "      <td>11</td>\n",
       "      <td>1</td>\n",
       "    </tr>\n",
       "    <tr>\n",
       "      <th>3</th>\n",
       "      <td>SPB-30001</td>\n",
       "      <td>2023-09-04</td>\n",
       "      <td>2463.08</td>\n",
       "      <td>16</td>\n",
       "      <td>2</td>\n",
       "    </tr>\n",
       "    <tr>\n",
       "      <th>4</th>\n",
       "      <td>SPB-30001</td>\n",
       "      <td>2023-09-05</td>\n",
       "      <td>5845.93</td>\n",
       "      <td>69</td>\n",
       "      <td>2</td>\n",
       "    </tr>\n",
       "  </tbody>\n",
       "</table>\n",
       "</div>"
      ],
      "text/plain": [
       "       자전거번호       대여일자   이용거리(M)  이용시간(분)  대여횟수\n",
       "0  SPB-30001 2023-09-01  42995.90      366    12\n",
       "1  SPB-30001 2023-09-02   3255.36       17     2\n",
       "2  SPB-30001 2023-09-03   2298.96       11     1\n",
       "3  SPB-30001 2023-09-04   2463.08       16     2\n",
       "4  SPB-30001 2023-09-05   5845.93       69     2"
      ]
     },
     "execution_count": 508,
     "metadata": {},
     "output_type": "execute_result"
    }
   ],
   "source": [
    "df_BikeRent230901_240630.head()"
   ]
  },
  {
   "cell_type": "code",
   "execution_count": 510,
   "id": "0fdadb9e-0f9e-45e8-84b9-af8550144b11",
   "metadata": {},
   "outputs": [
    {
     "name": "stdout",
     "output_type": "stream",
     "text": [
      "<class 'pandas.core.frame.DataFrame'>\n",
      "RangeIndex: 6928434 entries, 0 to 6928433\n",
      "Data columns (total 5 columns):\n",
      " #   Column   Dtype         \n",
      "---  ------   -----         \n",
      " 0   자전거번호    object        \n",
      " 1   대여일자     datetime64[ns]\n",
      " 2   이용거리(M)  float64       \n",
      " 3   이용시간(분)  int64         \n",
      " 4   대여횟수     int64         \n",
      "dtypes: datetime64[ns](1), float64(1), int64(2), object(1)\n",
      "memory usage: 264.3+ MB\n"
     ]
    }
   ],
   "source": [
    "df_BikeRent230901_240630.info()"
   ]
  },
  {
   "cell_type": "code",
   "execution_count": 518,
   "id": "66b656a1-051c-4e73-afe2-fb7d56e9b809",
   "metadata": {},
   "outputs": [],
   "source": [
    "df_BikeRent230901_240630 = df_BikeRent230901_240630[df_BikeRent230901_240630['대여일자'] >= df_Bike_latest['이전일자_1mon'].min()]"
   ]
  },
  {
   "cell_type": "code",
   "execution_count": 520,
   "id": "b1dc5444-fb56-49e1-aba3-2434d5181221",
   "metadata": {},
   "outputs": [
    {
     "data": {
      "text/plain": [
       "4657278"
      ]
     },
     "execution_count": 520,
     "metadata": {},
     "output_type": "execute_result"
    }
   ],
   "source": [
    "df_BikeRent230901_240630.shape[0]"
   ]
  },
  {
   "cell_type": "code",
   "execution_count": 871,
   "id": "665fdef7-9917-4d84-991e-31767bbe2825",
   "metadata": {},
   "outputs": [
    {
     "data": {
      "text/plain": [
       "41896"
      ]
     },
     "execution_count": 871,
     "metadata": {},
     "output_type": "execute_result"
    }
   ],
   "source": [
    "df_Bike_latest.shape[0]"
   ]
  },
  {
   "cell_type": "code",
   "execution_count": 525,
   "id": "04446543-6001-4900-9815-a6c457c184ef",
   "metadata": {},
   "outputs": [
    {
     "data": {
      "text/html": [
       "<div>\n",
       "<style scoped>\n",
       "    .dataframe tbody tr th:only-of-type {\n",
       "        vertical-align: middle;\n",
       "    }\n",
       "\n",
       "    .dataframe tbody tr th {\n",
       "        vertical-align: top;\n",
       "    }\n",
       "\n",
       "    .dataframe thead th {\n",
       "        text-align: right;\n",
       "    }\n",
       "</style>\n",
       "<table border=\"1\" class=\"dataframe\">\n",
       "  <thead>\n",
       "    <tr style=\"text-align: right;\">\n",
       "      <th></th>\n",
       "      <th>자전거번호</th>\n",
       "      <th>고장구분</th>\n",
       "      <th>이전일자_1mon</th>\n",
       "      <th>이전일자_2mon</th>\n",
       "      <th>이전일자_3mon</th>\n",
       "      <th>등록대여일자</th>\n",
       "      <th>고장여부</th>\n",
       "    </tr>\n",
       "  </thead>\n",
       "  <tbody>\n",
       "    <tr>\n",
       "      <th>714016</th>\n",
       "      <td>SPB-30006</td>\n",
       "      <td>페달</td>\n",
       "      <td>2024-02-29</td>\n",
       "      <td>2024-01-31</td>\n",
       "      <td>2023-12-31</td>\n",
       "      <td>2024-03-31</td>\n",
       "      <td>1</td>\n",
       "    </tr>\n",
       "    <tr>\n",
       "      <th>760656</th>\n",
       "      <td>SPB-30010</td>\n",
       "      <td>타이어</td>\n",
       "      <td>2024-05-18</td>\n",
       "      <td>2024-04-18</td>\n",
       "      <td>2024-03-18</td>\n",
       "      <td>2024-06-18</td>\n",
       "      <td>1</td>\n",
       "    </tr>\n",
       "  </tbody>\n",
       "</table>\n",
       "</div>"
      ],
      "text/plain": [
       "            자전거번호  고장구분  이전일자_1mon  이전일자_2mon  이전일자_3mon     등록대여일자  고장여부\n",
       "714016  SPB-30006    페달 2024-02-29 2024-01-31 2023-12-31 2024-03-31     1\n",
       "760656  SPB-30010  타이어  2024-05-18 2024-04-18 2024-03-18 2024-06-18     1"
      ]
     },
     "execution_count": 525,
     "metadata": {},
     "output_type": "execute_result"
    }
   ],
   "source": [
    "df_Bike_latest.head(2)"
   ]
  },
  {
   "cell_type": "code",
   "execution_count": 873,
   "id": "3ff3ece4-8513-4227-bd04-d711e44e5820",
   "metadata": {},
   "outputs": [],
   "source": [
    "df_Bike_latest2 = pd.concat([df_Bike_latest[df_Bike_latest['고장여부'] == 0][:5000], df_Bike_latest[df_Bike_latest['고장여부'] == 1][:5000]], axis=0)"
   ]
  },
  {
   "cell_type": "code",
   "execution_count": 1012,
   "id": "5798a1ea-d8f7-469a-8415-717b4eccd548",
   "metadata": {},
   "outputs": [],
   "source": [
    "df_Bike_latest2 = df_Bike_latest"
   ]
  },
  {
   "cell_type": "code",
   "execution_count": 1014,
   "id": "b30fe85b-dc57-4d6f-939d-7945270e44d6",
   "metadata": {},
   "outputs": [
    {
     "data": {
      "text/plain": [
       "41896"
      ]
     },
     "execution_count": 1014,
     "metadata": {},
     "output_type": "execute_result"
    }
   ],
   "source": [
    "df_Bike_latest2.shape[0]"
   ]
  },
  {
   "cell_type": "code",
   "execution_count": 1016,
   "id": "e45c6215-0b91-421b-983e-ac983248f460",
   "metadata": {},
   "outputs": [
    {
     "data": {
      "text/html": [
       "<div>\n",
       "<style scoped>\n",
       "    .dataframe tbody tr th:only-of-type {\n",
       "        vertical-align: middle;\n",
       "    }\n",
       "\n",
       "    .dataframe tbody tr th {\n",
       "        vertical-align: top;\n",
       "    }\n",
       "\n",
       "    .dataframe thead th {\n",
       "        text-align: right;\n",
       "    }\n",
       "</style>\n",
       "<table border=\"1\" class=\"dataframe\">\n",
       "  <thead>\n",
       "    <tr style=\"text-align: right;\">\n",
       "      <th></th>\n",
       "      <th>자전거번호</th>\n",
       "      <th>고장구분</th>\n",
       "      <th>이전일자_1mon</th>\n",
       "      <th>이전일자_2mon</th>\n",
       "      <th>이전일자_3mon</th>\n",
       "      <th>등록대여일자</th>\n",
       "      <th>고장여부</th>\n",
       "    </tr>\n",
       "  </thead>\n",
       "  <tbody>\n",
       "    <tr>\n",
       "      <th>714016</th>\n",
       "      <td>SPB-30006</td>\n",
       "      <td>페달</td>\n",
       "      <td>2024-02-29</td>\n",
       "      <td>2024-01-31</td>\n",
       "      <td>2023-12-31</td>\n",
       "      <td>2024-03-31</td>\n",
       "      <td>1</td>\n",
       "    </tr>\n",
       "    <tr>\n",
       "      <th>760656</th>\n",
       "      <td>SPB-30010</td>\n",
       "      <td>타이어</td>\n",
       "      <td>2024-05-18</td>\n",
       "      <td>2024-04-18</td>\n",
       "      <td>2024-03-18</td>\n",
       "      <td>2024-06-18</td>\n",
       "      <td>1</td>\n",
       "    </tr>\n",
       "    <tr>\n",
       "      <th>763779</th>\n",
       "      <td>SPB-30014</td>\n",
       "      <td>기타</td>\n",
       "      <td>2024-05-24</td>\n",
       "      <td>2024-04-24</td>\n",
       "      <td>2024-03-24</td>\n",
       "      <td>2024-06-24</td>\n",
       "      <td>1</td>\n",
       "    </tr>\n",
       "    <tr>\n",
       "      <th>749636</th>\n",
       "      <td>SPB-30018</td>\n",
       "      <td>기타</td>\n",
       "      <td>2024-05-01</td>\n",
       "      <td>2024-04-01</td>\n",
       "      <td>2024-03-01</td>\n",
       "      <td>2024-06-01</td>\n",
       "      <td>1</td>\n",
       "    </tr>\n",
       "    <tr>\n",
       "      <th>741124</th>\n",
       "      <td>SPB-30022</td>\n",
       "      <td>기타</td>\n",
       "      <td>2024-04-20</td>\n",
       "      <td>2024-03-20</td>\n",
       "      <td>2024-02-20</td>\n",
       "      <td>2024-05-20</td>\n",
       "      <td>1</td>\n",
       "    </tr>\n",
       "  </tbody>\n",
       "</table>\n",
       "</div>"
      ],
      "text/plain": [
       "            자전거번호  고장구분  이전일자_1mon  이전일자_2mon  이전일자_3mon     등록대여일자  고장여부\n",
       "714016  SPB-30006    페달 2024-02-29 2024-01-31 2023-12-31 2024-03-31     1\n",
       "760656  SPB-30010  타이어  2024-05-18 2024-04-18 2024-03-18 2024-06-18     1\n",
       "763779  SPB-30014   기타  2024-05-24 2024-04-24 2024-03-24 2024-06-24     1\n",
       "749636  SPB-30018   기타  2024-05-01 2024-04-01 2024-03-01 2024-06-01     1\n",
       "741124  SPB-30022   기타  2024-04-20 2024-03-20 2024-02-20 2024-05-20     1"
      ]
     },
     "execution_count": 1016,
     "metadata": {},
     "output_type": "execute_result"
    }
   ],
   "source": [
    "df_Bike_latest2.head()"
   ]
  },
  {
   "cell_type": "markdown",
   "id": "adafc352-ff9b-46fb-a910-bb118ebfa2ec",
   "metadata": {},
   "source": [
    "---\n",
    "### 대여이력의 이상패턴 횟수 구하기\n",
    "- '자전거고장신고내역'의 '이전일자' ~ '등록대여일자'가 '자전거대여이력'의 이상패턴의 '대여일자'에 포함되는 자전거별 횟수 가져오기"
   ]
  },
  {
   "cell_type": "code",
   "execution_count": null,
   "id": "eb74d1d2-e9f6-4956-ad61-62c213444afa",
   "metadata": {},
   "outputs": [],
   "source": [
    "start_time = time.time()\n",
    "\n",
    "# 결과를 저장할 딕셔너리 초기화\n",
    "results = []\n",
    "\n",
    "# # 1. 조건에 따라 필터링: 대여시간차가 (5분, 7분, 10분) 미만, 대여 대여소 번호와 반납 대여소 번호가 동일한 데이터만 선택\n",
    "cond1_5 = df_BikeRent230901_240630_temp['대여시간차'] < pd.Timedelta(minutes=5)\n",
    "cond1_7 = df_BikeRent230901_240630_temp['대여시간차'] < pd.Timedelta(minutes=7)\n",
    "cond1_10 = df_BikeRent230901_240630_temp['대여시간차'] < pd.Timedelta(minutes=10)\n",
    "cond2 = df_BikeRent230901_240630_temp['대여대여소번호'] == df_BikeRent230901_240630_temp['반납대여소번호']\n",
    "df_BikeRent230901_240630_5min = df_BikeRent230901_240630_temp[cond1_5 & cond2].copy()\n",
    "df_BikeRent230901_240630_7min = df_BikeRent230901_240630_temp[cond1_7 & cond2].copy()\n",
    "df_BikeRent230901_240630_10min = df_BikeRent230901_240630_temp[cond1_10 & cond2].copy()\n",
    "\n",
    "# 고장 신고 내역을 순회하며 대여 이력에서 해당 기간에 속하는 대여 건수를 카운트\n",
    "cnt_Bike_latest = len(df_Bike_latest2)\n",
    "cnt = 1\n",
    "# for index, row in df_Bike_latest.iterrows():\n",
    "for index, row in df_Bike_latest2.iterrows():\n",
    "    start_time_2 = time.time()\n",
    "    \n",
    "    bike_number = row['자전거번호']\n",
    "    previous_date_1mon = row['이전일자_1mon']\n",
    "    registered_date = row['등록대여일자']\n",
    "\n",
    "    # =========================================\n",
    "    # 이전 한달의, 이상패턴 횟수 조회 (5분, 7분, 10분)\n",
    "    # 자전거 번호가 일치하고, 대여일자가 이전일자와 등록대여일자 사이에 있는 경우의 수를 카운트\n",
    "    outlier_rent_5min_count = df_BikeRent230901_240630_5min[(df_BikeRent230901_240630_5min['자전거번호'] == bike_number) & \n",
    "                               (df_BikeRent230901_240630_5min['대여일자'] >= previous_date_1mon) & \n",
    "                               (df_BikeRent230901_240630_5min['대여일자'] <= registered_date)].shape[0]\n",
    "    \n",
    "    # outlier_rent_7min_count = df_BikeRent230901_240630_7min[(df_BikeRent230901_240630_7min['자전거번호'] == bike_number) & \n",
    "    #                            (df_BikeRent230901_240630_7min['대여일자'] >= previous_date_1mon) & \n",
    "    #                            (df_BikeRent230901_240630_7min['대여일자'] <= registered_date)].shape[0]\n",
    "    \n",
    "    # outlier_rent_10min_count = df_BikeRent230901_240630_10min[(df_BikeRent230901_240630_10min['자전거번호'] == bike_number) & \n",
    "    #                            (df_BikeRent230901_240630_10min['대여일자'] >= previous_date_1mon) & \n",
    "    #                            (df_BikeRent230901_240630_10min['대여일자'] <= registered_date)].shape[0]\n",
    "    # =========================================\n",
    "    \n",
    "    # =========================================\n",
    "    df_temp = df_BikeRent230901_240630[(df_BikeRent230901_240630['자전거번호'] == bike_number) & \n",
    "                               (df_BikeRent230901_240630['대여일자'] <= registered_date)]\n",
    "    \n",
    "    # 이동거리,이동시간 합계 (1달 전, 2달 전, 3달 전)\n",
    "    move_sum_1mon = df_temp[(df_temp['대여일자'] >= previous_date_1mon)].groupby('자전거번호').agg({\n",
    "    '이용거리(M)': ['sum'],             # 이용거리의 합계\n",
    "    '이용시간(분)': ['sum'],            # 이용시간의 합계\n",
    "    '대여횟수': ['sum']                 # 이용횟수\n",
    "    })\n",
    "    if not move_sum_1mon.empty:\n",
    "        before_1mon_distance = move_sum_1mon['이용거리(M)'].values[0][0]\n",
    "        before_1mon_time = move_sum_1mon['이용시간(분)'].values[0][0]\n",
    "        before_1mon_cnt = move_sum_1mon['대여횟수'].values[0][0]\n",
    "    else:\n",
    "        before_1mon_distance = None\n",
    "        before_1mon_time = None\n",
    "        before_1mon_cnt = None\n",
    "\n",
    "    # move_sum_2mon = df_temp[(df_temp['대여일자'] >= previous_date_2mon)].groupby('자전거번호').agg({\n",
    "    # '이용거리(M)': ['sum'],             # 이용거리의 합계\n",
    "    # '이용시간(분)': ['sum'],            # 이용시간의 합계\n",
    "    # '대여횟수': ['count']               # 이용횟수\n",
    "    # })\n",
    "    # if not move_sum_2mon.empty:\n",
    "    #     before_2mon_distance = move_sum_2mon['이용거리(M)'].values[0][0]\n",
    "    #     before_2mon_time = move_sum_2mon['이용시간(분)'].values[0][0]\n",
    "    #     before_2mon_cnt = move_sum_2mon['대여횟수'].values[0][0]\n",
    "    # else:\n",
    "    #     before_2mon_distance = None\n",
    "    #     before_2mon_time = None\n",
    "    #     before_2mon_cnt = None\n",
    "\n",
    "    # move_sum_3mon = df_temp[(df_temp['대여일자'] >= previous_date_3mon)].groupby('자전거번호').agg({\n",
    "    # '이용거리(M)': ['sum'],             # 이용거리의 합계\n",
    "    # '이용시간(분)': ['sum'],            # 이용시간의 합계\n",
    "    # '대여횟수': ['count']               # 이용횟수\n",
    "    # })\n",
    "    # if not move_sum_3mon.empty:\n",
    "    #     before_3mon_distance = move_sum_3mon['이용거리(M)'].values[0][0]\n",
    "    #     before_3mon_time = move_sum_3mon['이용시간(분)'].values[0][0]\n",
    "    #     before_3mon_cnt = move_sum_3mon['대여횟수'].values[0][0]\n",
    "    # else:\n",
    "    #     before_3mon_distance = None\n",
    "    #     before_3mon_time = None\n",
    "    #     before_3mon_cnt = None\n",
    "                                                                                                               \n",
    "    results.append({\n",
    "            '자전거번호': bike_number,\n",
    "            '이전일자_1mon': previous_date_1mon,\n",
    "            # '이전일자_2mon': previous_date_2mon,\n",
    "            # '이전일자_3mon': previous_date_3mon,\n",
    "            '등록대여일자': registered_date,\n",
    "            '고장구분': row['고장구분'],\n",
    "            '고장여부': row['고장여부'],\n",
    "        \n",
    "            '이상패턴_5min_횟수': outlier_rent_5min_count,\n",
    "            # '이상패턴_7min_횟수': outlier_rent_7min_count,\n",
    "            # '이상패턴_10min_횟수': outlier_rent_10min_count,\n",
    "            \n",
    "            '이전일자_1mon_이용거리': before_1mon_distance,\n",
    "            '이전일자_1mon_이용시간': before_1mon_time,\n",
    "            '이전일자_1mon_이용횟수': before_1mon_cnt,\n",
    "            # '이전일자_2mon_이용거리': before_2mon_distance,\n",
    "            # '이전일자_2mon_이용시간': before_2mon_time,\n",
    "            # '이전일자_2mon_이용횟수': before_2mon_cnt,\n",
    "            # '이전일자_3mon_이용거리': before_3mon_distance,\n",
    "            # '이전일자_3mon_이용시간': before_3mon_time,\n",
    "            # '이전일자_3mon_이용횟수': before_3mon_cnt,\n",
    "        })\n",
    "\n",
    "    # 처리 상황 디버깅\n",
    "    print(f'check time : {time.time() - start_time_2} - {str(cnt)}/{str(cnt_Bike_latest)} - {bike_number}')\n",
    "    cnt = cnt + 1\n",
    "    \n",
    "# DataFrame으로 변환\n",
    "df_bike_results = pd.DataFrame(results)\n",
    "\n",
    "print(\"check time :\", time.time() - start_time)\n",
    "\n",
    "df_bike_results.to_parquet('G:\\\\내 드라이브\\\\DataSet\\\\_파킷 파일\\\\서울특별시 공공자전거 대여이력 정보\\\\서울특별시 공공자전거 대여이력 정보_(PRE)고장예측_2023_2024_20241107.parquet', index=False)"
   ]
  },
  {
   "cell_type": "code",
   "execution_count": 1020,
   "id": "d0be30b0-8bce-42e4-8491-0994ff35703e",
   "metadata": {},
   "outputs": [],
   "source": [
    "df_bike_results.columns\n",
    "_columns = ['자전거번호', '이전일자_1mon', '등록대여일자', '고장구분',\n",
    "       '고장여부', '이상패턴_5min_횟수', '이전일자_1mon_이용거리', '이전일자_1mon_이용시간',\n",
    "       '이전일자_1mon_이용횟수']\n",
    "df_bike_results = df_bike_results[_columns]"
   ]
  },
  {
   "cell_type": "code",
   "execution_count": 1022,
   "id": "c5bf0e16-98ee-4681-9006-e818f2a13a5b",
   "metadata": {},
   "outputs": [
    {
     "data": {
      "text/html": [
       "<div>\n",
       "<style scoped>\n",
       "    .dataframe tbody tr th:only-of-type {\n",
       "        vertical-align: middle;\n",
       "    }\n",
       "\n",
       "    .dataframe tbody tr th {\n",
       "        vertical-align: top;\n",
       "    }\n",
       "\n",
       "    .dataframe thead th {\n",
       "        text-align: right;\n",
       "    }\n",
       "</style>\n",
       "<table border=\"1\" class=\"dataframe\">\n",
       "  <thead>\n",
       "    <tr style=\"text-align: right;\">\n",
       "      <th></th>\n",
       "      <th>자전거번호</th>\n",
       "      <th>이전일자_1mon</th>\n",
       "      <th>등록대여일자</th>\n",
       "      <th>고장구분</th>\n",
       "      <th>고장여부</th>\n",
       "      <th>이상패턴_5min_횟수</th>\n",
       "      <th>이전일자_1mon_이용거리</th>\n",
       "      <th>이전일자_1mon_이용시간</th>\n",
       "      <th>이전일자_1mon_이용횟수</th>\n",
       "    </tr>\n",
       "  </thead>\n",
       "  <tbody>\n",
       "    <tr>\n",
       "      <th>0</th>\n",
       "      <td>SPB-30006</td>\n",
       "      <td>2024-02-29</td>\n",
       "      <td>2024-03-31</td>\n",
       "      <td>페달</td>\n",
       "      <td>1</td>\n",
       "      <td>2</td>\n",
       "      <td>98170.92</td>\n",
       "      <td>843.0</td>\n",
       "      <td>74.0</td>\n",
       "    </tr>\n",
       "    <tr>\n",
       "      <th>1</th>\n",
       "      <td>SPB-30010</td>\n",
       "      <td>2024-05-18</td>\n",
       "      <td>2024-06-18</td>\n",
       "      <td>타이어</td>\n",
       "      <td>1</td>\n",
       "      <td>5</td>\n",
       "      <td>231653.56</td>\n",
       "      <td>2257.0</td>\n",
       "      <td>121.0</td>\n",
       "    </tr>\n",
       "    <tr>\n",
       "      <th>2</th>\n",
       "      <td>SPB-30014</td>\n",
       "      <td>2024-05-24</td>\n",
       "      <td>2024-06-24</td>\n",
       "      <td>기타</td>\n",
       "      <td>1</td>\n",
       "      <td>7</td>\n",
       "      <td>335138.54</td>\n",
       "      <td>2966.0</td>\n",
       "      <td>156.0</td>\n",
       "    </tr>\n",
       "  </tbody>\n",
       "</table>\n",
       "</div>"
      ],
      "text/plain": [
       "       자전거번호  이전일자_1mon     등록대여일자  고장구분  고장여부  이상패턴_5min_횟수  이전일자_1mon_이용거리  \\\n",
       "0  SPB-30006 2024-02-29 2024-03-31    페달     1             2        98170.92   \n",
       "1  SPB-30010 2024-05-18 2024-06-18  타이어      1             5       231653.56   \n",
       "2  SPB-30014 2024-05-24 2024-06-24   기타      1             7       335138.54   \n",
       "\n",
       "   이전일자_1mon_이용시간  이전일자_1mon_이용횟수  \n",
       "0           843.0            74.0  \n",
       "1          2257.0           121.0  \n",
       "2          2966.0           156.0  "
      ]
     },
     "execution_count": 1022,
     "metadata": {},
     "output_type": "execute_result"
    }
   ],
   "source": [
    "df_bike_results.head(3)"
   ]
  },
  {
   "cell_type": "code",
   "execution_count": 1024,
   "id": "40b924e9-3571-46de-a023-c47b67470687",
   "metadata": {},
   "outputs": [
    {
     "data": {
      "text/plain": [
       "41896"
      ]
     },
     "execution_count": 1024,
     "metadata": {},
     "output_type": "execute_result"
    }
   ],
   "source": [
    "df_bike_results.shape[0]"
   ]
  },
  {
   "cell_type": "code",
   "execution_count": 1026,
   "id": "1a975301-aaa8-4bfc-82fb-9f254892a6c9",
   "metadata": {},
   "outputs": [],
   "source": [
    "df_bike_results.to_parquet('G:\\\\내 드라이브\\\\DataSet\\\\_파킷 파일\\\\서울특별시 공공자전거 대여이력 정보\\\\서울특별시 공공자전거 대여이력 정보_(PRE)고장예측_2023_2024_20241107.parquet', index=False)"
   ]
  },
  {
   "cell_type": "markdown",
   "id": "e8c4f418-6a97-46a9-ba93-7ab99900b509",
   "metadata": {},
   "source": [
    "check time : 84.03840374946594"
   ]
  },
  {
   "cell_type": "markdown",
   "id": "8b949104-4661-4ca2-a158-5e0b3b5a6aa0",
   "metadata": {},
   "source": [
    "---\n",
    "## 이상치패턴 저장데이터 다시 불러오기"
   ]
  },
  {
   "cell_type": "code",
   "execution_count": 31,
   "id": "36faf9cb-7e90-4b0b-a552-62bceafed4cd",
   "metadata": {},
   "outputs": [
    {
     "name": "stdout",
     "output_type": "stream",
     "text": [
      "read_csv time : 0.0573735237121582\n"
     ]
    }
   ],
   "source": [
    "start_time = time.time()\n",
    "df_outlier_rental = pd.read_parquet('G:\\\\내 드라이브\\\\DataSet\\\\_파킷 파일\\\\서울특별시 공공자전거 대여이력 정보\\\\서울특별시 공공자전거 대여이력 정보_(PRE)고장예측_2023_2024_20241107.parquet')\n",
    "print(\"read_csv time :\", time.time() - start_time)"
   ]
  },
  {
   "cell_type": "code",
   "execution_count": 33,
   "id": "a50d72d6-7621-4c6d-bc8a-38455e186366",
   "metadata": {},
   "outputs": [
    {
     "data": {
      "text/html": [
       "<div>\n",
       "<style scoped>\n",
       "    .dataframe tbody tr th:only-of-type {\n",
       "        vertical-align: middle;\n",
       "    }\n",
       "\n",
       "    .dataframe tbody tr th {\n",
       "        vertical-align: top;\n",
       "    }\n",
       "\n",
       "    .dataframe thead th {\n",
       "        text-align: right;\n",
       "    }\n",
       "</style>\n",
       "<table border=\"1\" class=\"dataframe\">\n",
       "  <thead>\n",
       "    <tr style=\"text-align: right;\">\n",
       "      <th></th>\n",
       "      <th>자전거번호</th>\n",
       "      <th>이전일자_1mon</th>\n",
       "      <th>등록대여일자</th>\n",
       "      <th>고장구분</th>\n",
       "      <th>고장여부</th>\n",
       "      <th>이상패턴_5min_횟수</th>\n",
       "      <th>이전일자_1mon_이용거리</th>\n",
       "      <th>이전일자_1mon_이용시간</th>\n",
       "      <th>이전일자_1mon_이용횟수</th>\n",
       "    </tr>\n",
       "  </thead>\n",
       "  <tbody>\n",
       "    <tr>\n",
       "      <th>0</th>\n",
       "      <td>SPB-30006</td>\n",
       "      <td>2024-02-29</td>\n",
       "      <td>2024-03-31</td>\n",
       "      <td>페달</td>\n",
       "      <td>1</td>\n",
       "      <td>2</td>\n",
       "      <td>98170.92</td>\n",
       "      <td>843.0</td>\n",
       "      <td>74.0</td>\n",
       "    </tr>\n",
       "    <tr>\n",
       "      <th>1</th>\n",
       "      <td>SPB-30010</td>\n",
       "      <td>2024-05-18</td>\n",
       "      <td>2024-06-18</td>\n",
       "      <td>타이어</td>\n",
       "      <td>1</td>\n",
       "      <td>5</td>\n",
       "      <td>231653.56</td>\n",
       "      <td>2257.0</td>\n",
       "      <td>121.0</td>\n",
       "    </tr>\n",
       "    <tr>\n",
       "      <th>2</th>\n",
       "      <td>SPB-30014</td>\n",
       "      <td>2024-05-24</td>\n",
       "      <td>2024-06-24</td>\n",
       "      <td>기타</td>\n",
       "      <td>1</td>\n",
       "      <td>7</td>\n",
       "      <td>335138.54</td>\n",
       "      <td>2966.0</td>\n",
       "      <td>156.0</td>\n",
       "    </tr>\n",
       "    <tr>\n",
       "      <th>3</th>\n",
       "      <td>SPB-30018</td>\n",
       "      <td>2024-05-01</td>\n",
       "      <td>2024-06-01</td>\n",
       "      <td>기타</td>\n",
       "      <td>1</td>\n",
       "      <td>2</td>\n",
       "      <td>291259.65</td>\n",
       "      <td>3041.0</td>\n",
       "      <td>153.0</td>\n",
       "    </tr>\n",
       "    <tr>\n",
       "      <th>4</th>\n",
       "      <td>SPB-30022</td>\n",
       "      <td>2024-04-20</td>\n",
       "      <td>2024-05-20</td>\n",
       "      <td>기타</td>\n",
       "      <td>1</td>\n",
       "      <td>7</td>\n",
       "      <td>253399.66</td>\n",
       "      <td>2755.0</td>\n",
       "      <td>143.0</td>\n",
       "    </tr>\n",
       "  </tbody>\n",
       "</table>\n",
       "</div>"
      ],
      "text/plain": [
       "       자전거번호  이전일자_1mon     등록대여일자  고장구분  고장여부  이상패턴_5min_횟수  이전일자_1mon_이용거리  \\\n",
       "0  SPB-30006 2024-02-29 2024-03-31    페달     1             2        98170.92   \n",
       "1  SPB-30010 2024-05-18 2024-06-18  타이어      1             5       231653.56   \n",
       "2  SPB-30014 2024-05-24 2024-06-24   기타      1             7       335138.54   \n",
       "3  SPB-30018 2024-05-01 2024-06-01   기타      1             2       291259.65   \n",
       "4  SPB-30022 2024-04-20 2024-05-20   기타      1             7       253399.66   \n",
       "\n",
       "   이전일자_1mon_이용시간  이전일자_1mon_이용횟수  \n",
       "0           843.0            74.0  \n",
       "1          2257.0           121.0  \n",
       "2          2966.0           156.0  \n",
       "3          3041.0           153.0  \n",
       "4          2755.0           143.0  "
      ]
     },
     "execution_count": 33,
     "metadata": {},
     "output_type": "execute_result"
    }
   ],
   "source": [
    "df_outlier_rental.head()"
   ]
  },
  {
   "cell_type": "code",
   "execution_count": 35,
   "id": "413a7151-7894-4673-ba36-cf494de0b5ff",
   "metadata": {},
   "outputs": [
    {
     "data": {
      "text/plain": [
       "고장여부\n",
       "1    28589\n",
       "0    13307\n",
       "Name: count, dtype: int64"
      ]
     },
     "execution_count": 35,
     "metadata": {},
     "output_type": "execute_result"
    }
   ],
   "source": [
    "df_outlier_rental['고장여부'].value_counts()"
   ]
  },
  {
   "cell_type": "code",
   "execution_count": 37,
   "id": "ee1af1eb-5282-4fda-a81d-5a8e8b166144",
   "metadata": {},
   "outputs": [],
   "source": [
    "df_Bike_latest_2 = df_outlier_rental"
   ]
  },
  {
   "cell_type": "markdown",
   "id": "06dd5bb2-d253-41e8-b648-8bb069ca3eee",
   "metadata": {},
   "source": [
    "---\n",
    "## 23년 자전거대여내역 불러오기"
   ]
  },
  {
   "cell_type": "code",
   "execution_count": 40,
   "id": "94be455c-fb77-47e2-baf1-1de0daf65bdc",
   "metadata": {},
   "outputs": [
    {
     "name": "stdout",
     "output_type": "stream",
     "text": [
      "read_csv time : 0.05726885795593262\n"
     ]
    }
   ],
   "source": [
    "start_time = time.time()\n",
    "df_2023_rental = pd.read_parquet('G:\\\\내 드라이브\\\\DataSet\\\\_파킷 파일\\\\서울특별시 공공자전거 대여이력 정보\\\\서울특별시 공공자전거 대여이력 정보_(PRE)2023_자전거별_월별_집계.parquet')\n",
    "print(\"read_csv time :\", time.time() - start_time)"
   ]
  },
  {
   "cell_type": "code",
   "execution_count": 42,
   "id": "9f2b48ee-b25f-437a-a2ea-c69f8b51e5a6",
   "metadata": {},
   "outputs": [
    {
     "data": {
      "text/plain": [
       "43833"
      ]
     },
     "execution_count": 42,
     "metadata": {},
     "output_type": "execute_result"
    }
   ],
   "source": [
    "df_2023_rental.shape[0]"
   ]
  },
  {
   "cell_type": "code",
   "execution_count": 44,
   "id": "28504e39-55b5-47a1-8002-4fba315a0770",
   "metadata": {},
   "outputs": [
    {
     "data": {
      "text/html": [
       "<div>\n",
       "<style scoped>\n",
       "    .dataframe tbody tr th:only-of-type {\n",
       "        vertical-align: middle;\n",
       "    }\n",
       "\n",
       "    .dataframe tbody tr th {\n",
       "        vertical-align: top;\n",
       "    }\n",
       "\n",
       "    .dataframe thead th {\n",
       "        text-align: right;\n",
       "    }\n",
       "</style>\n",
       "<table border=\"1\" class=\"dataframe\">\n",
       "  <thead>\n",
       "    <tr style=\"text-align: right;\">\n",
       "      <th></th>\n",
       "      <th>자전거번호</th>\n",
       "      <th>대여일자_count_1</th>\n",
       "      <th>대여일자_count_2</th>\n",
       "      <th>대여일자_count_3</th>\n",
       "      <th>대여일자_count_4</th>\n",
       "      <th>대여일자_count_5</th>\n",
       "      <th>대여일자_count_6</th>\n",
       "      <th>대여일자_count_7</th>\n",
       "      <th>대여일자_count_8</th>\n",
       "      <th>대여일자_count_9</th>\n",
       "      <th>대여일자_count_10</th>\n",
       "      <th>대여일자_count_11</th>\n",
       "      <th>대여일자_count_12</th>\n",
       "      <th>이용거리(M)_mean_1</th>\n",
       "      <th>이용거리(M)_mean_2</th>\n",
       "      <th>이용거리(M)_mean_3</th>\n",
       "      <th>이용거리(M)_mean_4</th>\n",
       "      <th>이용거리(M)_mean_5</th>\n",
       "      <th>이용거리(M)_mean_6</th>\n",
       "      <th>이용거리(M)_mean_7</th>\n",
       "      <th>이용거리(M)_mean_8</th>\n",
       "      <th>이용거리(M)_mean_9</th>\n",
       "      <th>이용거리(M)_mean_10</th>\n",
       "      <th>이용거리(M)_mean_11</th>\n",
       "      <th>이용거리(M)_mean_12</th>\n",
       "      <th>이용거리(M)_sum_1</th>\n",
       "      <th>이용거리(M)_sum_2</th>\n",
       "      <th>이용거리(M)_sum_3</th>\n",
       "      <th>이용거리(M)_sum_4</th>\n",
       "      <th>이용거리(M)_sum_5</th>\n",
       "      <th>이용거리(M)_sum_6</th>\n",
       "      <th>이용거리(M)_sum_7</th>\n",
       "      <th>이용거리(M)_sum_8</th>\n",
       "      <th>이용거리(M)_sum_9</th>\n",
       "      <th>이용거리(M)_sum_10</th>\n",
       "      <th>이용거리(M)_sum_11</th>\n",
       "      <th>이용거리(M)_sum_12</th>\n",
       "      <th>이용시간(분)_mean_1</th>\n",
       "      <th>이용시간(분)_mean_2</th>\n",
       "      <th>이용시간(분)_mean_3</th>\n",
       "      <th>이용시간(분)_mean_4</th>\n",
       "      <th>이용시간(분)_mean_5</th>\n",
       "      <th>이용시간(분)_mean_6</th>\n",
       "      <th>이용시간(분)_mean_7</th>\n",
       "      <th>이용시간(분)_mean_8</th>\n",
       "      <th>이용시간(분)_mean_9</th>\n",
       "      <th>이용시간(분)_mean_10</th>\n",
       "      <th>이용시간(분)_mean_11</th>\n",
       "      <th>이용시간(분)_mean_12</th>\n",
       "      <th>이용시간(분)_sum_1</th>\n",
       "      <th>이용시간(분)_sum_2</th>\n",
       "      <th>이용시간(분)_sum_3</th>\n",
       "      <th>이용시간(분)_sum_4</th>\n",
       "      <th>이용시간(분)_sum_5</th>\n",
       "      <th>이용시간(분)_sum_6</th>\n",
       "      <th>이용시간(분)_sum_7</th>\n",
       "      <th>이용시간(분)_sum_8</th>\n",
       "      <th>이용시간(분)_sum_9</th>\n",
       "      <th>이용시간(분)_sum_10</th>\n",
       "      <th>이용시간(분)_sum_11</th>\n",
       "      <th>이용시간(분)_sum_12</th>\n",
       "      <th>대여일자_count(mean)</th>\n",
       "      <th>이용거리(M)_mean(mean)</th>\n",
       "      <th>이용거리(M)_sum(mean)</th>\n",
       "    </tr>\n",
       "  </thead>\n",
       "  <tbody>\n",
       "    <tr>\n",
       "      <th>0</th>\n",
       "      <td>SPB-30001</td>\n",
       "      <td>126.0</td>\n",
       "      <td>111.0</td>\n",
       "      <td>195.0</td>\n",
       "      <td>104.0</td>\n",
       "      <td>121.0</td>\n",
       "      <td>162.0</td>\n",
       "      <td>141.0</td>\n",
       "      <td>119.0</td>\n",
       "      <td>175.0</td>\n",
       "      <td>123.0</td>\n",
       "      <td>117.0</td>\n",
       "      <td>46.0</td>\n",
       "      <td>1597.532540</td>\n",
       "      <td>2360.263423</td>\n",
       "      <td>2401.844256</td>\n",
       "      <td>3938.884712</td>\n",
       "      <td>2607.534463</td>\n",
       "      <td>2265.619877</td>\n",
       "      <td>2449.579078</td>\n",
       "      <td>1754.730588</td>\n",
       "      <td>2441.748571</td>\n",
       "      <td>2058.824472</td>\n",
       "      <td>1395.287778</td>\n",
       "      <td>1805.492174</td>\n",
       "      <td>201289.10</td>\n",
       "      <td>261989.24</td>\n",
       "      <td>468359.63</td>\n",
       "      <td>409644.01</td>\n",
       "      <td>315511.67</td>\n",
       "      <td>367030.42</td>\n",
       "      <td>345390.65</td>\n",
       "      <td>208812.94</td>\n",
       "      <td>427306.00</td>\n",
       "      <td>253235.41</td>\n",
       "      <td>163248.67</td>\n",
       "      <td>83052.64</td>\n",
       "      <td>14.079365</td>\n",
       "      <td>20.306306</td>\n",
       "      <td>19.205128</td>\n",
       "      <td>34.375000</td>\n",
       "      <td>20.727273</td>\n",
       "      <td>18.709877</td>\n",
       "      <td>21.680851</td>\n",
       "      <td>15.126050</td>\n",
       "      <td>21.040000</td>\n",
       "      <td>19.593496</td>\n",
       "      <td>18.564103</td>\n",
       "      <td>20.108696</td>\n",
       "      <td>1774.0</td>\n",
       "      <td>2254.0</td>\n",
       "      <td>3745.0</td>\n",
       "      <td>3575.0</td>\n",
       "      <td>2508.0</td>\n",
       "      <td>3031.0</td>\n",
       "      <td>3057.0</td>\n",
       "      <td>1800.0</td>\n",
       "      <td>3682.0</td>\n",
       "      <td>2410.0</td>\n",
       "      <td>2172.0</td>\n",
       "      <td>925.0</td>\n",
       "      <td>128.333333</td>\n",
       "      <td>2256.445161</td>\n",
       "      <td>292072.531667</td>\n",
       "    </tr>\n",
       "    <tr>\n",
       "      <th>1</th>\n",
       "      <td>SPB-30006</td>\n",
       "      <td>11.0</td>\n",
       "      <td>80.0</td>\n",
       "      <td>150.0</td>\n",
       "      <td>139.0</td>\n",
       "      <td>199.0</td>\n",
       "      <td>193.0</td>\n",
       "      <td>202.0</td>\n",
       "      <td>143.0</td>\n",
       "      <td>125.0</td>\n",
       "      <td>159.0</td>\n",
       "      <td>31.0</td>\n",
       "      <td>110.0</td>\n",
       "      <td>1468.723636</td>\n",
       "      <td>1717.237500</td>\n",
       "      <td>1920.765200</td>\n",
       "      <td>1798.489065</td>\n",
       "      <td>2225.908141</td>\n",
       "      <td>2427.211295</td>\n",
       "      <td>2482.220149</td>\n",
       "      <td>1585.403357</td>\n",
       "      <td>2791.540560</td>\n",
       "      <td>2172.033459</td>\n",
       "      <td>2026.211290</td>\n",
       "      <td>1124.839455</td>\n",
       "      <td>16155.96</td>\n",
       "      <td>137379.00</td>\n",
       "      <td>288114.78</td>\n",
       "      <td>249989.98</td>\n",
       "      <td>442955.72</td>\n",
       "      <td>468451.78</td>\n",
       "      <td>501408.47</td>\n",
       "      <td>226712.68</td>\n",
       "      <td>348942.57</td>\n",
       "      <td>345353.32</td>\n",
       "      <td>62812.55</td>\n",
       "      <td>123732.34</td>\n",
       "      <td>10.636364</td>\n",
       "      <td>17.650000</td>\n",
       "      <td>18.473333</td>\n",
       "      <td>20.064748</td>\n",
       "      <td>18.788945</td>\n",
       "      <td>22.217617</td>\n",
       "      <td>21.465347</td>\n",
       "      <td>17.524476</td>\n",
       "      <td>25.064000</td>\n",
       "      <td>19.396226</td>\n",
       "      <td>19.451613</td>\n",
       "      <td>11.436364</td>\n",
       "      <td>117.0</td>\n",
       "      <td>1412.0</td>\n",
       "      <td>2771.0</td>\n",
       "      <td>2789.0</td>\n",
       "      <td>3739.0</td>\n",
       "      <td>4288.0</td>\n",
       "      <td>4336.0</td>\n",
       "      <td>2506.0</td>\n",
       "      <td>3133.0</td>\n",
       "      <td>3084.0</td>\n",
       "      <td>603.0</td>\n",
       "      <td>1258.0</td>\n",
       "      <td>128.500000</td>\n",
       "      <td>1978.381926</td>\n",
       "      <td>267667.429167</td>\n",
       "    </tr>\n",
       "    <tr>\n",
       "      <th>2</th>\n",
       "      <td>SPB-30008</td>\n",
       "      <td>42.0</td>\n",
       "      <td>42.0</td>\n",
       "      <td>19.0</td>\n",
       "      <td>83.0</td>\n",
       "      <td>181.0</td>\n",
       "      <td>120.0</td>\n",
       "      <td>143.0</td>\n",
       "      <td>179.0</td>\n",
       "      <td>116.0</td>\n",
       "      <td>105.0</td>\n",
       "      <td>93.0</td>\n",
       "      <td>40.0</td>\n",
       "      <td>1222.382143</td>\n",
       "      <td>1878.965714</td>\n",
       "      <td>2277.800000</td>\n",
       "      <td>1902.278434</td>\n",
       "      <td>2182.769006</td>\n",
       "      <td>2227.949083</td>\n",
       "      <td>2630.634406</td>\n",
       "      <td>3092.678212</td>\n",
       "      <td>2912.774914</td>\n",
       "      <td>2275.691524</td>\n",
       "      <td>2009.036559</td>\n",
       "      <td>2134.287750</td>\n",
       "      <td>51340.05</td>\n",
       "      <td>78916.56</td>\n",
       "      <td>43278.20</td>\n",
       "      <td>157889.11</td>\n",
       "      <td>395081.19</td>\n",
       "      <td>267353.89</td>\n",
       "      <td>376180.72</td>\n",
       "      <td>553589.40</td>\n",
       "      <td>337881.89</td>\n",
       "      <td>238947.61</td>\n",
       "      <td>186840.40</td>\n",
       "      <td>85371.51</td>\n",
       "      <td>11.976190</td>\n",
       "      <td>15.785714</td>\n",
       "      <td>19.315789</td>\n",
       "      <td>14.228916</td>\n",
       "      <td>16.508287</td>\n",
       "      <td>16.083333</td>\n",
       "      <td>20.923077</td>\n",
       "      <td>22.312849</td>\n",
       "      <td>22.620690</td>\n",
       "      <td>21.133333</td>\n",
       "      <td>19.978495</td>\n",
       "      <td>20.675000</td>\n",
       "      <td>503.0</td>\n",
       "      <td>663.0</td>\n",
       "      <td>367.0</td>\n",
       "      <td>1181.0</td>\n",
       "      <td>2988.0</td>\n",
       "      <td>1930.0</td>\n",
       "      <td>2992.0</td>\n",
       "      <td>3994.0</td>\n",
       "      <td>2624.0</td>\n",
       "      <td>2219.0</td>\n",
       "      <td>1858.0</td>\n",
       "      <td>827.0</td>\n",
       "      <td>96.916667</td>\n",
       "      <td>2228.937312</td>\n",
       "      <td>231055.877500</td>\n",
       "    </tr>\n",
       "    <tr>\n",
       "      <th>3</th>\n",
       "      <td>SPB-30009</td>\n",
       "      <td>NaN</td>\n",
       "      <td>70.0</td>\n",
       "      <td>111.0</td>\n",
       "      <td>172.0</td>\n",
       "      <td>20.0</td>\n",
       "      <td>12.0</td>\n",
       "      <td>49.0</td>\n",
       "      <td>117.0</td>\n",
       "      <td>78.0</td>\n",
       "      <td>94.0</td>\n",
       "      <td>NaN</td>\n",
       "      <td>NaN</td>\n",
       "      <td>NaN</td>\n",
       "      <td>2058.221429</td>\n",
       "      <td>1763.318829</td>\n",
       "      <td>2071.568488</td>\n",
       "      <td>3322.989000</td>\n",
       "      <td>2160.264167</td>\n",
       "      <td>1741.867347</td>\n",
       "      <td>1863.074444</td>\n",
       "      <td>2127.794615</td>\n",
       "      <td>1845.711702</td>\n",
       "      <td>NaN</td>\n",
       "      <td>NaN</td>\n",
       "      <td>NaN</td>\n",
       "      <td>144075.50</td>\n",
       "      <td>195728.39</td>\n",
       "      <td>356309.78</td>\n",
       "      <td>66459.78</td>\n",
       "      <td>25923.17</td>\n",
       "      <td>85351.50</td>\n",
       "      <td>217979.71</td>\n",
       "      <td>165967.98</td>\n",
       "      <td>173496.90</td>\n",
       "      <td>NaN</td>\n",
       "      <td>NaN</td>\n",
       "      <td>NaN</td>\n",
       "      <td>15.542857</td>\n",
       "      <td>18.639640</td>\n",
       "      <td>18.023256</td>\n",
       "      <td>32.100000</td>\n",
       "      <td>60.416667</td>\n",
       "      <td>13.836735</td>\n",
       "      <td>25.111111</td>\n",
       "      <td>22.397436</td>\n",
       "      <td>23.712766</td>\n",
       "      <td>NaN</td>\n",
       "      <td>NaN</td>\n",
       "      <td>NaN</td>\n",
       "      <td>1088.0</td>\n",
       "      <td>2069.0</td>\n",
       "      <td>3100.0</td>\n",
       "      <td>642.0</td>\n",
       "      <td>725.0</td>\n",
       "      <td>678.0</td>\n",
       "      <td>2938.0</td>\n",
       "      <td>1747.0</td>\n",
       "      <td>2229.0</td>\n",
       "      <td>NaN</td>\n",
       "      <td>NaN</td>\n",
       "      <td>80.333333</td>\n",
       "      <td>2106.090002</td>\n",
       "      <td>159032.523333</td>\n",
       "    </tr>\n",
       "    <tr>\n",
       "      <th>4</th>\n",
       "      <td>SPB-30010</td>\n",
       "      <td>65.0</td>\n",
       "      <td>115.0</td>\n",
       "      <td>151.0</td>\n",
       "      <td>167.0</td>\n",
       "      <td>163.0</td>\n",
       "      <td>234.0</td>\n",
       "      <td>151.0</td>\n",
       "      <td>102.0</td>\n",
       "      <td>135.0</td>\n",
       "      <td>150.0</td>\n",
       "      <td>51.0</td>\n",
       "      <td>37.0</td>\n",
       "      <td>1336.259538</td>\n",
       "      <td>1630.415913</td>\n",
       "      <td>1733.082848</td>\n",
       "      <td>1947.733293</td>\n",
       "      <td>1720.982454</td>\n",
       "      <td>2153.064017</td>\n",
       "      <td>1968.328874</td>\n",
       "      <td>1885.984510</td>\n",
       "      <td>2117.909704</td>\n",
       "      <td>1928.055867</td>\n",
       "      <td>1192.914902</td>\n",
       "      <td>1635.178919</td>\n",
       "      <td>86856.87</td>\n",
       "      <td>187497.83</td>\n",
       "      <td>261695.51</td>\n",
       "      <td>325271.46</td>\n",
       "      <td>280520.14</td>\n",
       "      <td>503816.98</td>\n",
       "      <td>297217.66</td>\n",
       "      <td>192370.42</td>\n",
       "      <td>285917.81</td>\n",
       "      <td>289208.38</td>\n",
       "      <td>60838.66</td>\n",
       "      <td>60501.62</td>\n",
       "      <td>14.907692</td>\n",
       "      <td>15.069565</td>\n",
       "      <td>16.993377</td>\n",
       "      <td>18.802395</td>\n",
       "      <td>20.294479</td>\n",
       "      <td>18.598291</td>\n",
       "      <td>16.827815</td>\n",
       "      <td>14.715686</td>\n",
       "      <td>15.896296</td>\n",
       "      <td>16.053333</td>\n",
       "      <td>12.588235</td>\n",
       "      <td>15.675676</td>\n",
       "      <td>969.0</td>\n",
       "      <td>1733.0</td>\n",
       "      <td>2566.0</td>\n",
       "      <td>3140.0</td>\n",
       "      <td>3308.0</td>\n",
       "      <td>4352.0</td>\n",
       "      <td>2541.0</td>\n",
       "      <td>1501.0</td>\n",
       "      <td>2146.0</td>\n",
       "      <td>2408.0</td>\n",
       "      <td>642.0</td>\n",
       "      <td>580.0</td>\n",
       "      <td>126.750000</td>\n",
       "      <td>1770.825903</td>\n",
       "      <td>235976.111667</td>\n",
       "    </tr>\n",
       "  </tbody>\n",
       "</table>\n",
       "</div>"
      ],
      "text/plain": [
       "       자전거번호  대여일자_count_1  대여일자_count_2  대여일자_count_3  대여일자_count_4  \\\n",
       "0  SPB-30001         126.0         111.0         195.0         104.0   \n",
       "1  SPB-30006          11.0          80.0         150.0         139.0   \n",
       "2  SPB-30008          42.0          42.0          19.0          83.0   \n",
       "3  SPB-30009           NaN          70.0         111.0         172.0   \n",
       "4  SPB-30010          65.0         115.0         151.0         167.0   \n",
       "\n",
       "   대여일자_count_5  대여일자_count_6  대여일자_count_7  대여일자_count_8  대여일자_count_9  \\\n",
       "0         121.0         162.0         141.0         119.0         175.0   \n",
       "1         199.0         193.0         202.0         143.0         125.0   \n",
       "2         181.0         120.0         143.0         179.0         116.0   \n",
       "3          20.0          12.0          49.0         117.0          78.0   \n",
       "4         163.0         234.0         151.0         102.0         135.0   \n",
       "\n",
       "   대여일자_count_10  대여일자_count_11  대여일자_count_12  이용거리(M)_mean_1  \\\n",
       "0          123.0          117.0           46.0     1597.532540   \n",
       "1          159.0           31.0          110.0     1468.723636   \n",
       "2          105.0           93.0           40.0     1222.382143   \n",
       "3           94.0            NaN            NaN             NaN   \n",
       "4          150.0           51.0           37.0     1336.259538   \n",
       "\n",
       "   이용거리(M)_mean_2  이용거리(M)_mean_3  이용거리(M)_mean_4  이용거리(M)_mean_5  \\\n",
       "0     2360.263423     2401.844256     3938.884712     2607.534463   \n",
       "1     1717.237500     1920.765200     1798.489065     2225.908141   \n",
       "2     1878.965714     2277.800000     1902.278434     2182.769006   \n",
       "3     2058.221429     1763.318829     2071.568488     3322.989000   \n",
       "4     1630.415913     1733.082848     1947.733293     1720.982454   \n",
       "\n",
       "   이용거리(M)_mean_6  이용거리(M)_mean_7  이용거리(M)_mean_8  이용거리(M)_mean_9  \\\n",
       "0     2265.619877     2449.579078     1754.730588     2441.748571   \n",
       "1     2427.211295     2482.220149     1585.403357     2791.540560   \n",
       "2     2227.949083     2630.634406     3092.678212     2912.774914   \n",
       "3     2160.264167     1741.867347     1863.074444     2127.794615   \n",
       "4     2153.064017     1968.328874     1885.984510     2117.909704   \n",
       "\n",
       "   이용거리(M)_mean_10  이용거리(M)_mean_11  이용거리(M)_mean_12  이용거리(M)_sum_1  \\\n",
       "0      2058.824472      1395.287778      1805.492174      201289.10   \n",
       "1      2172.033459      2026.211290      1124.839455       16155.96   \n",
       "2      2275.691524      2009.036559      2134.287750       51340.05   \n",
       "3      1845.711702              NaN              NaN            NaN   \n",
       "4      1928.055867      1192.914902      1635.178919       86856.87   \n",
       "\n",
       "   이용거리(M)_sum_2  이용거리(M)_sum_3  이용거리(M)_sum_4  이용거리(M)_sum_5  이용거리(M)_sum_6  \\\n",
       "0      261989.24      468359.63      409644.01      315511.67      367030.42   \n",
       "1      137379.00      288114.78      249989.98      442955.72      468451.78   \n",
       "2       78916.56       43278.20      157889.11      395081.19      267353.89   \n",
       "3      144075.50      195728.39      356309.78       66459.78       25923.17   \n",
       "4      187497.83      261695.51      325271.46      280520.14      503816.98   \n",
       "\n",
       "   이용거리(M)_sum_7  이용거리(M)_sum_8  이용거리(M)_sum_9  이용거리(M)_sum_10  \\\n",
       "0      345390.65      208812.94      427306.00       253235.41   \n",
       "1      501408.47      226712.68      348942.57       345353.32   \n",
       "2      376180.72      553589.40      337881.89       238947.61   \n",
       "3       85351.50      217979.71      165967.98       173496.90   \n",
       "4      297217.66      192370.42      285917.81       289208.38   \n",
       "\n",
       "   이용거리(M)_sum_11  이용거리(M)_sum_12  이용시간(분)_mean_1  이용시간(분)_mean_2  \\\n",
       "0       163248.67        83052.64       14.079365       20.306306   \n",
       "1        62812.55       123732.34       10.636364       17.650000   \n",
       "2       186840.40        85371.51       11.976190       15.785714   \n",
       "3             NaN             NaN             NaN       15.542857   \n",
       "4        60838.66        60501.62       14.907692       15.069565   \n",
       "\n",
       "   이용시간(분)_mean_3  이용시간(분)_mean_4  이용시간(분)_mean_5  이용시간(분)_mean_6  \\\n",
       "0       19.205128       34.375000       20.727273       18.709877   \n",
       "1       18.473333       20.064748       18.788945       22.217617   \n",
       "2       19.315789       14.228916       16.508287       16.083333   \n",
       "3       18.639640       18.023256       32.100000       60.416667   \n",
       "4       16.993377       18.802395       20.294479       18.598291   \n",
       "\n",
       "   이용시간(분)_mean_7  이용시간(분)_mean_8  이용시간(분)_mean_9  이용시간(분)_mean_10  \\\n",
       "0       21.680851       15.126050       21.040000        19.593496   \n",
       "1       21.465347       17.524476       25.064000        19.396226   \n",
       "2       20.923077       22.312849       22.620690        21.133333   \n",
       "3       13.836735       25.111111       22.397436        23.712766   \n",
       "4       16.827815       14.715686       15.896296        16.053333   \n",
       "\n",
       "   이용시간(분)_mean_11  이용시간(분)_mean_12  이용시간(분)_sum_1  이용시간(분)_sum_2  \\\n",
       "0        18.564103        20.108696         1774.0         2254.0   \n",
       "1        19.451613        11.436364          117.0         1412.0   \n",
       "2        19.978495        20.675000          503.0          663.0   \n",
       "3              NaN              NaN            NaN         1088.0   \n",
       "4        12.588235        15.675676          969.0         1733.0   \n",
       "\n",
       "   이용시간(분)_sum_3  이용시간(분)_sum_4  이용시간(분)_sum_5  이용시간(분)_sum_6  이용시간(분)_sum_7  \\\n",
       "0         3745.0         3575.0         2508.0         3031.0         3057.0   \n",
       "1         2771.0         2789.0         3739.0         4288.0         4336.0   \n",
       "2          367.0         1181.0         2988.0         1930.0         2992.0   \n",
       "3         2069.0         3100.0          642.0          725.0          678.0   \n",
       "4         2566.0         3140.0         3308.0         4352.0         2541.0   \n",
       "\n",
       "   이용시간(분)_sum_8  이용시간(분)_sum_9  이용시간(분)_sum_10  이용시간(분)_sum_11  \\\n",
       "0         1800.0         3682.0          2410.0          2172.0   \n",
       "1         2506.0         3133.0          3084.0           603.0   \n",
       "2         3994.0         2624.0          2219.0          1858.0   \n",
       "3         2938.0         1747.0          2229.0             NaN   \n",
       "4         1501.0         2146.0          2408.0           642.0   \n",
       "\n",
       "   이용시간(분)_sum_12  대여일자_count(mean)  이용거리(M)_mean(mean)  이용거리(M)_sum(mean)  \n",
       "0           925.0        128.333333         2256.445161      292072.531667  \n",
       "1          1258.0        128.500000         1978.381926      267667.429167  \n",
       "2           827.0         96.916667         2228.937312      231055.877500  \n",
       "3             NaN         80.333333         2106.090002      159032.523333  \n",
       "4           580.0        126.750000         1770.825903      235976.111667  "
      ]
     },
     "execution_count": 44,
     "metadata": {},
     "output_type": "execute_result"
    }
   ],
   "source": [
    "df_2023_rental.head(5)"
   ]
  },
  {
   "cell_type": "code",
   "execution_count": 46,
   "id": "586f23f4-310b-41b3-8da4-00724b84fac7",
   "metadata": {},
   "outputs": [
    {
     "data": {
      "text/plain": [
       "Index(['자전거번호', '대여일자_count_1', '대여일자_count_2', '대여일자_count_3', '대여일자_count_4',\n",
       "       '대여일자_count_5', '대여일자_count_6', '대여일자_count_7', '대여일자_count_8',\n",
       "       '대여일자_count_9', '대여일자_count_10', '대여일자_count_11', '대여일자_count_12',\n",
       "       '이용거리(M)_mean_1', '이용거리(M)_mean_2', '이용거리(M)_mean_3', '이용거리(M)_mean_4',\n",
       "       '이용거리(M)_mean_5', '이용거리(M)_mean_6', '이용거리(M)_mean_7', '이용거리(M)_mean_8',\n",
       "       '이용거리(M)_mean_9', '이용거리(M)_mean_10', '이용거리(M)_mean_11',\n",
       "       '이용거리(M)_mean_12', '이용거리(M)_sum_1', '이용거리(M)_sum_2', '이용거리(M)_sum_3',\n",
       "       '이용거리(M)_sum_4', '이용거리(M)_sum_5', '이용거리(M)_sum_6', '이용거리(M)_sum_7',\n",
       "       '이용거리(M)_sum_8', '이용거리(M)_sum_9', '이용거리(M)_sum_10', '이용거리(M)_sum_11',\n",
       "       '이용거리(M)_sum_12', '이용시간(분)_mean_1', '이용시간(분)_mean_2', '이용시간(분)_mean_3',\n",
       "       '이용시간(분)_mean_4', '이용시간(분)_mean_5', '이용시간(분)_mean_6', '이용시간(분)_mean_7',\n",
       "       '이용시간(분)_mean_8', '이용시간(분)_mean_9', '이용시간(분)_mean_10',\n",
       "       '이용시간(분)_mean_11', '이용시간(분)_mean_12', '이용시간(분)_sum_1', '이용시간(분)_sum_2',\n",
       "       '이용시간(분)_sum_3', '이용시간(분)_sum_4', '이용시간(분)_sum_5', '이용시간(분)_sum_6',\n",
       "       '이용시간(분)_sum_7', '이용시간(분)_sum_8', '이용시간(분)_sum_9', '이용시간(분)_sum_10',\n",
       "       '이용시간(분)_sum_11', '이용시간(분)_sum_12', '대여일자_count(mean)',\n",
       "       '이용거리(M)_mean(mean)', '이용거리(M)_sum(mean)'],\n",
       "      dtype='object')"
      ]
     },
     "execution_count": 46,
     "metadata": {},
     "output_type": "execute_result"
    }
   ],
   "source": [
    "df_2023_rental.columns"
   ]
  },
  {
   "cell_type": "code",
   "execution_count": 48,
   "id": "b076e63e-25d5-4891-82c9-3d2cab050afa",
   "metadata": {},
   "outputs": [],
   "source": [
    "df_2023_rental = df_2023_rental[['자전거번호', '대여일자_count(mean)', '이용거리(M)_mean(mean)', '이용거리(M)_sum(mean)']].head()"
   ]
  },
  {
   "cell_type": "code",
   "execution_count": 50,
   "id": "719b76c8-ce2e-42d2-972a-fb2986f75526",
   "metadata": {},
   "outputs": [],
   "source": [
    "df_outlier_rental = pd.merge(df_outlier_rental, df_2023_rental, on='자전거번호', how='inner')"
   ]
  },
  {
   "cell_type": "code",
   "execution_count": 54,
   "id": "0329b6c5-a1cf-4b58-a0ca-6f08d30ba3ca",
   "metadata": {},
   "outputs": [
    {
     "data": {
      "text/html": [
       "<div>\n",
       "<style scoped>\n",
       "    .dataframe tbody tr th:only-of-type {\n",
       "        vertical-align: middle;\n",
       "    }\n",
       "\n",
       "    .dataframe tbody tr th {\n",
       "        vertical-align: top;\n",
       "    }\n",
       "\n",
       "    .dataframe thead th {\n",
       "        text-align: right;\n",
       "    }\n",
       "</style>\n",
       "<table border=\"1\" class=\"dataframe\">\n",
       "  <thead>\n",
       "    <tr style=\"text-align: right;\">\n",
       "      <th></th>\n",
       "      <th>자전거번호</th>\n",
       "      <th>이전일자_1mon</th>\n",
       "      <th>등록대여일자</th>\n",
       "      <th>고장구분</th>\n",
       "      <th>고장여부</th>\n",
       "      <th>이상패턴_5min_횟수</th>\n",
       "      <th>이전일자_1mon_이용거리</th>\n",
       "      <th>이전일자_1mon_이용시간</th>\n",
       "      <th>이전일자_1mon_이용횟수</th>\n",
       "      <th>대여일자_count(mean)</th>\n",
       "      <th>이용거리(M)_mean(mean)</th>\n",
       "      <th>이용거리(M)_sum(mean)</th>\n",
       "    </tr>\n",
       "  </thead>\n",
       "  <tbody>\n",
       "    <tr>\n",
       "      <th>0</th>\n",
       "      <td>SPB-30006</td>\n",
       "      <td>2024-02-29</td>\n",
       "      <td>2024-03-31</td>\n",
       "      <td>페달</td>\n",
       "      <td>1</td>\n",
       "      <td>2</td>\n",
       "      <td>98170.92</td>\n",
       "      <td>843.0</td>\n",
       "      <td>74.0</td>\n",
       "      <td>128.500000</td>\n",
       "      <td>1978.381926</td>\n",
       "      <td>267667.429167</td>\n",
       "    </tr>\n",
       "    <tr>\n",
       "      <th>1</th>\n",
       "      <td>SPB-30010</td>\n",
       "      <td>2024-05-18</td>\n",
       "      <td>2024-06-18</td>\n",
       "      <td>타이어</td>\n",
       "      <td>1</td>\n",
       "      <td>5</td>\n",
       "      <td>231653.56</td>\n",
       "      <td>2257.0</td>\n",
       "      <td>121.0</td>\n",
       "      <td>126.750000</td>\n",
       "      <td>1770.825903</td>\n",
       "      <td>235976.111667</td>\n",
       "    </tr>\n",
       "    <tr>\n",
       "      <th>2</th>\n",
       "      <td>SPB-30001</td>\n",
       "      <td>2024-05-28</td>\n",
       "      <td>2024-06-28</td>\n",
       "      <td></td>\n",
       "      <td>0</td>\n",
       "      <td>5</td>\n",
       "      <td>240874.96</td>\n",
       "      <td>2496.0</td>\n",
       "      <td>161.0</td>\n",
       "      <td>128.333333</td>\n",
       "      <td>2256.445161</td>\n",
       "      <td>292072.531667</td>\n",
       "    </tr>\n",
       "    <tr>\n",
       "      <th>3</th>\n",
       "      <td>SPB-30008</td>\n",
       "      <td>2024-04-20</td>\n",
       "      <td>2024-05-20</td>\n",
       "      <td></td>\n",
       "      <td>0</td>\n",
       "      <td>0</td>\n",
       "      <td>228641.47</td>\n",
       "      <td>1732.0</td>\n",
       "      <td>87.0</td>\n",
       "      <td>96.916667</td>\n",
       "      <td>2228.937312</td>\n",
       "      <td>231055.877500</td>\n",
       "    </tr>\n",
       "  </tbody>\n",
       "</table>\n",
       "</div>"
      ],
      "text/plain": [
       "       자전거번호  이전일자_1mon     등록대여일자  고장구분  고장여부  이상패턴_5min_횟수  이전일자_1mon_이용거리  \\\n",
       "0  SPB-30006 2024-02-29 2024-03-31    페달     1             2        98170.92   \n",
       "1  SPB-30010 2024-05-18 2024-06-18  타이어      1             5       231653.56   \n",
       "2  SPB-30001 2024-05-28 2024-06-28           0             5       240874.96   \n",
       "3  SPB-30008 2024-04-20 2024-05-20           0             0       228641.47   \n",
       "\n",
       "   이전일자_1mon_이용시간  이전일자_1mon_이용횟수  대여일자_count(mean)  이용거리(M)_mean(mean)  \\\n",
       "0           843.0            74.0        128.500000         1978.381926   \n",
       "1          2257.0           121.0        126.750000         1770.825903   \n",
       "2          2496.0           161.0        128.333333         2256.445161   \n",
       "3          1732.0            87.0         96.916667         2228.937312   \n",
       "\n",
       "   이용거리(M)_sum(mean)  \n",
       "0      267667.429167  \n",
       "1      235976.111667  \n",
       "2      292072.531667  \n",
       "3      231055.877500  "
      ]
     },
     "execution_count": 54,
     "metadata": {},
     "output_type": "execute_result"
    }
   ],
   "source": [
    "df_outlier_rental.head()"
   ]
  },
  {
   "cell_type": "code",
   "execution_count": 56,
   "id": "3b6e3ff0-b2e9-4c30-be5c-eaedef045b6e",
   "metadata": {},
   "outputs": [
    {
     "data": {
      "text/plain": [
       "자전거번호                 0\n",
       "이전일자_1mon             0\n",
       "등록대여일자                0\n",
       "고장구분                  0\n",
       "고장여부                  0\n",
       "이상패턴_5min_횟수          0\n",
       "이전일자_1mon_이용거리        0\n",
       "이전일자_1mon_이용시간        0\n",
       "이전일자_1mon_이용횟수        0\n",
       "대여일자_count(mean)      0\n",
       "이용거리(M)_mean(mean)    0\n",
       "이용거리(M)_sum(mean)     0\n",
       "dtype: int64"
      ]
     },
     "execution_count": 56,
     "metadata": {},
     "output_type": "execute_result"
    }
   ],
   "source": [
    "df_outlier_rental.isnull().sum()"
   ]
  },
  {
   "cell_type": "code",
   "execution_count": 58,
   "id": "5255dbcc-bc25-406e-9fc5-9615ef5f02c8",
   "metadata": {},
   "outputs": [
    {
     "ename": "NameError",
     "evalue": "name 'ss_compare' is not defined",
     "output_type": "error",
     "traceback": [
      "\u001b[1;31m---------------------------------------------------------------------------\u001b[0m",
      "\u001b[1;31mNameError\u001b[0m                                 Traceback (most recent call last)",
      "Cell \u001b[1;32mIn[58], line 1\u001b[0m\n\u001b[1;32m----> 1\u001b[0m df_outlier_rental[\u001b[38;5;124m'\u001b[39m\u001b[38;5;124m이용횟수_비교\u001b[39m\u001b[38;5;124m'\u001b[39m] \u001b[38;5;241m=\u001b[39m \u001b[43mss_compare\u001b[49m(df_outlier_rental[\u001b[38;5;124m'\u001b[39m\u001b[38;5;124m대여일자_count(mean)\u001b[39m\u001b[38;5;124m'\u001b[39m], df_outlier_rental[\u001b[38;5;124m'\u001b[39m\u001b[38;5;124m이전일자_1mon_이용횟수\u001b[39m\u001b[38;5;124m'\u001b[39m])\n\u001b[0;32m      2\u001b[0m df_outlier_rental[\u001b[38;5;124m'\u001b[39m\u001b[38;5;124m이용거리_비교\u001b[39m\u001b[38;5;124m'\u001b[39m] \u001b[38;5;241m=\u001b[39m ss_compare(df_outlier_rental[\u001b[38;5;124m'\u001b[39m\u001b[38;5;124m이용거리(M)_sum(mean)\u001b[39m\u001b[38;5;124m'\u001b[39m], df_outlier_rental[\u001b[38;5;124m'\u001b[39m\u001b[38;5;124m이전일자_1mon_이용거리\u001b[39m\u001b[38;5;124m'\u001b[39m])\n",
      "\u001b[1;31mNameError\u001b[0m: name 'ss_compare' is not defined"
     ]
    }
   ],
   "source": [
    "df_outlier_rental['이용횟수_비교'] = ss_compare(df_outlier_rental['대여일자_count(mean)'], df_outlier_rental['이전일자_1mon_이용횟수'])\n",
    "df_outlier_rental['이용거리_비교'] = ss_compare(df_outlier_rental['이용거리(M)_sum(mean)'], df_outlier_rental['이전일자_1mon_이용거리'])"
   ]
  },
  {
   "cell_type": "code",
   "execution_count": 1047,
   "id": "98429d8c-4e6c-4d7d-9c4d-f864c82cfa8c",
   "metadata": {},
   "outputs": [
    {
     "data": {
      "text/plain": [
       "0        1377.0\n",
       "1        1401.0\n",
       "2        1030.0\n",
       "3           NaN\n",
       "4        1433.0\n",
       "          ...  \n",
       "43828     264.0\n",
       "43829     254.0\n",
       "43830     212.0\n",
       "43831       NaN\n",
       "43832     291.0\n",
       "Length: 43833, dtype: float64"
      ]
     },
     "execution_count": 1047,
     "metadata": {},
     "output_type": "execute_result"
    }
   ],
   "source": [
    "#df_2023_rental['대여일자_count'] = \n",
    "df_2023_rental['대여일자_count_1'] + df_2023_rental['대여일자_count_2'] + df_2023_rental['대여일자_count_3'] \\\n",
    " + df_2023_rental['대여일자_count_4'] + df_2023_rental['대여일자_count_5'] + df_2023_rental['대여일자_count_6'] \\\n",
    " + df_2023_rental['대여일자_count_7'] + df_2023_rental['대여일자_count_8'] + df_2023_rental['대여일자_count_9'] \\\n",
    " + df_2023_rental['대여일자_count_10']"
   ]
  },
  {
   "cell_type": "markdown",
   "id": "26a61f3b-7843-4af9-bf10-bf73cf0824f9",
   "metadata": {},
   "source": [
    "---\n",
    "## 고장횟수 별 - 고장비율\n",
    " - 고장 : 24년의 마지막고장신고\n",
    " - 정상 : 24년의 마지막 대여일"
   ]
  },
  {
   "cell_type": "code",
   "execution_count": 1049,
   "id": "3564944e-9776-49d4-be38-b389710caf09",
   "metadata": {},
   "outputs": [],
   "source": [
    "import matplotlib.pyplot as plt\n",
    "import seaborn as sns"
   ]
  },
  {
   "cell_type": "markdown",
   "id": "9ae94474-4e23-419a-9a2a-d3311faf8aa1",
   "metadata": {},
   "source": [
    "### [전체] 고장여부 비율"
   ]
  },
  {
   "cell_type": "code",
   "execution_count": 1052,
   "id": "aede0e8c-5ce4-4679-b76d-47a44fc1cbcf",
   "metadata": {},
   "outputs": [
    {
     "name": "stdout",
     "output_type": "stream",
     "text": [
      "total : 41896\n",
      "counts : 고장여부\n",
      "1    28589\n",
      "0    13307\n",
      "Name: count, dtype: int64\n",
      "percentage : 고장여부\n",
      "1    68.238018\n",
      "0    31.761982\n",
      "Name: count, dtype: float64\n"
     ]
    }
   ],
   "source": [
    "counts = df_Bike_latest_2['고장여부'].value_counts()\n",
    "total = counts.sum()   # 총 데이터 개수\n",
    "percentage = counts / total * 100   # 비율 계산\n",
    "print(f'total : {total}')\n",
    "print(f'counts : {counts}')\n",
    "print(f'percentage : {percentage}')"
   ]
  },
  {
   "cell_type": "markdown",
   "id": "82241222-6fd5-468b-82ca-2f1ecef41ae8",
   "metadata": {},
   "source": [
    "---\n",
    "## 고장여부 에 따른 고장횟수"
   ]
  },
  {
   "cell_type": "code",
   "execution_count": 1055,
   "id": "4921d576-c427-4236-bd27-8c48731109fd",
   "metadata": {},
   "outputs": [
    {
     "data": {
      "image/png": "[encoded data removed]",
      "text/plain": [
       "<Figure size 1000x600 with 1 Axes>"
      ]
     },
     "metadata": {},
     "output_type": "display_data"
    }
   ],
   "source": [
    "# 한글 폰트 설정 (Windows에서는 'Malgun Gothic' 사용)\n",
    "plt.rcParams['font.family'] = 'Malgun Gothic'\n",
    "# 마이너스 기호 깨짐 방지\n",
    "plt.rcParams['axes.unicode_minus'] = False\n",
    "\n",
    "# 데이터 준비\n",
    "gojang_counts = df_Bike_latest_2['고장여부'].value_counts()\n",
    "# 그래프 크기 설정\n",
    "plt.figure(figsize=(10, 6))\n",
    "# 막대 그래프 그리기\n",
    "gojang_counts.plot(kind='bar', color=['skyblue', 'lightcoral'])\n",
    "# 그래프 꾸미기\n",
    "plt.title('고장 여부 분포', fontsize=16)\n",
    "plt.xlabel('고장 여부', fontsize=12)\n",
    "plt.ylabel('빈도수', fontsize=12)\n",
    "plt.xticks(rotation=0)\n",
    "\n",
    "# 각 막대 위에 값 표시\n",
    "for i, v in enumerate(gojang_counts):\n",
    "    plt.text(i, v, str(v), ha='center', va='bottom')\n",
    "\n",
    "plt.tight_layout()\n",
    "plt.show()"
   ]
  },
  {
   "cell_type": "markdown",
   "id": "c6d3fa8b-9665-4066-99db-52593b3aef2d",
   "metadata": {},
   "source": [
    "### 결측치 확인"
   ]
  },
  {
   "cell_type": "code",
   "execution_count": 1058,
   "id": "093cbada-5261-4108-b603-3c23e5db71b6",
   "metadata": {},
   "outputs": [
    {
     "data": {
      "text/plain": [
       "자전거번호              0\n",
       "이전일자_1mon          0\n",
       "등록대여일자             0\n",
       "고장구분               0\n",
       "고장여부               0\n",
       "이상패턴_5min_횟수       0\n",
       "이전일자_1mon_이용거리    60\n",
       "이전일자_1mon_이용시간    60\n",
       "이전일자_1mon_이용횟수    60\n",
       "dtype: int64"
      ]
     },
     "execution_count": 1058,
     "metadata": {},
     "output_type": "execute_result"
    }
   ],
   "source": [
    "df_Bike_latest_2.isnull().sum()"
   ]
  },
  {
   "cell_type": "code",
   "execution_count": 1060,
   "id": "02e1db7d-d5b4-418a-8df8-7e22d37c53f7",
   "metadata": {},
   "outputs": [
    {
     "data": {
      "image/png": "[encoded data removed]",
      "text/plain": [
       "<Figure size 2500x1000 with 2 Axes>"
      ]
     },
     "metadata": {},
     "output_type": "display_data"
    }
   ],
   "source": [
    "import missingno as msno\n",
    "# 결측치 매트릭스 시각화\n",
    "msno.matrix(df_Bike_latest_2)\n",
    "plt.show()"
   ]
  },
  {
   "cell_type": "markdown",
   "id": "0a87192a-89a7-4b46-b92e-e8e6298a2363",
   "metadata": {},
   "source": [
    "---\n",
    "### 중복제거"
   ]
  },
  {
   "cell_type": "code",
   "execution_count": 1063,
   "id": "815ff29d-de74-4c8c-8a27-3f0716916cb3",
   "metadata": {},
   "outputs": [],
   "source": [
    "df_Bike_latest_3 = df_Bike_latest_2.dropna()"
   ]
  },
  {
   "cell_type": "markdown",
   "id": "1af55195-9a83-4299-8457-ae30f5d59d20",
   "metadata": {},
   "source": [
    "---\n",
    "### subplot multi 함수선언"
   ]
  },
  {
   "cell_type": "code",
   "execution_count": 1066,
   "id": "2d9d296b-c5c8-41e9-9b9b-25c42154077a",
   "metadata": {},
   "outputs": [],
   "source": [
    "# 서브플롯 생성 함수\n",
    "def create_multi_subplot(_df, _columns):\n",
    "    plt.figure(figsize=(12, 6))\n",
    "    \n",
    "    # 전체 데이터에서 x축 범위 계산\n",
    "    x_min = min(_df[_columns[0]].min(),\n",
    "                _df[_columns[1]].min(),\n",
    "                _df[_columns[2]].min())\n",
    "    x_max = max(_df[_columns[0]].max(),\n",
    "                _df[_columns[1]].max(),\n",
    "                _df[_columns[2]].max())\n",
    "\n",
    "    # 최대 빈도수 계산\n",
    "    max_count = 0\n",
    "    for j in [0, 1]:\n",
    "        for _column in _columns:\n",
    "            data = _df[_df['고장여부'] == j][_column]\n",
    "            counts, _ = np.histogram(data, bins=10)\n",
    "            max_count = max(max_count, counts.max())\n",
    "\n",
    "    \n",
    "    position = 1\n",
    "    for j in list(range(0, 2)):\n",
    "        for i, _column in enumerate(_columns):\n",
    "            data = _df[_df['고장여부'] == j][_column]\n",
    "            title = f'(고장={str(j)}) {_column} 분포'\n",
    "            xlabel = _column\n",
    "            _color = 'lightgreen' if j== 1 else 'skyblue'\n",
    "            \n",
    "            plt.subplot(2, 3, position)\n",
    "            sns.histplot(data, bins=10, kde=True, color=_color)\n",
    "            plt.title(title)\n",
    "            plt.xlabel(xlabel)\n",
    "            plt.ylabel('빈도수')\n",
    "            plt.xlim(x_min, x_max)\n",
    "            plt.ylim(0, max_count * 1.1)  # y축 범위 통일\n",
    "            \n",
    "            # x축의 지수 표현 제거\n",
    "            #plt.ticklabel_format(axis=\"x\", style=\"plain\")\n",
    "    \n",
    "            position = position + 1\n",
    "    \n",
    "    plt.tight_layout()\n",
    "    plt.show()\n"
   ]
  },
  {
   "cell_type": "code",
   "execution_count": 1068,
   "id": "117432b2-ee2c-434c-9c55-66c0dbaffb14",
   "metadata": {},
   "outputs": [],
   "source": [
    "# 서브플롯 생성 함수\n",
    "def create_bi_subplot(_df, _columns):\n",
    "    plt.figure(figsize=(15, 6))\n",
    "    \n",
    "    # 전체 데이터에서 x축 범위 계산\n",
    "    # x_min = min(_df[_columns[0]].min(),\n",
    "    #             _df[_columns[1]].min(),\n",
    "    #             _df[_columns[2]].min())\n",
    "    # x_max = max(_df[_columns[0]].max(),\n",
    "    #             _df[_columns[1]].max(),\n",
    "    #             _df[_columns[2]].max())\n",
    "    x_min = _df[_columns[0]].min()\n",
    "    x_max = _df[_columns[0]].max()\n",
    "\n",
    "    # 최대 빈도수 계산\n",
    "    # max_count = 0\n",
    "    # for j in [0, 1]:\n",
    "    #     for _column in _columns:\n",
    "    #         data = _df[_df['고장여부'] == j][_column]\n",
    "    #         counts, _ = np.histogram(data, bins=10)\n",
    "    #         max_count = max(max_count, counts.max())\n",
    "\n",
    "    \n",
    "    position = 1\n",
    "    for j in list(range(0, 2)):\n",
    "        for i, _column in enumerate(_columns):\n",
    "            data = _df[_df['고장여부'] == j][_column]\n",
    "            title = f'(고장={str(j)}) {_column} 분포'\n",
    "            xlabel = _column\n",
    "            _color = 'lightgreen' if j== 1 else 'skyblue'\n",
    "            \n",
    "            plt.subplot(1, 2, position)\n",
    "            sns.histplot(data, bins=10, kde=True, color=_color)\n",
    "            plt.title(title)\n",
    "            plt.xlabel(xlabel)\n",
    "            plt.ylabel('빈도수')\n",
    "            #plt.xlim(x_min, x_max)\n",
    "            #plt.ylim(0, max_count * 1.1)  # y축 범위 통일\n",
    "            \n",
    "            # x축의 지수 표현 제거\n",
    "            #plt.ticklabel_format(axis=\"x\", style=\"plain\")\n",
    "    \n",
    "            position = position + 1\n",
    "    \n",
    "    plt.tight_layout()\n",
    "    plt.show()"
   ]
  },
  {
   "cell_type": "code",
   "execution_count": 1070,
   "id": "045a1b91-7458-44fb-91a8-e48b66162b56",
   "metadata": {},
   "outputs": [
    {
     "data": {
      "text/html": [
       "<div>\n",
       "<style scoped>\n",
       "    .dataframe tbody tr th:only-of-type {\n",
       "        vertical-align: middle;\n",
       "    }\n",
       "\n",
       "    .dataframe tbody tr th {\n",
       "        vertical-align: top;\n",
       "    }\n",
       "\n",
       "    .dataframe thead th {\n",
       "        text-align: right;\n",
       "    }\n",
       "</style>\n",
       "<table border=\"1\" class=\"dataframe\">\n",
       "  <thead>\n",
       "    <tr style=\"text-align: right;\">\n",
       "      <th></th>\n",
       "      <th>자전거번호</th>\n",
       "      <th>이전일자_1mon</th>\n",
       "      <th>등록대여일자</th>\n",
       "      <th>고장구분</th>\n",
       "      <th>고장여부</th>\n",
       "      <th>이상패턴_5min_횟수</th>\n",
       "      <th>이전일자_1mon_이용거리</th>\n",
       "      <th>이전일자_1mon_이용시간</th>\n",
       "      <th>이전일자_1mon_이용횟수</th>\n",
       "    </tr>\n",
       "  </thead>\n",
       "  <tbody>\n",
       "    <tr>\n",
       "      <th>28589</th>\n",
       "      <td>SPB-30001</td>\n",
       "      <td>2024-05-28</td>\n",
       "      <td>2024-06-28</td>\n",
       "      <td></td>\n",
       "      <td>0</td>\n",
       "      <td>5</td>\n",
       "      <td>240874.96</td>\n",
       "      <td>2496.0</td>\n",
       "      <td>161.0</td>\n",
       "    </tr>\n",
       "    <tr>\n",
       "      <th>28590</th>\n",
       "      <td>SPB-30008</td>\n",
       "      <td>2024-04-20</td>\n",
       "      <td>2024-05-20</td>\n",
       "      <td></td>\n",
       "      <td>0</td>\n",
       "      <td>0</td>\n",
       "      <td>228641.47</td>\n",
       "      <td>1732.0</td>\n",
       "      <td>87.0</td>\n",
       "    </tr>\n",
       "  </tbody>\n",
       "</table>\n",
       "</div>"
      ],
      "text/plain": [
       "           자전거번호  이전일자_1mon     등록대여일자 고장구분  고장여부  이상패턴_5min_횟수  \\\n",
       "28589  SPB-30001 2024-05-28 2024-06-28          0             5   \n",
       "28590  SPB-30008 2024-04-20 2024-05-20          0             0   \n",
       "\n",
       "       이전일자_1mon_이용거리  이전일자_1mon_이용시간  이전일자_1mon_이용횟수  \n",
       "28589       240874.96          2496.0           161.0  \n",
       "28590       228641.47          1732.0            87.0  "
      ]
     },
     "execution_count": 1070,
     "metadata": {},
     "output_type": "execute_result"
    }
   ],
   "source": [
    "df_Bike_latest_3[df_Bike_latest_3['고장여부'] == 0].head(2)"
   ]
  },
  {
   "cell_type": "code",
   "execution_count": 1072,
   "id": "97912aa8-dc61-4180-905d-888d348dc089",
   "metadata": {},
   "outputs": [
    {
     "data": {
      "text/html": [
       "<div>\n",
       "<style scoped>\n",
       "    .dataframe tbody tr th:only-of-type {\n",
       "        vertical-align: middle;\n",
       "    }\n",
       "\n",
       "    .dataframe tbody tr th {\n",
       "        vertical-align: top;\n",
       "    }\n",
       "\n",
       "    .dataframe thead th {\n",
       "        text-align: right;\n",
       "    }\n",
       "</style>\n",
       "<table border=\"1\" class=\"dataframe\">\n",
       "  <thead>\n",
       "    <tr style=\"text-align: right;\">\n",
       "      <th></th>\n",
       "      <th>자전거번호</th>\n",
       "      <th>이전일자_1mon</th>\n",
       "      <th>등록대여일자</th>\n",
       "      <th>고장구분</th>\n",
       "      <th>고장여부</th>\n",
       "      <th>이상패턴_5min_횟수</th>\n",
       "      <th>이전일자_1mon_이용거리</th>\n",
       "      <th>이전일자_1mon_이용시간</th>\n",
       "      <th>이전일자_1mon_이용횟수</th>\n",
       "    </tr>\n",
       "  </thead>\n",
       "  <tbody>\n",
       "    <tr>\n",
       "      <th>0</th>\n",
       "      <td>SPB-30006</td>\n",
       "      <td>2024-02-29</td>\n",
       "      <td>2024-03-31</td>\n",
       "      <td>페달</td>\n",
       "      <td>1</td>\n",
       "      <td>2</td>\n",
       "      <td>98170.92</td>\n",
       "      <td>843.0</td>\n",
       "      <td>74.0</td>\n",
       "    </tr>\n",
       "    <tr>\n",
       "      <th>1</th>\n",
       "      <td>SPB-30010</td>\n",
       "      <td>2024-05-18</td>\n",
       "      <td>2024-06-18</td>\n",
       "      <td>타이어</td>\n",
       "      <td>1</td>\n",
       "      <td>5</td>\n",
       "      <td>231653.56</td>\n",
       "      <td>2257.0</td>\n",
       "      <td>121.0</td>\n",
       "    </tr>\n",
       "  </tbody>\n",
       "</table>\n",
       "</div>"
      ],
      "text/plain": [
       "       자전거번호  이전일자_1mon     등록대여일자  고장구분  고장여부  이상패턴_5min_횟수  이전일자_1mon_이용거리  \\\n",
       "0  SPB-30006 2024-02-29 2024-03-31    페달     1             2        98170.92   \n",
       "1  SPB-30010 2024-05-18 2024-06-18  타이어      1             5       231653.56   \n",
       "\n",
       "   이전일자_1mon_이용시간  이전일자_1mon_이용횟수  \n",
       "0           843.0            74.0  \n",
       "1          2257.0           121.0  "
      ]
     },
     "execution_count": 1072,
     "metadata": {},
     "output_type": "execute_result"
    }
   ],
   "source": [
    "df_Bike_latest_3[df_Bike_latest_3['고장여부'] == 1].head(2)"
   ]
  },
  {
   "cell_type": "code",
   "execution_count": 1074,
   "id": "18256ec9-6ab7-4a8a-bc1b-f7f5159a8765",
   "metadata": {},
   "outputs": [
    {
     "data": {
      "text/html": [
       "<div>\n",
       "<style scoped>\n",
       "    .dataframe tbody tr th:only-of-type {\n",
       "        vertical-align: middle;\n",
       "    }\n",
       "\n",
       "    .dataframe tbody tr th {\n",
       "        vertical-align: top;\n",
       "    }\n",
       "\n",
       "    .dataframe thead th {\n",
       "        text-align: right;\n",
       "    }\n",
       "</style>\n",
       "<table border=\"1\" class=\"dataframe\">\n",
       "  <thead>\n",
       "    <tr style=\"text-align: right;\">\n",
       "      <th></th>\n",
       "      <th>자전거번호</th>\n",
       "      <th>이전일자_1mon</th>\n",
       "      <th>등록대여일자</th>\n",
       "      <th>고장구분</th>\n",
       "      <th>고장여부</th>\n",
       "      <th>이상패턴_5min_횟수</th>\n",
       "      <th>이전일자_1mon_이용거리</th>\n",
       "      <th>이전일자_1mon_이용시간</th>\n",
       "      <th>이전일자_1mon_이용횟수</th>\n",
       "    </tr>\n",
       "  </thead>\n",
       "  <tbody>\n",
       "    <tr>\n",
       "      <th>27335</th>\n",
       "      <td>SPB-70157</td>\n",
       "      <td>2024-05-21</td>\n",
       "      <td>2024-06-21</td>\n",
       "      <td>체인</td>\n",
       "      <td>1</td>\n",
       "      <td>16</td>\n",
       "      <td>1201356.35</td>\n",
       "      <td>9811.0</td>\n",
       "      <td>438.0</td>\n",
       "    </tr>\n",
       "    <tr>\n",
       "      <th>27468</th>\n",
       "      <td>SPB-70354</td>\n",
       "      <td>2024-05-21</td>\n",
       "      <td>2024-06-21</td>\n",
       "      <td>체인</td>\n",
       "      <td>1</td>\n",
       "      <td>7</td>\n",
       "      <td>995194.13</td>\n",
       "      <td>8275.0</td>\n",
       "      <td>413.0</td>\n",
       "    </tr>\n",
       "    <tr>\n",
       "      <th>31050</th>\n",
       "      <td>SPB-37999</td>\n",
       "      <td>2024-05-30</td>\n",
       "      <td>2024-06-30</td>\n",
       "      <td></td>\n",
       "      <td>0</td>\n",
       "      <td>8</td>\n",
       "      <td>1172643.34</td>\n",
       "      <td>9934.0</td>\n",
       "      <td>413.0</td>\n",
       "    </tr>\n",
       "    <tr>\n",
       "      <th>26655</th>\n",
       "      <td>SPB-69417</td>\n",
       "      <td>2024-05-19</td>\n",
       "      <td>2024-06-19</td>\n",
       "      <td>기타</td>\n",
       "      <td>1</td>\n",
       "      <td>4</td>\n",
       "      <td>1059363.64</td>\n",
       "      <td>9413.0</td>\n",
       "      <td>412.0</td>\n",
       "    </tr>\n",
       "    <tr>\n",
       "      <th>20236</th>\n",
       "      <td>SPB-60686</td>\n",
       "      <td>2024-05-18</td>\n",
       "      <td>2024-06-18</td>\n",
       "      <td>기타</td>\n",
       "      <td>1</td>\n",
       "      <td>14</td>\n",
       "      <td>1099534.37</td>\n",
       "      <td>9921.0</td>\n",
       "      <td>407.0</td>\n",
       "    </tr>\n",
       "  </tbody>\n",
       "</table>\n",
       "</div>"
      ],
      "text/plain": [
       "           자전거번호  이전일자_1mon     등록대여일자 고장구분  고장여부  이상패턴_5min_횟수  \\\n",
       "27335  SPB-70157 2024-05-21 2024-06-21   체인     1            16   \n",
       "27468  SPB-70354 2024-05-21 2024-06-21   체인     1             7   \n",
       "31050  SPB-37999 2024-05-30 2024-06-30          0             8   \n",
       "26655  SPB-69417 2024-05-19 2024-06-19  기타      1             4   \n",
       "20236  SPB-60686 2024-05-18 2024-06-18  기타      1            14   \n",
       "\n",
       "       이전일자_1mon_이용거리  이전일자_1mon_이용시간  이전일자_1mon_이용횟수  \n",
       "27335      1201356.35          9811.0           438.0  \n",
       "27468       995194.13          8275.0           413.0  \n",
       "31050      1172643.34          9934.0           413.0  \n",
       "26655      1059363.64          9413.0           412.0  \n",
       "20236      1099534.37          9921.0           407.0  "
      ]
     },
     "execution_count": 1074,
     "metadata": {},
     "output_type": "execute_result"
    }
   ],
   "source": [
    "df_Bike_latest_3.sort_values(by = '이전일자_1mon_이용횟수', ascending = False).head(5)"
   ]
  },
  {
   "cell_type": "code",
   "execution_count": 1076,
   "id": "6c661cfd-d57c-43b9-95dc-962bce34a7e7",
   "metadata": {},
   "outputs": [],
   "source": [
    "grb_Bike_latest_3['이전일자_1mon_이용거리'] = grb_Bike_latest_3['이전일자_1mon_이용거리'].astype(int)\n",
    "grb_Bike_latest_3['이전일자_1mon_이용시간'] = grb_Bike_latest_3['이전일자_1mon_이용시간'].astype(int)\n",
    "grb_Bike_latest_3['이전일자_1mon_이용횟수'] = grb_Bike_latest_3['이전일자_1mon_이용횟수'].astype(int)"
   ]
  },
  {
   "cell_type": "code",
   "execution_count": 1078,
   "id": "2fd6bb96-cb5b-4a2c-a481-b6dd9137687b",
   "metadata": {},
   "outputs": [],
   "source": [
    "# df_Bike_latest_3.columns\n",
    "_columns = ['이상패턴_5min_횟수',\n",
    "       '이전일자_1mon_이용거리', '이전일자_1mon_이용시간', '이전일자_1mon_이용횟수']\n",
    "grb_Bike_latest_3 = df_Bike_latest_3.groupby(['고장여부'])[_columns].agg('mean')"
   ]
  },
  {
   "cell_type": "code",
   "execution_count": 1080,
   "id": "7a8218d3-3d07-4355-8238-8a3943a3acec",
   "metadata": {},
   "outputs": [
    {
     "data": {
      "text/plain": [
       "Index(['이상패턴_5min_횟수', '이전일자_1mon_이용거리', '이전일자_1mon_이용시간', '이전일자_1mon_이용횟수'], dtype='object')"
      ]
     },
     "execution_count": 1080,
     "metadata": {},
     "output_type": "execute_result"
    }
   ],
   "source": [
    "grb_Bike_latest_3.columns"
   ]
  },
  {
   "cell_type": "code",
   "execution_count": 1082,
   "id": "9cc7c3ce-a391-4b63-bb5f-5b5ed1bd2243",
   "metadata": {},
   "outputs": [
    {
     "data": {
      "text/plain": [
       "이상패턴_5min_횟수      0\n",
       "이전일자_1mon_이용거리    0\n",
       "이전일자_1mon_이용시간    0\n",
       "이전일자_1mon_이용횟수    0\n",
       "dtype: int64"
      ]
     },
     "execution_count": 1082,
     "metadata": {},
     "output_type": "execute_result"
    }
   ],
   "source": [
    "grb_Bike_latest_3.isnull().sum()"
   ]
  },
  {
   "cell_type": "markdown",
   "id": "f46b7a47-cae8-4df2-98ee-011da8417d98",
   "metadata": {},
   "source": [
    "---\n",
    "## 이상패턴_5min_횟수(고장=1, 고장=0) 시각화"
   ]
  },
  {
   "cell_type": "code",
   "execution_count": 1085,
   "id": "95407756-32bd-48e4-a002-ba63dc74dd9e",
   "metadata": {},
   "outputs": [
    {
     "data": {
      "image/png": "[encoded data removed]",
      "text/plain": [
       "<Figure size 1500x600 with 2 Axes>"
      ]
     },
     "metadata": {},
     "output_type": "display_data"
    }
   ],
   "source": [
    "_columns = ['이상패턴_5min_횟수']\n",
    "create_bi_subplot(df_Bike_latest_3, _columns)"
   ]
  },
  {
   "cell_type": "markdown",
   "id": "5d015901-646a-4545-8c4a-c547e5019bc1",
   "metadata": {},
   "source": [
    "---\n",
    "## 이전일자_1mon_이용거리(고장=1, 고장=0) 시각화"
   ]
  },
  {
   "cell_type": "code",
   "execution_count": 1090,
   "id": "f84c23a6-e575-429b-a68b-731f669a68dd",
   "metadata": {},
   "outputs": [
    {
     "data": {
      "image/png": "[encoded data removed]",
      "text/plain": [
       "<Figure size 1500x600 with 2 Axes>"
      ]
     },
     "metadata": {},
     "output_type": "display_data"
    }
   ],
   "source": [
    "_columns = ['이전일자_1mon_이용거리']\n",
    "create_bi_subplot(df_Bike_latest_3, _columns)"
   ]
  },
  {
   "cell_type": "markdown",
   "id": "b0b8f6ba-dc3e-47a9-a2c1-52854a5b5d2e",
   "metadata": {},
   "source": [
    "---\n",
    "## 이전일자_1mon_이용시간(고장=1, 고장=0)  시각화"
   ]
  },
  {
   "cell_type": "code",
   "execution_count": 1093,
   "id": "1a175213-1e15-4959-9487-8ea0e378914a",
   "metadata": {},
   "outputs": [
    {
     "data": {
      "image/png": "[encoded data removed]",
      "text/plain": [
       "<Figure size 1500x600 with 2 Axes>"
      ]
     },
     "metadata": {},
     "output_type": "display_data"
    }
   ],
   "source": [
    "_columns = ['이전일자_1mon_이용시간']\n",
    "create_bi_subplot(df_Bike_latest_3, _columns)"
   ]
  },
  {
   "cell_type": "markdown",
   "id": "307e39a5-dd25-4539-a940-bb6b38d2fc41",
   "metadata": {},
   "source": [
    "---\n",
    "## 이전일자_1mon_이용횟수(고장=1, 고장=0) 시각화"
   ]
  },
  {
   "cell_type": "code",
   "execution_count": 1096,
   "id": "f4b20e46-ab8f-421b-abff-466596c5c991",
   "metadata": {},
   "outputs": [
    {
     "data": {
      "image/png": "[encoded data removed]",
      "text/plain": [
       "<Figure size 1500x600 with 2 Axes>"
      ]
     },
     "metadata": {},
     "output_type": "display_data"
    }
   ],
   "source": [
    "_columns = ['이전일자_1mon_이용횟수']\n",
    "create_bi_subplot(df_Bike_latest_3, _columns)"
   ]
  },
  {
   "cell_type": "code",
   "execution_count": 1098,
   "id": "a49825af-340e-4675-b21b-3fa5cb9bf9c3",
   "metadata": {},
   "outputs": [
    {
     "data": {
      "text/plain": [
       "이상패턴_5min_횟수\n",
       "0    3273\n",
       "1    5357\n",
       "2    6191\n",
       "3    5732\n",
       "4    4706\n",
       "5    3755\n",
       "6    2783\n",
       "7    2011\n",
       "8    1469\n",
       "9    1140\n",
       "Name: count, dtype: int64"
      ]
     },
     "execution_count": 1098,
     "metadata": {},
     "output_type": "execute_result"
    }
   ],
   "source": [
    "df_Bike_latest_2['이상패턴_5min_횟수'].value_counts().sort_index()[:10]"
   ]
  },
  {
   "cell_type": "code",
   "execution_count": 1100,
   "id": "cb2e64f0-b3d5-4618-b2f9-ead5bcd42ac7",
   "metadata": {},
   "outputs": [
    {
     "data": {
      "text/html": [
       "<div>\n",
       "<style scoped>\n",
       "    .dataframe tbody tr th:only-of-type {\n",
       "        vertical-align: middle;\n",
       "    }\n",
       "\n",
       "    .dataframe tbody tr th {\n",
       "        vertical-align: top;\n",
       "    }\n",
       "\n",
       "    .dataframe thead th {\n",
       "        text-align: right;\n",
       "    }\n",
       "</style>\n",
       "<table border=\"1\" class=\"dataframe\">\n",
       "  <thead>\n",
       "    <tr style=\"text-align: right;\">\n",
       "      <th></th>\n",
       "      <th>이상패턴_5min_횟수</th>\n",
       "      <th>고장</th>\n",
       "      <th>정상</th>\n",
       "    </tr>\n",
       "  </thead>\n",
       "  <tbody>\n",
       "    <tr>\n",
       "      <th>0</th>\n",
       "      <td>0</td>\n",
       "      <td>0.413993</td>\n",
       "      <td>0.586007</td>\n",
       "    </tr>\n",
       "    <tr>\n",
       "      <th>1</th>\n",
       "      <td>1</td>\n",
       "      <td>0.412731</td>\n",
       "      <td>0.587269</td>\n",
       "    </tr>\n",
       "    <tr>\n",
       "      <th>2</th>\n",
       "      <td>2</td>\n",
       "      <td>0.398482</td>\n",
       "      <td>0.601518</td>\n",
       "    </tr>\n",
       "    <tr>\n",
       "      <th>3</th>\n",
       "      <td>3</td>\n",
       "      <td>0.369330</td>\n",
       "      <td>0.630670</td>\n",
       "    </tr>\n",
       "    <tr>\n",
       "      <th>4</th>\n",
       "      <td>4</td>\n",
       "      <td>0.345091</td>\n",
       "      <td>0.654909</td>\n",
       "    </tr>\n",
       "    <tr>\n",
       "      <th>5</th>\n",
       "      <td>5</td>\n",
       "      <td>0.315579</td>\n",
       "      <td>0.684421</td>\n",
       "    </tr>\n",
       "    <tr>\n",
       "      <th>6</th>\n",
       "      <td>6</td>\n",
       "      <td>0.283507</td>\n",
       "      <td>0.716493</td>\n",
       "    </tr>\n",
       "    <tr>\n",
       "      <th>7</th>\n",
       "      <td>7</td>\n",
       "      <td>0.243660</td>\n",
       "      <td>0.756340</td>\n",
       "    </tr>\n",
       "    <tr>\n",
       "      <th>8</th>\n",
       "      <td>8</td>\n",
       "      <td>0.208986</td>\n",
       "      <td>0.791014</td>\n",
       "    </tr>\n",
       "    <tr>\n",
       "      <th>9</th>\n",
       "      <td>9</td>\n",
       "      <td>0.192982</td>\n",
       "      <td>0.807018</td>\n",
       "    </tr>\n",
       "  </tbody>\n",
       "</table>\n",
       "</div>"
      ],
      "text/plain": [
       "   이상패턴_5min_횟수        고장        정상\n",
       "0             0  0.413993  0.586007\n",
       "1             1  0.412731  0.587269\n",
       "2             2  0.398482  0.601518\n",
       "3             3  0.369330  0.630670\n",
       "4             4  0.345091  0.654909\n",
       "5             5  0.315579  0.684421\n",
       "6             6  0.283507  0.716493\n",
       "7             7  0.243660  0.756340\n",
       "8             8  0.208986  0.791014\n",
       "9             9  0.192982  0.807018"
      ]
     },
     "execution_count": 1100,
     "metadata": {},
     "output_type": "execute_result"
    }
   ],
   "source": [
    "# 고장횟수에 따른 고장여부 비율 계산\n",
    "df_2 = df_Bike_latest_2.groupby('이상패턴_5min_횟수')['고장여부'].value_counts(normalize=True).unstack().reset_index()\n",
    "df_2.columns = ['이상패턴_5min_횟수', '고장', '정상']\n",
    "df_2.head(10)"
   ]
  },
  {
   "cell_type": "markdown",
   "id": "a07b4e6a-f46c-4ef8-a677-c7f339769fcd",
   "metadata": {},
   "source": [
    "---\n",
    "### 시각화 - 이상패턴 <-> 고장여부"
   ]
  },
  {
   "cell_type": "code",
   "execution_count": 1102,
   "id": "fcc87820-c075-4ac1-ab58-104033467237",
   "metadata": {},
   "outputs": [
    {
     "data": {
      "image/png": "[encoded data removed]",
      "text/plain": [
       "<Figure size 1000x600 with 1 Axes>"
      ]
     },
     "metadata": {},
     "output_type": "display_data"
    }
   ],
   "source": [
    "# 한글 폰트 설정 (Windows에서는 'Malgun Gothic' 사용)\n",
    "plt.rcParams['font.family'] = 'Malgun Gothic'\n",
    "# 마이너스 기호 깨짐 방지\n",
    "plt.rcParams['axes.unicode_minus'] = False\n",
    "\n",
    "# 결과 시각화\n",
    "result = df_Bike_latest_2.groupby('이상패턴_5min_횟수')['고장여부'].value_counts().unstack().fillna(0)\n",
    "result.plot(kind='bar', stacked=True, figsize=(10, 6), color=['skyblue', 'salmon'])\n",
    "plt.xlabel('이상패턴_횟수')\n",
    "plt.ylabel('횟수')\n",
    "plt.title('이상패턴_5min_횟수에 따른 고장여부 횟수')\n",
    "plt.legend(title='고장여부')\n",
    "plt.tight_layout()\n",
    "plt.show()"
   ]
  },
  {
   "cell_type": "code",
   "execution_count": 1104,
   "id": "382be891-cc3b-4395-b926-4d60e6c8a83e",
   "metadata": {},
   "outputs": [
    {
     "data": {
      "image/png": "[encoded data removed]",
      "text/plain": [
       "<Figure size 1000x600 with 1 Axes>"
      ]
     },
     "metadata": {},
     "output_type": "display_data"
    }
   ],
   "source": [
    "# 한글 폰트 설정 (Windows에서는 'Malgun Gothic' 사용)\n",
    "plt.rcParams['font.family'] = 'Malgun Gothic'\n",
    "# 마이너스 기호 깨짐 방지\n",
    "plt.rcParams['axes.unicode_minus'] = False\n",
    "\n",
    "# 결과 시각화\n",
    "result = df_Bike_latest_2.groupby('이상패턴_5min_횟수')['고장여부'].value_counts(normalize=True).unstack().fillna(0)\n",
    "#result = df_Bike_latest_2.groupby('이상패턴_횟수')['고장여부'].value_counts().unstack().fillna(0)\n",
    "result.plot(kind='bar', stacked=True, figsize=(10, 6), color=['skyblue', 'salmon'])\n",
    "plt.xlabel('이상패턴_횟수')\n",
    "plt.ylabel('비율')\n",
    "plt.title('이상패턴_5min_횟수에 따른 고장여부 비율')\n",
    "plt.legend(title='고장여부')\n",
    "plt.tight_layout()\n",
    "plt.show()"
   ]
  },
  {
   "cell_type": "code",
   "execution_count": 1106,
   "id": "d99d408c-e7c8-45a1-b333-a95503bbd190",
   "metadata": {},
   "outputs": [
    {
     "data": {
      "text/html": [
       "<div>\n",
       "<style scoped>\n",
       "    .dataframe tbody tr th:only-of-type {\n",
       "        vertical-align: middle;\n",
       "    }\n",
       "\n",
       "    .dataframe tbody tr th {\n",
       "        vertical-align: top;\n",
       "    }\n",
       "\n",
       "    .dataframe thead th {\n",
       "        text-align: right;\n",
       "    }\n",
       "</style>\n",
       "<table border=\"1\" class=\"dataframe\">\n",
       "  <thead>\n",
       "    <tr style=\"text-align: right;\">\n",
       "      <th></th>\n",
       "      <th>자전거번호</th>\n",
       "      <th>이전일자_1mon</th>\n",
       "      <th>등록대여일자</th>\n",
       "      <th>고장구분</th>\n",
       "      <th>고장여부</th>\n",
       "      <th>이상패턴_5min_횟수</th>\n",
       "      <th>이전일자_1mon_이용거리</th>\n",
       "      <th>이전일자_1mon_이용시간</th>\n",
       "      <th>이전일자_1mon_이용횟수</th>\n",
       "    </tr>\n",
       "  </thead>\n",
       "  <tbody>\n",
       "    <tr>\n",
       "      <th>0</th>\n",
       "      <td>SPB-30006</td>\n",
       "      <td>2024-02-29</td>\n",
       "      <td>2024-03-31</td>\n",
       "      <td>페달</td>\n",
       "      <td>1</td>\n",
       "      <td>2</td>\n",
       "      <td>98170.92</td>\n",
       "      <td>843.0</td>\n",
       "      <td>74.0</td>\n",
       "    </tr>\n",
       "    <tr>\n",
       "      <th>1</th>\n",
       "      <td>SPB-30010</td>\n",
       "      <td>2024-05-18</td>\n",
       "      <td>2024-06-18</td>\n",
       "      <td>타이어</td>\n",
       "      <td>1</td>\n",
       "      <td>5</td>\n",
       "      <td>231653.56</td>\n",
       "      <td>2257.0</td>\n",
       "      <td>121.0</td>\n",
       "    </tr>\n",
       "    <tr>\n",
       "      <th>2</th>\n",
       "      <td>SPB-30014</td>\n",
       "      <td>2024-05-24</td>\n",
       "      <td>2024-06-24</td>\n",
       "      <td>기타</td>\n",
       "      <td>1</td>\n",
       "      <td>7</td>\n",
       "      <td>335138.54</td>\n",
       "      <td>2966.0</td>\n",
       "      <td>156.0</td>\n",
       "    </tr>\n",
       "    <tr>\n",
       "      <th>3</th>\n",
       "      <td>SPB-30018</td>\n",
       "      <td>2024-05-01</td>\n",
       "      <td>2024-06-01</td>\n",
       "      <td>기타</td>\n",
       "      <td>1</td>\n",
       "      <td>2</td>\n",
       "      <td>291259.65</td>\n",
       "      <td>3041.0</td>\n",
       "      <td>153.0</td>\n",
       "    </tr>\n",
       "    <tr>\n",
       "      <th>4</th>\n",
       "      <td>SPB-30022</td>\n",
       "      <td>2024-04-20</td>\n",
       "      <td>2024-05-20</td>\n",
       "      <td>기타</td>\n",
       "      <td>1</td>\n",
       "      <td>7</td>\n",
       "      <td>253399.66</td>\n",
       "      <td>2755.0</td>\n",
       "      <td>143.0</td>\n",
       "    </tr>\n",
       "  </tbody>\n",
       "</table>\n",
       "</div>"
      ],
      "text/plain": [
       "       자전거번호  이전일자_1mon     등록대여일자  고장구분  고장여부  이상패턴_5min_횟수  이전일자_1mon_이용거리  \\\n",
       "0  SPB-30006 2024-02-29 2024-03-31    페달     1             2        98170.92   \n",
       "1  SPB-30010 2024-05-18 2024-06-18  타이어      1             5       231653.56   \n",
       "2  SPB-30014 2024-05-24 2024-06-24   기타      1             7       335138.54   \n",
       "3  SPB-30018 2024-05-01 2024-06-01   기타      1             2       291259.65   \n",
       "4  SPB-30022 2024-04-20 2024-05-20   기타      1             7       253399.66   \n",
       "\n",
       "   이전일자_1mon_이용시간  이전일자_1mon_이용횟수  \n",
       "0           843.0            74.0  \n",
       "1          2257.0           121.0  \n",
       "2          2966.0           156.0  \n",
       "3          3041.0           153.0  \n",
       "4          2755.0           143.0  "
      ]
     },
     "execution_count": 1106,
     "metadata": {},
     "output_type": "execute_result"
    }
   ],
   "source": [
    "df_Bike_latest_2.head(5)"
   ]
  },
  {
   "cell_type": "code",
   "execution_count": 1108,
   "id": "b02d3718-94d8-4534-898c-37a7dac83c17",
   "metadata": {},
   "outputs": [],
   "source": [
    "df_Bike_latest_3 = pd.get_dummies(df_Bike_latest_2, columns=['고장구분'])"
   ]
  },
  {
   "cell_type": "code",
   "execution_count": 1110,
   "id": "b3b2769a-7d1d-408f-8e62-2507547ed6c2",
   "metadata": {},
   "outputs": [
    {
     "data": {
      "text/html": [
       "<div>\n",
       "<style scoped>\n",
       "    .dataframe tbody tr th:only-of-type {\n",
       "        vertical-align: middle;\n",
       "    }\n",
       "\n",
       "    .dataframe tbody tr th {\n",
       "        vertical-align: top;\n",
       "    }\n",
       "\n",
       "    .dataframe thead th {\n",
       "        text-align: right;\n",
       "    }\n",
       "</style>\n",
       "<table border=\"1\" class=\"dataframe\">\n",
       "  <thead>\n",
       "    <tr style=\"text-align: right;\">\n",
       "      <th></th>\n",
       "      <th>자전거번호</th>\n",
       "      <th>이전일자_1mon</th>\n",
       "      <th>등록대여일자</th>\n",
       "      <th>고장여부</th>\n",
       "      <th>이상패턴_5min_횟수</th>\n",
       "      <th>이전일자_1mon_이용거리</th>\n",
       "      <th>이전일자_1mon_이용시간</th>\n",
       "      <th>이전일자_1mon_이용횟수</th>\n",
       "      <th>고장구분_</th>\n",
       "      <th>고장구분_기타</th>\n",
       "      <th>고장구분_단말기</th>\n",
       "      <th>고장구분_안장</th>\n",
       "      <th>고장구분_체인</th>\n",
       "      <th>고장구분_타이어</th>\n",
       "      <th>고장구분_페달</th>\n",
       "    </tr>\n",
       "  </thead>\n",
       "  <tbody>\n",
       "    <tr>\n",
       "      <th>0</th>\n",
       "      <td>SPB-30006</td>\n",
       "      <td>2024-02-29</td>\n",
       "      <td>2024-03-31</td>\n",
       "      <td>1</td>\n",
       "      <td>2</td>\n",
       "      <td>98170.92</td>\n",
       "      <td>843.0</td>\n",
       "      <td>74.0</td>\n",
       "      <td>False</td>\n",
       "      <td>False</td>\n",
       "      <td>False</td>\n",
       "      <td>False</td>\n",
       "      <td>False</td>\n",
       "      <td>False</td>\n",
       "      <td>True</td>\n",
       "    </tr>\n",
       "    <tr>\n",
       "      <th>1</th>\n",
       "      <td>SPB-30010</td>\n",
       "      <td>2024-05-18</td>\n",
       "      <td>2024-06-18</td>\n",
       "      <td>1</td>\n",
       "      <td>5</td>\n",
       "      <td>231653.56</td>\n",
       "      <td>2257.0</td>\n",
       "      <td>121.0</td>\n",
       "      <td>False</td>\n",
       "      <td>False</td>\n",
       "      <td>False</td>\n",
       "      <td>False</td>\n",
       "      <td>False</td>\n",
       "      <td>True</td>\n",
       "      <td>False</td>\n",
       "    </tr>\n",
       "    <tr>\n",
       "      <th>2</th>\n",
       "      <td>SPB-30014</td>\n",
       "      <td>2024-05-24</td>\n",
       "      <td>2024-06-24</td>\n",
       "      <td>1</td>\n",
       "      <td>7</td>\n",
       "      <td>335138.54</td>\n",
       "      <td>2966.0</td>\n",
       "      <td>156.0</td>\n",
       "      <td>False</td>\n",
       "      <td>True</td>\n",
       "      <td>False</td>\n",
       "      <td>False</td>\n",
       "      <td>False</td>\n",
       "      <td>False</td>\n",
       "      <td>False</td>\n",
       "    </tr>\n",
       "  </tbody>\n",
       "</table>\n",
       "</div>"
      ],
      "text/plain": [
       "       자전거번호  이전일자_1mon     등록대여일자  고장여부  이상패턴_5min_횟수  이전일자_1mon_이용거리  \\\n",
       "0  SPB-30006 2024-02-29 2024-03-31     1             2        98170.92   \n",
       "1  SPB-30010 2024-05-18 2024-06-18     1             5       231653.56   \n",
       "2  SPB-30014 2024-05-24 2024-06-24     1             7       335138.54   \n",
       "\n",
       "   이전일자_1mon_이용시간  이전일자_1mon_이용횟수  고장구분_  고장구분_기타   고장구분_단말기  고장구분_안장  \\\n",
       "0           843.0            74.0  False     False     False    False   \n",
       "1          2257.0           121.0  False     False     False    False   \n",
       "2          2966.0           156.0  False      True     False    False   \n",
       "\n",
       "   고장구분_체인  고장구분_타이어   고장구분_페달  \n",
       "0    False      False     True  \n",
       "1    False       True    False  \n",
       "2    False      False    False  "
      ]
     },
     "execution_count": 1110,
     "metadata": {},
     "output_type": "execute_result"
    }
   ],
   "source": [
    "df_Bike_latest_3.head(3)"
   ]
  },
  {
   "cell_type": "code",
   "execution_count": 1112,
   "id": "dbf4942e-2ec7-4b59-a44a-cc55801d5656",
   "metadata": {},
   "outputs": [
    {
     "data": {
      "text/html": [
       "<div>\n",
       "<style scoped>\n",
       "    .dataframe tbody tr th:only-of-type {\n",
       "        vertical-align: middle;\n",
       "    }\n",
       "\n",
       "    .dataframe tbody tr th {\n",
       "        vertical-align: top;\n",
       "    }\n",
       "\n",
       "    .dataframe thead th {\n",
       "        text-align: right;\n",
       "    }\n",
       "</style>\n",
       "<table border=\"1\" class=\"dataframe\">\n",
       "  <thead>\n",
       "    <tr style=\"text-align: right;\">\n",
       "      <th></th>\n",
       "      <th>고장여부</th>\n",
       "      <th>이상패턴_5min_횟수</th>\n",
       "      <th>이전일자_1mon_이용거리</th>\n",
       "      <th>이전일자_1mon_이용시간</th>\n",
       "      <th>이전일자_1mon_이용횟수</th>\n",
       "      <th>고장구분_</th>\n",
       "      <th>고장구분_기타</th>\n",
       "      <th>고장구분_단말기</th>\n",
       "      <th>고장구분_안장</th>\n",
       "      <th>고장구분_체인</th>\n",
       "      <th>고장구분_타이어</th>\n",
       "      <th>고장구분_페달</th>\n",
       "    </tr>\n",
       "  </thead>\n",
       "  <tbody>\n",
       "    <tr>\n",
       "      <th>고장여부</th>\n",
       "      <td>1.000000</td>\n",
       "      <td>0.195602</td>\n",
       "      <td>0.155199</td>\n",
       "      <td>0.151313</td>\n",
       "      <td>0.158021</td>\n",
       "      <td>-1.000000</td>\n",
       "      <td>0.336837</td>\n",
       "      <td>0.126383</td>\n",
       "      <td>0.258820</td>\n",
       "      <td>0.278087</td>\n",
       "      <td>0.273644</td>\n",
       "      <td>0.150413</td>\n",
       "    </tr>\n",
       "    <tr>\n",
       "      <th>이상패턴_5min_횟수</th>\n",
       "      <td>0.195602</td>\n",
       "      <td>1.000000</td>\n",
       "      <td>0.234914</td>\n",
       "      <td>0.240997</td>\n",
       "      <td>0.318354</td>\n",
       "      <td>-0.195602</td>\n",
       "      <td>-0.049257</td>\n",
       "      <td>0.027987</td>\n",
       "      <td>0.118804</td>\n",
       "      <td>0.149535</td>\n",
       "      <td>0.040500</td>\n",
       "      <td>-0.000272</td>\n",
       "    </tr>\n",
       "    <tr>\n",
       "      <th>이전일자_1mon_이용거리</th>\n",
       "      <td>0.155199</td>\n",
       "      <td>0.234914</td>\n",
       "      <td>1.000000</td>\n",
       "      <td>0.980033</td>\n",
       "      <td>0.957663</td>\n",
       "      <td>-0.155199</td>\n",
       "      <td>0.041044</td>\n",
       "      <td>0.011238</td>\n",
       "      <td>-0.036015</td>\n",
       "      <td>0.185064</td>\n",
       "      <td>0.001353</td>\n",
       "      <td>0.003710</td>\n",
       "    </tr>\n",
       "    <tr>\n",
       "      <th>이전일자_1mon_이용시간</th>\n",
       "      <td>0.151313</td>\n",
       "      <td>0.240997</td>\n",
       "      <td>0.980033</td>\n",
       "      <td>1.000000</td>\n",
       "      <td>0.963558</td>\n",
       "      <td>-0.151313</td>\n",
       "      <td>0.038973</td>\n",
       "      <td>0.017457</td>\n",
       "      <td>-0.035975</td>\n",
       "      <td>0.185553</td>\n",
       "      <td>-0.004396</td>\n",
       "      <td>0.002294</td>\n",
       "    </tr>\n",
       "    <tr>\n",
       "      <th>이전일자_1mon_이용횟수</th>\n",
       "      <td>0.158021</td>\n",
       "      <td>0.318354</td>\n",
       "      <td>0.957663</td>\n",
       "      <td>0.963558</td>\n",
       "      <td>1.000000</td>\n",
       "      <td>-0.158021</td>\n",
       "      <td>0.034844</td>\n",
       "      <td>0.008720</td>\n",
       "      <td>-0.026153</td>\n",
       "      <td>0.186292</td>\n",
       "      <td>-0.000696</td>\n",
       "      <td>0.009566</td>\n",
       "    </tr>\n",
       "    <tr>\n",
       "      <th>고장구분_</th>\n",
       "      <td>-1.000000</td>\n",
       "      <td>-0.195602</td>\n",
       "      <td>-0.155199</td>\n",
       "      <td>-0.151313</td>\n",
       "      <td>-0.158021</td>\n",
       "      <td>1.000000</td>\n",
       "      <td>-0.336837</td>\n",
       "      <td>-0.126383</td>\n",
       "      <td>-0.258820</td>\n",
       "      <td>-0.278087</td>\n",
       "      <td>-0.273644</td>\n",
       "      <td>-0.150413</td>\n",
       "    </tr>\n",
       "    <tr>\n",
       "      <th>고장구분_기타</th>\n",
       "      <td>0.336837</td>\n",
       "      <td>-0.049257</td>\n",
       "      <td>0.041044</td>\n",
       "      <td>0.038973</td>\n",
       "      <td>0.034844</td>\n",
       "      <td>-0.336837</td>\n",
       "      <td>1.000000</td>\n",
       "      <td>-0.091459</td>\n",
       "      <td>-0.187300</td>\n",
       "      <td>-0.201243</td>\n",
       "      <td>-0.198027</td>\n",
       "      <td>-0.108849</td>\n",
       "    </tr>\n",
       "    <tr>\n",
       "      <th>고장구분_단말기</th>\n",
       "      <td>0.126383</td>\n",
       "      <td>0.027987</td>\n",
       "      <td>0.011238</td>\n",
       "      <td>0.017457</td>\n",
       "      <td>0.008720</td>\n",
       "      <td>-0.126383</td>\n",
       "      <td>-0.091459</td>\n",
       "      <td>1.000000</td>\n",
       "      <td>-0.070276</td>\n",
       "      <td>-0.075507</td>\n",
       "      <td>-0.074301</td>\n",
       "      <td>-0.040841</td>\n",
       "    </tr>\n",
       "    <tr>\n",
       "      <th>고장구분_안장</th>\n",
       "      <td>0.258820</td>\n",
       "      <td>0.118804</td>\n",
       "      <td>-0.036015</td>\n",
       "      <td>-0.035975</td>\n",
       "      <td>-0.026153</td>\n",
       "      <td>-0.258820</td>\n",
       "      <td>-0.187300</td>\n",
       "      <td>-0.070276</td>\n",
       "      <td>1.000000</td>\n",
       "      <td>-0.154632</td>\n",
       "      <td>-0.152161</td>\n",
       "      <td>-0.083638</td>\n",
       "    </tr>\n",
       "    <tr>\n",
       "      <th>고장구분_체인</th>\n",
       "      <td>0.278087</td>\n",
       "      <td>0.149535</td>\n",
       "      <td>0.185064</td>\n",
       "      <td>0.185553</td>\n",
       "      <td>0.186292</td>\n",
       "      <td>-0.278087</td>\n",
       "      <td>-0.201243</td>\n",
       "      <td>-0.075507</td>\n",
       "      <td>-0.154632</td>\n",
       "      <td>1.000000</td>\n",
       "      <td>-0.163488</td>\n",
       "      <td>-0.089864</td>\n",
       "    </tr>\n",
       "    <tr>\n",
       "      <th>고장구분_타이어</th>\n",
       "      <td>0.273644</td>\n",
       "      <td>0.040500</td>\n",
       "      <td>0.001353</td>\n",
       "      <td>-0.004396</td>\n",
       "      <td>-0.000696</td>\n",
       "      <td>-0.273644</td>\n",
       "      <td>-0.198027</td>\n",
       "      <td>-0.074301</td>\n",
       "      <td>-0.152161</td>\n",
       "      <td>-0.163488</td>\n",
       "      <td>1.000000</td>\n",
       "      <td>-0.088428</td>\n",
       "    </tr>\n",
       "    <tr>\n",
       "      <th>고장구분_페달</th>\n",
       "      <td>0.150413</td>\n",
       "      <td>-0.000272</td>\n",
       "      <td>0.003710</td>\n",
       "      <td>0.002294</td>\n",
       "      <td>0.009566</td>\n",
       "      <td>-0.150413</td>\n",
       "      <td>-0.108849</td>\n",
       "      <td>-0.040841</td>\n",
       "      <td>-0.083638</td>\n",
       "      <td>-0.089864</td>\n",
       "      <td>-0.088428</td>\n",
       "      <td>1.000000</td>\n",
       "    </tr>\n",
       "  </tbody>\n",
       "</table>\n",
       "</div>"
      ],
      "text/plain": [
       "                    고장여부  이상패턴_5min_횟수  이전일자_1mon_이용거리  이전일자_1mon_이용시간  \\\n",
       "고장여부            1.000000      0.195602        0.155199        0.151313   \n",
       "이상패턴_5min_횟수    0.195602      1.000000        0.234914        0.240997   \n",
       "이전일자_1mon_이용거리  0.155199      0.234914        1.000000        0.980033   \n",
       "이전일자_1mon_이용시간  0.151313      0.240997        0.980033        1.000000   \n",
       "이전일자_1mon_이용횟수  0.158021      0.318354        0.957663        0.963558   \n",
       "고장구분_          -1.000000     -0.195602       -0.155199       -0.151313   \n",
       "고장구분_기타         0.336837     -0.049257        0.041044        0.038973   \n",
       "고장구분_단말기        0.126383      0.027987        0.011238        0.017457   \n",
       "고장구분_안장         0.258820      0.118804       -0.036015       -0.035975   \n",
       "고장구분_체인         0.278087      0.149535        0.185064        0.185553   \n",
       "고장구분_타이어        0.273644      0.040500        0.001353       -0.004396   \n",
       "고장구분_페달         0.150413     -0.000272        0.003710        0.002294   \n",
       "\n",
       "                이전일자_1mon_이용횟수     고장구분_  고장구분_기타   고장구분_단말기   고장구분_안장  \\\n",
       "고장여부                  0.158021 -1.000000  0.336837  0.126383  0.258820   \n",
       "이상패턴_5min_횟수          0.318354 -0.195602 -0.049257  0.027987  0.118804   \n",
       "이전일자_1mon_이용거리        0.957663 -0.155199  0.041044  0.011238 -0.036015   \n",
       "이전일자_1mon_이용시간        0.963558 -0.151313  0.038973  0.017457 -0.035975   \n",
       "이전일자_1mon_이용횟수        1.000000 -0.158021  0.034844  0.008720 -0.026153   \n",
       "고장구분_                -0.158021  1.000000 -0.336837 -0.126383 -0.258820   \n",
       "고장구분_기타               0.034844 -0.336837  1.000000 -0.091459 -0.187300   \n",
       "고장구분_단말기              0.008720 -0.126383 -0.091459  1.000000 -0.070276   \n",
       "고장구분_안장              -0.026153 -0.258820 -0.187300 -0.070276  1.000000   \n",
       "고장구분_체인               0.186292 -0.278087 -0.201243 -0.075507 -0.154632   \n",
       "고장구분_타이어             -0.000696 -0.273644 -0.198027 -0.074301 -0.152161   \n",
       "고장구분_페달               0.009566 -0.150413 -0.108849 -0.040841 -0.083638   \n",
       "\n",
       "                 고장구분_체인  고장구분_타이어    고장구분_페달  \n",
       "고장여부            0.278087   0.273644  0.150413  \n",
       "이상패턴_5min_횟수    0.149535   0.040500 -0.000272  \n",
       "이전일자_1mon_이용거리  0.185064   0.001353  0.003710  \n",
       "이전일자_1mon_이용시간  0.185553  -0.004396  0.002294  \n",
       "이전일자_1mon_이용횟수  0.186292  -0.000696  0.009566  \n",
       "고장구분_          -0.278087  -0.273644 -0.150413  \n",
       "고장구분_기타        -0.201243  -0.198027 -0.108849  \n",
       "고장구분_단말기       -0.075507  -0.074301 -0.040841  \n",
       "고장구분_안장        -0.154632  -0.152161 -0.083638  \n",
       "고장구분_체인         1.000000  -0.163488 -0.089864  \n",
       "고장구분_타이어       -0.163488   1.000000 -0.088428  \n",
       "고장구분_페달        -0.089864  -0.088428  1.000000  "
      ]
     },
     "execution_count": 1112,
     "metadata": {},
     "output_type": "execute_result"
    }
   ],
   "source": [
    "df_Bike_latest_3.columns\n",
    "df_Bike_latest_3[['고장여부',\n",
    "       '이상패턴_5min_횟수', \n",
    "       '이전일자_1mon_이용거리', '이전일자_1mon_이용시간', '이전일자_1mon_이용횟수',\n",
    "       '고장구분_', '고장구분_기타 ', '고장구분_단말기', '고장구분_안장', '고장구분_체인', '고장구분_타이어 ',\n",
    "       '고장구분_페달']].corr()"
   ]
  },
  {
   "cell_type": "code",
   "execution_count": 1114,
   "id": "ae8bccd2-07a5-453e-bcce-e47ed3c59816",
   "metadata": {},
   "outputs": [
    {
     "data": {
      "image/png": "[encoded data removed]",
      "text/plain": [
       "<Figure size 900x900 with 2 Axes>"
      ]
     },
     "metadata": {},
     "output_type": "display_data"
    }
   ],
   "source": [
    "df_Bike_latest_4 = df_Bike_latest_3[['고장여부',\n",
    "       '이상패턴_5min_횟수',\n",
    "       '이전일자_1mon_이용거리', '이전일자_1mon_이용시간', '이전일자_1mon_이용횟수',\n",
    "       '고장구분_', '고장구분_기타 ', '고장구분_단말기', '고장구분_안장', '고장구분_체인', '고장구분_타이어 ',\n",
    "       '고장구분_페달']].corr()\n",
    "\n",
    "import matplotlib.pyplot as plt\n",
    "import seaborn as sns\n",
    "\n",
    "# 한글 폰트 설정 (Windows에서는 'Malgun Gothic' 사용)\n",
    "plt.rcParams['font.family'] = 'Malgun Gothic'\n",
    "# 마이너스 기호 깨짐 방지\n",
    "plt.rcParams['axes.unicode_minus'] = False\n",
    "\n",
    "sns.heatmap(df_Bike_latest_4.corr(),\n",
    "            annot = True,                     # 상관계수 표시\n",
    "            annot_kws={\"size\": 8},\n",
    "            fmt = '.1f',                      # 상관계수 소수점 자리\n",
    "            cmap = 'coolwarm',                # 컬러맵 색상 팔레트\n",
    "            vmax = 1.0,                       # 상관계수 최댓값\n",
    "            vmin = -1,                       # 상관계수 최소값\n",
    "            linecolor = 'white',              # 셀 테두리 색상\n",
    "            linewidths = .005)                 # 셀 간격\n",
    "sns.set(rc={'figure.figsize' : (9, 9)})       # 그래프 그리기"
   ]
  },
  {
   "cell_type": "markdown",
   "id": "906a55bb-4235-4358-aa37-cb830fae41ea",
   "metadata": {},
   "source": [
    "---\n",
    "## 선형회귀 모델링"
   ]
  },
  {
   "cell_type": "code",
   "execution_count": 171,
   "id": "60c5db38-87c6-4d82-8a6a-8d4cd4e810b1",
   "metadata": {},
   "outputs": [],
   "source": [
    "import numpy as np"
   ]
  },
  {
   "cell_type": "code",
   "execution_count": 146,
   "id": "96a293ae-39fc-4d82-a399-9c803d2bbbff",
   "metadata": {},
   "outputs": [
    {
     "data": {
      "text/html": [
       "<div>\n",
       "<style scoped>\n",
       "    .dataframe tbody tr th:only-of-type {\n",
       "        vertical-align: middle;\n",
       "    }\n",
       "\n",
       "    .dataframe tbody tr th {\n",
       "        vertical-align: top;\n",
       "    }\n",
       "\n",
       "    .dataframe thead th {\n",
       "        text-align: right;\n",
       "    }\n",
       "</style>\n",
       "<table border=\"1\" class=\"dataframe\">\n",
       "  <thead>\n",
       "    <tr style=\"text-align: right;\">\n",
       "      <th></th>\n",
       "      <th>자전거번호</th>\n",
       "      <th>이전일자</th>\n",
       "      <th>등록대여일자</th>\n",
       "      <th>고장구분</th>\n",
       "      <th>고장여부</th>\n",
       "      <th>이상패턴_횟수</th>\n",
       "    </tr>\n",
       "  </thead>\n",
       "  <tbody>\n",
       "    <tr>\n",
       "      <th>0</th>\n",
       "      <td>SPB-30006</td>\n",
       "      <td>2024-01-31</td>\n",
       "      <td>2024-03-31</td>\n",
       "      <td>페달</td>\n",
       "      <td>1</td>\n",
       "      <td>3</td>\n",
       "    </tr>\n",
       "    <tr>\n",
       "      <th>1</th>\n",
       "      <td>SPB-30010</td>\n",
       "      <td>2024-04-18</td>\n",
       "      <td>2024-06-18</td>\n",
       "      <td>타이어</td>\n",
       "      <td>1</td>\n",
       "      <td>7</td>\n",
       "    </tr>\n",
       "    <tr>\n",
       "      <th>2</th>\n",
       "      <td>SPB-30014</td>\n",
       "      <td>2024-04-24</td>\n",
       "      <td>2024-06-24</td>\n",
       "      <td>기타</td>\n",
       "      <td>1</td>\n",
       "      <td>9</td>\n",
       "    </tr>\n",
       "  </tbody>\n",
       "</table>\n",
       "</div>"
      ],
      "text/plain": [
       "       자전거번호       이전일자     등록대여일자  고장구분  고장여부  이상패턴_횟수\n",
       "0  SPB-30006 2024-01-31 2024-03-31    페달     1        3\n",
       "1  SPB-30010 2024-04-18 2024-06-18  타이어      1        7\n",
       "2  SPB-30014 2024-04-24 2024-06-24   기타      1        9"
      ]
     },
     "execution_count": 146,
     "metadata": {},
     "output_type": "execute_result"
    }
   ],
   "source": [
    "df_Bike_latest_2.head(3)"
   ]
  },
  {
   "cell_type": "code",
   "execution_count": 148,
   "id": "cc40951f-47ca-4e0c-a4ec-9ba453cb59ba",
   "metadata": {},
   "outputs": [
    {
     "data": {
      "text/plain": [
       "array([[3],\n",
       "       [7],\n",
       "       [9],\n",
       "       ...,\n",
       "       [8],\n",
       "       [3],\n",
       "       [3]], dtype=int64)"
      ]
     },
     "execution_count": 148,
     "metadata": {},
     "output_type": "execute_result"
    }
   ],
   "source": [
    "np.array(df_Bike_latest_2['이상패턴_횟수']).reshape(-1, 1)"
   ]
  },
  {
   "cell_type": "code",
   "execution_count": 150,
   "id": "59261a8e-fb1a-4e40-ac61-62f23c0f8499",
   "metadata": {},
   "outputs": [
    {
     "data": {
      "text/plain": [
       "array([1, 1, 1, ..., 0, 0, 0], dtype=int64)"
      ]
     },
     "execution_count": 150,
     "metadata": {},
     "output_type": "execute_result"
    }
   ],
   "source": [
    "np.array(df_Bike_latest_2['고장여부'])"
   ]
  },
  {
   "cell_type": "code",
   "execution_count": 152,
   "id": "58927e32-2390-42db-b741-d54a3955128b",
   "metadata": {},
   "outputs": [
    {
     "data": {
      "image/png": "[encoded data removed]",
      "text/plain": [
       "<Figure size 640x480 with 1 Axes>"
      ]
     },
     "metadata": {},
     "output_type": "display_data"
    },
    {
     "name": "stdout",
     "output_type": "stream",
     "text": [
      "회귀 계수: [0.00700518]\n",
      "절편: 0.6176931151046378\n"
     ]
    }
   ],
   "source": [
    "import numpy as np\n",
    "import pandas as pd\n",
    "import matplotlib.pyplot as plt\n",
    "from sklearn.model_selection import train_test_split\n",
    "from sklearn.linear_model import LinearRegression\n",
    "\n",
    "# # 예시 데이터 생성\n",
    "# # 독립 변수 (예: 고장횟수)\n",
    "# X = np.array([2, 5, 7, 2, 7]).reshape(-1, 1)\n",
    "# # 종속 변수 (예: 고장여부)\n",
    "# y = np.array([1, 1, 1, 1, 1])\n",
    "\n",
    "df_Bike_latest_3 = df_Bike_latest_2[df_Bike_latest_2['이상패턴_횟수'] > 0]\n",
    "X = np.array(df_Bike_latest_3['이상패턴_횟수']).reshape(-1, 1)\n",
    "y = np.array(df_Bike_latest_3['고장여부'])\n",
    "\n",
    "# 데이터셋을 학습 세트와 테스트 세트로 분리\n",
    "X_train, X_test, y_train, y_test = train_test_split(X, y, test_size=0.2, random_state=42)\n",
    "\n",
    "# 선형 회귀 모델 생성 및 학습\n",
    "model = LinearRegression()\n",
    "model.fit(X_train, y_train)\n",
    "\n",
    "# 테스트 세트에 대한 예측\n",
    "y_pred = model.predict(X_test)\n",
    "\n",
    "# 결과 시각화\n",
    "plt.scatter(X_test, y_test, color='blue', label='Actual')\n",
    "plt.plot(X_test, y_pred, color='red', linewidth=2, label='Predicted')\n",
    "plt.xlabel('고장횟수')\n",
    "plt.ylabel('고장여부')\n",
    "plt.title('고장횟수에 따른 고장여부 예측')\n",
    "plt.legend()\n",
    "plt.show()\n",
    "\n",
    "# 회귀 계수 출력\n",
    "print('회귀 계수:', model.coef_)\n",
    "print('절편:', model.intercept_)"
   ]
  },
  {
   "cell_type": "code",
   "execution_count": 97,
   "id": "468eab1d-b4bf-4958-988d-1a0a908d8036",
   "metadata": {},
   "outputs": [
    {
     "data": {
      "text/html": [
       "<div>\n",
       "<style scoped>\n",
       "    .dataframe tbody tr th:only-of-type {\n",
       "        vertical-align: middle;\n",
       "    }\n",
       "\n",
       "    .dataframe tbody tr th {\n",
       "        vertical-align: top;\n",
       "    }\n",
       "\n",
       "    .dataframe thead th {\n",
       "        text-align: right;\n",
       "    }\n",
       "</style>\n",
       "<table border=\"1\" class=\"dataframe\">\n",
       "  <thead>\n",
       "    <tr style=\"text-align: right;\">\n",
       "      <th></th>\n",
       "      <th>이상패턴_10min_횟수</th>\n",
       "      <th>이전일자_1mon_이용거리</th>\n",
       "      <th>고장여부</th>\n",
       "    </tr>\n",
       "  </thead>\n",
       "  <tbody>\n",
       "    <tr>\n",
       "      <th>0</th>\n",
       "      <td>2</td>\n",
       "      <td>98170.92</td>\n",
       "      <td>1</td>\n",
       "    </tr>\n",
       "    <tr>\n",
       "      <th>1</th>\n",
       "      <td>5</td>\n",
       "      <td>231653.56</td>\n",
       "      <td>1</td>\n",
       "    </tr>\n",
       "    <tr>\n",
       "      <th>2</th>\n",
       "      <td>9</td>\n",
       "      <td>335138.54</td>\n",
       "      <td>1</td>\n",
       "    </tr>\n",
       "    <tr>\n",
       "      <th>3</th>\n",
       "      <td>2</td>\n",
       "      <td>291259.65</td>\n",
       "      <td>1</td>\n",
       "    </tr>\n",
       "    <tr>\n",
       "      <th>4</th>\n",
       "      <td>7</td>\n",
       "      <td>253399.66</td>\n",
       "      <td>1</td>\n",
       "    </tr>\n",
       "    <tr>\n",
       "      <th>...</th>\n",
       "      <td>...</td>\n",
       "      <td>...</td>\n",
       "      <td>...</td>\n",
       "    </tr>\n",
       "    <tr>\n",
       "      <th>41891</th>\n",
       "      <td>1</td>\n",
       "      <td>35200.00</td>\n",
       "      <td>0</td>\n",
       "    </tr>\n",
       "    <tr>\n",
       "      <th>41892</th>\n",
       "      <td>7</td>\n",
       "      <td>23153.80</td>\n",
       "      <td>0</td>\n",
       "    </tr>\n",
       "    <tr>\n",
       "      <th>41893</th>\n",
       "      <td>4</td>\n",
       "      <td>60815.51</td>\n",
       "      <td>0</td>\n",
       "    </tr>\n",
       "    <tr>\n",
       "      <th>41894</th>\n",
       "      <td>1</td>\n",
       "      <td>26810.00</td>\n",
       "      <td>0</td>\n",
       "    </tr>\n",
       "    <tr>\n",
       "      <th>41895</th>\n",
       "      <td>3</td>\n",
       "      <td>61996.22</td>\n",
       "      <td>0</td>\n",
       "    </tr>\n",
       "  </tbody>\n",
       "</table>\n",
       "<p>41896 rows × 3 columns</p>\n",
       "</div>"
      ],
      "text/plain": [
       "       이상패턴_10min_횟수  이전일자_1mon_이용거리  고장여부\n",
       "0                  2        98170.92     1\n",
       "1                  5       231653.56     1\n",
       "2                  9       335138.54     1\n",
       "3                  2       291259.65     1\n",
       "4                  7       253399.66     1\n",
       "...              ...             ...   ...\n",
       "41891              1        35200.00     0\n",
       "41892              7        23153.80     0\n",
       "41893              4        60815.51     0\n",
       "41894              1        26810.00     0\n",
       "41895              3        61996.22     0\n",
       "\n",
       "[41896 rows x 3 columns]"
      ]
     },
     "execution_count": 97,
     "metadata": {},
     "output_type": "execute_result"
    }
   ],
   "source": [
    "df_Bike_latest_3[['이상패턴_10min_횟수', '이전일자_1mon_이용거리', '고장여부']]"
   ]
  },
  {
   "cell_type": "code",
   "execution_count": 85,
   "id": "1da726c6-4aca-4036-b8ea-e38bd8b3f108",
   "metadata": {},
   "outputs": [
    {
     "data": {
      "text/plain": [
       "array([[2.0000000e+00, 9.8170920e+04],\n",
       "       [5.0000000e+00, 2.3165356e+05],\n",
       "       [9.0000000e+00, 3.3513854e+05],\n",
       "       ...,\n",
       "       [4.0000000e+00, 6.0815510e+04],\n",
       "       [1.0000000e+00, 2.6810000e+04],\n",
       "       [3.0000000e+00, 6.1996220e+04]])"
      ]
     },
     "execution_count": 85,
     "metadata": {},
     "output_type": "execute_result"
    }
   ],
   "source": [
    "np.array(df_Bike_latest_3[['이상패턴_10min_횟수', '이전일자_1mon_이용거리']]).reshape(-1, 2)"
   ]
  },
  {
   "cell_type": "code",
   "execution_count": 101,
   "id": "46063e06-c8e9-47a4-be62-b468e184d0a0",
   "metadata": {},
   "outputs": [
    {
     "data": {
      "text/plain": [
       "자전거번호             0.000000\n",
       "이전일자_1mon         0.000000\n",
       "이전일자_2mon         0.000000\n",
       "이전일자_3mon         0.000000\n",
       "등록대여일자            0.000000\n",
       "고장구분              0.000000\n",
       "고장여부              0.000000\n",
       "이상패턴_5min_횟수      0.000000\n",
       "이상패턴_7min_횟수      0.000000\n",
       "이상패턴_10min_횟수     0.000000\n",
       "이전일자_1mon_이용거리    0.001432\n",
       "이전일자_1mon_이용시간    0.001432\n",
       "이전일자_1mon_이용횟수    0.001432\n",
       "이전일자_2mon_이용거리    0.001146\n",
       "이전일자_2mon_이용시간    0.001146\n",
       "이전일자_2mon_이용횟수    0.001146\n",
       "이전일자_3mon_이용거리    0.000883\n",
       "이전일자_3mon_이용시간    0.000883\n",
       "이전일자_3mon_이용횟수    0.000883\n",
       "dtype: float64"
      ]
     },
     "execution_count": 101,
     "metadata": {},
     "output_type": "execute_result"
    }
   ],
   "source": [
    "df_Bike_latest_3.isnull().mean()"
   ]
  },
  {
   "cell_type": "code",
   "execution_count": 103,
   "id": "f71ccd4f-8f55-47ac-9e02-fb9c5eb780a4",
   "metadata": {},
   "outputs": [],
   "source": [
    "df_Bike_latest_3_2 = df_Bike_latest_3.dropna()"
   ]
  },
  {
   "cell_type": "code",
   "execution_count": 127,
   "id": "167ca4a4-7d8b-4b21-926b-409405cd2c1c",
   "metadata": {},
   "outputs": [
    {
     "data": {
      "text/plain": [
       "41836"
      ]
     },
     "execution_count": 127,
     "metadata": {},
     "output_type": "execute_result"
    }
   ],
   "source": [
    "df_Bike_latest_3_2.shape[0]"
   ]
  },
  {
   "cell_type": "code",
   "execution_count": 105,
   "id": "a6b6af24-f1bf-4d9a-96ac-108a32e81f76",
   "metadata": {},
   "outputs": [
    {
     "data": {
      "text/plain": [
       "자전거번호             0\n",
       "이전일자_1mon         0\n",
       "이전일자_2mon         0\n",
       "이전일자_3mon         0\n",
       "등록대여일자            0\n",
       "고장구분              0\n",
       "고장여부              0\n",
       "이상패턴_5min_횟수      0\n",
       "이상패턴_7min_횟수      0\n",
       "이상패턴_10min_횟수     0\n",
       "이전일자_1mon_이용거리    0\n",
       "이전일자_1mon_이용시간    0\n",
       "이전일자_1mon_이용횟수    0\n",
       "이전일자_2mon_이용거리    0\n",
       "이전일자_2mon_이용시간    0\n",
       "이전일자_2mon_이용횟수    0\n",
       "이전일자_3mon_이용거리    0\n",
       "이전일자_3mon_이용시간    0\n",
       "이전일자_3mon_이용횟수    0\n",
       "dtype: int64"
      ]
     },
     "execution_count": 105,
     "metadata": {},
     "output_type": "execute_result"
    }
   ],
   "source": [
    "df_Bike_latest_3_2.isnull().sum()"
   ]
  },
  {
   "cell_type": "markdown",
   "id": "1a98d7cc-2b5e-495f-8f43-7c7bf0c483c7",
   "metadata": {},
   "source": [
    "---\n",
    "## 로지스틱회귀 모델링"
   ]
  },
  {
   "cell_type": "code",
   "execution_count": 1118,
   "id": "006defe2-cf6b-481b-abad-ebbd89a7aa6a",
   "metadata": {},
   "outputs": [
    {
     "data": {
      "image/png": "[encoded data removed]",
      "text/plain": [
       "<Figure size 900x900 with 1 Axes>"
      ]
     },
     "metadata": {},
     "output_type": "display_data"
    },
    {
     "name": "stdout",
     "output_type": "stream",
     "text": [
      "테스트 세트 정확도: 0.6818833652007649\n"
     ]
    }
   ],
   "source": [
    "# 한글 폰트 설정 (Windows에서는 'Malgun Gothic' 사용)\n",
    "plt.rcParams['font.family'] = 'Malgun Gothic'\n",
    "# 마이너스 기호 깨짐 방지\n",
    "plt.rcParams['axes.unicode_minus'] = False\n",
    "\n",
    "import numpy as np\n",
    "import pandas as pd\n",
    "from sklearn.model_selection import train_test_split\n",
    "from sklearn.linear_model import LogisticRegression\n",
    "import matplotlib.pyplot as plt\n",
    "\n",
    "# '이전일자_1mon_이용거리', '이전일자_1mon_이용시간', '이전일자_1mon_이용횟수'\n",
    "X = np.array(df_Bike_latest_3_2[['이상패턴_5min_횟수', '이전일자_1mon_이용횟수']]).reshape(-1, 2)\n",
    "y = np.array(df_Bike_latest_3_2['고장여부'])\n",
    "\n",
    "# 데이터셋을 학습 세트와 테스트 세트로 분리\n",
    "X_train, X_test, y_train, y_test = train_test_split(X, y, test_size=0.2, random_state=444, stratify=y)\n",
    "\n",
    "# 로지스틱 회귀 모델 생성 및 학습\n",
    "model = LogisticRegression()\n",
    "model.fit(X_train, y_train)\n",
    "\n",
    "# 테스트 세트에 대한 예측\n",
    "y_pred = model.predict(X_test)\n",
    "y_prob = model.predict_proba(X_test)[:, 1]\n",
    "\n",
    "# 결과 시각화\n",
    "plt.scatter(X_test[:, 1], y_test, color='blue', label='Actual')\n",
    "plt.scatter(X_test[:, 1], y_pred, color='red', label='Predicted')\n",
    "plt.xlabel('고장횟수')\n",
    "plt.ylabel('고장여부')\n",
    "plt.title('고장횟수에 따른 고장여부 예측')\n",
    "plt.legend()\n",
    "plt.show()\n",
    "\n",
    "# 모델 평가\n",
    "print('테스트 세트 정확도:', model.score(X_test, y_test))"
   ]
  },
  {
   "cell_type": "code",
   "execution_count": 1120,
   "id": "5bdb6ce4-79db-4a0d-9470-88057bcfec5e",
   "metadata": {},
   "outputs": [
    {
     "name": "stdout",
     "output_type": "stream",
     "text": [
      "회귀 계수: [[0.12438154 0.00147889]]\n",
      "절편: [0.17996767]\n"
     ]
    }
   ],
   "source": [
    "# 회귀 계수 출력\n",
    "print('회귀 계수:', model.coef_)\n",
    "print('절편:', model.intercept_)"
   ]
  },
  {
   "cell_type": "markdown",
   "id": "9839e252-917d-4e26-98da-9742e9ceb2d2",
   "metadata": {},
   "source": [
    "### [ 이상패턴 횟수 == 0 ] 것들의 고장여부 비율"
   ]
  },
  {
   "cell_type": "code",
   "execution_count": 972,
   "id": "c1a41a0f-8a72-49f6-a366-4f2ee782a0ce",
   "metadata": {},
   "outputs": [
    {
     "name": "stdout",
     "output_type": "stream",
     "text": [
      "total : 1056\n",
      "counts : 고장여부\n",
      "0    585\n",
      "1    471\n",
      "Name: count, dtype: int64\n",
      "percentage : 고장여부\n",
      "0    55.397727\n",
      "1    44.602273\n",
      "Name: count, dtype: float64\n"
     ]
    }
   ],
   "source": [
    "counts = df_Bike_latest_2[df_Bike_latest_2['이상패턴_5min_횟수'] == 0]['고장여부'].value_counts()\n",
    "total = counts.sum()   # 총 데이터 개수\n",
    "percentage = counts / total * 100   # 비율 계산\n",
    "print(f'total : {total}')\n",
    "print(f'counts : {counts}')\n",
    "print(f'percentage : {percentage}')"
   ]
  },
  {
   "cell_type": "code",
   "execution_count": null,
   "id": "b75db68d-2f19-4d4e-b191-8c811fa896ab",
   "metadata": {},
   "outputs": [],
   "source": []
  }
 ],
 "metadata": {
  "kernelspec": {
   "display_name": "Python 3 (ipykernel)",
   "language": "python",
   "name": "python3"
  },
  "language_info": {
   "codemirror_mode": {
    "name": "ipython",
    "version": 3
   },
   "file_extension": ".py",
   "mimetype": "text/x-python",
   "name": "python",
   "nbconvert_exporter": "python",
   "pygments_lexer": "ipython3",
   "version": "3.12.4"
  }
 },
 "nbformat": 4,
 "nbformat_minor": 5
}
