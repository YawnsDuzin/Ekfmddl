{
 "cells": [
  {
   "cell_type": "markdown",
   "metadata": {},
   "source": [
    "1. 자전거의 평균 운행속도가 높은 경우 자전거에 부하가 많이 걸려서 고장확률이 높을 것이다.\n",
    "2. 자전거의 평균 운행속도가 높게 운행된 자전거들의 고장 부위는 특정될 것이다.\n",
    "(or 평균 운행속도가 높을수록 고장률이 높을 것이다.)"
   ]
  },
  {
   "cell_type": "code",
   "execution_count": 1,
   "metadata": {},
   "outputs": [],
   "source": [
    "# 라이브러리 임포트\n",
    "import os\n",
    "import pandas as pd\n",
    "import chardet\n",
    "\n",
    "# 사용자 정의함수 경로 설정\n",
    "import sys\n",
    "sys.path.append(\"G:/내 드라이브/Source/_Custom_Function\")\n",
    "# 사용자 정의함수 불러오기\n",
    "\n",
    "import time\n",
    "\n",
    "import ExcelFile_Merge as em\n",
    "import ExcelFile_Read as er\n",
    "import ExcelFile_EDA as ee"
   ]
  },
  {
   "cell_type": "code",
   "execution_count": 2,
   "metadata": {},
   "outputs": [],
   "source": [
    "import matplotlib.pyplot as plt\n",
    "import matplotlib.font_manager as fm\n",
    "\n",
    "# 한글 폰트 경로 설정 (Windows 기준)\n",
    "font_path = 'C:/Windows/Fonts/malgun.ttf'  # 맑은 고딕 폰트 사용\n",
    "font_prop = fm.FontProperties(fname=font_path)\n",
    "\n",
    "# matplotlib 폰트 설정\n",
    "plt.rcParams['font.family'] = font_prop.get_name()\n",
    "plt.rcParams['axes.unicode_minus'] = False  # 마이너스 기호 깨짐 방지"
   ]
  },
  {
   "cell_type": "markdown",
   "metadata": {},
   "source": [
    "---\n",
    "## 고장 신고 데이터"
   ]
  },
  {
   "cell_type": "code",
   "execution_count": 4,
   "metadata": {},
   "outputs": [],
   "source": [
    "file_path_faults = r'G:\\내 드라이브\\DataSet\\_최종 병합 파일\\서울시 공공자전거 고장신고 내역_15-24.06.parquet'\n",
    "data_faults = pd.read_parquet(file_path_faults)"
   ]
  },
  {
   "cell_type": "code",
   "execution_count": 8,
   "metadata": {},
   "outputs": [
    {
     "data": {
      "text/plain": [
       "767715"
      ]
     },
     "execution_count": 8,
     "metadata": {},
     "output_type": "execute_result"
    }
   ],
   "source": [
    "data_faults.shape[0]"
   ]
  },
  {
   "cell_type": "code",
   "execution_count": 10,
   "metadata": {},
   "outputs": [
    {
     "data": {
      "text/html": [
       "<div>\n",
       "<style scoped>\n",
       "    .dataframe tbody tr th:only-of-type {\n",
       "        vertical-align: middle;\n",
       "    }\n",
       "\n",
       "    .dataframe tbody tr th {\n",
       "        vertical-align: top;\n",
       "    }\n",
       "\n",
       "    .dataframe thead th {\n",
       "        text-align: right;\n",
       "    }\n",
       "</style>\n",
       "<table border=\"1\" class=\"dataframe\">\n",
       "  <thead>\n",
       "    <tr style=\"text-align: right;\">\n",
       "      <th></th>\n",
       "      <th>자전거번호</th>\n",
       "      <th>고장구분</th>\n",
       "      <th>등록일자</th>\n",
       "      <th>등록시간</th>\n",
       "    </tr>\n",
       "  </thead>\n",
       "  <tbody>\n",
       "    <tr>\n",
       "      <th>0</th>\n",
       "      <td>SPB-00108</td>\n",
       "      <td>체인</td>\n",
       "      <td>2015-12-04</td>\n",
       "      <td>07:41:01</td>\n",
       "    </tr>\n",
       "    <tr>\n",
       "      <th>1</th>\n",
       "      <td>SPB-00210</td>\n",
       "      <td>체인</td>\n",
       "      <td>2015-12-07</td>\n",
       "      <td>12:23:33</td>\n",
       "    </tr>\n",
       "  </tbody>\n",
       "</table>\n",
       "</div>"
      ],
      "text/plain": [
       "       자전거번호 고장구분        등록일자      등록시간\n",
       "0  SPB-00108   체인  2015-12-04  07:41:01\n",
       "1  SPB-00210   체인  2015-12-07  12:23:33"
      ]
     },
     "execution_count": 10,
     "metadata": {},
     "output_type": "execute_result"
    }
   ],
   "source": [
    "data_faults.head(2)"
   ]
  },
  {
   "cell_type": "code",
   "execution_count": 12,
   "metadata": {},
   "outputs": [],
   "source": [
    "# 등록일자에서 년/월/일 추출하여 새로운 열 생성\n",
    "data_faults['년'] = data_faults['등록일자'].astype(str).str[0:4]\n",
    "data_faults['월'] = data_faults['등록일자'].astype(str).str[5:7]\n",
    "data_faults['일'] = data_faults['등록일자'].astype(str).str[8:10]"
   ]
  },
  {
   "cell_type": "code",
   "execution_count": 14,
   "metadata": {},
   "outputs": [
    {
     "data": {
      "text/html": [
       "<div>\n",
       "<style scoped>\n",
       "    .dataframe tbody tr th:only-of-type {\n",
       "        vertical-align: middle;\n",
       "    }\n",
       "\n",
       "    .dataframe tbody tr th {\n",
       "        vertical-align: top;\n",
       "    }\n",
       "\n",
       "    .dataframe thead th {\n",
       "        text-align: right;\n",
       "    }\n",
       "</style>\n",
       "<table border=\"1\" class=\"dataframe\">\n",
       "  <thead>\n",
       "    <tr style=\"text-align: right;\">\n",
       "      <th></th>\n",
       "      <th>자전거번호</th>\n",
       "      <th>고장구분</th>\n",
       "      <th>등록일자</th>\n",
       "      <th>등록시간</th>\n",
       "      <th>년</th>\n",
       "      <th>월</th>\n",
       "      <th>일</th>\n",
       "    </tr>\n",
       "  </thead>\n",
       "  <tbody>\n",
       "    <tr>\n",
       "      <th>0</th>\n",
       "      <td>SPB-00108</td>\n",
       "      <td>체인</td>\n",
       "      <td>2015-12-04</td>\n",
       "      <td>07:41:01</td>\n",
       "      <td>2015</td>\n",
       "      <td>12</td>\n",
       "      <td>04</td>\n",
       "    </tr>\n",
       "    <tr>\n",
       "      <th>1</th>\n",
       "      <td>SPB-00210</td>\n",
       "      <td>체인</td>\n",
       "      <td>2015-12-07</td>\n",
       "      <td>12:23:33</td>\n",
       "      <td>2015</td>\n",
       "      <td>12</td>\n",
       "      <td>07</td>\n",
       "    </tr>\n",
       "    <tr>\n",
       "      <th>2</th>\n",
       "      <td>SPB-00035</td>\n",
       "      <td>기타</td>\n",
       "      <td>2015-12-09</td>\n",
       "      <td>17:07:00</td>\n",
       "      <td>2015</td>\n",
       "      <td>12</td>\n",
       "      <td>09</td>\n",
       "    </tr>\n",
       "  </tbody>\n",
       "</table>\n",
       "</div>"
      ],
      "text/plain": [
       "       자전거번호 고장구분        등록일자      등록시간     년   월   일\n",
       "0  SPB-00108   체인  2015-12-04  07:41:01  2015  12  04\n",
       "1  SPB-00210   체인  2015-12-07  12:23:33  2015  12  07\n",
       "2  SPB-00035  기타   2015-12-09  17:07:00  2015  12  09"
      ]
     },
     "execution_count": 14,
     "metadata": {},
     "output_type": "execute_result"
    }
   ],
   "source": [
    "data_faults.head(3)"
   ]
  },
  {
   "cell_type": "code",
   "execution_count": 16,
   "metadata": {},
   "outputs": [
    {
     "name": "stdout",
     "output_type": "stream",
     "text": [
      "<class 'pandas.core.frame.DataFrame'>\n",
      "RangeIndex: 767715 entries, 0 to 767714\n",
      "Data columns (total 7 columns):\n",
      " #   Column  Non-Null Count   Dtype \n",
      "---  ------  --------------   ----- \n",
      " 0   자전거번호   767715 non-null  string\n",
      " 1   고장구분    767715 non-null  string\n",
      " 2   등록일자    767715 non-null  string\n",
      " 3   등록시간    618185 non-null  string\n",
      " 4   년       767715 non-null  object\n",
      " 5   월       767715 non-null  object\n",
      " 6   일       767715 non-null  object\n",
      "dtypes: object(3), string(4)\n",
      "memory usage: 41.0+ MB\n"
     ]
    }
   ],
   "source": [
    "data_faults.info()"
   ]
  },
  {
   "cell_type": "markdown",
   "metadata": {},
   "source": [
    "### 고장내역 2020 ~ 2024만 가져오기"
   ]
  },
  {
   "cell_type": "code",
   "execution_count": 19,
   "metadata": {},
   "outputs": [],
   "source": [
    "data_faults = data_faults[data_faults['년'].between('2020', '2024')]"
   ]
  },
  {
   "cell_type": "code",
   "execution_count": 21,
   "metadata": {},
   "outputs": [
    {
     "data": {
      "text/plain": [
       "649426"
      ]
     },
     "execution_count": 21,
     "metadata": {},
     "output_type": "execute_result"
    }
   ],
   "source": [
    "data_faults.shape[0]"
   ]
  },
  {
   "cell_type": "markdown",
   "metadata": {},
   "source": [
    "### 결측치 확인 (고장내역)"
   ]
  },
  {
   "cell_type": "code",
   "execution_count": 24,
   "metadata": {},
   "outputs": [
    {
     "data": {
      "text/plain": [
       "<Axes: >"
      ]
     },
     "execution_count": 24,
     "metadata": {},
     "output_type": "execute_result"
    },
    {
     "data": {
      "image/png": "[encoded data removed]",
      "text/plain": [
       "<Figure size 2500x1000 with 3 Axes>"
      ]
     },
     "metadata": {},
     "output_type": "display_data"
    }
   ],
   "source": [
    "import missingno as msno\n",
    "#msno.matrix(data_faults)\n",
    "msno.bar(data_faults)\n",
    "#msno.heatmap(data_faults)\n",
    "#msno.dendrogram(data_faults)"
   ]
  },
  {
   "cell_type": "code",
   "execution_count": 26,
   "metadata": {},
   "outputs": [
    {
     "data": {
      "text/html": [
       "<div>\n",
       "<style scoped>\n",
       "    .dataframe tbody tr th:only-of-type {\n",
       "        vertical-align: middle;\n",
       "    }\n",
       "\n",
       "    .dataframe tbody tr th {\n",
       "        vertical-align: top;\n",
       "    }\n",
       "\n",
       "    .dataframe thead th {\n",
       "        text-align: right;\n",
       "    }\n",
       "</style>\n",
       "<table border=\"1\" class=\"dataframe\">\n",
       "  <thead>\n",
       "    <tr style=\"text-align: right;\">\n",
       "      <th></th>\n",
       "      <th>자전거번호</th>\n",
       "      <th>고장구분</th>\n",
       "      <th>등록일자</th>\n",
       "      <th>등록시간</th>\n",
       "      <th>년</th>\n",
       "      <th>월</th>\n",
       "      <th>일</th>\n",
       "    </tr>\n",
       "  </thead>\n",
       "  <tbody>\n",
       "    <tr>\n",
       "      <th>118289</th>\n",
       "      <td>SPB-22497</td>\n",
       "      <td>타이어</td>\n",
       "      <td>2020-01-01</td>\n",
       "      <td>00:05:59</td>\n",
       "      <td>2020</td>\n",
       "      <td>01</td>\n",
       "      <td>01</td>\n",
       "    </tr>\n",
       "    <tr>\n",
       "      <th>118290</th>\n",
       "      <td>SPB-22497</td>\n",
       "      <td>체인</td>\n",
       "      <td>2020-01-01</td>\n",
       "      <td>00:05:59</td>\n",
       "      <td>2020</td>\n",
       "      <td>01</td>\n",
       "      <td>01</td>\n",
       "    </tr>\n",
       "    <tr>\n",
       "      <th>118291</th>\n",
       "      <td>SPB-21107</td>\n",
       "      <td>단말기</td>\n",
       "      <td>2020-01-01</td>\n",
       "      <td>00:08:22</td>\n",
       "      <td>2020</td>\n",
       "      <td>01</td>\n",
       "      <td>01</td>\n",
       "    </tr>\n",
       "  </tbody>\n",
       "</table>\n",
       "</div>"
      ],
      "text/plain": [
       "            자전거번호  고장구분        등록일자      등록시간     년   월   일\n",
       "118289  SPB-22497  타이어   2020-01-01  00:05:59  2020  01  01\n",
       "118290  SPB-22497    체인  2020-01-01  00:05:59  2020  01  01\n",
       "118291  SPB-21107   단말기  2020-01-01  00:08:22  2020  01  01"
      ]
     },
     "execution_count": 26,
     "metadata": {},
     "output_type": "execute_result"
    }
   ],
   "source": [
    "data_faults.head(3)"
   ]
  },
  {
   "cell_type": "markdown",
   "metadata": {},
   "source": [
    "### 고장구분 별 비율"
   ]
  },
  {
   "cell_type": "code",
   "execution_count": 29,
   "metadata": {},
   "outputs": [
    {
     "name": "stdout",
     "output_type": "stream",
     "text": [
      "고장구분\n",
      "기타      0.285688\n",
      "단말기     0.068453\n",
      "안장      0.176294\n",
      "체인       0.19915\n",
      "타이어     0.175754\n",
      "페달      0.094662\n",
      "Name: proportion, dtype: Float64\n"
     ]
    }
   ],
   "source": [
    "gb_percentage = data_faults['고장구분'].value_counts(normalize=True)\n",
    "print(gb_percentage.sort_index(ascending=True))"
   ]
  },
  {
   "cell_type": "code",
   "execution_count": 33,
   "metadata": {},
   "outputs": [],
   "source": [
    "import matplotlib.pyplot as plt\n",
    "import seaborn as sns\n",
    "\n",
    "# 한글 폰트 설정 (Windows에서는 'Malgun Gothic' 사용)\n",
    "plt.rcParams['font.family'] = 'Malgun Gothic'\n",
    "# 마이너스 기호 깨짐 방지\n",
    "plt.rcParams['axes.unicode_minus'] = False"
   ]
  },
  {
   "cell_type": "markdown",
   "metadata": {},
   "source": [
    "---\n",
    "### 고장구분 별 고장 비율"
   ]
  },
  {
   "cell_type": "code",
   "execution_count": 41,
   "metadata": {},
   "outputs": [
    {
     "data": {
      "image/png": "[encoded data removed]",
      "text/plain": [
       "<Figure size 800x800 with 2 Axes>"
      ]
     },
     "metadata": {},
     "output_type": "display_data"
    }
   ],
   "source": [
    "plt.figure(figsize=(12, 6))\n",
    "\n",
    "plt.subplot(1, 2, 1)\n",
    "gb_percentage.sort_values(ascending=False).plot(kind='bar', figsize=(10, 6))\n",
    "plt.title('고장구분 별 고장 비율')\n",
    "plt.xlabel('고장구분')\n",
    "plt.ylabel('고장 비율 (%)')\n",
    "plt.xticks(rotation=45)\n",
    "\n",
    "plt.subplot(1, 2, 2)\n",
    "gb_percentage.plot(kind='pie', autopct='%1.1f%%', figsize=(8, 8))\n",
    "plt.title('고장구분 별 고장 비율 분포')\n",
    "plt.ylabel('')\n",
    "\n",
    "plt.show()\n"
   ]
  },
  {
   "cell_type": "markdown",
   "metadata": {},
   "source": [
    "---\n",
    "### 년/월/일 별 고장비율"
   ]
  },
  {
   "cell_type": "markdown",
   "metadata": {},
   "source": [
    "#### 년별 고장비율"
   ]
  },
  {
   "cell_type": "code",
   "execution_count": 53,
   "metadata": {},
   "outputs": [
    {
     "name": "stdout",
     "output_type": "stream",
     "text": [
      "년\n",
      "2020    10.569795\n",
      "2021    23.241755\n",
      "2022    27.789463\n",
      "2023    26.625050\n",
      "2024    11.773936\n",
      "Name: proportion, dtype: float64\n"
     ]
    }
   ],
   "source": [
    "yearly_percentage = data_faults['년'].value_counts(normalize=True) * 100\n",
    "print(yearly_percentage.sort_index(ascending=True))"
   ]
  },
  {
   "cell_type": "markdown",
   "metadata": {},
   "source": [
    "#### 월별 고장비율"
   ]
  },
  {
   "cell_type": "code",
   "execution_count": 63,
   "metadata": {},
   "outputs": [
    {
     "name": "stdout",
     "output_type": "stream",
     "text": [
      "월\n",
      "01     4.079911\n",
      "02     3.707582\n",
      "03     7.404847\n",
      "04    11.333855\n",
      "05    12.279459\n",
      "06    12.049256\n",
      "07     8.951289\n",
      "08     8.709845\n",
      "09    10.140801\n",
      "10    10.219178\n",
      "11     6.744417\n",
      "12     4.379560\n",
      "Name: proportion, dtype: float64\n"
     ]
    }
   ],
   "source": [
    "month_percentage = data_faults['월'].value_counts(normalize=True) * 100\n",
    "month_percentage = month_percentage.sort_index(ascending=True)\n",
    "print(month_percentage)"
   ]
  },
  {
   "cell_type": "markdown",
   "metadata": {},
   "source": [
    "#### 일별 고장비율"
   ]
  },
  {
   "cell_type": "code",
   "execution_count": 57,
   "metadata": {},
   "outputs": [
    {
     "name": "stdout",
     "output_type": "stream",
     "text": [
      "일\n",
      "01    3.375904\n",
      "02    3.470911\n",
      "03    3.252719\n",
      "04    3.140004\n",
      "05    3.138618\n",
      "06    3.091037\n",
      "07    3.271966\n",
      "08    3.274430\n",
      "09    3.145547\n",
      "10    3.120910\n",
      "11    3.320625\n",
      "12    3.354193\n",
      "13    3.334637\n",
      "14    3.592711\n",
      "15    3.093039\n",
      "16    3.494932\n",
      "17    3.556371\n",
      "18    3.433186\n",
      "19    3.365126\n",
      "20    3.335253\n",
      "21    3.261034\n",
      "22    3.370361\n",
      "23    3.149705\n",
      "24    3.447044\n",
      "25    3.330634\n",
      "26    3.297065\n",
      "27    3.380832\n",
      "28    3.187738\n",
      "29    2.792620\n",
      "30    2.786461\n",
      "31    1.834389\n",
      "Name: proportion, dtype: float64\n"
     ]
    }
   ],
   "source": [
    "day_percentage = data_faults['일'].value_counts(normalize=True) * 100\n",
    "day_percentage = day_percentage.sort_index(ascending=True)\n",
    "print(day_percentage)"
   ]
  },
  {
   "cell_type": "code",
   "execution_count": 65,
   "metadata": {},
   "outputs": [
    {
     "data": {
      "image/png": "[encoded data removed]",
      "text/plain": [
       "<Figure size 1000x600 with 3 Axes>"
      ]
     },
     "metadata": {},
     "output_type": "display_data"
    }
   ],
   "source": [
    "plt.figure(figsize=(12, 6))\n",
    "\n",
    "# 년도별 고장비율\n",
    "plt.subplot(1, 3, 1)\n",
    "yearly_percentage.sort_index(ascending=True).plot(kind='bar', figsize=(10, 6))\n",
    "plt.title('년별 고장 비율')\n",
    "plt.xlabel('년도')\n",
    "plt.ylabel('고장 비율 (%)')\n",
    "plt.xticks(rotation=45)\n",
    "\n",
    "# 월별 고장비율\n",
    "plt.subplot(1, 3, 2)\n",
    "sns.lineplot(x=month_percentage.index, y=month_percentage.values)\n",
    "plt.title('월별 고장 비율 변화')\n",
    "plt.xlabel('월')\n",
    "plt.ylabel('고장 비율 (%)')\n",
    "plt.xticks(rotation=45)\n",
    "\n",
    "# 일별 고장비율\n",
    "plt.subplot(1, 3, 3)\n",
    "day_percentage.sort_index(ascending=True).plot(kind='bar', figsize=(10, 6))\n",
    "plt.title('일별 고장 비율')\n",
    "plt.xlabel('일')\n",
    "plt.ylabel('고장 비율 (%)')\n",
    "plt.xticks(rotation=45)\n",
    "\n",
    "plt.show()"
   ]
  },
  {
   "cell_type": "markdown",
   "metadata": {},
   "source": [
    "### 자전거 별 신고횟수 확인"
   ]
  },
  {
   "cell_type": "code",
   "execution_count": 909,
   "metadata": {},
   "outputs": [
    {
     "data": {
      "text/html": [
       "<div>\n",
       "<style scoped>\n",
       "    .dataframe tbody tr th:only-of-type {\n",
       "        vertical-align: middle;\n",
       "    }\n",
       "\n",
       "    .dataframe tbody tr th {\n",
       "        vertical-align: top;\n",
       "    }\n",
       "\n",
       "    .dataframe thead th {\n",
       "        text-align: right;\n",
       "    }\n",
       "</style>\n",
       "<table border=\"1\" class=\"dataframe\">\n",
       "  <thead>\n",
       "    <tr style=\"text-align: right;\">\n",
       "      <th></th>\n",
       "      <th>신고횟수</th>\n",
       "      <th>신고횟수_합계</th>\n",
       "    </tr>\n",
       "  </thead>\n",
       "  <tbody>\n",
       "    <tr>\n",
       "      <th>0</th>\n",
       "      <td>1</td>\n",
       "      <td>5893</td>\n",
       "    </tr>\n",
       "    <tr>\n",
       "      <th>1</th>\n",
       "      <td>2</td>\n",
       "      <td>4686</td>\n",
       "    </tr>\n",
       "    <tr>\n",
       "      <th>2</th>\n",
       "      <td>3</td>\n",
       "      <td>3698</td>\n",
       "    </tr>\n",
       "    <tr>\n",
       "      <th>3</th>\n",
       "      <td>4</td>\n",
       "      <td>2929</td>\n",
       "    </tr>\n",
       "    <tr>\n",
       "      <th>4</th>\n",
       "      <td>5</td>\n",
       "      <td>2361</td>\n",
       "    </tr>\n",
       "    <tr>\n",
       "      <th>...</th>\n",
       "      <td>...</td>\n",
       "      <td>...</td>\n",
       "    </tr>\n",
       "    <tr>\n",
       "      <th>74</th>\n",
       "      <td>80</td>\n",
       "      <td>1</td>\n",
       "    </tr>\n",
       "    <tr>\n",
       "      <th>75</th>\n",
       "      <td>82</td>\n",
       "      <td>1</td>\n",
       "    </tr>\n",
       "    <tr>\n",
       "      <th>76</th>\n",
       "      <td>86</td>\n",
       "      <td>1</td>\n",
       "    </tr>\n",
       "    <tr>\n",
       "      <th>77</th>\n",
       "      <td>94</td>\n",
       "      <td>1</td>\n",
       "    </tr>\n",
       "    <tr>\n",
       "      <th>78</th>\n",
       "      <td>99</td>\n",
       "      <td>1</td>\n",
       "    </tr>\n",
       "  </tbody>\n",
       "</table>\n",
       "<p>79 rows × 2 columns</p>\n",
       "</div>"
      ],
      "text/plain": [
       "    신고횟수  신고횟수_합계\n",
       "0      1     5893\n",
       "1      2     4686\n",
       "2      3     3698\n",
       "3      4     2929\n",
       "4      5     2361\n",
       "..   ...      ...\n",
       "74    80        1\n",
       "75    82        1\n",
       "76    86        1\n",
       "77    94        1\n",
       "78    99        1\n",
       "\n",
       "[79 rows x 2 columns]"
      ]
     },
     "execution_count": 909,
     "metadata": {},
     "output_type": "execute_result"
    }
   ],
   "source": [
    "data_faults_vc = data_faults['자전거번호'].value_counts().reset_index()\n",
    "data_faults_vc = data_faults_vc.groupby('count').count().reset_index()\n",
    "data_faults_vc.columns = ['신고횟수', '신고횟수_합계']\n",
    "data_faults_vc"
   ]
  },
  {
   "cell_type": "code",
   "execution_count": 911,
   "metadata": {},
   "outputs": [
    {
     "data": {
      "text/html": [
       "<div>\n",
       "<style scoped>\n",
       "    .dataframe tbody tr th:only-of-type {\n",
       "        vertical-align: middle;\n",
       "    }\n",
       "\n",
       "    .dataframe tbody tr th {\n",
       "        vertical-align: top;\n",
       "    }\n",
       "\n",
       "    .dataframe thead th {\n",
       "        text-align: right;\n",
       "    }\n",
       "</style>\n",
       "<table border=\"1\" class=\"dataframe\">\n",
       "  <thead>\n",
       "    <tr style=\"text-align: right;\">\n",
       "      <th></th>\n",
       "      <th>신고횟수</th>\n",
       "      <th>신고횟수_합계</th>\n",
       "    </tr>\n",
       "  </thead>\n",
       "  <tbody>\n",
       "    <tr>\n",
       "      <th>count</th>\n",
       "      <td>79.0</td>\n",
       "      <td>79.000000</td>\n",
       "    </tr>\n",
       "    <tr>\n",
       "      <th>mean</th>\n",
       "      <td>41.050633</td>\n",
       "      <td>719.240506</td>\n",
       "    </tr>\n",
       "    <tr>\n",
       "      <th>std</th>\n",
       "      <td>24.737545</td>\n",
       "      <td>1150.677395</td>\n",
       "    </tr>\n",
       "    <tr>\n",
       "      <th>min</th>\n",
       "      <td>1.0</td>\n",
       "      <td>1.000000</td>\n",
       "    </tr>\n",
       "    <tr>\n",
       "      <th>25%</th>\n",
       "      <td>20.5</td>\n",
       "      <td>3.500000</td>\n",
       "    </tr>\n",
       "    <tr>\n",
       "      <th>50%</th>\n",
       "      <td>40.0</td>\n",
       "      <td>61.000000</td>\n",
       "    </tr>\n",
       "    <tr>\n",
       "      <th>75%</th>\n",
       "      <td>59.5</td>\n",
       "      <td>1257.500000</td>\n",
       "    </tr>\n",
       "    <tr>\n",
       "      <th>max</th>\n",
       "      <td>99.0</td>\n",
       "      <td>5893.000000</td>\n",
       "    </tr>\n",
       "  </tbody>\n",
       "</table>\n",
       "</div>"
      ],
      "text/plain": [
       "            신고횟수      신고횟수_합계\n",
       "count       79.0    79.000000\n",
       "mean   41.050633   719.240506\n",
       "std    24.737545  1150.677395\n",
       "min          1.0     1.000000\n",
       "25%         20.5     3.500000\n",
       "50%         40.0    61.000000\n",
       "75%         59.5  1257.500000\n",
       "max         99.0  5893.000000"
      ]
     },
     "execution_count": 911,
     "metadata": {},
     "output_type": "execute_result"
    }
   ],
   "source": [
    "data_faults_vc.describe()"
   ]
  },
  {
   "cell_type": "code",
   "execution_count": 913,
   "metadata": {},
   "outputs": [
    {
     "data": {
      "image/png": "[encoded data removed]",
      "text/plain": [
       "<Figure size 640x480 with 1 Axes>"
      ]
     },
     "metadata": {},
     "output_type": "display_data"
    }
   ],
   "source": [
    "import seaborn as sns\n",
    "\n",
    "sns.lineplot(x=data_faults_vc.신고횟수, y=data_faults_vc.신고횟수_합계)\n",
    "plt.title('자전거 별 신고횟수')\n",
    "plt.xlabel('신고횟수')\n",
    "plt.ylabel('신고횟수_합계')\n",
    "plt.xticks(rotation=45)\n",
    "plt.show()"
   ]
  },
  {
   "cell_type": "markdown",
   "metadata": {},
   "source": [
    "---\n",
    "### 1번 고장난 자전거 가져오기"
   ]
  },
  {
   "cell_type": "code",
   "execution_count": 9,
   "metadata": {},
   "outputs": [
    {
     "data": {
      "text/html": [
       "<div>\n",
       "<style scoped>\n",
       "    .dataframe tbody tr th:only-of-type {\n",
       "        vertical-align: middle;\n",
       "    }\n",
       "\n",
       "    .dataframe tbody tr th {\n",
       "        vertical-align: top;\n",
       "    }\n",
       "\n",
       "    .dataframe thead th {\n",
       "        text-align: right;\n",
       "    }\n",
       "</style>\n",
       "<table border=\"1\" class=\"dataframe\">\n",
       "  <thead>\n",
       "    <tr style=\"text-align: right;\">\n",
       "      <th></th>\n",
       "      <th>자전거번호</th>\n",
       "      <th>count</th>\n",
       "    </tr>\n",
       "  </thead>\n",
       "  <tbody>\n",
       "    <tr>\n",
       "      <th>0</th>\n",
       "      <td>SPB-83288</td>\n",
       "      <td>1</td>\n",
       "    </tr>\n",
       "    <tr>\n",
       "      <th>1</th>\n",
       "      <td>SPB-83276</td>\n",
       "      <td>1</td>\n",
       "    </tr>\n",
       "    <tr>\n",
       "      <th>2</th>\n",
       "      <td>SPB-69937</td>\n",
       "      <td>1</td>\n",
       "    </tr>\n",
       "    <tr>\n",
       "      <th>3</th>\n",
       "      <td>SPB-82169</td>\n",
       "      <td>1</td>\n",
       "    </tr>\n",
       "    <tr>\n",
       "      <th>4</th>\n",
       "      <td>SPB-84731</td>\n",
       "      <td>1</td>\n",
       "    </tr>\n",
       "    <tr>\n",
       "      <th>...</th>\n",
       "      <td>...</td>\n",
       "      <td>...</td>\n",
       "    </tr>\n",
       "    <tr>\n",
       "      <th>3223</th>\n",
       "      <td>SPB-84811</td>\n",
       "      <td>1</td>\n",
       "    </tr>\n",
       "    <tr>\n",
       "      <th>3224</th>\n",
       "      <td>SPB-69952</td>\n",
       "      <td>1</td>\n",
       "    </tr>\n",
       "    <tr>\n",
       "      <th>3225</th>\n",
       "      <td>SPB-59707</td>\n",
       "      <td>1</td>\n",
       "    </tr>\n",
       "    <tr>\n",
       "      <th>3226</th>\n",
       "      <td>SPB-24056</td>\n",
       "      <td>1</td>\n",
       "    </tr>\n",
       "    <tr>\n",
       "      <th>3227</th>\n",
       "      <td>SPB-01411</td>\n",
       "      <td>1</td>\n",
       "    </tr>\n",
       "  </tbody>\n",
       "</table>\n",
       "<p>3228 rows × 2 columns</p>\n",
       "</div>"
      ],
      "text/plain": [
       "          자전거번호  count\n",
       "0     SPB-83288      1\n",
       "1     SPB-83276      1\n",
       "2     SPB-69937      1\n",
       "3     SPB-82169      1\n",
       "4     SPB-84731      1\n",
       "...         ...    ...\n",
       "3223  SPB-84811      1\n",
       "3224  SPB-69952      1\n",
       "3225  SPB-59707      1\n",
       "3226  SPB-24056      1\n",
       "3227  SPB-01411      1\n",
       "\n",
       "[3228 rows x 2 columns]"
      ]
     },
     "execution_count": 9,
     "metadata": {},
     "output_type": "execute_result"
    }
   ],
   "source": [
    "bike_faults_1 = data_faults['자전거번호'].value_counts()[data_faults['자전거번호'].value_counts() == 1].reset_index()\n",
    "bike_faults_1"
   ]
  },
  {
   "cell_type": "code",
   "execution_count": 10,
   "metadata": {},
   "outputs": [
    {
     "data": {
      "text/html": [
       "<div>\n",
       "<style scoped>\n",
       "    .dataframe tbody tr th:only-of-type {\n",
       "        vertical-align: middle;\n",
       "    }\n",
       "\n",
       "    .dataframe tbody tr th {\n",
       "        vertical-align: top;\n",
       "    }\n",
       "\n",
       "    .dataframe thead th {\n",
       "        text-align: right;\n",
       "    }\n",
       "</style>\n",
       "<table border=\"1\" class=\"dataframe\">\n",
       "  <thead>\n",
       "    <tr style=\"text-align: right;\">\n",
       "      <th></th>\n",
       "      <th>자전거번호</th>\n",
       "      <th>고장구분</th>\n",
       "      <th>등록일자</th>\n",
       "      <th>등록시간</th>\n",
       "    </tr>\n",
       "  </thead>\n",
       "  <tbody>\n",
       "    <tr>\n",
       "      <th>9</th>\n",
       "      <td>SPB-00688</td>\n",
       "      <td>기타</td>\n",
       "      <td>2016-01-23</td>\n",
       "      <td>18:18:58</td>\n",
       "    </tr>\n",
       "    <tr>\n",
       "      <th>12</th>\n",
       "      <td>SPB-00181</td>\n",
       "      <td>단말기</td>\n",
       "      <td>2016-01-30</td>\n",
       "      <td>19:06:38</td>\n",
       "    </tr>\n",
       "    <tr>\n",
       "      <th>23</th>\n",
       "      <td>SPB-00657</td>\n",
       "      <td>단말기</td>\n",
       "      <td>2016-03-12</td>\n",
       "      <td>12:38:02</td>\n",
       "    </tr>\n",
       "    <tr>\n",
       "      <th>29</th>\n",
       "      <td>SPB-00821</td>\n",
       "      <td>기타</td>\n",
       "      <td>2016-03-19</td>\n",
       "      <td>12:42:41</td>\n",
       "    </tr>\n",
       "    <tr>\n",
       "      <th>30</th>\n",
       "      <td>SPB-00308</td>\n",
       "      <td>체인</td>\n",
       "      <td>2016-03-21</td>\n",
       "      <td>18:15:02</td>\n",
       "    </tr>\n",
       "    <tr>\n",
       "      <th>...</th>\n",
       "      <td>...</td>\n",
       "      <td>...</td>\n",
       "      <td>...</td>\n",
       "      <td>...</td>\n",
       "    </tr>\n",
       "    <tr>\n",
       "      <th>766681</th>\n",
       "      <td>SPB-64665</td>\n",
       "      <td>기타</td>\n",
       "      <td>2024-06-28</td>\n",
       "      <td>12:37:40</td>\n",
       "    </tr>\n",
       "    <tr>\n",
       "      <th>766869</th>\n",
       "      <td>SPB-81880</td>\n",
       "      <td>타이어</td>\n",
       "      <td>2024-06-28</td>\n",
       "      <td>18:37:35</td>\n",
       "    </tr>\n",
       "    <tr>\n",
       "      <th>767029</th>\n",
       "      <td>SPB-60122</td>\n",
       "      <td>체인</td>\n",
       "      <td>2024-06-28</td>\n",
       "      <td>22:05:54</td>\n",
       "    </tr>\n",
       "    <tr>\n",
       "      <th>767167</th>\n",
       "      <td>SPB-70139</td>\n",
       "      <td>기타</td>\n",
       "      <td>2024-06-29</td>\n",
       "      <td>09:25:12</td>\n",
       "    </tr>\n",
       "    <tr>\n",
       "      <th>767325</th>\n",
       "      <td>SPB-81048</td>\n",
       "      <td>기타</td>\n",
       "      <td>2024-06-29</td>\n",
       "      <td>14:43:08</td>\n",
       "    </tr>\n",
       "  </tbody>\n",
       "</table>\n",
       "<p>3228 rows × 4 columns</p>\n",
       "</div>"
      ],
      "text/plain": [
       "            자전거번호  고장구분        등록일자      등록시간\n",
       "9       SPB-00688   기타   2016-01-23  18:18:58\n",
       "12      SPB-00181   단말기  2016-01-30  19:06:38\n",
       "23      SPB-00657   단말기  2016-03-12  12:38:02\n",
       "29      SPB-00821   기타   2016-03-19  12:42:41\n",
       "30      SPB-00308    체인  2016-03-21  18:15:02\n",
       "...           ...   ...         ...       ...\n",
       "766681  SPB-64665   기타   2024-06-28  12:37:40\n",
       "766869  SPB-81880  타이어   2024-06-28  18:37:35\n",
       "767029  SPB-60122    체인  2024-06-28  22:05:54\n",
       "767167  SPB-70139   기타   2024-06-29  09:25:12\n",
       "767325  SPB-81048   기타   2024-06-29  14:43:08\n",
       "\n",
       "[3228 rows x 4 columns]"
      ]
     },
     "execution_count": 10,
     "metadata": {},
     "output_type": "execute_result"
    }
   ],
   "source": [
    "data_faults[data_faults['자전거번호'].isin(bike_faults_1['자전거번호'])]"
   ]
  },
  {
   "cell_type": "code",
   "execution_count": 920,
   "metadata": {},
   "outputs": [],
   "source": [
    "data_faults_1 = data_faults[data_faults['자전거번호'].isin(bike_faults_1['자전거번호'])]"
   ]
  },
  {
   "cell_type": "code",
   "execution_count": 922,
   "metadata": {},
   "outputs": [
    {
     "data": {
      "text/plain": [
       "5893"
      ]
     },
     "execution_count": 922,
     "metadata": {},
     "output_type": "execute_result"
    }
   ],
   "source": [
    "data_faults_1.shape[0]"
   ]
  },
  {
   "cell_type": "markdown",
   "metadata": {},
   "source": [
    "### 1번 고장난 데이터 시각화"
   ]
  },
  {
   "cell_type": "code",
   "execution_count": 925,
   "metadata": {},
   "outputs": [
    {
     "data": {
      "text/plain": [
       "고장구분\n",
       "기타      0.288648\n",
       "단말기     0.286611\n",
       "타이어     0.192601\n",
       "안장      0.104191\n",
       "체인      0.098422\n",
       "페달      0.029527\n",
       "Name: proportion, dtype: Float64"
      ]
     },
     "execution_count": 925,
     "metadata": {},
     "output_type": "execute_result"
    }
   ],
   "source": [
    "data_faults[data_faults['자전거번호'].isin(bike_faults_1['자전거번호'])]['고장구분'].value_counts(normalize=True)"
   ]
  },
  {
   "cell_type": "code",
   "execution_count": 927,
   "metadata": {},
   "outputs": [
    {
     "data": {
      "image/png": "[encoded data removed]",
      "text/plain": [
       "<Figure size 1000x600 with 1 Axes>"
      ]
     },
     "metadata": {},
     "output_type": "display_data"
    }
   ],
   "source": [
    "import matplotlib.pyplot as plt\n",
    "\n",
    "data_faults[data_faults['자전거번호'].isin(bike_faults_1['자전거번호'])]['고장구분'].value_counts(normalize=True).sort_values(ascending=False).plot(kind='bar', figsize=(10, 6))\n",
    "plt.title('고장구분 별 고장 비율')\n",
    "plt.xlabel('고장구분')\n",
    "plt.ylabel('고장 비율 (%)')\n",
    "plt.xticks(rotation=45)\n",
    "plt.show()"
   ]
  },
  {
   "cell_type": "code",
   "execution_count": 929,
   "metadata": {},
   "outputs": [
    {
     "data": {
      "text/plain": [
       "0       SPB-23714\n",
       "1       SPB-00111\n",
       "2       SPB-84841\n",
       "3       SPB-22790\n",
       "4       SPB-20057\n",
       "          ...    \n",
       "5888    SPB-16858\n",
       "5889    SPB-02786\n",
       "5890    SPB-14971\n",
       "5891    SPB-09618\n",
       "5892    SPB-81048\n",
       "Name: 자전거번호, Length: 5893, dtype: string"
      ]
     },
     "execution_count": 929,
     "metadata": {},
     "output_type": "execute_result"
    }
   ],
   "source": [
    "pd.Series(bike_faults_1['자전거번호'])"
   ]
  },
  {
   "cell_type": "markdown",
   "metadata": {},
   "source": [
    "---\n",
    "## 대여 이력 데이터\n",
    " - 2018 ~ 2024 대여이력 합치기"
   ]
  },
  {
   "cell_type": "code",
   "execution_count": 1012,
   "metadata": {},
   "outputs": [],
   "source": [
    "data_rentals = pd.DataFrame()"
   ]
  },
  {
   "cell_type": "code",
   "execution_count": 1014,
   "metadata": {
    "scrolled": true
   },
   "outputs": [
    {
     "name": "stdout",
     "output_type": "stream",
     "text": [
      "read_parquet time : 2018년, 2.6477789878845215\n",
      "read_parquet time : 2019년, 4.83327579498291\n",
      "read_parquet time : 2020년, 2.553230047225952\n",
      "read_parquet time : 2021년, 8.18043828010559\n",
      "read_parquet time : 2022년, 14.43766736984253\n",
      "read_parquet time : 2023년, 16.193759202957153\n",
      "read_parquet time : 2024년, 7.812716245651245\n"
     ]
    }
   ],
   "source": [
    "_years = ['2018', '2019', '2020', '2021', '2022', '2023', '2024']\n",
    "\n",
    "# 필요한 컬럼만 선택하여 읽기\n",
    "columns_to_read = ['자전거번호','이용시간(분)', '이용거리(M)', '대여일자', '반납일자', '이용속도(km/h)']\n",
    "\n",
    "for _year in _years:\n",
    "    start_time = time.time()\n",
    "    file_path_rentals = r'G:\\\\내 드라이브\\\\DataSet\\\\_파킷 파일\\\\서울특별시 공공자전거 대여이력 정보\\\\서울특별시 공공자전거 대여이력 정보_' + _year + '_preprocessed.parquet'\n",
    "    data_rental = pd.read_parquet(file_path_rentals, columns = columns_to_read)\n",
    "\n",
    "    # 고장회수-1회인 자전거번호 의 데이터만 가져오기\n",
    "    data_rental = data_rental[data_rental['자전거번호'].isin(bike_faults_1['자전거번호'])]\n",
    "    \n",
    "    data_rentals = pd.concat([data_rentals, data_rental], ignore_index=True)\n",
    "    print(f\"read_parquet time : {_year}년, {time.time() - start_time}\")"
   ]
  },
  {
   "cell_type": "code",
   "execution_count": 1016,
   "metadata": {},
   "outputs": [
    {
     "data": {
      "text/html": [
       "<div>\n",
       "<style scoped>\n",
       "    .dataframe tbody tr th:only-of-type {\n",
       "        vertical-align: middle;\n",
       "    }\n",
       "\n",
       "    .dataframe tbody tr th {\n",
       "        vertical-align: top;\n",
       "    }\n",
       "\n",
       "    .dataframe thead th {\n",
       "        text-align: right;\n",
       "    }\n",
       "</style>\n",
       "<table border=\"1\" class=\"dataframe\">\n",
       "  <thead>\n",
       "    <tr style=\"text-align: right;\">\n",
       "      <th></th>\n",
       "      <th>자전거번호</th>\n",
       "      <th>이용시간(분)</th>\n",
       "      <th>이용거리(M)</th>\n",
       "      <th>대여일자</th>\n",
       "      <th>반납일자</th>\n",
       "      <th>이용속도(km/h)</th>\n",
       "    </tr>\n",
       "  </thead>\n",
       "  <tbody>\n",
       "    <tr>\n",
       "      <th>0</th>\n",
       "      <td>SPB-13676</td>\n",
       "      <td>69.0</td>\n",
       "      <td>15730.0</td>\n",
       "      <td>2018-01-01</td>\n",
       "      <td>2018-01-01</td>\n",
       "      <td>13.678261</td>\n",
       "    </tr>\n",
       "    <tr>\n",
       "      <th>1</th>\n",
       "      <td>SPB-03730</td>\n",
       "      <td>14.0</td>\n",
       "      <td>2520.0</td>\n",
       "      <td>2018-01-01</td>\n",
       "      <td>2018-01-01</td>\n",
       "      <td>10.800000</td>\n",
       "    </tr>\n",
       "  </tbody>\n",
       "</table>\n",
       "</div>"
      ],
      "text/plain": [
       "       자전거번호  이용시간(분)  이용거리(M)        대여일자        반납일자  이용속도(km/h)\n",
       "0  SPB-13676     69.0  15730.0  2018-01-01  2018-01-01   13.678261\n",
       "1  SPB-03730     14.0   2520.0  2018-01-01  2018-01-01   10.800000"
      ]
     },
     "execution_count": 1016,
     "metadata": {},
     "output_type": "execute_result"
    }
   ],
   "source": [
    "data_rentals.head(2)"
   ]
  },
  {
   "cell_type": "code",
   "execution_count": 1018,
   "metadata": {},
   "outputs": [
    {
     "data": {
      "text/plain": [
       "7881037"
      ]
     },
     "execution_count": 1018,
     "metadata": {},
     "output_type": "execute_result"
    }
   ],
   "source": [
    "data_rentals.shape[0]"
   ]
  },
  {
   "cell_type": "markdown",
   "metadata": {},
   "source": [
    "---\n",
    "### 고장내역의 \"등록일자\" 이전의 대여이력정보 만 가져오기"
   ]
  },
  {
   "cell_type": "code",
   "execution_count": 1020,
   "metadata": {},
   "outputs": [
    {
     "data": {
      "text/html": [
       "<div>\n",
       "<style scoped>\n",
       "    .dataframe tbody tr th:only-of-type {\n",
       "        vertical-align: middle;\n",
       "    }\n",
       "\n",
       "    .dataframe tbody tr th {\n",
       "        vertical-align: top;\n",
       "    }\n",
       "\n",
       "    .dataframe thead th {\n",
       "        text-align: right;\n",
       "    }\n",
       "</style>\n",
       "<table border=\"1\" class=\"dataframe\">\n",
       "  <thead>\n",
       "    <tr style=\"text-align: right;\">\n",
       "      <th></th>\n",
       "      <th>자전거번호</th>\n",
       "      <th>이용시간(분)</th>\n",
       "      <th>이용거리(M)</th>\n",
       "      <th>대여일자</th>\n",
       "      <th>반납일자</th>\n",
       "      <th>이용속도(km/h)</th>\n",
       "      <th>고장구분</th>\n",
       "      <th>등록일자</th>\n",
       "      <th>등록시간</th>\n",
       "      <th>년</th>\n",
       "      <th>월</th>\n",
       "      <th>일</th>\n",
       "    </tr>\n",
       "  </thead>\n",
       "  <tbody>\n",
       "    <tr>\n",
       "      <th>0</th>\n",
       "      <td>SPB-13676</td>\n",
       "      <td>69.0</td>\n",
       "      <td>15730.0</td>\n",
       "      <td>2018-01-01</td>\n",
       "      <td>2018-01-01</td>\n",
       "      <td>13.678261</td>\n",
       "      <td>단말기</td>\n",
       "      <td>2020-03-29</td>\n",
       "      <td>11:16:57</td>\n",
       "      <td>2020</td>\n",
       "      <td>03</td>\n",
       "      <td>29</td>\n",
       "    </tr>\n",
       "    <tr>\n",
       "      <th>1</th>\n",
       "      <td>SPB-03730</td>\n",
       "      <td>14.0</td>\n",
       "      <td>2520.0</td>\n",
       "      <td>2018-01-01</td>\n",
       "      <td>2018-01-01</td>\n",
       "      <td>10.800000</td>\n",
       "      <td>단말기</td>\n",
       "      <td>2020-07-08</td>\n",
       "      <td>21:55:58</td>\n",
       "      <td>2020</td>\n",
       "      <td>07</td>\n",
       "      <td>08</td>\n",
       "    </tr>\n",
       "  </tbody>\n",
       "</table>\n",
       "</div>"
      ],
      "text/plain": [
       "       자전거번호  이용시간(분)  이용거리(M)        대여일자        반납일자  이용속도(km/h) 고장구분  \\\n",
       "0  SPB-13676     69.0  15730.0  2018-01-01  2018-01-01   13.678261  단말기   \n",
       "1  SPB-03730     14.0   2520.0  2018-01-01  2018-01-01   10.800000  단말기   \n",
       "\n",
       "         등록일자      등록시간     년   월   일  \n",
       "0  2020-03-29  11:16:57  2020  03  29  \n",
       "1  2020-07-08  21:55:58  2020  07  08  "
      ]
     },
     "execution_count": 1020,
     "metadata": {},
     "output_type": "execute_result"
    }
   ],
   "source": [
    "data_rentals = pd.merge(data_rentals, data_faults_1, on='자전거번호')\n",
    "data_rentals.head(2)"
   ]
  },
  {
   "cell_type": "code",
   "execution_count": 1021,
   "metadata": {},
   "outputs": [
    {
     "name": "stderr",
     "output_type": "stream",
     "text": [
      "C:\\Users\\user\\AppData\\Local\\Temp\\ipykernel_632\\2175692579.py:1: RuntimeWarning: Engine has switched to 'python' because numexpr does not support extension array dtypes. Please set your engine to python manually.\n",
      "  data_rentals = data_rentals.query('대여일자 < 등록일자')\n"
     ]
    }
   ],
   "source": [
    "data_rentals = data_rentals.query('대여일자 < 등록일자')"
   ]
  },
  {
   "cell_type": "code",
   "execution_count": 1024,
   "metadata": {},
   "outputs": [
    {
     "data": {
      "text/plain": [
       "6515816"
      ]
     },
     "execution_count": 1024,
     "metadata": {},
     "output_type": "execute_result"
    }
   ],
   "source": [
    "data_rentals.shape[0]"
   ]
  },
  {
   "cell_type": "code",
   "execution_count": 1026,
   "metadata": {},
   "outputs": [
    {
     "data": {
      "text/html": [
       "<div>\n",
       "<style scoped>\n",
       "    .dataframe tbody tr th:only-of-type {\n",
       "        vertical-align: middle;\n",
       "    }\n",
       "\n",
       "    .dataframe tbody tr th {\n",
       "        vertical-align: top;\n",
       "    }\n",
       "\n",
       "    .dataframe thead th {\n",
       "        text-align: right;\n",
       "    }\n",
       "</style>\n",
       "<table border=\"1\" class=\"dataframe\">\n",
       "  <thead>\n",
       "    <tr style=\"text-align: right;\">\n",
       "      <th></th>\n",
       "      <th>자전거번호</th>\n",
       "      <th>이용시간(분)</th>\n",
       "      <th>이용거리(M)</th>\n",
       "      <th>대여일자</th>\n",
       "      <th>반납일자</th>\n",
       "      <th>이용속도(km/h)</th>\n",
       "      <th>고장구분</th>\n",
       "      <th>등록일자</th>\n",
       "      <th>등록시간</th>\n",
       "      <th>년</th>\n",
       "      <th>월</th>\n",
       "      <th>일</th>\n",
       "    </tr>\n",
       "  </thead>\n",
       "  <tbody>\n",
       "    <tr>\n",
       "      <th>0</th>\n",
       "      <td>SPB-13676</td>\n",
       "      <td>69.0</td>\n",
       "      <td>15730.0</td>\n",
       "      <td>2018-01-01</td>\n",
       "      <td>2018-01-01</td>\n",
       "      <td>13.678261</td>\n",
       "      <td>단말기</td>\n",
       "      <td>2020-03-29</td>\n",
       "      <td>11:16:57</td>\n",
       "      <td>2020</td>\n",
       "      <td>03</td>\n",
       "      <td>29</td>\n",
       "    </tr>\n",
       "    <tr>\n",
       "      <th>1</th>\n",
       "      <td>SPB-03730</td>\n",
       "      <td>14.0</td>\n",
       "      <td>2520.0</td>\n",
       "      <td>2018-01-01</td>\n",
       "      <td>2018-01-01</td>\n",
       "      <td>10.800000</td>\n",
       "      <td>단말기</td>\n",
       "      <td>2020-07-08</td>\n",
       "      <td>21:55:58</td>\n",
       "      <td>2020</td>\n",
       "      <td>07</td>\n",
       "      <td>08</td>\n",
       "    </tr>\n",
       "    <tr>\n",
       "      <th>2</th>\n",
       "      <td>SPB-09038</td>\n",
       "      <td>16.0</td>\n",
       "      <td>3630.0</td>\n",
       "      <td>2018-01-01</td>\n",
       "      <td>2018-01-01</td>\n",
       "      <td>13.612500</td>\n",
       "      <td>체인</td>\n",
       "      <td>2020-01-29</td>\n",
       "      <td>10:08:27</td>\n",
       "      <td>2020</td>\n",
       "      <td>01</td>\n",
       "      <td>29</td>\n",
       "    </tr>\n",
       "  </tbody>\n",
       "</table>\n",
       "</div>"
      ],
      "text/plain": [
       "       자전거번호  이용시간(분)  이용거리(M)        대여일자        반납일자  이용속도(km/h) 고장구분  \\\n",
       "0  SPB-13676     69.0  15730.0  2018-01-01  2018-01-01   13.678261  단말기   \n",
       "1  SPB-03730     14.0   2520.0  2018-01-01  2018-01-01   10.800000  단말기   \n",
       "2  SPB-09038     16.0   3630.0  2018-01-01  2018-01-01   13.612500   체인   \n",
       "\n",
       "         등록일자      등록시간     년   월   일  \n",
       "0  2020-03-29  11:16:57  2020  03  29  \n",
       "1  2020-07-08  21:55:58  2020  07  08  \n",
       "2  2020-01-29  10:08:27  2020  01  29  "
      ]
     },
     "execution_count": 1026,
     "metadata": {},
     "output_type": "execute_result"
    }
   ],
   "source": [
    "data_rentals.head(3)"
   ]
  },
  {
   "cell_type": "markdown",
   "metadata": {},
   "source": [
    "### 이용속도 구간 나누기"
   ]
  },
  {
   "cell_type": "code",
   "execution_count": 1028,
   "metadata": {},
   "outputs": [],
   "source": [
    "import pandas as pd\n",
    "\n",
    "# 속도 구간 정의 함수\n",
    "def get_speed_interval(speed):\n",
    "    if speed < 5:\n",
    "        return '0-5'\n",
    "    elif speed < 10:\n",
    "        return '5-10'\n",
    "    elif speed < 15:\n",
    "        return '10-15'\n",
    "    elif speed < 20:\n",
    "        return '15-20'\n",
    "    elif speed < 25:\n",
    "        return '20-25'\n",
    "    elif speed < 30:\n",
    "        return '25-30'\n",
    "    else:\n",
    "        return '30+'\n",
    "\n",
    "# 각 이용속도에 대해 구간 추가\n",
    "#data_rentals2['이용속도_구간'] = data_rentals2['이용속도(km)'].apply(get_speed_interval)\n",
    "data_rentals.loc[:, '이용속도_구간'] = data_rentals['이용속도(km/h)'].apply(get_speed_interval)"
   ]
  },
  {
   "cell_type": "code",
   "execution_count": 1030,
   "metadata": {},
   "outputs": [
    {
     "data": {
      "text/html": [
       "<div>\n",
       "<style scoped>\n",
       "    .dataframe tbody tr th:only-of-type {\n",
       "        vertical-align: middle;\n",
       "    }\n",
       "\n",
       "    .dataframe tbody tr th {\n",
       "        vertical-align: top;\n",
       "    }\n",
       "\n",
       "    .dataframe thead th {\n",
       "        text-align: right;\n",
       "    }\n",
       "</style>\n",
       "<table border=\"1\" class=\"dataframe\">\n",
       "  <thead>\n",
       "    <tr style=\"text-align: right;\">\n",
       "      <th></th>\n",
       "      <th>자전거번호</th>\n",
       "      <th>이용시간(분)</th>\n",
       "      <th>이용거리(M)</th>\n",
       "      <th>대여일자</th>\n",
       "      <th>반납일자</th>\n",
       "      <th>이용속도(km/h)</th>\n",
       "      <th>고장구분</th>\n",
       "      <th>등록일자</th>\n",
       "      <th>등록시간</th>\n",
       "      <th>년</th>\n",
       "      <th>월</th>\n",
       "      <th>일</th>\n",
       "      <th>이용속도_구간</th>\n",
       "    </tr>\n",
       "  </thead>\n",
       "  <tbody>\n",
       "    <tr>\n",
       "      <th>0</th>\n",
       "      <td>SPB-13676</td>\n",
       "      <td>69.0</td>\n",
       "      <td>15730.0</td>\n",
       "      <td>2018-01-01</td>\n",
       "      <td>2018-01-01</td>\n",
       "      <td>13.678261</td>\n",
       "      <td>단말기</td>\n",
       "      <td>2020-03-29</td>\n",
       "      <td>11:16:57</td>\n",
       "      <td>2020</td>\n",
       "      <td>03</td>\n",
       "      <td>29</td>\n",
       "      <td>10-15</td>\n",
       "    </tr>\n",
       "    <tr>\n",
       "      <th>1</th>\n",
       "      <td>SPB-03730</td>\n",
       "      <td>14.0</td>\n",
       "      <td>2520.0</td>\n",
       "      <td>2018-01-01</td>\n",
       "      <td>2018-01-01</td>\n",
       "      <td>10.800000</td>\n",
       "      <td>단말기</td>\n",
       "      <td>2020-07-08</td>\n",
       "      <td>21:55:58</td>\n",
       "      <td>2020</td>\n",
       "      <td>07</td>\n",
       "      <td>08</td>\n",
       "      <td>10-15</td>\n",
       "    </tr>\n",
       "  </tbody>\n",
       "</table>\n",
       "</div>"
      ],
      "text/plain": [
       "       자전거번호  이용시간(분)  이용거리(M)        대여일자        반납일자  이용속도(km/h) 고장구분  \\\n",
       "0  SPB-13676     69.0  15730.0  2018-01-01  2018-01-01   13.678261  단말기   \n",
       "1  SPB-03730     14.0   2520.0  2018-01-01  2018-01-01   10.800000  단말기   \n",
       "\n",
       "         등록일자      등록시간     년   월   일 이용속도_구간  \n",
       "0  2020-03-29  11:16:57  2020  03  29   10-15  \n",
       "1  2020-07-08  21:55:58  2020  07  08   10-15  "
      ]
     },
     "execution_count": 1030,
     "metadata": {},
     "output_type": "execute_result"
    }
   ],
   "source": [
    "data_rentals.head(2)"
   ]
  },
  {
   "cell_type": "code",
   "execution_count": 1032,
   "metadata": {},
   "outputs": [
    {
     "data": {
      "text/plain": [
       "이용속도_구간\n",
       "5-10     2809114\n",
       "10-15    2397199\n",
       "0-5       847870\n",
       "15-20     439994\n",
       "30+        20968\n",
       "20-25        671\n",
       "Name: count, dtype: int64"
      ]
     },
     "execution_count": 1032,
     "metadata": {},
     "output_type": "execute_result"
    }
   ],
   "source": [
    "data_rentals['이용속도_구간'].value_counts()"
   ]
  },
  {
   "cell_type": "code",
   "execution_count": 1034,
   "metadata": {},
   "outputs": [
    {
     "data": {
      "text/html": [
       "<div>\n",
       "<style scoped>\n",
       "    .dataframe tbody tr th:only-of-type {\n",
       "        vertical-align: middle;\n",
       "    }\n",
       "\n",
       "    .dataframe tbody tr th {\n",
       "        vertical-align: top;\n",
       "    }\n",
       "\n",
       "    .dataframe thead th {\n",
       "        text-align: right;\n",
       "    }\n",
       "</style>\n",
       "<table border=\"1\" class=\"dataframe\">\n",
       "  <thead>\n",
       "    <tr style=\"text-align: right;\">\n",
       "      <th></th>\n",
       "      <th>자전거번호</th>\n",
       "      <th>이용시간(분)</th>\n",
       "      <th>이용거리(M)</th>\n",
       "      <th>대여일자</th>\n",
       "      <th>반납일자</th>\n",
       "      <th>이용속도(km/h)</th>\n",
       "      <th>고장구분</th>\n",
       "      <th>등록일자</th>\n",
       "      <th>등록시간</th>\n",
       "      <th>년</th>\n",
       "      <th>월</th>\n",
       "      <th>일</th>\n",
       "      <th>이용속도_구간</th>\n",
       "    </tr>\n",
       "  </thead>\n",
       "  <tbody>\n",
       "    <tr>\n",
       "      <th>1201511</th>\n",
       "      <td>SPB-08316</td>\n",
       "      <td>0.0</td>\n",
       "      <td>0.0</td>\n",
       "      <td>2018-10-01</td>\n",
       "      <td>2018-10-01</td>\n",
       "      <td>NaN</td>\n",
       "      <td>단말기</td>\n",
       "      <td>2020-04-16</td>\n",
       "      <td>13:34:33</td>\n",
       "      <td>2020</td>\n",
       "      <td>04</td>\n",
       "      <td>16</td>\n",
       "      <td>30+</td>\n",
       "    </tr>\n",
       "    <tr>\n",
       "      <th>1202082</th>\n",
       "      <td>SPB-13112</td>\n",
       "      <td>0.0</td>\n",
       "      <td>0.0</td>\n",
       "      <td>2018-10-01</td>\n",
       "      <td>2018-10-01</td>\n",
       "      <td>NaN</td>\n",
       "      <td>기타</td>\n",
       "      <td>2020-04-09</td>\n",
       "      <td>21:53:52</td>\n",
       "      <td>2020</td>\n",
       "      <td>04</td>\n",
       "      <td>09</td>\n",
       "      <td>30+</td>\n",
       "    </tr>\n",
       "  </tbody>\n",
       "</table>\n",
       "</div>"
      ],
      "text/plain": [
       "             자전거번호  이용시간(분)  이용거리(M)        대여일자        반납일자  이용속도(km/h) 고장구분  \\\n",
       "1201511  SPB-08316      0.0      0.0  2018-10-01  2018-10-01         NaN  단말기   \n",
       "1202082  SPB-13112      0.0      0.0  2018-10-01  2018-10-01         NaN  기타    \n",
       "\n",
       "               등록일자      등록시간     년   월   일 이용속도_구간  \n",
       "1201511  2020-04-16  13:34:33  2020  04  16     30+  \n",
       "1202082  2020-04-09  21:53:52  2020  04  09     30+  "
      ]
     },
     "execution_count": 1034,
     "metadata": {},
     "output_type": "execute_result"
    }
   ],
   "source": [
    "data_rentals[data_rentals['이용시간(분)'] == 0].sort_values(by = '이용속도(km/h)', ascending = False).head(2)"
   ]
  },
  {
   "cell_type": "code",
   "execution_count": 1036,
   "metadata": {},
   "outputs": [],
   "source": [
    "data_rentals = data_rentals[data_rentals['이용시간(분)'] != 0]"
   ]
  },
  {
   "cell_type": "code",
   "execution_count": 1038,
   "metadata": {},
   "outputs": [
    {
     "data": {
      "text/plain": [
       "6494848"
      ]
     },
     "execution_count": 1038,
     "metadata": {},
     "output_type": "execute_result"
    }
   ],
   "source": [
    "data_rentals.shape[0]"
   ]
  },
  {
   "cell_type": "code",
   "execution_count": 1040,
   "metadata": {},
   "outputs": [
    {
     "data": {
      "text/html": [
       "<div>\n",
       "<style scoped>\n",
       "    .dataframe tbody tr th:only-of-type {\n",
       "        vertical-align: middle;\n",
       "    }\n",
       "\n",
       "    .dataframe tbody tr th {\n",
       "        vertical-align: top;\n",
       "    }\n",
       "\n",
       "    .dataframe thead th {\n",
       "        text-align: right;\n",
       "    }\n",
       "</style>\n",
       "<table border=\"1\" class=\"dataframe\">\n",
       "  <thead>\n",
       "    <tr style=\"text-align: right;\">\n",
       "      <th></th>\n",
       "      <th>자전거번호</th>\n",
       "      <th>이용시간(분)</th>\n",
       "      <th>이용거리(M)</th>\n",
       "      <th>대여일자</th>\n",
       "      <th>반납일자</th>\n",
       "      <th>이용속도(km/h)</th>\n",
       "      <th>고장구분</th>\n",
       "      <th>등록일자</th>\n",
       "      <th>등록시간</th>\n",
       "      <th>년</th>\n",
       "      <th>월</th>\n",
       "      <th>일</th>\n",
       "      <th>이용속도_구간</th>\n",
       "    </tr>\n",
       "  </thead>\n",
       "  <tbody>\n",
       "    <tr>\n",
       "      <th>0</th>\n",
       "      <td>SPB-13676</td>\n",
       "      <td>69.0</td>\n",
       "      <td>15730.0</td>\n",
       "      <td>2018-01-01</td>\n",
       "      <td>2018-01-01</td>\n",
       "      <td>13.678261</td>\n",
       "      <td>단말기</td>\n",
       "      <td>2020-03-29</td>\n",
       "      <td>11:16:57</td>\n",
       "      <td>2020</td>\n",
       "      <td>03</td>\n",
       "      <td>29</td>\n",
       "      <td>10-15</td>\n",
       "    </tr>\n",
       "    <tr>\n",
       "      <th>1</th>\n",
       "      <td>SPB-03730</td>\n",
       "      <td>14.0</td>\n",
       "      <td>2520.0</td>\n",
       "      <td>2018-01-01</td>\n",
       "      <td>2018-01-01</td>\n",
       "      <td>10.800000</td>\n",
       "      <td>단말기</td>\n",
       "      <td>2020-07-08</td>\n",
       "      <td>21:55:58</td>\n",
       "      <td>2020</td>\n",
       "      <td>07</td>\n",
       "      <td>08</td>\n",
       "      <td>10-15</td>\n",
       "    </tr>\n",
       "  </tbody>\n",
       "</table>\n",
       "</div>"
      ],
      "text/plain": [
       "       자전거번호  이용시간(분)  이용거리(M)        대여일자        반납일자  이용속도(km/h) 고장구분  \\\n",
       "0  SPB-13676     69.0  15730.0  2018-01-01  2018-01-01   13.678261  단말기   \n",
       "1  SPB-03730     14.0   2520.0  2018-01-01  2018-01-01   10.800000  단말기   \n",
       "\n",
       "         등록일자      등록시간     년   월   일 이용속도_구간  \n",
       "0  2020-03-29  11:16:57  2020  03  29   10-15  \n",
       "1  2020-07-08  21:55:58  2020  07  08   10-15  "
      ]
     },
     "execution_count": 1040,
     "metadata": {},
     "output_type": "execute_result"
    }
   ],
   "source": [
    "data_rentals.head(2)"
   ]
  },
  {
   "cell_type": "code",
   "execution_count": 1042,
   "metadata": {},
   "outputs": [
    {
     "data": {
      "text/html": [
       "<div>\n",
       "<style scoped>\n",
       "    .dataframe tbody tr th:only-of-type {\n",
       "        vertical-align: middle;\n",
       "    }\n",
       "\n",
       "    .dataframe tbody tr th {\n",
       "        vertical-align: top;\n",
       "    }\n",
       "\n",
       "    .dataframe thead th {\n",
       "        text-align: right;\n",
       "    }\n",
       "</style>\n",
       "<table border=\"1\" class=\"dataframe\">\n",
       "  <thead>\n",
       "    <tr style=\"text-align: right;\">\n",
       "      <th></th>\n",
       "      <th>이용시간(분)</th>\n",
       "      <th>이용거리(M)</th>\n",
       "      <th>이용속도(km/h)</th>\n",
       "    </tr>\n",
       "  </thead>\n",
       "  <tbody>\n",
       "    <tr>\n",
       "      <th>count</th>\n",
       "      <td>6.494848e+06</td>\n",
       "      <td>6.494848e+06</td>\n",
       "      <td>6.494848e+06</td>\n",
       "    </tr>\n",
       "    <tr>\n",
       "      <th>mean</th>\n",
       "      <td>2.630173e+01</td>\n",
       "      <td>3.526191e+03</td>\n",
       "      <td>9.331722e+00</td>\n",
       "    </tr>\n",
       "    <tr>\n",
       "      <th>std</th>\n",
       "      <td>2.950209e+01</td>\n",
       "      <td>3.919623e+03</td>\n",
       "      <td>3.789811e+00</td>\n",
       "    </tr>\n",
       "    <tr>\n",
       "      <th>min</th>\n",
       "      <td>1.000000e+00</td>\n",
       "      <td>0.000000e+00</td>\n",
       "      <td>0.000000e+00</td>\n",
       "    </tr>\n",
       "    <tr>\n",
       "      <th>25%</th>\n",
       "      <td>8.000000e+00</td>\n",
       "      <td>1.150000e+03</td>\n",
       "      <td>6.972414e+00</td>\n",
       "    </tr>\n",
       "    <tr>\n",
       "      <th>50%</th>\n",
       "      <td>1.500000e+01</td>\n",
       "      <td>2.120000e+03</td>\n",
       "      <td>9.428571e+00</td>\n",
       "    </tr>\n",
       "    <tr>\n",
       "      <th>75%</th>\n",
       "      <td>3.500000e+01</td>\n",
       "      <td>4.310000e+03</td>\n",
       "      <td>1.185000e+01</td>\n",
       "    </tr>\n",
       "    <tr>\n",
       "      <th>max</th>\n",
       "      <td>4.215000e+03</td>\n",
       "      <td>2.148500e+05</td>\n",
       "      <td>2.034000e+01</td>\n",
       "    </tr>\n",
       "  </tbody>\n",
       "</table>\n",
       "</div>"
      ],
      "text/plain": [
       "            이용시간(분)       이용거리(M)    이용속도(km/h)\n",
       "count  6.494848e+06  6.494848e+06  6.494848e+06\n",
       "mean   2.630173e+01  3.526191e+03  9.331722e+00\n",
       "std    2.950209e+01  3.919623e+03  3.789811e+00\n",
       "min    1.000000e+00  0.000000e+00  0.000000e+00\n",
       "25%    8.000000e+00  1.150000e+03  6.972414e+00\n",
       "50%    1.500000e+01  2.120000e+03  9.428571e+00\n",
       "75%    3.500000e+01  4.310000e+03  1.185000e+01\n",
       "max    4.215000e+03  2.148500e+05  2.034000e+01"
      ]
     },
     "execution_count": 1042,
     "metadata": {},
     "output_type": "execute_result"
    }
   ],
   "source": [
    "data_rentals.describe()"
   ]
  },
  {
   "cell_type": "markdown",
   "metadata": {},
   "source": [
    "---\n",
    "### '이용속도(km)' / 이용거리(M) 이상치 확인 및 삭제"
   ]
  },
  {
   "cell_type": "code",
   "execution_count": 1044,
   "metadata": {},
   "outputs": [
    {
     "name": "stdout",
     "output_type": "stream",
     "text": [
      "Q1 :  6.972413793103448\n",
      "Q3 :  11.850000000000001\n",
      "IQR :  4.877586206896553\n",
      "outlier_count :  13766, outlier_count_ : 6481082\n",
      "이상치 비율: 0.21%\n"
     ]
    }
   ],
   "source": [
    "# IQR 계산\n",
    "df = data_rentals['이용속도(km/h)']\n",
    "Q1 = df.quantile(0.25)\n",
    "Q3 = df.quantile(0.75)\n",
    "IQR = Q3 - Q1\n",
    "print('Q1 : ', Q1)\n",
    "print('Q3 : ', Q3)\n",
    "print('IQR : ', IQR)\n",
    "\n",
    "# 이상치 조건 설정\n",
    "outliers = (df < (Q1 - 1.5 * IQR)) | (df > (Q3 + 1.5 * IQR))\n",
    "\n",
    "# 이상치 데이터 수\n",
    "outlier_count = df[outliers].shape[0]\n",
    "outlier_count_ = df[~outliers].shape[0]\n",
    "\n",
    "print(f'outlier_count :  {outlier_count}, outlier_count_ : {outlier_count_}')\n",
    "\n",
    "# 전체 데이터 수\n",
    "total_count = df.shape[0]\n",
    "\n",
    "# 비율 계산\n",
    "outlier_percentage = (outlier_count / total_count) * 100\n",
    "\n",
    "print(f\"이상치 비율: {outlier_percentage:.2f}%\")\n"
   ]
  },
  {
   "cell_type": "code",
   "execution_count": 1046,
   "metadata": {},
   "outputs": [
    {
     "name": "stdout",
     "output_type": "stream",
     "text": [
      "Q1 :  1150.0\n",
      "Q3 :  4310.0\n",
      "IQR :  3160.0\n",
      "outlier_count :  547681, outlier_count_ : 5947167\n",
      "이상치 비율: 8.43%\n"
     ]
    }
   ],
   "source": [
    "# IQR 계산\n",
    "df = data_rentals['이용거리(M)']\n",
    "Q1 = df.quantile(0.25)\n",
    "Q3 = df.quantile(0.75)\n",
    "IQR = Q3 - Q1\n",
    "print('Q1 : ', Q1)\n",
    "print('Q3 : ', Q3)\n",
    "print('IQR : ', IQR)\n",
    "\n",
    "# 이상치 조건 설정\n",
    "outliers = (df < (Q1 - 1.5 * IQR)) | (df > (Q3 + 1.5 * IQR))\n",
    "\n",
    "# 이상치 데이터 수\n",
    "outlier_count = df[outliers].shape[0]\n",
    "outlier_count_ = df[~outliers].shape[0]\n",
    "\n",
    "print(f'outlier_count :  {outlier_count}, outlier_count_ : {outlier_count_}')\n",
    "\n",
    "# 전체 데이터 수\n",
    "total_count = df.shape[0]\n",
    "\n",
    "# 비율 계산\n",
    "outlier_percentage = (outlier_count / total_count) * 100\n",
    "\n",
    "print(f\"이상치 비율: {outlier_percentage:.2f}%\")"
   ]
  },
  {
   "cell_type": "code",
   "execution_count": 1048,
   "metadata": {},
   "outputs": [
    {
     "data": {
      "text/html": [
       "<div>\n",
       "<style scoped>\n",
       "    .dataframe tbody tr th:only-of-type {\n",
       "        vertical-align: middle;\n",
       "    }\n",
       "\n",
       "    .dataframe tbody tr th {\n",
       "        vertical-align: top;\n",
       "    }\n",
       "\n",
       "    .dataframe thead th {\n",
       "        text-align: right;\n",
       "    }\n",
       "</style>\n",
       "<table border=\"1\" class=\"dataframe\">\n",
       "  <thead>\n",
       "    <tr style=\"text-align: right;\">\n",
       "      <th></th>\n",
       "      <th>자전거번호</th>\n",
       "      <th>이용시간(분)</th>\n",
       "      <th>이용거리(M)</th>\n",
       "      <th>대여일자</th>\n",
       "      <th>반납일자</th>\n",
       "      <th>이용속도(km/h)</th>\n",
       "      <th>고장구분</th>\n",
       "      <th>등록일자</th>\n",
       "      <th>등록시간</th>\n",
       "      <th>년</th>\n",
       "      <th>월</th>\n",
       "      <th>일</th>\n",
       "      <th>이용속도_구간</th>\n",
       "    </tr>\n",
       "  </thead>\n",
       "  <tbody>\n",
       "    <tr>\n",
       "      <th>3700892</th>\n",
       "      <td>SPB-14170</td>\n",
       "      <td>1008.0</td>\n",
       "      <td>214850.0</td>\n",
       "      <td>2019-08-30</td>\n",
       "      <td>2019-08-31</td>\n",
       "      <td>12.788690</td>\n",
       "      <td>단말기</td>\n",
       "      <td>2020-01-29</td>\n",
       "      <td>22:08:54</td>\n",
       "      <td>2020</td>\n",
       "      <td>01</td>\n",
       "      <td>29</td>\n",
       "      <td>10-15</td>\n",
       "    </tr>\n",
       "    <tr>\n",
       "      <th>4761804</th>\n",
       "      <td>SPB-13668</td>\n",
       "      <td>518.0</td>\n",
       "      <td>129460.0</td>\n",
       "      <td>2019-11-05</td>\n",
       "      <td>2019-11-05</td>\n",
       "      <td>14.995367</td>\n",
       "      <td>단말기</td>\n",
       "      <td>2020-04-01</td>\n",
       "      <td>20:21:35</td>\n",
       "      <td>2020</td>\n",
       "      <td>04</td>\n",
       "      <td>01</td>\n",
       "      <td>10-15</td>\n",
       "    </tr>\n",
       "    <tr>\n",
       "      <th>962695</th>\n",
       "      <td>SPB-16182</td>\n",
       "      <td>458.0</td>\n",
       "      <td>111010.0</td>\n",
       "      <td>2018-09-02</td>\n",
       "      <td>2018-09-02</td>\n",
       "      <td>14.542795</td>\n",
       "      <td>단말기</td>\n",
       "      <td>2020-03-07</td>\n",
       "      <td>11:30:29</td>\n",
       "      <td>2020</td>\n",
       "      <td>03</td>\n",
       "      <td>07</td>\n",
       "      <td>10-15</td>\n",
       "    </tr>\n",
       "    <tr>\n",
       "      <th>6261875</th>\n",
       "      <td>SPB-17507</td>\n",
       "      <td>650.0</td>\n",
       "      <td>106150.0</td>\n",
       "      <td>2020-05-05</td>\n",
       "      <td>2020-05-05</td>\n",
       "      <td>9.798462</td>\n",
       "      <td>단말기</td>\n",
       "      <td>2020-08-25</td>\n",
       "      <td>17:04:07</td>\n",
       "      <td>2020</td>\n",
       "      <td>08</td>\n",
       "      <td>25</td>\n",
       "      <td>5-10</td>\n",
       "    </tr>\n",
       "    <tr>\n",
       "      <th>3206534</th>\n",
       "      <td>SPB-17781</td>\n",
       "      <td>347.0</td>\n",
       "      <td>100630.0</td>\n",
       "      <td>2019-07-15</td>\n",
       "      <td>2019-07-15</td>\n",
       "      <td>17.400000</td>\n",
       "      <td>단말기</td>\n",
       "      <td>2020-03-31</td>\n",
       "      <td>12:16:10</td>\n",
       "      <td>2020</td>\n",
       "      <td>03</td>\n",
       "      <td>31</td>\n",
       "      <td>15-20</td>\n",
       "    </tr>\n",
       "    <tr>\n",
       "      <th>6961706</th>\n",
       "      <td>SPB-62337</td>\n",
       "      <td>421.0</td>\n",
       "      <td>95640.0</td>\n",
       "      <td>2023-03-18</td>\n",
       "      <td>2023-03-18</td>\n",
       "      <td>13.630404</td>\n",
       "      <td>기타</td>\n",
       "      <td>2023-10-31</td>\n",
       "      <td>18:23:58</td>\n",
       "      <td>2023</td>\n",
       "      <td>10</td>\n",
       "      <td>31</td>\n",
       "      <td>10-15</td>\n",
       "    </tr>\n",
       "    <tr>\n",
       "      <th>3216248</th>\n",
       "      <td>SPB-16944</td>\n",
       "      <td>541.0</td>\n",
       "      <td>83640.0</td>\n",
       "      <td>2019-07-06</td>\n",
       "      <td>2019-07-07</td>\n",
       "      <td>9.276155</td>\n",
       "      <td>안장</td>\n",
       "      <td>2020-04-06</td>\n",
       "      <td>17:35:15</td>\n",
       "      <td>2020</td>\n",
       "      <td>04</td>\n",
       "      <td>06</td>\n",
       "      <td>5-10</td>\n",
       "    </tr>\n",
       "    <tr>\n",
       "      <th>3989099</th>\n",
       "      <td>SPB-06073</td>\n",
       "      <td>279.0</td>\n",
       "      <td>80760.0</td>\n",
       "      <td>2019-09-30</td>\n",
       "      <td>2019-10-01</td>\n",
       "      <td>17.367742</td>\n",
       "      <td>타이어</td>\n",
       "      <td>2020-04-09</td>\n",
       "      <td>12:44:27</td>\n",
       "      <td>2020</td>\n",
       "      <td>04</td>\n",
       "      <td>09</td>\n",
       "      <td>15-20</td>\n",
       "    </tr>\n",
       "    <tr>\n",
       "      <th>4248498</th>\n",
       "      <td>SPB-14235</td>\n",
       "      <td>277.0</td>\n",
       "      <td>80640.0</td>\n",
       "      <td>2019-10-04</td>\n",
       "      <td>2019-10-04</td>\n",
       "      <td>17.467148</td>\n",
       "      <td>안장</td>\n",
       "      <td>2020-03-02</td>\n",
       "      <td>22:00:37</td>\n",
       "      <td>2020</td>\n",
       "      <td>03</td>\n",
       "      <td>02</td>\n",
       "      <td>15-20</td>\n",
       "    </tr>\n",
       "    <tr>\n",
       "      <th>293921</th>\n",
       "      <td>SPB-06928</td>\n",
       "      <td>417.0</td>\n",
       "      <td>80520.0</td>\n",
       "      <td>2018-05-13</td>\n",
       "      <td>2018-05-13</td>\n",
       "      <td>11.585612</td>\n",
       "      <td>타이어</td>\n",
       "      <td>2020-02-19</td>\n",
       "      <td>09:38:40</td>\n",
       "      <td>2020</td>\n",
       "      <td>02</td>\n",
       "      <td>19</td>\n",
       "      <td>10-15</td>\n",
       "    </tr>\n",
       "    <tr>\n",
       "      <th>1155530</th>\n",
       "      <td>SPB-16321</td>\n",
       "      <td>372.0</td>\n",
       "      <td>77520.0</td>\n",
       "      <td>2018-09-26</td>\n",
       "      <td>2018-09-26</td>\n",
       "      <td>12.503226</td>\n",
       "      <td>체인</td>\n",
       "      <td>2020-06-20</td>\n",
       "      <td>06:12:25</td>\n",
       "      <td>2020</td>\n",
       "      <td>06</td>\n",
       "      <td>20</td>\n",
       "      <td>10-15</td>\n",
       "    </tr>\n",
       "    <tr>\n",
       "      <th>4041886</th>\n",
       "      <td>SPB-14607</td>\n",
       "      <td>363.0</td>\n",
       "      <td>77040.0</td>\n",
       "      <td>2019-09-11</td>\n",
       "      <td>2019-09-11</td>\n",
       "      <td>12.733884</td>\n",
       "      <td>페달</td>\n",
       "      <td>2020-02-28</td>\n",
       "      <td>07:53:30</td>\n",
       "      <td>2020</td>\n",
       "      <td>02</td>\n",
       "      <td>28</td>\n",
       "      <td>10-15</td>\n",
       "    </tr>\n",
       "    <tr>\n",
       "      <th>4802198</th>\n",
       "      <td>SPB-16101</td>\n",
       "      <td>247.0</td>\n",
       "      <td>76360.0</td>\n",
       "      <td>2019-11-25</td>\n",
       "      <td>2019-11-25</td>\n",
       "      <td>18.548988</td>\n",
       "      <td>타이어</td>\n",
       "      <td>2020-08-28</td>\n",
       "      <td>09:26:38</td>\n",
       "      <td>2020</td>\n",
       "      <td>08</td>\n",
       "      <td>28</td>\n",
       "      <td>15-20</td>\n",
       "    </tr>\n",
       "    <tr>\n",
       "      <th>5629555</th>\n",
       "      <td>SPB-14619</td>\n",
       "      <td>493.0</td>\n",
       "      <td>74790.0</td>\n",
       "      <td>2020-04-04</td>\n",
       "      <td>2020-04-04</td>\n",
       "      <td>9.102231</td>\n",
       "      <td>기타</td>\n",
       "      <td>2020-07-18</td>\n",
       "      <td>11:47:42</td>\n",
       "      <td>2020</td>\n",
       "      <td>07</td>\n",
       "      <td>18</td>\n",
       "      <td>5-10</td>\n",
       "    </tr>\n",
       "    <tr>\n",
       "      <th>226073</th>\n",
       "      <td>SPB-00571</td>\n",
       "      <td>450.0</td>\n",
       "      <td>74780.0</td>\n",
       "      <td>2018-04-29</td>\n",
       "      <td>2018-04-29</td>\n",
       "      <td>9.970667</td>\n",
       "      <td>단말기</td>\n",
       "      <td>2020-03-24</td>\n",
       "      <td>17:34:38</td>\n",
       "      <td>2020</td>\n",
       "      <td>03</td>\n",
       "      <td>24</td>\n",
       "      <td>5-10</td>\n",
       "    </tr>\n",
       "    <tr>\n",
       "      <th>3797096</th>\n",
       "      <td>SPB-10735</td>\n",
       "      <td>249.0</td>\n",
       "      <td>74200.0</td>\n",
       "      <td>2019-09-20</td>\n",
       "      <td>2019-09-21</td>\n",
       "      <td>17.879518</td>\n",
       "      <td>타이어</td>\n",
       "      <td>2020-04-12</td>\n",
       "      <td>22:43:36</td>\n",
       "      <td>2020</td>\n",
       "      <td>04</td>\n",
       "      <td>12</td>\n",
       "      <td>15-20</td>\n",
       "    </tr>\n",
       "    <tr>\n",
       "      <th>2296989</th>\n",
       "      <td>SPB-06580</td>\n",
       "      <td>800.0</td>\n",
       "      <td>73820.0</td>\n",
       "      <td>2019-05-02</td>\n",
       "      <td>2019-05-03</td>\n",
       "      <td>5.536500</td>\n",
       "      <td>안장</td>\n",
       "      <td>2020-03-04</td>\n",
       "      <td>17:00:53</td>\n",
       "      <td>2020</td>\n",
       "      <td>03</td>\n",
       "      <td>04</td>\n",
       "      <td>5-10</td>\n",
       "    </tr>\n",
       "    <tr>\n",
       "      <th>2495812</th>\n",
       "      <td>SPB-17077</td>\n",
       "      <td>585.0</td>\n",
       "      <td>73430.0</td>\n",
       "      <td>2019-05-18</td>\n",
       "      <td>2019-05-18</td>\n",
       "      <td>7.531282</td>\n",
       "      <td>안장</td>\n",
       "      <td>2020-04-13</td>\n",
       "      <td>09:12:10</td>\n",
       "      <td>2020</td>\n",
       "      <td>04</td>\n",
       "      <td>13</td>\n",
       "      <td>5-10</td>\n",
       "    </tr>\n",
       "    <tr>\n",
       "      <th>5488506</th>\n",
       "      <td>SPB-14129</td>\n",
       "      <td>335.0</td>\n",
       "      <td>71790.0</td>\n",
       "      <td>2020-03-22</td>\n",
       "      <td>2020-03-22</td>\n",
       "      <td>12.857910</td>\n",
       "      <td>기타</td>\n",
       "      <td>2020-03-24</td>\n",
       "      <td>19:00:29</td>\n",
       "      <td>2020</td>\n",
       "      <td>03</td>\n",
       "      <td>24</td>\n",
       "      <td>10-15</td>\n",
       "    </tr>\n",
       "    <tr>\n",
       "      <th>4458010</th>\n",
       "      <td>SPB-17323</td>\n",
       "      <td>516.0</td>\n",
       "      <td>71190.0</td>\n",
       "      <td>2019-10-06</td>\n",
       "      <td>2019-10-06</td>\n",
       "      <td>8.277907</td>\n",
       "      <td>기타</td>\n",
       "      <td>2020-04-01</td>\n",
       "      <td>18:22:41</td>\n",
       "      <td>2020</td>\n",
       "      <td>04</td>\n",
       "      <td>01</td>\n",
       "      <td>5-10</td>\n",
       "    </tr>\n",
       "  </tbody>\n",
       "</table>\n",
       "</div>"
      ],
      "text/plain": [
       "             자전거번호  이용시간(분)   이용거리(M)        대여일자        반납일자  이용속도(km/h)  \\\n",
       "3700892  SPB-14170   1008.0  214850.0  2019-08-30  2019-08-31   12.788690   \n",
       "4761804  SPB-13668    518.0  129460.0  2019-11-05  2019-11-05   14.995367   \n",
       "962695   SPB-16182    458.0  111010.0  2018-09-02  2018-09-02   14.542795   \n",
       "6261875  SPB-17507    650.0  106150.0  2020-05-05  2020-05-05    9.798462   \n",
       "3206534  SPB-17781    347.0  100630.0  2019-07-15  2019-07-15   17.400000   \n",
       "6961706  SPB-62337    421.0   95640.0  2023-03-18  2023-03-18   13.630404   \n",
       "3216248  SPB-16944    541.0   83640.0  2019-07-06  2019-07-07    9.276155   \n",
       "3989099  SPB-06073    279.0   80760.0  2019-09-30  2019-10-01   17.367742   \n",
       "4248498  SPB-14235    277.0   80640.0  2019-10-04  2019-10-04   17.467148   \n",
       "293921   SPB-06928    417.0   80520.0  2018-05-13  2018-05-13   11.585612   \n",
       "1155530  SPB-16321    372.0   77520.0  2018-09-26  2018-09-26   12.503226   \n",
       "4041886  SPB-14607    363.0   77040.0  2019-09-11  2019-09-11   12.733884   \n",
       "4802198  SPB-16101    247.0   76360.0  2019-11-25  2019-11-25   18.548988   \n",
       "5629555  SPB-14619    493.0   74790.0  2020-04-04  2020-04-04    9.102231   \n",
       "226073   SPB-00571    450.0   74780.0  2018-04-29  2018-04-29    9.970667   \n",
       "3797096  SPB-10735    249.0   74200.0  2019-09-20  2019-09-21   17.879518   \n",
       "2296989  SPB-06580    800.0   73820.0  2019-05-02  2019-05-03    5.536500   \n",
       "2495812  SPB-17077    585.0   73430.0  2019-05-18  2019-05-18    7.531282   \n",
       "5488506  SPB-14129    335.0   71790.0  2020-03-22  2020-03-22   12.857910   \n",
       "4458010  SPB-17323    516.0   71190.0  2019-10-06  2019-10-06    8.277907   \n",
       "\n",
       "         고장구분        등록일자      등록시간     년   월   일 이용속도_구간  \n",
       "3700892   단말기  2020-01-29  22:08:54  2020  01  29   10-15  \n",
       "4761804   단말기  2020-04-01  20:21:35  2020  04  01   10-15  \n",
       "962695    단말기  2020-03-07  11:30:29  2020  03  07   10-15  \n",
       "6261875   단말기  2020-08-25  17:04:07  2020  08  25    5-10  \n",
       "3206534   단말기  2020-03-31  12:16:10  2020  03  31   15-20  \n",
       "6961706   기타   2023-10-31  18:23:58  2023  10  31   10-15  \n",
       "3216248    안장  2020-04-06  17:35:15  2020  04  06    5-10  \n",
       "3989099  타이어   2020-04-09  12:44:27  2020  04  09   15-20  \n",
       "4248498    안장  2020-03-02  22:00:37  2020  03  02   15-20  \n",
       "293921   타이어   2020-02-19  09:38:40  2020  02  19   10-15  \n",
       "1155530    체인  2020-06-20  06:12:25  2020  06  20   10-15  \n",
       "4041886    페달  2020-02-28  07:53:30  2020  02  28   10-15  \n",
       "4802198  타이어   2020-08-28  09:26:38  2020  08  28   15-20  \n",
       "5629555   기타   2020-07-18  11:47:42  2020  07  18    5-10  \n",
       "226073    단말기  2020-03-24  17:34:38  2020  03  24    5-10  \n",
       "3797096  타이어   2020-04-12  22:43:36  2020  04  12   15-20  \n",
       "2296989    안장  2020-03-04  17:00:53  2020  03  04    5-10  \n",
       "2495812    안장  2020-04-13  09:12:10  2020  04  13    5-10  \n",
       "5488506   기타   2020-03-24  19:00:29  2020  03  24   10-15  \n",
       "4458010   기타   2020-04-01  18:22:41  2020  04  01    5-10  "
      ]
     },
     "execution_count": 1048,
     "metadata": {},
     "output_type": "execute_result"
    }
   ],
   "source": [
    "data_rentals[outliers].sort_values(by = '이용거리(M)', ascending = False).head(20)"
   ]
  },
  {
   "cell_type": "code",
   "execution_count": 1050,
   "metadata": {},
   "outputs": [
    {
     "data": {
      "text/plain": [
       "<Axes: xlabel='이용거리(M)', ylabel='Count'>"
      ]
     },
     "execution_count": 1050,
     "metadata": {},
     "output_type": "execute_result"
    },
    {
     "data": {
      "image/png": "[encoded data removed]",
      "text/plain": [
       "<Figure size 640x480 with 1 Axes>"
      ]
     },
     "metadata": {},
     "output_type": "display_data"
    }
   ],
   "source": [
    "sns.histplot(data_rentals[outliers]['이용거리(M)'], bins=10, kde=True, color='lightgreen')"
   ]
  },
  {
   "cell_type": "code",
   "execution_count": 1052,
   "metadata": {},
   "outputs": [
    {
     "name": "stdout",
     "output_type": "stream",
     "text": [
      "outlier_count :  674, outlier_count_ : 6494174\n"
     ]
    }
   ],
   "source": [
    "# 이상치 데이터 수\n",
    "outlier_count = data_rentals[data_rentals['이용거리(M)'] > 40000].shape[0]\n",
    "outlier_count_ = data_rentals[data_rentals['이용거리(M)'] <= 40000].shape[0]\n",
    "\n",
    "print(f'outlier_count :  {outlier_count}, outlier_count_ : {outlier_count_}')\n",
    "\n",
    "# 전체 데이터 수\n",
    "total_count = df.shape[0]\n",
    "\n",
    "# 비율 계산\n",
    "outlier_percentage = (outlier_count / total_count) * 100"
   ]
  },
  {
   "cell_type": "markdown",
   "metadata": {},
   "source": [
    "### \"이용거리(M)\" 이상치 제거"
   ]
  },
  {
   "cell_type": "code",
   "execution_count": 1054,
   "metadata": {},
   "outputs": [],
   "source": [
    "data_rentals = data_rentals[data_rentals['이용거리(M)'] <= 40000]"
   ]
  },
  {
   "cell_type": "code",
   "execution_count": 1056,
   "metadata": {},
   "outputs": [
    {
     "name": "stderr",
     "output_type": "stream",
     "text": [
      "C:\\Users\\user\\AppData\\Local\\Temp\\ipykernel_632\\2913295735.py:1: UserWarning: Boolean Series key will be reindexed to match DataFrame index.\n",
      "  sns.histplot(data_rentals[~outliers]['이용거리(M)'], bins=10, kde=True, color='lightgreen')\n"
     ]
    },
    {
     "data": {
      "text/plain": [
       "<Axes: xlabel='이용거리(M)', ylabel='Count'>"
      ]
     },
     "execution_count": 1056,
     "metadata": {},
     "output_type": "execute_result"
    },
    {
     "data": {
      "image/png": "[encoded data removed]",
      "text/plain": [
       "<Figure size 640x480 with 1 Axes>"
      ]
     },
     "metadata": {},
     "output_type": "display_data"
    }
   ],
   "source": [
    "sns.histplot(data_rentals[~outliers]['이용거리(M)'], bins=10, kde=True, color='lightgreen')"
   ]
  },
  {
   "cell_type": "code",
   "execution_count": 1058,
   "metadata": {},
   "outputs": [
    {
     "name": "stderr",
     "output_type": "stream",
     "text": [
      "C:\\Users\\user\\AppData\\Local\\Temp\\ipykernel_632\\344771741.py:1: UserWarning: Boolean Series key will be reindexed to match DataFrame index.\n",
      "  data_rentals[outliers]['이용속도_구간'].value_counts()\n"
     ]
    },
    {
     "data": {
      "text/plain": [
       "이용속도_구간\n",
       "10-15    275717\n",
       "5-10     181539\n",
       "15-20     79856\n",
       "0-5        9782\n",
       "20-25       113\n",
       "Name: count, dtype: int64"
      ]
     },
     "execution_count": 1058,
     "metadata": {},
     "output_type": "execute_result"
    }
   ],
   "source": [
    "data_rentals[outliers]['이용속도_구간'].value_counts()\n",
    "#sns.histplot(data_rentals2['이용속도(km)'], bins=10, kde=True, color='lightgreen')"
   ]
  },
  {
   "cell_type": "code",
   "execution_count": 1060,
   "metadata": {},
   "outputs": [
    {
     "name": "stderr",
     "output_type": "stream",
     "text": [
      "C:\\Users\\user\\AppData\\Local\\Temp\\ipykernel_632\\4180017381.py:1: UserWarning: Boolean Series key will be reindexed to match DataFrame index.\n",
      "  data_rentals[~outliers]['이용속도_구간'].value_counts()\n"
     ]
    },
    {
     "data": {
      "text/plain": [
       "이용속도_구간\n",
       "5-10     2627466\n",
       "10-15    2121172\n",
       "0-5       838086\n",
       "15-20     359890\n",
       "20-25        553\n",
       "Name: count, dtype: int64"
      ]
     },
     "execution_count": 1060,
     "metadata": {},
     "output_type": "execute_result"
    }
   ],
   "source": [
    "data_rentals[~outliers]['이용속도_구간'].value_counts()\n",
    "#sns.histplot(data_rentals2['이용속도(km)'], bins=10, kde=True, color='lightgreen')"
   ]
  },
  {
   "cell_type": "code",
   "execution_count": 1082,
   "metadata": {},
   "outputs": [
    {
     "data": {
      "image/png": "[encoded data removed]",
      "text/plain": [
       "<Figure size 1200x600 with 2 Axes>"
      ]
     },
     "metadata": {},
     "output_type": "display_data"
    }
   ],
   "source": [
    "# 히스토그램과 KDE 시각화\n",
    "plt.figure(figsize=(12, 6))\n",
    "\n",
    "# 이용시간(분) 히스토그램 및 KDE\n",
    "plt.subplot(1, 2, 1)\n",
    "sns.histplot(data_rentals['이용속도(km/h)'], bins=10, kde=True, color='skyblue')\n",
    "plt.title('이용시간(분) 분포')\n",
    "plt.xlabel('이용시간(분)')\n",
    "plt.ylabel('빈도수')\n",
    "\n",
    "# 이용거리(M) 히스토그램 및 KDE\n",
    "plt.subplot(1, 2, 2)\n",
    "sns.histplot(data_rentals['이용거리(M)'], bins=10, kde=True, color='lightgreen')\n",
    "plt.title('이용거리(M) 분포')\n",
    "plt.xlabel('이용거리(M)')\n",
    "plt.ylabel('빈도수')\n",
    "\n",
    "plt.tight_layout()\n",
    "plt.show()"
   ]
  },
  {
   "cell_type": "code",
   "execution_count": 1064,
   "metadata": {},
   "outputs": [
    {
     "data": {
      "text/html": [
       "<div>\n",
       "<style scoped>\n",
       "    .dataframe tbody tr th:only-of-type {\n",
       "        vertical-align: middle;\n",
       "    }\n",
       "\n",
       "    .dataframe tbody tr th {\n",
       "        vertical-align: top;\n",
       "    }\n",
       "\n",
       "    .dataframe thead th {\n",
       "        text-align: right;\n",
       "    }\n",
       "</style>\n",
       "<table border=\"1\" class=\"dataframe\">\n",
       "  <thead>\n",
       "    <tr style=\"text-align: right;\">\n",
       "      <th>이용속도_구간</th>\n",
       "      <th>0-5</th>\n",
       "      <th>10-15</th>\n",
       "      <th>15-20</th>\n",
       "      <th>20-25</th>\n",
       "      <th>5-10</th>\n",
       "    </tr>\n",
       "    <tr>\n",
       "      <th>자전거번호</th>\n",
       "      <th></th>\n",
       "      <th></th>\n",
       "      <th></th>\n",
       "      <th></th>\n",
       "      <th></th>\n",
       "    </tr>\n",
       "  </thead>\n",
       "  <tbody>\n",
       "    <tr>\n",
       "      <th>SPB-00007</th>\n",
       "      <td>22850.0</td>\n",
       "      <td>139160.0</td>\n",
       "      <td>5710.0</td>\n",
       "      <td>0.0</td>\n",
       "      <td>110240.0</td>\n",
       "    </tr>\n",
       "    <tr>\n",
       "      <th>SPB-00011</th>\n",
       "      <td>154510.0</td>\n",
       "      <td>1005790.0</td>\n",
       "      <td>204530.0</td>\n",
       "      <td>0.0</td>\n",
       "      <td>872640.0</td>\n",
       "    </tr>\n",
       "    <tr>\n",
       "      <th>SPB-00012</th>\n",
       "      <td>15530.0</td>\n",
       "      <td>145030.0</td>\n",
       "      <td>16240.0</td>\n",
       "      <td>0.0</td>\n",
       "      <td>165910.0</td>\n",
       "    </tr>\n",
       "    <tr>\n",
       "      <th>SPB-00013</th>\n",
       "      <td>122190.0</td>\n",
       "      <td>813610.0</td>\n",
       "      <td>213460.0</td>\n",
       "      <td>0.0</td>\n",
       "      <td>821540.0</td>\n",
       "    </tr>\n",
       "    <tr>\n",
       "      <th>SPB-00014</th>\n",
       "      <td>151060.0</td>\n",
       "      <td>981340.0</td>\n",
       "      <td>213360.0</td>\n",
       "      <td>0.0</td>\n",
       "      <td>820220.0</td>\n",
       "    </tr>\n",
       "    <tr>\n",
       "      <th>SPB-00015</th>\n",
       "      <td>371180.0</td>\n",
       "      <td>2411840.0</td>\n",
       "      <td>347500.0</td>\n",
       "      <td>0.0</td>\n",
       "      <td>2260660.0</td>\n",
       "    </tr>\n",
       "    <tr>\n",
       "      <th>SPB-00017</th>\n",
       "      <td>1920.0</td>\n",
       "      <td>63140.0</td>\n",
       "      <td>22530.0</td>\n",
       "      <td>0.0</td>\n",
       "      <td>34750.0</td>\n",
       "    </tr>\n",
       "    <tr>\n",
       "      <th>SPB-00018</th>\n",
       "      <td>219940.0</td>\n",
       "      <td>1306820.0</td>\n",
       "      <td>227970.0</td>\n",
       "      <td>0.0</td>\n",
       "      <td>1235900.0</td>\n",
       "    </tr>\n",
       "    <tr>\n",
       "      <th>SPB-00020</th>\n",
       "      <td>250690.0</td>\n",
       "      <td>1294460.0</td>\n",
       "      <td>224640.0</td>\n",
       "      <td>0.0</td>\n",
       "      <td>1228100.0</td>\n",
       "    </tr>\n",
       "    <tr>\n",
       "      <th>SPB-00022</th>\n",
       "      <td>9270.0</td>\n",
       "      <td>105560.0</td>\n",
       "      <td>4360.0</td>\n",
       "      <td>0.0</td>\n",
       "      <td>71420.0</td>\n",
       "    </tr>\n",
       "  </tbody>\n",
       "</table>\n",
       "</div>"
      ],
      "text/plain": [
       "이용속도_구간         0-5      10-15     15-20  20-25       5-10\n",
       "자전거번호                                                     \n",
       "SPB-00007   22850.0   139160.0    5710.0    0.0   110240.0\n",
       "SPB-00011  154510.0  1005790.0  204530.0    0.0   872640.0\n",
       "SPB-00012   15530.0   145030.0   16240.0    0.0   165910.0\n",
       "SPB-00013  122190.0   813610.0  213460.0    0.0   821540.0\n",
       "SPB-00014  151060.0   981340.0  213360.0    0.0   820220.0\n",
       "SPB-00015  371180.0  2411840.0  347500.0    0.0  2260660.0\n",
       "SPB-00017    1920.0    63140.0   22530.0    0.0    34750.0\n",
       "SPB-00018  219940.0  1306820.0  227970.0    0.0  1235900.0\n",
       "SPB-00020  250690.0  1294460.0  224640.0    0.0  1228100.0\n",
       "SPB-00022    9270.0   105560.0    4360.0    0.0    71420.0"
      ]
     },
     "execution_count": 1064,
     "metadata": {},
     "output_type": "execute_result"
    }
   ],
   "source": [
    "data_rentals2_pivot = data_rentals.pivot_table(index='자전거번호', columns='이용속도_구간', values='이용거리(M)', aggfunc='sum', fill_value=0)\n",
    "data_rentals2_pivot.head(10)"
   ]
  },
  {
   "cell_type": "code",
   "execution_count": 1066,
   "metadata": {},
   "outputs": [
    {
     "data": {
      "text/plain": [
       "5759"
      ]
     },
     "execution_count": 1066,
     "metadata": {},
     "output_type": "execute_result"
    }
   ],
   "source": [
    "data_rentals2_pivot.shape[0]"
   ]
  },
  {
   "cell_type": "code",
   "execution_count": 1068,
   "metadata": {},
   "outputs": [
    {
     "data": {
      "text/html": [
       "<div>\n",
       "<style scoped>\n",
       "    .dataframe tbody tr th:only-of-type {\n",
       "        vertical-align: middle;\n",
       "    }\n",
       "\n",
       "    .dataframe tbody tr th {\n",
       "        vertical-align: top;\n",
       "    }\n",
       "\n",
       "    .dataframe thead th {\n",
       "        text-align: right;\n",
       "    }\n",
       "</style>\n",
       "<table border=\"1\" class=\"dataframe\">\n",
       "  <thead>\n",
       "    <tr style=\"text-align: right;\">\n",
       "      <th></th>\n",
       "      <th>자전거번호</th>\n",
       "      <th>고장구분</th>\n",
       "      <th>등록일자</th>\n",
       "      <th>등록시간</th>\n",
       "      <th>년</th>\n",
       "      <th>월</th>\n",
       "      <th>일</th>\n",
       "    </tr>\n",
       "  </thead>\n",
       "  <tbody>\n",
       "    <tr>\n",
       "      <th>118297</th>\n",
       "      <td>SPB-18542</td>\n",
       "      <td>기타</td>\n",
       "      <td>2020-01-01</td>\n",
       "      <td>04:35:30</td>\n",
       "      <td>2020</td>\n",
       "      <td>01</td>\n",
       "      <td>01</td>\n",
       "    </tr>\n",
       "    <tr>\n",
       "      <th>118301</th>\n",
       "      <td>SPB-13927</td>\n",
       "      <td>페달</td>\n",
       "      <td>2020-01-01</td>\n",
       "      <td>11:47:52</td>\n",
       "      <td>2020</td>\n",
       "      <td>01</td>\n",
       "      <td>01</td>\n",
       "    </tr>\n",
       "  </tbody>\n",
       "</table>\n",
       "</div>"
      ],
      "text/plain": [
       "            자전거번호 고장구분        등록일자      등록시간     년   월   일\n",
       "118297  SPB-18542  기타   2020-01-01  04:35:30  2020  01  01\n",
       "118301  SPB-13927   페달  2020-01-01  11:47:52  2020  01  01"
      ]
     },
     "execution_count": 1068,
     "metadata": {},
     "output_type": "execute_result"
    }
   ],
   "source": [
    "data_faults_1.head(2)"
   ]
  },
  {
   "cell_type": "code",
   "execution_count": 1070,
   "metadata": {},
   "outputs": [
    {
     "data": {
      "text/html": [
       "<div>\n",
       "<style scoped>\n",
       "    .dataframe tbody tr th:only-of-type {\n",
       "        vertical-align: middle;\n",
       "    }\n",
       "\n",
       "    .dataframe tbody tr th {\n",
       "        vertical-align: top;\n",
       "    }\n",
       "\n",
       "    .dataframe thead th {\n",
       "        text-align: right;\n",
       "    }\n",
       "</style>\n",
       "<table border=\"1\" class=\"dataframe\">\n",
       "  <thead>\n",
       "    <tr style=\"text-align: right;\">\n",
       "      <th></th>\n",
       "      <th>자전거번호</th>\n",
       "      <th>고장구분</th>\n",
       "      <th>등록일자</th>\n",
       "      <th>등록시간</th>\n",
       "    </tr>\n",
       "  </thead>\n",
       "  <tbody>\n",
       "    <tr>\n",
       "      <th>118297</th>\n",
       "      <td>SPB-18542</td>\n",
       "      <td>기타</td>\n",
       "      <td>2020-01-01</td>\n",
       "      <td>04:35:30</td>\n",
       "    </tr>\n",
       "    <tr>\n",
       "      <th>118301</th>\n",
       "      <td>SPB-13927</td>\n",
       "      <td>페달</td>\n",
       "      <td>2020-01-01</td>\n",
       "      <td>11:47:52</td>\n",
       "    </tr>\n",
       "  </tbody>\n",
       "</table>\n",
       "</div>"
      ],
      "text/plain": [
       "            자전거번호 고장구분        등록일자      등록시간\n",
       "118297  SPB-18542  기타   2020-01-01  04:35:30\n",
       "118301  SPB-13927   페달  2020-01-01  11:47:52"
      ]
     },
     "execution_count": 1070,
     "metadata": {},
     "output_type": "execute_result"
    }
   ],
   "source": [
    "data_faults_2 = data_faults_1[['자전거번호', '고장구분', '등록일자', '등록시간']]\n",
    "data_faults_2.head(2)"
   ]
  },
  {
   "cell_type": "code",
   "execution_count": 1072,
   "metadata": {},
   "outputs": [
    {
     "data": {
      "text/html": [
       "<div>\n",
       "<style scoped>\n",
       "    .dataframe tbody tr th:only-of-type {\n",
       "        vertical-align: middle;\n",
       "    }\n",
       "\n",
       "    .dataframe tbody tr th {\n",
       "        vertical-align: top;\n",
       "    }\n",
       "\n",
       "    .dataframe thead th {\n",
       "        text-align: right;\n",
       "    }\n",
       "</style>\n",
       "<table border=\"1\" class=\"dataframe\">\n",
       "  <thead>\n",
       "    <tr style=\"text-align: right;\">\n",
       "      <th></th>\n",
       "      <th>자전거번호</th>\n",
       "      <th>0-5</th>\n",
       "      <th>10-15</th>\n",
       "      <th>15-20</th>\n",
       "      <th>20-25</th>\n",
       "      <th>5-10</th>\n",
       "      <th>고장구분</th>\n",
       "      <th>등록일자</th>\n",
       "      <th>등록시간</th>\n",
       "    </tr>\n",
       "  </thead>\n",
       "  <tbody>\n",
       "    <tr>\n",
       "      <th>0</th>\n",
       "      <td>SPB-00007</td>\n",
       "      <td>22850.0</td>\n",
       "      <td>139160.0</td>\n",
       "      <td>5710.0</td>\n",
       "      <td>0.0</td>\n",
       "      <td>110240.0</td>\n",
       "      <td>체인</td>\n",
       "      <td>2020-02-29</td>\n",
       "      <td>02:26:33</td>\n",
       "    </tr>\n",
       "    <tr>\n",
       "      <th>1</th>\n",
       "      <td>SPB-00011</td>\n",
       "      <td>154510.0</td>\n",
       "      <td>1005790.0</td>\n",
       "      <td>204530.0</td>\n",
       "      <td>0.0</td>\n",
       "      <td>872640.0</td>\n",
       "      <td>타이어</td>\n",
       "      <td>2020-03-30</td>\n",
       "      <td>18:36:00</td>\n",
       "    </tr>\n",
       "    <tr>\n",
       "      <th>2</th>\n",
       "      <td>SPB-00012</td>\n",
       "      <td>15530.0</td>\n",
       "      <td>145030.0</td>\n",
       "      <td>16240.0</td>\n",
       "      <td>0.0</td>\n",
       "      <td>165910.0</td>\n",
       "      <td>단말기</td>\n",
       "      <td>2020-03-23</td>\n",
       "      <td>18:22:55</td>\n",
       "    </tr>\n",
       "  </tbody>\n",
       "</table>\n",
       "</div>"
      ],
      "text/plain": [
       "       자전거번호       0-5      10-15     15-20  20-25      5-10  고장구분  \\\n",
       "0  SPB-00007   22850.0   139160.0    5710.0    0.0  110240.0    체인   \n",
       "1  SPB-00011  154510.0  1005790.0  204530.0    0.0  872640.0  타이어    \n",
       "2  SPB-00012   15530.0   145030.0   16240.0    0.0  165910.0   단말기   \n",
       "\n",
       "         등록일자      등록시간  \n",
       "0  2020-02-29  02:26:33  \n",
       "1  2020-03-30  18:36:00  \n",
       "2  2020-03-23  18:22:55  "
      ]
     },
     "execution_count": 1072,
     "metadata": {},
     "output_type": "execute_result"
    }
   ],
   "source": [
    "df_final = pd.merge(data_rentals2_pivot, data_faults_2, on='자전거번호', how='left')\n",
    "df_final.head(3)"
   ]
  },
  {
   "cell_type": "code",
   "execution_count": 1074,
   "metadata": {},
   "outputs": [
    {
     "data": {
      "text/html": [
       "<div>\n",
       "<style scoped>\n",
       "    .dataframe tbody tr th:only-of-type {\n",
       "        vertical-align: middle;\n",
       "    }\n",
       "\n",
       "    .dataframe tbody tr th {\n",
       "        vertical-align: top;\n",
       "    }\n",
       "\n",
       "    .dataframe thead th {\n",
       "        text-align: right;\n",
       "    }\n",
       "</style>\n",
       "<table border=\"1\" class=\"dataframe\">\n",
       "  <thead>\n",
       "    <tr style=\"text-align: right;\">\n",
       "      <th></th>\n",
       "      <th>자전거번호</th>\n",
       "      <th>0-5</th>\n",
       "      <th>10-15</th>\n",
       "      <th>15-20</th>\n",
       "      <th>20-25</th>\n",
       "      <th>5-10</th>\n",
       "      <th>등록일자</th>\n",
       "      <th>등록시간</th>\n",
       "      <th>고장구분_기타</th>\n",
       "      <th>고장구분_단말기</th>\n",
       "      <th>고장구분_안장</th>\n",
       "      <th>고장구분_체인</th>\n",
       "      <th>고장구분_타이어</th>\n",
       "      <th>고장구분_페달</th>\n",
       "    </tr>\n",
       "  </thead>\n",
       "  <tbody>\n",
       "    <tr>\n",
       "      <th>0</th>\n",
       "      <td>SPB-00007</td>\n",
       "      <td>22850.0</td>\n",
       "      <td>139160.0</td>\n",
       "      <td>5710.0</td>\n",
       "      <td>0.0</td>\n",
       "      <td>110240.0</td>\n",
       "      <td>2020-02-29</td>\n",
       "      <td>02:26:33</td>\n",
       "      <td>False</td>\n",
       "      <td>False</td>\n",
       "      <td>False</td>\n",
       "      <td>True</td>\n",
       "      <td>False</td>\n",
       "      <td>False</td>\n",
       "    </tr>\n",
       "    <tr>\n",
       "      <th>1</th>\n",
       "      <td>SPB-00011</td>\n",
       "      <td>154510.0</td>\n",
       "      <td>1005790.0</td>\n",
       "      <td>204530.0</td>\n",
       "      <td>0.0</td>\n",
       "      <td>872640.0</td>\n",
       "      <td>2020-03-30</td>\n",
       "      <td>18:36:00</td>\n",
       "      <td>False</td>\n",
       "      <td>False</td>\n",
       "      <td>False</td>\n",
       "      <td>False</td>\n",
       "      <td>True</td>\n",
       "      <td>False</td>\n",
       "    </tr>\n",
       "  </tbody>\n",
       "</table>\n",
       "</div>"
      ],
      "text/plain": [
       "       자전거번호       0-5      10-15     15-20  20-25      5-10        등록일자  \\\n",
       "0  SPB-00007   22850.0   139160.0    5710.0    0.0  110240.0  2020-02-29   \n",
       "1  SPB-00011  154510.0  1005790.0  204530.0    0.0  872640.0  2020-03-30   \n",
       "\n",
       "       등록시간  고장구분_기타   고장구분_단말기  고장구분_안장  고장구분_체인  고장구분_타이어   고장구분_페달  \n",
       "0  02:26:33     False     False    False     True      False    False  \n",
       "1  18:36:00     False     False    False    False       True    False  "
      ]
     },
     "execution_count": 1074,
     "metadata": {},
     "output_type": "execute_result"
    }
   ],
   "source": [
    "df_encoded = pd.get_dummies(df_final, columns=['고장구분'])\n",
    "df_encoded.head(2)"
   ]
  },
  {
   "cell_type": "code",
   "execution_count": 1076,
   "metadata": {},
   "outputs": [
    {
     "data": {
      "text/plain": [
       "Index(['자전거번호', '0-5', '10-15', '15-20', '20-25', '5-10', '등록일자', '등록시간',\n",
       "       '고장구분_기타 ', '고장구분_단말기', '고장구분_안장', '고장구분_체인', '고장구분_타이어 ', '고장구분_페달'],\n",
       "      dtype='object')"
      ]
     },
     "execution_count": 1076,
     "metadata": {},
     "output_type": "execute_result"
    }
   ],
   "source": [
    "df_encoded.columns"
   ]
  },
  {
   "cell_type": "code",
   "execution_count": 1078,
   "metadata": {},
   "outputs": [
    {
     "data": {
      "text/html": [
       "<div>\n",
       "<style scoped>\n",
       "    .dataframe tbody tr th:only-of-type {\n",
       "        vertical-align: middle;\n",
       "    }\n",
       "\n",
       "    .dataframe tbody tr th {\n",
       "        vertical-align: top;\n",
       "    }\n",
       "\n",
       "    .dataframe thead th {\n",
       "        text-align: right;\n",
       "    }\n",
       "</style>\n",
       "<table border=\"1\" class=\"dataframe\">\n",
       "  <thead>\n",
       "    <tr style=\"text-align: right;\">\n",
       "      <th></th>\n",
       "      <th>0-5</th>\n",
       "      <th>10-15</th>\n",
       "      <th>15-20</th>\n",
       "      <th>20-25</th>\n",
       "      <th>5-10</th>\n",
       "      <th>고장구분_기타</th>\n",
       "      <th>고장구분_단말기</th>\n",
       "      <th>고장구분_안장</th>\n",
       "      <th>고장구분_체인</th>\n",
       "      <th>고장구분_타이어</th>\n",
       "      <th>고장구분_페달</th>\n",
       "    </tr>\n",
       "  </thead>\n",
       "  <tbody>\n",
       "    <tr>\n",
       "      <th>0</th>\n",
       "      <td>22850.0</td>\n",
       "      <td>139160.0</td>\n",
       "      <td>5710.0</td>\n",
       "      <td>0.0</td>\n",
       "      <td>110240.0</td>\n",
       "      <td>False</td>\n",
       "      <td>False</td>\n",
       "      <td>False</td>\n",
       "      <td>True</td>\n",
       "      <td>False</td>\n",
       "      <td>False</td>\n",
       "    </tr>\n",
       "    <tr>\n",
       "      <th>1</th>\n",
       "      <td>154510.0</td>\n",
       "      <td>1005790.0</td>\n",
       "      <td>204530.0</td>\n",
       "      <td>0.0</td>\n",
       "      <td>872640.0</td>\n",
       "      <td>False</td>\n",
       "      <td>False</td>\n",
       "      <td>False</td>\n",
       "      <td>False</td>\n",
       "      <td>True</td>\n",
       "      <td>False</td>\n",
       "    </tr>\n",
       "  </tbody>\n",
       "</table>\n",
       "</div>"
      ],
      "text/plain": [
       "        0-5      10-15     15-20  20-25      5-10  고장구분_기타   고장구분_단말기  \\\n",
       "0   22850.0   139160.0    5710.0    0.0  110240.0     False     False   \n",
       "1  154510.0  1005790.0  204530.0    0.0  872640.0     False     False   \n",
       "\n",
       "   고장구분_안장  고장구분_체인  고장구분_타이어   고장구분_페달  \n",
       "0    False     True      False    False  \n",
       "1    False    False       True    False  "
      ]
     },
     "execution_count": 1078,
     "metadata": {},
     "output_type": "execute_result"
    }
   ],
   "source": [
    "df_encoded_2 = df_encoded[['0-5', '10-15', '15-20', '20-25', '5-10', '고장구분_기타 ', '고장구분_단말기',\n",
    "       '고장구분_안장', '고장구분_체인', '고장구분_타이어 ', '고장구분_페달']]\n",
    "df_encoded_2.head(2)"
   ]
  },
  {
   "cell_type": "code",
   "execution_count": 1098,
   "metadata": {},
   "outputs": [
    {
     "data": {
      "text/plain": [
       "0-5      0.084084\n",
       "10-15    0.418710\n",
       "15-20    0.091262\n",
       "20-25    0.000134\n",
       "5-10     0.405810\n",
       "dtype: float64"
      ]
     },
     "execution_count": 1098,
     "metadata": {},
     "output_type": "execute_result"
    }
   ],
   "source": [
    "# 숫자 데이터만 추출 (속도 범위)\n",
    "df_numeric = df_encoded_2.iloc[:, :5]\n",
    "# 전체 값을 구함\n",
    "total_speed = df_numeric.sum().sum()\n",
    "# 속도 범위에 따른 고장 비율 계산\n",
    "df_ratio = df_numeric.sum() / total_speed\n",
    "df_ratio.sort_index()"
   ]
  },
  {
   "cell_type": "code",
   "execution_count": 1092,
   "metadata": {},
   "outputs": [
    {
     "data": {
      "image/png": "[encoded data removed]",
      "text/plain": [
       "<Figure size 1000x500 with 1 Axes>"
      ]
     },
     "metadata": {},
     "output_type": "display_data"
    }
   ],
   "source": [
    "import matplotlib.pyplot as plt\n",
    "\n",
    "# 데이터를 시각화하기 위한 준비\n",
    "labels = df_encoded_2.columns[0:5]\n",
    "values = df_ratio.values\n",
    "\n",
    "# 바 차트 생성\n",
    "plt.figure(figsize=(10, 5))\n",
    "plt.bar(labels, values, color='skyblue')\n",
    "plt.title('속도 범위에 따른 고장 비율')\n",
    "plt.xlabel('속도 범위')\n",
    "plt.ylabel('비율')\n",
    "plt.xticks(rotation=45)\n",
    "plt.grid(axis='y')\n",
    "plt.show()"
   ]
  },
  {
   "cell_type": "markdown",
   "metadata": {},
   "source": [
    "### 카이제곱 검정 (연관성 확인)\n",
    "-  P-value가 유의수준(일반적으로 0.05)보다 작으면 속도와 고장 구분 간에 연관성이 있다고 판단할 수 있습니다."
   ]
  },
  {
   "cell_type": "code",
   "execution_count": 1086,
   "metadata": {},
   "outputs": [
    {
     "name": "stdout",
     "output_type": "stream",
     "text": [
      "Chi-squared Statistic: 28795.0\n",
      "P-value: 0.4905802645521883\n"
     ]
    }
   ],
   "source": [
    "from scipy.stats import chi2_contingency\n",
    "\n",
    "# 고장 여부 데이터만 추출 (True/False 값)\n",
    "df_faults = df_encoded_2.iloc[:, 5:]\n",
    "\n",
    "# 카이제곱 검정 수행\n",
    "chi2_stat, p_val, dof, ex = chi2_contingency(df_faults.T)\n",
    "\n",
    "print(f\"Chi-squared Statistic: {chi2_stat}\")\n",
    "print(f\"P-value: {p_val}\")"
   ]
  },
  {
   "cell_type": "code",
   "execution_count": 1080,
   "metadata": {},
   "outputs": [
    {
     "data": {
      "image/png": "[encoded data removed]",
      "text/plain": [
       "<Figure size 1000x800 with 2 Axes>"
      ]
     },
     "metadata": {},
     "output_type": "display_data"
    }
   ],
   "source": [
    "# 상관계수 행렬 계산\n",
    "correlation_matrix = df_encoded_2.corr()\n",
    "\n",
    "plt.figure(figsize=(10, 8))\n",
    "sns.heatmap(correlation_matrix, annot=True, fmt=\".2f\", cmap='coolwarm', cbar_kws={'label': '상관계수'}, annot_kws={\"size\": 10})\n",
    "plt.title('상관계수 히트맵')\n",
    "plt.show()"
   ]
  },
  {
   "cell_type": "code",
   "execution_count": null,
   "metadata": {},
   "outputs": [],
   "source": []
  }
 ],
 "metadata": {
  "kernelspec": {
   "display_name": "Python 3 (ipykernel)",
   "language": "python",
   "name": "python3"
  },
  "language_info": {
   "codemirror_mode": {
    "name": "ipython",
    "version": 3
   },
   "file_extension": ".py",
   "mimetype": "text/x-python",
   "name": "python",
   "nbconvert_exporter": "python",
   "pygments_lexer": "ipython3",
   "version": "3.12.4"
  }
 },
 "nbformat": 4,
 "nbformat_minor": 4
}
