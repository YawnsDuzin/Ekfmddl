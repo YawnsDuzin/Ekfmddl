{
 "cells": [
  {
   "cell_type": "markdown",
   "id": "b612bf6c-e5e4-4496-8d16-b22a39542f73",
   "metadata": {},
   "source": [
    "## 기본 라이브러리 불러오기"
   ]
  },
  {
   "cell_type": "code",
   "execution_count": 2,
   "id": "58e2f7bd-35ca-4aab-a31e-ae79a8c944f4",
   "metadata": {},
   "outputs": [],
   "source": [
    "# 라이브러리 임포트\n",
    "import os\n",
    "import numpy as np\n",
    "import pandas as pd\n",
    "import chardet\n",
    "\n",
    "# 사용자 정의함수 경로 설정\n",
    "import sys\n",
    "sys.path.append(\"G:/내 드라이브/Source/_Custom_Function\")\n",
    "# 사용자 정의함수 불러오기\n",
    "\n",
    "pd.set_option('display.max_column', None)\n",
    "\n",
    "import time\n",
    "\n",
    "import ExcelFile_Merge as em\n",
    "import ExcelFile_Read as er\n",
    "import ExcelFile_EDA as ee"
   ]
  },
  {
   "cell_type": "markdown",
   "id": "8f241e5e-313f-47f2-ae1c-94c2e5b07c69",
   "metadata": {},
   "source": [
    "---\n",
    "### 이상치 제거 함수"
   ]
  },
  {
   "cell_type": "code",
   "execution_count": 4,
   "id": "9f1b6963-b9ac-45d8-ae10-e865ce99b132",
   "metadata": {},
   "outputs": [],
   "source": [
    "def check_outlier(_df, _column):\n",
    "    # IQR 방법\n",
    "    Q1 = _df[_column].quantile(0.25)\n",
    "    Q3 = _df[_column].quantile(0.75)\n",
    "    IQR = Q3 - Q1\n",
    "    lower_bound = Q1 - 1.5 * IQR\n",
    "    upper_bound = Q3 + 1.5 * IQR\n",
    "    outliers = _df[~((_df[_column] < lower_bound) | (_df[_column] > upper_bound))]\n",
    "    \n",
    "    return outliers"
   ]
  },
  {
   "cell_type": "markdown",
   "id": "8b949104-4661-4ca2-a158-5e0b3b5a6aa0",
   "metadata": {},
   "source": [
    "---\n",
    "## 이상치패턴 저장데이터 다시 불러오기"
   ]
  },
  {
   "cell_type": "code",
   "execution_count": 6,
   "id": "36faf9cb-7e90-4b0b-a552-62bceafed4cd",
   "metadata": {},
   "outputs": [
    {
     "name": "stdout",
     "output_type": "stream",
     "text": [
      "read_csv time : 0.05644369125366211\n"
     ]
    }
   ],
   "source": [
    "start_time = time.time()\n",
    "df_outlier_rental = pd.read_parquet('G:\\\\내 드라이브\\\\DataSet\\\\_파킷 파일\\\\서울특별시 공공자전거 대여이력 정보\\\\서울특별시 공공자전거 대여이력 정보_(PRE)고장예측_2023_2024_20241107.parquet')\n",
    "print(\"read_csv time :\", time.time() - start_time)"
   ]
  },
  {
   "cell_type": "code",
   "execution_count": 7,
   "id": "a50d72d6-7621-4c6d-bc8a-38455e186366",
   "metadata": {},
   "outputs": [
    {
     "data": {
      "text/html": [
       "<div>\n",
       "<style scoped>\n",
       "    .dataframe tbody tr th:only-of-type {\n",
       "        vertical-align: middle;\n",
       "    }\n",
       "\n",
       "    .dataframe tbody tr th {\n",
       "        vertical-align: top;\n",
       "    }\n",
       "\n",
       "    .dataframe thead th {\n",
       "        text-align: right;\n",
       "    }\n",
       "</style>\n",
       "<table border=\"1\" class=\"dataframe\">\n",
       "  <thead>\n",
       "    <tr style=\"text-align: right;\">\n",
       "      <th></th>\n",
       "      <th>자전거번호</th>\n",
       "      <th>이전일자_1mon</th>\n",
       "      <th>등록대여일자</th>\n",
       "      <th>고장구분</th>\n",
       "      <th>고장여부</th>\n",
       "      <th>이상패턴_5min_횟수</th>\n",
       "      <th>이전일자_1mon_이용거리</th>\n",
       "      <th>이전일자_1mon_이용시간</th>\n",
       "      <th>이전일자_1mon_이용횟수</th>\n",
       "    </tr>\n",
       "  </thead>\n",
       "  <tbody>\n",
       "    <tr>\n",
       "      <th>0</th>\n",
       "      <td>SPB-30006</td>\n",
       "      <td>2024-02-29</td>\n",
       "      <td>2024-03-31</td>\n",
       "      <td>페달</td>\n",
       "      <td>1</td>\n",
       "      <td>2</td>\n",
       "      <td>98170.92</td>\n",
       "      <td>843.0</td>\n",
       "      <td>74.0</td>\n",
       "    </tr>\n",
       "    <tr>\n",
       "      <th>1</th>\n",
       "      <td>SPB-30010</td>\n",
       "      <td>2024-05-18</td>\n",
       "      <td>2024-06-18</td>\n",
       "      <td>타이어</td>\n",
       "      <td>1</td>\n",
       "      <td>5</td>\n",
       "      <td>231653.56</td>\n",
       "      <td>2257.0</td>\n",
       "      <td>121.0</td>\n",
       "    </tr>\n",
       "    <tr>\n",
       "      <th>2</th>\n",
       "      <td>SPB-30014</td>\n",
       "      <td>2024-05-24</td>\n",
       "      <td>2024-06-24</td>\n",
       "      <td>기타</td>\n",
       "      <td>1</td>\n",
       "      <td>7</td>\n",
       "      <td>335138.54</td>\n",
       "      <td>2966.0</td>\n",
       "      <td>156.0</td>\n",
       "    </tr>\n",
       "    <tr>\n",
       "      <th>3</th>\n",
       "      <td>SPB-30018</td>\n",
       "      <td>2024-05-01</td>\n",
       "      <td>2024-06-01</td>\n",
       "      <td>기타</td>\n",
       "      <td>1</td>\n",
       "      <td>2</td>\n",
       "      <td>291259.65</td>\n",
       "      <td>3041.0</td>\n",
       "      <td>153.0</td>\n",
       "    </tr>\n",
       "    <tr>\n",
       "      <th>4</th>\n",
       "      <td>SPB-30022</td>\n",
       "      <td>2024-04-20</td>\n",
       "      <td>2024-05-20</td>\n",
       "      <td>기타</td>\n",
       "      <td>1</td>\n",
       "      <td>7</td>\n",
       "      <td>253399.66</td>\n",
       "      <td>2755.0</td>\n",
       "      <td>143.0</td>\n",
       "    </tr>\n",
       "  </tbody>\n",
       "</table>\n",
       "</div>"
      ],
      "text/plain": [
       "       자전거번호  이전일자_1mon     등록대여일자  고장구분  고장여부  이상패턴_5min_횟수  이전일자_1mon_이용거리  \\\n",
       "0  SPB-30006 2024-02-29 2024-03-31    페달     1             2        98170.92   \n",
       "1  SPB-30010 2024-05-18 2024-06-18  타이어      1             5       231653.56   \n",
       "2  SPB-30014 2024-05-24 2024-06-24   기타      1             7       335138.54   \n",
       "3  SPB-30018 2024-05-01 2024-06-01   기타      1             2       291259.65   \n",
       "4  SPB-30022 2024-04-20 2024-05-20   기타      1             7       253399.66   \n",
       "\n",
       "   이전일자_1mon_이용시간  이전일자_1mon_이용횟수  \n",
       "0           843.0            74.0  \n",
       "1          2257.0           121.0  \n",
       "2          2966.0           156.0  \n",
       "3          3041.0           153.0  \n",
       "4          2755.0           143.0  "
      ]
     },
     "execution_count": 7,
     "metadata": {},
     "output_type": "execute_result"
    }
   ],
   "source": [
    "df_outlier_rental.head()"
   ]
  },
  {
   "cell_type": "code",
   "execution_count": 8,
   "id": "413a7151-7894-4673-ba36-cf494de0b5ff",
   "metadata": {},
   "outputs": [
    {
     "data": {
      "text/plain": [
       "고장여부\n",
       "1    28589\n",
       "0    13307\n",
       "Name: count, dtype: int64"
      ]
     },
     "execution_count": 8,
     "metadata": {},
     "output_type": "execute_result"
    }
   ],
   "source": [
    "df_outlier_rental['고장여부'].value_counts()"
   ]
  },
  {
   "cell_type": "markdown",
   "id": "06dd5bb2-d253-41e8-b648-8bb069ca3eee",
   "metadata": {},
   "source": [
    "---\n",
    "## 23년 자전거대여 월별집계 내역 불러오기"
   ]
  },
  {
   "cell_type": "code",
   "execution_count": 10,
   "id": "94be455c-fb77-47e2-baf1-1de0daf65bdc",
   "metadata": {},
   "outputs": [
    {
     "ename": "FileNotFoundError",
     "evalue": "[Errno 2] No such file or directory: 'G:\\\\내 드라이브\\\\DataSet\\\\_파킷 파일\\\\서울특별시 공공자전거 대여이력 정보\\\\서울특별시 공공자전거 대여이력 정보_(PRE)2023_자전거별_월별_집계.parquet'",
     "output_type": "error",
     "traceback": [
      "\u001b[1;31m---------------------------------------------------------------------------\u001b[0m",
      "\u001b[1;31mFileNotFoundError\u001b[0m                         Traceback (most recent call last)",
      "Cell \u001b[1;32mIn[10], line 2\u001b[0m\n\u001b[0;32m      1\u001b[0m start_time \u001b[38;5;241m=\u001b[39m time\u001b[38;5;241m.\u001b[39mtime()\n\u001b[1;32m----> 2\u001b[0m df_2023_rental \u001b[38;5;241m=\u001b[39m \u001b[43mpd\u001b[49m\u001b[38;5;241;43m.\u001b[39;49m\u001b[43mread_parquet\u001b[49m\u001b[43m(\u001b[49m\u001b[38;5;124;43m'\u001b[39;49m\u001b[38;5;124;43mG:\u001b[39;49m\u001b[38;5;130;43;01m\\\\\u001b[39;49;00m\u001b[38;5;124;43m내 드라이브\u001b[39;49m\u001b[38;5;130;43;01m\\\\\u001b[39;49;00m\u001b[38;5;124;43mDataSet\u001b[39;49m\u001b[38;5;130;43;01m\\\\\u001b[39;49;00m\u001b[38;5;124;43m_파킷 파일\u001b[39;49m\u001b[38;5;130;43;01m\\\\\u001b[39;49;00m\u001b[38;5;124;43m서울특별시 공공자전거 대여이력 정보\u001b[39;49m\u001b[38;5;130;43;01m\\\\\u001b[39;49;00m\u001b[38;5;124;43m서울특별시 공공자전거 대여이력 정보_(PRE)2023_자전거별_월별_집계.parquet\u001b[39;49m\u001b[38;5;124;43m'\u001b[39;49m\u001b[43m)\u001b[49m\n\u001b[0;32m      3\u001b[0m \u001b[38;5;28mprint\u001b[39m(\u001b[38;5;124m\"\u001b[39m\u001b[38;5;124mread_csv time :\u001b[39m\u001b[38;5;124m\"\u001b[39m, time\u001b[38;5;241m.\u001b[39mtime() \u001b[38;5;241m-\u001b[39m start_time)\n",
      "File \u001b[1;32m~\\anaconda3\\Lib\\site-packages\\pandas\\io\\parquet.py:667\u001b[0m, in \u001b[0;36mread_parquet\u001b[1;34m(path, engine, columns, storage_options, use_nullable_dtypes, dtype_backend, filesystem, filters, **kwargs)\u001b[0m\n\u001b[0;32m    664\u001b[0m     use_nullable_dtypes \u001b[38;5;241m=\u001b[39m \u001b[38;5;28;01mFalse\u001b[39;00m\n\u001b[0;32m    665\u001b[0m check_dtype_backend(dtype_backend)\n\u001b[1;32m--> 667\u001b[0m \u001b[38;5;28;01mreturn\u001b[39;00m \u001b[43mimpl\u001b[49m\u001b[38;5;241;43m.\u001b[39;49m\u001b[43mread\u001b[49m\u001b[43m(\u001b[49m\n\u001b[0;32m    668\u001b[0m \u001b[43m    \u001b[49m\u001b[43mpath\u001b[49m\u001b[43m,\u001b[49m\n\u001b[0;32m    669\u001b[0m \u001b[43m    \u001b[49m\u001b[43mcolumns\u001b[49m\u001b[38;5;241;43m=\u001b[39;49m\u001b[43mcolumns\u001b[49m\u001b[43m,\u001b[49m\n\u001b[0;32m    670\u001b[0m \u001b[43m    \u001b[49m\u001b[43mfilters\u001b[49m\u001b[38;5;241;43m=\u001b[39;49m\u001b[43mfilters\u001b[49m\u001b[43m,\u001b[49m\n\u001b[0;32m    671\u001b[0m \u001b[43m    \u001b[49m\u001b[43mstorage_options\u001b[49m\u001b[38;5;241;43m=\u001b[39;49m\u001b[43mstorage_options\u001b[49m\u001b[43m,\u001b[49m\n\u001b[0;32m    672\u001b[0m \u001b[43m    \u001b[49m\u001b[43muse_nullable_dtypes\u001b[49m\u001b[38;5;241;43m=\u001b[39;49m\u001b[43muse_nullable_dtypes\u001b[49m\u001b[43m,\u001b[49m\n\u001b[0;32m    673\u001b[0m \u001b[43m    \u001b[49m\u001b[43mdtype_backend\u001b[49m\u001b[38;5;241;43m=\u001b[39;49m\u001b[43mdtype_backend\u001b[49m\u001b[43m,\u001b[49m\n\u001b[0;32m    674\u001b[0m \u001b[43m    \u001b[49m\u001b[43mfilesystem\u001b[49m\u001b[38;5;241;43m=\u001b[39;49m\u001b[43mfilesystem\u001b[49m\u001b[43m,\u001b[49m\n\u001b[0;32m    675\u001b[0m \u001b[43m    \u001b[49m\u001b[38;5;241;43m*\u001b[39;49m\u001b[38;5;241;43m*\u001b[39;49m\u001b[43mkwargs\u001b[49m\u001b[43m,\u001b[49m\n\u001b[0;32m    676\u001b[0m \u001b[43m\u001b[49m\u001b[43m)\u001b[49m\n",
      "File \u001b[1;32m~\\anaconda3\\Lib\\site-packages\\pandas\\io\\parquet.py:267\u001b[0m, in \u001b[0;36mPyArrowImpl.read\u001b[1;34m(self, path, columns, filters, use_nullable_dtypes, dtype_backend, storage_options, filesystem, **kwargs)\u001b[0m\n\u001b[0;32m    264\u001b[0m \u001b[38;5;28;01mif\u001b[39;00m manager \u001b[38;5;241m==\u001b[39m \u001b[38;5;124m\"\u001b[39m\u001b[38;5;124marray\u001b[39m\u001b[38;5;124m\"\u001b[39m:\n\u001b[0;32m    265\u001b[0m     to_pandas_kwargs[\u001b[38;5;124m\"\u001b[39m\u001b[38;5;124msplit_blocks\u001b[39m\u001b[38;5;124m\"\u001b[39m] \u001b[38;5;241m=\u001b[39m \u001b[38;5;28;01mTrue\u001b[39;00m  \u001b[38;5;66;03m# type: ignore[assignment]\u001b[39;00m\n\u001b[1;32m--> 267\u001b[0m path_or_handle, handles, filesystem \u001b[38;5;241m=\u001b[39m \u001b[43m_get_path_or_handle\u001b[49m\u001b[43m(\u001b[49m\n\u001b[0;32m    268\u001b[0m \u001b[43m    \u001b[49m\u001b[43mpath\u001b[49m\u001b[43m,\u001b[49m\n\u001b[0;32m    269\u001b[0m \u001b[43m    \u001b[49m\u001b[43mfilesystem\u001b[49m\u001b[43m,\u001b[49m\n\u001b[0;32m    270\u001b[0m \u001b[43m    \u001b[49m\u001b[43mstorage_options\u001b[49m\u001b[38;5;241;43m=\u001b[39;49m\u001b[43mstorage_options\u001b[49m\u001b[43m,\u001b[49m\n\u001b[0;32m    271\u001b[0m \u001b[43m    \u001b[49m\u001b[43mmode\u001b[49m\u001b[38;5;241;43m=\u001b[39;49m\u001b[38;5;124;43m\"\u001b[39;49m\u001b[38;5;124;43mrb\u001b[39;49m\u001b[38;5;124;43m\"\u001b[39;49m\u001b[43m,\u001b[49m\n\u001b[0;32m    272\u001b[0m \u001b[43m\u001b[49m\u001b[43m)\u001b[49m\n\u001b[0;32m    273\u001b[0m \u001b[38;5;28;01mtry\u001b[39;00m:\n\u001b[0;32m    274\u001b[0m     pa_table \u001b[38;5;241m=\u001b[39m \u001b[38;5;28mself\u001b[39m\u001b[38;5;241m.\u001b[39mapi\u001b[38;5;241m.\u001b[39mparquet\u001b[38;5;241m.\u001b[39mread_table(\n\u001b[0;32m    275\u001b[0m         path_or_handle,\n\u001b[0;32m    276\u001b[0m         columns\u001b[38;5;241m=\u001b[39mcolumns,\n\u001b[1;32m   (...)\u001b[0m\n\u001b[0;32m    279\u001b[0m         \u001b[38;5;241m*\u001b[39m\u001b[38;5;241m*\u001b[39mkwargs,\n\u001b[0;32m    280\u001b[0m     )\n",
      "File \u001b[1;32m~\\anaconda3\\Lib\\site-packages\\pandas\\io\\parquet.py:140\u001b[0m, in \u001b[0;36m_get_path_or_handle\u001b[1;34m(path, fs, storage_options, mode, is_dir)\u001b[0m\n\u001b[0;32m    130\u001b[0m handles \u001b[38;5;241m=\u001b[39m \u001b[38;5;28;01mNone\u001b[39;00m\n\u001b[0;32m    131\u001b[0m \u001b[38;5;28;01mif\u001b[39;00m (\n\u001b[0;32m    132\u001b[0m     \u001b[38;5;129;01mnot\u001b[39;00m fs\n\u001b[0;32m    133\u001b[0m     \u001b[38;5;129;01mand\u001b[39;00m \u001b[38;5;129;01mnot\u001b[39;00m is_dir\n\u001b[1;32m   (...)\u001b[0m\n\u001b[0;32m    138\u001b[0m     \u001b[38;5;66;03m# fsspec resources can also point to directories\u001b[39;00m\n\u001b[0;32m    139\u001b[0m     \u001b[38;5;66;03m# this branch is used for example when reading from non-fsspec URLs\u001b[39;00m\n\u001b[1;32m--> 140\u001b[0m     handles \u001b[38;5;241m=\u001b[39m \u001b[43mget_handle\u001b[49m\u001b[43m(\u001b[49m\n\u001b[0;32m    141\u001b[0m \u001b[43m        \u001b[49m\u001b[43mpath_or_handle\u001b[49m\u001b[43m,\u001b[49m\u001b[43m \u001b[49m\u001b[43mmode\u001b[49m\u001b[43m,\u001b[49m\u001b[43m \u001b[49m\u001b[43mis_text\u001b[49m\u001b[38;5;241;43m=\u001b[39;49m\u001b[38;5;28;43;01mFalse\u001b[39;49;00m\u001b[43m,\u001b[49m\u001b[43m \u001b[49m\u001b[43mstorage_options\u001b[49m\u001b[38;5;241;43m=\u001b[39;49m\u001b[43mstorage_options\u001b[49m\n\u001b[0;32m    142\u001b[0m \u001b[43m    \u001b[49m\u001b[43m)\u001b[49m\n\u001b[0;32m    143\u001b[0m     fs \u001b[38;5;241m=\u001b[39m \u001b[38;5;28;01mNone\u001b[39;00m\n\u001b[0;32m    144\u001b[0m     path_or_handle \u001b[38;5;241m=\u001b[39m handles\u001b[38;5;241m.\u001b[39mhandle\n",
      "File \u001b[1;32m~\\anaconda3\\Lib\\site-packages\\pandas\\io\\common.py:882\u001b[0m, in \u001b[0;36mget_handle\u001b[1;34m(path_or_buf, mode, encoding, compression, memory_map, is_text, errors, storage_options)\u001b[0m\n\u001b[0;32m    873\u001b[0m         handle \u001b[38;5;241m=\u001b[39m \u001b[38;5;28mopen\u001b[39m(\n\u001b[0;32m    874\u001b[0m             handle,\n\u001b[0;32m    875\u001b[0m             ioargs\u001b[38;5;241m.\u001b[39mmode,\n\u001b[1;32m   (...)\u001b[0m\n\u001b[0;32m    878\u001b[0m             newline\u001b[38;5;241m=\u001b[39m\u001b[38;5;124m\"\u001b[39m\u001b[38;5;124m\"\u001b[39m,\n\u001b[0;32m    879\u001b[0m         )\n\u001b[0;32m    880\u001b[0m     \u001b[38;5;28;01melse\u001b[39;00m:\n\u001b[0;32m    881\u001b[0m         \u001b[38;5;66;03m# Binary mode\u001b[39;00m\n\u001b[1;32m--> 882\u001b[0m         handle \u001b[38;5;241m=\u001b[39m \u001b[38;5;28;43mopen\u001b[39;49m\u001b[43m(\u001b[49m\u001b[43mhandle\u001b[49m\u001b[43m,\u001b[49m\u001b[43m \u001b[49m\u001b[43mioargs\u001b[49m\u001b[38;5;241;43m.\u001b[39;49m\u001b[43mmode\u001b[49m\u001b[43m)\u001b[49m\n\u001b[0;32m    883\u001b[0m     handles\u001b[38;5;241m.\u001b[39mappend(handle)\n\u001b[0;32m    885\u001b[0m \u001b[38;5;66;03m# Convert BytesIO or file objects passed with an encoding\u001b[39;00m\n",
      "\u001b[1;31mFileNotFoundError\u001b[0m: [Errno 2] No such file or directory: 'G:\\\\내 드라이브\\\\DataSet\\\\_파킷 파일\\\\서울특별시 공공자전거 대여이력 정보\\\\서울특별시 공공자전거 대여이력 정보_(PRE)2023_자전거별_월별_집계.parquet'"
     ]
    }
   ],
   "source": [
    "start_time = time.time()\n",
    "df_2023_rental = pd.read_parquet('G:\\\\내 드라이브\\\\DataSet\\\\_파킷 파일\\\\서울특별시 공공자전거 대여이력 정보\\\\서울특별시 공공자전거 대여이력 정보_(PRE)2023_자전거별_월별_집계.parquet')\n",
    "print(\"read_csv time :\", time.time() - start_time)"
   ]
  },
  {
   "cell_type": "code",
   "execution_count": null,
   "id": "9f2b48ee-b25f-437a-a2ea-c69f8b51e5a6",
   "metadata": {},
   "outputs": [],
   "source": [
    "df_2023_rental.shape[0]"
   ]
  },
  {
   "cell_type": "code",
   "execution_count": null,
   "id": "28504e39-55b5-47a1-8002-4fba315a0770",
   "metadata": {},
   "outputs": [],
   "source": [
    "df_2023_rental.head(5)"
   ]
  },
  {
   "cell_type": "code",
   "execution_count": null,
   "id": "586f23f4-310b-41b3-8da4-00724b84fac7",
   "metadata": {},
   "outputs": [],
   "source": [
    "df_2023_rental.columns"
   ]
  },
  {
   "cell_type": "code",
   "execution_count": null,
   "id": "b076e63e-25d5-4891-82c9-3d2cab050afa",
   "metadata": {},
   "outputs": [],
   "source": [
    "df_2023_rental = df_2023_rental[['자전거번호', '대여일자_count(mean)', '이용거리(M)_mean(mean)', '이용거리(M)_sum(mean)']]"
   ]
  },
  {
   "cell_type": "code",
   "execution_count": null,
   "id": "719b76c8-ce2e-42d2-972a-fb2986f75526",
   "metadata": {},
   "outputs": [],
   "source": [
    "df_outlier_rental = pd.merge(df_outlier_rental, df_2023_rental, on='자전거번호', how='inner')"
   ]
  },
  {
   "cell_type": "code",
   "execution_count": null,
   "id": "0329b6c5-a1cf-4b58-a0ca-6f08d30ba3ca",
   "metadata": {},
   "outputs": [],
   "source": [
    "df_outlier_rental.head()"
   ]
  },
  {
   "cell_type": "code",
   "execution_count": null,
   "id": "3b6e3ff0-b2e9-4c30-be5c-eaedef045b6e",
   "metadata": {},
   "outputs": [],
   "source": [
    "df_outlier_rental.isnull().sum()"
   ]
  },
  {
   "cell_type": "markdown",
   "id": "ce6277ed-7bef-48d8-9714-fd1f06e60d09",
   "metadata": {},
   "source": [
    "---\n",
    "### 23년 월별평균 <-> 한달 이전데이터 비교 컬럼 추가"
   ]
  },
  {
   "cell_type": "code",
   "execution_count": null,
   "id": "5255dbcc-bc25-406e-9fc5-9615ef5f02c8",
   "metadata": {},
   "outputs": [],
   "source": [
    "# 고장 자전거는 23년 월별평균보다, 이전 한달 데이터가 더 적을 것이라는 가정\n",
    "df_outlier_rental['이용횟수_비교'] = ee.ss_compare(df_outlier_rental['대여일자_count(mean)'], df_outlier_rental['이전일자_1mon_이용횟수'])\n",
    "df_outlier_rental['이용거리_비교'] = ee.ss_compare(df_outlier_rental['이용거리(M)_sum(mean)'], df_outlier_rental['이전일자_1mon_이용거리'])"
   ]
  },
  {
   "cell_type": "code",
   "execution_count": null,
   "id": "4cf80713-3469-4122-b873-2b5d3f2c2737",
   "metadata": {},
   "outputs": [],
   "source": [
    "df_outlier_rental['이용횟수_비교(절대값)'] = df_outlier_rental['이용횟수_비교'].abs()\n",
    "df_outlier_rental['이용거리_비교(절대값)'] = df_outlier_rental['이용거리_비교'].abs()"
   ]
  },
  {
   "cell_type": "code",
   "execution_count": null,
   "id": "7ec4585b-c65e-4a6e-a632-6e2ab5de66ad",
   "metadata": {},
   "outputs": [],
   "source": [
    "df_outlier_rental.head()"
   ]
  },
  {
   "cell_type": "code",
   "execution_count": null,
   "id": "7c3ea8d5-2293-4291-a7fd-1dedd243f1ee",
   "metadata": {},
   "outputs": [],
   "source": [
    "df_Bike_latest_2 = df_outlier_rental"
   ]
  },
  {
   "cell_type": "code",
   "execution_count": null,
   "id": "e58a0601-116a-4db7-a022-bc8659db0a4c",
   "metadata": {},
   "outputs": [],
   "source": [
    "df_Bike_latest_2.head()"
   ]
  },
  {
   "cell_type": "markdown",
   "id": "26a61f3b-7843-4af9-bf10-bf73cf0824f9",
   "metadata": {},
   "source": [
    "---\n",
    "## 고장횟수 별 - 고장비율\n",
    " - 고장 : 24년의 마지막고장신고\n",
    " - 정상 : 24년의 마지막 대여일"
   ]
  },
  {
   "cell_type": "code",
   "execution_count": null,
   "id": "3564944e-9776-49d4-be38-b389710caf09",
   "metadata": {},
   "outputs": [],
   "source": [
    "import matplotlib.pyplot as plt\n",
    "import seaborn as sns"
   ]
  },
  {
   "cell_type": "markdown",
   "id": "9ae94474-4e23-419a-9a2a-d3311faf8aa1",
   "metadata": {},
   "source": [
    "### [전체] 고장여부 비율"
   ]
  },
  {
   "cell_type": "code",
   "execution_count": null,
   "id": "aede0e8c-5ce4-4679-b76d-47a44fc1cbcf",
   "metadata": {},
   "outputs": [],
   "source": [
    "counts = df_Bike_latest_2['고장여부'].value_counts()\n",
    "total = counts.sum()   # 총 데이터 개수\n",
    "percentage = counts / total * 100   # 비율 계산\n",
    "print(f'total : {total}')\n",
    "print(f'counts : {counts}')\n",
    "print(f'percentage : {percentage}')"
   ]
  },
  {
   "cell_type": "markdown",
   "id": "82241222-6fd5-468b-82ca-2f1ecef41ae8",
   "metadata": {},
   "source": [
    "---\n",
    "## 고장여부 에 따른 고장횟수"
   ]
  },
  {
   "cell_type": "code",
   "execution_count": null,
   "id": "4921d576-c427-4236-bd27-8c48731109fd",
   "metadata": {},
   "outputs": [],
   "source": [
    "# 한글 폰트 설정 (Windows에서는 'Malgun Gothic' 사용)\n",
    "plt.rcParams['font.family'] = 'Malgun Gothic'\n",
    "# 마이너스 기호 깨짐 방지\n",
    "plt.rcParams['axes.unicode_minus'] = False\n",
    "\n",
    "# 데이터 준비\n",
    "gojang_counts = df_Bike_latest_2['고장여부'].value_counts()\n",
    "# 그래프 크기 설정\n",
    "plt.figure(figsize=(10, 6))\n",
    "# 막대 그래프 그리기\n",
    "gojang_counts.plot(kind='bar', color=['skyblue', 'lightcoral'])\n",
    "# 그래프 꾸미기\n",
    "plt.title('고장 여부 분포', fontsize=16)\n",
    "plt.xlabel('고장 여부', fontsize=12)\n",
    "plt.ylabel('빈도수', fontsize=12)\n",
    "plt.xticks(rotation=0)\n",
    "\n",
    "# 각 막대 위에 값 표시\n",
    "for i, v in enumerate(gojang_counts):\n",
    "    plt.text(i, v, str(v), ha='center', va='bottom')\n",
    "\n",
    "plt.tight_layout()\n",
    "plt.show()"
   ]
  },
  {
   "cell_type": "markdown",
   "id": "c6d3fa8b-9665-4066-99db-52593b3aef2d",
   "metadata": {},
   "source": [
    "### 결측치 확인"
   ]
  },
  {
   "cell_type": "code",
   "execution_count": null,
   "id": "093cbada-5261-4108-b603-3c23e5db71b6",
   "metadata": {},
   "outputs": [],
   "source": [
    "df_Bike_latest_2.isnull().sum()"
   ]
  },
  {
   "cell_type": "code",
   "execution_count": null,
   "id": "02e1db7d-d5b4-418a-8df8-7e22d37c53f7",
   "metadata": {},
   "outputs": [],
   "source": [
    "import missingno as msno\n",
    "# 결측치 매트릭스 시각화\n",
    "msno.matrix(df_Bike_latest_2)\n",
    "plt.show()"
   ]
  },
  {
   "cell_type": "markdown",
   "id": "0a87192a-89a7-4b46-b92e-e8e6298a2363",
   "metadata": {},
   "source": [
    "---\n",
    "### 중복제거"
   ]
  },
  {
   "cell_type": "code",
   "execution_count": null,
   "id": "815ff29d-de74-4c8c-8a27-3f0716916cb3",
   "metadata": {},
   "outputs": [],
   "source": [
    "df_Bike_latest_3 = df_Bike_latest_2.dropna()"
   ]
  },
  {
   "cell_type": "markdown",
   "id": "1af55195-9a83-4299-8457-ae30f5d59d20",
   "metadata": {},
   "source": [
    "---\n",
    "### subplot multi 함수선언"
   ]
  },
  {
   "cell_type": "code",
   "execution_count": null,
   "id": "117432b2-ee2c-434c-9c55-66c0dbaffb14",
   "metadata": {},
   "outputs": [],
   "source": [
    "# 서브플롯 생성 함수\n",
    "def create_bi_subplot(_df, _columns):\n",
    "    plt.figure(figsize=(15, 6))\n",
    "    \n",
    "    # 전체 데이터에서 x축 범위 계산\n",
    "    # x_min = min(_df[_columns[0]].min(),\n",
    "    #             _df[_columns[1]].min(),\n",
    "    #             _df[_columns[2]].min())\n",
    "    # x_max = max(_df[_columns[0]].max(),\n",
    "    #             _df[_columns[1]].max(),\n",
    "    #             _df[_columns[2]].max())\n",
    "    x_min = _df[_columns[0]].min()\n",
    "    x_max = _df[_columns[0]].max()\n",
    "\n",
    "    # 최대 빈도수 계산\n",
    "    max_count = 0\n",
    "    for j in [0, 1]:\n",
    "        for _column in _columns:\n",
    "            data = _df[_df['고장여부'] == j][_column]\n",
    "            counts, _ = np.histogram(data, bins=10)\n",
    "            max_count = max(max_count, counts.max())\n",
    "\n",
    "    \n",
    "    position = 1\n",
    "    for j in list(range(0, 2)):\n",
    "        for i, _column in enumerate(_columns):\n",
    "            data = _df[_df['고장여부'] == j][_column]\n",
    "            title = f'(고장={str(j)}) {_column} 분포'\n",
    "            xlabel = _column\n",
    "            _color = 'lightgreen' if j== 1 else 'skyblue'\n",
    "            \n",
    "            plt.subplot(1, 2, position)\n",
    "            sns.histplot(data, bins=10, kde=True, color=_color)\n",
    "            plt.title(title)\n",
    "            plt.xlabel(xlabel)\n",
    "            plt.ylabel('빈도수')\n",
    "            plt.xlim(x_min, x_max)\n",
    "            plt.ylim(0, max_count * 1.1)  # y축 범위 통일\n",
    "            \n",
    "            # x축의 지수 표현 제거\n",
    "            #plt.ticklabel_format(axis=\"x\", style=\"plain\")\n",
    "    \n",
    "            position = position + 1\n",
    "    \n",
    "    plt.tight_layout()\n",
    "    plt.show()"
   ]
  },
  {
   "cell_type": "code",
   "execution_count": null,
   "id": "045a1b91-7458-44fb-91a8-e48b66162b56",
   "metadata": {},
   "outputs": [],
   "source": [
    "df_Bike_latest_3[df_Bike_latest_3['고장여부'] == 0].head(2)"
   ]
  },
  {
   "cell_type": "code",
   "execution_count": null,
   "id": "97912aa8-dc61-4180-905d-888d348dc089",
   "metadata": {},
   "outputs": [],
   "source": [
    "df_Bike_latest_3[df_Bike_latest_3['고장여부'] == 1].head(2)"
   ]
  },
  {
   "cell_type": "code",
   "execution_count": null,
   "id": "18256ec9-6ab7-4a8a-bc1b-f7f5159a8765",
   "metadata": {},
   "outputs": [],
   "source": [
    "df_Bike_latest_3.sort_values(by = '이전일자_1mon_이용횟수', ascending = False).head(3)"
   ]
  },
  {
   "cell_type": "code",
   "execution_count": null,
   "id": "2fd6bb96-cb5b-4a2c-a481-b6dd9137687b",
   "metadata": {},
   "outputs": [],
   "source": [
    "# df_Bike_latest_3.columns\n",
    "_columns = ['이상패턴_5min_횟수',\n",
    "       '이전일자_1mon_이용거리', '이전일자_1mon_이용시간', '이전일자_1mon_이용횟수']\n",
    "grb_Bike_latest_3 = df_Bike_latest_3.groupby(['고장여부'])[_columns].agg('mean')"
   ]
  },
  {
   "cell_type": "code",
   "execution_count": null,
   "id": "7a8218d3-3d07-4355-8238-8a3943a3acec",
   "metadata": {},
   "outputs": [],
   "source": [
    "grb_Bike_latest_3.columns"
   ]
  },
  {
   "cell_type": "code",
   "execution_count": null,
   "id": "9cc7c3ce-a391-4b63-bb5f-5b5ed1bd2243",
   "metadata": {},
   "outputs": [],
   "source": [
    "grb_Bike_latest_3.isnull().sum()"
   ]
  },
  {
   "cell_type": "markdown",
   "id": "dd730b80-dd81-473e-90a1-689985aef524",
   "metadata": {},
   "source": [
    "---\n",
    "### 이용거리_비교 - 무한값(inf) 설정관련"
   ]
  },
  {
   "cell_type": "code",
   "execution_count": null,
   "id": "13226cff-7cf8-4a38-a7e5-9854caaae837",
   "metadata": {},
   "outputs": [],
   "source": [
    "print(df_Bike_latest_3['이용거리_비교'].min())\n",
    "print(df_Bike_latest_3['이용거리_비교'].max())"
   ]
  },
  {
   "cell_type": "code",
   "execution_count": null,
   "id": "36292d43-6e3b-4b23-86e5-e5e97d02d443",
   "metadata": {},
   "outputs": [],
   "source": [
    "df_Bike_latest_3[np.isinf(df_Bike_latest_3['이용거리_비교'])]['이용거리_비교']"
   ]
  },
  {
   "cell_type": "code",
   "execution_count": null,
   "id": "c4d8b2eb-785c-4629-9f23-346a7d0353f7",
   "metadata": {},
   "outputs": [],
   "source": [
    "cond = df_Bike_latest_3['자전거번호'].isin(['SPB-35465', 'SPB-36015', 'SPB-37735', 'SPB-51246'])\n",
    "df_Bike_latest_3 = df_Bike_latest_3[~cond]"
   ]
  },
  {
   "cell_type": "markdown",
   "id": "60ed36e4-a291-4ca4-9faa-742ec5a4bf27",
   "metadata": {},
   "source": [
    "---\n",
    "### 결측치 확인 및 제거"
   ]
  },
  {
   "cell_type": "code",
   "execution_count": null,
   "id": "c420c696-4a82-4462-a447-9c801591caab",
   "metadata": {},
   "outputs": [],
   "source": [
    "df_Bike_latest_3.isnull().mean()"
   ]
  },
  {
   "cell_type": "code",
   "execution_count": null,
   "id": "bfec5779-2f17-4fe4-9cb0-65b0fea10001",
   "metadata": {},
   "outputs": [],
   "source": [
    "df_Bike_latest_3 = df_Bike_latest_3.dropna()"
   ]
  },
  {
   "cell_type": "markdown",
   "id": "f46b7a47-cae8-4df2-98ee-011da8417d98",
   "metadata": {},
   "source": [
    "---\n",
    "## 이상패턴_5min_횟수(고장=1, 고장=0) 시각화"
   ]
  },
  {
   "cell_type": "code",
   "execution_count": null,
   "id": "95407756-32bd-48e4-a002-ba63dc74dd9e",
   "metadata": {},
   "outputs": [],
   "source": [
    "_columns = ['이상패턴_5min_횟수']\n",
    "create_bi_subplot(check_outlier(df_Bike_latest_3[df_Bike_latest_3['이상패턴_5min_횟수'] > 5], '이상패턴_5min_횟수'), _columns)\n",
    "create_bi_subplot(df_Bike_latest_3[df_Bike_latest_3['이상패턴_5min_횟수'] > 5], _columns)\n",
    "create_bi_subplot(df_Bike_latest_3, _columns)"
   ]
  },
  {
   "cell_type": "markdown",
   "id": "5d015901-646a-4545-8c4a-c547e5019bc1",
   "metadata": {},
   "source": [
    "---\n",
    "## 이전일자_1mon_이용거리(고장=1, 고장=0) 시각화"
   ]
  },
  {
   "cell_type": "code",
   "execution_count": null,
   "id": "f84c23a6-e575-429b-a68b-731f669a68dd",
   "metadata": {},
   "outputs": [],
   "source": [
    "_columns = ['이전일자_1mon_이용거리']\n",
    "create_bi_subplot(check_outlier(df_Bike_latest_3[df_Bike_latest_3['이상패턴_5min_횟수'] > 5], '이상패턴_5min_횟수'), _columns)\n",
    "create_bi_subplot(df_Bike_latest_3[df_Bike_latest_3['이상패턴_5min_횟수'] > 5], _columns)\n",
    "create_bi_subplot(df_Bike_latest_3, _columns)"
   ]
  },
  {
   "cell_type": "markdown",
   "id": "b0b8f6ba-dc3e-47a9-a2c1-52854a5b5d2e",
   "metadata": {},
   "source": [
    "---\n",
    "## 이전일자_1mon_이용시간(고장=1, 고장=0)  시각화"
   ]
  },
  {
   "cell_type": "code",
   "execution_count": null,
   "id": "1a175213-1e15-4959-9487-8ea0e378914a",
   "metadata": {},
   "outputs": [],
   "source": [
    "_columns = ['이전일자_1mon_이용시간']\n",
    "create_bi_subplot(check_outlier(df_Bike_latest_3[df_Bike_latest_3['이상패턴_5min_횟수'] > 5], '이상패턴_5min_횟수'), _columns)\n",
    "create_bi_subplot(df_Bike_latest_3[df_Bike_latest_3['이상패턴_5min_횟수'] > 5], _columns)\n",
    "create_bi_subplot(df_Bike_latest_3, _columns)"
   ]
  },
  {
   "cell_type": "markdown",
   "id": "307e39a5-dd25-4539-a940-bb6b38d2fc41",
   "metadata": {},
   "source": [
    "---\n",
    "## 이전일자_1mon_이용횟수(고장=1, 고장=0) 시각화"
   ]
  },
  {
   "cell_type": "code",
   "execution_count": null,
   "id": "f4b20e46-ab8f-421b-abff-466596c5c991",
   "metadata": {},
   "outputs": [],
   "source": [
    "_columns = ['이전일자_1mon_이용횟수']\n",
    "create_bi_subplot(check_outlier(df_Bike_latest_3[df_Bike_latest_3['이상패턴_5min_횟수'] > 5], '이상패턴_5min_횟수'), _columns)\n",
    "create_bi_subplot(df_Bike_latest_3[df_Bike_latest_3['이상패턴_5min_횟수'] > 5], _columns)\n",
    "create_bi_subplot(df_Bike_latest_3, _columns)"
   ]
  },
  {
   "cell_type": "markdown",
   "id": "1c1a563b-4287-4635-b627-d3267f4c3fb2",
   "metadata": {},
   "source": [
    "---\n",
    "## 이용횟수_비교(고장=1, 고장=0) 시각화"
   ]
  },
  {
   "cell_type": "code",
   "execution_count": null,
   "id": "2f997633-a260-475f-93bc-ddcb4e98b070",
   "metadata": {},
   "outputs": [],
   "source": [
    "_columns = ['이용횟수_비교']\n",
    "create_bi_subplot(check_outlier(df_Bike_latest_3[df_Bike_latest_3['이상패턴_5min_횟수'] > 5], '이상패턴_5min_횟수'), _columns)\n",
    "create_bi_subplot(df_Bike_latest_3[df_Bike_latest_3['이상패턴_5min_횟수'] > 5], _columns)\n",
    "create_bi_subplot(df_Bike_latest_3, _columns)"
   ]
  },
  {
   "cell_type": "markdown",
   "id": "b3016c7c-57c2-4f17-96e9-9b6ec475182a",
   "metadata": {},
   "source": [
    "---\n",
    "## 이용거리_비교(고장=1, 고장=0) 시각화"
   ]
  },
  {
   "cell_type": "code",
   "execution_count": null,
   "id": "bc3d3989-38f4-4a83-9aa1-44289b238eea",
   "metadata": {},
   "outputs": [],
   "source": [
    "_columns = ['이용거리_비교']\n",
    "create_bi_subplot(check_outlier(df_Bike_latest_3[df_Bike_latest_3['이상패턴_5min_횟수'] > 5], '이상패턴_5min_횟수'), _columns)\n",
    "create_bi_subplot(df_Bike_latest_3[df_Bike_latest_3['이상패턴_5min_횟수'] > 5], _columns)\n",
    "create_bi_subplot(df_Bike_latest_3, _columns)"
   ]
  },
  {
   "cell_type": "code",
   "execution_count": null,
   "id": "a49825af-340e-4675-b21b-3fa5cb9bf9c3",
   "metadata": {},
   "outputs": [],
   "source": [
    "df_Bike_latest_2['이상패턴_5min_횟수'].value_counts().sort_index()[:10]"
   ]
  },
  {
   "cell_type": "code",
   "execution_count": null,
   "id": "cb2e64f0-b3d5-4618-b2f9-ead5bcd42ac7",
   "metadata": {},
   "outputs": [],
   "source": [
    "# 고장횟수에 따른 고장여부 비율 계산\n",
    "df_2 = df_Bike_latest_2.groupby('이상패턴_5min_횟수')['고장여부'].value_counts(normalize=True).unstack().reset_index()\n",
    "df_2.columns = ['이상패턴_5min_횟수', '정상(%)', '고장(%)']\n",
    "\n",
    "result_df = df_2\n",
    "# 결과 출력\n",
    "result_df.head(20)\n"
   ]
  },
  {
   "cell_type": "code",
   "execution_count": null,
   "id": "4178fa66-54bd-4b4a-8de7-35d33f54f38c",
   "metadata": {},
   "outputs": [],
   "source": [
    "# 고장횟수에 따른 고장여부 비율 계산\n",
    "df_2 = df_Bike_latest_2.groupby('이상패턴_5min_횟수')['고장여부'].value_counts().unstack().reset_index()\n",
    "df_2.columns = ['이상패턴_5min_횟수', '정상', '고장']\n",
    "\n",
    "# '이상패턴_5min_횟수'의 각각의 개수 계산\n",
    "df_counts = df_Bike_latest_2['이상패턴_5min_횟수'].value_counts().reset_index()\n",
    "df_counts.columns = ['이상패턴_5min_횟수', '전체횟수']\n",
    "\n",
    "# df_2와 df_counts를 병합\n",
    "result_df = pd.merge(df_2, df_counts, on='이상패턴_5min_횟수', how='left').sort_values(by = '이상패턴_5min_횟수', ascending = True).head(20)\n",
    "\n",
    "result_df['정상'] = result_df['정상'].astype(int)\n",
    "result_df['고장'] = result_df['고장'].astype(int)\n",
    "\n",
    "# 결과 출력\n",
    "result_df.head(20)"
   ]
  },
  {
   "cell_type": "markdown",
   "id": "a07b4e6a-f46c-4ef8-a677-c7f339769fcd",
   "metadata": {},
   "source": [
    "---\n",
    "### 시각화 - 이상패턴 <-> 고장여부"
   ]
  },
  {
   "cell_type": "code",
   "execution_count": null,
   "id": "fcc87820-c075-4ac1-ab58-104033467237",
   "metadata": {},
   "outputs": [],
   "source": [
    "# 한글 폰트 설정 (Windows에서는 'Malgun Gothic' 사용)\n",
    "plt.rcParams['font.family'] = 'Malgun Gothic'\n",
    "# 마이너스 기호 깨짐 방지\n",
    "plt.rcParams['axes.unicode_minus'] = False\n",
    "\n",
    "# 결과 시각화\n",
    "# result = df_Bike_latest_2[df_Bike_latest_2['이상패턴_5min_횟수'] < 30].groupby('이상패턴_5min_횟수')['고장여부'].value_counts().unstack().fillna(0)\n",
    "result = df_Bike_latest_2.groupby('이상패턴_5min_횟수')['고장여부'].value_counts().unstack().fillna(0)\n",
    "result.plot(kind='bar', stacked=True, figsize=(10, 6), color=['skyblue', 'salmon'])\n",
    "plt.xlabel('이상패턴_5min_횟수')\n",
    "plt.ylabel('횟수')\n",
    "\n",
    "# X축과 Y축 눈금 글씨 크기 조정\n",
    "plt.xticks(fontsize=10)  # X축 눈금 글씨 크기\n",
    "plt.yticks(fontsize=12)  # Y축 눈금 글씨 크기\n",
    "\n",
    "plt.title('\"이상패턴_5min_횟수\" 에 따른 고장여부 횟수')\n",
    "plt.legend(title='고장여부')\n",
    "plt.tight_layout()\n",
    "plt.show()"
   ]
  },
  {
   "cell_type": "code",
   "execution_count": null,
   "id": "382be891-cc3b-4395-b926-4d60e6c8a83e",
   "metadata": {},
   "outputs": [],
   "source": [
    "# 한글 폰트 설정 (Windows에서는 'Malgun Gothic' 사용)\n",
    "plt.rcParams['font.family'] = 'Malgun Gothic'\n",
    "# 마이너스 기호 깨짐 방지\n",
    "plt.rcParams['axes.unicode_minus'] = False\n",
    "\n",
    "# 결과 시각화\n",
    "result = df_Bike_latest_2.groupby('이상패턴_5min_횟수')['고장여부'].value_counts(normalize=True).unstack().fillna(0)\n",
    "#result = df_Bike_latest_2.groupby('이상패턴_횟수')['고장여부'].value_counts().unstack().fillna(0)\n",
    "result.plot(kind='bar', stacked=True, figsize=(10, 6), color=['skyblue', 'salmon'])\n",
    "plt.xlabel('이상패턴_5min_횟수')\n",
    "plt.ylabel('비율')\n",
    "\n",
    "# X축과 Y축 눈금 글씨 크기 조정\n",
    "plt.xticks(fontsize=10)  # X축 눈금 글씨 크기\n",
    "plt.yticks(fontsize=12)  # Y축 눈금 글씨 크기\n",
    "\n",
    "plt.title('\"이상패턴_5min_횟수\" 에 따른 고장여부 비율')\n",
    "plt.legend(title='고장여부')\n",
    "plt.tight_layout()\n",
    "plt.show()"
   ]
  },
  {
   "cell_type": "code",
   "execution_count": null,
   "id": "d99d408c-e7c8-45a1-b333-a95503bbd190",
   "metadata": {},
   "outputs": [],
   "source": [
    "df_Bike_latest_2.head(2)"
   ]
  },
  {
   "cell_type": "code",
   "execution_count": null,
   "id": "b02d3718-94d8-4534-898c-37a7dac83c17",
   "metadata": {},
   "outputs": [],
   "source": [
    "df_Bike_latest_3 = pd.get_dummies(df_Bike_latest_2, columns=['고장구분'])"
   ]
  },
  {
   "cell_type": "code",
   "execution_count": null,
   "id": "b3b2769a-7d1d-408f-8e62-2507547ed6c2",
   "metadata": {},
   "outputs": [],
   "source": [
    "df_Bike_latest_3.head(3)"
   ]
  },
  {
   "cell_type": "code",
   "execution_count": null,
   "id": "dbf4942e-2ec7-4b59-a44a-cc55801d5656",
   "metadata": {},
   "outputs": [],
   "source": [
    "df_Bike_latest_3.columns\n",
    "df_Bike_latest_3[['고장여부',\n",
    "       '이상패턴_5min_횟수', \n",
    "       '이전일자_1mon_이용거리', '이전일자_1mon_이용시간', '이전일자_1mon_이용횟수',\n",
    "       '이용횟수_비교', '이용거리_비교',\n",
    "       '이용횟수_비교(절대값)', '이용거리_비교(절대값)',\n",
    "       '고장구분_', '고장구분_기타 ', '고장구분_단말기', '고장구분_안장', '고장구분_체인', '고장구분_타이어 ',\n",
    "       '고장구분_페달']].corr()"
   ]
  },
  {
   "cell_type": "code",
   "execution_count": null,
   "id": "ae8bccd2-07a5-453e-bcce-e47ed3c59816",
   "metadata": {},
   "outputs": [],
   "source": [
    "# df_Bike_latest_4 = check_outlier(df_Bike_latest_3[df_Bike_latest_3['이상패턴_5min_횟수'] > 0], '이상패턴_5min_횟수')\n",
    "df_Bike_latest_4 = df_Bike_latest_3[df_Bike_latest_3['이상패턴_5min_횟수'] > 5]\n",
    "\n",
    "df_Bike_latest_4 = df_Bike_latest_4[['고장여부',\n",
    "       '이상패턴_5min_횟수',\n",
    "       '이전일자_1mon_이용거리', '이전일자_1mon_이용시간', '이전일자_1mon_이용횟수',\n",
    "       '이용횟수_비교', '이용거리_비교',\n",
    "       '이용횟수_비교(절대값)', '이용거리_비교(절대값)',\n",
    "       '고장구분_', '고장구분_기타 ', '고장구분_단말기', '고장구분_안장', '고장구분_체인', '고장구분_타이어 ',\n",
    "       '고장구분_페달']].corr()\n",
    "\n",
    "import matplotlib.pyplot as plt\n",
    "import seaborn as sns\n",
    "\n",
    "# 한글 폰트 설정 (Windows에서는 'Malgun Gothic' 사용)\n",
    "plt.rcParams['font.family'] = 'Malgun Gothic'\n",
    "# 마이너스 기호 깨짐 방지\n",
    "plt.rcParams['axes.unicode_minus'] = False\n",
    "\n",
    "sns.heatmap(df_Bike_latest_4.corr(),\n",
    "            annot = True,                     # 상관계수 표시\n",
    "            annot_kws={\"size\": 8},\n",
    "            fmt = '.1f',                      # 상관계수 소수점 자리\n",
    "            cmap = 'coolwarm',                # 컬러맵 색상 팔레트\n",
    "            vmax = 1.0,                       # 상관계수 최댓값\n",
    "            vmin = -1,                       # 상관계수 최소값\n",
    "            linecolor = 'white',              # 셀 테두리 색상\n",
    "            linewidths = .005)                 # 셀 간격\n",
    "sns.set(rc={'figure.figsize' : (9, 9)})       # 그래프 그리기"
   ]
  },
  {
   "cell_type": "code",
   "execution_count": null,
   "id": "40e623ed-a4b1-4714-a4cf-6c054ed60ea7",
   "metadata": {},
   "outputs": [],
   "source": [
    "df_Bike_latest_3_2.describe()"
   ]
  },
  {
   "cell_type": "code",
   "execution_count": null,
   "id": "91ef17fe-4117-42ae-9395-3ef7da0be402",
   "metadata": {},
   "outputs": [],
   "source": [
    "outliers.head(2)"
   ]
  },
  {
   "cell_type": "code",
   "execution_count": null,
   "id": "cc970f3e-6ba9-4cfb-bd68-7331d931aa72",
   "metadata": {},
   "outputs": [],
   "source": [
    "outliers['고장여부'].value_counts()"
   ]
  },
  {
   "cell_type": "markdown",
   "id": "1a98d7cc-2b5e-495f-8f43-7c7bf0c483c7",
   "metadata": {},
   "source": [
    "---\n",
    "## 로지스틱회귀 모델링"
   ]
  },
  {
   "cell_type": "code",
   "execution_count": null,
   "id": "006defe2-cf6b-481b-abad-ebbd89a7aa6a",
   "metadata": {},
   "outputs": [],
   "source": [
    "# outliers_3 = check_outlier(df_Bike_latest_3[df_Bike_latest_3['이상패턴_5min_횟수'] > 0], '이상패턴_5min_횟수')\n",
    "# outliers_3 = outliers[outliers['이상패턴_5min_횟수'] > 1]\n",
    "#outliers_3 = check_outlier(df_Bike_latest_3[df_Bike_latest_3['이상패턴_5min_횟수'] > 1], '이상패턴_5min_횟수')\n",
    "\n",
    "\n",
    "# outliers_3 = outliers[outliers['이상패턴_5min_횟수'] > 0]\n",
    "# - 테스트 세트 정확도: 0.7186932849364791\n",
    "# outliers_3 = outliers[outliers['이상패턴_5min_횟수'] > 1]\n",
    "# - 테스트 세트 정확도: 0.7407467797162889\n",
    "# outliers_3 = outliers[outliers['이상패턴_5min_횟수'] > 2]\n",
    "# - 테스트 세트 정확도: 0.758641600970285\n",
    "# outliers_3 = outliers[outliers['이상패턴_5min_횟수'] > 3]\n",
    "# - 테스트 세트 정확도: 0.7893236589790101\n",
    "# outliers_3 = outliers[outliers['이상패턴_5min_횟수'] > 4]\n",
    "# - 테스트 세트 정확도: 0.8163196776359973\n",
    "outliers_3 = outliers[outliers['이상패턴_5min_횟수'] > 5]\n",
    "# - 테스트 세트 정확도: 0.8446771378708552\n",
    "\n",
    "from sklearn.metrics import confusion_matrix, classification_report\n",
    "from sklearn.metrics import accuracy_score, f1_score, log_loss\n",
    "\n",
    "# 한글 폰트 설정 (Windows에서는 'Malgun Gothic' 사용)\n",
    "plt.rcParams['font.family'] = 'Malgun Gothic'\n",
    "# 마이너스 기호 깨짐 방지\n",
    "plt.rcParams['axes.unicode_minus'] = False\n",
    "\n",
    "import numpy as np\n",
    "import pandas as pd\n",
    "from sklearn.model_selection import train_test_split\n",
    "from sklearn.linear_model import LogisticRegression\n",
    "import matplotlib.pyplot as plt\n",
    "\n",
    "# '이상패턴_5min_횟수', '이전일자_1mon_이용횟수', '이용횟수_비교', '이용거리_비교'\n",
    "# ============================================================================\n",
    "# _columns = ['이상패턴_5min_횟수']                                                           # 테스트 세트 정확도: 0.8259162303664922\n",
    "# _columns = ['이상패턴_5min_횟수', '이용횟수_비교']                                           # 테스트 세트 정확도: 0.8259162303664922\n",
    "# _columns = ['이상패턴_5min_횟수', '이전일자_1mon_이용횟수']                                  # 테스트 세트 정확도: 0.8259162303664922\n",
    "# _columns = ['이상패턴_5min_횟수', '이용거리_비교']                                           # 테스트 세트 정확도: 0.8259162303664922\n",
    "# _columns = ['이용횟수_비교']                                                                # 테스트 세트 정확도: 0.8259162303664922\n",
    "\n",
    "# _columns = ['이용거리_비교']                                                                # 테스트 세트 정확도: 0.8263525305410122\n",
    "# _columns = ['이용횟수_비교', '이용거리_비교']                                                # 테스트 세트 정확도: 0.8263525305410122\n",
    "# _columns = ['이상패턴_5min_횟수', '이용횟수_비교', '이용거리_비교']                           # 테스트 세트 정확도: 0.8294066317626527\n",
    "# _columns = ['이상패턴_5min_횟수', '이전일자_1mon_이용횟수', '이용거리_비교']                  # 테스트 세트 정확도: 0.8328970331588132\n",
    "# _columns = ['이상패턴_5min_횟수', '이전일자_1mon_이용횟수', '이용횟수_비교', '이용거리_비교']  # 테스트 세트 정확도: 0.8442408376963351\n",
    "_columns = ['이상패턴_5min_횟수', '이전일자_1mon_이용횟수', '이용횟수_비교']                  # 테스트 세트 정확도: 0.8446771378708552\n",
    "\n",
    "\n",
    "X = np.array(outliers_3[_columns]).reshape(-1, len(_columns))\n",
    "y = np.array(outliers_3['고장여부'])\n",
    "\n",
    "# 데이터셋을 학습 세트와 테스트 세트로 분리\n",
    "X_train, X_test, y_train, y_test = train_test_split(X, y, test_size=0.2, random_state=444, stratify=y)\n",
    "print(X_train.shape[0], X_test.shape[0], y_train.shape[0], y_test.shape[0])\n",
    "\n",
    "# 로지스틱 회귀 모델 생성 및 학습\n",
    "model = LogisticRegression()\n",
    "model.fit(X_train, y_train)\n",
    "\n",
    "# 테스트 세트에 대한 예측\n",
    "y_pred = model.predict(X_test)\n",
    "y_prob = model.predict_proba(X_test)[:, 1]\n",
    "\n",
    "# # 결과 시각화\n",
    "# plt.scatter(X_test[:, 1], y_test, color='blue', label='Actual')\n",
    "# plt.scatter(X_test[:, 1], y_pred, color='red', label='Predicted')\n",
    "# plt.xlabel('\"이상대여패턴\"')\n",
    "# plt.ylabel('고장여부')\n",
    "# plt.title('\"이상대여패턴\" 에 따른 고장여부 예측')\n",
    "# plt.legend()\n",
    "# plt.show()\n",
    "\n",
    "# 모델 평가\n",
    "print('테스트 세트 정확도 : ', model.score(X_test, y_test))\n",
    "print('confusion_matrix : \\n', confusion_matrix(y_test, y_pred))\n",
    "print('classification_report : \\n', classification_report(y_test, y_pred))\n",
    "print(\"Accuracy : \", accuracy_score(y_test, y_pred))\n",
    "print(\"F1 Score : \", f1_score(y_test, y_pred))\n",
    "print(\"Log Loss : \", log_loss(y_test, y_prob))\n"
   ]
  },
  {
   "cell_type": "code",
   "execution_count": null,
   "id": "5bdb6ce4-79db-4a0d-9470-88057bcfec5e",
   "metadata": {},
   "outputs": [],
   "source": [
    "# 회귀 계수 출력\n",
    "print('회귀 계수:', model.coef_)\n",
    "print('절편:', model.intercept_)"
   ]
  },
  {
   "cell_type": "code",
   "execution_count": null,
   "id": "0492eae3-cc88-47a5-9321-7fb7eb865f90",
   "metadata": {},
   "outputs": [],
   "source": [
    "from sklearn.metrics import roc_curve, auc\n",
    "\n",
    "fpr, tpr, _ = roc_curve(y_test, y_prob)\n",
    "roc_auc = auc(fpr, tpr)\n",
    "\n",
    "plt.figure()\n",
    "plt.plot(fpr, tpr, color='darkorange', lw=2, label='ROC curve (AUC = %0.2f)' % roc_auc)\n",
    "plt.plot([0, 1], [0, 1], color='navy', lw=2, linestyle='--')\n",
    "plt.xlim([0.0, 1.0])\n",
    "plt.ylim([0.0, 1.05])\n",
    "plt.xlabel('False Positive Rate')\n",
    "plt.ylabel('True Positive Rate')\n",
    "plt.title('Receiver Operating Characteristic (ROC) Curve')\n",
    "plt.legend(loc=\"lower right\")\n",
    "plt.show()"
   ]
  },
  {
   "cell_type": "markdown",
   "id": "9839e252-917d-4e26-98da-9742e9ceb2d2",
   "metadata": {},
   "source": [
    "### [ 이상패턴 횟수 == 0 ] 것들의 고장여부 비율"
   ]
  },
  {
   "cell_type": "code",
   "execution_count": null,
   "id": "c1a41a0f-8a72-49f6-a366-4f2ee782a0ce",
   "metadata": {},
   "outputs": [],
   "source": [
    "counts = df_Bike_latest_2[df_Bike_latest_2['이상패턴_5min_횟수'] > 5]['고장여부'].value_counts()\n",
    "total = counts.sum()   # 총 데이터 개수\n",
    "percentage = counts / total * 100   # 비율 계산\n",
    "print(f'total : {total}')\n",
    "print(f'counts : {counts}')\n",
    "print(f'percentage : {percentage}')"
   ]
  },
  {
   "cell_type": "code",
   "execution_count": null,
   "id": "b75db68d-2f19-4d4e-b191-8c811fa896ab",
   "metadata": {},
   "outputs": [],
   "source": []
  }
 ],
 "metadata": {
  "kernelspec": {
   "display_name": "Python 3 (ipykernel)",
   "language": "python",
   "name": "python3"
  },
  "language_info": {
   "codemirror_mode": {
    "name": "ipython",
    "version": 3
   },
   "file_extension": ".py",
   "mimetype": "text/x-python",
   "name": "python",
   "nbconvert_exporter": "python",
   "pygments_lexer": "ipython3",
   "version": "3.12.4"
  }
 },
 "nbformat": 4,
 "nbformat_minor": 5
}
