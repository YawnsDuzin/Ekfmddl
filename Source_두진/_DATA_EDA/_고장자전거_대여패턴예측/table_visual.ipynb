{
 "cells": [
  {
   "cell_type": "code",
   "execution_count": 2,
   "metadata": {},
   "outputs": [
    {
     "ename": "SyntaxError",
     "evalue": "invalid syntax (4178298536.py, line 1)",
     "output_type": "error",
     "traceback": [
      "\u001b[1;36m  Cell \u001b[1;32mIn[2], line 1\u001b[1;36m\u001b[0m\n\u001b[1;33m    import React from 'react';\u001b[0m\n\u001b[1;37m                 ^\u001b[0m\n\u001b[1;31mSyntaxError\u001b[0m\u001b[1;31m:\u001b[0m invalid syntax\n"
     ]
    }
   ],
   "source": [
    "import React from 'react';\n",
    "\n",
    "const DataTable = () => {\n",
    "  const data = [\n",
    "    { id: 1, indicator: '이상현황_5min_최근2)', type: '고유값수', value: '0.219777', description: '이전 한달 대비 이상현황 5분단위 반영한 최근2' },\n",
    "    { id: 2, indicator: '이상현황_7min_최근2)', type: '고유값수', value: '0.221924', description: '이전 한달 대비 이상현황 7분단위 반영한 최근2' },\n",
    "    { id: 3, indicator: '이상현황_10min_최근2)', type: '고유값수', value: '0.223104', description: '이전 한달 대비 이상현황 10분단위 반영한 최근2' },\n",
    "    // ... more data items\n",
    "  ];\n",
    "\n",
    "  return (\n",
    "    <div className=\"w-full bg-white rounded-lg shadow-sm\">\n",
    "      <div className=\"p-4 border-b border-gray-200\">\n",
    "        <h2 className=\"text-lg font-semibold text-gray-800\">데이터 현황표</h2>\n",
    "      </div>\n",
    "      <div className=\"p-4\">\n",
    "        <div className=\"overflow-x-auto\">\n",
    "          <table className=\"w-full border-collapse\">\n",
    "            <thead>\n",
    "              <tr className=\"bg-gray-50\">\n",
    "                <th className=\"px-4 py-3 text-left text-sm font-medium text-gray-700 border-b\">독립변수</th>\n",
    "                <th className=\"px-4 py-3 text-left text-sm font-medium text-gray-700 border-b\">종속변수</th>\n",
    "                <th className=\"px-4 py-3 text-left text-sm font-medium text-gray-700 border-b\">상관계수</th>\n",
    "                <th className=\"px-4 py-3 text-left text-sm font-medium text-gray-700 border-b\">설명</th>\n",
    "              </tr>\n",
    "            </thead>\n",
    "            <tbody>\n",
    "              {data.map((item) => (\n",
    "                <tr \n",
    "                  key={item.id}\n",
    "                  className=\"hover:bg-gray-50\"\n",
    "                >\n",
    "                  <td className=\"px-4 py-3 text-sm border-b border-gray-200\">{item.indicator}</td>\n",
    "                  <td className=\"px-4 py-3 text-sm border-b border-gray-200\">{item.type}</td>\n",
    "                  <td className=\"px-4 py-3 text-sm font-mono bg-yellow-50 border-b border-gray-200\">{item.value}</td>\n",
    "                  <td className=\"px-4 py-3 text-sm text-gray-600 border-b border-gray-200\">{item.description}</td>\n",
    "                </tr>\n",
    "              ))}\n",
    "            </tbody>\n",
    "          </table>\n",
    "        </div>\n",
    "      </div>\n",
    "    </div>\n",
    "  );\n",
    "};\n",
    "\n",
    "export default DataTable;"
   ]
  },
  {
   "cell_type": "code",
   "execution_count": 1,
   "metadata": {},
   "outputs": [
    {
     "data": {
      "text/plain": [
       "2"
      ]
     },
     "execution_count": 1,
     "metadata": {},
     "output_type": "execute_result"
    }
   ],
   "source": [
    "1+1"
   ]
  },
  {
   "cell_type": "code",
   "execution_count": null,
   "metadata": {},
   "outputs": [],
   "source": []
  }
 ],
 "metadata": {
  "kernelspec": {
   "display_name": "Python 3",
   "language": "python",
   "name": "python3"
  },
  "language_info": {
   "codemirror_mode": {
    "name": "ipython",
    "version": 3
   },
   "file_extension": ".py",
   "mimetype": "text/x-python",
   "name": "python",
   "nbconvert_exporter": "python",
   "pygments_lexer": "ipython3",
   "version": "3.8.1"
  }
 },
 "nbformat": 4,
 "nbformat_minor": 2
}
