{
 "cells": [
  {
   "cell_type": "markdown",
   "id": "b612bf6c-e5e4-4496-8d16-b22a39542f73",
   "metadata": {},
   "source": [
    "## 기본 라이브러리 불러오기"
   ]
  },
  {
   "cell_type": "code",
   "execution_count": 304,
   "id": "58e2f7bd-35ca-4aab-a31e-ae79a8c944f4",
   "metadata": {},
   "outputs": [],
   "source": [
    "# 라이브러리 임포트\n",
    "import os\n",
    "import pandas as pd\n",
    "import chardet\n",
    "\n",
    "# 사용자 정의함수 경로 설정\n",
    "import sys\n",
    "sys.path.append(\"G:/내 드라이브/Source/_Custom_Function\")\n",
    "# 사용자 정의함수 불러오기\n",
    "\n",
    "import time\n",
    "\n",
    "import ExcelFile_Merge as em\n",
    "import ExcelFile_Read as er\n",
    "import ExcelFile_EDA as ee"
   ]
  },
  {
   "cell_type": "markdown",
   "id": "b737c7fe-aa90-420c-8d2f-e2504aeb3e19",
   "metadata": {},
   "source": [
    "## 기본 데이터 불러오기"
   ]
  },
  {
   "cell_type": "markdown",
   "id": "fac13e28-d773-41fc-972a-eaed0c0eb39f",
   "metadata": {},
   "source": [
    "### 서울특별시 공공자전거 대여이력 정보"
   ]
  },
  {
   "cell_type": "code",
   "execution_count": 308,
   "id": "964eee9f-eed0-456a-99d1-6566a2b24a53",
   "metadata": {},
   "outputs": [
    {
     "name": "stdout",
     "output_type": "stream",
     "text": [
      "read_csv time : 19.628517150878906\n"
     ]
    }
   ],
   "source": [
    "start_time = time.time()\n",
    "_columns = ['자전거번호', '대여일자', '대여시간차', '대여대여소번호', '반납대여소번호', '이용시간(분)', '이용거리(M)']\n",
    "df_BikeRent_2023 = pd.read_parquet('G:\\\\내 드라이브\\\\DataSet\\\\_파킷 파일\\\\서울특별시 공공자전거 대여이력 정보\\\\서울특별시 공공자전거 대여이력 정보_2023_preprocessed.parquet', columns = _columns)\n",
    "print(\"read_csv time :\", time.time() - start_time)"
   ]
  },
  {
   "cell_type": "code",
   "execution_count": 309,
   "id": "4b550c78-ec8e-45a5-b99d-2b057dc63bee",
   "metadata": {},
   "outputs": [
    {
     "name": "stdout",
     "output_type": "stream",
     "text": [
      "read_csv time : 7.943140268325806\n"
     ]
    }
   ],
   "source": [
    "start_time = time.time()\n",
    "_columns = ['자전거번호', '대여일자', '대여시간차', '대여대여소번호', '반납대여소번호', '이용시간(분)', '이용거리(M)']\n",
    "df_BikeRent_2024 = pd.read_parquet('G:\\\\내 드라이브\\\\DataSet\\\\_파킷 파일\\\\서울특별시 공공자전거 대여이력 정보\\\\서울특별시 공공자전거 대여이력 정보_2024_preprocessed.parquet', columns = _columns)\n",
    "print(\"read_csv time :\", time.time() - start_time)"
   ]
  },
  {
   "cell_type": "markdown",
   "id": "69b5a640-bb61-4aff-a0df-0bdc17719f0c",
   "metadata": {},
   "source": [
    "### 23년,24년 데이터 합치기"
   ]
  },
  {
   "cell_type": "code",
   "execution_count": 313,
   "id": "6c7bf437-6a76-40b2-b12d-89770308646b",
   "metadata": {},
   "outputs": [],
   "source": [
    "df_BikeRent = pd.concat([df_BikeRent_2023, df_BikeRent_2024], axis=0)"
   ]
  },
  {
   "cell_type": "code",
   "execution_count": 315,
   "id": "2cb8f57d-f3b8-4d42-bf5b-28df4ae4dd42",
   "metadata": {},
   "outputs": [
    {
     "name": "stdout",
     "output_type": "stream",
     "text": [
      "df_BikeRent_2023.shape[0] : 45363848\n",
      "df_BikeRent_2024.shape[0] : 21621807\n",
      "df_BikeRent.shape[0] : 66985655\n"
     ]
    }
   ],
   "source": [
    "print(f'df_BikeRent_2023.shape[0] : {df_BikeRent_2023.shape[0]}')\n",
    "print(f'df_BikeRent_2024.shape[0] : {df_BikeRent_2024.shape[0]}')\n",
    "print(f'df_BikeRent.shape[0] : {df_BikeRent.shape[0]}')"
   ]
  },
  {
   "cell_type": "code",
   "execution_count": 317,
   "id": "d90372c6-54fe-47ca-b930-99d8f0707e6a",
   "metadata": {},
   "outputs": [
    {
     "name": "stdout",
     "output_type": "stream",
     "text": [
      "<class 'pandas.core.frame.DataFrame'>\n",
      "Index: 66985655 entries, 0 to 22107539\n",
      "Data columns (total 7 columns):\n",
      " #   Column   Dtype          \n",
      "---  ------   -----          \n",
      " 0   자전거번호    object         \n",
      " 1   대여일자     object         \n",
      " 2   대여시간차    timedelta64[ns]\n",
      " 3   대여대여소번호  object         \n",
      " 4   반납대여소번호  object         \n",
      " 5   이용시간(분)  int64          \n",
      " 6   이용거리(M)  float64        \n",
      "dtypes: float64(1), int64(1), object(4), timedelta64[ns](1)\n",
      "memory usage: 4.0+ GB\n"
     ]
    }
   ],
   "source": [
    "df_BikeRent.info()"
   ]
  },
  {
   "cell_type": "code",
   "execution_count": 319,
   "id": "6a31ce72-5684-46da-bb0e-d518a35256a5",
   "metadata": {},
   "outputs": [
    {
     "data": {
      "text/html": [
       "<div>\n",
       "<style scoped>\n",
       "    .dataframe tbody tr th:only-of-type {\n",
       "        vertical-align: middle;\n",
       "    }\n",
       "\n",
       "    .dataframe tbody tr th {\n",
       "        vertical-align: top;\n",
       "    }\n",
       "\n",
       "    .dataframe thead th {\n",
       "        text-align: right;\n",
       "    }\n",
       "</style>\n",
       "<table border=\"1\" class=\"dataframe\">\n",
       "  <thead>\n",
       "    <tr style=\"text-align: right;\">\n",
       "      <th></th>\n",
       "      <th>자전거번호</th>\n",
       "      <th>대여일자</th>\n",
       "      <th>대여시간차</th>\n",
       "      <th>대여대여소번호</th>\n",
       "      <th>반납대여소번호</th>\n",
       "      <th>이용시간(분)</th>\n",
       "      <th>이용거리(M)</th>\n",
       "    </tr>\n",
       "  </thead>\n",
       "  <tbody>\n",
       "    <tr>\n",
       "      <th>0</th>\n",
       "      <td>SPB-39194</td>\n",
       "      <td>2023-01-01</td>\n",
       "      <td>0 days 00:00:30</td>\n",
       "      <td>01554</td>\n",
       "      <td>01554</td>\n",
       "      <td>0</td>\n",
       "      <td>0.0</td>\n",
       "    </tr>\n",
       "    <tr>\n",
       "      <th>1</th>\n",
       "      <td>SPB-43457</td>\n",
       "      <td>2023-01-01</td>\n",
       "      <td>0 days 00:02:08</td>\n",
       "      <td>01653</td>\n",
       "      <td>04003</td>\n",
       "      <td>2</td>\n",
       "      <td>0.0</td>\n",
       "    </tr>\n",
       "  </tbody>\n",
       "</table>\n",
       "</div>"
      ],
      "text/plain": [
       "       자전거번호        대여일자           대여시간차 대여대여소번호 반납대여소번호  이용시간(분)  이용거리(M)\n",
       "0  SPB-39194  2023-01-01 0 days 00:00:30   01554   01554        0      0.0\n",
       "1  SPB-43457  2023-01-01 0 days 00:02:08   01653   04003        2      0.0"
      ]
     },
     "execution_count": 319,
     "metadata": {},
     "output_type": "execute_result"
    }
   ],
   "source": [
    "df_BikeRent.head(2)"
   ]
  },
  {
   "cell_type": "markdown",
   "id": "70aa52fb-2943-4725-8cda-af3744fb0159",
   "metadata": {},
   "source": [
    "---\n",
    "### df_BikeRent 의 데이터를 조건에 재조회\n",
    "- 대여시간차가 5분 미만인 데이터\n",
    "- 대여 대여소 번호와 반납 대여소 번호가 동일한 데이터"
   ]
  },
  {
   "cell_type": "code",
   "execution_count": 322,
   "id": "740fe827-0a1f-4fde-8e59-db136f447899",
   "metadata": {},
   "outputs": [],
   "source": [
    "# 대여일자를 날짜 형식으로 변환\n",
    "df_BikeRent['대여일자'] = pd.to_datetime(df_BikeRent['대여일자'])"
   ]
  },
  {
   "cell_type": "code",
   "execution_count": 323,
   "id": "c0c32043-0d29-472c-8270-9bfc8dc5d2b5",
   "metadata": {},
   "outputs": [],
   "source": [
    "# 2023.09.01 ~ 2024.06.30\n",
    "# 이상패턴 횟수 - 조회용\n",
    "df_BikeRent230901_240630 = df_BikeRent[df_BikeRent['대여일자'].between('2023-09-01', '2024-06-30')]\n",
    "# 2024.01.01 ~ 2024.06.30\n",
    "# 정상 자전거번호 확인용\n",
    "df_BikeRent240101_240630 = df_BikeRent[df_BikeRent['대여일자'].between('2024-01-01', '2024-06-30')]"
   ]
  },
  {
   "cell_type": "code",
   "execution_count": 326,
   "id": "6080c0d0-a73a-4688-b668-3e111a3808af",
   "metadata": {},
   "outputs": [
    {
     "name": "stdout",
     "output_type": "stream",
     "text": [
      "df_BikeRent230901_240630.shape[0] : 37176899\n",
      "df_BikeRent240101_240630.shape[0] : 21621807\n"
     ]
    }
   ],
   "source": [
    "print(f'df_BikeRent230901_240630.shape[0] : {df_BikeRent230901_240630.shape[0]}')\n",
    "print(f'df_BikeRent240101_240630.shape[0] : {df_BikeRent240101_240630.shape[0]}')"
   ]
  },
  {
   "cell_type": "markdown",
   "id": "d2b6db5f-be8a-42b5-906a-7eb268e3a4c2",
   "metadata": {},
   "source": [
    "---\n",
    "### 서울시 공공자전거 고장신고 내역"
   ]
  },
  {
   "cell_type": "code",
   "execution_count": 329,
   "id": "e01f5572-1ab6-4194-b894-c0f7a9f6d7ef",
   "metadata": {},
   "outputs": [
    {
     "name": "stdout",
     "output_type": "stream",
     "text": [
      "read_csv time : 0.6526839733123779\n"
     ]
    }
   ],
   "source": [
    "start_time = time.time()\n",
    "df_BikeBroken = pd.read_parquet('G:\\\\내 드라이브\\\\DataSet\\\\_최종 병합 파일\\\\서울시 공공자전거 고장신고 내역_15-24.06.parquet')\n",
    "print(\"read_csv time :\", time.time() - start_time)"
   ]
  },
  {
   "cell_type": "code",
   "execution_count": 331,
   "id": "e40a8f13-a8ad-4410-a542-4877250021b6",
   "metadata": {},
   "outputs": [
    {
     "data": {
      "text/html": [
       "<div>\n",
       "<style scoped>\n",
       "    .dataframe tbody tr th:only-of-type {\n",
       "        vertical-align: middle;\n",
       "    }\n",
       "\n",
       "    .dataframe tbody tr th {\n",
       "        vertical-align: top;\n",
       "    }\n",
       "\n",
       "    .dataframe thead th {\n",
       "        text-align: right;\n",
       "    }\n",
       "</style>\n",
       "<table border=\"1\" class=\"dataframe\">\n",
       "  <thead>\n",
       "    <tr style=\"text-align: right;\">\n",
       "      <th></th>\n",
       "      <th>자전거번호</th>\n",
       "      <th>고장구분</th>\n",
       "      <th>등록일자</th>\n",
       "      <th>등록시간</th>\n",
       "    </tr>\n",
       "  </thead>\n",
       "  <tbody>\n",
       "    <tr>\n",
       "      <th>0</th>\n",
       "      <td>SPB-00108</td>\n",
       "      <td>체인</td>\n",
       "      <td>2015-12-04</td>\n",
       "      <td>07:41:01</td>\n",
       "    </tr>\n",
       "    <tr>\n",
       "      <th>1</th>\n",
       "      <td>SPB-00210</td>\n",
       "      <td>체인</td>\n",
       "      <td>2015-12-07</td>\n",
       "      <td>12:23:33</td>\n",
       "    </tr>\n",
       "    <tr>\n",
       "      <th>2</th>\n",
       "      <td>SPB-00035</td>\n",
       "      <td>기타</td>\n",
       "      <td>2015-12-09</td>\n",
       "      <td>17:07:00</td>\n",
       "    </tr>\n",
       "  </tbody>\n",
       "</table>\n",
       "</div>"
      ],
      "text/plain": [
       "       자전거번호 고장구분        등록일자      등록시간\n",
       "0  SPB-00108   체인  2015-12-04  07:41:01\n",
       "1  SPB-00210   체인  2015-12-07  12:23:33\n",
       "2  SPB-00035  기타   2015-12-09  17:07:00"
      ]
     },
     "execution_count": 331,
     "metadata": {},
     "output_type": "execute_result"
    }
   ],
   "source": [
    "df_BikeBroken.head(3)"
   ]
  },
  {
   "cell_type": "code",
   "execution_count": 333,
   "id": "9c372c55-973e-42ae-8c8d-16970d4f6f24",
   "metadata": {},
   "outputs": [
    {
     "data": {
      "text/plain": [
       "767715"
      ]
     },
     "execution_count": 333,
     "metadata": {},
     "output_type": "execute_result"
    }
   ],
   "source": [
    "df_BikeBroken.shape[0]"
   ]
  },
  {
   "cell_type": "markdown",
   "id": "ac800bbf-5e07-4a2a-a3e8-fc480c9c0008",
   "metadata": {},
   "source": [
    "---\n",
    "### 2024년 고장이력만 조회\n",
    "- 등록일자 : 2024-01-01 ~ 2024-06-30"
   ]
  },
  {
   "cell_type": "code",
   "execution_count": 336,
   "id": "e695b837-f460-4c91-bfde-a6d838cf1f80",
   "metadata": {},
   "outputs": [],
   "source": [
    "df_BikeBroken2 = df_BikeBroken[df_BikeBroken['등록일자'].between('2024-01-01', '2024-12-31')]"
   ]
  },
  {
   "cell_type": "code",
   "execution_count": 338,
   "id": "6753f68b-cbfd-493b-9420-b8de4dae0d9c",
   "metadata": {},
   "outputs": [
    {
     "name": "stdout",
     "output_type": "stream",
     "text": [
      "df_BikeBroken.shape[0] 767715\n",
      "df_BikeBroken2.shape[0] 76463\n"
     ]
    }
   ],
   "source": [
    "print(f'df_BikeBroken.shape[0] {df_BikeBroken.shape[0]}')\n",
    "print(f'df_BikeBroken2.shape[0] {df_BikeBroken2.shape[0]}')"
   ]
  },
  {
   "cell_type": "code",
   "execution_count": 340,
   "id": "5510df62-67ff-4448-bc6c-0d3e9db6ae6d",
   "metadata": {},
   "outputs": [
    {
     "data": {
      "text/plain": [
       "<StringArray>\n",
       "['SPB-40704', 'SPB-65171', 'SPB-44316', 'SPB-31539', 'SPB-51998', 'SPB-38568',\n",
       " 'SPB-68235', 'SPB-44078', 'SPB-66158', 'SPB-45102',\n",
       " ...\n",
       " 'SPB-64200', 'SPB-42922', 'SPB-69655', 'SPB-39650', 'SPB-38653', 'SPB-62989',\n",
       " 'SPB-31854', 'SPB-62325', 'SPB-62654', 'SPB-35527']\n",
       "Length: 28589, dtype: string"
      ]
     },
     "execution_count": 340,
     "metadata": {},
     "output_type": "execute_result"
    }
   ],
   "source": [
    "df_BikeBroken2['자전거번호'].unique()"
   ]
  },
  {
   "cell_type": "code",
   "execution_count": 342,
   "id": "75ca0bcb-0a35-42ec-a039-53465a85bab8",
   "metadata": {},
   "outputs": [
    {
     "data": {
      "text/plain": [
       "자전거번호\n",
       "SPB-30296    24\n",
       "SPB-70298    23\n",
       "SPB-31172    21\n",
       "SPB-41406    21\n",
       "SPB-33626    19\n",
       "             ..\n",
       "SPB-60257     1\n",
       "SPB-40210     1\n",
       "SPB-59161     1\n",
       "SPB-32403     1\n",
       "SPB-35527     1\n",
       "Name: count, Length: 28589, dtype: Int64"
      ]
     },
     "execution_count": 342,
     "metadata": {},
     "output_type": "execute_result"
    }
   ],
   "source": [
    "df_BikeBroken2['자전거번호'].value_counts()"
   ]
  },
  {
   "cell_type": "code",
   "execution_count": 344,
   "id": "5d3a9b22-dc4a-4a0e-b27e-6f83572169a9",
   "metadata": {},
   "outputs": [
    {
     "data": {
      "text/html": [
       "<div>\n",
       "<style scoped>\n",
       "    .dataframe tbody tr th:only-of-type {\n",
       "        vertical-align: middle;\n",
       "    }\n",
       "\n",
       "    .dataframe tbody tr th {\n",
       "        vertical-align: top;\n",
       "    }\n",
       "\n",
       "    .dataframe thead th {\n",
       "        text-align: right;\n",
       "    }\n",
       "</style>\n",
       "<table border=\"1\" class=\"dataframe\">\n",
       "  <thead>\n",
       "    <tr style=\"text-align: right;\">\n",
       "      <th></th>\n",
       "      <th>자전거번호</th>\n",
       "      <th>고장구분</th>\n",
       "      <th>등록일자</th>\n",
       "      <th>등록시간</th>\n",
       "    </tr>\n",
       "  </thead>\n",
       "  <tbody>\n",
       "    <tr>\n",
       "      <th>691252</th>\n",
       "      <td>SPB-40704</td>\n",
       "      <td>단말기</td>\n",
       "      <td>2024-01-01</td>\n",
       "      <td>03:57:03</td>\n",
       "    </tr>\n",
       "    <tr>\n",
       "      <th>691351</th>\n",
       "      <td>SPB-66424</td>\n",
       "      <td>체인</td>\n",
       "      <td>2024-01-01</td>\n",
       "      <td>18:45:08</td>\n",
       "    </tr>\n",
       "  </tbody>\n",
       "</table>\n",
       "</div>"
      ],
      "text/plain": [
       "            자전거번호 고장구분        등록일자      등록시간\n",
       "691252  SPB-40704  단말기  2024-01-01  03:57:03\n",
       "691351  SPB-66424   체인  2024-01-01  18:45:08"
      ]
     },
     "execution_count": 344,
     "metadata": {},
     "output_type": "execute_result"
    }
   ],
   "source": [
    "# 2024-01-01 ~ 2024-06-30\t\n",
    "df_BikeBroken2.sort_values(by = '등록일자', ascending = True).head(2)"
   ]
  },
  {
   "cell_type": "code",
   "execution_count": 346,
   "id": "a9011b32-2cf1-4c57-9aee-8e2e1804c28d",
   "metadata": {},
   "outputs": [
    {
     "data": {
      "text/html": [
       "<div>\n",
       "<style scoped>\n",
       "    .dataframe tbody tr th:only-of-type {\n",
       "        vertical-align: middle;\n",
       "    }\n",
       "\n",
       "    .dataframe tbody tr th {\n",
       "        vertical-align: top;\n",
       "    }\n",
       "\n",
       "    .dataframe thead th {\n",
       "        text-align: right;\n",
       "    }\n",
       "</style>\n",
       "<table border=\"1\" class=\"dataframe\">\n",
       "  <thead>\n",
       "    <tr style=\"text-align: right;\">\n",
       "      <th></th>\n",
       "      <th>자전거번호</th>\n",
       "      <th>고장구분</th>\n",
       "      <th>등록일자</th>\n",
       "      <th>등록시간</th>\n",
       "    </tr>\n",
       "  </thead>\n",
       "  <tbody>\n",
       "    <tr>\n",
       "      <th>752797</th>\n",
       "      <td>SPB-30296</td>\n",
       "      <td>기타</td>\n",
       "      <td>2024-06-06</td>\n",
       "      <td>14:51:27</td>\n",
       "    </tr>\n",
       "    <tr>\n",
       "      <th>752796</th>\n",
       "      <td>SPB-30296</td>\n",
       "      <td>체인</td>\n",
       "      <td>2024-06-06</td>\n",
       "      <td>14:51:27</td>\n",
       "    </tr>\n",
       "  </tbody>\n",
       "</table>\n",
       "</div>"
      ],
      "text/plain": [
       "            자전거번호 고장구분        등록일자      등록시간\n",
       "752797  SPB-30296  기타   2024-06-06  14:51:27\n",
       "752796  SPB-30296   체인  2024-06-06  14:51:27"
      ]
     },
     "execution_count": 346,
     "metadata": {},
     "output_type": "execute_result"
    }
   ],
   "source": [
    "df_BikeBroken2[df_BikeBroken2['자전거번호'] == 'SPB-30296'].sort_values(by = '등록일자', ascending = False).head(2)"
   ]
  },
  {
   "cell_type": "markdown",
   "id": "92dcd93a-510d-40a5-8f73-a5762aa5ddf4",
   "metadata": {},
   "source": [
    "---\n",
    "### 자전거고장신고내역에서\n",
    "- 자전거번호' 별로 가장마지막 신고내역만 가져오기"
   ]
  },
  {
   "cell_type": "code",
   "execution_count": 349,
   "id": "d04de378-27a9-485e-a834-f23c0ddad9bb",
   "metadata": {},
   "outputs": [
    {
     "name": "stderr",
     "output_type": "stream",
     "text": [
      "C:\\Users\\user\\AppData\\Local\\Temp\\ipykernel_4296\\3450085564.py:2: SettingWithCopyWarning: \n",
      "A value is trying to be set on a copy of a slice from a DataFrame.\n",
      "Try using .loc[row_indexer,col_indexer] = value instead\n",
      "\n",
      "See the caveats in the documentation: https://pandas.pydata.org/pandas-docs/stable/user_guide/indexing.html#returning-a-view-versus-a-copy\n",
      "  df_BikeBroken2['등록일자'] = pd.to_datetime(df_BikeBroken2['등록일자'])\n"
     ]
    }
   ],
   "source": [
    "# 등록일자를 datetime 형식으로 변환\n",
    "df_BikeBroken2['등록일자'] = pd.to_datetime(df_BikeBroken2['등록일자'])\n",
    "\n",
    "# 자전거번호 별로 가장 최근 등록일자를 가진 행 추출\n",
    "df_BikeBroken_latest = df_BikeBroken2.loc[df_BikeBroken2.groupby('자전거번호')['등록일자'].idxmax()]\n",
    "\n",
    "# 이전일자 컬럼 생성 (등록일자보다 한 달 전)\n",
    "df_BikeBroken_latest['이전일자_1mon'] = df_BikeBroken_latest['등록일자'] - pd.DateOffset(months=1)\n",
    "df_BikeBroken_latest['이전일자_2mon'] = df_BikeBroken_latest['등록일자'] - pd.DateOffset(months=2)\n",
    "df_BikeBroken_latest['이전일자_3mon'] = df_BikeBroken_latest['등록일자'] - pd.DateOffset(months=3)"
   ]
  },
  {
   "cell_type": "code",
   "execution_count": 351,
   "id": "3999d691-5111-41bd-8df4-16bf9584a02d",
   "metadata": {},
   "outputs": [
    {
     "data": {
      "text/html": [
       "<div>\n",
       "<style scoped>\n",
       "    .dataframe tbody tr th:only-of-type {\n",
       "        vertical-align: middle;\n",
       "    }\n",
       "\n",
       "    .dataframe tbody tr th {\n",
       "        vertical-align: top;\n",
       "    }\n",
       "\n",
       "    .dataframe thead th {\n",
       "        text-align: right;\n",
       "    }\n",
       "</style>\n",
       "<table border=\"1\" class=\"dataframe\">\n",
       "  <thead>\n",
       "    <tr style=\"text-align: right;\">\n",
       "      <th></th>\n",
       "      <th>자전거번호</th>\n",
       "      <th>고장구분</th>\n",
       "      <th>등록일자</th>\n",
       "      <th>등록시간</th>\n",
       "      <th>이전일자_1mon</th>\n",
       "      <th>이전일자_2mon</th>\n",
       "      <th>이전일자_3mon</th>\n",
       "    </tr>\n",
       "  </thead>\n",
       "  <tbody>\n",
       "    <tr>\n",
       "      <th>714016</th>\n",
       "      <td>SPB-30006</td>\n",
       "      <td>페달</td>\n",
       "      <td>2024-03-31</td>\n",
       "      <td>23:48:49</td>\n",
       "      <td>2024-02-29</td>\n",
       "      <td>2024-01-31</td>\n",
       "      <td>2023-12-31</td>\n",
       "    </tr>\n",
       "    <tr>\n",
       "      <th>760656</th>\n",
       "      <td>SPB-30010</td>\n",
       "      <td>타이어</td>\n",
       "      <td>2024-06-18</td>\n",
       "      <td>18:37:09</td>\n",
       "      <td>2024-05-18</td>\n",
       "      <td>2024-04-18</td>\n",
       "      <td>2024-03-18</td>\n",
       "    </tr>\n",
       "  </tbody>\n",
       "</table>\n",
       "</div>"
      ],
      "text/plain": [
       "            자전거번호  고장구분       등록일자      등록시간  이전일자_1mon  이전일자_2mon  이전일자_3mon\n",
       "714016  SPB-30006    페달 2024-03-31  23:48:49 2024-02-29 2024-01-31 2023-12-31\n",
       "760656  SPB-30010  타이어  2024-06-18  18:37:09 2024-05-18 2024-04-18 2024-03-18"
      ]
     },
     "execution_count": 351,
     "metadata": {},
     "output_type": "execute_result"
    }
   ],
   "source": [
    "df_BikeBroken_latest.head(2)"
   ]
  },
  {
   "cell_type": "code",
   "execution_count": 353,
   "id": "b1d28225-dede-4202-b0a5-0d81db4b776e",
   "metadata": {},
   "outputs": [],
   "source": [
    "df_BikeBroken_latest = df_BikeBroken_latest[['자전거번호', '고장구분', '이전일자_1mon', '이전일자_2mon', '이전일자_3mon', '등록일자']]"
   ]
  },
  {
   "cell_type": "code",
   "execution_count": 355,
   "id": "f3847ff3-76bd-4f6a-a68e-36544b3f8a6b",
   "metadata": {},
   "outputs": [
    {
     "data": {
      "text/html": [
       "<div>\n",
       "<style scoped>\n",
       "    .dataframe tbody tr th:only-of-type {\n",
       "        vertical-align: middle;\n",
       "    }\n",
       "\n",
       "    .dataframe tbody tr th {\n",
       "        vertical-align: top;\n",
       "    }\n",
       "\n",
       "    .dataframe thead th {\n",
       "        text-align: right;\n",
       "    }\n",
       "</style>\n",
       "<table border=\"1\" class=\"dataframe\">\n",
       "  <thead>\n",
       "    <tr style=\"text-align: right;\">\n",
       "      <th></th>\n",
       "      <th>자전거번호</th>\n",
       "      <th>고장구분</th>\n",
       "      <th>이전일자_1mon</th>\n",
       "      <th>이전일자_2mon</th>\n",
       "      <th>이전일자_3mon</th>\n",
       "      <th>등록일자</th>\n",
       "    </tr>\n",
       "  </thead>\n",
       "  <tbody>\n",
       "    <tr>\n",
       "      <th>714016</th>\n",
       "      <td>SPB-30006</td>\n",
       "      <td>페달</td>\n",
       "      <td>2024-02-29</td>\n",
       "      <td>2024-01-31</td>\n",
       "      <td>2023-12-31</td>\n",
       "      <td>2024-03-31</td>\n",
       "    </tr>\n",
       "    <tr>\n",
       "      <th>760656</th>\n",
       "      <td>SPB-30010</td>\n",
       "      <td>타이어</td>\n",
       "      <td>2024-05-18</td>\n",
       "      <td>2024-04-18</td>\n",
       "      <td>2024-03-18</td>\n",
       "      <td>2024-06-18</td>\n",
       "    </tr>\n",
       "  </tbody>\n",
       "</table>\n",
       "</div>"
      ],
      "text/plain": [
       "            자전거번호  고장구분  이전일자_1mon  이전일자_2mon  이전일자_3mon       등록일자\n",
       "714016  SPB-30006    페달 2024-02-29 2024-01-31 2023-12-31 2024-03-31\n",
       "760656  SPB-30010  타이어  2024-05-18 2024-04-18 2024-03-18 2024-06-18"
      ]
     },
     "execution_count": 355,
     "metadata": {},
     "output_type": "execute_result"
    }
   ],
   "source": [
    "df_BikeBroken_latest.head(2)"
   ]
  },
  {
   "cell_type": "markdown",
   "id": "e6bd5fca-7aa4-4679-bf44-3629e608f157",
   "metadata": {},
   "source": [
    "#### 고장난 자전기 가져오기"
   ]
  },
  {
   "cell_type": "code",
   "execution_count": 358,
   "id": "c0f50e27-7d93-4f30-a3bf-4cb26b5dd974",
   "metadata": {},
   "outputs": [
    {
     "data": {
      "text/plain": [
       "<StringArray>\n",
       "['SPB-30006', 'SPB-30010', 'SPB-30014', 'SPB-30018', 'SPB-30022', 'SPB-30024',\n",
       " 'SPB-30026', 'SPB-30031', 'SPB-30036', 'SPB-30037',\n",
       " ...\n",
       " 'SPB-84955', 'SPB-84963', 'SPB-84968', 'SPB-84974', 'SPB-84984', 'SPB-84988',\n",
       " 'SPB-84989', 'SPB-84993', 'SPB-84995', 'SPB-84996']\n",
       "Length: 28589, dtype: string"
      ]
     },
     "execution_count": 358,
     "metadata": {},
     "output_type": "execute_result"
    }
   ],
   "source": [
    "df_BikeBroken_latest['자전거번호'].unique()"
   ]
  },
  {
   "cell_type": "code",
   "execution_count": 360,
   "id": "1f318d9e-3e7f-424b-8cfd-d0bf69e648cc",
   "metadata": {},
   "outputs": [
    {
     "name": "stdout",
     "output_type": "stream",
     "text": [
      "<class 'pandas.core.frame.DataFrame'>\n",
      "Index: 28589 entries, 714016 to 737981\n",
      "Data columns (total 6 columns):\n",
      " #   Column     Non-Null Count  Dtype         \n",
      "---  ------     --------------  -----         \n",
      " 0   자전거번호      28589 non-null  string        \n",
      " 1   고장구분       28589 non-null  string        \n",
      " 2   이전일자_1mon  28589 non-null  datetime64[ns]\n",
      " 3   이전일자_2mon  28589 non-null  datetime64[ns]\n",
      " 4   이전일자_3mon  28589 non-null  datetime64[ns]\n",
      " 5   등록일자       28589 non-null  datetime64[ns]\n",
      "dtypes: datetime64[ns](4), string(2)\n",
      "memory usage: 1.5 MB\n"
     ]
    }
   ],
   "source": [
    "df_BikeBroken_latest.info()"
   ]
  },
  {
   "cell_type": "code",
   "execution_count": 362,
   "id": "53f89ebf-498b-4d16-a948-ccc304f7d78b",
   "metadata": {},
   "outputs": [],
   "source": [
    "# 2024.01.01 ~ 2024.06.30 사이에 있는 자전거 대여이력에서 고장이 아닌 자전거 번호 조회\n",
    "df_BikeRent2 = df_BikeRent240101_240630[~df_BikeRent240101_240630['자전거번호'].isin(df_BikeBroken_latest['자전거번호'].unique())]"
   ]
  },
  {
   "cell_type": "code",
   "execution_count": 364,
   "id": "8606d4c5-2e34-4b2f-a372-f66794dd735b",
   "metadata": {},
   "outputs": [
    {
     "data": {
      "text/plain": [
       "4855582"
      ]
     },
     "execution_count": 364,
     "metadata": {},
     "output_type": "execute_result"
    }
   ],
   "source": [
    "df_BikeRent2['자전거번호'].count()"
   ]
  },
  {
   "cell_type": "code",
   "execution_count": 366,
   "id": "332a8120-8c86-49ce-9238-7b3853785b6d",
   "metadata": {},
   "outputs": [
    {
     "data": {
      "text/html": [
       "<div>\n",
       "<style scoped>\n",
       "    .dataframe tbody tr th:only-of-type {\n",
       "        vertical-align: middle;\n",
       "    }\n",
       "\n",
       "    .dataframe tbody tr th {\n",
       "        vertical-align: top;\n",
       "    }\n",
       "\n",
       "    .dataframe thead th {\n",
       "        text-align: right;\n",
       "    }\n",
       "</style>\n",
       "<table border=\"1\" class=\"dataframe\">\n",
       "  <thead>\n",
       "    <tr style=\"text-align: right;\">\n",
       "      <th></th>\n",
       "      <th>자전거번호</th>\n",
       "      <th>대여일자</th>\n",
       "      <th>대여시간차</th>\n",
       "      <th>대여대여소번호</th>\n",
       "      <th>반납대여소번호</th>\n",
       "      <th>이용시간(분)</th>\n",
       "      <th>이용거리(M)</th>\n",
       "    </tr>\n",
       "  </thead>\n",
       "  <tbody>\n",
       "    <tr>\n",
       "      <th>8</th>\n",
       "      <td>SPB-80304</td>\n",
       "      <td>2024-01-01</td>\n",
       "      <td>0 days 00:01:55</td>\n",
       "      <td>00214</td>\n",
       "      <td>00213</td>\n",
       "      <td>1</td>\n",
       "      <td>200.00</td>\n",
       "    </tr>\n",
       "    <tr>\n",
       "      <th>22</th>\n",
       "      <td>SPB-32497</td>\n",
       "      <td>2024-01-01</td>\n",
       "      <td>0 days 00:05:00</td>\n",
       "      <td>04674</td>\n",
       "      <td>04659</td>\n",
       "      <td>5</td>\n",
       "      <td>982.45</td>\n",
       "    </tr>\n",
       "  </tbody>\n",
       "</table>\n",
       "</div>"
      ],
      "text/plain": [
       "        자전거번호       대여일자           대여시간차 대여대여소번호 반납대여소번호  이용시간(분)  이용거리(M)\n",
       "8   SPB-80304 2024-01-01 0 days 00:01:55   00214   00213        1   200.00\n",
       "22  SPB-32497 2024-01-01 0 days 00:05:00   04674   04659        5   982.45"
      ]
     },
     "execution_count": 366,
     "metadata": {},
     "output_type": "execute_result"
    }
   ],
   "source": [
    "df_BikeRent2.head(2)"
   ]
  },
  {
   "cell_type": "code",
   "execution_count": 368,
   "id": "711fd9b6-2df4-419a-afaf-0bf3e689d032",
   "metadata": {},
   "outputs": [
    {
     "name": "stderr",
     "output_type": "stream",
     "text": [
      "C:\\Users\\user\\AppData\\Local\\Temp\\ipykernel_4296\\2979067368.py:2: SettingWithCopyWarning: \n",
      "A value is trying to be set on a copy of a slice from a DataFrame.\n",
      "Try using .loc[row_indexer,col_indexer] = value instead\n",
      "\n",
      "See the caveats in the documentation: https://pandas.pydata.org/pandas-docs/stable/user_guide/indexing.html#returning-a-view-versus-a-copy\n",
      "  df_BikeRent2['대여일자'] = pd.to_datetime(df_BikeRent2['대여일자'])\n"
     ]
    }
   ],
   "source": [
    "# 등록일자를 datetime 형식으로 변환\n",
    "df_BikeRent2['대여일자'] = pd.to_datetime(df_BikeRent2['대여일자'])\n",
    "\n",
    "# 자전거번호 별로 가장 최근 등록일자를 가진 행 추출\n",
    "df_BikeRent_latest = df_BikeRent2.loc[df_BikeRent2.groupby('자전거번호')['대여일자'].idxmax()]\n",
    "\n",
    "# 이전일자 컬럼 생성 (등록일자보다 한 달 전)\n",
    "df_BikeRent_latest['이전일자_1mon'] = df_BikeRent_latest['대여일자'] - pd.DateOffset(months=1)\n",
    "df_BikeRent_latest['이전일자_2mon'] = df_BikeRent_latest['대여일자'] - pd.DateOffset(months=2)\n",
    "df_BikeRent_latest['이전일자_3mon'] = df_BikeRent_latest['대여일자'] - pd.DateOffset(months=3)"
   ]
  },
  {
   "cell_type": "code",
   "execution_count": 370,
   "id": "277d131a-25ee-4eb6-ac13-6392e2e3e261",
   "metadata": {},
   "outputs": [
    {
     "data": {
      "text/html": [
       "<div>\n",
       "<style scoped>\n",
       "    .dataframe tbody tr th:only-of-type {\n",
       "        vertical-align: middle;\n",
       "    }\n",
       "\n",
       "    .dataframe tbody tr th {\n",
       "        vertical-align: top;\n",
       "    }\n",
       "\n",
       "    .dataframe thead th {\n",
       "        text-align: right;\n",
       "    }\n",
       "</style>\n",
       "<table border=\"1\" class=\"dataframe\">\n",
       "  <thead>\n",
       "    <tr style=\"text-align: right;\">\n",
       "      <th></th>\n",
       "      <th>자전거번호</th>\n",
       "      <th>대여일자</th>\n",
       "      <th>대여시간차</th>\n",
       "      <th>대여대여소번호</th>\n",
       "      <th>반납대여소번호</th>\n",
       "      <th>이용시간(분)</th>\n",
       "      <th>이용거리(M)</th>\n",
       "      <th>이전일자_1mon</th>\n",
       "      <th>이전일자_2mon</th>\n",
       "      <th>이전일자_3mon</th>\n",
       "    </tr>\n",
       "  </thead>\n",
       "  <tbody>\n",
       "    <tr>\n",
       "      <th>21756509</th>\n",
       "      <td>SPB-30001</td>\n",
       "      <td>2024-06-28</td>\n",
       "      <td>0 days 00:01:35</td>\n",
       "      <td>03798</td>\n",
       "      <td>01174</td>\n",
       "      <td>1</td>\n",
       "      <td>0.00</td>\n",
       "      <td>2024-05-28</td>\n",
       "      <td>2024-04-28</td>\n",
       "      <td>2024-03-28</td>\n",
       "    </tr>\n",
       "    <tr>\n",
       "      <th>14976293</th>\n",
       "      <td>SPB-30008</td>\n",
       "      <td>2024-05-20</td>\n",
       "      <td>0 days 00:21:21</td>\n",
       "      <td>03920</td>\n",
       "      <td>00785</td>\n",
       "      <td>21</td>\n",
       "      <td>3419.51</td>\n",
       "      <td>2024-04-20</td>\n",
       "      <td>2024-03-20</td>\n",
       "      <td>2024-02-20</td>\n",
       "    </tr>\n",
       "  </tbody>\n",
       "</table>\n",
       "</div>"
      ],
      "text/plain": [
       "              자전거번호       대여일자           대여시간차 대여대여소번호 반납대여소번호  이용시간(분)  \\\n",
       "21756509  SPB-30001 2024-06-28 0 days 00:01:35   03798   01174        1   \n",
       "14976293  SPB-30008 2024-05-20 0 days 00:21:21   03920   00785       21   \n",
       "\n",
       "          이용거리(M)  이전일자_1mon  이전일자_2mon  이전일자_3mon  \n",
       "21756509     0.00 2024-05-28 2024-04-28 2024-03-28  \n",
       "14976293  3419.51 2024-04-20 2024-03-20 2024-02-20  "
      ]
     },
     "execution_count": 370,
     "metadata": {},
     "output_type": "execute_result"
    }
   ],
   "source": [
    "df_BikeRent_latest.head(2)"
   ]
  },
  {
   "cell_type": "code",
   "execution_count": 372,
   "id": "febb6590-443d-4b39-85c5-b19a32ac8c8a",
   "metadata": {},
   "outputs": [
    {
     "data": {
      "text/plain": [
       "13307"
      ]
     },
     "execution_count": 372,
     "metadata": {},
     "output_type": "execute_result"
    }
   ],
   "source": [
    "df_BikeRent_latest.shape[0]"
   ]
  },
  {
   "cell_type": "markdown",
   "id": "70819a84-46db-4ca2-85bd-c5b96c319075",
   "metadata": {},
   "source": [
    "### 대여이력 <=> 고장내역 - 컬럼이름 맞춰주기"
   ]
  },
  {
   "cell_type": "code",
   "execution_count": 375,
   "id": "0d5fab04-3eb7-4617-97e4-401f89b78e94",
   "metadata": {},
   "outputs": [
    {
     "data": {
      "text/plain": [
       "Index(['자전거번호', '고장구분', '이전일자_1mon', '이전일자_2mon', '이전일자_3mon', '등록일자'], dtype='object')"
      ]
     },
     "execution_count": 375,
     "metadata": {},
     "output_type": "execute_result"
    }
   ],
   "source": [
    "df_BikeBroken_latest.columns"
   ]
  },
  {
   "cell_type": "code",
   "execution_count": 377,
   "id": "e0c349e9-ea93-478c-8e54-465c96756e5e",
   "metadata": {},
   "outputs": [
    {
     "data": {
      "text/plain": [
       "Index(['자전거번호', '대여일자', '대여시간차', '대여대여소번호', '반납대여소번호', '이용시간(분)', '이용거리(M)',\n",
       "       '이전일자_1mon', '이전일자_2mon', '이전일자_3mon'],\n",
       "      dtype='object')"
      ]
     },
     "execution_count": 377,
     "metadata": {},
     "output_type": "execute_result"
    }
   ],
   "source": [
    "df_BikeRent_latest.columns"
   ]
  },
  {
   "cell_type": "code",
   "execution_count": 379,
   "id": "4f2a9324-6516-4e3b-a577-970717e39a4c",
   "metadata": {},
   "outputs": [],
   "source": [
    "df_BikeRent_latest['고장구분'] = ''"
   ]
  },
  {
   "cell_type": "code",
   "execution_count": 381,
   "id": "b8a354d8-7649-4075-88e9-9d2d04fb20ea",
   "metadata": {},
   "outputs": [],
   "source": [
    "df_BikeBroken_latest.rename(columns = {'등록일자':'등록대여일자'}, inplace = True)\n",
    "df_BikeRent_latest.rename(columns = {'대여일자':'등록대여일자'}, inplace = True)"
   ]
  },
  {
   "cell_type": "code",
   "execution_count": 383,
   "id": "342a8f9b-d92e-4759-b40b-951478f7fd39",
   "metadata": {},
   "outputs": [],
   "source": [
    "df_BikeBroken_latest = df_BikeBroken_latest[['자전거번호', '고장구분', '이전일자_1mon', '이전일자_2mon', '이전일자_3mon', '등록대여일자']]\n",
    "df_BikeRent_latest = df_BikeRent_latest[['자전거번호', '고장구분', '이전일자_1mon', '이전일자_2mon', '이전일자_3mon', '등록대여일자']]"
   ]
  },
  {
   "cell_type": "code",
   "execution_count": 385,
   "id": "1cff32d7-2b63-4999-9672-747734397bbc",
   "metadata": {},
   "outputs": [
    {
     "data": {
      "text/html": [
       "<div>\n",
       "<style scoped>\n",
       "    .dataframe tbody tr th:only-of-type {\n",
       "        vertical-align: middle;\n",
       "    }\n",
       "\n",
       "    .dataframe tbody tr th {\n",
       "        vertical-align: top;\n",
       "    }\n",
       "\n",
       "    .dataframe thead th {\n",
       "        text-align: right;\n",
       "    }\n",
       "</style>\n",
       "<table border=\"1\" class=\"dataframe\">\n",
       "  <thead>\n",
       "    <tr style=\"text-align: right;\">\n",
       "      <th></th>\n",
       "      <th>자전거번호</th>\n",
       "      <th>고장구분</th>\n",
       "      <th>이전일자_1mon</th>\n",
       "      <th>이전일자_2mon</th>\n",
       "      <th>이전일자_3mon</th>\n",
       "      <th>등록대여일자</th>\n",
       "    </tr>\n",
       "  </thead>\n",
       "  <tbody>\n",
       "    <tr>\n",
       "      <th>714016</th>\n",
       "      <td>SPB-30006</td>\n",
       "      <td>페달</td>\n",
       "      <td>2024-02-29</td>\n",
       "      <td>2024-01-31</td>\n",
       "      <td>2023-12-31</td>\n",
       "      <td>2024-03-31</td>\n",
       "    </tr>\n",
       "    <tr>\n",
       "      <th>760656</th>\n",
       "      <td>SPB-30010</td>\n",
       "      <td>타이어</td>\n",
       "      <td>2024-05-18</td>\n",
       "      <td>2024-04-18</td>\n",
       "      <td>2024-03-18</td>\n",
       "      <td>2024-06-18</td>\n",
       "    </tr>\n",
       "  </tbody>\n",
       "</table>\n",
       "</div>"
      ],
      "text/plain": [
       "            자전거번호  고장구분  이전일자_1mon  이전일자_2mon  이전일자_3mon     등록대여일자\n",
       "714016  SPB-30006    페달 2024-02-29 2024-01-31 2023-12-31 2024-03-31\n",
       "760656  SPB-30010  타이어  2024-05-18 2024-04-18 2024-03-18 2024-06-18"
      ]
     },
     "execution_count": 385,
     "metadata": {},
     "output_type": "execute_result"
    }
   ],
   "source": [
    "df_BikeBroken_latest.head(2)"
   ]
  },
  {
   "cell_type": "code",
   "execution_count": 387,
   "id": "4073f288-b54e-4dcc-b4fb-6320d3b01b2f",
   "metadata": {},
   "outputs": [
    {
     "data": {
      "text/html": [
       "<div>\n",
       "<style scoped>\n",
       "    .dataframe tbody tr th:only-of-type {\n",
       "        vertical-align: middle;\n",
       "    }\n",
       "\n",
       "    .dataframe tbody tr th {\n",
       "        vertical-align: top;\n",
       "    }\n",
       "\n",
       "    .dataframe thead th {\n",
       "        text-align: right;\n",
       "    }\n",
       "</style>\n",
       "<table border=\"1\" class=\"dataframe\">\n",
       "  <thead>\n",
       "    <tr style=\"text-align: right;\">\n",
       "      <th></th>\n",
       "      <th>자전거번호</th>\n",
       "      <th>고장구분</th>\n",
       "      <th>이전일자_1mon</th>\n",
       "      <th>이전일자_2mon</th>\n",
       "      <th>이전일자_3mon</th>\n",
       "      <th>등록대여일자</th>\n",
       "    </tr>\n",
       "  </thead>\n",
       "  <tbody>\n",
       "    <tr>\n",
       "      <th>21756509</th>\n",
       "      <td>SPB-30001</td>\n",
       "      <td></td>\n",
       "      <td>2024-05-28</td>\n",
       "      <td>2024-04-28</td>\n",
       "      <td>2024-03-28</td>\n",
       "      <td>2024-06-28</td>\n",
       "    </tr>\n",
       "    <tr>\n",
       "      <th>14976293</th>\n",
       "      <td>SPB-30008</td>\n",
       "      <td></td>\n",
       "      <td>2024-04-20</td>\n",
       "      <td>2024-03-20</td>\n",
       "      <td>2024-02-20</td>\n",
       "      <td>2024-05-20</td>\n",
       "    </tr>\n",
       "  </tbody>\n",
       "</table>\n",
       "</div>"
      ],
      "text/plain": [
       "              자전거번호 고장구분  이전일자_1mon  이전일자_2mon  이전일자_3mon     등록대여일자\n",
       "21756509  SPB-30001      2024-05-28 2024-04-28 2024-03-28 2024-06-28\n",
       "14976293  SPB-30008      2024-04-20 2024-03-20 2024-02-20 2024-05-20"
      ]
     },
     "execution_count": 387,
     "metadata": {},
     "output_type": "execute_result"
    }
   ],
   "source": [
    "df_BikeRent_latest.head(2)"
   ]
  },
  {
   "cell_type": "markdown",
   "id": "c7a91104-80ff-4d45-ab31-a1beda3a2124",
   "metadata": {},
   "source": [
    "---\n",
    "### 고장여부 - 컬럼 생성"
   ]
  },
  {
   "cell_type": "code",
   "execution_count": 390,
   "id": "ee381c83-953c-4a98-adcf-00cca16711f7",
   "metadata": {},
   "outputs": [],
   "source": [
    "df_BikeBroken_latest['고장여부'] = 1\n",
    "df_BikeRent_latest['고장여부'] = 0"
   ]
  },
  {
   "cell_type": "code",
   "execution_count": 392,
   "id": "2732f511-b2d8-4842-af0f-b5a92158735f",
   "metadata": {},
   "outputs": [
    {
     "data": {
      "text/html": [
       "<div>\n",
       "<style scoped>\n",
       "    .dataframe tbody tr th:only-of-type {\n",
       "        vertical-align: middle;\n",
       "    }\n",
       "\n",
       "    .dataframe tbody tr th {\n",
       "        vertical-align: top;\n",
       "    }\n",
       "\n",
       "    .dataframe thead th {\n",
       "        text-align: right;\n",
       "    }\n",
       "</style>\n",
       "<table border=\"1\" class=\"dataframe\">\n",
       "  <thead>\n",
       "    <tr style=\"text-align: right;\">\n",
       "      <th></th>\n",
       "      <th>자전거번호</th>\n",
       "      <th>고장구분</th>\n",
       "      <th>이전일자_1mon</th>\n",
       "      <th>이전일자_2mon</th>\n",
       "      <th>이전일자_3mon</th>\n",
       "      <th>등록대여일자</th>\n",
       "      <th>고장여부</th>\n",
       "    </tr>\n",
       "  </thead>\n",
       "  <tbody>\n",
       "    <tr>\n",
       "      <th>714016</th>\n",
       "      <td>SPB-30006</td>\n",
       "      <td>페달</td>\n",
       "      <td>2024-02-29</td>\n",
       "      <td>2024-01-31</td>\n",
       "      <td>2023-12-31</td>\n",
       "      <td>2024-03-31</td>\n",
       "      <td>1</td>\n",
       "    </tr>\n",
       "    <tr>\n",
       "      <th>760656</th>\n",
       "      <td>SPB-30010</td>\n",
       "      <td>타이어</td>\n",
       "      <td>2024-05-18</td>\n",
       "      <td>2024-04-18</td>\n",
       "      <td>2024-03-18</td>\n",
       "      <td>2024-06-18</td>\n",
       "      <td>1</td>\n",
       "    </tr>\n",
       "  </tbody>\n",
       "</table>\n",
       "</div>"
      ],
      "text/plain": [
       "            자전거번호  고장구분  이전일자_1mon  이전일자_2mon  이전일자_3mon     등록대여일자  고장여부\n",
       "714016  SPB-30006    페달 2024-02-29 2024-01-31 2023-12-31 2024-03-31     1\n",
       "760656  SPB-30010  타이어  2024-05-18 2024-04-18 2024-03-18 2024-06-18     1"
      ]
     },
     "execution_count": 392,
     "metadata": {},
     "output_type": "execute_result"
    }
   ],
   "source": [
    "df_BikeBroken_latest.head(2)"
   ]
  },
  {
   "cell_type": "code",
   "execution_count": 394,
   "id": "231c7bf5-c120-4cf7-9a3a-b1a66e29515c",
   "metadata": {},
   "outputs": [
    {
     "data": {
      "text/html": [
       "<div>\n",
       "<style scoped>\n",
       "    .dataframe tbody tr th:only-of-type {\n",
       "        vertical-align: middle;\n",
       "    }\n",
       "\n",
       "    .dataframe tbody tr th {\n",
       "        vertical-align: top;\n",
       "    }\n",
       "\n",
       "    .dataframe thead th {\n",
       "        text-align: right;\n",
       "    }\n",
       "</style>\n",
       "<table border=\"1\" class=\"dataframe\">\n",
       "  <thead>\n",
       "    <tr style=\"text-align: right;\">\n",
       "      <th></th>\n",
       "      <th>자전거번호</th>\n",
       "      <th>고장구분</th>\n",
       "      <th>이전일자_1mon</th>\n",
       "      <th>이전일자_2mon</th>\n",
       "      <th>이전일자_3mon</th>\n",
       "      <th>등록대여일자</th>\n",
       "      <th>고장여부</th>\n",
       "    </tr>\n",
       "  </thead>\n",
       "  <tbody>\n",
       "    <tr>\n",
       "      <th>21756509</th>\n",
       "      <td>SPB-30001</td>\n",
       "      <td></td>\n",
       "      <td>2024-05-28</td>\n",
       "      <td>2024-04-28</td>\n",
       "      <td>2024-03-28</td>\n",
       "      <td>2024-06-28</td>\n",
       "      <td>0</td>\n",
       "    </tr>\n",
       "    <tr>\n",
       "      <th>14976293</th>\n",
       "      <td>SPB-30008</td>\n",
       "      <td></td>\n",
       "      <td>2024-04-20</td>\n",
       "      <td>2024-03-20</td>\n",
       "      <td>2024-02-20</td>\n",
       "      <td>2024-05-20</td>\n",
       "      <td>0</td>\n",
       "    </tr>\n",
       "  </tbody>\n",
       "</table>\n",
       "</div>"
      ],
      "text/plain": [
       "              자전거번호 고장구분  이전일자_1mon  이전일자_2mon  이전일자_3mon     등록대여일자  고장여부\n",
       "21756509  SPB-30001      2024-05-28 2024-04-28 2024-03-28 2024-06-28     0\n",
       "14976293  SPB-30008      2024-04-20 2024-03-20 2024-02-20 2024-05-20     0"
      ]
     },
     "execution_count": 394,
     "metadata": {},
     "output_type": "execute_result"
    }
   ],
   "source": [
    "df_BikeRent_latest.head(2)"
   ]
  },
  {
   "cell_type": "code",
   "execution_count": 396,
   "id": "dc7c67fa-ebc2-4d28-bde3-239781501351",
   "metadata": {},
   "outputs": [
    {
     "name": "stdout",
     "output_type": "stream",
     "text": [
      "df_BikeBroken_latest.shape[0] : 28589\n",
      "df_BikeRent_latest.shape[0] : 13307\n"
     ]
    }
   ],
   "source": [
    "print(f'df_BikeBroken_latest.shape[0] : {df_BikeBroken_latest.shape[0]}')\n",
    "print(f'df_BikeRent_latest.shape[0] : {df_BikeRent_latest.shape[0]}')"
   ]
  },
  {
   "cell_type": "markdown",
   "id": "977d0ccd-c6ec-4fab-9b19-5e60feaeeeb5",
   "metadata": {},
   "source": [
    "---\n",
    "### 자전거(고장) - 자전거(일반) 합치기"
   ]
  },
  {
   "cell_type": "code",
   "execution_count": 399,
   "id": "629c6ebb-9fa0-4de9-8628-8e1edae77895",
   "metadata": {},
   "outputs": [],
   "source": [
    "df_Bike_latest = pd.concat([df_BikeBroken_latest, df_BikeRent_latest], axis=0)"
   ]
  },
  {
   "cell_type": "code",
   "execution_count": 401,
   "id": "2144f862-d99f-4ceb-aa34-d92ab29e610b",
   "metadata": {},
   "outputs": [
    {
     "name": "stdout",
     "output_type": "stream",
     "text": [
      "df_BikeBroken_latest.shape[0] : 28589\n",
      "df_BikeRent_latest.shape[0] : 13307\n",
      "df_Bike_latest.shape[0] : 41896\n"
     ]
    }
   ],
   "source": [
    "print(f'df_BikeBroken_latest.shape[0] : {df_BikeBroken_latest.shape[0]}')\n",
    "print(f'df_BikeRent_latest.shape[0] : {df_BikeRent_latest.shape[0]}')\n",
    "print(f'df_Bike_latest.shape[0] : {df_Bike_latest.shape[0]}')"
   ]
  },
  {
   "cell_type": "code",
   "execution_count": 403,
   "id": "0f96022d-2167-49d4-8ff5-53d76669e836",
   "metadata": {},
   "outputs": [
    {
     "data": {
      "text/html": [
       "<div>\n",
       "<style scoped>\n",
       "    .dataframe tbody tr th:only-of-type {\n",
       "        vertical-align: middle;\n",
       "    }\n",
       "\n",
       "    .dataframe tbody tr th {\n",
       "        vertical-align: top;\n",
       "    }\n",
       "\n",
       "    .dataframe thead th {\n",
       "        text-align: right;\n",
       "    }\n",
       "</style>\n",
       "<table border=\"1\" class=\"dataframe\">\n",
       "  <thead>\n",
       "    <tr style=\"text-align: right;\">\n",
       "      <th></th>\n",
       "      <th>자전거번호</th>\n",
       "      <th>고장구분</th>\n",
       "      <th>이전일자_1mon</th>\n",
       "      <th>이전일자_2mon</th>\n",
       "      <th>이전일자_3mon</th>\n",
       "      <th>등록대여일자</th>\n",
       "      <th>고장여부</th>\n",
       "    </tr>\n",
       "  </thead>\n",
       "  <tbody>\n",
       "    <tr>\n",
       "      <th>714016</th>\n",
       "      <td>SPB-30006</td>\n",
       "      <td>페달</td>\n",
       "      <td>2024-02-29</td>\n",
       "      <td>2024-01-31</td>\n",
       "      <td>2023-12-31</td>\n",
       "      <td>2024-03-31</td>\n",
       "      <td>1</td>\n",
       "    </tr>\n",
       "    <tr>\n",
       "      <th>760656</th>\n",
       "      <td>SPB-30010</td>\n",
       "      <td>타이어</td>\n",
       "      <td>2024-05-18</td>\n",
       "      <td>2024-04-18</td>\n",
       "      <td>2024-03-18</td>\n",
       "      <td>2024-06-18</td>\n",
       "      <td>1</td>\n",
       "    </tr>\n",
       "  </tbody>\n",
       "</table>\n",
       "</div>"
      ],
      "text/plain": [
       "            자전거번호  고장구분  이전일자_1mon  이전일자_2mon  이전일자_3mon     등록대여일자  고장여부\n",
       "714016  SPB-30006    페달 2024-02-29 2024-01-31 2023-12-31 2024-03-31     1\n",
       "760656  SPB-30010  타이어  2024-05-18 2024-04-18 2024-03-18 2024-06-18     1"
      ]
     },
     "execution_count": 403,
     "metadata": {},
     "output_type": "execute_result"
    }
   ],
   "source": [
    "df_Bike_latest.head(2)"
   ]
  },
  {
   "cell_type": "code",
   "execution_count": 405,
   "id": "62ed9607-b7e6-48c5-b2dd-b55b752fe029",
   "metadata": {},
   "outputs": [
    {
     "data": {
      "text/plain": [
       "고장여부\n",
       "1    28589\n",
       "0    13307\n",
       "Name: count, dtype: int64"
      ]
     },
     "execution_count": 405,
     "metadata": {},
     "output_type": "execute_result"
    }
   ],
   "source": [
    "df_Bike_latest['고장여부'].value_counts()"
   ]
  },
  {
   "cell_type": "code",
   "execution_count": 407,
   "id": "f622dd2f-bb29-41ac-ac3c-bbdcefed4aaa",
   "metadata": {},
   "outputs": [
    {
     "data": {
      "text/html": [
       "<div>\n",
       "<style scoped>\n",
       "    .dataframe tbody tr th:only-of-type {\n",
       "        vertical-align: middle;\n",
       "    }\n",
       "\n",
       "    .dataframe tbody tr th {\n",
       "        vertical-align: top;\n",
       "    }\n",
       "\n",
       "    .dataframe thead th {\n",
       "        text-align: right;\n",
       "    }\n",
       "</style>\n",
       "<table border=\"1\" class=\"dataframe\">\n",
       "  <thead>\n",
       "    <tr style=\"text-align: right;\">\n",
       "      <th></th>\n",
       "      <th>자전거번호</th>\n",
       "      <th>대여일자</th>\n",
       "      <th>대여시간차</th>\n",
       "      <th>대여대여소번호</th>\n",
       "      <th>반납대여소번호</th>\n",
       "      <th>이용시간(분)</th>\n",
       "      <th>이용거리(M)</th>\n",
       "    </tr>\n",
       "  </thead>\n",
       "  <tbody>\n",
       "    <tr>\n",
       "      <th>30476802</th>\n",
       "      <td>SPB-45718</td>\n",
       "      <td>2023-09-01</td>\n",
       "      <td>0 days 00:00:13</td>\n",
       "      <td>02213</td>\n",
       "      <td>02213</td>\n",
       "      <td>0</td>\n",
       "      <td>0.0</td>\n",
       "    </tr>\n",
       "    <tr>\n",
       "      <th>30476803</th>\n",
       "      <td>SPB-63096</td>\n",
       "      <td>2023-09-01</td>\n",
       "      <td>0 days 00:00:29</td>\n",
       "      <td>00838</td>\n",
       "      <td>00838</td>\n",
       "      <td>0</td>\n",
       "      <td>0.0</td>\n",
       "    </tr>\n",
       "    <tr>\n",
       "      <th>30476804</th>\n",
       "      <td>SPB-49019</td>\n",
       "      <td>2023-09-01</td>\n",
       "      <td>0 days 00:01:35</td>\n",
       "      <td>00431</td>\n",
       "      <td>04798</td>\n",
       "      <td>1</td>\n",
       "      <td>230.0</td>\n",
       "    </tr>\n",
       "    <tr>\n",
       "      <th>30476805</th>\n",
       "      <td>SPB-53749</td>\n",
       "      <td>2023-09-01</td>\n",
       "      <td>0 days 00:00:03</td>\n",
       "      <td>03819</td>\n",
       "      <td>03819</td>\n",
       "      <td>0</td>\n",
       "      <td>0.0</td>\n",
       "    </tr>\n",
       "    <tr>\n",
       "      <th>30476806</th>\n",
       "      <td>SPB-82988</td>\n",
       "      <td>2023-09-01</td>\n",
       "      <td>0 days 00:01:08</td>\n",
       "      <td>00389</td>\n",
       "      <td>00473</td>\n",
       "      <td>1</td>\n",
       "      <td>160.0</td>\n",
       "    </tr>\n",
       "  </tbody>\n",
       "</table>\n",
       "</div>"
      ],
      "text/plain": [
       "              자전거번호       대여일자           대여시간차 대여대여소번호 반납대여소번호  이용시간(분)  \\\n",
       "30476802  SPB-45718 2023-09-01 0 days 00:00:13   02213   02213        0   \n",
       "30476803  SPB-63096 2023-09-01 0 days 00:00:29   00838   00838        0   \n",
       "30476804  SPB-49019 2023-09-01 0 days 00:01:35   00431   04798        1   \n",
       "30476805  SPB-53749 2023-09-01 0 days 00:00:03   03819   03819        0   \n",
       "30476806  SPB-82988 2023-09-01 0 days 00:01:08   00389   00473        1   \n",
       "\n",
       "          이용거리(M)  \n",
       "30476802      0.0  \n",
       "30476803      0.0  \n",
       "30476804    230.0  \n",
       "30476805      0.0  \n",
       "30476806    160.0  "
      ]
     },
     "execution_count": 407,
     "metadata": {},
     "output_type": "execute_result"
    }
   ],
   "source": [
    "df_BikeRent230901_240630.head()"
   ]
  },
  {
   "cell_type": "code",
   "execution_count": 409,
   "id": "fee5693a-d874-4e3c-a970-915f55e823da",
   "metadata": {},
   "outputs": [
    {
     "name": "stdout",
     "output_type": "stream",
     "text": [
      "df_Bike_latest.shape[0] : 41896\n",
      "df_BikeRent230901_240630.shape[0] : 37176899\n",
      "df_Bike_latest.shape[0] : 41896\n",
      "df_Bike_latest.shape[0] : 41896\n"
     ]
    }
   ],
   "source": [
    "print(f'df_Bike_latest.shape[0] : {df_Bike_latest.shape[0]}')\n",
    "\n",
    "# print(f'df_BikeRent230901_240630_5min.shape[0] : {df_BikeRent230901_240630_5min.shape[0]}')\n",
    "# print(f'df_BikeRent230901_240630_7min.shape[0] : {df_BikeRent230901_240630_7min.shape[0]}')\n",
    "# print(f'df_BikeRent230901_240630_10min.shape[0] : {df_BikeRent230901_240630_10min.shape[0]}')\n",
    "\n",
    "print(f'df_BikeRent230901_240630.shape[0] : {df_BikeRent230901_240630.shape[0]}')\n",
    "print(f'df_Bike_latest.shape[0] : {df_Bike_latest.shape[0]}')\n",
    "print(f'df_Bike_latest.shape[0] : {df_Bike_latest.shape[0]}')"
   ]
  },
  {
   "cell_type": "code",
   "execution_count": 411,
   "id": "ade3d1b5-20f5-4239-9bfd-fabaa781b984",
   "metadata": {},
   "outputs": [
    {
     "data": {
      "text/html": [
       "<div>\n",
       "<style scoped>\n",
       "    .dataframe tbody tr th:only-of-type {\n",
       "        vertical-align: middle;\n",
       "    }\n",
       "\n",
       "    .dataframe tbody tr th {\n",
       "        vertical-align: top;\n",
       "    }\n",
       "\n",
       "    .dataframe thead th {\n",
       "        text-align: right;\n",
       "    }\n",
       "</style>\n",
       "<table border=\"1\" class=\"dataframe\">\n",
       "  <thead>\n",
       "    <tr style=\"text-align: right;\">\n",
       "      <th></th>\n",
       "      <th>자전거번호</th>\n",
       "      <th>고장구분</th>\n",
       "      <th>이전일자_1mon</th>\n",
       "      <th>이전일자_2mon</th>\n",
       "      <th>이전일자_3mon</th>\n",
       "      <th>등록대여일자</th>\n",
       "      <th>고장여부</th>\n",
       "    </tr>\n",
       "  </thead>\n",
       "  <tbody>\n",
       "    <tr>\n",
       "      <th>714016</th>\n",
       "      <td>SPB-30006</td>\n",
       "      <td>페달</td>\n",
       "      <td>2024-02-29</td>\n",
       "      <td>2024-01-31</td>\n",
       "      <td>2023-12-31</td>\n",
       "      <td>2024-03-31</td>\n",
       "      <td>1</td>\n",
       "    </tr>\n",
       "    <tr>\n",
       "      <th>760656</th>\n",
       "      <td>SPB-30010</td>\n",
       "      <td>타이어</td>\n",
       "      <td>2024-05-18</td>\n",
       "      <td>2024-04-18</td>\n",
       "      <td>2024-03-18</td>\n",
       "      <td>2024-06-18</td>\n",
       "      <td>1</td>\n",
       "    </tr>\n",
       "    <tr>\n",
       "      <th>763779</th>\n",
       "      <td>SPB-30014</td>\n",
       "      <td>기타</td>\n",
       "      <td>2024-05-24</td>\n",
       "      <td>2024-04-24</td>\n",
       "      <td>2024-03-24</td>\n",
       "      <td>2024-06-24</td>\n",
       "      <td>1</td>\n",
       "    </tr>\n",
       "    <tr>\n",
       "      <th>749636</th>\n",
       "      <td>SPB-30018</td>\n",
       "      <td>기타</td>\n",
       "      <td>2024-05-01</td>\n",
       "      <td>2024-04-01</td>\n",
       "      <td>2024-03-01</td>\n",
       "      <td>2024-06-01</td>\n",
       "      <td>1</td>\n",
       "    </tr>\n",
       "    <tr>\n",
       "      <th>741124</th>\n",
       "      <td>SPB-30022</td>\n",
       "      <td>기타</td>\n",
       "      <td>2024-04-20</td>\n",
       "      <td>2024-03-20</td>\n",
       "      <td>2024-02-20</td>\n",
       "      <td>2024-05-20</td>\n",
       "      <td>1</td>\n",
       "    </tr>\n",
       "  </tbody>\n",
       "</table>\n",
       "</div>"
      ],
      "text/plain": [
       "            자전거번호  고장구분  이전일자_1mon  이전일자_2mon  이전일자_3mon     등록대여일자  고장여부\n",
       "714016  SPB-30006    페달 2024-02-29 2024-01-31 2023-12-31 2024-03-31     1\n",
       "760656  SPB-30010  타이어  2024-05-18 2024-04-18 2024-03-18 2024-06-18     1\n",
       "763779  SPB-30014   기타  2024-05-24 2024-04-24 2024-03-24 2024-06-24     1\n",
       "749636  SPB-30018   기타  2024-05-01 2024-04-01 2024-03-01 2024-06-01     1\n",
       "741124  SPB-30022   기타  2024-04-20 2024-03-20 2024-02-20 2024-05-20     1"
      ]
     },
     "execution_count": 411,
     "metadata": {},
     "output_type": "execute_result"
    }
   ],
   "source": [
    "df_Bike_latest.head()"
   ]
  },
  {
   "cell_type": "code",
   "execution_count": 413,
   "id": "ab6db733-f018-40bd-a941-74338d06518a",
   "metadata": {},
   "outputs": [
    {
     "data": {
      "text/plain": [
       "37176899"
      ]
     },
     "execution_count": 413,
     "metadata": {},
     "output_type": "execute_result"
    }
   ],
   "source": [
    "df_BikeRent230901_240630['자전거번호'].isin(df_Bike_latest['자전거번호']).shape[0]"
   ]
  },
  {
   "cell_type": "code",
   "execution_count": 415,
   "id": "c7b60af6-9736-4a7e-80e9-8be0b25e3f4b",
   "metadata": {},
   "outputs": [],
   "source": [
    "df_BikeRent230901_240630_temp = df_BikeRent230901_240630"
   ]
  },
  {
   "cell_type": "code",
   "execution_count": 417,
   "id": "2b3ad2e2-0a5a-4b47-950f-55b5172f8deb",
   "metadata": {},
   "outputs": [],
   "source": [
    "df_BikeRent230901_240630 = df_BikeRent230901_240630.groupby(['자전거번호', '대여일자']).agg({\n",
    "    '이용거리(M)': ['sum'],             # 이용거리의 합계\n",
    "    '이용시간(분)': ['sum'],            # 이용시간의 합계\n",
    "    '대여일자': ['count']               # 이용횟수\n",
    "    }).reset_index()"
   ]
  },
  {
   "cell_type": "code",
   "execution_count": 419,
   "id": "39b866f4-7e28-4260-b3d4-5d7d7e902cca",
   "metadata": {},
   "outputs": [
    {
     "data": {
      "text/plain": [
       "6928434"
      ]
     },
     "execution_count": 419,
     "metadata": {},
     "output_type": "execute_result"
    }
   ],
   "source": [
    "df_BikeRent230901_240630.shape[0]"
   ]
  },
  {
   "cell_type": "code",
   "execution_count": 421,
   "id": "7e4ff0d0-a6e4-4da8-96db-b26876cec9a4",
   "metadata": {},
   "outputs": [],
   "source": [
    "df_BikeRent230901_240630.columns = ['자전거번호', '대여일자', '이용거리(M)', '이용시간(분)', '대여횟수']"
   ]
  },
  {
   "cell_type": "code",
   "execution_count": 423,
   "id": "843ed8e3-a1a5-4e7a-8d70-08c55dafba90",
   "metadata": {},
   "outputs": [
    {
     "data": {
      "text/html": [
       "<div>\n",
       "<style scoped>\n",
       "    .dataframe tbody tr th:only-of-type {\n",
       "        vertical-align: middle;\n",
       "    }\n",
       "\n",
       "    .dataframe tbody tr th {\n",
       "        vertical-align: top;\n",
       "    }\n",
       "\n",
       "    .dataframe thead th {\n",
       "        text-align: right;\n",
       "    }\n",
       "</style>\n",
       "<table border=\"1\" class=\"dataframe\">\n",
       "  <thead>\n",
       "    <tr style=\"text-align: right;\">\n",
       "      <th></th>\n",
       "      <th>자전거번호</th>\n",
       "      <th>대여일자</th>\n",
       "      <th>이용거리(M)</th>\n",
       "      <th>이용시간(분)</th>\n",
       "      <th>대여횟수</th>\n",
       "    </tr>\n",
       "  </thead>\n",
       "  <tbody>\n",
       "    <tr>\n",
       "      <th>0</th>\n",
       "      <td>SPB-30001</td>\n",
       "      <td>2023-09-01</td>\n",
       "      <td>42995.90</td>\n",
       "      <td>366</td>\n",
       "      <td>12</td>\n",
       "    </tr>\n",
       "    <tr>\n",
       "      <th>1</th>\n",
       "      <td>SPB-30001</td>\n",
       "      <td>2023-09-02</td>\n",
       "      <td>3255.36</td>\n",
       "      <td>17</td>\n",
       "      <td>2</td>\n",
       "    </tr>\n",
       "    <tr>\n",
       "      <th>2</th>\n",
       "      <td>SPB-30001</td>\n",
       "      <td>2023-09-03</td>\n",
       "      <td>2298.96</td>\n",
       "      <td>11</td>\n",
       "      <td>1</td>\n",
       "    </tr>\n",
       "    <tr>\n",
       "      <th>3</th>\n",
       "      <td>SPB-30001</td>\n",
       "      <td>2023-09-04</td>\n",
       "      <td>2463.08</td>\n",
       "      <td>16</td>\n",
       "      <td>2</td>\n",
       "    </tr>\n",
       "    <tr>\n",
       "      <th>4</th>\n",
       "      <td>SPB-30001</td>\n",
       "      <td>2023-09-05</td>\n",
       "      <td>5845.93</td>\n",
       "      <td>69</td>\n",
       "      <td>2</td>\n",
       "    </tr>\n",
       "  </tbody>\n",
       "</table>\n",
       "</div>"
      ],
      "text/plain": [
       "       자전거번호       대여일자   이용거리(M)  이용시간(분)  대여횟수\n",
       "0  SPB-30001 2023-09-01  42995.90      366    12\n",
       "1  SPB-30001 2023-09-02   3255.36       17     2\n",
       "2  SPB-30001 2023-09-03   2298.96       11     1\n",
       "3  SPB-30001 2023-09-04   2463.08       16     2\n",
       "4  SPB-30001 2023-09-05   5845.93       69     2"
      ]
     },
     "execution_count": 423,
     "metadata": {},
     "output_type": "execute_result"
    }
   ],
   "source": [
    "df_BikeRent230901_240630.head()"
   ]
  },
  {
   "cell_type": "code",
   "execution_count": 425,
   "id": "0fdadb9e-0f9e-45e8-84b9-af8550144b11",
   "metadata": {},
   "outputs": [
    {
     "name": "stdout",
     "output_type": "stream",
     "text": [
      "<class 'pandas.core.frame.DataFrame'>\n",
      "RangeIndex: 6928434 entries, 0 to 6928433\n",
      "Data columns (total 5 columns):\n",
      " #   Column   Dtype         \n",
      "---  ------   -----         \n",
      " 0   자전거번호    object        \n",
      " 1   대여일자     datetime64[ns]\n",
      " 2   이용거리(M)  float64       \n",
      " 3   이용시간(분)  int64         \n",
      " 4   대여횟수     int64         \n",
      "dtypes: datetime64[ns](1), float64(1), int64(2), object(1)\n",
      "memory usage: 264.3+ MB\n"
     ]
    }
   ],
   "source": [
    "df_BikeRent230901_240630.info()"
   ]
  },
  {
   "cell_type": "code",
   "execution_count": 454,
   "id": "66b656a1-051c-4e73-afe2-fb7d56e9b809",
   "metadata": {},
   "outputs": [],
   "source": [
    "df_BikeRent230901_240630 = df_BikeRent230901_240630[df_BikeRent230901_240630['대여일자'] >= df_Bike_latest['이전일자_3mon'].min()]"
   ]
  },
  {
   "cell_type": "code",
   "execution_count": 456,
   "id": "b1dc5444-fb56-49e1-aba3-2434d5181221",
   "metadata": {},
   "outputs": [
    {
     "data": {
      "text/plain": [
       "6193200"
      ]
     },
     "execution_count": 456,
     "metadata": {},
     "output_type": "execute_result"
    }
   ],
   "source": [
    "df_BikeRent230901_240630.shape[0]"
   ]
  },
  {
   "cell_type": "markdown",
   "id": "adafc352-ff9b-46fb-a910-bb118ebfa2ec",
   "metadata": {},
   "source": [
    "---\n",
    "### 대여이력의 이상패턴 횟수 구하기\n",
    "- '자전거고장신고내역'의 '이전일자' ~ '등록대여일자'가 '자전거대여이력'의 이상패턴의 '대여일자'에 포함되는 자전거별 횟수 가져오기"
   ]
  },
  {
   "cell_type": "code",
   "execution_count": 458,
   "id": "eb74d1d2-e9f6-4956-ad61-62c213444afa",
   "metadata": {},
   "outputs": [
    {
     "name": "stdout",
     "output_type": "stream",
     "text": [
      "1/41896 - SPB-30006\n",
      "2/41896 - SPB-30010\n",
      "3/41896 - SPB-30014\n",
      "4/41896 - SPB-30018\n",
      "5/41896 - SPB-30022\n",
      "6/41896 - SPB-30024\n",
      "7/41896 - SPB-30026\n",
      "8/41896 - SPB-30031\n",
      "9/41896 - SPB-30036\n",
      "10/41896 - SPB-30037\n",
      "check time : 9.537295818328857\n"
     ]
    }
   ],
   "source": [
    "start_time = time.time()\n",
    "\n",
    "# 결과를 저장할 딕셔너리 초기화\n",
    "results = []\n",
    "\n",
    "# # 1. 조건에 따라 필터링: 대여시간차가 (5분, 7분, 10분) 미만, 대여 대여소 번호와 반납 대여소 번호가 동일한 데이터만 선택\n",
    "cond1_5 = df_BikeRent230901_240630_temp['대여시간차'] < pd.Timedelta(minutes=5)\n",
    "cond1_7 = df_BikeRent230901_240630_temp['대여시간차'] < pd.Timedelta(minutes=7)\n",
    "cond1_10 = df_BikeRent230901_240630_temp['대여시간차'] < pd.Timedelta(minutes=10)\n",
    "cond2 = df_BikeRent230901_240630_temp['대여대여소번호'] == df_BikeRent230901_240630_temp['반납대여소번호']\n",
    "df_BikeRent230901_240630_5min = df_BikeRent230901_240630_temp[cond1_5 & cond2].copy()\n",
    "df_BikeRent230901_240630_7min = df_BikeRent230901_240630_temp[cond1_7 & cond2].copy()\n",
    "df_BikeRent230901_240630_10min = df_BikeRent230901_240630_temp[cond1_10 & cond2].copy()\n",
    "\n",
    "# 고장 신고 내역을 순회하며 대여 이력에서 해당 기간에 속하는 대여 건수를 카운트\n",
    "cnt_Bike_latest = len(df_Bike_latest)\n",
    "cnt = 1\n",
    "# for index, row in df_Bike_latest.iterrows():\n",
    "for index, row in df_Bike_latest.head(10).iterrows():\n",
    "    bike_number = row['자전거번호']\n",
    "    previous_date_1mon = row['이전일자_1mon']\n",
    "    previous_date_2mon = row['이전일자_2mon']\n",
    "    previous_date_3mon = row['이전일자_3mon']\n",
    "    registered_date = row['등록대여일자']\n",
    "\n",
    "    # =========================================\n",
    "    # 이전 한달의, 이상패턴 횟수 조회 (5분, 7분, 10분)\n",
    "    # 자전거 번호가 일치하고, 대여일자가 이전일자와 등록대여일자 사이에 있는 경우의 수를 카운트\n",
    "    outlier_rent_5min_count = df_BikeRent230901_240630_5min[(df_BikeRent230901_240630_5min['자전거번호'] == bike_number) & \n",
    "                               (df_BikeRent230901_240630_5min['대여일자'] >= previous_date_1mon) & \n",
    "                               (df_BikeRent230901_240630_5min['대여일자'] <= registered_date)].shape[0]\n",
    "    \n",
    "    outlier_rent_7min_count = df_BikeRent230901_240630_7min[(df_BikeRent230901_240630_7min['자전거번호'] == bike_number) & \n",
    "                               (df_BikeRent230901_240630_7min['대여일자'] >= previous_date_1mon) & \n",
    "                               (df_BikeRent230901_240630_7min['대여일자'] <= registered_date)].shape[0]\n",
    "    \n",
    "    outlier_rent_10min_count = df_BikeRent230901_240630_10min[(df_BikeRent230901_240630_10min['자전거번호'] == bike_number) & \n",
    "                               (df_BikeRent230901_240630_10min['대여일자'] >= previous_date_1mon) & \n",
    "                               (df_BikeRent230901_240630_10min['대여일자'] <= registered_date)].shape[0]\n",
    "    # =========================================\n",
    "    \n",
    "    # =========================================\n",
    "    df_temp = df_BikeRent230901_240630[(df_BikeRent230901_240630['자전거번호'] == bike_number) & \n",
    "                               (df_BikeRent230901_240630['대여일자'] <= registered_date)]\n",
    "    \n",
    "    # 이동거리,이동시간 합계 (1달 전, 2달 전, 3달 전)\n",
    "    move_sum_1mon = df_temp[(df_temp['대여일자'] >= previous_date_1mon)].groupby('자전거번호').agg({\n",
    "    '이용거리(M)': ['sum'],             # 이용거리의 합계\n",
    "    '이용시간(분)': ['sum'],            # 이용시간의 합계\n",
    "    '대여횟수': ['count']               # 이용횟수\n",
    "    })\n",
    "    if not move_sum_1mon.empty:\n",
    "        before_1mon_distance = move_sum_1mon['이용거리(M)'].values[0][0]\n",
    "        before_1mon_time = move_sum_1mon['이용시간(분)'].values[0][0]\n",
    "        before_1mon_cnt = move_sum_1mon['대여횟수'].values[0][0]\n",
    "    else:\n",
    "        before_1mon_distance = None\n",
    "        before_1mon_time = None\n",
    "        before_1mon_cnt = None\n",
    "\n",
    "    move_sum_2mon = df_temp[(df_temp['대여일자'] >= previous_date_2mon)].groupby('자전거번호').agg({\n",
    "    '이용거리(M)': ['sum'],             # 이용거리의 합계\n",
    "    '이용시간(분)': ['sum'],            # 이용시간의 합계\n",
    "    '대여횟수': ['count']               # 이용횟수\n",
    "    })\n",
    "    if not move_sum_2mon.empty:\n",
    "        before_2mon_distance = move_sum_2mon['이용거리(M)'].values[0][0]\n",
    "        before_2mon_time = move_sum_2mon['이용시간(분)'].values[0][0]\n",
    "        before_2mon_cnt = move_sum_2mon['대여횟수'].values[0][0]\n",
    "    else:\n",
    "        before_2mon_distance = None\n",
    "        before_2mon_time = None\n",
    "        before_2mon_cnt = None\n",
    "\n",
    "    move_sum_3mon = df_temp[(df_temp['대여일자'] >= previous_date_3mon)].groupby('자전거번호').agg({\n",
    "    '이용거리(M)': ['sum'],             # 이용거리의 합계\n",
    "    '이용시간(분)': ['sum'],            # 이용시간의 합계\n",
    "    '대여횟수': ['count']               # 이용횟수\n",
    "    })\n",
    "    if not move_sum_3mon.empty:\n",
    "        before_3mon_distance = move_sum_3mon['이용거리(M)'].values[0][0]\n",
    "        before_3mon_time = move_sum_3mon['이용시간(분)'].values[0][0]\n",
    "        before_3mon_cnt = move_sum_3mon['대여횟수'].values[0][0]\n",
    "    else:\n",
    "        before_3mon_distance = None\n",
    "        before_3mon_time = None\n",
    "        before_3mon_cnt = None\n",
    "                                                                                                               \n",
    "    results.append({\n",
    "            '자전거번호': bike_number,\n",
    "            '이전일자_1mon': previous_date_1mon,\n",
    "            '이전일자_2mon': previous_date_2mon,\n",
    "            '이전일자_3mon': previous_date_3mon,\n",
    "            '등록대여일자': registered_date,\n",
    "            '고장구분': row['고장구분'],\n",
    "            '고장여부': row['고장여부'],\n",
    "        \n",
    "            '이상패턴_5min_횟수': outlier_rent_5min_count,\n",
    "            '이상패턴_7min_횟수': outlier_rent_7min_count,\n",
    "            '이상패턴_10min_횟수': outlier_rent_10min_count,\n",
    "            \n",
    "            '이전일자_1mon_이용거리': before_1mon_distance,\n",
    "            '이전일자_1mon_이용시간': before_1mon_time,\n",
    "            '이전일자_1mon_이용횟수': before_1mon_cnt,\n",
    "            '이전일자_2mon_이용거리': before_2mon_distance,\n",
    "            '이전일자_2mon_이용시간': before_2mon_time,\n",
    "            '이전일자_2mon_이용횟수': before_2mon_cnt,\n",
    "            '이전일자_3mon_이용거리': before_3mon_distance,\n",
    "            '이전일자_3mon_이용시간': before_3mon_time,\n",
    "            '이전일자_3mon_이용횟수': before_3mon_cnt,\n",
    "        })\n",
    "\n",
    "    # 처리 상황 디버깅\n",
    "    print(f'{str(cnt)}/{str(cnt_Bike_latest)} - {bike_number}')\n",
    "    cnt = cnt + 1\n",
    "    \n",
    "# DataFrame으로 변환\n",
    "df_bike_results = pd.DataFrame(results)\n",
    "\n",
    "print(\"check time :\", time.time() - start_time)\n",
    "\n",
    "df_bike_results.to_parquet('G:\\\\내 드라이브\\\\DataSet\\\\_파킷 파일\\\\서울특별시 공공자전거 대여이력 정보\\\\서울특별시 공공자전거 대여이력 정보_(PRE)고장예측_2023_2024.parquet', index=False)"
   ]
  },
  {
   "cell_type": "code",
   "execution_count": 460,
   "id": "c5bf0e16-98ee-4681-9006-e818f2a13a5b",
   "metadata": {},
   "outputs": [
    {
     "data": {
      "text/html": [
       "<div>\n",
       "<style scoped>\n",
       "    .dataframe tbody tr th:only-of-type {\n",
       "        vertical-align: middle;\n",
       "    }\n",
       "\n",
       "    .dataframe tbody tr th {\n",
       "        vertical-align: top;\n",
       "    }\n",
       "\n",
       "    .dataframe thead th {\n",
       "        text-align: right;\n",
       "    }\n",
       "</style>\n",
       "<table border=\"1\" class=\"dataframe\">\n",
       "  <thead>\n",
       "    <tr style=\"text-align: right;\">\n",
       "      <th></th>\n",
       "      <th>자전거번호</th>\n",
       "      <th>이전일자_1mon</th>\n",
       "      <th>이전일자_2mon</th>\n",
       "      <th>이전일자_3mon</th>\n",
       "      <th>등록대여일자</th>\n",
       "      <th>고장구분</th>\n",
       "      <th>고장여부</th>\n",
       "      <th>이상패턴_5min_횟수</th>\n",
       "      <th>이상패턴_7min_횟수</th>\n",
       "      <th>이상패턴_10min_횟수</th>\n",
       "      <th>이전일자_1mon_이용거리</th>\n",
       "      <th>이전일자_1mon_이용시간</th>\n",
       "      <th>이전일자_1mon_이용횟수</th>\n",
       "      <th>이전일자_2mon_이용거리</th>\n",
       "      <th>이전일자_2mon_이용시간</th>\n",
       "      <th>이전일자_2mon_이용횟수</th>\n",
       "      <th>이전일자_3mon_이용거리</th>\n",
       "      <th>이전일자_3mon_이용시간</th>\n",
       "      <th>이전일자_3mon_이용횟수</th>\n",
       "    </tr>\n",
       "  </thead>\n",
       "  <tbody>\n",
       "    <tr>\n",
       "      <th>0</th>\n",
       "      <td>SPB-30006</td>\n",
       "      <td>2024-02-29</td>\n",
       "      <td>2024-01-31</td>\n",
       "      <td>2023-12-31</td>\n",
       "      <td>2024-03-31</td>\n",
       "      <td>페달</td>\n",
       "      <td>1</td>\n",
       "      <td>2</td>\n",
       "      <td>2</td>\n",
       "      <td>2</td>\n",
       "      <td>98170.92</td>\n",
       "      <td>843</td>\n",
       "      <td>22</td>\n",
       "      <td>168996.89</td>\n",
       "      <td>1623</td>\n",
       "      <td>34</td>\n",
       "      <td>223726.14</td>\n",
       "      <td>2395</td>\n",
       "      <td>46</td>\n",
       "    </tr>\n",
       "    <tr>\n",
       "      <th>1</th>\n",
       "      <td>SPB-30010</td>\n",
       "      <td>2024-05-18</td>\n",
       "      <td>2024-04-18</td>\n",
       "      <td>2024-03-18</td>\n",
       "      <td>2024-06-18</td>\n",
       "      <td>타이어</td>\n",
       "      <td>1</td>\n",
       "      <td>5</td>\n",
       "      <td>5</td>\n",
       "      <td>5</td>\n",
       "      <td>231653.56</td>\n",
       "      <td>2257</td>\n",
       "      <td>25</td>\n",
       "      <td>401421.89</td>\n",
       "      <td>3921</td>\n",
       "      <td>46</td>\n",
       "      <td>586710.32</td>\n",
       "      <td>5621</td>\n",
       "      <td>65</td>\n",
       "    </tr>\n",
       "    <tr>\n",
       "      <th>2</th>\n",
       "      <td>SPB-30014</td>\n",
       "      <td>2024-05-24</td>\n",
       "      <td>2024-04-24</td>\n",
       "      <td>2024-03-24</td>\n",
       "      <td>2024-06-24</td>\n",
       "      <td>기타</td>\n",
       "      <td>1</td>\n",
       "      <td>7</td>\n",
       "      <td>8</td>\n",
       "      <td>9</td>\n",
       "      <td>335138.54</td>\n",
       "      <td>2966</td>\n",
       "      <td>26</td>\n",
       "      <td>563483.08</td>\n",
       "      <td>5358</td>\n",
       "      <td>49</td>\n",
       "      <td>679100.64</td>\n",
       "      <td>6344</td>\n",
       "      <td>66</td>\n",
       "    </tr>\n",
       "  </tbody>\n",
       "</table>\n",
       "</div>"
      ],
      "text/plain": [
       "       자전거번호  이전일자_1mon  이전일자_2mon  이전일자_3mon     등록대여일자  고장구분  고장여부  \\\n",
       "0  SPB-30006 2024-02-29 2024-01-31 2023-12-31 2024-03-31    페달     1   \n",
       "1  SPB-30010 2024-05-18 2024-04-18 2024-03-18 2024-06-18  타이어      1   \n",
       "2  SPB-30014 2024-05-24 2024-04-24 2024-03-24 2024-06-24   기타      1   \n",
       "\n",
       "   이상패턴_5min_횟수  이상패턴_7min_횟수  이상패턴_10min_횟수  이전일자_1mon_이용거리  이전일자_1mon_이용시간  \\\n",
       "0             2             2              2        98170.92             843   \n",
       "1             5             5              5       231653.56            2257   \n",
       "2             7             8              9       335138.54            2966   \n",
       "\n",
       "   이전일자_1mon_이용횟수  이전일자_2mon_이용거리  이전일자_2mon_이용시간  이전일자_2mon_이용횟수  \\\n",
       "0              22       168996.89            1623              34   \n",
       "1              25       401421.89            3921              46   \n",
       "2              26       563483.08            5358              49   \n",
       "\n",
       "   이전일자_3mon_이용거리  이전일자_3mon_이용시간  이전일자_3mon_이용횟수  \n",
       "0       223726.14            2395              46  \n",
       "1       586710.32            5621              65  \n",
       "2       679100.64            6344              66  "
      ]
     },
     "execution_count": 460,
     "metadata": {},
     "output_type": "execute_result"
    }
   ],
   "source": [
    "df_bike_results.head(3)"
   ]
  },
  {
   "cell_type": "markdown",
   "id": "e8c4f418-6a97-46a9-ba93-7ab99900b509",
   "metadata": {},
   "source": [
    "check time : 84.03840374946594"
   ]
  },
  {
   "cell_type": "code",
   "execution_count": 440,
   "id": "36faf9cb-7e90-4b0b-a552-62bceafed4cd",
   "metadata": {},
   "outputs": [
    {
     "name": "stdout",
     "output_type": "stream",
     "text": [
      "read_csv time : 0.027301311492919922\n"
     ]
    },
    {
     "data": {
      "text/html": [
       "<div>\n",
       "<style scoped>\n",
       "    .dataframe tbody tr th:only-of-type {\n",
       "        vertical-align: middle;\n",
       "    }\n",
       "\n",
       "    .dataframe tbody tr th {\n",
       "        vertical-align: top;\n",
       "    }\n",
       "\n",
       "    .dataframe thead th {\n",
       "        text-align: right;\n",
       "    }\n",
       "</style>\n",
       "<table border=\"1\" class=\"dataframe\">\n",
       "  <thead>\n",
       "    <tr style=\"text-align: right;\">\n",
       "      <th></th>\n",
       "      <th>자전거번호</th>\n",
       "      <th>이전일자_1mon</th>\n",
       "      <th>이전일자_2mon</th>\n",
       "      <th>이전일자_3mon</th>\n",
       "      <th>등록대여일자</th>\n",
       "      <th>고장구분</th>\n",
       "      <th>고장여부</th>\n",
       "      <th>이상패턴_5min_횟수</th>\n",
       "      <th>이상패턴_7min_횟수</th>\n",
       "      <th>이상패턴_10min_횟수</th>\n",
       "      <th>이전일자_1mon_이용거리</th>\n",
       "      <th>이전일자_1mon_이용시간</th>\n",
       "      <th>이전일자_1mon_이용횟수</th>\n",
       "      <th>이전일자_2mon_이용거리</th>\n",
       "      <th>이전일자_2mon_이용시간</th>\n",
       "      <th>이전일자_2mon_이용횟수</th>\n",
       "      <th>이전일자_3mon_이용거리</th>\n",
       "      <th>이전일자_3mon_이용시간</th>\n",
       "      <th>이전일자_3mon_이용횟수</th>\n",
       "    </tr>\n",
       "  </thead>\n",
       "  <tbody>\n",
       "    <tr>\n",
       "      <th>0</th>\n",
       "      <td>SPB-30006</td>\n",
       "      <td>2024-02-29</td>\n",
       "      <td>2024-01-31</td>\n",
       "      <td>2023-12-31</td>\n",
       "      <td>2024-03-31</td>\n",
       "      <td>페달</td>\n",
       "      <td>1</td>\n",
       "      <td>2</td>\n",
       "      <td>2</td>\n",
       "      <td>2</td>\n",
       "      <td>98170.92</td>\n",
       "      <td>843</td>\n",
       "      <td>22</td>\n",
       "      <td>168996.89</td>\n",
       "      <td>1623</td>\n",
       "      <td>34</td>\n",
       "      <td>223726.14</td>\n",
       "      <td>2395</td>\n",
       "      <td>46</td>\n",
       "    </tr>\n",
       "    <tr>\n",
       "      <th>1</th>\n",
       "      <td>SPB-30010</td>\n",
       "      <td>2024-05-18</td>\n",
       "      <td>2024-04-18</td>\n",
       "      <td>2024-03-18</td>\n",
       "      <td>2024-06-18</td>\n",
       "      <td>타이어</td>\n",
       "      <td>1</td>\n",
       "      <td>5</td>\n",
       "      <td>5</td>\n",
       "      <td>5</td>\n",
       "      <td>231653.56</td>\n",
       "      <td>2257</td>\n",
       "      <td>25</td>\n",
       "      <td>401421.89</td>\n",
       "      <td>3921</td>\n",
       "      <td>46</td>\n",
       "      <td>586710.32</td>\n",
       "      <td>5621</td>\n",
       "      <td>65</td>\n",
       "    </tr>\n",
       "    <tr>\n",
       "      <th>2</th>\n",
       "      <td>SPB-30014</td>\n",
       "      <td>2024-05-24</td>\n",
       "      <td>2024-04-24</td>\n",
       "      <td>2024-03-24</td>\n",
       "      <td>2024-06-24</td>\n",
       "      <td>기타</td>\n",
       "      <td>1</td>\n",
       "      <td>7</td>\n",
       "      <td>8</td>\n",
       "      <td>9</td>\n",
       "      <td>335138.54</td>\n",
       "      <td>2966</td>\n",
       "      <td>26</td>\n",
       "      <td>563483.08</td>\n",
       "      <td>5358</td>\n",
       "      <td>49</td>\n",
       "      <td>679100.64</td>\n",
       "      <td>6344</td>\n",
       "      <td>66</td>\n",
       "    </tr>\n",
       "    <tr>\n",
       "      <th>3</th>\n",
       "      <td>SPB-30018</td>\n",
       "      <td>2024-05-01</td>\n",
       "      <td>2024-04-01</td>\n",
       "      <td>2024-03-01</td>\n",
       "      <td>2024-06-01</td>\n",
       "      <td>기타</td>\n",
       "      <td>1</td>\n",
       "      <td>2</td>\n",
       "      <td>2</td>\n",
       "      <td>2</td>\n",
       "      <td>291259.65</td>\n",
       "      <td>3041</td>\n",
       "      <td>23</td>\n",
       "      <td>547061.02</td>\n",
       "      <td>5131</td>\n",
       "      <td>44</td>\n",
       "      <td>664487.39</td>\n",
       "      <td>6357</td>\n",
       "      <td>66</td>\n",
       "    </tr>\n",
       "    <tr>\n",
       "      <th>4</th>\n",
       "      <td>SPB-30022</td>\n",
       "      <td>2024-04-20</td>\n",
       "      <td>2024-03-20</td>\n",
       "      <td>2024-02-20</td>\n",
       "      <td>2024-05-20</td>\n",
       "      <td>기타</td>\n",
       "      <td>1</td>\n",
       "      <td>7</td>\n",
       "      <td>7</td>\n",
       "      <td>7</td>\n",
       "      <td>253399.66</td>\n",
       "      <td>2755</td>\n",
       "      <td>28</td>\n",
       "      <td>428688.47</td>\n",
       "      <td>4720</td>\n",
       "      <td>51</td>\n",
       "      <td>526113.69</td>\n",
       "      <td>5605</td>\n",
       "      <td>64</td>\n",
       "    </tr>\n",
       "  </tbody>\n",
       "</table>\n",
       "</div>"
      ],
      "text/plain": [
       "       자전거번호  이전일자_1mon  이전일자_2mon  이전일자_3mon     등록대여일자  고장구분  고장여부  \\\n",
       "0  SPB-30006 2024-02-29 2024-01-31 2023-12-31 2024-03-31    페달     1   \n",
       "1  SPB-30010 2024-05-18 2024-04-18 2024-03-18 2024-06-18  타이어      1   \n",
       "2  SPB-30014 2024-05-24 2024-04-24 2024-03-24 2024-06-24   기타      1   \n",
       "3  SPB-30018 2024-05-01 2024-04-01 2024-03-01 2024-06-01   기타      1   \n",
       "4  SPB-30022 2024-04-20 2024-03-20 2024-02-20 2024-05-20   기타      1   \n",
       "\n",
       "   이상패턴_5min_횟수  이상패턴_7min_횟수  이상패턴_10min_횟수  이전일자_1mon_이용거리  이전일자_1mon_이용시간  \\\n",
       "0             2             2              2        98170.92             843   \n",
       "1             5             5              5       231653.56            2257   \n",
       "2             7             8              9       335138.54            2966   \n",
       "3             2             2              2       291259.65            3041   \n",
       "4             7             7              7       253399.66            2755   \n",
       "\n",
       "   이전일자_1mon_이용횟수  이전일자_2mon_이용거리  이전일자_2mon_이용시간  이전일자_2mon_이용횟수  \\\n",
       "0              22       168996.89            1623              34   \n",
       "1              25       401421.89            3921              46   \n",
       "2              26       563483.08            5358              49   \n",
       "3              23       547061.02            5131              44   \n",
       "4              28       428688.47            4720              51   \n",
       "\n",
       "   이전일자_3mon_이용거리  이전일자_3mon_이용시간  이전일자_3mon_이용횟수  \n",
       "0       223726.14            2395              46  \n",
       "1       586710.32            5621              65  \n",
       "2       679100.64            6344              66  \n",
       "3       664487.39            6357              66  \n",
       "4       526113.69            5605              64  "
      ]
     },
     "execution_count": 440,
     "metadata": {},
     "output_type": "execute_result"
    }
   ],
   "source": [
    "start_time = time.time()\n",
    "df_123 = pd.read_parquet('G:\\\\내 드라이브\\\\DataSet\\\\_파킷 파일\\\\서울특별시 공공자전거 대여이력 정보\\\\서울특별시 공공자전거 대여이력 정보_(PRE)고장예측_2023_2024.parquet')\n",
    "print(\"read_csv time :\", time.time() - start_time)\n",
    "df_123.head()"
   ]
  },
  {
   "cell_type": "markdown",
   "id": "2a678b0a-517d-406c-95a1-de50c4550b64",
   "metadata": {},
   "source": [
    "---\n",
    "## 가공 파일 저장"
   ]
  },
  {
   "cell_type": "code",
   "execution_count": null,
   "id": "2f9afeb9-0f32-4200-9abc-434ef7bc8ae4",
   "metadata": {},
   "outputs": [],
   "source": [
    "df_bike_results.to_parquet('G:\\\\내 드라이브\\\\DataSet\\\\_파킷 파일\\\\서울특별시 공공자전거 대여이력 정보\\\\서울특별시 공공자전거 대여이력 정보_(PRE)고장예측_2023_2024.parquet', index=False)"
   ]
  },
  {
   "cell_type": "markdown",
   "id": "26a61f3b-7843-4af9-bf10-bf73cf0824f9",
   "metadata": {},
   "source": [
    "---\n",
    "## 고장횟수 별 - 고장비율\n",
    " - 고장 : 24년의 마지막고장신고\n",
    " - 정상 : 24년의 마지막 대여일"
   ]
  },
  {
   "cell_type": "markdown",
   "id": "9ae94474-4e23-419a-9a2a-d3311faf8aa1",
   "metadata": {},
   "source": [
    "### [전체] 고장여부 비율"
   ]
  },
  {
   "cell_type": "code",
   "execution_count": 127,
   "id": "aede0e8c-5ce4-4679-b76d-47a44fc1cbcf",
   "metadata": {},
   "outputs": [
    {
     "name": "stdout",
     "output_type": "stream",
     "text": [
      "total : 41710\n",
      "counts : 고장여부\n",
      "1    28589\n",
      "0    13121\n",
      "Name: count, dtype: int64\n",
      "percentage : 고장여부\n",
      "1    68.542316\n",
      "0    31.457684\n",
      "Name: count, dtype: float64\n"
     ]
    }
   ],
   "source": [
    "counts = df_Bike_latest_2['고장여부'].value_counts()\n",
    "total = counts.sum()   # 총 데이터 개수\n",
    "percentage = counts / total * 100   # 비율 계산\n",
    "print(f'total : {total}')\n",
    "print(f'counts : {counts}')\n",
    "print(f'percentage : {percentage}')"
   ]
  },
  {
   "cell_type": "code",
   "execution_count": 225,
   "id": "a49825af-340e-4675-b21b-3fa5cb9bf9c3",
   "metadata": {},
   "outputs": [
    {
     "data": {
      "text/plain": [
       "이상패턴_횟수\n",
       "0     1918\n",
       "1     4440\n",
       "2     5868\n",
       "3     5911\n",
       "4     5195\n",
       "5     4155\n",
       "6     3217\n",
       "7     2316\n",
       "8     1666\n",
       "9     1270\n",
       "10    1016\n",
       "11     708\n",
       "12     580\n",
       "13     451\n",
       "14     399\n",
       "15     325\n",
       "16     277\n",
       "17     253\n",
       "18     204\n",
       "19     167\n",
       "20     159\n",
       "21     128\n",
       "22     107\n",
       "23     106\n",
       "24      90\n",
       "25      75\n",
       "26      62\n",
       "27      64\n",
       "28      56\n",
       "29      45\n",
       "30      55\n",
       "31      37\n",
       "32      49\n",
       "33      31\n",
       "34      22\n",
       "35      26\n",
       "36      30\n",
       "37      22\n",
       "38      20\n",
       "39      11\n",
       "40      17\n",
       "41      16\n",
       "42      19\n",
       "43      12\n",
       "44       9\n",
       "45       6\n",
       "46       6\n",
       "47       4\n",
       "48       6\n",
       "49       6\n",
       "Name: count, dtype: int64"
      ]
     },
     "execution_count": 225,
     "metadata": {},
     "output_type": "execute_result"
    }
   ],
   "source": [
    "df_Bike_latest_2['이상패턴_횟수'].value_counts().sort_index()[:50]"
   ]
  },
  {
   "cell_type": "code",
   "execution_count": 129,
   "id": "cb2e64f0-b3d5-4618-b2f9-ead5bcd42ac7",
   "metadata": {},
   "outputs": [
    {
     "data": {
      "text/html": [
       "<div>\n",
       "<style scoped>\n",
       "    .dataframe tbody tr th:only-of-type {\n",
       "        vertical-align: middle;\n",
       "    }\n",
       "\n",
       "    .dataframe tbody tr th {\n",
       "        vertical-align: top;\n",
       "    }\n",
       "\n",
       "    .dataframe thead th {\n",
       "        text-align: right;\n",
       "    }\n",
       "</style>\n",
       "<table border=\"1\" class=\"dataframe\">\n",
       "  <thead>\n",
       "    <tr style=\"text-align: right;\">\n",
       "      <th>고장여부</th>\n",
       "      <th>이상패턴_횟수</th>\n",
       "      <th>0</th>\n",
       "      <th>1</th>\n",
       "    </tr>\n",
       "  </thead>\n",
       "  <tbody>\n",
       "    <tr>\n",
       "      <th>0</th>\n",
       "      <td>0</td>\n",
       "      <td>NaN</td>\n",
       "      <td>1.000000</td>\n",
       "    </tr>\n",
       "    <tr>\n",
       "      <th>1</th>\n",
       "      <td>1</td>\n",
       "      <td>0.243514</td>\n",
       "      <td>0.756486</td>\n",
       "    </tr>\n",
       "    <tr>\n",
       "      <th>2</th>\n",
       "      <td>2</td>\n",
       "      <td>0.294862</td>\n",
       "      <td>0.705138</td>\n",
       "    </tr>\n",
       "    <tr>\n",
       "      <th>3</th>\n",
       "      <td>3</td>\n",
       "      <td>0.343478</td>\n",
       "      <td>0.656522</td>\n",
       "    </tr>\n",
       "    <tr>\n",
       "      <th>4</th>\n",
       "      <td>4</td>\n",
       "      <td>0.345997</td>\n",
       "      <td>0.654003</td>\n",
       "    </tr>\n",
       "    <tr>\n",
       "      <th>5</th>\n",
       "      <td>5</td>\n",
       "      <td>0.383106</td>\n",
       "      <td>0.616894</td>\n",
       "    </tr>\n",
       "    <tr>\n",
       "      <th>6</th>\n",
       "      <td>6</td>\n",
       "      <td>0.394855</td>\n",
       "      <td>0.605145</td>\n",
       "    </tr>\n",
       "    <tr>\n",
       "      <th>7</th>\n",
       "      <td>7</td>\n",
       "      <td>0.394296</td>\n",
       "      <td>0.605704</td>\n",
       "    </tr>\n",
       "    <tr>\n",
       "      <th>8</th>\n",
       "      <td>8</td>\n",
       "      <td>0.377865</td>\n",
       "      <td>0.622135</td>\n",
       "    </tr>\n",
       "    <tr>\n",
       "      <th>9</th>\n",
       "      <td>9</td>\n",
       "      <td>0.373016</td>\n",
       "      <td>0.626984</td>\n",
       "    </tr>\n",
       "    <tr>\n",
       "      <th>10</th>\n",
       "      <td>10</td>\n",
       "      <td>0.352738</td>\n",
       "      <td>0.647262</td>\n",
       "    </tr>\n",
       "    <tr>\n",
       "      <th>11</th>\n",
       "      <td>11</td>\n",
       "      <td>0.334566</td>\n",
       "      <td>0.665434</td>\n",
       "    </tr>\n",
       "    <tr>\n",
       "      <th>12</th>\n",
       "      <td>12</td>\n",
       "      <td>0.292331</td>\n",
       "      <td>0.707669</td>\n",
       "    </tr>\n",
       "    <tr>\n",
       "      <th>13</th>\n",
       "      <td>13</td>\n",
       "      <td>0.267974</td>\n",
       "      <td>0.732026</td>\n",
       "    </tr>\n",
       "    <tr>\n",
       "      <th>14</th>\n",
       "      <td>14</td>\n",
       "      <td>0.238426</td>\n",
       "      <td>0.761574</td>\n",
       "    </tr>\n",
       "    <tr>\n",
       "      <th>15</th>\n",
       "      <td>15</td>\n",
       "      <td>0.231003</td>\n",
       "      <td>0.768997</td>\n",
       "    </tr>\n",
       "    <tr>\n",
       "      <th>16</th>\n",
       "      <td>16</td>\n",
       "      <td>0.221169</td>\n",
       "      <td>0.778831</td>\n",
       "    </tr>\n",
       "    <tr>\n",
       "      <th>17</th>\n",
       "      <td>17</td>\n",
       "      <td>0.183673</td>\n",
       "      <td>0.816327</td>\n",
       "    </tr>\n",
       "    <tr>\n",
       "      <th>18</th>\n",
       "      <td>18</td>\n",
       "      <td>0.185012</td>\n",
       "      <td>0.814988</td>\n",
       "    </tr>\n",
       "    <tr>\n",
       "      <th>19</th>\n",
       "      <td>19</td>\n",
       "      <td>0.120743</td>\n",
       "      <td>0.879257</td>\n",
       "    </tr>\n",
       "  </tbody>\n",
       "</table>\n",
       "</div>"
      ],
      "text/plain": [
       "고장여부  이상패턴_횟수         0         1\n",
       "0           0       NaN  1.000000\n",
       "1           1  0.243514  0.756486\n",
       "2           2  0.294862  0.705138\n",
       "3           3  0.343478  0.656522\n",
       "4           4  0.345997  0.654003\n",
       "5           5  0.383106  0.616894\n",
       "6           6  0.394855  0.605145\n",
       "7           7  0.394296  0.605704\n",
       "8           8  0.377865  0.622135\n",
       "9           9  0.373016  0.626984\n",
       "10         10  0.352738  0.647262\n",
       "11         11  0.334566  0.665434\n",
       "12         12  0.292331  0.707669\n",
       "13         13  0.267974  0.732026\n",
       "14         14  0.238426  0.761574\n",
       "15         15  0.231003  0.768997\n",
       "16         16  0.221169  0.778831\n",
       "17         17  0.183673  0.816327\n",
       "18         18  0.185012  0.814988\n",
       "19         19  0.120743  0.879257"
      ]
     },
     "execution_count": 129,
     "metadata": {},
     "output_type": "execute_result"
    }
   ],
   "source": [
    "# 고장횟수에 따른 고장여부 비율 계산\n",
    "df_2 = df_Bike_latest_2.groupby('이상패턴_횟수')['고장여부'].value_counts(normalize=True).unstack().reset_index()\n",
    "df_2.head(20)"
   ]
  },
  {
   "cell_type": "code",
   "execution_count": 131,
   "id": "f783c3f2-079a-414d-a8fb-e583b859fd4e",
   "metadata": {},
   "outputs": [
    {
     "data": {
      "text/html": [
       "<div>\n",
       "<style scoped>\n",
       "    .dataframe tbody tr th:only-of-type {\n",
       "        vertical-align: middle;\n",
       "    }\n",
       "\n",
       "    .dataframe tbody tr th {\n",
       "        vertical-align: top;\n",
       "    }\n",
       "\n",
       "    .dataframe thead th {\n",
       "        text-align: right;\n",
       "    }\n",
       "</style>\n",
       "<table border=\"1\" class=\"dataframe\">\n",
       "  <thead>\n",
       "    <tr style=\"text-align: right;\">\n",
       "      <th></th>\n",
       "      <th>이상패턴_횟수</th>\n",
       "      <th>고장</th>\n",
       "      <th>정상</th>\n",
       "    </tr>\n",
       "  </thead>\n",
       "  <tbody>\n",
       "    <tr>\n",
       "      <th>0</th>\n",
       "      <td>0</td>\n",
       "      <td>NaN</td>\n",
       "      <td>1.000000</td>\n",
       "    </tr>\n",
       "    <tr>\n",
       "      <th>1</th>\n",
       "      <td>1</td>\n",
       "      <td>0.243514</td>\n",
       "      <td>0.756486</td>\n",
       "    </tr>\n",
       "    <tr>\n",
       "      <th>2</th>\n",
       "      <td>2</td>\n",
       "      <td>0.294862</td>\n",
       "      <td>0.705138</td>\n",
       "    </tr>\n",
       "    <tr>\n",
       "      <th>3</th>\n",
       "      <td>3</td>\n",
       "      <td>0.343478</td>\n",
       "      <td>0.656522</td>\n",
       "    </tr>\n",
       "    <tr>\n",
       "      <th>4</th>\n",
       "      <td>4</td>\n",
       "      <td>0.345997</td>\n",
       "      <td>0.654003</td>\n",
       "    </tr>\n",
       "  </tbody>\n",
       "</table>\n",
       "</div>"
      ],
      "text/plain": [
       "   이상패턴_횟수        고장        정상\n",
       "0        0       NaN  1.000000\n",
       "1        1  0.243514  0.756486\n",
       "2        2  0.294862  0.705138\n",
       "3        3  0.343478  0.656522\n",
       "4        4  0.345997  0.654003"
      ]
     },
     "execution_count": 131,
     "metadata": {},
     "output_type": "execute_result"
    }
   ],
   "source": [
    "df_2.columns = ['이상패턴_횟수', '고장', '정상']\n",
    "df_2.head()"
   ]
  },
  {
   "cell_type": "code",
   "execution_count": 133,
   "id": "5475885f-2768-4662-8bfd-c871e248c975",
   "metadata": {},
   "outputs": [],
   "source": [
    "import matplotlib.pyplot as plt\n",
    "import seaborn as sns\n",
    "\n",
    "# 한글 폰트 설정 (Windows에서는 'Malgun Gothic' 사용)\n",
    "plt.rcParams['font.family'] = 'Malgun Gothic'\n",
    "# 마이너스 기호 깨짐 방지\n",
    "plt.rcParams['axes.unicode_minus'] = False"
   ]
  },
  {
   "cell_type": "code",
   "execution_count": 135,
   "id": "fcc87820-c075-4ac1-ab58-104033467237",
   "metadata": {},
   "outputs": [
    {
     "data": {
      "image/png": "[encoded data removed]",
      "text/plain": [
       "<Figure size 1000x600 with 1 Axes>"
      ]
     },
     "metadata": {},
     "output_type": "display_data"
    }
   ],
   "source": [
    "# 결과 시각화\n",
    "result = df_Bike_latest_2.groupby('이상패턴_횟수')['고장여부'].value_counts().unstack().fillna(0)\n",
    "result.plot(kind='bar', stacked=True, figsize=(10, 6), color=['skyblue', 'salmon'])\n",
    "plt.xlabel('이상패턴_횟수')\n",
    "plt.ylabel('횟수')\n",
    "plt.title('이상패턴_횟수에 따른 고장여부 횟수')\n",
    "plt.legend(title='고장여부')\n",
    "plt.tight_layout()\n",
    "plt.show()"
   ]
  },
  {
   "cell_type": "code",
   "execution_count": 137,
   "id": "382be891-cc3b-4395-b926-4d60e6c8a83e",
   "metadata": {},
   "outputs": [
    {
     "data": {
      "image/png": "[encoded data removed]",
      "text/plain": [
       "<Figure size 1000x600 with 1 Axes>"
      ]
     },
     "metadata": {},
     "output_type": "display_data"
    }
   ],
   "source": [
    "# 결과 시각화\n",
    "result = df_Bike_latest_2.groupby('이상패턴_횟수')['고장여부'].value_counts(normalize=True).unstack().fillna(0)\n",
    "#result = df_Bike_latest_2.groupby('이상패턴_횟수')['고장여부'].value_counts().unstack().fillna(0)\n",
    "result.plot(kind='bar', stacked=True, figsize=(10, 6), color=['skyblue', 'salmon'])\n",
    "plt.xlabel('이상패턴_횟수')\n",
    "plt.ylabel('비율')\n",
    "plt.title('이상패턴_횟수에 따른 고장여부 비율')\n",
    "plt.legend(title='고장여부')\n",
    "plt.tight_layout()\n",
    "plt.show()"
   ]
  },
  {
   "cell_type": "markdown",
   "id": "906a55bb-4235-4358-aa37-cb830fae41ea",
   "metadata": {},
   "source": [
    "---\n",
    "## 선형회귀 모델링"
   ]
  },
  {
   "cell_type": "code",
   "execution_count": 142,
   "id": "60c5db38-87c6-4d82-8a6a-8d4cd4e810b1",
   "metadata": {},
   "outputs": [],
   "source": [
    "import numpy as np"
   ]
  },
  {
   "cell_type": "code",
   "execution_count": 144,
   "id": "d63fd71a-6dca-4e04-ae99-86d8543d42f2",
   "metadata": {},
   "outputs": [
    {
     "data": {
      "text/plain": [
       "array([[2],\n",
       "       [5],\n",
       "       [7],\n",
       "       [2],\n",
       "       [7]])"
      ]
     },
     "execution_count": 144,
     "metadata": {},
     "output_type": "execute_result"
    }
   ],
   "source": [
    "np.array([2, 5, 7, 2, 7]).reshape(-1, 1)"
   ]
  },
  {
   "cell_type": "code",
   "execution_count": 146,
   "id": "96a293ae-39fc-4d82-a399-9c803d2bbbff",
   "metadata": {},
   "outputs": [
    {
     "data": {
      "text/html": [
       "<div>\n",
       "<style scoped>\n",
       "    .dataframe tbody tr th:only-of-type {\n",
       "        vertical-align: middle;\n",
       "    }\n",
       "\n",
       "    .dataframe tbody tr th {\n",
       "        vertical-align: top;\n",
       "    }\n",
       "\n",
       "    .dataframe thead th {\n",
       "        text-align: right;\n",
       "    }\n",
       "</style>\n",
       "<table border=\"1\" class=\"dataframe\">\n",
       "  <thead>\n",
       "    <tr style=\"text-align: right;\">\n",
       "      <th></th>\n",
       "      <th>자전거번호</th>\n",
       "      <th>이전일자</th>\n",
       "      <th>등록대여일자</th>\n",
       "      <th>고장구분</th>\n",
       "      <th>고장여부</th>\n",
       "      <th>이상패턴_횟수</th>\n",
       "    </tr>\n",
       "  </thead>\n",
       "  <tbody>\n",
       "    <tr>\n",
       "      <th>0</th>\n",
       "      <td>SPB-30006</td>\n",
       "      <td>2024-01-31</td>\n",
       "      <td>2024-03-31</td>\n",
       "      <td>페달</td>\n",
       "      <td>1</td>\n",
       "      <td>3</td>\n",
       "    </tr>\n",
       "    <tr>\n",
       "      <th>1</th>\n",
       "      <td>SPB-30010</td>\n",
       "      <td>2024-04-18</td>\n",
       "      <td>2024-06-18</td>\n",
       "      <td>타이어</td>\n",
       "      <td>1</td>\n",
       "      <td>7</td>\n",
       "    </tr>\n",
       "    <tr>\n",
       "      <th>2</th>\n",
       "      <td>SPB-30014</td>\n",
       "      <td>2024-04-24</td>\n",
       "      <td>2024-06-24</td>\n",
       "      <td>기타</td>\n",
       "      <td>1</td>\n",
       "      <td>9</td>\n",
       "    </tr>\n",
       "  </tbody>\n",
       "</table>\n",
       "</div>"
      ],
      "text/plain": [
       "       자전거번호       이전일자     등록대여일자  고장구분  고장여부  이상패턴_횟수\n",
       "0  SPB-30006 2024-01-31 2024-03-31    페달     1        3\n",
       "1  SPB-30010 2024-04-18 2024-06-18  타이어      1        7\n",
       "2  SPB-30014 2024-04-24 2024-06-24   기타      1        9"
      ]
     },
     "execution_count": 146,
     "metadata": {},
     "output_type": "execute_result"
    }
   ],
   "source": [
    "df_Bike_latest_2.head(3)"
   ]
  },
  {
   "cell_type": "code",
   "execution_count": 148,
   "id": "cc40951f-47ca-4e0c-a4ec-9ba453cb59ba",
   "metadata": {},
   "outputs": [
    {
     "data": {
      "text/plain": [
       "array([[3],\n",
       "       [7],\n",
       "       [9],\n",
       "       ...,\n",
       "       [8],\n",
       "       [3],\n",
       "       [3]], dtype=int64)"
      ]
     },
     "execution_count": 148,
     "metadata": {},
     "output_type": "execute_result"
    }
   ],
   "source": [
    "np.array(df_Bike_latest_2['이상패턴_횟수']).reshape(-1, 1)"
   ]
  },
  {
   "cell_type": "code",
   "execution_count": 150,
   "id": "59261a8e-fb1a-4e40-ac61-62f23c0f8499",
   "metadata": {},
   "outputs": [
    {
     "data": {
      "text/plain": [
       "array([1, 1, 1, ..., 0, 0, 0], dtype=int64)"
      ]
     },
     "execution_count": 150,
     "metadata": {},
     "output_type": "execute_result"
    }
   ],
   "source": [
    "np.array(df_Bike_latest_2['고장여부'])"
   ]
  },
  {
   "cell_type": "code",
   "execution_count": 152,
   "id": "58927e32-2390-42db-b741-d54a3955128b",
   "metadata": {},
   "outputs": [
    {
     "data": {
      "image/png": "[encoded data removed]",
      "text/plain": [
       "<Figure size 640x480 with 1 Axes>"
      ]
     },
     "metadata": {},
     "output_type": "display_data"
    },
    {
     "name": "stdout",
     "output_type": "stream",
     "text": [
      "회귀 계수: [0.00700518]\n",
      "절편: 0.6176931151046378\n"
     ]
    }
   ],
   "source": [
    "import numpy as np\n",
    "import pandas as pd\n",
    "import matplotlib.pyplot as plt\n",
    "from sklearn.model_selection import train_test_split\n",
    "from sklearn.linear_model import LinearRegression\n",
    "\n",
    "# # 예시 데이터 생성\n",
    "# # 독립 변수 (예: 고장횟수)\n",
    "# X = np.array([2, 5, 7, 2, 7]).reshape(-1, 1)\n",
    "# # 종속 변수 (예: 고장여부)\n",
    "# y = np.array([1, 1, 1, 1, 1])\n",
    "\n",
    "df_Bike_latest_3 = df_Bike_latest_2[df_Bike_latest_2['이상패턴_횟수'] > 0]\n",
    "X = np.array(df_Bike_latest_3['이상패턴_횟수']).reshape(-1, 1)\n",
    "y = np.array(df_Bike_latest_3['고장여부'])\n",
    "\n",
    "# 데이터셋을 학습 세트와 테스트 세트로 분리\n",
    "X_train, X_test, y_train, y_test = train_test_split(X, y, test_size=0.2, random_state=42)\n",
    "\n",
    "# 선형 회귀 모델 생성 및 학습\n",
    "model = LinearRegression()\n",
    "model.fit(X_train, y_train)\n",
    "\n",
    "# 테스트 세트에 대한 예측\n",
    "y_pred = model.predict(X_test)\n",
    "\n",
    "# 결과 시각화\n",
    "plt.scatter(X_test, y_test, color='blue', label='Actual')\n",
    "plt.plot(X_test, y_pred, color='red', linewidth=2, label='Predicted')\n",
    "plt.xlabel('고장횟수')\n",
    "plt.ylabel('고장여부')\n",
    "plt.title('고장횟수에 따른 고장여부 예측')\n",
    "plt.legend()\n",
    "plt.show()\n",
    "\n",
    "# 회귀 계수 출력\n",
    "print('회귀 계수:', model.coef_)\n",
    "print('절편:', model.intercept_)"
   ]
  },
  {
   "cell_type": "markdown",
   "id": "1a98d7cc-2b5e-495f-8f43-7c7bf0c483c7",
   "metadata": {},
   "source": [
    "---\n",
    "## 로지스틱회귀 모델링"
   ]
  },
  {
   "cell_type": "code",
   "execution_count": 154,
   "id": "006defe2-cf6b-481b-abad-ebbd89a7aa6a",
   "metadata": {},
   "outputs": [
    {
     "data": {
      "image/png": "[encoded data removed]",
      "text/plain": [
       "<Figure size 640x480 with 1 Axes>"
      ]
     },
     "metadata": {},
     "output_type": "display_data"
    },
    {
     "name": "stdout",
     "output_type": "stream",
     "text": [
      "테스트 세트 정확도: 0.6854471349796212\n"
     ]
    }
   ],
   "source": [
    "import numpy as np\n",
    "import pandas as pd\n",
    "from sklearn.model_selection import train_test_split\n",
    "from sklearn.linear_model import LogisticRegression\n",
    "import matplotlib.pyplot as plt\n",
    "\n",
    "# # 예시 데이터 생성\n",
    "# X = np.array([2, 5, 7, 2, 7]).reshape(-1, 1)  # 고장횟수\n",
    "# y = np.array([1, 1, 1, 0, 0])  # 고장여부\n",
    "\n",
    "df_Bike_latest_3 = df_Bike_latest_2[df_Bike_latest_2['이상패턴_횟수'] > 0]\n",
    "df_Bike_latest_3 = df_Bike_latest_2\n",
    "X = np.array(df_Bike_latest_3['이상패턴_횟수']).reshape(-1, 1)\n",
    "y = np.array(df_Bike_latest_3['고장여부'])\n",
    "\n",
    "# 데이터셋을 학습 세트와 테스트 세트로 분리\n",
    "X_train, X_test, y_train, y_test = train_test_split(X, y, test_size=0.2, random_state=444, stratify=y)\n",
    "\n",
    "# 로지스틱 회귀 모델 생성 및 학습\n",
    "model = LogisticRegression()\n",
    "model.fit(X_train, y_train)\n",
    "\n",
    "# 테스트 세트에 대한 예측\n",
    "y_pred = model.predict(X_test)\n",
    "y_prob = model.predict_proba(X_test)[:, 1]\n",
    "\n",
    "# 결과 시각화\n",
    "plt.scatter(X_test, y_test, color='blue', label='Actual')\n",
    "plt.scatter(X_test, y_pred, color='red', label='Predicted')\n",
    "plt.xlabel('고장횟수')\n",
    "plt.ylabel('고장여부')\n",
    "plt.title('고장횟수에 따른 고장여부 예측')\n",
    "plt.legend()\n",
    "plt.show()\n",
    "\n",
    "# 모델 평가\n",
    "print('테스트 세트 정확도:', model.score(X_test, y_test))"
   ]
  },
  {
   "cell_type": "markdown",
   "id": "9839e252-917d-4e26-98da-9742e9ceb2d2",
   "metadata": {},
   "source": [
    "### [ 이상패턴 횟수 == 0 ] 것들의 고장여부 비율"
   ]
  },
  {
   "cell_type": "code",
   "execution_count": 158,
   "id": "c1a41a0f-8a72-49f6-a366-4f2ee782a0ce",
   "metadata": {},
   "outputs": [
    {
     "name": "stdout",
     "output_type": "stream",
     "text": [
      "total : 710\n",
      "counts : 고장여부\n",
      "1    710\n",
      "Name: count, dtype: int64\n",
      "percentage : 고장여부\n",
      "1    100.0\n",
      "Name: count, dtype: float64\n"
     ]
    }
   ],
   "source": [
    "counts = df_Bike_latest_2[df_Bike_latest_2['이상패턴_횟수'] == 0]['고장여부'].value_counts()\n",
    "total = counts.sum()   # 총 데이터 개수\n",
    "percentage = counts / total * 100   # 비율 계산\n",
    "print(f'total : {total}')\n",
    "print(f'counts : {counts}')\n",
    "print(f'percentage : {percentage}')"
   ]
  },
  {
   "cell_type": "markdown",
   "id": "98fa02e7-4099-4e73-91b1-78dc7df24436",
   "metadata": {},
   "source": [
    "### [ 이상패턴 횟수 > 0 ] 것들의 고장여부 비율"
   ]
  },
  {
   "cell_type": "code",
   "execution_count": 160,
   "id": "bed014df-0121-45c2-9006-77b3f4543cd8",
   "metadata": {},
   "outputs": [
    {
     "name": "stdout",
     "output_type": "stream",
     "text": [
      "total : 41000\n",
      "counts : 고장여부\n",
      "1    27879\n",
      "0    13121\n",
      "Name: count, dtype: int64\n",
      "percentage : 고장여부\n",
      "1    67.997561\n",
      "0    32.002439\n",
      "Name: count, dtype: float64\n"
     ]
    }
   ],
   "source": [
    "counts = df_Bike_latest_2[df_Bike_latest_2['이상패턴_횟수'] > 0]['고장여부'].value_counts()\n",
    "total = counts.sum()   # 총 데이터 개수\n",
    "percentage = counts / total * 100   # 비율 계산\n",
    "print(f'total : {total}')\n",
    "print(f'counts : {counts}')\n",
    "print(f'percentage : {percentage}')"
   ]
  },
  {
   "cell_type": "code",
   "execution_count": null,
   "id": "b75db68d-2f19-4d4e-b191-8c811fa896ab",
   "metadata": {},
   "outputs": [],
   "source": []
  }
 ],
 "metadata": {
  "kernelspec": {
   "display_name": "Python 3 (ipykernel)",
   "language": "python",
   "name": "python3"
  },
  "language_info": {
   "codemirror_mode": {
    "name": "ipython",
    "version": 3
   },
   "file_extension": ".py",
   "mimetype": "text/x-python",
   "name": "python",
   "nbconvert_exporter": "python",
   "pygments_lexer": "ipython3",
   "version": "3.12.4"
  }
 },
 "nbformat": 4,
 "nbformat_minor": 5
}
