{
 "cells": [
  {
   "cell_type": "code",
   "execution_count": 219,
   "id": "6ec93770-6d09-46a0-a64f-cb083985bc49",
   "metadata": {},
   "outputs": [],
   "source": [
    "# 라이브러리 임포트\n",
    "import os\n",
    "import pandas as pd\n",
    "import chardet\n",
    "\n",
    "# 사용자 정의함수 경로 설정\n",
    "import sys\n",
    "sys.path.append(\"G:/내 드라이브/Source/_Custom_Function\")\n",
    "# 사용자 정의함수 불러오기\n",
    "\n",
    "import time\n",
    "\n",
    "import ExcelFile_Merge as em\n",
    "import ExcelFile_Read as er\n",
    "import ExcelFile_EDA as ee"
   ]
  },
  {
   "cell_type": "markdown",
   "id": "630e80ae-0bfe-4bf8-bd80-d76aea9e13a7",
   "metadata": {},
   "source": [
    "## 기본 데이터 불러오기"
   ]
  },
  {
   "cell_type": "code",
   "execution_count": 222,
   "id": "28de27a5-1c0c-4b4c-8c84-0f953bf1756f",
   "metadata": {},
   "outputs": [],
   "source": [
    "_year = '2023'"
   ]
  },
  {
   "cell_type": "code",
   "execution_count": 224,
   "id": "6fc46176-1caa-4874-a7b7-db88faa4a3e1",
   "metadata": {},
   "outputs": [
    {
     "ename": "OSError",
     "evalue": "[Errno 22] Invalid argument",
     "output_type": "error",
     "traceback": [
      "\u001b[1;31m---------------------------------------------------------------------------\u001b[0m",
      "\u001b[1;31mOSError\u001b[0m                                   Traceback (most recent call last)",
      "Cell \u001b[1;32mIn[224], line 2\u001b[0m\n\u001b[0;32m      1\u001b[0m start_time \u001b[38;5;241m=\u001b[39m time\u001b[38;5;241m.\u001b[39mtime()\n\u001b[1;32m----> 2\u001b[0m df_BikeRent \u001b[38;5;241m=\u001b[39m \u001b[43mpd\u001b[49m\u001b[38;5;241;43m.\u001b[39;49m\u001b[43mread_parquet\u001b[49m\u001b[43m(\u001b[49m\u001b[38;5;124;43m'\u001b[39;49m\u001b[38;5;124;43mG:\u001b[39;49m\u001b[38;5;130;43;01m\\\\\u001b[39;49;00m\u001b[38;5;124;43m내 드라이브\u001b[39;49m\u001b[38;5;130;43;01m\\\\\u001b[39;49;00m\u001b[38;5;124;43mDataSet\u001b[39;49m\u001b[38;5;130;43;01m\\\\\u001b[39;49;00m\u001b[38;5;124;43m_파킷 파일\u001b[39;49m\u001b[38;5;130;43;01m\\\\\u001b[39;49;00m\u001b[38;5;124;43m서울특별시 공공자전거 대여이력 정보\u001b[39;49m\u001b[38;5;130;43;01m\\\\\u001b[39;49;00m\u001b[38;5;124;43m서울특별시 공공자전거 대여이력 정보_\u001b[39;49m\u001b[38;5;124;43m'\u001b[39;49m\u001b[43m \u001b[49m\u001b[38;5;241;43m+\u001b[39;49m\u001b[43m \u001b[49m\u001b[43m_year\u001b[49m\u001b[43m \u001b[49m\u001b[38;5;241;43m+\u001b[39;49m\u001b[43m \u001b[49m\u001b[38;5;124;43m'\u001b[39;49m\u001b[38;5;124;43m_preprocessed.parquet\u001b[39;49m\u001b[38;5;124;43m'\u001b[39;49m\u001b[43m)\u001b[49m\n\u001b[0;32m      3\u001b[0m \u001b[38;5;28mprint\u001b[39m(\u001b[38;5;124m\"\u001b[39m\u001b[38;5;124mread_csv time :\u001b[39m\u001b[38;5;124m\"\u001b[39m, time\u001b[38;5;241m.\u001b[39mtime() \u001b[38;5;241m-\u001b[39m start_time)\n",
      "File \u001b[1;32m~\\anaconda3\\Lib\\site-packages\\pandas\\io\\parquet.py:667\u001b[0m, in \u001b[0;36mread_parquet\u001b[1;34m(path, engine, columns, storage_options, use_nullable_dtypes, dtype_backend, filesystem, filters, **kwargs)\u001b[0m\n\u001b[0;32m    664\u001b[0m     use_nullable_dtypes \u001b[38;5;241m=\u001b[39m \u001b[38;5;28;01mFalse\u001b[39;00m\n\u001b[0;32m    665\u001b[0m check_dtype_backend(dtype_backend)\n\u001b[1;32m--> 667\u001b[0m \u001b[38;5;28;01mreturn\u001b[39;00m \u001b[43mimpl\u001b[49m\u001b[38;5;241;43m.\u001b[39;49m\u001b[43mread\u001b[49m\u001b[43m(\u001b[49m\n\u001b[0;32m    668\u001b[0m \u001b[43m    \u001b[49m\u001b[43mpath\u001b[49m\u001b[43m,\u001b[49m\n\u001b[0;32m    669\u001b[0m \u001b[43m    \u001b[49m\u001b[43mcolumns\u001b[49m\u001b[38;5;241;43m=\u001b[39;49m\u001b[43mcolumns\u001b[49m\u001b[43m,\u001b[49m\n\u001b[0;32m    670\u001b[0m \u001b[43m    \u001b[49m\u001b[43mfilters\u001b[49m\u001b[38;5;241;43m=\u001b[39;49m\u001b[43mfilters\u001b[49m\u001b[43m,\u001b[49m\n\u001b[0;32m    671\u001b[0m \u001b[43m    \u001b[49m\u001b[43mstorage_options\u001b[49m\u001b[38;5;241;43m=\u001b[39;49m\u001b[43mstorage_options\u001b[49m\u001b[43m,\u001b[49m\n\u001b[0;32m    672\u001b[0m \u001b[43m    \u001b[49m\u001b[43muse_nullable_dtypes\u001b[49m\u001b[38;5;241;43m=\u001b[39;49m\u001b[43muse_nullable_dtypes\u001b[49m\u001b[43m,\u001b[49m\n\u001b[0;32m    673\u001b[0m \u001b[43m    \u001b[49m\u001b[43mdtype_backend\u001b[49m\u001b[38;5;241;43m=\u001b[39;49m\u001b[43mdtype_backend\u001b[49m\u001b[43m,\u001b[49m\n\u001b[0;32m    674\u001b[0m \u001b[43m    \u001b[49m\u001b[43mfilesystem\u001b[49m\u001b[38;5;241;43m=\u001b[39;49m\u001b[43mfilesystem\u001b[49m\u001b[43m,\u001b[49m\n\u001b[0;32m    675\u001b[0m \u001b[43m    \u001b[49m\u001b[38;5;241;43m*\u001b[39;49m\u001b[38;5;241;43m*\u001b[39;49m\u001b[43mkwargs\u001b[49m\u001b[43m,\u001b[49m\n\u001b[0;32m    676\u001b[0m \u001b[43m\u001b[49m\u001b[43m)\u001b[49m\n",
      "File \u001b[1;32m~\\anaconda3\\Lib\\site-packages\\pandas\\io\\parquet.py:274\u001b[0m, in \u001b[0;36mPyArrowImpl.read\u001b[1;34m(self, path, columns, filters, use_nullable_dtypes, dtype_backend, storage_options, filesystem, **kwargs)\u001b[0m\n\u001b[0;32m    267\u001b[0m path_or_handle, handles, filesystem \u001b[38;5;241m=\u001b[39m _get_path_or_handle(\n\u001b[0;32m    268\u001b[0m     path,\n\u001b[0;32m    269\u001b[0m     filesystem,\n\u001b[0;32m    270\u001b[0m     storage_options\u001b[38;5;241m=\u001b[39mstorage_options,\n\u001b[0;32m    271\u001b[0m     mode\u001b[38;5;241m=\u001b[39m\u001b[38;5;124m\"\u001b[39m\u001b[38;5;124mrb\u001b[39m\u001b[38;5;124m\"\u001b[39m,\n\u001b[0;32m    272\u001b[0m )\n\u001b[0;32m    273\u001b[0m \u001b[38;5;28;01mtry\u001b[39;00m:\n\u001b[1;32m--> 274\u001b[0m     pa_table \u001b[38;5;241m=\u001b[39m \u001b[38;5;28;43mself\u001b[39;49m\u001b[38;5;241;43m.\u001b[39;49m\u001b[43mapi\u001b[49m\u001b[38;5;241;43m.\u001b[39;49m\u001b[43mparquet\u001b[49m\u001b[38;5;241;43m.\u001b[39;49m\u001b[43mread_table\u001b[49m\u001b[43m(\u001b[49m\n\u001b[0;32m    275\u001b[0m \u001b[43m        \u001b[49m\u001b[43mpath_or_handle\u001b[49m\u001b[43m,\u001b[49m\n\u001b[0;32m    276\u001b[0m \u001b[43m        \u001b[49m\u001b[43mcolumns\u001b[49m\u001b[38;5;241;43m=\u001b[39;49m\u001b[43mcolumns\u001b[49m\u001b[43m,\u001b[49m\n\u001b[0;32m    277\u001b[0m \u001b[43m        \u001b[49m\u001b[43mfilesystem\u001b[49m\u001b[38;5;241;43m=\u001b[39;49m\u001b[43mfilesystem\u001b[49m\u001b[43m,\u001b[49m\n\u001b[0;32m    278\u001b[0m \u001b[43m        \u001b[49m\u001b[43mfilters\u001b[49m\u001b[38;5;241;43m=\u001b[39;49m\u001b[43mfilters\u001b[49m\u001b[43m,\u001b[49m\n\u001b[0;32m    279\u001b[0m \u001b[43m        \u001b[49m\u001b[38;5;241;43m*\u001b[39;49m\u001b[38;5;241;43m*\u001b[39;49m\u001b[43mkwargs\u001b[49m\u001b[43m,\u001b[49m\n\u001b[0;32m    280\u001b[0m \u001b[43m    \u001b[49m\u001b[43m)\u001b[49m\n\u001b[0;32m    281\u001b[0m     result \u001b[38;5;241m=\u001b[39m pa_table\u001b[38;5;241m.\u001b[39mto_pandas(\u001b[38;5;241m*\u001b[39m\u001b[38;5;241m*\u001b[39mto_pandas_kwargs)\n\u001b[0;32m    283\u001b[0m     \u001b[38;5;28;01mif\u001b[39;00m manager \u001b[38;5;241m==\u001b[39m \u001b[38;5;124m\"\u001b[39m\u001b[38;5;124marray\u001b[39m\u001b[38;5;124m\"\u001b[39m:\n",
      "File \u001b[1;32m~\\anaconda3\\Lib\\site-packages\\pyarrow\\parquet\\core.py:3003\u001b[0m, in \u001b[0;36mread_table\u001b[1;34m(source, columns, use_threads, metadata, schema, use_pandas_metadata, read_dictionary, memory_map, buffer_size, partitioning, filesystem, filters, use_legacy_dataset, ignore_prefixes, pre_buffer, coerce_int96_timestamp_unit, decryption_properties, thrift_string_size_limit, thrift_container_size_limit)\u001b[0m\n\u001b[0;32m   2992\u001b[0m         \u001b[38;5;66;03m# TODO test that source is not a directory or a list\u001b[39;00m\n\u001b[0;32m   2993\u001b[0m         dataset \u001b[38;5;241m=\u001b[39m ParquetFile(\n\u001b[0;32m   2994\u001b[0m             source, metadata\u001b[38;5;241m=\u001b[39mmetadata, read_dictionary\u001b[38;5;241m=\u001b[39mread_dictionary,\n\u001b[0;32m   2995\u001b[0m             memory_map\u001b[38;5;241m=\u001b[39mmemory_map, buffer_size\u001b[38;5;241m=\u001b[39mbuffer_size,\n\u001b[1;32m   (...)\u001b[0m\n\u001b[0;32m   3000\u001b[0m             thrift_container_size_limit\u001b[38;5;241m=\u001b[39mthrift_container_size_limit,\n\u001b[0;32m   3001\u001b[0m         )\n\u001b[1;32m-> 3003\u001b[0m     \u001b[38;5;28;01mreturn\u001b[39;00m \u001b[43mdataset\u001b[49m\u001b[38;5;241;43m.\u001b[39;49m\u001b[43mread\u001b[49m\u001b[43m(\u001b[49m\u001b[43mcolumns\u001b[49m\u001b[38;5;241;43m=\u001b[39;49m\u001b[43mcolumns\u001b[49m\u001b[43m,\u001b[49m\u001b[43m \u001b[49m\u001b[43muse_threads\u001b[49m\u001b[38;5;241;43m=\u001b[39;49m\u001b[43muse_threads\u001b[49m\u001b[43m,\u001b[49m\n\u001b[0;32m   3004\u001b[0m \u001b[43m                        \u001b[49m\u001b[43muse_pandas_metadata\u001b[49m\u001b[38;5;241;43m=\u001b[39;49m\u001b[43muse_pandas_metadata\u001b[49m\u001b[43m)\u001b[49m\n\u001b[0;32m   3006\u001b[0m warnings\u001b[38;5;241m.\u001b[39mwarn(\n\u001b[0;32m   3007\u001b[0m     \u001b[38;5;124m\"\u001b[39m\u001b[38;5;124mPassing \u001b[39m\u001b[38;5;124m'\u001b[39m\u001b[38;5;124muse_legacy_dataset=True\u001b[39m\u001b[38;5;124m'\u001b[39m\u001b[38;5;124m to get the legacy behaviour is \u001b[39m\u001b[38;5;124m\"\u001b[39m\n\u001b[0;32m   3008\u001b[0m     \u001b[38;5;124m\"\u001b[39m\u001b[38;5;124mdeprecated as of pyarrow 8.0.0, and the legacy implementation will \u001b[39m\u001b[38;5;124m\"\u001b[39m\n\u001b[0;32m   3009\u001b[0m     \u001b[38;5;124m\"\u001b[39m\u001b[38;5;124mbe removed in a future version.\u001b[39m\u001b[38;5;124m\"\u001b[39m,\n\u001b[0;32m   3010\u001b[0m     \u001b[38;5;167;01mFutureWarning\u001b[39;00m, stacklevel\u001b[38;5;241m=\u001b[39m\u001b[38;5;241m2\u001b[39m)\n\u001b[0;32m   3012\u001b[0m \u001b[38;5;28;01mif\u001b[39;00m ignore_prefixes \u001b[38;5;129;01mis\u001b[39;00m \u001b[38;5;129;01mnot\u001b[39;00m \u001b[38;5;28;01mNone\u001b[39;00m:\n",
      "File \u001b[1;32m~\\anaconda3\\Lib\\site-packages\\pyarrow\\parquet\\core.py:2631\u001b[0m, in \u001b[0;36m_ParquetDatasetV2.read\u001b[1;34m(self, columns, use_threads, use_pandas_metadata)\u001b[0m\n\u001b[0;32m   2623\u001b[0m         index_columns \u001b[38;5;241m=\u001b[39m [\n\u001b[0;32m   2624\u001b[0m             col \u001b[38;5;28;01mfor\u001b[39;00m col \u001b[38;5;129;01min\u001b[39;00m _get_pandas_index_columns(metadata)\n\u001b[0;32m   2625\u001b[0m             \u001b[38;5;28;01mif\u001b[39;00m \u001b[38;5;129;01mnot\u001b[39;00m \u001b[38;5;28misinstance\u001b[39m(col, \u001b[38;5;28mdict\u001b[39m)\n\u001b[0;32m   2626\u001b[0m         ]\n\u001b[0;32m   2627\u001b[0m         columns \u001b[38;5;241m=\u001b[39m (\n\u001b[0;32m   2628\u001b[0m             \u001b[38;5;28mlist\u001b[39m(columns) \u001b[38;5;241m+\u001b[39m \u001b[38;5;28mlist\u001b[39m(\u001b[38;5;28mset\u001b[39m(index_columns) \u001b[38;5;241m-\u001b[39m \u001b[38;5;28mset\u001b[39m(columns))\n\u001b[0;32m   2629\u001b[0m         )\n\u001b[1;32m-> 2631\u001b[0m table \u001b[38;5;241m=\u001b[39m \u001b[38;5;28;43mself\u001b[39;49m\u001b[38;5;241;43m.\u001b[39;49m\u001b[43m_dataset\u001b[49m\u001b[38;5;241;43m.\u001b[39;49m\u001b[43mto_table\u001b[49m\u001b[43m(\u001b[49m\n\u001b[0;32m   2632\u001b[0m \u001b[43m    \u001b[49m\u001b[43mcolumns\u001b[49m\u001b[38;5;241;43m=\u001b[39;49m\u001b[43mcolumns\u001b[49m\u001b[43m,\u001b[49m\u001b[43m \u001b[49m\u001b[38;5;28;43mfilter\u001b[39;49m\u001b[38;5;241;43m=\u001b[39;49m\u001b[38;5;28;43mself\u001b[39;49m\u001b[38;5;241;43m.\u001b[39;49m\u001b[43m_filter_expression\u001b[49m\u001b[43m,\u001b[49m\n\u001b[0;32m   2633\u001b[0m \u001b[43m    \u001b[49m\u001b[43muse_threads\u001b[49m\u001b[38;5;241;43m=\u001b[39;49m\u001b[43muse_threads\u001b[49m\n\u001b[0;32m   2634\u001b[0m \u001b[43m\u001b[49m\u001b[43m)\u001b[49m\n\u001b[0;32m   2636\u001b[0m \u001b[38;5;66;03m# if use_pandas_metadata, restore the pandas metadata (which gets\u001b[39;00m\n\u001b[0;32m   2637\u001b[0m \u001b[38;5;66;03m# lost if doing a specific `columns` selection in to_table)\u001b[39;00m\n\u001b[0;32m   2638\u001b[0m \u001b[38;5;28;01mif\u001b[39;00m use_pandas_metadata:\n",
      "File \u001b[1;32m~\\anaconda3\\Lib\\site-packages\\pyarrow\\_dataset.pyx:556\u001b[0m, in \u001b[0;36mpyarrow._dataset.Dataset.to_table\u001b[1;34m()\u001b[0m\n",
      "File \u001b[1;32m~\\anaconda3\\Lib\\site-packages\\pyarrow\\_dataset.pyx:3713\u001b[0m, in \u001b[0;36mpyarrow._dataset.Scanner.to_table\u001b[1;34m()\u001b[0m\n",
      "File \u001b[1;32m~\\anaconda3\\Lib\\site-packages\\pyarrow\\error.pxi:154\u001b[0m, in \u001b[0;36mpyarrow.lib.pyarrow_internal_check_status\u001b[1;34m()\u001b[0m\n",
      "File \u001b[1;32m~\\anaconda3\\Lib\\site-packages\\pyarrow\\types.pxi:88\u001b[0m, in \u001b[0;36mpyarrow.lib._datatype_to_pep3118\u001b[1;34m()\u001b[0m\n",
      "\u001b[1;31mOSError\u001b[0m: [Errno 22] Invalid argument"
     ]
    }
   ],
   "source": [
    "start_time = time.time()\n",
    "df_BikeRent = pd.read_parquet('G:\\\\내 드라이브\\\\DataSet\\\\_파킷 파일\\\\서울특별시 공공자전거 대여이력 정보\\\\서울특별시 공공자전거 대여이력 정보_' + _year + '_preprocessed.parquet')\n",
    "print(\"read_csv time :\", time.time() - start_time)"
   ]
  },
  {
   "cell_type": "code",
   "execution_count": 4,
   "id": "c1e95f2e-d37c-458f-9f68-58295d95b4cb",
   "metadata": {},
   "outputs": [
    {
     "data": {
      "text/html": [
       "<div>\n",
       "<style scoped>\n",
       "    .dataframe tbody tr th:only-of-type {\n",
       "        vertical-align: middle;\n",
       "    }\n",
       "\n",
       "    .dataframe tbody tr th {\n",
       "        vertical-align: top;\n",
       "    }\n",
       "\n",
       "    .dataframe thead th {\n",
       "        text-align: right;\n",
       "    }\n",
       "</style>\n",
       "<table border=\"1\" class=\"dataframe\">\n",
       "  <thead>\n",
       "    <tr style=\"text-align: right;\">\n",
       "      <th></th>\n",
       "      <th>자전거번호</th>\n",
       "      <th>대여대여소번호</th>\n",
       "      <th>대여대여소명</th>\n",
       "      <th>대여거치대</th>\n",
       "      <th>반납대여소번호</th>\n",
       "      <th>반납대여소명</th>\n",
       "      <th>반납거치대</th>\n",
       "      <th>이용시간(분)</th>\n",
       "      <th>이용거리(M)</th>\n",
       "      <th>대여일자</th>\n",
       "      <th>대여시간</th>\n",
       "      <th>반납일자</th>\n",
       "      <th>반납시간</th>\n",
       "      <th>대여시간차</th>\n",
       "      <th>이용시간-대여시간차</th>\n",
       "      <th>이용속도(km/h)</th>\n",
       "    </tr>\n",
       "  </thead>\n",
       "  <tbody>\n",
       "    <tr>\n",
       "      <th>0</th>\n",
       "      <td>SPB-46712</td>\n",
       "      <td>04804</td>\n",
       "      <td>동서울농협 앞</td>\n",
       "      <td>0</td>\n",
       "      <td>01416</td>\n",
       "      <td>상봉역 3번출구</td>\n",
       "      <td>0</td>\n",
       "      <td>1</td>\n",
       "      <td>0.00</td>\n",
       "      <td>2024-01-01</td>\n",
       "      <td>00:04:10</td>\n",
       "      <td>2024-01-01</td>\n",
       "      <td>00:05:13</td>\n",
       "      <td>0 days 00:01:03</td>\n",
       "      <td>-0.050000</td>\n",
       "      <td>0.0000</td>\n",
       "    </tr>\n",
       "    <tr>\n",
       "      <th>1</th>\n",
       "      <td>SPB-35089</td>\n",
       "      <td>04169</td>\n",
       "      <td>신대방삼거리</td>\n",
       "      <td>0</td>\n",
       "      <td>00251</td>\n",
       "      <td>서울지방병무청 버스정류장</td>\n",
       "      <td>0</td>\n",
       "      <td>6</td>\n",
       "      <td>1147.58</td>\n",
       "      <td>2024-01-01</td>\n",
       "      <td>00:00:10</td>\n",
       "      <td>2024-01-01</td>\n",
       "      <td>00:06:23</td>\n",
       "      <td>0 days 00:06:13</td>\n",
       "      <td>-0.216667</td>\n",
       "      <td>11.4758</td>\n",
       "    </tr>\n",
       "    <tr>\n",
       "      <th>2</th>\n",
       "      <td>SPB-36386</td>\n",
       "      <td>00540</td>\n",
       "      <td>군자역 7번출구 베스트샵 앞</td>\n",
       "      <td>0</td>\n",
       "      <td>03509</td>\n",
       "      <td>세종사이버대학교</td>\n",
       "      <td>0</td>\n",
       "      <td>3</td>\n",
       "      <td>642.13</td>\n",
       "      <td>2024-01-01</td>\n",
       "      <td>00:03:13</td>\n",
       "      <td>2024-01-01</td>\n",
       "      <td>00:06:33</td>\n",
       "      <td>0 days 00:03:20</td>\n",
       "      <td>-0.333333</td>\n",
       "      <td>12.8426</td>\n",
       "    </tr>\n",
       "  </tbody>\n",
       "</table>\n",
       "</div>"
      ],
      "text/plain": [
       "       자전거번호 대여대여소번호           대여대여소명  대여거치대 반납대여소번호         반납대여소명 반납거치대  \\\n",
       "0  SPB-46712   04804          동서울농협 앞      0   01416       상봉역 3번출구     0   \n",
       "1  SPB-35089   04169           신대방삼거리      0   00251  서울지방병무청 버스정류장     0   \n",
       "2  SPB-36386   00540  군자역 7번출구 베스트샵 앞      0   03509       세종사이버대학교     0   \n",
       "\n",
       "   이용시간(분)  이용거리(M)        대여일자      대여시간        반납일자      반납시간  \\\n",
       "0        1     0.00  2024-01-01  00:04:10  2024-01-01  00:05:13   \n",
       "1        6  1147.58  2024-01-01  00:00:10  2024-01-01  00:06:23   \n",
       "2        3   642.13  2024-01-01  00:03:13  2024-01-01  00:06:33   \n",
       "\n",
       "            대여시간차  이용시간-대여시간차  이용속도(km/h)  \n",
       "0 0 days 00:01:03   -0.050000      0.0000  \n",
       "1 0 days 00:06:13   -0.216667     11.4758  \n",
       "2 0 days 00:03:20   -0.333333     12.8426  "
      ]
     },
     "execution_count": 4,
     "metadata": {},
     "output_type": "execute_result"
    }
   ],
   "source": [
    "df_BikeRent.head(3)"
   ]
  },
  {
   "cell_type": "code",
   "execution_count": 5,
   "id": "c39811e8-6925-4b5e-859e-8a3985ade246",
   "metadata": {},
   "outputs": [
    {
     "data": {
      "text/plain": [
       "21621807"
      ]
     },
     "execution_count": 5,
     "metadata": {},
     "output_type": "execute_result"
    }
   ],
   "source": [
    "df_BikeRent.shape[0]"
   ]
  },
  {
   "cell_type": "code",
   "execution_count": 6,
   "id": "019e3266-45f7-4a18-a2b9-a09448021ae6",
   "metadata": {},
   "outputs": [
    {
     "name": "stdout",
     "output_type": "stream",
     "text": [
      "read_csv time : 0.4247398376464844\n"
     ]
    }
   ],
   "source": [
    "start_time = time.time()\n",
    "df_BikeBroken = pd.read_parquet('G:\\\\내 드라이브\\\\DataSet\\\\_최종 병합 파일\\\\서울시 공공자전거 고장신고 내역_15-24.06.parquet')\n",
    "print(\"read_csv time :\", time.time() - start_time)"
   ]
  },
  {
   "cell_type": "code",
   "execution_count": 7,
   "id": "cd87d24a-76aa-4c01-929c-7dc73ae01c4d",
   "metadata": {},
   "outputs": [
    {
     "data": {
      "text/html": [
       "<div>\n",
       "<style scoped>\n",
       "    .dataframe tbody tr th:only-of-type {\n",
       "        vertical-align: middle;\n",
       "    }\n",
       "\n",
       "    .dataframe tbody tr th {\n",
       "        vertical-align: top;\n",
       "    }\n",
       "\n",
       "    .dataframe thead th {\n",
       "        text-align: right;\n",
       "    }\n",
       "</style>\n",
       "<table border=\"1\" class=\"dataframe\">\n",
       "  <thead>\n",
       "    <tr style=\"text-align: right;\">\n",
       "      <th></th>\n",
       "      <th>자전거번호</th>\n",
       "      <th>고장구분</th>\n",
       "      <th>등록일자</th>\n",
       "      <th>등록시간</th>\n",
       "    </tr>\n",
       "  </thead>\n",
       "  <tbody>\n",
       "    <tr>\n",
       "      <th>0</th>\n",
       "      <td>SPB-00108</td>\n",
       "      <td>체인</td>\n",
       "      <td>2015-12-04</td>\n",
       "      <td>07:41:01</td>\n",
       "    </tr>\n",
       "    <tr>\n",
       "      <th>1</th>\n",
       "      <td>SPB-00210</td>\n",
       "      <td>체인</td>\n",
       "      <td>2015-12-07</td>\n",
       "      <td>12:23:33</td>\n",
       "    </tr>\n",
       "    <tr>\n",
       "      <th>2</th>\n",
       "      <td>SPB-00035</td>\n",
       "      <td>기타</td>\n",
       "      <td>2015-12-09</td>\n",
       "      <td>17:07:00</td>\n",
       "    </tr>\n",
       "  </tbody>\n",
       "</table>\n",
       "</div>"
      ],
      "text/plain": [
       "       자전거번호 고장구분        등록일자      등록시간\n",
       "0  SPB-00108   체인  2015-12-04  07:41:01\n",
       "1  SPB-00210   체인  2015-12-07  12:23:33\n",
       "2  SPB-00035  기타   2015-12-09  17:07:00"
      ]
     },
     "execution_count": 7,
     "metadata": {},
     "output_type": "execute_result"
    }
   ],
   "source": [
    "df_BikeBroken.head(3)"
   ]
  },
  {
   "cell_type": "code",
   "execution_count": 8,
   "id": "40ba7283-f103-4e2c-a8d4-db4e37086d8a",
   "metadata": {},
   "outputs": [
    {
     "data": {
      "text/plain": [
       "767715"
      ]
     },
     "execution_count": 8,
     "metadata": {},
     "output_type": "execute_result"
    }
   ],
   "source": [
    "df_BikeBroken.shape[0]"
   ]
  },
  {
   "cell_type": "markdown",
   "id": "7a10fe17-cce5-44ca-a73c-5d3dd8452dc0",
   "metadata": {},
   "source": [
    "---\n",
    "### df_BikeRent 의 데이터를 조건에 재조회\n",
    "- 대여시간차가 5분 미만인 데이터\n",
    "- 대여 대여소 번호와 반납 대여소 번호가 동일한 데이터"
   ]
  },
  {
   "cell_type": "code",
   "execution_count": 10,
   "id": "02b06b6c-d7eb-4ba1-9499-fb7675766bd7",
   "metadata": {},
   "outputs": [],
   "source": [
    "# 1. 조건에 따라 필터링: 대여시간차가 5분 미만, 대여 대여소 번호와 반납 대여소 번호가 동일한 데이터만 선택\n",
    "cond1 = df_BikeRent['대여시간차'] < pd.Timedelta(minutes=5)\n",
    "cond2 = df_BikeRent['대여대여소번호'] == df_BikeRent['반납대여소번호']\n",
    "df_BikeRent_2 = df_BikeRent[cond1 & cond2].copy()\n",
    "\n",
    "# 대여일자를 날짜 형식으로 변환 (필요한 경우)\n",
    "df_BikeRent_2['대여일자'] = pd.to_datetime(df_BikeRent_2['대여일자'])"
   ]
  },
  {
   "cell_type": "code",
   "execution_count": 11,
   "id": "0e04b146-6449-427c-9c82-5d63f4a20c56",
   "metadata": {},
   "outputs": [
    {
     "data": {
      "text/plain": [
       "714084"
      ]
     },
     "execution_count": 11,
     "metadata": {},
     "output_type": "execute_result"
    }
   ],
   "source": [
    "df_BikeRent_2.shape[0]"
   ]
  },
  {
   "cell_type": "code",
   "execution_count": 12,
   "id": "5b00b073-6b99-402a-802b-0962936a6690",
   "metadata": {},
   "outputs": [
    {
     "data": {
      "text/html": [
       "<div>\n",
       "<style scoped>\n",
       "    .dataframe tbody tr th:only-of-type {\n",
       "        vertical-align: middle;\n",
       "    }\n",
       "\n",
       "    .dataframe tbody tr th {\n",
       "        vertical-align: top;\n",
       "    }\n",
       "\n",
       "    .dataframe thead th {\n",
       "        text-align: right;\n",
       "    }\n",
       "</style>\n",
       "<table border=\"1\" class=\"dataframe\">\n",
       "  <thead>\n",
       "    <tr style=\"text-align: right;\">\n",
       "      <th></th>\n",
       "      <th>자전거번호</th>\n",
       "      <th>대여대여소번호</th>\n",
       "      <th>대여대여소명</th>\n",
       "      <th>대여거치대</th>\n",
       "      <th>반납대여소번호</th>\n",
       "      <th>반납대여소명</th>\n",
       "      <th>반납거치대</th>\n",
       "      <th>이용시간(분)</th>\n",
       "      <th>이용거리(M)</th>\n",
       "      <th>대여일자</th>\n",
       "      <th>대여시간</th>\n",
       "      <th>반납일자</th>\n",
       "      <th>반납시간</th>\n",
       "      <th>대여시간차</th>\n",
       "      <th>이용시간-대여시간차</th>\n",
       "      <th>이용속도(km/h)</th>\n",
       "    </tr>\n",
       "  </thead>\n",
       "  <tbody>\n",
       "    <tr>\n",
       "      <th>5</th>\n",
       "      <td>SPB-67162</td>\n",
       "      <td>00226</td>\n",
       "      <td>샛강역 1번출구 앞</td>\n",
       "      <td>0</td>\n",
       "      <td>00226</td>\n",
       "      <td>샛강역 1번출구 앞</td>\n",
       "      <td>0</td>\n",
       "      <td>1</td>\n",
       "      <td>20.0</td>\n",
       "      <td>2024-01-01</td>\n",
       "      <td>00:06:16</td>\n",
       "      <td>2024-01-01</td>\n",
       "      <td>00:07:35</td>\n",
       "      <td>0 days 00:01:19</td>\n",
       "      <td>-0.316667</td>\n",
       "      <td>1.2</td>\n",
       "    </tr>\n",
       "    <tr>\n",
       "      <th>9</th>\n",
       "      <td>SPB-63233</td>\n",
       "      <td>01601</td>\n",
       "      <td>석계역 문화광장 내 자전거 보관소</td>\n",
       "      <td>0</td>\n",
       "      <td>01601</td>\n",
       "      <td>석계역 문화광장 내 자전거 보관소</td>\n",
       "      <td>0</td>\n",
       "      <td>0</td>\n",
       "      <td>0.0</td>\n",
       "      <td>2024-01-01</td>\n",
       "      <td>00:07:59</td>\n",
       "      <td>2024-01-01</td>\n",
       "      <td>00:08:16</td>\n",
       "      <td>0 days 00:00:17</td>\n",
       "      <td>-0.283333</td>\n",
       "      <td>NaN</td>\n",
       "    </tr>\n",
       "    <tr>\n",
       "      <th>10</th>\n",
       "      <td>SPB-51653</td>\n",
       "      <td>05768</td>\n",
       "      <td>방이삼거리</td>\n",
       "      <td>0</td>\n",
       "      <td>05768</td>\n",
       "      <td>방이삼거리</td>\n",
       "      <td>0</td>\n",
       "      <td>0</td>\n",
       "      <td>0.0</td>\n",
       "      <td>2024-01-01</td>\n",
       "      <td>00:07:49</td>\n",
       "      <td>2024-01-01</td>\n",
       "      <td>00:08:25</td>\n",
       "      <td>0 days 00:00:36</td>\n",
       "      <td>-0.600000</td>\n",
       "      <td>NaN</td>\n",
       "    </tr>\n",
       "  </tbody>\n",
       "</table>\n",
       "</div>"
      ],
      "text/plain": [
       "        자전거번호 대여대여소번호              대여대여소명  대여거치대 반납대여소번호              반납대여소명  \\\n",
       "5   SPB-67162   00226          샛강역 1번출구 앞      0   00226          샛강역 1번출구 앞   \n",
       "9   SPB-63233   01601  석계역 문화광장 내 자전거 보관소      0   01601  석계역 문화광장 내 자전거 보관소   \n",
       "10  SPB-51653   05768               방이삼거리      0   05768               방이삼거리   \n",
       "\n",
       "   반납거치대  이용시간(분)  이용거리(M)       대여일자      대여시간        반납일자      반납시간  \\\n",
       "5      0        1     20.0 2024-01-01  00:06:16  2024-01-01  00:07:35   \n",
       "9      0        0      0.0 2024-01-01  00:07:59  2024-01-01  00:08:16   \n",
       "10     0        0      0.0 2024-01-01  00:07:49  2024-01-01  00:08:25   \n",
       "\n",
       "             대여시간차  이용시간-대여시간차  이용속도(km/h)  \n",
       "5  0 days 00:01:19   -0.316667         1.2  \n",
       "9  0 days 00:00:17   -0.283333         NaN  \n",
       "10 0 days 00:00:36   -0.600000         NaN  "
      ]
     },
     "execution_count": 12,
     "metadata": {},
     "output_type": "execute_result"
    }
   ],
   "source": [
    "df_BikeRent_2.head(3)"
   ]
  },
  {
   "cell_type": "markdown",
   "id": "4bf91232-c0ec-4a1d-bc16-30a4c3bfa500",
   "metadata": {},
   "source": [
    "---\n",
    "### '자전거번호' 기준으로 각 데이터 사이별로 '대여일자'간의 차이를 계산하여 '대여사이기간' 컬럼 생성"
   ]
  },
  {
   "cell_type": "code",
   "execution_count": 14,
   "id": "8e9a9602-fb21-4bd6-9b42-9afeb09bef66",
   "metadata": {},
   "outputs": [],
   "source": [
    "start_time = time.time()\n",
    "\n",
    "# 2. 대여일자 간의 차이를 계산하여 대여사이기간 구하기\n",
    "all_intervals = []\n",
    "\n",
    "for bike_id, group in df_BikeRent_2.groupby('자전거번호'):\n",
    "    group = group.sort_values('대여일자').reset_index(drop=True) # 대여일자 기준으로 재정렬, 인덱스는 처음부터 재 설정\n",
    "    # 현재 행과 이전 행 간의 차이를 계산합니다. 이 경우, '대여일자' 열에 대해 연속된 날짜 간의 차이를 계산합니다.\n",
    "    group['대여사이기간'] = group['대여일자'].diff()\n",
    "    \n",
    "    # 대여사이기간 데이터만 저장\n",
    "    for i in range(1, len(group)):\n",
    "        start_date = group['대여일자'].iloc[i - 1]\n",
    "        end_date = group['대여일자'].iloc[i]\n",
    "        interval = group['대여사이기간'].iloc[i]\n",
    "        \n",
    "        all_intervals.append({\n",
    "            '자전거번호': bike_id,\n",
    "            '기간 시작일': start_date,\n",
    "            '기간 종료일': end_date,\n",
    "            '대여사이기간': interval\n",
    "        })\n",
    "\n",
    "# DataFrame으로 변환\n",
    "df_BikeRent_3 = pd.DataFrame(all_intervals)\n",
    "\n",
    "print(\"check time :\", time.time() - start_time)"
   ]
  },
  {
   "cell_type": "code",
   "execution_count": 15,
   "id": "92bdee94-3a67-45a7-99f5-92b2242388d4",
   "metadata": {},
   "outputs": [
    {
     "data": {
      "text/plain": [
       "672453"
      ]
     },
     "execution_count": 15,
     "metadata": {},
     "output_type": "execute_result"
    }
   ],
   "source": [
    "df_BikeRent_3.shape[0]"
   ]
  },
  {
   "cell_type": "code",
   "execution_count": 16,
   "id": "b059f0d6-3dd8-408b-bb41-c657e0b0557e",
   "metadata": {},
   "outputs": [
    {
     "data": {
      "text/html": [
       "<div>\n",
       "<style scoped>\n",
       "    .dataframe tbody tr th:only-of-type {\n",
       "        vertical-align: middle;\n",
       "    }\n",
       "\n",
       "    .dataframe tbody tr th {\n",
       "        vertical-align: top;\n",
       "    }\n",
       "\n",
       "    .dataframe thead th {\n",
       "        text-align: right;\n",
       "    }\n",
       "</style>\n",
       "<table border=\"1\" class=\"dataframe\">\n",
       "  <thead>\n",
       "    <tr style=\"text-align: right;\">\n",
       "      <th></th>\n",
       "      <th>자전거번호</th>\n",
       "      <th>기간 시작일</th>\n",
       "      <th>기간 종료일</th>\n",
       "      <th>대여사이기간</th>\n",
       "    </tr>\n",
       "  </thead>\n",
       "  <tbody>\n",
       "    <tr>\n",
       "      <th>0</th>\n",
       "      <td>SPB-30001</td>\n",
       "      <td>2024-02-08</td>\n",
       "      <td>2024-03-06</td>\n",
       "      <td>27 days</td>\n",
       "    </tr>\n",
       "    <tr>\n",
       "      <th>1</th>\n",
       "      <td>SPB-30001</td>\n",
       "      <td>2024-03-06</td>\n",
       "      <td>2024-03-14</td>\n",
       "      <td>8 days</td>\n",
       "    </tr>\n",
       "    <tr>\n",
       "      <th>2</th>\n",
       "      <td>SPB-30001</td>\n",
       "      <td>2024-03-14</td>\n",
       "      <td>2024-05-02</td>\n",
       "      <td>49 days</td>\n",
       "    </tr>\n",
       "  </tbody>\n",
       "</table>\n",
       "</div>"
      ],
      "text/plain": [
       "       자전거번호     기간 시작일     기간 종료일  대여사이기간\n",
       "0  SPB-30001 2024-02-08 2024-03-06 27 days\n",
       "1  SPB-30001 2024-03-06 2024-03-14  8 days\n",
       "2  SPB-30001 2024-03-14 2024-05-02 49 days"
      ]
     },
     "execution_count": 16,
     "metadata": {},
     "output_type": "execute_result"
    }
   ],
   "source": [
    "df_BikeRent_3.head(3)"
   ]
  },
  {
   "cell_type": "markdown",
   "id": "b609d3de-af09-4ccd-816a-df6b3b21ccfd",
   "metadata": {},
   "source": [
    "### 중복제거"
   ]
  },
  {
   "cell_type": "code",
   "execution_count": 18,
   "id": "f36d3aff-a4d4-4186-a519-2cb7e530f59a",
   "metadata": {},
   "outputs": [],
   "source": [
    "df_BikeRent_3 = df_BikeRent_3.drop_duplicates()"
   ]
  },
  {
   "cell_type": "code",
   "execution_count": 19,
   "id": "3ae9b5b8-f3c6-43d5-8ca6-cd0f074dbfd1",
   "metadata": {},
   "outputs": [
    {
     "data": {
      "text/plain": [
       "594308"
      ]
     },
     "execution_count": 19,
     "metadata": {},
     "output_type": "execute_result"
    }
   ],
   "source": [
    "df_BikeRent_3.shape[0]"
   ]
  },
  {
   "cell_type": "code",
   "execution_count": 20,
   "id": "5fd7ebae-aeaf-481f-bd1f-6ef73e437580",
   "metadata": {},
   "outputs": [
    {
     "data": {
      "text/html": [
       "<div>\n",
       "<style scoped>\n",
       "    .dataframe tbody tr th:only-of-type {\n",
       "        vertical-align: middle;\n",
       "    }\n",
       "\n",
       "    .dataframe tbody tr th {\n",
       "        vertical-align: top;\n",
       "    }\n",
       "\n",
       "    .dataframe thead th {\n",
       "        text-align: right;\n",
       "    }\n",
       "</style>\n",
       "<table border=\"1\" class=\"dataframe\">\n",
       "  <thead>\n",
       "    <tr style=\"text-align: right;\">\n",
       "      <th></th>\n",
       "      <th>자전거번호</th>\n",
       "      <th>기간 시작일</th>\n",
       "      <th>기간 종료일</th>\n",
       "      <th>대여사이기간</th>\n",
       "    </tr>\n",
       "  </thead>\n",
       "  <tbody>\n",
       "    <tr>\n",
       "      <th>0</th>\n",
       "      <td>SPB-30001</td>\n",
       "      <td>2024-02-08</td>\n",
       "      <td>2024-03-06</td>\n",
       "      <td>27 days</td>\n",
       "    </tr>\n",
       "    <tr>\n",
       "      <th>1</th>\n",
       "      <td>SPB-30001</td>\n",
       "      <td>2024-03-06</td>\n",
       "      <td>2024-03-14</td>\n",
       "      <td>8 days</td>\n",
       "    </tr>\n",
       "    <tr>\n",
       "      <th>2</th>\n",
       "      <td>SPB-30001</td>\n",
       "      <td>2024-03-14</td>\n",
       "      <td>2024-05-02</td>\n",
       "      <td>49 days</td>\n",
       "    </tr>\n",
       "  </tbody>\n",
       "</table>\n",
       "</div>"
      ],
      "text/plain": [
       "       자전거번호     기간 시작일     기간 종료일  대여사이기간\n",
       "0  SPB-30001 2024-02-08 2024-03-06 27 days\n",
       "1  SPB-30001 2024-03-06 2024-03-14  8 days\n",
       "2  SPB-30001 2024-03-14 2024-05-02 49 days"
      ]
     },
     "execution_count": 20,
     "metadata": {},
     "output_type": "execute_result"
    }
   ],
   "source": [
    "df_BikeRent_3.head(3)"
   ]
  },
  {
   "cell_type": "markdown",
   "id": "85367080-4941-4ef4-9406-f797ac7d70a7",
   "metadata": {},
   "source": [
    "---\n",
    "### 자전거 대여이력과 고장신고 데이터를 비교"
   ]
  },
  {
   "cell_type": "code",
   "execution_count": 22,
   "id": "2fb7ecc3-6030-48ea-90d6-e5e1944d2687",
   "metadata": {},
   "outputs": [
    {
     "data": {
      "text/html": [
       "<div>\n",
       "<style scoped>\n",
       "    .dataframe tbody tr th:only-of-type {\n",
       "        vertical-align: middle;\n",
       "    }\n",
       "\n",
       "    .dataframe tbody tr th {\n",
       "        vertical-align: top;\n",
       "    }\n",
       "\n",
       "    .dataframe thead th {\n",
       "        text-align: right;\n",
       "    }\n",
       "</style>\n",
       "<table border=\"1\" class=\"dataframe\">\n",
       "  <thead>\n",
       "    <tr style=\"text-align: right;\">\n",
       "      <th></th>\n",
       "      <th>자전거번호</th>\n",
       "      <th>기간 시작일</th>\n",
       "      <th>기간 종료일</th>\n",
       "      <th>대여사이기간</th>\n",
       "    </tr>\n",
       "  </thead>\n",
       "  <tbody>\n",
       "    <tr>\n",
       "      <th>0</th>\n",
       "      <td>SPB-30001</td>\n",
       "      <td>2024-02-08</td>\n",
       "      <td>2024-03-06</td>\n",
       "      <td>27 days</td>\n",
       "    </tr>\n",
       "    <tr>\n",
       "      <th>1</th>\n",
       "      <td>SPB-30001</td>\n",
       "      <td>2024-03-06</td>\n",
       "      <td>2024-03-14</td>\n",
       "      <td>8 days</td>\n",
       "    </tr>\n",
       "  </tbody>\n",
       "</table>\n",
       "</div>"
      ],
      "text/plain": [
       "       자전거번호     기간 시작일     기간 종료일  대여사이기간\n",
       "0  SPB-30001 2024-02-08 2024-03-06 27 days\n",
       "1  SPB-30001 2024-03-06 2024-03-14  8 days"
      ]
     },
     "execution_count": 22,
     "metadata": {},
     "output_type": "execute_result"
    }
   ],
   "source": [
    "df_BikeRent_3.head(2)"
   ]
  },
  {
   "cell_type": "code",
   "execution_count": 23,
   "id": "fd9342bc-c87d-4d5d-8542-340c09c6a98a",
   "metadata": {},
   "outputs": [
    {
     "data": {
      "text/html": [
       "<div>\n",
       "<style scoped>\n",
       "    .dataframe tbody tr th:only-of-type {\n",
       "        vertical-align: middle;\n",
       "    }\n",
       "\n",
       "    .dataframe tbody tr th {\n",
       "        vertical-align: top;\n",
       "    }\n",
       "\n",
       "    .dataframe thead th {\n",
       "        text-align: right;\n",
       "    }\n",
       "</style>\n",
       "<table border=\"1\" class=\"dataframe\">\n",
       "  <thead>\n",
       "    <tr style=\"text-align: right;\">\n",
       "      <th></th>\n",
       "      <th>자전거번호</th>\n",
       "      <th>고장구분</th>\n",
       "      <th>등록일자</th>\n",
       "      <th>등록시간</th>\n",
       "    </tr>\n",
       "  </thead>\n",
       "  <tbody>\n",
       "    <tr>\n",
       "      <th>0</th>\n",
       "      <td>SPB-00108</td>\n",
       "      <td>체인</td>\n",
       "      <td>2015-12-04</td>\n",
       "      <td>07:41:01</td>\n",
       "    </tr>\n",
       "    <tr>\n",
       "      <th>1</th>\n",
       "      <td>SPB-00210</td>\n",
       "      <td>체인</td>\n",
       "      <td>2015-12-07</td>\n",
       "      <td>12:23:33</td>\n",
       "    </tr>\n",
       "  </tbody>\n",
       "</table>\n",
       "</div>"
      ],
      "text/plain": [
       "       자전거번호 고장구분        등록일자      등록시간\n",
       "0  SPB-00108   체인  2015-12-04  07:41:01\n",
       "1  SPB-00210   체인  2015-12-07  12:23:33"
      ]
     },
     "execution_count": 23,
     "metadata": {},
     "output_type": "execute_result"
    }
   ],
   "source": [
    "df_BikeBroken.head(2)"
   ]
  },
  {
   "cell_type": "code",
   "execution_count": 24,
   "id": "a03cd9e7-bdbe-4907-ae49-7a1e27d6afb2",
   "metadata": {},
   "outputs": [],
   "source": [
    "df_BikeBroken['등록일자'] = pd.to_datetime(df_BikeBroken['등록일자'])"
   ]
  },
  {
   "cell_type": "code",
   "execution_count": 25,
   "id": "7e5cdfde-4fb8-4ddd-88a1-14b085d8f2a5",
   "metadata": {},
   "outputs": [
    {
     "data": {
      "text/html": [
       "<div>\n",
       "<style scoped>\n",
       "    .dataframe tbody tr th:only-of-type {\n",
       "        vertical-align: middle;\n",
       "    }\n",
       "\n",
       "    .dataframe tbody tr th {\n",
       "        vertical-align: top;\n",
       "    }\n",
       "\n",
       "    .dataframe thead th {\n",
       "        text-align: right;\n",
       "    }\n",
       "</style>\n",
       "<table border=\"1\" class=\"dataframe\">\n",
       "  <thead>\n",
       "    <tr style=\"text-align: right;\">\n",
       "      <th></th>\n",
       "      <th>자전거번호</th>\n",
       "      <th>고장구분</th>\n",
       "      <th>등록일자</th>\n",
       "      <th>등록시간</th>\n",
       "    </tr>\n",
       "  </thead>\n",
       "  <tbody>\n",
       "    <tr>\n",
       "      <th>0</th>\n",
       "      <td>SPB-00108</td>\n",
       "      <td>체인</td>\n",
       "      <td>2015-12-04</td>\n",
       "      <td>07:41:01</td>\n",
       "    </tr>\n",
       "    <tr>\n",
       "      <th>1</th>\n",
       "      <td>SPB-00210</td>\n",
       "      <td>체인</td>\n",
       "      <td>2015-12-07</td>\n",
       "      <td>12:23:33</td>\n",
       "    </tr>\n",
       "    <tr>\n",
       "      <th>2</th>\n",
       "      <td>SPB-00035</td>\n",
       "      <td>기타</td>\n",
       "      <td>2015-12-09</td>\n",
       "      <td>17:07:00</td>\n",
       "    </tr>\n",
       "    <tr>\n",
       "      <th>3</th>\n",
       "      <td>SPB-01024</td>\n",
       "      <td>기타</td>\n",
       "      <td>2015-12-13</td>\n",
       "      <td>21:02:24</td>\n",
       "    </tr>\n",
       "    <tr>\n",
       "      <th>4</th>\n",
       "      <td>SPB-01015</td>\n",
       "      <td>기타</td>\n",
       "      <td>2015-12-28</td>\n",
       "      <td>10:12:04</td>\n",
       "    </tr>\n",
       "  </tbody>\n",
       "</table>\n",
       "</div>"
      ],
      "text/plain": [
       "       자전거번호 고장구분       등록일자      등록시간\n",
       "0  SPB-00108   체인 2015-12-04  07:41:01\n",
       "1  SPB-00210   체인 2015-12-07  12:23:33\n",
       "2  SPB-00035  기타  2015-12-09  17:07:00\n",
       "3  SPB-01024  기타  2015-12-13  21:02:24\n",
       "4  SPB-01015  기타  2015-12-28  10:12:04"
      ]
     },
     "execution_count": 25,
     "metadata": {},
     "output_type": "execute_result"
    }
   ],
   "source": [
    "df_BikeBroken.head()"
   ]
  },
  {
   "cell_type": "code",
   "execution_count": 26,
   "id": "3c2c4b27-41f9-4654-bed8-9fa541db37b3",
   "metadata": {},
   "outputs": [
    {
     "name": "stdout",
     "output_type": "stream",
     "text": [
      "자전거 대여이력 데이터 : 594308\n",
      "자전거 고장신고 데이터 : 767715\n"
     ]
    }
   ],
   "source": [
    "print(f'자전거 대여이력 데이터 : {df_BikeRent_3.shape[0]}')\n",
    "print(f'자전거 고장신고 데이터 : {df_BikeBroken.shape[0]}')"
   ]
  },
  {
   "cell_type": "code",
   "execution_count": 27,
   "id": "f1f97e50-9eb7-447a-842d-610389f9b83d",
   "metadata": {},
   "outputs": [
    {
     "data": {
      "text/html": [
       "<div>\n",
       "<style scoped>\n",
       "    .dataframe tbody tr th:only-of-type {\n",
       "        vertical-align: middle;\n",
       "    }\n",
       "\n",
       "    .dataframe tbody tr th {\n",
       "        vertical-align: top;\n",
       "    }\n",
       "\n",
       "    .dataframe thead th {\n",
       "        text-align: right;\n",
       "    }\n",
       "</style>\n",
       "<table border=\"1\" class=\"dataframe\">\n",
       "  <thead>\n",
       "    <tr style=\"text-align: right;\">\n",
       "      <th></th>\n",
       "      <th>자전거번호</th>\n",
       "      <th>기간 시작일</th>\n",
       "      <th>기간 종료일</th>\n",
       "      <th>대여사이기간</th>\n",
       "    </tr>\n",
       "  </thead>\n",
       "  <tbody>\n",
       "    <tr>\n",
       "      <th>0</th>\n",
       "      <td>SPB-30001</td>\n",
       "      <td>2024-02-08</td>\n",
       "      <td>2024-03-06</td>\n",
       "      <td>27 days</td>\n",
       "    </tr>\n",
       "    <tr>\n",
       "      <th>1</th>\n",
       "      <td>SPB-30001</td>\n",
       "      <td>2024-03-06</td>\n",
       "      <td>2024-03-14</td>\n",
       "      <td>8 days</td>\n",
       "    </tr>\n",
       "  </tbody>\n",
       "</table>\n",
       "</div>"
      ],
      "text/plain": [
       "       자전거번호     기간 시작일     기간 종료일  대여사이기간\n",
       "0  SPB-30001 2024-02-08 2024-03-06 27 days\n",
       "1  SPB-30001 2024-03-06 2024-03-14  8 days"
      ]
     },
     "execution_count": 27,
     "metadata": {},
     "output_type": "execute_result"
    }
   ],
   "source": [
    "df_BikeRent_3.head(2)"
   ]
  },
  {
   "cell_type": "code",
   "execution_count": 28,
   "id": "55fc7def-9ef2-46a4-8b87-91fc6825428c",
   "metadata": {},
   "outputs": [
    {
     "name": "stdout",
     "output_type": "stream",
     "text": [
      "2024-01-01 00:00:00\n",
      "2024-06-30 00:00:00\n"
     ]
    }
   ],
   "source": [
    "print(df_BikeRent_3['기간 시작일'].min())\n",
    "print(df_BikeRent_3['기간 시작일'].max())"
   ]
  },
  {
   "cell_type": "code",
   "execution_count": 29,
   "id": "eb5e837b-8638-4006-aa88-f0cad95159ae",
   "metadata": {},
   "outputs": [
    {
     "name": "stdout",
     "output_type": "stream",
     "text": [
      "2015-12-04 00:00:00\n",
      "2024-06-30 00:00:00\n"
     ]
    }
   ],
   "source": [
    "print(df_BikeBroken['등록일자'].min())\n",
    "print(df_BikeBroken['등록일자'].max())"
   ]
  },
  {
   "cell_type": "markdown",
   "id": "07f4ccb8-b925-4941-9db9-755fb5d9f9ef",
   "metadata": {},
   "source": [
    "---\n",
    "### 2023년 고장신고 데이터만 조회"
   ]
  },
  {
   "cell_type": "code",
   "execution_count": 31,
   "id": "d8713a61-264c-45d2-9968-3839c4d41d37",
   "metadata": {},
   "outputs": [],
   "source": [
    "df_BikeBroken = df_BikeBroken[df_BikeBroken['등록일자'].between('2023-01-01', '2023-12-31')]"
   ]
  },
  {
   "cell_type": "code",
   "execution_count": 32,
   "id": "634c1a6d-b5f2-4a5c-9d18-4e6a3470019d",
   "metadata": {},
   "outputs": [
    {
     "data": {
      "text/plain": [
       "76463"
      ]
     },
     "execution_count": 32,
     "metadata": {},
     "output_type": "execute_result"
    }
   ],
   "source": [
    "df_BikeBroken.shape[0]"
   ]
  },
  {
   "cell_type": "code",
   "execution_count": 33,
   "id": "6daffcce-1b4c-494d-9cfa-eafd42655a3e",
   "metadata": {},
   "outputs": [
    {
     "data": {
      "text/html": [
       "<div>\n",
       "<style scoped>\n",
       "    .dataframe tbody tr th:only-of-type {\n",
       "        vertical-align: middle;\n",
       "    }\n",
       "\n",
       "    .dataframe tbody tr th {\n",
       "        vertical-align: top;\n",
       "    }\n",
       "\n",
       "    .dataframe thead th {\n",
       "        text-align: right;\n",
       "    }\n",
       "</style>\n",
       "<table border=\"1\" class=\"dataframe\">\n",
       "  <thead>\n",
       "    <tr style=\"text-align: right;\">\n",
       "      <th></th>\n",
       "      <th>자전거번호</th>\n",
       "      <th>고장구분</th>\n",
       "      <th>등록일자</th>\n",
       "      <th>등록시간</th>\n",
       "    </tr>\n",
       "  </thead>\n",
       "  <tbody>\n",
       "    <tr>\n",
       "      <th>691252</th>\n",
       "      <td>SPB-40704</td>\n",
       "      <td>단말기</td>\n",
       "      <td>2024-01-01</td>\n",
       "      <td>03:57:03</td>\n",
       "    </tr>\n",
       "    <tr>\n",
       "      <th>691253</th>\n",
       "      <td>SPB-65171</td>\n",
       "      <td>기타</td>\n",
       "      <td>2024-01-01</td>\n",
       "      <td>04:15:59</td>\n",
       "    </tr>\n",
       "  </tbody>\n",
       "</table>\n",
       "</div>"
      ],
      "text/plain": [
       "            자전거번호 고장구분       등록일자      등록시간\n",
       "691252  SPB-40704  단말기 2024-01-01  03:57:03\n",
       "691253  SPB-65171  기타  2024-01-01  04:15:59"
      ]
     },
     "execution_count": 33,
     "metadata": {},
     "output_type": "execute_result"
    }
   ],
   "source": [
    "df_BikeBroken.head(2)"
   ]
  },
  {
   "cell_type": "code",
   "execution_count": 34,
   "id": "3e461739-7c3c-4b50-96ad-d3f4eb058d48",
   "metadata": {},
   "outputs": [
    {
     "name": "stdout",
     "output_type": "stream",
     "text": [
      "correlated_bikes time : 2712.6987285614014\n"
     ]
    }
   ],
   "source": [
    "correlated_bikes = []\n",
    "\n",
    "start_time = time.time()\n",
    "# \"자전거 대여이력\" 데이터만큼 반복\n",
    "for _, row in df_BikeRent_3.iterrows():\n",
    "    bike_id = row['자전거번호']\n",
    "    start_date = row['기간 시작일']\n",
    "    end_date = row['기간 종료일']\n",
    "\n",
    "    # \"자전거 대여이력\"의 등록일자 사이에, \"고장신고 내역\"이 있는 경우 체크\n",
    "    date_in_range = df_BikeBroken[\n",
    "        (df_BikeBroken['자전거번호'] == bike_id) &\n",
    "        (df_BikeBroken['등록일자'] >= start_date) &\n",
    "        (df_BikeBroken['등록일자'] <= end_date)\n",
    "    ]\n",
    "    \n",
    "    correlated_bikes.append({\n",
    "        '자전거번호': bike_id,\n",
    "        '최초_대여시작': start_date,\n",
    "        '마지막_대여시작': end_date,\n",
    "        '대여사이기간': row['대여사이기간'],\n",
    "        '최초_고장신고': date_in_range.iloc[0]['등록일자'] if len(date_in_range) else None,\n",
    "        '마지막_고장신고': date_in_range.iloc[-1]['등록일자'] if len(date_in_range) else None,\n",
    "        '전체_고장신고': date_in_range['등록일자'].tolist() if len(date_in_range) else None,\n",
    "        '횟수_고장신고': len(date_in_range) if len(date_in_range) else 0\n",
    "    })\n",
    "\n",
    "print(\"correlated_bikes time :\", time.time() - start_time)\n",
    "\n",
    "# 결과를 데이터프레임으로 변환\n",
    "final_result_df = pd.DataFrame(correlated_bikes)"
   ]
  },
  {
   "cell_type": "code",
   "execution_count": 35,
   "id": "34e09b95-403f-4d21-a162-a37f44b86424",
   "metadata": {},
   "outputs": [
    {
     "name": "stdout",
     "output_type": "stream",
     "text": [
      "<class 'pandas.core.frame.DataFrame'>\n",
      "RangeIndex: 594308 entries, 0 to 594307\n",
      "Data columns (total 8 columns):\n",
      " #   Column    Non-Null Count   Dtype          \n",
      "---  ------    --------------   -----          \n",
      " 0   자전거번호     594308 non-null  object         \n",
      " 1   최초_대여시작   594308 non-null  datetime64[ns] \n",
      " 2   마지막_대여시작  594308 non-null  datetime64[ns] \n",
      " 3   대여사이기간    594308 non-null  timedelta64[ns]\n",
      " 4   최초_고장신고   83425 non-null   datetime64[ns] \n",
      " 5   마지막_고장신고  83425 non-null   datetime64[ns] \n",
      " 6   전체_고장신고   83425 non-null   object         \n",
      " 7   횟수_고장신고   594308 non-null  int64          \n",
      "dtypes: datetime64[ns](4), int64(1), object(2), timedelta64[ns](1)\n",
      "memory usage: 36.3+ MB\n"
     ]
    }
   ],
   "source": [
    "final_result_df.info()"
   ]
  },
  {
   "cell_type": "code",
   "execution_count": 36,
   "id": "687a9e09-4f19-4610-93aa-d39b3346c10f",
   "metadata": {},
   "outputs": [
    {
     "data": {
      "text/html": [
       "<div>\n",
       "<style scoped>\n",
       "    .dataframe tbody tr th:only-of-type {\n",
       "        vertical-align: middle;\n",
       "    }\n",
       "\n",
       "    .dataframe tbody tr th {\n",
       "        vertical-align: top;\n",
       "    }\n",
       "\n",
       "    .dataframe thead th {\n",
       "        text-align: right;\n",
       "    }\n",
       "</style>\n",
       "<table border=\"1\" class=\"dataframe\">\n",
       "  <thead>\n",
       "    <tr style=\"text-align: right;\">\n",
       "      <th></th>\n",
       "      <th>자전거번호</th>\n",
       "      <th>최초_대여시작</th>\n",
       "      <th>마지막_대여시작</th>\n",
       "      <th>대여사이기간</th>\n",
       "      <th>최초_고장신고</th>\n",
       "      <th>마지막_고장신고</th>\n",
       "      <th>전체_고장신고</th>\n",
       "      <th>횟수_고장신고</th>\n",
       "    </tr>\n",
       "  </thead>\n",
       "  <tbody>\n",
       "    <tr>\n",
       "      <th>0</th>\n",
       "      <td>SPB-30001</td>\n",
       "      <td>2024-02-08</td>\n",
       "      <td>2024-03-06</td>\n",
       "      <td>27 days</td>\n",
       "      <td>NaT</td>\n",
       "      <td>NaT</td>\n",
       "      <td>None</td>\n",
       "      <td>0</td>\n",
       "    </tr>\n",
       "    <tr>\n",
       "      <th>1</th>\n",
       "      <td>SPB-30001</td>\n",
       "      <td>2024-03-06</td>\n",
       "      <td>2024-03-14</td>\n",
       "      <td>8 days</td>\n",
       "      <td>NaT</td>\n",
       "      <td>NaT</td>\n",
       "      <td>None</td>\n",
       "      <td>0</td>\n",
       "    </tr>\n",
       "    <tr>\n",
       "      <th>2</th>\n",
       "      <td>SPB-30001</td>\n",
       "      <td>2024-03-14</td>\n",
       "      <td>2024-05-02</td>\n",
       "      <td>49 days</td>\n",
       "      <td>NaT</td>\n",
       "      <td>NaT</td>\n",
       "      <td>None</td>\n",
       "      <td>0</td>\n",
       "    </tr>\n",
       "    <tr>\n",
       "      <th>3</th>\n",
       "      <td>SPB-30001</td>\n",
       "      <td>2024-05-02</td>\n",
       "      <td>2024-05-03</td>\n",
       "      <td>1 days</td>\n",
       "      <td>NaT</td>\n",
       "      <td>NaT</td>\n",
       "      <td>None</td>\n",
       "      <td>0</td>\n",
       "    </tr>\n",
       "    <tr>\n",
       "      <th>4</th>\n",
       "      <td>SPB-30001</td>\n",
       "      <td>2024-05-03</td>\n",
       "      <td>2024-05-19</td>\n",
       "      <td>16 days</td>\n",
       "      <td>NaT</td>\n",
       "      <td>NaT</td>\n",
       "      <td>None</td>\n",
       "      <td>0</td>\n",
       "    </tr>\n",
       "  </tbody>\n",
       "</table>\n",
       "</div>"
      ],
      "text/plain": [
       "       자전거번호    최초_대여시작   마지막_대여시작  대여사이기간 최초_고장신고 마지막_고장신고 전체_고장신고  횟수_고장신고\n",
       "0  SPB-30001 2024-02-08 2024-03-06 27 days     NaT      NaT    None        0\n",
       "1  SPB-30001 2024-03-06 2024-03-14  8 days     NaT      NaT    None        0\n",
       "2  SPB-30001 2024-03-14 2024-05-02 49 days     NaT      NaT    None        0\n",
       "3  SPB-30001 2024-05-02 2024-05-03  1 days     NaT      NaT    None        0\n",
       "4  SPB-30001 2024-05-03 2024-05-19 16 days     NaT      NaT    None        0"
      ]
     },
     "execution_count": 36,
     "metadata": {},
     "output_type": "execute_result"
    }
   ],
   "source": [
    "final_result_df.head()"
   ]
  },
  {
   "cell_type": "markdown",
   "id": "51f5254b-4276-441f-926b-aef4e72e0bb5",
   "metadata": {},
   "source": [
    "---\n",
    "### 추가 컬럼 생성"
   ]
  },
  {
   "cell_type": "code",
   "execution_count": 38,
   "id": "ead6e73b-cc28-40b7-a279-9ba249548445",
   "metadata": {},
   "outputs": [],
   "source": [
    "final_result_df_2 = final_result_df"
   ]
  },
  {
   "cell_type": "code",
   "execution_count": 39,
   "id": "3ce35ec3-db03-4451-979f-49c9d7c18665",
   "metadata": {},
   "outputs": [],
   "source": [
    "final_result_df_2['고장사이기간'] = final_result_df_2['마지막_고장신고'] - final_result_df_2['최초_고장신고']\n",
    "final_result_df_2['고장신고_대기'] = final_result_df_2['최초_고장신고'] - final_result_df_2['최초_대여시작']"
   ]
  },
  {
   "cell_type": "code",
   "execution_count": 40,
   "id": "d82fe685-e950-4cc8-8eff-e2822d3ed6cd",
   "metadata": {},
   "outputs": [],
   "source": [
    "# '고장여부' 컬럼 생성: '횟수고장신고'가 0이면 0, 0보다 크면 1\n",
    "final_result_df['고장여부'] = (final_result_df['횟수_고장신고'] > 0).astype(int)"
   ]
  },
  {
   "cell_type": "code",
   "execution_count": 41,
   "id": "c3139cf6-aedf-4535-95a3-8c3619aa2032",
   "metadata": {},
   "outputs": [
    {
     "data": {
      "text/plain": [
       "594308"
      ]
     },
     "execution_count": 41,
     "metadata": {},
     "output_type": "execute_result"
    }
   ],
   "source": [
    "final_result_df_2.shape[0]"
   ]
  },
  {
   "cell_type": "code",
   "execution_count": 42,
   "id": "bd4ea856-5c14-4a11-b98d-8817abb3bf0a",
   "metadata": {},
   "outputs": [
    {
     "data": {
      "text/html": [
       "<div>\n",
       "<style scoped>\n",
       "    .dataframe tbody tr th:only-of-type {\n",
       "        vertical-align: middle;\n",
       "    }\n",
       "\n",
       "    .dataframe tbody tr th {\n",
       "        vertical-align: top;\n",
       "    }\n",
       "\n",
       "    .dataframe thead th {\n",
       "        text-align: right;\n",
       "    }\n",
       "</style>\n",
       "<table border=\"1\" class=\"dataframe\">\n",
       "  <thead>\n",
       "    <tr style=\"text-align: right;\">\n",
       "      <th></th>\n",
       "      <th>자전거번호</th>\n",
       "      <th>최초_대여시작</th>\n",
       "      <th>마지막_대여시작</th>\n",
       "      <th>대여사이기간</th>\n",
       "      <th>최초_고장신고</th>\n",
       "      <th>마지막_고장신고</th>\n",
       "      <th>전체_고장신고</th>\n",
       "      <th>횟수_고장신고</th>\n",
       "      <th>고장사이기간</th>\n",
       "      <th>고장신고_대기</th>\n",
       "      <th>고장여부</th>\n",
       "    </tr>\n",
       "  </thead>\n",
       "  <tbody>\n",
       "    <tr>\n",
       "      <th>0</th>\n",
       "      <td>SPB-30001</td>\n",
       "      <td>2024-02-08</td>\n",
       "      <td>2024-03-06</td>\n",
       "      <td>27 days</td>\n",
       "      <td>NaT</td>\n",
       "      <td>NaT</td>\n",
       "      <td>None</td>\n",
       "      <td>0</td>\n",
       "      <td>NaT</td>\n",
       "      <td>NaT</td>\n",
       "      <td>0</td>\n",
       "    </tr>\n",
       "    <tr>\n",
       "      <th>1</th>\n",
       "      <td>SPB-30001</td>\n",
       "      <td>2024-03-06</td>\n",
       "      <td>2024-03-14</td>\n",
       "      <td>8 days</td>\n",
       "      <td>NaT</td>\n",
       "      <td>NaT</td>\n",
       "      <td>None</td>\n",
       "      <td>0</td>\n",
       "      <td>NaT</td>\n",
       "      <td>NaT</td>\n",
       "      <td>0</td>\n",
       "    </tr>\n",
       "    <tr>\n",
       "      <th>2</th>\n",
       "      <td>SPB-30001</td>\n",
       "      <td>2024-03-14</td>\n",
       "      <td>2024-05-02</td>\n",
       "      <td>49 days</td>\n",
       "      <td>NaT</td>\n",
       "      <td>NaT</td>\n",
       "      <td>None</td>\n",
       "      <td>0</td>\n",
       "      <td>NaT</td>\n",
       "      <td>NaT</td>\n",
       "      <td>0</td>\n",
       "    </tr>\n",
       "    <tr>\n",
       "      <th>3</th>\n",
       "      <td>SPB-30001</td>\n",
       "      <td>2024-05-02</td>\n",
       "      <td>2024-05-03</td>\n",
       "      <td>1 days</td>\n",
       "      <td>NaT</td>\n",
       "      <td>NaT</td>\n",
       "      <td>None</td>\n",
       "      <td>0</td>\n",
       "      <td>NaT</td>\n",
       "      <td>NaT</td>\n",
       "      <td>0</td>\n",
       "    </tr>\n",
       "    <tr>\n",
       "      <th>4</th>\n",
       "      <td>SPB-30001</td>\n",
       "      <td>2024-05-03</td>\n",
       "      <td>2024-05-19</td>\n",
       "      <td>16 days</td>\n",
       "      <td>NaT</td>\n",
       "      <td>NaT</td>\n",
       "      <td>None</td>\n",
       "      <td>0</td>\n",
       "      <td>NaT</td>\n",
       "      <td>NaT</td>\n",
       "      <td>0</td>\n",
       "    </tr>\n",
       "  </tbody>\n",
       "</table>\n",
       "</div>"
      ],
      "text/plain": [
       "       자전거번호    최초_대여시작   마지막_대여시작  대여사이기간 최초_고장신고 마지막_고장신고 전체_고장신고  횟수_고장신고  \\\n",
       "0  SPB-30001 2024-02-08 2024-03-06 27 days     NaT      NaT    None        0   \n",
       "1  SPB-30001 2024-03-06 2024-03-14  8 days     NaT      NaT    None        0   \n",
       "2  SPB-30001 2024-03-14 2024-05-02 49 days     NaT      NaT    None        0   \n",
       "3  SPB-30001 2024-05-02 2024-05-03  1 days     NaT      NaT    None        0   \n",
       "4  SPB-30001 2024-05-03 2024-05-19 16 days     NaT      NaT    None        0   \n",
       "\n",
       "  고장사이기간 고장신고_대기  고장여부  \n",
       "0    NaT     NaT     0  \n",
       "1    NaT     NaT     0  \n",
       "2    NaT     NaT     0  \n",
       "3    NaT     NaT     0  \n",
       "4    NaT     NaT     0  "
      ]
     },
     "execution_count": 42,
     "metadata": {},
     "output_type": "execute_result"
    }
   ],
   "source": [
    "final_result_df_2.head()"
   ]
  },
  {
   "cell_type": "code",
   "execution_count": 43,
   "id": "115c6de7-32c9-42fc-9820-1c0c8215db19",
   "metadata": {},
   "outputs": [
    {
     "data": {
      "text/plain": [
       "Index(['자전거번호', '최초_대여시작', '마지막_대여시작', '대여사이기간', '최초_고장신고', '마지막_고장신고',\n",
       "       '전체_고장신고', '횟수_고장신고', '고장사이기간', '고장신고_대기', '고장여부'],\n",
       "      dtype='object')"
      ]
     },
     "execution_count": 43,
     "metadata": {},
     "output_type": "execute_result"
    }
   ],
   "source": [
    "final_result_df_2.columns"
   ]
  },
  {
   "cell_type": "code",
   "execution_count": 44,
   "id": "e3c13fd1-a398-46ce-ac38-ada43be7c676",
   "metadata": {},
   "outputs": [
    {
     "data": {
      "text/html": [
       "<div>\n",
       "<style scoped>\n",
       "    .dataframe tbody tr th:only-of-type {\n",
       "        vertical-align: middle;\n",
       "    }\n",
       "\n",
       "    .dataframe tbody tr th {\n",
       "        vertical-align: top;\n",
       "    }\n",
       "\n",
       "    .dataframe thead th {\n",
       "        text-align: right;\n",
       "    }\n",
       "</style>\n",
       "<table border=\"1\" class=\"dataframe\">\n",
       "  <thead>\n",
       "    <tr style=\"text-align: right;\">\n",
       "      <th></th>\n",
       "      <th>자전거번호</th>\n",
       "      <th>최초_대여시작</th>\n",
       "      <th>마지막_대여시작</th>\n",
       "      <th>대여사이기간</th>\n",
       "      <th>최초_고장신고</th>\n",
       "      <th>마지막_고장신고</th>\n",
       "      <th>고장사이기간</th>\n",
       "      <th>전체_고장신고</th>\n",
       "      <th>횟수_고장신고</th>\n",
       "      <th>고장신고_대기</th>\n",
       "      <th>고장여부</th>\n",
       "    </tr>\n",
       "  </thead>\n",
       "  <tbody>\n",
       "    <tr>\n",
       "      <th>0</th>\n",
       "      <td>SPB-30001</td>\n",
       "      <td>2024-02-08</td>\n",
       "      <td>2024-03-06</td>\n",
       "      <td>27 days</td>\n",
       "      <td>NaT</td>\n",
       "      <td>NaT</td>\n",
       "      <td>NaT</td>\n",
       "      <td>None</td>\n",
       "      <td>0</td>\n",
       "      <td>NaT</td>\n",
       "      <td>0</td>\n",
       "    </tr>\n",
       "    <tr>\n",
       "      <th>1</th>\n",
       "      <td>SPB-30001</td>\n",
       "      <td>2024-03-06</td>\n",
       "      <td>2024-03-14</td>\n",
       "      <td>8 days</td>\n",
       "      <td>NaT</td>\n",
       "      <td>NaT</td>\n",
       "      <td>NaT</td>\n",
       "      <td>None</td>\n",
       "      <td>0</td>\n",
       "      <td>NaT</td>\n",
       "      <td>0</td>\n",
       "    </tr>\n",
       "    <tr>\n",
       "      <th>2</th>\n",
       "      <td>SPB-30001</td>\n",
       "      <td>2024-03-14</td>\n",
       "      <td>2024-05-02</td>\n",
       "      <td>49 days</td>\n",
       "      <td>NaT</td>\n",
       "      <td>NaT</td>\n",
       "      <td>NaT</td>\n",
       "      <td>None</td>\n",
       "      <td>0</td>\n",
       "      <td>NaT</td>\n",
       "      <td>0</td>\n",
       "    </tr>\n",
       "    <tr>\n",
       "      <th>3</th>\n",
       "      <td>SPB-30001</td>\n",
       "      <td>2024-05-02</td>\n",
       "      <td>2024-05-03</td>\n",
       "      <td>1 days</td>\n",
       "      <td>NaT</td>\n",
       "      <td>NaT</td>\n",
       "      <td>NaT</td>\n",
       "      <td>None</td>\n",
       "      <td>0</td>\n",
       "      <td>NaT</td>\n",
       "      <td>0</td>\n",
       "    </tr>\n",
       "    <tr>\n",
       "      <th>4</th>\n",
       "      <td>SPB-30001</td>\n",
       "      <td>2024-05-03</td>\n",
       "      <td>2024-05-19</td>\n",
       "      <td>16 days</td>\n",
       "      <td>NaT</td>\n",
       "      <td>NaT</td>\n",
       "      <td>NaT</td>\n",
       "      <td>None</td>\n",
       "      <td>0</td>\n",
       "      <td>NaT</td>\n",
       "      <td>0</td>\n",
       "    </tr>\n",
       "  </tbody>\n",
       "</table>\n",
       "</div>"
      ],
      "text/plain": [
       "       자전거번호    최초_대여시작   마지막_대여시작  대여사이기간 최초_고장신고 마지막_고장신고 고장사이기간 전체_고장신고  \\\n",
       "0  SPB-30001 2024-02-08 2024-03-06 27 days     NaT      NaT    NaT    None   \n",
       "1  SPB-30001 2024-03-06 2024-03-14  8 days     NaT      NaT    NaT    None   \n",
       "2  SPB-30001 2024-03-14 2024-05-02 49 days     NaT      NaT    NaT    None   \n",
       "3  SPB-30001 2024-05-02 2024-05-03  1 days     NaT      NaT    NaT    None   \n",
       "4  SPB-30001 2024-05-03 2024-05-19 16 days     NaT      NaT    NaT    None   \n",
       "\n",
       "   횟수_고장신고 고장신고_대기  고장여부  \n",
       "0        0     NaT     0  \n",
       "1        0     NaT     0  \n",
       "2        0     NaT     0  \n",
       "3        0     NaT     0  \n",
       "4        0     NaT     0  "
      ]
     },
     "metadata": {},
     "output_type": "display_data"
    }
   ],
   "source": [
    "# 결과 출력\n",
    "_columns = ['자전거번호', \n",
    "            '최초_대여시작', '마지막_대여시작', '대여사이기간', \n",
    "            '최초_고장신고', '마지막_고장신고', '고장사이기간', '전체_고장신고', '횟수_고장신고'\n",
    "            , '고장신고_대기', '고장여부']\n",
    "display(final_result_df_2[_columns].head(5))"
   ]
  },
  {
   "cell_type": "code",
   "execution_count": 45,
   "id": "f61ce312-17e9-47d0-b726-7347eae84220",
   "metadata": {},
   "outputs": [
    {
     "data": {
      "text/plain": [
       "자전거번호       0.000000\n",
       "최초_대여시작     0.000000\n",
       "마지막_대여시작    0.000000\n",
       "대여사이기간      0.000000\n",
       "최초_고장신고     0.859627\n",
       "마지막_고장신고    0.859627\n",
       "전체_고장신고     0.859627\n",
       "횟수_고장신고     0.000000\n",
       "고장사이기간      0.859627\n",
       "고장신고_대기     0.859627\n",
       "고장여부        0.000000\n",
       "dtype: float64"
      ]
     },
     "execution_count": 45,
     "metadata": {},
     "output_type": "execute_result"
    }
   ],
   "source": [
    "final_result_df_2.isnull().mean()"
   ]
  },
  {
   "cell_type": "markdown",
   "id": "e84e22bc-c096-43aa-a943-f7368beb8a04",
   "metadata": {},
   "source": [
    "---\n",
    "### 각 데이터의 분포 확인"
   ]
  },
  {
   "cell_type": "code",
   "execution_count": 47,
   "id": "4b1f79c1-84fb-4d45-867e-99c96425d73a",
   "metadata": {},
   "outputs": [
    {
     "data": {
      "text/html": [
       "<div>\n",
       "<style scoped>\n",
       "    .dataframe tbody tr th:only-of-type {\n",
       "        vertical-align: middle;\n",
       "    }\n",
       "\n",
       "    .dataframe tbody tr th {\n",
       "        vertical-align: top;\n",
       "    }\n",
       "\n",
       "    .dataframe thead th {\n",
       "        text-align: right;\n",
       "    }\n",
       "</style>\n",
       "<table border=\"1\" class=\"dataframe\">\n",
       "  <thead>\n",
       "    <tr style=\"text-align: right;\">\n",
       "      <th></th>\n",
       "      <th>최초_대여시작</th>\n",
       "      <th>마지막_대여시작</th>\n",
       "      <th>대여사이기간</th>\n",
       "      <th>최초_고장신고</th>\n",
       "      <th>마지막_고장신고</th>\n",
       "      <th>횟수_고장신고</th>\n",
       "      <th>고장사이기간</th>\n",
       "      <th>고장신고_대기</th>\n",
       "      <th>고장여부</th>\n",
       "    </tr>\n",
       "  </thead>\n",
       "  <tbody>\n",
       "    <tr>\n",
       "      <th>count</th>\n",
       "      <td>594308</td>\n",
       "      <td>594308</td>\n",
       "      <td>594308</td>\n",
       "      <td>83425</td>\n",
       "      <td>83425</td>\n",
       "      <td>594308.000000</td>\n",
       "      <td>83425</td>\n",
       "      <td>83425</td>\n",
       "      <td>594308.000000</td>\n",
       "    </tr>\n",
       "    <tr>\n",
       "      <th>mean</th>\n",
       "      <td>2024-04-11 07:54:23.931833088</td>\n",
       "      <td>2024-04-20 02:36:35.273831168</td>\n",
       "      <td>8 days 18:42:11.341997752</td>\n",
       "      <td>2024-04-19 18:52:46.273899008</td>\n",
       "      <td>2024-04-20 20:18:03.473779456</td>\n",
       "      <td>0.177718</td>\n",
       "      <td>1 days 01:25:17.199880131</td>\n",
       "      <td>4 days 15:01:55.346718609</td>\n",
       "      <td>0.140373</td>\n",
       "    </tr>\n",
       "    <tr>\n",
       "      <th>min</th>\n",
       "      <td>2024-01-01 00:00:00</td>\n",
       "      <td>2024-01-01 00:00:00</td>\n",
       "      <td>0 days 00:00:00</td>\n",
       "      <td>2024-01-01 00:00:00</td>\n",
       "      <td>2024-01-01 00:00:00</td>\n",
       "      <td>0.000000</td>\n",
       "      <td>0 days 00:00:00</td>\n",
       "      <td>0 days 00:00:00</td>\n",
       "      <td>0.000000</td>\n",
       "    </tr>\n",
       "    <tr>\n",
       "      <th>25%</th>\n",
       "      <td>2024-03-08 00:00:00</td>\n",
       "      <td>2024-03-20 00:00:00</td>\n",
       "      <td>1 days 00:00:00</td>\n",
       "      <td>2024-03-22 00:00:00</td>\n",
       "      <td>2024-03-24 00:00:00</td>\n",
       "      <td>0.000000</td>\n",
       "      <td>0 days 00:00:00</td>\n",
       "      <td>0 days 00:00:00</td>\n",
       "      <td>0.000000</td>\n",
       "    </tr>\n",
       "    <tr>\n",
       "      <th>50%</th>\n",
       "      <td>2024-04-17 00:00:00</td>\n",
       "      <td>2024-04-26 00:00:00</td>\n",
       "      <td>4 days 00:00:00</td>\n",
       "      <td>2024-04-27 00:00:00</td>\n",
       "      <td>2024-04-28 00:00:00</td>\n",
       "      <td>0.000000</td>\n",
       "      <td>0 days 00:00:00</td>\n",
       "      <td>1 days 00:00:00</td>\n",
       "      <td>0.000000</td>\n",
       "    </tr>\n",
       "    <tr>\n",
       "      <th>75%</th>\n",
       "      <td>2024-05-21 00:00:00</td>\n",
       "      <td>2024-05-28 00:00:00</td>\n",
       "      <td>11 days 00:00:00</td>\n",
       "      <td>2024-05-27 00:00:00</td>\n",
       "      <td>2024-05-28 00:00:00</td>\n",
       "      <td>0.000000</td>\n",
       "      <td>0 days 00:00:00</td>\n",
       "      <td>5 days 00:00:00</td>\n",
       "      <td>0.000000</td>\n",
       "    </tr>\n",
       "    <tr>\n",
       "      <th>max</th>\n",
       "      <td>2024-06-30 00:00:00</td>\n",
       "      <td>2024-06-30 00:00:00</td>\n",
       "      <td>175 days 00:00:00</td>\n",
       "      <td>2024-06-30 00:00:00</td>\n",
       "      <td>2024-06-30 00:00:00</td>\n",
       "      <td>13.000000</td>\n",
       "      <td>174 days 00:00:00</td>\n",
       "      <td>160 days 00:00:00</td>\n",
       "      <td>1.000000</td>\n",
       "    </tr>\n",
       "    <tr>\n",
       "      <th>std</th>\n",
       "      <td>NaN</td>\n",
       "      <td>NaN</td>\n",
       "      <td>12 days 21:16:30.765850531</td>\n",
       "      <td>NaN</td>\n",
       "      <td>NaN</td>\n",
       "      <td>0.498493</td>\n",
       "      <td>5 days 09:07:35.748123756</td>\n",
       "      <td>9 days 08:15:31.091664623</td>\n",
       "      <td>0.347374</td>\n",
       "    </tr>\n",
       "  </tbody>\n",
       "</table>\n",
       "</div>"
      ],
      "text/plain": [
       "                             최초_대여시작                       마지막_대여시작  \\\n",
       "count                         594308                         594308   \n",
       "mean   2024-04-11 07:54:23.931833088  2024-04-20 02:36:35.273831168   \n",
       "min              2024-01-01 00:00:00            2024-01-01 00:00:00   \n",
       "25%              2024-03-08 00:00:00            2024-03-20 00:00:00   \n",
       "50%              2024-04-17 00:00:00            2024-04-26 00:00:00   \n",
       "75%              2024-05-21 00:00:00            2024-05-28 00:00:00   \n",
       "max              2024-06-30 00:00:00            2024-06-30 00:00:00   \n",
       "std                              NaN                            NaN   \n",
       "\n",
       "                           대여사이기간                        최초_고장신고  \\\n",
       "count                      594308                          83425   \n",
       "mean    8 days 18:42:11.341997752  2024-04-19 18:52:46.273899008   \n",
       "min               0 days 00:00:00            2024-01-01 00:00:00   \n",
       "25%               1 days 00:00:00            2024-03-22 00:00:00   \n",
       "50%               4 days 00:00:00            2024-04-27 00:00:00   \n",
       "75%              11 days 00:00:00            2024-05-27 00:00:00   \n",
       "max             175 days 00:00:00            2024-06-30 00:00:00   \n",
       "std    12 days 21:16:30.765850531                            NaN   \n",
       "\n",
       "                            마지막_고장신고        횟수_고장신고  \\\n",
       "count                          83425  594308.000000   \n",
       "mean   2024-04-20 20:18:03.473779456       0.177718   \n",
       "min              2024-01-01 00:00:00       0.000000   \n",
       "25%              2024-03-24 00:00:00       0.000000   \n",
       "50%              2024-04-28 00:00:00       0.000000   \n",
       "75%              2024-05-28 00:00:00       0.000000   \n",
       "max              2024-06-30 00:00:00      13.000000   \n",
       "std                              NaN       0.498493   \n",
       "\n",
       "                          고장사이기간                    고장신고_대기           고장여부  \n",
       "count                      83425                      83425  594308.000000  \n",
       "mean   1 days 01:25:17.199880131  4 days 15:01:55.346718609       0.140373  \n",
       "min              0 days 00:00:00            0 days 00:00:00       0.000000  \n",
       "25%              0 days 00:00:00            0 days 00:00:00       0.000000  \n",
       "50%              0 days 00:00:00            1 days 00:00:00       0.000000  \n",
       "75%              0 days 00:00:00            5 days 00:00:00       0.000000  \n",
       "max            174 days 00:00:00          160 days 00:00:00       1.000000  \n",
       "std    5 days 09:07:35.748123756  9 days 08:15:31.091664623       0.347374  "
      ]
     },
     "execution_count": 47,
     "metadata": {},
     "output_type": "execute_result"
    }
   ],
   "source": [
    "final_result_df_2.describe()"
   ]
  },
  {
   "cell_type": "markdown",
   "id": "632c0691-0392-42a2-9579-dc61b876075d",
   "metadata": {},
   "source": [
    "---\n",
    "### 데이터 분포 시각화"
   ]
  },
  {
   "cell_type": "code",
   "execution_count": 49,
   "id": "4c865f6d-8e74-4045-a863-d3ee6b2602a0",
   "metadata": {},
   "outputs": [],
   "source": [
    "import matplotlib.pyplot as plt\n",
    "import seaborn as sns\n",
    "\n",
    "# 한글 폰트 설정 (Windows에서는 'Malgun Gothic' 사용)\n",
    "plt.rcParams['font.family'] = 'Malgun Gothic'\n",
    "# 마이너스 기호 깨짐 방지\n",
    "plt.rcParams['axes.unicode_minus'] = False"
   ]
  },
  {
   "cell_type": "code",
   "execution_count": 50,
   "id": "ff2119b3-2c6f-4cca-b3b0-dbf7bc092249",
   "metadata": {},
   "outputs": [
    {
     "data": {
      "image/png": "[encoded data removed]",
      "text/plain": [
       "<Figure size 1000x600 with 1 Axes>"
      ]
     },
     "metadata": {},
     "output_type": "display_data"
    }
   ],
   "source": [
    "# '대여사이기간'을 일수로 변환하여 히스토그램 생성\n",
    "plt.figure(figsize=(10, 6))\n",
    "sns.histplot(final_result_df_2['대여사이기간'].dt.days.dropna(), bins=30, kde=False, color='skyblue')\n",
    "plt.title('대여사이기간 히스토그램')\n",
    "plt.xlabel('대여사이기간 (일수)')\n",
    "plt.ylabel('빈도수')\n",
    "plt.grid()\n",
    "plt.show()"
   ]
  },
  {
   "cell_type": "code",
   "execution_count": 51,
   "id": "62d6468b-d617-442a-9c1f-99763b107cf9",
   "metadata": {},
   "outputs": [
    {
     "data": {
      "image/png": "[encoded data removed]",
      "text/plain": [
       "<Figure size 1000x600 with 1 Axes>"
      ]
     },
     "metadata": {},
     "output_type": "display_data"
    }
   ],
   "source": [
    "# 박스 플롯 생성\n",
    "plt.figure(figsize=(10, 6))\n",
    "sns.boxplot(x=final_result_df_2['대여사이기간'].dt.days.dropna(), color='lightgreen')\n",
    "plt.title('대여사이기간 박스 플롯')\n",
    "plt.xlabel('대여사이기간 (일수)')\n",
    "plt.grid()\n",
    "plt.show()"
   ]
  },
  {
   "cell_type": "code",
   "execution_count": 52,
   "id": "d7457c10-712f-4e65-b414-d1f65abaa4dc",
   "metadata": {},
   "outputs": [
    {
     "data": {
      "image/png": "[encoded data removed]",
      "text/plain": [
       "<Figure size 1000x600 with 1 Axes>"
      ]
     },
     "metadata": {},
     "output_type": "display_data"
    }
   ],
   "source": [
    "# 바이올린 플롯 생성\n",
    "plt.figure(figsize=(10, 6))\n",
    "sns.violinplot(x=final_result_df_2['대여사이기간'].dt.days.dropna(), color='lightblue')\n",
    "plt.title('대여사이기간 바이올린 플롯')\n",
    "plt.xlabel('대여사이기간 (일수)')\n",
    "plt.grid()\n",
    "plt.show()"
   ]
  },
  {
   "cell_type": "code",
   "execution_count": 53,
   "id": "416485d4-4ea3-47be-aa42-974fe49ca0ca",
   "metadata": {},
   "outputs": [
    {
     "data": {
      "image/png": "[encoded data removed]",
      "text/plain": [
       "<Figure size 640x480 with 2 Axes>"
      ]
     },
     "metadata": {},
     "output_type": "display_data"
    }
   ],
   "source": [
    "# 히스토그램과 박스 플롯을 함께 그리기\n",
    "fig, (ax_box, ax_hist) = plt.subplots(2, sharex=True, gridspec_kw={'height_ratios': (.15, .85)})\n",
    "\n",
    "# 박스 플롯\n",
    "sns.boxplot(x=final_result_df_2['대여사이기간'].dt.days.dropna(), ax=ax_box)\n",
    "ax_box.set(xlabel='')\n",
    "\n",
    "# 히스토그램\n",
    "sns.histplot(final_result_df_2['대여사이기간'].dt.days.dropna(), ax=ax_hist, bins=30, color='skyblue')\n",
    "ax_hist.set(xlabel='대여사이기간 (일수)', ylabel='빈도수')\n",
    "\n",
    "plt.show()"
   ]
  },
  {
   "cell_type": "code",
   "execution_count": 54,
   "id": "343a447f-1613-428c-ad23-e4d96621b099",
   "metadata": {},
   "outputs": [
    {
     "name": "stdout",
     "output_type": "stream",
     "text": [
      "<class 'pandas.core.frame.DataFrame'>\n",
      "RangeIndex: 594308 entries, 0 to 594307\n",
      "Data columns (total 11 columns):\n",
      " #   Column    Non-Null Count   Dtype          \n",
      "---  ------    --------------   -----          \n",
      " 0   자전거번호     594308 non-null  object         \n",
      " 1   최초_대여시작   594308 non-null  datetime64[ns] \n",
      " 2   마지막_대여시작  594308 non-null  datetime64[ns] \n",
      " 3   대여사이기간    594308 non-null  timedelta64[ns]\n",
      " 4   최초_고장신고   83425 non-null   datetime64[ns] \n",
      " 5   마지막_고장신고  83425 non-null   datetime64[ns] \n",
      " 6   전체_고장신고   83425 non-null   object         \n",
      " 7   횟수_고장신고   594308 non-null  int64          \n",
      " 8   고장사이기간    83425 non-null   timedelta64[ns]\n",
      " 9   고장신고_대기   83425 non-null   timedelta64[ns]\n",
      " 10  고장여부      594308 non-null  int32          \n",
      "dtypes: datetime64[ns](4), int32(1), int64(1), object(2), timedelta64[ns](3)\n",
      "memory usage: 47.6+ MB\n"
     ]
    }
   ],
   "source": [
    "final_result_df_2.info()"
   ]
  },
  {
   "cell_type": "markdown",
   "id": "5daf7783-af5a-4d4f-b4e1-6a35e938e949",
   "metadata": {},
   "source": [
    "---\n",
    "### 결측치 확인"
   ]
  },
  {
   "cell_type": "code",
   "execution_count": 56,
   "id": "1e45e3c0-e0f8-43f8-8a00-059c50b6aeb1",
   "metadata": {},
   "outputs": [
    {
     "data": {
      "image/png": "[encoded data removed]",
      "text/plain": [
       "<Figure size 2500x1000 with 2 Axes>"
      ]
     },
     "metadata": {},
     "output_type": "display_data"
    }
   ],
   "source": [
    "import missingno as msno\n",
    "# 결측치 매트릭스 시각화\n",
    "msno.matrix(final_result_df_2)\n",
    "plt.show()"
   ]
  },
  {
   "cell_type": "code",
   "execution_count": 57,
   "id": "b98979c7-24b3-4160-bad5-22c598088a22",
   "metadata": {},
   "outputs": [
    {
     "data": {
      "image/png": "[encoded data removed]",
      "text/plain": [
       "<Figure size 2500x1000 with 3 Axes>"
      ]
     },
     "metadata": {},
     "output_type": "display_data"
    }
   ],
   "source": [
    "# 결측치 바 차트 시각화\n",
    "msno.bar(final_result_df_2)\n",
    "plt.show()"
   ]
  },
  {
   "cell_type": "markdown",
   "id": "2050dbed-6cab-4fc9-8d4e-a48093dba5dd",
   "metadata": {},
   "source": [
    "---\n",
    "### 상관관계 확인"
   ]
  },
  {
   "cell_type": "code",
   "execution_count": 59,
   "id": "8cac21f0-b290-43ce-8ab8-1e1377616f7d",
   "metadata": {},
   "outputs": [
    {
     "data": {
      "text/html": [
       "<div>\n",
       "<style scoped>\n",
       "    .dataframe tbody tr th:only-of-type {\n",
       "        vertical-align: middle;\n",
       "    }\n",
       "\n",
       "    .dataframe tbody tr th {\n",
       "        vertical-align: top;\n",
       "    }\n",
       "\n",
       "    .dataframe thead th {\n",
       "        text-align: right;\n",
       "    }\n",
       "</style>\n",
       "<table border=\"1\" class=\"dataframe\">\n",
       "  <thead>\n",
       "    <tr style=\"text-align: right;\">\n",
       "      <th></th>\n",
       "      <th>자전거번호</th>\n",
       "      <th>최초_대여시작</th>\n",
       "      <th>마지막_대여시작</th>\n",
       "      <th>대여사이기간</th>\n",
       "      <th>최초_고장신고</th>\n",
       "      <th>마지막_고장신고</th>\n",
       "      <th>전체_고장신고</th>\n",
       "      <th>횟수_고장신고</th>\n",
       "      <th>고장사이기간</th>\n",
       "      <th>고장신고_대기</th>\n",
       "      <th>고장여부</th>\n",
       "    </tr>\n",
       "  </thead>\n",
       "  <tbody>\n",
       "    <tr>\n",
       "      <th>0</th>\n",
       "      <td>SPB-30001</td>\n",
       "      <td>2024-02-08</td>\n",
       "      <td>2024-03-06</td>\n",
       "      <td>27 days</td>\n",
       "      <td>NaT</td>\n",
       "      <td>NaT</td>\n",
       "      <td>None</td>\n",
       "      <td>0</td>\n",
       "      <td>NaT</td>\n",
       "      <td>NaT</td>\n",
       "      <td>0</td>\n",
       "    </tr>\n",
       "    <tr>\n",
       "      <th>1</th>\n",
       "      <td>SPB-30001</td>\n",
       "      <td>2024-03-06</td>\n",
       "      <td>2024-03-14</td>\n",
       "      <td>8 days</td>\n",
       "      <td>NaT</td>\n",
       "      <td>NaT</td>\n",
       "      <td>None</td>\n",
       "      <td>0</td>\n",
       "      <td>NaT</td>\n",
       "      <td>NaT</td>\n",
       "      <td>0</td>\n",
       "    </tr>\n",
       "  </tbody>\n",
       "</table>\n",
       "</div>"
      ],
      "text/plain": [
       "       자전거번호    최초_대여시작   마지막_대여시작  대여사이기간 최초_고장신고 마지막_고장신고 전체_고장신고  횟수_고장신고  \\\n",
       "0  SPB-30001 2024-02-08 2024-03-06 27 days     NaT      NaT    None        0   \n",
       "1  SPB-30001 2024-03-06 2024-03-14  8 days     NaT      NaT    None        0   \n",
       "\n",
       "  고장사이기간 고장신고_대기  고장여부  \n",
       "0    NaT     NaT     0  \n",
       "1    NaT     NaT     0  "
      ]
     },
     "execution_count": 59,
     "metadata": {},
     "output_type": "execute_result"
    }
   ],
   "source": [
    "final_result_df_2.head(2)"
   ]
  },
  {
   "cell_type": "code",
   "execution_count": 213,
   "id": "83c32619-5da4-4230-93e3-c5b3b638fe99",
   "metadata": {},
   "outputs": [
    {
     "data": {
      "text/plain": [
       "자전거번호       0\n",
       "최초_대여시작     0\n",
       "마지막_대여시작    0\n",
       "대여사이기간      0\n",
       "최초_고장신고     0\n",
       "마지막_고장신고    0\n",
       "전체_고장신고     0\n",
       "횟수_고장신고     0\n",
       "고장사이기간      0\n",
       "고장신고_대기     0\n",
       "고장여부        0\n",
       "대여대기기간      0\n",
       "dtype: int64"
      ]
     },
     "execution_count": 213,
     "metadata": {},
     "output_type": "execute_result"
    }
   ],
   "source": [
    "final_result_df_2.isnull().sum()"
   ]
  },
  {
   "cell_type": "code",
   "execution_count": 209,
   "id": "12a9d94a-c302-4646-8d3d-c22bdfb4e3fb",
   "metadata": {},
   "outputs": [
    {
     "name": "stdout",
     "output_type": "stream",
     "text": [
      "final_result_df_2 : 594308\n",
      "final_result_df_3 : 594308\n"
     ]
    }
   ],
   "source": [
    "print(f'final_result_df_2 : {final_result_df_2.shape[0]}')\n",
    "print(f'final_result_df_3 : {final_result_df_3.shape[0]}')"
   ]
  },
  {
   "cell_type": "code",
   "execution_count": 60,
   "id": "8c405065-e099-450a-acdd-6651f69033a4",
   "metadata": {},
   "outputs": [],
   "source": [
    "final_result_df_3 = final_result_df_2"
   ]
  },
  {
   "cell_type": "code",
   "execution_count": 61,
   "id": "10874a79-10a5-4b98-a332-288bf8aaaeb6",
   "metadata": {},
   "outputs": [
    {
     "name": "stderr",
     "output_type": "stream",
     "text": [
      "C:\\Users\\user\\AppData\\Local\\Temp\\ipykernel_8676\\1368527007.py:7: FutureWarning: Setting an item of incompatible dtype is deprecated and will raise an error in a future version of pandas. Value '0' has dtype incompatible with datetime64[ns], please explicitly cast to a compatible dtype first.\n",
      "  final_result_df_3.fillna(0, inplace=True)\n"
     ]
    }
   ],
   "source": [
    "# '대여사이기간', '고장사이기간', '고장신고_대기'를 timedelta로 변환 후 일수로 변환\n",
    "final_result_df_3['대여사이기간'] = pd.to_timedelta(final_result_df_3['대여사이기간'], errors='coerce').dt.days\n",
    "final_result_df_3['고장사이기간'] = pd.to_timedelta(final_result_df_3['고장사이기간'], errors='coerce').dt.days\n",
    "final_result_df_3['고장신고_대기'] = pd.to_timedelta(final_result_df_3['고장신고_대기'], errors='coerce').dt.days\n",
    "\n",
    "# 결측치는 0으로 채움 (필요에 따라 다른 값으로 처리 가능)\n",
    "final_result_df_3.fillna(0, inplace=True)"
   ]
  },
  {
   "cell_type": "code",
   "execution_count": 117,
   "id": "c392b801-e13c-4825-b36c-001fb6cd9d53",
   "metadata": {},
   "outputs": [
    {
     "data": {
      "text/html": [
       "<div>\n",
       "<style scoped>\n",
       "    .dataframe tbody tr th:only-of-type {\n",
       "        vertical-align: middle;\n",
       "    }\n",
       "\n",
       "    .dataframe tbody tr th {\n",
       "        vertical-align: top;\n",
       "    }\n",
       "\n",
       "    .dataframe thead th {\n",
       "        text-align: right;\n",
       "    }\n",
       "</style>\n",
       "<table border=\"1\" class=\"dataframe\">\n",
       "  <thead>\n",
       "    <tr style=\"text-align: right;\">\n",
       "      <th></th>\n",
       "      <th>자전거번호</th>\n",
       "      <th>최초_대여시작</th>\n",
       "      <th>마지막_대여시작</th>\n",
       "      <th>대여사이기간</th>\n",
       "      <th>최초_고장신고</th>\n",
       "      <th>마지막_고장신고</th>\n",
       "      <th>전체_고장신고</th>\n",
       "      <th>횟수_고장신고</th>\n",
       "      <th>고장사이기간</th>\n",
       "      <th>고장신고_대기</th>\n",
       "      <th>고장여부</th>\n",
       "    </tr>\n",
       "  </thead>\n",
       "  <tbody>\n",
       "    <tr>\n",
       "      <th>0</th>\n",
       "      <td>SPB-30001</td>\n",
       "      <td>2024-02-08</td>\n",
       "      <td>2024-03-06</td>\n",
       "      <td>27</td>\n",
       "      <td>0</td>\n",
       "      <td>0</td>\n",
       "      <td>0</td>\n",
       "      <td>0</td>\n",
       "      <td>0.0</td>\n",
       "      <td>0.0</td>\n",
       "      <td>0</td>\n",
       "    </tr>\n",
       "    <tr>\n",
       "      <th>1</th>\n",
       "      <td>SPB-30001</td>\n",
       "      <td>2024-03-06</td>\n",
       "      <td>2024-03-14</td>\n",
       "      <td>8</td>\n",
       "      <td>0</td>\n",
       "      <td>0</td>\n",
       "      <td>0</td>\n",
       "      <td>0</td>\n",
       "      <td>0.0</td>\n",
       "      <td>0.0</td>\n",
       "      <td>0</td>\n",
       "    </tr>\n",
       "    <tr>\n",
       "      <th>2</th>\n",
       "      <td>SPB-30001</td>\n",
       "      <td>2024-03-14</td>\n",
       "      <td>2024-05-02</td>\n",
       "      <td>49</td>\n",
       "      <td>0</td>\n",
       "      <td>0</td>\n",
       "      <td>0</td>\n",
       "      <td>0</td>\n",
       "      <td>0.0</td>\n",
       "      <td>0.0</td>\n",
       "      <td>0</td>\n",
       "    </tr>\n",
       "    <tr>\n",
       "      <th>3</th>\n",
       "      <td>SPB-30001</td>\n",
       "      <td>2024-05-02</td>\n",
       "      <td>2024-05-03</td>\n",
       "      <td>1</td>\n",
       "      <td>0</td>\n",
       "      <td>0</td>\n",
       "      <td>0</td>\n",
       "      <td>0</td>\n",
       "      <td>0.0</td>\n",
       "      <td>0.0</td>\n",
       "      <td>0</td>\n",
       "    </tr>\n",
       "    <tr>\n",
       "      <th>4</th>\n",
       "      <td>SPB-30001</td>\n",
       "      <td>2024-05-03</td>\n",
       "      <td>2024-05-19</td>\n",
       "      <td>16</td>\n",
       "      <td>0</td>\n",
       "      <td>0</td>\n",
       "      <td>0</td>\n",
       "      <td>0</td>\n",
       "      <td>0.0</td>\n",
       "      <td>0.0</td>\n",
       "      <td>0</td>\n",
       "    </tr>\n",
       "  </tbody>\n",
       "</table>\n",
       "</div>"
      ],
      "text/plain": [
       "       자전거번호    최초_대여시작   마지막_대여시작  대여사이기간 최초_고장신고 마지막_고장신고 전체_고장신고  횟수_고장신고  \\\n",
       "0  SPB-30001 2024-02-08 2024-03-06      27       0        0       0        0   \n",
       "1  SPB-30001 2024-03-06 2024-03-14       8       0        0       0        0   \n",
       "2  SPB-30001 2024-03-14 2024-05-02      49       0        0       0        0   \n",
       "3  SPB-30001 2024-05-02 2024-05-03       1       0        0       0        0   \n",
       "4  SPB-30001 2024-05-03 2024-05-19      16       0        0       0        0   \n",
       "\n",
       "   고장사이기간  고장신고_대기  고장여부  \n",
       "0     0.0      0.0     0  \n",
       "1     0.0      0.0     0  \n",
       "2     0.0      0.0     0  \n",
       "3     0.0      0.0     0  \n",
       "4     0.0      0.0     0  "
      ]
     },
     "execution_count": 117,
     "metadata": {},
     "output_type": "execute_result"
    }
   ],
   "source": [
    "final_result_df_3.head()"
   ]
  },
  {
   "cell_type": "code",
   "execution_count": 189,
   "id": "f5e92c87-ab9c-4caa-b7bb-5103f2b91ebe",
   "metadata": {},
   "outputs": [
    {
     "name": "stdout",
     "output_type": "stream",
     "text": [
      "<class 'pandas.core.frame.DataFrame'>\n",
      "RangeIndex: 594308 entries, 0 to 594307\n",
      "Data columns (total 12 columns):\n",
      " #   Column    Non-Null Count   Dtype         \n",
      "---  ------    --------------   -----         \n",
      " 0   자전거번호     594308 non-null  object        \n",
      " 1   최초_대여시작   594308 non-null  datetime64[ns]\n",
      " 2   마지막_대여시작  594308 non-null  datetime64[ns]\n",
      " 3   대여사이기간    594308 non-null  int64         \n",
      " 4   최초_고장신고   594308 non-null  object        \n",
      " 5   마지막_고장신고  594308 non-null  object        \n",
      " 6   전체_고장신고   594308 non-null  object        \n",
      " 7   횟수_고장신고   594308 non-null  int64         \n",
      " 8   고장사이기간    594308 non-null  float64       \n",
      " 9   고장신고_대기   594308 non-null  float64       \n",
      " 10  고장여부      594308 non-null  int32         \n",
      " 11  대여대기기간    594308 non-null  float64       \n",
      "dtypes: datetime64[ns](2), float64(3), int32(1), int64(2), object(4)\n",
      "memory usage: 52.1+ MB\n"
     ]
    }
   ],
   "source": [
    "final_result_df_3.info()"
   ]
  },
  {
   "cell_type": "code",
   "execution_count": 154,
   "id": "0ce18480-3007-4ac4-80bc-595fb828d70d",
   "metadata": {},
   "outputs": [],
   "source": [
    "# 새로운 컬럼 '대여대기기간' 생성\n",
    "final_result_df_3['대여대기기간'] = final_result_df_3.apply(lambda x: x['대여사이기간'] if x['고장여부'] == 0 else x['고장신고_대기'], axis=1)"
   ]
  },
  {
   "cell_type": "markdown",
   "id": "694360ef-3e95-4ab2-a4ce-3b03b7ad699c",
   "metadata": {},
   "source": [
    "---\n",
    "### 고장여부에 따른 분포확인"
   ]
  },
  {
   "cell_type": "code",
   "execution_count": 144,
   "id": "9bae4b66-6b75-407b-9f6e-62051007bfd4",
   "metadata": {},
   "outputs": [],
   "source": [
    "final_result_df_broken_O = final_result_df_3[final_result_df_3['고장여부'] == 1]   # 고장인 데이터\n",
    "final_result_df_broken_X = final_result_df_3[final_result_df_3['고장여부'] == 0]   # 정상인 데이터"
   ]
  },
  {
   "cell_type": "code",
   "execution_count": 146,
   "id": "10bb2998-7b7a-4971-b6e8-926f95b2e777",
   "metadata": {},
   "outputs": [
    {
     "data": {
      "text/html": [
       "<div>\n",
       "<style scoped>\n",
       "    .dataframe tbody tr th:only-of-type {\n",
       "        vertical-align: middle;\n",
       "    }\n",
       "\n",
       "    .dataframe tbody tr th {\n",
       "        vertical-align: top;\n",
       "    }\n",
       "\n",
       "    .dataframe thead th {\n",
       "        text-align: right;\n",
       "    }\n",
       "</style>\n",
       "<table border=\"1\" class=\"dataframe\">\n",
       "  <thead>\n",
       "    <tr style=\"text-align: right;\">\n",
       "      <th></th>\n",
       "      <th>최초_대여시작</th>\n",
       "      <th>마지막_대여시작</th>\n",
       "      <th>대여사이기간</th>\n",
       "      <th>횟수_고장신고</th>\n",
       "      <th>고장사이기간</th>\n",
       "      <th>고장신고_대기</th>\n",
       "      <th>고장여부</th>\n",
       "    </tr>\n",
       "  </thead>\n",
       "  <tbody>\n",
       "    <tr>\n",
       "      <th>count</th>\n",
       "      <td>83425</td>\n",
       "      <td>83425</td>\n",
       "      <td>83425.000000</td>\n",
       "      <td>83425.000000</td>\n",
       "      <td>83425.000000</td>\n",
       "      <td>83425.000000</td>\n",
       "      <td>83425.0</td>\n",
       "    </tr>\n",
       "    <tr>\n",
       "      <th>mean</th>\n",
       "      <td>2024-04-15 03:50:50.927180288</td>\n",
       "      <td>2024-04-28 03:03:05.253820672</td>\n",
       "      <td>12.966832</td>\n",
       "      <td>1.266035</td>\n",
       "      <td>1.059227</td>\n",
       "      <td>4.626335</td>\n",
       "      <td>1.0</td>\n",
       "    </tr>\n",
       "    <tr>\n",
       "      <th>min</th>\n",
       "      <td>2024-01-01 00:00:00</td>\n",
       "      <td>2024-01-01 00:00:00</td>\n",
       "      <td>0.000000</td>\n",
       "      <td>1.000000</td>\n",
       "      <td>0.000000</td>\n",
       "      <td>0.000000</td>\n",
       "      <td>1.0</td>\n",
       "    </tr>\n",
       "    <tr>\n",
       "      <th>25%</th>\n",
       "      <td>2024-03-16 00:00:00</td>\n",
       "      <td>2024-04-02 00:00:00</td>\n",
       "      <td>1.000000</td>\n",
       "      <td>1.000000</td>\n",
       "      <td>0.000000</td>\n",
       "      <td>0.000000</td>\n",
       "      <td>1.0</td>\n",
       "    </tr>\n",
       "    <tr>\n",
       "      <th>50%</th>\n",
       "      <td>2024-04-22 00:00:00</td>\n",
       "      <td>2024-05-04 00:00:00</td>\n",
       "      <td>7.000000</td>\n",
       "      <td>1.000000</td>\n",
       "      <td>0.000000</td>\n",
       "      <td>1.000000</td>\n",
       "      <td>1.0</td>\n",
       "    </tr>\n",
       "    <tr>\n",
       "      <th>75%</th>\n",
       "      <td>2024-05-22 00:00:00</td>\n",
       "      <td>2024-06-03 00:00:00</td>\n",
       "      <td>18.000000</td>\n",
       "      <td>1.000000</td>\n",
       "      <td>0.000000</td>\n",
       "      <td>5.000000</td>\n",
       "      <td>1.0</td>\n",
       "    </tr>\n",
       "    <tr>\n",
       "      <th>max</th>\n",
       "      <td>2024-06-30 00:00:00</td>\n",
       "      <td>2024-06-30 00:00:00</td>\n",
       "      <td>175.000000</td>\n",
       "      <td>13.000000</td>\n",
       "      <td>174.000000</td>\n",
       "      <td>160.000000</td>\n",
       "      <td>1.0</td>\n",
       "    </tr>\n",
       "    <tr>\n",
       "      <th>std</th>\n",
       "      <td>NaN</td>\n",
       "      <td>NaN</td>\n",
       "      <td>16.941993</td>\n",
       "      <td>0.626419</td>\n",
       "      <td>5.380275</td>\n",
       "      <td>9.344110</td>\n",
       "      <td>0.0</td>\n",
       "    </tr>\n",
       "  </tbody>\n",
       "</table>\n",
       "</div>"
      ],
      "text/plain": [
       "                             최초_대여시작                       마지막_대여시작  \\\n",
       "count                          83425                          83425   \n",
       "mean   2024-04-15 03:50:50.927180288  2024-04-28 03:03:05.253820672   \n",
       "min              2024-01-01 00:00:00            2024-01-01 00:00:00   \n",
       "25%              2024-03-16 00:00:00            2024-04-02 00:00:00   \n",
       "50%              2024-04-22 00:00:00            2024-05-04 00:00:00   \n",
       "75%              2024-05-22 00:00:00            2024-06-03 00:00:00   \n",
       "max              2024-06-30 00:00:00            2024-06-30 00:00:00   \n",
       "std                              NaN                            NaN   \n",
       "\n",
       "             대여사이기간       횟수_고장신고        고장사이기간       고장신고_대기     고장여부  \n",
       "count  83425.000000  83425.000000  83425.000000  83425.000000  83425.0  \n",
       "mean      12.966832      1.266035      1.059227      4.626335      1.0  \n",
       "min        0.000000      1.000000      0.000000      0.000000      1.0  \n",
       "25%        1.000000      1.000000      0.000000      0.000000      1.0  \n",
       "50%        7.000000      1.000000      0.000000      1.000000      1.0  \n",
       "75%       18.000000      1.000000      0.000000      5.000000      1.0  \n",
       "max      175.000000     13.000000    174.000000    160.000000      1.0  \n",
       "std       16.941993      0.626419      5.380275      9.344110      0.0  "
      ]
     },
     "execution_count": 146,
     "metadata": {},
     "output_type": "execute_result"
    }
   ],
   "source": [
    "final_result_df_broken_O.describe()"
   ]
  },
  {
   "cell_type": "code",
   "execution_count": 148,
   "id": "7a70ea2b-5d44-4acc-a8b9-961187e8815c",
   "metadata": {},
   "outputs": [
    {
     "data": {
      "text/html": [
       "<div>\n",
       "<style scoped>\n",
       "    .dataframe tbody tr th:only-of-type {\n",
       "        vertical-align: middle;\n",
       "    }\n",
       "\n",
       "    .dataframe tbody tr th {\n",
       "        vertical-align: top;\n",
       "    }\n",
       "\n",
       "    .dataframe thead th {\n",
       "        text-align: right;\n",
       "    }\n",
       "</style>\n",
       "<table border=\"1\" class=\"dataframe\">\n",
       "  <thead>\n",
       "    <tr style=\"text-align: right;\">\n",
       "      <th></th>\n",
       "      <th>최초_대여시작</th>\n",
       "      <th>마지막_대여시작</th>\n",
       "      <th>대여사이기간</th>\n",
       "      <th>횟수_고장신고</th>\n",
       "      <th>고장사이기간</th>\n",
       "      <th>고장신고_대기</th>\n",
       "      <th>고장여부</th>\n",
       "    </tr>\n",
       "  </thead>\n",
       "  <tbody>\n",
       "    <tr>\n",
       "      <th>count</th>\n",
       "      <td>510883</td>\n",
       "      <td>510883</td>\n",
       "      <td>510883.000000</td>\n",
       "      <td>510883.0</td>\n",
       "      <td>510883.0</td>\n",
       "      <td>510883.0</td>\n",
       "      <td>510883.0</td>\n",
       "    </tr>\n",
       "    <tr>\n",
       "      <th>mean</th>\n",
       "      <td>2024-04-10 16:53:35.176860416</td>\n",
       "      <td>2024-04-18 19:11:05.645167616</td>\n",
       "      <td>8.095492</td>\n",
       "      <td>0.0</td>\n",
       "      <td>0.0</td>\n",
       "      <td>0.0</td>\n",
       "      <td>0.0</td>\n",
       "    </tr>\n",
       "    <tr>\n",
       "      <th>min</th>\n",
       "      <td>2024-01-01 00:00:00</td>\n",
       "      <td>2024-01-01 00:00:00</td>\n",
       "      <td>0.000000</td>\n",
       "      <td>0.0</td>\n",
       "      <td>0.0</td>\n",
       "      <td>0.0</td>\n",
       "      <td>0.0</td>\n",
       "    </tr>\n",
       "    <tr>\n",
       "      <th>25%</th>\n",
       "      <td>2024-03-07 00:00:00</td>\n",
       "      <td>2024-03-18 00:00:00</td>\n",
       "      <td>1.000000</td>\n",
       "      <td>0.0</td>\n",
       "      <td>0.0</td>\n",
       "      <td>0.0</td>\n",
       "      <td>0.0</td>\n",
       "    </tr>\n",
       "    <tr>\n",
       "      <th>50%</th>\n",
       "      <td>2024-04-16 00:00:00</td>\n",
       "      <td>2024-04-25 00:00:00</td>\n",
       "      <td>4.000000</td>\n",
       "      <td>0.0</td>\n",
       "      <td>0.0</td>\n",
       "      <td>0.0</td>\n",
       "      <td>0.0</td>\n",
       "    </tr>\n",
       "    <tr>\n",
       "      <th>75%</th>\n",
       "      <td>2024-05-20 00:00:00</td>\n",
       "      <td>2024-05-27 00:00:00</td>\n",
       "      <td>10.000000</td>\n",
       "      <td>0.0</td>\n",
       "      <td>0.0</td>\n",
       "      <td>0.0</td>\n",
       "      <td>0.0</td>\n",
       "    </tr>\n",
       "    <tr>\n",
       "      <th>max</th>\n",
       "      <td>2024-06-30 00:00:00</td>\n",
       "      <td>2024-06-30 00:00:00</td>\n",
       "      <td>172.000000</td>\n",
       "      <td>0.0</td>\n",
       "      <td>0.0</td>\n",
       "      <td>0.0</td>\n",
       "      <td>0.0</td>\n",
       "    </tr>\n",
       "    <tr>\n",
       "      <th>std</th>\n",
       "      <td>NaN</td>\n",
       "      <td>NaN</td>\n",
       "      <td>11.957282</td>\n",
       "      <td>0.0</td>\n",
       "      <td>0.0</td>\n",
       "      <td>0.0</td>\n",
       "      <td>0.0</td>\n",
       "    </tr>\n",
       "  </tbody>\n",
       "</table>\n",
       "</div>"
      ],
      "text/plain": [
       "                             최초_대여시작                       마지막_대여시작  \\\n",
       "count                         510883                         510883   \n",
       "mean   2024-04-10 16:53:35.176860416  2024-04-18 19:11:05.645167616   \n",
       "min              2024-01-01 00:00:00            2024-01-01 00:00:00   \n",
       "25%              2024-03-07 00:00:00            2024-03-18 00:00:00   \n",
       "50%              2024-04-16 00:00:00            2024-04-25 00:00:00   \n",
       "75%              2024-05-20 00:00:00            2024-05-27 00:00:00   \n",
       "max              2024-06-30 00:00:00            2024-06-30 00:00:00   \n",
       "std                              NaN                            NaN   \n",
       "\n",
       "              대여사이기간   횟수_고장신고    고장사이기간   고장신고_대기      고장여부  \n",
       "count  510883.000000  510883.0  510883.0  510883.0  510883.0  \n",
       "mean        8.095492       0.0       0.0       0.0       0.0  \n",
       "min         0.000000       0.0       0.0       0.0       0.0  \n",
       "25%         1.000000       0.0       0.0       0.0       0.0  \n",
       "50%         4.000000       0.0       0.0       0.0       0.0  \n",
       "75%        10.000000       0.0       0.0       0.0       0.0  \n",
       "max       172.000000       0.0       0.0       0.0       0.0  \n",
       "std        11.957282       0.0       0.0       0.0       0.0  "
      ]
     },
     "execution_count": 148,
     "metadata": {},
     "output_type": "execute_result"
    }
   ],
   "source": [
    "final_result_df_broken_X.describe()"
   ]
  },
  {
   "cell_type": "code",
   "execution_count": 152,
   "id": "eeda9a61-8bcf-4c4a-b568-bfe29bedecf0",
   "metadata": {},
   "outputs": [
    {
     "data": {
      "image/png": "[encoded data removed]",
      "text/plain": [
       "<Figure size 640x480 with 2 Axes>"
      ]
     },
     "metadata": {},
     "output_type": "display_data"
    }
   ],
   "source": [
    "df_plot = final_result_df_broken_X\n",
    "_column = '대여사이기간'\n",
    "\n",
    "# 히스토그램과 박스 플롯을 함께 그리기\n",
    "fig, (ax_box, ax_hist) = plt.subplots(2, sharex=True, gridspec_kw={'height_ratios': (.15, .85)})\n",
    "\n",
    "# 박스 플롯\n",
    "sns.boxplot(x=df_plot[_column], ax=ax_box)\n",
    "ax_box.set(xlabel='')\n",
    "\n",
    "# 히스토그램\n",
    "sns.histplot(df_plot[_column], ax=ax_hist, bins=30, color='skyblue')\n",
    "ax_hist.set(xlabel=_column, ylabel='빈도수')\n",
    "\n",
    "plt.show()"
   ]
  },
  {
   "cell_type": "code",
   "execution_count": 158,
   "id": "4b557cee-f56b-4bc0-8cf8-0a1bf36dd568",
   "metadata": {},
   "outputs": [
    {
     "data": {
      "text/html": [
       "<div>\n",
       "<style scoped>\n",
       "    .dataframe tbody tr th:only-of-type {\n",
       "        vertical-align: middle;\n",
       "    }\n",
       "\n",
       "    .dataframe tbody tr th {\n",
       "        vertical-align: top;\n",
       "    }\n",
       "\n",
       "    .dataframe thead th {\n",
       "        text-align: right;\n",
       "    }\n",
       "</style>\n",
       "<table border=\"1\" class=\"dataframe\">\n",
       "  <thead>\n",
       "    <tr style=\"text-align: right;\">\n",
       "      <th></th>\n",
       "      <th>자전거번호</th>\n",
       "      <th>최초_대여시작</th>\n",
       "      <th>마지막_대여시작</th>\n",
       "      <th>대여사이기간</th>\n",
       "      <th>최초_고장신고</th>\n",
       "      <th>마지막_고장신고</th>\n",
       "      <th>전체_고장신고</th>\n",
       "      <th>횟수_고장신고</th>\n",
       "      <th>고장사이기간</th>\n",
       "      <th>고장신고_대기</th>\n",
       "      <th>고장여부</th>\n",
       "      <th>대여대기기간</th>\n",
       "    </tr>\n",
       "  </thead>\n",
       "  <tbody>\n",
       "    <tr>\n",
       "      <th>0</th>\n",
       "      <td>SPB-30001</td>\n",
       "      <td>2024-02-08</td>\n",
       "      <td>2024-03-06</td>\n",
       "      <td>27</td>\n",
       "      <td>0</td>\n",
       "      <td>0</td>\n",
       "      <td>0</td>\n",
       "      <td>0</td>\n",
       "      <td>0.0</td>\n",
       "      <td>0.0</td>\n",
       "      <td>0</td>\n",
       "      <td>27.0</td>\n",
       "    </tr>\n",
       "    <tr>\n",
       "      <th>1</th>\n",
       "      <td>SPB-30001</td>\n",
       "      <td>2024-03-06</td>\n",
       "      <td>2024-03-14</td>\n",
       "      <td>8</td>\n",
       "      <td>0</td>\n",
       "      <td>0</td>\n",
       "      <td>0</td>\n",
       "      <td>0</td>\n",
       "      <td>0.0</td>\n",
       "      <td>0.0</td>\n",
       "      <td>0</td>\n",
       "      <td>8.0</td>\n",
       "    </tr>\n",
       "    <tr>\n",
       "      <th>2</th>\n",
       "      <td>SPB-30001</td>\n",
       "      <td>2024-03-14</td>\n",
       "      <td>2024-05-02</td>\n",
       "      <td>49</td>\n",
       "      <td>0</td>\n",
       "      <td>0</td>\n",
       "      <td>0</td>\n",
       "      <td>0</td>\n",
       "      <td>0.0</td>\n",
       "      <td>0.0</td>\n",
       "      <td>0</td>\n",
       "      <td>49.0</td>\n",
       "    </tr>\n",
       "    <tr>\n",
       "      <th>3</th>\n",
       "      <td>SPB-30001</td>\n",
       "      <td>2024-05-02</td>\n",
       "      <td>2024-05-03</td>\n",
       "      <td>1</td>\n",
       "      <td>0</td>\n",
       "      <td>0</td>\n",
       "      <td>0</td>\n",
       "      <td>0</td>\n",
       "      <td>0.0</td>\n",
       "      <td>0.0</td>\n",
       "      <td>0</td>\n",
       "      <td>1.0</td>\n",
       "    </tr>\n",
       "    <tr>\n",
       "      <th>4</th>\n",
       "      <td>SPB-30001</td>\n",
       "      <td>2024-05-03</td>\n",
       "      <td>2024-05-19</td>\n",
       "      <td>16</td>\n",
       "      <td>0</td>\n",
       "      <td>0</td>\n",
       "      <td>0</td>\n",
       "      <td>0</td>\n",
       "      <td>0.0</td>\n",
       "      <td>0.0</td>\n",
       "      <td>0</td>\n",
       "      <td>16.0</td>\n",
       "    </tr>\n",
       "  </tbody>\n",
       "</table>\n",
       "</div>"
      ],
      "text/plain": [
       "       자전거번호    최초_대여시작   마지막_대여시작  대여사이기간 최초_고장신고 마지막_고장신고 전체_고장신고  횟수_고장신고  \\\n",
       "0  SPB-30001 2024-02-08 2024-03-06      27       0        0       0        0   \n",
       "1  SPB-30001 2024-03-06 2024-03-14       8       0        0       0        0   \n",
       "2  SPB-30001 2024-03-14 2024-05-02      49       0        0       0        0   \n",
       "3  SPB-30001 2024-05-02 2024-05-03       1       0        0       0        0   \n",
       "4  SPB-30001 2024-05-03 2024-05-19      16       0        0       0        0   \n",
       "\n",
       "   고장사이기간  고장신고_대기  고장여부  대여대기기간  \n",
       "0     0.0      0.0     0    27.0  \n",
       "1     0.0      0.0     0     8.0  \n",
       "2     0.0      0.0     0    49.0  \n",
       "3     0.0      0.0     0     1.0  \n",
       "4     0.0      0.0     0    16.0  "
      ]
     },
     "execution_count": 158,
     "metadata": {},
     "output_type": "execute_result"
    }
   ],
   "source": [
    "final_result_df_3.head()"
   ]
  },
  {
   "cell_type": "code",
   "execution_count": 156,
   "id": "f39ecc7c-ed00-4f78-844b-19ea20ea5736",
   "metadata": {},
   "outputs": [
    {
     "data": {
      "image/png": "[encoded data removed]",
      "text/plain": [
       "<Figure size 800x600 with 2 Axes>"
      ]
     },
     "metadata": {},
     "output_type": "display_data"
    }
   ],
   "source": [
    "# 상관관계 계산\n",
    "correlation_matrix = final_result_df_3[['대여대기기간', '대여사이기간', '고장사이기간', '고장신고_대기', '횟수_고장신고', '고장여부']].corr()\n",
    "\n",
    "# 상관관계 히트맵 시각화\n",
    "plt.figure(figsize=(8, 6))\n",
    "sns.heatmap(correlation_matrix, annot=True, cmap='coolwarm', fmt='.2f', linewidths=.5)\n",
    "plt.title('상관관계 매트릭스')\n",
    "plt.show()"
   ]
  },
  {
   "cell_type": "markdown",
   "id": "8449abc1-b597-4793-92d3-7dfc85ee16db",
   "metadata": {},
   "source": [
    "---\n",
    "### 이상치 제거"
   ]
  },
  {
   "cell_type": "code",
   "execution_count": 177,
   "id": "943aaa40-806c-4b68-b412-7dbbd94b8564",
   "metadata": {},
   "outputs": [
    {
     "data": {
      "image/png": "[encoded data removed]",
      "text/plain": [
       "<Figure size 640x480 with 2 Axes>"
      ]
     },
     "metadata": {},
     "output_type": "display_data"
    }
   ],
   "source": [
    "df_plot = final_result_df_3\n",
    "_column = '대여대기기간'\n",
    "\n",
    "# 히스토그램과 박스 플롯을 함께 그리기\n",
    "fig, (ax_box, ax_hist) = plt.subplots(2, sharex=True, gridspec_kw={'height_ratios': (.15, .85)})\n",
    "\n",
    "# 박스 플롯\n",
    "sns.boxplot(x=df_plot[_column], ax=ax_box)\n",
    "ax_box.set(xlabel='')\n",
    "\n",
    "# 히스토그램\n",
    "sns.histplot(df_plot[_column], ax=ax_hist, bins=30, color='skyblue')\n",
    "ax_hist.set(xlabel=_column, ylabel='빈도수')\n",
    "\n",
    "plt.show()"
   ]
  },
  {
   "cell_type": "code",
   "execution_count": 179,
   "id": "e184747a-e963-4e6f-b214-5ca352124745",
   "metadata": {},
   "outputs": [],
   "source": [
    "# 3. 대여사이기간 이상치 설정 및 필터링\n",
    "Q1 = final_result_df_3['대여대기기간'].quantile(0.25)\n",
    "Q3 = final_result_df_3['대여대기기간'].quantile(0.75)\n",
    "IQR = Q3 - Q1\n",
    "outlier_threshold = Q3 + 1.5 * IQR\n",
    "outlier_intervals_df_1 = final_result_df_3[final_result_df_3['대여사이기간'] > outlier_threshold]\n",
    "outlier_intervals_df_2 = final_result_df_3[final_result_df_3['대여사이기간'] <= outlier_threshold]"
   ]
  },
  {
   "cell_type": "code",
   "execution_count": 195,
   "id": "665d5af3-5e60-44bf-881a-5f02d25803e0",
   "metadata": {},
   "outputs": [
    {
     "name": "stdout",
     "output_type": "stream",
     "text": [
      "이상치 상단 값 : 23.5\n"
     ]
    }
   ],
   "source": [
    "print(f'이상치 상단 값 : {outlier_threshold}')"
   ]
  },
  {
   "cell_type": "code",
   "execution_count": 197,
   "id": "a02700fb-8bb8-4229-80a7-c3384cafb0e4",
   "metadata": {},
   "outputs": [
    {
     "name": "stdout",
     "output_type": "stream",
     "text": [
      "전체 데이터 : 594308\n",
      "이상치 데이터 : 59335\n",
      "정상 데이터 : 534973\n"
     ]
    }
   ],
   "source": [
    "print(f'전체 데이터 : {final_result_df_3.shape[0]}')\n",
    "print(f'이상치 데이터 : {outlier_intervals_df_1.shape[0]}')\n",
    "print(f'정상 데이터 : {outlier_intervals_df_2.shape[0]}')"
   ]
  },
  {
   "cell_type": "code",
   "execution_count": 216,
   "id": "dfb7be8b-1b70-4474-a86d-80fa17f38d90",
   "metadata": {},
   "outputs": [
    {
     "data": {
      "text/html": [
       "<div>\n",
       "<style scoped>\n",
       "    .dataframe tbody tr th:only-of-type {\n",
       "        vertical-align: middle;\n",
       "    }\n",
       "\n",
       "    .dataframe tbody tr th {\n",
       "        vertical-align: top;\n",
       "    }\n",
       "\n",
       "    .dataframe thead th {\n",
       "        text-align: right;\n",
       "    }\n",
       "</style>\n",
       "<table border=\"1\" class=\"dataframe\">\n",
       "  <thead>\n",
       "    <tr style=\"text-align: right;\">\n",
       "      <th></th>\n",
       "      <th>자전거번호</th>\n",
       "      <th>최초_대여시작</th>\n",
       "      <th>마지막_대여시작</th>\n",
       "      <th>대여사이기간</th>\n",
       "      <th>최초_고장신고</th>\n",
       "      <th>마지막_고장신고</th>\n",
       "      <th>전체_고장신고</th>\n",
       "      <th>횟수_고장신고</th>\n",
       "      <th>고장사이기간</th>\n",
       "      <th>고장신고_대기</th>\n",
       "      <th>고장여부</th>\n",
       "      <th>대여대기기간</th>\n",
       "    </tr>\n",
       "  </thead>\n",
       "  <tbody>\n",
       "    <tr>\n",
       "      <th>0</th>\n",
       "      <td>SPB-30001</td>\n",
       "      <td>2024-02-08</td>\n",
       "      <td>2024-03-06</td>\n",
       "      <td>27</td>\n",
       "      <td>0</td>\n",
       "      <td>0</td>\n",
       "      <td>0</td>\n",
       "      <td>0</td>\n",
       "      <td>0.0</td>\n",
       "      <td>0.0</td>\n",
       "      <td>0</td>\n",
       "      <td>27.0</td>\n",
       "    </tr>\n",
       "    <tr>\n",
       "      <th>2</th>\n",
       "      <td>SPB-30001</td>\n",
       "      <td>2024-03-14</td>\n",
       "      <td>2024-05-02</td>\n",
       "      <td>49</td>\n",
       "      <td>0</td>\n",
       "      <td>0</td>\n",
       "      <td>0</td>\n",
       "      <td>0</td>\n",
       "      <td>0.0</td>\n",
       "      <td>0.0</td>\n",
       "      <td>0</td>\n",
       "      <td>49.0</td>\n",
       "    </tr>\n",
       "  </tbody>\n",
       "</table>\n",
       "</div>"
      ],
      "text/plain": [
       "       자전거번호    최초_대여시작   마지막_대여시작  대여사이기간 최초_고장신고 마지막_고장신고 전체_고장신고  횟수_고장신고  \\\n",
       "0  SPB-30001 2024-02-08 2024-03-06      27       0        0       0        0   \n",
       "2  SPB-30001 2024-03-14 2024-05-02      49       0        0       0        0   \n",
       "\n",
       "   고장사이기간  고장신고_대기  고장여부  대여대기기간  \n",
       "0     0.0      0.0     0    27.0  \n",
       "2     0.0      0.0     0    49.0  "
      ]
     },
     "execution_count": 216,
     "metadata": {},
     "output_type": "execute_result"
    }
   ],
   "source": [
    "outlier_intervals_df_1.head(2)"
   ]
  },
  {
   "cell_type": "markdown",
   "id": "7a6abe8f-2d86-4007-b52d-113a91646d47",
   "metadata": {},
   "source": [
    "### 이상치 데이터의 고장 비율 확인"
   ]
  },
  {
   "cell_type": "code",
   "execution_count": 201,
   "id": "adc16ebf-2015-42ff-90b0-777450c6ceee",
   "metadata": {},
   "outputs": [
    {
     "data": {
      "text/plain": [
       "고장여부\n",
       "0    44273\n",
       "1    15062\n",
       "Name: count, dtype: int64"
      ]
     },
     "execution_count": 201,
     "metadata": {},
     "output_type": "execute_result"
    }
   ],
   "source": [
    "outlier_intervals_df_1['고장여부'].value_counts()"
   ]
  },
  {
   "cell_type": "code",
   "execution_count": 187,
   "id": "1a0bdfed-8b7d-4a5f-bd70-b39124277a76",
   "metadata": {},
   "outputs": [
    {
     "data": {
      "image/png": "[encoded data removed]",
      "text/plain": [
       "<Figure size 800x600 with 2 Axes>"
      ]
     },
     "metadata": {},
     "output_type": "display_data"
    }
   ],
   "source": [
    "# 상관관계 계산\n",
    "correlation_matrix = outlier_intervals_df_2[['대여대기기간', '대여사이기간', '고장사이기간', '고장신고_대기', '횟수_고장신고', '고장여부']].corr()\n",
    "\n",
    "# 상관관계 히트맵 시각화\n",
    "plt.figure(figsize=(8, 6))\n",
    "sns.heatmap(correlation_matrix, annot=True, cmap='coolwarm', fmt='.2f', linewidths=.5)\n",
    "plt.title('상관관계 매트릭스')\n",
    "plt.show()"
   ]
  }
 ],
 "metadata": {
  "kernelspec": {
   "display_name": "Python 3 (ipykernel)",
   "language": "python",
   "name": "python3"
  },
  "language_info": {
   "codemirror_mode": {
    "name": "ipython",
    "version": 3
   },
   "file_extension": ".py",
   "mimetype": "text/x-python",
   "name": "python",
   "nbconvert_exporter": "python",
   "pygments_lexer": "ipython3",
   "version": "3.12.4"
  }
 },
 "nbformat": 4,
 "nbformat_minor": 5
}
