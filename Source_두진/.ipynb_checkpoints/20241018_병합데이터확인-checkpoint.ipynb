{
 "cells": [
  {
   "cell_type": "markdown",
   "id": "7fd83ef2-74ea-4468-9e58-9f1b8249dead",
   "metadata": {},
   "source": [
    "## 사용자 정의함수 불러오기"
   ]
  },
  {
   "cell_type": "code",
   "execution_count": 2,
   "id": "75cd54e1-6790-407e-88e4-97549e5aa734",
   "metadata": {},
   "outputs": [],
   "source": [
    "# 사용자 정의함수 경로 설정\n",
    "import sys\n",
    "sys.path.append(\"G:/내 드라이브/Source/_Custom_Function\")\n",
    "# 사용자 정의함수 불러오기\n",
    "import ExcelFile_Merge as em\n",
    "import ExcelFile_Read as er"
   ]
  },
  {
   "cell_type": "markdown",
   "id": "4888a0bd-d795-4914-a28c-6d4b6c060a47",
   "metadata": {},
   "source": [
    "---\n",
    "## ExcelFile_Merge"
   ]
  },
  {
   "cell_type": "code",
   "execution_count": 36,
   "id": "ba41124f-406c-4c4c-8bf8-9a49d9185476",
   "metadata": {},
   "outputs": [],
   "source": [
    "path_dateset = 'G:/내 드라이브/DataSet/'"
   ]
  },
  {
   "cell_type": "code",
   "execution_count": 42,
   "id": "c5bee01a-ed63-4668-923c-8cb9fba84553",
   "metadata": {},
   "outputs": [],
   "source": [
    "path_sub = '서울시 따릉이 대여소별 대여 반납 승객수 정보/월 데이터 통합/2021/'"
   ]
  },
  {
   "cell_type": "code",
   "execution_count": 44,
   "id": "f81cab9a-c277-4ac4-beeb-c23d53fa551a",
   "metadata": {},
   "outputs": [
    {
     "name": "stdout",
     "output_type": "stream",
     "text": [
      "path :  G:/내 드라이브/DataSet/서울시 따릉이 대여소별 대여 반납 승객수 정보/월 데이터 통합/2021/\n",
      "file :  tpss_bcycl_od_statnhm_202101.csv, encoding :  EUC-KR\n",
      "file :  tpss_bcycl_od_statnhm_202102.csv, encoding :  EUC-KR\n",
      "file :  tpss_bcycl_od_statnhm_202107.csv, encoding :  EUC-KR\n",
      "file :  tpss_bcycl_od_statnhm_202103.csv, encoding :  EUC-KR\n",
      "file :  tpss_bcycl_od_statnhm_202111.csv, encoding :  EUC-KR\n",
      "file :  tpss_bcycl_od_statnhm_202108.csv, encoding :  EUC-KR\n",
      "file :  tpss_bcycl_od_statnhm_202104.csv, encoding :  EUC-KR\n",
      "file :  tpss_bcycl_od_statnhm_202106.csv, encoding :  EUC-KR\n",
      "file :  tpss_bcycl_od_statnhm_202109.csv, encoding :  EUC-KR\n",
      "file :  tpss_bcycl_od_statnhm_202112.csv, encoding :  EUC-KR\n",
      "file :  tpss_bcycl_od_statnhm_202105.csv, encoding :  EUC-KR\n",
      "file :  tpss_bcycl_od_statnhm_202110.csv, encoding :  EUC-KR\n",
      "file :  tpss_bcycl_od_statnhm_2021.csv, encoding :  utf-8\n"
     ]
    }
   ],
   "source": [
    "em.Check_Encoding(path_dateset, path_sub)"
   ]
  },
  {
   "cell_type": "code",
   "execution_count": 46,
   "id": "7b2d23f6-4581-40ad-9871-5b8fcde6169f",
   "metadata": {},
   "outputs": [
    {
     "name": "stdout",
     "output_type": "stream",
     "text": [
      "path :  G:/내 드라이브/DataSet/서울시 따릉이 대여소별 대여 반납 승객수 정보/월 데이터 통합/2021/\n",
      "read_file - file_path :  G:/내 드라이브/DataSet/서울시 따릉이 대여소별 대여 반납 승객수 정보/월 데이터 통합/2021/tpss_bcycl_od_statnhm_202101.csv , encoding :  EUC-KR\n",
      "==============================================================\n",
      ".csv, tpss_bcycl_od_statnhm_202101.csv, 1593981\n",
      "['기준_날짜', '구분코드', '기준_시간', '시작_대여소ID', '시작_대여소명', '종료_대여소ID', '종료_대여소명', '전체건수', '전체이용시간(분)', '전체이용거리(m)']\n",
      "[20210101, 0, 0, 'ST-2309', '구의1동_026_1', 'ST-1661', '자양4동_005_1', 1, 20, 0.0]\n",
      "read_file - file_path :  G:/내 드라이브/DataSet/서울시 따릉이 대여소별 대여 반납 승객수 정보/월 데이터 통합/2021/tpss_bcycl_od_statnhm_202102.csv , encoding :  EUC-KR\n",
      "==============================================================\n",
      ".csv, tpss_bcycl_od_statnhm_202102.csv, 2346093\n",
      "['기준_날짜', '구분코드', '기준_시간', '시작_대여소ID', '시작_대여소명', '종료_대여소ID', '종료_대여소명', '전체건수', '전체이용시간(분)', '전체이용거리(m)']\n",
      "[20210201, 0, 0, 'ST-523', '우장산동_045_1', 'ST-1249', '등촌3동_042_1', 1, 14, 2952.97]\n",
      "read_file - file_path :  G:/내 드라이브/DataSet/서울시 따릉이 대여소별 대여 반납 승객수 정보/월 데이터 통합/2021/tpss_bcycl_od_statnhm_202107.csv , encoding :  EUC-KR\n",
      "==============================================================\n",
      ".csv, tpss_bcycl_od_statnhm_202107.csv, 6540700\n",
      "['기준_날짜', '구분코드', '기준_시간', '시작_대여소ID', '시작_대여소명', '종료_대여소ID', '종료_대여소명', '전체건수', '전체이용시간(분)', '전체이용거리(m)']\n",
      "[20210701, 1, 0, 'ST-690', '상도2동_052_1', 'ST-690', '상도2동_052_1', 1, 0, 0.0]\n",
      "read_file - file_path :  G:/내 드라이브/DataSet/서울시 따릉이 대여소별 대여 반납 승객수 정보/월 데이터 통합/2021/tpss_bcycl_od_statnhm_202103.csv , encoding :  EUC-KR\n",
      "==============================================================\n",
      ".csv, tpss_bcycl_od_statnhm_202103.csv, 4210028\n",
      "['기준_날짜', '구분코드', '기준_시간', '시작_대여소ID', '시작_대여소명', '종료_대여소ID', '종료_대여소명', '전체건수', '전체이용시간(분)', '전체이용거리(m)']\n",
      "[20210301, 0, 0, 'ST-1199', '성수1가1동_014_3', 'ST-99', '자양3동_050_1', 1, 29, 3124.27]\n",
      "read_file - file_path :  G:/내 드라이브/DataSet/서울시 따릉이 대여소별 대여 반납 승객수 정보/월 데이터 통합/2021/tpss_bcycl_od_statnhm_202111.csv , encoding :  EUC-KR\n",
      "==============================================================\n",
      ".csv, tpss_bcycl_od_statnhm_202111.csv, 5284594\n",
      "['기준_날짜', '구분코드', '기준_시간', '시작_대여소ID', '시작_대여소명', '종료_대여소ID', '종료_대여소명', '전체건수', '전체이용시간(분)', '전체이용거리(m)']\n",
      "[20211101, 0, 0, 'ST-341', '연남동_016_1', 'ST-2533', '성산2동_008_1', 1, 6, 605.0]\n",
      "read_file - file_path :  G:/내 드라이브/DataSet/서울시 따릉이 대여소별 대여 반납 승객수 정보/월 데이터 통합/2021/tpss_bcycl_od_statnhm_202108.csv , encoding :  EUC-KR\n",
      "==============================================================\n",
      ".csv, tpss_bcycl_od_statnhm_202108.csv, 6195583\n",
      "['기준_날짜', '구분코드', '기준_시간', '시작_대여소ID', '시작_대여소명', '종료_대여소ID', '종료_대여소명', '전체건수', '전체이용시간(분)', '전체이용거리(m)']\n",
      "[20210801, 1, 0, 'ST-1347', '안암동_011_1', 'ST-1460', '동선동_020_1', 2, 108, 10625.5]\n",
      "read_file - file_path :  G:/내 드라이브/DataSet/서울시 따릉이 대여소별 대여 반납 승객수 정보/월 데이터 통합/2021/tpss_bcycl_od_statnhm_202104.csv , encoding :  EUC-KR\n",
      "==============================================================\n",
      ".csv, tpss_bcycl_od_statnhm_202104.csv, 5783480\n",
      "['기준_날짜', '구분코드', '기준_시간', '시작_대여소ID', '시작_대여소명', '종료_대여소ID', '종료_대여소명', '전체건수', '전체이용시간(분)', '전체이용거리(m)']\n",
      "[20210401, 1, 0, 'ST-2015', '신월2동_001_1', 'ST-431', '목4동_048_1', 1, 11, 1398.9]\n",
      "read_file - file_path :  G:/내 드라이브/DataSet/서울시 따릉이 대여소별 대여 반납 승객수 정보/월 데이터 통합/2021/tpss_bcycl_od_statnhm_202106.csv , encoding :  EUC-KR\n",
      "==============================================================\n",
      ".csv, tpss_bcycl_od_statnhm_202106.csv, 6649437\n",
      "['기준_날짜', '구분코드', '기준_시간', '시작_대여소ID', '시작_대여소명', '종료_대여소ID', '종료_대여소명', '전체건수', '전체이용시간(분)', '전체이용거리(m)']\n",
      "[20210601, 0, 0, 'ST-328', '남영동_006_1', 'ST-699', '노량진2동_015_1', 1, 50, 6408.79]\n",
      "read_file - file_path :  G:/내 드라이브/DataSet/서울시 따릉이 대여소별 대여 반납 승객수 정보/월 데이터 통합/2021/tpss_bcycl_od_statnhm_202109.csv , encoding :  EUC-KR\n",
      "==============================================================\n",
      ".csv, tpss_bcycl_od_statnhm_202109.csv, 6996169\n",
      "['기준_날짜', '구분코드', '기준_시간', '시작_대여소ID', '시작_대여소명', '종료_대여소ID', '종료_대여소명', '전체건수', '전체이용시간(분)', '전체이용거리(m)']\n",
      "[20210901, 1, 0, 'ST-2085', '중계2·3동_062_1', 'ST-2085', '중계2·3동_062_1', 1, 0, 0.0]\n",
      "read_file - file_path :  G:/내 드라이브/DataSet/서울시 따릉이 대여소별 대여 반납 승객수 정보/월 데이터 통합/2021/tpss_bcycl_od_statnhm_202112.csv , encoding :  EUC-KR\n",
      "==============================================================\n",
      ".csv, tpss_bcycl_od_statnhm_202112.csv, 3594431\n",
      "['기준_날짜', '구분코드', '기준_시간', '시작_대여소ID', '시작_대여소명', '종료_대여소ID', '종료_대여소명', '전체건수', '전체이용시간(분)', '전체이용거리(m)']\n",
      "[20211201, 0, 0, 'ST-1977', '문래동_047_1', 'ST-312', '신정4동_049_1', 1, 20, 3692.54]\n",
      "read_file - file_path :  G:/내 드라이브/DataSet/서울시 따릉이 대여소별 대여 반납 승객수 정보/월 데이터 통합/2021/tpss_bcycl_od_statnhm_202105.csv , encoding :  EUC-KR\n",
      "==============================================================\n",
      ".csv, tpss_bcycl_od_statnhm_202105.csv, 5595561\n",
      "['기준_날짜', '구분코드', '기준_시간', '시작_대여소ID', '시작_대여소명', '종료_대여소ID', '종료_대여소명', '전체건수', '전체이용시간(분)', '전체이용거리(m)']\n",
      "[20210501, 1, 0, 'ST-2574', '풍납2동_049_4', 'ST-1041', '성내1동_033_1', 1, 68, 2561.02]\n",
      "read_file - file_path :  G:/내 드라이브/DataSet/서울시 따릉이 대여소별 대여 반납 승객수 정보/월 데이터 통합/2021/tpss_bcycl_od_statnhm_202110.csv , encoding :  EUC-KR\n",
      "==============================================================\n",
      ".csv, tpss_bcycl_od_statnhm_202110.csv, 6552295\n",
      "['기준_날짜', '구분코드', '기준_시간', '시작_대여소ID', '시작_대여소명', '종료_대여소ID', '종료_대여소명', '전체건수', '전체이용시간(분)', '전체이용거리(m)']\n",
      "[20211001, 1, 0, 'ST-376', '마장동_032_1', 'ST-376', '마장동_032_1', 1, 2, 280.0]\n",
      "read_file - file_path :  G:/내 드라이브/DataSet/서울시 따릉이 대여소별 대여 반납 승객수 정보/월 데이터 통합/2021/tpss_bcycl_od_statnhm_2021.csv , encoding :  utf-8\n",
      "==============================================================\n",
      ".csv, tpss_bcycl_od_statnhm_2021.csv, 61342341\n",
      "['기준_날짜', '구분코드', '기준_시간', '시작_대여소ID', '시작_대여소명', '종료_대여소ID', '종료_대여소명', '전체건수', '전체이용시간(분)', '전체이용거리(m)']\n",
      "[20210101, 0, 0, 'ST-2309', '구의1동_026_1', 'ST-1661', '자양4동_005_1', 1, 20, 0.0]\n"
     ]
    }
   ],
   "source": [
    "em.Check_File(path_dateset, path_sub)"
   ]
  },
  {
   "cell_type": "code",
   "execution_count": null,
   "id": "07f44b68-d991-44b3-b887-6cff0b5defce",
   "metadata": {},
   "outputs": [],
   "source": [
    "em.Merge_File(path_dateset, path_sub, 'tpss_bcycl_od_statnhm_2023')"
   ]
  },
  {
   "cell_type": "markdown",
   "id": "2020ff01-09b3-480d-b0a1-55dcb9f59a4b",
   "metadata": {},
   "source": [
    "---\n",
    "## ExcelFile_Read"
   ]
  },
  {
   "cell_type": "code",
   "execution_count": 3,
   "id": "53fe36da-7df6-437d-97c5-a4c40c576fe1",
   "metadata": {},
   "outputs": [],
   "source": [
    "import time"
   ]
  },
  {
   "cell_type": "code",
   "execution_count": 4,
   "id": "a48c7cfd-c793-4063-b519-1db39bde37ab",
   "metadata": {},
   "outputs": [],
   "source": [
    "file_path = 'G:/내 드라이브/DataSet/_최종 병합 파일/서울특별시 공공자전거 대여소별 이용정보(시간대별)/서울특별시 공공자전거 대여소별 이용정보(시간대별)_2020.csv'"
   ]
  },
  {
   "cell_type": "markdown",
   "id": "e4bdaba6-c322-4261-9336-22105b7bf168",
   "metadata": {},
   "source": [
    "### Read_Chunk"
   ]
  },
  {
   "cell_type": "code",
   "execution_count": 9,
   "id": "33ae7edb-9ccc-4828-9752-83df10016f3e",
   "metadata": {},
   "outputs": [
    {
     "name": "stdout",
     "output_type": "stream",
     "text": [
      " Processed a chunk of size: 1000000\n",
      " Processed a chunk of size: 1000000\n",
      " Processed a chunk of size: 1000000\n",
      " Processed a chunk of size: 1000000\n",
      " Processed a chunk of size: 1000000\n",
      " Processed a chunk of size: 1000000\n",
      " Processed a chunk of size: 1000000\n",
      " Processed a chunk of size: 1000000\n",
      " Processed a chunk of size: 1000000\n",
      " Processed a chunk of size: 1000000\n",
      " Processed a chunk of size: 1000000\n",
      " Processed a chunk of size: 1000000\n",
      " Processed a chunk of size: 1000000\n",
      " Processed a chunk of size: 1000000\n",
      " Processed a chunk of size: 1000000\n",
      " Processed a chunk of size: 1000000\n",
      " Processed a chunk of size: 1000000\n",
      " Processed a chunk of size: 1000000\n",
      " Processed a chunk of size: 1000000\n",
      " Processed a chunk of size: 26024\n",
      "time : 29.838735818862915\n"
     ]
    }
   ],
   "source": [
    "start_time = time.time()  # 시작 시간 저장\n",
    "df_rtn = er.Read_Chunk(file_path)\n",
    "print(\"time :\", time.time() - start_time) # 현재시간 - 시작시간"
   ]
  },
  {
   "cell_type": "markdown",
   "id": "26b6a418-2293-4022-88a7-d078b6ec0af8",
   "metadata": {},
   "source": [
    "### Read_pyarrow"
   ]
  },
  {
   "cell_type": "code",
   "execution_count": 11,
   "id": "61aa4a95-0ef1-42aa-be7c-41f56af49e9e",
   "metadata": {},
   "outputs": [
    {
     "name": "stdout",
     "output_type": "stream",
     "text": [
      "time : 11.664654970169067\n"
     ]
    }
   ],
   "source": [
    "start_time = time.time()  # 시작 시간 저장\n",
    "df_rtn = er.Read_pyarrow(file_path)\n",
    "print(\"time :\", time.time() - start_time) # 현재시간 - 시작시간"
   ]
  },
  {
   "cell_type": "markdown",
   "id": "06e85dc9-1513-4c44-8dff-be4010232672",
   "metadata": {},
   "source": [
    "### Read_dask"
   ]
  },
  {
   "cell_type": "code",
   "execution_count": 13,
   "id": "9f7e74fe-246e-401c-a077-b5d2e0209d3c",
   "metadata": {},
   "outputs": [
    {
     "name": "stdout",
     "output_type": "stream",
     "text": [
      "time : 1.004944086074829\n"
     ]
    }
   ],
   "source": [
    "start_time = time.time()  # 시작 시간 저장\n",
    "_dtype={'성별': 'object',\n",
    "       '운동량': 'object',\n",
    "       '탄소량': 'object'}\n",
    "\n",
    "df_rtn = er.Read_dask(file_path, _dtype)\n",
    "print(\"time :\", time.time() - start_time) # 현재시간 - 시작시간"
   ]
  },
  {
   "cell_type": "code",
   "execution_count": 15,
   "id": "ff200515-e468-446b-92f9-991d7395bb16",
   "metadata": {},
   "outputs": [
    {
     "data": {
      "text/html": [
       "<div>\n",
       "<style scoped>\n",
       "    .dataframe tbody tr th:only-of-type {\n",
       "        vertical-align: middle;\n",
       "    }\n",
       "\n",
       "    .dataframe tbody tr th {\n",
       "        vertical-align: top;\n",
       "    }\n",
       "\n",
       "    .dataframe thead th {\n",
       "        text-align: right;\n",
       "    }\n",
       "</style>\n",
       "<table border=\"1\" class=\"dataframe\">\n",
       "  <thead>\n",
       "    <tr style=\"text-align: right;\">\n",
       "      <th></th>\n",
       "      <th>대여일자</th>\n",
       "      <th>대여시간</th>\n",
       "      <th>대여소번호</th>\n",
       "      <th>대여소명</th>\n",
       "      <th>대여구분코드</th>\n",
       "      <th>성별</th>\n",
       "      <th>연령대코드</th>\n",
       "      <th>이용건수</th>\n",
       "      <th>운동량</th>\n",
       "      <th>탄소량</th>\n",
       "      <th>이동거리</th>\n",
       "      <th>사용시간</th>\n",
       "    </tr>\n",
       "  </thead>\n",
       "  <tbody>\n",
       "    <tr>\n",
       "      <th>0</th>\n",
       "      <td>2020-02-01</td>\n",
       "      <td>0</td>\n",
       "      <td>1442</td>\n",
       "      <td>1442. (구)신한은행 중랑교지점</td>\n",
       "      <td>정기권</td>\n",
       "      <td>NaN</td>\n",
       "      <td>~10대</td>\n",
       "      <td>1</td>\n",
       "      <td>53.86</td>\n",
       "      <td>0.32</td>\n",
       "      <td>1360.0</td>\n",
       "      <td>6</td>\n",
       "    </tr>\n",
       "    <tr>\n",
       "      <th>1</th>\n",
       "      <td>2020-02-01</td>\n",
       "      <td>0</td>\n",
       "      <td>1339</td>\n",
       "      <td>1339. 삼성전자서비스 성북센터</td>\n",
       "      <td>정기권</td>\n",
       "      <td>NaN</td>\n",
       "      <td>~10대</td>\n",
       "      <td>1</td>\n",
       "      <td>10.04</td>\n",
       "      <td>0.09</td>\n",
       "      <td>390.0</td>\n",
       "      <td>3</td>\n",
       "    </tr>\n",
       "    <tr>\n",
       "      <th>2</th>\n",
       "      <td>2020-02-01</td>\n",
       "      <td>0</td>\n",
       "      <td>1960</td>\n",
       "      <td>1960. 화광신문사 앞</td>\n",
       "      <td>정기권</td>\n",
       "      <td>NaN</td>\n",
       "      <td>~10대</td>\n",
       "      <td>1</td>\n",
       "      <td>75.14</td>\n",
       "      <td>0.64</td>\n",
       "      <td>2750.0</td>\n",
       "      <td>24</td>\n",
       "    </tr>\n",
       "    <tr>\n",
       "      <th>3</th>\n",
       "      <td>2020-02-01</td>\n",
       "      <td>0</td>\n",
       "      <td>394</td>\n",
       "      <td>394. 경희궁 자이 3단지</td>\n",
       "      <td>정기권</td>\n",
       "      <td>NaN</td>\n",
       "      <td>~10대</td>\n",
       "      <td>1</td>\n",
       "      <td>28.42</td>\n",
       "      <td>0.18</td>\n",
       "      <td>780.0</td>\n",
       "      <td>3</td>\n",
       "    </tr>\n",
       "    <tr>\n",
       "      <th>4</th>\n",
       "      <td>2020-02-01</td>\n",
       "      <td>0</td>\n",
       "      <td>1364</td>\n",
       "      <td>1364. 성북동 치안센터 앞</td>\n",
       "      <td>정기권</td>\n",
       "      <td>NaN</td>\n",
       "      <td>~10대</td>\n",
       "      <td>1</td>\n",
       "      <td>52.97</td>\n",
       "      <td>0.41</td>\n",
       "      <td>1760.0</td>\n",
       "      <td>11</td>\n",
       "    </tr>\n",
       "  </tbody>\n",
       "</table>\n",
       "</div>"
      ],
      "text/plain": [
       "         대여일자  대여시간  대여소번호                 대여소명 대여구분코드   성별 연령대코드  이용건수  \\\n",
       "0  2020-02-01     0   1442  1442. (구)신한은행 중랑교지점    정기권  NaN  ~10대     1   \n",
       "1  2020-02-01     0   1339   1339. 삼성전자서비스 성북센터    정기권  NaN  ~10대     1   \n",
       "2  2020-02-01     0   1960        1960. 화광신문사 앞    정기권  NaN  ~10대     1   \n",
       "3  2020-02-01     0    394      394. 경희궁 자이 3단지    정기권  NaN  ~10대     1   \n",
       "4  2020-02-01     0   1364     1364. 성북동 치안센터 앞    정기권  NaN  ~10대     1   \n",
       "\n",
       "     운동량   탄소량    이동거리  사용시간  \n",
       "0  53.86  0.32  1360.0     6  \n",
       "1  10.04  0.09   390.0     3  \n",
       "2  75.14  0.64  2750.0    24  \n",
       "3  28.42  0.18   780.0     3  \n",
       "4  52.97  0.41  1760.0    11  "
      ]
     },
     "execution_count": 15,
     "metadata": {},
     "output_type": "execute_result"
    }
   ],
   "source": [
    "df_rtn.head()"
   ]
  },
  {
   "cell_type": "code",
   "execution_count": null,
   "id": "64cbb1f9-6470-4d0e-9195-a3edcd2ad18c",
   "metadata": {},
   "outputs": [],
   "source": []
  }
 ],
 "metadata": {
  "kernelspec": {
   "display_name": "Python 3 (ipykernel)",
   "language": "python",
   "name": "python3"
  },
  "language_info": {
   "codemirror_mode": {
    "name": "ipython",
    "version": 3
   },
   "file_extension": ".py",
   "mimetype": "text/x-python",
   "name": "python",
   "nbconvert_exporter": "python",
   "pygments_lexer": "ipython3",
   "version": "3.12.4"
  }
 },
 "nbformat": 4,
 "nbformat_minor": 5
}
