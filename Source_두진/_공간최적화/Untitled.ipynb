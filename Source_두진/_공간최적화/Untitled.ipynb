{
 "cells": [
  {
   "cell_type": "code",
   "execution_count": 1,
   "id": "e1b277f3-b866-458f-ab0e-1d282e89fb99",
   "metadata": {},
   "outputs": [],
   "source": [
    "import folium\n",
    "import numpy as np\n",
    "import pandas as pd\n",
    "\n",
    "# 서울시 중심 좌표로 기본 지도 생성\n",
    "seoul_center = [37.5665, 126.9780]\n",
    "m = folium.Map(location=seoul_center, zoom_start=11)\n",
    "\n",
    "# 격자 데이터 생성\n",
    "grid_size = 50  # 격자 크기 (미터 단위)\n",
    "lat_range = np.arange(37.4, 37.7, 0.005)  # 위도 범위\n",
    "lon_range = np.arange(126.8, 127.2, 0.005)  # 경도 범위\n",
    "\n",
    "# 격자에 임의의 밀도 정보 할당 (실제 데이터로 대체 필요)\n",
    "grid_data = pd.DataFrame({\n",
    "    'lat': np.repeat(lat_range, len(lon_range)),\n",
    "    'lon': np.tile(lon_range, len(lat_range)),\n",
    "    'density': np.random.randint(0, 100, size=len(lat_range)*len(lon_range))\n",
    "})\n",
    "\n",
    "# 격자를 지도에 시각화\n",
    "for _, row in grid_data.iterrows():\n",
    "    folium.Rectangle(\n",
    "        bounds=[(row['lat'], row['lon']), (row['lat'] + 0.005, row['lon'] + 0.005)],\n",
    "        color='red',\n",
    "        weight=1,\n",
    "        fill=True,\n",
    "        fill_color='red',\n",
    "        fill_opacity=row['density'] / 100,\n",
    "        popup=f\"Density: {row['density']}\"\n",
    "    ).add_to(m)\n",
    "\n",
    "# 지도 저장\n",
    "m.save(\"seoul_density_grid.html\")"
   ]
  },
  {
   "cell_type": "code",
   "execution_count": 3,
   "id": "b5fcae54-05ee-400d-8fbc-48ab9626ed90",
   "metadata": {},
   "outputs": [
    {
     "data": {
      "text/plain": [
       "True"
      ]
     },
     "execution_count": 3,
     "metadata": {},
     "output_type": "execute_result"
    }
   ],
   "source": [
    "import webbrowser\n",
    "webbrowser.open(\"seoul_density_grid.html\")"
   ]
  },
  {
   "cell_type": "code",
   "execution_count": null,
   "id": "79f227fc-14de-4475-9090-5067420b704d",
   "metadata": {},
   "outputs": [],
   "source": []
  }
 ],
 "metadata": {
  "kernelspec": {
   "display_name": "Python 3 (ipykernel)",
   "language": "python",
   "name": "python3"
  },
  "language_info": {
   "codemirror_mode": {
    "name": "ipython",
    "version": 3
   },
   "file_extension": ".py",
   "mimetype": "text/x-python",
   "name": "python",
   "nbconvert_exporter": "python",
   "pygments_lexer": "ipython3",
   "version": "3.12.4"
  }
 },
 "nbformat": 4,
 "nbformat_minor": 5
}
