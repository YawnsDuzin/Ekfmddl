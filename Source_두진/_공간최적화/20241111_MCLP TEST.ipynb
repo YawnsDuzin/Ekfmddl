{
 "cells": [
  {
   "cell_type": "markdown",
   "id": "c9af852a-2555-432e-a29a-2a9f4a576ec1",
   "metadata": {},
   "source": [
    "### 2.1 필요한 라이브러리 설치"
   ]
  },
  {
   "cell_type": "code",
   "execution_count": 41,
   "id": "f907c80c-e32a-471a-8249-a403cf310270",
   "metadata": {},
   "outputs": [
    {
     "name": "stdout",
     "output_type": "stream",
     "text": [
      "Requirement already satisfied: geopandas in c:\\users\\user\\anaconda3\\lib\\site-packages (1.0.1)\n",
      "Requirement already satisfied: folium in c:\\users\\user\\anaconda3\\lib\\site-packages (0.17.0)\n",
      "Requirement already satisfied: pysal in c:\\users\\user\\anaconda3\\lib\\site-packages (24.7)\n",
      "Requirement already satisfied: spopt in c:\\users\\user\\anaconda3\\lib\\site-packages (0.6.1)\n",
      "Requirement already satisfied: numpy>=1.22 in c:\\users\\user\\anaconda3\\lib\\site-packages (from geopandas) (1.26.4)\n",
      "Requirement already satisfied: pyogrio>=0.7.2 in c:\\users\\user\\anaconda3\\lib\\site-packages (from geopandas) (0.10.0)\n",
      "Requirement already satisfied: packaging in c:\\users\\user\\anaconda3\\lib\\site-packages (from geopandas) (23.2)\n",
      "Requirement already satisfied: pandas>=1.4.0 in c:\\users\\user\\anaconda3\\lib\\site-packages (from geopandas) (2.2.2)\n",
      "Requirement already satisfied: pyproj>=3.3.0 in c:\\users\\user\\anaconda3\\lib\\site-packages (from geopandas) (3.7.0)\n",
      "Requirement already satisfied: shapely>=2.0.0 in c:\\users\\user\\anaconda3\\lib\\site-packages (from geopandas) (2.0.6)\n",
      "Requirement already satisfied: branca>=0.6.0 in c:\\users\\user\\anaconda3\\lib\\site-packages (from folium) (0.8.0)\n",
      "Requirement already satisfied: jinja2>=2.9 in c:\\users\\user\\anaconda3\\lib\\site-packages (from folium) (3.1.4)\n",
      "Requirement already satisfied: requests in c:\\users\\user\\anaconda3\\lib\\site-packages (from folium) (2.32.2)\n",
      "Requirement already satisfied: xyzservices in c:\\users\\user\\anaconda3\\lib\\site-packages (from folium) (2022.9.0)\n",
      "Requirement already satisfied: beautifulsoup4>=4.10 in c:\\users\\user\\anaconda3\\lib\\site-packages (from pysal) (4.12.3)\n",
      "Requirement already satisfied: platformdirs>=2.0.2 in c:\\users\\user\\appdata\\roaming\\python\\python312\\site-packages (from pysal) (4.2.2)\n",
      "Requirement already satisfied: scipy>=1.8 in c:\\users\\user\\anaconda3\\lib\\site-packages (from pysal) (1.13.1)\n",
      "Requirement already satisfied: scikit-learn>=1.1 in c:\\users\\user\\anaconda3\\lib\\site-packages (from pysal) (1.4.2)\n",
      "Requirement already satisfied: libpysal>=4.12.0 in c:\\users\\user\\anaconda3\\lib\\site-packages (from pysal) (4.12.1)\n",
      "Requirement already satisfied: access>=1.1.9 in c:\\users\\user\\anaconda3\\lib\\site-packages (from pysal) (1.1.9)\n",
      "Requirement already satisfied: esda>=2.6.0 in c:\\users\\user\\anaconda3\\lib\\site-packages (from pysal) (2.6.0)\n",
      "Requirement already satisfied: giddy>=2.3.5 in c:\\users\\user\\anaconda3\\lib\\site-packages (from pysal) (2.3.5)\n",
      "Requirement already satisfied: inequality>=1.0.1 in c:\\users\\user\\anaconda3\\lib\\site-packages (from pysal) (1.0.1)\n",
      "Requirement already satisfied: pointpats>=2.5.0 in c:\\users\\user\\anaconda3\\lib\\site-packages (from pysal) (2.5.1)\n",
      "Requirement already satisfied: segregation>=2.5 in c:\\users\\user\\anaconda3\\lib\\site-packages (from pysal) (2.5.1)\n",
      "Requirement already satisfied: spaghetti>=1.7.6 in c:\\users\\user\\anaconda3\\lib\\site-packages (from pysal) (1.7.6)\n",
      "Requirement already satisfied: mgwr>=2.2.1 in c:\\users\\user\\anaconda3\\lib\\site-packages (from pysal) (2.2.1)\n",
      "Requirement already satisfied: momepy>=0.7.2 in c:\\users\\user\\anaconda3\\lib\\site-packages (from pysal) (0.8.1)\n",
      "Requirement already satisfied: spglm>=1.1.0 in c:\\users\\user\\anaconda3\\lib\\site-packages (from pysal) (1.1.0)\n",
      "Requirement already satisfied: spint>=1.0.7 in c:\\users\\user\\anaconda3\\lib\\site-packages (from pysal) (1.0.7)\n",
      "Requirement already satisfied: spreg>=1.5.0 in c:\\users\\user\\anaconda3\\lib\\site-packages (from pysal) (1.8)\n",
      "Requirement already satisfied: spvcm>=0.3.0 in c:\\users\\user\\anaconda3\\lib\\site-packages (from pysal) (0.3.0)\n",
      "Requirement already satisfied: tobler>=0.11.2 in c:\\users\\user\\anaconda3\\lib\\site-packages (from pysal) (0.12.0)\n",
      "Requirement already satisfied: mapclassify>=2.7.0 in c:\\users\\user\\anaconda3\\lib\\site-packages (from pysal) (2.8.1)\n",
      "Requirement already satisfied: splot>=1.1.5.post1 in c:\\users\\user\\anaconda3\\lib\\site-packages (from pysal) (1.1.7)\n",
      "Requirement already satisfied: networkx>=2.7 in c:\\users\\user\\anaconda3\\lib\\site-packages (from spopt) (3.2.1)\n",
      "Requirement already satisfied: pulp>=2.7 in c:\\users\\user\\anaconda3\\lib\\site-packages (from spopt) (2.9.0)\n",
      "Requirement already satisfied: tqdm>=4.63.0 in c:\\users\\user\\anaconda3\\lib\\site-packages (from spopt) (4.66.4)\n",
      "Requirement already satisfied: soupsieve>1.2 in c:\\users\\user\\anaconda3\\lib\\site-packages (from beautifulsoup4>=4.10->pysal) (2.5)\n",
      "Requirement already satisfied: quantecon>=0.4.7 in c:\\users\\user\\anaconda3\\lib\\site-packages (from giddy>=2.3.5->pysal) (0.7.2)\n",
      "Requirement already satisfied: MarkupSafe>=2.0 in c:\\users\\user\\anaconda3\\lib\\site-packages (from jinja2>=2.9->folium) (2.1.3)\n",
      "Requirement already satisfied: python-dateutil>=2.8.2 in c:\\users\\user\\appdata\\roaming\\python\\python312\\site-packages (from pandas>=1.4.0->geopandas) (2.9.0.post0)\n",
      "Requirement already satisfied: pytz>=2020.1 in c:\\users\\user\\anaconda3\\lib\\site-packages (from pandas>=1.4.0->geopandas) (2024.1)\n",
      "Requirement already satisfied: tzdata>=2022.7 in c:\\users\\user\\anaconda3\\lib\\site-packages (from pandas>=1.4.0->geopandas) (2023.3)\n",
      "Requirement already satisfied: matplotlib>=3.6 in c:\\users\\user\\anaconda3\\lib\\site-packages (from pointpats>=2.5.0->pysal) (3.9.2)\n",
      "Requirement already satisfied: certifi in c:\\users\\user\\anaconda3\\lib\\site-packages (from pyogrio>=0.7.2->geopandas) (2024.7.4)\n",
      "Requirement already satisfied: charset-normalizer<4,>=2 in c:\\users\\user\\anaconda3\\lib\\site-packages (from requests->folium) (2.0.4)\n",
      "Requirement already satisfied: idna<4,>=2.5 in c:\\users\\user\\anaconda3\\lib\\site-packages (from requests->folium) (3.7)\n",
      "Requirement already satisfied: urllib3<3,>=1.21.1 in c:\\users\\user\\anaconda3\\lib\\site-packages (from requests->folium) (2.2.2)\n",
      "Requirement already satisfied: joblib>=1.2.0 in c:\\users\\user\\anaconda3\\lib\\site-packages (from scikit-learn>=1.1->pysal) (1.4.2)\n",
      "Requirement already satisfied: threadpoolctl>=2.0.0 in c:\\users\\user\\anaconda3\\lib\\site-packages (from scikit-learn>=1.1->pysal) (2.2.0)\n",
      "Requirement already satisfied: deprecation in c:\\users\\user\\anaconda3\\lib\\site-packages (from segregation>=2.5->pysal) (2.1.0)\n",
      "Requirement already satisfied: seaborn in c:\\users\\user\\anaconda3\\lib\\site-packages (from segregation>=2.5->pysal) (0.13.2)\n",
      "Requirement already satisfied: numba in c:\\users\\user\\anaconda3\\lib\\site-packages (from segregation>=2.5->pysal) (0.59.1)\n",
      "Requirement already satisfied: rtree>=1.0 in c:\\users\\user\\anaconda3\\lib\\site-packages (from spaghetti>=1.7.6->pysal) (1.0.1)\n",
      "Requirement already satisfied: rasterio in c:\\users\\user\\anaconda3\\lib\\site-packages (from tobler>=0.11.2->pysal) (1.4.2)\n",
      "Requirement already satisfied: statsmodels in c:\\users\\user\\anaconda3\\lib\\site-packages (from tobler>=0.11.2->pysal) (0.14.2)\n",
      "Requirement already satisfied: rasterstats in c:\\users\\user\\anaconda3\\lib\\site-packages (from tobler>=0.11.2->pysal) (0.20.0)\n",
      "Requirement already satisfied: colorama in c:\\users\\user\\appdata\\roaming\\python\\python312\\site-packages (from tqdm>=4.63.0->spopt) (0.4.6)\n",
      "Requirement already satisfied: contourpy>=1.0.1 in c:\\users\\user\\anaconda3\\lib\\site-packages (from matplotlib>=3.6->pointpats>=2.5.0->pysal) (1.2.0)\n",
      "Requirement already satisfied: cycler>=0.10 in c:\\users\\user\\anaconda3\\lib\\site-packages (from matplotlib>=3.6->pointpats>=2.5.0->pysal) (0.11.0)\n",
      "Requirement already satisfied: fonttools>=4.22.0 in c:\\users\\user\\anaconda3\\lib\\site-packages (from matplotlib>=3.6->pointpats>=2.5.0->pysal) (4.51.0)\n",
      "Requirement already satisfied: kiwisolver>=1.3.1 in c:\\users\\user\\anaconda3\\lib\\site-packages (from matplotlib>=3.6->pointpats>=2.5.0->pysal) (1.4.4)\n",
      "Requirement already satisfied: pillow>=8 in c:\\users\\user\\anaconda3\\lib\\site-packages (from matplotlib>=3.6->pointpats>=2.5.0->pysal) (10.3.0)\n",
      "Requirement already satisfied: pyparsing>=2.3.1 in c:\\users\\user\\anaconda3\\lib\\site-packages (from matplotlib>=3.6->pointpats>=2.5.0->pysal) (3.0.9)\n",
      "Requirement already satisfied: six>=1.5 in c:\\users\\user\\appdata\\roaming\\python\\python312\\site-packages (from python-dateutil>=2.8.2->pandas>=1.4.0->geopandas) (1.16.0)\n",
      "Requirement already satisfied: sympy in c:\\users\\user\\anaconda3\\lib\\site-packages (from quantecon>=0.4.7->giddy>=2.3.5->pysal) (1.12)\n",
      "Requirement already satisfied: llvmlite<0.43,>=0.42.0dev0 in c:\\users\\user\\anaconda3\\lib\\site-packages (from numba->segregation>=2.5->pysal) (0.42.0)\n",
      "Requirement already satisfied: affine in c:\\users\\user\\anaconda3\\lib\\site-packages (from rasterio->tobler>=0.11.2->pysal) (2.4.0)\n",
      "Requirement already satisfied: attrs in c:\\users\\user\\anaconda3\\lib\\site-packages (from rasterio->tobler>=0.11.2->pysal) (23.1.0)\n",
      "Requirement already satisfied: click>=4.0 in c:\\users\\user\\anaconda3\\lib\\site-packages (from rasterio->tobler>=0.11.2->pysal) (8.1.7)\n",
      "Requirement already satisfied: cligj>=0.5 in c:\\users\\user\\anaconda3\\lib\\site-packages (from rasterio->tobler>=0.11.2->pysal) (0.7.2)\n",
      "Requirement already satisfied: click-plugins in c:\\users\\user\\anaconda3\\lib\\site-packages (from rasterio->tobler>=0.11.2->pysal) (1.1.1)\n",
      "Requirement already satisfied: fiona in c:\\users\\user\\anaconda3\\lib\\site-packages (from rasterstats->tobler>=0.11.2->pysal) (1.10.1)\n",
      "Requirement already satisfied: simplejson in c:\\users\\user\\anaconda3\\lib\\site-packages (from rasterstats->tobler>=0.11.2->pysal) (3.19.3)\n",
      "Requirement already satisfied: patsy>=0.5.6 in c:\\users\\user\\anaconda3\\lib\\site-packages (from statsmodels->tobler>=0.11.2->pysal) (0.5.6)\n",
      "Requirement already satisfied: mpmath>=0.19 in c:\\users\\user\\anaconda3\\lib\\site-packages (from sympy->quantecon>=0.4.7->giddy>=2.3.5->pysal) (1.3.0)\n"
     ]
    }
   ],
   "source": [
    "!pip install geopandas folium pysal spopt"
   ]
  },
  {
   "cell_type": "markdown",
   "id": "44b521f0-263b-4855-85fb-b4064d0f3880",
   "metadata": {},
   "source": [
    "### 2.2 데이터 준비\n",
    "- 자전거 대여소의 위치 데이터와 유동인구, 자전거 이용량 등의 데이터를 준비합니다.\r\n"
   ]
  },
  {
   "cell_type": "code",
   "execution_count": 48,
   "id": "722c6674-ed87-4ad6-8ff0-3002381e5859",
   "metadata": {},
   "outputs": [],
   "source": [
    "from spopt.locate import PMedian\n",
    "import geopandas as gpd\n",
    "from shapely.geometry import Point\n",
    "\n",
    "# 자전거 대여소 데이터 (위도, 경도, 유동인구)\n",
    "data = {\n",
    "    '대여소명': ['망원역 1번출구 앞', '합정역 2번출구 앞', '홍대입구역 3번출구 앞'],\n",
    "    '위도': [37.556, 37.550, 37.558],\n",
    "    '경도': [126.910, 126.914, 126.923],\n",
    "    '유동인구': [1000, 1500, 1200]\n",
    "}\n",
    "\n",
    "# DataFrame 생성\n",
    "df = pd.DataFrame(data)\n",
    "\n",
    "# GeoDataFrame으로 변환\n",
    "geometry = [Point(xy) for xy in zip(df['경도'], df['위도'])]\n",
    "gdf = gpd.GeoDataFrame(df, geometry=geometry)"
   ]
  },
  {
   "cell_type": "markdown",
   "id": "927eac74-8d73-457b-97cc-b4701ab63c94",
   "metadata": {},
   "source": [
    "### 2.3 최적화 모델 정의 (Location-Allocation Model)\n",
    "- spopt 라이브러리를 사용하여 시설 입지 문제를 해결하는 모델을 정의할 수 있습니다. 여기서는 Location-Allocation 문제를 풀어 자전거 대여소의 최적 위치를 선정합니다."
   ]
  },
  {
   "cell_type": "code",
   "execution_count": 54,
   "id": "009ec488-d164-4065-acdd-ab6deec4c6ef",
   "metadata": {},
   "outputs": [
    {
     "ename": "TypeError",
     "evalue": "PMedian.solve() missing 1 required positional argument: 'solver'",
     "output_type": "error",
     "traceback": [
      "\u001b[1;31m---------------------------------------------------------------------------\u001b[0m",
      "\u001b[1;31mTypeError\u001b[0m                                 Traceback (most recent call last)",
      "Cell \u001b[1;32mIn[54], line 16\u001b[0m\n\u001b[0;32m      6\u001b[0m p_median \u001b[38;5;241m=\u001b[39m PMedian\u001b[38;5;241m.\u001b[39mfrom_geodataframe(\n\u001b[0;32m      7\u001b[0m     gdf_demand,\n\u001b[0;32m      8\u001b[0m     gdf_fac,\n\u001b[1;32m   (...)\u001b[0m\n\u001b[0;32m     12\u001b[0m     p_facilities\u001b[38;5;241m=\u001b[39m\u001b[38;5;241m2\u001b[39m               \u001b[38;5;66;03m# 선택할 대여소 개수\u001b[39;00m\n\u001b[0;32m     13\u001b[0m )\n\u001b[0;32m     15\u001b[0m \u001b[38;5;66;03m# 모델 실행\u001b[39;00m\n\u001b[1;32m---> 16\u001b[0m \u001b[43mp_median\u001b[49m\u001b[38;5;241;43m.\u001b[39;49m\u001b[43msolve\u001b[49m\u001b[43m(\u001b[49m\u001b[43m)\u001b[49m\n\u001b[0;32m     18\u001b[0m \u001b[38;5;66;03m# 결과 출력 (선정된 대여소)\u001b[39;00m\n\u001b[0;32m     19\u001b[0m selected_facilities \u001b[38;5;241m=\u001b[39m gdf_fac\u001b[38;5;241m.\u001b[39miloc[p_median\u001b[38;5;241m.\u001b[39mfacility_array_]\n",
      "\u001b[1;31mTypeError\u001b[0m: PMedian.solve() missing 1 required positional argument: 'solver'"
     ]
    }
   ],
   "source": [
    "# 수요 지점과 시설 후보지로 나누기 (여기서는 같은 데이터프레임을 사용하지만 실제로는 다를 수 있음)\n",
    "gdf_demand = gdf[['geometry', '유동인구']]  # 수요 지점 (유동인구 포함)\n",
    "gdf_fac = gdf[['geometry']]                 # 시설 후보지\n",
    "\n",
    "# P-median 모델 생성 (대여소 개수 설정)\n",
    "p_median = PMedian.from_geodataframe(\n",
    "    gdf_demand,\n",
    "    gdf_fac,\n",
    "    demand_col=\"geometry\",       # 수요 지점의 좌표\n",
    "    facility_col=\"geometry\",     # 대여소 후보지의 좌표\n",
    "    weights_cols=\"유동인구\",     # 각 수요 지점의 가중치 (유동인구)\n",
    "    p_facilities=2               # 선택할 대여소 개수\n",
    ")\n",
    "\n",
    "# 모델 실행\n",
    "p_median.solve()\n",
    "\n",
    "# 결과 출력 (선정된 대여소)\n",
    "selected_facilities = gdf_fac.iloc[p_median.facility_array_]\n",
    "print(selected_facilities)"
   ]
  },
  {
   "cell_type": "markdown",
   "id": "01ee9bd9-05d1-4831-8e03-7819daadd4ad",
   "metadata": {},
   "source": [
    "### 2.4 결과 시각화\r",
    "- \n",
    "Folium을 사용하여 선정된 대여소 위치를 지도에 시각화합니다."
   ]
  },
  {
   "cell_type": "code",
   "execution_count": null,
   "id": "c4880f9b-c082-433b-9dbe-82e0c1bcaa73",
   "metadata": {},
   "outputs": [],
   "source": [
    "import folium\n",
    "\n",
    "# 지도 생성 (서울 중심 좌표 설정)\n",
    "m = folium.Map(location=[37.550, 126.920], zoom_start=13)\n",
    "\n",
    "# 기존 대여소 표시\n",
    "for idx, row in gdf.iterrows():\n",
    "    folium.Marker(\n",
    "        location=[row['위도'], row['경도']],\n",
    "        popup=f\"{row['대여소명']}\\n유동인구: {row['유동인구']}\\n이용량: {row['이용량']}\",\n",
    "        icon=folium.Icon(color='blue')\n",
    "    ).add_to(m)\n",
    "\n",
    "# 선택된 최적 대여소 표시 (초록색 마커)\n",
    "for idx, row in selected_facilities.iterrows():\n",
    "    folium.Marker(\n",
    "        location=[row.geometry.y, row.geometry.x],\n",
    "        popup=f\"선정된 대여소\",\n",
    "        icon=folium.Icon(color='green')\n",
    "    ).add_to(m)\n",
    "\n",
    "# 지도 출력\n",
    "m.save('optimal_bikeshare_map.html')\n",
    "m"
   ]
  }
 ],
 "metadata": {
  "kernelspec": {
   "display_name": "Python 3 (ipykernel)",
   "language": "python",
   "name": "python3"
  },
  "language_info": {
   "codemirror_mode": {
    "name": "ipython",
    "version": 3
   },
   "file_extension": ".py",
   "mimetype": "text/x-python",
   "name": "python",
   "nbconvert_exporter": "python",
   "pygments_lexer": "ipython3",
   "version": "3.12.4"
  }
 },
 "nbformat": 4,
 "nbformat_minor": 5
}
