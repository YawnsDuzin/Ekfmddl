{
 "cells": [
  {
   "cell_type": "code",
   "execution_count": null,
   "id": "1c78ad7f-f62c-492b-937a-d0d8ac6623c6",
   "metadata": {},
   "outputs": [
    {
     "ename": "",
     "evalue": "",
     "output_type": "error",
     "traceback": [
      "\u001b[1;31m누락된 모듈 'packaging' 때문에 kernel을 시작하지 못했습니다. 이 모듈을 설치하는 것을 고려하세요.\n",
      "\u001b[1;31m자세한 내용을 보려면 <a href='https://aka.ms/kernelFailuresMissingModule'>여기</a>를 클릭합니다."
     ]
    }
   ],
   "source": [
    "# pip install folium, streamlit, streamlit_folium"
   ]
  },
  {
   "cell_type": "code",
   "execution_count": null,
   "id": "0c2f23e8-3583-4eb7-b180-677ea8cf5713",
   "metadata": {},
   "outputs": [
    {
     "ename": "",
     "evalue": "",
     "output_type": "error",
     "traceback": [
      "\u001b[1;31m누락된 모듈 'packaging' 때문에 kernel을 시작하지 못했습니다. 이 모듈을 설치하는 것을 고려하세요.\n",
      "\u001b[1;31m자세한 내용을 보려면 <a href='https://aka.ms/kernelFailuresMissingModule'>여기</a>를 클릭합니다."
     ]
    }
   ],
   "source": [
    "import folium\n",
    "import streamlit as st\n",
    "\n",
    "from streamlit_folium import st_folium\n",
    "\n",
    "# center on Liberty Bell, add marker\n",
    "m = folium.Map(location=[39.949610, -75.150282], zoom_start=16)\n",
    "folium.Marker(\n",
    "    [39.949610, -75.150282], popup=\"Liberty Bell\", tooltip=\"Liberty Bell\"\n",
    ").add_to(m)\n",
    "\n",
    "# call to render Folium map in Streamlit\n",
    "st_data = st_folium(m, width=725)"
   ]
  }
 ],
 "metadata": {
  "kernelspec": {
   "display_name": "Python 3",
   "language": "python",
   "name": "python3"
  },
  "language_info": {
   "codemirror_mode": {
    "name": "ipython",
    "version": 3
   },
   "file_extension": ".py",
   "mimetype": "text/x-python",
   "name": "python",
   "nbconvert_exporter": "python",
   "pygments_lexer": "ipython3",
   "version": "3.12.4"
  }
 },
 "nbformat": 4,
 "nbformat_minor": 5
}
