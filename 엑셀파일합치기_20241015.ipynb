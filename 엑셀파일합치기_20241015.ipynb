{
 "cells": [
  {
   "cell_type": "markdown",
   "id": "a63d1ca6-9e94-486e-b746-8a76e7a35ecb",
   "metadata": {},
   "source": [
    "### 라이브러리 임포트"
   ]
  },
  {
   "cell_type": "code",
   "execution_count": 2,
   "id": "428dc1ef-fef0-4ab9-9ad1-b285e25860d9",
   "metadata": {},
   "outputs": [],
   "source": [
    "import os\n",
    "import pandas as pd"
   ]
  },
  {
   "cell_type": "markdown",
   "id": "cca518b9-919e-4018-8542-3a8de9290fc4",
   "metadata": {},
   "source": [
    "### 기본경로 설정"
   ]
  },
  {
   "cell_type": "code",
   "execution_count": 4,
   "id": "21a2c01b-0505-4297-9ad9-30845d1d1cc8",
   "metadata": {},
   "outputs": [],
   "source": [
    "path_dateset = 'G:/내 드라이브/DataSet/'"
   ]
  },
  {
   "cell_type": "markdown",
   "id": "281e4df1-4a75-4b57-8a09-2be6063a84ea",
   "metadata": {},
   "source": [
    "### 확장자 가져오기 (Ex) .csv, .xlsx"
   ]
  },
  {
   "cell_type": "code",
   "execution_count": 8,
   "id": "e113aae7-4b38-4fc1-9119-d785be27d199",
   "metadata": {},
   "outputs": [],
   "source": [
    "def extract_extension(file_path):\n",
    "    _, file_extension = os.path.splitext(file_path)\n",
    "    return file_extension"
   ]
  },
  {
   "cell_type": "code",
   "execution_count": 10,
   "id": "6bfcb1be-e3d6-4c28-b3be-136b6f24daf6",
   "metadata": {},
   "outputs": [
    {
     "data": {
      "text/plain": [
       "'.csv'"
      ]
     },
     "execution_count": 10,
     "metadata": {},
     "output_type": "execute_result"
    }
   ],
   "source": [
    "extract_extension('G:/내 드라이브/DataSet/서울특별시 공공자전거 이용정보(일별)/서울특별시 공공자전거 이용정보(일별)_2406.csv')"
   ]
  },
  {
   "cell_type": "markdown",
   "id": "6d321cd8-967b-427f-bad1-e185b4717b08",
   "metadata": {},
   "source": [
    "### 파일명 가져오기"
   ]
  },
  {
   "cell_type": "code",
   "execution_count": 13,
   "id": "43ae0d00-0162-4823-b7dc-1ab47ece2f19",
   "metadata": {},
   "outputs": [],
   "source": [
    "def extract_filename(file_path):\n",
    "    file_name = os.path.basename(file_path)\n",
    "    filename_without_extension, _ = os.path.splitext(file_name)\n",
    "    return filename_without_extension"
   ]
  },
  {
   "cell_type": "code",
   "execution_count": 15,
   "id": "d34538c4-8615-4adc-8c00-599f9e8d39c0",
   "metadata": {},
   "outputs": [
    {
     "data": {
      "text/plain": [
       "'서울특별시 공공자전거 이용정보(일별)_2406'"
      ]
     },
     "execution_count": 15,
     "metadata": {},
     "output_type": "execute_result"
    }
   ],
   "source": [
    "extract_filename('G:/내 드라이브/DataSet/서울특별시 공공자전거 이용정보(일별)/서울특별시 공공자전거 이용정보(일별)_2406.csv')"
   ]
  },
  {
   "cell_type": "markdown",
   "id": "613221c9-9fb4-428e-b00c-d747613572a2",
   "metadata": {},
   "source": [
    "### 파일 읽기"
   ]
  },
  {
   "cell_type": "code",
   "execution_count": 18,
   "id": "931073fe-015b-4f6f-b5c5-36e57f468c9a",
   "metadata": {},
   "outputs": [],
   "source": [
    "def read_file(file_path):\n",
    "    extension = extract_extension(file_path)\n",
    "   \n",
    "    if \".xlsx\" == extension:\n",
    "        return pd.read_excel(file_path)\n",
    "    if \".csv\" == extension:\n",
    "        try:\n",
    "            return pd.read_csv(file_path, encoding='utf-8')\n",
    "        except BaseException as e:\n",
    "            return pd.read_csv(file_path, encoding='cp949')"
   ]
  },
  {
   "cell_type": "code",
   "execution_count": 20,
   "id": "f5db6e8e-1b8e-45cd-a6f3-204768869d3b",
   "metadata": {},
   "outputs": [],
   "source": [
    "def read2_file(file_path):\n",
    "    try:\n",
    "        extension = extract_extension(file_path)\n",
    "        if \".xlsx\" == extension:\n",
    "            return pd.read_excel(file_path)\n",
    "        if \".csv\" == extension:\n",
    "            return pd.read_csv(file_path, encoding='cp949')\n",
    "            #return pd.read_csv(file_path, encoding='utf-8')\n",
    "    except BaseException as e:\n",
    "        print(e)\n",
    "        #return None    "
   ]
  },
  {
   "cell_type": "markdown",
   "id": "97f1d7ff-d51d-4373-b5bd-5297ac79e3c1",
   "metadata": {},
   "source": [
    "### 특정 폴더의 csx, xlsx 파일들 확인"
   ]
  },
  {
   "cell_type": "code",
   "execution_count": 23,
   "id": "644066d7-f383-49e5-add6-dbf5cfbf2cba",
   "metadata": {},
   "outputs": [],
   "source": [
    "def check_file(path_dateset, path_sub):\n",
    "    path = path_dateset + path_sub\n",
    "    \n",
    "    #파일 경로명 변경\n",
    "    file_list = os.listdir(path)\n",
    "    file_lists = [file for file in file_list if file.endswith((\".csv\", \".xlsx\"))]\n",
    "    excel = pd.DataFrame()\n",
    "    \n",
    "    print('path : ', path)\n",
    "    \n",
    "    for _, file in enumerate(file_lists):\n",
    "        try:\n",
    "            df = read_file(path + file)\n",
    "                \n",
    "            print('==============================================================')\n",
    "            print(extract_extension(file) + ', ' + file + ', ' + str(len(df)))\n",
    "            print(list(df.columns))\n",
    "            print(list(df.iloc[1]))\n",
    "        except:\n",
    "            print('- Err : ', file)"
   ]
  },
  {
   "cell_type": "markdown",
   "id": "6eb4e9bb-fce3-43e6-b13b-517e3751d72f",
   "metadata": {},
   "source": [
    "### 특정 폴더의 csx, xlsx 파일들 합치기"
   ]
  },
  {
   "cell_type": "code",
   "execution_count": 26,
   "id": "e3622b5b-599c-4cbd-8934-3e76e73d9506",
   "metadata": {},
   "outputs": [],
   "source": [
    "def merge_file(path_dateset, path_sub, new_filename, columns = \"\"):\n",
    "    path = path_dateset + path_sub\n",
    "    \n",
    "    #파일 경로명 변경\n",
    "    file_list = os.listdir(path)\n",
    "    file_lists = [file for file in file_list if file.endswith((\".csv\", \".xlsx\"))]\n",
    "    excel = pd.DataFrame()\n",
    "    \n",
    "    print('path : ', path)\n",
    "    \n",
    "    for i, file in enumerate(file_lists):\n",
    "        df = read_file(path + file)\n",
    "        \n",
    "        if (i > 0):\n",
    "            df = df.iloc[1:][columns]\n",
    "        else:\n",
    "            df = df[columns]\n",
    "\n",
    "        # excel = excel.append(df , ignore_index=True) #파일 하나에 다른 파일 추가하기(파일 합치기)\n",
    "        excel = pd.concat([excel, df], ignore_index=True)        \n",
    "        \n",
    "        print('==============================================================')\n",
    "        print(extract_extension(file) + ', ' + file + ', ' + str(len(df)))\n",
    "        print(list(df.columns))\n",
    "\n",
    "    # excel.to_csv(path+'merge.csv',index=False,encoding='euc-kr')\n",
    "    excel.to_csv(path + new_filename + '.csv', index=False, encoding='cp949')"
   ]
  },
  {
   "cell_type": "code",
   "execution_count": 28,
   "id": "935c0084-7229-491f-9822-1aaee9768c20",
   "metadata": {},
   "outputs": [],
   "source": [
    "# new_filename = '저장파일이름'\n",
    "# columns = '저장할 컬럼 리스트\n",
    "def merge2_file(path_dateset, path_sub, new_filename = 'merge', columns = \"\"):\n",
    "    path = path_dateset + path_sub\n",
    "    \n",
    "    #파일 경로명 변경\n",
    "    file_list = os.listdir(path)\n",
    "    file_lists = [file for file in file_list if file.endswith((\".csv\", \".xlsx\"))]\n",
    "    excel = pd.DataFrame()\n",
    "    \n",
    "    print('path : ', path)\n",
    "    \n",
    "    for i, file in enumerate(file_lists):\n",
    "        df = read_file(path + file)\n",
    "        \n",
    "        if (i > 0):\n",
    "            if columns == \"\":\n",
    "                df = df.iloc[1:]\n",
    "            else:\n",
    "                df = df.iloc[1:][columns]\n",
    "        else:\n",
    "            if columns == \"\":\n",
    "                df = df\n",
    "            else:\n",
    "                df = df[columns]\n",
    "\n",
    "        # excel = excel.append(df , ignore_index=True) #파일 하나에 다른 파일 추가하기(파일 합치기)\n",
    "        excel = pd.concat([excel, df], ignore_index=True)\n",
    "        \n",
    "        print('==============================================================')\n",
    "        print(extract_extension(file) + ', ' + file + ', ' + str(len(df)))\n",
    "        print(list(df.columns))\n",
    "\n",
    "    # excel.to_csv(path+'merge.csv',index=False,encoding='euc-kr')\n",
    "    # excel.to_csv(path + new_filename + '.csv', index=False, encoding='cp949')\n",
    "    excel.to_csv(path + new_filename + '.csv', index=False, encoding='utf-8')"
   ]
  },
  {
   "cell_type": "markdown",
   "id": "11c1f004-9d92-4623-a04f-31c375236a4e",
   "metadata": {},
   "source": [
    "### 서울특별시 공공자전거 이용정보(일별)"
   ]
  },
  {
   "cell_type": "code",
   "execution_count": null,
   "id": "d22bd05b-d017-4ed3-a2fd-3e676c2c06f8",
   "metadata": {},
   "outputs": [],
   "source": [
    "path_sub = '서울특별시 공공자전거 이용정보(일별)/'\n",
    "check_file(path_dateset, path_sub)"
   ]
  },
  {
   "cell_type": "code",
   "execution_count": null,
   "id": "fcb9e5e3-5150-408c-9331-71f28119edec",
   "metadata": {},
   "outputs": [],
   "source": [
    "columns = ['기준_날짜', '기준_시간대', '시작_대여소_ID', '종료_대여소_ID', '전체_건수', '전체_이용_분', '전체_이용_거리']\n",
    "merge_file(path_dateset, path_sub)"
   ]
  },
  {
   "cell_type": "markdown",
   "id": "0c796898-3b3c-4a59-af56-05bfb15c1d19",
   "metadata": {},
   "source": [
    "### 서울시 따릉이 대여소별 대여 반납 승객수 정보"
   ]
  },
  {
   "cell_type": "markdown",
   "id": "13591e13-60f0-4b2d-95a5-d76acaf2ae3d",
   "metadata": {},
   "source": [
    "#### tpss_bcycl_od_statnhm_202304"
   ]
  },
  {
   "cell_type": "code",
   "execution_count": null,
   "id": "cd01979d-93af-44dc-a940-0ff9aa569cc3",
   "metadata": {},
   "outputs": [],
   "source": [
    "path_sub = '서울시 따릉이 대여소별 대여 반납 승객수 정보/tpss_bcycl_od_statnhm_202304/'\n",
    "check_file(path_dateset, path_sub)"
   ]
  },
  {
   "cell_type": "markdown",
   "id": "b86f2a35-6880-49e1-b7d5-d41411444293",
   "metadata": {},
   "source": [
    "### 서울특별시 공공자전거 이용정보(월별)"
   ]
  },
  {
   "cell_type": "markdown",
   "id": "125f8a56-103c-40ec-b923-6aa208626ec8",
   "metadata": {},
   "source": [
    "#### 2020 ~ 2024\n",
    "- 2020 o\n",
    "- 2021 o\n",
    "- 2022 o\n",
    "- 2023"
   ]
  },
  {
   "cell_type": "code",
   "execution_count": 93,
   "id": "a96ea1e4-f7a2-420e-b249-6d1e63fc5bba",
   "metadata": {},
   "outputs": [
    {
     "name": "stdout",
     "output_type": "stream",
     "text": [
      "path :  G:/내 드라이브/DataSet/서울특별시 공공자전거 이용정보(월별)/2023/\n",
      "==============================================================\n",
      ".csv, 서울특별시_공공자전거_이용정보(월별)_23.7-12.csv, 624320\n",
      "['대여년월', '대여소번호', '대여소명', '대여구분코드', '성별', '연령대코드', '이용건수', '운동량', '탄소량', '이용거리(M)', '이용시간(분)']\n",
      "[202307, 102, '102. 망원역 1번출구 앞', '일일권', nan, '30대', 40, '2888.06', '24.84', 107055.57, 1407]\n",
      "==============================================================\n",
      ".csv, 서울특별시 공공자전거 이용정보(월별)_23.1-6.csv, 622066\n",
      "['대여년월', '대여소번호', '대여소명', '대여구분코드', '성별', '연령대코드', '이용건수', '운동량', '탄소량', '이용거리(M)', '이용시간(분)']\n",
      "[202301, 102, '102. 망원역 1번출구 앞', '일일권', nan, '20대', 28, '2406.34', '20.15', 86930.75, 583]\n"
     ]
    }
   ],
   "source": [
    "path_sub = '서울특별시 공공자전거 이용정보(월별)/2023/'\n",
    "check_file(path_dateset, path_sub)"
   ]
  },
  {
   "cell_type": "code",
   "execution_count": 95,
   "id": "30c481a5-5f53-4135-b1cb-9291629844a5",
   "metadata": {},
   "outputs": [
    {
     "name": "stdout",
     "output_type": "stream",
     "text": [
      "path :  G:/내 드라이브/DataSet/서울특별시 공공자전거 이용정보(월별)/2023/\n",
      "==============================================================\n",
      ".csv, 서울특별시_공공자전거_이용정보(월별)_23.7-12.csv, 624320\n",
      "['대여년월', '대여소번호', '대여소명', '대여구분코드', '성별', '연령대코드', '이용건수', '운동량', '탄소량', '이용거리(M)', '이용시간(분)']\n",
      "==============================================================\n",
      ".csv, 서울특별시 공공자전거 이용정보(월별)_23.1-6.csv, 622065\n",
      "['대여년월', '대여소번호', '대여소명', '대여구분코드', '성별', '연령대코드', '이용건수', '운동량', '탄소량', '이용거리(M)', '이용시간(분)']\n"
     ]
    }
   ],
   "source": [
    "merge2_file(path_dateset, path_sub, '서울특별시 공공자전거 이용정보(월별)_2023', '')"
   ]
  },
  {
   "cell_type": "code",
   "execution_count": 99,
   "id": "15889462-3991-43b8-abfa-c7342834cdd7",
   "metadata": {},
   "outputs": [
    {
     "data": {
      "text/html": [
       "<div>\n",
       "<style scoped>\n",
       "    .dataframe tbody tr th:only-of-type {\n",
       "        vertical-align: middle;\n",
       "    }\n",
       "\n",
       "    .dataframe tbody tr th {\n",
       "        vertical-align: top;\n",
       "    }\n",
       "\n",
       "    .dataframe thead th {\n",
       "        text-align: right;\n",
       "    }\n",
       "</style>\n",
       "<table border=\"1\" class=\"dataframe\">\n",
       "  <thead>\n",
       "    <tr style=\"text-align: right;\">\n",
       "      <th></th>\n",
       "      <th>대여년월</th>\n",
       "      <th>대여소번호</th>\n",
       "      <th>대여소명</th>\n",
       "      <th>대여구분코드</th>\n",
       "      <th>성별</th>\n",
       "      <th>연령대코드</th>\n",
       "      <th>이용건수</th>\n",
       "      <th>운동량</th>\n",
       "      <th>탄소량</th>\n",
       "      <th>이용거리(M)</th>\n",
       "      <th>이용시간(분)</th>\n",
       "    </tr>\n",
       "  </thead>\n",
       "  <tbody>\n",
       "    <tr>\n",
       "      <th>0</th>\n",
       "      <td>202307</td>\n",
       "      <td>102</td>\n",
       "      <td>102. 망원역 1번출구 앞</td>\n",
       "      <td>일일권</td>\n",
       "      <td>NaN</td>\n",
       "      <td>20대</td>\n",
       "      <td>166</td>\n",
       "      <td>13506.22</td>\n",
       "      <td>121.1</td>\n",
       "      <td>522132.41</td>\n",
       "      <td>5076</td>\n",
       "    </tr>\n",
       "    <tr>\n",
       "      <th>1</th>\n",
       "      <td>202307</td>\n",
       "      <td>102</td>\n",
       "      <td>102. 망원역 1번출구 앞</td>\n",
       "      <td>일일권</td>\n",
       "      <td>NaN</td>\n",
       "      <td>30대</td>\n",
       "      <td>40</td>\n",
       "      <td>2888.06</td>\n",
       "      <td>24.84</td>\n",
       "      <td>107055.57</td>\n",
       "      <td>1407</td>\n",
       "    </tr>\n",
       "    <tr>\n",
       "      <th>2</th>\n",
       "      <td>202307</td>\n",
       "      <td>102</td>\n",
       "      <td>102. 망원역 1번출구 앞</td>\n",
       "      <td>일일권</td>\n",
       "      <td>NaN</td>\n",
       "      <td>40대</td>\n",
       "      <td>13</td>\n",
       "      <td>752.19</td>\n",
       "      <td>6.75</td>\n",
       "      <td>29146.67</td>\n",
       "      <td>252</td>\n",
       "    </tr>\n",
       "    <tr>\n",
       "      <th>3</th>\n",
       "      <td>202307</td>\n",
       "      <td>102</td>\n",
       "      <td>102. 망원역 1번출구 앞</td>\n",
       "      <td>일일권</td>\n",
       "      <td>NaN</td>\n",
       "      <td>50대</td>\n",
       "      <td>4</td>\n",
       "      <td>261.72</td>\n",
       "      <td>2.05</td>\n",
       "      <td>8850.00</td>\n",
       "      <td>80</td>\n",
       "    </tr>\n",
       "    <tr>\n",
       "      <th>4</th>\n",
       "      <td>202307</td>\n",
       "      <td>102</td>\n",
       "      <td>102. 망원역 1번출구 앞</td>\n",
       "      <td>일일권</td>\n",
       "      <td>NaN</td>\n",
       "      <td>~10대</td>\n",
       "      <td>5</td>\n",
       "      <td>461.54</td>\n",
       "      <td>4.02</td>\n",
       "      <td>17341.38</td>\n",
       "      <td>150</td>\n",
       "    </tr>\n",
       "  </tbody>\n",
       "</table>\n",
       "</div>"
      ],
      "text/plain": [
       "     대여년월  대여소번호             대여소명 대여구분코드   성별 연령대코드  이용건수       운동량    탄소량  \\\n",
       "0  202307    102  102. 망원역 1번출구 앞    일일권  NaN   20대   166  13506.22  121.1   \n",
       "1  202307    102  102. 망원역 1번출구 앞    일일권  NaN   30대    40   2888.06  24.84   \n",
       "2  202307    102  102. 망원역 1번출구 앞    일일권  NaN   40대    13    752.19   6.75   \n",
       "3  202307    102  102. 망원역 1번출구 앞    일일권  NaN   50대     4    261.72   2.05   \n",
       "4  202307    102  102. 망원역 1번출구 앞    일일권  NaN  ~10대     5    461.54   4.02   \n",
       "\n",
       "     이용거리(M)  이용시간(분)  \n",
       "0  522132.41     5076  \n",
       "1  107055.57     1407  \n",
       "2   29146.67      252  \n",
       "3    8850.00       80  \n",
       "4   17341.38      150  "
      ]
     },
     "execution_count": 99,
     "metadata": {},
     "output_type": "execute_result"
    }
   ],
   "source": [
    "rf = pd.read_csv('G:/내 드라이브/DataSet/서울특별시 공공자전거 이용정보(월별)/2023/서울특별시 공공자전거 이용정보(월별)_2023.csv', encoding='utf-8', engine = 'python')\n",
    "rf.head()"
   ]
  },
  {
   "cell_type": "markdown",
   "id": "b3ab892d-1630-4d97-95e9-64d72afeb99a",
   "metadata": {},
   "source": [
    "### 서울특별시 공공자전거 대여소별 이용정보(시간대별)"
   ]
  },
  {
   "cell_type": "markdown",
   "id": "a268d05d-c733-44d1-91f1-d2329b194a1c",
   "metadata": {},
   "source": [
    "#### 2020 ~ 2024\n",
    "- 2020 o\n",
    "- 2021 UnicodeDecodeError: 'utf-8' codec can't decode byte 0xb4 in position 0: invalid start byte\n",
    "- 2022 o\n",
    "- 2023 UnicodeDecodeError: 'utf-8' codec can't decode byte 0xb4 in position 0: invalid start byte\n",
    "- 2024 o"
   ]
  },
  {
   "cell_type": "code",
   "execution_count": null,
   "id": "9c3c6738-6f0f-4cb4-aaf9-ec34ce89ad80",
   "metadata": {},
   "outputs": [],
   "source": [
    "path_sub = '서울특별시 공공자전거 대여소별 이용정보(시간대별)/2021/'\n",
    "check_file(path_dateset, path_sub)"
   ]
  },
  {
   "cell_type": "code",
   "execution_count": null,
   "id": "283a22d2-ccd6-4c5b-b9e1-49a5fb55a31c",
   "metadata": {},
   "outputs": [],
   "source": [
    "merge2_file(path_dateset, path_sub, '서울특별시 공공자전거 대여소별 이용정보(시간대별)_2021', '')"
   ]
  },
  {
   "cell_type": "code",
   "execution_count": null,
   "id": "32038b5b-de52-48ff-9555-1e65ad9ebd6e",
   "metadata": {},
   "outputs": [],
   "source": [
    "file_path = 'G:/내 드라이브/DataSet/서울특별시 공공자전거 대여소별 이용정보(시간대별)/2021/서울특별시 공공자전거 이용정보(시간대별)_21.03.csv'\n",
    "#pd1 = pd.read_csv(file_path, engine=\"python\")\n",
    "pd1 = pd.read_csv(file_path, encoding='cp949')\n",
    "#pd1 = pd.read_csv(file_path, encoding='Windows-1254')\n",
    "#pd2 = pd.read_csv(file_path, encoding='utf-8' )\n",
    "#pd2 = pd.read_csv(file_path, encoding='utf-16-le' )\n",
    "\n",
    "#pd3 = pd.read_csv(file_path, encoding='euc-kr')\n",
    "#pd4 = pd.read_csv(file_path, encoding='utf-16', engine = 'python' )"
   ]
  },
  {
   "cell_type": "code",
   "execution_count": null,
   "id": "a778fbf8-80e2-493c-8234-fe086337a474",
   "metadata": {},
   "outputs": [],
   "source": [
    "pd1.head()"
   ]
  },
  {
   "cell_type": "code",
   "execution_count": null,
   "id": "46dae027-9b33-4d15-8b3a-27be7914d277",
   "metadata": {},
   "outputs": [],
   "source": [
    "pd1.count()"
   ]
  },
  {
   "cell_type": "markdown",
   "id": "59a99b3f-073e-4840-b705-bc92e34f694b",
   "metadata": {},
   "source": [
    "### 서울특별시 공공자전거 이용정보(일별)"
   ]
  },
  {
   "cell_type": "code",
   "execution_count": null,
   "id": "b2170f14-7bdc-4c1d-b4b9-8132857bce82",
   "metadata": {},
   "outputs": [],
   "source": [
    "path_sub = '서울특별시 공공자전거 이용정보(일별)/'\n",
    "check_file(path_dateset, path_sub)"
   ]
  },
  {
   "cell_type": "code",
   "execution_count": null,
   "id": "52decb32-a471-46e5-98ee-3d6916610916",
   "metadata": {
    "scrolled": true
   },
   "outputs": [],
   "source": [
    "merge2_file(path_dateset, path_sub, '서울특별시 공공자전거 이용정보(일별)', '')"
   ]
  },
  {
   "cell_type": "code",
   "execution_count": null,
   "id": "0f54e299-3262-4f36-b805-dd7ecd7ca1d7",
   "metadata": {},
   "outputs": [],
   "source": [
    "rf = pd.read_csv('G:/내 드라이브/DataSet/서울특별시 공공자전거 이용정보(일별)/서울특별시 공공자전거 이용정보(일별).csv', encoding='cp949', engine = 'python')\n",
    "rf.head()"
   ]
  },
  {
   "cell_type": "markdown",
   "id": "2b42dde4-5543-4808-9bc5-a9f975232174",
   "metadata": {},
   "source": [
    "### 역별 일별 시간대별 승하차인원"
   ]
  },
  {
   "cell_type": "code",
   "execution_count": null,
   "id": "f45b6a4f-9639-41d7-bd75-aa2500fff3f7",
   "metadata": {},
   "outputs": [],
   "source": [
    "path_sub = '역별 일별 시간대별 승하차인원/'\n",
    "check_file(path_dateset, path_sub)"
   ]
  },
  {
   "cell_type": "code",
   "execution_count": null,
   "id": "b1860fd5-dcc0-474c-a330-f61376dfc29f",
   "metadata": {},
   "outputs": [],
   "source": [
    "merge2_file(path_dateset, path_sub, '역별 일별 시간대별 승하차인원', '')"
   ]
  },
  {
   "cell_type": "markdown",
   "id": "8f461a9f-115a-437d-bd82-3e28fc11d4cd",
   "metadata": {},
   "source": [
    "### 생활이동_행정동_202312"
   ]
  },
  {
   "cell_type": "code",
   "execution_count": null,
   "id": "d35fe98f-56a2-4051-91f3-4a303127db6e",
   "metadata": {},
   "outputs": [],
   "source": [
    "path_sub = '서울 생활이동/2024/2409/'\n",
    "check_file(path_dateset, path_sub)"
   ]
  },
  {
   "cell_type": "code",
   "execution_count": null,
   "id": "619af198-9bb0-4f78-8c14-f93cb85e8d2a",
   "metadata": {},
   "outputs": [],
   "source": [
    "merge2_file(path_dateset, path_sub, '서울 생활이동_2024_2409', '')"
   ]
  },
  {
   "cell_type": "markdown",
   "id": "c0e99255-b732-412a-98de-cd02d549cf7e",
   "metadata": {},
   "source": [
    "### path_sub = '서울 생활이동/2022/생활이동_행정동_202201/'"
   ]
  },
  {
   "cell_type": "code",
   "execution_count": null,
   "id": "4f246d62-5db5-409c-94c7-6333f490a1ef",
   "metadata": {},
   "outputs": [],
   "source": [
    "path_sub = '서울 생활이동/2022/생활이동_행정동_202201/'\n",
    "check_file(path_dateset, path_sub)"
   ]
  },
  {
   "cell_type": "code",
   "execution_count": 62,
   "id": "9624bf6f-beb3-4835-9067-27a95c79da8b",
   "metadata": {},
   "outputs": [],
   "source": [
    "merge2_file(path_dateset, path_sub, '생활이동_행정동_2022.01', '')"
   ]
  },
  {
   "cell_type": "markdown",
   "id": "315ae569-8dd9-4bc5-b4cb-a72e8b2a46b0",
   "metadata": {},
   "source": [
    "### path_sub = '서울특별시 공공자전거 대여소별 이용정보(월별)/'"
   ]
  },
  {
   "cell_type": "code",
   "execution_count": null,
   "id": "00dd6100-0173-4402-808a-148f43a16f77",
   "metadata": {},
   "outputs": [],
   "source": [
    "path_sub = '서울특별시 공공자전거 대여소별 이용정보(월별)/'\n",
    "check_file(path_dateset, path_sub)"
   ]
  },
  {
   "cell_type": "code",
   "execution_count": null,
   "id": "d6d1ba6b-c9b0-4e92-92a9-70ff55587caf",
   "metadata": {},
   "outputs": [],
   "source": [
    "merge2_file(path_dateset, path_sub, '서울특별시 공공자전거 대여소별 이용정보(월별)', '')"
   ]
  },
  {
   "cell_type": "markdown",
   "id": "769b9d87-7e3c-46ab-8aad-5965bf8e5c7b",
   "metadata": {},
   "source": [
    "### 생활이동_반복처리"
   ]
  },
  {
   "cell_type": "code",
   "execution_count": 30,
   "id": "8037f96f-258b-459f-b3d9-3abe80471cdb",
   "metadata": {},
   "outputs": [
    {
     "name": "stdout",
     "output_type": "stream",
     "text": [
      "서울 생활이동/2023/생활이동_행정동_202312/\n",
      "서울 생활이동_2023.12\n",
      "path :  G:/내 드라이브/DataSet/서울 생활이동/2023/생활이동_행정동_202312/\n",
      "==============================================================\n",
      ".csv, 생활이동_행정동_2023.12_05시.csv, 1127262\n",
      "['대상연월', '요일', '도착시간', '출발 행정동 코드', '도착 행정동 코드', '성별', '나이', '이동유형', '평균 이동 시간(분)', '이동인구(합)']\n",
      "==============================================================\n",
      ".csv, 생활이동_행정동_2023.12_03시.csv, 814786\n",
      "['대상연월', '요일', '도착시간', '출발 행정동 코드', '도착 행정동 코드', '성별', '나이', '이동유형', '평균 이동 시간(분)', '이동인구(합)']\n",
      "==============================================================\n",
      ".csv, 생활이동_행정동_2023.12_04시.csv, 746320\n",
      "['대상연월', '요일', '도착시간', '출발 행정동 코드', '도착 행정동 코드', '성별', '나이', '이동유형', '평균 이동 시간(분)', '이동인구(합)']\n",
      "==============================================================\n",
      ".csv, 생활이동_행정동_2023.12_02시.csv, 1101159\n",
      "['대상연월', '요일', '도착시간', '출발 행정동 코드', '도착 행정동 코드', '성별', '나이', '이동유형', '평균 이동 시간(분)', '이동인구(합)']\n",
      "==============================================================\n",
      ".csv, 생활이동_행정동_2023.12_01시.csv, 1701805\n",
      "['대상연월', '요일', '도착시간', '출발 행정동 코드', '도착 행정동 코드', '성별', '나이', '이동유형', '평균 이동 시간(분)', '이동인구(합)']\n",
      "==============================================================\n",
      ".csv, 생활이동_행정동_2023.12_00시.csv, 2939750\n",
      "['대상연월', '요일', '도착시간', '출발 행정동 코드', '도착 행정동 코드', '성별', '나이', '이동유형', '평균 이동 시간(분)', '이동인구(합)']\n",
      "==============================================================\n",
      ".csv, 생활이동_행정동_2023.12_07시.csv, 3522201\n",
      "['대상연월', '요일', '도착시간', '출발 행정동 코드', '도착 행정동 코드', '성별', '나이', '이동유형', '평균 이동 시간(분)', '이동인구(합)']\n",
      "==============================================================\n",
      ".csv, 생활이동_행정동_2023.12_06시.csv, 2062970\n",
      "['대상연월', '요일', '도착시간', '출발 행정동 코드', '도착 행정동 코드', '성별', '나이', '이동유형', '평균 이동 시간(분)', '이동인구(합)']\n",
      "==============================================================\n",
      ".csv, 생활이동_행정동_2023.12_10시.csv, 6629410\n",
      "['대상연월', '요일', '도착시간', '출발 행정동 코드', '도착 행정동 코드', '성별', '나이', '이동유형', '평균 이동 시간(분)', '이동인구(합)']\n",
      "==============================================================\n",
      ".csv, 생활이동_행정동_2023.12_09시.csv, 6567879\n",
      "['대상연월', '요일', '도착시간', '출발 행정동 코드', '도착 행정동 코드', '성별', '나이', '이동유형', '평균 이동 시간(분)', '이동인구(합)']\n",
      "==============================================================\n",
      ".csv, 생활이동_행정동_2023.12_08시.csv, 5932277\n",
      "['대상연월', '요일', '도착시간', '출발 행정동 코드', '도착 행정동 코드', '성별', '나이', '이동유형', '평균 이동 시간(분)', '이동인구(합)']\n",
      "==============================================================\n",
      ".csv, 생활이동_행정동_2023.12_13시.csv, 8208641\n",
      "['대상연월', '요일', '도착시간', '출발 행정동 코드', '도착 행정동 코드', '성별', '나이', '이동유형', '평균 이동 시간(분)', '이동인구(합)']\n",
      "==============================================================\n",
      ".csv, 생활이동_행정동_2023.12_12시.csv, 7872792\n",
      "['대상연월', '요일', '도착시간', '출발 행정동 코드', '도착 행정동 코드', '성별', '나이', '이동유형', '평균 이동 시간(분)', '이동인구(합)']\n",
      "==============================================================\n",
      ".csv, 생활이동_행정동_2023.12_11시.csv, 7242954\n",
      "['대상연월', '요일', '도착시간', '출발 행정동 코드', '도착 행정동 코드', '성별', '나이', '이동유형', '평균 이동 시간(분)', '이동인구(합)']\n",
      "==============================================================\n",
      ".csv, 생활이동_행정동_2023.12_16시.csv, 8666041\n",
      "['대상연월', '요일', '도착시간', '출발 행정동 코드', '도착 행정동 코드', '성별', '나이', '이동유형', '평균 이동 시간(분)', '이동인구(합)']\n",
      "==============================================================\n",
      ".csv, 생활이동_행정동_2023.12_15시.csv, 8170022\n",
      "['대상연월', '요일', '도착시간', '출발 행정동 코드', '도착 행정동 코드', '성별', '나이', '이동유형', '평균 이동 시간(분)', '이동인구(합)']\n",
      "==============================================================\n",
      ".csv, 생활이동_행정동_2023.12_14시.csv, 8041004\n",
      "['대상연월', '요일', '도착시간', '출발 행정동 코드', '도착 행정동 코드', '성별', '나이', '이동유형', '평균 이동 시간(분)', '이동인구(합)']\n",
      "==============================================================\n",
      ".csv, 생활이동_행정동_2023.12_17시.csv, 9545969\n",
      "['대상연월', '요일', '도착시간', '출발 행정동 코드', '도착 행정동 코드', '성별', '나이', '이동유형', '평균 이동 시간(분)', '이동인구(합)']\n",
      "==============================================================\n",
      ".csv, 생활이동_행정동_2023.12_18시.csv, 10264683\n",
      "['대상연월', '요일', '도착시간', '출발 행정동 코드', '도착 행정동 코드', '성별', '나이', '이동유형', '평균 이동 시간(분)', '이동인구(합)']\n",
      "==============================================================\n",
      ".csv, 생활이동_행정동_2023.12_20시.csv, 7416844\n",
      "['대상연월', '요일', '도착시간', '출발 행정동 코드', '도착 행정동 코드', '성별', '나이', '이동유형', '평균 이동 시간(분)', '이동인구(합)']\n",
      "==============================================================\n",
      ".csv, 생활이동_행정동_2023.12_19시.csv, 9389885\n",
      "['대상연월', '요일', '도착시간', '출발 행정동 코드', '도착 행정동 코드', '성별', '나이', '이동유형', '평균 이동 시간(분)', '이동인구(합)']\n",
      "==============================================================\n",
      ".csv, 생활이동_행정동_2023.12_23시.csv, 4221506\n",
      "['대상연월', '요일', '도착시간', '출발 행정동 코드', '도착 행정동 코드', '성별', '나이', '이동유형', '평균 이동 시간(분)', '이동인구(합)']\n",
      "==============================================================\n",
      ".csv, 생활이동_행정동_2023.12_22시.csv, 5782468\n",
      "['대상연월', '요일', '도착시간', '출발 행정동 코드', '도착 행정동 코드', '성별', '나이', '이동유형', '평균 이동 시간(분)', '이동인구(합)']\n",
      "==============================================================\n",
      ".csv, 생활이동_행정동_2023.12_21시.csv, 6473856\n",
      "['대상연월', '요일', '도착시간', '출발 행정동 코드', '도착 행정동 코드', '성별', '나이', '이동유형', '평균 이동 시간(분)', '이동인구(합)']\n"
     ]
    }
   ],
   "source": [
    "# 생활이동 데이터 배치\n",
    "# year = '2020'\n",
    "year = '2023'\n",
    "# months = ['01', '02', '03', '04', '05', '06', '07', '08', '09', '10', '11', '12']\n",
    "months = ['12']\n",
    "\n",
    "for month in months:\n",
    "    path_sub = '서울 생활이동/' + year + '/생활이동_행정동_' + year + month + '/'\n",
    "    try:\n",
    "        print(path_sub)\n",
    "        print('서울 생활이동_' + year + '.' + month)\n",
    "        \n",
    "        merge2_file(path_dateset, path_sub, '서울 생활이동_' + year + '.' + month, '')\n",
    "    except:\n",
    "        print('Err : ', path_sub)    "
   ]
  },
  {
   "cell_type": "code",
   "execution_count": null,
   "id": "dfdc5b69-dfc5-4cf3-be6d-b3a835d55f09",
   "metadata": {},
   "outputs": [],
   "source": [
    "path_sub = '서울시 따릉이 대여소별 대여 반납 승객수 정보/월 데이터 통합/2021/'\n",
    "check_file(path_dateset, path_sub)"
   ]
  },
  {
   "cell_type": "code",
   "execution_count": null,
   "id": "21ef4a31-e047-4a32-ac8c-a2e27aac82cc",
   "metadata": {},
   "outputs": [
    {
     "name": "stdout",
     "output_type": "stream",
     "text": [
      "서울시 따릉이 대여소별 대여 반납 승객수 정보/월 데이터 통합/2021/\n",
      "tpss_bcycl_od_statnhm_2021\n",
      "path :  G:/내 드라이브/DataSet/서울시 따릉이 대여소별 대여 반납 승객수 정보/월 데이터 통합/2021/\n",
      "==============================================================\n",
      ".csv, tpss_bcycl_od_statnhm_202101.csv, 1593981\n",
      "['기준_날짜', '구분코드', '기준_시간', '시작_대여소ID', '시작_대여소명', '종료_대여소ID', '종료_대여소명', '전체건수', '전체이용시간(분)', '전체이용거리(m)']\n",
      "==============================================================\n",
      ".csv, tpss_bcycl_od_statnhm_202102.csv, 2346092\n",
      "['기준_날짜', '구분코드', '기준_시간', '시작_대여소ID', '시작_대여소명', '종료_대여소ID', '종료_대여소명', '전체건수', '전체이용시간(분)', '전체이용거리(m)']\n",
      "==============================================================\n",
      ".csv, tpss_bcycl_od_statnhm_202107.csv, 6540699\n",
      "['기준_날짜', '구분코드', '기준_시간', '시작_대여소ID', '시작_대여소명', '종료_대여소ID', '종료_대여소명', '전체건수', '전체이용시간(분)', '전체이용거리(m)']\n",
      "Err :  서울시 따릉이 대여소별 대여 반납 승객수 정보/월 데이터 통합/2021/\n",
      "서울시 따릉이 대여소별 대여 반납 승객수 정보/월 데이터 통합/2022/\n",
      "tpss_bcycl_od_statnhm_2022\n",
      "path :  G:/내 드라이브/DataSet/서울시 따릉이 대여소별 대여 반납 승객수 정보/월 데이터 통합/2022/\n",
      "==============================================================\n",
      ".csv, tpss_bcycl_od_statnhm_202201.csv, 2815540\n",
      "['기준_날짜', '기준_시간대', '시작_대여소_ID', '종료_대여소_ID', '전체_건수', '전체_이용_분', '전체_이용_거리']\n",
      "==============================================================\n",
      ".csv, tpss_bcycl_od_statnhm_202202.csv, 2620303\n",
      "['기준_날짜', '기준_시간대', '시작_대여소_ID', '종료_대여소_ID', '전체_건수', '전체_이용_분', '전체_이용_거리']\n",
      "==============================================================\n",
      ".csv, tpss_bcycl_od_statnhm_202203.csv, 4690021\n",
      "['기준_날짜', '기준_시간대', '시작_대여소_ID', '종료_대여소_ID', '전체_건수', '전체_이용_분', '전체_이용_거리']\n",
      "==============================================================\n",
      ".csv, tpss_bcycl_od_statnhm_202204.csv, 7492277\n",
      "['기준_날짜', '기준_시간대', '시작_대여소_ID', '종료_대여소_ID', '전체_건수', '전체_이용_분', '전체_이용_거리']\n",
      "==============================================================\n",
      ".csv, tpss_bcycl_od_statnhm_202205.csv, 9290634\n",
      "['기준_날짜', '기준_시간대', '시작_대여소_ID', '종료_대여소_ID', '전체_건수', '전체_이용_분', '전체_이용_거리']\n",
      "==============================================================\n",
      ".csv, tpss_bcycl_od_statnhm_202206.csv, 8062041\n",
      "['기준_날짜', '기준_시간대', '시작_대여소_ID', '종료_대여소_ID', '전체_건수', '전체_이용_분', '전체_이용_거리']\n",
      "==============================================================\n",
      ".csv, tpss_bcycl_od_statnhm_202207.csv, 7857162\n",
      "['기준_날짜', '기준_시간대', '시작_대여소_ID', '종료_대여소_ID', '전체_건수', '전체_이용_분', '전체_이용_거리']\n",
      "==============================================================\n",
      ".csv, tpss_bcycl_od_statnhm_202208.csv, 6927711\n",
      "['기준_날짜', '기준_시간대', '시작_대여소_ID', '종료_대여소_ID', '전체_건수', '전체_이용_분', '전체_이용_거리']\n",
      "==============================================================\n",
      ".csv, tpss_bcycl_od_statnhm_2022011.csv, 7155606\n",
      "['기준_날짜', '기준_시간대', '시작_대여소_ID', '종료_대여소_ID', '전체_건수', '전체_이용_분', '전체_이용_거리']\n",
      "==============================================================\n",
      ".csv, tpss_bcycl_od_statnhm_2022012.csv, 3497167\n",
      "['기준_날짜', '기준_시간대', '시작_대여소_ID', '종료_대여소_ID', '전체_건수', '전체_이용_분', '전체_이용_거리']\n",
      "==============================================================\n",
      ".csv, tpss_bcycl_od_statnhm_202209.csv, 9000570\n",
      "['기준일자', '구분코드', '기준시간대', '시작대여소ID', '시작대여소명', '종료대여소ID', '종료대여소명', '전체건수', '전체이용시간(분)', '전체이용거리(M)']\n",
      "==============================================================\n",
      ".csv, tpss_bcycl_od_statnhm_202210.csv, 8526666\n",
      "['기준일자', '구분코드', '기준시간대', '시작대여소ID', '시작대여소명', '종료대여소ID', '종료대여소명', '전체건수', '전체이용시간(분)', '전체이용거리(M)']\n",
      "Err :  서울시 따릉이 대여소별 대여 반납 승객수 정보/월 데이터 통합/2022/\n",
      "서울시 따릉이 대여소별 대여 반납 승객수 정보/월 데이터 통합/2023/\n",
      "tpss_bcycl_od_statnhm_2023\n",
      "path :  G:/내 드라이브/DataSet/서울시 따릉이 대여소별 대여 반납 승객수 정보/월 데이터 통합/2023/\n",
      "Err :  서울시 따릉이 대여소별 대여 반납 승객수 정보/월 데이터 통합/2023/\n",
      "서울시 따릉이 대여소별 대여 반납 승객수 정보/월 데이터 통합/2024/\n",
      "tpss_bcycl_od_statnhm_2024\n",
      "path :  G:/내 드라이브/DataSet/서울시 따릉이 대여소별 대여 반납 승객수 정보/월 데이터 통합/2024/\n"
     ]
    }
   ],
   "source": [
    "# 서울시 따릉이 대여소별 대여/반납 승객수 정보\n",
    "years = ['2021', '2022', '2023', '2024']\n",
    "\n",
    "for year in years:\n",
    "    path_sub = '서울시 따릉이 대여소별 대여 반납 승객수 정보/월 데이터 통합/' + year + '/'\n",
    "    try:\n",
    "        print(path_sub)\n",
    "        print('tpss_bcycl_od_statnhm_' + year)\n",
    "        \n",
    "        merge2_file(path_dateset, path_sub, 'tpss_bcycl_od_statnhm_' + year, '')\n",
    "    except:\n",
    "        print('Err : ', path_sub)    "
   ]
  },
  {
   "cell_type": "markdown",
   "id": "2dd948dc-d5f1-4192-a1ba-07f1c87acaf2",
   "metadata": {},
   "source": [
    "---\n",
    "### 대용량 파일 열기"
   ]
  },
  {
   "cell_type": "markdown",
   "id": "ac63fe7a-bd96-46ed-979a-2c47be8f80a6",
   "metadata": {},
   "source": [
    "#### 대용량 파일 열기 - ***pyarrow***"
   ]
  },
  {
   "cell_type": "code",
   "execution_count": 95,
   "id": "8074bed8-a063-460b-aeb2-e8fd897a1723",
   "metadata": {},
   "outputs": [
    {
     "name": "stdout",
     "output_type": "stream",
     "text": [
      "time : 1.8766942024230957\n"
     ]
    }
   ],
   "source": [
    "from pyarrow import csv\n",
    "import time\n",
    "#file_path = 'G:/내 드라이브/DataSet/서울특별시 공공자전거 이용정보(일별)/서울특별시 공공자전거 이용정보(일별).csv'\n",
    "#file_path = path_dateset + path_sub + '서울특별시 공공자전거 대여소별 이용정보(시간대별)_2024' + '.CSV'\n",
    "file_path = path_dateset + path_sub + '역별 일별 시간대별 승하차인원' + '.CSV'\n",
    "start_time = time.time()  # 시작 시간 저장\n",
    "pyarrow_df = csv.read_csv(file_path).to_pandas()\n",
    "\n",
    "print(\"time :\", time.time() - start_time) # 현재시간 - 시작시간"
   ]
  },
  {
   "cell_type": "code",
   "execution_count": 99,
   "id": "0da6bee9-2aa8-4bcf-9ef6-89e89f0471b4",
   "metadata": {},
   "outputs": [
    {
     "data": {
      "text/html": [
       "<div>\n",
       "<style scoped>\n",
       "    .dataframe tbody tr th:only-of-type {\n",
       "        vertical-align: middle;\n",
       "    }\n",
       "\n",
       "    .dataframe tbody tr th {\n",
       "        vertical-align: top;\n",
       "    }\n",
       "\n",
       "    .dataframe thead th {\n",
       "        text-align: right;\n",
       "    }\n",
       "</style>\n",
       "<table border=\"1\" class=\"dataframe\">\n",
       "  <thead>\n",
       "    <tr style=\"text-align: right;\">\n",
       "      <th></th>\n",
       "      <th>연번</th>\n",
       "      <th>날짜</th>\n",
       "      <th>호선</th>\n",
       "      <th>역번호</th>\n",
       "      <th>역명</th>\n",
       "      <th>구분</th>\n",
       "      <th>06:00 이전</th>\n",
       "      <th>06:00 ~ 07:00</th>\n",
       "      <th>07:00 ~ 08:00</th>\n",
       "      <th>08:00 ~ 09:00</th>\n",
       "      <th>...</th>\n",
       "      <th>15:00 ~ 16:00</th>\n",
       "      <th>16:00 ~ 17:00</th>\n",
       "      <th>17:00 ~ 18:00</th>\n",
       "      <th>18:00 ~ 19:00</th>\n",
       "      <th>19:00 ~ 20:00</th>\n",
       "      <th>20:00 ~ 21:00</th>\n",
       "      <th>21:00 ~ 22:00</th>\n",
       "      <th>22:00 ~ 23:00</th>\n",
       "      <th>23:00 ~ 24:00</th>\n",
       "      <th>24:00 이후</th>\n",
       "    </tr>\n",
       "  </thead>\n",
       "  <tbody>\n",
       "    <tr>\n",
       "      <th>0</th>\n",
       "      <td>1.0</td>\n",
       "      <td>2024-02-01</td>\n",
       "      <td>1호선</td>\n",
       "      <td>150</td>\n",
       "      <td>서울역</td>\n",
       "      <td>승차</td>\n",
       "      <td>316</td>\n",
       "      <td>511</td>\n",
       "      <td>1695</td>\n",
       "      <td>2766</td>\n",
       "      <td>...</td>\n",
       "      <td>3255</td>\n",
       "      <td>3667</td>\n",
       "      <td>6765</td>\n",
       "      <td>9441</td>\n",
       "      <td>4326</td>\n",
       "      <td>2925</td>\n",
       "      <td>2838</td>\n",
       "      <td>1848</td>\n",
       "      <td>849</td>\n",
       "      <td>117.0</td>\n",
       "    </tr>\n",
       "    <tr>\n",
       "      <th>1</th>\n",
       "      <td>2.0</td>\n",
       "      <td>2024-02-01</td>\n",
       "      <td>1호선</td>\n",
       "      <td>150</td>\n",
       "      <td>서울역</td>\n",
       "      <td>하차</td>\n",
       "      <td>252</td>\n",
       "      <td>1963</td>\n",
       "      <td>4684</td>\n",
       "      <td>10427</td>\n",
       "      <td>...</td>\n",
       "      <td>2396</td>\n",
       "      <td>2684</td>\n",
       "      <td>3040</td>\n",
       "      <td>3220</td>\n",
       "      <td>1861</td>\n",
       "      <td>1379</td>\n",
       "      <td>1176</td>\n",
       "      <td>886</td>\n",
       "      <td>354</td>\n",
       "      <td>129.0</td>\n",
       "    </tr>\n",
       "    <tr>\n",
       "      <th>2</th>\n",
       "      <td>3.0</td>\n",
       "      <td>2024-02-01</td>\n",
       "      <td>1호선</td>\n",
       "      <td>151</td>\n",
       "      <td>시청</td>\n",
       "      <td>승차</td>\n",
       "      <td>83</td>\n",
       "      <td>152</td>\n",
       "      <td>287</td>\n",
       "      <td>293</td>\n",
       "      <td>...</td>\n",
       "      <td>1766</td>\n",
       "      <td>1988</td>\n",
       "      <td>3839</td>\n",
       "      <td>7287</td>\n",
       "      <td>2672</td>\n",
       "      <td>2329</td>\n",
       "      <td>2353</td>\n",
       "      <td>1296</td>\n",
       "      <td>483</td>\n",
       "      <td>41.0</td>\n",
       "    </tr>\n",
       "    <tr>\n",
       "      <th>3</th>\n",
       "      <td>4.0</td>\n",
       "      <td>2024-02-01</td>\n",
       "      <td>1호선</td>\n",
       "      <td>151</td>\n",
       "      <td>시청</td>\n",
       "      <td>하차</td>\n",
       "      <td>189</td>\n",
       "      <td>902</td>\n",
       "      <td>3362</td>\n",
       "      <td>8938</td>\n",
       "      <td>...</td>\n",
       "      <td>906</td>\n",
       "      <td>815</td>\n",
       "      <td>920</td>\n",
       "      <td>1128</td>\n",
       "      <td>481</td>\n",
       "      <td>303</td>\n",
       "      <td>301</td>\n",
       "      <td>200</td>\n",
       "      <td>107</td>\n",
       "      <td>38.0</td>\n",
       "    </tr>\n",
       "    <tr>\n",
       "      <th>4</th>\n",
       "      <td>5.0</td>\n",
       "      <td>2024-02-01</td>\n",
       "      <td>1호선</td>\n",
       "      <td>152</td>\n",
       "      <td>종각</td>\n",
       "      <td>승차</td>\n",
       "      <td>127</td>\n",
       "      <td>148</td>\n",
       "      <td>231</td>\n",
       "      <td>359</td>\n",
       "      <td>...</td>\n",
       "      <td>2375</td>\n",
       "      <td>2747</td>\n",
       "      <td>6164</td>\n",
       "      <td>10258</td>\n",
       "      <td>4233</td>\n",
       "      <td>3736</td>\n",
       "      <td>3914</td>\n",
       "      <td>2937</td>\n",
       "      <td>1194</td>\n",
       "      <td>76.0</td>\n",
       "    </tr>\n",
       "  </tbody>\n",
       "</table>\n",
       "<p>5 rows × 26 columns</p>\n",
       "</div>"
      ],
      "text/plain": [
       "    연번          날짜   호선  역번호   역명  구분  06:00 이전  06:00 ~ 07:00  07:00 ~ 08:00  \\\n",
       "0  1.0  2024-02-01  1호선  150  서울역  승차       316            511           1695   \n",
       "1  2.0  2024-02-01  1호선  150  서울역  하차       252           1963           4684   \n",
       "2  3.0  2024-02-01  1호선  151   시청  승차        83            152            287   \n",
       "3  4.0  2024-02-01  1호선  151   시청  하차       189            902           3362   \n",
       "4  5.0  2024-02-01  1호선  152   종각  승차       127            148            231   \n",
       "\n",
       "   08:00 ~ 09:00  ...  15:00 ~ 16:00  16:00 ~ 17:00  17:00 ~ 18:00  \\\n",
       "0           2766  ...           3255           3667           6765   \n",
       "1          10427  ...           2396           2684           3040   \n",
       "2            293  ...           1766           1988           3839   \n",
       "3           8938  ...            906            815            920   \n",
       "4            359  ...           2375           2747           6164   \n",
       "\n",
       "   18:00 ~ 19:00  19:00 ~ 20:00  20:00 ~ 21:00  21:00 ~ 22:00  22:00 ~ 23:00  \\\n",
       "0           9441           4326           2925           2838           1848   \n",
       "1           3220           1861           1379           1176            886   \n",
       "2           7287           2672           2329           2353           1296   \n",
       "3           1128            481            303            301            200   \n",
       "4          10258           4233           3736           3914           2937   \n",
       "\n",
       "   23:00 ~ 24:00  24:00 이후  \n",
       "0            849     117.0  \n",
       "1            354     129.0  \n",
       "2            483      41.0  \n",
       "3            107      38.0  \n",
       "4           1194      76.0  \n",
       "\n",
       "[5 rows x 26 columns]"
      ]
     },
     "execution_count": 99,
     "metadata": {},
     "output_type": "execute_result"
    }
   ],
   "source": [
    "pyarrow_df.head()"
   ]
  },
  {
   "cell_type": "code",
   "execution_count": 101,
   "id": "579bdfb5-d75c-4851-9b8f-ebf90388b583",
   "metadata": {},
   "outputs": [
    {
     "data": {
      "text/plain": [
       "연번               783490\n",
       "날짜               985769\n",
       "호선               985769\n",
       "역번호              985769\n",
       "역명               985769\n",
       "구분               985769\n",
       "06:00 이전         985769\n",
       "06:00 ~ 07:00    985769\n",
       "07:00 ~ 08:00    985769\n",
       "08:00 ~ 09:00    985769\n",
       "09:00 ~ 10:00    985769\n",
       "10:00 ~ 11:00    985769\n",
       "11:00 ~ 12:00    985769\n",
       "12:00 ~ 13:00    985769\n",
       "13:00 ~ 14:00    985769\n",
       "14:00 ~ 15:00    985769\n",
       "15:00 ~ 16:00    985769\n",
       "16:00 ~ 17:00    985769\n",
       "17:00 ~ 18:00    985769\n",
       "18:00 ~ 19:00    985769\n",
       "19:00 ~ 20:00    985769\n",
       "20:00 ~ 21:00    985769\n",
       "21:00 ~ 22:00    985769\n",
       "22:00 ~ 23:00    985769\n",
       "23:00 ~ 24:00    985769\n",
       "24:00 이후         699051\n",
       "dtype: int64"
      ]
     },
     "execution_count": 101,
     "metadata": {},
     "output_type": "execute_result"
    }
   ],
   "source": [
    "pyarrow_df.count()"
   ]
  },
  {
   "cell_type": "code",
   "execution_count": null,
   "id": "85c0f035-6ee6-455f-b42e-e55be6c15ac6",
   "metadata": {},
   "outputs": [],
   "source": [
    "def bigfile_read(file_path):\n",
    "    import dask.dataframe as dd\n",
    "    # file_path = 'G:/내 드라이브/DataSet/서울특별시 공공자전거 이용정보(일별)/서울특별시 공공자전거 이용정보(일별).csv'\n",
    "    #file_path = 'G:/내 드라이브/DataSet/서울특별시 공공자전거 대여소별 이용정보(시간대별)/2020/서울특별시 공공자전거 대여소별 이용정보(시간대별)_2020.CSV'\n",
    "    \n",
    "    start_time = time.time()  # 시작 시간 저장\n",
    "    dask_df = dd.read_csv(file_path)\n",
    "    \n",
    "    print(\"time :\", time.time() - start_time) # 현재시간 - 시작시간\n",
    "    return dask_df"
   ]
  },
  {
   "cell_type": "code",
   "execution_count": 119,
   "id": "27c335ac-4dc1-4ed2-bfd7-4d0cd665f78c",
   "metadata": {},
   "outputs": [
    {
     "name": "stdout",
     "output_type": "stream",
     "text": [
      "time : 0.0\n"
     ]
    }
   ],
   "source": [
    "big_read = bigfile_read('G:/내 드라이브/DataSet/서울특별시 공공자전거 대여소별 이용정보(시간대별)/2020/서울특별시 공공자전거 대여소별 이용정보(시간대별)_2020.CSV')"
   ]
  },
  {
   "cell_type": "code",
   "execution_count": 123,
   "id": "9fa45ec3-b59d-43bb-befe-83ce478af3fc",
   "metadata": {},
   "outputs": [
    {
     "data": {
      "text/html": [
       "<div><strong>Dask DataFrame Structure:</strong></div>\n",
       "<table border=\"1\" class=\"dataframe\">\n",
       "  <thead>\n",
       "    <tr style=\"text-align: right;\">\n",
       "      <th></th>\n",
       "      <th>대여일자</th>\n",
       "      <th>대여시간</th>\n",
       "      <th>대여소번호</th>\n",
       "      <th>대여소명</th>\n",
       "      <th>대여구분코드</th>\n",
       "      <th>성별</th>\n",
       "      <th>연령대코드</th>\n",
       "      <th>이용건수</th>\n",
       "      <th>운동량</th>\n",
       "      <th>탄소량</th>\n",
       "      <th>이동거리</th>\n",
       "      <th>사용시간</th>\n",
       "    </tr>\n",
       "    <tr>\n",
       "      <th>npartitions=26</th>\n",
       "      <th></th>\n",
       "      <th></th>\n",
       "      <th></th>\n",
       "      <th></th>\n",
       "      <th></th>\n",
       "      <th></th>\n",
       "      <th></th>\n",
       "      <th></th>\n",
       "      <th></th>\n",
       "      <th></th>\n",
       "      <th></th>\n",
       "      <th></th>\n",
       "    </tr>\n",
       "  </thead>\n",
       "  <tbody>\n",
       "    <tr>\n",
       "      <th></th>\n",
       "      <td>string</td>\n",
       "      <td>int64</td>\n",
       "      <td>int64</td>\n",
       "      <td>string</td>\n",
       "      <td>string</td>\n",
       "      <td>float64</td>\n",
       "      <td>string</td>\n",
       "      <td>int64</td>\n",
       "      <td>float64</td>\n",
       "      <td>float64</td>\n",
       "      <td>float64</td>\n",
       "      <td>int64</td>\n",
       "    </tr>\n",
       "    <tr>\n",
       "      <th></th>\n",
       "      <td>...</td>\n",
       "      <td>...</td>\n",
       "      <td>...</td>\n",
       "      <td>...</td>\n",
       "      <td>...</td>\n",
       "      <td>...</td>\n",
       "      <td>...</td>\n",
       "      <td>...</td>\n",
       "      <td>...</td>\n",
       "      <td>...</td>\n",
       "      <td>...</td>\n",
       "      <td>...</td>\n",
       "    </tr>\n",
       "    <tr>\n",
       "      <th>...</th>\n",
       "      <td>...</td>\n",
       "      <td>...</td>\n",
       "      <td>...</td>\n",
       "      <td>...</td>\n",
       "      <td>...</td>\n",
       "      <td>...</td>\n",
       "      <td>...</td>\n",
       "      <td>...</td>\n",
       "      <td>...</td>\n",
       "      <td>...</td>\n",
       "      <td>...</td>\n",
       "      <td>...</td>\n",
       "    </tr>\n",
       "    <tr>\n",
       "      <th></th>\n",
       "      <td>...</td>\n",
       "      <td>...</td>\n",
       "      <td>...</td>\n",
       "      <td>...</td>\n",
       "      <td>...</td>\n",
       "      <td>...</td>\n",
       "      <td>...</td>\n",
       "      <td>...</td>\n",
       "      <td>...</td>\n",
       "      <td>...</td>\n",
       "      <td>...</td>\n",
       "      <td>...</td>\n",
       "    </tr>\n",
       "    <tr>\n",
       "      <th></th>\n",
       "      <td>...</td>\n",
       "      <td>...</td>\n",
       "      <td>...</td>\n",
       "      <td>...</td>\n",
       "      <td>...</td>\n",
       "      <td>...</td>\n",
       "      <td>...</td>\n",
       "      <td>...</td>\n",
       "      <td>...</td>\n",
       "      <td>...</td>\n",
       "      <td>...</td>\n",
       "      <td>...</td>\n",
       "    </tr>\n",
       "  </tbody>\n",
       "</table>\n",
       "<div>Dask Name: read_csv, 1 expression</div>"
      ],
      "text/plain": [
       "Dask DataFrame Structure:\n",
       "                  대여일자   대여시간  대여소번호    대여소명  대여구분코드       성별   연령대코드   이용건수      운동량      탄소량     이동거리   사용시간\n",
       "npartitions=26                                                                                                \n",
       "                string  int64  int64  string  string  float64  string  int64  float64  float64  float64  int64\n",
       "                   ...    ...    ...     ...     ...      ...     ...    ...      ...      ...      ...    ...\n",
       "...                ...    ...    ...     ...     ...      ...     ...    ...      ...      ...      ...    ...\n",
       "                   ...    ...    ...     ...     ...      ...     ...    ...      ...      ...      ...    ...\n",
       "                   ...    ...    ...     ...     ...      ...     ...    ...      ...      ...      ...    ...\n",
       "Dask Name: read_csv, 1 expression\n",
       "Expr=ReadCSV(9d4fb60)"
      ]
     },
     "execution_count": 123,
     "metadata": {},
     "output_type": "execute_result"
    }
   ],
   "source": [
    "big_read"
   ]
  },
  {
   "cell_type": "code",
   "execution_count": 125,
   "id": "8fe50175-2fcc-46ac-9cce-228822230985",
   "metadata": {},
   "outputs": [
    {
     "name": "stdout",
     "output_type": "stream",
     "text": [
      "time : 0.0\n"
     ]
    }
   ],
   "source": [
    "import dask.dataframe as dd\n",
    "# file_path = 'G:/내 드라이브/DataSet/서울특별시 공공자전거 이용정보(일별)/서울특별시 공공자전거 이용정보(일별).csv'\n",
    "file_path = 'G:/내 드라이브/DataSet/서울특별시 공공자전거 대여소별 이용정보(시간대별)/2020/서울특별시 공공자전거 대여소별 이용정보(시간대별)_2020.CSV'\n",
    "\n",
    "start_time = time.time()  # 시작 시간 저장\n",
    "dask_df = dd.read_csv(file_path)\n",
    "\n",
    "print(\"time :\", time.time() - start_time) # 현재시간 - 시작시간"
   ]
  },
  {
   "cell_type": "code",
   "execution_count": 107,
   "id": "1105189d-6f8d-4f0c-80d3-050efbe8e554",
   "metadata": {},
   "outputs": [
    {
     "data": {
      "text/plain": [
       "Dask Series Structure:\n",
       "npartitions=1\n",
       "대여구분코드    int64\n",
       "탄소량         ...\n",
       "Dask Name: count, 2 expressions\n",
       "Expr=ReadCSV(9d4fb60).count()"
      ]
     },
     "execution_count": 107,
     "metadata": {},
     "output_type": "execute_result"
    }
   ],
   "source": [
    "dask_df.count()"
   ]
  },
  {
   "cell_type": "code",
   "execution_count": null,
   "id": "a375cafe-ba99-43bb-9319-dd107591735f",
   "metadata": {},
   "outputs": [],
   "source": []
  }
 ],
 "metadata": {
  "kernelspec": {
   "display_name": "Python 3 (ipykernel)",
   "language": "python",
   "name": "python3"
  },
  "language_info": {
   "codemirror_mode": {
    "name": "ipython",
    "version": 3
   },
   "file_extension": ".py",
   "mimetype": "text/x-python",
   "name": "python",
   "nbconvert_exporter": "python",
   "pygments_lexer": "ipython3",
   "version": "3.12.4"
  }
 },
 "nbformat": 4,
 "nbformat_minor": 5
}
