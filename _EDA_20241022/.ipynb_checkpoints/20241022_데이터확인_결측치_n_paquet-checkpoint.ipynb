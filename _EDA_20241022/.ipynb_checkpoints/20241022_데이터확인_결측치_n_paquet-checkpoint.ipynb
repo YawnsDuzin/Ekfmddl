{
 "cells": [
  {
   "cell_type": "markdown",
   "id": "0ad46770-ed39-48ac-b530-02283e2130de",
   "metadata": {},
   "source": [
    "### 사용자 정의함수 불러오기"
   ]
  },
  {
   "cell_type": "code",
   "execution_count": 4,
   "id": "b1c6104d-9edb-48db-913a-aebfe15af4bd",
   "metadata": {},
   "outputs": [],
   "source": [
    "# 라이브러리 임포트\n",
    "import os\n",
    "import pandas as pd\n",
    "import chardet\n",
    "\n",
    "# 사용자 정의함수 경로 설정\n",
    "import sys\n",
    "sys.path.append(\"G:/내 드라이브/Source/_Custom_Function\")\n",
    "# 사용자 정의함수 불러오기\n",
    "\n",
    "import time\n",
    "\n",
    "import ExcelFile_Merge as em\n",
    "import ExcelFile_Read as er\n",
    "import ExcelFile_EDA as ee"
   ]
  },
  {
   "cell_type": "markdown",
   "id": "86d0185d-5a47-4178-acc4-494d406206d0",
   "metadata": {},
   "source": [
    "---\n",
    "### 결측치 체크 배치 코드\n",
    " - 동일폴더의 전체 파일의 결측치(isnull), '\\n' 체크하여 1개도 없는 경우에만 .parquet 형식으로 저장하도록 처리"
   ]
  },
  {
   "cell_type": "markdown",
   "id": "c94b96ef-2bd1-4f7e-9d70-8fad4d3c3c13",
   "metadata": {},
   "source": [
    "#### 이 결로만 바꿔서 실행"
   ]
  },
  {
   "cell_type": "code",
   "execution_count": 7,
   "id": "c499c388-853c-4990-bd20-e0cc0d1dbc7e",
   "metadata": {},
   "outputs": [],
   "source": [
    "path_dateset = 'G:\\\\내 드라이브\\\\DataSet\\\\'\n",
    "path_sub = '_최종 병합 파일\\\\서울 생활이동\\\\2020\\\\'"
   ]
  },
  {
   "cell_type": "code",
   "execution_count": null,
   "id": "69ac8be6-220b-42a8-b13c-bbd98f1b5f5a",
   "metadata": {},
   "outputs": [
    {
     "name": "stdout",
     "output_type": "stream",
     "text": [
      "path :  G:\\내 드라이브\\DataSet\\_최종 병합 파일\\서울 생활이동\\2020\\\n",
      "file_lists : \n",
      " 생활이동_행정동_2020.01.csv\n",
      " 생활이동_행정동_2020.02.csv\n",
      " 생활이동_행정동_2020.03.csv\n",
      " 생활이동_행정동_2020.04.csv\n",
      " 생활이동_행정동_2020.06.csv\n",
      " 생활이동_행정동_2020.07.csv\n",
      " 생활이동_행정동_2020.08.csv\n",
      " 생활이동_행정동_2020.09.csv\n",
      " 생활이동_행정동_2020.10.csv\n",
      " 생활이동_행정동_2020.11.csv\n",
      " 생활이동_행정동_2020.12.csv\n",
      " 생활이동_행정동_2020.05.csv\n",
      "===========================================\n",
      "file :  생활이동_행정동_2020.01.csv, encoding :  utf-8\n",
      " - Read_dask(생활이동_행정동_2020.01.csv) time : 1.11710786819458\n",
      "[########################################] | 100% Completed | 94.19 s\n",
      " - compute time(생활이동_행정동_2020.01.csv) : 94.70086693763733\n",
      " ㄴ 결측치 확인 :  0\n",
      " ㄴ \"\\n\" 확인 :  0\n",
      " - to_parquet time(생활이동_행정동_2020.01.csv) : 70.86001205444336\n",
      "file :  생활이동_행정동_2020.02.csv, encoding :  utf-8\n",
      " - Read_dask(생활이동_행정동_2020.02.csv) time : 0.21192669868469238\n",
      "[####################################### ] | 98% Completed | 80.72 ss"
     ]
    }
   ],
   "source": [
    "path = path_dateset + path_sub\n",
    "print('path : ', path)\n",
    "\n",
    "#파일 경로명 변경\n",
    "file_list = os.listdir(path)\n",
    "file_lists = [file for file in file_list if file.endswith((\".csv\", \".xlsx\"))]\n",
    "print('file_lists : \\n', '\\n '.join(file_lists))\n",
    "print('===========================================')\n",
    "\n",
    "for _, file in enumerate(file_lists):\n",
    "    try:\n",
    "        print('file : ', file + ', encoding : ', em.Get_ExcelEncoding(path + file))\n",
    "\n",
    "        # 서울 생활이동 데이터 불러오기\n",
    "        start_time = time.time()\n",
    "        dask = er.Read_dask(path + file)\n",
    "        print(\" - Read_dask(\" + file + \") time :\", time.time() - start_time)\n",
    "\n",
    "        from dask.diagnostics import ProgressBar\n",
    "        from time import sleep\n",
    "        pbar = ProgressBar()\n",
    "        pbar.register()\n",
    "        start_time = time.time()\n",
    "        df_dask_rtn = dask.compute()\n",
    "        del dask  # 메모리 정리\n",
    "        print(\" - compute time(\" + file + \") :\", time.time() - start_time)        \n",
    "\n",
    "        chk1 = df_dask_rtn.isnull().sum().sum()     # 결측치 확인\n",
    "        chk2 = (df_dask_rtn == '\\n').sum().sum()    # '\\n' 확인\n",
    "        print(' ㄴ 결측치 확인 : ', chk1)\n",
    "        print(' ㄴ \"\\\\n\" 확인 : ', chk2)\n",
    "\n",
    "        if (chk1 + chk2) == 0:\n",
    "            start_time = time.time()\n",
    "            df_dask_rtn.to_parquet(path + 'parquet\\\\' + em.Extract_Filename(file) + '.parquet', index=False)\n",
    "            print(\" - to_parquet time(\" + file + \") :\", time.time() - start_time)\n",
    "            \n",
    "        del df_dask_rtn   # 메모리 정리\n",
    "    except:\n",
    "        print('- Err : ', file)\n",
    "            "
   ]
  },
  {
   "cell_type": "code",
   "execution_count": null,
   "id": "567c86a3-ad71-4b3c-bbb7-6dda8934643c",
   "metadata": {},
   "outputs": [],
   "source": []
  }
 ],
 "metadata": {
  "kernelspec": {
   "display_name": "Python 3 (ipykernel)",
   "language": "python",
   "name": "python3"
  },
  "language_info": {
   "codemirror_mode": {
    "name": "ipython",
    "version": 3
   },
   "file_extension": ".py",
   "mimetype": "text/x-python",
   "name": "python",
   "nbconvert_exporter": "python",
   "pygments_lexer": "ipython3",
   "version": "3.12.4"
  }
 },
 "nbformat": 4,
 "nbformat_minor": 5
}
