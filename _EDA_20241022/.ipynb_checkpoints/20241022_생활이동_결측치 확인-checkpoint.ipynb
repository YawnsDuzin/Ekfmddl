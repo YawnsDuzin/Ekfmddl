{
 "cells": [
  {
   "cell_type": "code",
   "execution_count": 4,
   "id": "b1c6104d-9edb-48db-913a-aebfe15af4bd",
   "metadata": {},
   "outputs": [],
   "source": [
    "# 라이브러리 임포트\n",
    "import os\n",
    "import pandas as pd\n",
    "import chardet\n",
    "\n",
    "# 사용자 정의함수 경로 설정\n",
    "import sys\n",
    "sys.path.append(\"G:/내 드라이브/Source/_Custom_Function\")\n",
    "# 사용자 정의함수 불러오기\n",
    "\n",
    "import time\n",
    "\n",
    "import ExcelFile_Merge as em\n",
    "import ExcelFile_Read as er\n",
    "import ExcelFile_EDA as ee"
   ]
  },
  {
   "cell_type": "markdown",
   "id": "86d0185d-5a47-4178-acc4-494d406206d0",
   "metadata": {},
   "source": [
    "---\n",
    "### 결측치 체크 배치 코드"
   ]
  },
  {
   "cell_type": "code",
   "execution_count": 7,
   "id": "c499c388-853c-4990-bd20-e0cc0d1dbc7e",
   "metadata": {},
   "outputs": [],
   "source": [
    "path_dateset = 'G:\\\\내 드라이브\\\\DataSet\\\\'\n",
    "path_sub = '_최종 병합 파일\\\\서울 생활이동\\\\2020\\\\'"
   ]
  },
  {
   "cell_type": "code",
   "execution_count": 2,
   "id": "69ac8be6-220b-42a8-b13c-bbd98f1b5f5a",
   "metadata": {},
   "outputs": [
    {
     "ename": "NameError",
     "evalue": "name 'path_dateset' is not defined",
     "output_type": "error",
     "traceback": [
      "\u001b[1;31m---------------------------------------------------------------------------\u001b[0m",
      "\u001b[1;31mNameError\u001b[0m                                 Traceback (most recent call last)",
      "Cell \u001b[1;32mIn[2], line 1\u001b[0m\n\u001b[1;32m----> 1\u001b[0m path \u001b[38;5;241m=\u001b[39m \u001b[43mpath_dateset\u001b[49m \u001b[38;5;241m+\u001b[39m path_sub\n\u001b[0;32m      2\u001b[0m \u001b[38;5;28mprint\u001b[39m(\u001b[38;5;124m'\u001b[39m\u001b[38;5;124mpath : \u001b[39m\u001b[38;5;124m'\u001b[39m, path)\n\u001b[0;32m      4\u001b[0m \u001b[38;5;66;03m#파일 경로명 변경\u001b[39;00m\n",
      "\u001b[1;31mNameError\u001b[0m: name 'path_dateset' is not defined"
     ]
    }
   ],
   "source": [
    "path = path_dateset + path_sub\n",
    "print('path : ', path)\n",
    "\n",
    "#파일 경로명 변경\n",
    "file_list = os.listdir(path)\n",
    "file_lists = [file for file in file_list if file.endswith((\".csv\", \".xlsx\"))]\n",
    "print('file_lists : \\n', '\\n '.join(file_lists))\n",
    "print('===========================================')\n",
    "\n",
    "for _, file in enumerate(file_lists):\n",
    "    try:\n",
    "        print('file : ', file + ', encoding : ', em.Get_ExcelEncoding(path + file))\n",
    "\n",
    "        # 서울 생활이동 데이터 불러오기\n",
    "        start_time = time.time()\n",
    "        dask = er.Read_dask(path + file)\n",
    "        print(\" - Read_dask(\" + file + \") time :\", time.time() - start_time)\n",
    "\n",
    "        from dask.diagnostics import ProgressBar\n",
    "        from time import sleep\n",
    "        pbar = ProgressBar()\n",
    "        pbar.register()\n",
    "        start_time = time.time()\n",
    "        df_dask_rtn = dask.compute()\n",
    "        del dask  # 메모리 정리\n",
    "        print(\" - compute time(\" + file + \") :\", time.time() - start_time)        \n",
    "\n",
    "        chk1 = df_dask_rtn.isnull().sum().sum()     # 결측치 확인\n",
    "        chk2 = (df_dask_rtn == '\\n').sum().sum()    # '\\n' 확인\n",
    "        print(' ㄴ 결측치 확인 : ', chk1)\n",
    "        print(' ㄴ \"\\\\n\" 확인 : ', chk2)\n",
    "\n",
    "        if (chk1 + chk2) == 0:\n",
    "            start_time = time.time()\n",
    "            df_dask_rtn.to_parquet(path + 'parquet\\\\' + file + '.parquet', index=False)\n",
    "            print(\" - to_parquet time(\" + file + \") :\", time.time() - start_time)\n",
    "            \n",
    "        del df_dask_rtn   # 메모리 정리\n",
    "    except:\n",
    "        print('- Err : ', file)\n",
    "            "
   ]
  },
  {
   "cell_type": "code",
   "execution_count": null,
   "id": "567c86a3-ad71-4b3c-bbb7-6dda8934643c",
   "metadata": {},
   "outputs": [],
   "source": []
  }
 ],
 "metadata": {
  "kernelspec": {
   "display_name": "Python 3 (ipykernel)",
   "language": "python",
   "name": "python3"
  },
  "language_info": {
   "codemirror_mode": {
    "name": "ipython",
    "version": 3
   },
   "file_extension": ".py",
   "mimetype": "text/x-python",
   "name": "python",
   "nbconvert_exporter": "python",
   "pygments_lexer": "ipython3",
   "version": "3.12.4"
  }
 },
 "nbformat": 4,
 "nbformat_minor": 5
}
