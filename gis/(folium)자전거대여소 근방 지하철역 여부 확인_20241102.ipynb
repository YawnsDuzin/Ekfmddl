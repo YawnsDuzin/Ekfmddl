{
 "cells": [
  {
   "cell_type": "code",
   "execution_count": 2,
   "id": "46147020-e986-4b30-9d2a-db9dfb5e9af0",
   "metadata": {},
   "outputs": [],
   "source": [
    "import pandas as pd\n",
    "import numpy as np\n",
    "import json\n",
    "\n",
    "import folium"
   ]
  },
  {
   "cell_type": "code",
   "execution_count": 3,
   "id": "556bde44-e3a7-4097-a6f7-6de3d3316f52",
   "metadata": {},
   "outputs": [],
   "source": [
    "# 나의 루트 경로 설정\n",
    "path_dateset = 'G:/내 드라이브/DataSet/'"
   ]
  },
  {
   "cell_type": "markdown",
   "id": "f0bf14c9-34ca-4032-a7ab-ec7c61a035a9",
   "metadata": {},
   "source": [
    "## 데이터 불러오기"
   ]
  },
  {
   "cell_type": "markdown",
   "id": "86a2fdb3-464d-4290-9275-a292a2721cc2",
   "metadata": {},
   "source": [
    "### 자전거 도로 정보"
   ]
  },
  {
   "cell_type": "code",
   "execution_count": 8,
   "id": "dfbcb72c-e811-4fef-9ebe-efe3565ac726",
   "metadata": {},
   "outputs": [],
   "source": [
    "geo_path = path_dateset + '_최종 병합 파일\\\\서울시 자전거 도로 데이터\\\\' + 'ddareng_road.geojson'\n",
    "# geo_str = json.load(open(geo_path, encoding='cp949'))\n",
    "# encoding을 UTF-8로 지정\n",
    "with open(geo_path, 'rt', encoding='utf-8') as f:\n",
    "    geo_str = json.load(f)\n",
    "# # ============================"
   ]
  },
  {
   "cell_type": "markdown",
   "id": "1116cb4e-3294-40b2-a2f0-f00cd8a497d4",
   "metadata": {},
   "source": [
    "### 자치구 구분 정보"
   ]
  },
  {
   "cell_type": "code",
   "execution_count": 11,
   "id": "5029c9f1-efd2-4669-94be-0a2069f82907",
   "metadata": {},
   "outputs": [],
   "source": [
    "geo_path = path_dateset + 'seoul_municipalities_geo_simple.json'\n",
    "# geo_str = json.load(open(geo_path, encoding='cp949'))\n",
    "# encoding을 UTF-8로 지정\n",
    "with open(geo_path, 'rt', encoding='utf-8') as f:\n",
    "    geo_str2 = json.load(f)\n",
    "# # ============================"
   ]
  },
  {
   "cell_type": "markdown",
   "id": "596a3f7e-d630-4f2f-b997-a5a0834a1b32",
   "metadata": {},
   "source": [
    "### 자전거 대여소 정보"
   ]
  },
  {
   "cell_type": "code",
   "execution_count": 14,
   "id": "1199e902-d6ca-4ae6-94ed-3d1eb74cba1d",
   "metadata": {},
   "outputs": [],
   "source": [
    "cols = ['대여소번호', '보관소(대여소)명', '자치구', '상세주소', '위도', '경도', '설치시기', '거치대수(LCD)', '거치대수(QR)', '운영방식']\n",
    "# rental = pd.read_csv(path_dateset + '서울시 공공자전거 대여소 정보/공공자전거 대여소 정보(24.6월 기준).xlsx', encoding = 'utf-8', names = cols, index_col = False)\n",
    "df_bike_rentalstation = pd.read_excel(path_dateset + '_최종 병합 파일\\서울시 공공자전거 대여소 정보/공공자전거 대여소 정보(24.6월 기준).xlsx', sheet_name='대여소현황', names = cols)\n",
    "df_bike_rentalstation = df_bike_rentalstation.iloc[4:]\n",
    "df_bike_rentalstation.reset_index(drop = True, inplace = True)"
   ]
  },
  {
   "cell_type": "code",
   "execution_count": 18,
   "id": "779955cc-8727-4ab4-a24a-792e5ef2023b",
   "metadata": {},
   "outputs": [
    {
     "data": {
      "text/html": [
       "<div>\n",
       "<style scoped>\n",
       "    .dataframe tbody tr th:only-of-type {\n",
       "        vertical-align: middle;\n",
       "    }\n",
       "\n",
       "    .dataframe tbody tr th {\n",
       "        vertical-align: top;\n",
       "    }\n",
       "\n",
       "    .dataframe thead th {\n",
       "        text-align: right;\n",
       "    }\n",
       "</style>\n",
       "<table border=\"1\" class=\"dataframe\">\n",
       "  <thead>\n",
       "    <tr style=\"text-align: right;\">\n",
       "      <th></th>\n",
       "      <th>대여소번호</th>\n",
       "      <th>보관소(대여소)명</th>\n",
       "      <th>자치구</th>\n",
       "      <th>상세주소</th>\n",
       "      <th>위도</th>\n",
       "      <th>경도</th>\n",
       "      <th>설치시기</th>\n",
       "      <th>거치대수(LCD)</th>\n",
       "      <th>거치대수(QR)</th>\n",
       "      <th>운영방식</th>\n",
       "    </tr>\n",
       "  </thead>\n",
       "  <tbody>\n",
       "    <tr>\n",
       "      <th>0</th>\n",
       "      <td>301.0</td>\n",
       "      <td>경복궁역 7번출구 앞</td>\n",
       "      <td>종로구</td>\n",
       "      <td>서울특별시 종로구 사직로 지하130 경복궁역 7번출구 앞</td>\n",
       "      <td>37.575794</td>\n",
       "      <td>126.971451</td>\n",
       "      <td>2015-10-07 12:03:46</td>\n",
       "      <td>20</td>\n",
       "      <td>20</td>\n",
       "      <td>QR</td>\n",
       "    </tr>\n",
       "    <tr>\n",
       "      <th>1</th>\n",
       "      <td>302.0</td>\n",
       "      <td>경복궁역 4번출구 뒤</td>\n",
       "      <td>종로구</td>\n",
       "      <td>서울특별시 종로구 사직로 지하130 경복궁역 4번출구 뒤</td>\n",
       "      <td>37.575947</td>\n",
       "      <td>126.97406</td>\n",
       "      <td>2015-10-07 12:04:22</td>\n",
       "      <td>12</td>\n",
       "      <td>12</td>\n",
       "      <td>QR</td>\n",
       "    </tr>\n",
       "    <tr>\n",
       "      <th>2</th>\n",
       "      <td>303.0</td>\n",
       "      <td>광화문역 1번출구 앞</td>\n",
       "      <td>종로구</td>\n",
       "      <td>서울특별시 종로구 세종대로 지하189 세종로공원</td>\n",
       "      <td>37.57177</td>\n",
       "      <td>126.974663</td>\n",
       "      <td>2015-10-07 00:00:00</td>\n",
       "      <td>8</td>\n",
       "      <td>8</td>\n",
       "      <td>QR</td>\n",
       "    </tr>\n",
       "  </tbody>\n",
       "</table>\n",
       "</div>"
      ],
      "text/plain": [
       "   대여소번호     보관소(대여소)명  자치구                             상세주소         위도  \\\n",
       "0  301.0   경복궁역 7번출구 앞  종로구  서울특별시 종로구 사직로 지하130 경복궁역 7번출구 앞  37.575794   \n",
       "1  302.0   경복궁역 4번출구 뒤  종로구  서울특별시 종로구 사직로 지하130 경복궁역 4번출구 뒤  37.575947   \n",
       "2  303.0   광화문역 1번출구 앞  종로구       서울특별시 종로구 세종대로 지하189 세종로공원   37.57177   \n",
       "\n",
       "           경도                설치시기 거치대수(LCD) 거치대수(QR) 운영방식  \n",
       "0  126.971451 2015-10-07 12:03:46        20       20   QR  \n",
       "1   126.97406 2015-10-07 12:04:22        12       12   QR  \n",
       "2  126.974663 2015-10-07 00:00:00         8        8   QR  "
      ]
     },
     "execution_count": 18,
     "metadata": {},
     "output_type": "execute_result"
    }
   ],
   "source": [
    "df_bike_rentalstation.head(3)"
   ]
  },
  {
   "cell_type": "code",
   "execution_count": 20,
   "id": "bf8c7142-b47e-48ef-b4b4-68ee24f88531",
   "metadata": {},
   "outputs": [
    {
     "name": "stdout",
     "output_type": "stream",
     "text": [
      "<class 'pandas.core.frame.DataFrame'>\n",
      "RangeIndex: 2763 entries, 0 to 2762\n",
      "Data columns (total 10 columns):\n",
      " #   Column     Non-Null Count  Dtype         \n",
      "---  ------     --------------  -----         \n",
      " 0   대여소번호      2763 non-null   float64       \n",
      " 1   보관소(대여소)명  2763 non-null   object        \n",
      " 2   자치구        2763 non-null   object        \n",
      " 3   상세주소       2763 non-null   object        \n",
      " 4   위도         2763 non-null   object        \n",
      " 5   경도         2763 non-null   object        \n",
      " 6   설치시기       2763 non-null   datetime64[ns]\n",
      " 7   거치대수(LCD)  1444 non-null   object        \n",
      " 8   거치대수(QR)   1662 non-null   object        \n",
      " 9   운영방식       2763 non-null   object        \n",
      "dtypes: datetime64[ns](1), float64(1), object(8)\n",
      "memory usage: 216.0+ KB\n"
     ]
    }
   ],
   "source": [
    "df_bike_rentalstation.info()"
   ]
  },
  {
   "cell_type": "markdown",
   "id": "eb87d4cc-1a77-48d6-a7a9-0119050c3b26",
   "metadata": {},
   "source": [
    "---\n",
    "# 자치구별 자전거 밀도확인"
   ]
  },
  {
   "cell_type": "code",
   "execution_count": 23,
   "id": "d5354ca1-e411-49bb-ad24-e04852c58de0",
   "metadata": {},
   "outputs": [],
   "source": [
    "have_bikes = df_bike_rentalstation.groupby('자치구').size()"
   ]
  },
  {
   "cell_type": "markdown",
   "id": "3fc8e9a8-cb42-464b-bf33-44efb339173c",
   "metadata": {},
   "source": [
    "### 지하철역통합_20241031.parquet"
   ]
  },
  {
   "cell_type": "code",
   "execution_count": 28,
   "id": "56b04641-f9e2-4c07-a974-2014338ee6ac",
   "metadata": {},
   "outputs": [
    {
     "data": {
      "text/html": [
       "<div>\n",
       "<style scoped>\n",
       "    .dataframe tbody tr th:only-of-type {\n",
       "        vertical-align: middle;\n",
       "    }\n",
       "\n",
       "    .dataframe tbody tr th {\n",
       "        vertical-align: top;\n",
       "    }\n",
       "\n",
       "    .dataframe thead th {\n",
       "        text-align: right;\n",
       "    }\n",
       "</style>\n",
       "<table border=\"1\" class=\"dataframe\">\n",
       "  <thead>\n",
       "    <tr style=\"text-align: right;\">\n",
       "      <th></th>\n",
       "      <th>연번</th>\n",
       "      <th>역번호</th>\n",
       "      <th>호선</th>\n",
       "      <th>역명</th>\n",
       "      <th>역전화번호</th>\n",
       "      <th>도로명주소</th>\n",
       "      <th>지번주소</th>\n",
       "      <th>station_code</th>\n",
       "      <th>seoulmetro_code</th>\n",
       "      <th>external_code</th>\n",
       "      <th>station_name(kor)</th>\n",
       "      <th>lat</th>\n",
       "      <th>lng</th>\n",
       "    </tr>\n",
       "  </thead>\n",
       "  <tbody>\n",
       "    <tr>\n",
       "      <th>0</th>\n",
       "      <td>NaN</td>\n",
       "      <td>None</td>\n",
       "      <td>NaN</td>\n",
       "      <td>&lt;NA&gt;</td>\n",
       "      <td>&lt;NA&gt;</td>\n",
       "      <td>&lt;NA&gt;</td>\n",
       "      <td>&lt;NA&gt;</td>\n",
       "      <td>651.0</td>\n",
       "      <td>4703</td>\n",
       "      <td>943</td>\n",
       "      <td>419민주묘지</td>\n",
       "      <td>37.648235</td>\n",
       "      <td>127.008614</td>\n",
       "    </tr>\n",
       "    <tr>\n",
       "      <th>1</th>\n",
       "      <td>NaN</td>\n",
       "      <td>None</td>\n",
       "      <td>NaN</td>\n",
       "      <td>&lt;NA&gt;</td>\n",
       "      <td>&lt;NA&gt;</td>\n",
       "      <td>&lt;NA&gt;</td>\n",
       "      <td>&lt;NA&gt;</td>\n",
       "      <td>335.0</td>\n",
       "      <td>1907</td>\n",
       "      <td>109</td>\n",
       "      <td>가능</td>\n",
       "      <td>37.748577</td>\n",
       "      <td>127.044213</td>\n",
       "    </tr>\n",
       "    <tr>\n",
       "      <th>2</th>\n",
       "      <td>92.0</td>\n",
       "      <td>340</td>\n",
       "      <td>3.0</td>\n",
       "      <td>가락시장</td>\n",
       "      <td>02-6110-3501</td>\n",
       "      <td>서울특별시 송파구 송파대로 지하257(가락동)</td>\n",
       "      <td>서울특별시 송파구 가락동 184-23 가락시장역(3호선)</td>\n",
       "      <td>78.0</td>\n",
       "      <td>340</td>\n",
       "      <td>350</td>\n",
       "      <td>가락시장</td>\n",
       "      <td>37.492522</td>\n",
       "      <td>127.118234</td>\n",
       "    </tr>\n",
       "  </tbody>\n",
       "</table>\n",
       "</div>"
      ],
      "text/plain": [
       "     연번   역번호   호선    역명         역전화번호                      도로명주소  \\\n",
       "0   NaN  None  NaN  <NA>          <NA>                       <NA>   \n",
       "1   NaN  None  NaN  <NA>          <NA>                       <NA>   \n",
       "2  92.0   340  3.0  가락시장  02-6110-3501  서울특별시 송파구 송파대로 지하257(가락동)   \n",
       "\n",
       "                              지번주소  station_code  seoulmetro_code  \\\n",
       "0                             <NA>         651.0             4703   \n",
       "1                             <NA>         335.0             1907   \n",
       "2  서울특별시 송파구 가락동 184-23 가락시장역(3호선)          78.0              340   \n",
       "\n",
       "   external_code  station_name(kor)        lat         lng  \n",
       "0            943            419민주묘지  37.648235  127.008614  \n",
       "1            109                 가능  37.748577  127.044213  \n",
       "2            350               가락시장  37.492522  127.118234  "
      ]
     },
     "execution_count": 28,
     "metadata": {},
     "output_type": "execute_result"
    }
   ],
   "source": [
    "filename = '_최종 병합 파일\\\\서울교통공사 역주소 및 전화번호\\\\지하철역통합_20241031.parquet'\n",
    "df_train_station = pd.read_parquet(path_dateset + filename)\n",
    "df_train_station.head(3)"
   ]
  },
  {
   "cell_type": "code",
   "execution_count": 30,
   "id": "fbd9ee10-0e9f-4d00-b309-c56f35c67c1e",
   "metadata": {},
   "outputs": [
    {
     "data": {
      "text/plain": [
       "Index(['연번', '역번호', '호선', '역명', '역전화번호', '도로명주소', '지번주소', 'station_code',\n",
       "       ' seoulmetro_code', ' external_code', ' station_name(kor)', 'lat',\n",
       "       'lng'],\n",
       "      dtype='object')"
      ]
     },
     "execution_count": 30,
     "metadata": {},
     "output_type": "execute_result"
    }
   ],
   "source": [
    "df_train_station.columns"
   ]
  },
  {
   "cell_type": "code",
   "execution_count": 32,
   "id": "f3ce6841-5481-4da7-a93d-6671b204f831",
   "metadata": {},
   "outputs": [
    {
     "name": "stdout",
     "output_type": "stream",
     "text": [
      "df_bike_rentalstation.shape[0] : 2763\n",
      "df_train_station.shape[0] : 614\n"
     ]
    }
   ],
   "source": [
    "print(f'df_bike_rentalstation.shape[0] : {df_bike_rentalstation.shape[0]}')\n",
    "print(f'df_train_station.shape[0] : {df_train_station.shape[0]}')"
   ]
  },
  {
   "cell_type": "markdown",
   "id": "1c3e280b-dd34-4512-b3ff-092730fbe9d4",
   "metadata": {},
   "source": [
    "#### # Haversine 공식을 사용하여 두 지점 간의 거리 계산 함수\n",
    "- 좌표 값만으로 거리를 구할 수 있다."
   ]
  },
  {
   "cell_type": "code",
   "execution_count": 35,
   "id": "66540c85-5562-4c22-96ea-e086efd2031a",
   "metadata": {},
   "outputs": [],
   "source": [
    "def calculate_distance(lat1, lon1, lat2, lon2):\n",
    "    R = 6371e3  # 지구 반지름 (미터 단위)\n",
    "    phi1 = np.radians(lat1)\n",
    "    phi2 = np.radians(lat2)\n",
    "    delta_phi = np.radians(lat2 - lat1)\n",
    "    delta_lambda = np.radians(lon2 - lon1)\n",
    "\n",
    "    a = np.sin(delta_phi / 2) ** 2 + np.cos(phi1) * np.cos(phi2) * np.sin(delta_lambda / 2) ** 2\n",
    "    c = 2 * np.arctan2(np.sqrt(a), np.sqrt(1 - a))\n",
    "\n",
    "    return R * c"
   ]
  },
  {
   "cell_type": "code",
   "execution_count": 37,
   "id": "21684a72-7131-4b14-af45-45edbf15ac4a",
   "metadata": {},
   "outputs": [
    {
     "name": "stdout",
     "output_type": "stream",
     "text": [
      "      대여소_번호         대여소_명     대여소_위도      대여소_경도 근처지하철역_번호 근처지하철역_명  \\\n",
      "0      301.0   경복궁역 7번출구 앞  37.575794  126.971451        []       []   \n",
      "1      302.0   경복궁역 4번출구 뒤  37.575947  126.974060     [경복궁]    [317]   \n",
      "2      303.0   광화문역 1번출구 앞  37.571770  126.974663        []       []   \n",
      "3      305.0        종로구청 옆  37.572559  126.978333        []       []   \n",
      "4      307.0     서울역사박물관 앞  37.570000  126.971100        []       []   \n",
      "...      ...           ...        ...         ...       ...      ...   \n",
      "2758  5872.0       서경팰리스 앞  37.505764  126.908661        []       []   \n",
      "2759  6057.0   을지로5가(방산시장)  37.567398  127.002014        []       []   \n",
      "2760  6058.0   서울도시건축전시관 옆  37.566540  126.976845        []       []   \n",
      "2761  6059.0         덕수중학교  37.564392  126.997299        []       []   \n",
      "2762  6173.0   서울자동차운전전문학원  37.546135  126.821060        []       []   \n",
      "\n",
      "                근처지하철역_거리    근처지하철역_위도    근처지하철역_경도  \n",
      "0                      []           []           []  \n",
      "1     [51.03307857106119]  [37.575762]  [126.97353]  \n",
      "2                      []           []           []  \n",
      "3                      []           []           []  \n",
      "4                      []           []           []  \n",
      "...                   ...          ...          ...  \n",
      "2758                   []           []           []  \n",
      "2759                   []           []           []  \n",
      "2760                   []           []           []  \n",
      "2761                   []           []           []  \n",
      "2762                   []           []           []  \n",
      "\n",
      "[2763 rows x 9 columns]\n"
     ]
    }
   ],
   "source": [
    "# 자전거 대여소와 지하철역 간의 거리 확인\n",
    "result = []\n",
    "distance_limit = 100\n",
    "\n",
    "# 자전거대여소 개수만큼 반복\n",
    "for _, bike_station in df_bike_rentalstation.iterrows():\n",
    "    bike_location = (bike_station['위도'], bike_station['경도'])\n",
    "    nearby_stations_code = []    \n",
    "    nearby_stations_name = []\n",
    "    nearby_stations_distance = []\n",
    "    nearby_stations_lat = []    # 위도\n",
    "    nearby_stations_lng = []    # 경도\n",
    "\n",
    "    # 지하철역 개수만큼 반복\n",
    "    for _, train_station in df_train_station.iterrows():\n",
    "        train_location = (train_station['lat'], train_station['lng'])\n",
    "        distance = calculate_distance(bike_location[0], bike_location[1], train_location[0], train_location[1])\n",
    "\n",
    "        # 지하철역과의 거리가 100m이하리면, 역정보 저장\n",
    "        if distance <= distance_limit: # 거리 조건: 100m 이내\n",
    "            nearby_stations_code.append(train_station[' station_name(kor)'])\n",
    "            nearby_stations_name.append(train_station[' seoulmetro_code'])\n",
    "            nearby_stations_distance.append(distance)\n",
    "            nearby_stations_lat.append(train_station['lat'])\n",
    "            nearby_stations_lng.append(train_station['lng'])\n",
    "    \n",
    "    # result.append({'대여소명': bike_station['보관소(대여소)명'], '근처 지하철역': nearby_stations})\n",
    "    result.append({'대여소_번호': bike_station['대여소번호'],\n",
    "                   '대여소_명': bike_station['보관소(대여소)명'],\n",
    "                   '대여소_위도': bike_station['위도'],\n",
    "                   '대여소_경도': bike_station['경도'],\n",
    "                   '근처지하철역_번호': nearby_stations_code,\n",
    "                   '근처지하철역_명': nearby_stations_name,\n",
    "                   '근처지하철역_거리': nearby_stations_distance,\n",
    "                   '근처지하철역_위도': nearby_stations_lat,\n",
    "                   '근처지하철역_경도': nearby_stations_lng,\n",
    "                  })\n",
    "\n",
    "# 결과 출력\n",
    "result_df = pd.DataFrame(result)\n",
    "print(result_df)"
   ]
  },
  {
   "cell_type": "code",
   "execution_count": 39,
   "id": "5e86b7b0-11e9-4ae3-9866-6ccb4f36bdc5",
   "metadata": {},
   "outputs": [
    {
     "data": {
      "text/plain": [
       "Index(['대여소_번호', '대여소_명', '대여소_위도', '대여소_경도', '근처지하철역_번호', '근처지하철역_명',\n",
       "       '근처지하철역_거리', '근처지하철역_위도', '근처지하철역_경도'],\n",
       "      dtype='object')"
      ]
     },
     "execution_count": 39,
     "metadata": {},
     "output_type": "execute_result"
    }
   ],
   "source": [
    "result_df.columns"
   ]
  },
  {
   "cell_type": "code",
   "execution_count": 53,
   "id": "5691384b-6058-40c4-a19c-ae9f68ba93fb",
   "metadata": {},
   "outputs": [
    {
     "data": {
      "text/plain": [
       "2763"
      ]
     },
     "execution_count": 53,
     "metadata": {},
     "output_type": "execute_result"
    }
   ],
   "source": [
    "result_df.shape[0]"
   ]
  },
  {
   "cell_type": "code",
   "execution_count": 61,
   "id": "841a60ff-ed95-473b-b440-f1612214d74e",
   "metadata": {},
   "outputs": [],
   "source": [
    "# '근처 지하철역' 컬럼에 데이터가 있는지 확인 후 필터링\n",
    "df_train_O = result_df[result_df['근처지하철역_번호'].str.len() > 0]   # 지하철근처 대여소\n",
    "df_train_X = result_df[result_df['근처지하철역_번호'].str.len() == 0]  # 지하철근처 아닌 대여소"
   ]
  },
  {
   "cell_type": "code",
   "execution_count": 63,
   "id": "0bf249f3-90f1-4b37-812b-612bbecfd062",
   "metadata": {},
   "outputs": [
    {
     "name": "stdout",
     "output_type": "stream",
     "text": [
      "315\n",
      "2448\n"
     ]
    }
   ],
   "source": [
    "print(df_train_O.shape[0])\n",
    "print(df_train_X.shape[0])"
   ]
  },
  {
   "cell_type": "code",
   "execution_count": 65,
   "id": "53eb56f0-17ea-4af9-a7a1-d0313a25cb4e",
   "metadata": {},
   "outputs": [
    {
     "name": "stdout",
     "output_type": "stream",
     "text": [
      "대여소_번호                                       2032.0\n",
      "대여소_명                                    이수역 11번출구쪽\n",
      "대여소_위도                                    37.485508\n",
      "대여소_경도                                   126.981621\n",
      "근처지하철역_번호                               [이수, 총신대입구]\n",
      "근처지하철역_명                                [2738, 432]\n",
      "근처지하철역_거리    [90.02237319355677, 90.02237319355677]\n",
      "근처지하철역_위도                    [37.486263, 37.486263]\n",
      "근처지하철역_경도                  [126.981989, 126.981989]\n",
      "Name: 1951, dtype: object\n",
      "대여소_번호                                       2230.0\n",
      "대여소_명                                     이수역 4번 출구\n",
      "대여소_위도                                    37.485828\n",
      "대여소_경도                                   126.982628\n",
      "근처지하철역_번호                               [이수, 총신대입구]\n",
      "근처지하철역_명                                [2738, 432]\n",
      "근처지하철역_거리    [74.24872003343553, 74.24872003343553]\n",
      "근처지하철역_위도                    [37.486263, 37.486263]\n",
      "근처지하철역_경도                  [126.981989, 126.981989]\n",
      "Name: 2109, dtype: object\n"
     ]
    }
   ],
   "source": [
    "# 근처 지하철역이 2개 이상인 대여소 확인\n",
    "for i, row in df_train_O.iterrows():\n",
    "    if len(row['근처지하철역_번호']) > 1:\n",
    "        print(row)"
   ]
  },
  {
   "cell_type": "code",
   "execution_count": 67,
   "id": "9ab8c2d1-24dd-40eb-8b71-7c0dab7e3d81",
   "metadata": {},
   "outputs": [
    {
     "data": {
      "text/plain": [
       "True"
      ]
     },
     "execution_count": 67,
     "metadata": {},
     "output_type": "execute_result"
    }
   ],
   "source": [
    "# 지도 생성\n",
    "center = [37.541, 126.986]\n",
    "# center on Liberty Bell, add marker\n",
    "bike_map = folium.Map(location=center, zoom_start=13)\n",
    "# 스타일 지정 예시 (선의 색상, 두께 등)\n",
    "style = {\n",
    "    'color': 'red',\n",
    "    'weight': 3,\n",
    "    'opacity': 0.7,\n",
    "}\n",
    "\n",
    "fg0 = folium.FeatureGroup(name=\"자전거_도로\", show=False).add_to(bike_map)\n",
    "# 자전거 도로 표시\n",
    "# GeoJSON 파일을 불러와 스타일 적용\n",
    "folium.GeoJson(\n",
    "    geo_str,\n",
    "    name='bike_road',\n",
    "    style_function=lambda x: style\n",
    ").add_to(fg0)\n",
    "\n",
    "fg1 = folium.FeatureGroup(name=\"자전거_대여소(지하철O)\", show=False).add_to(bike_map)\n",
    "# 자전거 대여소 표시 (지하철 인근 O)\n",
    "for i, row in df_train_O.iterrows():\n",
    "    folium.Circle(\n",
    "      location = [row['대여소_위도'], row['대여소_경도']],\n",
    "      radius = 100,\n",
    "      color='black',                  # 외곽선 색상\n",
    "      fill=False,                     # 채우기 여부\n",
    "      fill_color='blue',             # 채우기 색상\n",
    "      fill_opacity=0.6,              # 채우기 불투명도\n",
    "      popup=row['대여소_번호'],             # 클릭 시 표시되는 팝업\n",
    "      tooltip=row['대여소_명'],                 # 마우스 오버 시 표시되는 툴팁\n",
    "      #icon=folium.Icon(icon = 'bookmark', color = 'blue')\n",
    "  ).add_to(fg1)\n",
    "\n",
    "fg2 = folium.FeatureGroup(name=\"자전거_대여소(지하철X)\", show=False).add_to(bike_map)\n",
    "# 자전거 대여소 표시 (지하철 인근 X)\n",
    "for i, row in df_train_X.iterrows():\n",
    "    folium.Circle(\n",
    "      location = [row['대여소_위도'], row['대여소_경도']],\n",
    "      radius = 100,\n",
    "      color='black',                  # 외곽선 색상\n",
    "      fill=False,                     # 채우기 여부\n",
    "      fill_color='green',             # 채우기 색상\n",
    "      fill_opacity=0.6,              # 채우기 불투명도\n",
    "      popup=row['대여소_번호'],             # 클릭 시 표시되는 팝업\n",
    "      tooltip=row['대여소_명'],                 # 마우스 오버 시 표시되는 툴팁\n",
    "      #icon=folium.Icon(icon = 'bookmark', color = 'blue')\n",
    "  ).add_to(fg2)\n",
    "    \n",
    "\n",
    "fg3 = folium.FeatureGroup(name=\"지하철역\", show=False).add_to(bike_map)\n",
    "# 지하철역 표시\n",
    "for i, row in filtered_df.iterrows():\n",
    "  folium.CircleMarker(\n",
    "      location = [row['근처지하철역_위도'][0], row['근처지하철역_경도'][0]],\n",
    "      radius=2,                     # 반지름 (픽셀 단위)\n",
    "      color='yellow',                  # 외곽선 색상\n",
    "      fill=True,                     # 채우기 여부\n",
    "      fill_color='yellow',             # 채우기 색상\n",
    "      fill_opacity=0.6,              # 채우기 불투명도\n",
    "      popup=row['근처지하철역_번호'][0],             # 클릭 시 표시되는 팝업\n",
    "      tooltip=row['근처지하철역_명'][0]                 # 마우스 오버 시 표시되는 툴팁      \n",
    "  ).add_to(fg3)\n",
    "\n",
    "# 자치구 구분 표\n",
    "geo_str2 = json.load(open('G:\\\\내 드라이브\\\\DataSet\\\\seoul_municipalities_geo_simple.json', encoding='utf-8'))\n",
    "choropleth = folium.Choropleth(geo_data = geo_str2,\n",
    "                  data = have_bikes,\n",
    "                  name = 'gu',\n",
    "                  key_on = 'feature.properties.SIG_KOR_NM',\n",
    "                  fill_color = 'Blues')\n",
    "# 1. GeoJsonTooltip을 사용하는 방법:\n",
    "# folium.GeoJsonTooltip(fields=['SIG_ENG_NM'],\n",
    "#                       aliases=['지역:'],\n",
    "#                       style=('background-color: white; color: #333333; font-family: arial; font-size: 12px; padding: 10px;')\n",
    "# ).add_to(choropleth.geojson)\n",
    "# 2. GeoJsonPopup을 사용하는 방법:\n",
    "folium.GeoJsonPopup(fields=['SIG_KOR_NM'],\n",
    "                    aliases=['지역:'],\n",
    "                    style='font-weight: bold;'\n",
    ").add_to(choropleth.geojson)\n",
    "choropleth.add_to(bike_map)\n",
    "\n",
    "\n",
    "folium.LayerControl().add_to(bike_map)\n",
    "\n",
    "# jupyter 에서 곧장 지도 표시하기\n",
    "#bike_map\n",
    "\n",
    "# web에서 표시하기\n",
    "# 지도 저장\n",
    "bike_map.save(\"folium_bike_train_near.html\")\n",
    "import webbrowser\n",
    "webbrowser.open(\"folium_bike_train_near.html\")"
   ]
  },
  {
   "cell_type": "code",
   "execution_count": null,
   "id": "64328629-cea5-4dfd-b7a4-41b769347b52",
   "metadata": {},
   "outputs": [],
   "source": []
  }
 ],
 "metadata": {
  "kernelspec": {
   "display_name": "Python 3 (ipykernel)",
   "language": "python",
   "name": "python3"
  },
  "language_info": {
   "codemirror_mode": {
    "name": "ipython",
    "version": 3
   },
   "file_extension": ".py",
   "mimetype": "text/x-python",
   "name": "python",
   "nbconvert_exporter": "python",
   "pygments_lexer": "ipython3",
   "version": "3.12.4"
  }
 },
 "nbformat": 4,
 "nbformat_minor": 5
}
