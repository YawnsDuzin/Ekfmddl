{
 "cells": [
  {
   "cell_type": "code",
   "execution_count": 2,
   "id": "6d53b67a-0b7a-4841-bf76-f9d816a6b9d3",
   "metadata": {},
   "outputs": [],
   "source": [
    "import pandas as pd\n",
    "\n",
    "# 사용자 정의함수 경로 설정\n",
    "import sys\n",
    "sys.path.append(\"G:/내 드라이브/Source/_Custom_Function\")\n",
    "# 사용자 정의함수 불러오기\n",
    "\n",
    "import time\n",
    "\n",
    "import ExcelFile_Merge as em\n",
    "import ExcelFile_Read as er\n",
    "import ExcelFile_EDA as ee"
   ]
  },
  {
   "cell_type": "markdown",
   "id": "1bc88f85-0c6d-4af8-bad2-4294d19dbc22",
   "metadata": {},
   "source": [
    "### 생활이동_행정동_2020.01.csv 불러오기"
   ]
  },
  {
   "cell_type": "code",
   "execution_count": 4,
   "id": "38a2034a-0af9-4664-9cec-e40511c9f901",
   "metadata": {},
   "outputs": [
    {
     "name": "stdout",
     "output_type": "stream",
     "text": [
      "Read_dask time : 1.6750695705413818\n"
     ]
    }
   ],
   "source": [
    "start_time = time.time()\n",
    "filepath = 'G:\\\\내 드라이브\\\\DataSet\\\\_최종 병합 파일\\\\서울 생활이동\\\\2020\\\\'\n",
    "filename = '생활이동_행정동_2020.01'\n",
    "path = filepath + filename + '.csv'\n",
    "df_dask = er.Read_dask(path)\n",
    "print(\"Read_dask time :\", time.time() - start_time)"
   ]
  },
  {
   "cell_type": "code",
   "execution_count": 6,
   "id": "7bf1106f-ce8f-473c-9159-8d606de6c67d",
   "metadata": {},
   "outputs": [
    {
     "name": "stdout",
     "output_type": "stream",
     "text": [
      "[########################################] | 100% Completed | 92.89 s\n",
      "compute time : 93.53146457672119\n"
     ]
    }
   ],
   "source": [
    "from dask.diagnostics import ProgressBar\n",
    "from time import sleep\n",
    "pbar = ProgressBar()\n",
    "pbar.register()\n",
    "\n",
    "start_time = time.time()\n",
    "df_dask_rtn = df_dask.compute()\n",
    "print(\"compute time :\", time.time() - start_time)"
   ]
  },
  {
   "cell_type": "code",
   "execution_count": 8,
   "id": "7d541129-098d-4e2c-85a6-9807c887dc08",
   "metadata": {},
   "outputs": [
    {
     "name": "stdout",
     "output_type": "stream",
     "text": [
      "<class 'pandas.core.frame.DataFrame'>\n",
      "Index: 130620476 entries, 0 to 1406044\n",
      "Data columns (total 10 columns):\n",
      " #   Column       Dtype \n",
      "---  ------       ----- \n",
      " 0   대상연월         int64 \n",
      " 1   요일           object\n",
      " 2   도착시간         int64 \n",
      " 3   출발 행정동 코드    int64 \n",
      " 4   도착 행정동 코드    int64 \n",
      " 5   성별           object\n",
      " 6   나이           int64 \n",
      " 7   이동유형         object\n",
      " 8   평균 이동 시간(분)  int64 \n",
      " 9   이동인구(합)      object\n",
      "dtypes: int64(6), object(4)\n",
      "memory usage: 10.7+ GB\n"
     ]
    }
   ],
   "source": [
    "df_dask_rtn.info()"
   ]
  },
  {
   "cell_type": "code",
   "execution_count": 12,
   "id": "cc2f089c-d926-40cf-a453-90da1727f47e",
   "metadata": {},
   "outputs": [
    {
     "data": {
      "text/plain": [
       "대상연월\n",
       "202001    130620476\n",
       "Name: count, dtype: int64"
      ]
     },
     "execution_count": 12,
     "metadata": {},
     "output_type": "execute_result"
    }
   ],
   "source": [
    "df_dask_rtn['대상연월'].value_counts()"
   ]
  },
  {
   "cell_type": "code",
   "execution_count": 14,
   "id": "0d201e0b-c43e-45b7-9bc9-1224d9caa08c",
   "metadata": {},
   "outputs": [
    {
     "data": {
      "text/plain": [
       "이동유형\n",
       "EH    29027211\n",
       "HE    26727404\n",
       "EE    22857768\n",
       "WH    16154567\n",
       "HW    14779427\n",
       "WE     9287776\n",
       "EW     6496396\n",
       "WW     2798070\n",
       "HH     2491857\n",
       "Name: count, dtype: int64"
      ]
     },
     "execution_count": 14,
     "metadata": {},
     "output_type": "execute_result"
    }
   ],
   "source": [
    "df_dask_rtn['이동유형'].value_counts()"
   ]
  },
  {
   "cell_type": "code",
   "execution_count": 122,
   "id": "9ee44a5e-aba2-4a08-8ac5-f2ac68a98c76",
   "metadata": {},
   "outputs": [
    {
     "data": {
      "text/plain": [
       "대상연월           0\n",
       "요일             0\n",
       "도착시간           0\n",
       "출발 행정동 코드      0\n",
       "도착 행정동 코드      0\n",
       "성별             0\n",
       "나이             0\n",
       "이동유형           0\n",
       "평균 이동 시간(분)    0\n",
       "이동인구(합)        0\n",
       "dtype: int64"
      ]
     },
     "execution_count": 122,
     "metadata": {},
     "output_type": "execute_result"
    }
   ],
   "source": [
    "df_dask_rtn.isnull().sum()"
   ]
  },
  {
   "cell_type": "code",
   "execution_count": 120,
   "id": "17588a8b-7e92-4730-b6a9-9cc8da230e70",
   "metadata": {},
   "outputs": [
    {
     "name": "stdout",
     "output_type": "stream",
     "text": [
      "<class 'pandas.core.frame.DataFrame'>\n",
      "Index: 130620476 entries, 0 to 1406044\n",
      "Data columns (total 10 columns):\n",
      " #   Column       Dtype \n",
      "---  ------       ----- \n",
      " 0   대상연월         int64 \n",
      " 1   요일           object\n",
      " 2   도착시간         int64 \n",
      " 3   출발 행정동 코드    int64 \n",
      " 4   도착 행정동 코드    int64 \n",
      " 5   성별           object\n",
      " 6   나이           int64 \n",
      " 7   이동유형         object\n",
      " 8   평균 이동 시간(분)  int64 \n",
      " 9   이동인구(합)      object\n",
      "dtypes: int64(6), object(4)\n",
      "memory usage: 10.7+ GB\n"
     ]
    }
   ],
   "source": [
    "df_dask_rtn.info()"
   ]
  },
  {
   "cell_type": "markdown",
   "id": "b8cd1d7b-f8b3-4f51-9e8b-e0319e7073e1",
   "metadata": {},
   "source": [
    "---\n",
    "### '이동유형' == 'WH' & '도착시간' [7, 8, 9] 인 데이터 조회"
   ]
  },
  {
   "cell_type": "code",
   "execution_count": 124,
   "id": "48c42ac7-07fd-4d6b-ac7d-e2f14cd90616",
   "metadata": {},
   "outputs": [],
   "source": [
    "cond1 = df_dask_rtn['이동유형'] == 'WH'\n",
    "cond2 = df_dask_rtn['도착시간'].isin([7, 8, 9])\n",
    "df_출근 = df_dask_rtn[cond1 & cond2]"
   ]
  },
  {
   "cell_type": "code",
   "execution_count": 126,
   "id": "16852bbe-4f95-4173-a64d-0edcac9e0dd3",
   "metadata": {},
   "outputs": [
    {
     "name": "stdout",
     "output_type": "stream",
     "text": [
      "<class 'pandas.core.frame.DataFrame'>\n",
      "Index: 340033 entries, 52431 to 1406688\n",
      "Data columns (total 10 columns):\n",
      " #   Column       Non-Null Count   Dtype \n",
      "---  ------       --------------   ----- \n",
      " 0   대상연월         340033 non-null  int64 \n",
      " 1   요일           340033 non-null  object\n",
      " 2   도착시간         340033 non-null  int64 \n",
      " 3   출발 행정동 코드    340033 non-null  int64 \n",
      " 4   도착 행정동 코드    340033 non-null  int64 \n",
      " 5   성별           340033 non-null  object\n",
      " 6   나이           340033 non-null  int64 \n",
      " 7   이동유형         340033 non-null  object\n",
      " 8   평균 이동 시간(분)  340033 non-null  int64 \n",
      " 9   이동인구(합)      340033 non-null  object\n",
      "dtypes: int64(6), object(4)\n",
      "memory usage: 28.5+ MB\n"
     ]
    }
   ],
   "source": [
    "df_출근.info()"
   ]
  },
  {
   "cell_type": "markdown",
   "id": "0410dec7-9792-462d-9bc5-8398d18cad15",
   "metadata": {},
   "source": [
    "---\n",
    "### '이동인구(합)' 컬럼 float형으로 변경"
   ]
  },
  {
   "cell_type": "code",
   "execution_count": 130,
   "id": "46251ca4-322d-4393-b80b-a189b42e0d07",
   "metadata": {},
   "outputs": [],
   "source": [
    "df_출근.loc[df_출근['이동인구(합)'] == '*','이동인구(합)'] = '0'"
   ]
  },
  {
   "cell_type": "code",
   "execution_count": 132,
   "id": "c2771421-048e-45c1-b9b0-c4d8c1697742",
   "metadata": {},
   "outputs": [],
   "source": [
    "df_출근 = df_출근.astype({ '이동인구(합)' : 'float' })"
   ]
  },
  {
   "cell_type": "code",
   "execution_count": 134,
   "id": "b70970df-9e63-4b4b-adc6-80e6c6c26e3f",
   "metadata": {},
   "outputs": [
    {
     "data": {
      "text/html": [
       "<div>\n",
       "<style scoped>\n",
       "    .dataframe tbody tr th:only-of-type {\n",
       "        vertical-align: middle;\n",
       "    }\n",
       "\n",
       "    .dataframe tbody tr th {\n",
       "        vertical-align: top;\n",
       "    }\n",
       "\n",
       "    .dataframe thead th {\n",
       "        text-align: right;\n",
       "    }\n",
       "</style>\n",
       "<table border=\"1\" class=\"dataframe\">\n",
       "  <thead>\n",
       "    <tr style=\"text-align: right;\">\n",
       "      <th></th>\n",
       "      <th>대상연월</th>\n",
       "      <th>요일</th>\n",
       "      <th>도착시간</th>\n",
       "      <th>출발 행정동 코드</th>\n",
       "      <th>도착 행정동 코드</th>\n",
       "      <th>성별</th>\n",
       "      <th>나이</th>\n",
       "      <th>이동유형</th>\n",
       "      <th>평균 이동 시간(분)</th>\n",
       "      <th>이동인구(합)</th>\n",
       "    </tr>\n",
       "  </thead>\n",
       "  <tbody>\n",
       "    <tr>\n",
       "      <th>52431</th>\n",
       "      <td>202001</td>\n",
       "      <td>일</td>\n",
       "      <td>7</td>\n",
       "      <td>1101053</td>\n",
       "      <td>1101053</td>\n",
       "      <td>F</td>\n",
       "      <td>35</td>\n",
       "      <td>WH</td>\n",
       "      <td>10</td>\n",
       "      <td>3.00</td>\n",
       "    </tr>\n",
       "    <tr>\n",
       "      <th>52439</th>\n",
       "      <td>202001</td>\n",
       "      <td>일</td>\n",
       "      <td>7</td>\n",
       "      <td>1101053</td>\n",
       "      <td>1101053</td>\n",
       "      <td>F</td>\n",
       "      <td>55</td>\n",
       "      <td>WH</td>\n",
       "      <td>20</td>\n",
       "      <td>3.23</td>\n",
       "    </tr>\n",
       "    <tr>\n",
       "      <th>52443</th>\n",
       "      <td>202001</td>\n",
       "      <td>일</td>\n",
       "      <td>7</td>\n",
       "      <td>1101053</td>\n",
       "      <td>1101053</td>\n",
       "      <td>F</td>\n",
       "      <td>65</td>\n",
       "      <td>WH</td>\n",
       "      <td>10</td>\n",
       "      <td>4.64</td>\n",
       "    </tr>\n",
       "    <tr>\n",
       "      <th>52455</th>\n",
       "      <td>202001</td>\n",
       "      <td>일</td>\n",
       "      <td>7</td>\n",
       "      <td>1101053</td>\n",
       "      <td>1101053</td>\n",
       "      <td>M</td>\n",
       "      <td>35</td>\n",
       "      <td>WH</td>\n",
       "      <td>30</td>\n",
       "      <td>0.00</td>\n",
       "    </tr>\n",
       "    <tr>\n",
       "      <th>52487</th>\n",
       "      <td>202001</td>\n",
       "      <td>일</td>\n",
       "      <td>7</td>\n",
       "      <td>1101053</td>\n",
       "      <td>1101058</td>\n",
       "      <td>M</td>\n",
       "      <td>70</td>\n",
       "      <td>WH</td>\n",
       "      <td>10</td>\n",
       "      <td>4.61</td>\n",
       "    </tr>\n",
       "  </tbody>\n",
       "</table>\n",
       "</div>"
      ],
      "text/plain": [
       "         대상연월 요일  도착시간  출발 행정동 코드  도착 행정동 코드 성별  나이 이동유형  평균 이동 시간(분)  이동인구(합)\n",
       "52431  202001  일     7    1101053    1101053  F  35   WH           10     3.00\n",
       "52439  202001  일     7    1101053    1101053  F  55   WH           20     3.23\n",
       "52443  202001  일     7    1101053    1101053  F  65   WH           10     4.64\n",
       "52455  202001  일     7    1101053    1101053  M  35   WH           30     0.00\n",
       "52487  202001  일     7    1101053    1101058  M  70   WH           10     4.61"
      ]
     },
     "execution_count": 134,
     "metadata": {},
     "output_type": "execute_result"
    }
   ],
   "source": [
    "df_출근.head()"
   ]
  },
  {
   "cell_type": "markdown",
   "id": "075733d3-839e-416b-9926-06f90d44c7a1",
   "metadata": {},
   "source": [
    "---\n",
    "### 행정동 기준으로 '이동인구(합)'의 계 구함"
   ]
  },
  {
   "cell_type": "code",
   "execution_count": 136,
   "id": "9d434e4b-ab69-4f3e-97b5-387f48f90d08",
   "metadata": {},
   "outputs": [],
   "source": [
    "grp_출근 = df_출근.groupby(['도착 행정동 코드'])['이동인구(합)'].sum().reset_index()"
   ]
  },
  {
   "cell_type": "code",
   "execution_count": 140,
   "id": "81c8dc56-4efd-4c0b-bbf6-6e531dc6f9b0",
   "metadata": {},
   "outputs": [
    {
     "data": {
      "text/html": [
       "<div>\n",
       "<style scoped>\n",
       "    .dataframe tbody tr th:only-of-type {\n",
       "        vertical-align: middle;\n",
       "    }\n",
       "\n",
       "    .dataframe tbody tr th {\n",
       "        vertical-align: top;\n",
       "    }\n",
       "\n",
       "    .dataframe thead th {\n",
       "        text-align: right;\n",
       "    }\n",
       "</style>\n",
       "<table border=\"1\" class=\"dataframe\">\n",
       "  <thead>\n",
       "    <tr style=\"text-align: right;\">\n",
       "      <th></th>\n",
       "      <th>도착 행정동 코드</th>\n",
       "      <th>이동인구(합)</th>\n",
       "    </tr>\n",
       "  </thead>\n",
       "  <tbody>\n",
       "    <tr>\n",
       "      <th>428</th>\n",
       "      <td>1125061</td>\n",
       "      <td>10173.20</td>\n",
       "    </tr>\n",
       "    <tr>\n",
       "      <th>437</th>\n",
       "      <td>1125074</td>\n",
       "      <td>9196.58</td>\n",
       "    </tr>\n",
       "    <tr>\n",
       "      <th>420</th>\n",
       "      <td>1125051</td>\n",
       "      <td>7223.70</td>\n",
       "    </tr>\n",
       "    <tr>\n",
       "      <th>202</th>\n",
       "      <td>1112071</td>\n",
       "      <td>7019.00</td>\n",
       "    </tr>\n",
       "    <tr>\n",
       "      <th>355</th>\n",
       "      <td>1122053</td>\n",
       "      <td>6585.32</td>\n",
       "    </tr>\n",
       "    <tr>\n",
       "      <th>...</th>\n",
       "      <td>...</td>\n",
       "      <td>...</td>\n",
       "    </tr>\n",
       "    <tr>\n",
       "      <th>449</th>\n",
       "      <td>2302053</td>\n",
       "      <td>0.00</td>\n",
       "    </tr>\n",
       "    <tr>\n",
       "      <th>777</th>\n",
       "      <td>3107064</td>\n",
       "      <td>0.00</td>\n",
       "    </tr>\n",
       "    <tr>\n",
       "      <th>937</th>\n",
       "      <td>3119135</td>\n",
       "      <td>0.00</td>\n",
       "    </tr>\n",
       "    <tr>\n",
       "      <th>1055</th>\n",
       "      <td>3127037</td>\n",
       "      <td>0.00</td>\n",
       "    </tr>\n",
       "    <tr>\n",
       "      <th>546</th>\n",
       "      <td>2308055</td>\n",
       "      <td>0.00</td>\n",
       "    </tr>\n",
       "  </tbody>\n",
       "</table>\n",
       "<p>1089 rows × 2 columns</p>\n",
       "</div>"
      ],
      "text/plain": [
       "      도착 행정동 코드   이동인구(합)\n",
       "428     1125061  10173.20\n",
       "437     1125074   9196.58\n",
       "420     1125051   7223.70\n",
       "202     1112071   7019.00\n",
       "355     1122053   6585.32\n",
       "...         ...       ...\n",
       "449     2302053      0.00\n",
       "777     3107064      0.00\n",
       "937     3119135      0.00\n",
       "1055    3127037      0.00\n",
       "546     2308055      0.00\n",
       "\n",
       "[1089 rows x 2 columns]"
      ]
     },
     "execution_count": 140,
     "metadata": {},
     "output_type": "execute_result"
    }
   ],
   "source": [
    "grp_출근.sort_values(by=['이동인구(합)'],ascending=False)"
   ]
  },
  {
   "cell_type": "code",
   "execution_count": 171,
   "id": "e3114152-2f13-4996-b15d-e49f1561941b",
   "metadata": {},
   "outputs": [],
   "source": [
    "grp_출근.rename(columns = {\"도착 행정동 코드\": \"읍면동\"}, inplace = True)"
   ]
  },
  {
   "cell_type": "code",
   "execution_count": 173,
   "id": "c3d759ee-f78c-4fb4-9261-ee97291886e4",
   "metadata": {},
   "outputs": [
    {
     "name": "stdout",
     "output_type": "stream",
     "text": [
      "<class 'pandas.core.frame.DataFrame'>\n",
      "RangeIndex: 1089 entries, 0 to 1088\n",
      "Data columns (total 2 columns):\n",
      " #   Column   Non-Null Count  Dtype  \n",
      "---  ------   --------------  -----  \n",
      " 0   읍면동      1089 non-null   int64  \n",
      " 1   이동인구(합)  1089 non-null   float64\n",
      "dtypes: float64(1), int64(1)\n",
      "memory usage: 17.1 KB\n"
     ]
    }
   ],
   "source": [
    "grp_출근.info()"
   ]
  },
  {
   "cell_type": "markdown",
   "id": "78728f06-dbf8-4317-89b9-a1c0de55ffd2",
   "metadata": {},
   "source": [
    "### 행정동 코드 가져오기"
   ]
  },
  {
   "cell_type": "code",
   "execution_count": 153,
   "id": "5b56e870-943b-43a2-8ec5-2e37d3a68e6d",
   "metadata": {},
   "outputs": [
    {
     "name": "stdout",
     "output_type": "stream",
     "text": [
      "read_csv time : 0.017641067504882812\n"
     ]
    },
    {
     "data": {
      "text/html": [
       "<div>\n",
       "<style scoped>\n",
       "    .dataframe tbody tr th:only-of-type {\n",
       "        vertical-align: middle;\n",
       "    }\n",
       "\n",
       "    .dataframe tbody tr th {\n",
       "        vertical-align: top;\n",
       "    }\n",
       "\n",
       "    .dataframe thead th {\n",
       "        text-align: right;\n",
       "    }\n",
       "</style>\n",
       "<table border=\"1\" class=\"dataframe\">\n",
       "  <thead>\n",
       "    <tr style=\"text-align: right;\">\n",
       "      <th></th>\n",
       "      <th>시도</th>\n",
       "      <th>시군구</th>\n",
       "      <th>읍면동</th>\n",
       "      <th>name</th>\n",
       "      <th>full_name</th>\n",
       "    </tr>\n",
       "  </thead>\n",
       "  <tbody>\n",
       "    <tr>\n",
       "      <th>0</th>\n",
       "      <td>11000</td>\n",
       "      <td>11010</td>\n",
       "      <td>1101053</td>\n",
       "      <td>사직동</td>\n",
       "      <td>서울특별시 종로구 사직동</td>\n",
       "    </tr>\n",
       "    <tr>\n",
       "      <th>1</th>\n",
       "      <td>11000</td>\n",
       "      <td>11010</td>\n",
       "      <td>1101054</td>\n",
       "      <td>삼청동</td>\n",
       "      <td>서울특별시 종로구 삼청동</td>\n",
       "    </tr>\n",
       "    <tr>\n",
       "      <th>2</th>\n",
       "      <td>11000</td>\n",
       "      <td>11010</td>\n",
       "      <td>1101055</td>\n",
       "      <td>부암동</td>\n",
       "      <td>서울특별시 종로구 부암동</td>\n",
       "    </tr>\n",
       "    <tr>\n",
       "      <th>3</th>\n",
       "      <td>11000</td>\n",
       "      <td>11010</td>\n",
       "      <td>1101056</td>\n",
       "      <td>평창동</td>\n",
       "      <td>서울특별시 종로구 평창동</td>\n",
       "    </tr>\n",
       "    <tr>\n",
       "      <th>4</th>\n",
       "      <td>11000</td>\n",
       "      <td>11010</td>\n",
       "      <td>1101057</td>\n",
       "      <td>무악동</td>\n",
       "      <td>서울특별시 종로구 무악동</td>\n",
       "    </tr>\n",
       "  </tbody>\n",
       "</table>\n",
       "</div>"
      ],
      "text/plain": [
       "      시도    시군구      읍면동 name      full_name\n",
       "0  11000  11010  1101053  사직동  서울특별시 종로구 사직동\n",
       "1  11000  11010  1101054  삼청동  서울특별시 종로구 삼청동\n",
       "2  11000  11010  1101055  부암동  서울특별시 종로구 부암동\n",
       "3  11000  11010  1101056  평창동  서울특별시 종로구 평창동\n",
       "4  11000  11010  1101057  무악동  서울특별시 종로구 무악동"
      ]
     },
     "execution_count": 153,
     "metadata": {},
     "output_type": "execute_result"
    }
   ],
   "source": [
    "start_time = time.time()\n",
    "filepath = 'G:\\\\내 드라이브\\\\DataSet\\\\_최종 병합 파일\\\\서울 생활이동\\\\'\n",
    "filename = '서울생활이동데이터_행정동코드_20210907'\n",
    "path = filepath + filename + '.csv'\n",
    "df_dong = pd.read_csv(path, low_memory=False)\n",
    "print(\"read_csv time :\", time.time() - start_time)\n",
    "df_dong.head()"
   ]
  },
  {
   "cell_type": "code",
   "execution_count": 167,
   "id": "9474bf4d-028c-4d95-be52-c3df10e014f0",
   "metadata": {},
   "outputs": [
    {
     "data": {
      "text/html": [
       "<div>\n",
       "<style scoped>\n",
       "    .dataframe tbody tr th:only-of-type {\n",
       "        vertical-align: middle;\n",
       "    }\n",
       "\n",
       "    .dataframe tbody tr th {\n",
       "        vertical-align: top;\n",
       "    }\n",
       "\n",
       "    .dataframe thead th {\n",
       "        text-align: right;\n",
       "    }\n",
       "</style>\n",
       "<table border=\"1\" class=\"dataframe\">\n",
       "  <thead>\n",
       "    <tr style=\"text-align: right;\">\n",
       "      <th></th>\n",
       "      <th>시도</th>\n",
       "      <th>시군구</th>\n",
       "      <th>읍면동</th>\n",
       "      <th>name</th>\n",
       "      <th>full_name</th>\n",
       "    </tr>\n",
       "  </thead>\n",
       "  <tbody>\n",
       "    <tr>\n",
       "      <th>188</th>\n",
       "      <td>11000</td>\n",
       "      <td>11120</td>\n",
       "      <td>1112071</td>\n",
       "      <td>진관동</td>\n",
       "      <td>서울특별시 은평구 진관동</td>\n",
       "    </tr>\n",
       "  </tbody>\n",
       "</table>\n",
       "</div>"
      ],
      "text/plain": [
       "        시도    시군구      읍면동 name      full_name\n",
       "188  11000  11120  1112071  진관동  서울특별시 은평구 진관동"
      ]
     },
     "execution_count": 167,
     "metadata": {},
     "output_type": "execute_result"
    }
   ],
   "source": []
  },
  {
   "cell_type": "markdown",
   "id": "e920bf1b-40b5-4940-9e56-414adaa403aa",
   "metadata": {},
   "source": [
    "---\n",
    "### '읍면동' 코드 기준으로 조인"
   ]
  },
  {
   "cell_type": "code",
   "execution_count": 177,
   "id": "74986d93-c1ac-4d22-a1c2-27cecb294a9e",
   "metadata": {},
   "outputs": [],
   "source": [
    "df_출근 = pd.merge(left = grp_출근 , right = df_dong, how = \"left\", on = \"읍면동\")"
   ]
  },
  {
   "cell_type": "code",
   "execution_count": 183,
   "id": "fe6c7428-e30f-4fea-8d3b-ba2e2ede1114",
   "metadata": {},
   "outputs": [
    {
     "data": {
      "text/html": [
       "<div>\n",
       "<style scoped>\n",
       "    .dataframe tbody tr th:only-of-type {\n",
       "        vertical-align: middle;\n",
       "    }\n",
       "\n",
       "    .dataframe tbody tr th {\n",
       "        vertical-align: top;\n",
       "    }\n",
       "\n",
       "    .dataframe thead th {\n",
       "        text-align: right;\n",
       "    }\n",
       "</style>\n",
       "<table border=\"1\" class=\"dataframe\">\n",
       "  <thead>\n",
       "    <tr style=\"text-align: right;\">\n",
       "      <th></th>\n",
       "      <th>읍면동</th>\n",
       "      <th>이동인구(합)</th>\n",
       "      <th>시도</th>\n",
       "      <th>시군구</th>\n",
       "      <th>name</th>\n",
       "      <th>full_name</th>\n",
       "    </tr>\n",
       "  </thead>\n",
       "  <tbody>\n",
       "    <tr>\n",
       "      <th>428</th>\n",
       "      <td>1125061</td>\n",
       "      <td>10173.20</td>\n",
       "      <td>11000</td>\n",
       "      <td>11250</td>\n",
       "      <td>천호1동</td>\n",
       "      <td>서울특별시 강동구 천호1동</td>\n",
       "    </tr>\n",
       "    <tr>\n",
       "      <th>437</th>\n",
       "      <td>1125074</td>\n",
       "      <td>9196.58</td>\n",
       "      <td>11000</td>\n",
       "      <td>11250</td>\n",
       "      <td>길동</td>\n",
       "      <td>서울특별시 강동구 길동</td>\n",
       "    </tr>\n",
       "    <tr>\n",
       "      <th>420</th>\n",
       "      <td>1125051</td>\n",
       "      <td>7223.70</td>\n",
       "      <td>11000</td>\n",
       "      <td>11250</td>\n",
       "      <td>강일동</td>\n",
       "      <td>서울특별시 강동구 강일동</td>\n",
       "    </tr>\n",
       "    <tr>\n",
       "      <th>202</th>\n",
       "      <td>1112071</td>\n",
       "      <td>7019.00</td>\n",
       "      <td>11000</td>\n",
       "      <td>11120</td>\n",
       "      <td>진관동</td>\n",
       "      <td>서울특별시 은평구 진관동</td>\n",
       "    </tr>\n",
       "    <tr>\n",
       "      <th>355</th>\n",
       "      <td>1122053</td>\n",
       "      <td>6585.32</td>\n",
       "      <td>11000</td>\n",
       "      <td>11220</td>\n",
       "      <td>서초3동</td>\n",
       "      <td>서울특별시 서초구 서초3동</td>\n",
       "    </tr>\n",
       "    <tr>\n",
       "      <th>284</th>\n",
       "      <td>1117068</td>\n",
       "      <td>6441.59</td>\n",
       "      <td>11000</td>\n",
       "      <td>11170</td>\n",
       "      <td>오류2동</td>\n",
       "      <td>서울특별시 구로구 오류2동</td>\n",
       "    </tr>\n",
       "    <tr>\n",
       "      <th>180</th>\n",
       "      <td>1111065</td>\n",
       "      <td>6064.33</td>\n",
       "      <td>11000</td>\n",
       "      <td>11110</td>\n",
       "      <td>상계1동</td>\n",
       "      <td>서울특별시 노원구 상계1동</td>\n",
       "    </tr>\n",
       "    <tr>\n",
       "      <th>435</th>\n",
       "      <td>1125072</td>\n",
       "      <td>5918.75</td>\n",
       "      <td>11000</td>\n",
       "      <td>11250</td>\n",
       "      <td>암사1동</td>\n",
       "      <td>서울특별시 강동구 암사1동</td>\n",
       "    </tr>\n",
       "    <tr>\n",
       "      <th>249</th>\n",
       "      <td>1115066</td>\n",
       "      <td>5628.42</td>\n",
       "      <td>11000</td>\n",
       "      <td>11150</td>\n",
       "      <td>신정3동</td>\n",
       "      <td>서울특별시 양천구 신정3동</td>\n",
       "    </tr>\n",
       "    <tr>\n",
       "      <th>429</th>\n",
       "      <td>1125063</td>\n",
       "      <td>5621.55</td>\n",
       "      <td>11000</td>\n",
       "      <td>11250</td>\n",
       "      <td>천호3동</td>\n",
       "      <td>서울특별시 강동구 천호3동</td>\n",
       "    </tr>\n",
       "  </tbody>\n",
       "</table>\n",
       "</div>"
      ],
      "text/plain": [
       "         읍면동   이동인구(합)     시도    시군구  name       full_name\n",
       "428  1125061  10173.20  11000  11250  천호1동  서울특별시 강동구 천호1동\n",
       "437  1125074   9196.58  11000  11250    길동    서울특별시 강동구 길동\n",
       "420  1125051   7223.70  11000  11250   강일동   서울특별시 강동구 강일동\n",
       "202  1112071   7019.00  11000  11120   진관동   서울특별시 은평구 진관동\n",
       "355  1122053   6585.32  11000  11220  서초3동  서울특별시 서초구 서초3동\n",
       "284  1117068   6441.59  11000  11170  오류2동  서울특별시 구로구 오류2동\n",
       "180  1111065   6064.33  11000  11110  상계1동  서울특별시 노원구 상계1동\n",
       "435  1125072   5918.75  11000  11250  암사1동  서울특별시 강동구 암사1동\n",
       "249  1115066   5628.42  11000  11150  신정3동  서울특별시 양천구 신정3동\n",
       "429  1125063   5621.55  11000  11250  천호3동  서울특별시 강동구 천호3동"
      ]
     },
     "execution_count": 183,
     "metadata": {},
     "output_type": "execute_result"
    }
   ],
   "source": [
    "df_출근.sort_values(by=['이동인구(합)'],ascending=False).head(10)"
   ]
  },
  {
   "cell_type": "markdown",
   "id": "02d58059-528e-4a16-bbeb-059b157fd65a",
   "metadata": {},
   "source": [
    "### 자치구 코드 가져오기"
   ]
  },
  {
   "cell_type": "code",
   "execution_count": 156,
   "id": "cd6020a0-69b9-45a4-9266-19361e04208f",
   "metadata": {},
   "outputs": [
    {
     "name": "stdout",
     "output_type": "stream",
     "text": [
      "read_csv time : 0.006981611251831055\n"
     ]
    },
    {
     "data": {
      "text/html": [
       "<div>\n",
       "<style scoped>\n",
       "    .dataframe tbody tr th:only-of-type {\n",
       "        vertical-align: middle;\n",
       "    }\n",
       "\n",
       "    .dataframe tbody tr th {\n",
       "        vertical-align: top;\n",
       "    }\n",
       "\n",
       "    .dataframe thead th {\n",
       "        text-align: right;\n",
       "    }\n",
       "</style>\n",
       "<table border=\"1\" class=\"dataframe\">\n",
       "  <thead>\n",
       "    <tr style=\"text-align: right;\">\n",
       "      <th></th>\n",
       "      <th>시도</th>\n",
       "      <th>시군구</th>\n",
       "      <th>name</th>\n",
       "      <th>full name</th>\n",
       "    </tr>\n",
       "  </thead>\n",
       "  <tbody>\n",
       "    <tr>\n",
       "      <th>0</th>\n",
       "      <td>11000</td>\n",
       "      <td>11010</td>\n",
       "      <td>종로구</td>\n",
       "      <td>서울특별시 종로구</td>\n",
       "    </tr>\n",
       "    <tr>\n",
       "      <th>1</th>\n",
       "      <td>11000</td>\n",
       "      <td>11020</td>\n",
       "      <td>중구</td>\n",
       "      <td>서울특별시 중구</td>\n",
       "    </tr>\n",
       "    <tr>\n",
       "      <th>2</th>\n",
       "      <td>11000</td>\n",
       "      <td>11030</td>\n",
       "      <td>용산구</td>\n",
       "      <td>서울특별시 용산구</td>\n",
       "    </tr>\n",
       "    <tr>\n",
       "      <th>3</th>\n",
       "      <td>11000</td>\n",
       "      <td>11040</td>\n",
       "      <td>성동구</td>\n",
       "      <td>서울특별시 성동구</td>\n",
       "    </tr>\n",
       "    <tr>\n",
       "      <th>4</th>\n",
       "      <td>11000</td>\n",
       "      <td>11050</td>\n",
       "      <td>광진구</td>\n",
       "      <td>서울특별시 광진구</td>\n",
       "    </tr>\n",
       "  </tbody>\n",
       "</table>\n",
       "</div>"
      ],
      "text/plain": [
       "      시도    시군구 name  full name\n",
       "0  11000  11010  종로구  서울특별시 종로구\n",
       "1  11000  11020   중구   서울특별시 중구\n",
       "2  11000  11030  용산구  서울특별시 용산구\n",
       "3  11000  11040  성동구  서울특별시 성동구\n",
       "4  11000  11050  광진구  서울특별시 광진구"
      ]
     },
     "execution_count": 156,
     "metadata": {},
     "output_type": "execute_result"
    }
   ],
   "source": [
    "start_time = time.time()\n",
    "filepath = 'G:\\\\내 드라이브\\\\DataSet\\\\_최종 병합 파일\\\\서울 생활이동\\\\'\n",
    "filename = '서울생활이동데이터_자치구코드_20210907'\n",
    "path = filepath + filename + '.csv'\n",
    "df_gu = pd.read_csv(path, low_memory=False)\n",
    "print(\"read_csv time :\", time.time() - start_time)\n",
    "df_gu.head()"
   ]
  },
  {
   "cell_type": "code",
   "execution_count": null,
   "id": "43e16e62-3662-424f-91f8-14df1e905acd",
   "metadata": {},
   "outputs": [],
   "source": []
  }
 ],
 "metadata": {
  "kernelspec": {
   "display_name": "Python 3 (ipykernel)",
   "language": "python",
   "name": "python3"
  },
  "language_info": {
   "codemirror_mode": {
    "name": "ipython",
    "version": 3
   },
   "file_extension": ".py",
   "mimetype": "text/x-python",
   "name": "python",
   "nbconvert_exporter": "python",
   "pygments_lexer": "ipython3",
   "version": "3.12.4"
  }
 },
 "nbformat": 4,
 "nbformat_minor": 5
}
