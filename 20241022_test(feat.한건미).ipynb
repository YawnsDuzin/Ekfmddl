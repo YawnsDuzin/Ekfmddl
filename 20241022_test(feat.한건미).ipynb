{
 "cells": [
  {
   "cell_type": "code",
   "execution_count": 4,
   "id": "98666c0e-adbb-454a-8258-9b4c1aa20929",
   "metadata": {},
   "outputs": [
    {
     "name": "stdout",
     "output_type": "stream",
     "text": [
      "read_parquet time : 9.577706575393677\n"
     ]
    }
   ],
   "source": [
    "import time\n",
    "import pandas as  pd\n",
    "\n",
    "start_time = time.time()\n",
    "filepath = 'G:\\\\내 드라이브\\\\DataSet\\\\_최종 병합 파일\\\\서울특별시 공공자전거 대여소별 이용정보(시간대별)\\\\'\n",
    "filename = '시간대별_2021'\n",
    "df_parquet = pd.read_parquet(filepath + filename + '.parquet')\n",
    "print(\"read_parquet time :\", time.time() - start_time)"
   ]
  },
  {
   "cell_type": "code",
   "execution_count": 6,
   "id": "f0f7c6d7-b342-460f-b4fd-00ecc29740b8",
   "metadata": {},
   "outputs": [
    {
     "data": {
      "text/html": [
       "<div>\n",
       "<style scoped>\n",
       "    .dataframe tbody tr th:only-of-type {\n",
       "        vertical-align: middle;\n",
       "    }\n",
       "\n",
       "    .dataframe tbody tr th {\n",
       "        vertical-align: top;\n",
       "    }\n",
       "\n",
       "    .dataframe thead th {\n",
       "        text-align: right;\n",
       "    }\n",
       "</style>\n",
       "<table border=\"1\" class=\"dataframe\">\n",
       "  <thead>\n",
       "    <tr style=\"text-align: right;\">\n",
       "      <th></th>\n",
       "      <th>대여일자</th>\n",
       "      <th>대여시간</th>\n",
       "      <th>대여소번호</th>\n",
       "      <th>대여소명</th>\n",
       "      <th>이용건수</th>\n",
       "      <th>이동거리(M)</th>\n",
       "      <th>이용시간(분)</th>\n",
       "    </tr>\n",
       "  </thead>\n",
       "  <tbody>\n",
       "    <tr>\n",
       "      <th>0</th>\n",
       "      <td>2021-01-01</td>\n",
       "      <td>0</td>\n",
       "      <td>1347</td>\n",
       "      <td>1347. 길음래미안아파트817동 상가 앞</td>\n",
       "      <td>2</td>\n",
       "      <td>992.78</td>\n",
       "      <td>13.0</td>\n",
       "    </tr>\n",
       "    <tr>\n",
       "      <th>1</th>\n",
       "      <td>2021-01-01</td>\n",
       "      <td>0</td>\n",
       "      <td>1349</td>\n",
       "      <td>1349. 월계2교 버스정류장 앞</td>\n",
       "      <td>1</td>\n",
       "      <td>1127.50</td>\n",
       "      <td>10.0</td>\n",
       "    </tr>\n",
       "    <tr>\n",
       "      <th>2</th>\n",
       "      <td>2021-01-01</td>\n",
       "      <td>0</td>\n",
       "      <td>1168</td>\n",
       "      <td>1168. 마곡엠밸리10단지 앞</td>\n",
       "      <td>1</td>\n",
       "      <td>0.00</td>\n",
       "      <td>7.0</td>\n",
       "    </tr>\n",
       "    <tr>\n",
       "      <th>3</th>\n",
       "      <td>2021-01-01</td>\n",
       "      <td>0</td>\n",
       "      <td>2619</td>\n",
       "      <td>2619. 석촌고분역 4번출구</td>\n",
       "      <td>1</td>\n",
       "      <td>1658.34</td>\n",
       "      <td>14.0</td>\n",
       "    </tr>\n",
       "    <tr>\n",
       "      <th>4</th>\n",
       "      <td>2021-01-01</td>\n",
       "      <td>0</td>\n",
       "      <td>536</td>\n",
       "      <td>536. 행당역 2번출구 앞</td>\n",
       "      <td>1</td>\n",
       "      <td>743.88</td>\n",
       "      <td>5.0</td>\n",
       "    </tr>\n",
       "  </tbody>\n",
       "</table>\n",
       "</div>"
      ],
      "text/plain": [
       "         대여일자  대여시간  대여소번호                     대여소명 이용건수  이동거리(M)  이용시간(분)\n",
       "0  2021-01-01     0   1347  1347. 길음래미안아파트817동 상가 앞    2   992.78     13.0\n",
       "1  2021-01-01     0   1349       1349. 월계2교 버스정류장 앞    1  1127.50     10.0\n",
       "2  2021-01-01     0   1168        1168. 마곡엠밸리10단지 앞    1     0.00      7.0\n",
       "3  2021-01-01     0   2619         2619. 석촌고분역 4번출구    1  1658.34     14.0\n",
       "4  2021-01-01     0    536          536. 행당역 2번출구 앞    1   743.88      5.0"
      ]
     },
     "execution_count": 6,
     "metadata": {},
     "output_type": "execute_result"
    }
   ],
   "source": [
    "df_parquet.head()"
   ]
  },
  {
   "cell_type": "code",
   "execution_count": 12,
   "id": "1c7b62f7-bd53-443d-b793-1ede9c028eed",
   "metadata": {},
   "outputs": [
    {
     "data": {
      "text/plain": [
       "대여일자       25421803\n",
       "대여시간       25421803\n",
       "대여소번호      25421803\n",
       "대여소명       25421803\n",
       "이용건수       25421803\n",
       "이동거리(M)    25421789\n",
       "이용시간(분)    25421727\n",
       "dtype: int64"
      ]
     },
     "execution_count": 12,
     "metadata": {},
     "output_type": "execute_result"
    }
   ],
   "source": [
    "df_parquet.count()"
   ]
  },
  {
   "cell_type": "code",
   "execution_count": 14,
   "id": "ee39e745-aa88-4bcf-8100-17ab2677e906",
   "metadata": {},
   "outputs": [
    {
     "data": {
      "text/plain": [
       "대여일자        0\n",
       "대여시간        0\n",
       "대여소번호       0\n",
       "대여소명        0\n",
       "이용건수        0\n",
       "이동거리(M)    14\n",
       "이용시간(분)    76\n",
       "dtype: int64"
      ]
     },
     "execution_count": 14,
     "metadata": {},
     "output_type": "execute_result"
    }
   ],
   "source": [
    "df_parquet.isnull().sum()"
   ]
  },
  {
   "cell_type": "code",
   "execution_count": 18,
   "id": "8ff67e18-6f58-41b9-bccb-c26f6e2537eb",
   "metadata": {},
   "outputs": [
    {
     "data": {
      "text/plain": [
       "대여일자       25421802\n",
       "대여시간       25421802\n",
       "대여소번호      25421802\n",
       "대여소명       25421802\n",
       "이용건수       25421802\n",
       "이동거리(M)    25421788\n",
       "이용시간(분)    25421726\n",
       "dtype: int64"
      ]
     },
     "execution_count": 18,
     "metadata": {},
     "output_type": "execute_result"
    }
   ],
   "source": [
    "df = df_parquet.drop(df_parquet.index[89690])\n",
    "df.count()"
   ]
  },
  {
   "cell_type": "code",
   "execution_count": 32,
   "id": "76ca75c6-0756-4993-9cfe-e91838e8a61b",
   "metadata": {},
   "outputs": [],
   "source": [
    "df2 = df_parquet.drop(df_parquet[df_parquet['이용건수'] == '\\\\N'].index, axis=0)"
   ]
  },
  {
   "cell_type": "code",
   "execution_count": 40,
   "id": "31868645-476d-4e17-a3f3-a0a6a4632cd3",
   "metadata": {},
   "outputs": [
    {
     "data": {
      "text/plain": [
       "25421802"
      ]
     },
     "execution_count": 40,
     "metadata": {},
     "output_type": "execute_result"
    }
   ],
   "source": [
    "df2.shape[0]"
   ]
  },
  {
   "cell_type": "code",
   "execution_count": null,
   "id": "7f360777-6334-4e44-bbd2-2c0b10c11abd",
   "metadata": {},
   "outputs": [],
   "source": []
  }
 ],
 "metadata": {
  "kernelspec": {
   "display_name": "Python 3 (ipykernel)",
   "language": "python",
   "name": "python3"
  },
  "language_info": {
   "codemirror_mode": {
    "name": "ipython",
    "version": 3
   },
   "file_extension": ".py",
   "mimetype": "text/x-python",
   "name": "python",
   "nbconvert_exporter": "python",
   "pygments_lexer": "ipython3",
   "version": "3.12.4"
  }
 },
 "nbformat": 4,
 "nbformat_minor": 5
}
