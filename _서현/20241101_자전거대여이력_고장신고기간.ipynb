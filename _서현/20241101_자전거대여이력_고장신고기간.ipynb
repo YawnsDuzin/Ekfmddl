{
 "cells": [
  {
   "cell_type": "code",
   "execution_count": 1,
   "id": "6ec93770-6d09-46a0-a64f-cb083985bc49",
   "metadata": {},
   "outputs": [],
   "source": [
    "# 라이브러리 임포트\n",
    "import os\n",
    "import pandas as pd\n",
    "import chardet\n",
    "\n",
    "# 사용자 정의함수 경로 설정\n",
    "import sys\n",
    "sys.path.append(\"G:/내 드라이브/Source/_Custom_Function\")\n",
    "# 사용자 정의함수 불러오기\n",
    "\n",
    "import time\n",
    "\n",
    "import ExcelFile_Merge as em\n",
    "import ExcelFile_Read as er\n",
    "import ExcelFile_EDA as ee"
   ]
  },
  {
   "cell_type": "markdown",
   "id": "630e80ae-0bfe-4bf8-bd80-d76aea9e13a7",
   "metadata": {},
   "source": [
    "## 기본 데이터 불러오기"
   ]
  },
  {
   "cell_type": "code",
   "execution_count": 4,
   "id": "6fc46176-1caa-4874-a7b7-db88faa4a3e1",
   "metadata": {},
   "outputs": [
    {
     "name": "stdout",
     "output_type": "stream",
     "text": [
      "read_csv time : 15.216501712799072\n"
     ]
    }
   ],
   "source": [
    "start_time = time.time()\n",
    "df_BikeRent = pd.read_parquet('G:\\\\내 드라이브\\\\DataSet\\\\_파킷 파일\\\\서울특별시 공공자전거 대여이력 정보\\\\서울특별시 공공자전거 대여이력 정보_2021_preprocessed.parquet')\n",
    "print(\"read_csv time :\", time.time() - start_time)"
   ]
  },
  {
   "cell_type": "code",
   "execution_count": 8,
   "id": "c1e95f2e-d37c-458f-9f68-58295d95b4cb",
   "metadata": {},
   "outputs": [
    {
     "data": {
      "text/html": [
       "<div>\n",
       "<style scoped>\n",
       "    .dataframe tbody tr th:only-of-type {\n",
       "        vertical-align: middle;\n",
       "    }\n",
       "\n",
       "    .dataframe tbody tr th {\n",
       "        vertical-align: top;\n",
       "    }\n",
       "\n",
       "    .dataframe thead th {\n",
       "        text-align: right;\n",
       "    }\n",
       "</style>\n",
       "<table border=\"1\" class=\"dataframe\">\n",
       "  <thead>\n",
       "    <tr style=\"text-align: right;\">\n",
       "      <th></th>\n",
       "      <th>자전거번호</th>\n",
       "      <th>대여대여소번호</th>\n",
       "      <th>대여대여소명</th>\n",
       "      <th>대여거치대</th>\n",
       "      <th>반납대여소번호</th>\n",
       "      <th>반납대여소명</th>\n",
       "      <th>반납거치대</th>\n",
       "      <th>이용시간(분)</th>\n",
       "      <th>이용거리(M)</th>\n",
       "      <th>대여일자</th>\n",
       "      <th>대여시간</th>\n",
       "      <th>반납일자</th>\n",
       "      <th>반납시간</th>\n",
       "      <th>대여시간차</th>\n",
       "      <th>이용시간-대여시간차</th>\n",
       "      <th>이용속도(km/h)</th>\n",
       "    </tr>\n",
       "  </thead>\n",
       "  <tbody>\n",
       "    <tr>\n",
       "      <th>2</th>\n",
       "      <td>SPB-50952</td>\n",
       "      <td>00003</td>\n",
       "      <td>중랑센터</td>\n",
       "      <td>0</td>\n",
       "      <td>00668</td>\n",
       "      <td>서울축산농협(장안지점)</td>\n",
       "      <td>0</td>\n",
       "      <td>11.0</td>\n",
       "      <td>1853.99</td>\n",
       "      <td>2021-01-13</td>\n",
       "      <td>21:02:05</td>\n",
       "      <td>2021-01-13</td>\n",
       "      <td>21:14:04</td>\n",
       "      <td>0 days 00:11:59</td>\n",
       "      <td>-0.983333</td>\n",
       "      <td>10.112673</td>\n",
       "    </tr>\n",
       "    <tr>\n",
       "      <th>4</th>\n",
       "      <td>SPB-52380</td>\n",
       "      <td>00003</td>\n",
       "      <td>중랑센터</td>\n",
       "      <td>0</td>\n",
       "      <td>00540</td>\n",
       "      <td>군자역 7번출구 베스트샵 앞</td>\n",
       "      <td>0</td>\n",
       "      <td>13.0</td>\n",
       "      <td>2291.05</td>\n",
       "      <td>2021-01-18</td>\n",
       "      <td>18:02:08</td>\n",
       "      <td>2021-01-18</td>\n",
       "      <td>18:15:22</td>\n",
       "      <td>0 days 00:13:14</td>\n",
       "      <td>-0.233333</td>\n",
       "      <td>10.574077</td>\n",
       "    </tr>\n",
       "    <tr>\n",
       "      <th>5</th>\n",
       "      <td>SPB-30541</td>\n",
       "      <td>00003</td>\n",
       "      <td>중랑센터</td>\n",
       "      <td>0</td>\n",
       "      <td>00594</td>\n",
       "      <td>중랑물재생센터(서울새활용플라자)</td>\n",
       "      <td>0</td>\n",
       "      <td>2.0</td>\n",
       "      <td>0.00</td>\n",
       "      <td>2021-01-19</td>\n",
       "      <td>18:03:00</td>\n",
       "      <td>2021-01-19</td>\n",
       "      <td>18:05:28</td>\n",
       "      <td>0 days 00:02:28</td>\n",
       "      <td>-0.466667</td>\n",
       "      <td>0.000000</td>\n",
       "    </tr>\n",
       "  </tbody>\n",
       "</table>\n",
       "</div>"
      ],
      "text/plain": [
       "       자전거번호 대여대여소번호 대여대여소명 대여거치대 반납대여소번호             반납대여소명  반납거치대  이용시간(분)  \\\n",
       "2  SPB-50952   00003   중랑센터     0   00668       서울축산농협(장안지점)      0     11.0   \n",
       "4  SPB-52380   00003   중랑센터     0   00540    군자역 7번출구 베스트샵 앞      0     13.0   \n",
       "5  SPB-30541   00003   중랑센터     0   00594  중랑물재생센터(서울새활용플라자)      0      2.0   \n",
       "\n",
       "   이용거리(M)        대여일자      대여시간        반납일자      반납시간           대여시간차  \\\n",
       "2  1853.99  2021-01-13  21:02:05  2021-01-13  21:14:04 0 days 00:11:59   \n",
       "4  2291.05  2021-01-18  18:02:08  2021-01-18  18:15:22 0 days 00:13:14   \n",
       "5     0.00  2021-01-19  18:03:00  2021-01-19  18:05:28 0 days 00:02:28   \n",
       "\n",
       "   이용시간-대여시간차  이용속도(km/h)  \n",
       "2   -0.983333   10.112673  \n",
       "4   -0.233333   10.574077  \n",
       "5   -0.466667    0.000000  "
      ]
     },
     "execution_count": 8,
     "metadata": {},
     "output_type": "execute_result"
    }
   ],
   "source": [
    "df_BikeRent.head(3)"
   ]
  },
  {
   "cell_type": "code",
   "execution_count": 16,
   "id": "c39811e8-6925-4b5e-859e-8a3985ade246",
   "metadata": {},
   "outputs": [
    {
     "data": {
      "text/plain": [
       "27493559"
      ]
     },
     "execution_count": 16,
     "metadata": {},
     "output_type": "execute_result"
    }
   ],
   "source": [
    "df_BikeRent.shape[0]"
   ]
  },
  {
   "cell_type": "code",
   "execution_count": 18,
   "id": "019e3266-45f7-4a18-a2b9-a09448021ae6",
   "metadata": {},
   "outputs": [
    {
     "name": "stdout",
     "output_type": "stream",
     "text": [
      "read_csv time : 0.3795597553253174\n"
     ]
    }
   ],
   "source": [
    "start_time = time.time()\n",
    "df_BikeBroken = pd.read_parquet('G:\\\\내 드라이브\\\\DataSet\\\\_최종 병합 파일\\\\서울시 공공자전거 고장신고 내역_15-24.06.parquet')\n",
    "print(\"read_csv time :\", time.time() - start_time)"
   ]
  },
  {
   "cell_type": "code",
   "execution_count": 20,
   "id": "cd87d24a-76aa-4c01-929c-7dc73ae01c4d",
   "metadata": {},
   "outputs": [
    {
     "data": {
      "text/html": [
       "<div>\n",
       "<style scoped>\n",
       "    .dataframe tbody tr th:only-of-type {\n",
       "        vertical-align: middle;\n",
       "    }\n",
       "\n",
       "    .dataframe tbody tr th {\n",
       "        vertical-align: top;\n",
       "    }\n",
       "\n",
       "    .dataframe thead th {\n",
       "        text-align: right;\n",
       "    }\n",
       "</style>\n",
       "<table border=\"1\" class=\"dataframe\">\n",
       "  <thead>\n",
       "    <tr style=\"text-align: right;\">\n",
       "      <th></th>\n",
       "      <th>자전거번호</th>\n",
       "      <th>고장구분</th>\n",
       "      <th>등록일자</th>\n",
       "      <th>등록시간</th>\n",
       "    </tr>\n",
       "  </thead>\n",
       "  <tbody>\n",
       "    <tr>\n",
       "      <th>0</th>\n",
       "      <td>SPB-00108</td>\n",
       "      <td>체인</td>\n",
       "      <td>2015-12-04</td>\n",
       "      <td>07:41:01</td>\n",
       "    </tr>\n",
       "    <tr>\n",
       "      <th>1</th>\n",
       "      <td>SPB-00210</td>\n",
       "      <td>체인</td>\n",
       "      <td>2015-12-07</td>\n",
       "      <td>12:23:33</td>\n",
       "    </tr>\n",
       "    <tr>\n",
       "      <th>2</th>\n",
       "      <td>SPB-00035</td>\n",
       "      <td>기타</td>\n",
       "      <td>2015-12-09</td>\n",
       "      <td>17:07:00</td>\n",
       "    </tr>\n",
       "  </tbody>\n",
       "</table>\n",
       "</div>"
      ],
      "text/plain": [
       "       자전거번호 고장구분        등록일자      등록시간\n",
       "0  SPB-00108   체인  2015-12-04  07:41:01\n",
       "1  SPB-00210   체인  2015-12-07  12:23:33\n",
       "2  SPB-00035  기타   2015-12-09  17:07:00"
      ]
     },
     "execution_count": 20,
     "metadata": {},
     "output_type": "execute_result"
    }
   ],
   "source": [
    "df_BikeBroken.head(3)"
   ]
  },
  {
   "cell_type": "code",
   "execution_count": 22,
   "id": "40ba7283-f103-4e2c-a8d4-db4e37086d8a",
   "metadata": {},
   "outputs": [
    {
     "data": {
      "text/plain": [
       "767715"
      ]
     },
     "execution_count": 22,
     "metadata": {},
     "output_type": "execute_result"
    }
   ],
   "source": [
    "df_BikeBroken.shape[0]"
   ]
  },
  {
   "cell_type": "markdown",
   "id": "7a10fe17-cce5-44ca-a73c-5d3dd8452dc0",
   "metadata": {},
   "source": [
    "---\n",
    "### df_BikeRent 의 데이터를 조건에 재조회"
   ]
  },
  {
   "cell_type": "code",
   "execution_count": 27,
   "id": "02b06b6c-d7eb-4ba1-9499-fb7675766bd7",
   "metadata": {},
   "outputs": [],
   "source": [
    "# 1. 조건에 따라 필터링: 대여시간차가 5분 미만, 대여 대여소 번호와 반납 대여소 번호가 동일한 데이터만 선택\n",
    "df_BikeRent_2 = df_BikeRent[(df_BikeRent['대여시간차'] < pd.Timedelta(minutes=5)) & (df_BikeRent['대여대여소번호'] == df_BikeRent['반납대여소번호'])].copy()\n",
    "\n",
    "# 대여일자를 날짜 형식으로 변환 (필요한 경우)\n",
    "df_BikeRent_2['대여일자'] = pd.to_datetime(df_BikeRent_2['대여일자'])"
   ]
  },
  {
   "cell_type": "code",
   "execution_count": 34,
   "id": "0e04b146-6449-427c-9c82-5d63f4a20c56",
   "metadata": {},
   "outputs": [
    {
     "data": {
      "text/plain": [
       "164740"
      ]
     },
     "execution_count": 34,
     "metadata": {},
     "output_type": "execute_result"
    }
   ],
   "source": [
    "df_BikeRent_2.shape[0]"
   ]
  },
  {
   "cell_type": "code",
   "execution_count": 36,
   "id": "5b00b073-6b99-402a-802b-0962936a6690",
   "metadata": {},
   "outputs": [
    {
     "data": {
      "text/html": [
       "<div>\n",
       "<style scoped>\n",
       "    .dataframe tbody tr th:only-of-type {\n",
       "        vertical-align: middle;\n",
       "    }\n",
       "\n",
       "    .dataframe tbody tr th {\n",
       "        vertical-align: top;\n",
       "    }\n",
       "\n",
       "    .dataframe thead th {\n",
       "        text-align: right;\n",
       "    }\n",
       "</style>\n",
       "<table border=\"1\" class=\"dataframe\">\n",
       "  <thead>\n",
       "    <tr style=\"text-align: right;\">\n",
       "      <th></th>\n",
       "      <th>자전거번호</th>\n",
       "      <th>대여대여소번호</th>\n",
       "      <th>대여대여소명</th>\n",
       "      <th>대여거치대</th>\n",
       "      <th>반납대여소번호</th>\n",
       "      <th>반납대여소명</th>\n",
       "      <th>반납거치대</th>\n",
       "      <th>이용시간(분)</th>\n",
       "      <th>이용거리(M)</th>\n",
       "      <th>대여일자</th>\n",
       "      <th>대여시간</th>\n",
       "      <th>반납일자</th>\n",
       "      <th>반납시간</th>\n",
       "      <th>대여시간차</th>\n",
       "      <th>이용시간-대여시간차</th>\n",
       "      <th>이용속도(km/h)</th>\n",
       "    </tr>\n",
       "  </thead>\n",
       "  <tbody>\n",
       "    <tr>\n",
       "      <th>22</th>\n",
       "      <td>SPB-53909</td>\n",
       "      <td>00010</td>\n",
       "      <td>위트콤</td>\n",
       "      <td>0</td>\n",
       "      <td>00010</td>\n",
       "      <td>위트콤</td>\n",
       "      <td>0</td>\n",
       "      <td>2.0</td>\n",
       "      <td>0.0</td>\n",
       "      <td>2021-01-05</td>\n",
       "      <td>10:58:33</td>\n",
       "      <td>2021-01-05</td>\n",
       "      <td>11:01:13</td>\n",
       "      <td>0 days 00:02:40</td>\n",
       "      <td>-0.666667</td>\n",
       "      <td>0.0</td>\n",
       "    </tr>\n",
       "    <tr>\n",
       "      <th>23</th>\n",
       "      <td>SPB-36252</td>\n",
       "      <td>00010</td>\n",
       "      <td>위트콤</td>\n",
       "      <td>0</td>\n",
       "      <td>00010</td>\n",
       "      <td>위트콤</td>\n",
       "      <td>0</td>\n",
       "      <td>2.0</td>\n",
       "      <td>0.0</td>\n",
       "      <td>2021-01-05</td>\n",
       "      <td>11:10:36</td>\n",
       "      <td>2021-01-05</td>\n",
       "      <td>11:13:16</td>\n",
       "      <td>0 days 00:02:40</td>\n",
       "      <td>-0.666667</td>\n",
       "      <td>0.0</td>\n",
       "    </tr>\n",
       "    <tr>\n",
       "      <th>24</th>\n",
       "      <td>SPB-47049</td>\n",
       "      <td>00010</td>\n",
       "      <td>위트콤</td>\n",
       "      <td>0</td>\n",
       "      <td>00010</td>\n",
       "      <td>위트콤</td>\n",
       "      <td>0</td>\n",
       "      <td>3.0</td>\n",
       "      <td>0.0</td>\n",
       "      <td>2021-01-05</td>\n",
       "      <td>13:46:33</td>\n",
       "      <td>2021-01-05</td>\n",
       "      <td>13:50:10</td>\n",
       "      <td>0 days 00:03:37</td>\n",
       "      <td>-0.616667</td>\n",
       "      <td>0.0</td>\n",
       "    </tr>\n",
       "  </tbody>\n",
       "</table>\n",
       "</div>"
      ],
      "text/plain": [
       "        자전거번호 대여대여소번호 대여대여소명 대여거치대 반납대여소번호 반납대여소명  반납거치대  이용시간(분)  이용거리(M)  \\\n",
       "22  SPB-53909   00010    위트콤     0   00010    위트콤      0      2.0      0.0   \n",
       "23  SPB-36252   00010    위트콤     0   00010    위트콤      0      2.0      0.0   \n",
       "24  SPB-47049   00010    위트콤     0   00010    위트콤      0      3.0      0.0   \n",
       "\n",
       "         대여일자      대여시간        반납일자      반납시간           대여시간차  이용시간-대여시간차  \\\n",
       "22 2021-01-05  10:58:33  2021-01-05  11:01:13 0 days 00:02:40   -0.666667   \n",
       "23 2021-01-05  11:10:36  2021-01-05  11:13:16 0 days 00:02:40   -0.666667   \n",
       "24 2021-01-05  13:46:33  2021-01-05  13:50:10 0 days 00:03:37   -0.616667   \n",
       "\n",
       "    이용속도(km/h)  \n",
       "22         0.0  \n",
       "23         0.0  \n",
       "24         0.0  "
      ]
     },
     "execution_count": 36,
     "metadata": {},
     "output_type": "execute_result"
    }
   ],
   "source": [
    "df_BikeRent_2.head(3)"
   ]
  },
  {
   "cell_type": "markdown",
   "id": "4bf91232-c0ec-4a1d-bc16-30a4c3bfa500",
   "metadata": {},
   "source": [
    "---\n",
    "### '자전거번호' 기준으로 각 데이터 사이별로 '대여일자'간의 차이를 계산하여 '대여사이기간' 컬럼 생성"
   ]
  },
  {
   "cell_type": "code",
   "execution_count": 40,
   "id": "8e9a9602-fb21-4bd6-9b42-9afeb09bef66",
   "metadata": {},
   "outputs": [],
   "source": [
    "# 2. 대여일자 간의 차이를 계산하여 대여사이기간 구하기\n",
    "all_intervals = []\n",
    "\n",
    "for bike_id, group in df_BikeRent_2.groupby('자전거번호'):\n",
    "    group = group.sort_values('대여일자').reset_index(drop=True) # 대여일자 기준으로 재정렬, 인덱스는 처음부터 재 설정\n",
    "    # 현재 행과 이전 행 간의 차이를 계산합니다. 이 경우, '대여일자' 열에 대해 연속된 날짜 간의 차이를 계산합니다.\n",
    "    group['대여사이기간'] = group['대여일자'].diff()\n",
    "    \n",
    "    # 대여사이기간 데이터만 저장\n",
    "    for i in range(1, len(group)):\n",
    "        start_date = group['대여일자'].iloc[i - 1] \n",
    "        end_date = group['대여일자'].iloc[i]\n",
    "        interval = group['대여사이기간'].iloc[i]\n",
    "        \n",
    "        all_intervals.append({\n",
    "            '자전거번호': bike_id,\n",
    "            '기간 시작일': start_date,\n",
    "            '기간 종료일': end_date,\n",
    "            '대여사이기간': interval\n",
    "        })\n",
    "\n",
    "# DataFrame으로 변환\n",
    "df_BikeRent_3 = pd.DataFrame(all_intervals)"
   ]
  },
  {
   "cell_type": "code",
   "execution_count": 42,
   "id": "92bdee94-3a67-45a7-99f5-92b2242388d4",
   "metadata": {},
   "outputs": [
    {
     "data": {
      "text/plain": [
       "137234"
      ]
     },
     "execution_count": 42,
     "metadata": {},
     "output_type": "execute_result"
    }
   ],
   "source": [
    "df_BikeRent_3.shape[0]"
   ]
  },
  {
   "cell_type": "code",
   "execution_count": 46,
   "id": "b059f0d6-3dd8-408b-bb41-c657e0b0557e",
   "metadata": {},
   "outputs": [
    {
     "data": {
      "text/html": [
       "<div>\n",
       "<style scoped>\n",
       "    .dataframe tbody tr th:only-of-type {\n",
       "        vertical-align: middle;\n",
       "    }\n",
       "\n",
       "    .dataframe tbody tr th {\n",
       "        vertical-align: top;\n",
       "    }\n",
       "\n",
       "    .dataframe thead th {\n",
       "        text-align: right;\n",
       "    }\n",
       "</style>\n",
       "<table border=\"1\" class=\"dataframe\">\n",
       "  <thead>\n",
       "    <tr style=\"text-align: right;\">\n",
       "      <th></th>\n",
       "      <th>자전거번호</th>\n",
       "      <th>기간 시작일</th>\n",
       "      <th>기간 종료일</th>\n",
       "      <th>대여사이기간</th>\n",
       "    </tr>\n",
       "  </thead>\n",
       "  <tbody>\n",
       "    <tr>\n",
       "      <th>0</th>\n",
       "      <td>SPB-01957</td>\n",
       "      <td>2021-02-19</td>\n",
       "      <td>2021-02-19</td>\n",
       "      <td>0 days</td>\n",
       "    </tr>\n",
       "    <tr>\n",
       "      <th>1</th>\n",
       "      <td>SPB-01957</td>\n",
       "      <td>2021-02-19</td>\n",
       "      <td>2021-02-19</td>\n",
       "      <td>0 days</td>\n",
       "    </tr>\n",
       "    <tr>\n",
       "      <th>2</th>\n",
       "      <td>SPB-01957</td>\n",
       "      <td>2021-02-19</td>\n",
       "      <td>2021-02-19</td>\n",
       "      <td>0 days</td>\n",
       "    </tr>\n",
       "  </tbody>\n",
       "</table>\n",
       "</div>"
      ],
      "text/plain": [
       "       자전거번호     기간 시작일     기간 종료일 대여사이기간\n",
       "0  SPB-01957 2021-02-19 2021-02-19 0 days\n",
       "1  SPB-01957 2021-02-19 2021-02-19 0 days\n",
       "2  SPB-01957 2021-02-19 2021-02-19 0 days"
      ]
     },
     "execution_count": 46,
     "metadata": {},
     "output_type": "execute_result"
    }
   ],
   "source": [
    "df_BikeRent_3.head(3)"
   ]
  },
  {
   "cell_type": "markdown",
   "id": "b609d3de-af09-4ccd-816a-df6b3b21ccfd",
   "metadata": {},
   "source": [
    "### 중복제거"
   ]
  },
  {
   "cell_type": "code",
   "execution_count": 48,
   "id": "f36d3aff-a4d4-4186-a519-2cb7e530f59a",
   "metadata": {},
   "outputs": [],
   "source": [
    "df_BikeRent_3 = df_BikeRent_3.drop_duplicates()"
   ]
  },
  {
   "cell_type": "code",
   "execution_count": 50,
   "id": "3ae9b5b8-f3c6-43d5-8ca6-cd0f074dbfd1",
   "metadata": {},
   "outputs": [
    {
     "data": {
      "text/plain": [
       "135973"
      ]
     },
     "execution_count": 50,
     "metadata": {},
     "output_type": "execute_result"
    }
   ],
   "source": [
    "df_BikeRent_3.shape[0]"
   ]
  },
  {
   "cell_type": "code",
   "execution_count": 52,
   "id": "5fd7ebae-aeaf-481f-bd1f-6ef73e437580",
   "metadata": {},
   "outputs": [
    {
     "data": {
      "text/html": [
       "<div>\n",
       "<style scoped>\n",
       "    .dataframe tbody tr th:only-of-type {\n",
       "        vertical-align: middle;\n",
       "    }\n",
       "\n",
       "    .dataframe tbody tr th {\n",
       "        vertical-align: top;\n",
       "    }\n",
       "\n",
       "    .dataframe thead th {\n",
       "        text-align: right;\n",
       "    }\n",
       "</style>\n",
       "<table border=\"1\" class=\"dataframe\">\n",
       "  <thead>\n",
       "    <tr style=\"text-align: right;\">\n",
       "      <th></th>\n",
       "      <th>자전거번호</th>\n",
       "      <th>기간 시작일</th>\n",
       "      <th>기간 종료일</th>\n",
       "      <th>대여사이기간</th>\n",
       "    </tr>\n",
       "  </thead>\n",
       "  <tbody>\n",
       "    <tr>\n",
       "      <th>0</th>\n",
       "      <td>SPB-01957</td>\n",
       "      <td>2021-02-19</td>\n",
       "      <td>2021-02-19</td>\n",
       "      <td>0 days</td>\n",
       "    </tr>\n",
       "    <tr>\n",
       "      <th>3</th>\n",
       "      <td>SPB-01957</td>\n",
       "      <td>2021-02-19</td>\n",
       "      <td>2021-02-26</td>\n",
       "      <td>7 days</td>\n",
       "    </tr>\n",
       "    <tr>\n",
       "      <th>4</th>\n",
       "      <td>SPB-01957</td>\n",
       "      <td>2021-02-26</td>\n",
       "      <td>2021-03-04</td>\n",
       "      <td>6 days</td>\n",
       "    </tr>\n",
       "    <tr>\n",
       "      <th>5</th>\n",
       "      <td>SPB-01957</td>\n",
       "      <td>2021-03-04</td>\n",
       "      <td>2021-03-15</td>\n",
       "      <td>11 days</td>\n",
       "    </tr>\n",
       "    <tr>\n",
       "      <th>6</th>\n",
       "      <td>SPB-01957</td>\n",
       "      <td>2021-03-15</td>\n",
       "      <td>2021-05-26</td>\n",
       "      <td>72 days</td>\n",
       "    </tr>\n",
       "  </tbody>\n",
       "</table>\n",
       "</div>"
      ],
      "text/plain": [
       "       자전거번호     기간 시작일     기간 종료일  대여사이기간\n",
       "0  SPB-01957 2021-02-19 2021-02-19  0 days\n",
       "3  SPB-01957 2021-02-19 2021-02-26  7 days\n",
       "4  SPB-01957 2021-02-26 2021-03-04  6 days\n",
       "5  SPB-01957 2021-03-04 2021-03-15 11 days\n",
       "6  SPB-01957 2021-03-15 2021-05-26 72 days"
      ]
     },
     "execution_count": 52,
     "metadata": {},
     "output_type": "execute_result"
    }
   ],
   "source": [
    "df_BikeRent_3.head()"
   ]
  },
  {
   "cell_type": "markdown",
   "id": "3de053f9-85aa-4106-805c-8e1e4d173307",
   "metadata": {},
   "source": [
    "---\n",
    "### 대여사이기간 - 이상치 제거"
   ]
  },
  {
   "cell_type": "code",
   "execution_count": 54,
   "id": "86d0f3c9-2570-4076-9c39-ae069b2c1afe",
   "metadata": {},
   "outputs": [],
   "source": [
    "df_BikeRent_4 = df_BikeRent_3"
   ]
  },
  {
   "cell_type": "code",
   "execution_count": 44,
   "id": "73e22f1a-1229-486b-a132-8796d152e511",
   "metadata": {},
   "outputs": [],
   "source": [
    "# 3. 대여사이기간 이상치 설정 및 필터링\n",
    "Q1 = intervals_df['대여사이기간'].quantile(0.25)\n",
    "Q3 = intervals_df['대여사이기간'].quantile(0.75)\n",
    "IQR = Q3 - Q1\n",
    "outlier_threshold = Q3 + 1.5 * IQR\n",
    "outlier_intervals_df = intervals_df[intervals_df['대여사이기간'] > outlier_threshold]\n",
    "\n",
    "# 이상치로 긴 대여 사이 기간을 가진 자전거 번호\n",
    "outlier_bike_ids = outlier_intervals_df['자전거번호'].unique()"
   ]
  },
  {
   "cell_type": "code",
   "execution_count": 56,
   "id": "6bf9cb7a-0673-45cf-b713-81147a72fcb5",
   "metadata": {},
   "outputs": [
    {
     "data": {
      "text/plain": [
       "Timedelta('109 days 12:00:00')"
      ]
     },
     "execution_count": 56,
     "metadata": {},
     "output_type": "execute_result"
    }
   ],
   "source": [
    "outlier_threshold"
   ]
  },
  {
   "cell_type": "code",
   "execution_count": 42,
   "id": "9379f86b-b92c-4b16-826b-5315af860278",
   "metadata": {},
   "outputs": [
    {
     "data": {
      "text/plain": [
       "135973"
      ]
     },
     "execution_count": 42,
     "metadata": {},
     "output_type": "execute_result"
    }
   ],
   "source": [
    "outlier_intervals_df.shape[0]"
   ]
  },
  {
   "cell_type": "code",
   "execution_count": 44,
   "id": "b00a9994-a0e4-4506-91e7-357b27b756aa",
   "metadata": {},
   "outputs": [
    {
     "data": {
      "text/html": [
       "<div>\n",
       "<style scoped>\n",
       "    .dataframe tbody tr th:only-of-type {\n",
       "        vertical-align: middle;\n",
       "    }\n",
       "\n",
       "    .dataframe tbody tr th {\n",
       "        vertical-align: top;\n",
       "    }\n",
       "\n",
       "    .dataframe thead th {\n",
       "        text-align: right;\n",
       "    }\n",
       "</style>\n",
       "<table border=\"1\" class=\"dataframe\">\n",
       "  <thead>\n",
       "    <tr style=\"text-align: right;\">\n",
       "      <th></th>\n",
       "      <th>자전거번호</th>\n",
       "      <th>기간 시작일</th>\n",
       "      <th>기간 종료일</th>\n",
       "      <th>대여사이기간</th>\n",
       "    </tr>\n",
       "  </thead>\n",
       "  <tbody>\n",
       "    <tr>\n",
       "      <th>0</th>\n",
       "      <td>SPB-01957</td>\n",
       "      <td>2021-02-19</td>\n",
       "      <td>2021-02-19</td>\n",
       "      <td>0 days</td>\n",
       "    </tr>\n",
       "    <tr>\n",
       "      <th>3</th>\n",
       "      <td>SPB-01957</td>\n",
       "      <td>2021-02-19</td>\n",
       "      <td>2021-02-26</td>\n",
       "      <td>7 days</td>\n",
       "    </tr>\n",
       "    <tr>\n",
       "      <th>4</th>\n",
       "      <td>SPB-01957</td>\n",
       "      <td>2021-02-26</td>\n",
       "      <td>2021-03-04</td>\n",
       "      <td>6 days</td>\n",
       "    </tr>\n",
       "    <tr>\n",
       "      <th>5</th>\n",
       "      <td>SPB-01957</td>\n",
       "      <td>2021-03-04</td>\n",
       "      <td>2021-03-15</td>\n",
       "      <td>11 days</td>\n",
       "    </tr>\n",
       "    <tr>\n",
       "      <th>6</th>\n",
       "      <td>SPB-01957</td>\n",
       "      <td>2021-03-15</td>\n",
       "      <td>2021-05-26</td>\n",
       "      <td>72 days</td>\n",
       "    </tr>\n",
       "  </tbody>\n",
       "</table>\n",
       "</div>"
      ],
      "text/plain": [
       "       자전거번호     기간 시작일     기간 종료일  대여사이기간\n",
       "0  SPB-01957 2021-02-19 2021-02-19  0 days\n",
       "3  SPB-01957 2021-02-19 2021-02-26  7 days\n",
       "4  SPB-01957 2021-02-26 2021-03-04  6 days\n",
       "5  SPB-01957 2021-03-04 2021-03-15 11 days\n",
       "6  SPB-01957 2021-03-15 2021-05-26 72 days"
      ]
     },
     "execution_count": 44,
     "metadata": {},
     "output_type": "execute_result"
    }
   ],
   "source": [
    "outlier_intervals_df.head()"
   ]
  },
  {
   "cell_type": "code",
   "execution_count": 54,
   "id": "557ea5ad-f317-4996-a630-42b5b55ad30a",
   "metadata": {},
   "outputs": [
    {
     "data": {
      "text/plain": [
       "6706"
      ]
     },
     "execution_count": 54,
     "metadata": {},
     "output_type": "execute_result"
    }
   ],
   "source": [
    "len(outlier_bike_ids)"
   ]
  },
  {
   "cell_type": "markdown",
   "id": "85367080-4941-4ef4-9406-f797ac7d70a7",
   "metadata": {},
   "source": [
    "---\n",
    "### 자전거 대역이력과 고장장신고 데이터를 비교"
   ]
  },
  {
   "cell_type": "code",
   "execution_count": 56,
   "id": "2fb7ecc3-6030-48ea-90d6-e5e1944d2687",
   "metadata": {},
   "outputs": [
    {
     "data": {
      "text/html": [
       "<div>\n",
       "<style scoped>\n",
       "    .dataframe tbody tr th:only-of-type {\n",
       "        vertical-align: middle;\n",
       "    }\n",
       "\n",
       "    .dataframe tbody tr th {\n",
       "        vertical-align: top;\n",
       "    }\n",
       "\n",
       "    .dataframe thead th {\n",
       "        text-align: right;\n",
       "    }\n",
       "</style>\n",
       "<table border=\"1\" class=\"dataframe\">\n",
       "  <thead>\n",
       "    <tr style=\"text-align: right;\">\n",
       "      <th></th>\n",
       "      <th>자전거번호</th>\n",
       "      <th>기간 시작일</th>\n",
       "      <th>기간 종료일</th>\n",
       "      <th>대여사이기간</th>\n",
       "    </tr>\n",
       "  </thead>\n",
       "  <tbody>\n",
       "    <tr>\n",
       "      <th>0</th>\n",
       "      <td>SPB-01957</td>\n",
       "      <td>2021-02-19</td>\n",
       "      <td>2021-02-19</td>\n",
       "      <td>0 days</td>\n",
       "    </tr>\n",
       "    <tr>\n",
       "      <th>3</th>\n",
       "      <td>SPB-01957</td>\n",
       "      <td>2021-02-19</td>\n",
       "      <td>2021-02-26</td>\n",
       "      <td>7 days</td>\n",
       "    </tr>\n",
       "  </tbody>\n",
       "</table>\n",
       "</div>"
      ],
      "text/plain": [
       "       자전거번호     기간 시작일     기간 종료일 대여사이기간\n",
       "0  SPB-01957 2021-02-19 2021-02-19 0 days\n",
       "3  SPB-01957 2021-02-19 2021-02-26 7 days"
      ]
     },
     "execution_count": 56,
     "metadata": {},
     "output_type": "execute_result"
    }
   ],
   "source": [
    "df_BikeRent_4.head(2)"
   ]
  },
  {
   "cell_type": "code",
   "execution_count": 58,
   "id": "fd9342bc-c87d-4d5d-8542-340c09c6a98a",
   "metadata": {},
   "outputs": [
    {
     "data": {
      "text/html": [
       "<div>\n",
       "<style scoped>\n",
       "    .dataframe tbody tr th:only-of-type {\n",
       "        vertical-align: middle;\n",
       "    }\n",
       "\n",
       "    .dataframe tbody tr th {\n",
       "        vertical-align: top;\n",
       "    }\n",
       "\n",
       "    .dataframe thead th {\n",
       "        text-align: right;\n",
       "    }\n",
       "</style>\n",
       "<table border=\"1\" class=\"dataframe\">\n",
       "  <thead>\n",
       "    <tr style=\"text-align: right;\">\n",
       "      <th></th>\n",
       "      <th>자전거번호</th>\n",
       "      <th>고장구분</th>\n",
       "      <th>등록일자</th>\n",
       "      <th>등록시간</th>\n",
       "    </tr>\n",
       "  </thead>\n",
       "  <tbody>\n",
       "    <tr>\n",
       "      <th>0</th>\n",
       "      <td>SPB-00108</td>\n",
       "      <td>체인</td>\n",
       "      <td>2015-12-04</td>\n",
       "      <td>07:41:01</td>\n",
       "    </tr>\n",
       "    <tr>\n",
       "      <th>1</th>\n",
       "      <td>SPB-00210</td>\n",
       "      <td>체인</td>\n",
       "      <td>2015-12-07</td>\n",
       "      <td>12:23:33</td>\n",
       "    </tr>\n",
       "  </tbody>\n",
       "</table>\n",
       "</div>"
      ],
      "text/plain": [
       "       자전거번호 고장구분        등록일자      등록시간\n",
       "0  SPB-00108   체인  2015-12-04  07:41:01\n",
       "1  SPB-00210   체인  2015-12-07  12:23:33"
      ]
     },
     "execution_count": 58,
     "metadata": {},
     "output_type": "execute_result"
    }
   ],
   "source": [
    "df_BikeBroken.head(2)"
   ]
  },
  {
   "cell_type": "code",
   "execution_count": 120,
   "id": "a03cd9e7-bdbe-4907-ae49-7a1e27d6afb2",
   "metadata": {},
   "outputs": [],
   "source": [
    "# 4. 상관성 확인: df1에서 해당 자전거 번호의 등록일자가 대여사이기간 내에 있는지 확인\n",
    "df_BikeBroken_2 = df_BikeBroken[df_BikeBroken['자전거번호'].isin(outlier_bike_ids)].copy()\n",
    "df_BikeBroken_2['등록일자'] = pd.to_datetime(df_BikeBroken_2['등록일자'])"
   ]
  },
  {
   "cell_type": "code",
   "execution_count": 122,
   "id": "7e5cdfde-4fb8-4ddd-88a1-14b085d8f2a5",
   "metadata": {},
   "outputs": [
    {
     "data": {
      "text/html": [
       "<div>\n",
       "<style scoped>\n",
       "    .dataframe tbody tr th:only-of-type {\n",
       "        vertical-align: middle;\n",
       "    }\n",
       "\n",
       "    .dataframe tbody tr th {\n",
       "        vertical-align: top;\n",
       "    }\n",
       "\n",
       "    .dataframe thead th {\n",
       "        text-align: right;\n",
       "    }\n",
       "</style>\n",
       "<table border=\"1\" class=\"dataframe\">\n",
       "  <thead>\n",
       "    <tr style=\"text-align: right;\">\n",
       "      <th></th>\n",
       "      <th>자전거번호</th>\n",
       "      <th>고장구분</th>\n",
       "      <th>등록일자</th>\n",
       "      <th>등록시간</th>\n",
       "    </tr>\n",
       "  </thead>\n",
       "  <tbody>\n",
       "    <tr>\n",
       "      <th>24873</th>\n",
       "      <td>SPB-17759</td>\n",
       "      <td>타이어</td>\n",
       "      <td>2018-09-17</td>\n",
       "      <td>00:23:30</td>\n",
       "    </tr>\n",
       "    <tr>\n",
       "      <th>39449</th>\n",
       "      <td>SPB-17759</td>\n",
       "      <td>체인</td>\n",
       "      <td>2019-03-04</td>\n",
       "      <td>00:19:56</td>\n",
       "    </tr>\n",
       "    <tr>\n",
       "      <th>39450</th>\n",
       "      <td>SPB-17759</td>\n",
       "      <td>기타</td>\n",
       "      <td>2019-03-04</td>\n",
       "      <td>00:19:56</td>\n",
       "    </tr>\n",
       "    <tr>\n",
       "      <th>45474</th>\n",
       "      <td>SPB-17759</td>\n",
       "      <td>체인</td>\n",
       "      <td>2019-04-24</td>\n",
       "      <td>18:26:36</td>\n",
       "    </tr>\n",
       "    <tr>\n",
       "      <th>75451</th>\n",
       "      <td>SPB-17759</td>\n",
       "      <td>단말기</td>\n",
       "      <td>2019-07-24</td>\n",
       "      <td>21:13:26</td>\n",
       "    </tr>\n",
       "  </tbody>\n",
       "</table>\n",
       "</div>"
      ],
      "text/plain": [
       "           자전거번호  고장구분       등록일자      등록시간\n",
       "24873  SPB-17759  타이어  2018-09-17  00:23:30\n",
       "39449  SPB-17759    체인 2019-03-04  00:19:56\n",
       "39450  SPB-17759   기타  2019-03-04  00:19:56\n",
       "45474  SPB-17759    체인 2019-04-24  18:26:36\n",
       "75451  SPB-17759   단말기 2019-07-24  21:13:26"
      ]
     },
     "execution_count": 122,
     "metadata": {},
     "output_type": "execute_result"
    }
   ],
   "source": [
    "df_BikeBroken_2.head()"
   ]
  },
  {
   "cell_type": "code",
   "execution_count": 62,
   "id": "3c2c4b27-41f9-4654-bed8-9fa541db37b3",
   "metadata": {},
   "outputs": [
    {
     "name": "stdout",
     "output_type": "stream",
     "text": [
      "자전거 대여이력 데이터 : 135973\n",
      "자전거 고장신고 데이터 : 767715\n"
     ]
    }
   ],
   "source": [
    "print(f'자전거 대여이력 데이터 : {df_BikeRent_4.shape[0]}')\n",
    "print(f'자전거 고장신고 데이터 : {df_BikeBroken.shape[0]}')"
   ]
  },
  {
   "cell_type": "code",
   "execution_count": 64,
   "id": "f1f97e50-9eb7-447a-842d-610389f9b83d",
   "metadata": {},
   "outputs": [
    {
     "data": {
      "text/html": [
       "<div>\n",
       "<style scoped>\n",
       "    .dataframe tbody tr th:only-of-type {\n",
       "        vertical-align: middle;\n",
       "    }\n",
       "\n",
       "    .dataframe tbody tr th {\n",
       "        vertical-align: top;\n",
       "    }\n",
       "\n",
       "    .dataframe thead th {\n",
       "        text-align: right;\n",
       "    }\n",
       "</style>\n",
       "<table border=\"1\" class=\"dataframe\">\n",
       "  <thead>\n",
       "    <tr style=\"text-align: right;\">\n",
       "      <th></th>\n",
       "      <th>자전거번호</th>\n",
       "      <th>기간 시작일</th>\n",
       "      <th>기간 종료일</th>\n",
       "      <th>대여사이기간</th>\n",
       "    </tr>\n",
       "  </thead>\n",
       "  <tbody>\n",
       "    <tr>\n",
       "      <th>0</th>\n",
       "      <td>SPB-01957</td>\n",
       "      <td>2021-02-19</td>\n",
       "      <td>2021-02-19</td>\n",
       "      <td>0 days</td>\n",
       "    </tr>\n",
       "    <tr>\n",
       "      <th>3</th>\n",
       "      <td>SPB-01957</td>\n",
       "      <td>2021-02-19</td>\n",
       "      <td>2021-02-26</td>\n",
       "      <td>7 days</td>\n",
       "    </tr>\n",
       "  </tbody>\n",
       "</table>\n",
       "</div>"
      ],
      "text/plain": [
       "       자전거번호     기간 시작일     기간 종료일 대여사이기간\n",
       "0  SPB-01957 2021-02-19 2021-02-19 0 days\n",
       "3  SPB-01957 2021-02-19 2021-02-26 7 days"
      ]
     },
     "execution_count": 64,
     "metadata": {},
     "output_type": "execute_result"
    }
   ],
   "source": [
    "df_BikeRent_4.head(2)"
   ]
  },
  {
   "cell_type": "code",
   "execution_count": 72,
   "id": "55fc7def-9ef2-46a4-8b87-91fc6825428c",
   "metadata": {},
   "outputs": [
    {
     "name": "stdout",
     "output_type": "stream",
     "text": [
      "2021-01-01 00:00:00\n",
      "2021-12-31 00:00:00\n"
     ]
    }
   ],
   "source": [
    "print(df_BikeRent_4['기간 시작일'].min())\n",
    "print(df_BikeRent_4['기간 시작일'].max())"
   ]
  },
  {
   "cell_type": "code",
   "execution_count": 74,
   "id": "eb5e837b-8638-4006-aa88-f0cad95159ae",
   "metadata": {},
   "outputs": [
    {
     "name": "stdout",
     "output_type": "stream",
     "text": [
      "2015-12-04\n",
      "2024-06-30\n"
     ]
    }
   ],
   "source": [
    "print(df_BikeBroken['등록일자'].min())\n",
    "print(df_BikeBroken['등록일자'].max())"
   ]
  },
  {
   "cell_type": "markdown",
   "id": "07f4ccb8-b925-4941-9db9-755fb5d9f9ef",
   "metadata": {},
   "source": [
    "---\n",
    "### 2021년 고장신고 데이터만 조회"
   ]
  },
  {
   "cell_type": "code",
   "execution_count": 84,
   "id": "d8713a61-264c-45d2-9968-3839c4d41d37",
   "metadata": {},
   "outputs": [],
   "source": [
    "df_BikeBroken = df_BikeBroken[df_BikeBroken['등록일자'].between('2021-01-01', '2021-12-31')]"
   ]
  },
  {
   "cell_type": "code",
   "execution_count": 86,
   "id": "634c1a6d-b5f2-4a5c-9d18-4e6a3470019d",
   "metadata": {},
   "outputs": [
    {
     "data": {
      "text/plain": [
       "150938"
      ]
     },
     "execution_count": 86,
     "metadata": {},
     "output_type": "execute_result"
    }
   ],
   "source": [
    "df_BikeBroken.shape[0]"
   ]
  },
  {
   "cell_type": "code",
   "execution_count": 88,
   "id": "6daffcce-1b4c-494d-9cfa-eafd42655a3e",
   "metadata": {},
   "outputs": [
    {
     "data": {
      "text/html": [
       "<div>\n",
       "<style scoped>\n",
       "    .dataframe tbody tr th:only-of-type {\n",
       "        vertical-align: middle;\n",
       "    }\n",
       "\n",
       "    .dataframe tbody tr th {\n",
       "        vertical-align: top;\n",
       "    }\n",
       "\n",
       "    .dataframe thead th {\n",
       "        text-align: right;\n",
       "    }\n",
       "</style>\n",
       "<table border=\"1\" class=\"dataframe\">\n",
       "  <thead>\n",
       "    <tr style=\"text-align: right;\">\n",
       "      <th></th>\n",
       "      <th>자전거번호</th>\n",
       "      <th>고장구분</th>\n",
       "      <th>등록일자</th>\n",
       "      <th>등록시간</th>\n",
       "    </tr>\n",
       "  </thead>\n",
       "  <tbody>\n",
       "    <tr>\n",
       "      <th>186932</th>\n",
       "      <td>SPB-41936</td>\n",
       "      <td>기타</td>\n",
       "      <td>2021-01-01</td>\n",
       "      <td>0:44</td>\n",
       "    </tr>\n",
       "    <tr>\n",
       "      <th>186933</th>\n",
       "      <td>SPB-42181</td>\n",
       "      <td>타이어</td>\n",
       "      <td>2021-01-01</td>\n",
       "      <td>2:42</td>\n",
       "    </tr>\n",
       "  </tbody>\n",
       "</table>\n",
       "</div>"
      ],
      "text/plain": [
       "            자전거번호  고장구분        등록일자  등록시간\n",
       "186932  SPB-41936   기타   2021-01-01  0:44\n",
       "186933  SPB-42181  타이어   2021-01-01  2:42"
      ]
     },
     "execution_count": 88,
     "metadata": {},
     "output_type": "execute_result"
    }
   ],
   "source": [
    "df_BikeBroken.head(2)"
   ]
  },
  {
   "cell_type": "code",
   "execution_count": 90,
   "id": "3e461739-7c3c-4b50-96ad-d3f4eb058d48",
   "metadata": {},
   "outputs": [
    {
     "ename": "TypeError",
     "evalue": "'<=' not supported between instances of 'Timestamp' and 'str'",
     "output_type": "error",
     "traceback": [
      "\u001b[1;31m---------------------------------------------------------------------------\u001b[0m",
      "\u001b[1;31mTypeError\u001b[0m                                 Traceback (most recent call last)",
      "Cell \u001b[1;32mIn[90], line 12\u001b[0m\n\u001b[0;32m      7\u001b[0m end_date \u001b[38;5;241m=\u001b[39m row[\u001b[38;5;124m'\u001b[39m\u001b[38;5;124m기간 종료일\u001b[39m\u001b[38;5;124m'\u001b[39m]\n\u001b[0;32m      9\u001b[0m \u001b[38;5;66;03m# \"자전거 대여이력\"의 등록일자 사이에, \"고장신고 내역\"이 있는 경우 체크\u001b[39;00m\n\u001b[0;32m     10\u001b[0m date_in_range \u001b[38;5;241m=\u001b[39m df_BikeBroken[\n\u001b[0;32m     11\u001b[0m     (df_BikeBroken[\u001b[38;5;124m'\u001b[39m\u001b[38;5;124m자전거번호\u001b[39m\u001b[38;5;124m'\u001b[39m] \u001b[38;5;241m==\u001b[39m bike_id) \u001b[38;5;241m&\u001b[39m\n\u001b[1;32m---> 12\u001b[0m     (\u001b[43mdf_BikeBroken\u001b[49m\u001b[43m[\u001b[49m\u001b[38;5;124;43m'\u001b[39;49m\u001b[38;5;124;43m등록일자\u001b[39;49m\u001b[38;5;124;43m'\u001b[39;49m\u001b[43m]\u001b[49m\u001b[43m \u001b[49m\u001b[38;5;241;43m>\u001b[39;49m\u001b[38;5;241;43m=\u001b[39;49m\u001b[43m \u001b[49m\u001b[43mstart_date\u001b[49m) \u001b[38;5;241m&\u001b[39m\n\u001b[0;32m     13\u001b[0m     (df_BikeBroken[\u001b[38;5;124m'\u001b[39m\u001b[38;5;124m등록일자\u001b[39m\u001b[38;5;124m'\u001b[39m] \u001b[38;5;241m<\u001b[39m\u001b[38;5;241m=\u001b[39m end_date)\n\u001b[0;32m     14\u001b[0m ]\n\u001b[0;32m     16\u001b[0m \u001b[38;5;28;01mif\u001b[39;00m \u001b[38;5;129;01mnot\u001b[39;00m date_in_range\u001b[38;5;241m.\u001b[39mempty:\n\u001b[0;32m     17\u001b[0m     correlated_bikes\u001b[38;5;241m.\u001b[39mappend({\n\u001b[0;32m     18\u001b[0m         \u001b[38;5;124m'\u001b[39m\u001b[38;5;124m자전거번호\u001b[39m\u001b[38;5;124m'\u001b[39m: bike_id,\n\u001b[0;32m     19\u001b[0m         \u001b[38;5;124m'\u001b[39m\u001b[38;5;124m최초_대여시작\u001b[39m\u001b[38;5;124m'\u001b[39m: start_date,\n\u001b[1;32m   (...)\u001b[0m\n\u001b[0;32m     25\u001b[0m         \u001b[38;5;124m'\u001b[39m\u001b[38;5;124m횟수_고장신고\u001b[39m\u001b[38;5;124m'\u001b[39m : \u001b[38;5;28mlen\u001b[39m(date_in_range)\n\u001b[0;32m     26\u001b[0m     })\n",
      "File \u001b[1;32m~\\anaconda3\\Lib\\site-packages\\pandas\\core\\ops\\common.py:76\u001b[0m, in \u001b[0;36m_unpack_zerodim_and_defer.<locals>.new_method\u001b[1;34m(self, other)\u001b[0m\n\u001b[0;32m     72\u001b[0m             \u001b[38;5;28;01mreturn\u001b[39;00m \u001b[38;5;28mNotImplemented\u001b[39m\n\u001b[0;32m     74\u001b[0m other \u001b[38;5;241m=\u001b[39m item_from_zerodim(other)\n\u001b[1;32m---> 76\u001b[0m \u001b[38;5;28;01mreturn\u001b[39;00m \u001b[43mmethod\u001b[49m\u001b[43m(\u001b[49m\u001b[38;5;28;43mself\u001b[39;49m\u001b[43m,\u001b[49m\u001b[43m \u001b[49m\u001b[43mother\u001b[49m\u001b[43m)\u001b[49m\n",
      "File \u001b[1;32m~\\anaconda3\\Lib\\site-packages\\pandas\\core\\arraylike.py:60\u001b[0m, in \u001b[0;36mOpsMixin.__ge__\u001b[1;34m(self, other)\u001b[0m\n\u001b[0;32m     58\u001b[0m \u001b[38;5;129m@unpack_zerodim_and_defer\u001b[39m(\u001b[38;5;124m\"\u001b[39m\u001b[38;5;124m__ge__\u001b[39m\u001b[38;5;124m\"\u001b[39m)\n\u001b[0;32m     59\u001b[0m \u001b[38;5;28;01mdef\u001b[39;00m \u001b[38;5;21m__ge__\u001b[39m(\u001b[38;5;28mself\u001b[39m, other):\n\u001b[1;32m---> 60\u001b[0m     \u001b[38;5;28;01mreturn\u001b[39;00m \u001b[38;5;28;43mself\u001b[39;49m\u001b[38;5;241;43m.\u001b[39;49m\u001b[43m_cmp_method\u001b[49m\u001b[43m(\u001b[49m\u001b[43mother\u001b[49m\u001b[43m,\u001b[49m\u001b[43m \u001b[49m\u001b[43moperator\u001b[49m\u001b[38;5;241;43m.\u001b[39;49m\u001b[43mge\u001b[49m\u001b[43m)\u001b[49m\n",
      "File \u001b[1;32m~\\anaconda3\\Lib\\site-packages\\pandas\\core\\series.py:6119\u001b[0m, in \u001b[0;36mSeries._cmp_method\u001b[1;34m(self, other, op)\u001b[0m\n\u001b[0;32m   6116\u001b[0m lvalues \u001b[38;5;241m=\u001b[39m \u001b[38;5;28mself\u001b[39m\u001b[38;5;241m.\u001b[39m_values\n\u001b[0;32m   6117\u001b[0m rvalues \u001b[38;5;241m=\u001b[39m extract_array(other, extract_numpy\u001b[38;5;241m=\u001b[39m\u001b[38;5;28;01mTrue\u001b[39;00m, extract_range\u001b[38;5;241m=\u001b[39m\u001b[38;5;28;01mTrue\u001b[39;00m)\n\u001b[1;32m-> 6119\u001b[0m res_values \u001b[38;5;241m=\u001b[39m \u001b[43mops\u001b[49m\u001b[38;5;241;43m.\u001b[39;49m\u001b[43mcomparison_op\u001b[49m\u001b[43m(\u001b[49m\u001b[43mlvalues\u001b[49m\u001b[43m,\u001b[49m\u001b[43m \u001b[49m\u001b[43mrvalues\u001b[49m\u001b[43m,\u001b[49m\u001b[43m \u001b[49m\u001b[43mop\u001b[49m\u001b[43m)\u001b[49m\n\u001b[0;32m   6121\u001b[0m \u001b[38;5;28;01mreturn\u001b[39;00m \u001b[38;5;28mself\u001b[39m\u001b[38;5;241m.\u001b[39m_construct_result(res_values, name\u001b[38;5;241m=\u001b[39mres_name)\n",
      "File \u001b[1;32m~\\anaconda3\\Lib\\site-packages\\pandas\\core\\ops\\array_ops.py:330\u001b[0m, in \u001b[0;36mcomparison_op\u001b[1;34m(left, right, op)\u001b[0m\n\u001b[0;32m    321\u001b[0m         \u001b[38;5;28;01mraise\u001b[39;00m \u001b[38;5;167;01mValueError\u001b[39;00m(\n\u001b[0;32m    322\u001b[0m             \u001b[38;5;124m\"\u001b[39m\u001b[38;5;124mLengths must match to compare\u001b[39m\u001b[38;5;124m\"\u001b[39m, lvalues\u001b[38;5;241m.\u001b[39mshape, rvalues\u001b[38;5;241m.\u001b[39mshape\n\u001b[0;32m    323\u001b[0m         )\n\u001b[0;32m    325\u001b[0m \u001b[38;5;28;01mif\u001b[39;00m should_extension_dispatch(lvalues, rvalues) \u001b[38;5;129;01mor\u001b[39;00m (\n\u001b[0;32m    326\u001b[0m     (\u001b[38;5;28misinstance\u001b[39m(rvalues, (Timedelta, BaseOffset, Timestamp)) \u001b[38;5;129;01mor\u001b[39;00m right \u001b[38;5;129;01mis\u001b[39;00m NaT)\n\u001b[0;32m    327\u001b[0m     \u001b[38;5;129;01mand\u001b[39;00m lvalues\u001b[38;5;241m.\u001b[39mdtype \u001b[38;5;241m!=\u001b[39m \u001b[38;5;28mobject\u001b[39m\n\u001b[0;32m    328\u001b[0m ):\n\u001b[0;32m    329\u001b[0m     \u001b[38;5;66;03m# Call the method on lvalues\u001b[39;00m\n\u001b[1;32m--> 330\u001b[0m     res_values \u001b[38;5;241m=\u001b[39m \u001b[43mop\u001b[49m\u001b[43m(\u001b[49m\u001b[43mlvalues\u001b[49m\u001b[43m,\u001b[49m\u001b[43m \u001b[49m\u001b[43mrvalues\u001b[49m\u001b[43m)\u001b[49m\n\u001b[0;32m    332\u001b[0m \u001b[38;5;28;01melif\u001b[39;00m is_scalar(rvalues) \u001b[38;5;129;01mand\u001b[39;00m isna(rvalues):  \u001b[38;5;66;03m# TODO: but not pd.NA?\u001b[39;00m\n\u001b[0;32m    333\u001b[0m     \u001b[38;5;66;03m# numpy does not like comparisons vs None\u001b[39;00m\n\u001b[0;32m    334\u001b[0m     \u001b[38;5;28;01mif\u001b[39;00m op \u001b[38;5;129;01mis\u001b[39;00m operator\u001b[38;5;241m.\u001b[39mne:\n",
      "File \u001b[1;32m~\\anaconda3\\Lib\\site-packages\\pandas\\core\\ops\\common.py:76\u001b[0m, in \u001b[0;36m_unpack_zerodim_and_defer.<locals>.new_method\u001b[1;34m(self, other)\u001b[0m\n\u001b[0;32m     72\u001b[0m             \u001b[38;5;28;01mreturn\u001b[39;00m \u001b[38;5;28mNotImplemented\u001b[39m\n\u001b[0;32m     74\u001b[0m other \u001b[38;5;241m=\u001b[39m item_from_zerodim(other)\n\u001b[1;32m---> 76\u001b[0m \u001b[38;5;28;01mreturn\u001b[39;00m \u001b[43mmethod\u001b[49m\u001b[43m(\u001b[49m\u001b[38;5;28;43mself\u001b[39;49m\u001b[43m,\u001b[49m\u001b[43m \u001b[49m\u001b[43mother\u001b[49m\u001b[43m)\u001b[49m\n",
      "File \u001b[1;32m~\\anaconda3\\Lib\\site-packages\\pandas\\core\\arraylike.py:60\u001b[0m, in \u001b[0;36mOpsMixin.__ge__\u001b[1;34m(self, other)\u001b[0m\n\u001b[0;32m     58\u001b[0m \u001b[38;5;129m@unpack_zerodim_and_defer\u001b[39m(\u001b[38;5;124m\"\u001b[39m\u001b[38;5;124m__ge__\u001b[39m\u001b[38;5;124m\"\u001b[39m)\n\u001b[0;32m     59\u001b[0m \u001b[38;5;28;01mdef\u001b[39;00m \u001b[38;5;21m__ge__\u001b[39m(\u001b[38;5;28mself\u001b[39m, other):\n\u001b[1;32m---> 60\u001b[0m     \u001b[38;5;28;01mreturn\u001b[39;00m \u001b[38;5;28;43mself\u001b[39;49m\u001b[38;5;241;43m.\u001b[39;49m\u001b[43m_cmp_method\u001b[49m\u001b[43m(\u001b[49m\u001b[43mother\u001b[49m\u001b[43m,\u001b[49m\u001b[43m \u001b[49m\u001b[43moperator\u001b[49m\u001b[38;5;241;43m.\u001b[39;49m\u001b[43mge\u001b[49m\u001b[43m)\u001b[49m\n",
      "File \u001b[1;32m~\\anaconda3\\Lib\\site-packages\\pandas\\core\\arrays\\string_.py:593\u001b[0m, in \u001b[0;36mStringArray._cmp_method\u001b[1;34m(self, other, op)\u001b[0m\n\u001b[0;32m    590\u001b[0m \u001b[38;5;28;01melse\u001b[39;00m:\n\u001b[0;32m    591\u001b[0m     \u001b[38;5;66;03m# logical\u001b[39;00m\n\u001b[0;32m    592\u001b[0m     result \u001b[38;5;241m=\u001b[39m np\u001b[38;5;241m.\u001b[39mzeros(\u001b[38;5;28mlen\u001b[39m(\u001b[38;5;28mself\u001b[39m\u001b[38;5;241m.\u001b[39m_ndarray), dtype\u001b[38;5;241m=\u001b[39m\u001b[38;5;124m\"\u001b[39m\u001b[38;5;124mbool\u001b[39m\u001b[38;5;124m\"\u001b[39m)\n\u001b[1;32m--> 593\u001b[0m     result[valid] \u001b[38;5;241m=\u001b[39m \u001b[43mop\u001b[49m\u001b[43m(\u001b[49m\u001b[38;5;28;43mself\u001b[39;49m\u001b[38;5;241;43m.\u001b[39;49m\u001b[43m_ndarray\u001b[49m\u001b[43m[\u001b[49m\u001b[43mvalid\u001b[49m\u001b[43m]\u001b[49m\u001b[43m,\u001b[49m\u001b[43m \u001b[49m\u001b[43mother\u001b[49m\u001b[43m)\u001b[49m\n\u001b[0;32m    594\u001b[0m     \u001b[38;5;28;01mreturn\u001b[39;00m BooleanArray(result, mask)\n",
      "File \u001b[1;32mtimestamps.pyx:359\u001b[0m, in \u001b[0;36mpandas._libs.tslibs.timestamps._Timestamp.__richcmp__\u001b[1;34m()\u001b[0m\n",
      "\u001b[1;31mTypeError\u001b[0m: '<=' not supported between instances of 'Timestamp' and 'str'"
     ]
    }
   ],
   "source": [
    "correlated_bikes = []\n",
    "\n",
    "# \"자전거 대여이력\" 데이터만큼 반복\n",
    "for _, row in df_BikeRent_4.iterrows():\n",
    "    bike_id = row['자전거번호']\n",
    "    start_date = row['기간 시작일']\n",
    "    end_date = row['기간 종료일']\n",
    "\n",
    "    # \"자전거 대여이력\"의 등록일자 사이에, \"고장신고 내역\"이 있는 경우 체크\n",
    "    date_in_range = df_BikeBroken[\n",
    "        (df_BikeBroken['자전거번호'] == bike_id) &\n",
    "        (df_BikeBroken['등록일자'] >= start_date) &\n",
    "        (df_BikeBroken['등록일자'] <= end_date)\n",
    "    ]\n",
    "    \n",
    "    if not date_in_range.empty:\n",
    "        correlated_bikes.append({\n",
    "            '자전거번호': bike_id,\n",
    "            '최초_대여시작': start_date,\n",
    "            '마지막_대여시작': end_date,\n",
    "            '대여사이기간': row['대여사이기간'],\n",
    "            '최초_고장신고': date_in_range.iloc[0]['등록일자'],\n",
    "            '마지막_고장신고': date_in_range.iloc[-1]['등록일자'],\n",
    "            '전체_고장신고': date_in_range['등록일자'].tolist(),\n",
    "            '횟수_고장신고' : len(date_in_range)\n",
    "        })\n",
    "\n",
    "# 결과를 데이터프레임으로 변환\n",
    "final_result_df = pd.DataFrame(correlated_bikes)"
   ]
  },
  {
   "cell_type": "code",
   "execution_count": 126,
   "id": "34e09b95-403f-4d21-a162-a37f44b86424",
   "metadata": {},
   "outputs": [
    {
     "name": "stdout",
     "output_type": "stream",
     "text": [
      "<class 'pandas.core.frame.DataFrame'>\n",
      "RangeIndex: 13942 entries, 0 to 13941\n",
      "Data columns (total 7 columns):\n",
      " #   Column    Non-Null Count  Dtype          \n",
      "---  ------    --------------  -----          \n",
      " 0   자전거번호     13942 non-null  object         \n",
      " 1   기간 시작일    13942 non-null  datetime64[ns] \n",
      " 2   기간 종료일    13942 non-null  datetime64[ns] \n",
      " 3   대여사이기간    13942 non-null  timedelta64[ns]\n",
      " 4   최조_등록일자   13942 non-null  datetime64[ns] \n",
      " 5   마지막_등록일자  13942 non-null  datetime64[ns] \n",
      " 6   등록일자      13942 non-null  object         \n",
      "dtypes: datetime64[ns](4), object(2), timedelta64[ns](1)\n",
      "memory usage: 762.6+ KB\n"
     ]
    }
   ],
   "source": [
    "final_result_df.info()"
   ]
  },
  {
   "cell_type": "code",
   "execution_count": 128,
   "id": "687a9e09-4f19-4610-93aa-d39b3346c10f",
   "metadata": {},
   "outputs": [
    {
     "data": {
      "text/html": [
       "<div>\n",
       "<style scoped>\n",
       "    .dataframe tbody tr th:only-of-type {\n",
       "        vertical-align: middle;\n",
       "    }\n",
       "\n",
       "    .dataframe tbody tr th {\n",
       "        vertical-align: top;\n",
       "    }\n",
       "\n",
       "    .dataframe thead th {\n",
       "        text-align: right;\n",
       "    }\n",
       "</style>\n",
       "<table border=\"1\" class=\"dataframe\">\n",
       "  <thead>\n",
       "    <tr style=\"text-align: right;\">\n",
       "      <th></th>\n",
       "      <th>자전거번호</th>\n",
       "      <th>기간 시작일</th>\n",
       "      <th>기간 종료일</th>\n",
       "      <th>대여사이기간</th>\n",
       "      <th>최조_등록일자</th>\n",
       "      <th>마지막_등록일자</th>\n",
       "      <th>등록일자</th>\n",
       "    </tr>\n",
       "  </thead>\n",
       "  <tbody>\n",
       "    <tr>\n",
       "      <th>0</th>\n",
       "      <td>SPB-30036</td>\n",
       "      <td>2021-01-13</td>\n",
       "      <td>2021-04-28</td>\n",
       "      <td>105 days</td>\n",
       "      <td>2021-04-04</td>\n",
       "      <td>2021-04-04</td>\n",
       "      <td>[2021-04-04 00:00:00]</td>\n",
       "    </tr>\n",
       "    <tr>\n",
       "      <th>1</th>\n",
       "      <td>SPB-30036</td>\n",
       "      <td>2021-05-22</td>\n",
       "      <td>2021-07-04</td>\n",
       "      <td>43 days</td>\n",
       "      <td>2021-05-24</td>\n",
       "      <td>2021-05-24</td>\n",
       "      <td>[2021-05-24 00:00:00]</td>\n",
       "    </tr>\n",
       "    <tr>\n",
       "      <th>2</th>\n",
       "      <td>SPB-30036</td>\n",
       "      <td>2021-07-04</td>\n",
       "      <td>2021-12-16</td>\n",
       "      <td>165 days</td>\n",
       "      <td>2021-09-17</td>\n",
       "      <td>2021-12-02</td>\n",
       "      <td>[2021-09-17 00:00:00, 2021-12-02 00:00:00, 202...</td>\n",
       "    </tr>\n",
       "    <tr>\n",
       "      <th>3</th>\n",
       "      <td>SPB-30044</td>\n",
       "      <td>2021-02-27</td>\n",
       "      <td>2021-03-07</td>\n",
       "      <td>8 days</td>\n",
       "      <td>2021-02-28</td>\n",
       "      <td>2021-03-07</td>\n",
       "      <td>[2021-02-28 00:00:00, 2021-03-07 00:00:00]</td>\n",
       "    </tr>\n",
       "    <tr>\n",
       "      <th>4</th>\n",
       "      <td>SPB-30044</td>\n",
       "      <td>2021-03-07</td>\n",
       "      <td>2021-03-07</td>\n",
       "      <td>0 days</td>\n",
       "      <td>2021-03-07</td>\n",
       "      <td>2021-03-07</td>\n",
       "      <td>[2021-03-07 00:00:00]</td>\n",
       "    </tr>\n",
       "  </tbody>\n",
       "</table>\n",
       "</div>"
      ],
      "text/plain": [
       "       자전거번호     기간 시작일     기간 종료일   대여사이기간    최조_등록일자   마지막_등록일자  \\\n",
       "0  SPB-30036 2021-01-13 2021-04-28 105 days 2021-04-04 2021-04-04   \n",
       "1  SPB-30036 2021-05-22 2021-07-04  43 days 2021-05-24 2021-05-24   \n",
       "2  SPB-30036 2021-07-04 2021-12-16 165 days 2021-09-17 2021-12-02   \n",
       "3  SPB-30044 2021-02-27 2021-03-07   8 days 2021-02-28 2021-03-07   \n",
       "4  SPB-30044 2021-03-07 2021-03-07   0 days 2021-03-07 2021-03-07   \n",
       "\n",
       "                                                등록일자  \n",
       "0                              [2021-04-04 00:00:00]  \n",
       "1                              [2021-05-24 00:00:00]  \n",
       "2  [2021-09-17 00:00:00, 2021-12-02 00:00:00, 202...  \n",
       "3         [2021-02-28 00:00:00, 2021-03-07 00:00:00]  \n",
       "4                              [2021-03-07 00:00:00]  "
      ]
     },
     "execution_count": 128,
     "metadata": {},
     "output_type": "execute_result"
    }
   ],
   "source": [
    "final_result_df"
   ]
  },
  {
   "cell_type": "code",
   "execution_count": 130,
   "id": "3ce35ec3-db03-4451-979f-49c9d7c18665",
   "metadata": {},
   "outputs": [],
   "source": [
    "final_result_df['고장사이기간'] = final_result_df['마지막_등록일자'] - final_result_df['최조_등록일자']"
   ]
  },
  {
   "cell_type": "code",
   "execution_count": 152,
   "id": "bd4ea856-5c14-4a11-b98d-8817abb3bf0a",
   "metadata": {},
   "outputs": [],
   "source": [
    "final_result_df['고장신고_대기'] = final_result_df['최조_등록일자'] - final_result_df['기간 시작일']"
   ]
  },
  {
   "cell_type": "code",
   "execution_count": 160,
   "id": "a2d62559-3e58-422c-a2c9-eb7effc422e6",
   "metadata": {},
   "outputs": [],
   "source": [
    "final_result_df.columns = ['자전거번호', '최초_대여시작', '마지막_대여시작', '대여사이기간', '최초_고장신고', '마지막_고장신고', '비교_고장신고', '전체_고장신고', '등록일자']"
   ]
  },
  {
   "cell_type": "code",
   "execution_count": 168,
   "id": "e3c13fd1-a398-46ce-ac38-ada43be7c676",
   "metadata": {},
   "outputs": [
    {
     "data": {
      "text/html": [
       "<div>\n",
       "<style scoped>\n",
       "    .dataframe tbody tr th:only-of-type {\n",
       "        vertical-align: middle;\n",
       "    }\n",
       "\n",
       "    .dataframe tbody tr th {\n",
       "        vertical-align: top;\n",
       "    }\n",
       "\n",
       "    .dataframe thead th {\n",
       "        text-align: right;\n",
       "    }\n",
       "</style>\n",
       "<table border=\"1\" class=\"dataframe\">\n",
       "  <thead>\n",
       "    <tr style=\"text-align: right;\">\n",
       "      <th></th>\n",
       "      <th>자전거번호</th>\n",
       "      <th>최초_대여시작</th>\n",
       "      <th>마지막_대여시작</th>\n",
       "      <th>대여사이기간</th>\n",
       "      <th>최초_고장신고</th>\n",
       "      <th>마지막_고장신고</th>\n",
       "      <th>비교_고장신고</th>\n",
       "      <th>전체_고장신고</th>\n",
       "      <th>등록일자</th>\n",
       "    </tr>\n",
       "  </thead>\n",
       "  <tbody>\n",
       "    <tr>\n",
       "      <th>0</th>\n",
       "      <td>SPB-30036</td>\n",
       "      <td>2021-01-13</td>\n",
       "      <td>2021-04-28</td>\n",
       "      <td>105 days</td>\n",
       "      <td>2021-04-04</td>\n",
       "      <td>2021-04-04</td>\n",
       "      <td>[2021-04-04 00:00:00]</td>\n",
       "      <td>0 days</td>\n",
       "      <td>81 days</td>\n",
       "    </tr>\n",
       "    <tr>\n",
       "      <th>1</th>\n",
       "      <td>SPB-30036</td>\n",
       "      <td>2021-05-22</td>\n",
       "      <td>2021-07-04</td>\n",
       "      <td>43 days</td>\n",
       "      <td>2021-05-24</td>\n",
       "      <td>2021-05-24</td>\n",
       "      <td>[2021-05-24 00:00:00]</td>\n",
       "      <td>0 days</td>\n",
       "      <td>2 days</td>\n",
       "    </tr>\n",
       "    <tr>\n",
       "      <th>2</th>\n",
       "      <td>SPB-30036</td>\n",
       "      <td>2021-07-04</td>\n",
       "      <td>2021-12-16</td>\n",
       "      <td>165 days</td>\n",
       "      <td>2021-09-17</td>\n",
       "      <td>2021-12-02</td>\n",
       "      <td>[2021-09-17 00:00:00, 2021-12-02 00:00:00, 202...</td>\n",
       "      <td>76 days</td>\n",
       "      <td>75 days</td>\n",
       "    </tr>\n",
       "    <tr>\n",
       "      <th>3</th>\n",
       "      <td>SPB-30044</td>\n",
       "      <td>2021-02-27</td>\n",
       "      <td>2021-03-07</td>\n",
       "      <td>8 days</td>\n",
       "      <td>2021-02-28</td>\n",
       "      <td>2021-03-07</td>\n",
       "      <td>[2021-02-28 00:00:00, 2021-03-07 00:00:00]</td>\n",
       "      <td>7 days</td>\n",
       "      <td>1 days</td>\n",
       "    </tr>\n",
       "    <tr>\n",
       "      <th>4</th>\n",
       "      <td>SPB-30044</td>\n",
       "      <td>2021-03-07</td>\n",
       "      <td>2021-03-07</td>\n",
       "      <td>0 days</td>\n",
       "      <td>2021-03-07</td>\n",
       "      <td>2021-03-07</td>\n",
       "      <td>[2021-03-07 00:00:00]</td>\n",
       "      <td>0 days</td>\n",
       "      <td>0 days</td>\n",
       "    </tr>\n",
       "  </tbody>\n",
       "</table>\n",
       "</div>"
      ],
      "text/plain": [
       "       자전거번호    최초_대여시작   마지막_대여시작   대여사이기간    최초_고장신고   마지막_고장신고  \\\n",
       "0  SPB-30036 2021-01-13 2021-04-28 105 days 2021-04-04 2021-04-04   \n",
       "1  SPB-30036 2021-05-22 2021-07-04  43 days 2021-05-24 2021-05-24   \n",
       "2  SPB-30036 2021-07-04 2021-12-16 165 days 2021-09-17 2021-12-02   \n",
       "3  SPB-30044 2021-02-27 2021-03-07   8 days 2021-02-28 2021-03-07   \n",
       "4  SPB-30044 2021-03-07 2021-03-07   0 days 2021-03-07 2021-03-07   \n",
       "\n",
       "                                             비교_고장신고 전체_고장신고    등록일자  \n",
       "0                              [2021-04-04 00:00:00]  0 days 81 days  \n",
       "1                              [2021-05-24 00:00:00]  0 days  2 days  \n",
       "2  [2021-09-17 00:00:00, 2021-12-02 00:00:00, 202... 76 days 75 days  \n",
       "3         [2021-02-28 00:00:00, 2021-03-07 00:00:00]  7 days  1 days  \n",
       "4                              [2021-03-07 00:00:00]  0 days  0 days  "
      ]
     },
     "metadata": {},
     "output_type": "display_data"
    }
   ],
   "source": [
    "# 결과 출력\n",
    "_columns = ['자전거번호', '최초_대여시작', '마지막_대여시작', '대여사이기간', '최초_고장신고', '마지막_고장신고', '비교_고장신고', '전체_고장신고', '등록일자']\n",
    "display(final_result_df[_columns].head(5))"
   ]
  },
  {
   "cell_type": "markdown",
   "id": "a3b251b6-697a-4bbd-8268-17f8929dbb68",
   "metadata": {},
   "source": [
    "## 대여일자 와 고장신고일자 와의 관계"
   ]
  },
  {
   "cell_type": "markdown",
   "id": "2dc7f7c4-1240-411e-97a6-b65ce17d31f1",
   "metadata": {},
   "source": [
    "### 대여사이기간"
   ]
  },
  {
   "cell_type": "markdown",
   "id": "ba80a89b-301a-47be-ad54-3b6d5f9ced42",
   "metadata": {},
   "source": [
    "### 대여사이기간"
   ]
  },
  {
   "cell_type": "code",
   "execution_count": null,
   "id": "ffc244fc-e593-4770-8dd5-1dc89328409b",
   "metadata": {},
   "outputs": [],
   "source": []
  },
  {
   "cell_type": "code",
   "execution_count": 158,
   "id": "c8a72203-7570-4a4e-9e51-b98f7927016d",
   "metadata": {},
   "outputs": [
    {
     "name": "stdout",
     "output_type": "stream",
     "text": [
      "0 days 00:00:00\n",
      "27 days 13:50:49.490747382\n",
      "269 days 00:00:00\n"
     ]
    }
   ],
   "source": [
    "print(final_result_df['고장신고_대기'].min())\n",
    "print(final_result_df['고장신고_대기'].mean())\n",
    "print(final_result_df['고장신고_대기'].max())"
   ]
  },
  {
   "cell_type": "code",
   "execution_count": 140,
   "id": "343a447f-1613-428c-ad23-e4d96621b099",
   "metadata": {},
   "outputs": [
    {
     "name": "stdout",
     "output_type": "stream",
     "text": [
      "<class 'pandas.core.frame.DataFrame'>\n",
      "RangeIndex: 13942 entries, 0 to 13941\n",
      "Data columns (total 8 columns):\n",
      " #   Column    Non-Null Count  Dtype          \n",
      "---  ------    --------------  -----          \n",
      " 0   자전거번호     13942 non-null  object         \n",
      " 1   기간 시작일    13942 non-null  datetime64[ns] \n",
      " 2   기간 종료일    13942 non-null  datetime64[ns] \n",
      " 3   대여사이기간    13942 non-null  timedelta64[ns]\n",
      " 4   최조_등록일자   13942 non-null  datetime64[ns] \n",
      " 5   마지막_등록일자  13942 non-null  datetime64[ns] \n",
      " 6   등록일자      13942 non-null  object         \n",
      " 7   비교_등록일자   13942 non-null  timedelta64[ns]\n",
      "dtypes: datetime64[ns](4), object(2), timedelta64[ns](2)\n",
      "memory usage: 871.5+ KB\n"
     ]
    }
   ],
   "source": [
    "final_result_df.info()"
   ]
  },
  {
   "cell_type": "code",
   "execution_count": 134,
   "id": "00bff48c-3a9b-4d0a-8a5e-19f6614ba778",
   "metadata": {},
   "outputs": [
    {
     "data": {
      "text/plain": [
       "13942"
      ]
     },
     "execution_count": 134,
     "metadata": {},
     "output_type": "execute_result"
    }
   ],
   "source": [
    "final_result_df.shape[0]"
   ]
  },
  {
   "cell_type": "code",
   "execution_count": null,
   "id": "1e45e3c0-e0f8-43f8-8a00-059c50b6aeb1",
   "metadata": {},
   "outputs": [],
   "source": []
  }
 ],
 "metadata": {
  "kernelspec": {
   "display_name": "Python 3 (ipykernel)",
   "language": "python",
   "name": "python3"
  },
  "language_info": {
   "codemirror_mode": {
    "name": "ipython",
    "version": 3
   },
   "file_extension": ".py",
   "mimetype": "text/x-python",
   "name": "python",
   "nbconvert_exporter": "python",
   "pygments_lexer": "ipython3",
   "version": "3.12.4"
  }
 },
 "nbformat": 4,
 "nbformat_minor": 5
}
